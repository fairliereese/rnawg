{
 "cells": [
  {
   "cell_type": "code",
   "execution_count": 1,
   "id": "12d25aa4-29d1-4eaf-a960-fb14548a8794",
   "metadata": {},
   "outputs": [],
   "source": [
    "import pandas as pd\n",
    "import pdb"
   ]
  },
  {
   "cell_type": "code",
   "execution_count": 15,
   "id": "d60435b6-8601-4bf5-b626-62b3c984cfdf",
   "metadata": {},
   "outputs": [],
   "source": [
    "def convert_encode_desc(df, col):\n",
    "    \"\"\"\n",
    "    Convert encode desc. of a sample into something more parseable\n",
    "    \"\"\"\n",
    "    df[col] = df[col].str.lower()\n",
    "    df[col] = df[col].str.replace(', ', '_')\n",
    "    df[col] = df[col].str.replace(' ', '_')\n",
    "    df[col] = df[col].str.replace('-', '_')\n",
    "    \n",
    "    return df"
   ]
  },
  {
   "cell_type": "code",
   "execution_count": 31,
   "id": "07603801-f526-4f17-9ca9-b4a55e8c492c",
   "metadata": {},
   "outputs": [],
   "source": [
    "def convert_biosample_treatments(df, col):\n",
    "# turn biosample treatments into tuples\n",
    "    df.loc[df[col].isnull(), col] = ''\n",
    "    df[col] = df.apply(lambda x: tuple(sorted(x[col].replace(' ', '').split(','))), axis=1)\n",
    "    return df"
   ]
  },
  {
   "cell_type": "code",
   "execution_count": 32,
   "id": "e1942e7b-786b-4d56-9f04-be0434e344dd",
   "metadata": {},
   "outputs": [],
   "source": [
    "df = pd.read_csv(\"metadata.tsv\", sep='\\t')\n",
    "\n",
    "df.index = df['File accession']\n",
    "df = df.loc[df['Genome annotation'] == 'V29']\n",
    "df = df[['File accession', 'Experiment accession', \\\n",
    "         'Biosample term name', 'Biosample type', \\\n",
    "         'Technical replicate(s)', 'Biological replicate(s)',\n",
    "         'Biosample treatments', 'Biosample treatments duration']]\n",
    "df['classification'] = 'cell_line'\n",
    "df.loc[df['Biosample type']=='tissue', 'classification'] = 'tissue'\n",
    "df = convert_encode_desc(df, 'Biosample term name')\n",
    "\n",
    "\n"
   ]
  },
  {
   "cell_type": "code",
   "execution_count": 33,
   "id": "2d2d4709-e2f5-4ec5-bdfc-9b27e876d15c",
   "metadata": {},
   "outputs": [],
   "source": [
    "\n",
    "# df.head()\n",
    "# df.loc[df['Biosample term name'] == 'h1'] # 1/23/23 all are h1 (not dif. by manual search)\n",
    "# df.loc[df['Biosample term name'] == 'h9'] # 1/23/23 all are h1 (not dif. by manual search)"
   ]
  },
  {
   "cell_type": "code",
   "execution_count": 34,
   "id": "dc18b83f-e130-4c17-a40a-b44111a11422",
   "metadata": {},
   "outputs": [
    {
     "name": "stdout",
     "output_type": "stream",
     "text": [
      "16\n",
      "16\n"
     ]
    }
   ],
   "source": [
    "# convert hyphenated cell line names\n",
    "term_map = pd.read_csv('../lr_bulk/biosamp_term_name_map.tsv', sep='\\t',\n",
    "                       header=None, names=['eid', 'old_name', \\\n",
    "                                           'Biosample treatments', \\\n",
    "                                           'Biosample treatments duration', 'new_name'])\n",
    "term_map = convert_encode_desc(term_map, 'old_name')\n",
    "term_map = convert_encode_desc(term_map, 'new_name')\n",
    "term_map.drop_duplicates(inplace=True)\n",
    "\n",
    "# git rid of this at some point\n",
    "df = df.loc[df['Biosample term name'] == 'hl_60']\n",
    "term_map = term_map.loc[term_map.old_name == 'hl_60']\n",
    "# turn biosample treatments into tuples\n",
    "df = convert_biosample_treatments(df, 'Biosample treatments')\n",
    "term_map = convert_biosample_treatments(term_map, 'Biosample treatments')\n",
    "\n",
    "\n",
    "# df['Biosample treatments'].str.split(',').astype(tuple).sort_values()\n",
    "\n",
    "\n",
    "n1 = len(df.index)\n",
    "print(n1)\n",
    "df_merge_cols = ['Biosample term name', 'Biosample treatments', 'Biosample treatments duration']\n",
    "term_map_merge_cols = ['old_name', 'Biosample treatments', 'Biosample treatments duration']\n",
    "\n",
    "# merge didn't work \n",
    "df = df.merge(term_map, how='left', left_on=df_merge_cols, right_on=term_map_merge_cols)\n",
    "n2 = len(df.index)\n",
    "print(n2)\n",
    "# if n1 != n2:\n",
    "#     print('Duplicated thingies, check for DE samples')\n",
    "# df.rename({'Biosample term name': 'sample'}, axis=1, inplace=True)\n",
    "# df.loc[~df.new_name.isnull(), 'sample'] = df.loc[~df.new_name.isnull(), 'new_name']\n"
   ]
  },
  {
   "cell_type": "code",
   "execution_count": 35,
   "id": "345b7f6d-9866-4acc-ac1f-ebad81b97b7b",
   "metadata": {},
   "outputs": [],
   "source": [
    "# have to deal with hl60s"
   ]
  },
  {
   "cell_type": "code",
   "execution_count": 36,
   "id": "166419b6-b429-4e6f-b110-e3d551f7cad8",
   "metadata": {},
   "outputs": [
    {
     "data": {
      "text/plain": [
       "array([('interferongamma', 'lipopolysaccharide', 'phorbol13-acetate12-myristate'),\n",
       "       ('interleukin-13', 'interleukin-4', 'phorbol13-acetate12-myristate'),\n",
       "       ('interferongamma', 'lipopolysaccharide', 'phorbol13-acetate12-myristate'),\n",
       "       ('',), ('phorbol13-acetate12-myristate',),\n",
       "       ('interferongamma', 'lipopolysaccharide', 'phorbol13-acetate12-myristate'),\n",
       "       ('interleukin-13', 'interleukin-4', 'phorbol13-acetate12-myristate'),\n",
       "       ('interleukin-13', 'interleukin-4', 'phorbol13-acetate12-myristate')],\n",
       "      dtype=object)"
      ]
     },
     "execution_count": 36,
     "metadata": {},
     "output_type": "execute_result"
    }
   ],
   "source": [
    "term_map['Biosample treatments'].values"
   ]
  },
  {
   "cell_type": "code",
   "execution_count": 37,
   "id": "94b71a4d-1ec1-48e3-ad1b-d5987938b59f",
   "metadata": {},
   "outputs": [
    {
     "data": {
      "text/plain": [
       "array([('interferongamma', 'lipopolysaccharide', 'phorbol13-acetate12-myristate'),\n",
       "       ('interferongamma', 'lipopolysaccharide', 'phorbol13-acetate12-myristate'),\n",
       "       ('interferongamma', 'lipopolysaccharide', 'phorbol13-acetate12-myristate'),\n",
       "       ('interleukin-13', 'interleukin-4', 'phorbol13-acetate12-myristate'),\n",
       "       ('interleukin-13', 'interleukin-4', 'phorbol13-acetate12-myristate'),\n",
       "       ('interleukin-13', 'interleukin-4', 'phorbol13-acetate12-myristate'),\n",
       "       ('interleukin-13', 'interleukin-4', 'phorbol13-acetate12-myristate'),\n",
       "       ('interleukin-13', 'interleukin-4', 'phorbol13-acetate12-myristate'),\n",
       "       ('interferongamma', 'lipopolysaccharide', 'phorbol13-acetate12-myristate'),\n",
       "       ('interferongamma', 'lipopolysaccharide', 'phorbol13-acetate12-myristate'),\n",
       "       ('interferongamma', 'lipopolysaccharide', 'phorbol13-acetate12-myristate'),\n",
       "       ('phorbol13-acetate12-myristate',),\n",
       "       ('phorbol13-acetate12-myristate',),\n",
       "       ('phorbol13-acetate12-myristate',), ('',), ('',)], dtype=object)"
      ]
     },
     "execution_count": 37,
     "metadata": {},
     "output_type": "execute_result"
    }
   ],
   "source": [
    "df['Biosample treatments'].values"
   ]
  },
  {
   "cell_type": "code",
   "execution_count": 50,
   "id": "57f15a4c-1c7d-4782-a7fa-46fcb94cf883",
   "metadata": {},
   "outputs": [
    {
     "data": {
      "text/html": [
       "<div>\n",
       "<style scoped>\n",
       "    .dataframe tbody tr th:only-of-type {\n",
       "        vertical-align: middle;\n",
       "    }\n",
       "\n",
       "    .dataframe tbody tr th {\n",
       "        vertical-align: top;\n",
       "    }\n",
       "\n",
       "    .dataframe thead th {\n",
       "        text-align: right;\n",
       "    }\n",
       "</style>\n",
       "<table border=\"1\" class=\"dataframe\">\n",
       "  <thead>\n",
       "    <tr style=\"text-align: right;\">\n",
       "      <th></th>\n",
       "      <th>old_name</th>\n",
       "      <th>Biosample treatments</th>\n",
       "      <th>Biosample treatments duration</th>\n",
       "    </tr>\n",
       "  </thead>\n",
       "  <tbody>\n",
       "    <tr>\n",
       "      <th>11</th>\n",
       "      <td>hl_60</td>\n",
       "      <td>lipopolysaccharide, interferon gamma, phorbol ...</td>\n",
       "      <td>120 hour, 24 hour</td>\n",
       "    </tr>\n",
       "    <tr>\n",
       "      <th>12</th>\n",
       "      <td>hl_60</td>\n",
       "      <td>interleukin-4, phorbol 13-acetate 12-myristate...</td>\n",
       "      <td>120 hour, 24 hour</td>\n",
       "    </tr>\n",
       "    <tr>\n",
       "      <th>13</th>\n",
       "      <td>hl_60</td>\n",
       "      <td>lipopolysaccharide, interferon gamma, phorbol ...</td>\n",
       "      <td>120 hour, 72 hour</td>\n",
       "    </tr>\n",
       "    <tr>\n",
       "      <th>14</th>\n",
       "      <td>hl_60</td>\n",
       "      <td>NaN</td>\n",
       "      <td>NaN</td>\n",
       "    </tr>\n",
       "    <tr>\n",
       "      <th>15</th>\n",
       "      <td>hl_60</td>\n",
       "      <td>phorbol 13-acetate 12-myristate</td>\n",
       "      <td>120 hour</td>\n",
       "    </tr>\n",
       "    <tr>\n",
       "      <th>16</th>\n",
       "      <td>hl_60</td>\n",
       "      <td>lipopolysaccharide, interferon gamma, phorbol ...</td>\n",
       "      <td>120 hour, 12 hour</td>\n",
       "    </tr>\n",
       "    <tr>\n",
       "      <th>17</th>\n",
       "      <td>hl_60</td>\n",
       "      <td>interleukin-4, phorbol 13-acetate 12-myristate...</td>\n",
       "      <td>120 hour, 72 hour</td>\n",
       "    </tr>\n",
       "    <tr>\n",
       "      <th>18</th>\n",
       "      <td>hl_60</td>\n",
       "      <td>interleukin-4, phorbol 13-acetate 12-myristate...</td>\n",
       "      <td>120 hour, 12 hour</td>\n",
       "    </tr>\n",
       "  </tbody>\n",
       "</table>\n",
       "</div>"
      ],
      "text/plain": [
       "   old_name                               Biosample treatments  \\\n",
       "11    hl_60  lipopolysaccharide, interferon gamma, phorbol ...   \n",
       "12    hl_60  interleukin-4, phorbol 13-acetate 12-myristate...   \n",
       "13    hl_60  lipopolysaccharide, interferon gamma, phorbol ...   \n",
       "14    hl_60                                                NaN   \n",
       "15    hl_60                    phorbol 13-acetate 12-myristate   \n",
       "16    hl_60  lipopolysaccharide, interferon gamma, phorbol ...   \n",
       "17    hl_60  interleukin-4, phorbol 13-acetate 12-myristate...   \n",
       "18    hl_60  interleukin-4, phorbol 13-acetate 12-myristate...   \n",
       "\n",
       "   Biosample treatments duration  \n",
       "11             120 hour, 24 hour  \n",
       "12             120 hour, 24 hour  \n",
       "13             120 hour, 72 hour  \n",
       "14                           NaN  \n",
       "15                      120 hour  \n",
       "16             120 hour, 12 hour  \n",
       "17             120 hour, 72 hour  \n",
       "18             120 hour, 12 hour  "
      ]
     },
     "execution_count": 50,
     "metadata": {},
     "output_type": "execute_result"
    }
   ],
   "source": [
    "term_map.loc[term_map.old_name == 'hl_60', term_map_merge_cols]"
   ]
  },
  {
   "cell_type": "code",
   "execution_count": 37,
   "id": "67eec7db-e54f-4b4c-a23a-0ea93e499ad1",
   "metadata": {},
   "outputs": [
    {
     "data": {
      "text/html": [
       "<div>\n",
       "<style scoped>\n",
       "    .dataframe tbody tr th:only-of-type {\n",
       "        vertical-align: middle;\n",
       "    }\n",
       "\n",
       "    .dataframe tbody tr th {\n",
       "        vertical-align: top;\n",
       "    }\n",
       "\n",
       "    .dataframe thead th {\n",
       "        text-align: right;\n",
       "    }\n",
       "</style>\n",
       "<table border=\"1\" class=\"dataframe\">\n",
       "  <thead>\n",
       "    <tr style=\"text-align: right;\">\n",
       "      <th></th>\n",
       "      <th>old_name</th>\n",
       "      <th>new_name</th>\n",
       "    </tr>\n",
       "  </thead>\n",
       "  <tbody>\n",
       "    <tr>\n",
       "      <th>0</th>\n",
       "      <td>a673</td>\n",
       "      <td>a673</td>\n",
       "    </tr>\n",
       "    <tr>\n",
       "      <th>1</th>\n",
       "      <td>caco_2</td>\n",
       "      <td>caco2</td>\n",
       "    </tr>\n",
       "    <tr>\n",
       "      <th>2</th>\n",
       "      <td>calu3</td>\n",
       "      <td>calu3</td>\n",
       "    </tr>\n",
       "    <tr>\n",
       "      <th>3</th>\n",
       "      <td>gm12878</td>\n",
       "      <td>gm12878</td>\n",
       "    </tr>\n",
       "    <tr>\n",
       "      <th>6</th>\n",
       "      <td>gm23338</td>\n",
       "      <td>pgp1</td>\n",
       "    </tr>\n",
       "  </tbody>\n",
       "</table>\n",
       "</div>"
      ],
      "text/plain": [
       "  old_name new_name\n",
       "0     a673     a673\n",
       "1   caco_2    caco2\n",
       "2    calu3    calu3\n",
       "3  gm12878  gm12878\n",
       "6  gm23338     pgp1"
      ]
     },
     "execution_count": 37,
     "metadata": {},
     "output_type": "execute_result"
    }
   ],
   "source": [
    "term_map.head()"
   ]
  },
  {
   "cell_type": "code",
   "execution_count": null,
   "id": "a2ea098e-6c51-4507-a83e-e0c65734454c",
   "metadata": {},
   "outputs": [],
   "source": []
  }
 ],
 "metadata": {
  "kernelspec": {
   "display_name": "Python 3",
   "language": "python",
   "name": "python3"
  },
  "language_info": {
   "codemirror_mode": {
    "name": "ipython",
    "version": 3
   },
   "file_extension": ".py",
   "mimetype": "text/x-python",
   "name": "python",
   "nbconvert_exporter": "python",
   "pygments_lexer": "ipython3",
   "version": "3.7.4"
  }
 },
 "nbformat": 4,
 "nbformat_minor": 5
}
