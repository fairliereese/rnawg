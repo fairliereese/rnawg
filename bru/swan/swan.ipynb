{
 "cells": [
  {
   "cell_type": "code",
   "execution_count": 1,
   "id": "bacae16d-cdc2-4839-8a62-995780d10ea3",
   "metadata": {},
   "outputs": [],
   "source": [
    "import pandas as pd\n",
    "import numpy as np\n",
    "import scipy.stats as st\n",
    "import seaborn as sns\n",
    "import sys\n",
    "import os\n",
    "import gseapy as gp\n",
    "import swan_vis as swan \n",
    "from scipy import sparse\n",
    "\n",
    "p = os.path.dirname(os.path.dirname(os.getcwd()))\n",
    "sys.path.append(p)\n",
    "\n",
    "from scripts.utils import *\n",
    "from scripts.plotting import *"
   ]
  },
  {
   "cell_type": "markdown",
   "id": "4d382c16-72d6-46e3-b711-d08c5b59fd4a",
   "metadata": {},
   "source": [
    "## Format abundance matrix"
   ]
  },
  {
   "cell_type": "code",
   "execution_count": 12,
   "id": "44933c33-2221-42d6-9764-f3b784dedd9f",
   "metadata": {},
   "outputs": [],
   "source": [
    "df = pd.read_csv('../rsem/human_bru_abundance.tsv', sep='\\t')\n",
    "df.columns = [c.lower() for c in df.columns]\n",
    "df.drop('gene_id', axis=1, inplace=True)"
   ]
  },
  {
   "cell_type": "code",
   "execution_count": 13,
   "id": "79b43431-f837-4773-b240-83ce18adf446",
   "metadata": {},
   "outputs": [
    {
     "data": {
      "text/plain": [
       "Index(['transcript_id', 'a673_0h', 'a673_2h', 'a673_6h', 'caco2_0h',\n",
       "       'caco2_2h', 'caco2_6h', 'calu3_0h', 'calu3_2h', 'calu3_6h',\n",
       "       'gm12878_0h', 'gm12878_2h', 'gm12878_6h', 'hct116_0h', 'hct116_2h',\n",
       "       'hct116_6h', 'hepg2_0h', 'hepg2_2h', 'hepg2_6h', 'hmec_0h', 'hmec_2h',\n",
       "       'hmec_6h', 'huvec_0h', 'huvec_2h', 'huvec_6h', 'imr90_0h', 'imr90_2h',\n",
       "       'imr90_6h', 'k562_0h', 'k562_2h', 'k562_6h'],\n",
       "      dtype='object')"
      ]
     },
     "execution_count": 13,
     "metadata": {},
     "output_type": "execute_result"
    }
   ],
   "source": [
    "df.columns"
   ]
  },
  {
   "cell_type": "code",
   "execution_count": 14,
   "id": "b233b8d1-b91a-446a-ae22-69c0b62ef972",
   "metadata": {},
   "outputs": [],
   "source": [
    "df.to_csv('human_bru_abundance_swan.tsv', sep='\\t', index=False)"
   ]
  },
  {
   "cell_type": "markdown",
   "id": "c819275e-85c3-4e96-98d9-a58ec1868984",
   "metadata": {},
   "source": [
    "## Create SwanGraph"
   ]
  },
  {
   "cell_type": "code",
   "execution_count": 15,
   "id": "9abdfd18-d332-42c4-8b2b-452c44d2d901",
   "metadata": {},
   "outputs": [],
   "source": [
    "annot = '../../refs/gencode_v29_sirv4_ercc.gtf'\n",
    "ab = 'human_bru_abundance_swan.tsv'\n",
    "gtf = '../ljungman_known_nic_nnc_talon.gtf'"
   ]
  },
  {
   "cell_type": "code",
   "execution_count": 16,
   "id": "ba0c60ef-eab1-437b-9bb7-0ab1cc500834",
   "metadata": {},
   "outputs": [
    {
     "name": "stdout",
     "output_type": "stream",
     "text": [
      "\n",
      "Adding annotation to the SwanGraph\n",
      "\n",
      "Adding transcriptome to the SwanGraph\n",
      "\n",
      "Adding abundance for datasets a673_0h, a673_2h, a673_6h, caco2_0h, caco2_2h... (and 25 more) to SwanGraph\n",
      "Calculating transcript TPM...\n",
      "Calculating PI...\n",
      "Calculating edge usage...\n"
     ]
    },
    {
     "name": "stderr",
     "output_type": "stream",
     "text": [
      "/Users/fairliereese/miniconda3/lib/python3.7/site-packages/anndata/_core/anndata.py:120: ImplicitModificationWarning: Transforming to str index.\n",
      "  warnings.warn(\"Transforming to str index.\", ImplicitModificationWarning)\n"
     ]
    },
    {
     "name": "stdout",
     "output_type": "stream",
     "text": [
      "Calculating TSS usage...\n",
      "Calculating TES usage...\n"
     ]
    }
   ],
   "source": [
    "sg = swan.SwanGraph()\n",
    "sg.add_annotation(annot)\n",
    "sg.add_transcriptome(gtf)\n",
    "sg.add_abundance(ab)"
   ]
  },
  {
   "cell_type": "code",
   "execution_count": 17,
   "id": "413d926d-3c61-4afa-8649-bec1022c7ae5",
   "metadata": {},
   "outputs": [
    {
     "name": "stdout",
     "output_type": "stream",
     "text": [
      "Saving graph as swan.p\n"
     ]
    }
   ],
   "source": [
    "sg.save_graph('swan')"
   ]
  },
  {
   "cell_type": "markdown",
   "id": "f0602fdf-7696-4480-a166-bbdff607bc7e",
   "metadata": {},
   "source": [
    "## Get metadata"
   ]
  },
  {
   "cell_type": "code",
   "execution_count": 7,
   "id": "0c85e100-09d2-4c78-8b5f-a1232871542a",
   "metadata": {},
   "outputs": [
    {
     "name": "stdout",
     "output_type": "stream",
     "text": [
      "Read in graph from swan.p\n"
     ]
    }
   ],
   "source": [
    "sg = swan.read('swan.p')\n",
    "meta = sg.adata.obs.copy(deep=True)\n",
    "meta[['sample', 'timepoint']] = meta.dataset.str.split('_', expand=True) \n",
    "meta.to_csv('swan_metadata.tsv', sep='\\t', index=False)"
   ]
  },
  {
   "cell_type": "markdown",
   "id": "a2ae7d35-083a-4960-9ce3-a5fe47420029",
   "metadata": {},
   "source": [
    "## Add metadata "
   ]
  },
  {
   "cell_type": "code",
   "execution_count": 10,
   "id": "14d5f215-07b5-4e1f-b6c2-05dcbf667134",
   "metadata": {},
   "outputs": [],
   "source": [
    "meta = 'swan_metadata.tsv'\n",
    "sg.add_metadata('swan_metadata.tsv')"
   ]
  },
  {
   "cell_type": "code",
   "execution_count": 11,
   "id": "5668ba1b-84d7-45dd-b1eb-9f1959525ac6",
   "metadata": {},
   "outputs": [],
   "source": [
    "# get relevant colors\n",
    "\n",
    "# cell line\n",
    "samples = sg.adata.obs['sample'].unique().tolist()\n",
    "c_dict, order = get_biosample_colors()\n",
    "c_dict_keys = list(c_dict.keys())\n",
    "pop_keys = list(set(c_dict_keys)-set(samples))\n",
    "for p in pop_keys:\n",
    "    c_dict.pop(p)\n",
    "    order.remove(p)\n",
    "sg.set_metadata_colors('sample', c_dict)\n",
    "\n",
    "# timepoint\n",
    "c_dict, order = get_bru_timept_colors()\n",
    "sg.set_metadata_colors('timepoint', c_dict)"
   ]
  },
  {
   "cell_type": "code",
   "execution_count": 12,
   "id": "26a11d80-0511-4c5d-bee3-eb4b2abd0792",
   "metadata": {},
   "outputs": [
    {
     "name": "stdout",
     "output_type": "stream",
     "text": [
      "Saving graph as swan.p\n"
     ]
    }
   ],
   "source": [
    "sg.save_graph('swan')"
   ]
  },
  {
   "cell_type": "markdown",
   "id": "d86bd635-7c9a-4d9c-8b4b-2c92e4a93707",
   "metadata": {},
   "source": [
    "## Reports"
   ]
  },
  {
   "cell_type": "code",
   "execution_count": 3,
   "id": "2f45750c-a9a1-4f21-9b90-58a2552824b3",
   "metadata": {},
   "outputs": [
    {
     "name": "stdout",
     "output_type": "stream",
     "text": [
      "Read in graph from swan.p\n"
     ]
    }
   ],
   "source": [
    "sg = swan.read('swan.p')"
   ]
  },
  {
   "cell_type": "code",
   "execution_count": 18,
   "id": "de831eb8-82c8-46a2-9fe0-f9f59400f69e",
   "metadata": {
    "collapsed": true,
    "jupyter": {
     "outputs_hidden": true
    },
    "tags": []
   },
   "outputs": [
    {
     "name": "stdout",
     "output_type": "stream",
     "text": [
      "                     a673_0h    a673_2h    a673_6h  caco2_0h  caco2_2h  \\\n",
      "tid                                                                      \n",
      "ENCODEHT002323608   0.000000  26.408451  11.021234       NaN       0.0   \n",
      "ENCODEHT002323706   0.000000   0.000000   0.000000       NaN       0.0   \n",
      "ENCODEHT002323748   0.000000   9.154929   8.291203       NaN       0.0   \n",
      "ENCODEHT002323610   0.000000   0.000000  13.245704       NaN       0.0   \n",
      "ENCODEHT002323712  16.393442   6.338028   0.000000       NaN       0.0   \n",
      "\n",
      "                   caco2_6h  calu3_0h  calu3_2h  calu3_6h  gm12878_0h  ...  \\\n",
      "tid                                                                    ...   \n",
      "ENCODEHT002323608       0.0       0.0       0.0       0.0         NaN  ...   \n",
      "ENCODEHT002323706       0.0       0.0       0.0       0.0         NaN  ...   \n",
      "ENCODEHT002323748       0.0       0.0       0.0       0.0         NaN  ...   \n",
      "ENCODEHT002323610       0.0       0.0       0.0       0.0         NaN  ...   \n",
      "ENCODEHT002323712       0.0       0.0       0.0       0.0         NaN  ...   \n",
      "\n",
      "                   hmec_6h  huvec_0h  huvec_2h   huvec_6h   imr90_0h  \\\n",
      "tid                                                                    \n",
      "ENCODEHT002323608      NaN       0.0       0.0   0.000000   0.000000   \n",
      "ENCODEHT002323706      NaN     100.0     100.0  83.333328  81.818184   \n",
      "ENCODEHT002323748      NaN       0.0       0.0   0.000000   0.000000   \n",
      "ENCODEHT002323610      NaN       0.0       0.0   0.000000   0.000000   \n",
      "ENCODEHT002323712      NaN       0.0       0.0   0.000000   0.000000   \n",
      "\n",
      "                    imr90_2h  imr90_6h  k562_0h  k562_2h  k562_6h  \n",
      "tid                                                                \n",
      "ENCODEHT002323608   0.000000       0.0      NaN      NaN      NaN  \n",
      "ENCODEHT002323706  64.705887       0.0      NaN      NaN      NaN  \n",
      "ENCODEHT002323748   0.000000       0.0      NaN      NaN      NaN  \n",
      "ENCODEHT002323610   0.000000       0.0      NaN      NaN      NaN  \n",
      "ENCODEHT002323712   0.000000       0.0      NaN      NaN      NaN  \n",
      "\n",
      "[5 rows x 30 columns]\n",
      "\n",
      "Plotting transcripts for ENSG00000049540.16\n",
      "Saving transcript path graph for ENCODEHT002323608 as figures/eln_cell_line_tpm_browser_ENCODEHT002323608_path.png\n",
      "Saving transcript path graph for ENCODEHT002323706 as figures/eln_cell_line_tpm_browser_ENCODEHT002323706_path.png\n",
      "Saving transcript path graph for ENCODEHT002323748 as figures/eln_cell_line_tpm_browser_ENCODEHT002323748_path.png\n",
      "Saving transcript path graph for ENCODEHT002323610 as figures/eln_cell_line_tpm_browser_ENCODEHT002323610_path.png\n",
      "Saving transcript path graph for ENCODEHT002323712 as figures/eln_cell_line_tpm_browser_ENCODEHT002323712_path.png\n",
      "Saving transcript path graph for ENCODEHT002323587 as figures/eln_cell_line_tpm_browser_ENCODEHT002323587_path.png\n",
      "Saving transcript path graph for ENCODEHT002323598 as figures/eln_cell_line_tpm_browser_ENCODEHT002323598_path.png\n",
      "Saving transcript path graph for ENCODEHT002324207 as figures/eln_cell_line_tpm_browser_ENCODEHT002324207_path.png\n",
      "Saving transcript path graph for ENCODEHT002323626 as figures/eln_cell_line_tpm_browser_ENCODEHT002323626_path.png\n",
      "Saving transcript path graph for ENCODEHT002323772 as figures/eln_cell_line_tpm_browser_ENCODEHT002323772_path.png\n",
      "Saving transcript path graph for ENCODEHT002323724 as figures/eln_cell_line_tpm_browser_ENCODEHT002323724_path.png\n",
      "Saving transcript path graph for ENST00000492210.1 as figures/eln_cell_line_tpm_browser_ENST00000492210.1_path.png\n",
      "Saving transcript path graph for ENCODEHT002323668 as figures/eln_cell_line_tpm_browser_ENCODEHT002323668_path.png\n",
      "Saving transcript path graph for ENCODEHT002323687 as figures/eln_cell_line_tpm_browser_ENCODEHT002323687_path.png\n",
      "Saving transcript path graph for ENCODEHT002323770 as figures/eln_cell_line_tpm_browser_ENCODEHT002323770_path.png\n",
      "Saving transcript path graph for ENST00000494160.5 as figures/eln_cell_line_tpm_browser_ENST00000494160.5_path.png\n",
      "Saving transcript path graph for ENCODEHT002324110 as figures/eln_cell_line_tpm_browser_ENCODEHT002324110_path.png\n",
      "Saving transcript path graph for ENCODEHT002323629 as figures/eln_cell_line_tpm_browser_ENCODEHT002323629_path.png\n",
      "Saving transcript path graph for ENCODEHT002323704 as figures/eln_cell_line_tpm_browser_ENCODEHT002323704_path.png\n",
      "Saving transcript path graph for ENST00000477397.1 as figures/eln_cell_line_tpm_browser_ENST00000477397.1_path.png\n",
      "Saving transcript path graph for ENCODEHT002323596 as figures/eln_cell_line_tpm_browser_ENCODEHT002323596_path.png\n",
      "Saving transcript path graph for ENCODEHT002323843 as figures/eln_cell_line_tpm_browser_ENCODEHT002323843_path.png\n",
      "Saving transcript path graph for ENCODEHT002323761 as figures/eln_cell_line_tpm_browser_ENCODEHT002323761_path.png\n",
      "Saving transcript path graph for ENCODEHT002323684 as figures/eln_cell_line_tpm_browser_ENCODEHT002323684_path.png\n",
      "Saving transcript path graph for ENCODEHT002323715 as figures/eln_cell_line_tpm_browser_ENCODEHT002323715_path.png\n",
      "Saving transcript path graph for ENCODEHT002323615 as figures/eln_cell_line_tpm_browser_ENCODEHT002323615_path.png\n",
      "Saving transcript path graph for ENCODEHT002323941 as figures/eln_cell_line_tpm_browser_ENCODEHT002323941_path.png\n",
      "Saving transcript path graph for ENST00000380553.8 as figures/eln_cell_line_tpm_browser_ENST00000380553.8_path.png\n",
      "Saving transcript path graph for ENCODEHT002323630 as figures/eln_cell_line_tpm_browser_ENCODEHT002323630_path.png\n",
      "Saving transcript path graph for ENST00000431562.5 as figures/eln_cell_line_tpm_browser_ENST00000431562.5_path.png\n",
      "Saving transcript path graph for ENCODEHT002323675 as figures/eln_cell_line_tpm_browser_ENCODEHT002323675_path.png\n",
      "Saving transcript path graph for ENST00000468517.5 as figures/eln_cell_line_tpm_browser_ENST00000468517.5_path.png\n",
      "Saving transcript path graph for ENCODEHT002323649 as figures/eln_cell_line_tpm_browser_ENCODEHT002323649_path.png\n",
      "Saving transcript path graph for ENST00000493839.1 as figures/eln_cell_line_tpm_browser_ENST00000493839.1_path.png\n",
      "Saving transcript path graph for ENST00000438906.5 as figures/eln_cell_line_tpm_browser_ENST00000438906.5_path.png\n",
      "Saving transcript path graph for ENCODEHT002323738 as figures/eln_cell_line_tpm_browser_ENCODEHT002323738_path.png\n",
      "Saving transcript path graph for ENCODEHT002323700 as figures/eln_cell_line_tpm_browser_ENCODEHT002323700_path.png\n",
      "Saving transcript path graph for ENCODEHT002323647 as figures/eln_cell_line_tpm_browser_ENCODEHT002323647_path.png\n",
      "Saving transcript path graph for ENCODEHT002323593 as figures/eln_cell_line_tpm_browser_ENCODEHT002323593_path.png\n",
      "Saving transcript path graph for ENCODEHT002323661 as figures/eln_cell_line_tpm_browser_ENCODEHT002323661_path.png\n",
      "Saving transcript path graph for ENCODEHT002323943 as figures/eln_cell_line_tpm_browser_ENCODEHT002323943_path.png\n",
      "Saving transcript path graph for ENCODEHT002323606 as figures/eln_cell_line_tpm_browser_ENCODEHT002323606_path.png\n",
      "Saving transcript path graph for ENST00000479432.5 as figures/eln_cell_line_tpm_browser_ENST00000479432.5_path.png\n",
      "Saving transcript path graph for ENST00000417091.5 as figures/eln_cell_line_tpm_browser_ENST00000417091.5_path.png\n",
      "Saving transcript path graph for ENCODEHT002324360 as figures/eln_cell_line_tpm_browser_ENCODEHT002324360_path.png\n",
      "Saving transcript path graph for ENCODEHT002323848 as figures/eln_cell_line_tpm_browser_ENCODEHT002323848_path.png\n",
      "Saving transcript path graph for ENST00000492003.5 as figures/eln_cell_line_tpm_browser_ENST00000492003.5_path.png\n",
      "Saving transcript path graph for ENST00000473323.1 as figures/eln_cell_line_tpm_browser_ENST00000473323.1_path.png\n",
      "Saving transcript path graph for ENST00000438880.5 as figures/eln_cell_line_tpm_browser_ENST00000438880.5_path.png\n",
      "Saving transcript path graph for ENST00000380562.8 as figures/eln_cell_line_tpm_browser_ENST00000380562.8_path.png\n",
      "Saving transcript path graph for ENCODEHT002323802 as figures/eln_cell_line_tpm_browser_ENCODEHT002323802_path.png\n",
      "Saving transcript path graph for ENST00000419398.1 as figures/eln_cell_line_tpm_browser_ENST00000419398.1_path.png\n",
      "Generating report for ENSG00000049540.16\n"
     ]
    }
   ],
   "source": [
    "sg.gen_report('ELN',\n",
    "              prefix='figures/eln_cell_line_tpm',\n",
    "              layer='pi',\n",
    "              cmap='magma',\n",
    "              novelty=True,\n",
    "              transcript_col='tname',\n",
    "              metadata_cols=['sample', 'timepoint'],\n",
    "              browser=True)"
   ]
  },
  {
   "cell_type": "code",
   "execution_count": 19,
   "id": "59d1c343-6221-4bc8-a495-c5d288285a75",
   "metadata": {
    "collapsed": true,
    "jupyter": {
     "outputs_hidden": true
    },
    "tags": []
   },
   "outputs": [
    {
     "name": "stdout",
     "output_type": "stream",
     "text": [
      "                    a673_0h    a673_2h    a673_6h   caco2_0h   caco2_2h  \\\n",
      "tid                                                                       \n",
      "ENST00000637481.1   0.00000   0.000000  37.888199  45.454548  40.000000   \n",
      "ENST00000636998.1   0.00000  26.016258   0.000000   0.000000   0.000000   \n",
      "ENST00000504921.6  63.15789  13.821138   3.726708  36.363636   0.000000   \n",
      "ENST00000510942.5   0.00000  35.772358  32.298134   0.000000   0.000000   \n",
      "ENST00000508569.5   0.00000  13.821138   9.316770   0.000000   8.571429   \n",
      "\n",
      "                    caco2_6h   calu3_0h   calu3_2h   calu3_6h  gm12878_0h  \\\n",
      "tid                                                                         \n",
      "ENST00000637481.1   5.555556  33.333336  23.648647   0.377358    8.946898   \n",
      "ENST00000636998.1   0.000000   0.000000  11.486486  31.698114   17.179831   \n",
      "ENST00000504921.6   0.000000  55.555557   5.630630   5.283019   47.411873   \n",
      "ENST00000510942.5  16.666668   0.000000  36.711712  33.584904    0.000000   \n",
      "ENST00000508569.5   7.407407   0.000000   3.828829   1.509434    0.000000   \n",
      "\n",
      "                   ...  hmec_6h   huvec_0h   huvec_2h   huvec_6h   imr90_0h  \\\n",
      "tid                ...                                                        \n",
      "ENST00000637481.1  ...      0.0  10.671141  37.609417   9.723461   0.000000   \n",
      "ENST00000636998.1  ...      0.0  17.114094   8.345910  12.578055  44.262295   \n",
      "ENST00000504921.6  ...      0.0  57.583893   3.305161   5.887600  29.508198   \n",
      "ENST00000510942.5  ...      0.0   0.000000  17.718081  29.705620  11.475410   \n",
      "ENST00000508569.5  ...      0.0   0.000000   5.795352   6.066012   0.000000   \n",
      "\n",
      "                    imr90_2h   imr90_6h    k562_0h    k562_2h    k562_6h  \n",
      "tid                                                                       \n",
      "ENST00000637481.1  17.460318   0.000000   0.000000  18.868757  19.711918  \n",
      "ENST00000636998.1  42.857143  41.428574  17.220543   4.507291   3.531965  \n",
      "ENST00000504921.6   0.000000   0.000000  64.577034  10.649581   7.221784  \n",
      "ENST00000510942.5   0.000000  15.714286   3.927492  38.930622  43.843727  \n",
      "ENST00000508569.5   8.333334  15.714286   0.000000   5.788776   9.017364  \n",
      "\n",
      "[5 rows x 30 columns]\n",
      "\n",
      "Plotting transcripts for ENSG00000081189.15\n",
      "Saving transcript path graph for ENST00000637481.1 as figures/mef2c_cell_line_tpm_browser_ENST00000637481.1_path.png\n",
      "Saving transcript path graph for ENST00000636998.1 as figures/mef2c_cell_line_tpm_browser_ENST00000636998.1_path.png\n",
      "Saving transcript path graph for ENST00000504921.6 as figures/mef2c_cell_line_tpm_browser_ENST00000504921.6_path.png\n",
      "Saving transcript path graph for ENST00000510942.5 as figures/mef2c_cell_line_tpm_browser_ENST00000510942.5_path.png\n",
      "Saving transcript path graph for ENST00000508569.5 as figures/mef2c_cell_line_tpm_browser_ENST00000508569.5_path.png\n",
      "Saving transcript path graph for ENST00000424173.6 as figures/mef2c_cell_line_tpm_browser_ENST00000424173.6_path.png\n",
      "Saving transcript path graph for ENST00000340208.9 as figures/mef2c_cell_line_tpm_browser_ENST00000340208.9_path.png\n",
      "Saving transcript path graph for ENCODEHT000458498 as figures/mef2c_cell_line_tpm_browser_ENCODEHT000458498_path.png\n",
      "Saving transcript path graph for ENST00000636541.1 as figures/mef2c_cell_line_tpm_browser_ENST00000636541.1_path.png\n",
      "Saving transcript path graph for ENCODEHT000458395 as figures/mef2c_cell_line_tpm_browser_ENCODEHT000458395_path.png\n",
      "Saving transcript path graph for ENST00000502831.5 as figures/mef2c_cell_line_tpm_browser_ENST00000502831.5_path.png\n",
      "Saving transcript path graph for ENST00000511086.1 as figures/mef2c_cell_line_tpm_browser_ENST00000511086.1_path.png\n",
      "Saving transcript path graph for ENCODEHT000458385 as figures/mef2c_cell_line_tpm_browser_ENCODEHT000458385_path.png\n",
      "Saving transcript path graph for ENCODEHT000458399 as figures/mef2c_cell_line_tpm_browser_ENCODEHT000458399_path.png\n",
      "Saving transcript path graph for ENST00000509373.1 as figures/mef2c_cell_line_tpm_browser_ENST00000509373.1_path.png\n",
      "Saving transcript path graph for ENST00000513252.5 as figures/mef2c_cell_line_tpm_browser_ENST00000513252.5_path.png\n",
      "Saving transcript path graph for ENST00000637732.1 as figures/mef2c_cell_line_tpm_browser_ENST00000637732.1_path.png\n",
      "Saving transcript path graph for ENST00000502983.5 as figures/mef2c_cell_line_tpm_browser_ENST00000502983.5_path.png\n",
      "Saving transcript path graph for ENST00000628656.2 as figures/mef2c_cell_line_tpm_browser_ENST00000628656.2_path.png\n",
      "Saving transcript path graph for ENST00000506716.5 as figures/mef2c_cell_line_tpm_browser_ENST00000506716.5_path.png\n",
      "Saving transcript path graph for ENST00000510980.1 as figures/mef2c_cell_line_tpm_browser_ENST00000510980.1_path.png\n",
      "Saving transcript path graph for ENST00000627717.2 as figures/mef2c_cell_line_tpm_browser_ENST00000627717.2_path.png\n",
      "Saving transcript path graph for ENST00000515715.2 as figures/mef2c_cell_line_tpm_browser_ENST00000515715.2_path.png\n",
      "Saving transcript path graph for ENST00000631026.2 as figures/mef2c_cell_line_tpm_browser_ENST00000631026.2_path.png\n",
      "Saving transcript path graph for ENST00000507984.5 as figures/mef2c_cell_line_tpm_browser_ENST00000507984.5_path.png\n",
      "Saving transcript path graph for ENST00000629847.1 as figures/mef2c_cell_line_tpm_browser_ENST00000629847.1_path.png\n",
      "Saving transcript path graph for ENST00000503554.4 as figures/mef2c_cell_line_tpm_browser_ENST00000503554.4_path.png\n",
      "Saving transcript path graph for ENST00000437473.6 as figures/mef2c_cell_line_tpm_browser_ENST00000437473.6_path.png\n",
      "Saving transcript path graph for ENST00000627659.2 as figures/mef2c_cell_line_tpm_browser_ENST00000627659.2_path.png\n",
      "Saving transcript path graph for ENST00000514028.5 as figures/mef2c_cell_line_tpm_browser_ENST00000514028.5_path.png\n",
      "Saving transcript path graph for ENCODEHT000458359 as figures/mef2c_cell_line_tpm_browser_ENCODEHT000458359_path.png\n",
      "Saving transcript path graph for ENCODEHT000458420 as figures/mef2c_cell_line_tpm_browser_ENCODEHT000458420_path.png\n",
      "Saving transcript path graph for ENST00000506554.5 as figures/mef2c_cell_line_tpm_browser_ENST00000506554.5_path.png\n",
      "Saving transcript path graph for ENST00000503075.1 as figures/mef2c_cell_line_tpm_browser_ENST00000503075.1_path.png\n",
      "Saving transcript path graph for ENST00000514015.5 as figures/mef2c_cell_line_tpm_browser_ENST00000514015.5_path.png\n",
      "Saving transcript path graph for ENST00000625585.2 as figures/mef2c_cell_line_tpm_browser_ENST00000625585.2_path.png\n",
      "Saving transcript path graph for ENST00000515093.1 as figures/mef2c_cell_line_tpm_browser_ENST00000515093.1_path.png\n",
      "Saving transcript path graph for ENST00000629612.2 as figures/mef2c_cell_line_tpm_browser_ENST00000629612.2_path.png\n",
      "Saving transcript path graph for ENST00000508610.5 as figures/mef2c_cell_line_tpm_browser_ENST00000508610.5_path.png\n",
      "Saving transcript path graph for ENST00000509349.1 as figures/mef2c_cell_line_tpm_browser_ENST00000509349.1_path.png\n",
      "Saving transcript path graph for ENST00000636143.1 as figures/mef2c_cell_line_tpm_browser_ENST00000636143.1_path.png\n",
      "Saving transcript path graph for ENCODEHT000458453 as figures/mef2c_cell_line_tpm_browser_ENCODEHT000458453_path.png\n",
      "Generating report for ENSG00000081189.15\n"
     ]
    }
   ],
   "source": [
    "sg.gen_report('MEF2C',\n",
    "              prefix='figures/mef2c_cell_line_tpm',\n",
    "              layer='pi',\n",
    "              cmap='magma',\n",
    "              novelty=True,\n",
    "              transcript_col='tname',\n",
    "              metadata_cols=['sample', 'timepoint'],\n",
    "              browser=True)"
   ]
  },
  {
   "cell_type": "code",
   "execution_count": 20,
   "id": "952c0ee7-bec7-416d-bffa-f37ce1437539",
   "metadata": {
    "collapsed": true,
    "jupyter": {
     "outputs_hidden": true
    },
    "tags": []
   },
   "outputs": [
    {
     "name": "stdout",
     "output_type": "stream",
     "text": [
      "                     a673_0h    a673_2h    a673_6h   caco2_0h   caco2_2h  \\\n",
      "tid                                                                        \n",
      "ENST00000251453.7  27.004105  47.253239  71.882385  47.576611  66.642120   \n",
      "ENST00000601390.1  34.473324  33.541759  16.303492  19.340212  17.869415   \n",
      "ENCODEHT000769052  36.990425  16.569897   7.009714  30.831770  10.260186   \n",
      "ENST00000601655.5   1.121751   1.741849   2.415332   1.297686   2.650957   \n",
      "ENST00000339471.8   0.054720   0.357302   0.577579   0.062539   0.957290   \n",
      "\n",
      "                    caco2_6h   calu3_0h   calu3_2h   calu3_6h  gm12878_0h  \\\n",
      "tid                                                                         \n",
      "ENST00000251453.7  84.032921  25.218912  72.668037  80.711540   39.261196   \n",
      "ENST00000601390.1   5.587563  31.523642  12.654321   5.755145   22.654461   \n",
      "ENCODEHT000769052   2.780064  41.009922   8.058985   4.918033   35.550835   \n",
      "ENST00000601655.5   4.106081   1.342674   3.737997   5.476108    2.026806   \n",
      "ENST00000339471.8   0.749886   0.204320   1.268861   0.889431    0.065381   \n",
      "\n",
      "                   ...    hmec_6h   huvec_0h   huvec_2h   huvec_6h   imr90_0h  \\\n",
      "tid                ...                                                          \n",
      "ENST00000251453.7  ...  74.304070  33.681213  62.128250  79.699066  52.111904   \n",
      "ENST00000601390.1  ...   5.929830  25.521820  28.810410   9.099594  17.663193   \n",
      "ENCODEHT000769052  ...   2.997859  39.184059   3.252788   2.173394  28.304991   \n",
      "ENST00000601655.5  ...   9.487729   0.996205   3.020446   5.302125   1.206802   \n",
      "ENST00000339471.8  ...   3.360237   0.189753   1.533457   0.955338   0.274273   \n",
      "\n",
      "                    imr90_2h   imr90_6h    k562_0h    k562_2h    k562_6h  \n",
      "tid                                                                       \n",
      "ENST00000251453.7  67.003029  66.493652  36.630623  45.325203  42.328800  \n",
      "ENST00000601390.1  24.016146  19.550173  24.029596  35.124493  24.838942  \n",
      "ENCODEHT000769052   6.054491  11.476355  36.562325  15.917174  23.144835  \n",
      "ENST00000601655.5   2.623612   1.441753   1.639158   1.346545   3.531377  \n",
      "ENST00000339471.8   0.000000   0.000000   0.068298   1.359248   4.139823  \n",
      "\n",
      "[5 rows x 30 columns]\n",
      "\n",
      "Plotting transcripts for ENSG00000105193.8\n",
      "Saving transcript path graph for ENST00000251453.7 as figures/rps16_cell_line_tpm_browser_ENST00000251453.7_path.png\n",
      "Saving transcript path graph for ENST00000601390.1 as figures/rps16_cell_line_tpm_browser_ENST00000601390.1_path.png\n",
      "Saving transcript path graph for ENCODEHT000769052 as figures/rps16_cell_line_tpm_browser_ENCODEHT000769052_path.png\n",
      "Saving transcript path graph for ENST00000601655.5 as figures/rps16_cell_line_tpm_browser_ENST00000601655.5_path.png\n",
      "Saving transcript path graph for ENST00000339471.8 as figures/rps16_cell_line_tpm_browser_ENST00000339471.8_path.png\n",
      "Saving transcript path graph for ENCODEHT000769905 as figures/rps16_cell_line_tpm_browser_ENCODEHT000769905_path.png\n",
      "Saving transcript path graph for ENCODEHT000768004 as figures/rps16_cell_line_tpm_browser_ENCODEHT000768004_path.png\n",
      "Saving transcript path graph for ENST00000602153.5 as figures/rps16_cell_line_tpm_browser_ENST00000602153.5_path.png\n",
      "Saving transcript path graph for ENST00000599539.5 as figures/rps16_cell_line_tpm_browser_ENST00000599539.5_path.png\n",
      "Saving transcript path graph for ENST00000595386.1 as figures/rps16_cell_line_tpm_browser_ENST00000595386.1_path.png\n",
      "Saving transcript path graph for ENST00000599705.1 as figures/rps16_cell_line_tpm_browser_ENST00000599705.1_path.png\n",
      "Generating report for ENSG00000105193.8\n"
     ]
    }
   ],
   "source": [
    "sg.gen_report('RPS16',\n",
    "              prefix='figures/rps16_cell_line_tpm',\n",
    "              layer='pi',\n",
    "              cmap='magma',\n",
    "              novelty=True,\n",
    "              transcript_col='tname',\n",
    "              metadata_cols=['sample', 'timepoint'],\n",
    "              browser=True)"
   ]
  },
  {
   "cell_type": "code",
   "execution_count": 21,
   "id": "dadf6df6-fc1b-45d8-9011-8dc00db05217",
   "metadata": {
    "collapsed": true,
    "jupyter": {
     "outputs_hidden": true
    },
    "tags": []
   },
   "outputs": [
    {
     "name": "stdout",
     "output_type": "stream",
     "text": [
      "                     a673_0h    a673_2h    a673_6h   caco2_0h   caco2_2h  \\\n",
      "tid                                                                        \n",
      "ENST00000368192.8  83.196724  95.998451  92.507935  80.949593  96.964882   \n",
      "ENST00000326786.4  15.368852   3.937211   7.365079  17.116060   2.999824   \n",
      "ENST00000460850.1   1.434426   0.064334   0.126984   1.934349   0.035292   \n",
      "\n",
      "                    caco2_6h   calu3_0h   calu3_2h   calu3_6h  gm12878_0h  \\\n",
      "tid                                                                         \n",
      "ENST00000368192.8  90.957443  76.190475  96.031342  90.163933   74.547699   \n",
      "ENST00000326786.4   8.966565  21.635611   3.900528   9.764790   21.833881   \n",
      "ENST00000460850.1   0.075988   2.173913   0.068131   0.071276    3.618421   \n",
      "\n",
      "                   ...    hmec_6h   huvec_0h   huvec_2h   huvec_6h   imr90_0h  \\\n",
      "tid                ...                                                          \n",
      "ENST00000368192.8  ...  91.144638  74.010696  95.515572  91.062805  82.568810   \n",
      "ENST00000326786.4  ...   8.789767  24.385027   4.457572   8.856683  16.360857   \n",
      "ENST00000460850.1  ...   0.065595   1.604278   0.026853   0.080515   1.070336   \n",
      "\n",
      "                    imr90_2h   imr90_6h    k562_0h    k562_2h    k562_6h  \n",
      "tid                                                                       \n",
      "ENST00000368192.8  96.205627  86.172340  69.514847  91.310272  89.661057  \n",
      "ENST00000326786.4   3.671971  13.426854  26.068068   8.253882  10.265789  \n",
      "ENST00000460850.1   0.122399   0.400802   4.417089   0.435849   0.073153  \n",
      "\n",
      "[3 rows x 30 columns]\n",
      "\n",
      "Plotting transcripts for ENSG00000117036.11\n",
      "Saving transcript path graph for ENST00000368192.8 as figures/etv3_cell_line_tpm_browser_ENST00000368192.8_path.png\n",
      "Saving transcript path graph for ENST00000326786.4 as figures/etv3_cell_line_tpm_browser_ENST00000326786.4_path.png\n",
      "Saving transcript path graph for ENST00000460850.1 as figures/etv3_cell_line_tpm_browser_ENST00000460850.1_path.png\n",
      "Generating report for ENSG00000117036.11\n"
     ]
    }
   ],
   "source": [
    "sg.gen_report('ETV3',\n",
    "              prefix='figures/etv3_cell_line_tpm',\n",
    "              layer='pi',\n",
    "              cmap='magma',\n",
    "              novelty=True,\n",
    "              transcript_col='tname',\n",
    "              metadata_cols=['sample', 'timepoint'],\n",
    "              browser=True)"
   ]
  },
  {
   "cell_type": "code",
   "execution_count": 22,
   "id": "bd23ac0f-2f1f-4ff4-ad3b-0427e2cce8e8",
   "metadata": {
    "collapsed": true,
    "jupyter": {
     "outputs_hidden": true
    },
    "tags": []
   },
   "outputs": [
    {
     "name": "stdout",
     "output_type": "stream",
     "text": [
      "                     a673_0h   a673_2h    a673_6h   caco2_0h   caco2_2h  \\\n",
      "tid                                                                       \n",
      "ENST00000372967.3  48.762375  45.50898  53.465347  98.496239  98.165138   \n",
      "ENST00000372969.7  51.237625  54.49102  46.534653   1.503759   1.834862   \n",
      "\n",
      "                    caco2_6h   calu3_0h   calu3_2h   calu3_6h  gm12878_0h  \\\n",
      "tid                                                                         \n",
      "ENST00000372967.3  95.297806  47.761192  47.163120  47.368423   99.425285   \n",
      "ENST00000372969.7   4.702194  52.238804  52.836876  52.631580    0.574713   \n",
      "\n",
      "                   ...    hmec_6h   huvec_0h   huvec_2h   huvec_6h   imr90_0h  \\\n",
      "tid                ...                                                          \n",
      "ENST00000372967.3  ...  81.638222  88.520409  84.146339  86.836937  46.733669   \n",
      "ENST00000372969.7  ...  18.361774  11.479591  15.853659  13.163064  53.266335   \n",
      "\n",
      "                    imr90_2h   imr90_6h    k562_0h    k562_2h    k562_6h  \n",
      "tid                                                                       \n",
      "ENST00000372967.3  45.652176  51.895046  47.204353  47.545788  53.174603  \n",
      "ENST00000372969.7  54.347824  48.104958  52.795647  52.454216  46.825397  \n",
      "\n",
      "[2 rows x 30 columns]\n",
      "\n",
      "Plotting transcripts for ENSG00000168653.10\n",
      "Saving transcript path graph for ENST00000372967.3 as figures/ndufs5_cell_line_tpm_browser_ENST00000372967.3_path.png\n",
      "Saving transcript path graph for ENST00000372969.7 as figures/ndufs5_cell_line_tpm_browser_ENST00000372969.7_path.png\n",
      "Generating report for ENSG00000168653.10\n"
     ]
    }
   ],
   "source": [
    "sg.gen_report('NDUFS5',\n",
    "              prefix='figures/ndufs5_cell_line_tpm',\n",
    "              layer='pi',\n",
    "              cmap='magma',\n",
    "              novelty=True,\n",
    "              transcript_col='tname',\n",
    "              metadata_cols=['sample', 'timepoint'],\n",
    "              browser=True)"
   ]
  },
  {
   "cell_type": "code",
   "execution_count": 23,
   "id": "58d8cfb0-2663-49a5-84d9-050d93722963",
   "metadata": {
    "collapsed": true,
    "jupyter": {
     "outputs_hidden": true
    },
    "tags": []
   },
   "outputs": [
    {
     "name": "stdout",
     "output_type": "stream",
     "text": [
      "                     a673_0h   a673_2h    a673_6h   caco2_0h   caco2_2h  \\\n",
      "tid                                                                       \n",
      "ENST00000372967.3  48.762375  45.50898  53.465347  98.496239  98.165138   \n",
      "ENST00000372969.7  51.237625  54.49102  46.534653   1.503759   1.834862   \n",
      "\n",
      "                    caco2_6h   calu3_0h   calu3_2h   calu3_6h  gm12878_0h  \\\n",
      "tid                                                                         \n",
      "ENST00000372967.3  95.297806  47.761192  47.163120  47.368423   99.425285   \n",
      "ENST00000372969.7   4.702194  52.238804  52.836876  52.631580    0.574713   \n",
      "\n",
      "                   ...    hmec_6h   huvec_0h   huvec_2h   huvec_6h   imr90_0h  \\\n",
      "tid                ...                                                          \n",
      "ENST00000372967.3  ...  81.638222  88.520409  84.146339  86.836937  46.733669   \n",
      "ENST00000372969.7  ...  18.361774  11.479591  15.853659  13.163064  53.266335   \n",
      "\n",
      "                    imr90_2h   imr90_6h    k562_0h    k562_2h    k562_6h  \n",
      "tid                                                                       \n",
      "ENST00000372967.3  45.652176  51.895046  47.204353  47.545788  53.174603  \n",
      "ENST00000372969.7  54.347824  48.104958  52.795647  52.454216  46.825397  \n",
      "\n",
      "[2 rows x 30 columns]\n",
      "\n",
      "Plotting transcripts for ENSG00000168653.10\n",
      "Saving transcript path graph for ENST00000372967.3 as figures/ndufs5_cell_line_tpm_ENST00000372967.3_path.png\n",
      "Saving transcript path graph for ENST00000372969.7 as figures/ndufs5_cell_line_tpm_ENST00000372969.7_path.png\n",
      "Generating report for ENSG00000168653.10\n"
     ]
    }
   ],
   "source": [
    "sg.gen_report('NDUFS5',\n",
    "              prefix='figures/ndufs5_cell_line_tpm',\n",
    "              layer='pi',\n",
    "              cmap='magma',\n",
    "              novelty=True,\n",
    "              transcript_col='tname',\n",
    "              metadata_cols=['sample', 'timepoint'])"
   ]
  },
  {
   "cell_type": "code",
   "execution_count": 86,
   "id": "33daa121-6003-4a0b-a5de-7ccf71d9a066",
   "metadata": {
    "collapsed": true,
    "jupyter": {
     "outputs_hidden": true
    },
    "tags": []
   },
   "outputs": [
    {
     "name": "stdout",
     "output_type": "stream",
     "text": [
      "                     a673_0h    a673_2h    a673_6h   caco2_0h   caco2_2h  \\\n",
      "tid                                                                        \n",
      "ENCODEHT001061373  59.925556  43.631557  75.961533  58.241760  34.095745   \n",
      "ENCODEHT001061382   4.342432  13.177611   2.911325   8.669109  20.265957   \n",
      "ENST00000392179.4  13.523573  19.479946   4.273504   0.000000  12.340425   \n",
      "ENST00000496133.5   2.357320   7.227854   7.665598   4.517704   8.989362   \n",
      "ENST00000478866.5   1.861042   3.657999   1.869658   5.982906  11.595745   \n",
      "\n",
      "                    caco2_6h   calu3_0h   calu3_2h   calu3_6h  gm12878_0h  \\\n",
      "tid                                                                         \n",
      "ENCODEHT001061373  67.552406  35.175880  34.302326  73.837639   68.875740   \n",
      "ENCODEHT001061382   4.605846   0.000000  19.694767   6.383764    8.402367   \n",
      "ENST00000392179.4   4.517272   0.000000   9.520349   0.000000    0.000000   \n",
      "ENST00000496133.5   6.879244   0.000000   2.252907   3.911439    4.852071   \n",
      "ENST00000478866.5   3.602008   5.276382   9.520349   1.992620    0.710059   \n",
      "\n",
      "                   ...    hmec_6h   huvec_0h   huvec_2h   huvec_6h   imr90_0h  \\\n",
      "tid                ...                                                          \n",
      "ENCODEHT001061373  ...  46.634613  44.703392   0.105876  77.478584  56.746029   \n",
      "ENCODEHT001061382  ...  20.295330  15.042374  31.074642   4.895961  11.309524   \n",
      "ENST00000392179.4  ...   0.000000   0.000000   8.099524   0.000000   8.531746   \n",
      "ENST00000496133.5  ...   9.271977   0.423729   6.087877   0.000000   7.738095   \n",
      "ENST00000478866.5  ...   1.923077   0.000000  14.452091   2.227662   3.769841   \n",
      "\n",
      "                    imr90_2h   imr90_6h    k562_0h    k562_2h    k562_6h  \n",
      "tid                                                                       \n",
      "ENCODEHT001061373  11.869031  51.373184  68.106308  19.733334   0.000000  \n",
      "ENCODEHT001061382  25.784449   8.966074   7.242525  33.973331  36.958118  \n",
      "ENST00000392179.4  29.467941  10.500808   0.000000   0.000000   9.037473  \n",
      "ENST00000496133.5   9.276944  11.147011   0.000000   9.493333   8.082293  \n",
      "ENST00000478866.5  10.095498   1.130856   2.657807   8.266666  10.066128  \n",
      "\n",
      "[5 rows x 30 columns]\n",
      "\n",
      "Plotting transcripts for ENSG00000158864.12\n",
      "Saving transcript path graph for ENCODEHT001061373 as figures/ndufs2_cell_line_tpm_browser_ENCODEHT001061373_path.png\n",
      "Saving transcript path graph for ENCODEHT001061382 as figures/ndufs2_cell_line_tpm_browser_ENCODEHT001061382_path.png\n",
      "Saving transcript path graph for ENST00000392179.4 as figures/ndufs2_cell_line_tpm_browser_ENST00000392179.4_path.png\n",
      "Saving transcript path graph for ENST00000496133.5 as figures/ndufs2_cell_line_tpm_browser_ENST00000496133.5_path.png\n",
      "Saving transcript path graph for ENST00000478866.5 as figures/ndufs2_cell_line_tpm_browser_ENST00000478866.5_path.png\n",
      "Saving transcript path graph for ENCODEHT001061399 as figures/ndufs2_cell_line_tpm_browser_ENCODEHT001061399_path.png\n",
      "Saving transcript path graph for ENST00000480762.5 as figures/ndufs2_cell_line_tpm_browser_ENST00000480762.5_path.png\n",
      "Saving transcript path graph for ENST00000465923.5 as figures/ndufs2_cell_line_tpm_browser_ENST00000465923.5_path.png\n",
      "Saving transcript path graph for ENCODEHT001061414 as figures/ndufs2_cell_line_tpm_browser_ENCODEHT001061414_path.png\n",
      "Saving transcript path graph for ENST00000493849.5 as figures/ndufs2_cell_line_tpm_browser_ENST00000493849.5_path.png\n",
      "Saving transcript path graph for ENST00000367993.7 as figures/ndufs2_cell_line_tpm_browser_ENST00000367993.7_path.png\n",
      "Saving transcript path graph for ENST00000473321.1 as figures/ndufs2_cell_line_tpm_browser_ENST00000473321.1_path.png\n",
      "Saving transcript path graph for ENST00000467295.5 as figures/ndufs2_cell_line_tpm_browser_ENST00000467295.5_path.png\n",
      "Saving transcript path graph for ENCODEHT001061394 as figures/ndufs2_cell_line_tpm_browser_ENCODEHT001061394_path.png\n",
      "Saving transcript path graph for ENCODEHT001061385 as figures/ndufs2_cell_line_tpm_browser_ENCODEHT001061385_path.png\n",
      "Saving transcript path graph for ENST00000483804.5 as figures/ndufs2_cell_line_tpm_browser_ENST00000483804.5_path.png\n",
      "Saving transcript path graph for ENCODEHT001061381 as figures/ndufs2_cell_line_tpm_browser_ENCODEHT001061381_path.png\n",
      "Saving transcript path graph for ENST00000475570.1 as figures/ndufs2_cell_line_tpm_browser_ENST00000475570.1_path.png\n",
      "Saving transcript path graph for ENST00000496553.5 as figures/ndufs2_cell_line_tpm_browser_ENST00000496553.5_path.png\n",
      "Saving transcript path graph for ENST00000468828.5 as figures/ndufs2_cell_line_tpm_browser_ENST00000468828.5_path.png\n",
      "Saving transcript path graph for ENST00000492153.1 as figures/ndufs2_cell_line_tpm_browser_ENST00000492153.1_path.png\n",
      "Saving transcript path graph for ENCODEHT003207248 as figures/ndufs2_cell_line_tpm_browser_ENCODEHT003207248_path.png\n",
      "Saving transcript path graph for ENST00000479948.5 as figures/ndufs2_cell_line_tpm_browser_ENST00000479948.5_path.png\n",
      "Generating report for ENSG00000158864.12\n"
     ]
    }
   ],
   "source": [
    "sg.gen_report('NDUFS2',\n",
    "              prefix='figures/ndufs2_cell_line_tpm',\n",
    "              layer='pi',\n",
    "              cmap='magma',\n",
    "              novelty=True,\n",
    "              transcript_col='tid',\n",
    "              metadata_cols=['sample', 'timepoint'],\n",
    "              browser=True)"
   ]
  },
  {
   "cell_type": "code",
   "execution_count": 4,
   "id": "d8710d22-4b7f-496c-9404-3680348774a4",
   "metadata": {
    "collapsed": true,
    "jupyter": {
     "outputs_hidden": true
    },
    "tags": []
   },
   "outputs": [
    {
     "name": "stdout",
     "output_type": "stream",
     "text": [
      "\n",
      "Plotting transcripts for ENSG00000012048.21\n",
      "Saving transcript path graph for ENST00000357654.8 as figures/brca1_cell_line_tpm_browser_ENST00000357654.8_path.png\n",
      "Saving transcript path graph for ENST00000354071.7 as figures/brca1_cell_line_tpm_browser_ENST00000354071.7_path.png\n",
      "Saving transcript path graph for ENST00000461221.5 as figures/brca1_cell_line_tpm_browser_ENST00000461221.5_path.png\n",
      "Saving transcript path graph for ENST00000618469.1 as figures/brca1_cell_line_tpm_browser_ENST00000618469.1_path.png\n",
      "Saving transcript path graph for ENST00000634433.1 as figures/brca1_cell_line_tpm_browser_ENST00000634433.1_path.png\n",
      "Saving transcript path graph for ENST00000493795.5 as figures/brca1_cell_line_tpm_browser_ENST00000493795.5_path.png\n",
      "Saving transcript path graph for ENST00000468300.5 as figures/brca1_cell_line_tpm_browser_ENST00000468300.5_path.png\n",
      "Saving transcript path graph for ENST00000491747.6 as figures/brca1_cell_line_tpm_browser_ENST00000491747.6_path.png\n",
      "Saving transcript path graph for ENST00000478531.5 as figures/brca1_cell_line_tpm_browser_ENST00000478531.5_path.png\n",
      "Saving transcript path graph for ENST00000471181.7 as figures/brca1_cell_line_tpm_browser_ENST00000471181.7_path.png\n",
      "Saving transcript path graph for ENST00000644379.1 as figures/brca1_cell_line_tpm_browser_ENST00000644379.1_path.png\n",
      "Saving transcript path graph for ENST00000461574.1 as figures/brca1_cell_line_tpm_browser_ENST00000461574.1_path.png\n",
      "Saving transcript path graph for ENST00000472490.1 as figures/brca1_cell_line_tpm_browser_ENST00000472490.1_path.png\n",
      "Saving transcript path graph for ENST00000477152.5 as figures/brca1_cell_line_tpm_browser_ENST00000477152.5_path.png\n",
      "Saving transcript path graph for ENST00000352993.7 as figures/brca1_cell_line_tpm_browser_ENST00000352993.7_path.png\n",
      "Saving transcript path graph for ENST00000461798.5 as figures/brca1_cell_line_tpm_browser_ENST00000461798.5_path.png\n",
      "Saving transcript path graph for ENST00000473961.5 as figures/brca1_cell_line_tpm_browser_ENST00000473961.5_path.png\n",
      "Saving transcript path graph for ENST00000476777.5 as figures/brca1_cell_line_tpm_browser_ENST00000476777.5_path.png\n",
      "Saving transcript path graph for ENST00000487825.5 as figures/brca1_cell_line_tpm_browser_ENST00000487825.5_path.png\n",
      "Saving transcript path graph for ENST00000412061.3 as figures/brca1_cell_line_tpm_browser_ENST00000412061.3_path.png\n",
      "Saving transcript path graph for ENST00000484087.5 as figures/brca1_cell_line_tpm_browser_ENST00000484087.5_path.png\n",
      "Saving transcript path graph for ENST00000586385.5 as figures/brca1_cell_line_tpm_browser_ENST00000586385.5_path.png\n",
      "Saving transcript path graph for ENST00000470026.5 as figures/brca1_cell_line_tpm_browser_ENST00000470026.5_path.png\n",
      "Saving transcript path graph for ENST00000492859.5 as figures/brca1_cell_line_tpm_browser_ENST00000492859.5_path.png\n",
      "Saving transcript path graph for ENST00000493919.5 as figures/brca1_cell_line_tpm_browser_ENST00000493919.5_path.png\n",
      "Saving transcript path graph for ENST00000591534.5 as figures/brca1_cell_line_tpm_browser_ENST00000591534.5_path.png\n",
      "Saving transcript path graph for ENST00000591849.5 as figures/brca1_cell_line_tpm_browser_ENST00000591849.5_path.png\n",
      "Saving transcript path graph for ENST00000494123.5 as figures/brca1_cell_line_tpm_browser_ENST00000494123.5_path.png\n",
      "Saving transcript path graph for ENST00000644555.1 as figures/brca1_cell_line_tpm_browser_ENST00000644555.1_path.png\n",
      "Saving transcript path graph for ENST00000621897.1 as figures/brca1_cell_line_tpm_browser_ENST00000621897.1_path.png\n",
      "Saving transcript path graph for ENST00000642945.1 as figures/brca1_cell_line_tpm_browser_ENST00000642945.1_path.png\n",
      "Generating report for ENSG00000012048.21\n"
     ]
    }
   ],
   "source": [
    "sg.gen_report('BRCA1',\n",
    "              prefix='figures/brca1_cell_line_tpm',\n",
    "              layer='pi',\n",
    "              cmap='magma',\n",
    "              novelty=True,\n",
    "              transcript_col='tname',\n",
    "              metadata_cols=['sample', 'timepoint'],\n",
    "              browser=True)"
   ]
  },
  {
   "cell_type": "markdown",
   "id": "f27ef820-f994-4b8e-87f2-a0afb9e5b993",
   "metadata": {},
   "source": [
    "## Get corresponding long read data pi values"
   ]
  },
  {
   "cell_type": "code",
   "execution_count": 24,
   "id": "408d6e68-e6b6-46e2-9fdb-6a0e4b347b17",
   "metadata": {},
   "outputs": [
    {
     "name": "stdout",
     "output_type": "stream",
     "text": [
      "Read in graph from ../../lr_bulk/swan/swan.p\n"
     ]
    }
   ],
   "source": [
    "sg = swan.read('../../lr_bulk/swan/swan.p')"
   ]
  },
  {
   "cell_type": "code",
   "execution_count": 29,
   "id": "36290292-8087-4378-9878-cfbb86a207d1",
   "metadata": {},
   "outputs": [],
   "source": [
    "datasets = pd.read_csv('../ljungman_datasets.tsv', header=None, names=['dataset'])"
   ]
  },
  {
   "cell_type": "code",
   "execution_count": 30,
   "id": "abda3ee3-c85c-43f7-bc1a-743367983c49",
   "metadata": {},
   "outputs": [
    {
     "name": "stderr",
     "output_type": "stream",
     "text": [
      "/Users/fairliereese/miniconda3/lib/python3.7/site-packages/swan_vis/utils.py:408: PerformanceWarning: DataFrame is highly fragmented.  This is usually the result of calling `frame.insert` many times, which has poor performance.  Consider joining all columns at once using pd.concat(axis=1) instead.  To get a de-fragmented frame, use `newframe = frame.copy()`\n",
      "  df.reset_index(inplace=True)\n"
     ]
    }
   ],
   "source": [
    "df, _ = swan.calc_pi(sg.adata, sg.t_df) "
   ]
  },
  {
   "cell_type": "code",
   "execution_count": 33,
   "id": "63901abb-2051-4672-b89a-7fb4a76af27a",
   "metadata": {},
   "outputs": [],
   "source": [
    "df.fillna(0, inplace=True)"
   ]
  },
  {
   "cell_type": "code",
   "execution_count": 34,
   "id": "b087bd9b-e9e0-4dad-bc4f-7e319db3bee7",
   "metadata": {},
   "outputs": [
    {
     "data": {
      "text/html": [
       "<div>\n",
       "<style scoped>\n",
       "    .dataframe tbody tr th:only-of-type {\n",
       "        vertical-align: middle;\n",
       "    }\n",
       "\n",
       "    .dataframe tbody tr th {\n",
       "        vertical-align: top;\n",
       "    }\n",
       "\n",
       "    .dataframe thead th {\n",
       "        text-align: right;\n",
       "    }\n",
       "</style>\n",
       "<table border=\"1\" class=\"dataframe\">\n",
       "  <thead>\n",
       "    <tr style=\"text-align: right;\">\n",
       "      <th>tid</th>\n",
       "      <th>ENST00000619216.1</th>\n",
       "      <th>ENST00000469289.1</th>\n",
       "      <th>ENST00000417324.1</th>\n",
       "      <th>ENST00000461467.1</th>\n",
       "      <th>ENST00000453576.2</th>\n",
       "      <th>ENST00000442987.3</th>\n",
       "      <th>ENST00000494149.2</th>\n",
       "      <th>ENST00000410691.1</th>\n",
       "      <th>ENST00000623083.4</th>\n",
       "      <th>ENST00000450734.1</th>\n",
       "      <th>...</th>\n",
       "      <th>ENCODEHT005112837</th>\n",
       "      <th>ENCODEHT005112880</th>\n",
       "      <th>ENCODEHT005112885</th>\n",
       "      <th>ENCODEHT005112887</th>\n",
       "      <th>ENCODEHT005119645</th>\n",
       "      <th>ENCODEHT005119762</th>\n",
       "      <th>ENCODEHT005127235</th>\n",
       "      <th>ENCODEHT005127238</th>\n",
       "      <th>ENCODEHT005148946</th>\n",
       "      <th>ENCODEHT005149625</th>\n",
       "    </tr>\n",
       "  </thead>\n",
       "  <tbody>\n",
       "    <tr>\n",
       "      <th>gm12878_1_1</th>\n",
       "      <td>0.0</td>\n",
       "      <td>0.0</td>\n",
       "      <td>0.0</td>\n",
       "      <td>0.0</td>\n",
       "      <td>0.0</td>\n",
       "      <td>0.0</td>\n",
       "      <td>0.0</td>\n",
       "      <td>0.0</td>\n",
       "      <td>55.000000</td>\n",
       "      <td>0.0</td>\n",
       "      <td>...</td>\n",
       "      <td>0.0</td>\n",
       "      <td>0.0</td>\n",
       "      <td>0.0</td>\n",
       "      <td>0.0</td>\n",
       "      <td>0.0</td>\n",
       "      <td>0.0</td>\n",
       "      <td>0.0</td>\n",
       "      <td>0.0</td>\n",
       "      <td>0.0</td>\n",
       "      <td>0.0</td>\n",
       "    </tr>\n",
       "    <tr>\n",
       "      <th>gm12878_1_2</th>\n",
       "      <td>0.0</td>\n",
       "      <td>0.0</td>\n",
       "      <td>0.0</td>\n",
       "      <td>0.0</td>\n",
       "      <td>0.0</td>\n",
       "      <td>0.0</td>\n",
       "      <td>0.0</td>\n",
       "      <td>0.0</td>\n",
       "      <td>20.000000</td>\n",
       "      <td>0.0</td>\n",
       "      <td>...</td>\n",
       "      <td>0.0</td>\n",
       "      <td>0.0</td>\n",
       "      <td>0.0</td>\n",
       "      <td>0.0</td>\n",
       "      <td>0.0</td>\n",
       "      <td>0.0</td>\n",
       "      <td>0.0</td>\n",
       "      <td>0.0</td>\n",
       "      <td>0.0</td>\n",
       "      <td>0.0</td>\n",
       "    </tr>\n",
       "    <tr>\n",
       "      <th>gm12878_1_3</th>\n",
       "      <td>0.0</td>\n",
       "      <td>0.0</td>\n",
       "      <td>0.0</td>\n",
       "      <td>0.0</td>\n",
       "      <td>0.0</td>\n",
       "      <td>0.0</td>\n",
       "      <td>0.0</td>\n",
       "      <td>0.0</td>\n",
       "      <td>100.000000</td>\n",
       "      <td>0.0</td>\n",
       "      <td>...</td>\n",
       "      <td>0.0</td>\n",
       "      <td>0.0</td>\n",
       "      <td>0.0</td>\n",
       "      <td>0.0</td>\n",
       "      <td>0.0</td>\n",
       "      <td>0.0</td>\n",
       "      <td>0.0</td>\n",
       "      <td>0.0</td>\n",
       "      <td>0.0</td>\n",
       "      <td>0.0</td>\n",
       "    </tr>\n",
       "    <tr>\n",
       "      <th>gm12878_1_4</th>\n",
       "      <td>0.0</td>\n",
       "      <td>0.0</td>\n",
       "      <td>0.0</td>\n",
       "      <td>0.0</td>\n",
       "      <td>0.0</td>\n",
       "      <td>0.0</td>\n",
       "      <td>0.0</td>\n",
       "      <td>0.0</td>\n",
       "      <td>50.000000</td>\n",
       "      <td>0.0</td>\n",
       "      <td>...</td>\n",
       "      <td>0.0</td>\n",
       "      <td>0.0</td>\n",
       "      <td>0.0</td>\n",
       "      <td>0.0</td>\n",
       "      <td>0.0</td>\n",
       "      <td>0.0</td>\n",
       "      <td>0.0</td>\n",
       "      <td>0.0</td>\n",
       "      <td>0.0</td>\n",
       "      <td>0.0</td>\n",
       "    </tr>\n",
       "    <tr>\n",
       "      <th>gm12878_3_1</th>\n",
       "      <td>0.0</td>\n",
       "      <td>0.0</td>\n",
       "      <td>0.0</td>\n",
       "      <td>0.0</td>\n",
       "      <td>0.0</td>\n",
       "      <td>0.0</td>\n",
       "      <td>0.0</td>\n",
       "      <td>0.0</td>\n",
       "      <td>18.181818</td>\n",
       "      <td>0.0</td>\n",
       "      <td>...</td>\n",
       "      <td>0.0</td>\n",
       "      <td>0.0</td>\n",
       "      <td>0.0</td>\n",
       "      <td>0.0</td>\n",
       "      <td>0.0</td>\n",
       "      <td>0.0</td>\n",
       "      <td>0.0</td>\n",
       "      <td>0.0</td>\n",
       "      <td>0.0</td>\n",
       "      <td>0.0</td>\n",
       "    </tr>\n",
       "  </tbody>\n",
       "</table>\n",
       "<p>5 rows × 132055 columns</p>\n",
       "</div>"
      ],
      "text/plain": [
       "tid          ENST00000619216.1  ENST00000469289.1  ENST00000417324.1  \\\n",
       "gm12878_1_1                0.0                0.0                0.0   \n",
       "gm12878_1_2                0.0                0.0                0.0   \n",
       "gm12878_1_3                0.0                0.0                0.0   \n",
       "gm12878_1_4                0.0                0.0                0.0   \n",
       "gm12878_3_1                0.0                0.0                0.0   \n",
       "\n",
       "tid          ENST00000461467.1  ENST00000453576.2  ENST00000442987.3  \\\n",
       "gm12878_1_1                0.0                0.0                0.0   \n",
       "gm12878_1_2                0.0                0.0                0.0   \n",
       "gm12878_1_3                0.0                0.0                0.0   \n",
       "gm12878_1_4                0.0                0.0                0.0   \n",
       "gm12878_3_1                0.0                0.0                0.0   \n",
       "\n",
       "tid          ENST00000494149.2  ENST00000410691.1  ENST00000623083.4  \\\n",
       "gm12878_1_1                0.0                0.0          55.000000   \n",
       "gm12878_1_2                0.0                0.0          20.000000   \n",
       "gm12878_1_3                0.0                0.0         100.000000   \n",
       "gm12878_1_4                0.0                0.0          50.000000   \n",
       "gm12878_3_1                0.0                0.0          18.181818   \n",
       "\n",
       "tid          ENST00000450734.1  ...  ENCODEHT005112837  ENCODEHT005112880  \\\n",
       "gm12878_1_1                0.0  ...                0.0                0.0   \n",
       "gm12878_1_2                0.0  ...                0.0                0.0   \n",
       "gm12878_1_3                0.0  ...                0.0                0.0   \n",
       "gm12878_1_4                0.0  ...                0.0                0.0   \n",
       "gm12878_3_1                0.0  ...                0.0                0.0   \n",
       "\n",
       "tid          ENCODEHT005112885  ENCODEHT005112887  ENCODEHT005119645  \\\n",
       "gm12878_1_1                0.0                0.0                0.0   \n",
       "gm12878_1_2                0.0                0.0                0.0   \n",
       "gm12878_1_3                0.0                0.0                0.0   \n",
       "gm12878_1_4                0.0                0.0                0.0   \n",
       "gm12878_3_1                0.0                0.0                0.0   \n",
       "\n",
       "tid          ENCODEHT005119762  ENCODEHT005127235  ENCODEHT005127238  \\\n",
       "gm12878_1_1                0.0                0.0                0.0   \n",
       "gm12878_1_2                0.0                0.0                0.0   \n",
       "gm12878_1_3                0.0                0.0                0.0   \n",
       "gm12878_1_4                0.0                0.0                0.0   \n",
       "gm12878_3_1                0.0                0.0                0.0   \n",
       "\n",
       "tid          ENCODEHT005148946  ENCODEHT005149625  \n",
       "gm12878_1_1                0.0                0.0  \n",
       "gm12878_1_2                0.0                0.0  \n",
       "gm12878_1_3                0.0                0.0  \n",
       "gm12878_1_4                0.0                0.0  \n",
       "gm12878_3_1                0.0                0.0  \n",
       "\n",
       "[5 rows x 132055 columns]"
      ]
     },
     "execution_count": 34,
     "metadata": {},
     "output_type": "execute_result"
    }
   ],
   "source": [
    "df.head()"
   ]
  },
  {
   "cell_type": "code",
   "execution_count": 37,
   "id": "eb0ed75a-d3b3-4a30-b540-f66d27e6d499",
   "metadata": {},
   "outputs": [],
   "source": [
    "# limit to datasets that match deeply profiled cell ines\n",
    "df = df.loc[datasets.dataset.tolist()]"
   ]
  },
  {
   "cell_type": "code",
   "execution_count": 41,
   "id": "6e5c28bd-9533-4b76-ae61-ee71289f2d58",
   "metadata": {},
   "outputs": [],
   "source": [
    "df = df.transpose()"
   ]
  },
  {
   "cell_type": "code",
   "execution_count": 43,
   "id": "0fedf2bd-1d68-4d67-bd9d-8ec1eb5f23de",
   "metadata": {},
   "outputs": [],
   "source": [
    "df.reset_index(inplace=True)"
   ]
  },
  {
   "cell_type": "code",
   "execution_count": 45,
   "id": "0ae03eb2-f2cd-412c-a855-eafe11e4e368",
   "metadata": {},
   "outputs": [],
   "source": [
    "df.to_csv('lr_bulk_pi.tsv', sep='\\t', index=False)"
   ]
  },
  {
   "cell_type": "markdown",
   "id": "3b05119a-a561-4a78-9387-848fb7efcc4d",
   "metadata": {},
   "source": [
    "## Get exon / intron information for each transcript"
   ]
  },
  {
   "cell_type": "code",
   "execution_count": 46,
   "id": "488d8531-f501-4ab9-9100-c3ac7d23926e",
   "metadata": {},
   "outputs": [],
   "source": [
    "gtf = '../ljungman_known_nic_nnc_talon.gtf'"
   ]
  },
  {
   "cell_type": "code",
   "execution_count": 47,
   "id": "66bc4c7c-2f40-4250-abd0-751309cf42c6",
   "metadata": {},
   "outputs": [],
   "source": [
    "df = pr.read_gtf(gtf)"
   ]
  },
  {
   "cell_type": "code",
   "execution_count": 72,
   "id": "cb375ff4-1b89-46bb-bb35-2e9d1d3fa77f",
   "metadata": {},
   "outputs": [
    {
     "name": "stderr",
     "output_type": "stream",
     "text": [
      "/Users/fairliereese/miniconda3/lib/python3.7/site-packages/pandas/core/arrays/categorical.py:2631: FutureWarning: The `inplace` parameter in pandas.Categorical.add_categories is deprecated and will be removed in a future version. Removing unused categories will always return a new Categorical object.\n",
      "  res = method(*args, **kwargs)\n"
     ]
    }
   ],
   "source": [
    "e_dfs = [df.df.loc[df.df.Feature == 'exon'].copy(deep=True),\n",
    "         df.features.introns(by='transcript').df.copy(deep=True)]\n",
    "edge_df = pd.DataFrame()\n",
    "for e_df in e_dfs:\n",
    "    e_df = e_df[['Chromosome', 'Start', 'End', 'Score',\n",
    "                 'Strand', 'Feature', 'transcript_id']]\n",
    "    e_df['Name'] = e_df.transcript_id.astype(str)+'_'+e_df.Feature.astype(str)\n",
    "    # e_df.drop('transcript_id', 'Feature')\n",
    "    edge_df = pd.concat([edge_df, e_df])\n",
    "\n",
    "# edge_df = pr.PyRanges(edge_df)"
   ]
  },
  {
   "cell_type": "code",
   "execution_count": 73,
   "id": "b8582c7b-0e63-42ce-975f-c53d038b7182",
   "metadata": {},
   "outputs": [],
   "source": [
    "# sort based on coordinates\n",
    "fwd = edge_df.loc[edge_df.Strand == '+'].copy(deep=True)\n",
    "rev = edge_df.loc[edge_df.Strand == '-'].copy(deep=True)\n",
    "fwd = fwd.sort_values(by=['transcript_id', 'Start'], ascending=[True, True])\n",
    "rev = rev.sort_values(by=['transcript_id', 'Start'], ascending=[True, False])"
   ]
  },
  {
   "cell_type": "code",
   "execution_count": 75,
   "id": "2c35c687-723b-4a96-968a-d418168074a7",
   "metadata": {},
   "outputs": [],
   "source": [
    "edge_df = pd.concat([fwd, rev])"
   ]
  },
  {
   "cell_type": "code",
   "execution_count": 76,
   "id": "3da21edc-e729-40d6-983f-05799e5abc0a",
   "metadata": {},
   "outputs": [],
   "source": [
    "# temp = df.features.introns(by='transcript').df"
   ]
  },
  {
   "cell_type": "code",
   "execution_count": 77,
   "id": "320aa3e5-3f9c-4e86-a6ea-7460394323b5",
   "metadata": {},
   "outputs": [],
   "source": [
    "# len(temp.index)"
   ]
  },
  {
   "cell_type": "code",
   "execution_count": 78,
   "id": "05edd187-b465-416d-bed2-6e76ccdd182b",
   "metadata": {},
   "outputs": [],
   "source": [
    "# temp.transcript_id.head()"
   ]
  },
  {
   "cell_type": "code",
   "execution_count": 79,
   "id": "58dc57c7-93dd-49b9-8b86-f849cff51640",
   "metadata": {},
   "outputs": [],
   "source": [
    "# len(df.df.loc[df.df.Feature == 'exon'].index)"
   ]
  },
  {
   "cell_type": "code",
   "execution_count": 80,
   "id": "10624ea5-820b-460d-bc6b-18ff803a0fc2",
   "metadata": {},
   "outputs": [],
   "source": [
    "# formatting\n",
    "edge_df.drop(['transcript_id', 'Feature'], axis=1, inplace=True)\n",
    "edge_df = pr.PyRanges(edge_df)\n",
    "edge_df.to_bed('intron_exon.bed')"
   ]
  },
  {
   "cell_type": "code",
   "execution_count": null,
   "id": "d1caf72e-d2cb-4de4-82b1-2ede3ced9fab",
   "metadata": {},
   "outputs": [],
   "source": []
  }
 ],
 "metadata": {
  "kernelspec": {
   "display_name": "Python 3",
   "language": "python",
   "name": "python3"
  },
  "language_info": {
   "codemirror_mode": {
    "name": "ipython",
    "version": 3
   },
   "file_extension": ".py",
   "mimetype": "text/x-python",
   "name": "python",
   "nbconvert_exporter": "python",
   "pygments_lexer": "ipython3",
   "version": "3.7.4"
  }
 },
 "nbformat": 4,
 "nbformat_minor": 5
}
