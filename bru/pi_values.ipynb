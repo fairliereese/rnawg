{
 "cells": [
  {
   "cell_type": "code",
   "execution_count": 1,
   "id": "097f1531-f8d8-4f54-b567-18b217bad310",
   "metadata": {},
   "outputs": [],
   "source": [
    "import pandas as pd\n",
    "import numpy as np\n",
    "import scipy.stats as st\n",
    "import seaborn as sns\n",
    "import sys\n",
    "import os\n",
    "import gseapy as gp\n",
    "import pdb\n",
    "import copy\n",
    "from scipy import sparse\n",
    "import anndata\n",
    "import cerberus\n",
    "import plotly.io as pio\n",
    "\n",
    "\n",
    "p = os.path.dirname(os.getcwd())\n",
    "sys.path.append(p)\n",
    "\n",
    "from scripts.utils import *\n",
    "from scripts.plotting import *"
   ]
  },
  {
   "cell_type": "code",
   "execution_count": 3,
   "id": "a436752d-0e1e-4188-a830-8ecafdcbc00d",
   "metadata": {},
   "outputs": [],
   "source": [
    "swan_file = '../lr_bulk/cerberus/swan/swan.p'\n",
    "c_annot = '../lr_bulk/cerberus/cerberus_annot.h5'"
   ]
  },
  {
   "cell_type": "code",
   "execution_count": 60,
   "id": "e8e9414a-520b-4f19-96ae-63f0ba683688",
   "metadata": {},
   "outputs": [],
   "source": [
    "# parameters\n",
    "obs_col = 'sample'\n",
    "obs_conds = list(set(get_sample_datasets('ljungman')))\n",
    "obs_conds = sg.adata.obs.loc[obs_conds, obs_col].tolist()\n",
    "sources = ['v29', 'v40']"
   ]
  },
  {
   "cell_type": "code",
   "execution_count": 4,
   "id": "a53215b9-bf66-4e26-bf90-74b0d26f2973",
   "metadata": {},
   "outputs": [
    {
     "name": "stdout",
     "output_type": "stream",
     "text": [
      "Read in graph from ../lr_bulk/cerberus/swan/swan.p\n"
     ]
    }
   ],
   "source": [
    "sg = swan.read(swan_file)"
   ]
  },
  {
   "cell_type": "code",
   "execution_count": 21,
   "id": "989b158d-bc90-4e2e-aa14-86c6629690c9",
   "metadata": {},
   "outputs": [],
   "source": [
    "ca = cerberus.read(c_annot)"
   ]
  },
  {
   "cell_type": "code",
   "execution_count": 81,
   "id": "48024e7f-617c-444d-b1f2-1bf4d286e206",
   "metadata": {},
   "outputs": [],
   "source": [
    "# get pi table\n",
    "df, _ = swan.calc_pi(sg.adata, sg.t_df, obs_col=obs_col)\n",
    "df = df.sparse.to_dense()\n",
    "df = df.transpose()\n",
    "df = df[obs_conds]\n",
    "df = df.fillna(0)"
   ]
  },
  {
   "cell_type": "code",
   "execution_count": 82,
   "id": "18fd949b-1a2b-4432-be36-8e92e48f126b",
   "metadata": {},
   "outputs": [],
   "source": [
    "# df_back = df.copy(deep=True)"
   ]
  },
  {
   "cell_type": "code",
   "execution_count": 83,
   "id": "fffff654-6915-454b-9d39-ef5bb85a2a57",
   "metadata": {},
   "outputs": [],
   "source": [
    "# df = df_back.copy(deep=True)\n"
   ]
  },
  {
   "cell_type": "code",
   "execution_count": 84,
   "id": "7cf00d12-4b8a-40cc-89ab-43cfe697ff52",
   "metadata": {},
   "outputs": [],
   "source": [
    "# get pi table\n",
    "df, _ = swan.calc_pi(sg.adata, sg.t_df, obs_col=obs_col)\n",
    "df = df.sparse.to_dense()\n",
    "df = df.transpose()\n",
    "df = df[obs_conds]\n",
    "df = df.fillna(0)\n",
    "\n",
    "# get novelty and original tid from gencode sources\n",
    "feats = ['tss', 'ic', 'tes']\n",
    "feat_tables = {'tss': ca.tss, \n",
    "               'ic': ca.ic, \n",
    "               'tes': ca.tes}\n",
    "df.reset_index(inplace=True)\n",
    "for feat in feats:\n",
    "    \n",
    "    # novelty\n",
    "    nov_c = '{}_novelty'.format(feat)\n",
    "    df = add_feat(df, col='tid', kind=feat)\n",
    "    feat_df = feat_tables[feat][['novelty', 'Name']]\n",
    "    feat_df.rename({'novelty': nov_c, 'Name': feat}, axis=1, inplace=True)\n",
    "    df = df.merge(feat_df, how='left', on=feat)\n",
    "\n",
    "df['transcript_novelty'] = 'Novel'\n",
    "df.loc[(df.tss_novelty=='Known')&(df.ic_novelty=='Known')&(df.tes_novelty=='Known'), 'transcript_novelty'] = 'Known'\n",
    "\n",
    "# old tids\n",
    "source_cols = []\n",
    "for source in sources:\n",
    "    tid_df = df[['tid']]\n",
    "    \n",
    "    # get original tids for each source \n",
    "    source_col = '{}_tid'.format(source)\n",
    "    source_cols.append(source)\n",
    "    t_map = ca.t_map.loc[ca.t_map.source==source]\n",
    "    t_map = t_map[['original_transcript_id', 'transcript_id']]\n",
    "    t_map.rename({'transcript_id': 'tid',\n",
    "                  'original_transcript_id': source_col}, axis=1, inplace=True)\n",
    "    tid_df = tid_df.merge(t_map, how='left', on='tid')\n",
    "        \n",
    "    # dedupe and merge back in \n",
    "    tid_df = tid_df.fillna('')\n",
    "    tid_df = tid_df.groupby('tid').agg(','.join).reset_index()\n",
    "    tid_df.loc[tid_df[source_col]=='', source_col] = np.nan\n",
    "    df = df.merge(tid_df, how='left', on='tid')    \n"
   ]
  },
  {
   "cell_type": "code",
   "execution_count": 85,
   "id": "ed7b2f30-4f4a-4a9d-9b3f-8281fe2a3a0d",
   "metadata": {},
   "outputs": [],
   "source": [
    "df_back = df.copy(deep=True)"
   ]
  },
  {
   "cell_type": "code",
   "execution_count": 135,
   "id": "a699f42f-29fa-4850-8903-7d204b1c0bdc",
   "metadata": {},
   "outputs": [],
   "source": [
    "df = df_back.copy(deep=True)"
   ]
  },
  {
   "cell_type": "code",
   "execution_count": 136,
   "id": "cc33372e-e224-49c7-a5c9-161ae078f9bf",
   "metadata": {},
   "outputs": [],
   "source": [
    "# old tids\n",
    "source_cols = []\n",
    "for source in sources:\n",
    "    tid_df = df[['tid']]\n",
    "    \n",
    "    # get original tids for each source \n",
    "    source_col = '{}_tid'.format(source)\n",
    "    source_cols.append(source)\n",
    "    t_map = ca.t_map.loc[ca.t_map.source==source]\n",
    "    t_map = t_map[['original_transcript_id', 'transcript_id']]\n",
    "    t_map.rename({'transcript_id': 'tid',\n",
    "                  'original_transcript_id': source_col}, axis=1, inplace=True)\n",
    "    tid_df = tid_df.merge(t_map, how='left', on='tid')\n",
    "        \n",
    "    # dedupe and merge back in \n",
    "    tid_df = tid_df.fillna('')\n",
    "    tid_df = tid_df.groupby('tid').agg(','.join).reset_index()\n",
    "    tid_df.loc[tid_df[source_col]=='', source_col] = np.nan\n",
    "    df = df.merge(tid_df, how='left', on='tid')    \n"
   ]
  }
 ],
 "metadata": {
  "kernelspec": {
   "display_name": "Python 3",
   "language": "python",
   "name": "python3"
  },
  "language_info": {
   "codemirror_mode": {
    "name": "ipython",
    "version": 3
   },
   "file_extension": ".py",
   "mimetype": "text/x-python",
   "name": "python",
   "nbconvert_exporter": "python",
   "pygments_lexer": "ipython3",
   "version": "3.7.4"
  }
 },
 "nbformat": 4,
 "nbformat_minor": 5
}
