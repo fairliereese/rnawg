{
 "cells": [
  {
   "cell_type": "code",
   "execution_count": null,
   "id": "d3ae097d-55a1-4075-a3b0-67c14dba85c1",
   "metadata": {},
   "outputs": [],
   "source": [
    "import pandas as pd\n",
    "import numpy as np\n",
    "import scipy.stats as st\n",
    "import seaborn as sns\n",
    "import sys\n",
    "import os\n",
    "import gseapy as gp\n",
    "import matplotlib.pyplot as plt\n",
    "import swan_vis as swan\n",
    "\n",
    "p = os.path.dirname(os.path.dirname(os.getcwd()))\n",
    "sys.path.append(p)\n",
    "\n",
    "from scripts.utils import *\n",
    "from scripts.plotting import *\n",
    "\n"
   ]
  },
  {
   "cell_type": "code",
   "execution_count": 2,
   "id": "8688212a-aef0-4dae-b09a-49de978d458f",
   "metadata": {},
   "outputs": [],
   "source": [
    "ab = '../../lr_bulk/talon/human_talon_abundance.tsv'\n",
    "filt_ab = '../../lr_bulk/cerberus/cerberus_filtered_abundance.tsv'\n",
    "read_annot = '../../lr_bulk/talon/human_talon_read_annot.tsv'\n",
    "t_metadata = '../../refs/cerberus/v40_transcript_metadata.tsv'\n",
    "swan_file = '../../lr_bulk/cerberus/swan/swan_meta.p'\n",
    "cerberus_h5 = '../../lr_bulk/cerberus/triplets/cerberus_annot_triplets.h5'\n",
    "major_isos = '../../lr_bulk/cerberus/swan/major_isos.tsv'\n",
    "cerb_t_meta = '../../lr_bulk/cerberus/cerberus_transcript_metadata.tsv'\n",
    "pi_tpm_sample = '../fig_4_sample_major/triplet_sample_pi_tpm.tsv'\n",
    "\n",
    "ver = 'v40_cerberus'\n",
    "\n",
    "min_tpm = 1\n",
    "gene_subset = 'polya'\n",
    "go_gene_subset = 'protein_coding'\n",
    "predom_subset = 'protein_coding'\n",
    "obs_col = 'sample'\n",
    "\n",
    "mouse_ab = '../../mouse/lr_bulk/talon/mouse_talon_abundance.tsv'\n",
    "mouse_filt_ab = '../../mouse/lr_bulk/cerberus/cerberus_filtered_abundance.tsv'\n",
    "mouse_read_annot = '../../mouse/lr_bulk/talon/mouse_talon_read_annot.tsv'\n",
    "mouse_swan_file = '../../mouse/lr_bulk/swan/swan.p'\n",
    "mouse_meta = '../../mouse/lr_bulk/lr_mouse_library_data_summary.tsv'\n",
    "mouse_t_metadata = '../../mouse/refs/cerberus/vM25_transcript_metadata.tsv'\n",
    "mouse_ver = 'vM25_cerberus'\n"
   ]
  },
  {
   "cell_type": "markdown",
   "id": "24fccb0f-79d6-440b-8a6b-e0f1d3a861b0",
   "metadata": {},
   "source": [
    "## What is the expression level of lncRNAs vs. pseudogenes vs. protein coding genes?"
   ]
  },
  {
   "cell_type": "code",
   "execution_count": 3,
   "id": "d411cd17-f305-4d89-a65a-76050f3b1e37",
   "metadata": {},
   "outputs": [],
   "source": [
    "# ca = cerberus.read(cerberus_h5)"
   ]
  },
  {
   "cell_type": "code",
   "execution_count": 4,
   "id": "3be5370d-ac9b-4850-b29c-d2d2cb472db2",
   "metadata": {},
   "outputs": [],
   "source": [
    "# df = ca.triplets.loc[ca.triplets.source=='sample_det']"
   ]
  },
  {
   "cell_type": "code",
   "execution_count": 5,
   "id": "8ea56065-1513-42ee-8dd9-c1252a73b2f9",
   "metadata": {},
   "outputs": [],
   "source": [
    "# gene_df, _, _ = get_gtf_info(how='gene', ver=ver)\n",
    "# gene_df['gid'] = cerberus.get_stable_gid(gene_df, col='gid')\n",
    "# df = df.merge(gene_df[['gid', 'biotype_category']], how='left', on='gid')"
   ]
  },
  {
   "cell_type": "code",
   "execution_count": 6,
   "id": "b9e37855-56d0-4f07-9833-a41ef0c32c11",
   "metadata": {},
   "outputs": [],
   "source": [
    "# c_dict, order = get_talon_nov_colors(cats=['Known'])\n",
    "# c = c_dict['Known']\n",
    "# biotypes = ['protein_coding', 'lncRNA', 'pseudogene']\n",
    "# b_dict = {'protein_coding': 'Protein coding',\n",
    "#           'lncRNA': 'lncRNA',\n",
    "#           'pseudogene': 'Pseudogene'}\n",
    "# c_dict, order = get_shade_colors(c, biotypes)"
   ]
  },
  {
   "cell_type": "code",
   "execution_count": 7,
   "id": "4da99f22-6614-4f22-99c3-28626b97daef",
   "metadata": {},
   "outputs": [],
   "source": [
    "# df.head()"
   ]
  },
  {
   "cell_type": "code",
   "execution_count": 8,
   "id": "88db4aad-8be2-4b35-a53d-1b124779836a",
   "metadata": {},
   "outputs": [],
   "source": [
    "# # for b in df.biotype_category.unique():\n",
    "# #     c = c_dict[b]\n",
    "# #     temp = df.loc[df.biotype_category==b]\n",
    "# #     ax = sns.scatterplot(data=df, x='gene_tpm', y='n_iso')\n",
    "# #     ax.title(b)\n",
    "# #     plt.show()\n",
    "# #     plt.clf()\n",
    "# g = sns.FacetGrid(df, col='biotype_category')\n",
    "# # g.map(sns.scatterplot, 'gene_tpm', 'n_iso', s=10, alpha=0.5)\n",
    "# g.map(sns.histplot, 'gene_tpm', 'n_iso')\n",
    "# g.set(xscale=\"log\", ylim=(0,150))"
   ]
  },
  {
   "cell_type": "code",
   "execution_count": 9,
   "id": "f678b8bb-d9ef-4bc1-8820-a16ba0786e5a",
   "metadata": {},
   "outputs": [],
   "source": [
    "# sns.jointplot(data=df, x='gene_tpm', y='n_iso',\n",
    "#               hue='biotype_category',\n",
    "#               joint_kws={'data':df, 's':10, 'alpha':0.5})"
   ]
  },
  {
   "cell_type": "code",
   "execution_count": 39,
   "id": "67fa9adb-3dde-4765-86bf-0906129b38a4",
   "metadata": {},
   "outputs": [],
   "source": [
    "def plot_exp_v_iso_biotype_boxplot(h5,\n",
    "                                   ver,\n",
    "                                   ofile):\n",
    "    ca = cerberus.read(h5) \n",
    "    \n",
    "    # limit to the sample dets\n",
    "    df = ca.triplets.loc[ca.triplets.source=='sample_det'].copy(deep=True)\n",
    "    \n",
    "    # tpm bins\n",
    "    tpm_bins = [1, 10, 100, df.gene_tpm.max()]\n",
    "    labels = ['Low (1-10)', 'Medium (10-100)', 'High (100-max)']\n",
    "    \n",
    "    # get the most highly-expressed sample per gene\n",
    "    df = df.sort_values(by=['gid', 'gene_tpm'], ascending=[False,False])\n",
    "    df = df.drop_duplicates(subset='gid', keep='first')\n",
    "\n",
    "    # group into bins\n",
    "    df['tpm_bin'] = pd.cut(df.gene_tpm, tpm_bins, labels=labels)\n",
    "    df['other_tpm_bin'] = pd.cut(df.gene_tpm, tpm_bins)\n",
    "    print(df.other_tpm_bin.unique())\n",
    "\n",
    "    # add gene biotypes\n",
    "    gene_df, _, _ = get_gtf_info(how='gene', ver=ver)\n",
    "    gene_df['gid'] = cerberus.get_stable_gid(gene_df, col='gid')\n",
    "    df = df.merge(gene_df[['gid', 'biotype_category']], how='left', on='gid')\n",
    "    \n",
    "    order = get_polya_cats()\n",
    "    disp_dict = {'protein_coding': 'Protein coding',\n",
    "                 'lncRNA': 'lncRNA',\n",
    "                 'pseudogene': 'Pseudogene'}\n",
    "    order = [disp_dict[b] for b in order]\n",
    "    df['biotype_category_disp'] = df.biotype_category.map(disp_dict)\n",
    "\n",
    "    c = get_talon_nov_colors()[0]['Known']\n",
    "    c_dict, order = get_shade_colors(c, order)\n",
    "\n",
    "    sns.set_context('paper', font_scale=1.8)\n",
    "    mpl.rcParams['font.family'] = 'Arial'\n",
    "    mpl.rcParams['pdf.fonttype'] = 42\n",
    "\n",
    "    ax = sns.catplot(data=df,\n",
    "                     x='tpm_bin',\n",
    "                     y='n_iso',\n",
    "                     hue='biotype_category_disp',\n",
    "                     kind='box',\n",
    "                     hue_order=order,\n",
    "                     palette = c_dict,\n",
    "                     fliersize=1,\n",
    "                     linewidth=1,\n",
    "                     height=4, aspect=(5/4),\n",
    "                     saturation=1)\n",
    "   \n",
    "    ax.set(ylim=(0,50), xlabel='Max. gene expression (TPM)', ylabel='# transcripts / gene')\n",
    "    ax.tick_params(axis=\"x\", rotation=45)\n",
    "\n",
    "    fname = ofile\n",
    "    plt.savefig(fname, dpi=500, bbox_inches='tight')\n",
    "    \n",
    "    return df\n"
   ]
  },
  {
   "cell_type": "code",
   "execution_count": 43,
   "id": "621450c2-c30f-4e9f-92b5-bfc20ce6efa6",
   "metadata": {},
   "outputs": [
    {
     "data": {
      "text/plain": [
       "26781"
      ]
     },
     "execution_count": 43,
     "metadata": {},
     "output_type": "execute_result"
    }
   ],
   "source": [
    "len(df.index)"
   ]
  },
  {
   "cell_type": "code",
   "execution_count": 40,
   "id": "7ab52633-7fa7-4e56-bbb8-0a8f06d3e350",
   "metadata": {},
   "outputs": [
    {
     "name": "stdout",
     "output_type": "stream",
     "text": [
      "[(10.0, 100.0], (100.0, 87160.203], (1.0, 10.0], NaN]\n",
      "Categories (3, interval[float64, right]): [(1.0, 10.0] < (10.0, 100.0] < (100.0, 87160.203]]\n"
     ]
    },
    {
     "data": {
      "image/png": "[encoded data removed]",
      "text/plain": [
       "<Figure size 545.547x288 with 1 Axes>"
      ]
     },
     "metadata": {
      "needs_background": "light"
     },
     "output_type": "display_data"
    }
   ],
   "source": [
    "df = plot_exp_v_iso_biotype_boxplot(cerberus_h5,\n",
    "                                    ver,\n",
    "                                    'figures/exp_v_iso_biotype_box.pdf')"
   ]
  },
  {
   "cell_type": "code",
   "execution_count": 42,
   "id": "1e43cba1-bc3a-4cdf-be35-7c2c08fa2272",
   "metadata": {},
   "outputs": [
    {
     "name": "stdout",
     "output_type": "stream",
     "text": [
      "Median # isoforms for high tpm protein_coding genes is 7.0\n",
      "Median # isoforms for high tpm lncRNA genes is 7.0\n",
      "Median # isoforms for high tpm pseudogene genes is 2.0\n"
     ]
    }
   ],
   "source": [
    "# get median of each biotype category in highest tpm bin\n",
    "for b in df.biotype_category.unique():\n",
    "    m = df.loc[(df.tpm_bin.str.contains('High'))&\\\n",
    "               (df.biotype_category==b)].n_iso.median()\n",
    "    print(f'Median # isoforms for high tpm {b} genes is {m}')"
   ]
  },
  {
   "cell_type": "code",
   "execution_count": null,
   "id": "ca46c991-9b6c-43a1-a739-dbb8099f5a9d",
   "metadata": {},
   "outputs": [],
   "source": []
  },
  {
   "cell_type": "code",
   "execution_count": 10,
   "id": "c82c102c-2ba3-40d3-8b8a-b4f548e8735f",
   "metadata": {},
   "outputs": [],
   "source": [
    "## How many isoforms do we see for highly-expressed vs. lowly-expressed lncs?\n",
    "## How does this compare to protein coding genes?\n",
    "ca = cerberus.read(cerberus_h5)"
   ]
  },
  {
   "cell_type": "code",
   "execution_count": 23,
   "id": "49640b3b-2182-48b8-bdde-702becb4c3bc",
   "metadata": {},
   "outputs": [],
   "source": [
    "# limit to the sample dets\n",
    "df = ca.triplets.loc[ca.triplets.source=='sample_det'].copy(deep=True)"
   ]
  },
  {
   "cell_type": "code",
   "execution_count": 24,
   "id": "8c127835-438c-4398-a050-c2489bb449f3",
   "metadata": {},
   "outputs": [],
   "source": [
    "tpm_bins = [1, 10, 100, df.gene_tpm.max()]\n",
    "labels = ['Low (1-10)', 'Medium (10-100)', 'High (100-max)']"
   ]
  },
  {
   "cell_type": "code",
   "execution_count": 36,
   "id": "16241075-c468-4036-a6af-dc1ae2df1770",
   "metadata": {},
   "outputs": [
    {
     "name": "stdout",
     "output_type": "stream",
     "text": [
      "[(10.0, 100.0], (100.0, 87160.203], (1.0, 10.0], NaN]\n",
      "Categories (3, interval[float64, right]): [(1.0, 10.0] < (10.0, 100.0] < (100.0, 87160.203]]\n"
     ]
    }
   ],
   "source": [
    "# get the most highly-expressed sample per gene\n",
    "df = df.sort_values(by=['gid', 'gene_tpm'], ascending=[False,False])\n",
    "df = df.drop_duplicates(subset='gid', keep='first')\n",
    "\n",
    "# group into bins\n",
    "df['tpm_bin'] = pd.cut(df.gene_tpm, tpm_bins, labels=labels)\n",
    "df['other_tpm_bin'] = pd.cut(df.gene_tpm, tpm_bins)\n",
    "print(df.other_tpm_bin.unique())\n",
    "\n",
    "# add gene biotypes\n",
    "gene_df, _, _ = get_gtf_info(how='gene', ver=ver)\n",
    "gene_df['gid'] = cerberus.get_stable_gid(gene_df, col='gid')\n",
    "df = df.merge(gene_df[['gid', 'biotype_category']], how='left', on='gid')"
   ]
  },
  {
   "cell_type": "code",
   "execution_count": 35,
   "id": "7aa3c2e9-320d-4e2d-8f12-e486e0463414",
   "metadata": {},
   "outputs": [
    {
     "data": {
      "image/png": "[encoded data removed]",
      "text/plain": [
       "<Figure size 545.547x288 with 1 Axes>"
      ]
     },
     "metadata": {
      "needs_background": "light"
     },
     "output_type": "display_data"
    }
   ],
   "source": [
    "order = get_polya_cats()\n",
    "disp_dict = {'protein_coding': 'Protein coding',\n",
    "             'lncRNA': 'lncRNA',\n",
    "             'pseudogene': 'Pseudogene'}\n",
    "order = [disp_dict[b] for b in order]\n",
    "df['biotype_category_disp'] = df.biotype_category.map(disp_dict)\n",
    "\n",
    "c = get_talon_nov_colors()[0]['Known']\n",
    "c_dict, order = get_shade_colors(c, order)\n",
    "\n",
    "sns.set_context('paper', font_scale=1.8)\n",
    "mpl.rcParams['font.family'] = 'Arial'\n",
    "mpl.rcParams['pdf.fonttype'] = 42\n",
    "\n",
    "ax = sns.catplot(data=df,\n",
    "                 x='tpm_bin',\n",
    "                 y='n_iso',\n",
    "                 hue='biotype_category_disp',\n",
    "                 kind='box',\n",
    "                 hue_order=order,\n",
    "                 palette = c_dict,\n",
    "                 fliersize=1,\n",
    "                 # flierprops={'marker':'x'},\n",
    "                 linewidth=1,\n",
    "                 height=4, aspect=(5/4),\n",
    "                 saturation=1)\n",
    "# ax.spines['right'].set_visible(False)\n",
    "# ax.spines['top'].set_visible(False)\n",
    "# ax.set(ylim=(0,125), xlabel='Gene expression (TPM)', ylabel='# transcripts / gene')\n",
    "ax.set(ylim=(0,50), xlabel='Max. gene expression (TPM)', ylabel='# transcripts / gene')\n",
    "# ax.legend(title='')\n",
    "ax.tick_params(axis=\"x\", rotation=45)\n",
    "# plt.legend(bbox_to_anchor=(.5, 1.05))\n",
    "\n",
    "fname = 'figures/n_iso_by_tpm_biotyps.pdf'\n",
    "plt.savefig(fname, dpi=500, bbox_inches='tight')\n",
    "\n",
    "# for i in range(len(ax.patches)-len(tpm_bins)+1):\n",
    "#     # k = i+len(tpm_bins)-1\n",
    "#     # if (i)%(len(tpm_bins)-1) == 0:\n",
    "#     #     if i == 0:\n",
    "#     #         j = 0\n",
    "#     #     else:\n",
    "#     #         j += 1\n",
    "#     #     biotype = order[j]\n",
    "#     #     c = c_dict[biotype]\n",
    "#     k = i/3\n",
    "#     b = order[b]\n",
    "    \n",
    "#     ax.patches[i].set_facecolor('white')\n",
    "#     ax.patches[i].set_edgecolor(c)\n",
    "    \n",
    "\n",
    "# _ = ax.set_xticklabels([disp_dict[b] for b in order])  "
   ]
  },
  {
   "cell_type": "code",
   "execution_count": 27,
   "id": "b1cba5de-d496-4894-b09a-7f3def35aaf6",
   "metadata": {},
   "outputs": [
    {
     "data": {
      "text/html": [
       "<div>\n",
       "<style scoped>\n",
       "    .dataframe tbody tr th:only-of-type {\n",
       "        vertical-align: middle;\n",
       "    }\n",
       "\n",
       "    .dataframe tbody tr th {\n",
       "        vertical-align: top;\n",
       "    }\n",
       "\n",
       "    .dataframe thead th {\n",
       "        text-align: right;\n",
       "    }\n",
       "</style>\n",
       "<table border=\"1\" class=\"dataframe\">\n",
       "  <thead>\n",
       "    <tr style=\"text-align: right;\">\n",
       "      <th></th>\n",
       "      <th>tpm_bin</th>\n",
       "      <th>biotype_category</th>\n",
       "      <th>n_genes</th>\n",
       "    </tr>\n",
       "  </thead>\n",
       "  <tbody>\n",
       "    <tr>\n",
       "      <th>0</th>\n",
       "      <td>Low(1-10)</td>\n",
       "      <td>lncRNA</td>\n",
       "      <td>2676</td>\n",
       "    </tr>\n",
       "    <tr>\n",
       "      <th>1</th>\n",
       "      <td>Low(1-10)</td>\n",
       "      <td>protein_coding</td>\n",
       "      <td>1501</td>\n",
       "    </tr>\n",
       "    <tr>\n",
       "      <th>2</th>\n",
       "      <td>Low(1-10)</td>\n",
       "      <td>pseudogene</td>\n",
       "      <td>1035</td>\n",
       "    </tr>\n",
       "    <tr>\n",
       "      <th>3</th>\n",
       "      <td>Medium (10-100)</td>\n",
       "      <td>lncRNA</td>\n",
       "      <td>1270</td>\n",
       "    </tr>\n",
       "    <tr>\n",
       "      <th>4</th>\n",
       "      <td>Medium (10-100)</td>\n",
       "      <td>protein_coding</td>\n",
       "      <td>7148</td>\n",
       "    </tr>\n",
       "    <tr>\n",
       "      <th>5</th>\n",
       "      <td>Medium (10-100)</td>\n",
       "      <td>pseudogene</td>\n",
       "      <td>440</td>\n",
       "    </tr>\n",
       "    <tr>\n",
       "      <th>6</th>\n",
       "      <td>High (100-max)</td>\n",
       "      <td>lncRNA</td>\n",
       "      <td>137</td>\n",
       "    </tr>\n",
       "    <tr>\n",
       "      <th>7</th>\n",
       "      <td>High (100-max)</td>\n",
       "      <td>protein_coding</td>\n",
       "      <td>8436</td>\n",
       "    </tr>\n",
       "    <tr>\n",
       "      <th>8</th>\n",
       "      <td>High (100-max)</td>\n",
       "      <td>pseudogene</td>\n",
       "      <td>66</td>\n",
       "    </tr>\n",
       "  </tbody>\n",
       "</table>\n",
       "</div>"
      ],
      "text/plain": [
       "           tpm_bin biotype_category  n_genes\n",
       "0        Low(1-10)           lncRNA     2676\n",
       "1        Low(1-10)   protein_coding     1501\n",
       "2        Low(1-10)       pseudogene     1035\n",
       "3  Medium (10-100)           lncRNA     1270\n",
       "4  Medium (10-100)   protein_coding     7148\n",
       "5  Medium (10-100)       pseudogene      440\n",
       "6   High (100-max)           lncRNA      137\n",
       "7   High (100-max)   protein_coding     8436\n",
       "8   High (100-max)       pseudogene       66"
      ]
     },
     "execution_count": 27,
     "metadata": {},
     "output_type": "execute_result"
    }
   ],
   "source": [
    "# number in each category\n",
    "temp = df[['gid', 'tpm_bin', 'biotype_category']].groupby(['tpm_bin', 'biotype_category']).count().reset_index()\n",
    "temp.rename({'gid': 'n_genes'}, axis=1, inplace=True)\n",
    "temp"
   ]
  },
  {
   "cell_type": "code",
   "execution_count": null,
   "id": "d161ec99-423b-42fc-bbfb-9e41adbf5b10",
   "metadata": {},
   "outputs": [],
   "source": []
  },
  {
   "cell_type": "code",
   "execution_count": null,
   "id": "f6dbac03-ac4a-474f-ae0f-712b73a8d274",
   "metadata": {},
   "outputs": [],
   "source": []
  },
  {
   "cell_type": "code",
   "execution_count": 7,
   "id": "6174d5de-cd31-4c39-855e-6480215b3682",
   "metadata": {},
   "outputs": [],
   "source": [
    "## How many isoforms do we see for highly-expressed vs. lowly-expressed lncs?\n",
    "## How does this compare to protein coding genes?"
   ]
  },
  {
   "cell_type": "code",
   "execution_count": 9,
   "id": "d395d9b2-fc0a-4e75-9b46-80b8a5621ac0",
   "metadata": {},
   "outputs": [],
   "source": [
    "high_tpm = 100\n",
    "low_tpm = 20"
   ]
  },
  {
   "cell_type": "code",
   "execution_count": 16,
   "id": "e177b9fc-d692-4925-aae4-c15220f46303",
   "metadata": {},
   "outputs": [],
   "source": [
    "high_df = df.loc[df.gene_tpm>high_tpm]\n",
    "high_df['tpm_category'] = 'high'\n",
    "low_df = df.loc[df.gene_tpm<low_tpm]\n",
    "low_df['tpm_category'] = 'low'\n",
    "temp = pd.concat([high_df, low_df], axis=0)"
   ]
  },
  {
   "cell_type": "code",
   "execution_count": 17,
   "id": "ab446f96-d33d-4910-a29c-63a32e023883",
   "metadata": {},
   "outputs": [
    {
     "data": {
      "text/html": [
       "<div>\n",
       "<style scoped>\n",
       "    .dataframe tbody tr th:only-of-type {\n",
       "        vertical-align: middle;\n",
       "    }\n",
       "\n",
       "    .dataframe tbody tr th {\n",
       "        vertical-align: top;\n",
       "    }\n",
       "\n",
       "    .dataframe thead th {\n",
       "        text-align: right;\n",
       "    }\n",
       "</style>\n",
       "<table border=\"1\" class=\"dataframe\">\n",
       "  <thead>\n",
       "    <tr style=\"text-align: right;\">\n",
       "      <th></th>\n",
       "      <th>source</th>\n",
       "      <th>gid</th>\n",
       "      <th>n_tss</th>\n",
       "      <th>n_tes</th>\n",
       "      <th>n_ic</th>\n",
       "      <th>n_iso</th>\n",
       "      <th>splicing_ratio</th>\n",
       "      <th>tss_ratio</th>\n",
       "      <th>tes_ratio</th>\n",
       "      <th>spl_ratio</th>\n",
       "      <th>sector</th>\n",
       "      <th>gname</th>\n",
       "      <th>sample</th>\n",
       "      <th>gene_tpm</th>\n",
       "      <th>biotype_category</th>\n",
       "      <th>tpm_category</th>\n",
       "    </tr>\n",
       "  </thead>\n",
       "  <tbody>\n",
       "    <tr>\n",
       "      <th>0</th>\n",
       "      <td>sample_det</td>\n",
       "      <td>ENSG00000000003</td>\n",
       "      <td>1.0</td>\n",
       "      <td>5.0</td>\n",
       "      <td>6.0</td>\n",
       "      <td>16.0</td>\n",
       "      <td>2.000000</td>\n",
       "      <td>0.125000</td>\n",
       "      <td>0.625000</td>\n",
       "      <td>0.250000</td>\n",
       "      <td>tes</td>\n",
       "      <td>TSPAN6</td>\n",
       "      <td>h9_neural_crest</td>\n",
       "      <td>305.837311</td>\n",
       "      <td>protein_coding</td>\n",
       "      <td>high</td>\n",
       "    </tr>\n",
       "    <tr>\n",
       "      <th>4</th>\n",
       "      <td>sample_det</td>\n",
       "      <td>ENSG00000001036</td>\n",
       "      <td>1.0</td>\n",
       "      <td>3.0</td>\n",
       "      <td>7.0</td>\n",
       "      <td>9.0</td>\n",
       "      <td>3.500000</td>\n",
       "      <td>0.133333</td>\n",
       "      <td>0.400000</td>\n",
       "      <td>0.466667</td>\n",
       "      <td>mixed</td>\n",
       "      <td>FUCA2</td>\n",
       "      <td>h9_neural_crest</td>\n",
       "      <td>227.335907</td>\n",
       "      <td>protein_coding</td>\n",
       "      <td>high</td>\n",
       "    </tr>\n",
       "    <tr>\n",
       "      <th>9</th>\n",
       "      <td>sample_det</td>\n",
       "      <td>ENSG00000001497</td>\n",
       "      <td>1.0</td>\n",
       "      <td>2.0</td>\n",
       "      <td>7.0</td>\n",
       "      <td>7.0</td>\n",
       "      <td>4.666667</td>\n",
       "      <td>0.130435</td>\n",
       "      <td>0.260870</td>\n",
       "      <td>0.608696</td>\n",
       "      <td>splicing</td>\n",
       "      <td>LAS1L</td>\n",
       "      <td>h9_neural_crest</td>\n",
       "      <td>144.398911</td>\n",
       "      <td>protein_coding</td>\n",
       "      <td>high</td>\n",
       "    </tr>\n",
       "    <tr>\n",
       "      <th>11</th>\n",
       "      <td>sample_det</td>\n",
       "      <td>ENSG00000001630</td>\n",
       "      <td>3.0</td>\n",
       "      <td>4.0</td>\n",
       "      <td>6.0</td>\n",
       "      <td>7.0</td>\n",
       "      <td>1.714286</td>\n",
       "      <td>0.344262</td>\n",
       "      <td>0.459016</td>\n",
       "      <td>0.196721</td>\n",
       "      <td>mixed</td>\n",
       "      <td>CYP51A1</td>\n",
       "      <td>h9_neural_crest</td>\n",
       "      <td>442.284485</td>\n",
       "      <td>protein_coding</td>\n",
       "      <td>high</td>\n",
       "    </tr>\n",
       "    <tr>\n",
       "      <th>15</th>\n",
       "      <td>sample_det</td>\n",
       "      <td>ENSG00000002549</td>\n",
       "      <td>1.0</td>\n",
       "      <td>3.0</td>\n",
       "      <td>5.0</td>\n",
       "      <td>5.0</td>\n",
       "      <td>2.500000</td>\n",
       "      <td>0.153846</td>\n",
       "      <td>0.461538</td>\n",
       "      <td>0.384615</td>\n",
       "      <td>mixed</td>\n",
       "      <td>LAP3</td>\n",
       "      <td>h9_neural_crest</td>\n",
       "      <td>242.651428</td>\n",
       "      <td>protein_coding</td>\n",
       "      <td>high</td>\n",
       "    </tr>\n",
       "  </tbody>\n",
       "</table>\n",
       "</div>"
      ],
      "text/plain": [
       "        source              gid  n_tss  n_tes  n_ic  n_iso  splicing_ratio  \\\n",
       "0   sample_det  ENSG00000000003    1.0    5.0   6.0   16.0        2.000000   \n",
       "4   sample_det  ENSG00000001036    1.0    3.0   7.0    9.0        3.500000   \n",
       "9   sample_det  ENSG00000001497    1.0    2.0   7.0    7.0        4.666667   \n",
       "11  sample_det  ENSG00000001630    3.0    4.0   6.0    7.0        1.714286   \n",
       "15  sample_det  ENSG00000002549    1.0    3.0   5.0    5.0        2.500000   \n",
       "\n",
       "    tss_ratio  tes_ratio  spl_ratio    sector    gname           sample  \\\n",
       "0    0.125000   0.625000   0.250000       tes   TSPAN6  h9_neural_crest   \n",
       "4    0.133333   0.400000   0.466667     mixed    FUCA2  h9_neural_crest   \n",
       "9    0.130435   0.260870   0.608696  splicing    LAS1L  h9_neural_crest   \n",
       "11   0.344262   0.459016   0.196721     mixed  CYP51A1  h9_neural_crest   \n",
       "15   0.153846   0.461538   0.384615     mixed     LAP3  h9_neural_crest   \n",
       "\n",
       "      gene_tpm biotype_category tpm_category  \n",
       "0   305.837311   protein_coding         high  \n",
       "4   227.335907   protein_coding         high  \n",
       "9   144.398911   protein_coding         high  \n",
       "11  442.284485   protein_coding         high  \n",
       "15  242.651428   protein_coding         high  "
      ]
     },
     "execution_count": 17,
     "metadata": {},
     "output_type": "execute_result"
    }
   ],
   "source": [
    "temp.head()"
   ]
  },
  {
   "cell_type": "code",
   "execution_count": 24,
   "id": "b17484a4-2467-45b9-8131-2db99ee5ad71",
   "metadata": {},
   "outputs": [
    {
     "data": {
      "text/plain": [
       "[(0.0, 125.0), Text(0.5, 0, ''), Text(0, 0.5, '# transcripts / gene / sample')]"
      ]
     },
     "execution_count": 24,
     "metadata": {},
     "output_type": "execute_result"
    },
    {
     "data": {
      "image/png": "[encoded data removed]",
      "text/plain": [
       "<Figure size 432x288 with 1 Axes>"
      ]
     },
     "metadata": {
      "needs_background": "light"
     },
     "output_type": "display_data"
    }
   ],
   "source": [
    "order = get_polya_cats()\n",
    "sns.set_context('paper', font_scale=1.8)\n",
    "mpl.rcParams['font.family'] = 'Arial'\n",
    "mpl.rcParams['pdf.fonttype'] = 42\n",
    "\n",
    "ax = sns.boxplot(data=temp,\n",
    "                 x='biotype_category',\n",
    "                 y='n_iso',\n",
    "                 hue='tpm_category',\n",
    "                 order=order)\n",
    "ax.spines['right'].set_visible(False)\n",
    "ax.spines['top'].set_visible(False)\n",
    "ax.set(ylim=(0,125), xlabel='', ylabel='# transcripts / gene / sample')"
   ]
  },
  {
   "cell_type": "code",
   "execution_count": 1,
   "id": "ad84dc01-f3a0-4db6-a294-90aee28a20ae",
   "metadata": {},
   "outputs": [],
   "source": [
    "import pandas as pd\n",
    "import numpy as np\n",
    "import scipy.stats as st\n",
    "import seaborn as sns\n",
    "import sys\n",
    "import os\n",
    "import gseapy as gp\n",
    "import matplotlib.pyplot as plt\n",
    "import swan_vis as swan\n",
    "\n",
    "p = os.path.dirname(os.path.dirname(os.getcwd()))\n",
    "sys.path.append(p)\n",
    "\n",
    "from scripts.utils import *\n",
    "from scripts.plotting import *\n",
    "\n",
    "ab = '../../lr_bulk/talon/human_talon_abundance.tsv'\n",
    "filt_ab = '../../lr_bulk/cerberus/cerberus_filtered_abundance.tsv'\n",
    "read_annot = '../../lr_bulk/talon/human_talon_read_annot.tsv'\n",
    "t_metadata = '../../refs/cerberus/v40_transcript_metadata.tsv'\n",
    "swan_file = '../../lr_bulk/cerberus/swan/swan_meta.p'\n",
    "cerberus_h5 = '../../lr_bulk/cerberus/triplets/cerberus_annot_triplets.h5'\n",
    "major_isos = '../../lr_bulk/cerberus/swan/major_isos.tsv'\n",
    "cerb_t_meta = '../../lr_bulk/cerberus/cerberus_transcript_metadata.tsv'\n",
    "pi_tpm_sample = '../fig_4_sample_major/triplet_sample_pi_tpm.tsv'\n",
    "\n",
    "ver = 'v40_cerberus'\n",
    "\n",
    "min_tpm = 1\n",
    "gene_subset = 'polya'\n",
    "go_gene_subset = 'protein_coding'\n",
    "predom_subset = 'protein_coding'\n",
    "obs_col = 'sample'\n",
    "\n",
    "mouse_ab = '../../mouse/lr_bulk/talon/mouse_talon_abundance.tsv'\n",
    "mouse_filt_ab = '../../mouse/lr_bulk/cerberus/cerberus_filtered_abundance.tsv'\n",
    "mouse_read_annot = '../../mouse/lr_bulk/talon/mouse_talon_read_annot.tsv'\n",
    "mouse_swan_file = '../../mouse/lr_bulk/swan/swan.p'\n",
    "mouse_meta = '../../mouse/lr_bulk/lr_mouse_library_data_summary.tsv'\n",
    "mouse_t_metadata = '../../mouse/refs/cerberus/vM25_transcript_metadata.tsv'\n",
    "mouse_ver = 'vM25_cerberus'\n"
   ]
  },
  {
   "cell_type": "code",
   "execution_count": 2,
   "id": "0d6c2b3c-3a88-4ca7-8b09-39e95aec8374",
   "metadata": {},
   "outputs": [],
   "source": [
    "# hack the heckberton out of this\n",
    "# make the density plots and bar plots split by high tpm \n",
    "# and low tpm triplets for each biotype"
   ]
  },
  {
   "cell_type": "code",
   "execution_count": 6,
   "id": "a71858c3-9c53-4f9e-a569-97eccbac6060",
   "metadata": {},
   "outputs": [],
   "source": [
    "ca = cerberus.read(cerberus_h5)\n",
    "df = ca.triplets\n",
    "gene_df, _, _ = get_gtf_info(how='gene', ver=ver)\n",
    "gene_df['gid'] = cerberus.get_stable_gid(gene_df, col='gid')\n",
    "df = df.merge(gene_df[['gid', 'biotype_category']], how='left', on='gid')\n"
   ]
  },
  {
   "cell_type": "code",
   "execution_count": 4,
   "id": "013c519a-b03d-4c56-a9a7-c8047fb03d5b",
   "metadata": {},
   "outputs": [],
   "source": [
    "fake_triplets = pd.DataFrame()\n",
    "sources = []\n",
    "titles = []\n",
    "tpm_dict = {'high': 100,\n",
    "            'low': 20}\n",
    "for b in get_polya_cats():\n",
    "    for cat, tpm in tpm_dict.items():\n",
    "        \n",
    "        # first get entries that satisfy \n",
    "        # the category\n",
    "        temp = df.loc[(df.source=='sample_det')&\\\n",
    "              (df.biotype_category==b)]\n",
    "        # replace 0 expression w/ nan and take the mean\n",
    "        temp['gene_tpm'] = temp['gene_tpm'].replace(0, np.nan)\n",
    "        temp = temp[['gid', 'gene_tpm']].groupby('gid').mean().reset_index()\n",
    "        \n",
    "        # get gids of genes whose avg. exp is high or low\n",
    "        if cat == 'high':\n",
    "            gids = temp.loc[temp.gene_tpm>tpm, 'gid'].unique().tolist()\n",
    "        elif cat == 'low':\n",
    "            gids = temp.loc[temp.gene_tpm<tpm, 'gid'].unique().tolist()\n",
    "        \n",
    "        # now get the triplets entries that satisfy this\n",
    "        # and change the source\n",
    "        temp = df.loc[(df.gid.isin(gids))&(df.source=='obs_det')]\n",
    "        source_name = f'{b}_{cat}_tpm'\n",
    "        temp['source'] = source_name\n",
    "        sources.append(source_name)\n",
    "        \n",
    "        b_name_map = {'protein_coding': 'Protein coding',\n",
    "                      'pseudogene': 'Pseudogene',\n",
    "                      'lncRNA': 'lncRNA'}\n",
    "        title = f'{cat.capitalize()} TPM {b_name_map[b]}'\n",
    "        titles.append(title)\n",
    "        \n",
    "        # and append\n",
    "        fake_triplets = pd.concat([fake_triplets, temp], axis=0)"
   ]
  },
  {
   "cell_type": "code",
   "execution_count": 5,
   "id": "753636b8-f9f0-48a0-8fe9-78cc919a43e6",
   "metadata": {},
   "outputs": [
    {
     "ename": "NameError",
     "evalue": "name 'ca' is not defined",
     "output_type": "error",
     "traceback": [
      "\u001b[0;31m---------------------------------------------------------------------------\u001b[0m",
      "\u001b[0;31mNameError\u001b[0m                                 Traceback (most recent call last)",
      "\u001b[0;32m<ipython-input-5-107a3afc982c>\u001b[0m in \u001b[0;36m<module>\u001b[0;34m\u001b[0m\n\u001b[0;32m----> 1\u001b[0;31m \u001b[0mca\u001b[0m\u001b[0;34m.\u001b[0m\u001b[0mtriplets\u001b[0m \u001b[0;34m=\u001b[0m \u001b[0mfake_triplets\u001b[0m\u001b[0;34m\u001b[0m\u001b[0;34m\u001b[0m\u001b[0m\n\u001b[0m\u001b[1;32m      2\u001b[0m \u001b[0mca\u001b[0m\u001b[0;34m.\u001b[0m\u001b[0mwrite\u001b[0m\u001b[0;34m(\u001b[0m\u001b[0;34m'fake_triplets.h5'\u001b[0m\u001b[0;34m)\u001b[0m\u001b[0;34m\u001b[0m\u001b[0;34m\u001b[0m\u001b[0m\n",
      "\u001b[0;31mNameError\u001b[0m: name 'ca' is not defined"
     ]
    }
   ],
   "source": [
    "ca.triplets = fake_triplets\n",
    "ca.write('fake_triplets.h5')"
   ]
  },
  {
   "cell_type": "code",
   "execution_count": null,
   "id": "5876e267-c6ed-406b-a0a6-cb253e8aa325",
   "metadata": {},
   "outputs": [],
   "source": [
    "plot_density_simplices('fake_triplets.h5', \n",
    "                       ab,\n",
    "                       min_tpm,\n",
    "                       sources,\n",
    "                       titles, \n",
    "                       'polya',\n",
    "                       ver)"
   ]
  },
  {
   "cell_type": "code",
   "execution_count": null,
   "id": "19d60a20-df05-4b80-9212-6d6dc5ac7d56",
   "metadata": {},
   "outputs": [],
   "source": []
  }
 ],
 "metadata": {
  "kernelspec": {
   "display_name": "Python 3",
   "language": "python",
   "name": "python3"
  },
  "language_info": {
   "codemirror_mode": {
    "name": "ipython",
    "version": 3
   },
   "file_extension": ".py",
   "mimetype": "text/x-python",
   "name": "python",
   "nbconvert_exporter": "python",
   "pygments_lexer": "ipython3",
   "version": "3.7.4"
  }
 },
 "nbformat": 4,
 "nbformat_minor": 5
}
