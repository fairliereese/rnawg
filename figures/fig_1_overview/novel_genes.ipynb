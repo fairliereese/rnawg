{
 "cells": [
  {
   "cell_type": "code",
   "execution_count": 1,
   "id": "e092a184-d4da-4273-bea5-f55808ea1c86",
   "metadata": {},
   "outputs": [
    {
     "name": "stdout",
     "output_type": "stream",
     "text": [
      "Object `sqlite3` not found.\n"
     ]
    }
   ],
   "source": [
    "import pandas as pd\n",
    "import numpy as np\n",
    "import scipy.stats as st\n",
    "import seaborn as sns\n",
    "import sys\n",
    "import os\n",
    "import gseapy as gp\n",
    "import matplotlib.pyplot as plt\n",
    "import swan_vis as swan\n",
    "import sqlite3?\n",
    "\n",
    "p = os.path.dirname(os.path.dirname(os.getcwd()))\n",
    "sys.path.append(p)\n",
    "\n",
    "from scripts.utils import *\n",
    "from scripts.plotting import *"
   ]
  },
  {
   "cell_type": "code",
   "execution_count": 2,
   "id": "1e1fbf8f-5840-49fc-a4f4-ea44aab131b2",
   "metadata": {},
   "outputs": [],
   "source": [
    "ab = '/Users/fairliereese/mortazavi_lab/data/paper_rnawg/figures/data/human/abundance.tsv'\n",
    "unfilt_ab = '../../lr_bulk/talon/human_talon_abundance.tsv'\n",
    "filt_ab = '../../lr_bulk/cerberus/cerberus_filtered_abundance.tsv'\n",
    "talon_filt_ab = '../../lr_bulk/talon/human_talon_abundance_filtered.tsv'\n",
    "read_annot = '../../lr_bulk/talon/human_talon_read_annot.tsv'\n",
    "t_metadata = '../../refs/cerberus/v40_transcript_metadata.tsv'\n",
    "db = '../../lr_bulk/talon/human.db'\n",
    "ver = 'v40_cerberus'\n",
    "min_tpm = 1\n",
    "gene_subset = 'polya'\n",
    "obs_col = 'sample'\n",
    "swan_file = '../../lr_bulk/cerberus/swan/swan_meta.p'\n",
    "\n",
    "mouse_unfilt_ab = '../../mouse/lr_bulk/talon/mouse_talon_abundance.tsv'  \n",
    "mouse_talon_filt_ab = '../../mouse/lr_bulk/talon/mouse_talon_abundance_filtered.tsv'"
   ]
  },
  {
   "cell_type": "markdown",
   "id": "07163963-0a08-4916-8b79-c7be27a6ead6",
   "metadata": {},
   "source": [
    "## 230424 Some plotting for lab meeting"
   ]
  },
  {
   "cell_type": "code",
   "execution_count": 7,
   "id": "31548ace-2222-4a23-966a-c0eab9e11c15",
   "metadata": {},
   "outputs": [],
   "source": [
    "min_exons = 2"
   ]
  },
  {
   "cell_type": "code",
   "execution_count": 6,
   "id": "49b91fbe-4c5c-4b1b-9e90-f9f905b20578",
   "metadata": {},
   "outputs": [
    {
     "name": "stdout",
     "output_type": "stream",
     "text": [
      "Calculating iso TPM values\n",
      "Enforcing minimum TPM\n",
      "Total # isos detected: 194503\n",
      "# isos >= 1 tpm: 175394\n",
      "Number of isos reported: 175394\n"
     ]
    }
   ],
   "source": [
    "ab_df = pd.read_csv(talon_filt_ab, sep='\\t')\n",
    "df, _ = get_tpm_table(ab_df,\n",
    "               how='iso',\n",
    "               nov='all',\n",
    "               min_tpm=min_tpm)\n",
    "\n",
    "# merge with extra info\n",
    "df.reset_index(inplace=True)\n",
    "df = df.merge(ab_df[['annot_transcript_id', 'annot_gene_id', 'gene_novelty', 'n_exons']],\n",
    "              how='left', \n",
    "              on='annot_transcript_id')\n",
    "\n",
    "\n",
    "\n",
    "# n = len(df.loc[(df.n_exons>=min_exons)&(df.gene_novelty=='Intergenic'), 'annot_gene_id'].unique())\n",
    "# print(f'Found {n} unique intergenic genes w/ >{min_exons} exons and >={min_tpm}')\n",
    "# n = len(df.loc[(df.n_exons>=min_exons)&(df.gene_novelty=='Intergenic'), 'annot_transcript_id'].unique())\n",
    "# print(f'Found {n} unique intergenic transcripts w/ >{min_exons} exons and >={min_tpm} tpm')\n",
    "\n",
    "# df = df.loc[(df.n_exons>=min_exons)&(df.gene_novelty=='Intergenic')]\n",
    "\n"
   ]
  },
  {
   "cell_type": "code",
   "execution_count": 10,
   "id": "46f42acf-1b05-4532-bf36-2cdc4d46089b",
   "metadata": {},
   "outputs": [],
   "source": [
    "# restrict to min exons\n",
    "df = df.loc[df.n_exons>=min_exons]\n",
    "\n",
    "# gb gene nov and count how many passed filtering\n",
    "df = df[['annot_gene_id', 'gene_novelty']].drop_duplicates()\n",
    "\n",
    "df = df.groupby(['gene_novelty']).count().reset_index()\n",
    "df.rename({'annot_gene_id': 'n_genes'}, axis=1, inplace=True)"
   ]
  },
  {
   "cell_type": "code",
   "execution_count": 19,
   "id": "7285badb-2b82-49cf-9453-86000299ee15",
   "metadata": {},
   "outputs": [
    {
     "data": {
      "image/png": "[encoded data removed]",
      "text/plain": [
       "<Figure size 360x360 with 1 Axes>"
      ]
     },
     "metadata": {
      "needs_background": "light"
     },
     "output_type": "display_data"
    }
   ],
   "source": [
    "def add_perc(ax, data, feature):\n",
    "    total = data[feature].sum()\n",
    "    ylim = ax.get_ylim()[1]\n",
    "    n_cats = len(ax.patches)\n",
    "    for p in ax.patches:\n",
    "        percentage = '{:.1f}%'.format(100 * p.get_height()/total)\n",
    "#         x = p.get_x() + p.get_width() / 2 - 0.45\n",
    "        x = p.get_x() + p.get_width() / 2 - (0.065)*n_cats\n",
    "        y = p.get_y() + p.get_height() + ylim*0.00625\n",
    "        ax.annotate(percentage, (x, y), size = 12)\n",
    "        \n",
    "def add_n(ax, data, feature):\n",
    "    total = data[feature].sum()\n",
    "    ylim = ax.get_ylim()[1]\n",
    "    n_cats = len(ax.patches)\n",
    "    for p in ax.patches:\n",
    "        numn = f'{int(p.get_height())}'\n",
    "#         x = p.get_x() + p.get_width() / 2 - 0.45\n",
    "        x = p.get_x() + p.get_width() / 2 - (0.065)*n_cats\n",
    "        y = p.get_y() + p.get_height() + ylim*0.00625\n",
    "        ax.annotate(numn, (x, y), size = 16)\n",
    "        \n",
    "sns.set_context('paper', font_scale=1.8)\n",
    "mpl.rcParams['font.family'] = 'Arial'\n",
    "mpl.rcParams['pdf.fonttype'] = 42\n",
    "c_dict, order = get_talon_nov_colors(df.gene_novelty.tolist())\n",
    "\n",
    "\n",
    "# actual plotting\n",
    "g = sns.catplot(data=df, x='gene_novelty',\n",
    "            y='n_genes', kind='bar',\n",
    "            palette=c_dict, order=order)\n",
    "[plt.setp(ax.get_xticklabels(), rotation=90) for ax in g.axes.flat]\n",
    "g.set_ylabels('# genes')\n",
    "g.set_xlabels('Gene novelty')\n",
    "\n",
    "# add percentage labels\n",
    "ax = g.axes[0,0]\n",
    "add_n(ax, df, 'n_genes')"
   ]
  },
  {
   "cell_type": "code",
   "execution_count": null,
   "id": "2b175dc9-4fa3-4b5a-8d44-006f598ab64f",
   "metadata": {},
   "outputs": [],
   "source": []
  },
  {
   "cell_type": "code",
   "execution_count": null,
   "id": "befdfdf9-3f8b-4c06-b708-2edef6d67bfb",
   "metadata": {},
   "outputs": [],
   "source": []
  },
  {
   "cell_type": "code",
   "execution_count": null,
   "id": "f4e1496d-e5f7-405f-b731-dea2468fc805",
   "metadata": {},
   "outputs": [],
   "source": []
  },
  {
   "cell_type": "code",
   "execution_count": null,
   "id": "7132d166-1155-4035-a0ba-881e423c9716",
   "metadata": {},
   "outputs": [],
   "source": []
  },
  {
   "cell_type": "code",
   "execution_count": null,
   "id": "e995d5d7-669a-4306-9ca7-0b5f02d5b021",
   "metadata": {},
   "outputs": [],
   "source": []
  },
  {
   "cell_type": "code",
   "execution_count": null,
   "id": "4557eb7d-5744-4113-8ab4-3b13d92eb41a",
   "metadata": {},
   "outputs": [],
   "source": []
  },
  {
   "cell_type": "code",
   "execution_count": null,
   "id": "365294cf-cdca-43f2-b79e-6add0c9e495a",
   "metadata": {},
   "outputs": [],
   "source": []
  },
  {
   "cell_type": "code",
   "execution_count": null,
   "id": "a3ddc4bd-1701-4978-a90e-e72c0ae52d18",
   "metadata": {},
   "outputs": [],
   "source": []
  },
  {
   "cell_type": "markdown",
   "id": "922fa46a-7bbf-4e75-b366-0b2e208bef9f",
   "metadata": {},
   "source": [
    "## Older stuff"
   ]
  },
  {
   "cell_type": "code",
   "execution_count": 143,
   "id": "55d5ca5b-3320-42ef-9b0a-66fd24c2bd3c",
   "metadata": {},
   "outputs": [
    {
     "name": "stdout",
     "output_type": "stream",
     "text": [
      "Calculating gene TPM values\n"
     ]
    },
    {
     "name": "stderr",
     "output_type": "stream",
     "text": [
      "/Users/fairliereese/Documents/programming/mortazavi_lab/data/rnawg/scripts/utils.py:2050: PerformanceWarning: DataFrame is highly fragmented.  This is usually the result of calling `frame.insert` many times, which has poor performance.  Consider joining all columns at once using pd.concat(axis=1) instead.  To get a de-fragmented frame, use `newframe = frame.copy()`\n",
      "  df[tpm_col] = (df[d]*1000000)/df[total_col]\n",
      "/Users/fairliereese/Documents/programming/mortazavi_lab/data/rnawg/scripts/utils.py:2049: PerformanceWarning: DataFrame is highly fragmented.  This is usually the result of calling `frame.insert` many times, which has poor performance.  Consider joining all columns at once using pd.concat(axis=1) instead.  To get a de-fragmented frame, use `newframe = frame.copy()`\n",
      "  df[total_col] = df[d].sum()\n"
     ]
    },
    {
     "name": "stdout",
     "output_type": "stream",
     "text": [
      "Number of genes reported: 599976\n"
     ]
    }
   ],
   "source": [
    "ab_df = pd.read_csv(ab, sep='\\t')\n",
    "df, _ = get_tpm_table(ab_df,\n",
    "                   how='gene',\n",
    "                   ver=ver,\n",
    "                   nov='all')"
   ]
  },
  {
   "cell_type": "code",
   "execution_count": 144,
   "id": "13bf6ff7-3705-40a5-800a-3fce9b5f8db8",
   "metadata": {},
   "outputs": [
    {
     "name": "stdout",
     "output_type": "stream",
     "text": [
      "6403037\n",
      "3803630\n"
     ]
    }
   ],
   "source": [
    "# which novel genes are the most highly expressed? \n",
    "df = df.melt(ignore_index=False, var_name='dataset', value_name='tpm').reset_index()\n",
    "\n",
    "# get rid of 0 exp\n",
    "df = df.loc[df.tpm>0]\n",
    "\n",
    "# apply minimum tpm\n",
    "print(len(df.index))\n",
    "df = df.loc[df.tpm>=min_tpm]\n",
    "print(len(df.index))\n",
    "\n",
    "# merge in novelty info\n",
    "ab_df['gid_stable'] = cerberus.get_stable_gid(ab_df, col='annot_gene_id')\n",
    "df = df.merge(ab_df[['gid_stable', 'gene_novelty']], how='left', on='gid_stable')"
   ]
  },
  {
   "cell_type": "code",
   "execution_count": 132,
   "id": "a5e8bbf6-8312-4c8d-9e92-fa0a3d6ed56f",
   "metadata": {},
   "outputs": [
    {
     "data": {
      "text/html": [
       "<div>\n",
       "<style scoped>\n",
       "    .dataframe tbody tr th:only-of-type {\n",
       "        vertical-align: middle;\n",
       "    }\n",
       "\n",
       "    .dataframe tbody tr th {\n",
       "        vertical-align: top;\n",
       "    }\n",
       "\n",
       "    .dataframe thead th {\n",
       "        text-align: right;\n",
       "    }\n",
       "</style>\n",
       "<table border=\"1\" class=\"dataframe\">\n",
       "  <thead>\n",
       "    <tr style=\"text-align: right;\">\n",
       "      <th></th>\n",
       "      <th>gid_stable</th>\n",
       "      <th>dataset</th>\n",
       "      <th>tpm</th>\n",
       "      <th>gene_novelty</th>\n",
       "    </tr>\n",
       "  </thead>\n",
       "  <tbody>\n",
       "    <tr>\n",
       "      <th>3623298</th>\n",
       "      <td>ENSG00000163631</td>\n",
       "      <td>right_lobe_of_liver_2_1</td>\n",
       "      <td>101559.376250</td>\n",
       "      <td>Known</td>\n",
       "    </tr>\n",
       "    <tr>\n",
       "      <th>3262370</th>\n",
       "      <td>ENSG00000087086</td>\n",
       "      <td>right_lobe_of_liver_1_1</td>\n",
       "      <td>86185.005110</td>\n",
       "      <td>Known</td>\n",
       "    </tr>\n",
       "    <tr>\n",
       "      <th>3245465</th>\n",
       "      <td>ENSG00000111245</td>\n",
       "      <td>heart_left_ventricle_1_1</td>\n",
       "      <td>76757.529275</td>\n",
       "      <td>Known</td>\n",
       "    </tr>\n",
       "    <tr>\n",
       "      <th>1498094</th>\n",
       "      <td>ENSG00000108821</td>\n",
       "      <td>h9_chondro_1_3</td>\n",
       "      <td>73534.925459</td>\n",
       "      <td>Known</td>\n",
       "    </tr>\n",
       "    <tr>\n",
       "      <th>3267758</th>\n",
       "      <td>ENSG00000163631</td>\n",
       "      <td>right_lobe_of_liver_1_1</td>\n",
       "      <td>72761.026781</td>\n",
       "      <td>Known</td>\n",
       "    </tr>\n",
       "    <tr>\n",
       "      <th>...</th>\n",
       "      <td>...</td>\n",
       "      <td>...</td>\n",
       "      <td>...</td>\n",
       "      <td>...</td>\n",
       "    </tr>\n",
       "    <tr>\n",
       "      <th>2897633</th>\n",
       "      <td>ENCODEHG000246041</td>\n",
       "      <td>hl60_m1_72hr_1_1</td>\n",
       "      <td>1.009628</td>\n",
       "      <td>Antisense</td>\n",
       "    </tr>\n",
       "    <tr>\n",
       "      <th>2897634</th>\n",
       "      <td>ENCODEHG000246120</td>\n",
       "      <td>hl60_m1_72hr_1_1</td>\n",
       "      <td>1.009628</td>\n",
       "      <td>Intergenic</td>\n",
       "    </tr>\n",
       "    <tr>\n",
       "      <th>2897635</th>\n",
       "      <td>ENCODEHG000246221</td>\n",
       "      <td>hl60_m1_72hr_1_1</td>\n",
       "      <td>1.009628</td>\n",
       "      <td>Antisense</td>\n",
       "    </tr>\n",
       "    <tr>\n",
       "      <th>2897636</th>\n",
       "      <td>ENCODEHG000246235</td>\n",
       "      <td>hl60_m1_72hr_1_1</td>\n",
       "      <td>1.009628</td>\n",
       "      <td>Intergenic</td>\n",
       "    </tr>\n",
       "    <tr>\n",
       "      <th>2912036</th>\n",
       "      <td>ENSG00000117598</td>\n",
       "      <td>hl60_m1_72hr_1_1</td>\n",
       "      <td>1.009628</td>\n",
       "      <td>Known</td>\n",
       "    </tr>\n",
       "  </tbody>\n",
       "</table>\n",
       "<p>3803630 rows × 4 columns</p>\n",
       "</div>"
      ],
      "text/plain": [
       "                gid_stable                   dataset            tpm  \\\n",
       "3623298    ENSG00000163631   right_lobe_of_liver_2_1  101559.376250   \n",
       "3262370    ENSG00000087086   right_lobe_of_liver_1_1   86185.005110   \n",
       "3245465    ENSG00000111245  heart_left_ventricle_1_1   76757.529275   \n",
       "1498094    ENSG00000108821            h9_chondro_1_3   73534.925459   \n",
       "3267758    ENSG00000163631   right_lobe_of_liver_1_1   72761.026781   \n",
       "...                    ...                       ...            ...   \n",
       "2897633  ENCODEHG000246041          hl60_m1_72hr_1_1       1.009628   \n",
       "2897634  ENCODEHG000246120          hl60_m1_72hr_1_1       1.009628   \n",
       "2897635  ENCODEHG000246221          hl60_m1_72hr_1_1       1.009628   \n",
       "2897636  ENCODEHG000246235          hl60_m1_72hr_1_1       1.009628   \n",
       "2912036    ENSG00000117598          hl60_m1_72hr_1_1       1.009628   \n",
       "\n",
       "        gene_novelty  \n",
       "3623298        Known  \n",
       "3262370        Known  \n",
       "3245465        Known  \n",
       "1498094        Known  \n",
       "3267758        Known  \n",
       "...              ...  \n",
       "2897633    Antisense  \n",
       "2897634   Intergenic  \n",
       "2897635    Antisense  \n",
       "2897636   Intergenic  \n",
       "2912036        Known  \n",
       "\n",
       "[3803630 rows x 4 columns]"
      ]
     },
     "execution_count": 132,
     "metadata": {},
     "output_type": "execute_result"
    }
   ],
   "source": [
    "df.sort_values(by='tpm', ascending=False)"
   ]
  },
  {
   "cell_type": "code",
   "execution_count": 142,
   "id": "4e5c1181-951a-4142-9483-f43f967d32c1",
   "metadata": {},
   "outputs": [],
   "source": [
    "# # which datasets / samples have the most novel genes expressed?\n",
    "# temp = df.copy(deep=True)\n",
    "# temp.drop('tpm', axis=1, inplace=True)\n",
    "# temp = temp.groupby(['dataset', 'gene_novelty']).count().reset_index()\n",
    "# temp.rename({'gid_stable': 'n_genes'}, axis=1, inplace=True)\n",
    "\n",
    "# lib = temp.dataset.unique().tolist()\n",
    "\n",
    "# b = np.zeros(len(lib))\n",
    "# for nov in order:\n",
    "#     temp2 = temp.loc[temp.gene_novelty==nov]\n",
    "#     h = temp.n_genes.values.tolist()\n",
    "#     print(np.shape(h))\n",
    "#     print(np.shape(lib))\n",
    "#     print(np.shape(\n",
    "#     p = plt.bar(lib\n",
    "#                 ,\n",
    "#                 h,\n",
    "#                 label=nov,\n",
    "#                 bottom=b)\n",
    "#     b += h\n",
    "    "
   ]
  },
  {
   "cell_type": "code",
   "execution_count": 48,
   "id": "0bec0000-b132-4c9b-bab9-b37114852cec",
   "metadata": {},
   "outputs": [
    {
     "data": {
      "image/png": "[encoded data removed]",
      "text/plain": [
       "<Figure size 432x288 with 1 Axes>"
      ]
     },
     "metadata": {
      "needs_background": "light"
     },
     "output_type": "display_data"
    }
   ],
   "source": [
    "sns.set_context('paper', font_scale=1.8)\n",
    "mpl.rcParams['font.family'] = 'Arial'\n",
    "mpl.rcParams['pdf.fonttype'] = 42\n",
    "\n",
    "c_dict, order = get_talon_nov_colors(df.gene_novelty.tolist())\n",
    "ax = sns.boxplot(data=df, \n",
    "                 y='tpm',\n",
    "                 x='gene_novelty',\n",
    "                 palette=c_dict,\n",
    "                 order=order,\n",
    "                 linewidth=1,\n",
    "                 fliersize=1,\n",
    "                 flierprops={'marker': 'x'})\n",
    "# ax = sns.violinplot(data=df, \n",
    "#                     y='tpm',\n",
    "#                     x='gene_novelty',\n",
    "#                     palette=c_dict,\n",
    "#                     order=order)\n",
    "ax.set(yscale='log', xlabel='', ylabel='Gene TPM')\n",
    "ax.spines['right'].set_visible(False)\n",
    "ax.spines['top'].set_visible(False)"
   ]
  },
  {
   "cell_type": "code",
   "execution_count": 49,
   "id": "095e3510-baf1-4404-b7e4-aae2a6dcff03",
   "metadata": {},
   "outputs": [
    {
     "data": {
      "text/plain": [
       "<seaborn.axisgrid.FacetGrid at 0x7fa5705beb50>"
      ]
     },
     "execution_count": 49,
     "metadata": {},
     "output_type": "execute_result"
    },
    {
     "data": {
      "image/png": "[encoded data removed]",
      "text/plain": [
       "<Figure size 497.399x360 with 1 Axes>"
      ]
     },
     "metadata": {
      "needs_background": "light"
     },
     "output_type": "display_data"
    }
   ],
   "source": [
    "ax = sns.displot(data=df, \n",
    "                 x='tpm',\n",
    "                 kind='kde',\n",
    "                 hue='gene_novelty',\n",
    "                 palette=c_dict,\n",
    "                 linewidth=3,\n",
    "                 common_norm=False, \n",
    "                 log_scale=(True, False))\n",
    "ax.set(xlabel='Gene TPM')"
   ]
  },
  {
   "cell_type": "code",
   "execution_count": 62,
   "id": "416af97e-a1af-47ec-80bc-900878eb52ba",
   "metadata": {},
   "outputs": [
    {
     "data": {
      "image/png": "[encoded data removed]",
      "text/plain": [
       "<Figure size 432x288 with 1 Axes>"
      ]
     },
     "metadata": {
      "needs_background": "light"
     },
     "output_type": "display_data"
    }
   ],
   "source": [
    "# how many genes of each novelty category are there expressed?\n",
    "temp = df.copy(deep=True)\n",
    "temp = temp[['gid_stable', 'gene_novelty']].groupby('gene_novelty').count().reset_index()\n",
    "temp.rename({'gid_stable': 'n_genes'}, axis=1, inplace=True)\n",
    "ax = sns.barplot(data=temp, \n",
    "                 y='n_genes', \n",
    "                 x='gene_novelty',\n",
    "                 palette=c_dict,\n",
    "                 order=order,\n",
    "                 saturation=1)\n",
    "\n",
    "ax.set(xlabel='', ylabel='Number of genes')\n",
    "ax.spines['right'].set_visible(False)\n",
    "ax.spines['top'].set_visible(False)"
   ]
  },
  {
   "cell_type": "code",
   "execution_count": 145,
   "id": "50fc05c9-fee6-4ff1-b41b-1f645a0f93b9",
   "metadata": {},
   "outputs": [
    {
     "name": "stdout",
     "output_type": "stream",
     "text": [
      "Calculating iso TPM values\n",
      "Enforcing minimum TPM\n",
      "Total # isos detected: 5401754\n",
      "# isos >= 1 tpm: 1669566\n",
      "Number of isos reported: 1669566\n"
     ]
    }
   ],
   "source": [
    "# how many isoforms does each gene have by gene novelty\n",
    "\n",
    "# get all, unfiltered, 1 TPM isoforms\n",
    "ab_df = pd.read_csv(unfilt_ab, sep='\\t')\n",
    "df, _ = get_tpm_table(ab_df,\n",
    "                      how='iso',\n",
    "                      min_tpm=1)"
   ]
  },
  {
   "cell_type": "code",
   "execution_count": 77,
   "id": "28419f0b-52dd-467f-ab37-0d9cffc463d0",
   "metadata": {},
   "outputs": [],
   "source": [
    "# merge with gene novelty info\n",
    "df.reset_index(inplace=True)\n",
    "df = df.merge(ab_df[['annot_transcript_id', 'annot_gene_id', 'gene_novelty']],\n",
    "              how='left', \n",
    "              on='annot_transcript_id')"
   ]
  },
  {
   "cell_type": "code",
   "execution_count": 78,
   "id": "580a83d1-cca3-4351-b36e-f4bf39c47c11",
   "metadata": {},
   "outputs": [],
   "source": [
    "# how many isos does each gene have?\n",
    "df = df.groupby(['annot_gene_id', 'gene_novelty']).count().reset_index()\n",
    "df.rename({'annot_transcript_id': 'n_ts'}, axis=1, inplace=True)"
   ]
  },
  {
   "cell_type": "code",
   "execution_count": 80,
   "id": "97a526e5-a6ed-4ca9-8223-924b1a3052da",
   "metadata": {},
   "outputs": [],
   "source": [
    "df = df[['annot_gene_id', 'gene_novelty', 'n_ts']]"
   ]
  },
  {
   "cell_type": "code",
   "execution_count": 90,
   "id": "65ed698b-de17-49fe-8475-d1143b192947",
   "metadata": {},
   "outputs": [
    {
     "data": {
      "text/plain": [
       "<seaborn.axisgrid.FacetGrid at 0x7fa8244ae050>"
      ]
     },
     "execution_count": 90,
     "metadata": {},
     "output_type": "execute_result"
    },
    {
     "data": {
      "image/png": "[encoded data removed]",
      "text/plain": [
       "<Figure size 497.399x360 with 1 Axes>"
      ]
     },
     "metadata": {
      "needs_background": "light"
     },
     "output_type": "display_data"
    }
   ],
   "source": [
    "ax = sns.displot(data=df, \n",
    "                 kind='hist',\n",
    "                 x='n_ts',\n",
    "                 hue='gene_novelty',\n",
    "                 palette=c_dict,\n",
    "                 multiple='dodge')\n",
    "ax.set(xlabel='# transcripts')"
   ]
  },
  {
   "cell_type": "code",
   "execution_count": 98,
   "id": "b81b32cf-b8c5-4b4f-b651-62c78c9c2a07",
   "metadata": {},
   "outputs": [
    {
     "data": {
      "text/html": [
       "<div>\n",
       "<style scoped>\n",
       "    .dataframe tbody tr th:only-of-type {\n",
       "        vertical-align: middle;\n",
       "    }\n",
       "\n",
       "    .dataframe tbody tr th {\n",
       "        vertical-align: top;\n",
       "    }\n",
       "\n",
       "    .dataframe thead th {\n",
       "        text-align: right;\n",
       "    }\n",
       "</style>\n",
       "<table border=\"1\" class=\"dataframe\">\n",
       "  <thead>\n",
       "    <tr style=\"text-align: right;\">\n",
       "      <th></th>\n",
       "      <th>n_ts</th>\n",
       "      <th>gene_novelty</th>\n",
       "      <th>n_genes</th>\n",
       "      <th>n_total_genes</th>\n",
       "      <th>perc</th>\n",
       "    </tr>\n",
       "  </thead>\n",
       "  <tbody>\n",
       "    <tr>\n",
       "      <th>0</th>\n",
       "      <td>1</td>\n",
       "      <td>Antisense</td>\n",
       "      <td>189550</td>\n",
       "      <td>208817</td>\n",
       "      <td>90.773261</td>\n",
       "    </tr>\n",
       "    <tr>\n",
       "      <th>57</th>\n",
       "      <td>1</td>\n",
       "      <td>Intergenic</td>\n",
       "      <td>41893</td>\n",
       "      <td>45219</td>\n",
       "      <td>92.644685</td>\n",
       "    </tr>\n",
       "    <tr>\n",
       "      <th>106</th>\n",
       "      <td>1</td>\n",
       "      <td>Known</td>\n",
       "      <td>8602</td>\n",
       "      <td>35537</td>\n",
       "      <td>24.205757</td>\n",
       "    </tr>\n",
       "  </tbody>\n",
       "</table>\n",
       "</div>"
      ],
      "text/plain": [
       "     n_ts gene_novelty  n_genes  n_total_genes       perc\n",
       "0       1    Antisense   189550         208817  90.773261\n",
       "57      1   Intergenic    41893          45219  92.644685\n",
       "106     1        Known     8602          35537  24.205757"
      ]
     },
     "execution_count": 98,
     "metadata": {},
     "output_type": "execute_result"
    }
   ],
   "source": [
    "# what % of genes have 1 isoform from each category?\n",
    "temp = df[['annot_gene_id', 'gene_novelty', 'n_ts']].groupby(['n_ts', 'gene_novelty']).count().reset_index()\n",
    "temp.rename({'annot_gene_id': 'n_genes'}, axis=1, inplace=True)\n",
    "\n",
    "totals = temp[['gene_novelty', 'n_genes']].groupby('gene_novelty').sum().reset_index()\n",
    "totals.rename({'n_genes': 'n_total_genes'}, axis=1, inplace=True)\n",
    "\n",
    "temp = temp.merge(totals, on='gene_novelty')\n",
    "temp['perc'] = (temp['n_genes']/temp['n_total_genes'])*100\n",
    "temp.loc[temp.n_ts==1]"
   ]
  },
  {
   "cell_type": "code",
   "execution_count": 181,
   "id": "81bd89cf-cd04-4afa-841c-dd4ff05a8c90",
   "metadata": {},
   "outputs": [
    {
     "name": "stdout",
     "output_type": "stream",
     "text": [
      "Calculating iso TPM values\n"
     ]
    },
    {
     "name": "stderr",
     "output_type": "stream",
     "text": [
      "/Users/fairliereese/Documents/programming/mortazavi_lab/data/rnawg/scripts/utils.py:2049: PerformanceWarning: DataFrame is highly fragmented.  This is usually the result of calling `frame.insert` many times, which has poor performance.  Consider joining all columns at once using pd.concat(axis=1) instead.  To get a de-fragmented frame, use `newframe = frame.copy()`\n",
      "  df[total_col] = df[d].sum()\n",
      "/Users/fairliereese/Documents/programming/mortazavi_lab/data/rnawg/scripts/utils.py:2050: PerformanceWarning: DataFrame is highly fragmented.  This is usually the result of calling `frame.insert` many times, which has poor performance.  Consider joining all columns at once using pd.concat(axis=1) instead.  To get a de-fragmented frame, use `newframe = frame.copy()`\n",
      "  df[tpm_col] = (df[d]*1000000)/df[total_col]\n"
     ]
    },
    {
     "name": "stdout",
     "output_type": "stream",
     "text": [
      "Enforcing minimum TPM\n",
      "Total # isos detected: 194503\n",
      "# isos >= 1 tpm: 175394\n",
      "Number of isos reported: 175394\n"
     ]
    }
   ],
   "source": [
    "# how many exons do isoforms of genes of different\n",
    "# novelty types have?\n",
    "\n",
    "# get all, unfiltered, 1 TPM isoforms\n",
    "ab_df = pd.read_csv(talon_filt_ab, sep='\\t')\n",
    "df, _ = get_tpm_table(ab_df,\n",
    "                      how='iso',\n",
    "                      min_tpm=1)"
   ]
  },
  {
   "cell_type": "code",
   "execution_count": 182,
   "id": "5af8f51f-439a-433d-a9b2-1dc65585a20d",
   "metadata": {},
   "outputs": [],
   "source": [
    "# merge with extra info\n",
    "df.reset_index(inplace=True)\n",
    "df = df.merge(ab_df[['annot_transcript_id', 'annot_gene_id', 'gene_novelty', 'n_exons']],\n",
    "              how='left', \n",
    "              on='annot_transcript_id')"
   ]
  },
  {
   "cell_type": "code",
   "execution_count": 183,
   "id": "098cc756-c1b3-49dc-a10d-63b88cfc0ba1",
   "metadata": {},
   "outputs": [
    {
     "name": "stdout",
     "output_type": "stream",
     "text": [
      "214\n",
      "412\n"
     ]
    }
   ],
   "source": [
    "n = len(df.loc[(df.n_exons>1)&(df.gene_novelty=='Intergenic'), 'annot_gene_id'].unique())\n",
    "print(n)\n",
    "n = len(df.loc[(df.n_exons>1)&(df.gene_novelty=='Intergenic'), 'annot_transcript_id'].unique())\n",
    "print(n)\n"
   ]
  },
  {
   "cell_type": "code",
   "execution_count": 175,
   "id": "813d58fc-ef39-4a66-8e39-476d08902f33",
   "metadata": {},
   "outputs": [
    {
     "data": {
      "text/plain": [
       "<seaborn.axisgrid.FacetGrid at 0x7f8b03dad510>"
      ]
     },
     "execution_count": 175,
     "metadata": {},
     "output_type": "execute_result"
    },
    {
     "data": {
      "image/png": "[encoded data removed]",
      "text/plain": [
       "<Figure size 507.922x360 with 1 Axes>"
      ]
     },
     "metadata": {
      "needs_background": "light"
     },
     "output_type": "display_data"
    }
   ],
   "source": [
    "# temp4 = temp.loc[temp.gene_novelty_x=='Intergenic']\n",
    "temp5 = temp4.loc[temp4.n_exons_x > 1]\n",
    "ax = sns.displot(data=temp5, \n",
    "                 kind='hist',\n",
    "                 x='n_exons_x',\n",
    "                 hue='gene_novelty_x',\n",
    "                 palette=c_dict,\n",
    "                 discrete=True,\n",
    "                 binwidth=1)\n",
    "ax.set(xlabel='# exons', ylabel='# transcripts')"
   ]
  },
  {
   "cell_type": "code",
   "execution_count": 164,
   "id": "4289c8a7-3c73-4f8a-b392-0336b6f2c5ef",
   "metadata": {},
   "outputs": [
    {
     "data": {
      "text/html": [
       "<div>\n",
       "<style scoped>\n",
       "    .dataframe tbody tr th:only-of-type {\n",
       "        vertical-align: middle;\n",
       "    }\n",
       "\n",
       "    .dataframe tbody tr th {\n",
       "        vertical-align: top;\n",
       "    }\n",
       "\n",
       "    .dataframe thead th {\n",
       "        text-align: right;\n",
       "    }\n",
       "</style>\n",
       "<table border=\"1\" class=\"dataframe\">\n",
       "  <thead>\n",
       "    <tr style=\"text-align: right;\">\n",
       "      <th></th>\n",
       "      <th>annot_transcript_id</th>\n",
       "      <th>annot_gene_id_x</th>\n",
       "      <th>n_exons_x</th>\n",
       "      <th>gene_novelty_x</th>\n",
       "    </tr>\n",
       "  </thead>\n",
       "  <tbody>\n",
       "    <tr>\n",
       "      <th>71993</th>\n",
       "      <td>ENCODEHT000206762</td>\n",
       "      <td>ENCODEHG000058781</td>\n",
       "      <td>1</td>\n",
       "      <td>Intergenic</td>\n",
       "    </tr>\n",
       "    <tr>\n",
       "      <th>71994</th>\n",
       "      <td>ENCODEHT000206763</td>\n",
       "      <td>ENCODEHG000058782</td>\n",
       "      <td>1</td>\n",
       "      <td>Intergenic</td>\n",
       "    </tr>\n",
       "    <tr>\n",
       "      <th>71995</th>\n",
       "      <td>ENCODEHT000206764</td>\n",
       "      <td>ENCODEHG000058783</td>\n",
       "      <td>1</td>\n",
       "      <td>Intergenic</td>\n",
       "    </tr>\n",
       "    <tr>\n",
       "      <th>71997</th>\n",
       "      <td>ENCODEHT000206766</td>\n",
       "      <td>ENCODEHG000058785</td>\n",
       "      <td>1</td>\n",
       "      <td>Intergenic</td>\n",
       "    </tr>\n",
       "    <tr>\n",
       "      <th>71998</th>\n",
       "      <td>ENCODEHT000206767</td>\n",
       "      <td>ENCODEHG000058786</td>\n",
       "      <td>1</td>\n",
       "      <td>Intergenic</td>\n",
       "    </tr>\n",
       "    <tr>\n",
       "      <th>...</th>\n",
       "      <td>...</td>\n",
       "      <td>...</td>\n",
       "      <td>...</td>\n",
       "      <td>...</td>\n",
       "    </tr>\n",
       "    <tr>\n",
       "      <th>1669270</th>\n",
       "      <td>ENCODEHT005507770</td>\n",
       "      <td>ENCODEHG000613876</td>\n",
       "      <td>1</td>\n",
       "      <td>Intergenic</td>\n",
       "    </tr>\n",
       "    <tr>\n",
       "      <th>1669283</th>\n",
       "      <td>ENCODEHT005507894</td>\n",
       "      <td>ENCODEHG000613915</td>\n",
       "      <td>1</td>\n",
       "      <td>Intergenic</td>\n",
       "    </tr>\n",
       "    <tr>\n",
       "      <th>1669407</th>\n",
       "      <td>ENCODEHT005509868</td>\n",
       "      <td>ENCODEHG000614148</td>\n",
       "      <td>1</td>\n",
       "      <td>Intergenic</td>\n",
       "    </tr>\n",
       "    <tr>\n",
       "      <th>1669531</th>\n",
       "      <td>ENCODEHT005511279</td>\n",
       "      <td>ENCODEHG000614458</td>\n",
       "      <td>1</td>\n",
       "      <td>Intergenic</td>\n",
       "    </tr>\n",
       "    <tr>\n",
       "      <th>1669554</th>\n",
       "      <td>ENCODEHT005511647</td>\n",
       "      <td>ENCODEHG000614535</td>\n",
       "      <td>1</td>\n",
       "      <td>Intergenic</td>\n",
       "    </tr>\n",
       "  </tbody>\n",
       "</table>\n",
       "<p>49337 rows × 4 columns</p>\n",
       "</div>"
      ],
      "text/plain": [
       "        annot_transcript_id    annot_gene_id_x  n_exons_x gene_novelty_x\n",
       "71993     ENCODEHT000206762  ENCODEHG000058781          1     Intergenic\n",
       "71994     ENCODEHT000206763  ENCODEHG000058782          1     Intergenic\n",
       "71995     ENCODEHT000206764  ENCODEHG000058783          1     Intergenic\n",
       "71997     ENCODEHT000206766  ENCODEHG000058785          1     Intergenic\n",
       "71998     ENCODEHT000206767  ENCODEHG000058786          1     Intergenic\n",
       "...                     ...                ...        ...            ...\n",
       "1669270   ENCODEHT005507770  ENCODEHG000613876          1     Intergenic\n",
       "1669283   ENCODEHT005507894  ENCODEHG000613915          1     Intergenic\n",
       "1669407   ENCODEHT005509868  ENCODEHG000614148          1     Intergenic\n",
       "1669531   ENCODEHT005511279  ENCODEHG000614458          1     Intergenic\n",
       "1669554   ENCODEHT005511647  ENCODEHG000614535          1     Intergenic\n",
       "\n",
       "[49337 rows x 4 columns]"
      ]
     },
     "execution_count": 164,
     "metadata": {},
     "output_type": "execute_result"
    }
   ],
   "source": [
    "temp4.loc[temp4.n_exons_x\n",
    "          ==1]"
   ]
  },
  {
   "cell_type": "code",
   "execution_count": 113,
   "id": "eada37a7-a7fc-4c20-a92a-9ba5407cb2ba",
   "metadata": {},
   "outputs": [
    {
     "data": {
      "image/png": "[encoded data removed]",
      "text/plain": [
       "<Figure size 432x288 with 1 Axes>"
      ]
     },
     "metadata": {
      "needs_background": "light"
     },
     "output_type": "display_data"
    }
   ],
   "source": [
    "ax = sns.boxplot(data=df, \n",
    "                 y='n_exons',\n",
    "                 x='gene_novelty',\n",
    "                 palette=c_dict,\n",
    "                 order=order,\n",
    "                 linewidth=1,\n",
    "                 fliersize=1,\n",
    "                 flierprops={'marker': 'x'})\n",
    "ax.set(yscale='log', xlabel='', ylabel='# exons')\n",
    "ax.spines['right'].set_visible(False)\n",
    "ax.spines['top'].set_visible(False)"
   ]
  },
  {
   "cell_type": "code",
   "execution_count": 123,
   "id": "dd2c0506-b15e-4c5c-be88-fc5b0364ce0e",
   "metadata": {},
   "outputs": [
    {
     "data": {
      "text/plain": [
       "<seaborn.axisgrid.FacetGrid at 0x7fa8120c1990>"
      ]
     },
     "execution_count": 123,
     "metadata": {},
     "output_type": "execute_result"
    },
    {
     "data": {
      "image/png": "[encoded data removed]",
      "text/plain": [
       "<Figure size 497.399x360 with 1 Axes>"
      ]
     },
     "metadata": {
      "needs_background": "light"
     },
     "output_type": "display_data"
    }
   ],
   "source": [
    "ax = sns.displot(data=df, \n",
    "                 kind='hist',\n",
    "                 x='n_exons',\n",
    "                 hue='gene_novelty',\n",
    "                 palette=c_dict,\n",
    "                 multiple='dodge',\n",
    "                 binwidth=1)\n",
    "ax.set(xlabel='# exons', ylabel='# transcripts')"
   ]
  },
  {
   "cell_type": "code",
   "execution_count": 122,
   "id": "6248e3c2-5b73-4bcb-a0a1-2b8d48dcffac",
   "metadata": {},
   "outputs": [
    {
     "data": {
      "text/plain": [
       "<seaborn.axisgrid.FacetGrid at 0x7fa6b1884990>"
      ]
     },
     "execution_count": 122,
     "metadata": {},
     "output_type": "execute_result"
    },
    {
     "data": {
      "image/png": "[encoded data removed]",
      "text/plain": [
       "<Figure size 497.399x360 with 1 Axes>"
      ]
     },
     "metadata": {
      "needs_background": "light"
     },
     "output_type": "display_data"
    }
   ],
   "source": [
    "# what about when we remove monoexonic transcripts?\n",
    "temp2 = temp.loc[temp.n_exons>1]\n",
    "ax = sns.displot(data=temp2, \n",
    "                 kind='hist',\n",
    "                 x='n_exons',\n",
    "                 hue='gene_novelty',\n",
    "                 palette=c_dict,\n",
    "                 multiple='dodge',\n",
    "                 binwidth=1)\n",
    "ax.set(xlabel='# exons', ylabel='# transcripts')"
   ]
  },
  {
   "cell_type": "code",
   "execution_count": 124,
   "id": "8e03e9cb-a35b-4cfa-bcfb-2eeb4b75644f",
   "metadata": {},
   "outputs": [
    {
     "data": {
      "text/plain": [
       "<seaborn.axisgrid.FacetGrid at 0x7fa6b4da9410>"
      ]
     },
     "execution_count": 124,
     "metadata": {},
     "output_type": "execute_result"
    },
    {
     "data": {
      "image/png": "[encoded data removed]",
      "text/plain": [
       "<Figure size 497.399x360 with 1 Axes>"
      ]
     },
     "metadata": {
      "needs_background": "light"
     },
     "output_type": "display_data"
    }
   ],
   "source": [
    "# what about when we remove monoexonic transcripts?\n",
    "temp2 = temp.loc[temp.n_exons>1]\n",
    "ax = sns.displot(data=temp2, \n",
    "                 kind='hist',\n",
    "                 x='n_exons',\n",
    "                 hue='gene_novelty',\n",
    "                 palette=c_dict,\n",
    "                 multiple='dodge',\n",
    "                 binwidth=1)\n",
    "ax.set(xlabel='# exons', ylabel='# transcripts',\n",
    "       xlim=(0,40))"
   ]
  },
  {
   "cell_type": "code",
   "execution_count": 129,
   "id": "ea3c66d3-cbc4-4dd3-9d80-9985bcffa456",
   "metadata": {},
   "outputs": [
    {
     "data": {
      "text/plain": [
       "<seaborn.axisgrid.FacetGrid at 0x7fa812f51a90>"
      ]
     },
     "execution_count": 129,
     "metadata": {},
     "output_type": "execute_result"
    },
    {
     "data": {
      "image/png": "[encoded data removed]",
      "text/plain": [
       "<Figure size 497.399x360 with 1 Axes>"
      ]
     },
     "metadata": {
      "needs_background": "light"
     },
     "output_type": "display_data"
    }
   ],
   "source": [
    "ax = sns.displot(data=temp2, \n",
    "                 kind='kde',\n",
    "                 x='n_exons',\n",
    "                 hue='gene_novelty',\n",
    "                 palette=c_dict, \n",
    "                 common_norm=True)\n",
    "ax.set(xlabel='# exons', ylabel='# transcripts')"
   ]
  },
  {
   "cell_type": "code",
   "execution_count": 128,
   "id": "0b7c5af0-23dc-46e1-a749-29ad0eb127bf",
   "metadata": {},
   "outputs": [
    {
     "data": {
      "text/plain": [
       "<seaborn.axisgrid.FacetGrid at 0x7fa812f2d190>"
      ]
     },
     "execution_count": 128,
     "metadata": {},
     "output_type": "execute_result"
    },
    {
     "data": {
      "image/png": "[encoded data removed]",
      "text/plain": [
       "<Figure size 497.399x360 with 1 Axes>"
      ]
     },
     "metadata": {
      "needs_background": "light"
     },
     "output_type": "display_data"
    }
   ],
   "source": [
    "ax = sns.displot(data=temp2, \n",
    "                 kind='kde',\n",
    "                 x='n_exons',\n",
    "                 hue='gene_novelty',\n",
    "                 palette=c_dict, \n",
    "                 common_norm=True)\n",
    "ax.set(xlabel='# exons', ylabel='# transcripts',\n",
    "       xlim=(0,40))"
   ]
  },
  {
   "cell_type": "markdown",
   "id": "922c754e-5f7e-4491-a538-5c2791e5948e",
   "metadata": {},
   "source": [
    "## Novel transcript filter"
   ]
  },
  {
   "cell_type": "code",
   "execution_count": 29,
   "id": "f3ad2272-c85e-4bee-8cb2-6bb4ae930562",
   "metadata": {},
   "outputs": [],
   "source": [
    "import pandas as pd\n",
    "import numpy as np\n",
    "import scipy.stats as st\n",
    "import seaborn as sns\n",
    "import sys\n",
    "import os\n",
    "import gseapy as gp\n",
    "import matplotlib.pyplot as plt\n",
    "import swan_vis as swan\n",
    "import sqlite3\n",
    "\n",
    "p = os.path.dirname(os.path.dirname(os.getcwd()))\n",
    "sys.path.append(p)\n",
    "\n",
    "from scripts.utils import *\n",
    "from scripts.plotting import *\n",
    "\n",
    "ab = '/Users/fairliereese/mortazavi_lab/data/paper_rnawg/figures/data/human/abundance.tsv'\n",
    "unfilt_ab = '../../lr_bulk/talon/human_talon_abundance.tsv'\n",
    "filt_ab = '../../lr_bulk/cerberus/cerberus_filtered_abundance.tsv'\n",
    "talon_filt_ab = '../../lr_bulk/talon/human_talon_abundance_filtered.tsv'\n",
    "read_annot = '../../lr_bulk/talon/human_talon_read_annot.tsv'\n",
    "t_metadata = '../../refs/cerberus/v40_transcript_metadata.tsv'\n",
    "db = '../../lr_bulk/talon/human.db'\n",
    "ver = 'v40_cerberus'\n",
    "min_tpm = 1\n",
    "gene_subset = 'polya'\n",
    "obs_col = 'sample'\n",
    "swan_file = '../../lr_bulk/cerberus/swan/swan_meta.p'\n",
    "\n",
    "mouse_unfilt_ab = '../../mouse/lr_bulk/talon/mouse_talon_abundance.tsv'  \n",
    "mouse_talon_filt_ab = '../../mouse/lr_bulk/talon/mouse_talon_abundance_filtered.tsv'"
   ]
  },
  {
   "cell_type": "code",
   "execution_count": 34,
   "id": "125519d4-6eb8-4e6b-9587-a657427f25e6",
   "metadata": {},
   "outputs": [],
   "source": [
    "def get_n_intergenic_t_g(ab_file,\n",
    "                         min_tpm,\n",
    "                         min_exons,\n",
    "                         **kwargs):\n",
    "    ab_df = pd.read_csv(ab_file, sep='\\t')\n",
    "    df, _ = get_tpm_table(ab_df,\n",
    "                   how='iso',\n",
    "                   nov='all',\n",
    "                   min_tpm=min_tpm,\n",
    "                   **kwargs)\n",
    "    \n",
    "    # merge with extra info\n",
    "    df.reset_index(inplace=True)\n",
    "    df = df.merge(ab_df[['annot_transcript_id', 'annot_gene_id', 'gene_novelty', 'n_exons']],\n",
    "                  how='left', \n",
    "                  on='annot_transcript_id')\n",
    "    \n",
    "    n = len(df.loc[(df.n_exons>=min_exons)&(df.gene_novelty=='Intergenic'), 'annot_gene_id'].unique())\n",
    "    print(f'Found {n} unique intergenic genes w/ >{min_exons} exons and >={min_tpm}')\n",
    "    n = len(df.loc[(df.n_exons>=min_exons)&(df.gene_novelty=='Intergenic'), 'annot_transcript_id'].unique())\n",
    "    print(f'Found {n} unique intergenic transcripts w/ >{min_exons} exons and >={min_tpm} tpm')\n",
    "    \n",
    "    df = df.loc[(df.n_exons>=min_exons)&(df.gene_novelty=='Intergenic')]\n",
    "    \n",
    "    return df"
   ]
  },
  {
   "cell_type": "code",
   "execution_count": 98,
   "id": "719657bf-cd5e-4c21-bca5-8a11259e4dd3",
   "metadata": {},
   "outputs": [
    {
     "name": "stdout",
     "output_type": "stream",
     "text": [
      "Calculating iso TPM values\n",
      "Number of isos reported: 194503\n",
      "Found 214 unique intergenic genes w/ >2 exons and >=0\n",
      "Found 412 unique intergenic transcripts w/ >2 exons and >=0 tpm\n"
     ]
    }
   ],
   "source": [
    "# filtered talon abundance file\n",
    "# should be filtered for 5 reads in 2 datasets\n",
    "# and have the internal priming filter\n",
    "df = get_n_intergenic_t_g(talon_filt_ab, \n",
    "                     min_tpm=1,\n",
    "                     min_exons=2)\n",
    "tids_2 = df.annot_transcript_id.tolist()"
   ]
  },
  {
   "cell_type": "code",
   "execution_count": 4,
   "id": "50321de1-5ae9-4763-b030-010661eb07ed",
   "metadata": {},
   "outputs": [
    {
     "name": "stdout",
     "output_type": "stream",
     "text": [
      "Calculating iso TPM values\n",
      "Enforcing minimum TPM\n",
      "Total # isos detected: 5401754\n",
      "# isos >= 1 tpm: 1669566\n",
      "Number of isos reported: 1669566\n",
      "Found 3705 unique intergenic genes w/ >2 exons and >=1\n",
      "Found 8829 unique intergenic transcripts w/ >2 exons and >=1\n"
     ]
    }
   ],
   "source": [
    "# unfiltered talon abundance file\n",
    "get_n_intergenic_t_g(unfilt_ab, \n",
    "                     min_tpm=1,\n",
    "                     min_exons=2)"
   ]
  },
  {
   "cell_type": "code",
   "execution_count": 97,
   "id": "1c4a33e3-3648-4ab4-916d-c616a007cf71",
   "metadata": {},
   "outputs": [],
   "source": [
    "# ab_df = pd.read_csv(talon_filt_ab, sep='\\t')\n",
    "# df, _ = get_tpm_table(ab_df,\n",
    "#                    how='iso',\n",
    "#                    nov='all',\n",
    "#                    min_tpm=1)"
   ]
  },
  {
   "cell_type": "code",
   "execution_count": 41,
   "id": "d58ee41f-9115-4226-9b0e-993e8957606c",
   "metadata": {},
   "outputs": [],
   "source": [
    "# ensure that, idk, the talon filter actually worked cause that is a rly steep drop\n",
    "min_reads = 5\n",
    "min_datasets = 2\n",
    "min_exons = 2\n",
    "ab_df = pd.read_csv(unfilt_ab, sep='\\t')"
   ]
  },
  {
   "cell_type": "code",
   "execution_count": 83,
   "id": "19a137f5-0e84-4bad-a8f9-76af41d33c46",
   "metadata": {},
   "outputs": [
    {
     "name": "stdout",
     "output_type": "stream",
     "text": [
      "Total number of unfilt. isos 5401754\n",
      "Number of intergenic isos 205201\n"
     ]
    }
   ],
   "source": [
    "# ensure novelty type\n",
    "print(f'Total number of unfilt. isos {len(ab_df.index)}')\n",
    "df = ab_df.copy(deep=True)\n",
    "df = df.loc[df.gene_novelty=='Intergenic']\n",
    "print(f'Number of intergenic isos {len(df.index)}')"
   ]
  },
  {
   "cell_type": "code",
   "execution_count": 84,
   "id": "aaf556f6-ef90-4ec5-a65d-27da77d743da",
   "metadata": {},
   "outputs": [
    {
     "name": "stdout",
     "output_type": "stream",
     "text": [
      "Number of intergenic isos w/ >=2 exons 42053\n"
     ]
    }
   ],
   "source": [
    "# ensure min exons\n",
    "df = df.loc[df.n_exons >= min_exons]\n",
    "print(f'Number of intergenic isos w/ >={min_exons} exons {len(df.index)}')"
   ]
  },
  {
   "cell_type": "code",
   "execution_count": 85,
   "id": "1bbf4854-30b7-48ba-a6c6-91ac5906163f",
   "metadata": {},
   "outputs": [],
   "source": [
    "cols = get_dataset_cols()\n",
    "df.set_index('annot_transcript_id', inplace=True)\n",
    "df = df[cols]"
   ]
  },
  {
   "cell_type": "code",
   "execution_count": 86,
   "id": "346f5f5a-ee30-4a89-9907-769348a751bb",
   "metadata": {},
   "outputs": [
    {
     "data": {
      "text/plain": [
       "mcf7_1_1                     9\n",
       "k562_1_1                     3\n",
       "heart_right_ventricle_2_1    4\n",
       "gm12878_3_1                  9\n",
       "heart_right_ventricle_3_1    7\n",
       "                            ..\n",
       "pgp1_endo_1_2                0\n",
       "left_cardiac_atrium_1_1      0\n",
       "h9_neural_crest_1_1          0\n",
       "h9_neural_crest_1_2          0\n",
       "left_lung_2_1                0\n",
       "Name: ENCODEHT000206833, Length: 138, dtype: int64"
      ]
     },
     "execution_count": 86,
     "metadata": {},
     "output_type": "execute_result"
    }
   ],
   "source": [
    "# df.loc[df['aorta_2_1']>=min_reads].head()\n",
    "df.loc['ENCODEHT000206833']"
   ]
  },
  {
   "cell_type": "code",
   "execution_count": 87,
   "id": "ae201923-c314-43fa-be00-ddc229a5c402",
   "metadata": {},
   "outputs": [
    {
     "data": {
      "text/plain": [
       "mcf7_1_1                      True\n",
       "k562_1_1                     False\n",
       "heart_right_ventricle_2_1    False\n",
       "gm12878_3_1                   True\n",
       "heart_right_ventricle_3_1     True\n",
       "                             ...  \n",
       "pgp1_endo_1_2                False\n",
       "left_cardiac_atrium_1_1      False\n",
       "h9_neural_crest_1_1          False\n",
       "h9_neural_crest_1_2          False\n",
       "left_lung_2_1                False\n",
       "Name: ENCODEHT000206833, Length: 138, dtype: bool"
      ]
     },
     "execution_count": 87,
     "metadata": {},
     "output_type": "execute_result"
    }
   ],
   "source": [
    "df = df >= min_reads\n",
    "# df.loc[df['aorta_2_1'] == True].head()\n",
    "df.loc['ENCODEHT000206833']"
   ]
  },
  {
   "cell_type": "code",
   "execution_count": 88,
   "id": "6e2c56b5-5388-4da0-8dd9-03a4cdb583ff",
   "metadata": {},
   "outputs": [
    {
     "name": "stdout",
     "output_type": "stream",
     "text": [
      "Number of intergenic isos w/ >=2 exons and >=5 reads in >=2 datasets 432\n"
     ]
    }
   ],
   "source": [
    "df = df.loc[df.sum(axis=1)>=min_datasets]\n",
    "print(f'Number of intergenic isos w/ >={min_exons} exons and >={min_reads} reads in >={min_datasets} datasets {len(df.index)}')"
   ]
  },
  {
   "cell_type": "code",
   "execution_count": 89,
   "id": "2988c778-fb23-4640-8eb5-91e9db7161b7",
   "metadata": {},
   "outputs": [
    {
     "data": {
      "text/html": [
       "<div>\n",
       "<style scoped>\n",
       "    .dataframe tbody tr th:only-of-type {\n",
       "        vertical-align: middle;\n",
       "    }\n",
       "\n",
       "    .dataframe tbody tr th {\n",
       "        vertical-align: top;\n",
       "    }\n",
       "\n",
       "    .dataframe thead th {\n",
       "        text-align: right;\n",
       "    }\n",
       "</style>\n",
       "<table border=\"1\" class=\"dataframe\">\n",
       "  <thead>\n",
       "    <tr style=\"text-align: right;\">\n",
       "      <th></th>\n",
       "      <th>mcf7_1_1</th>\n",
       "      <th>k562_1_1</th>\n",
       "      <th>heart_right_ventricle_2_1</th>\n",
       "      <th>gm12878_3_1</th>\n",
       "      <th>heart_right_ventricle_3_1</th>\n",
       "      <th>pc3_1_1</th>\n",
       "      <th>lower_lobe_of_right_lung_1_1</th>\n",
       "      <th>hl60_m1_24hr_1_1</th>\n",
       "      <th>hl60_m1_24hr_1_2</th>\n",
       "      <th>hl60_m2_24hr_1_1</th>\n",
       "      <th>...</th>\n",
       "      <th>heart_right_ventricle_1_1</th>\n",
       "      <th>right_lobe_of_liver_2_1</th>\n",
       "      <th>hl60_1_1</th>\n",
       "      <th>hl60_1_2</th>\n",
       "      <th>pgp1_endo_1_1</th>\n",
       "      <th>pgp1_endo_1_2</th>\n",
       "      <th>left_cardiac_atrium_1_1</th>\n",
       "      <th>h9_neural_crest_1_1</th>\n",
       "      <th>h9_neural_crest_1_2</th>\n",
       "      <th>left_lung_2_1</th>\n",
       "    </tr>\n",
       "    <tr>\n",
       "      <th>annot_transcript_id</th>\n",
       "      <th></th>\n",
       "      <th></th>\n",
       "      <th></th>\n",
       "      <th></th>\n",
       "      <th></th>\n",
       "      <th></th>\n",
       "      <th></th>\n",
       "      <th></th>\n",
       "      <th></th>\n",
       "      <th></th>\n",
       "      <th></th>\n",
       "      <th></th>\n",
       "      <th></th>\n",
       "      <th></th>\n",
       "      <th></th>\n",
       "      <th></th>\n",
       "      <th></th>\n",
       "      <th></th>\n",
       "      <th></th>\n",
       "      <th></th>\n",
       "      <th></th>\n",
       "    </tr>\n",
       "  </thead>\n",
       "  <tbody>\n",
       "    <tr>\n",
       "      <th>ENCODEHT000206765</th>\n",
       "      <td>True</td>\n",
       "      <td>True</td>\n",
       "      <td>True</td>\n",
       "      <td>True</td>\n",
       "      <td>True</td>\n",
       "      <td>False</td>\n",
       "      <td>False</td>\n",
       "      <td>False</td>\n",
       "      <td>False</td>\n",
       "      <td>False</td>\n",
       "      <td>...</td>\n",
       "      <td>True</td>\n",
       "      <td>False</td>\n",
       "      <td>True</td>\n",
       "      <td>False</td>\n",
       "      <td>False</td>\n",
       "      <td>False</td>\n",
       "      <td>True</td>\n",
       "      <td>True</td>\n",
       "      <td>True</td>\n",
       "      <td>False</td>\n",
       "    </tr>\n",
       "    <tr>\n",
       "      <th>ENCODEHT000206785</th>\n",
       "      <td>False</td>\n",
       "      <td>False</td>\n",
       "      <td>False</td>\n",
       "      <td>False</td>\n",
       "      <td>False</td>\n",
       "      <td>False</td>\n",
       "      <td>False</td>\n",
       "      <td>False</td>\n",
       "      <td>False</td>\n",
       "      <td>False</td>\n",
       "      <td>...</td>\n",
       "      <td>False</td>\n",
       "      <td>False</td>\n",
       "      <td>False</td>\n",
       "      <td>True</td>\n",
       "      <td>False</td>\n",
       "      <td>False</td>\n",
       "      <td>False</td>\n",
       "      <td>True</td>\n",
       "      <td>True</td>\n",
       "      <td>False</td>\n",
       "    </tr>\n",
       "    <tr>\n",
       "      <th>ENCODEHT000206825</th>\n",
       "      <td>False</td>\n",
       "      <td>False</td>\n",
       "      <td>False</td>\n",
       "      <td>False</td>\n",
       "      <td>False</td>\n",
       "      <td>False</td>\n",
       "      <td>False</td>\n",
       "      <td>False</td>\n",
       "      <td>False</td>\n",
       "      <td>False</td>\n",
       "      <td>...</td>\n",
       "      <td>False</td>\n",
       "      <td>False</td>\n",
       "      <td>False</td>\n",
       "      <td>False</td>\n",
       "      <td>False</td>\n",
       "      <td>False</td>\n",
       "      <td>False</td>\n",
       "      <td>False</td>\n",
       "      <td>False</td>\n",
       "      <td>False</td>\n",
       "    </tr>\n",
       "    <tr>\n",
       "      <th>ENCODEHT000206831</th>\n",
       "      <td>False</td>\n",
       "      <td>False</td>\n",
       "      <td>False</td>\n",
       "      <td>False</td>\n",
       "      <td>False</td>\n",
       "      <td>False</td>\n",
       "      <td>False</td>\n",
       "      <td>False</td>\n",
       "      <td>False</td>\n",
       "      <td>False</td>\n",
       "      <td>...</td>\n",
       "      <td>False</td>\n",
       "      <td>False</td>\n",
       "      <td>False</td>\n",
       "      <td>False</td>\n",
       "      <td>False</td>\n",
       "      <td>False</td>\n",
       "      <td>False</td>\n",
       "      <td>False</td>\n",
       "      <td>False</td>\n",
       "      <td>False</td>\n",
       "    </tr>\n",
       "    <tr>\n",
       "      <th>ENCODEHT000206833</th>\n",
       "      <td>True</td>\n",
       "      <td>False</td>\n",
       "      <td>False</td>\n",
       "      <td>True</td>\n",
       "      <td>True</td>\n",
       "      <td>False</td>\n",
       "      <td>False</td>\n",
       "      <td>False</td>\n",
       "      <td>False</td>\n",
       "      <td>False</td>\n",
       "      <td>...</td>\n",
       "      <td>False</td>\n",
       "      <td>False</td>\n",
       "      <td>False</td>\n",
       "      <td>False</td>\n",
       "      <td>False</td>\n",
       "      <td>False</td>\n",
       "      <td>False</td>\n",
       "      <td>False</td>\n",
       "      <td>False</td>\n",
       "      <td>False</td>\n",
       "    </tr>\n",
       "  </tbody>\n",
       "</table>\n",
       "<p>5 rows × 138 columns</p>\n",
       "</div>"
      ],
      "text/plain": [
       "                     mcf7_1_1  k562_1_1  heart_right_ventricle_2_1  \\\n",
       "annot_transcript_id                                                  \n",
       "ENCODEHT000206765        True      True                       True   \n",
       "ENCODEHT000206785       False     False                      False   \n",
       "ENCODEHT000206825       False     False                      False   \n",
       "ENCODEHT000206831       False     False                      False   \n",
       "ENCODEHT000206833        True     False                      False   \n",
       "\n",
       "                     gm12878_3_1  heart_right_ventricle_3_1  pc3_1_1  \\\n",
       "annot_transcript_id                                                    \n",
       "ENCODEHT000206765           True                       True    False   \n",
       "ENCODEHT000206785          False                      False    False   \n",
       "ENCODEHT000206825          False                      False    False   \n",
       "ENCODEHT000206831          False                      False    False   \n",
       "ENCODEHT000206833           True                       True    False   \n",
       "\n",
       "                     lower_lobe_of_right_lung_1_1  hl60_m1_24hr_1_1  \\\n",
       "annot_transcript_id                                                   \n",
       "ENCODEHT000206765                           False             False   \n",
       "ENCODEHT000206785                           False             False   \n",
       "ENCODEHT000206825                           False             False   \n",
       "ENCODEHT000206831                           False             False   \n",
       "ENCODEHT000206833                           False             False   \n",
       "\n",
       "                     hl60_m1_24hr_1_2  hl60_m2_24hr_1_1  ...  \\\n",
       "annot_transcript_id                                      ...   \n",
       "ENCODEHT000206765               False             False  ...   \n",
       "ENCODEHT000206785               False             False  ...   \n",
       "ENCODEHT000206825               False             False  ...   \n",
       "ENCODEHT000206831               False             False  ...   \n",
       "ENCODEHT000206833               False             False  ...   \n",
       "\n",
       "                     heart_right_ventricle_1_1  right_lobe_of_liver_2_1  \\\n",
       "annot_transcript_id                                                       \n",
       "ENCODEHT000206765                         True                    False   \n",
       "ENCODEHT000206785                        False                    False   \n",
       "ENCODEHT000206825                        False                    False   \n",
       "ENCODEHT000206831                        False                    False   \n",
       "ENCODEHT000206833                        False                    False   \n",
       "\n",
       "                     hl60_1_1  hl60_1_2  pgp1_endo_1_1  pgp1_endo_1_2  \\\n",
       "annot_transcript_id                                                     \n",
       "ENCODEHT000206765        True     False          False          False   \n",
       "ENCODEHT000206785       False      True          False          False   \n",
       "ENCODEHT000206825       False     False          False          False   \n",
       "ENCODEHT000206831       False     False          False          False   \n",
       "ENCODEHT000206833       False     False          False          False   \n",
       "\n",
       "                     left_cardiac_atrium_1_1  h9_neural_crest_1_1  \\\n",
       "annot_transcript_id                                                 \n",
       "ENCODEHT000206765                       True                 True   \n",
       "ENCODEHT000206785                      False                 True   \n",
       "ENCODEHT000206825                      False                False   \n",
       "ENCODEHT000206831                      False                False   \n",
       "ENCODEHT000206833                      False                False   \n",
       "\n",
       "                     h9_neural_crest_1_2  left_lung_2_1  \n",
       "annot_transcript_id                                      \n",
       "ENCODEHT000206765                   True          False  \n",
       "ENCODEHT000206785                   True          False  \n",
       "ENCODEHT000206825                  False          False  \n",
       "ENCODEHT000206831                  False          False  \n",
       "ENCODEHT000206833                  False          False  \n",
       "\n",
       "[5 rows x 138 columns]"
      ]
     },
     "execution_count": 89,
     "metadata": {},
     "output_type": "execute_result"
    }
   ],
   "source": [
    "df.head()"
   ]
  },
  {
   "cell_type": "code",
   "execution_count": 90,
   "id": "0ef0fd7b-42c3-4818-84cf-a16332a28643",
   "metadata": {},
   "outputs": [],
   "source": [
    "tids_1 = df.index.tolist()"
   ]
  },
  {
   "cell_type": "code",
   "execution_count": 96,
   "id": "26c80509-e3d7-4995-bcb3-04443e76d288",
   "metadata": {},
   "outputs": [
    {
     "data": {
      "text/plain": [
       "340"
      ]
     },
     "execution_count": 96,
     "metadata": {},
     "output_type": "execute_result"
    }
   ],
   "source": [
    "len(set(tids_1)&(set(tids_2)))"
   ]
  },
  {
   "cell_type": "code",
   "execution_count": 99,
   "id": "1438dfca-5f39-4ef8-b09a-1bb4e47d8f7c",
   "metadata": {},
   "outputs": [],
   "source": [
    "# ensure that, idk, the talon filter actually worked cause that is a rly steep drop\n",
    "# try this again but this time from the database\n",
    "query = \"\"\"SELECT * FROM abundance\"\"\"\n",
    "with sqlite3.connect(db) as conn: \n",
    "    df = pd.read_sql_query(query, conn)\n"
   ]
  },
  {
   "cell_type": "code",
   "execution_count": 100,
   "id": "f28c21e2-e667-4cd9-89c2-13138115e547",
   "metadata": {},
   "outputs": [],
   "source": [
    "ab_df = pd.read_csv(unfilt_ab, sep='\\t')"
   ]
  },
  {
   "cell_type": "code",
   "execution_count": 103,
   "id": "6ec7ada7-7a30-45ef-acca-f155a6697789",
   "metadata": {},
   "outputs": [],
   "source": [
    "df = df.merge(ab_df[['transcript_ID', 'annot_transcript_id', 'n_exons', 'gene_novelty']],\n",
    "              on='transcript_ID', how='left')"
   ]
  },
  {
   "cell_type": "code",
   "execution_count": 104,
   "id": "105c355c-6109-40f9-ac4a-e3319ff54364",
   "metadata": {},
   "outputs": [
    {
     "data": {
      "text/html": [
       "<div>\n",
       "<style scoped>\n",
       "    .dataframe tbody tr th:only-of-type {\n",
       "        vertical-align: middle;\n",
       "    }\n",
       "\n",
       "    .dataframe tbody tr th {\n",
       "        vertical-align: top;\n",
       "    }\n",
       "\n",
       "    .dataframe thead th {\n",
       "        text-align: right;\n",
       "    }\n",
       "</style>\n",
       "<table border=\"1\" class=\"dataframe\">\n",
       "  <thead>\n",
       "    <tr style=\"text-align: right;\">\n",
       "      <th></th>\n",
       "      <th>transcript_ID</th>\n",
       "      <th>dataset</th>\n",
       "      <th>count</th>\n",
       "      <th>annot_transcript_id</th>\n",
       "      <th>n_exons</th>\n",
       "      <th>gene_novelty</th>\n",
       "    </tr>\n",
       "  </thead>\n",
       "  <tbody>\n",
       "    <tr>\n",
       "      <th>0</th>\n",
       "      <td>206762</td>\n",
       "      <td>gm12878_3_1</td>\n",
       "      <td>1</td>\n",
       "      <td>ENCODEHT000206762</td>\n",
       "      <td>1</td>\n",
       "      <td>Intergenic</td>\n",
       "    </tr>\n",
       "    <tr>\n",
       "      <th>1</th>\n",
       "      <td>206763</td>\n",
       "      <td>gm12878_3_1</td>\n",
       "      <td>10</td>\n",
       "      <td>ENCODEHT000206763</td>\n",
       "      <td>1</td>\n",
       "      <td>Intergenic</td>\n",
       "    </tr>\n",
       "    <tr>\n",
       "      <th>2</th>\n",
       "      <td>206767</td>\n",
       "      <td>gm12878_3_1</td>\n",
       "      <td>4</td>\n",
       "      <td>ENCODEHT000206767</td>\n",
       "      <td>1</td>\n",
       "      <td>Intergenic</td>\n",
       "    </tr>\n",
       "    <tr>\n",
       "      <th>3</th>\n",
       "      <td>206765</td>\n",
       "      <td>gm12878_3_1</td>\n",
       "      <td>11</td>\n",
       "      <td>ENCODEHT000206765</td>\n",
       "      <td>11</td>\n",
       "      <td>Intergenic</td>\n",
       "    </tr>\n",
       "    <tr>\n",
       "      <th>4</th>\n",
       "      <td>206770</td>\n",
       "      <td>gm12878_3_1</td>\n",
       "      <td>2</td>\n",
       "      <td>ENCODEHT000206770</td>\n",
       "      <td>9</td>\n",
       "      <td>Intergenic</td>\n",
       "    </tr>\n",
       "  </tbody>\n",
       "</table>\n",
       "</div>"
      ],
      "text/plain": [
       "   transcript_ID      dataset  count annot_transcript_id  n_exons gene_novelty\n",
       "0         206762  gm12878_3_1      1   ENCODEHT000206762        1   Intergenic\n",
       "1         206763  gm12878_3_1     10   ENCODEHT000206763        1   Intergenic\n",
       "2         206767  gm12878_3_1      4   ENCODEHT000206767        1   Intergenic\n",
       "3         206765  gm12878_3_1     11   ENCODEHT000206765       11   Intergenic\n",
       "4         206770  gm12878_3_1      2   ENCODEHT000206770        9   Intergenic"
      ]
     },
     "execution_count": 104,
     "metadata": {},
     "output_type": "execute_result"
    }
   ],
   "source": [
    "df.head()"
   ]
  },
  {
   "cell_type": "code",
   "execution_count": 105,
   "id": "79741ff6-9de4-4d4f-acfd-982554cd410c",
   "metadata": {},
   "outputs": [
    {
     "name": "stdout",
     "output_type": "stream",
     "text": [
      "Total number of unfilt. isos 5401754\n",
      "Total number of intergenic isos 205201\n"
     ]
    }
   ],
   "source": [
    "# remove non-intergenic\n",
    "print(f'Total number of unfilt. isos {len(df.annot_transcript_id.unique())}')\n",
    "df = df.loc[df.gene_novelty=='Intergenic']\n",
    "print(f'Total number of intergenic isos {len(df.annot_transcript_id.unique())}')"
   ]
  },
  {
   "cell_type": "code",
   "execution_count": 106,
   "id": "bb5eba9b-85af-432b-9c04-ee340143f6fb",
   "metadata": {},
   "outputs": [
    {
     "name": "stdout",
     "output_type": "stream",
     "text": [
      "Number of intergenic isos w/ >=2 exons 42053\n"
     ]
    }
   ],
   "source": [
    "# ensure min exons\n",
    "df = df.loc[df.n_exons >= min_exons]\n",
    "print(f'Number of intergenic isos w/ >={min_exons} exons {len(df.annot_transcript_id.unique())}')"
   ]
  },
  {
   "cell_type": "code",
   "execution_count": 110,
   "id": "93ef70d8-c6ca-4773-a572-85df52ea2eea",
   "metadata": {},
   "outputs": [
    {
     "data": {
      "text/html": [
       "<div>\n",
       "<style scoped>\n",
       "    .dataframe tbody tr th:only-of-type {\n",
       "        vertical-align: middle;\n",
       "    }\n",
       "\n",
       "    .dataframe tbody tr th {\n",
       "        vertical-align: top;\n",
       "    }\n",
       "\n",
       "    .dataframe thead th {\n",
       "        text-align: right;\n",
       "    }\n",
       "</style>\n",
       "<table border=\"1\" class=\"dataframe\">\n",
       "  <thead>\n",
       "    <tr style=\"text-align: right;\">\n",
       "      <th></th>\n",
       "      <th>transcript_ID</th>\n",
       "      <th>dataset</th>\n",
       "      <th>count</th>\n",
       "      <th>annot_transcript_id</th>\n",
       "      <th>n_exons</th>\n",
       "      <th>gene_novelty</th>\n",
       "      <th>min_reads</th>\n",
       "    </tr>\n",
       "  </thead>\n",
       "  <tbody>\n",
       "    <tr>\n",
       "      <th>3</th>\n",
       "      <td>206765</td>\n",
       "      <td>gm12878_3_1</td>\n",
       "      <td>11</td>\n",
       "      <td>ENCODEHT000206765</td>\n",
       "      <td>11</td>\n",
       "      <td>Intergenic</td>\n",
       "      <td>True</td>\n",
       "    </tr>\n",
       "    <tr>\n",
       "      <th>4</th>\n",
       "      <td>206770</td>\n",
       "      <td>gm12878_3_1</td>\n",
       "      <td>2</td>\n",
       "      <td>ENCODEHT000206770</td>\n",
       "      <td>9</td>\n",
       "      <td>Intergenic</td>\n",
       "      <td>False</td>\n",
       "    </tr>\n",
       "    <tr>\n",
       "      <th>8</th>\n",
       "      <td>206778</td>\n",
       "      <td>gm12878_3_1</td>\n",
       "      <td>1</td>\n",
       "      <td>ENCODEHT000206778</td>\n",
       "      <td>2</td>\n",
       "      <td>Intergenic</td>\n",
       "      <td>False</td>\n",
       "    </tr>\n",
       "    <tr>\n",
       "      <th>9</th>\n",
       "      <td>206785</td>\n",
       "      <td>gm12878_3_1</td>\n",
       "      <td>3</td>\n",
       "      <td>ENCODEHT000206785</td>\n",
       "      <td>11</td>\n",
       "      <td>Intergenic</td>\n",
       "      <td>False</td>\n",
       "    </tr>\n",
       "    <tr>\n",
       "      <th>26</th>\n",
       "      <td>206820</td>\n",
       "      <td>gm12878_3_1</td>\n",
       "      <td>1</td>\n",
       "      <td>ENCODEHT000206820</td>\n",
       "      <td>8</td>\n",
       "      <td>Intergenic</td>\n",
       "      <td>False</td>\n",
       "    </tr>\n",
       "  </tbody>\n",
       "</table>\n",
       "</div>"
      ],
      "text/plain": [
       "    transcript_ID      dataset  count annot_transcript_id  n_exons  \\\n",
       "3          206765  gm12878_3_1     11   ENCODEHT000206765       11   \n",
       "4          206770  gm12878_3_1      2   ENCODEHT000206770        9   \n",
       "8          206778  gm12878_3_1      1   ENCODEHT000206778        2   \n",
       "9          206785  gm12878_3_1      3   ENCODEHT000206785       11   \n",
       "26         206820  gm12878_3_1      1   ENCODEHT000206820        8   \n",
       "\n",
       "   gene_novelty  min_reads  \n",
       "3    Intergenic       True  \n",
       "4    Intergenic      False  \n",
       "8    Intergenic      False  \n",
       "9    Intergenic      False  \n",
       "26   Intergenic      False  "
      ]
     },
     "execution_count": 110,
     "metadata": {},
     "output_type": "execute_result"
    }
   ],
   "source": [
    "# ensure min reads / min datasets\n",
    "df['min_reads'] = df['count'] >= min_reads\n",
    "df.head()"
   ]
  },
  {
   "cell_type": "code",
   "execution_count": 126,
   "id": "aac1c9c1-1b60-4d30-bf7a-b1b238fbdaab",
   "metadata": {},
   "outputs": [],
   "source": [
    "# count up number of datasets that min_reads is good in\n",
    "temp = df[['transcript_ID', 'annot_transcript_id',\n",
    "           'dataset', 'min_reads']].groupby(by=['transcript_ID', \n",
    "                                                'annot_transcript_id', \n",
    "                                                'min_reads']).count().reset_index()\n",
    "temp.rename({'dataset': 'n_datasets'}, axis=1, inplace=True)"
   ]
  },
  {
   "cell_type": "code",
   "execution_count": 127,
   "id": "4d9a122c-c074-4613-a417-445b1d6bd03e",
   "metadata": {},
   "outputs": [
    {
     "data": {
      "text/plain": [
       "42"
      ]
     },
     "execution_count": 127,
     "metadata": {},
     "output_type": "execute_result"
    }
   ],
   "source": [
    "len(df.loc[(df.transcript_ID==206765)&(df.min_reads==True)])"
   ]
  },
  {
   "cell_type": "code",
   "execution_count": 128,
   "id": "404d1ebd-5b67-4c36-880b-c9aa69c5ac50",
   "metadata": {},
   "outputs": [
    {
     "data": {
      "text/html": [
       "<div>\n",
       "<style scoped>\n",
       "    .dataframe tbody tr th:only-of-type {\n",
       "        vertical-align: middle;\n",
       "    }\n",
       "\n",
       "    .dataframe tbody tr th {\n",
       "        vertical-align: top;\n",
       "    }\n",
       "\n",
       "    .dataframe thead th {\n",
       "        text-align: right;\n",
       "    }\n",
       "</style>\n",
       "<table border=\"1\" class=\"dataframe\">\n",
       "  <thead>\n",
       "    <tr style=\"text-align: right;\">\n",
       "      <th></th>\n",
       "      <th>transcript_ID</th>\n",
       "      <th>annot_transcript_id</th>\n",
       "      <th>min_reads</th>\n",
       "      <th>n_datasets</th>\n",
       "    </tr>\n",
       "  </thead>\n",
       "  <tbody>\n",
       "    <tr>\n",
       "      <th>1</th>\n",
       "      <td>206765</td>\n",
       "      <td>ENCODEHT000206765</td>\n",
       "      <td>True</td>\n",
       "      <td>42</td>\n",
       "    </tr>\n",
       "  </tbody>\n",
       "</table>\n",
       "</div>"
      ],
      "text/plain": [
       "   transcript_ID annot_transcript_id  min_reads  n_datasets\n",
       "1         206765   ENCODEHT000206765       True          42"
      ]
     },
     "execution_count": 128,
     "metadata": {},
     "output_type": "execute_result"
    }
   ],
   "source": [
    "temp.loc[(temp.transcript_ID==206765)&(temp.min_reads==True)]"
   ]
  },
  {
   "cell_type": "code",
   "execution_count": 129,
   "id": "7ece85b3-1557-4ad4-96cf-00e8a7e8bc7f",
   "metadata": {},
   "outputs": [],
   "source": [
    "# restrict to the isoforms that meet min reads / min datasets\n",
    "temp = temp.loc[(temp.min_reads==True)&(temp.n_datasets>=min_datasets)]"
   ]
  },
  {
   "cell_type": "code",
   "execution_count": 130,
   "id": "2e911a1e-6aff-441c-8e35-1bca5d3c2dce",
   "metadata": {},
   "outputs": [
    {
     "name": "stdout",
     "output_type": "stream",
     "text": [
      "Number of intergenic isos w/ >=2 exons and >=5 reads in >=2 datasets 542\n"
     ]
    }
   ],
   "source": [
    "print(f'Number of intergenic isos w/ >={min_exons} exons and >={min_reads} reads in >={min_datasets} datasets {len(temp.annot_transcript_id.unique())}')"
   ]
  },
  {
   "cell_type": "code",
   "execution_count": 131,
   "id": "9e5383e3-aac4-4d76-89e7-06c7190762c5",
   "metadata": {},
   "outputs": [],
   "source": [
    "tids_3 = temp.annot_transcript_id.unique().tolist()"
   ]
  },
  {
   "cell_type": "code",
   "execution_count": 132,
   "id": "1cffbe46-0d90-49d4-bad8-3376907e02ec",
   "metadata": {},
   "outputs": [
    {
     "data": {
      "text/plain": [
       "412"
      ]
     },
     "execution_count": 132,
     "metadata": {},
     "output_type": "execute_result"
    }
   ],
   "source": [
    "len(set(tids_3)&(set(tids_2)))"
   ]
  },
  {
   "cell_type": "code",
   "execution_count": 30,
   "id": "0d3ca1d7-4fa6-406e-8233-bd493efdff4b",
   "metadata": {},
   "outputs": [],
   "source": [
    "import pandas as pd\n",
    "import numpy as np\n",
    "import scipy.stats as st\n",
    "import seaborn as sns\n",
    "import sys\n",
    "import os\n",
    "import gseapy as gp\n",
    "import matplotlib.pyplot as plt\n",
    "import swan_vis as swan\n",
    "import sqlite3\n",
    "\n",
    "p = os.path.dirname(os.path.dirname(os.getcwd()))\n",
    "sys.path.append(p)\n",
    "\n",
    "from scripts.utils import *\n",
    "from scripts.plotting import *\n",
    "\n",
    "ab = '/Users/fairliereese/mortazavi_lab/data/paper_rnawg/figures/data/human/abundance.tsv'\n",
    "unfilt_ab = '../../lr_bulk/talon/human_talon_abundance.tsv'\n",
    "filt_ab = '../../lr_bulk/cerberus/cerberus_filtered_abundance.tsv'\n",
    "talon_filt_ab = '../../lr_bulk/talon/human_talon_abundance_filtered.tsv'\n",
    "read_annot = '../../lr_bulk/talon/human_talon_read_annot.tsv'\n",
    "t_metadata = '../../refs/cerberus/v40_transcript_metadata.tsv'\n",
    "db = '../../lr_bulk/talon/human.db'\n",
    "ver = 'v40_cerberus'\n",
    "min_tpm = 1\n",
    "gene_subset = 'polya'\n",
    "obs_col = 'sample'\n",
    "swan_file = '../../lr_bulk/cerberus/swan/swan_meta.p'\n",
    "\n",
    "mouse_unfilt_ab = '../../mouse/lr_bulk/talon/mouse_talon_abundance.tsv'  \n",
    "mouse_talon_filt_ab = '../../mouse/lr_bulk/talon/mouse_talon_abundance_filtered.tsv'"
   ]
  },
  {
   "cell_type": "code",
   "execution_count": 33,
   "id": "3d0b7e1e-6b20-451a-bdd2-d9507d2011cd",
   "metadata": {},
   "outputs": [],
   "source": [
    "# def get_n_intergenic_t_g(ab_file,\n",
    "#                          min_tpm,\n",
    "#                          min_exons,\n",
    "#                          **kwargs):\n",
    "#     ab_df = pd.read_csv(ab_file, sep='\\t')\n",
    "#     df, _ = get_tpm_table(ab_df,\n",
    "#                    how='iso',\n",
    "#                    nov='all',\n",
    "#                    min_tpm=min_tpm)\n",
    "    \n",
    "#     # merge with extra info\n",
    "#     df.reset_index(inplace=True)\n",
    "#     df = df.merge(ab_df[['annot_transcript_id', 'annot_gene_id', 'gene_novelty', 'n_exons']],\n",
    "#                   how='left', \n",
    "#                   on='annot_transcript_id')\n",
    "    \n",
    "#     n = len(df.loc[(df.n_exons>=min_exons)&(df.gene_novelty=='Intergenic'), 'annot_gene_id'].unique())\n",
    "#     print(f'Found {n} unique intergenic genes w/ >{min_exons} exons and >={min_tpm}')\n",
    "#     n = len(df.loc[(df.n_exons>=min_exons)&(df.gene_novelty=='Intergenic'), 'annot_transcript_id'].unique())\n",
    "#     print(f'Found {n} unique intergenic transcripts w/ >{min_exons} exons and >={min_tpm} tpm')\n",
    "    \n",
    "#     df = df.loc[(df.n_exons>=min_exons)&(df.gene_novelty=='Intergenic')]\n",
    "    \n",
    "#     return df"
   ]
  },
  {
   "cell_type": "markdown",
   "id": "b5b686d8-ce9f-42a2-b2e8-2c858aad837e",
   "metadata": {},
   "source": [
    "## How many exons does each isoform that passes this filtering have?"
   ]
  },
  {
   "cell_type": "code",
   "execution_count": 4,
   "id": "a9e7f386-d6af-4ab1-8cc9-97c970896594",
   "metadata": {},
   "outputs": [
    {
     "name": "stdout",
     "output_type": "stream",
     "text": [
      "Calculating iso TPM values\n"
     ]
    },
    {
     "name": "stderr",
     "output_type": "stream",
     "text": [
      "/Users/fairliereese/Documents/programming/mortazavi_lab/data/rnawg/scripts/utils.py:2051: PerformanceWarning: DataFrame is highly fragmented.  This is usually the result of calling `frame.insert` many times, which has poor performance.  Consider joining all columns at once using pd.concat(axis=1) instead.  To get a de-fragmented frame, use `newframe = frame.copy()`\n",
      "  df[total_col] = df[d].sum()\n",
      "/Users/fairliereese/Documents/programming/mortazavi_lab/data/rnawg/scripts/utils.py:2052: PerformanceWarning: DataFrame is highly fragmented.  This is usually the result of calling `frame.insert` many times, which has poor performance.  Consider joining all columns at once using pd.concat(axis=1) instead.  To get a de-fragmented frame, use `newframe = frame.copy()`\n",
      "  df[tpm_col] = (df[d]*1000000)/df[total_col]\n"
     ]
    },
    {
     "name": "stdout",
     "output_type": "stream",
     "text": [
      "Enforcing minimum TPM\n",
      "Total # isos detected: 194503\n",
      "# isos >= 1 tpm: 175394\n",
      "Number of isos reported: 175394\n",
      "Found 214 unique intergenic genes w/ >2 exons and >=1\n",
      "Found 412 unique intergenic transcripts w/ >2 exons and >=1 tpm\n"
     ]
    }
   ],
   "source": [
    "df = get_n_intergenic_t_g(talon_filt_ab, \n",
    "                     min_tpm=1,\n",
    "                     min_exons=2)"
   ]
  },
  {
   "cell_type": "code",
   "execution_count": 142,
   "id": "428e1702-523e-4ad5-bafe-86d4de05cb39",
   "metadata": {},
   "outputs": [
    {
     "data": {
      "text/plain": [
       "<seaborn.axisgrid.FacetGrid at 0x7f8479424fd0>"
      ]
     },
     "execution_count": 142,
     "metadata": {},
     "output_type": "execute_result"
    },
    {
     "data": {
      "image/png": "[encoded data removed]",
      "text/plain": [
       "<Figure size 360x360 with 1 Axes>"
      ]
     },
     "metadata": {
      "needs_background": "light"
     },
     "output_type": "display_data"
    }
   ],
   "source": [
    "c_dict, order = get_talon_nov_colors()\n",
    "sns.set_context('paper', font_scale=1.8)\n",
    "mpl.rcParams['font.family'] = 'Arial'\n",
    "mpl.rcParams['pdf.fonttype'] = 42\n",
    "\n",
    "ax = sns.displot(data=df, \n",
    "                 kind='hist',\n",
    "                 x='n_exons',\n",
    "                 color=c_dict['Intergenic'],\n",
    "                 discrete=True,\n",
    "                 binwidth=1,\n",
    "                 alpha=1,\n",
    "                 linewidth=0)\n",
    "ax.set(xlabel='# exons', ylabel='# transcripts')"
   ]
  },
  {
   "cell_type": "markdown",
   "id": "c2dd8e44-e7cf-4da5-bcc0-8f3146243244",
   "metadata": {},
   "source": [
    "## How many isoforms does each intergenic gene have?"
   ]
  },
  {
   "cell_type": "code",
   "execution_count": 144,
   "id": "9f786111-82cd-419d-9444-0fc4cafd8721",
   "metadata": {},
   "outputs": [],
   "source": [
    "temp = df[['annot_transcript_id', 'annot_gene_id']].groupby('annot_gene_id').count().reset_index()\n",
    "temp.rename({'annot_transcript_id': 'n_transcripts'}, axis=1, inplace=True)"
   ]
  },
  {
   "cell_type": "code",
   "execution_count": 184,
   "id": "eee227bb-4241-44fc-a321-4698e4c83358",
   "metadata": {},
   "outputs": [],
   "source": [
    "# temp"
   ]
  },
  {
   "cell_type": "code",
   "execution_count": 146,
   "id": "ed7a0de2-c899-4547-8189-d97e5b1e32e7",
   "metadata": {},
   "outputs": [
    {
     "data": {
      "text/plain": [
       "<seaborn.axisgrid.FacetGrid at 0x7f84ee2a1510>"
      ]
     },
     "execution_count": 146,
     "metadata": {},
     "output_type": "execute_result"
    },
    {
     "data": {
      "image/png": "[encoded data removed]",
      "text/plain": [
       "<Figure size 360x360 with 1 Axes>"
      ]
     },
     "metadata": {
      "needs_background": "light"
     },
     "output_type": "display_data"
    }
   ],
   "source": [
    "ax = sns.displot(data=temp, \n",
    "                 kind='hist',\n",
    "                 x='n_transcripts',\n",
    "                 color=c_dict['Intergenic'],\n",
    "                 discrete=True,\n",
    "                 binwidth=1,\n",
    "                 alpha=1,\n",
    "                 linewidth=0)\n",
    "ax.set(xlabel='# transcripts', ylabel='# genes')"
   ]
  },
  {
   "cell_type": "markdown",
   "id": "a856855a-074e-4a3f-bbc2-ea20fb0e4d1b",
   "metadata": {},
   "source": [
    "## How much expression derives from intergenic isoforms per library? "
   ]
  },
  {
   "cell_type": "code",
   "execution_count": 26,
   "id": "958b1d6a-0f5f-4bec-b556-048c735603ed",
   "metadata": {},
   "outputs": [],
   "source": [
    "def plot_intergenic_t_tpm_vs_n(ab_file,\n",
    "                               **kwargs):\n",
    "    \n",
    "    df = get_n_intergenic_t_g(talon_filt_ab, **kwargs)\n",
    "    temp = df.drop(['annot_transcript_id', 'annot_gene_id', 'gene_novelty', 'n_exons'], axis=1)\n",
    "    temp = temp.sum(axis=0).to_frame().reset_index().rename({0:'intergenic_tpm', 'index':'dataset'}, axis=1)\n",
    "    temp2 = df.drop(['annot_transcript_id', 'annot_gene_id', 'gene_novelty', 'n_exons'], axis=1)\n",
    "    temp2 = temp2 > 0 # this can be changed to a min tpm, try this first though\n",
    "    temp2 = temp2.sum(axis=0).to_frame().reset_index().rename({0:'n_intergenic_isos', 'index':'dataset'}, axis=1)\n",
    "    temp = temp.merge(temp2, on='dataset')\n",
    "    # add sample information\n",
    "    meta = pd.read_csv('/Users/fairliereese/mortazavi_lab/data/rnawg/lr_bulk/lr_human_library_data_summary.tsv', sep='\\t')\n",
    "    meta = meta[['dataset', 'sample']]\n",
    "    temp = temp.merge(meta, on='dataset')\n",
    "    \n",
    "    sns.set_context('paper', font_scale=1.8)\n",
    "    mpl.rcParams['font.family'] = 'Arial'\n",
    "    mpl.rcParams['pdf.fonttype'] = 42\n",
    "    c_dict, order = get_biosample_colors()\n",
    "    ax = sns.scatterplot(data=temp,\n",
    "                    x='n_intergenic_isos',\n",
    "                    y='intergenic_tpm',\n",
    "                    hue='sample',\n",
    "                    palette=c_dict)\n",
    "    ax.set(yscale='log', xlabel='# expressed intergenic transcripts', ylabel='TPM from intergenic transcripts')\n",
    "    ax.spines['right'].set_visible(False)\n",
    "    ax.spines['top'].set_visible(False)\n",
    "    ax.get_legend().remove()\n",
    "\n",
    "\n",
    "    \n",
    "    "
   ]
  },
  {
   "cell_type": "code",
   "execution_count": 27,
   "id": "e8184358-c4c2-4c02-86bb-1ee4a74a404f",
   "metadata": {},
   "outputs": [
    {
     "name": "stdout",
     "output_type": "stream",
     "text": [
      "Calculating iso TPM values\n"
     ]
    },
    {
     "name": "stderr",
     "output_type": "stream",
     "text": [
      "/Users/fairliereese/Documents/programming/mortazavi_lab/data/rnawg/scripts/utils.py:2051: PerformanceWarning: DataFrame is highly fragmented.  This is usually the result of calling `frame.insert` many times, which has poor performance.  Consider joining all columns at once using pd.concat(axis=1) instead.  To get a de-fragmented frame, use `newframe = frame.copy()`\n",
      "  df[total_col] = df[d].sum()\n",
      "/Users/fairliereese/Documents/programming/mortazavi_lab/data/rnawg/scripts/utils.py:2052: PerformanceWarning: DataFrame is highly fragmented.  This is usually the result of calling `frame.insert` many times, which has poor performance.  Consider joining all columns at once using pd.concat(axis=1) instead.  To get a de-fragmented frame, use `newframe = frame.copy()`\n",
      "  df[tpm_col] = (df[d]*1000000)/df[total_col]\n"
     ]
    },
    {
     "name": "stdout",
     "output_type": "stream",
     "text": [
      "Enforcing minimum TPM\n",
      "Total # isos detected: 194503\n",
      "# isos >= 1 tpm: 175394\n",
      "Number of isos reported: 175394\n",
      "Found 214 unique intergenic genes w/ >2 exons and >=1\n",
      "Found 412 unique intergenic transcripts w/ >2 exons and >=1 tpm\n"
     ]
    },
    {
     "data": {
      "image/png": "[encoded data removed]",
      "text/plain": [
       "<Figure size 432x288 with 1 Axes>"
      ]
     },
     "metadata": {
      "needs_background": "light"
     },
     "output_type": "display_data"
    }
   ],
   "source": [
    "plot_intergenic_t_tpm_vs_n(talon_filt_ab,\n",
    "                           min_tpm=1,\n",
    "                           min_exons=2)"
   ]
  },
  {
   "cell_type": "code",
   "execution_count": null,
   "id": "94ff14d7-f509-4d34-80ff-007188cccc38",
   "metadata": {},
   "outputs": [],
   "source": [
    "## temp = df.drop(['annot_transcript_id', 'annot_gene_id', 'gene_novelty', 'n_exons'], axis=1)\n",
    "temp = temp.sum(axis=0).to_frame().reset_index().rename({0:'intergenic_tpm', 'index':'dataset'}, axis=1)\n",
    "# temp"
   ]
  },
  {
   "cell_type": "code",
   "execution_count": 180,
   "id": "55d8c83f-9db8-4b84-b144-b11aebdcc13f",
   "metadata": {},
   "outputs": [],
   "source": [
    "temp2 = df.drop(['annot_transcript_id', 'annot_gene_id', 'gene_novelty', 'n_exons'], axis=1)\n",
    "temp2 = temp2 > 0 # this can be changed to a min tpm, try this first though\n",
    "temp2 = temp2.sum(axis=0).to_frame().reset_index().rename({0:'n_intergenic_isos', 'index':'dataset'}, axis=1)\n",
    "# temp2"
   ]
  },
  {
   "cell_type": "code",
   "execution_count": 181,
   "id": "7855c344-cc30-404f-b5df-592263693990",
   "metadata": {},
   "outputs": [
    {
     "name": "stdout",
     "output_type": "stream",
     "text": [
      "138\n",
      "138\n"
     ]
    }
   ],
   "source": [
    "print(len(temp.index))\n",
    "temp = temp.merge(temp2, on='dataset')\n",
    "print(len(temp.index))"
   ]
  },
  {
   "cell_type": "code",
   "execution_count": 182,
   "id": "5513a309-f00d-4520-9769-2a90457e921a",
   "metadata": {},
   "outputs": [],
   "source": [
    "# add sample information\n",
    "meta = pd.read_csv('/Users/fairliereese/mortazavi_lab/data/rnawg/lr_bulk/lr_human_library_data_summary.tsv', sep='\\t')\n",
    "meta = meta[['dataset', 'sample']]\n",
    "temp = temp.merge(meta, on='dataset')"
   ]
  },
  {
   "cell_type": "code",
   "execution_count": 183,
   "id": "cddbe840-009e-4744-b32b-7f8f07e4075a",
   "metadata": {},
   "outputs": [
    {
     "data": {
      "image/png": "[encoded data removed]",
      "text/plain": [
       "<Figure size 432x288 with 1 Axes>"
      ]
     },
     "metadata": {
      "needs_background": "light"
     },
     "output_type": "display_data"
    }
   ],
   "source": [
    "c_dict, order = get_biosample_colors()\n",
    "ax = sns.scatterplot(data=temp,\n",
    "                x='n_intergenic_isos',\n",
    "                y='intergenic_tpm',\n",
    "                hue='sample',\n",
    "                palette=c_dict)\n",
    "ax.set(yscale='log', xlabel='# expressed intergenic transcripts', ylabel='TPM from intergenic transcripts')\n",
    "ax.spines['right'].set_visible(False)\n",
    "ax.spines['top'].set_visible(False)\n",
    "ax.get_legend().remove()"
   ]
  },
  {
   "cell_type": "markdown",
   "id": "817a9eed-4757-457c-bfc7-19176d508311",
   "metadata": {},
   "source": [
    "## How much gene expression derives from intergenic genes that passed our filters?"
   ]
  },
  {
   "cell_type": "code",
   "execution_count": 5,
   "id": "24993fbe-0281-462b-80ef-a69a8e1f0ead",
   "metadata": {},
   "outputs": [
    {
     "name": "stdout",
     "output_type": "stream",
     "text": [
      "Calculating iso TPM values\n",
      "Enforcing minimum TPM\n",
      "Total # isos detected: 194503\n",
      "# isos >= 1 tpm: 175394\n",
      "Number of isos reported: 175394\n",
      "Found 214 unique intergenic genes w/ >2 exons and >=1\n",
      "Found 412 unique intergenic transcripts w/ >2 exons and >=1 tpm\n"
     ]
    }
   ],
   "source": [
    "# get the IDs of the genes that passed the filtering\n",
    "df = get_n_intergenic_t_g(talon_filt_ab, \n",
    "                     min_tpm=1,\n",
    "                     min_exons=2)"
   ]
  },
  {
   "cell_type": "code",
   "execution_count": 7,
   "id": "d67fefde-41e3-4d3c-9e52-d808c2c6883a",
   "metadata": {},
   "outputs": [
    {
     "name": "stdout",
     "output_type": "stream",
     "text": [
      "Calculating gene TPM values\n",
      "Enforcing minimum TPM\n",
      "Total # genes detected: 599976\n",
      "# genes >= 1 tpm: 292060\n",
      "Number of genes reported: 292060\n"
     ]
    }
   ],
   "source": [
    "# get the TPMs of all genes\n",
    "ab_df = pd.read_csv(unfilt_ab, sep='\\t')\n",
    "gene_df, _ = get_tpm_table(ab_df,\n",
    "                           how='gene',\n",
    "                           nov='all',\n",
    "                           min_tpm=1)"
   ]
  },
  {
   "cell_type": "code",
   "execution_count": 11,
   "id": "cea6790c-a242-45de-b089-f3d5f4e559fd",
   "metadata": {},
   "outputs": [],
   "source": [
    "gids = df.annot_gene_id.unique().tolist()\n",
    "gene_df.head()"
   ]
  },
  {
   "cell_type": "code",
   "execution_count": 17,
   "id": "ee597d0f-151e-49be-be32-6f8f76e2e46c",
   "metadata": {},
   "outputs": [
    {
     "name": "stdout",
     "output_type": "stream",
     "text": [
      "214\n"
     ]
    }
   ],
   "source": [
    "# total TPM from filtered intergenic genes\n",
    "temp = gene_df.loc[gids]\n",
    "print(len(temp.index))\n",
    "temp = temp.reset_index(drop=True)\n",
    "temp = temp.sum(axis=0).to_frame().reset_index().rename({0:'intergenic_tpm', 'index':'dataset'}, axis=1)"
   ]
  },
  {
   "cell_type": "code",
   "execution_count": 21,
   "id": "8ac4830b-ab51-4ba8-ae7f-7b0431c2b2c5",
   "metadata": {},
   "outputs": [
    {
     "name": "stdout",
     "output_type": "stream",
     "text": [
      "214\n"
     ]
    }
   ],
   "source": [
    "temp2 = gene_df.loc[gids]\n",
    "print(len(temp2.index))\n",
    "temp2 = temp2.reset_index(drop=True)\n",
    "temp2 = temp2 > 0 # this can be changed to a min tpm, try this first though\n",
    "temp2 = temp2.sum(axis=0).to_frame().reset_index().rename({0:'n_intergenic_genes', 'index':'dataset'}, axis=1)"
   ]
  },
  {
   "cell_type": "code",
   "execution_count": 22,
   "id": "2559097c-fcfb-40fe-bcc9-f95dcfa21f90",
   "metadata": {},
   "outputs": [
    {
     "name": "stdout",
     "output_type": "stream",
     "text": [
      "138\n",
      "138\n"
     ]
    }
   ],
   "source": [
    "print(len(temp.index))\n",
    "temp = temp.merge(temp2, on='dataset')\n",
    "print(len(temp.index))"
   ]
  },
  {
   "cell_type": "code",
   "execution_count": 23,
   "id": "bc69e186-e180-4313-9e3c-8bc9542e7075",
   "metadata": {},
   "outputs": [],
   "source": [
    "# add sample information\n",
    "meta = pd.read_csv('/Users/fairliereese/mortazavi_lab/data/rnawg/lr_bulk/lr_human_library_data_summary.tsv', sep='\\t')\n",
    "meta = meta[['dataset', 'sample']]\n",
    "temp = temp.merge(meta, on='dataset')"
   ]
  },
  {
   "cell_type": "code",
   "execution_count": 25,
   "id": "69f02585-cfba-4076-af0c-962037b2e837",
   "metadata": {},
   "outputs": [
    {
     "data": {
      "image/png": "[encoded data removed]",
      "text/plain": [
       "<Figure size 432x288 with 1 Axes>"
      ]
     },
     "metadata": {
      "needs_background": "light"
     },
     "output_type": "display_data"
    }
   ],
   "source": [
    "sns.set_context('paper', font_scale=1.8)\n",
    "mpl.rcParams['font.family'] = 'Arial'\n",
    "mpl.rcParams['pdf.fonttype'] = 42\n",
    "\n",
    "c_dict, order = get_biosample_colors()\n",
    "ax = sns.scatterplot(data=temp,\n",
    "                x='n_intergenic_genes',\n",
    "                y='intergenic_tpm',\n",
    "                hue='sample',\n",
    "                palette=c_dict)\n",
    "ax.set(yscale='log', xlabel='# expressed intergenic genes', ylabel='TPM from intergenic genes')\n",
    "ax.spines['right'].set_visible(False)\n",
    "ax.spines['top'].set_visible(False)\n",
    "ax.get_legend().remove()"
   ]
  },
  {
   "cell_type": "markdown",
   "id": "77c4a566-5f19-4e9f-aa94-ce807c274e4b",
   "metadata": {},
   "source": [
    "## What about mouse?"
   ]
  },
  {
   "cell_type": "code",
   "execution_count": 35,
   "id": "52797862-4af9-4dd4-95e7-4cadb329d9d7",
   "metadata": {},
   "outputs": [
    {
     "name": "stdout",
     "output_type": "stream",
     "text": [
      "Calculating iso TPM values\n"
     ]
    },
    {
     "name": "stderr",
     "output_type": "stream",
     "text": [
      "/Users/fairliereese/Documents/programming/mortazavi_lab/data/rnawg/scripts/utils.py:2051: PerformanceWarning: DataFrame is highly fragmented.  This is usually the result of calling `frame.insert` many times, which has poor performance.  Consider joining all columns at once using pd.concat(axis=1) instead.  To get a de-fragmented frame, use `newframe = frame.copy()`\n",
      "  df[total_col] = df[d].sum()\n",
      "/Users/fairliereese/Documents/programming/mortazavi_lab/data/rnawg/scripts/utils.py:2052: PerformanceWarning: DataFrame is highly fragmented.  This is usually the result of calling `frame.insert` many times, which has poor performance.  Consider joining all columns at once using pd.concat(axis=1) instead.  To get a de-fragmented frame, use `newframe = frame.copy()`\n",
      "  df[tpm_col] = (df[d]*1000000)/df[total_col]\n"
     ]
    },
    {
     "name": "stdout",
     "output_type": "stream",
     "text": [
      "Enforcing minimum TPM\n",
      "Total # isos detected: 122685\n",
      "# isos >= 1 tpm: 114790\n",
      "Number of isos reported: 114790\n",
      "Found 96 unique intergenic genes w/ >2 exons and >=1\n",
      "Found 175 unique intergenic transcripts w/ >2 exons and >=1 tpm\n"
     ]
    }
   ],
   "source": [
    "df = get_n_intergenic_t_g(mouse_talon_filt_ab, \n",
    "                          min_tpm=1,\n",
    "                          min_exons=2,\n",
    "                          species='mouse')"
   ]
  },
  {
   "cell_type": "markdown",
   "id": "5f3e8174-81e2-4c25-87fd-65def4b2ebb8",
   "metadata": {},
   "source": [
    "## Number of genes w/ a detected spliced isoform; by novelty (known=polyA only) and species"
   ]
  },
  {
   "cell_type": "code",
   "execution_count": null,
   "id": "730ca70c-3072-45f9-84e1-dc4f14437764",
   "metadata": {},
   "outputs": [],
   "source": [
    "import pandas as pd\n",
    "import numpy as np\n",
    "import scipy.stats as st\n",
    "import seaborn as sns\n",
    "import sys\n",
    "import os\n",
    "import gseapy as gp\n",
    "import matplotlib.pyplot as plt\n",
    "import swan_vis as swan\n",
    "import sqlite3\n",
    "\n",
    "p = os.path.dirname(os.path.dirname(os.getcwd()))\n",
    "sys.path.append(p)\n",
    "\n",
    "from scripts.utils import *\n",
    "from scripts.plotting import *\n",
    "\n",
    "ab = '/Users/fairliereese/mortazavi_lab/data/paper_rnawg/figures/data/human/abundance.tsv'\n",
    "unfilt_ab = '../../lr_bulk/talon/human_talon_abundance.tsv'\n",
    "filt_ab = '../../lr_bulk/cerberus/cerberus_filtered_abundance.tsv'\n",
    "talon_filt_ab = '../../lr_bulk/talon/human_talon_abundance_filtered.tsv'\n",
    "read_annot = '../../lr_bulk/talon/human_talon_read_annot.tsv'\n",
    "t_metadata = '../../refs/cerberus/v40_transcript_metadata.tsv'\n",
    "db = '../../lr_bulk/talon/human.db'\n",
    "ver = 'v40_cerberus'\n",
    "min_tpm = 1\n",
    "gene_subset = 'polya'\n",
    "obs_col = 'sample'\n",
    "swan_file = '../../lr_bulk/cerberus/swan/swan_meta.p'\n",
    "\n",
    "mouse_unfilt_ab = '../../mouse/lr_bulk/talon/mouse_talon_abundance.tsv'  \n",
    "mouse_talon_filt_ab = '../../mouse/lr_bulk/talon/mouse_talon_abundance_filtered.tsv'"
   ]
  },
  {
   "cell_type": "code",
   "execution_count": 48,
   "id": "1f4351de-8b4c-4dc8-8f27-4ea32a083c91",
   "metadata": {},
   "outputs": [],
   "source": [
    "def get_n_intergenic_t_g(ab_file,\n",
    "                         min_tpm,\n",
    "                         min_exons,\n",
    "                         **kwargs):\n",
    "    ab_df = pd.read_csv(ab_file, sep='\\t')\n",
    "    df, _ = get_tpm_table(ab_df,\n",
    "                   how='iso',\n",
    "                   nov='all',\n",
    "                   min_tpm=min_tpm,\n",
    "                   **kwargs)\n",
    "    \n",
    "    # merge with extra info\n",
    "    df.reset_index(inplace=True)\n",
    "    df = df.merge(ab_df[['annot_transcript_id', 'annot_gene_id', 'gene_novelty', 'n_exons']],\n",
    "                  how='left', \n",
    "                  on='annot_transcript_id')\n",
    "    \n",
    "    n = len(df.loc[(df.n_exons>=min_exons)&(df.gene_novelty=='Intergenic'), 'annot_gene_id'].unique())\n",
    "    print(f'Found {n} unique intergenic genes w/ >{min_exons} exons and >={min_tpm}')\n",
    "    n = len(df.loc[(df.n_exons>=min_exons)&(df.gene_novelty=='Intergenic'), 'annot_transcript_id'].unique())\n",
    "    print(f'Found {n} unique intergenic transcripts w/ >{min_exons} exons and >={min_tpm} tpm')\n",
    "    \n",
    "    df = df.loc[(df.n_exons>=min_exons)&(df.gene_novelty=='Intergenic')]\n",
    "    \n",
    "    return df"
   ]
  },
  {
   "cell_type": "code",
   "execution_count": 43,
   "id": "713d6147-9508-4f9d-b1d2-24b0c8bdf5c6",
   "metadata": {},
   "outputs": [],
   "source": [
    "min_exons = 2\n",
    "min_tpm = 1"
   ]
  },
  {
   "cell_type": "code",
   "execution_count": 60,
   "id": "94459803-7bce-4115-a292-df50385413f4",
   "metadata": {},
   "outputs": [
    {
     "name": "stdout",
     "output_type": "stream",
     "text": [
      "Calculating iso TPM values\n",
      "Subsetting for polya genes\n",
      "Enforcing minimum TPM\n",
      "Total # isos detected: 194503\n",
      "# isos >= 1 tpm: 175394\n",
      "Applying gene type and novelty subset\n",
      "Number of isos reported: 159345\n",
      "159345\n",
      "149134\n",
      "20716\n"
     ]
    }
   ],
   "source": [
    "# human known\n",
    "ab_df = pd.read_csv(talon_filt_ab, sep='\\t')\n",
    "df, _ = get_tpm_table(ab_df,\n",
    "                      how='iso',\n",
    "                      gene_subset='polya',\n",
    "                      min_tpm=min_tpm)\n",
    "# merge with extra info\n",
    "df.reset_index(inplace=True)\n",
    "df = df.merge(ab_df[['annot_transcript_id', 'annot_gene_id', 'gene_novelty', 'n_exons']],\n",
    "              how='left', \n",
    "              on='annot_transcript_id')\n",
    "\n",
    "print(len(df.index))\n",
    "df = df.loc[df.n_exons>=min_exons] \n",
    "print(len(df.index))\n",
    "n_human_known = len(df.annot_gene_id.unique())\n",
    "print(n_human_known)"
   ]
  },
  {
   "cell_type": "code",
   "execution_count": 61,
   "id": "2a9db0b1-9ab8-492a-a6e8-acc0e3a44975",
   "metadata": {},
   "outputs": [
    {
     "name": "stdout",
     "output_type": "stream",
     "text": [
      "Calculating iso TPM values\n",
      "Enforcing minimum TPM\n",
      "Total # isos detected: 194503\n",
      "# isos >= 1 tpm: 175394\n",
      "Number of isos reported: 175394\n",
      "Found 214 unique intergenic genes w/ >2 exons and >=1\n",
      "Found 412 unique intergenic transcripts w/ >2 exons and >=1 tpm\n",
      "214\n"
     ]
    }
   ],
   "source": [
    "# human intergenic\n",
    "df = get_n_intergenic_t_g(talon_filt_ab,\n",
    "                          min_tpm,\n",
    "                          min_exons)\n",
    "n_human_novel = len(df.annot_gene_id.unique())\n",
    "print(n_human_novel)"
   ]
  },
  {
   "cell_type": "code",
   "execution_count": 62,
   "id": "da6bf4c0-bf8f-43c9-b9db-10897d160f1d",
   "metadata": {},
   "outputs": [
    {
     "name": "stdout",
     "output_type": "stream",
     "text": [
      "Calculating iso TPM values\n",
      "Subsetting for polya genes\n",
      "Enforcing minimum TPM\n",
      "Total # isos detected: 122685\n",
      "# isos >= 1 tpm: 114790\n",
      "Applying gene type and novelty subset\n",
      "Number of isos reported: 108867\n",
      "108867\n",
      "100220\n",
      "18971\n"
     ]
    }
   ],
   "source": [
    "# mouse known\n",
    "ab_df = pd.read_csv(mouse_talon_filt_ab, sep='\\t')\n",
    "df, _ = get_tpm_table(ab_df,\n",
    "                      how='iso',\n",
    "                      gene_subset='polya',\n",
    "                      min_tpm=min_tpm,\n",
    "                      species='mouse')\n",
    "# merge with extra info\n",
    "df.reset_index(inplace=True)\n",
    "df = df.merge(ab_df[['annot_transcript_id', 'annot_gene_id', 'gene_novelty', 'n_exons']],\n",
    "              how='left', \n",
    "              on='annot_transcript_id')\n",
    "\n",
    "print(len(df.index))\n",
    "df = df.loc[df.n_exons>=min_exons] \n",
    "print(len(df.index))\n",
    "n_mouse_known = len(df.annot_gene_id.unique())\n",
    "print(n_mouse_known)"
   ]
  },
  {
   "cell_type": "code",
   "execution_count": 63,
   "id": "08bb83b5-7b88-4e02-9e61-c8443238f1ca",
   "metadata": {},
   "outputs": [
    {
     "name": "stdout",
     "output_type": "stream",
     "text": [
      "Calculating iso TPM values\n",
      "Enforcing minimum TPM\n",
      "Total # isos detected: 122685\n",
      "# isos >= 1 tpm: 114790\n",
      "Number of isos reported: 114790\n",
      "Found 96 unique intergenic genes w/ >2 exons and >=1\n",
      "Found 175 unique intergenic transcripts w/ >2 exons and >=1 tpm\n",
      "96\n"
     ]
    }
   ],
   "source": [
    "# mouse intergenic\n",
    "df = get_n_intergenic_t_g(mouse_talon_filt_ab,\n",
    "                          min_tpm,\n",
    "                          min_exons,\n",
    "                          species='mouse')\n",
    "n_mouse_novel = len(df.annot_gene_id.unique())\n",
    "print(n_mouse_novel)"
   ]
  },
  {
   "cell_type": "code",
   "execution_count": 95,
   "id": "0f498417-880f-4b6d-b3d4-caaee18750f9",
   "metadata": {},
   "outputs": [],
   "source": [
    "df = pd.DataFrame([[n_human_known, n_human_novel],\n",
    "                   [n_mouse_known, n_mouse_novel]], \n",
    "                  columns=['Known', 'Intergenic'],\n",
    "                  index=['Human', 'Mouse'])\n",
    "                  "
   ]
  },
  {
   "cell_type": "code",
   "execution_count": 96,
   "id": "1486a68a-7a08-44e9-951e-098734ef143e",
   "metadata": {},
   "outputs": [
    {
     "data": {
      "text/html": [
       "<div>\n",
       "<style scoped>\n",
       "    .dataframe tbody tr th:only-of-type {\n",
       "        vertical-align: middle;\n",
       "    }\n",
       "\n",
       "    .dataframe tbody tr th {\n",
       "        vertical-align: top;\n",
       "    }\n",
       "\n",
       "    .dataframe thead th {\n",
       "        text-align: right;\n",
       "    }\n",
       "</style>\n",
       "<table border=\"1\" class=\"dataframe\">\n",
       "  <thead>\n",
       "    <tr style=\"text-align: right;\">\n",
       "      <th></th>\n",
       "      <th>Known</th>\n",
       "      <th>Intergenic</th>\n",
       "    </tr>\n",
       "  </thead>\n",
       "  <tbody>\n",
       "    <tr>\n",
       "      <th>Human</th>\n",
       "      <td>20716</td>\n",
       "      <td>214</td>\n",
       "    </tr>\n",
       "    <tr>\n",
       "      <th>Mouse</th>\n",
       "      <td>18971</td>\n",
       "      <td>96</td>\n",
       "    </tr>\n",
       "  </tbody>\n",
       "</table>\n",
       "</div>"
      ],
      "text/plain": [
       "       Known  Intergenic\n",
       "Human  20716         214\n",
       "Mouse  18971          96"
      ]
     },
     "execution_count": 96,
     "metadata": {},
     "output_type": "execute_result"
    }
   ],
   "source": [
    "df"
   ]
  },
  {
   "cell_type": "code",
   "execution_count": 97,
   "id": "e78f2d1e-da9f-44bd-8356-8e266f937e26",
   "metadata": {},
   "outputs": [
    {
     "data": {
      "text/html": [
       "<div>\n",
       "<style scoped>\n",
       "    .dataframe tbody tr th:only-of-type {\n",
       "        vertical-align: middle;\n",
       "    }\n",
       "\n",
       "    .dataframe tbody tr th {\n",
       "        vertical-align: top;\n",
       "    }\n",
       "\n",
       "    .dataframe thead th {\n",
       "        text-align: right;\n",
       "    }\n",
       "</style>\n",
       "<table border=\"1\" class=\"dataframe\">\n",
       "  <thead>\n",
       "    <tr style=\"text-align: right;\">\n",
       "      <th></th>\n",
       "      <th>Known</th>\n",
       "      <th>Intergenic</th>\n",
       "      <th>total</th>\n",
       "      <th>perc</th>\n",
       "    </tr>\n",
       "  </thead>\n",
       "  <tbody>\n",
       "    <tr>\n",
       "      <th>Human</th>\n",
       "      <td>20716</td>\n",
       "      <td>214</td>\n",
       "      <td>20930</td>\n",
       "      <td>1.022456</td>\n",
       "    </tr>\n",
       "    <tr>\n",
       "      <th>Mouse</th>\n",
       "      <td>18971</td>\n",
       "      <td>96</td>\n",
       "      <td>19067</td>\n",
       "      <td>0.503488</td>\n",
       "    </tr>\n",
       "  </tbody>\n",
       "</table>\n",
       "</div>"
      ],
      "text/plain": [
       "       Known  Intergenic  total      perc\n",
       "Human  20716         214  20930  1.022456\n",
       "Mouse  18971          96  19067  0.503488"
      ]
     },
     "execution_count": 97,
     "metadata": {},
     "output_type": "execute_result"
    }
   ],
   "source": [
    "df['total'] = df.sum(axis=1)\n",
    "df['perc'] = (df['Intergenic']/df['total'])*100\n",
    "df"
   ]
  },
  {
   "cell_type": "code",
   "execution_count": 90,
   "id": "71e9cb8a-47af-4b62-a4d2-f61e94250e8b",
   "metadata": {},
   "outputs": [
    {
     "data": {
      "text/plain": [
       "<matplotlib.legend.Legend at 0x7fa33e14c0d0>"
      ]
     },
     "execution_count": 90,
     "metadata": {},
     "output_type": "execute_result"
    },
    {
     "data": {
      "image/png": "[encoded data removed]",
      "text/plain": [
       "<Figure size 288x360 with 1 Axes>"
      ]
     },
     "metadata": {
      "needs_background": "light"
     },
     "output_type": "display_data"
    }
   ],
   "source": [
    "\n",
    "c_dict, order = get_talon_nov_colors(df.columns.tolist())\n",
    "ax = df.plot.bar(stacked=True, \n",
    "                 color=c_dict,\n",
    "                 figsize=(4,5))\n",
    "ax.set(ylabel='# genes w/ a detected\\nspliced transcript')\n",
    "ax.spines['right'].set_visible(False)\n",
    "ax.spines['top'].set_visible(False)\n",
    "ax.tick_params(axis=\"x\", rotation=0)\n",
    "# ax.get_legend().remove()\n",
    "plt.legend(bbox_to_anchor=(1.05,1.2),\n",
    "           loc='upper right')"
   ]
  },
  {
   "cell_type": "code",
   "execution_count": null,
   "id": "401e6b5f-abcd-493e-befb-a81d0f079457",
   "metadata": {},
   "outputs": [],
   "source": []
  }
 ],
 "metadata": {
  "kernelspec": {
   "display_name": "Python 3",
   "language": "python",
   "name": "python3"
  },
  "language_info": {
   "codemirror_mode": {
    "name": "ipython",
    "version": 3
   },
   "file_extension": ".py",
   "mimetype": "text/x-python",
   "name": "python",
   "nbconvert_exporter": "python",
   "pygments_lexer": "ipython3",
   "version": "3.7.4"
  }
 },
 "nbformat": 4,
 "nbformat_minor": 5
}
