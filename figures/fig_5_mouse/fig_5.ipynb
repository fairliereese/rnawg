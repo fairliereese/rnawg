{
 "cells": [
  {
   "cell_type": "code",
   "execution_count": 2,
   "id": "d4b09cde-ecb6-480b-8e98-b535c630986d",
   "metadata": {},
   "outputs": [],
   "source": [
    "import pandas as pd\n",
    "import numpy as np\n",
    "import scipy.stats as st\n",
    "import seaborn as sns\n",
    "import sys\n",
    "import os\n",
    "import gseapy as gp\n",
    "import matplotlib.pyplot as plt\n",
    "import swan_vis as swan\n",
    "from pandarallel import pandarallel\n",
    "\n",
    "p = os.path.dirname(os.path.dirname(os.getcwd()))\n",
    "sys.path.append(p)\n",
    "\n",
    "from scripts.utils import *\n",
    "from scripts.plotting import *"
   ]
  },
  {
   "cell_type": "code",
   "execution_count": 1,
   "id": "6a639cf2-1849-4a02-aded-aca39a2e5bc1",
   "metadata": {},
   "outputs": [],
   "source": [
    "ab = '../../lr_bulk/talon/human_talon_abundance.tsv'\n",
    "filt_ab = '../../lr_bulk/cerberus/cerberus_filtered_abundance.tsv'\n",
    "read_annot = '../../lr_bulk/talon/human_talon_read_annot.tsv'\n",
    "t_metadata = '../../refs/cerberus/v40_transcript_metadata.tsv'\n",
    "t_orig_metadata = '../../refs/v40_transcript_metadata.tsv'\n",
    "swan_file = '../../lr_bulk/cerberus/swan/swan_meta.p'\n",
    "cerberus_h5 = '../../lr_bulk/cerberus/triplets/cerberus_annot_triplets.h5'\n",
    "major_isos = '../../lr_bulk/cerberus/swan/major_isos.tsv'\n",
    "mane_file = '../../refs/v40_gene_metadata.tsv'\n",
    "\n",
    "ver = 'v40_cerberus'\n",
    "\n",
    "min_tpm = 1\n",
    "gene_subset = 'protein_coding'\n",
    "obs_col = 'sample'\n",
    "\n",
    "mouse_ab = '../../mouse/lr_bulk/talon/mouse_talon_abundance.tsv'\n",
    "mouse_filt_ab = '../../mouse/lr_bulk/cerberus/cerberus_filtered_abundance.tsv'\n",
    "mouse_read_annot = '../../mouse/lr_bulk/talon/mouse_talon_read_annot.tsv'\n",
    "mouse_swan_file = '../../mouse/lr_bulk/swan/swan.p'\n",
    "mouse_meta = '../../mouse/lr_bulk/lr_mouse_library_data_summary.tsv'\n",
    "mouse_t_metadata = '../../mouse/refs/cerberus/vM25_transcript_metadata.tsv'\n",
    "mouse_ver = 'vM25_cerberus'\n",
    "mouse_h5 = '../../mouse/lr_bulk/triplets/cerberus_annot_triplets.h5'\n",
    "\n",
    "orth_table = '../../refs/biomart_human_to_mouse.tsv'"
   ]
  },
  {
   "cell_type": "markdown",
   "id": "821a963b-7899-4692-8fcb-c35987b9362a",
   "metadata": {},
   "source": [
    "## Human vs mouse sector sankey"
   ]
  },
  {
   "cell_type": "code",
   "execution_count": 3,
   "id": "994c14e8-9c3b-4952-826a-252adda22f7a",
   "metadata": {},
   "outputs": [],
   "source": [
    "# # major isoform triplets mouse match \n",
    "# h_source = 'obs_mm_major'\n",
    "# m_source = 'obs_major'\n",
    "\n",
    "# df = human_v_mouse_sectors(cerberus_h5,\n",
    "#                       mouse_h5,\n",
    "#                       h_source,\n",
    "#                       m_source,\n",
    "#                       gene_subset=[gene_subset],\n",
    "#                       ofile='figures/obs_major_mouse_v_human_triplets_sankey.pdf')"
   ]
  },
  {
   "cell_type": "markdown",
   "id": "4cd2475a-43ed-4b7d-9916-9e6f5d55504c",
   "metadata": {},
   "source": [
    "## Simplex plots for human and mouse ARF4 / Arf4"
   ]
  },
  {
   "cell_type": "code",
   "execution_count": 3,
   "id": "e985bf01-a017-4ed6-9ecd-2b2041d49641",
   "metadata": {},
   "outputs": [],
   "source": [
    "# restrict sample triplets to mm ones\n",
    "ca = cerberus.read(cerberus_h5)\n",
    "samples = get_mouse_match_samples()\n",
    "inds = ca.triplets.loc[(ca.triplets.source == 'sample_det')&\\\n",
    "                       ~(ca.triplets['sample'].isin(samples))].index\n",
    "ca.triplets.drop(inds, axis=0, inplace=True)\n",
    "ca.triplets.loc[ca.triplets.source == 'sample_det', 'source'] = 'sample_mm_det'\n",
    "ca = get_centroids(ca, \n",
    "                   source='sample_mm_det',\n",
    "                   gene_subset=gene_subset,\n",
    "                   ver=ver)\n",
    "\n",
    "# add suffix to mouse sources\n",
    "m_ca = cerberus.read(mouse_h5)\n",
    "m_ca.triplets.loc[m_ca.triplets.source == 'sample_det', 'source'] ='sample_det_mouse'\n",
    "m_ca = get_centroids(m_ca,\n",
    "                     source='sample_det_mouse',\n",
    "                     gene_subset=gene_subset,\n",
    "                     ver=mouse_ver)"
   ]
  },
  {
   "cell_type": "code",
   "execution_count": 14,
   "id": "a93a69bc-69ba-4e4e-80c1-8bd3d14118c6",
   "metadata": {},
   "outputs": [],
   "source": [
    "# # limit triplets so we can hone in on weird behavior\n",
    "# ca.triplets = ca.triplets.loc[ca.triplets.source == 'sample_mm_det_centroid']\n",
    "# print(len(ca.triplets.index))\n",
    "\n",
    "# m_ca.triplets = m_ca.triplets.loc[m_ca.triplets.source == 'sample_det_mouse_centroid']\n",
    "# print(len(m_ca.triplets.index))"
   ]
  },
  {
   "cell_type": "code",
   "execution_count": 5,
   "id": "859e0700-0895-41a0-bcb5-a418fcfd1763",
   "metadata": {},
   "outputs": [],
   "source": [
    "# plot_human_mouse_simplex(ca, m_ca, 'ARF4', 'Arf4', 'figures/')"
   ]
  },
  {
   "cell_type": "code",
   "execution_count": 15,
   "id": "785d2a8c-b84b-48fd-b102-a6a2e252aea7",
   "metadata": {},
   "outputs": [
    {
     "name": "stdout",
     "output_type": "stream",
     "text": [
      "16734\n"
     ]
    }
   ],
   "source": [
    "hm_gids = get_human_mouse_gid_table(orth_table)\n",
    "print(len(hm_gids.index))"
   ]
  },
  {
   "cell_type": "code",
   "execution_count": 7,
   "id": "648d697d-af11-4fb8-a5fa-6e76f8cf621d",
   "metadata": {},
   "outputs": [
    {
     "name": "stdout",
     "output_type": "stream",
     "text": [
      "16090\n",
      "Empty DataFrame\n",
      "Columns: [source, gid, n_tss, n_tes, n_ic, n_iso, splicing_ratio, tss_ratio, tes_ratio, spl_ratio, sector, gname, sample, gene_tpm, Gene stable ID, Mouse gene stable ID]\n",
      "Index: []\n",
      "0\n",
      "13895\n",
      "\n",
      "17334\n",
      "14683\n"
     ]
    }
   ],
   "source": [
    "# # merge in mouse gids that we need\n",
    "# print(len(ca.triplets.index))\n",
    "# temp1 = ca.triplets.merge(hm_gids, how='inner', left_on='gid', right_on='Gene stable ID')\n",
    "# print(temp1.loc[temp1.gid.duplicated(keep=False)].sort_values(by='gid'))\n",
    "# print(len(temp1.loc[temp1.gid.duplicated(keep=False), 'gid'].unique()))\n",
    "\n",
    "# print(len(temp1.index))\n",
    "\n",
    "# print()\n",
    "\n",
    "# # merge in mouse data\n",
    "# print(len(m_ca.triplets.index))\n",
    "# # something about this merge makes the below merge not 15828 or w/e the number from the comparison is\n",
    "# temp2 = m_ca.triplets.merge(hm_gids, how='inner', left_on='gid', right_on='Mouse gene stable ID')\n",
    "# print(len(temp2.index))"
   ]
  },
  {
   "cell_type": "code",
   "execution_count": 12,
   "id": "ea2deb7d-a4e5-45a9-9bf3-2d126a4f3b9d",
   "metadata": {},
   "outputs": [],
   "source": [
    "# temp = temp1.merge(temp2, how='inner',\n",
    "#                          left_on='Mouse gene stable ID', right_on='gid', suffixes=('_human', '_mouse'))\n",
    "# len(temp.index)"
   ]
  },
  {
   "cell_type": "code",
   "execution_count": 13,
   "id": "6bfa2286-570c-4b32-86c1-2b255c4cdd71",
   "metadata": {},
   "outputs": [],
   "source": [
    "# temp = ca.triplets.merge(m_ca.triplets, how='inner',\n",
    "#                          left_on='Mouse gene stable ID', right_on='gid', suffixes=('_human', '_mouse'))"
   ]
  },
  {
   "cell_type": "code",
   "execution_count": null,
   "id": "b312500f-143d-4f73-aeff-250a49948155",
   "metadata": {},
   "outputs": [],
   "source": []
  },
  {
   "cell_type": "code",
   "execution_count": null,
   "id": "8d22c6b1-220c-4e8f-b5e6-ccfa3c88a70f",
   "metadata": {},
   "outputs": [],
   "source": []
  },
  {
   "cell_type": "code",
   "execution_count": 16,
   "id": "2134da8d-bdd5-44c6-a56d-185a2cd6dbe2",
   "metadata": {},
   "outputs": [],
   "source": [
    "# merge in mouse gids that we need\n",
    "ca.triplets = ca.triplets.merge(hm_gids, how='inner', left_on='gid', right_on='Gene stable ID')\n",
    "\n",
    "# merge in mouse data\n",
    "m_ca.triplets = m_ca.triplets.merge(hm_gids, how='inner', left_on='gid', right_on='Mouse gene stable ID')"
   ]
  },
  {
   "cell_type": "code",
   "execution_count": 29,
   "id": "cc1ee936-ba7a-4e2e-9e1d-d3fe3ee19f7b",
   "metadata": {},
   "outputs": [],
   "source": []
  },
  {
   "cell_type": "code",
   "execution_count": 12,
   "id": "a58e5ee0-1cbd-46e1-aeca-c951395d9465",
   "metadata": {},
   "outputs": [],
   "source": [
    "# # concatenate the dfs\n",
    "# ca.triplets = pd.concat([ca.triplets, m_ca.triplets], axis=0)"
   ]
  },
  {
   "cell_type": "code",
   "execution_count": 17,
   "id": "486568b5-fac4-4870-ba52-799159d8fca0",
   "metadata": {},
   "outputs": [],
   "source": [
    "df = compute_dists([ca, m_ca],\n",
    "                   ['sample_mm_det_centroid', \n",
    "                   'sample_det_mouse_centroid'],\n",
    "                   gene_subsets=[gene_subset, gene_subset],\n",
    "                   ver=[ver,  mouse_ver],\n",
    "                   gene_merge=['Gene stable ID'])"
   ]
  },
  {
   "cell_type": "code",
   "execution_count": 18,
   "id": "0aff03a8-5b94-4ac7-b9fd-4f54784f7a8e",
   "metadata": {},
   "outputs": [
    {
     "data": {
      "text/html": [
       "<div>\n",
       "<style scoped>\n",
       "    .dataframe tbody tr th:only-of-type {\n",
       "        vertical-align: middle;\n",
       "    }\n",
       "\n",
       "    .dataframe tbody tr th {\n",
       "        vertical-align: top;\n",
       "    }\n",
       "\n",
       "    .dataframe thead th {\n",
       "        text-align: right;\n",
       "    }\n",
       "</style>\n",
       "<table border=\"1\" class=\"dataframe\">\n",
       "  <thead>\n",
       "    <tr style=\"text-align: right;\">\n",
       "      <th></th>\n",
       "      <th>source_sample_mm_det_centroid</th>\n",
       "      <th>gid_sample_mm_det_centroid</th>\n",
       "      <th>n_tss_sample_mm_det_centroid</th>\n",
       "      <th>n_tes_sample_mm_det_centroid</th>\n",
       "      <th>n_ic_sample_mm_det_centroid</th>\n",
       "      <th>n_iso_sample_mm_det_centroid</th>\n",
       "      <th>splicing_ratio_sample_mm_det_centroid</th>\n",
       "      <th>tss_ratio_sample_mm_det_centroid</th>\n",
       "      <th>tes_ratio_sample_mm_det_centroid</th>\n",
       "      <th>spl_ratio_sample_mm_det_centroid</th>\n",
       "      <th>...</th>\n",
       "      <th>sample_sample_det_mouse_centroid</th>\n",
       "      <th>gene_tpm_sample_det_mouse_centroid</th>\n",
       "      <th>tissue</th>\n",
       "      <th>tissue_adult</th>\n",
       "      <th>sector_sample_det_mouse_centroid</th>\n",
       "      <th>Mouse gene stable ID_sample_det_mouse_centroid</th>\n",
       "      <th>gid_stable_sample_det_mouse_centroid</th>\n",
       "      <th>biotype_sample_det_mouse_centroid</th>\n",
       "      <th>dist</th>\n",
       "      <th>z_score</th>\n",
       "    </tr>\n",
       "  </thead>\n",
       "  <tbody>\n",
       "    <tr>\n",
       "      <th>650</th>\n",
       "      <td>sample_mm_det_centroid</td>\n",
       "      <td>ENSG00000168374</td>\n",
       "      <td>1.0</td>\n",
       "      <td>1.0</td>\n",
       "      <td>3.111111</td>\n",
       "      <td>3.111111</td>\n",
       "      <td>3.111111</td>\n",
       "      <td>0.206614</td>\n",
       "      <td>0.206614</td>\n",
       "      <td>0.586772</td>\n",
       "      <td>...</td>\n",
       "      <td>NaN</td>\n",
       "      <td>NaN</td>\n",
       "      <td>NaN</td>\n",
       "      <td>NaN</td>\n",
       "      <td>tes</td>\n",
       "      <td>ENSMUSG00000021877</td>\n",
       "      <td>ENSMUSG00000021877</td>\n",
       "      <td>protein_coding</td>\n",
       "      <td>0.348437</td>\n",
       "      <td>3.94201</td>\n",
       "    </tr>\n",
       "  </tbody>\n",
       "</table>\n",
       "<p>1 rows × 39 columns</p>\n",
       "</div>"
      ],
      "text/plain": [
       "    source_sample_mm_det_centroid gid_sample_mm_det_centroid  \\\n",
       "650        sample_mm_det_centroid            ENSG00000168374   \n",
       "\n",
       "     n_tss_sample_mm_det_centroid  n_tes_sample_mm_det_centroid  \\\n",
       "650                           1.0                           1.0   \n",
       "\n",
       "     n_ic_sample_mm_det_centroid  n_iso_sample_mm_det_centroid  \\\n",
       "650                     3.111111                      3.111111   \n",
       "\n",
       "     splicing_ratio_sample_mm_det_centroid  tss_ratio_sample_mm_det_centroid  \\\n",
       "650                               3.111111                          0.206614   \n",
       "\n",
       "     tes_ratio_sample_mm_det_centroid  spl_ratio_sample_mm_det_centroid  ...  \\\n",
       "650                          0.206614                          0.586772  ...   \n",
       "\n",
       "    sample_sample_det_mouse_centroid gene_tpm_sample_det_mouse_centroid  \\\n",
       "650                              NaN                                NaN   \n",
       "\n",
       "    tissue  tissue_adult sector_sample_det_mouse_centroid  \\\n",
       "650    NaN           NaN                              tes   \n",
       "\n",
       "    Mouse gene stable ID_sample_det_mouse_centroid  \\\n",
       "650                             ENSMUSG00000021877   \n",
       "\n",
       "    gid_stable_sample_det_mouse_centroid biotype_sample_det_mouse_centroid  \\\n",
       "650                   ENSMUSG00000021877                    protein_coding   \n",
       "\n",
       "         dist  z_score  \n",
       "650  0.348437  3.94201  \n",
       "\n",
       "[1 rows x 39 columns]"
      ]
     },
     "execution_count": 18,
     "metadata": {},
     "output_type": "execute_result"
    }
   ],
   "source": [
    "df.loc[df.gname_sample_mm_det_centroid == 'ARF4']"
   ]
  },
  {
   "cell_type": "code",
   "execution_count": 19,
   "id": "4eba372a-13bd-44d7-84a1-6e10165497e6",
   "metadata": {},
   "outputs": [
    {
     "name": "stdout",
     "output_type": "stream",
     "text": [
      "4.31% of orthologous genes (584/13536) have dist z-score > 2\n"
     ]
    }
   ],
   "source": [
    "n = len(df.index)\n",
    "n_num = len(df.loc[df.z_score > 2].index)\n",
    "print(f'{(n_num/n)*100:.2f}% of orthologous genes ({n_num}/{n}) have dist z-score > 2')"
   ]
  },
  {
   "cell_type": "markdown",
   "id": "1fc73f44-52de-495b-aa54-c57cf3d5f388",
   "metadata": {},
   "source": [
    "## ARF4 / Arf4 browser plots"
   ]
  },
  {
   "cell_type": "code",
   "execution_count": 34,
   "id": "d2cec7e7-d8cc-4bbd-8d57-ae11318680d7",
   "metadata": {},
   "outputs": [
    {
     "name": "stdout",
     "output_type": "stream",
     "text": [
      "Read in graph from ../../lr_bulk/cerberus/swan/swan_meta.p\n",
      "Calculating iso TPM values\n",
      "Subsetting for polya genes\n"
     ]
    },
    {
     "name": "stderr",
     "output_type": "stream",
     "text": [
      "/Users/fairliereese/Documents/programming/mortazavi_lab/data/rnawg/scripts/utils.py:2033: PerformanceWarning: DataFrame is highly fragmented.  This is usually the result of calling `frame.insert` many times, which has poor performance.  Consider joining all columns at once using pd.concat(axis=1) instead.  To get a de-fragmented frame, use `newframe = frame.copy()`\n",
      "  df[tpm_col] = (df[d]*1000000)/df[total_col]\n",
      "/Users/fairliereese/Documents/programming/mortazavi_lab/data/rnawg/scripts/utils.py:2032: PerformanceWarning: DataFrame is highly fragmented.  This is usually the result of calling `frame.insert` many times, which has poor performance.  Consider joining all columns at once using pd.concat(axis=1) instead.  To get a de-fragmented frame, use `newframe = frame.copy()`\n",
      "  df[total_col] = df[d].sum()\n"
     ]
    },
    {
     "name": "stdout",
     "output_type": "stream",
     "text": [
      "Enforcing minimum TPM\n",
      "Total # isos detected: 231136\n",
      "# isos >= 1 tpm: 210239\n",
      "Applying gene type and novelty subset\n",
      "Number of isos reported: 206806\n",
      "Found 50 total samples\n"
     ]
    },
    {
     "data": {
      "image/png": "[encoded data removed]",
      "text/plain": [
       "<Figure size 1008x111.6 with 1 Axes>"
      ]
     },
     "metadata": {
      "needs_background": "light"
     },
     "output_type": "display_data"
    }
   ],
   "source": [
    "plot_browser_isos_2(cerberus_h5,\n",
    "                    swan_file, \n",
    "                    filt_ab,\n",
    "                    major_isos,\n",
    "                    'ARF4',\n",
    "                    obs_col,\n",
    "                    'h1',\n",
    "                    'figures/arf4_h1_browser_isos.pdf',\n",
    "                    h=0.2,\n",
    "                    ref_sources=['v29', 'v40'])"
   ]
  },
  {
   "cell_type": "code",
   "execution_count": 3,
   "id": "4251fa24-43ab-43b8-b6a2-530ff6d294af",
   "metadata": {},
   "outputs": [
    {
     "name": "stdout",
     "output_type": "stream",
     "text": [
      "Read in graph from ../../mouse/lr_bulk/swan/swan.p\n",
      "Calculating iso TPM values\n",
      "Subsetting for polya genes\n"
     ]
    },
    {
     "name": "stderr",
     "output_type": "stream",
     "text": [
      "/Users/fairliereese/Documents/programming/mortazavi_lab/data/rnawg/scripts/utils.py:2033: PerformanceWarning: DataFrame is highly fragmented.  This is usually the result of calling `frame.insert` many times, which has poor performance.  Consider joining all columns at once using pd.concat(axis=1) instead.  To get a de-fragmented frame, use `newframe = frame.copy()`\n",
      "  df[tpm_col] = (df[d]*1000000)/df[total_col]\n",
      "/Users/fairliereese/Documents/programming/mortazavi_lab/data/rnawg/scripts/utils.py:2032: PerformanceWarning: DataFrame is highly fragmented.  This is usually the result of calling `frame.insert` many times, which has poor performance.  Consider joining all columns at once using pd.concat(axis=1) instead.  To get a de-fragmented frame, use `newframe = frame.copy()`\n",
      "  df[total_col] = df[d].sum()\n"
     ]
    },
    {
     "name": "stdout",
     "output_type": "stream",
     "text": [
      "Enforcing minimum TPM\n",
      "Total # isos detected: 149463\n",
      "# isos >= 1 tpm: 138642\n",
      "Applying gene type and novelty subset\n",
      "Number of isos reported: 135450\n",
      "Found 37 total samples\n"
     ]
    },
    {
     "data": {
      "image/png": "[encoded data removed]",
      "text/plain": [
       "<Figure size 1008x111.6 with 1 Axes>"
      ]
     },
     "metadata": {
      "needs_background": "light"
     },
     "output_type": "display_data"
    }
   ],
   "source": [
    "plot_browser_isos_2(mouse_h5,\n",
    "                    mouse_swan_file, \n",
    "                    mouse_filt_ab,\n",
    "                    '',\n",
    "                    'Arf4',\n",
    "                    obs_col,\n",
    "                    'f1219',\n",
    "                    'figures/arf4_f1219_browser_isos.pdf',\n",
    "                    h=0.2,\n",
    "                    ref_sources=['vM21', 'vM25'],\n",
    "                    species='mouse')"
   ]
  },
  {
   "cell_type": "code",
   "execution_count": null,
   "id": "f00d54cf-408a-4772-96f7-ee0e12bdda69",
   "metadata": {},
   "outputs": [],
   "source": []
  }
 ],
 "metadata": {
  "kernelspec": {
   "display_name": "Python 3",
   "language": "python",
   "name": "python3"
  },
  "language_info": {
   "codemirror_mode": {
    "name": "ipython",
    "version": 3
   },
   "file_extension": ".py",
   "mimetype": "text/x-python",
   "name": "python",
   "nbconvert_exporter": "python",
   "pygments_lexer": "ipython3",
   "version": "3.7.4"
  }
 },
 "nbformat": 4,
 "nbformat_minor": 5
}
