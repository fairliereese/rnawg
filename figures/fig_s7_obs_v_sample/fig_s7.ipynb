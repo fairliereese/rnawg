{
 "cells": [
  {
   "cell_type": "code",
   "execution_count": 10,
   "id": "a314df77-368e-463a-b671-d4e3a0957bf6",
   "metadata": {},
   "outputs": [],
   "source": [
    "import pandas as pd\n",
    "import numpy as np\n",
    "import scipy.stats as st\n",
    "import seaborn as sns\n",
    "import sys\n",
    "import os\n",
    "import gseapy as gp\n",
    "import matplotlib.pyplot as plt\n",
    "import swan_vis as swan\n",
    "from pandarallel import pandarallel\n",
    "\n",
    "p = os.path.dirname(os.path.dirname(os.getcwd()))\n",
    "sys.path.append(p)\n",
    "\n",
    "from scripts.utils import *\n",
    "from scripts.plotting import *"
   ]
  },
  {
   "cell_type": "code",
   "execution_count": 11,
   "id": "8b3686ce-d62f-4d9d-b942-68e94aa9e01c",
   "metadata": {},
   "outputs": [],
   "source": [
    "ab = '../../lr_bulk/talon/human_talon_abundance.tsv'\n",
    "filt_ab = '../../lr_bulk/cerberus/cerberus_filtered_abundance.tsv'\n",
    "read_annot = '../../lr_bulk/talon/human_talon_read_annot.tsv'\n",
    "t_metadata = '../../refs/cerberus/v40_transcript_metadata.tsv'\n",
    "swan_file = '../../lr_bulk/cerberus/swan/swan_meta.p'\n",
    "cerberus_h5 = '../../lr_bulk/cerberus/triplets/cerberus_annot_triplets.h5'\n",
    "major_isos = '../../lr_bulk/cerberus/swan/major_isos.tsv'\n",
    "\n",
    "ver = 'v40_cerberus'\n",
    "\n",
    "min_tpm = 1\n",
    "gene_subset = 'protein_coding'\n",
    "obs_col = 'sample'\n",
    "\n",
    "mouse_ab = '../../mouse/lr_bulk/talon/mouse_talon_abundance.tsv'\n",
    "mouse_filt_ab = '../../mouse/lr_bulk/cerberus/cerberus_filtered_abundance.tsv'\n",
    "mouse_read_annot = '../../mouse/lr_bulk/talon/mouse_talon_read_annot.tsv'\n",
    "mouse_swan_file = '../../mouse/lr_bulk/swan/swan.p'\n",
    "mouse_meta = '../../mouse/lr_bulk/lr_mouse_library_data_summary.tsv'\n",
    "mouse_t_metadata = '../../mouse/refs/cerberus/vM25_transcript_metadata.tsv'\n",
    "mouse_ver = 'vM25_cerberus'\n"
   ]
  },
  {
   "cell_type": "markdown",
   "id": "66c247a8-9586-4351-8825-28d03d0912e5",
   "metadata": {},
   "source": [
    "## Distances between observed gene triplets and sample-level centroid gene triplets"
   ]
  },
  {
   "cell_type": "code",
   "execution_count": 4,
   "id": "5e324e49-2e97-4441-a63f-b434f5aa6ad5",
   "metadata": {},
   "outputs": [
    {
     "name": "stderr",
     "output_type": "stream",
     "text": [
      "/Users/fairliereese/miniconda3/lib/python3.7/site-packages/scipy/spatial/distance.py:1300: RuntimeWarning: invalid value encountered in sqrt\n",
      "  return np.sqrt(js / 2.0)\n",
      "/Users/fairliereese/miniconda3/lib/python3.7/site-packages/scipy/spatial/distance.py:1300: RuntimeWarning: invalid value encountered in sqrt\n",
      "  return np.sqrt(js / 2.0)\n"
     ]
    }
   ],
   "source": [
    "ca = cerberus.read(cerberus_h5)\n",
    "ca = get_centroids(ca, \n",
    "                   source='sample_det',\n",
    "                   gene_subset=gene_subset,\n",
    "                   ver=ver)\n",
    "df = compute_dists([ca, ca],\n",
    "                   ['sample_det_centroid', 'obs_det'],\n",
    "                   rm_1_isos=[False, True],\n",
    "                   gene_subsets=[gene_subset, gene_subset],\n",
    "                   ver=[ver, ver])"
   ]
  },
  {
   "cell_type": "code",
   "execution_count": 5,
   "id": "fb2c8aae-65e8-41c7-b05e-3a8233a7f660",
   "metadata": {},
   "outputs": [
    {
     "name": "stdout",
     "output_type": "stream",
     "text": [
      "3.18% genes (500/15734) have z-score > 2 between obs. det and sample-level centroids\n"
     ]
    }
   ],
   "source": [
    "n = len(df.index)\n",
    "n_num = len(df.loc[df.z_score > 2].index)\n",
    "print(f'{(n_num/n)*100:.2f}% genes ({n_num}/{n}) have z-score > 2 between obs. det and sample-level centroids')"
   ]
  },
  {
   "cell_type": "code",
   "execution_count": 6,
   "id": "8a86612b-651c-426c-b4d9-8978c5b56ebd",
   "metadata": {},
   "outputs": [
    {
     "name": "stdout",
     "output_type": "stream",
     "text": [
      "94.83% genes (2129/2245) in the obs_det TSS-high sector are not TSS-high for sample-level centroids\n"
     ]
    }
   ],
   "source": [
    "n = len(df.loc[df.sector_obs_det=='tss'].index)\n",
    "n_num = len(df.loc[(df.sector_obs_det=='tss')&(df.sector_sample_det_centroid!='tss')].index)\n",
    "print(f'{(n_num/n)*100:.2f}% genes ({n_num}/{n}) in the obs_det TSS-high sector are not TSS-high for sample-level centroids')"
   ]
  },
  {
   "cell_type": "code",
   "execution_count": 7,
   "id": "fa82a1fa-5849-4607-871b-4477e22e7a25",
   "metadata": {},
   "outputs": [
    {
     "data": {
      "text/plain": [
       "179    ACTA1\n",
       "Name: gname, dtype: object"
      ]
     },
     "execution_count": 7,
     "metadata": {},
     "output_type": "execute_result"
    }
   ],
   "source": [
    "# gene with the highest distance between obs_det and sample_det_centroid\n",
    "df.sort_values(by='dist', ascending=False).head(1)['gname']"
   ]
  },
  {
   "cell_type": "markdown",
   "id": "68bb5d21-fc1c-4cfd-a4f9-0e9c105b8266",
   "metadata": {},
   "source": [
    "## ACTA1 labelled gene triplets"
   ]
  },
  {
   "cell_type": "code",
   "execution_count": 8,
   "id": "e011296a-72e7-4502-810b-6c33ffce450b",
   "metadata": {},
   "outputs": [
    {
     "data": {
      "text/html": [
       "<div>\n",
       "<style scoped>\n",
       "    .dataframe tbody tr th:only-of-type {\n",
       "        vertical-align: middle;\n",
       "    }\n",
       "\n",
       "    .dataframe tbody tr th {\n",
       "        vertical-align: top;\n",
       "    }\n",
       "\n",
       "    .dataframe thead th {\n",
       "        text-align: right;\n",
       "    }\n",
       "</style>\n",
       "<table border=\"1\" class=\"dataframe\">\n",
       "  <thead>\n",
       "    <tr style=\"text-align: right;\">\n",
       "      <th></th>\n",
       "      <th>source</th>\n",
       "      <th>gid</th>\n",
       "      <th>n_tss</th>\n",
       "      <th>n_tes</th>\n",
       "      <th>n_ic</th>\n",
       "      <th>n_iso</th>\n",
       "      <th>splicing_ratio</th>\n",
       "      <th>tss_ratio</th>\n",
       "      <th>tes_ratio</th>\n",
       "      <th>spl_ratio</th>\n",
       "      <th>sector</th>\n",
       "      <th>gname</th>\n",
       "      <th>sample</th>\n",
       "      <th>gene_tpm</th>\n",
       "    </tr>\n",
       "  </thead>\n",
       "  <tbody>\n",
       "    <tr>\n",
       "      <th>8074</th>\n",
       "      <td>obs_det</td>\n",
       "      <td>ENSG00000143632</td>\n",
       "      <td>1.0</td>\n",
       "      <td>1.0</td>\n",
       "      <td>18.000000</td>\n",
       "      <td>18.000000</td>\n",
       "      <td>18.000000</td>\n",
       "      <td>0.050000</td>\n",
       "      <td>0.050000</td>\n",
       "      <td>0.900000</td>\n",
       "      <td>splicing</td>\n",
       "      <td>ACTA1</td>\n",
       "      <td>NaN</td>\n",
       "      <td>NaN</td>\n",
       "    </tr>\n",
       "    <tr>\n",
       "      <th>213</th>\n",
       "      <td>sample_det_centroid</td>\n",
       "      <td>ENSG00000143632</td>\n",
       "      <td>1.0</td>\n",
       "      <td>1.0</td>\n",
       "      <td>2.894737</td>\n",
       "      <td>2.894737</td>\n",
       "      <td>2.894737</td>\n",
       "      <td>0.283798</td>\n",
       "      <td>0.283798</td>\n",
       "      <td>0.432405</td>\n",
       "      <td>mixed</td>\n",
       "      <td>ACTA1</td>\n",
       "      <td>NaN</td>\n",
       "      <td>NaN</td>\n",
       "    </tr>\n",
       "  </tbody>\n",
       "</table>\n",
       "</div>"
      ],
      "text/plain": [
       "                   source              gid  n_tss  n_tes       n_ic  \\\n",
       "8074              obs_det  ENSG00000143632    1.0    1.0  18.000000   \n",
       "213   sample_det_centroid  ENSG00000143632    1.0    1.0   2.894737   \n",
       "\n",
       "          n_iso  splicing_ratio  tss_ratio  tes_ratio  spl_ratio    sector  \\\n",
       "8074  18.000000       18.000000   0.050000   0.050000   0.900000  splicing   \n",
       "213    2.894737        2.894737   0.283798   0.283798   0.432405     mixed   \n",
       "\n",
       "      gname sample  gene_tpm  \n",
       "8074  ACTA1    NaN       NaN  \n",
       "213   ACTA1    NaN       NaN  "
      ]
     },
     "execution_count": 8,
     "metadata": {},
     "output_type": "execute_result"
    }
   ],
   "source": [
    "ca.triplets.loc[(ca.triplets.source.isin(['obs_det', 'sample_det_centroid']))&(ca.triplets.gname=='ACTA1')]"
   ]
  },
  {
   "cell_type": "markdown",
   "id": "0e242618-d103-4486-b833-a5b808b9d90e",
   "metadata": {},
   "source": [
    "## # feats / transcripts / gene / sample"
   ]
  },
  {
   "cell_type": "code",
   "execution_count": 12,
   "id": "352da95e-f99f-40e8-8a33-982729edfd25",
   "metadata": {},
   "outputs": [
    {
     "name": "stdout",
     "output_type": "stream",
     "text": [
      "Calculating iso TPM values\n",
      "Subsetting for protein_coding genes\n"
     ]
    },
    {
     "name": "stderr",
     "output_type": "stream",
     "text": [
      "/Users/fairliereese/Documents/programming/mortazavi_lab/data/rnawg/scripts/utils.py:2033: PerformanceWarning: DataFrame is highly fragmented.  This is usually the result of calling `frame.insert` many times, which has poor performance.  Consider joining all columns at once using pd.concat(axis=1) instead.  To get a de-fragmented frame, use `newframe = frame.copy()`\n",
      "  df[tpm_col] = (df[d]*1000000)/df[total_col]\n",
      "/Users/fairliereese/Documents/programming/mortazavi_lab/data/rnawg/scripts/utils.py:2032: PerformanceWarning: DataFrame is highly fragmented.  This is usually the result of calling `frame.insert` many times, which has poor performance.  Consider joining all columns at once using pd.concat(axis=1) instead.  To get a de-fragmented frame, use `newframe = frame.copy()`\n",
      "  df[total_col] = df[d].sum()\n"
     ]
    },
    {
     "name": "stdout",
     "output_type": "stream",
     "text": [
      "Enforcing minimum TPM\n",
      "Total # isos detected: 231136\n",
      "# isos >= 1 tpm: 210239\n",
      "Applying gene type and novelty subset\n",
      "Number of isos reported: 187945\n",
      "Found 50 total samples\n",
      "Calculating iso TPM values\n",
      "Subsetting for protein_coding genes\n",
      "Enforcing minimum TPM\n",
      "Total # isos detected: 231136\n",
      "# isos >= 1 tpm: 210239\n",
      "Applying gene type and novelty subset\n",
      "Number of isos reported: 187945\n",
      "Found 50 total samples\n",
      "10.21% (1789/17523)of genes have just 1 iso\n",
      "24.41% (133184/545557)of gene / sample combos have just 1 iso\n"
     ]
    },
    {
     "ename": "NameError",
     "evalue": "name 'fig_dir' is not defined",
     "output_type": "error",
     "traceback": [
      "\u001b[0;31m---------------------------------------------------------------------------\u001b[0m",
      "\u001b[0;31mNameError\u001b[0m                                 Traceback (most recent call last)",
      "\u001b[0;32m<ipython-input-12-5deb12c3aab3>\u001b[0m in \u001b[0;36m<module>\u001b[0;34m\u001b[0m\n\u001b[1;32m     46\u001b[0m     \u001b[0;31m# make plots\u001b[0m\u001b[0;34m\u001b[0m\u001b[0;34m\u001b[0m\u001b[0;34m\u001b[0m\u001b[0m\n\u001b[1;32m     47\u001b[0m \u001b[0;34m\u001b[0m\u001b[0m\n\u001b[0;32m---> 48\u001b[0;31m     \u001b[0mplot_feats_per_sample_gene\u001b[0m\u001b[0;34m(\u001b[0m\u001b[0mtemp\u001b[0m\u001b[0;34m,\u001b[0m \u001b[0mfeat\u001b[0m\u001b[0;34m,\u001b[0m \u001b[0mobs_col\u001b[0m\u001b[0;34m)\u001b[0m\u001b[0;34m\u001b[0m\u001b[0;34m\u001b[0m\u001b[0m\n\u001b[0m\u001b[1;32m     49\u001b[0m     \u001b[0mplot_feats_per_sample_gene_ecdf\u001b[0m\u001b[0;34m(\u001b[0m\u001b[0mtemp\u001b[0m\u001b[0;34m,\u001b[0m \u001b[0mfeat\u001b[0m\u001b[0;34m,\u001b[0m \u001b[0mobs_col\u001b[0m\u001b[0;34m)\u001b[0m\u001b[0;34m\u001b[0m\u001b[0;34m\u001b[0m\u001b[0m\n\u001b[1;32m     50\u001b[0m \u001b[0;34m\u001b[0m\u001b[0m\n",
      "\u001b[0;32m~/Documents/programming/mortazavi_lab/data/rnawg/scripts/plotting.py\u001b[0m in \u001b[0;36mplot_feats_per_sample_gene\u001b[0;34m(temp, feat, obs_col)\u001b[0m\n\u001b[1;32m   5190\u001b[0m     \u001b[0mylabel\u001b[0m \u001b[0;34m=\u001b[0m \u001b[0;34m'# genes'\u001b[0m\u001b[0;34m\u001b[0m\u001b[0;34m\u001b[0m\u001b[0m\n\u001b[1;32m   5191\u001b[0m     \u001b[0max\u001b[0m\u001b[0;34m.\u001b[0m\u001b[0mset\u001b[0m\u001b[0;34m(\u001b[0m\u001b[0mxlabel\u001b[0m\u001b[0;34m=\u001b[0m\u001b[0mxlabel\u001b[0m\u001b[0;34m,\u001b[0m \u001b[0mylabel\u001b[0m\u001b[0;34m=\u001b[0m\u001b[0mylabel\u001b[0m\u001b[0;34m,\u001b[0m \u001b[0mylim\u001b[0m\u001b[0;34m=\u001b[0m\u001b[0mylim\u001b[0m\u001b[0;34m)\u001b[0m\u001b[0;34m\u001b[0m\u001b[0;34m\u001b[0m\u001b[0m\n\u001b[0;32m-> 5192\u001b[0;31m     \u001b[0mfname\u001b[0m \u001b[0;34m=\u001b[0m \u001b[0;34mf'{fig_dir}/{feat}_gene_sample_hist.pdf'\u001b[0m\u001b[0;34m\u001b[0m\u001b[0;34m\u001b[0m\u001b[0m\n\u001b[0m\u001b[1;32m   5193\u001b[0m     \u001b[0mplt\u001b[0m\u001b[0;34m.\u001b[0m\u001b[0msavefig\u001b[0m\u001b[0;34m(\u001b[0m\u001b[0mfname\u001b[0m\u001b[0;34m,\u001b[0m \u001b[0mdpi\u001b[0m\u001b[0;34m=\u001b[0m\u001b[0;36m500\u001b[0m\u001b[0;34m)\u001b[0m\u001b[0;34m\u001b[0m\u001b[0;34m\u001b[0m\u001b[0m\n\u001b[1;32m   5194\u001b[0m \u001b[0;34m\u001b[0m\u001b[0m\n",
      "\u001b[0;31mNameError\u001b[0m: name 'fig_dir' is not defined"
     ]
    },
    {
     "data": {
      "image/png": "[encoded data removed]",
      "text/plain": [
       "<Figure size 144x288 with 1 Axes>"
      ]
     },
     "metadata": {
      "needs_background": "light"
     },
     "output_type": "display_data"
    },
    {
     "data": {
      "image/png": "[encoded data removed]",
      "text/plain": [
       "<Figure size 360x360 with 1 Axes>"
      ]
     },
     "metadata": {
      "needs_background": "light"
     },
     "output_type": "display_data"
    }
   ],
   "source": [
    "obs_col = 'sample'\n",
    "min_tpm = 1\n",
    "gene_subset = 'protein_coding'\n",
    "fig_dir = 'figures/'\n",
    "\n",
    "feat_sample = pd.DataFrame()\n",
    "df = pd.DataFrame()\n",
    "for feat in ['iso', 'tss', 'ic', 'tes']:\n",
    "\n",
    "    # these won't give the exact same values / gene as the triplets because we're looking\n",
    "    # at the expression of individual features. But to be consistent with what's done \n",
    "    # to generate the plots earlier in the paper this is how we should do it\n",
    "    g_counts = get_counts_per_gene(filt_ab, obs_col, feat, min_tpm, gene_subset)\n",
    "    gs_counts = get_counts_per_sample_per_gene(filt_ab, obs_col, feat, min_tpm, gene_subset)\n",
    "    \n",
    "    g_counts['source'] = 'Observed'\n",
    "    g_counts['feat'] = feat\n",
    "    gs_counts['source'] = 'Sample'\n",
    "    gs_counts['feat'] = feat\n",
    "    \n",
    "    # what % of genes only have 1 triplet feat?\n",
    "    n_num = len(g_counts.loc[g_counts.counts==1].index)\n",
    "    n = len(g_counts.index)\n",
    "    p_g = perc(n_num, n)\n",
    "    print(f'{p_g:.2f}% ({n_num}/{n})of genes have just 1 {feat}')\n",
    "    \n",
    "    # what % of gene / sample combos only have 1 triplet feat?\n",
    "    n_num = len(gs_counts.loc[gs_counts.counts==1].index)\n",
    "    n = len(gs_counts.index)\n",
    "    p_gs = perc(n_num, n)\n",
    "    print(f'{perc(n_num,n):.2f}% ({n_num}/{n})of gene / sample combos have just 1 {feat}')\n",
    "    temp1 = pd.DataFrame()\n",
    "    temp1['combo'] = ['Gene', 'Gene / sample'] \n",
    "    temp1['perc'] = [p_g, p_gs]\n",
    "    temp1['feat'] = feat\n",
    "    plot_perc_one_feat(temp1, feat, opref=fig_dir)\n",
    "        \n",
    "    temp = pd.concat([g_counts, gs_counts], axis=0)    \n",
    "    \n",
    "    # # remove genes that only have 1 isoform overall\n",
    "    # gids = ca.triplets.loc[(ca.triplets.source=='obs_det')&(ca.triplets.n_iso>1), 'gid'].unique().tolist()\n",
    "    # print(len(temp.index))\n",
    "    # temp = temp.loc[temp.gid.isin(gids)]\n",
    "    # print(len(temp.index))\n",
    "    \n",
    "    # make plots\n",
    "    \n",
    "    plot_feats_per_sample_gene(temp, feat, obs_col)\n",
    "    plot_feats_per_sample_gene_ecdf(temp, feat, obs_col)\n",
    "    \n",
    "    # test for differences\n",
    "    obs = np.array(temp.loc[temp.source=='Observed', 'counts'].tolist())\n",
    "    samp = np.array(temp.loc[temp.source=='Sample', 'counts'].tolist())\n",
    "    \n",
    "    s, pval = stats.kstest(obs, samp, alternative='two-sided')\n",
    "    print(f'{feat} ks test statistic: {s}, pval: {pval}')\n",
    "    print()\n",
    "    \n",
    "    # make an aggregate dataframe across the feats for n_feats vs. n_samples\n",
    "    # feat_sample = pd.concat([feat_sample, get_n_samples_vs_n_feats(temp)], axis=0)\n",
    "    plot_n_samples_vs_n_feats(temp, feat, opref=fig_dir)\n",
    "    \n",
    "    df = pd.concat([df, temp], axis=0)   "
   ]
  },
  {
   "cell_type": "markdown",
   "id": "045d41e3-879e-43ac-a62a-944a35979976",
   "metadata": {},
   "source": [
    "## ACTA1 # transcripts expressed in each sample"
   ]
  },
  {
   "cell_type": "code",
   "execution_count": null,
   "id": "5f782b2e-ab28-4ae4-98a6-4d6c989acd9e",
   "metadata": {},
   "outputs": [],
   "source": [
    "plot_n_transcripts_per_sample(ca,\n",
    "                              'ACTA1',\n",
    "                              'sample_det',\n",
    "                              'figures/acta1_transcripts_per_sample.pdf')"
   ]
  },
  {
   "cell_type": "code",
   "execution_count": null,
   "id": "8b87a2d2-2485-4d34-a52b-4a27e6f4af36",
   "metadata": {},
   "outputs": [],
   "source": [
    "ca.triplets.loc[(ca.triplets.gname=='ACTA1')&\\\n",
    "                (ca.triplets['sample'].isin(['heart', 'muscle']))&\\\n",
    "                (ca.triplets.source=='sample_det')]"
   ]
  },
  {
   "cell_type": "markdown",
   "id": "355a8e48-be6a-4fd5-9af6-61dad746d815",
   "metadata": {},
   "source": [
    "## ACTA1 simplex"
   ]
  },
  {
   "cell_type": "code",
   "execution_count": null,
   "id": "55332a6d-d354-40fa-808e-b997291c2290",
   "metadata": {},
   "outputs": [],
   "source": [
    "gene = 'ACTA1'\n",
    "c_dict, order = get_biosample_colors()\n",
    "c_dict[np.nan] = 'k'\n",
    "mmap = {'v40': '*', 'v29': 'x', 'obs_det': '^', 'cerberus': '2', 'sample_det_centroid': 'x'} \n",
    "subset = {'source': ['v40', 'obs_det', 'sample_det', 'sample_det_centroid']}\n",
    "fname='figures/simplex_{}_det.pdf'.format(gene.lower())\n",
    "df = ca.plot_simplex(top='splicing_ratio', \n",
    "                     gene=gene,\n",
    "                     hue='sample',\n",
    "                     cmap=c_dict,\n",
    "                     density=True,\n",
    "                     density_scale=50,\n",
    "                     density_cmap='Purples',\n",
    "                     size='gene_tpm', \n",
    "                     log_size=True,\n",
    "                     sectors=True,\n",
    "                     marker_style='source',\n",
    "                     mmap=mmap,\n",
    "                     legend=False,\n",
    "                     jitter=True,\n",
    "                     subset=subset,\n",
    "                     size_scale=0.5,\n",
    "                     fname=fname) "
   ]
  },
  {
   "cell_type": "markdown",
   "id": "3850a051-b415-4eff-a434-a3a711081cfe",
   "metadata": {},
   "source": [
    "## ACTA1 transcripts"
   ]
  },
  {
   "cell_type": "code",
   "execution_count": null,
   "id": "8c960bd0-1729-41ee-b50c-eb585b1d07dc",
   "metadata": {},
   "outputs": [],
   "source": [
    "plot_browser_isos_2(cerberus_h5,\n",
    "                    swan_file,\n",
    "                    filt_ab,\n",
    "                    major_isos,\n",
    "                    'ACTA1',\n",
    "                    obs_col,\n",
    "                    'heart',\n",
    "                    'figures/acta1_heart_browser_isos.pdf',\n",
    "                    h=0.2,\n",
    "                    ref_sources=['v29', 'v40'])\n"
   ]
  }
 ],
 "metadata": {
  "kernelspec": {
   "display_name": "Python 3",
   "language": "python",
   "name": "python3"
  },
  "language_info": {
   "codemirror_mode": {
    "name": "ipython",
    "version": 3
   },
   "file_extension": ".py",
   "mimetype": "text/x-python",
   "name": "python",
   "nbconvert_exporter": "python",
   "pygments_lexer": "ipython3",
   "version": "3.7.4"
  }
 },
 "nbformat": 4,
 "nbformat_minor": 5
}
