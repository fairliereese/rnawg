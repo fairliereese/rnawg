{
 "cells": [
  {
   "cell_type": "code",
   "execution_count": 2,
   "id": "a314df77-368e-463a-b671-d4e3a0957bf6",
   "metadata": {},
   "outputs": [],
   "source": [
    "import pandas as pd\n",
    "import numpy as np\n",
    "import scipy.stats as st\n",
    "import seaborn as sns\n",
    "import sys\n",
    "import os\n",
    "import gseapy as gp\n",
    "import matplotlib.pyplot as plt\n",
    "import swan_vis as swan\n",
    "from pandarallel import pandarallel\n",
    "\n",
    "p = os.path.dirname(os.path.dirname(os.getcwd()))\n",
    "sys.path.append(p)\n",
    "\n",
    "from scripts.utils import *\n",
    "from scripts.plotting import *"
   ]
  },
  {
   "cell_type": "code",
   "execution_count": 3,
   "id": "8b3686ce-d62f-4d9d-b942-68e94aa9e01c",
   "metadata": {},
   "outputs": [],
   "source": [
    "ab = '../../lr_bulk/talon/human_talon_abundance.tsv'\n",
    "filt_ab = '../../lr_bulk/cerberus/cerberus_filtered_abundance.tsv'\n",
    "read_annot = '../../lr_bulk/talon/human_talon_read_annot.tsv'\n",
    "t_metadata = '../../refs/cerberus/v40_transcript_metadata.tsv'\n",
    "swan_file = '../../lr_bulk/cerberus/swan/swan_meta.p'\n",
    "cerberus_h5 = '../../lr_bulk/cerberus/triplets/cerberus_annot_triplets.h5'\n",
    "major_isos = '../../lr_bulk/cerberus/swan/major_isos.tsv'\n",
    "\n",
    "ver = 'v40_cerberus'\n",
    "\n",
    "min_tpm = 1\n",
    "gene_subset = 'protein_coding'\n",
    "obs_col = 'sample'\n",
    "\n",
    "mouse_ab = '../../mouse/lr_bulk/talon/mouse_talon_abundance.tsv'\n",
    "mouse_filt_ab = '../../mouse/lr_bulk/cerberus/cerberus_filtered_abundance.tsv'\n",
    "mouse_read_annot = '../../mouse/lr_bulk/talon/mouse_talon_read_annot.tsv'\n",
    "mouse_swan_file = '../../mouse/lr_bulk/swan/swan.p'\n",
    "mouse_meta = '../../mouse/lr_bulk/lr_mouse_library_data_summary.tsv'\n",
    "mouse_t_metadata = '../../mouse/refs/cerberus/vM25_transcript_metadata.tsv'\n",
    "mouse_ver = 'vM25_cerberus'\n"
   ]
  },
  {
   "cell_type": "markdown",
   "id": "66c247a8-9586-4351-8825-28d03d0912e5",
   "metadata": {},
   "source": [
    "## Distances between observed gene triplets and sample-level centroid gene triplets"
   ]
  },
  {
   "cell_type": "code",
   "execution_count": 4,
   "id": "5e324e49-2e97-4441-a63f-b434f5aa6ad5",
   "metadata": {},
   "outputs": [
    {
     "name": "stderr",
     "output_type": "stream",
     "text": [
      "/Users/fairliereese/miniconda3/lib/python3.7/site-packages/scipy/spatial/distance.py:1300: RuntimeWarning: invalid value encountered in sqrt\n",
      "  return np.sqrt(js / 2.0)\n",
      "/Users/fairliereese/miniconda3/lib/python3.7/site-packages/scipy/spatial/distance.py:1300: RuntimeWarning: invalid value encountered in sqrt\n",
      "  return np.sqrt(js / 2.0)\n"
     ]
    }
   ],
   "source": [
    "ca = cerberus.read(cerberus_h5)\n",
    "ca = get_centroids(ca, \n",
    "                   source='sample_det',\n",
    "                   gene_subset=gene_subset,\n",
    "                   ver=ver)\n",
    "df = compute_dists(ca, 'sample_det_centroid', 'obs_det',\n",
    "                   rm_1_iso_2=True,\n",
    "                   gene_subset=gene_subset,\n",
    "                   ver=ver)"
   ]
  },
  {
   "cell_type": "code",
   "execution_count": 5,
   "id": "fb2c8aae-65e8-41c7-b05e-3a8233a7f660",
   "metadata": {},
   "outputs": [
    {
     "name": "stdout",
     "output_type": "stream",
     "text": [
      "3.18% genes (500/15734) have z-score > 2 between obs. det and sample-level centroids\n"
     ]
    }
   ],
   "source": [
    "n = len(df.index)\n",
    "n_num = len(df.loc[df.z_score > 2].index)\n",
    "print(f'{(n_num/n)*100:.2f}% genes ({n_num}/{n}) have z-score > 2 between obs. det and sample-level centroids')"
   ]
  },
  {
   "cell_type": "code",
   "execution_count": 10,
   "id": "8a86612b-651c-426c-b4d9-8978c5b56ebd",
   "metadata": {},
   "outputs": [
    {
     "name": "stdout",
     "output_type": "stream",
     "text": [
      "94.83% genes (2129/2245) in the obs_det TSS-high sector are not TSS-high for sample-level centroids\n"
     ]
    }
   ],
   "source": [
    "n = len(df.loc[df.sector_obs_det=='tss'].index)\n",
    "n_num = len(df.loc[(df.sector_obs_det=='tss')&(df.sector_sample_det_centroid!='tss')].index)\n",
    "print(f'{(n_num/n)*100:.2f}% genes ({n_num}/{n}) in the obs_det TSS-high sector are not TSS-high for sample-level centroids')"
   ]
  },
  {
   "cell_type": "code",
   "execution_count": 12,
   "id": "fa82a1fa-5849-4607-871b-4477e22e7a25",
   "metadata": {},
   "outputs": [
    {
     "data": {
      "text/plain": [
       "179    ACTA1\n",
       "Name: gname, dtype: object"
      ]
     },
     "execution_count": 12,
     "metadata": {},
     "output_type": "execute_result"
    }
   ],
   "source": [
    "# gene with the highest distance between obs_det and sample_det_centroid\n",
    "df.sort_values(by='dist', ascending=False).head(1)['gname']"
   ]
  }
 ],
 "metadata": {
  "kernelspec": {
   "display_name": "Python 3",
   "language": "python",
   "name": "python3"
  },
  "language_info": {
   "codemirror_mode": {
    "name": "ipython",
    "version": 3
   },
   "file_extension": ".py",
   "mimetype": "text/x-python",
   "name": "python",
   "nbconvert_exporter": "python",
   "pygments_lexer": "ipython3",
   "version": "3.7.4"
  }
 },
 "nbformat": 4,
 "nbformat_minor": 5
}
