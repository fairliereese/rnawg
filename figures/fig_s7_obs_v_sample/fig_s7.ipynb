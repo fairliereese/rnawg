{
 "cells": [
  {
   "cell_type": "code",
   "execution_count": 1,
   "id": "a314df77-368e-463a-b671-d4e3a0957bf6",
   "metadata": {},
   "outputs": [],
   "source": [
    "import pandas as pd\n",
    "import numpy as np\n",
    "import scipy.stats as st\n",
    "import seaborn as sns\n",
    "import sys\n",
    "import os\n",
    "import gseapy as gp\n",
    "import matplotlib.pyplot as plt\n",
    "import swan_vis as swan\n",
    "from pandarallel import pandarallel\n",
    "\n",
    "p = os.path.dirname(os.path.dirname(os.getcwd()))\n",
    "sys.path.append(p)\n",
    "\n",
    "from scripts.utils import *\n",
    "from scripts.plotting import *"
   ]
  },
  {
   "cell_type": "code",
   "execution_count": 2,
   "id": "8b3686ce-d62f-4d9d-b942-68e94aa9e01c",
   "metadata": {},
   "outputs": [],
   "source": [
    "ab = '../../lr_bulk/talon/human_talon_abundance.tsv'\n",
    "filt_ab = '../../lr_bulk/cerberus/cerberus_filtered_abundance.tsv'\n",
    "read_annot = '../../lr_bulk/talon/human_talon_read_annot.tsv'\n",
    "t_metadata = '../../refs/cerberus/v40_transcript_metadata.tsv'\n",
    "swan_file = '../../lr_bulk/cerberus/swan/swan_meta.p'\n",
    "cerberus_h5 = '../../lr_bulk/cerberus/triplets/cerberus_annot_triplets.h5'\n",
    "major_isos = '../../lr_bulk/cerberus/swan/major_isos.tsv'\n",
    "\n",
    "ver = 'v40_cerberus'\n",
    "\n",
    "min_tpm = 1\n",
    "gene_subset = 'protein_coding'\n",
    "obs_col = 'sample'\n",
    "\n",
    "mouse_ab = '../../mouse/lr_bulk/talon/mouse_talon_abundance.tsv'\n",
    "mouse_filt_ab = '../../mouse/lr_bulk/cerberus/cerberus_filtered_abundance.tsv'\n",
    "mouse_read_annot = '../../mouse/lr_bulk/talon/mouse_talon_read_annot.tsv'\n",
    "mouse_swan_file = '../../mouse/lr_bulk/swan/swan.p'\n",
    "mouse_meta = '../../mouse/lr_bulk/lr_mouse_library_data_summary.tsv'\n",
    "mouse_t_metadata = '../../mouse/refs/cerberus/vM25_transcript_metadata.tsv'\n",
    "mouse_ver = 'vM25_cerberus'\n"
   ]
  },
  {
   "cell_type": "markdown",
   "id": "66c247a8-9586-4351-8825-28d03d0912e5",
   "metadata": {},
   "source": [
    "## Distances between observed gene triplets and sample-level centroid gene triplets"
   ]
  },
  {
   "cell_type": "code",
   "execution_count": 40,
   "id": "544cedeb-19a7-40f0-9a1e-97a5a1a9a020",
   "metadata": {},
   "outputs": [],
   "source": [
    "def get_centroids(ca, \n",
    "                  source='sample_det',\n",
    "                  gene_subset=None, \n",
    "                  ver=None):\n",
    "    \n",
    "    # subset on source\n",
    "    df = ca.triplets.loc[ca.triplets.source == source].copy(deep=True)\n",
    "    \n",
    "    # limit only to columns that are important\n",
    "    keep_cols = ['gname', 'gid',\n",
    "                 'n_tss', 'n_tes', 'n_ic', 'splicing_ratio',\n",
    "                 'tss_ratio', 'tes_ratio', 'spl_ratio',\n",
    "                 'n_iso']\n",
    "    df = df[keep_cols]\n",
    "    \n",
    "    # get centroid\n",
    "    df = df.groupby(['gname', 'gid']).mean().reset_index()\n",
    "    df = assign_sector(df)\n",
    "    \n",
    "    # limit to target genes\n",
    "    if gene_subset:\n",
    "        gene_df, _, _ = get_gtf_info(how='gene',\n",
    "                                     ver=ver,\n",
    "                                     add_stable_gid=True)\n",
    "        gene_df = gene_df[['gid_stable', 'biotype']]\n",
    "        df = df.merge(gene_df, how='left',\n",
    "                      left_on='gid', right_on='gid_stable')\n",
    "        df = df.loc[df.biotype==gene_subset] \n",
    "        df.drop('biotype', axis=1, inplace=True)\n",
    "    \n",
    "    # add the centroids to the ca.triplet\n",
    "    df['source'] = source+'_centroid'\n",
    "    ca.triplets = pd.concat([ca.triplets, df], axis=0)\n",
    "    \n",
    "    return ca"
   ]
  },
  {
   "cell_type": "code",
   "execution_count": 50,
   "id": "0a6c2c67-6b20-4766-92d2-95f68849df0b",
   "metadata": {},
   "outputs": [],
   "source": [
    "def compute_dists(ca, source1, source2,\n",
    "                  rm_1_iso_1=False,\n",
    "                  rm_1_iso_2=False,\n",
    "                  gene_subset=None, ver=None):\n",
    "    \"\"\"\n",
    "    Compute the distance between source1 and source2. \n",
    "    Also compute the Z-score.\n",
    "    \"\"\"\n",
    "    \n",
    "    # get triplets for each source\n",
    "    df1 = ca.triplets.loc[ca.triplets.source == source1].copy(deep=True)\n",
    "    df2 = ca.triplets.loc[ca.triplets.source == source2].copy(deep=True)\n",
    "    \n",
    "    # if requested, remove triplets w/ only one isoform\n",
    "    if rm_1_iso_1: \n",
    "        df1 = df1.loc[df1.n_iso > 1]\n",
    "    if rm_1_iso_2:\n",
    "        df2 = df2.loc[df2.n_iso > 1]\n",
    "        \n",
    "    # limit to target genes\n",
    "    if gene_subset:\n",
    "        gene_df, _, _ = get_gtf_info(how='gene',\n",
    "                                     ver=ver,\n",
    "                                     add_stable_gid=True)\n",
    "        gene_df = gene_df[['gid_stable', 'biotype']]\n",
    "        \n",
    "        print(len(df1.index))\n",
    "        print(len(df2.index))\n",
    "        \n",
    "        # df1\n",
    "        df1 = df1.merge(gene_df, how='left',\n",
    "                        left_on='gid', right_on='gid_stable')\n",
    "        df1 = df1.loc[df1.biotype==gene_subset]\n",
    "        \n",
    "        # df2\n",
    "        df2 = df2.merge(gene_df, how='left',\n",
    "                        left_on='gid', right_on='gid_stable')\n",
    "        df2 = df2.loc[df2.biotype==gene_subset]\n",
    "\n",
    "    \n",
    "        print(len(df1.index))\n",
    "        print(len(df2.index))\n",
    "    \n",
    "    # merge dfs on gene info\n",
    "    df = df1.merge(df2, how='inner', \n",
    "                   on=['gname', 'gid'],\n",
    "                   suffixes=(f'_{source1}', f'_{source2}'))\n",
    "    \n",
    "    # compute distances\n",
    "    pandarallel.initialize(nb_workers=8, verbose=1)\n",
    "    df['dist'] = df.parallel_apply(simplex_dist,\n",
    "                                   args=(f'_{source1}', f'_{source2}'),\n",
    "                                   axis=1)\n",
    "    df.dist = df.dist.fillna(0)\n",
    "\n",
    "    # compute z_scores \n",
    "    df['z_score'] = st.zscore(df.dist.tolist())\n",
    "    \n",
    "    return df"
   ]
  },
  {
   "cell_type": "code",
   "execution_count": 51,
   "id": "77f56ddc-d8bb-4700-8486-f2ded5ee7e0d",
   "metadata": {},
   "outputs": [],
   "source": [
    "ca = cerberus.read(cerberus_h5)"
   ]
  },
  {
   "cell_type": "code",
   "execution_count": 52,
   "id": "5e324e49-2e97-4441-a63f-b434f5aa6ad5",
   "metadata": {},
   "outputs": [],
   "source": [
    "ca = get_centroids(ca, \n",
    "                   source='sample_det',\n",
    "                   gene_subset=gene_subset,\n",
    "                   ver=ver)"
   ]
  },
  {
   "cell_type": "code",
   "execution_count": 53,
   "id": "f52d0537-8edd-4cf1-ace7-b9d91527f607",
   "metadata": {},
   "outputs": [
    {
     "name": "stdout",
     "output_type": "stream",
     "text": [
      "17523\n",
      "18131\n",
      "17523\n",
      "15734\n"
     ]
    },
    {
     "name": "stderr",
     "output_type": "stream",
     "text": [
      "/Users/fairliereese/miniconda3/lib/python3.7/site-packages/scipy/spatial/distance.py:1300: RuntimeWarning: invalid value encountered in sqrt\n",
      "  return np.sqrt(js / 2.0)\n",
      "/Users/fairliereese/miniconda3/lib/python3.7/site-packages/scipy/spatial/distance.py:1300: RuntimeWarning: invalid value encountered in sqrt\n",
      "  return np.sqrt(js / 2.0)\n"
     ]
    }
   ],
   "source": [
    "df = compute_dists(ca, 'sample_det_centroid', 'obs_det',\n",
    "                   rm_1_iso_2=True,\n",
    "                   gene_subset=gene_subset,\n",
    "                   ver=ver)"
   ]
  },
  {
   "cell_type": "code",
   "execution_count": 45,
   "id": "72b966b2-4835-4d34-889e-d14eca9c284b",
   "metadata": {},
   "outputs": [
    {
     "data": {
      "text/plain": [
       "15734"
      ]
     },
     "execution_count": 45,
     "metadata": {},
     "output_type": "execute_result"
    }
   ],
   "source": [
    "len(df.index)"
   ]
  },
  {
   "cell_type": "code",
   "execution_count": 54,
   "id": "d8d9ee3f-534a-4584-96b5-60b76e33840c",
   "metadata": {},
   "outputs": [
    {
     "data": {
      "text/plain": [
       "<seaborn.axisgrid.FacetGrid at 0x7f86db5de8d0>"
      ]
     },
     "execution_count": 54,
     "metadata": {},
     "output_type": "execute_result"
    },
    {
     "data": {
      "image/png": "[encoded data removed]",
      "text/plain": [
       "<Figure size 360x360 with 1 Axes>"
      ]
     },
     "metadata": {
      "needs_background": "light"
     },
     "output_type": "display_data"
    }
   ],
   "source": [
    "sns.displot(df, x='dist', kind='kde')"
   ]
  },
  {
   "cell_type": "code",
   "execution_count": null,
   "id": "fb2c8aae-65e8-41c7-b05e-3a8233a7f660",
   "metadata": {},
   "outputs": [],
   "source": []
  }
 ],
 "metadata": {
  "kernelspec": {
   "display_name": "Python 3",
   "language": "python",
   "name": "python3"
  },
  "language_info": {
   "codemirror_mode": {
    "name": "ipython",
    "version": 3
   },
   "file_extension": ".py",
   "mimetype": "text/x-python",
   "name": "python",
   "nbconvert_exporter": "python",
   "pygments_lexer": "ipython3",
   "version": "3.7.4"
  }
 },
 "nbformat": 4,
 "nbformat_minor": 5
}
