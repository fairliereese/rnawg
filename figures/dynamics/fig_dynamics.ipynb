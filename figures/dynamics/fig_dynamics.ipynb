{
 "cells": [
  {
   "cell_type": "code",
   "execution_count": 1,
   "id": "e3b7bff0-f802-40d8-8e8b-4aabbda38c99",
   "metadata": {},
   "outputs": [],
   "source": [
    "import pandas as pd\n",
    "import numpy as np\n",
    "import scipy.stats as st\n",
    "import seaborn as sns\n",
    "import sys\n",
    "import os\n",
    "import gseapy as gp\n",
    "import matplotlib.pyplot as plt\n",
    "import swan_vis as swan\n",
    "\n",
    "p = os.path.dirname(os.path.dirname(os.getcwd()))\n",
    "sys.path.append(p)\n",
    "\n",
    "from scripts.utils import *\n",
    "from scripts.plotting import *"
   ]
  },
  {
   "cell_type": "code",
   "execution_count": 2,
   "id": "84c670bf-5fba-4197-ab38-c4c8892458ae",
   "metadata": {},
   "outputs": [],
   "source": [
    "ab = '../../lr_bulk/talon/human_talon_abundance.tsv'\n",
    "filt_ab = '../../lr_bulk/cerberus/cerberus_filtered_abundance.tsv'\n",
    "read_annot = '../../lr_bulk/talon/human_talon_read_annot.tsv'\n",
    "t_metadata = '../../refs/cerberus/v40_transcript_metadata.tsv'\n",
    "swan_file = '../../lr_bulk/cerberus/swan/swan_meta.p'\n",
    "cerberus_h5 = '../../lr_bulk/cerberus/triplets/cerberus_annot_triplets.h5'\n",
    "major_isos = '../../lr_bulk/cerberus/swan/major_isos.tsv'\n",
    "\n",
    "ver = 'v40_cerberus'\n",
    "\n",
    "min_tpm = 1\n",
    "gene_subset = 'polya'\n",
    "go_gene_subset = 'protein_coding'\n",
    "obs_col = 'sample'\n",
    "\n",
    "mouse_ab = '../../mouse/lr_bulk/talon/mouse_talon_abundance.tsv'\n",
    "mouse_filt_ab = '../../mouse/lr_bulk/cerberus/cerberus_filtered_abundance.tsv'\n",
    "mouse_read_annot = '../../mouse/lr_bulk/talon/mouse_talon_read_annot.tsv'\n",
    "mouse_swan_file = '../../mouse/lr_bulk/swan/swan.p'\n",
    "mouse_meta = '../../mouse/lr_bulk/lr_mouse_library_data_summary.tsv'\n",
    "mouse_t_metadata = '../../mouse/refs/cerberus/vM25_transcript_metadata.tsv'\n",
    "mouse_ver = 'vM25_cerberus'\n"
   ]
  },
  {
   "cell_type": "code",
   "execution_count": 3,
   "id": "f33c00ac-4acb-4074-ad31-0ea9c8f5156d",
   "metadata": {},
   "outputs": [
    {
     "data": {
      "image/png": "[encoded data removed]",
      "text/plain": [
       "<Figure size 154.31x144 with 1 Axes>"
      ]
     },
     "metadata": {},
     "output_type": "display_data"
    }
   ],
   "source": [
    "plot_obs_human_simplex_with_centroid(cerberus_h5,\n",
    "                  'CTNNB1',\n",
    "                  'figures/', \n",
    "                  source='sample_det',\n",
    "                  gene_subset=gene_subset,\n",
    "                  ver=ver)"
   ]
  },
  {
   "cell_type": "code",
   "execution_count": 3,
   "id": "e9023810-ece8-4b2a-8808-883073f2d2f8",
   "metadata": {},
   "outputs": [
    {
     "name": "stdout",
     "output_type": "stream",
     "text": [
      "Read in graph from ../../lr_bulk/cerberus/swan/swan_meta.p\n",
      "Calculating iso TPM values\n",
      "Subsetting for polya genes\n"
     ]
    },
    {
     "name": "stderr",
     "output_type": "stream",
     "text": [
      "/Users/fairliereese/Documents/programming/mortazavi_lab/data/rnawg/scripts/utils.py:2047: PerformanceWarning: DataFrame is highly fragmented.  This is usually the result of calling `frame.insert` many times, which has poor performance.  Consider joining all columns at once using pd.concat(axis=1) instead.  To get a de-fragmented frame, use `newframe = frame.copy()`\n",
      "  df[tpm_col] = (df[d]*1000000)/df[total_col]\n",
      "/Users/fairliereese/Documents/programming/mortazavi_lab/data/rnawg/scripts/utils.py:2046: PerformanceWarning: DataFrame is highly fragmented.  This is usually the result of calling `frame.insert` many times, which has poor performance.  Consider joining all columns at once using pd.concat(axis=1) instead.  To get a de-fragmented frame, use `newframe = frame.copy()`\n",
      "  df[total_col] = df[d].sum()\n"
     ]
    },
    {
     "name": "stdout",
     "output_type": "stream",
     "text": [
      "Enforcing minimum TPM\n",
      "Total # isos detected: 231136\n",
      "# isos >= 1 tpm: 210239\n",
      "Applying gene type and novelty subset\n",
      "Number of isos reported: 206806\n",
      "Found 50 total samples\n",
      "> \u001b[0;32m/Users/fairliereese/Documents/programming/mortazavi_lab/data/rnawg/scripts/plotting.py\u001b[0m(3423)\u001b[0;36mplot_browser_isos\u001b[0;34m()\u001b[0m\n",
      "\u001b[0;32m   3421 \u001b[0;31m\u001b[0;34m\u001b[0m\u001b[0m\n",
      "\u001b[0m\u001b[0;32m   3422 \u001b[0;31m    \u001b[0;31m# enforce min tpm\u001b[0m\u001b[0;34m\u001b[0m\u001b[0;34m\u001b[0m\u001b[0;34m\u001b[0m\u001b[0m\n",
      "\u001b[0m\u001b[0;32m-> 3423 \u001b[0;31m    \u001b[0mtpm_df\u001b[0m \u001b[0;34m=\u001b[0m \u001b[0mtpm_df\u001b[0m\u001b[0;34m.\u001b[0m\u001b[0mloc\u001b[0m\u001b[0;34m[\u001b[0m\u001b[0mtpm_df\u001b[0m\u001b[0;34m[\u001b[0m\u001b[0mobs_condition\u001b[0m\u001b[0;34m]\u001b[0m\u001b[0;34m>\u001b[0m\u001b[0mmin_tpm\u001b[0m\u001b[0;34m]\u001b[0m\u001b[0;34m\u001b[0m\u001b[0;34m\u001b[0m\u001b[0m\n",
      "\u001b[0m\u001b[0;32m   3424 \u001b[0;31m\u001b[0;34m\u001b[0m\u001b[0m\n",
      "\u001b[0m\u001b[0;32m   3425 \u001b[0;31m    \u001b[0;32mif\u001b[0m \u001b[0morder\u001b[0m \u001b[0;34m==\u001b[0m \u001b[0;34m'tss'\u001b[0m\u001b[0;34m:\u001b[0m\u001b[0;34m\u001b[0m\u001b[0;34m\u001b[0m\u001b[0m\n",
      "\u001b[0m\n"
     ]
    },
    {
     "name": "stdin",
     "output_type": "stream",
     "text": [
      "ipdb>  tpm_df\n"
     ]
    },
    {
     "name": "stdout",
     "output_type": "stream",
     "text": [
      "                            mcf10a\n",
      "ENSG00000168036[1,15,1]  40.821136\n",
      "ENSG00000168036[1,13,1]  17.425522\n",
      "ENSG00000168036[1,1,1]   12.080589\n",
      "ENSG00000168036[1,14,1]   3.553114\n",
      "ENSG00000168036[1,16,1]   3.200855\n",
      "ENSG00000168036[1,57,1]   1.767401\n",
      "ENSG00000168036[1,9,1]    0.716727\n"
     ]
    },
    {
     "name": "stdin",
     "output_type": "stream",
     "text": [
      "ipdb>  n\n"
     ]
    },
    {
     "name": "stdout",
     "output_type": "stream",
     "text": [
      "> \u001b[0;32m/Users/fairliereese/Documents/programming/mortazavi_lab/data/rnawg/scripts/plotting.py\u001b[0m(3425)\u001b[0;36mplot_browser_isos\u001b[0;34m()\u001b[0m\n",
      "\u001b[0;32m   3423 \u001b[0;31m    \u001b[0mtpm_df\u001b[0m \u001b[0;34m=\u001b[0m \u001b[0mtpm_df\u001b[0m\u001b[0;34m.\u001b[0m\u001b[0mloc\u001b[0m\u001b[0;34m[\u001b[0m\u001b[0mtpm_df\u001b[0m\u001b[0;34m[\u001b[0m\u001b[0mobs_condition\u001b[0m\u001b[0;34m]\u001b[0m\u001b[0;34m>\u001b[0m\u001b[0mmin_tpm\u001b[0m\u001b[0;34m]\u001b[0m\u001b[0;34m\u001b[0m\u001b[0;34m\u001b[0m\u001b[0m\n",
      "\u001b[0m\u001b[0;32m   3424 \u001b[0;31m\u001b[0;34m\u001b[0m\u001b[0m\n",
      "\u001b[0m\u001b[0;32m-> 3425 \u001b[0;31m    \u001b[0;32mif\u001b[0m \u001b[0morder\u001b[0m \u001b[0;34m==\u001b[0m \u001b[0;34m'tss'\u001b[0m\u001b[0;34m:\u001b[0m\u001b[0;34m\u001b[0m\u001b[0;34m\u001b[0m\u001b[0m\n",
      "\u001b[0m\u001b[0;32m   3426 \u001b[0;31m        \u001b[0mtpm_df\u001b[0m \u001b[0;34m=\u001b[0m \u001b[0madd_feat\u001b[0m\u001b[0;34m(\u001b[0m\u001b[0mtpm_df\u001b[0m\u001b[0;34m,\u001b[0m \u001b[0mkind\u001b[0m\u001b[0;34m=\u001b[0m\u001b[0;34m'tss'\u001b[0m\u001b[0;34m,\u001b[0m \u001b[0mcol\u001b[0m\u001b[0;34m=\u001b[0m\u001b[0;34m'index'\u001b[0m\u001b[0;34m)\u001b[0m\u001b[0;34m\u001b[0m\u001b[0;34m\u001b[0m\u001b[0m\n",
      "\u001b[0m\u001b[0;32m   3427 \u001b[0;31m        \u001b[0mtpm_df\u001b[0m\u001b[0;34m.\u001b[0m\u001b[0msort_values\u001b[0m\u001b[0;34m(\u001b[0m\u001b[0mby\u001b[0m\u001b[0;34m=\u001b[0m\u001b[0;34m[\u001b[0m\u001b[0;34m'tss'\u001b[0m\u001b[0;34m,\u001b[0m \u001b[0mobs_condition\u001b[0m\u001b[0;34m]\u001b[0m\u001b[0;34m,\u001b[0m \u001b[0mascending\u001b[0m\u001b[0;34m=\u001b[0m\u001b[0;34m[\u001b[0m\u001b[0;32mTrue\u001b[0m\u001b[0;34m,\u001b[0m \u001b[0;32mFalse\u001b[0m\u001b[0;34m]\u001b[0m\u001b[0;34m,\u001b[0m \u001b[0minplace\u001b[0m\u001b[0;34m=\u001b[0m\u001b[0;32mTrue\u001b[0m\u001b[0;34m)\u001b[0m\u001b[0;34m\u001b[0m\u001b[0;34m\u001b[0m\u001b[0m\n",
      "\u001b[0m\n"
     ]
    },
    {
     "name": "stdin",
     "output_type": "stream",
     "text": [
      "ipdb>  tpm_df\n"
     ]
    },
    {
     "name": "stdout",
     "output_type": "stream",
     "text": [
      "                            mcf10a\n",
      "ENSG00000168036[1,15,1]  40.821136\n",
      "ENSG00000168036[1,13,1]  17.425522\n",
      "ENSG00000168036[1,1,1]   12.080589\n",
      "ENSG00000168036[1,14,1]   3.553114\n",
      "ENSG00000168036[1,16,1]   3.200855\n",
      "ENSG00000168036[1,57,1]   1.767401\n"
     ]
    },
    {
     "name": "stdin",
     "output_type": "stream",
     "text": [
      "ipdb>  c\n"
     ]
    },
    {
     "data": {
      "image/png": "[encoded data removed]",
      "text/plain": [
       "<Figure size 1008x212.4 with 1 Axes>"
      ]
     },
     "metadata": {
      "needs_background": "light"
     },
     "output_type": "display_data"
    }
   ],
   "source": [
    "gene = 'CTNNB1'\n",
    "obs_col = 'sample'\n",
    "obs_condition = 'mcf10a'\n",
    "light_shade = '#9bc3c9'\n",
    "dark_shade= '#022a30'\n",
    "\n",
    "ca = cerberus.read(cerberus_h5)\n",
    "sg = swan.read(swan_file)\n",
    "ax, tpm_df = plot_browser_isos(ca, sg, gene,\n",
    "                             obs_col, obs_condition,\n",
    "                             filt_ab, major_isos,\n",
    "                             h=0.2, min_tpm=1,\n",
    "                             light_shade=light_shade, dark_shade=dark_shade)\n",
    "fname = '{}{}_{}_isos_browser.pdf'.format('figures/', gene.lower(), obs_condition)\n",
    "plt.savefig(fname, dpi=500)"
   ]
  },
  {
   "cell_type": "code",
   "execution_count": null,
   "id": "eaed40a4-5f36-4393-a1d8-8d3e94ef9b5d",
   "metadata": {},
   "outputs": [
    {
     "name": "stdout",
     "output_type": "stream",
     "text": [
      "Calculating iso TPM values\n",
      "Subsetting for polya genes\n",
      "Enforcing minimum TPM\n",
      "Total # isos detected: 231136\n",
      "# isos >= 1 tpm: 210239\n",
      "Applying gene type and novelty subset\n",
      "Number of isos reported: 206806\n",
      "Found 50 total samples\n",
      "> \u001b[0;32m/Users/fairliereese/Documents/programming/mortazavi_lab/data/rnawg/scripts/plotting.py\u001b[0m(3420)\u001b[0;36mplot_browser_isos\u001b[0;34m()\u001b[0m\n",
      "\u001b[0;32m   3418 \u001b[0;31m    \u001b[0;32mimport\u001b[0m \u001b[0mpdb\u001b[0m\u001b[0;34m\u001b[0m\u001b[0;34m\u001b[0m\u001b[0m\n",
      "\u001b[0m\u001b[0;32m   3419 \u001b[0;31m    \u001b[0mpdb\u001b[0m\u001b[0;34m.\u001b[0m\u001b[0mset_trace\u001b[0m\u001b[0;34m(\u001b[0m\u001b[0;34m)\u001b[0m\u001b[0;34m\u001b[0m\u001b[0;34m\u001b[0m\u001b[0m\n",
      "\u001b[0m\u001b[0;32m-> 3420 \u001b[0;31m    \u001b[0;32mif\u001b[0m \u001b[0morder\u001b[0m \u001b[0;34m==\u001b[0m \u001b[0;34m'tss'\u001b[0m\u001b[0;34m:\u001b[0m\u001b[0;34m\u001b[0m\u001b[0;34m\u001b[0m\u001b[0m\n",
      "\u001b[0m\u001b[0;32m   3421 \u001b[0;31m        \u001b[0mtpm_df\u001b[0m \u001b[0;34m=\u001b[0m \u001b[0madd_feat\u001b[0m\u001b[0;34m(\u001b[0m\u001b[0mtpm_df\u001b[0m\u001b[0;34m,\u001b[0m \u001b[0mkind\u001b[0m\u001b[0;34m=\u001b[0m\u001b[0;34m'tss'\u001b[0m\u001b[0;34m,\u001b[0m \u001b[0mcol\u001b[0m\u001b[0;34m=\u001b[0m\u001b[0;34m'index'\u001b[0m\u001b[0;34m)\u001b[0m\u001b[0;34m\u001b[0m\u001b[0;34m\u001b[0m\u001b[0m\n",
      "\u001b[0m\u001b[0;32m   3422 \u001b[0;31m        \u001b[0mtpm_df\u001b[0m\u001b[0;34m.\u001b[0m\u001b[0msort_values\u001b[0m\u001b[0;34m(\u001b[0m\u001b[0mby\u001b[0m\u001b[0;34m=\u001b[0m\u001b[0;34m[\u001b[0m\u001b[0;34m'tss'\u001b[0m\u001b[0;34m,\u001b[0m \u001b[0mobs_condition\u001b[0m\u001b[0;34m]\u001b[0m\u001b[0;34m,\u001b[0m \u001b[0mascending\u001b[0m\u001b[0;34m=\u001b[0m\u001b[0;34m[\u001b[0m\u001b[0;32mTrue\u001b[0m\u001b[0;34m,\u001b[0m \u001b[0;32mFalse\u001b[0m\u001b[0;34m]\u001b[0m\u001b[0;34m,\u001b[0m \u001b[0minplace\u001b[0m\u001b[0;34m=\u001b[0m\u001b[0;32mTrue\u001b[0m\u001b[0;34m)\u001b[0m\u001b[0;34m\u001b[0m\u001b[0;34m\u001b[0m\u001b[0m\n",
      "\u001b[0m\n"
     ]
    },
    {
     "name": "stdin",
     "output_type": "stream",
     "text": [
      "ipdb>  tpm_df\n"
     ]
    },
    {
     "name": "stdout",
     "output_type": "stream",
     "text": [
      "                               caco2\n",
      "ENSG00000168036[1,15,1]    24.354332\n",
      "ENSG00000168036[4,20,2]    23.444126\n",
      "ENSG00000168036[1,13,1]    19.319145\n",
      "ENSG00000168036[1,1,1]     15.582815\n",
      "ENSG00000168036[4,22,2]    15.173739\n",
      "ENSG00000168036[4,21,2]    14.307836\n",
      "ENSG00000168036[16,1,1]     5.832911\n",
      "ENSG00000168036[1,14,1]     3.303380\n",
      "ENSG00000168036[3,7,2]      2.232938\n",
      "ENSG00000168036[7,48,2]     1.936345\n",
      "ENSG00000168036[1,34,3]     1.868166\n",
      "ENSG00000168036[3,8,2]      1.503393\n",
      "ENSG00000168036[10,40,10]   1.435214\n",
      "ENSG00000168036[1,16,1]     1.002262\n",
      "ENSG00000168036[1,30,1]     0.934083\n",
      "ENSG00000168036[15,56,2]    0.501131\n",
      "ENSG00000168036[1,31,1]     0.501131\n",
      "ENSG00000168036[1,14,2]     0.501131\n",
      "ENSG00000168036[4,39,2]     0.501131\n"
     ]
    }
   ],
   "source": [
    "gene = 'CTNNB1'\n",
    "obs_col = 'sample'\n",
    "obs_condition = 'caco2'\n",
    "light_shade = '#ffdeb3'\n",
    "dark_shade = '#804800'\n",
    "ax, tpm_df = plot_browser_isos(ca, sg, gene,\n",
    "                             obs_col, obs_condition,\n",
    "                             filt_ab, major_isos,\n",
    "                             h=0.2,\n",
    "                             add_tss=True, order='tss',\n",
    "                             light_shade=light_shade, \n",
    "                             dark_shade=dark_shade)\n",
    "\n",
    "fname = '{}{}_{}_isos_browser.pdf'.format(dyn_dir, gene.lower(), obs_condition)\n",
    "plt.savefig(fname, dpi=500)"
   ]
  },
  {
   "cell_type": "code",
   "execution_count": null,
   "id": "d7da7048-a057-4ae3-af98-b51eb6777190",
   "metadata": {},
   "outputs": [],
   "source": []
  }
 ],
 "metadata": {
  "kernelspec": {
   "display_name": "Python 3",
   "language": "python",
   "name": "python3"
  },
  "language_info": {
   "codemirror_mode": {
    "name": "ipython",
    "version": 3
   },
   "file_extension": ".py",
   "mimetype": "text/x-python",
   "name": "python",
   "nbconvert_exporter": "python",
   "pygments_lexer": "ipython3",
   "version": "3.7.4"
  }
 },
 "nbformat": 4,
 "nbformat_minor": 5
}
