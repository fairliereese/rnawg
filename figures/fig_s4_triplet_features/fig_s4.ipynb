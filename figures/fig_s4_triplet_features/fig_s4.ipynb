{
 "cells": [
  {
   "cell_type": "code",
   "execution_count": 2,
   "id": "36685140-d2fb-4414-8f19-a856cfc88e7b",
   "metadata": {},
   "outputs": [],
   "source": [
    "import pandas as pd\n",
    "import numpy as np\n",
    "import scipy.stats as st\n",
    "import seaborn as sns\n",
    "import sys\n",
    "import os\n",
    "import gseapy as gp\n",
    "import matplotlib.pyplot as plt\n",
    "import swan_vis as swan\n",
    "\n",
    "p = os.path.dirname(os.path.dirname(os.getcwd()))\n",
    "sys.path.append(p)\n",
    "\n",
    "from scripts.utils import *\n",
    "from scripts.plotting import *"
   ]
  },
  {
   "cell_type": "code",
   "execution_count": 3,
   "id": "f3fe3201-fa4b-469e-83e8-d1720ba572f9",
   "metadata": {},
   "outputs": [],
   "source": [
    "ab = '../../lr_bulk/talon/human_talon_abundance.tsv'\n",
    "filt_ab = '../../lr_bulk/cerberus/cerberus_filtered_abundance.tsv'\n",
    "read_annot = '../../lr_bulk/talon/human_talon_read_annot.tsv'\n",
    "t_metadata = '../../refs/cerberus/v40_transcript_metadata.tsv'\n",
    "swan_file = '../../lr_bulk/cerberus/swan/swan_meta.p'\n",
    "cerberus_h5 = '../../lr_bulk/cerberus/triplets/cerberus_annot_triplets.h5'\n",
    "major_isos = '../../lr_bulk/cerberus/swan/major_isos.tsv'\n",
    "\n",
    "ver = 'v40_cerberus'\n",
    "\n",
    "min_tpm = 1\n",
    "gene_subset = 'polya'\n",
    "go_gene_subset = 'protein_coding'\n",
    "obs_col = 'sample'\n",
    "\n",
    "mouse_ab = '../../mouse/lr_bulk/talon/mouse_talon_abundance.tsv'\n",
    "mouse_filt_ab = '../../mouse/lr_bulk/cerberus/cerberus_filtered_abundance.tsv'\n",
    "mouse_read_annot = '../../mouse/lr_bulk/talon/mouse_talon_read_annot.tsv'\n",
    "mouse_swan_file = '../../mouse/lr_bulk/swan/swan.p'\n",
    "mouse_meta = '../../mouse/lr_bulk/lr_mouse_library_data_summary.tsv'\n",
    "mouse_t_metadata = '../../mouse/refs/cerberus/vM25_transcript_metadata.tsv'\n",
    "mouse_ver = 'vM25_cerberus'\n"
   ]
  },
  {
   "cell_type": "code",
   "execution_count": 8,
   "id": "a4b378f0-6519-4e22-99fa-0354190fe797",
   "metadata": {},
   "outputs": [],
   "source": [
    "def plot_feat_len_hist(cerberus_h5,\n",
    "                       filt_ab,\n",
    "                       feat,\n",
    "                       gene_subset,\n",
    "                       min_tpm,\n",
    "                       ofile):\n",
    "    ca = cerberus.read(cerberus_h5)\n",
    "    \n",
    "    ids = get_det_feats(cerberus_h5, \n",
    "                        filt_ab,\n",
    "                        feat, \n",
    "                        how=feat,\n",
    "                        gene_subset=gene_subset,\n",
    "                        min_tpm=min_tpm)\n",
    "    if feat == 'tss':\n",
    "        df = ca.tss.loc[ca.tss.Name.isin(ids)]\n",
    "    elif feat == 'tes':\n",
    "        df = ca.tes.loc[ca.tes.Name.isin(ids)]\n",
    "    df['region_len'] = abs(df.Start-df.End)\n",
    "    print(df.region_len.min())\n",
    "\n",
    "    sns.set_context('paper', font_scale=2)\n",
    "    mpl.rcParams['font.family'] = 'Arial'\n",
    "    mpl.rcParams['pdf.fonttype'] = 42\n",
    "\n",
    "    c_dict, order = get_feat_colors(feat)\n",
    "    color = c_dict[feat]\n",
    "\n",
    "    ax = sns.displot(df, x='region_len', kind='hist',\n",
    "             linewidth=0,\n",
    "             color=color, \n",
    "             alpha=1,\n",
    "             binwidth=25,\n",
    "             edgecolor=None,\n",
    "             log_scale=(False, True))\n",
    "\n",
    "    \n",
    "    ax = plt.gca()\n",
    "    ylim = ax.get_ylim()\n",
    "    ax.set_ylim(1**-4, ylim[1])\n",
    "\n",
    "    df.region_len.max()\n",
    "    ylabel = f'# {feat.upper()}s'\n",
    "    xlabel = f'{feat.upper()} length (bp)'\n",
    "\n",
    "    ax.set(xlabel=xlabel, ylabel=ylabel)\n",
    "    plt.savefig(ofile, dpi=700, bbox_inches='tight')    "
   ]
  },
  {
   "cell_type": "code",
   "execution_count": null,
   "id": "ba3e583b-ac96-4490-89c9-e867f6d4a1fd",
   "metadata": {},
   "outputs": [],
   "source": [
    "plot_feat_len_hist(cerberus_h5,\n",
    "                   filt_ab,\n",
    "                   'tss',\n",
    "                   gene_subset,\n",
    "                   min_tpm,\n",
    "                   'figures/tss_len_hist.pdf')\n",
    "plot_feat_len_hist(cerberus_h5,\n",
    "                   filt_ab,\n",
    "                   'tes',\n",
    "                   gene_subset,\n",
    "                   min_tpm,\n",
    "                   'figures/tss_len_hist.pdf')"
   ]
  },
  {
   "cell_type": "code",
   "execution_count": 6,
   "id": "0ebc88f8-0558-4771-9dd4-2d7ab880dea4",
   "metadata": {},
   "outputs": [
    {
     "name": "stdout",
     "output_type": "stream",
     "text": [
      "Calculating tss TPM values\n",
      "Subsetting for polya genes\n"
     ]
    },
    {
     "name": "stderr",
     "output_type": "stream",
     "text": [
      "/Users/fairliereese/Documents/programming/mortazavi_lab/data/rnawg/scripts/utils.py:2024: PerformanceWarning: DataFrame is highly fragmented.  This is usually the result of calling `frame.insert` many times, which has poor performance.  Consider joining all columns at once using pd.concat(axis=1) instead.  To get a de-fragmented frame, use `newframe = frame.copy()`\n",
      "  df[tpm_col] = (df[d]*1000000)/df[total_col]\n",
      "/Users/fairliereese/Documents/programming/mortazavi_lab/data/rnawg/scripts/utils.py:2023: PerformanceWarning: DataFrame is highly fragmented.  This is usually the result of calling `frame.insert` many times, which has poor performance.  Consider joining all columns at once using pd.concat(axis=1) instead.  To get a de-fragmented frame, use `newframe = frame.copy()`\n",
      "  df[total_col] = df[d].sum()\n"
     ]
    },
    {
     "name": "stdout",
     "output_type": "stream",
     "text": [
      "Enforcing minimum TPM\n",
      "Total # tsss detected: 76487\n",
      "# tsss >= 1 tpm: 67730\n",
      "Applying gene type and novelty subset\n",
      "Number of tsss reported: 64664\n",
      "101\n",
      "Calculating tes TPM values\n",
      "Subsetting for polya genes\n"
     ]
    },
    {
     "name": "stderr",
     "output_type": "stream",
     "text": [
      "/Users/fairliereese/Documents/programming/mortazavi_lab/data/rnawg/scripts/utils.py:2024: PerformanceWarning: DataFrame is highly fragmented.  This is usually the result of calling `frame.insert` many times, which has poor performance.  Consider joining all columns at once using pd.concat(axis=1) instead.  To get a de-fragmented frame, use `newframe = frame.copy()`\n",
      "  df[tpm_col] = (df[d]*1000000)/df[total_col]\n",
      "/Users/fairliereese/Documents/programming/mortazavi_lab/data/rnawg/scripts/utils.py:2023: PerformanceWarning: DataFrame is highly fragmented.  This is usually the result of calling `frame.insert` many times, which has poor performance.  Consider joining all columns at once using pd.concat(axis=1) instead.  To get a de-fragmented frame, use `newframe = frame.copy()`\n",
      "  df[total_col] = df[d].sum()\n"
     ]
    },
    {
     "name": "stdout",
     "output_type": "stream",
     "text": [
      "Enforcing minimum TPM\n",
      "Total # tess detected: 87670\n",
      "# tess >= 1 tpm: 77369\n",
      "Applying gene type and novelty subset\n",
      "Number of tess reported: 74318\n",
      "101\n"
     ]
    },
    {
     "data": {
      "image/png": "[encoded data removed]",
      "text/plain": [
       "<Figure size 360x360 with 1 Axes>"
      ]
     },
     "metadata": {
      "needs_background": "light"
     },
     "output_type": "display_data"
    },
    {
     "data": {
      "image/png": "[encoded data removed]",
      "text/plain": [
       "<Figure size 360x360 with 1 Axes>"
      ]
     },
     "metadata": {
      "needs_background": "light"
     },
     "output_type": "display_data"
    }
   ],
   "source": [
    "ca = cerberus.read(cerberus_h5)\n",
    "\n",
    "\n",
    "feats = ['tss', 'tes']\n",
    "for feat in feats:\n",
    "    \n",
    "    ids = get_det_feats(cerberus_h5, \n",
    "                        filt_ab,\n",
    "                        feat, \n",
    "                        how=feat,\n",
    "                        gene_subset='polya',\n",
    "                        min_tpm=1)\n",
    "    if feat == 'tss':\n",
    "        df = ca.tss.loc[ca.tss.Name.isin(ids)]\n",
    "    elif feat == 'tes':\n",
    "        df = ca.tes.loc[ca.tes.Name.isin(ids)]\n",
    "    df['region_len'] = abs(df.Start-df.End)\n",
    "    print(df.region_len.min())\n",
    "\n",
    "    sns.set_context('paper', font_scale=2)\n",
    "    mpl.rcParams['font.family'] = 'Arial'\n",
    "    mpl.rcParams['pdf.fonttype'] = 42\n",
    "\n",
    "    c_dict, order = get_feat_colors(feat)\n",
    "    color = c_dict[feat]\n",
    "\n",
    "    ax = sns.displot(df, x='region_len', kind='hist',\n",
    "             linewidth=0,\n",
    "             color=color, \n",
    "             alpha=1,\n",
    "             binwidth=25,\n",
    "             edgecolor=None,\n",
    "             log_scale=(False, True))\n",
    "\n",
    "    # ax = sns.displot(data=df, kind='hist', x='region_len', color=color,\n",
    "    #                  log_scale=(False,True), edgecolor=None,\n",
    "    #                  binwidth=25, alpha=1)\n",
    "    \n",
    "    ax = plt.gca()\n",
    "    ylim = ax.get_ylim()\n",
    "    ax.set_ylim(1**-4, ylim[1])\n",
    "    # ax.set_yscale('log')\n",
    "\n",
    "    df.region_len.max()\n",
    "    ylabel = f'# {feat.upper()}s'\n",
    "    xlabel = f'{feat.upper()} length (bp)'\n",
    "\n",
    "    ax.set(xlabel=xlabel, ylabel=ylabel)\n",
    "    # fname = f'{fig_dir}/human_detected_{f}_lengths.pdf'\n",
    "    # plt.savefig(fname, dpi=700, bbox_inches='tight')    "
   ]
  },
  {
   "cell_type": "code",
   "execution_count": null,
   "id": "0547d563-c6f4-4160-91e3-01fed71a1750",
   "metadata": {},
   "outputs": [],
   "source": []
  }
 ],
 "metadata": {
  "kernelspec": {
   "display_name": "Python 3",
   "language": "python",
   "name": "python3"
  },
  "language_info": {
   "codemirror_mode": {
    "name": "ipython",
    "version": 3
   },
   "file_extension": ".py",
   "mimetype": "text/x-python",
   "name": "python",
   "nbconvert_exporter": "python",
   "pygments_lexer": "ipython3",
   "version": "3.7.4"
  }
 },
 "nbformat": 4,
 "nbformat_minor": 5
}
