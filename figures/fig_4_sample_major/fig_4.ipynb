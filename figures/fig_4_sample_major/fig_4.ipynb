{
 "cells": [
  {
   "cell_type": "code",
   "execution_count": 3,
   "id": "5f2e4883-0e6a-4011-a6e7-34e7eeeab72e",
   "metadata": {},
   "outputs": [],
   "source": [
    "import pandas as pd\n",
    "import numpy as np\n",
    "import scipy.stats as st\n",
    "import seaborn as sns\n",
    "import sys\n",
    "import os\n",
    "import gseapy as gp\n",
    "import matplotlib.pyplot as plt\n",
    "import swan_vis as swan\n",
    "from pandarallel import pandarallel\n",
    "\n",
    "p = os.path.dirname(os.path.dirname(os.getcwd()))\n",
    "sys.path.append(p)\n",
    "\n",
    "from scripts.utils import *\n",
    "from scripts.plotting import *"
   ]
  },
  {
   "cell_type": "code",
   "execution_count": 4,
   "id": "b16fe747-3d4a-4c00-acde-eea3b35954d4",
   "metadata": {},
   "outputs": [],
   "source": [
    "ab = '../../lr_bulk/talon/human_talon_abundance.tsv'\n",
    "filt_ab = '../../lr_bulk/cerberus/cerberus_filtered_abundance.tsv'\n",
    "read_annot = '../../lr_bulk/talon/human_talon_read_annot.tsv'\n",
    "t_metadata = '../../refs/cerberus/v40_transcript_metadata.tsv'\n",
    "swan_file = '../../lr_bulk/cerberus/swan/swan_meta.p'\n",
    "cerberus_h5 = '../../lr_bulk/cerberus/triplets/cerberus_annot_triplets.h5'\n",
    "major_isos = '../../lr_bulk/cerberus/swan/major_isos.tsv'\n",
    "\n",
    "ver = 'v40_cerberus'\n",
    "\n",
    "min_tpm = 1\n",
    "gene_subset = 'protein_coding'\n",
    "obs_col = 'sample'\n",
    "\n",
    "mouse_ab = '../../mouse/lr_bulk/talon/mouse_talon_abundance.tsv'\n",
    "mouse_filt_ab = '../../mouse/lr_bulk/cerberus/cerberus_filtered_abundance.tsv'\n",
    "mouse_read_annot = '../../mouse/lr_bulk/talon/mouse_talon_read_annot.tsv'\n",
    "mouse_swan_file = '../../mouse/lr_bulk/swan/swan.p'\n",
    "mouse_meta = '../../mouse/lr_bulk/lr_mouse_library_data_summary.tsv'\n",
    "mouse_t_metadata = '../../mouse/refs/cerberus/vM25_transcript_metadata.tsv'\n",
    "mouse_ver = 'vM25_cerberus'"
   ]
  },
  {
   "cell_type": "code",
   "execution_count": 5,
   "id": "1da89338-82fc-4c79-b4cb-2f13c4bc9c3f",
   "metadata": {},
   "outputs": [],
   "source": [
    "def plot_major_iso_simplex(h5, gene):\n",
    "    ca = cerberus.read(h5)\n",
    "    \n",
    "    # plotting settings\n",
    "    c_dict, order = get_biosample_colors()\n",
    "    c_dict[np.nan] = 'k'\n",
    "    mm_tissues = ['adrenal gland', 'heart',\n",
    "                  'muscle', 'brain', 'pgp1_excite_neuron',\n",
    "                  'pgp1_astro', 'h9_osteocyte']\n",
    "    mmap = {'v40': '*', 'v29': 'x', 'obs_det': '^', 'cerberus': '2', 'obs_major': '^'}\n",
    "    subset = {'source': ['v40', 'obs_det', 'sample_major']}\n",
    "    \n",
    "    fname = f'figures/simplex_{gene.lower()}_major.pdf'\n",
    "    \n",
    "    df = ca.plot_simplex(gene=gene,\n",
    "            hue='sample',\n",
    "            cmap=c_dict,\n",
    "            size='gene_tpm', \n",
    "            log_size=True,\n",
    "            sectors=True,\n",
    "            marker_style='source',\n",
    "            mmap=mmap,\n",
    "            legend=False,\n",
    "            jitter=True,\n",
    "            subset={'source': ['v40', 'obs_det', 'sample_major']},\n",
    "            size_scale=0.2,\n",
    "            fname=fname)    "
   ]
  },
  {
   "cell_type": "code",
   "execution_count": 22,
   "id": "07a6a842-eb21-4a59-914f-0dfd08e1dfa6",
   "metadata": {},
   "outputs": [],
   "source": [
    "def plot_obs_obs_major_density_simplex(h5, gene):\n",
    "    \n",
    "    ca = cerberus.read(h5)\n",
    "    \n",
    "    # sample_det\n",
    "    c_dict, order = get_biosample_colors()\n",
    "    c_dict[np.nan] = 'k'\n",
    "    mmap = {'v40': '*', 'v29': 'x', 'obs_det': '^', 'cerberus': '2', 'sample_det_centroid': 's'} \n",
    "    subset = {'source': ['v40', 'obs_det', 'sample_det']}\n",
    "    fname=f'figures/simplex_{gene.lower()}_det.pdf'\n",
    "    df = ca.plot_simplex(top='splicing_ratio', \n",
    "                gene=gene,\n",
    "                hue='sample',\n",
    "                cmap=c_dict,\n",
    "                density=True,\n",
    "                density_scale=50,\n",
    "                density_cmap='Purples',\n",
    "                size='gene_tpm', \n",
    "                log_size=True,\n",
    "                sectors=True,\n",
    "                marker_style='source',\n",
    "                mmap=mmap,\n",
    "                legend=False,\n",
    "                jitter=True,\n",
    "                subset=subset,\n",
    "                size_scale=0.2,\n",
    "                fname=fname)\n",
    "    \n",
    "    \n",
    "    # sample_major\n",
    "    mmap = {'v40': '*', 'v29': 'x', 'obs_major': '^', 'cerberus': '2', 'sample_det_centroid': 's'} \n",
    "    subset = {'source': ['v40', 'obs_major', 'sample_major']}\n",
    "    fname=f'figures/simplex_{gene.lower()}_major.pdf'\n",
    "    df = ca.plot_simplex(top='splicing_ratio', \n",
    "                gene=gene,\n",
    "                hue='sample',\n",
    "                cmap=c_dict,\n",
    "                density=True,\n",
    "                density_scale=50,\n",
    "                density_cmap='Purples',\n",
    "                size='gene_tpm', \n",
    "                log_size=True,\n",
    "                sectors=True,\n",
    "                marker_style='source',\n",
    "                mmap=mmap,\n",
    "                legend=False,\n",
    "                jitter=True,\n",
    "                subset=subset,\n",
    "                size_scale=0.2,\n",
    "                fname=fname)"
   ]
  },
  {
   "cell_type": "markdown",
   "id": "2cf78604-ddb0-4af4-87a9-c22dd2778742",
   "metadata": {},
   "source": [
    "## ELN major transcripts simplex"
   ]
  },
  {
   "cell_type": "code",
   "execution_count": 7,
   "id": "47226ba6-8ddf-4593-927d-6f7ee920aad6",
   "metadata": {},
   "outputs": [
    {
     "data": {
      "image/png": "[encoded data removed]",
      "text/plain": [
       "<Figure size 154.31x144 with 1 Axes>"
      ]
     },
     "metadata": {},
     "output_type": "display_data"
    }
   ],
   "source": [
    "plot_major_iso_simplex(cerberus_h5, 'ELN')"
   ]
  },
  {
   "cell_type": "markdown",
   "id": "e2c61d5a-4128-4961-a853-e821d90179b7",
   "metadata": {},
   "source": [
    "## CTCF major transcripts simplex"
   ]
  },
  {
   "cell_type": "code",
   "execution_count": 8,
   "id": "ec9b1120-08de-43fb-b95a-26236e51e827",
   "metadata": {},
   "outputs": [
    {
     "data": {
      "image/png": "[encoded data removed]",
      "text/plain": [
       "<Figure size 154.31x144 with 1 Axes>"
      ]
     },
     "metadata": {},
     "output_type": "display_data"
    }
   ],
   "source": [
    "plot_major_iso_simplex(cerberus_h5, 'CTCF')"
   ]
  },
  {
   "cell_type": "markdown",
   "id": "22143e50-03c4-4f28-9e78-5f1a414dbef4",
   "metadata": {},
   "source": [
    "## E4F1 obs vs obs major density simplices"
   ]
  },
  {
   "cell_type": "code",
   "execution_count": 24,
   "id": "f4046429-21d8-4cc5-85ac-3dae23a5629c",
   "metadata": {},
   "outputs": [
    {
     "data": {
      "image/png": "[encoded data removed]",
      "text/plain": [
       "<Figure size 154.31x144 with 1 Axes>"
      ]
     },
     "metadata": {},
     "output_type": "display_data"
    },
    {
     "data": {
      "image/png": "[encoded data removed]",
      "text/plain": [
       "<Figure size 154.31x144 with 1 Axes>"
      ]
     },
     "metadata": {},
     "output_type": "display_data"
    }
   ],
   "source": [
    "plot_obs_obs_major_density_simplex(cerberus_h5, 'E4F1')"
   ]
  },
  {
   "cell_type": "markdown",
   "id": "ff06268c-316c-48eb-be3b-4b9704c18a58",
   "metadata": {},
   "source": [
    "## Transcript triplets labelled in figures"
   ]
  },
  {
   "cell_type": "code",
   "execution_count": null,
   "id": "6b90b189-8e88-455f-b25e-8802a0db61af",
   "metadata": {},
   "outputs": [],
   "source": [
    "ca = cerberus.read(cerberus_h5)"
   ]
  },
  {
   "cell_type": "code",
   "execution_count": 14,
   "id": "eaa61462-3c3a-4b0d-a0d1-167306217b6e",
   "metadata": {},
   "outputs": [
    {
     "data": {
      "text/html": [
       "<div>\n",
       "<style scoped>\n",
       "    .dataframe tbody tr th:only-of-type {\n",
       "        vertical-align: middle;\n",
       "    }\n",
       "\n",
       "    .dataframe tbody tr th {\n",
       "        vertical-align: top;\n",
       "    }\n",
       "\n",
       "    .dataframe thead th {\n",
       "        text-align: right;\n",
       "    }\n",
       "</style>\n",
       "<table border=\"1\" class=\"dataframe\">\n",
       "  <thead>\n",
       "    <tr style=\"text-align: right;\">\n",
       "      <th></th>\n",
       "      <th>n_tss</th>\n",
       "      <th>splicing_ratio</th>\n",
       "      <th>n_tes</th>\n",
       "    </tr>\n",
       "  </thead>\n",
       "  <tbody>\n",
       "    <tr>\n",
       "      <th>77904</th>\n",
       "      <td>2.0</td>\n",
       "      <td>8.4</td>\n",
       "      <td>3.0</td>\n",
       "    </tr>\n",
       "  </tbody>\n",
       "</table>\n",
       "</div>"
      ],
      "text/plain": [
       "       n_tss  splicing_ratio  n_tes\n",
       "77904    2.0             8.4    3.0"
      ]
     },
     "execution_count": 14,
     "metadata": {},
     "output_type": "execute_result"
    }
   ],
   "source": [
    "ca.triplets.loc[(ca.triplets.source=='sample_major')&\\\n",
    "                (ca.triplets['sample']=='lung')&\\\n",
    "                (ca.triplets.gname.isin(['ELN']))][['n_tss', 'splicing_ratio', 'n_tes']]"
   ]
  },
  {
   "cell_type": "code",
   "execution_count": 15,
   "id": "2a35d12e-468b-4f2a-a6bd-e0420552510b",
   "metadata": {},
   "outputs": [
    {
     "data": {
      "text/html": [
       "<div>\n",
       "<style scoped>\n",
       "    .dataframe tbody tr th:only-of-type {\n",
       "        vertical-align: middle;\n",
       "    }\n",
       "\n",
       "    .dataframe tbody tr th {\n",
       "        vertical-align: top;\n",
       "    }\n",
       "\n",
       "    .dataframe thead th {\n",
       "        text-align: right;\n",
       "    }\n",
       "</style>\n",
       "<table border=\"1\" class=\"dataframe\">\n",
       "  <thead>\n",
       "    <tr style=\"text-align: right;\">\n",
       "      <th></th>\n",
       "      <th>n_tss</th>\n",
       "      <th>splicing_ratio</th>\n",
       "      <th>n_tes</th>\n",
       "    </tr>\n",
       "  </thead>\n",
       "  <tbody>\n",
       "    <tr>\n",
       "      <th>24501</th>\n",
       "      <td>1.0</td>\n",
       "      <td>21.333333</td>\n",
       "      <td>2.0</td>\n",
       "    </tr>\n",
       "  </tbody>\n",
       "</table>\n",
       "</div>"
      ],
      "text/plain": [
       "       n_tss  splicing_ratio  n_tes\n",
       "24501    1.0       21.333333    2.0"
      ]
     },
     "execution_count": 15,
     "metadata": {},
     "output_type": "execute_result"
    }
   ],
   "source": [
    "ca.triplets.loc[(ca.triplets.source=='sample_major')&\\\n",
    "                (ca.triplets['sample']=='h9_chondro')&\\\n",
    "                (ca.triplets.gname.isin(['ELN']))][['n_tss', 'splicing_ratio', 'n_tes']]"
   ]
  },
  {
   "cell_type": "code",
   "execution_count": 13,
   "id": "09edb974-f08e-40b2-90d5-c9e8b259f967",
   "metadata": {},
   "outputs": [
    {
     "data": {
      "text/html": [
       "<div>\n",
       "<style scoped>\n",
       "    .dataframe tbody tr th:only-of-type {\n",
       "        vertical-align: middle;\n",
       "    }\n",
       "\n",
       "    .dataframe tbody tr th {\n",
       "        vertical-align: top;\n",
       "    }\n",
       "\n",
       "    .dataframe thead th {\n",
       "        text-align: right;\n",
       "    }\n",
       "</style>\n",
       "<table border=\"1\" class=\"dataframe\">\n",
       "  <thead>\n",
       "    <tr style=\"text-align: right;\">\n",
       "      <th></th>\n",
       "      <th>n_tss</th>\n",
       "      <th>splicing_ratio</th>\n",
       "      <th>n_tes</th>\n",
       "    </tr>\n",
       "  </thead>\n",
       "  <tbody>\n",
       "    <tr>\n",
       "      <th>79678</th>\n",
       "      <td>3.0</td>\n",
       "      <td>2.0</td>\n",
       "      <td>1.0</td>\n",
       "    </tr>\n",
       "  </tbody>\n",
       "</table>\n",
       "</div>"
      ],
      "text/plain": [
       "       n_tss  splicing_ratio  n_tes\n",
       "79678    3.0             2.0    1.0"
      ]
     },
     "execution_count": 13,
     "metadata": {},
     "output_type": "execute_result"
    }
   ],
   "source": [
    "ca.triplets.loc[(ca.triplets.source=='sample_major')&\\\n",
    "                (ca.triplets['sample']=='lung')&\\\n",
    "                (ca.triplets.gname.isin(['CTCF']))][['n_tss', 'splicing_ratio', 'n_tes']]"
   ]
  },
  {
   "cell_type": "code",
   "execution_count": 16,
   "id": "3fbadb83-ed83-4b76-b69a-2d1ff639d53b",
   "metadata": {},
   "outputs": [
    {
     "data": {
      "text/html": [
       "<div>\n",
       "<style scoped>\n",
       "    .dataframe tbody tr th:only-of-type {\n",
       "        vertical-align: middle;\n",
       "    }\n",
       "\n",
       "    .dataframe tbody tr th {\n",
       "        vertical-align: top;\n",
       "    }\n",
       "\n",
       "    .dataframe thead th {\n",
       "        text-align: right;\n",
       "    }\n",
       "</style>\n",
       "<table border=\"1\" class=\"dataframe\">\n",
       "  <thead>\n",
       "    <tr style=\"text-align: right;\">\n",
       "      <th></th>\n",
       "      <th>n_tss</th>\n",
       "      <th>splicing_ratio</th>\n",
       "      <th>n_tes</th>\n",
       "    </tr>\n",
       "  </thead>\n",
       "  <tbody>\n",
       "    <tr>\n",
       "      <th>11578</th>\n",
       "      <td>4.0</td>\n",
       "      <td>3.714286</td>\n",
       "      <td>3.0</td>\n",
       "    </tr>\n",
       "  </tbody>\n",
       "</table>\n",
       "</div>"
      ],
      "text/plain": [
       "       n_tss  splicing_ratio  n_tes\n",
       "11578    4.0        3.714286    3.0"
      ]
     },
     "execution_count": 16,
     "metadata": {},
     "output_type": "execute_result"
    }
   ],
   "source": [
    "ca.triplets.loc[(ca.triplets.source=='obs_det')&\\\n",
    "                (ca.triplets.gname.isin(['E4F1']))][['n_tss', 'splicing_ratio', 'n_tes']]"
   ]
  },
  {
   "cell_type": "code",
   "execution_count": 17,
   "id": "6eb2039a-958d-4aa8-9bc3-af3d99bb5c18",
   "metadata": {},
   "outputs": [
    {
     "data": {
      "text/html": [
       "<div>\n",
       "<style scoped>\n",
       "    .dataframe tbody tr th:only-of-type {\n",
       "        vertical-align: middle;\n",
       "    }\n",
       "\n",
       "    .dataframe tbody tr th {\n",
       "        vertical-align: top;\n",
       "    }\n",
       "\n",
       "    .dataframe thead th {\n",
       "        text-align: right;\n",
       "    }\n",
       "</style>\n",
       "<table border=\"1\" class=\"dataframe\">\n",
       "  <thead>\n",
       "    <tr style=\"text-align: right;\">\n",
       "      <th></th>\n",
       "      <th>n_tss</th>\n",
       "      <th>splicing_ratio</th>\n",
       "      <th>n_tes</th>\n",
       "    </tr>\n",
       "  </thead>\n",
       "  <tbody>\n",
       "    <tr>\n",
       "      <th>11578</th>\n",
       "      <td>2.0</td>\n",
       "      <td>6.666667</td>\n",
       "      <td>1.0</td>\n",
       "    </tr>\n",
       "  </tbody>\n",
       "</table>\n",
       "</div>"
      ],
      "text/plain": [
       "       n_tss  splicing_ratio  n_tes\n",
       "11578    2.0        6.666667    1.0"
      ]
     },
     "execution_count": 17,
     "metadata": {},
     "output_type": "execute_result"
    }
   ],
   "source": [
    "ca.triplets.loc[(ca.triplets.source=='obs_major')&\\\n",
    "                (ca.triplets.gname.isin(['E4F1']))][['n_tss', 'splicing_ratio', 'n_tes']]"
   ]
  },
  {
   "cell_type": "markdown",
   "id": "cca7b75d-8dc1-4a58-b997-2f51d00d45b4",
   "metadata": {},
   "source": [
    "## Detected ELN isoforms"
   ]
  },
  {
   "cell_type": "code",
   "execution_count": 18,
   "id": "c46ffead-0880-4654-910a-7ddb312ed1fe",
   "metadata": {},
   "outputs": [
    {
     "data": {
      "text/html": [
       "<div>\n",
       "<style scoped>\n",
       "    .dataframe tbody tr th:only-of-type {\n",
       "        vertical-align: middle;\n",
       "    }\n",
       "\n",
       "    .dataframe tbody tr th {\n",
       "        vertical-align: top;\n",
       "    }\n",
       "\n",
       "    .dataframe thead th {\n",
       "        text-align: right;\n",
       "    }\n",
       "</style>\n",
       "<table border=\"1\" class=\"dataframe\">\n",
       "  <thead>\n",
       "    <tr style=\"text-align: right;\">\n",
       "      <th></th>\n",
       "      <th>n_tss</th>\n",
       "      <th>splicing_ratio</th>\n",
       "      <th>n_tes</th>\n",
       "      <th>n_iso</th>\n",
       "    </tr>\n",
       "  </thead>\n",
       "  <tbody>\n",
       "    <tr>\n",
       "      <th>24501</th>\n",
       "      <td>2.0</td>\n",
       "      <td>54.0</td>\n",
       "      <td>3.0</td>\n",
       "      <td>278.0</td>\n",
       "    </tr>\n",
       "  </tbody>\n",
       "</table>\n",
       "</div>"
      ],
      "text/plain": [
       "       n_tss  splicing_ratio  n_tes  n_iso\n",
       "24501    2.0            54.0    3.0  278.0"
      ]
     },
     "execution_count": 18,
     "metadata": {},
     "output_type": "execute_result"
    }
   ],
   "source": [
    "ca.triplets.loc[(ca.triplets.source=='sample_det')&\\\n",
    "                (ca.triplets['sample']=='h9_chondro')&\\\n",
    "                (ca.triplets.gname.isin(['ELN']))][['n_tss', 'splicing_ratio', 'n_tes', 'n_iso']]"
   ]
  }
 ],
 "metadata": {
  "kernelspec": {
   "display_name": "Python 3",
   "language": "python",
   "name": "python3"
  },
  "language_info": {
   "codemirror_mode": {
    "name": "ipython",
    "version": 3
   },
   "file_extension": ".py",
   "mimetype": "text/x-python",
   "name": "python",
   "nbconvert_exporter": "python",
   "pygments_lexer": "ipython3",
   "version": "3.7.4"
  }
 },
 "nbformat": 4,
 "nbformat_minor": 5
}
