{
 "cells": [
  {
   "cell_type": "code",
   "execution_count": 2,
   "id": "5f2e4883-0e6a-4011-a6e7-34e7eeeab72e",
   "metadata": {},
   "outputs": [],
   "source": [
    "import pandas as pd\n",
    "import numpy as np\n",
    "import scipy.stats as st\n",
    "import seaborn as sns\n",
    "import sys\n",
    "import os\n",
    "import gseapy as gp\n",
    "import matplotlib.pyplot as plt\n",
    "import swan_vis as swan\n",
    "from pandarallel import pandarallel\n",
    "\n",
    "p = os.path.dirname(os.path.dirname(os.getcwd()))\n",
    "sys.path.append(p)\n",
    "\n",
    "from scripts.utils import *\n",
    "from scripts.plotting import *"
   ]
  },
  {
   "cell_type": "code",
   "execution_count": 3,
   "id": "b16fe747-3d4a-4c00-acde-eea3b35954d4",
   "metadata": {},
   "outputs": [],
   "source": [
    "ab = '../../lr_bulk/talon/human_talon_abundance.tsv'\n",
    "filt_ab = '../../lr_bulk/cerberus/cerberus_filtered_abundance.tsv'\n",
    "read_annot = '../../lr_bulk/talon/human_talon_read_annot.tsv'\n",
    "t_metadata = '../../refs/cerberus/v40_transcript_metadata.tsv'\n",
    "swan_file = '../../lr_bulk/cerberus/swan/swan_meta.p'\n",
    "cerberus_h5 = '../../lr_bulk/cerberus/triplets/cerberus_annot_triplets.h5'\n",
    "major_isos = '../../lr_bulk/cerberus/swan/major_isos.tsv'\n",
    "\n",
    "ver = 'v40_cerberus'\n",
    "\n",
    "min_tpm = 1\n",
    "gene_subset = 'protein_coding'\n",
    "obs_col = 'sample'\n",
    "\n",
    "mouse_ab = '../../mouse/lr_bulk/talon/mouse_talon_abundance.tsv'\n",
    "mouse_filt_ab = '../../mouse/lr_bulk/cerberus/cerberus_filtered_abundance.tsv'\n",
    "mouse_read_annot = '../../mouse/lr_bulk/talon/mouse_talon_read_annot.tsv'\n",
    "mouse_swan_file = '../../mouse/lr_bulk/swan/swan.p'\n",
    "mouse_meta = '../../mouse/lr_bulk/lr_mouse_library_data_summary.tsv'\n",
    "mouse_t_metadata = '../../mouse/refs/cerberus/vM25_transcript_metadata.tsv'\n",
    "mouse_ver = 'vM25_cerberus'"
   ]
  },
  {
   "cell_type": "code",
   "execution_count": 5,
   "id": "1da89338-82fc-4c79-b4cb-2f13c4bc9c3f",
   "metadata": {},
   "outputs": [],
   "source": [
    "def plot_major_iso_simplex(h5, gene):\n",
    "    ca = cerberus.read(h5)\n",
    "    \n",
    "    # plotting settings\n",
    "    c_dict, order = get_biosample_colors()\n",
    "    c_dict[np.nan] = 'k'\n",
    "    mm_tissues = ['adrenal gland', 'heart',\n",
    "                  'muscle', 'brain', 'pgp1_excite_neuron',\n",
    "                  'pgp1_astro', 'h9_osteocyte']\n",
    "    mmap = {'v40': '*', 'v29': 'x', 'obs_det': '^', 'cerberus': '2', 'obs_major': '^'}\n",
    "    subset = {'source': ['v40', 'obs_det', 'sample_major']}\n",
    "    \n",
    "    fname = f'figures/simplex_{gene.lower()}_major.pdf'\n",
    "    \n",
    "    df = ca.plot_simplex(gene=gene,\n",
    "            hue='sample',\n",
    "            cmap=c_dict,\n",
    "            size='gene_tpm', \n",
    "            log_size=True,\n",
    "            sectors=True,\n",
    "            marker_style='source',\n",
    "            mmap=mmap,\n",
    "            legend=False,\n",
    "            jitter=True,\n",
    "            subset={'source': ['v40', 'obs_det', 'sample_major']},\n",
    "            size_scale=0.2,\n",
    "            fname=fname)    "
   ]
  },
  {
   "cell_type": "code",
   "execution_count": 22,
   "id": "07a6a842-eb21-4a59-914f-0dfd08e1dfa6",
   "metadata": {},
   "outputs": [],
   "source": [
    "def plot_obs_obs_major_density_simplex(h5, gene):\n",
    "    \n",
    "    ca = cerberus.read(h5)\n",
    "    \n",
    "    # sample_det\n",
    "    c_dict, order = get_biosample_colors()\n",
    "    c_dict[np.nan] = 'k'\n",
    "    mmap = {'v40': '*', 'v29': 'x', 'obs_det': '^', 'cerberus': '2', 'sample_det_centroid': 's'} \n",
    "    subset = {'source': ['v40', 'obs_det', 'sample_det']}\n",
    "    fname=f'figures/simplex_{gene.lower()}_det.pdf'\n",
    "    df = ca.plot_simplex(top='splicing_ratio', \n",
    "                gene=gene,\n",
    "                hue='sample',\n",
    "                cmap=c_dict,\n",
    "                density=True,\n",
    "                density_scale=50,\n",
    "                density_cmap='Purples',\n",
    "                size='gene_tpm', \n",
    "                log_size=True,\n",
    "                sectors=True,\n",
    "                marker_style='source',\n",
    "                mmap=mmap,\n",
    "                legend=False,\n",
    "                jitter=True,\n",
    "                subset=subset,\n",
    "                size_scale=0.2,\n",
    "                fname=fname)\n",
    "    \n",
    "    \n",
    "    # sample_major\n",
    "    mmap = {'v40': '*', 'v29': 'x', 'obs_major': '^', 'cerberus': '2', 'sample_det_centroid': 's'} \n",
    "    subset = {'source': ['v40', 'obs_major', 'sample_major']}\n",
    "    fname=f'figures/simplex_{gene.lower()}_major.pdf'\n",
    "    df = ca.plot_simplex(top='splicing_ratio', \n",
    "                gene=gene,\n",
    "                hue='sample',\n",
    "                cmap=c_dict,\n",
    "                density=True,\n",
    "                density_scale=50,\n",
    "                density_cmap='Purples',\n",
    "                size='gene_tpm', \n",
    "                log_size=True,\n",
    "                sectors=True,\n",
    "                marker_style='source',\n",
    "                mmap=mmap,\n",
    "                legend=False,\n",
    "                jitter=True,\n",
    "                subset=subset,\n",
    "                size_scale=0.2,\n",
    "                fname=fname)"
   ]
  },
  {
   "cell_type": "markdown",
   "id": "2cf78604-ddb0-4af4-87a9-c22dd2778742",
   "metadata": {},
   "source": [
    "## ELN major transcripts simplex"
   ]
  },
  {
   "cell_type": "code",
   "execution_count": 7,
   "id": "47226ba6-8ddf-4593-927d-6f7ee920aad6",
   "metadata": {},
   "outputs": [
    {
     "data": {
      "image/png": "[encoded data removed]",
      "text/plain": [
       "<Figure size 154.31x144 with 1 Axes>"
      ]
     },
     "metadata": {},
     "output_type": "display_data"
    }
   ],
   "source": [
    "plot_major_iso_simplex(cerberus_h5, 'ELN')"
   ]
  },
  {
   "cell_type": "markdown",
   "id": "e2c61d5a-4128-4961-a853-e821d90179b7",
   "metadata": {},
   "source": [
    "## CTCF major transcripts simplex"
   ]
  },
  {
   "cell_type": "code",
   "execution_count": 8,
   "id": "ec9b1120-08de-43fb-b95a-26236e51e827",
   "metadata": {},
   "outputs": [
    {
     "data": {
      "image/png": "[encoded data removed]",
      "text/plain": [
       "<Figure size 154.31x144 with 1 Axes>"
      ]
     },
     "metadata": {},
     "output_type": "display_data"
    }
   ],
   "source": [
    "plot_major_iso_simplex(cerberus_h5, 'CTCF')"
   ]
  },
  {
   "cell_type": "markdown",
   "id": "3b65e4b3-0cb1-4e88-8257-eef290c51972",
   "metadata": {},
   "source": [
    "## ELN browser plots"
   ]
  },
  {
   "cell_type": "code",
   "execution_count": 5,
   "id": "a1f3c40b-0ceb-4c54-adc5-a0639e79913a",
   "metadata": {},
   "outputs": [
    {
     "name": "stdout",
     "output_type": "stream",
     "text": [
      "Read in graph from ../../lr_bulk/cerberus/swan/swan_meta.p\n"
     ]
    }
   ],
   "source": [
    "sg = swan.read(swan_file)\n",
    "ca = cerberus.read(cerberus_h5)"
   ]
  },
  {
   "cell_type": "code",
   "execution_count": 7,
   "id": "8aebb87c-f07a-4c3d-81ae-afc4142f0df0",
   "metadata": {},
   "outputs": [
    {
     "name": "stdout",
     "output_type": "stream",
     "text": [
      "small text size: 20.3\n",
      "big text size: 17.571194762684122\n"
     ]
    },
    {
     "data": {
      "image/png": "[encoded data removed]",
      "text/plain": [
       "<Figure size 1008x588.96 with 1 Axes>"
      ]
     },
     "metadata": {
      "needs_background": "light"
     },
     "output_type": "display_data"
    }
   ],
   "source": [
    "gene = 'ELN'\n",
    "obs_col = 'sample'\n",
    "obs_condition = 'lung'\n",
    "ax, tpm_df = plot_browser_isos(ca, sg, gene,\n",
    "                                         obs_col, obs_condition,\n",
    "                                         filt_ab, major_isos,\n",
    "                                         h_space=0.24,\n",
    "                                         h=0.2,\n",
    "                                         major=True)\n",
    "fname = 'figures/{}_{}_major_isos_browser.pdf'.format(gene.lower(), obs_condition)\n",
    "plt.savefig(fname, dpi=500)"
   ]
  },
  {
   "cell_type": "markdown",
   "id": "379bd018-6359-43d0-9fa7-2be2510b2ed8",
   "metadata": {},
   "source": [
    "## CTCF browser plots"
   ]
  },
  {
   "cell_type": "code",
   "execution_count": 9,
   "id": "6af3d953-1be6-4c2d-9267-3e2356fd2b4b",
   "metadata": {},
   "outputs": [
    {
     "name": "stdout",
     "output_type": "stream",
     "text": [
      "small text size: 20.3\n",
      "big text size: 17.571194762684122\n"
     ]
    },
    {
     "data": {
      "image/png": "[encoded data removed]",
      "text/plain": [
       "<Figure size 1008x139.68 with 1 Axes>"
      ]
     },
     "metadata": {
      "needs_background": "light"
     },
     "output_type": "display_data"
    }
   ],
   "source": [
    "gene = 'CTCF'\n",
    "obs_col = 'sample'\n",
    "obs_condition = 'lung'\n",
    "ax, tpm_df = plot_browser_isos(ca, sg, gene,\n",
    "                                         obs_col, obs_condition,\n",
    "                                         filt_ab, major_isos,\n",
    "                                         h_space=0.24,\n",
    "                                         h=0.2, \n",
    "                                         add_tss=True, add_ccre=True, major=True)\n",
    "\n",
    "fname = 'figures/{}_{}_major_isos_browser.pdf'.format(gene.lower(), obs_condition)\n",
    "plt.savefig(fname, dpi=500)"
   ]
  },
  {
   "cell_type": "markdown",
   "id": "22143e50-03c4-4f28-9e78-5f1a414dbef4",
   "metadata": {},
   "source": [
    "## E4F1 obs vs obs major density simplices"
   ]
  },
  {
   "cell_type": "code",
   "execution_count": 24,
   "id": "f4046429-21d8-4cc5-85ac-3dae23a5629c",
   "metadata": {},
   "outputs": [
    {
     "data": {
      "image/png": "[encoded data removed]",
      "text/plain": [
       "<Figure size 154.31x144 with 1 Axes>"
      ]
     },
     "metadata": {},
     "output_type": "display_data"
    },
    {
     "data": {
      "image/png": "[encoded data removed]",
      "text/plain": [
       "<Figure size 154.31x144 with 1 Axes>"
      ]
     },
     "metadata": {},
     "output_type": "display_data"
    }
   ],
   "source": [
    "plot_obs_obs_major_density_simplex(cerberus_h5, 'E4F1')"
   ]
  },
  {
   "cell_type": "markdown",
   "id": "5ef21b8e-d5ac-44f8-8af9-cc10ff6218a9",
   "metadata": {},
   "source": [
    "## Overall observed vs. observed major sankey"
   ]
  },
  {
   "cell_type": "code",
   "execution_count": 29,
   "id": "f6e5628c-d32e-431e-aced-36652a2ddb58",
   "metadata": {},
   "outputs": [],
   "source": [
    "def sector_sankey(h5,\n",
    "                  source1, source2,\n",
    "                  ofile,\n",
    "                  ver=None,\n",
    "                  gene_subset=None):\n",
    "    \n",
    "    ca = cerberus.read(h5)\n",
    "    \n",
    "    # limit to sources\n",
    "    df1 = ca.triplets.loc[ca.triplets.source==source1].copy(deep=True)\n",
    "    df2 = ca.triplets.loc[ca.triplets.source==source2].copy(deep=True)\n",
    "                \n",
    "    # merge on gitd\n",
    "    df = df1.merge(df2, how='outer', on='gid', suffixes=(f'_{source1}', f'_{source2}'))\n",
    "    \n",
    "    # limit to gene subset\n",
    "    if gene_subset:\n",
    "        gene_df, _, _ = get_gtf_info(how='gene', ver=ver)\n",
    "        gene_df['gid_stable'] = cerberus.get_stable_gid(gene_df, 'gid')\n",
    "        df = df.merge(gene_df[['gid_stable', 'biotype_category']],\n",
    "                          how='left', left_on='gid', right_on='gid_stable')\n",
    "        df = df.loc[df.biotype_category == gene_subset]\n",
    "        df.drop(['biotype_category', 'gid_stable'], axis=1, inplace=True)\n",
    "        \n",
    "    # count numer of things\n",
    "    gb_cols = [f'sector_{source1}', f'sector_{source2}']\n",
    "    keep_cols = gb_cols + ['gid']\n",
    "    df = df[keep_cols].groupby(gb_cols).count().reset_index()\n",
    "    \n",
    "    fig = plot_sankey(df,\n",
    "                      source='sector_obs_det',\n",
    "                      sink='sector_obs_major',\n",
    "                      counts='gid',\n",
    "                      color='sector',\n",
    "                      title='')\n",
    "    h = 700\n",
    "    w = 1.8792590838529746*h\n",
    "    pio.write_image(fig, ofile, width=w, height=h)\n",
    "    \n",
    "    return df"
   ]
  },
  {
   "cell_type": "code",
   "execution_count": 30,
   "id": "32743b31-7b43-4ae4-8d9e-30bc20fc66ac",
   "metadata": {},
   "outputs": [
    {
     "name": "stdout",
     "output_type": "stream",
     "text": [
      "{'tss': '#56B4E9', 'splicing': '#CC79A7', 'tes': '#E69F00', 'simple': '#000000', 'mixed': '#b7b7b7'}\n",
      "{'label': ['TSS', 'Splicing', 'TES', 'Mixed', 'Simple', 'TSS', 'Splicing', 'TES', 'Mixed', 'Simple'], 'color': ['#56B4E9', '#CC79A7', '#E69F00', '#b7b7b7', '#000000', '#56B4E9', '#CC79A7', '#E69F00', '#b7b7b7', '#000000'], 'x': [0.01, 0.01, 0.01, 0.01, 0.01, 1.0, 1.0, 1.0, 1.0, 1.0], 'y': [0.01, 0.25, 0.5, 0.75, 1.0, 0.01, 0.25, 0.5, 0.75, 1.0]}\n"
     ]
    },
    {
     "data": {
      "application/vnd.plotly.v1+json": {
       "config": {
        "plotlyServerURL": "https://plot.ly"
       },
       "data": [
        {
         "arrangement": "snap",
         "link": {
          "color": [
           "#b7b7b7",
           "#b7b7b7",
           "#b7b7b7",
           "#b7b7b7",
           "#b7b7b7",
           "#000000",
           "#CC79A7",
           "#CC79A7",
           "#CC79A7",
           "#CC79A7",
           "#CC79A7",
           "#E69F00",
           "#E69F00",
           "#E69F00",
           "#E69F00",
           "#E69F00",
           "#56B4E9",
           "#56B4E9",
           "#56B4E9",
           "#56B4E9",
           "#56B4E9"
          ],
          "source": [
           3,
           3,
           3,
           3,
           3,
           4,
           1,
           1,
           1,
           1,
           1,
           2,
           2,
           2,
           2,
           2,
           0,
           0,
           0,
           0,
           0
          ],
          "target": [
           8,
           9,
           6,
           7,
           5,
           9,
           8,
           9,
           6,
           7,
           5,
           8,
           9,
           6,
           7,
           5,
           8,
           9,
           6,
           7,
           5
          ],
          "value": [
           6645,
           251,
           436,
           343,
           450,
           1789,
           261,
           63,
           558,
           7,
           11,
           624,
           52,
           18,
           3759,
           11,
           302,
           21,
           7,
           3,
           1912
          ]
         },
         "node": {
          "color": [
           "#56B4E9",
           "#CC79A7",
           "#E69F00",
           "#b7b7b7",
           "#000000",
           "#56B4E9",
           "#CC79A7",
           "#E69F00",
           "#b7b7b7",
           "#000000"
          ],
          "label": [
           "TSS",
           "Splicing",
           "TES",
           "Mixed",
           "Simple",
           "TSS",
           "Splicing",
           "TES",
           "Mixed",
           "Simple"
          ],
          "x": [
           0.01,
           0.01,
           0.01,
           0.01,
           0.01,
           1,
           1,
           1,
           1,
           1
          ],
          "y": [
           0.01,
           0.25,
           0.5,
           0.75,
           1,
           0.01,
           0.25,
           0.5,
           0.75,
           1
          ]
         },
         "textfont": {
          "family": "Arial",
          "size": 20
         },
         "type": "sankey"
        }
       ],
       "layout": {
        "autosize": true,
        "font": {
         "family": "Times New Roman"
        },
        "template": {
         "data": {
          "bar": [
           {
            "error_x": {
             "color": "#2a3f5f"
            },
            "error_y": {
             "color": "#2a3f5f"
            },
            "marker": {
             "line": {
              "color": "#E5ECF6",
              "width": 0.5
             },
             "pattern": {
              "fillmode": "overlay",
              "size": 10,
              "solidity": 0.2
             }
            },
            "type": "bar"
           }
          ],
          "barpolar": [
           {
            "marker": {
             "line": {
              "color": "#E5ECF6",
              "width": 0.5
             },
             "pattern": {
              "fillmode": "overlay",
              "size": 10,
              "solidity": 0.2
             }
            },
            "type": "barpolar"
           }
          ],
          "carpet": [
           {
            "aaxis": {
             "endlinecolor": "#2a3f5f",
             "gridcolor": "white",
             "linecolor": "white",
             "minorgridcolor": "white",
             "startlinecolor": "#2a3f5f"
            },
            "baxis": {
             "endlinecolor": "#2a3f5f",
             "gridcolor": "white",
             "linecolor": "white",
             "minorgridcolor": "white",
             "startlinecolor": "#2a3f5f"
            },
            "type": "carpet"
           }
          ],
          "choropleth": [
           {
            "colorbar": {
             "outlinewidth": 0,
             "ticks": ""
            },
            "type": "choropleth"
           }
          ],
          "contour": [
           {
            "colorbar": {
             "outlinewidth": 0,
             "ticks": ""
            },
            "colorscale": [
             [
              0,
              "#0d0887"
             ],
             [
              0.1111111111111111,
              "#46039f"
             ],
             [
              0.2222222222222222,
              "#7201a8"
             ],
             [
              0.3333333333333333,
              "#9c179e"
             ],
             [
              0.4444444444444444,
              "#bd3786"
             ],
             [
              0.5555555555555556,
              "#d8576b"
             ],
             [
              0.6666666666666666,
              "#ed7953"
             ],
             [
              0.7777777777777778,
              "#fb9f3a"
             ],
             [
              0.8888888888888888,
              "#fdca26"
             ],
             [
              1,
              "#f0f921"
             ]
            ],
            "type": "contour"
           }
          ],
          "contourcarpet": [
           {
            "colorbar": {
             "outlinewidth": 0,
             "ticks": ""
            },
            "type": "contourcarpet"
           }
          ],
          "heatmap": [
           {
            "colorbar": {
             "outlinewidth": 0,
             "ticks": ""
            },
            "colorscale": [
             [
              0,
              "#0d0887"
             ],
             [
              0.1111111111111111,
              "#46039f"
             ],
             [
              0.2222222222222222,
              "#7201a8"
             ],
             [
              0.3333333333333333,
              "#9c179e"
             ],
             [
              0.4444444444444444,
              "#bd3786"
             ],
             [
              0.5555555555555556,
              "#d8576b"
             ],
             [
              0.6666666666666666,
              "#ed7953"
             ],
             [
              0.7777777777777778,
              "#fb9f3a"
             ],
             [
              0.8888888888888888,
              "#fdca26"
             ],
             [
              1,
              "#f0f921"
             ]
            ],
            "type": "heatmap"
           }
          ],
          "heatmapgl": [
           {
            "colorbar": {
             "outlinewidth": 0,
             "ticks": ""
            },
            "colorscale": [
             [
              0,
              "#0d0887"
             ],
             [
              0.1111111111111111,
              "#46039f"
             ],
             [
              0.2222222222222222,
              "#7201a8"
             ],
             [
              0.3333333333333333,
              "#9c179e"
             ],
             [
              0.4444444444444444,
              "#bd3786"
             ],
             [
              0.5555555555555556,
              "#d8576b"
             ],
             [
              0.6666666666666666,
              "#ed7953"
             ],
             [
              0.7777777777777778,
              "#fb9f3a"
             ],
             [
              0.8888888888888888,
              "#fdca26"
             ],
             [
              1,
              "#f0f921"
             ]
            ],
            "type": "heatmapgl"
           }
          ],
          "histogram": [
           {
            "marker": {
             "pattern": {
              "fillmode": "overlay",
              "size": 10,
              "solidity": 0.2
             }
            },
            "type": "histogram"
           }
          ],
          "histogram2d": [
           {
            "colorbar": {
             "outlinewidth": 0,
             "ticks": ""
            },
            "colorscale": [
             [
              0,
              "#0d0887"
             ],
             [
              0.1111111111111111,
              "#46039f"
             ],
             [
              0.2222222222222222,
              "#7201a8"
             ],
             [
              0.3333333333333333,
              "#9c179e"
             ],
             [
              0.4444444444444444,
              "#bd3786"
             ],
             [
              0.5555555555555556,
              "#d8576b"
             ],
             [
              0.6666666666666666,
              "#ed7953"
             ],
             [
              0.7777777777777778,
              "#fb9f3a"
             ],
             [
              0.8888888888888888,
              "#fdca26"
             ],
             [
              1,
              "#f0f921"
             ]
            ],
            "type": "histogram2d"
           }
          ],
          "histogram2dcontour": [
           {
            "colorbar": {
             "outlinewidth": 0,
             "ticks": ""
            },
            "colorscale": [
             [
              0,
              "#0d0887"
             ],
             [
              0.1111111111111111,
              "#46039f"
             ],
             [
              0.2222222222222222,
              "#7201a8"
             ],
             [
              0.3333333333333333,
              "#9c179e"
             ],
             [
              0.4444444444444444,
              "#bd3786"
             ],
             [
              0.5555555555555556,
              "#d8576b"
             ],
             [
              0.6666666666666666,
              "#ed7953"
             ],
             [
              0.7777777777777778,
              "#fb9f3a"
             ],
             [
              0.8888888888888888,
              "#fdca26"
             ],
             [
              1,
              "#f0f921"
             ]
            ],
            "type": "histogram2dcontour"
           }
          ],
          "mesh3d": [
           {
            "colorbar": {
             "outlinewidth": 0,
             "ticks": ""
            },
            "type": "mesh3d"
           }
          ],
          "parcoords": [
           {
            "line": {
             "colorbar": {
              "outlinewidth": 0,
              "ticks": ""
             }
            },
            "type": "parcoords"
           }
          ],
          "pie": [
           {
            "automargin": true,
            "type": "pie"
           }
          ],
          "scatter": [
           {
            "marker": {
             "colorbar": {
              "outlinewidth": 0,
              "ticks": ""
             }
            },
            "type": "scatter"
           }
          ],
          "scatter3d": [
           {
            "line": {
             "colorbar": {
              "outlinewidth": 0,
              "ticks": ""
             }
            },
            "marker": {
             "colorbar": {
              "outlinewidth": 0,
              "ticks": ""
             }
            },
            "type": "scatter3d"
           }
          ],
          "scattercarpet": [
           {
            "marker": {
             "colorbar": {
              "outlinewidth": 0,
              "ticks": ""
             }
            },
            "type": "scattercarpet"
           }
          ],
          "scattergeo": [
           {
            "marker": {
             "colorbar": {
              "outlinewidth": 0,
              "ticks": ""
             }
            },
            "type": "scattergeo"
           }
          ],
          "scattergl": [
           {
            "marker": {
             "colorbar": {
              "outlinewidth": 0,
              "ticks": ""
             }
            },
            "type": "scattergl"
           }
          ],
          "scattermapbox": [
           {
            "marker": {
             "colorbar": {
              "outlinewidth": 0,
              "ticks": ""
             }
            },
            "type": "scattermapbox"
           }
          ],
          "scatterpolar": [
           {
            "marker": {
             "colorbar": {
              "outlinewidth": 0,
              "ticks": ""
             }
            },
            "type": "scatterpolar"
           }
          ],
          "scatterpolargl": [
           {
            "marker": {
             "colorbar": {
              "outlinewidth": 0,
              "ticks": ""
             }
            },
            "type": "scatterpolargl"
           }
          ],
          "scatterternary": [
           {
            "marker": {
             "colorbar": {
              "outlinewidth": 0,
              "ticks": ""
             }
            },
            "type": "scatterternary"
           }
          ],
          "surface": [
           {
            "colorbar": {
             "outlinewidth": 0,
             "ticks": ""
            },
            "colorscale": [
             [
              0,
              "#0d0887"
             ],
             [
              0.1111111111111111,
              "#46039f"
             ],
             [
              0.2222222222222222,
              "#7201a8"
             ],
             [
              0.3333333333333333,
              "#9c179e"
             ],
             [
              0.4444444444444444,
              "#bd3786"
             ],
             [
              0.5555555555555556,
              "#d8576b"
             ],
             [
              0.6666666666666666,
              "#ed7953"
             ],
             [
              0.7777777777777778,
              "#fb9f3a"
             ],
             [
              0.8888888888888888,
              "#fdca26"
             ],
             [
              1,
              "#f0f921"
             ]
            ],
            "type": "surface"
           }
          ],
          "table": [
           {
            "cells": {
             "fill": {
              "color": "#EBF0F8"
             },
             "line": {
              "color": "white"
             }
            },
            "header": {
             "fill": {
              "color": "#C8D4E3"
             },
             "line": {
              "color": "white"
             }
            },
            "type": "table"
           }
          ]
         },
         "layout": {
          "annotationdefaults": {
           "arrowcolor": "#2a3f5f",
           "arrowhead": 0,
           "arrowwidth": 1
          },
          "autotypenumbers": "strict",
          "coloraxis": {
           "colorbar": {
            "outlinewidth": 0,
            "ticks": ""
           }
          },
          "colorscale": {
           "diverging": [
            [
             0,
             "#8e0152"
            ],
            [
             0.1,
             "#c51b7d"
            ],
            [
             0.2,
             "#de77ae"
            ],
            [
             0.3,
             "#f1b6da"
            ],
            [
             0.4,
             "#fde0ef"
            ],
            [
             0.5,
             "#f7f7f7"
            ],
            [
             0.6,
             "#e6f5d0"
            ],
            [
             0.7,
             "#b8e186"
            ],
            [
             0.8,
             "#7fbc41"
            ],
            [
             0.9,
             "#4d9221"
            ],
            [
             1,
             "#276419"
            ]
           ],
           "sequential": [
            [
             0,
             "#0d0887"
            ],
            [
             0.1111111111111111,
             "#46039f"
            ],
            [
             0.2222222222222222,
             "#7201a8"
            ],
            [
             0.3333333333333333,
             "#9c179e"
            ],
            [
             0.4444444444444444,
             "#bd3786"
            ],
            [
             0.5555555555555556,
             "#d8576b"
            ],
            [
             0.6666666666666666,
             "#ed7953"
            ],
            [
             0.7777777777777778,
             "#fb9f3a"
            ],
            [
             0.8888888888888888,
             "#fdca26"
            ],
            [
             1,
             "#f0f921"
            ]
           ],
           "sequentialminus": [
            [
             0,
             "#0d0887"
            ],
            [
             0.1111111111111111,
             "#46039f"
            ],
            [
             0.2222222222222222,
             "#7201a8"
            ],
            [
             0.3333333333333333,
             "#9c179e"
            ],
            [
             0.4444444444444444,
             "#bd3786"
            ],
            [
             0.5555555555555556,
             "#d8576b"
            ],
            [
             0.6666666666666666,
             "#ed7953"
            ],
            [
             0.7777777777777778,
             "#fb9f3a"
            ],
            [
             0.8888888888888888,
             "#fdca26"
            ],
            [
             1,
             "#f0f921"
            ]
           ]
          },
          "colorway": [
           "#636efa",
           "#EF553B",
           "#00cc96",
           "#ab63fa",
           "#FFA15A",
           "#19d3f3",
           "#FF6692",
           "#B6E880",
           "#FF97FF",
           "#FECB52"
          ],
          "font": {
           "color": "#2a3f5f"
          },
          "geo": {
           "bgcolor": "white",
           "lakecolor": "white",
           "landcolor": "#E5ECF6",
           "showlakes": true,
           "showland": true,
           "subunitcolor": "white"
          },
          "hoverlabel": {
           "align": "left"
          },
          "hovermode": "closest",
          "mapbox": {
           "style": "light"
          },
          "paper_bgcolor": "white",
          "plot_bgcolor": "#E5ECF6",
          "polar": {
           "angularaxis": {
            "gridcolor": "white",
            "linecolor": "white",
            "ticks": ""
           },
           "bgcolor": "#E5ECF6",
           "radialaxis": {
            "gridcolor": "white",
            "linecolor": "white",
            "ticks": ""
           }
          },
          "scene": {
           "xaxis": {
            "backgroundcolor": "#E5ECF6",
            "gridcolor": "white",
            "gridwidth": 2,
            "linecolor": "white",
            "showbackground": true,
            "ticks": "",
            "zerolinecolor": "white"
           },
           "yaxis": {
            "backgroundcolor": "#E5ECF6",
            "gridcolor": "white",
            "gridwidth": 2,
            "linecolor": "white",
            "showbackground": true,
            "ticks": "",
            "zerolinecolor": "white"
           },
           "zaxis": {
            "backgroundcolor": "#E5ECF6",
            "gridcolor": "white",
            "gridwidth": 2,
            "linecolor": "white",
            "showbackground": true,
            "ticks": "",
            "zerolinecolor": "white"
           }
          },
          "shapedefaults": {
           "line": {
            "color": "#2a3f5f"
           }
          },
          "ternary": {
           "aaxis": {
            "gridcolor": "white",
            "linecolor": "white",
            "ticks": ""
           },
           "baxis": {
            "gridcolor": "white",
            "linecolor": "white",
            "ticks": ""
           },
           "bgcolor": "#E5ECF6",
           "caxis": {
            "gridcolor": "white",
            "linecolor": "white",
            "ticks": ""
           }
          },
          "title": {
           "x": 0.05
          },
          "xaxis": {
           "automargin": true,
           "gridcolor": "white",
           "linecolor": "white",
           "ticks": "",
           "title": {
            "standoff": 15
           },
           "zerolinecolor": "white",
           "zerolinewidth": 2
          },
          "yaxis": {
           "automargin": true,
           "gridcolor": "white",
           "linecolor": "white",
           "ticks": "",
           "title": {
            "standoff": 15
           },
           "zerolinecolor": "white",
           "zerolinewidth": 2
          }
         }
        },
        "title": {
         "text": ""
        }
       }
      },
      "image/png": "[encoded data removed]",
      "text/html": [
       "<div>                            <div id=\"28fbdaea-9048-45f8-8ea2-1de40afc9f63\" class=\"plotly-graph-div\" style=\"height:525px; width:100%;\"></div>            <script type=\"text/javascript\">                require([\"plotly\"], function(Plotly) {                    window.PLOTLYENV=window.PLOTLYENV || {};                                    if (document.getElementById(\"28fbdaea-9048-45f8-8ea2-1de40afc9f63\")) {                    Plotly.newPlot(                        \"28fbdaea-9048-45f8-8ea2-1de40afc9f63\",                        [{\"arrangement\":\"snap\",\"link\":{\"color\":[\"#b7b7b7\",\"#b7b7b7\",\"#b7b7b7\",\"#b7b7b7\",\"#b7b7b7\",\"#000000\",\"#CC79A7\",\"#CC79A7\",\"#CC79A7\",\"#CC79A7\",\"#CC79A7\",\"#E69F00\",\"#E69F00\",\"#E69F00\",\"#E69F00\",\"#E69F00\",\"#56B4E9\",\"#56B4E9\",\"#56B4E9\",\"#56B4E9\",\"#56B4E9\"],\"source\":[3,3,3,3,3,4,1,1,1,1,1,2,2,2,2,2,0,0,0,0,0],\"target\":[8,9,6,7,5,9,8,9,6,7,5,8,9,6,7,5,8,9,6,7,5],\"value\":[6645,251,436,343,450,1789,261,63,558,7,11,624,52,18,3759,11,302,21,7,3,1912]},\"node\":{\"color\":[\"#56B4E9\",\"#CC79A7\",\"#E69F00\",\"#b7b7b7\",\"#000000\",\"#56B4E9\",\"#CC79A7\",\"#E69F00\",\"#b7b7b7\",\"#000000\"],\"label\":[\"TSS\",\"Splicing\",\"TES\",\"Mixed\",\"Simple\",\"TSS\",\"Splicing\",\"TES\",\"Mixed\",\"Simple\"],\"x\":[0.01,0.01,0.01,0.01,0.01,1.0,1.0,1.0,1.0,1.0],\"y\":[0.01,0.25,0.5,0.75,1.0,0.01,0.25,0.5,0.75,1.0]},\"type\":\"sankey\",\"textfont\":{\"family\":\"Arial\",\"size\":20}}],                        {\"template\":{\"data\":{\"bar\":[{\"error_x\":{\"color\":\"#2a3f5f\"},\"error_y\":{\"color\":\"#2a3f5f\"},\"marker\":{\"line\":{\"color\":\"#E5ECF6\",\"width\":0.5},\"pattern\":{\"fillmode\":\"overlay\",\"size\":10,\"solidity\":0.2}},\"type\":\"bar\"}],\"barpolar\":[{\"marker\":{\"line\":{\"color\":\"#E5ECF6\",\"width\":0.5},\"pattern\":{\"fillmode\":\"overlay\",\"size\":10,\"solidity\":0.2}},\"type\":\"barpolar\"}],\"carpet\":[{\"aaxis\":{\"endlinecolor\":\"#2a3f5f\",\"gridcolor\":\"white\",\"linecolor\":\"white\",\"minorgridcolor\":\"white\",\"startlinecolor\":\"#2a3f5f\"},\"baxis\":{\"endlinecolor\":\"#2a3f5f\",\"gridcolor\":\"white\",\"linecolor\":\"white\",\"minorgridcolor\":\"white\",\"startlinecolor\":\"#2a3f5f\"},\"type\":\"carpet\"}],\"choropleth\":[{\"colorbar\":{\"outlinewidth\":0,\"ticks\":\"\"},\"type\":\"choropleth\"}],\"contour\":[{\"colorbar\":{\"outlinewidth\":0,\"ticks\":\"\"},\"colorscale\":[[0.0,\"#0d0887\"],[0.1111111111111111,\"#46039f\"],[0.2222222222222222,\"#7201a8\"],[0.3333333333333333,\"#9c179e\"],[0.4444444444444444,\"#bd3786\"],[0.5555555555555556,\"#d8576b\"],[0.6666666666666666,\"#ed7953\"],[0.7777777777777778,\"#fb9f3a\"],[0.8888888888888888,\"#fdca26\"],[1.0,\"#f0f921\"]],\"type\":\"contour\"}],\"contourcarpet\":[{\"colorbar\":{\"outlinewidth\":0,\"ticks\":\"\"},\"type\":\"contourcarpet\"}],\"heatmap\":[{\"colorbar\":{\"outlinewidth\":0,\"ticks\":\"\"},\"colorscale\":[[0.0,\"#0d0887\"],[0.1111111111111111,\"#46039f\"],[0.2222222222222222,\"#7201a8\"],[0.3333333333333333,\"#9c179e\"],[0.4444444444444444,\"#bd3786\"],[0.5555555555555556,\"#d8576b\"],[0.6666666666666666,\"#ed7953\"],[0.7777777777777778,\"#fb9f3a\"],[0.8888888888888888,\"#fdca26\"],[1.0,\"#f0f921\"]],\"type\":\"heatmap\"}],\"heatmapgl\":[{\"colorbar\":{\"outlinewidth\":0,\"ticks\":\"\"},\"colorscale\":[[0.0,\"#0d0887\"],[0.1111111111111111,\"#46039f\"],[0.2222222222222222,\"#7201a8\"],[0.3333333333333333,\"#9c179e\"],[0.4444444444444444,\"#bd3786\"],[0.5555555555555556,\"#d8576b\"],[0.6666666666666666,\"#ed7953\"],[0.7777777777777778,\"#fb9f3a\"],[0.8888888888888888,\"#fdca26\"],[1.0,\"#f0f921\"]],\"type\":\"heatmapgl\"}],\"histogram\":[{\"marker\":{\"pattern\":{\"fillmode\":\"overlay\",\"size\":10,\"solidity\":0.2}},\"type\":\"histogram\"}],\"histogram2d\":[{\"colorbar\":{\"outlinewidth\":0,\"ticks\":\"\"},\"colorscale\":[[0.0,\"#0d0887\"],[0.1111111111111111,\"#46039f\"],[0.2222222222222222,\"#7201a8\"],[0.3333333333333333,\"#9c179e\"],[0.4444444444444444,\"#bd3786\"],[0.5555555555555556,\"#d8576b\"],[0.6666666666666666,\"#ed7953\"],[0.7777777777777778,\"#fb9f3a\"],[0.8888888888888888,\"#fdca26\"],[1.0,\"#f0f921\"]],\"type\":\"histogram2d\"}],\"histogram2dcontour\":[{\"colorbar\":{\"outlinewidth\":0,\"ticks\":\"\"},\"colorscale\":[[0.0,\"#0d0887\"],[0.1111111111111111,\"#46039f\"],[0.2222222222222222,\"#7201a8\"],[0.3333333333333333,\"#9c179e\"],[0.4444444444444444,\"#bd3786\"],[0.5555555555555556,\"#d8576b\"],[0.6666666666666666,\"#ed7953\"],[0.7777777777777778,\"#fb9f3a\"],[0.8888888888888888,\"#fdca26\"],[1.0,\"#f0f921\"]],\"type\":\"histogram2dcontour\"}],\"mesh3d\":[{\"colorbar\":{\"outlinewidth\":0,\"ticks\":\"\"},\"type\":\"mesh3d\"}],\"parcoords\":[{\"line\":{\"colorbar\":{\"outlinewidth\":0,\"ticks\":\"\"}},\"type\":\"parcoords\"}],\"pie\":[{\"automargin\":true,\"type\":\"pie\"}],\"scatter\":[{\"marker\":{\"colorbar\":{\"outlinewidth\":0,\"ticks\":\"\"}},\"type\":\"scatter\"}],\"scatter3d\":[{\"line\":{\"colorbar\":{\"outlinewidth\":0,\"ticks\":\"\"}},\"marker\":{\"colorbar\":{\"outlinewidth\":0,\"ticks\":\"\"}},\"type\":\"scatter3d\"}],\"scattercarpet\":[{\"marker\":{\"colorbar\":{\"outlinewidth\":0,\"ticks\":\"\"}},\"type\":\"scattercarpet\"}],\"scattergeo\":[{\"marker\":{\"colorbar\":{\"outlinewidth\":0,\"ticks\":\"\"}},\"type\":\"scattergeo\"}],\"scattergl\":[{\"marker\":{\"colorbar\":{\"outlinewidth\":0,\"ticks\":\"\"}},\"type\":\"scattergl\"}],\"scattermapbox\":[{\"marker\":{\"colorbar\":{\"outlinewidth\":0,\"ticks\":\"\"}},\"type\":\"scattermapbox\"}],\"scatterpolar\":[{\"marker\":{\"colorbar\":{\"outlinewidth\":0,\"ticks\":\"\"}},\"type\":\"scatterpolar\"}],\"scatterpolargl\":[{\"marker\":{\"colorbar\":{\"outlinewidth\":0,\"ticks\":\"\"}},\"type\":\"scatterpolargl\"}],\"scatterternary\":[{\"marker\":{\"colorbar\":{\"outlinewidth\":0,\"ticks\":\"\"}},\"type\":\"scatterternary\"}],\"surface\":[{\"colorbar\":{\"outlinewidth\":0,\"ticks\":\"\"},\"colorscale\":[[0.0,\"#0d0887\"],[0.1111111111111111,\"#46039f\"],[0.2222222222222222,\"#7201a8\"],[0.3333333333333333,\"#9c179e\"],[0.4444444444444444,\"#bd3786\"],[0.5555555555555556,\"#d8576b\"],[0.6666666666666666,\"#ed7953\"],[0.7777777777777778,\"#fb9f3a\"],[0.8888888888888888,\"#fdca26\"],[1.0,\"#f0f921\"]],\"type\":\"surface\"}],\"table\":[{\"cells\":{\"fill\":{\"color\":\"#EBF0F8\"},\"line\":{\"color\":\"white\"}},\"header\":{\"fill\":{\"color\":\"#C8D4E3\"},\"line\":{\"color\":\"white\"}},\"type\":\"table\"}]},\"layout\":{\"annotationdefaults\":{\"arrowcolor\":\"#2a3f5f\",\"arrowhead\":0,\"arrowwidth\":1},\"autotypenumbers\":\"strict\",\"coloraxis\":{\"colorbar\":{\"outlinewidth\":0,\"ticks\":\"\"}},\"colorscale\":{\"diverging\":[[0,\"#8e0152\"],[0.1,\"#c51b7d\"],[0.2,\"#de77ae\"],[0.3,\"#f1b6da\"],[0.4,\"#fde0ef\"],[0.5,\"#f7f7f7\"],[0.6,\"#e6f5d0\"],[0.7,\"#b8e186\"],[0.8,\"#7fbc41\"],[0.9,\"#4d9221\"],[1,\"#276419\"]],\"sequential\":[[0.0,\"#0d0887\"],[0.1111111111111111,\"#46039f\"],[0.2222222222222222,\"#7201a8\"],[0.3333333333333333,\"#9c179e\"],[0.4444444444444444,\"#bd3786\"],[0.5555555555555556,\"#d8576b\"],[0.6666666666666666,\"#ed7953\"],[0.7777777777777778,\"#fb9f3a\"],[0.8888888888888888,\"#fdca26\"],[1.0,\"#f0f921\"]],\"sequentialminus\":[[0.0,\"#0d0887\"],[0.1111111111111111,\"#46039f\"],[0.2222222222222222,\"#7201a8\"],[0.3333333333333333,\"#9c179e\"],[0.4444444444444444,\"#bd3786\"],[0.5555555555555556,\"#d8576b\"],[0.6666666666666666,\"#ed7953\"],[0.7777777777777778,\"#fb9f3a\"],[0.8888888888888888,\"#fdca26\"],[1.0,\"#f0f921\"]]},\"colorway\":[\"#636efa\",\"#EF553B\",\"#00cc96\",\"#ab63fa\",\"#FFA15A\",\"#19d3f3\",\"#FF6692\",\"#B6E880\",\"#FF97FF\",\"#FECB52\"],\"font\":{\"color\":\"#2a3f5f\"},\"geo\":{\"bgcolor\":\"white\",\"lakecolor\":\"white\",\"landcolor\":\"#E5ECF6\",\"showlakes\":true,\"showland\":true,\"subunitcolor\":\"white\"},\"hoverlabel\":{\"align\":\"left\"},\"hovermode\":\"closest\",\"mapbox\":{\"style\":\"light\"},\"paper_bgcolor\":\"white\",\"plot_bgcolor\":\"#E5ECF6\",\"polar\":{\"angularaxis\":{\"gridcolor\":\"white\",\"linecolor\":\"white\",\"ticks\":\"\"},\"bgcolor\":\"#E5ECF6\",\"radialaxis\":{\"gridcolor\":\"white\",\"linecolor\":\"white\",\"ticks\":\"\"}},\"scene\":{\"xaxis\":{\"backgroundcolor\":\"#E5ECF6\",\"gridcolor\":\"white\",\"gridwidth\":2,\"linecolor\":\"white\",\"showbackground\":true,\"ticks\":\"\",\"zerolinecolor\":\"white\"},\"yaxis\":{\"backgroundcolor\":\"#E5ECF6\",\"gridcolor\":\"white\",\"gridwidth\":2,\"linecolor\":\"white\",\"showbackground\":true,\"ticks\":\"\",\"zerolinecolor\":\"white\"},\"zaxis\":{\"backgroundcolor\":\"#E5ECF6\",\"gridcolor\":\"white\",\"gridwidth\":2,\"linecolor\":\"white\",\"showbackground\":true,\"ticks\":\"\",\"zerolinecolor\":\"white\"}},\"shapedefaults\":{\"line\":{\"color\":\"#2a3f5f\"}},\"ternary\":{\"aaxis\":{\"gridcolor\":\"white\",\"linecolor\":\"white\",\"ticks\":\"\"},\"baxis\":{\"gridcolor\":\"white\",\"linecolor\":\"white\",\"ticks\":\"\"},\"bgcolor\":\"#E5ECF6\",\"caxis\":{\"gridcolor\":\"white\",\"linecolor\":\"white\",\"ticks\":\"\"}},\"title\":{\"x\":0.05},\"xaxis\":{\"automargin\":true,\"gridcolor\":\"white\",\"linecolor\":\"white\",\"ticks\":\"\",\"title\":{\"standoff\":15},\"zerolinecolor\":\"white\",\"zerolinewidth\":2},\"yaxis\":{\"automargin\":true,\"gridcolor\":\"white\",\"linecolor\":\"white\",\"ticks\":\"\",\"title\":{\"standoff\":15},\"zerolinecolor\":\"white\",\"zerolinewidth\":2}}},\"title\":{\"text\":\"\"},\"font\":{\"family\":\"Times New Roman\"}},                        {\"responsive\": true}                    ).then(function(){\n",
       "                            \n",
       "var gd = document.getElementById('28fbdaea-9048-45f8-8ea2-1de40afc9f63');\n",
       "var x = new MutationObserver(function (mutations, observer) {{\n",
       "        var display = window.getComputedStyle(gd).display;\n",
       "        if (!display || display === 'none') {{\n",
       "            console.log([gd, 'removed!']);\n",
       "            Plotly.purge(gd);\n",
       "            observer.disconnect();\n",
       "        }}\n",
       "}});\n",
       "\n",
       "// Listen for the removal of the full notebook cells\n",
       "var notebookContainer = gd.closest('#notebook-container');\n",
       "if (notebookContainer) {{\n",
       "    x.observe(notebookContainer, {childList: true});\n",
       "}}\n",
       "\n",
       "// Listen for the clearing of the current output cell\n",
       "var outputEl = gd.closest('.output');\n",
       "if (outputEl) {{\n",
       "    x.observe(outputEl, {childList: true});\n",
       "}}\n",
       "\n",
       "                        })                };                });            </script>        </div>"
      ]
     },
     "metadata": {},
     "output_type": "display_data"
    }
   ],
   "source": [
    "df = sector_sankey(cerberus_h5, \n",
    "              'obs_det', \n",
    "              'obs_major',\n",
    "              'figures/obs_obs_major_sankey.pdf',\n",
    "              ver=ver,\n",
    "              gene_subset=gene_subset)"
   ]
  },
  {
   "cell_type": "code",
   "execution_count": 31,
   "id": "d4bc2d45-dd25-4b7c-ae10-451ab6d56742",
   "metadata": {},
   "outputs": [
    {
     "name": "stdout",
     "output_type": "stream",
     "text": [
      "83.68% of protein coding genes are in the same sector b/w obs and obs major\n"
     ]
    }
   ],
   "source": [
    "# conserved sectors\n",
    "df['same'] = df.sector_obs_major == df.sector_obs_det\n",
    "temp = df[['gid', 'same']].groupby('same').sum().reset_index()\n",
    "n = temp.loc[temp.same == True, 'gid'].values[0]/temp.gid.sum()\n",
    "print('{:.2f}% of protein coding genes are in the same sector b/w obs and obs major'.format(n*100))"
   ]
  },
  {
   "cell_type": "code",
   "execution_count": 39,
   "id": "ba0278c8-3f9a-48d9-b306-11b851325933",
   "metadata": {},
   "outputs": [
    {
     "name": "stdout",
     "output_type": "stream",
     "text": [
      "4.76% of protein coding genes go from mixed -> TSS/splicing/TES\n"
     ]
    }
   ],
   "source": [
    "# genes that move from mixed to a simplex corner\n",
    "n = len(df.index)\n",
    "n_num = len(df.loc[(df.sector_obs_det=='mixed')&\\\n",
    "                   (df.sector_obs_major.isin(['TSS', 'splicing', 'TES']))].index)\n",
    "print(f'{(n_num/n)*100:.2f}% of protein coding genes go from mixed -> TSS/splicing/TES')"
   ]
  },
  {
   "cell_type": "code",
   "execution_count": 40,
   "id": "47e4e28f-944b-41a3-bf9e-ea94c3a109ee",
   "metadata": {},
   "outputs": [
    {
     "data": {
      "text/html": [
       "<div>\n",
       "<style scoped>\n",
       "    .dataframe tbody tr th:only-of-type {\n",
       "        vertical-align: middle;\n",
       "    }\n",
       "\n",
       "    .dataframe tbody tr th {\n",
       "        vertical-align: top;\n",
       "    }\n",
       "\n",
       "    .dataframe thead th {\n",
       "        text-align: right;\n",
       "    }\n",
       "</style>\n",
       "<table border=\"1\" class=\"dataframe\">\n",
       "  <thead>\n",
       "    <tr style=\"text-align: right;\">\n",
       "      <th></th>\n",
       "      <th>sector_obs_det</th>\n",
       "      <th>total</th>\n",
       "    </tr>\n",
       "  </thead>\n",
       "  <tbody>\n",
       "    <tr>\n",
       "      <th>0</th>\n",
       "      <td>mixed</td>\n",
       "      <td>8125</td>\n",
       "    </tr>\n",
       "    <tr>\n",
       "      <th>1</th>\n",
       "      <td>simple</td>\n",
       "      <td>1789</td>\n",
       "    </tr>\n",
       "    <tr>\n",
       "      <th>2</th>\n",
       "      <td>splicing</td>\n",
       "      <td>900</td>\n",
       "    </tr>\n",
       "    <tr>\n",
       "      <th>3</th>\n",
       "      <td>tes</td>\n",
       "      <td>4464</td>\n",
       "    </tr>\n",
       "    <tr>\n",
       "      <th>4</th>\n",
       "      <td>tss</td>\n",
       "      <td>2245</td>\n",
       "    </tr>\n",
       "  </tbody>\n",
       "</table>\n",
       "</div>"
      ],
      "text/plain": [
       "  sector_obs_det  total\n",
       "0          mixed   8125\n",
       "1         simple   1789\n",
       "2       splicing    900\n",
       "3            tes   4464\n",
       "4            tss   2245"
      ]
     },
     "execution_count": 40,
     "metadata": {},
     "output_type": "execute_result"
    }
   ],
   "source": [
    "# total number of genes / obs_det sector\n",
    "total_det = df[['sector_obs_det', 'gid']].groupby('sector_obs_det').sum().reset_index()\n",
    "total_det.rename({'gid': 'total'}, axis=1, inplace=True)\n",
    "total_det.head()"
   ]
  },
  {
   "cell_type": "code",
   "execution_count": 54,
   "id": "ad6727df-a07e-4e9c-a751-d77dad8ca8b5",
   "metadata": {},
   "outputs": [
    {
     "data": {
      "text/html": [
       "<div>\n",
       "<style scoped>\n",
       "    .dataframe tbody tr th:only-of-type {\n",
       "        vertical-align: middle;\n",
       "    }\n",
       "\n",
       "    .dataframe tbody tr th {\n",
       "        vertical-align: top;\n",
       "    }\n",
       "\n",
       "    .dataframe thead th {\n",
       "        text-align: right;\n",
       "    }\n",
       "</style>\n",
       "<table border=\"1\" class=\"dataframe\">\n",
       "  <thead>\n",
       "    <tr style=\"text-align: right;\">\n",
       "      <th></th>\n",
       "      <th>same</th>\n",
       "      <th>sector</th>\n",
       "      <th>gid</th>\n",
       "      <th>n_obs_det</th>\n",
       "      <th>perc</th>\n",
       "    </tr>\n",
       "  </thead>\n",
       "  <tbody>\n",
       "    <tr>\n",
       "      <th>1</th>\n",
       "      <td>True</td>\n",
       "      <td>mixed</td>\n",
       "      <td>6645</td>\n",
       "      <td>8125</td>\n",
       "      <td>81.784615</td>\n",
       "    </tr>\n",
       "    <tr>\n",
       "      <th>3</th>\n",
       "      <td>True</td>\n",
       "      <td>simple</td>\n",
       "      <td>1789</td>\n",
       "      <td>1789</td>\n",
       "      <td>100.000000</td>\n",
       "    </tr>\n",
       "    <tr>\n",
       "      <th>5</th>\n",
       "      <td>True</td>\n",
       "      <td>splicing</td>\n",
       "      <td>558</td>\n",
       "      <td>900</td>\n",
       "      <td>62.000000</td>\n",
       "    </tr>\n",
       "    <tr>\n",
       "      <th>7</th>\n",
       "      <td>True</td>\n",
       "      <td>tes</td>\n",
       "      <td>3759</td>\n",
       "      <td>4464</td>\n",
       "      <td>84.206989</td>\n",
       "    </tr>\n",
       "    <tr>\n",
       "      <th>9</th>\n",
       "      <td>True</td>\n",
       "      <td>tss</td>\n",
       "      <td>1912</td>\n",
       "      <td>2245</td>\n",
       "      <td>85.167038</td>\n",
       "    </tr>\n",
       "  </tbody>\n",
       "</table>\n",
       "</div>"
      ],
      "text/plain": [
       "   same    sector   gid  n_obs_det        perc\n",
       "1  True     mixed  6645       8125   81.784615\n",
       "3  True    simple  1789       1789  100.000000\n",
       "5  True  splicing   558        900   62.000000\n",
       "7  True       tes  3759       4464   84.206989\n",
       "9  True       tss  1912       2245   85.167038"
      ]
     },
     "execution_count": 54,
     "metadata": {},
     "output_type": "execute_result"
    }
   ],
   "source": [
    "# genes that retain their sector per sector\n",
    "df['same'] = df.sector_obs_major == df.sector_obs_det\n",
    "temp = df[['gid', 'same', 'sector_obs_major']].groupby(['same', 'sector_obs_major']).sum().reset_index()\n",
    "temp.rename({'sector_obs_major':'sector'}, axis=1, inplace=True)\n",
    "temp.loc[temp.same==True]\n",
    "\n",
    "temp2 = df[['gid', 'sector_obs_det']].groupby(['sector_obs_det']).sum().reset_index()\n",
    "temp2.rename({'gid': 'n_obs_det',\n",
    "              'sector_obs_det': 'sector'}, axis=1, inplace=True)\n",
    "\n",
    "temp = temp.merge(temp2, on='sector', how='outer')\n",
    "temp['perc'] = (temp['gid']/temp['n_obs_det'])*100\n",
    "temp.loc[temp.same==True]"
   ]
  },
  {
   "cell_type": "code",
   "execution_count": 41,
   "id": "3d5e29b1-315f-4581-8e72-15a97fdc4253",
   "metadata": {},
   "outputs": [
    {
     "data": {
      "text/html": [
       "<div>\n",
       "<style scoped>\n",
       "    .dataframe tbody tr th:only-of-type {\n",
       "        vertical-align: middle;\n",
       "    }\n",
       "\n",
       "    .dataframe tbody tr th {\n",
       "        vertical-align: top;\n",
       "    }\n",
       "\n",
       "    .dataframe thead th {\n",
       "        text-align: right;\n",
       "    }\n",
       "</style>\n",
       "<table border=\"1\" class=\"dataframe\">\n",
       "  <thead>\n",
       "    <tr style=\"text-align: right;\">\n",
       "      <th></th>\n",
       "      <th>sector_obs_major</th>\n",
       "      <th>total</th>\n",
       "    </tr>\n",
       "  </thead>\n",
       "  <tbody>\n",
       "    <tr>\n",
       "      <th>0</th>\n",
       "      <td>mixed</td>\n",
       "      <td>7832</td>\n",
       "    </tr>\n",
       "    <tr>\n",
       "      <th>1</th>\n",
       "      <td>simple</td>\n",
       "      <td>2176</td>\n",
       "    </tr>\n",
       "    <tr>\n",
       "      <th>2</th>\n",
       "      <td>splicing</td>\n",
       "      <td>1019</td>\n",
       "    </tr>\n",
       "    <tr>\n",
       "      <th>3</th>\n",
       "      <td>tes</td>\n",
       "      <td>4112</td>\n",
       "    </tr>\n",
       "    <tr>\n",
       "      <th>4</th>\n",
       "      <td>tss</td>\n",
       "      <td>2384</td>\n",
       "    </tr>\n",
       "  </tbody>\n",
       "</table>\n",
       "</div>"
      ],
      "text/plain": [
       "  sector_obs_major  total\n",
       "0            mixed   7832\n",
       "1           simple   2176\n",
       "2         splicing   1019\n",
       "3              tes   4112\n",
       "4              tss   2384"
      ]
     },
     "execution_count": 41,
     "metadata": {},
     "output_type": "execute_result"
    }
   ],
   "source": [
    "# total number of genes / obs_major sector\n",
    "total_det = df[['sector_obs_major', 'gid']].groupby('sector_obs_major').sum().reset_index()\n",
    "total_det.rename({'gid': 'total'}, axis=1, inplace=True)\n",
    "total_det.head()"
   ]
  },
  {
   "cell_type": "markdown",
   "id": "ff06268c-316c-48eb-be3b-4b9704c18a58",
   "metadata": {},
   "source": [
    "## Transcript triplets labelled in figures"
   ]
  },
  {
   "cell_type": "code",
   "execution_count": null,
   "id": "6b90b189-8e88-455f-b25e-8802a0db61af",
   "metadata": {},
   "outputs": [],
   "source": [
    "ca = cerberus.read(cerberus_h5)"
   ]
  },
  {
   "cell_type": "code",
   "execution_count": 32,
   "id": "eaa61462-3c3a-4b0d-a0d1-167306217b6e",
   "metadata": {},
   "outputs": [
    {
     "data": {
      "text/html": [
       "<div>\n",
       "<style scoped>\n",
       "    .dataframe tbody tr th:only-of-type {\n",
       "        vertical-align: middle;\n",
       "    }\n",
       "\n",
       "    .dataframe tbody tr th {\n",
       "        vertical-align: top;\n",
       "    }\n",
       "\n",
       "    .dataframe thead th {\n",
       "        text-align: right;\n",
       "    }\n",
       "</style>\n",
       "<table border=\"1\" class=\"dataframe\">\n",
       "  <thead>\n",
       "    <tr style=\"text-align: right;\">\n",
       "      <th></th>\n",
       "      <th>n_tss</th>\n",
       "      <th>splicing_ratio</th>\n",
       "      <th>n_tes</th>\n",
       "      <th>n_ic</th>\n",
       "      <th>n_iso</th>\n",
       "    </tr>\n",
       "  </thead>\n",
       "  <tbody>\n",
       "    <tr>\n",
       "      <th>77904</th>\n",
       "      <td>2.0</td>\n",
       "      <td>8.4</td>\n",
       "      <td>3.0</td>\n",
       "      <td>21.0</td>\n",
       "      <td>32.0</td>\n",
       "    </tr>\n",
       "  </tbody>\n",
       "</table>\n",
       "</div>"
      ],
      "text/plain": [
       "       n_tss  splicing_ratio  n_tes  n_ic  n_iso\n",
       "77904    2.0             8.4    3.0  21.0   32.0"
      ]
     },
     "execution_count": 32,
     "metadata": {},
     "output_type": "execute_result"
    }
   ],
   "source": [
    "ca.triplets.loc[(ca.triplets.source=='sample_major')&\\\n",
    "                (ca.triplets['sample']=='lung')&\\\n",
    "                (ca.triplets.gname.isin(['ELN']))][['n_tss', 'splicing_ratio', 'n_tes', 'n_ic', 'n_iso']]"
   ]
  },
  {
   "cell_type": "code",
   "execution_count": 33,
   "id": "2a35d12e-468b-4f2a-a6bd-e0420552510b",
   "metadata": {},
   "outputs": [
    {
     "data": {
      "text/html": [
       "<div>\n",
       "<style scoped>\n",
       "    .dataframe tbody tr th:only-of-type {\n",
       "        vertical-align: middle;\n",
       "    }\n",
       "\n",
       "    .dataframe tbody tr th {\n",
       "        vertical-align: top;\n",
       "    }\n",
       "\n",
       "    .dataframe thead th {\n",
       "        text-align: right;\n",
       "    }\n",
       "</style>\n",
       "<table border=\"1\" class=\"dataframe\">\n",
       "  <thead>\n",
       "    <tr style=\"text-align: right;\">\n",
       "      <th></th>\n",
       "      <th>n_tss</th>\n",
       "      <th>splicing_ratio</th>\n",
       "      <th>n_tes</th>\n",
       "      <th>n_ic</th>\n",
       "      <th>n_iso</th>\n",
       "    </tr>\n",
       "  </thead>\n",
       "  <tbody>\n",
       "    <tr>\n",
       "      <th>24501</th>\n",
       "      <td>1.0</td>\n",
       "      <td>21.333333</td>\n",
       "      <td>2.0</td>\n",
       "      <td>32.0</td>\n",
       "      <td>57.0</td>\n",
       "    </tr>\n",
       "  </tbody>\n",
       "</table>\n",
       "</div>"
      ],
      "text/plain": [
       "       n_tss  splicing_ratio  n_tes  n_ic  n_iso\n",
       "24501    1.0       21.333333    2.0  32.0   57.0"
      ]
     },
     "execution_count": 33,
     "metadata": {},
     "output_type": "execute_result"
    }
   ],
   "source": [
    "ca.triplets.loc[(ca.triplets.source=='sample_major')&\\\n",
    "                (ca.triplets['sample']=='h9_chondro')&\\\n",
    "                (ca.triplets.gname.isin(['ELN']))][['n_tss', 'splicing_ratio', 'n_tes', 'n_ic', 'n_iso']]"
   ]
  },
  {
   "cell_type": "code",
   "execution_count": 34,
   "id": "09edb974-f08e-40b2-90d5-c9e8b259f967",
   "metadata": {},
   "outputs": [
    {
     "data": {
      "text/html": [
       "<div>\n",
       "<style scoped>\n",
       "    .dataframe tbody tr th:only-of-type {\n",
       "        vertical-align: middle;\n",
       "    }\n",
       "\n",
       "    .dataframe tbody tr th {\n",
       "        vertical-align: top;\n",
       "    }\n",
       "\n",
       "    .dataframe thead th {\n",
       "        text-align: right;\n",
       "    }\n",
       "</style>\n",
       "<table border=\"1\" class=\"dataframe\">\n",
       "  <thead>\n",
       "    <tr style=\"text-align: right;\">\n",
       "      <th></th>\n",
       "      <th>n_tss</th>\n",
       "      <th>splicing_ratio</th>\n",
       "      <th>n_tes</th>\n",
       "      <th>n_ic</th>\n",
       "      <th>n_iso</th>\n",
       "    </tr>\n",
       "  </thead>\n",
       "  <tbody>\n",
       "    <tr>\n",
       "      <th>79678</th>\n",
       "      <td>3.0</td>\n",
       "      <td>2.0</td>\n",
       "      <td>1.0</td>\n",
       "      <td>4.0</td>\n",
       "      <td>4.0</td>\n",
       "    </tr>\n",
       "  </tbody>\n",
       "</table>\n",
       "</div>"
      ],
      "text/plain": [
       "       n_tss  splicing_ratio  n_tes  n_ic  n_iso\n",
       "79678    3.0             2.0    1.0   4.0    4.0"
      ]
     },
     "execution_count": 34,
     "metadata": {},
     "output_type": "execute_result"
    }
   ],
   "source": [
    "ca.triplets.loc[(ca.triplets.source=='sample_major')&\\\n",
    "                (ca.triplets['sample']=='lung')&\\\n",
    "                (ca.triplets.gname.isin(['CTCF']))][['n_tss', 'splicing_ratio', 'n_tes', 'n_ic', 'n_iso']]"
   ]
  },
  {
   "cell_type": "code",
   "execution_count": 35,
   "id": "3fbadb83-ed83-4b76-b69a-2d1ff639d53b",
   "metadata": {},
   "outputs": [
    {
     "data": {
      "text/html": [
       "<div>\n",
       "<style scoped>\n",
       "    .dataframe tbody tr th:only-of-type {\n",
       "        vertical-align: middle;\n",
       "    }\n",
       "\n",
       "    .dataframe tbody tr th {\n",
       "        vertical-align: top;\n",
       "    }\n",
       "\n",
       "    .dataframe thead th {\n",
       "        text-align: right;\n",
       "    }\n",
       "</style>\n",
       "<table border=\"1\" class=\"dataframe\">\n",
       "  <thead>\n",
       "    <tr style=\"text-align: right;\">\n",
       "      <th></th>\n",
       "      <th>n_tss</th>\n",
       "      <th>splicing_ratio</th>\n",
       "      <th>n_tes</th>\n",
       "      <th>n_ic</th>\n",
       "      <th>n_iso</th>\n",
       "    </tr>\n",
       "  </thead>\n",
       "  <tbody>\n",
       "    <tr>\n",
       "      <th>11578</th>\n",
       "      <td>4.0</td>\n",
       "      <td>3.714286</td>\n",
       "      <td>3.0</td>\n",
       "      <td>13.0</td>\n",
       "      <td>13.0</td>\n",
       "    </tr>\n",
       "  </tbody>\n",
       "</table>\n",
       "</div>"
      ],
      "text/plain": [
       "       n_tss  splicing_ratio  n_tes  n_ic  n_iso\n",
       "11578    4.0        3.714286    3.0  13.0   13.0"
      ]
     },
     "execution_count": 35,
     "metadata": {},
     "output_type": "execute_result"
    }
   ],
   "source": [
    "ca.triplets.loc[(ca.triplets.source=='obs_det')&\\\n",
    "                (ca.triplets.gname.isin(['E4F1']))][['n_tss', 'splicing_ratio', 'n_tes', 'n_ic', 'n_iso']]"
   ]
  },
  {
   "cell_type": "code",
   "execution_count": 36,
   "id": "6eb2039a-958d-4aa8-9bc3-af3d99bb5c18",
   "metadata": {},
   "outputs": [
    {
     "data": {
      "text/html": [
       "<div>\n",
       "<style scoped>\n",
       "    .dataframe tbody tr th:only-of-type {\n",
       "        vertical-align: middle;\n",
       "    }\n",
       "\n",
       "    .dataframe tbody tr th {\n",
       "        vertical-align: top;\n",
       "    }\n",
       "\n",
       "    .dataframe thead th {\n",
       "        text-align: right;\n",
       "    }\n",
       "</style>\n",
       "<table border=\"1\" class=\"dataframe\">\n",
       "  <thead>\n",
       "    <tr style=\"text-align: right;\">\n",
       "      <th></th>\n",
       "      <th>n_tss</th>\n",
       "      <th>splicing_ratio</th>\n",
       "      <th>n_tes</th>\n",
       "      <th>n_ic</th>\n",
       "      <th>n_iso</th>\n",
       "    </tr>\n",
       "  </thead>\n",
       "  <tbody>\n",
       "    <tr>\n",
       "      <th>11578</th>\n",
       "      <td>2.0</td>\n",
       "      <td>6.666667</td>\n",
       "      <td>1.0</td>\n",
       "      <td>10.0</td>\n",
       "      <td>10.0</td>\n",
       "    </tr>\n",
       "  </tbody>\n",
       "</table>\n",
       "</div>"
      ],
      "text/plain": [
       "       n_tss  splicing_ratio  n_tes  n_ic  n_iso\n",
       "11578    2.0        6.666667    1.0  10.0   10.0"
      ]
     },
     "execution_count": 36,
     "metadata": {},
     "output_type": "execute_result"
    }
   ],
   "source": [
    "ca.triplets.loc[(ca.triplets.source=='obs_major')&\\\n",
    "                (ca.triplets.gname.isin(['E4F1']))][['n_tss', 'splicing_ratio', 'n_tes', 'n_ic', 'n_iso']]"
   ]
  },
  {
   "cell_type": "markdown",
   "id": "cca7b75d-8dc1-4a58-b997-2f51d00d45b4",
   "metadata": {},
   "source": [
    "## Detected ELN isoforms"
   ]
  },
  {
   "cell_type": "code",
   "execution_count": 38,
   "id": "c46ffead-0880-4654-910a-7ddb312ed1fe",
   "metadata": {},
   "outputs": [
    {
     "data": {
      "text/html": [
       "<div>\n",
       "<style scoped>\n",
       "    .dataframe tbody tr th:only-of-type {\n",
       "        vertical-align: middle;\n",
       "    }\n",
       "\n",
       "    .dataframe tbody tr th {\n",
       "        vertical-align: top;\n",
       "    }\n",
       "\n",
       "    .dataframe thead th {\n",
       "        text-align: right;\n",
       "    }\n",
       "</style>\n",
       "<table border=\"1\" class=\"dataframe\">\n",
       "  <thead>\n",
       "    <tr style=\"text-align: right;\">\n",
       "      <th></th>\n",
       "      <th>n_tss</th>\n",
       "      <th>splicing_ratio</th>\n",
       "      <th>n_tes</th>\n",
       "      <th>n_ic</th>\n",
       "      <th>n_iso</th>\n",
       "    </tr>\n",
       "  </thead>\n",
       "  <tbody>\n",
       "    <tr>\n",
       "      <th>24501</th>\n",
       "      <td>2.0</td>\n",
       "      <td>54.0</td>\n",
       "      <td>3.0</td>\n",
       "      <td>135.0</td>\n",
       "      <td>278.0</td>\n",
       "    </tr>\n",
       "  </tbody>\n",
       "</table>\n",
       "</div>"
      ],
      "text/plain": [
       "       n_tss  splicing_ratio  n_tes   n_ic  n_iso\n",
       "24501    2.0            54.0    3.0  135.0  278.0"
      ]
     },
     "execution_count": 38,
     "metadata": {},
     "output_type": "execute_result"
    }
   ],
   "source": [
    "ca.triplets.loc[(ca.triplets.source=='sample_det')&\\\n",
    "                (ca.triplets['sample']=='h9_chondro')&\\\n",
    "                (ca.triplets.gname.isin(['ELN']))][['n_tss', 'splicing_ratio', 'n_tes', 'n_ic', 'n_iso']]"
   ]
  },
  {
   "cell_type": "code",
   "execution_count": null,
   "id": "d93d1382-267e-4b5e-93ac-e1c8ed1e2c48",
   "metadata": {},
   "outputs": [],
   "source": []
  }
 ],
 "metadata": {
  "kernelspec": {
   "display_name": "Python 3",
   "language": "python",
   "name": "python3"
  },
  "language_info": {
   "codemirror_mode": {
    "name": "ipython",
    "version": 3
   },
   "file_extension": ".py",
   "mimetype": "text/x-python",
   "name": "python",
   "nbconvert_exporter": "python",
   "pygments_lexer": "ipython3",
   "version": "3.7.4"
  }
 },
 "nbformat": 4,
 "nbformat_minor": 5
}
