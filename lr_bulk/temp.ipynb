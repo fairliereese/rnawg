{
 "cells": [
  {
   "cell_type": "code",
   "execution_count": 4,
   "id": "fe16c787-8e5a-451e-b59b-f3ac7cb990ed",
   "metadata": {},
   "outputs": [],
   "source": [
    "class MasterClass():\n",
    "     def __init__(self, var):\n",
    "        self.var = var\n",
    "        # self.child = ChildClass()\n",
    "\n",
    "class ChildClass(MasterClass):\n",
    "     def __init__(self, var):\n",
    "        super().__init__(var)\n",
    "        print(self.var)"
   ]
  },
  {
   "cell_type": "code",
   "execution_count": 5,
   "id": "46da258a-c8c3-4687-8d82-65dd87d07cbc",
   "metadata": {},
   "outputs": [
    {
     "name": "stdout",
     "output_type": "stream",
     "text": [
      "hello world\n"
     ]
    }
   ],
   "source": [
    "temp = ChildClass(var='hello world')"
   ]
  },
  {
   "cell_type": "code",
   "execution_count": null,
   "id": "c67b007b-64f0-4375-840c-41296e276b2c",
   "metadata": {},
   "outputs": [],
   "source": []
  },
  {
   "cell_type": "code",
   "execution_count": null,
   "id": "20215347-0371-4d70-b5bc-11a2b314ff7a",
   "metadata": {},
   "outputs": [],
   "source": []
  }
 ],
 "metadata": {
  "kernelspec": {
   "display_name": "Python 3",
   "language": "python",
   "name": "python3"
  },
  "language_info": {
   "codemirror_mode": {
    "name": "ipython",
    "version": 3
   },
   "file_extension": ".py",
   "mimetype": "text/x-python",
   "name": "python",
   "nbconvert_exporter": "python",
   "pygments_lexer": "ipython3",
   "version": "3.7.4"
  }
 },
 "nbformat": 4,
 "nbformat_minor": 5
}
