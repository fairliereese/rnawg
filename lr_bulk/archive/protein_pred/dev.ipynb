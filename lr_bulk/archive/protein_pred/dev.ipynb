{
 "cells": [
  {
   "cell_type": "code",
   "execution_count": 93,
   "id": "8be58cad-1c90-473f-9633-7cefe51a439a",
   "metadata": {},
   "outputs": [],
   "source": [
    "import pandas as pd\n",
    "import pyranges\n",
    "import os\n",
    "import sys\n",
    "import seaborn as sns\n",
    "\n",
    "p = os.path.dirname(os.path.dirname(os.getcwd()))\n",
    "sys.path.append(p)\n",
    "\n",
    "from scripts.utils import *"
   ]
  },
  {
   "cell_type": "code",
   "execution_count": 94,
   "id": "8abf6e55-38d6-4548-857f-d0b85d2fc388",
   "metadata": {},
   "outputs": [],
   "source": [
    "## gencode annotated transcripts\n",
    "df = pr.read_gtf('../../refs/gencode_v29_sirv4_ercc.gtf')\n",
    "df = df.df "
   ]
  },
  {
   "cell_type": "code",
   "execution_count": 95,
   "id": "9795201f-558c-42c9-a2f9-b30bd6656d3b",
   "metadata": {},
   "outputs": [
    {
     "name": "stdout",
     "output_type": "stream",
     "text": [
      "19969\n"
     ]
    },
    {
     "data": {
      "text/plain": [
       "19969"
      ]
     },
     "execution_count": 95,
     "metadata": {},
     "output_type": "execute_result"
    }
   ],
   "source": [
    "# get rid of sirvs and erccs\n",
    "df = df.loc[~df.Chromosome.str.contains('ERCC')]\n",
    "df = df.loc[~df.Chromosome.str.contains('SIRV')]\n",
    "\n",
    "# limit protein coding genes\n",
    "gene_df = get_gtf_info(how='gene')[0]\n",
    "gene_df = gene_df.loc[gene_df.biotype_category == 'protein_coding']\n",
    "pc_genes = gene_df.gid.tolist()\n",
    "print(len(pc_genes))\n",
    "\n",
    "df = df.loc[df.gene_id.isin(pc_genes)]\n",
    "len(df.loc[df.Feature == 'gene'])"
   ]
  },
  {
   "cell_type": "code",
   "execution_count": 96,
   "id": "f6b961c9-94b3-4ade-aaa7-90a2a9549fdf",
   "metadata": {},
   "outputs": [],
   "source": [
    "# df.loc[df.transcript_id == 'ENST00000641515.2']"
   ]
  },
  {
   "cell_type": "code",
   "execution_count": 97,
   "id": "c277df6d-8869-4bb8-832e-c1dbd2a83ccf",
   "metadata": {},
   "outputs": [],
   "source": [
    "# temp = df.loc[df.Feature == 'UTR']\n",
    "# temp = temp[['Feature', 'transcript_id', 'Source', 'Start']]\n",
    "# temp = temp.groupby(['Feature', 'Source', 'transcript_id']).count().reset_index()\n",
    "# sns.displot(data=temp, kind='kde', x='Start', hue='Source')"
   ]
  },
  {
   "cell_type": "code",
   "execution_count": 98,
   "id": "c9a47325-53ad-4a51-8dac-b2ab232e335c",
   "metadata": {},
   "outputs": [],
   "source": [
    "# tids = temp.loc[temp.Start > 1, 'transcript_id'].tolist()\n",
    "# temp.head()"
   ]
  },
  {
   "cell_type": "code",
   "execution_count": 99,
   "id": "fb9b07da-4606-4926-a1a8-38796d4aaad6",
   "metadata": {},
   "outputs": [],
   "source": [
    "# nov_df = pr.read_gtf('../talon/human_known_nic_nnc_talon.gtf').df\n",
    "# nov_df = nov_df.loc[~nov_df.Chromosome.str.contains('SIRV')]\n",
    "# nov_df = nov_df.loc[~nov_df.Chromosome.str.contains('ERCC')]\n",
    "# nov_df = nov_df.loc[~nov_df.Feature.str.contains('gene')]"
   ]
  },
  {
   "cell_type": "code",
   "execution_count": 100,
   "id": "95159adf-bf3e-4cc2-a84a-37f543d022ed",
   "metadata": {},
   "outputs": [],
   "source": [
    "# nov_df.loc[~nov_df.transcript_id.str.contains('ENCODE')]"
   ]
  },
  {
   "cell_type": "code",
   "execution_count": 101,
   "id": "0c40e563-3742-4642-b590-8e0606027f60",
   "metadata": {},
   "outputs": [],
   "source": [
    "# nov_df.loc[nov_df.transcript_id.isin(tids), 'transcript_id'].head()"
   ]
  },
  {
   "cell_type": "code",
   "execution_count": 102,
   "id": "1e7b3812-2af4-48c6-8543-ce1cc1127f84",
   "metadata": {},
   "outputs": [],
   "source": [
    "# # a transcript that is expressed in the long read data\n",
    "# temp.loc[temp.transcript_id == 'ENST00000342066.7']"
   ]
  },
  {
   "cell_type": "code",
   "execution_count": 103,
   "id": "61a20e6d-7225-48f9-8f30-eb7645bce05c",
   "metadata": {},
   "outputs": [],
   "source": [
    "# nov_df.loc[nov_df.transcript_id == 'ENST00000342066.7'].tail()"
   ]
  },
  {
   "cell_type": "code",
   "execution_count": 104,
   "id": "cb57a41e-ae00-496e-95be-8974d0e8767e",
   "metadata": {},
   "outputs": [],
   "source": [
    "# df.loc[df.transcript_id == 'ENST00000342066.7']"
   ]
  },
  {
   "cell_type": "code",
   "execution_count": 105,
   "id": "553fa1ac-4671-4fcb-96b3-0cdb4791d023",
   "metadata": {},
   "outputs": [],
   "source": [
    "# df.loc[df.Feature == 'stop_codon']\n",
    "# df.loc[(df.Feature == 'stop_codon')&(df.Strand == '-')]"
   ]
  },
  {
   "cell_type": "code",
   "execution_count": 106,
   "id": "3772c912-29ca-4b78-b929-87651c2f22ff",
   "metadata": {},
   "outputs": [],
   "source": [
    "# utr_df = utr_df.df\n",
    "# utr_df.loc[utr_df.Name == 'ENST00000342066.7']"
   ]
  },
  {
   "cell_type": "code",
   "execution_count": 107,
   "id": "fbfb453f-81fa-42d7-9606-0f7bac6fe485",
   "metadata": {},
   "outputs": [],
   "source": [
    "t_df = df.loc[df.Feature == 'transcript'].copy(deep=True)\n",
    "stop_df = df.loc[df.Feature == 'stop_codon'].copy(deep=True)\n",
    "stop_df = stop_df[['transcript_id', 'Start', 'End']]\n",
    "\n",
    "# add stop codon coords to transcript df\n",
    "t_df = t_df.merge(stop_df, on='transcript_id',\n",
    "                  suffixes=('','_stop_codon'))\n",
    "\n",
    "# split into fwd and rev\n",
    "fwd = t_df.loc[t_df.Strand == '+'].copy(deep=True)\n",
    "rev = t_df.loc[t_df.Strand == '-'].copy(deep=True)\n",
    "\n",
    "fwd['3_utr_start'] = fwd.End_stop_codon\n",
    "fwd['3_utr_end'] = fwd.End\n",
    "\n",
    "rev['3_utr_end'] = rev.Start_stop_codon\n",
    "rev['3_utr_start'] = rev.Start+1\n",
    "\n",
    "df = pd.concat([fwd, rev])\n",
    "df = df[['Chromosome', '3_utr_start', '3_utr_end',\n",
    "         'Strand', 'transcript_id']]\n",
    "df.rename({'3_utr_start': 'Start',\n",
    "           '3_utr_end': 'End',\n",
    "           'transcript_id': 'Name'}, axis=1, inplace=True)"
   ]
  },
  {
   "cell_type": "code",
   "execution_count": 108,
   "id": "45c11c9c-bd49-42f5-9a03-4fdca1772306",
   "metadata": {},
   "outputs": [],
   "source": [
    "utr_df = pr.PyRanges(df)"
   ]
  },
  {
   "cell_type": "code",
   "execution_count": 109,
   "id": "356681b3-3027-4555-807b-d69cdd75e3ce",
   "metadata": {},
   "outputs": [
    {
     "data": {
      "text/html": [
       "<div>\n",
       "<style scoped>\n",
       "    .dataframe tbody tr th:only-of-type {\n",
       "        vertical-align: middle;\n",
       "    }\n",
       "\n",
       "    .dataframe tbody tr th {\n",
       "        vertical-align: top;\n",
       "    }\n",
       "\n",
       "    .dataframe thead th {\n",
       "        text-align: right;\n",
       "    }\n",
       "</style>\n",
       "<table border=\"1\" class=\"dataframe\">\n",
       "  <thead>\n",
       "    <tr style=\"text-align: right;\">\n",
       "      <th></th>\n",
       "      <th>Chromosome</th>\n",
       "      <th>Start</th>\n",
       "      <th>End</th>\n",
       "      <th>Strand</th>\n",
       "      <th>Name</th>\n",
       "    </tr>\n",
       "  </thead>\n",
       "  <tbody>\n",
       "    <tr>\n",
       "      <th>0</th>\n",
       "      <td>chr1</td>\n",
       "      <td>70009</td>\n",
       "      <td>71585</td>\n",
       "      <td>+</td>\n",
       "      <td>ENST00000641515.2</td>\n",
       "    </tr>\n",
       "    <tr>\n",
       "      <th>1</th>\n",
       "      <td>chr1</td>\n",
       "      <td>70009</td>\n",
       "      <td>70108</td>\n",
       "      <td>+</td>\n",
       "      <td>ENST00000335137.4</td>\n",
       "    </tr>\n",
       "    <tr>\n",
       "      <th>2</th>\n",
       "      <td>chr1</td>\n",
       "      <td>944154</td>\n",
       "      <td>944575</td>\n",
       "      <td>+</td>\n",
       "      <td>ENST00000342066.7</td>\n",
       "    </tr>\n",
       "    <tr>\n",
       "      <th>3</th>\n",
       "      <td>chr1</td>\n",
       "      <td>944154</td>\n",
       "      <td>944581</td>\n",
       "      <td>+</td>\n",
       "      <td>ENST00000618181.4</td>\n",
       "    </tr>\n",
       "    <tr>\n",
       "      <th>4</th>\n",
       "      <td>chr1</td>\n",
       "      <td>944154</td>\n",
       "      <td>944581</td>\n",
       "      <td>+</td>\n",
       "      <td>ENST00000622503.4</td>\n",
       "    </tr>\n",
       "    <tr>\n",
       "      <th>5</th>\n",
       "      <td>chr1</td>\n",
       "      <td>942856</td>\n",
       "      <td>944581</td>\n",
       "      <td>+</td>\n",
       "      <td>ENST00000618323.4</td>\n",
       "    </tr>\n",
       "    <tr>\n",
       "      <th>6</th>\n",
       "      <td>chr1</td>\n",
       "      <td>942696</td>\n",
       "      <td>944581</td>\n",
       "      <td>+</td>\n",
       "      <td>ENST00000616016.4</td>\n",
       "    </tr>\n",
       "    <tr>\n",
       "      <th>7</th>\n",
       "      <td>chr1</td>\n",
       "      <td>944154</td>\n",
       "      <td>944581</td>\n",
       "      <td>+</td>\n",
       "      <td>ENST00000618779.4</td>\n",
       "    </tr>\n",
       "  </tbody>\n",
       "</table>\n",
       "</div>"
      ],
      "text/plain": [
       "+--------------+-----------+-----------+--------------+-------------------+\n",
       "| Chromosome   |     Start |       End | Strand       | Name              |\n",
       "| (category)   |   (int32) |   (int32) | (category)   | (object)          |\n",
       "|--------------+-----------+-----------+--------------+-------------------|\n",
       "| chr1         |     70009 |     71585 | +            | ENST00000641515.2 |\n",
       "| chr1         |     70009 |     70108 | +            | ENST00000335137.4 |\n",
       "| chr1         |    944154 |    944575 | +            | ENST00000342066.7 |\n",
       "| chr1         |    944154 |    944581 | +            | ENST00000618181.4 |\n",
       "| chr1         |    944154 |    944581 | +            | ENST00000622503.4 |\n",
       "| chr1         |    942856 |    944581 | +            | ENST00000618323.4 |\n",
       "| chr1         |    942696 |    944581 | +            | ENST00000616016.4 |\n",
       "| chr1         |    944154 |    944581 | +            | ENST00000618779.4 |\n",
       "+--------------+-----------+-----------+--------------+-------------------+\n",
       "Stranded PyRanges object has 8 rows and 5 columns from 1 chromosomes.\n",
       "For printing, the PyRanges was sorted on Chromosome and Strand."
      ]
     },
     "execution_count": 109,
     "metadata": {},
     "output_type": "execute_result"
    }
   ],
   "source": [
    "utr_df.head()"
   ]
  },
  {
   "cell_type": "code",
   "execution_count": 28,
   "id": "cf27df5c-03b0-4f99-824e-addbba778e0e",
   "metadata": {},
   "outputs": [],
   "source": [
    "## novel transcripts"
   ]
  },
  {
   "cell_type": "code",
   "execution_count": 146,
   "id": "683f157c-deb2-4ddd-a80b-0a31680433f0",
   "metadata": {},
   "outputs": [],
   "source": [
    "df = pd.read_csv('human_cds.bed', sep='\\t',\n",
    "                 header=None, usecols=[1,2,3,5,6,7])\n",
    "df.columns = ['Start', 'Stop', 'fields', 'Strand',\n",
    "              'CDS_Start', 'CDS_Stop']\n",
    "df['tid'] = df.fields.str.split(';', expand=True)[1]"
   ]
  },
  {
   "cell_type": "code",
   "execution_count": 147,
   "id": "5def8243-6e5a-4b10-987d-4ee58f408bf2",
   "metadata": {},
   "outputs": [
    {
     "data": {
      "text/html": [
       "<div>\n",
       "<style scoped>\n",
       "    .dataframe tbody tr th:only-of-type {\n",
       "        vertical-align: middle;\n",
       "    }\n",
       "\n",
       "    .dataframe tbody tr th {\n",
       "        vertical-align: top;\n",
       "    }\n",
       "\n",
       "    .dataframe thead th {\n",
       "        text-align: right;\n",
       "    }\n",
       "</style>\n",
       "<table border=\"1\" class=\"dataframe\">\n",
       "  <thead>\n",
       "    <tr style=\"text-align: right;\">\n",
       "      <th></th>\n",
       "      <th>Start</th>\n",
       "      <th>Stop</th>\n",
       "      <th>fields</th>\n",
       "      <th>Strand</th>\n",
       "      <th>CDS_Start</th>\n",
       "      <th>CDS_Stop</th>\n",
       "      <th>tid</th>\n",
       "    </tr>\n",
       "  </thead>\n",
       "  <tbody>\n",
       "    <tr>\n",
       "      <th>0</th>\n",
       "      <td>14403</td>\n",
       "      <td>29570</td>\n",
       "      <td>ENSG00000227232.5;ENCODEHT000207057;NA;NA;none...</td>\n",
       "      <td>-</td>\n",
       "      <td>17327</td>\n",
       "      <td>17687</td>\n",
       "      <td>ENCODEHT000207057</td>\n",
       "    </tr>\n",
       "    <tr>\n",
       "      <th>1</th>\n",
       "      <td>14403</td>\n",
       "      <td>29570</td>\n",
       "      <td>ENSG00000227232.5;ENCODEHT000207076;NA;NA;ENSP...</td>\n",
       "      <td>-</td>\n",
       "      <td>17735</td>\n",
       "      <td>24886</td>\n",
       "      <td>ENCODEHT000207076</td>\n",
       "    </tr>\n",
       "    <tr>\n",
       "      <th>2</th>\n",
       "      <td>14403</td>\n",
       "      <td>29570</td>\n",
       "      <td>ENSG00000227232.5;ENCODEHT001150534;NA;NA;ENSP...</td>\n",
       "      <td>-</td>\n",
       "      <td>17735</td>\n",
       "      <td>24886</td>\n",
       "      <td>ENCODEHT001150534</td>\n",
       "    </tr>\n",
       "    <tr>\n",
       "      <th>3</th>\n",
       "      <td>14408</td>\n",
       "      <td>29570</td>\n",
       "      <td>ENSG00000227232.5;ENCODEHT000207067;NA;NA;none...</td>\n",
       "      <td>-</td>\n",
       "      <td>16747</td>\n",
       "      <td>17310</td>\n",
       "      <td>ENCODEHT000207067</td>\n",
       "    </tr>\n",
       "    <tr>\n",
       "      <th>4</th>\n",
       "      <td>17368</td>\n",
       "      <td>17436</td>\n",
       "      <td>ENSG00000278267.1;ENST00000619216.1;NA;NA;none...</td>\n",
       "      <td>-</td>\n",
       "      <td>17371</td>\n",
       "      <td>17434</td>\n",
       "      <td>ENST00000619216.1</td>\n",
       "    </tr>\n",
       "  </tbody>\n",
       "</table>\n",
       "</div>"
      ],
      "text/plain": [
       "   Start   Stop                                             fields Strand  \\\n",
       "0  14403  29570  ENSG00000227232.5;ENCODEHT000207057;NA;NA;none...      -   \n",
       "1  14403  29570  ENSG00000227232.5;ENCODEHT000207076;NA;NA;ENSP...      -   \n",
       "2  14403  29570  ENSG00000227232.5;ENCODEHT001150534;NA;NA;ENSP...      -   \n",
       "3  14408  29570  ENSG00000227232.5;ENCODEHT000207067;NA;NA;none...      -   \n",
       "4  17368  17436  ENSG00000278267.1;ENST00000619216.1;NA;NA;none...      -   \n",
       "\n",
       "   CDS_Start  CDS_Stop                tid  \n",
       "0      17327     17687  ENCODEHT000207057  \n",
       "1      17735     24886  ENCODEHT000207076  \n",
       "2      17735     24886  ENCODEHT001150534  \n",
       "3      16747     17310  ENCODEHT000207067  \n",
       "4      17371     17434  ENST00000619216.1  "
      ]
     },
     "execution_count": 147,
     "metadata": {},
     "output_type": "execute_result"
    }
   ],
   "source": [
    "df.head()"
   ]
  },
  {
   "cell_type": "code",
   "execution_count": 148,
   "id": "e76888b1-650a-4aab-ad40-5adfae4278ec",
   "metadata": {},
   "outputs": [],
   "source": [
    "# check if transcript is novel \n",
    "df['novel_transcript'] = df.tid.str.contains('ENCODE')"
   ]
  },
  {
   "cell_type": "code",
   "execution_count": 149,
   "id": "df86fc60-7759-44e5-8b18-01e1088eeaa4",
   "metadata": {},
   "outputs": [],
   "source": [
    "# check if transcript is nmd\n",
    "df['nmd'] = ~df.fields.str.contains('prot_ok')"
   ]
  },
  {
   "cell_type": "code",
   "execution_count": 150,
   "id": "56a32015-f532-4949-b104-473cf18c6201",
   "metadata": {},
   "outputs": [],
   "source": [
    "# limit to just novel transcripts that do not have NMD\n",
    "df = df.loc[(df.novel_transcript==True)&(df.nmd==False)]"
   ]
  },
  {
   "cell_type": "code",
   "execution_count": 151,
   "id": "a73cc302-6662-4a1a-bfe6-d28937cad4c3",
   "metadata": {},
   "outputs": [
    {
     "data": {
      "text/plain": [
       "24867"
      ]
     },
     "execution_count": 151,
     "metadata": {},
     "output_type": "execute_result"
    }
   ],
   "source": [
    "len(df.index)"
   ]
  },
  {
   "cell_type": "code",
   "execution_count": 152,
   "id": "f7174ba6-2e0e-461b-9982-419343f00866",
   "metadata": {},
   "outputs": [],
   "source": [
    "# for transcripts without NMD, get the 3' UTR\n",
    "fwd = df.loc[df.Strand == '+'].copy(deep=True)\n",
    "rev = df.loc[df.Strand == '-'].copy(deep=True)\n",
    "\n",
    "# fwd strand\n",
    "fwd['3_utr_start'] = fwd.CDS_Stop+3\n",
    "fwd['3_utr_end'] = fwd.Stop\n",
    "\n",
    "# rev strand\n",
    "rev['3_utr_start'] = rev.Start\n",
    "rev['3_utr_end'] = rev.CDS_Start-3\n",
    "\n",
    "df = pd.concat([fwd, rev])\n"
   ]
  },
  {
   "cell_type": "code",
   "execution_count": 145,
   "id": "6d1ff411-dd3f-4f36-9a9e-daf9c1159e6c",
   "metadata": {},
   "outputs": [],
   "source": [
    "# # toy \n",
    "# cds_start = 1\n",
    "# cds_stop = 4\n",
    "# print((cds_stop - cds_start)/3)\n"
   ]
  },
  {
   "cell_type": "code",
   "execution_count": null,
   "id": "69d2cd1d-a9b7-49e5-9c94-cef7d4575444",
   "metadata": {},
   "outputs": [],
   "source": [
    "# - strand"
   ]
  },
  {
   "cell_type": "code",
   "execution_count": 140,
   "id": "45dbc1d5-7785-4cf6-95ae-d1617298df8a",
   "metadata": {},
   "outputs": [],
   "source": [
    "# # + strand\n",
    "# # tid = ENCODEHT001155508\n",
    "# start = 1308566\n",
    "# stop = 1311676\n",
    "\n",
    "# cds_start = 1309690\n",
    "# cds_stop = 1311376\n",
    "\n",
    "# print((cds_stop - cds_start)/3)\n",
    "\n",
    "# print('CDS length: {}'.format(cds_stop-cds_start))\n",
    "\n",
    "# rel_cds_start = cds_start - start\n",
    "# rel_cds_stop = cds_stop - start\n",
    "\n",
    "# seq = 'GTGACCAGGCCGCGTCCGCGCGCGCGCAGGATTCCTGCGCTGGAGGCCGCCTCTGACGCCACCGGCTGGGCTCCGCCATGAGTTCGGCGCCGGCCTCAGGCTCCGTGCGCGCGCGCTATCTTGTGTACTTCCAGTACGTGGGCACCGACTTTAAGAGGCCGCCGAGCGGCTGAATTCCGTGGAGCCGGTCAGGTTCACCATCTCCAGCCGCACGGACGCCGGGGTCCACGCCCTGAGCAACGCGGCGCACCTGGACGTCCAGCGCCGCTCAGGCCGGCCGCCCTTCCCGCCCGAGGTCCTGGCCGAGGCCCTCAACACACACCTGCGGCACCCGGCCATCAGGGTCCTGCGGGCCTTCCGAGTGCCCAGCGACTTCCACGCTCGTCACGCAGCCACGTCCCGGACCTACCTGTACCGCCTGGCCACTGGCTGTCACCGGCGTGATGAGCTGCCGGTGTTTGAACGCAACCTATGCTGGACTCTCCCGGCAGACTGCCTGGATATGGTCGCCATGCAGGAAGCCGCCCAGCACCTCCTCGGCACACACGACTTCAGCGCCTTCCAGTCCGCTGGCAGCCCGGTGCCGAGCCCCGTGCGAACGCTGCGCCGGGTCTCCGTTTCCCCAGGCCAAGCCAGCCCCTTGGTCACCCCCGAGGAGAGCAGGAAGCTGCGGTTCTGGAACCTGGAGTTTGAGAGCCAGTCTTTCCTGTATAGACAGGTACGGAGGATGACGGCTGTGCTGGTGGCCGTGGGGCTGGGGGCTTTGGCACCTGCCCAGGTGAAGACGATTCTGGAGAGCCAAGATCCCCTGGGCAAGCACCAGACACGTGTAGCCCCAGCCCACGGCTTATTCCTCAAGTCAGTGCTGTACGGGAACCTCGGTGCTGCCTCCTGCACCCTGCAGGGGCCACAGTTCGGGAGCCACGGATGACCCTGGACACTCAAGCCAAAGTTAGGCCACACCAGGCCCAACCCTGTGCTGGTCAAGCCAGGGCAGTCACAGCTGCTTGGGGCCCACAGCACTGCTGCCTGGTCTCCACAGTAGCCTCCCTGCCCGGGTCCCAGCACCCTGGATGCCCGTCTCTGTCCCAGGCGGGATGGGGCACAGTGCAGGACACAGCCATGTACACCAAGAAGAGAGTACCAAGTAGTCTTTTGTTCAGCTTTTACTGGAAACTGCTGTCTAGGACCACCTGCCCTAACCAGGAATAAAGGCAAGACAGCCTGG'\n",
    "# print(len(seq))\n",
    "# print()\n",
    "# print(rel_cds_start)\n",
    "# print(rel_cds_stop)\n",
    "\n",
    "\n",
    "# # # start codon\n",
    "# # print(seq[rel_cds_start:rel_cds_start+3])\n",
    "\n",
    "# # # stop codon\n",
    "# # print(seq[(-1*rel_cds_stop)-3:(-1*rel_cds_stop)])"
   ]
  },
  {
   "cell_type": "code",
   "execution_count": 141,
   "id": "e534047e-3d36-472a-bbce-419dc4737c5e",
   "metadata": {},
   "outputs": [],
   "source": [
    "# 944150 - 923927"
   ]
  },
  {
   "cell_type": "code",
   "execution_count": 142,
   "id": "c4e2fcaf-36c5-4e14-8e5f-ddee92e87f42",
   "metadata": {},
   "outputs": [],
   "source": [
    "# df.head(10)"
   ]
  },
  {
   "cell_type": "code",
   "execution_count": 143,
   "id": "4c6c4128-9999-458e-aa8c-5bff68204c24",
   "metadata": {},
   "outputs": [],
   "source": [
    "# df.loc[df.Strand == '-']"
   ]
  },
  {
   "cell_type": "code",
   "execution_count": 144,
   "id": "13568065-ce5e-4563-aa2c-17fae2240fdc",
   "metadata": {},
   "outputs": [],
   "source": [
    "# (3261-219)/3"
   ]
  },
  {
   "cell_type": "code",
   "execution_count": null,
   "id": "3b45bc8e-f919-4009-af0b-502409b9a3a2",
   "metadata": {},
   "outputs": [],
   "source": []
  }
 ],
 "metadata": {
  "kernelspec": {
   "display_name": "Python 3",
   "language": "python",
   "name": "python3"
  },
  "language_info": {
   "codemirror_mode": {
    "name": "ipython",
    "version": 3
   },
   "file_extension": ".py",
   "mimetype": "text/x-python",
   "name": "python",
   "nbconvert_exporter": "python",
   "pygments_lexer": "ipython3",
   "version": "3.7.4"
  }
 },
 "nbformat": 4,
 "nbformat_minor": 5
}
