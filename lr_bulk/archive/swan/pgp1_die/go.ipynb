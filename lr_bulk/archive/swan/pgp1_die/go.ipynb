{
 "cells": [
  {
   "cell_type": "code",
   "execution_count": 1,
   "id": "aaabe69c-521a-4909-a684-9364e1ea98c8",
   "metadata": {},
   "outputs": [],
   "source": [
    "import gseapy as gp\n",
    "import pandas as pd\n",
    "import numpy as np\n",
    "import swan_vis as swan"
   ]
  },
  {
   "cell_type": "code",
   "execution_count": 2,
   "id": "1cba3490-9af2-4737-8f72-132bf630db36",
   "metadata": {},
   "outputs": [
    {
     "name": "stdout",
     "output_type": "stream",
     "text": [
      "Read in graph from ../swan.p\n"
     ]
    }
   ],
   "source": [
    "sg = swan.read('../swan.p')"
   ]
  },
  {
   "cell_type": "code",
   "execution_count": 10,
   "id": "ef3f4bf0-c4a1-468f-be2a-ffb60a8d6243",
   "metadata": {},
   "outputs": [
    {
     "data": {
      "text/plain": [
       "['ENSG00000227232',\n",
       " 'ENSG00000227232',\n",
       " 'ENSG00000227232',\n",
       " 'ENSG00000225210',\n",
       " 'ENSG00000279457',\n",
       " 'ENSG00000279457',\n",
       " 'ENSG00000279457',\n",
       " 'ENSG00000177951',\n",
       " 'ENSG00000244306',\n",
       " 'ENSG00000226210']"
      ]
     },
     "execution_count": 10,
     "metadata": {},
     "output_type": "execute_result"
    }
   ],
   "source": [
    "gids = sg.t_df.gid.str.split('.', expand=True)[0].tolist()\n",
    "gids[:10]"
   ]
  },
  {
   "cell_type": "code",
   "execution_count": 4,
   "id": "b7b757fd-3d0d-485a-9dc8-11250827daf5",
   "metadata": {},
   "outputs": [
    {
     "data": {
      "text/plain": [
       "['ARCHS4_Cell-lines',\n",
       " 'ARCHS4_IDG_Coexp',\n",
       " 'ARCHS4_Kinases_Coexp',\n",
       " 'ARCHS4_TFs_Coexp',\n",
       " 'ARCHS4_Tissues',\n",
       " 'Achilles_fitness_decrease',\n",
       " 'Achilles_fitness_increase',\n",
       " 'Aging_Perturbations_from_GEO_down',\n",
       " 'Aging_Perturbations_from_GEO_up',\n",
       " 'Allen_Brain_Atlas_10x_scRNA_2021',\n",
       " 'Allen_Brain_Atlas_down',\n",
       " 'Allen_Brain_Atlas_up',\n",
       " 'Azimuth_Cell_Types_2021',\n",
       " 'BioCarta_2013',\n",
       " 'BioCarta_2015',\n",
       " 'BioCarta_2016',\n",
       " 'BioPlanet_2019',\n",
       " 'BioPlex_2017',\n",
       " 'CCLE_Proteomics_2020',\n",
       " 'CORUM']"
      ]
     },
     "execution_count": 4,
     "metadata": {},
     "output_type": "execute_result"
    }
   ],
   "source": [
    "names = gp.get_library_name('Human')\n",
    "names[:20]"
   ]
  },
  {
   "cell_type": "code",
   "execution_count": 5,
   "id": "1a1633d1-05ef-4f08-a22c-5955faf1f1f9",
   "metadata": {},
   "outputs": [],
   "source": [
    "dbs = ['GO_Biological_Process_2021', 'GO_Cellular_Component_2021', 'GO_Molecular_Function_2021', 'KEGG_2019_Mouse']\n"
   ]
  },
  {
   "cell_type": "code",
   "execution_count": 6,
   "id": "9218b2f9-2b1b-4877-a8ac-94f0c5263876",
   "metadata": {},
   "outputs": [
    {
     "data": {
      "text/html": [
       "<div>\n",
       "<style scoped>\n",
       "    .dataframe tbody tr th:only-of-type {\n",
       "        vertical-align: middle;\n",
       "    }\n",
       "\n",
       "    .dataframe tbody tr th {\n",
       "        vertical-align: top;\n",
       "    }\n",
       "\n",
       "    .dataframe thead th {\n",
       "        text-align: right;\n",
       "    }\n",
       "</style>\n",
       "<table border=\"1\" class=\"dataframe\">\n",
       "  <thead>\n",
       "    <tr style=\"text-align: right;\">\n",
       "      <th></th>\n",
       "      <th>Name</th>\n",
       "      <th>Description</th>\n",
       "    </tr>\n",
       "  </thead>\n",
       "  <tbody>\n",
       "    <tr>\n",
       "      <th>66</th>\n",
       "      <td>hsapiens_gene_ensembl</td>\n",
       "      <td>Human genes (GRCh38.p13)</td>\n",
       "    </tr>\n",
       "  </tbody>\n",
       "</table>\n",
       "</div>"
      ],
      "text/plain": [
       "                     Name               Description\n",
       "66  hsapiens_gene_ensembl  Human genes (GRCh38.p13)"
      ]
     },
     "execution_count": 6,
     "metadata": {},
     "output_type": "execute_result"
    }
   ],
   "source": [
    "bm = gp.parser.Biomart()\n",
    "datasets = bm.get_datasets(mart='ENSEMBL_MART_ENSEMBL')\n",
    "datasets.loc[datasets.Description.str.contains('Human')]"
   ]
  },
  {
   "cell_type": "code",
   "execution_count": 11,
   "id": "4612e60d-a7ae-4d5a-8cec-c2f4e623968f",
   "metadata": {},
   "outputs": [],
   "source": [
    "dataset = 'hsapiens_gene_ensembl'\n",
    "attrs = bm.get_attributes(dataset=dataset)\n",
    "results = bm.query(dataset='hsapiens_gene_ensembl',\n",
    "                   attributes=['ensembl_gene_id', 'external_gene_name'],\n",
    "                   filters={'ensembl_gene_id': gids})"
   ]
  },
  {
   "cell_type": "code",
   "execution_count": 12,
   "id": "c4537126-65f4-4261-87ae-4e2469c37cce",
   "metadata": {},
   "outputs": [
    {
     "data": {
      "text/html": [
       "<div>\n",
       "<style scoped>\n",
       "    .dataframe tbody tr th:only-of-type {\n",
       "        vertical-align: middle;\n",
       "    }\n",
       "\n",
       "    .dataframe tbody tr th {\n",
       "        vertical-align: top;\n",
       "    }\n",
       "\n",
       "    .dataframe thead th {\n",
       "        text-align: right;\n",
       "    }\n",
       "</style>\n",
       "<table border=\"1\" class=\"dataframe\">\n",
       "  <thead>\n",
       "    <tr style=\"text-align: right;\">\n",
       "      <th></th>\n",
       "      <th>ensembl_gene_id</th>\n",
       "      <th>external_gene_name</th>\n",
       "    </tr>\n",
       "  </thead>\n",
       "  <tbody>\n",
       "    <tr>\n",
       "      <th>0</th>\n",
       "      <td>ENSG00000210049</td>\n",
       "      <td>MT-TF</td>\n",
       "    </tr>\n",
       "    <tr>\n",
       "      <th>1</th>\n",
       "      <td>ENSG00000211459</td>\n",
       "      <td>MT-RNR1</td>\n",
       "    </tr>\n",
       "    <tr>\n",
       "      <th>2</th>\n",
       "      <td>ENSG00000210077</td>\n",
       "      <td>MT-TV</td>\n",
       "    </tr>\n",
       "    <tr>\n",
       "      <th>3</th>\n",
       "      <td>ENSG00000210082</td>\n",
       "      <td>MT-RNR2</td>\n",
       "    </tr>\n",
       "    <tr>\n",
       "      <th>4</th>\n",
       "      <td>ENSG00000209082</td>\n",
       "      <td>MT-TL1</td>\n",
       "    </tr>\n",
       "  </tbody>\n",
       "</table>\n",
       "</div>"
      ],
      "text/plain": [
       "   ensembl_gene_id external_gene_name\n",
       "0  ENSG00000210049              MT-TF\n",
       "1  ENSG00000211459            MT-RNR1\n",
       "2  ENSG00000210077              MT-TV\n",
       "3  ENSG00000210082            MT-RNR2\n",
       "4  ENSG00000209082             MT-TL1"
      ]
     },
     "execution_count": 12,
     "metadata": {},
     "output_type": "execute_result"
    }
   ],
   "source": [
    "results.head()"
   ]
  },
  {
   "cell_type": "code",
   "execution_count": 13,
   "id": "009ddc0c-de08-4047-81fd-5c4814ba61e6",
   "metadata": {},
   "outputs": [],
   "source": [
    "tested = []\n",
    "\n",
    "conds = sg.adata.obs.loc[sg.adata.obs['sample'].str.contains('pgp1'), 'sample'].unique().tolist()\n",
    "data = [[0 for i in range(len(conds))] for j in range(len(conds))]\n",
    "n_die = pd.DataFrame(data=data, columns=conds, index=conds)\n",
    "n_die.head()\n",
    "\n",
    "for c1 in conds:\n",
    "    for c2 in conds:\n",
    "        if c1 == c2:\n",
    "            continue \n",
    "        fname = 'iso_die_{}_{}.tsv'.format(c1, c2)\n",
    "        try:\n",
    "            df = pd.read_csv(fname, sep='\\t')\n",
    "        except:\n",
    "            fname = 'iso_die_{}_{}.tsv'.format(c2, c1)\n",
    "            df = pd.read_csv(fname, sep='\\t')\n",
    "\n",
    "        pref = '{}_{}_die'.format(c1, c2)\n",
    "        \n",
    "        # filter \n",
    "        df = df.loc[(df.adj_p_val < 0.05)&(df.dpi > 10)]\n",
    "        df = df.loc[~df.gid.str.contains('SIRV')]\n",
    "        df = df.loc[~df.gid.str.contains('ERCC')]\n",
    "        \n",
    "        # GO enrichment\n",
    "        gids = df.gid.str.rsplit('.', n=1, expand=True)[0].to_frame()\n",
    "        gids = gids.squeeze().str.strip().tolist()\n",
    "        gids = bm.query(dataset='hsapiens_gene_ensembl',\n",
    "                   attributes=['ensembl_gene_id', 'external_gene_name'],\n",
    "                   filters={'ensembl_gene_id': gids})\n",
    "        gids = gids.loc[~gids.external_gene_name.isna()]\n",
    "        gnames = gids.external_gene_name.squeeze().str.strip().tolist()\n",
    "        go = gp.enrichr(gene_list=gnames,\n",
    "                        gene_sets=dbs,\n",
    "                        organism='Human',\n",
    "                        description=pref,\n",
    "                        outdir='{}_GO'.format(pref),\n",
    "                        cutoff=0.5)\n",
    "\n"
   ]
  },
  {
   "cell_type": "code",
   "execution_count": null,
   "id": "77f4e13c-e721-41b2-91f4-c9743a76f0e2",
   "metadata": {},
   "outputs": [],
   "source": []
  }
 ],
 "metadata": {
  "kernelspec": {
   "display_name": "Python 3",
   "language": "python",
   "name": "python3"
  },
  "language_info": {
   "codemirror_mode": {
    "name": "ipython",
    "version": 3
   },
   "file_extension": ".py",
   "mimetype": "text/x-python",
   "name": "python",
   "nbconvert_exporter": "python",
   "pygments_lexer": "ipython3",
   "version": "3.7.4"
  }
 },
 "nbformat": 4,
 "nbformat_minor": 5
}
