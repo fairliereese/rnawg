{
 "cells": [
  {
   "cell_type": "code",
   "execution_count": 2,
   "id": "214c7baf-c52d-4d28-b7ae-791404913694",
   "metadata": {},
   "outputs": [],
   "source": [
    "import pandas as pd\n",
    "import numpy as np\n",
    "import scipy.stats as st\n",
    "import seaborn as sns\n",
    "import sys\n",
    "import os\n",
    "import gseapy as gp\n",
    "import pdb\n",
    "import copy\n",
    "from scipy import sparse\n",
    "import anndata\n",
    "import cerberus\n",
    "import plotly.io as pio\n",
    "\n",
    "\n",
    "p = os.path.dirname(os.getcwd())\n",
    "sys.path.append(p)\n",
    "\n",
    "from scripts.utils import *\n",
    "from scripts.plotting import *"
   ]
  },
  {
   "cell_type": "markdown",
   "id": "a58b09a7-c96c-491e-aa6c-ccd3bbc81584",
   "metadata": {},
   "source": [
    "## Scatterplot for # libraries vs. # tissues"
   ]
  },
  {
   "cell_type": "code",
   "execution_count": 32,
   "id": "40feb98b-75a3-47ee-a756-a0e05e514d6a",
   "metadata": {},
   "outputs": [],
   "source": [
    "df = pd.read_csv('ali_sample_table.csv')\n",
    "c_dict, order = get_tissue_cell_line_colors()\n",
    "style_dict = {'Human': 'o', 'Mouse': 'D'}"
   ]
  },
  {
   "cell_type": "code",
   "execution_count": 33,
   "id": "f8977971-1a22-4ff1-8389-04fad572b06a",
   "metadata": {},
   "outputs": [],
   "source": [
    "# gb species and classification and count tissue / cell type\n",
    "temp2 = df.groupby(['classification', 'species']).nunique().reset_index()\n",
    "temp2 = temp2[['classification', 'species', 'tissue / cell type']]\n",
    "temp2.rename({'tissue / cell type': 'n_tissue_cell_type'}, axis=1, inplace=True)"
   ]
  },
  {
   "cell_type": "code",
   "execution_count": 34,
   "id": "5391ec40-0b32-42bc-be55-429586033dca",
   "metadata": {},
   "outputs": [],
   "source": [
    "# gb species and classification and count libraries\n",
    "temp = df.groupby(['classification', 'species']).count().reset_index()\n",
    "temp = temp[['classification', 'species', 'dataset']]\n",
    "temp.rename({'dataset': 'n_libraries'}, axis=1, inplace=True)"
   ]
  },
  {
   "cell_type": "code",
   "execution_count": 35,
   "id": "89155adc-9306-46a2-a27e-9421c625a0fe",
   "metadata": {},
   "outputs": [],
   "source": [
    "temp = temp.merge(temp2, on=['classification', 'species'])"
   ]
  },
  {
   "cell_type": "code",
   "execution_count": 36,
   "id": "c3922444-f3e6-4857-8d8d-58b85dc827d4",
   "metadata": {},
   "outputs": [
    {
     "data": {
      "text/html": [
       "<div>\n",
       "<style scoped>\n",
       "    .dataframe tbody tr th:only-of-type {\n",
       "        vertical-align: middle;\n",
       "    }\n",
       "\n",
       "    .dataframe tbody tr th {\n",
       "        vertical-align: top;\n",
       "    }\n",
       "\n",
       "    .dataframe thead th {\n",
       "        text-align: right;\n",
       "    }\n",
       "</style>\n",
       "<table border=\"1\" class=\"dataframe\">\n",
       "  <thead>\n",
       "    <tr style=\"text-align: right;\">\n",
       "      <th></th>\n",
       "      <th>classification</th>\n",
       "      <th>species</th>\n",
       "      <th>n_libraries</th>\n",
       "      <th>n_tissue_cell_type</th>\n",
       "    </tr>\n",
       "  </thead>\n",
       "  <tbody>\n",
       "    <tr>\n",
       "      <th>0</th>\n",
       "      <td>cell_line</td>\n",
       "      <td>Human</td>\n",
       "      <td>87</td>\n",
       "      <td>30</td>\n",
       "    </tr>\n",
       "    <tr>\n",
       "      <th>1</th>\n",
       "      <td>cell_line</td>\n",
       "      <td>Mouse</td>\n",
       "      <td>9</td>\n",
       "      <td>2</td>\n",
       "    </tr>\n",
       "    <tr>\n",
       "      <th>2</th>\n",
       "      <td>tissue</td>\n",
       "      <td>Human</td>\n",
       "      <td>51</td>\n",
       "      <td>11</td>\n",
       "    </tr>\n",
       "    <tr>\n",
       "      <th>3</th>\n",
       "      <td>tissue</td>\n",
       "      <td>Mouse</td>\n",
       "      <td>117</td>\n",
       "      <td>6</td>\n",
       "    </tr>\n",
       "  </tbody>\n",
       "</table>\n",
       "</div>"
      ],
      "text/plain": [
       "  classification species  n_libraries  n_tissue_cell_type\n",
       "0      cell_line   Human           87                  30\n",
       "1      cell_line   Mouse            9                   2\n",
       "2         tissue   Human           51                  11\n",
       "3         tissue   Mouse          117                   6"
      ]
     },
     "execution_count": 36,
     "metadata": {},
     "output_type": "execute_result"
    }
   ],
   "source": [
    "temp"
   ]
  },
  {
   "cell_type": "code",
   "execution_count": 44,
   "id": "22f79dab-02aa-42c1-8658-c333fa386875",
   "metadata": {},
   "outputs": [
    {
     "data": {
      "image/png": "[encoded data removed]",
      "text/plain": [
       "<Figure size 216x288 with 1 Axes>"
      ]
     },
     "metadata": {
      "needs_background": "light"
     },
     "output_type": "display_data"
    }
   ],
   "source": [
    "sns.set_context('paper', font_scale=2)\n",
    "plt.figure(figsize=(3,4))\n",
    "mpl.rcParams['font.family'] = 'Arial'\n",
    "mpl.rcParams['pdf.fonttype'] = 42\n",
    "\n",
    "ax = sns.scatterplot(data=temp, x='n_tissue_cell_type', y='n_libraries',\n",
    "            hue='classification', style='species', markers=style_dict,\n",
    "            palette=c_dict, alpha=1, s=200)\n",
    "ax.spines['right'].set_visible(False)\n",
    "ax.spines['top'].set_visible(False)\n",
    "\n",
    "xlabel = '# tissues / cell lines'\n",
    "ylabel = '# libraries'\n",
    "xlim = (-5, 40)\n",
    "\n",
    "plt.legend(bbox_to_anchor=(1.05, 1), loc='upper left', borderaxespad=0)\n",
    "_ = ax.set(xlabel=xlabel, ylabel=ylabel, xlim=xlim)\n",
    "\n",
    "fname = 'figures/data_summary_libraries_v_tissue_cell_line.pdf'\n",
    "plt.savefig(fname, dpi=500, layout='tight', bbox_inches=\"tight\")"
   ]
  },
  {
   "cell_type": "code",
   "execution_count": null,
   "id": "762f45cf-686c-40e3-b005-3f5f2ef31508",
   "metadata": {},
   "outputs": [],
   "source": []
  },
  {
   "cell_type": "markdown",
   "id": "4a793a9a-e471-4943-aec4-ede067b3ea20",
   "metadata": {},
   "source": [
    "## Box plot for number of samples / libraries for human / mouse there are"
   ]
  },
  {
   "cell_type": "code",
   "execution_count": 2,
   "id": "00481722-4151-4907-8083-a2fa587bb860",
   "metadata": {},
   "outputs": [],
   "source": [
    "human = pd.read_csv('swan/swan_metadata.tsv', sep='\\t')\n",
    "human['species'] = 'Human'\n",
    "\n",
    "mouse = pd.read_csv('../mouse/lr_bulk/swan/mouse_metadata.tsv', sep='\\t')\n",
    "mouse['species'] = 'Mouse'\n",
    "\n",
    "keep_cols = ['dataset', 'sample', 'classification', 'species']\n",
    "human = human[keep_cols]\n",
    "mouse = mouse[keep_cols]\n",
    "\n",
    "df = pd.concat([human, mouse], axis=0)"
   ]
  },
  {
   "cell_type": "code",
   "execution_count": 3,
   "id": "9119e5c9-e2c9-4cb1-bb3b-ee9b730fc994",
   "metadata": {},
   "outputs": [],
   "source": [
    "df.to_csv('table.tsv', sep='\\t')"
   ]
  },
  {
   "cell_type": "code",
   "execution_count": 4,
   "id": "f7f854f3-c82b-40af-92ae-121e5b69befd",
   "metadata": {},
   "outputs": [],
   "source": [
    "# gb species and classification and count libraries\n",
    "temp = df.groupby(['classification', 'species']).count().reset_index()\n",
    "temp = temp[['classification', 'species', 'dataset']]\n",
    "temp.rename({'dataset': 'n_libraries'}, axis=1, inplace=True)"
   ]
  },
  {
   "cell_type": "code",
   "execution_count": 5,
   "id": "65be2cde-dc02-4b66-8acc-0dca7a19a9db",
   "metadata": {},
   "outputs": [],
   "source": [
    "# gb species and classification and count samples\n",
    "temp2 = df.groupby(['classification', 'species']).nunique().reset_index()\n",
    "temp2 = temp2[['classification', 'species', 'sample']]\n",
    "temp2.rename({'sample': 'n_samples'}, axis=1, inplace=True)"
   ]
  },
  {
   "cell_type": "code",
   "execution_count": 6,
   "id": "68b806a4-1e80-43c1-8bdf-08aa2015e667",
   "metadata": {},
   "outputs": [],
   "source": [
    "temp = temp.merge(temp2, on=['species', 'classification'])"
   ]
  },
  {
   "cell_type": "code",
   "execution_count": 7,
   "id": "ca1e42d6-d96a-4f47-9a7c-11f85423fdcb",
   "metadata": {},
   "outputs": [],
   "source": [
    "c_dict, order = get_tissue_cell_line_colors()"
   ]
  },
  {
   "cell_type": "code",
   "execution_count": 8,
   "id": "6b6bfa29-5427-4586-865f-90ebf0fca889",
   "metadata": {},
   "outputs": [
    {
     "data": {
      "image/png": "[encoded data removed]",
      "text/plain": [
       "<Figure size 216x288 with 1 Axes>"
      ]
     },
     "metadata": {
      "needs_background": "light"
     },
     "output_type": "display_data"
    }
   ],
   "source": [
    "# n samples\n",
    "sns.set_context('paper', font_scale=2)\n",
    "plt.figure(figsize=(3,4))\n",
    "mpl.rcParams['font.family'] = 'Arial'\n",
    "mpl.rcParams['pdf.fonttype'] = 42\n",
    "\n",
    "ax = sns.barplot(data=temp2, x='species', y='n_samples',\n",
    "            hue='classification',\n",
    "            palette=c_dict, saturation=1)\n",
    "ax.spines['right'].set_visible(False)\n",
    "ax.spines['top'].set_visible(False)\n",
    "\n",
    "xlabel = ''\n",
    "ylabel = '# samples'\n",
    "\n",
    "plt.legend(bbox_to_anchor=(1.05, 1), loc='upper left', borderaxespad=0)\n",
    "_ = ax.set(xlabel=xlabel, ylabel=ylabel)\n",
    "# ax.set_xticklabels(['vM25', 'Obs.', 'Obs. major'])\n",
    "\n",
    "def add_perc_2(ax):\n",
    "    ylim = ax.get_ylim()[1]\n",
    "    n_cats = len(ax.patches)\n",
    "    for p in ax.patches:\n",
    "        label = '{:.0f}'.format(p.get_height())\n",
    "        # n = p.get_height()\n",
    "        # label = '{:.0f} samples'.format(temp.loc[temp.n_libraries == n, 'n_samples'].tolist()[0])\n",
    "        x = p.get_x() + p.get_width() / 2\n",
    "        # x = p.get_x() + p.get_width() / 2 - 0.3\n",
    "        # x = p.get_x() + p.get_width() / 2 - (0.015)*n_cats\n",
    "        y = p.get_y() + p.get_height() + ylim*0.01\n",
    "        ax.annotate(label, (x, y), size=16, horizontalalignment='center')\n",
    "\n",
    "\n",
    "add_perc_2(ax)\n",
    "\n",
    "fname = 'figures/data_summary_samples.pdf'\n",
    "plt.savefig(fname, dpi=500, layout='tight', bbox_inches=\"tight\")"
   ]
  },
  {
   "cell_type": "code",
   "execution_count": 9,
   "id": "1b0db8b2-b18f-49e2-b052-c7c296fd4de0",
   "metadata": {},
   "outputs": [
    {
     "data": {
      "image/png": "[encoded data removed]",
      "text/plain": [
       "<Figure size 216x288 with 1 Axes>"
      ]
     },
     "metadata": {
      "needs_background": "light"
     },
     "output_type": "display_data"
    }
   ],
   "source": [
    "# n libraries\n",
    "sns.set_context('paper', font_scale=2)\n",
    "plt.figure(figsize=(3,4))\n",
    "mpl.rcParams['font.family'] = 'Arial'\n",
    "mpl.rcParams['pdf.fonttype'] = 42\n",
    "\n",
    "ax = sns.barplot(data=temp, x='species', y='n_libraries',\n",
    "            hue='classification',\n",
    "            palette=c_dict, saturation=1)\n",
    "ax.spines['right'].set_visible(False)\n",
    "ax.spines['top'].set_visible(False)\n",
    "\n",
    "xlabel = ''\n",
    "ylabel = '# libraries'\n",
    "\n",
    "plt.legend(bbox_to_anchor=(1.05, 1), loc='upper left', borderaxespad=0)\n",
    "_ = ax.set(xlabel=xlabel, ylabel=ylabel)\n",
    "# ax.set_xticklabels(['vM25', 'Obs.', 'Obs. major'])\n",
    "\n",
    "def add_perc_2(ax):\n",
    "    ylim = ax.get_ylim()[1]\n",
    "    n_cats = len(ax.patches)\n",
    "    for p in ax.patches:\n",
    "        label = '{:.0f}'.format(p.get_height())\n",
    "        # n = p.get_height()\n",
    "        # label = '{:.0f} samples'.format(temp.loc[temp.n_libraries == n, 'n_samples'].tolist()[0])\n",
    "        x = p.get_x() + p.get_width() / 2\n",
    "        # x = p.get_x() + p.get_width() / 2 - 0.3\n",
    "        # x = p.get_x() + p.get_width() / 2 - (0.015)*n_cats\n",
    "        y = p.get_y() + p.get_height() + ylim*0.01\n",
    "        ax.annotate(label, (x, y), size=16, horizontalalignment='center')\n",
    "\n",
    "\n",
    "add_perc_2(ax)\n",
    "fname = 'figures/data_summary_libraries.pdf'\n",
    "plt.savefig(fname, dpi=500, layout='tight', bbox_inches=\"tight\")"
   ]
  },
  {
   "cell_type": "code",
   "execution_count": 11,
   "id": "4f7f1315-a5d9-47d2-8eca-c9375e4732e2",
   "metadata": {},
   "outputs": [],
   "source": [
    "## Ali's categorizations - unique tissues / cell types"
   ]
  },
  {
   "cell_type": "code",
   "execution_count": 12,
   "id": "81971717-5401-4bc1-8ee7-adf34503ff00",
   "metadata": {},
   "outputs": [],
   "source": [
    "df = pd.read_csv('ali_sample_table.csv')"
   ]
  },
  {
   "cell_type": "code",
   "execution_count": 14,
   "id": "256bbed0-3912-49f4-97fd-02dc913c862b",
   "metadata": {},
   "outputs": [],
   "source": [
    "# gb species and classification and count tissue / cell type\n",
    "temp2 = df.groupby(['classification', 'species']).nunique().reset_index()\n",
    "temp2 = temp2[['classification', 'species', 'tissue / cell type']]\n",
    "temp2.rename({'tissue / cell type': 'n_tissue_cell_type'}, axis=1, inplace=True)"
   ]
  },
  {
   "cell_type": "code",
   "execution_count": 16,
   "id": "00497c66-ff9a-4365-892a-fe6949c95ed4",
   "metadata": {},
   "outputs": [
    {
     "data": {
      "text/html": [
       "<div>\n",
       "<style scoped>\n",
       "    .dataframe tbody tr th:only-of-type {\n",
       "        vertical-align: middle;\n",
       "    }\n",
       "\n",
       "    .dataframe tbody tr th {\n",
       "        vertical-align: top;\n",
       "    }\n",
       "\n",
       "    .dataframe thead th {\n",
       "        text-align: right;\n",
       "    }\n",
       "</style>\n",
       "<table border=\"1\" class=\"dataframe\">\n",
       "  <thead>\n",
       "    <tr style=\"text-align: right;\">\n",
       "      <th></th>\n",
       "      <th>classification</th>\n",
       "      <th>species</th>\n",
       "      <th>n_tissue_cell_type</th>\n",
       "    </tr>\n",
       "  </thead>\n",
       "  <tbody>\n",
       "    <tr>\n",
       "      <th>0</th>\n",
       "      <td>cell_line</td>\n",
       "      <td>Human</td>\n",
       "      <td>30</td>\n",
       "    </tr>\n",
       "    <tr>\n",
       "      <th>1</th>\n",
       "      <td>cell_line</td>\n",
       "      <td>Mouse</td>\n",
       "      <td>2</td>\n",
       "    </tr>\n",
       "    <tr>\n",
       "      <th>2</th>\n",
       "      <td>tissue</td>\n",
       "      <td>Human</td>\n",
       "      <td>11</td>\n",
       "    </tr>\n",
       "    <tr>\n",
       "      <th>3</th>\n",
       "      <td>tissue</td>\n",
       "      <td>Mouse</td>\n",
       "      <td>6</td>\n",
       "    </tr>\n",
       "  </tbody>\n",
       "</table>\n",
       "</div>"
      ],
      "text/plain": [
       "  classification species  n_tissue_cell_type\n",
       "0      cell_line   Human                  30\n",
       "1      cell_line   Mouse                   2\n",
       "2         tissue   Human                  11\n",
       "3         tissue   Mouse                   6"
      ]
     },
     "execution_count": 16,
     "metadata": {},
     "output_type": "execute_result"
    }
   ],
   "source": [
    "temp2"
   ]
  },
  {
   "cell_type": "code",
   "execution_count": 18,
   "id": "22148978-90c4-47c9-933b-542aa23333ca",
   "metadata": {},
   "outputs": [
    {
     "data": {
      "image/png": "[encoded data removed]",
      "text/plain": [
       "<Figure size 216x288 with 1 Axes>"
      ]
     },
     "metadata": {
      "needs_background": "light"
     },
     "output_type": "display_data"
    }
   ],
   "source": [
    "# n libraries\n",
    "sns.set_context('paper', font_scale=2)\n",
    "plt.figure(figsize=(3,4))\n",
    "mpl.rcParams['font.family'] = 'Arial'\n",
    "mpl.rcParams['pdf.fonttype'] = 42\n",
    "\n",
    "ax = sns.barplot(data=temp2, x='species', y='n_tissue_cell_type',\n",
    "            hue='classification',\n",
    "            palette=c_dict, saturation=1)\n",
    "ax.spines['right'].set_visible(False)\n",
    "ax.spines['top'].set_visible(False)\n",
    "\n",
    "xlabel = ''\n",
    "ylabel = '# tissues / cell types'\n",
    "\n",
    "plt.legend(bbox_to_anchor=(1.05, 1), loc='upper left', borderaxespad=0)\n",
    "_ = ax.set(xlabel=xlabel, ylabel=ylabel)\n",
    "# ax.set_xticklabels(['vM25', 'Obs.', 'Obs. major'])\n",
    "\n",
    "def add_perc_2(ax):\n",
    "    ylim = ax.get_ylim()[1]\n",
    "    n_cats = len(ax.patches)\n",
    "    for p in ax.patches:\n",
    "        label = '{:.0f}'.format(p.get_height())\n",
    "        # n = p.get_height()\n",
    "        # label = '{:.0f} samples'.format(temp.loc[temp.n_libraries == n, 'n_samples'].tolist()[0])\n",
    "        x = p.get_x() + p.get_width() / 2\n",
    "        # x = p.get_x() + p.get_width() / 2 - 0.3\n",
    "        # x = p.get_x() + p.get_width() / 2 - (0.015)*n_cats\n",
    "        y = p.get_y() + p.get_height() + ylim*0.01\n",
    "        ax.annotate(label, (x, y), size=16, horizontalalignment='center')\n",
    "\n",
    "\n",
    "add_perc_2(ax)\n",
    "fname = 'figures/data_summary_tissue_celltype.pdf'\n",
    "plt.savefig(fname, dpi=500, layout='tight', bbox_inches=\"tight\")"
   ]
  },
  {
   "cell_type": "code",
   "execution_count": null,
   "id": "e6170234-5294-46cb-a86d-f0c6089f7c34",
   "metadata": {},
   "outputs": [],
   "source": []
  },
  {
   "cell_type": "code",
   "execution_count": null,
   "id": "78fdfac2-e11b-41f9-bdd3-c56f41dab917",
   "metadata": {},
   "outputs": [],
   "source": []
  },
  {
   "cell_type": "code",
   "execution_count": null,
   "id": "071f041b-3365-4588-8fc9-dd71bb77b3f4",
   "metadata": {},
   "outputs": [],
   "source": []
  },
  {
   "cell_type": "code",
   "execution_count": null,
   "id": "d6fb1a12-d64f-40de-9f54-4c2c0ee8c38f",
   "metadata": {},
   "outputs": [],
   "source": []
  },
  {
   "cell_type": "code",
   "execution_count": null,
   "id": "8b89c9ed-0113-4d65-a6ee-39b89fe00a76",
   "metadata": {},
   "outputs": [],
   "source": []
  },
  {
   "cell_type": "code",
   "execution_count": null,
   "id": "a3d04036-9662-41d2-8b09-c6ca6f572151",
   "metadata": {},
   "outputs": [],
   "source": []
  },
  {
   "cell_type": "code",
   "execution_count": 10,
   "id": "e7c9daae-6d2b-4265-97a9-9086724594ce",
   "metadata": {},
   "outputs": [
    {
     "data": {
      "image/png": "[encoded data removed]",
      "text/plain": [
       "<Figure size 216x288 with 1 Axes>"
      ]
     },
     "metadata": {
      "needs_background": "light"
     },
     "output_type": "display_data"
    }
   ],
   "source": [
    "# n libraries\n",
    "sns.set_context('paper', font_scale=2)\n",
    "plt.figure(figsize=(3,4))\n",
    "mpl.rcParams['font.family'] = 'Arial'\n",
    "mpl.rcParams['pdf.fonttype'] = 42\n",
    "\n",
    "ax = sns.barplot(data=temp, x='species', y='n_libraries',\n",
    "            hue='classification',\n",
    "            palette=c_dict, saturation=1)\n",
    "ax.spines['right'].set_visible(False)\n",
    "ax.spines['top'].set_visible(False)\n",
    "\n",
    "xlabel = ''\n",
    "ylabel = '# libraries'\n",
    "\n",
    "plt.legend(bbox_to_anchor=(1.05, 1), loc='upper left', borderaxespad=0)\n",
    "_ = ax.set(xlabel=xlabel, ylabel=ylabel)\n",
    "# ax.set_xticklabels(['vM25', 'Obs.', 'Obs. major'])\n",
    "\n",
    "def add_perc_2(ax):\n",
    "    ylim = ax.get_ylim()[1]\n",
    "    n_cats = len(ax.patches)\n",
    "    for p in ax.patches:\n",
    "        label = '{:.0f}'.format(p.get_height())\n",
    "        # n = p.get_height()\n",
    "        # label = '{:.0f} samples'.format(temp.loc[temp.n_libraries == n, 'n_samples'].tolist()[0])\n",
    "        x = p.get_x() + p.get_width() / 2\n",
    "        # x = p.get_x() + p.get_width() / 2 - 0.3\n",
    "        # x = p.get_x() + p.get_width() / 2 - (0.015)*n_cats\n",
    "        y = p.get_y() + p.get_height() + ylim*0.01\n",
    "        ax.annotate(label, (x, y), size=16, horizontalalignment='center')\n",
    "\n",
    "\n",
    "add_perc_2(ax)\n",
    "fname = 'figures/data_summary_libraries.pdf'\n",
    "plt.savefig(fname, dpi=500, layout='tight', bbox_inches=\"tight\")"
   ]
  },
  {
   "cell_type": "code",
   "execution_count": null,
   "id": "e97056d7-4c50-4359-855c-7f791bd19e87",
   "metadata": {},
   "outputs": [],
   "source": []
  }
 ],
 "metadata": {
  "kernelspec": {
   "display_name": "Python 3",
   "language": "python",
   "name": "python3"
  },
  "language_info": {
   "codemirror_mode": {
    "name": "ipython",
    "version": 3
   },
   "file_extension": ".py",
   "mimetype": "text/x-python",
   "name": "python",
   "nbconvert_exporter": "python",
   "pygments_lexer": "ipython3",
   "version": "3.7.4"
  }
 },
 "nbformat": 4,
 "nbformat_minor": 5
}
