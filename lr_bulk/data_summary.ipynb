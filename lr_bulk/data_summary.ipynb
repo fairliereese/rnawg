{
 "cells": [
  {
   "cell_type": "code",
   "execution_count": 93,
   "id": "214c7baf-c52d-4d28-b7ae-791404913694",
   "metadata": {},
   "outputs": [],
   "source": [
    "import pandas as pd\n",
    "import numpy as np\n",
    "import scipy.stats as st\n",
    "import seaborn as sns\n",
    "import sys\n",
    "import os\n",
    "import gseapy as gp\n",
    "import pdb\n",
    "import copy\n",
    "from scipy import sparse\n",
    "import anndata\n",
    "import cerberus\n",
    "import plotly.io as pio\n",
    "\n",
    "\n",
    "p = os.path.dirname(os.getcwd())\n",
    "sys.path.append(p)\n",
    "\n",
    "from scripts.utils import *\n",
    "from scripts.plotting import *"
   ]
  },
  {
   "cell_type": "markdown",
   "id": "4a793a9a-e471-4943-aec4-ede067b3ea20",
   "metadata": {},
   "source": [
    "## Box plot for number of samples / libraries for human / mouse there are"
   ]
  },
  {
   "cell_type": "code",
   "execution_count": 94,
   "id": "00481722-4151-4907-8083-a2fa587bb860",
   "metadata": {},
   "outputs": [],
   "source": [
    "human = pd.read_csv('swan/swan_metadata.tsv', sep='\\t')\n",
    "human['species'] = 'Human'\n",
    "\n",
    "mouse = pd.read_csv('../mouse/lr_bulk/swan/mouse_metadata.tsv', sep='\\t')\n",
    "mouse['species'] = 'Mouse'\n",
    "\n",
    "keep_cols = ['dataset', 'sample', 'classification', 'species']\n",
    "human = human[keep_cols]\n",
    "mouse = mouse[keep_cols]\n",
    "\n",
    "df = pd.concat([human, mouse], axis=0)"
   ]
  },
  {
   "cell_type": "code",
   "execution_count": 95,
   "id": "f7f854f3-c82b-40af-92ae-121e5b69befd",
   "metadata": {},
   "outputs": [],
   "source": [
    "# gb species and classification and count libraries\n",
    "temp = df.groupby(['classification', 'species']).count().reset_index()\n",
    "temp = temp[['classification', 'species', 'dataset']]\n",
    "temp.rename({'dataset': 'n_libraries'}, axis=1, inplace=True)"
   ]
  },
  {
   "cell_type": "code",
   "execution_count": 96,
   "id": "65be2cde-dc02-4b66-8acc-0dca7a19a9db",
   "metadata": {},
   "outputs": [],
   "source": [
    "# gb species and classification and count samples\n",
    "temp2 = df.groupby(['classification', 'species']).nunique().reset_index()\n",
    "temp2 = temp2[['classification', 'species', 'sample']]\n",
    "temp2.rename({'sample': 'n_samples'}, axis=1, inplace=True)"
   ]
  },
  {
   "cell_type": "code",
   "execution_count": 97,
   "id": "68b806a4-1e80-43c1-8bdf-08aa2015e667",
   "metadata": {},
   "outputs": [],
   "source": [
    "temp = temp.merge(temp2, on=['species', 'classification'])"
   ]
  },
  {
   "cell_type": "code",
   "execution_count": 98,
   "id": "ca1e42d6-d96a-4f47-9a7c-11f85423fdcb",
   "metadata": {},
   "outputs": [],
   "source": [
    "c_dict, order = get_tissue_cell_line_colors()"
   ]
  },
  {
   "cell_type": "code",
   "execution_count": 132,
   "id": "6b6bfa29-5427-4586-865f-90ebf0fca889",
   "metadata": {},
   "outputs": [
    {
     "data": {
      "text/plain": [
       "<matplotlib.legend.Legend at 0x7fabf0af7f10>"
      ]
     },
     "execution_count": 132,
     "metadata": {},
     "output_type": "execute_result"
    },
    {
     "data": {
      "image/png": "[encoded data removed]",
      "text/plain": [
       "<Figure size 216x288 with 2 Axes>"
      ]
     },
     "metadata": {
      "needs_background": "light"
     },
     "output_type": "display_data"
    }
   ],
   "source": [
    "sns.set_context('paper', font_scale=2)\n",
    "plt.figure(figsize=(3,4))\n",
    "mpl.rcParams['font.family'] = 'Arial'\n",
    "mpl.rcParams['pdf.fonttype'] = 42\n",
    "\n",
    "ax = sns.barplot(data=temp2, x='species', y='n_samples',\n",
    "            hue='classification',\n",
    "            palette=c_dict, saturation=1)\n",
    "ax.spines['right'].set_visible(False)\n",
    "ax.spines['top'].set_visible(False)\n",
    "\n",
    "xlabel = ''\n",
    "ylabel = '# samples'\n",
    "\n",
    "plt.legend(bbox_to_anchor=(1.05, 1), loc='upper left', borderaxespad=0)\n",
    "_ = ax.set(xlabel=xlabel, ylabel=ylabel)\n",
    "# ax.set_xticklabels(['vM25', 'Obs.', 'Obs. major'])\n",
    "\n",
    "def add_perc_2(ax):\n",
    "    ylim = ax.get_ylim()[1]\n",
    "    n_cats = len(ax.patches)\n",
    "    for p in ax.patches:\n",
    "        label = '{:.0f}'.format(p.get_height())\n",
    "        # n = p.get_height()\n",
    "        # label = '{:.0f} samples'.format(temp.loc[temp.n_libraries == n, 'n_samples'].tolist()[0])\n",
    "        x = p.get_x() + p.get_width() / 2\n",
    "        # x = p.get_x() + p.get_width() / 2 - 0.3\n",
    "        # x = p.get_x() + p.get_width() / 2 - (0.015)*n_cats\n",
    "        y = p.get_y() + p.get_height() + ylim*0.01\n",
    "        ax.annotate(label, (x, y), size=16, horizontalalignment='center')\n",
    "\n",
    "\n",
    "add_perc_2(ax)\n",
    "\n",
    "# # add dots for n libraries on top\n",
    "ax2 = ax.twinx()\n",
    "# for p in ax.patches:\n",
    "#     n = p.get_height()\n",
    "#     x.append(p.get_x() + p.get_width() / 2)\n",
    "#     y.append(temp.loc[temp.n_samples == n, 'n_libraries'].tolist()[0])\n",
    "    \n",
    "# # get x / y lims for both \n",
    "# ymin = 0\n",
    "# ymax = max(temp.n_libraries+10)\n",
    "# _ = ax.set(ylim=(ymin, ymax))\n",
    "# _ = ax2.set(ylim=(ymin, ymax))\n",
    "\n",
    "# ax2 = sns.stripplot(data=temp, x='species',\n",
    "#                     y='n_libraries', hue='classification',\n",
    "#                     ax=ax2, palette=c_dict)\n",
    "\n",
    "ylabel = '# libraries'\n",
    "_ = ax2.set(ylabel=ylabel)\n",
    "plt.legend(bbox_to_anchor=(1.05, 1), loc='upper left', borderaxespad=0)\n"
   ]
  },
  {
   "cell_type": "code",
   "execution_count": 121,
   "id": "d8baf001-dcce-4a77-bdcd-e3682eaf0d91",
   "metadata": {},
   "outputs": [
    {
     "data": {
      "text/html": [
       "<div>\n",
       "<style scoped>\n",
       "    .dataframe tbody tr th:only-of-type {\n",
       "        vertical-align: middle;\n",
       "    }\n",
       "\n",
       "    .dataframe tbody tr th {\n",
       "        vertical-align: top;\n",
       "    }\n",
       "\n",
       "    .dataframe thead th {\n",
       "        text-align: right;\n",
       "    }\n",
       "</style>\n",
       "<table border=\"1\" class=\"dataframe\">\n",
       "  <thead>\n",
       "    <tr style=\"text-align: right;\">\n",
       "      <th></th>\n",
       "      <th>classification</th>\n",
       "      <th>species</th>\n",
       "      <th>n_libraries</th>\n",
       "      <th>n_samples</th>\n",
       "    </tr>\n",
       "  </thead>\n",
       "  <tbody>\n",
       "    <tr>\n",
       "      <th>0</th>\n",
       "      <td>cell_line</td>\n",
       "      <td>Human</td>\n",
       "      <td>87</td>\n",
       "      <td>39</td>\n",
       "    </tr>\n",
       "    <tr>\n",
       "      <th>1</th>\n",
       "      <td>cell_line</td>\n",
       "      <td>Mouse</td>\n",
       "      <td>9</td>\n",
       "      <td>3</td>\n",
       "    </tr>\n",
       "    <tr>\n",
       "      <th>2</th>\n",
       "      <td>tissue</td>\n",
       "      <td>Human</td>\n",
       "      <td>51</td>\n",
       "      <td>11</td>\n",
       "    </tr>\n",
       "    <tr>\n",
       "      <th>3</th>\n",
       "      <td>tissue</td>\n",
       "      <td>Mouse</td>\n",
       "      <td>117</td>\n",
       "      <td>28</td>\n",
       "    </tr>\n",
       "  </tbody>\n",
       "</table>\n",
       "</div>"
      ],
      "text/plain": [
       "  classification species  n_libraries  n_samples\n",
       "0      cell_line   Human           87         39\n",
       "1      cell_line   Mouse            9          3\n",
       "2         tissue   Human           51         11\n",
       "3         tissue   Mouse          117         28"
      ]
     },
     "execution_count": 121,
     "metadata": {},
     "output_type": "execute_result"
    }
   ],
   "source": [
    "temp"
   ]
  },
  {
   "cell_type": "code",
   "execution_count": 100,
   "id": "37e8260f-ada8-4819-b342-ef7f0fb27dc9",
   "metadata": {},
   "outputs": [
    {
     "data": {
      "text/html": [
       "<div>\n",
       "<style scoped>\n",
       "    .dataframe tbody tr th:only-of-type {\n",
       "        vertical-align: middle;\n",
       "    }\n",
       "\n",
       "    .dataframe tbody tr th {\n",
       "        vertical-align: top;\n",
       "    }\n",
       "\n",
       "    .dataframe thead th {\n",
       "        text-align: right;\n",
       "    }\n",
       "</style>\n",
       "<table border=\"1\" class=\"dataframe\">\n",
       "  <thead>\n",
       "    <tr style=\"text-align: right;\">\n",
       "      <th></th>\n",
       "      <th>classification</th>\n",
       "      <th>species</th>\n",
       "      <th>n_libraries</th>\n",
       "      <th>n_samples</th>\n",
       "    </tr>\n",
       "  </thead>\n",
       "  <tbody>\n",
       "    <tr>\n",
       "      <th>0</th>\n",
       "      <td>cell_line</td>\n",
       "      <td>Human</td>\n",
       "      <td>87</td>\n",
       "      <td>39</td>\n",
       "    </tr>\n",
       "    <tr>\n",
       "      <th>1</th>\n",
       "      <td>cell_line</td>\n",
       "      <td>Mouse</td>\n",
       "      <td>9</td>\n",
       "      <td>3</td>\n",
       "    </tr>\n",
       "    <tr>\n",
       "      <th>2</th>\n",
       "      <td>tissue</td>\n",
       "      <td>Human</td>\n",
       "      <td>51</td>\n",
       "      <td>11</td>\n",
       "    </tr>\n",
       "    <tr>\n",
       "      <th>3</th>\n",
       "      <td>tissue</td>\n",
       "      <td>Mouse</td>\n",
       "      <td>117</td>\n",
       "      <td>28</td>\n",
       "    </tr>\n",
       "  </tbody>\n",
       "</table>\n",
       "</div>"
      ],
      "text/plain": [
       "  classification species  n_libraries  n_samples\n",
       "0      cell_line   Human           87         39\n",
       "1      cell_line   Mouse            9          3\n",
       "2         tissue   Human           51         11\n",
       "3         tissue   Mouse          117         28"
      ]
     },
     "execution_count": 100,
     "metadata": {},
     "output_type": "execute_result"
    }
   ],
   "source": [
    "temp"
   ]
  },
  {
   "cell_type": "code",
   "execution_count": null,
   "id": "e97056d7-4c50-4359-855c-7f791bd19e87",
   "metadata": {},
   "outputs": [],
   "source": []
  }
 ],
 "metadata": {
  "kernelspec": {
   "display_name": "Python 3",
   "language": "python",
   "name": "python3"
  },
  "language_info": {
   "codemirror_mode": {
    "name": "ipython",
    "version": 3
   },
   "file_extension": ".py",
   "mimetype": "text/x-python",
   "name": "python",
   "nbconvert_exporter": "python",
   "pygments_lexer": "ipython3",
   "version": "3.7.4"
  }
 },
 "nbformat": 4,
 "nbformat_minor": 5
}
