{
 "cells": [
  {
   "cell_type": "code",
   "execution_count": 2,
   "id": "090d37d4-99b2-4c99-a41a-ec94916dbafb",
   "metadata": {},
   "outputs": [],
   "source": [
    "import pandas as pd\n",
    "import numpy as np\n",
    "import scipy.stats as st\n",
    "import seaborn as sns\n",
    "import sys\n",
    "import os\n",
    "import gseapy as gp\n",
    "import pdb\n",
    "import copy\n",
    "from scipy import sparse\n",
    "import anndata\n",
    "import cerberus\n",
    "import subprocess\n",
    "import re\n",
    "\n",
    "p = os.path.dirname(os.path.dirname(os.getcwd()))\n",
    "sys.path.append(p)\n",
    "\n",
    "from scripts.utils import *\n",
    "from scripts.plotting import *"
   ]
  },
  {
   "cell_type": "code",
   "execution_count": 3,
   "id": "acaf7e96-dd37-4567-aa2d-a388a1bd7a7e",
   "metadata": {},
   "outputs": [],
   "source": [
    "major_set = '../swan/isos_sample_gene_90.tsv'\n",
    "# c_annot = 'cerberus_annot_triplets.h5'\n",
    "swan_file = '../swan/swan.p'\n",
    "filt_ab = '../cerberus/cerberus_filtered_abundance.tsv'\n",
    "h5 = 'gtex_cerberus.h5'\n",
    "ver = 'v40_cerberus'\n",
    "\n",
    "gene_subset = 'polya'\n",
    "min_tpm = 1"
   ]
  },
  {
   "cell_type": "code",
   "execution_count": 42,
   "id": "4e4d4335-68a6-4c19-a1b6-f9b2b5c3f3f5",
   "metadata": {},
   "outputs": [],
   "source": [
    "ca = cerberus.read(h5)"
   ]
  },
  {
   "cell_type": "markdown",
   "id": "92d42beb-7fb8-45c8-bdf7-0d8660e7bda5",
   "metadata": {},
   "source": [
    "## Cerberus transcripts"
   ]
  },
  {
   "cell_type": "code",
   "execution_count": 43,
   "id": "04dad57b-8e13-4485-9bbf-3cdb65bfce56",
   "metadata": {},
   "outputs": [
    {
     "name": "stdout",
     "output_type": "stream",
     "text": [
      "Calculating iso TPM values\n",
      "Subsetting for polya genes\n"
     ]
    },
    {
     "name": "stderr",
     "output_type": "stream",
     "text": [
      "/Users/fairliereese/Documents/programming/mortazavi_lab/data/rnawg/scripts/utils.py:2047: PerformanceWarning: DataFrame is highly fragmented.  This is usually the result of calling `frame.insert` many times, which has poor performance.  Consider joining all columns at once using pd.concat(axis=1) instead.  To get a de-fragmented frame, use `newframe = frame.copy()`\n",
      "  df[tpm_col] = (df[d]*1000000)/df[total_col]\n",
      "/Users/fairliereese/Documents/programming/mortazavi_lab/data/rnawg/scripts/utils.py:2046: PerformanceWarning: DataFrame is highly fragmented.  This is usually the result of calling `frame.insert` many times, which has poor performance.  Consider joining all columns at once using pd.concat(axis=1) instead.  To get a de-fragmented frame, use `newframe = frame.copy()`\n",
      "  df[total_col] = df[d].sum()\n"
     ]
    },
    {
     "name": "stdout",
     "output_type": "stream",
     "text": [
      "Enforcing minimum TPM\n",
      "Total # isos detected: 231136\n",
      "# isos >= 1 tpm: 210239\n",
      "Applying gene type and novelty subset\n",
      "Number of isos reported: 206806\n"
     ]
    }
   ],
   "source": [
    "# get observed lapa transcripts\n",
    "df = pd.read_csv(filt_ab, sep='\\t')\n",
    "df, tids = get_tpm_table(df,\n",
    "               how='iso',\n",
    "               min_tpm=min_tpm,\n",
    "               gene_subset=gene_subset)"
   ]
  },
  {
   "cell_type": "code",
   "execution_count": 44,
   "id": "e5dfa23b-0e47-4cf5-ba5c-1ecf0cb9c927",
   "metadata": {},
   "outputs": [],
   "source": [
    "df = ca.t_map.loc[ca.t_map.source=='lapa'].copy(deep=True)\n",
    "df = df.merge(ca.ic[['Name', 'novelty']], how='left', left_on='ic_id', right_on='Name')\n",
    "df.rename({'novelty':'ic_novelty'}, axis=1, inplace=True)\n",
    "df.drop('Name', axis=1, inplace=True)\n",
    "df = df.merge(ca.tss[['Name', 'novelty']], how='left', left_on='tss_id', right_on='Name')\n",
    "df.rename({'novelty':'tss_novelty'}, axis=1, inplace=True)\n",
    "df.drop('Name', axis=1, inplace=True)\n",
    "df = df.merge(ca.tes[['Name', 'novelty']], how='left', left_on='tes_id', right_on='Name')\n",
    "df.rename({'novelty':'tes_novelty'}, axis=1, inplace=True)\n",
    "df.drop('Name', axis=1, inplace=True)\n",
    "\n",
    "df = df.loc[df.transcript_id.isin(tids)]"
   ]
  },
  {
   "cell_type": "code",
   "execution_count": 45,
   "id": "0b9b87e7-2c21-4782-ab8f-ca9cd2e95569",
   "metadata": {},
   "outputs": [
    {
     "data": {
      "text/plain": [
       "206806"
      ]
     },
     "execution_count": 45,
     "metadata": {},
     "output_type": "execute_result"
    }
   ],
   "source": [
    "len(df.transcript_id.unique())"
   ]
  },
  {
   "cell_type": "code",
   "execution_count": 46,
   "id": "abe82426-f997-4d2c-a2ce-04fab653ed8a",
   "metadata": {},
   "outputs": [],
   "source": [
    "df.to_csv('cerberus_transcript_novelty.tsv', sep='\\t', index=False)"
   ]
  },
  {
   "cell_type": "markdown",
   "id": "c30f7b98-ed0c-4ebe-8b80-8d814b73a72f",
   "metadata": {},
   "source": [
    "## Gtex transcripts"
   ]
  },
  {
   "cell_type": "code",
   "execution_count": 47,
   "id": "9af68243-e029-43d4-9ff5-c01ed645edc2",
   "metadata": {},
   "outputs": [
    {
     "data": {
      "text/plain": [
       "array(['v40', 'v29', 'lapa', 'gtex'], dtype=object)"
      ]
     },
     "execution_count": 47,
     "metadata": {},
     "output_type": "execute_result"
    }
   ],
   "source": [
    "ca.t_map.source.unique()"
   ]
  },
  {
   "cell_type": "code",
   "execution_count": 48,
   "id": "afca276e-ab48-4670-9581-ab7fcb662587",
   "metadata": {},
   "outputs": [],
   "source": [
    "df = ca.t_map.loc[ca.t_map.source=='gtex'].copy(deep=True)\n",
    "df = df.merge(ca.ic[['Name', 'novelty']], how='left', left_on='ic_id', right_on='Name')\n",
    "df.rename({'novelty':'ic_novelty'}, axis=1, inplace=True)\n",
    "df.drop('Name', axis=1, inplace=True)\n",
    "df = df.merge(ca.tss[['Name', 'novelty']], how='left', left_on='tss_id', right_on='Name')\n",
    "df.rename({'novelty':'tss_novelty'}, axis=1, inplace=True)\n",
    "df.drop('Name', axis=1, inplace=True)\n",
    "df = df.merge(ca.tes[['Name', 'novelty']], how='left', left_on='tes_id', right_on='Name')\n",
    "df.rename({'novelty':'tes_novelty'}, axis=1, inplace=True)\n",
    "df.drop('Name', axis=1, inplace=True)"
   ]
  },
  {
   "cell_type": "code",
   "execution_count": 49,
   "id": "e27c7610-9827-4fc0-838c-fbd7dc66d116",
   "metadata": {},
   "outputs": [
    {
     "data": {
      "text/html": [
       "<div>\n",
       "<style scoped>\n",
       "    .dataframe tbody tr th:only-of-type {\n",
       "        vertical-align: middle;\n",
       "    }\n",
       "\n",
       "    .dataframe tbody tr th {\n",
       "        vertical-align: top;\n",
       "    }\n",
       "\n",
       "    .dataframe thead th {\n",
       "        text-align: right;\n",
       "    }\n",
       "</style>\n",
       "<table border=\"1\" class=\"dataframe\">\n",
       "  <thead>\n",
       "    <tr style=\"text-align: right;\">\n",
       "      <th></th>\n",
       "      <th>original_transcript_id</th>\n",
       "      <th>ic</th>\n",
       "      <th>ic_id</th>\n",
       "      <th>tss_id</th>\n",
       "      <th>tss</th>\n",
       "      <th>tes_id</th>\n",
       "      <th>tes</th>\n",
       "      <th>gene_id</th>\n",
       "      <th>gene_name</th>\n",
       "      <th>original_transcript_name</th>\n",
       "      <th>transcript_triplet</th>\n",
       "      <th>transcript_id</th>\n",
       "      <th>transcript_name</th>\n",
       "      <th>tss_first_sd_issue</th>\n",
       "      <th>tes_last_sa_issue</th>\n",
       "      <th>source</th>\n",
       "      <th>ic_novelty</th>\n",
       "      <th>tss_novelty</th>\n",
       "      <th>tes_novelty</th>\n",
       "    </tr>\n",
       "  </thead>\n",
       "  <tbody>\n",
       "    <tr>\n",
       "      <th>0</th>\n",
       "      <td>0016cd97-0137-4194-9821-910931c6e972_ENSG00000...</td>\n",
       "      <td>22</td>\n",
       "      <td>ENSG00000086015_22</td>\n",
       "      <td>ENSG00000086015_5</td>\n",
       "      <td>5</td>\n",
       "      <td>ENSG00000086015_1</td>\n",
       "      <td>1.0</td>\n",
       "      <td>ENSG00000086015</td>\n",
       "      <td>MAST2</td>\n",
       "      <td>0016cd97-0137-4194-9821-910931c6e972_ENSG00000...</td>\n",
       "      <td>[5,22,1]</td>\n",
       "      <td>ENSG00000086015[5,22,1]</td>\n",
       "      <td>MAST2[5,22,1]</td>\n",
       "      <td>False</td>\n",
       "      <td>False</td>\n",
       "      <td>gtex</td>\n",
       "      <td>NIC</td>\n",
       "      <td>Known</td>\n",
       "      <td>Known</td>\n",
       "    </tr>\n",
       "    <tr>\n",
       "      <th>1</th>\n",
       "      <td>001eea3f-368c-444f-96c0-539cb2204403_ENSG00000...</td>\n",
       "      <td>28</td>\n",
       "      <td>ENSG00000162736_28</td>\n",
       "      <td>ENSG00000162736_1</td>\n",
       "      <td>1</td>\n",
       "      <td>ENSG00000162736_1</td>\n",
       "      <td>1.0</td>\n",
       "      <td>ENSG00000162736</td>\n",
       "      <td>NCSTN</td>\n",
       "      <td>001eea3f-368c-444f-96c0-539cb2204403_ENSG00000...</td>\n",
       "      <td>[1,28,1]</td>\n",
       "      <td>ENSG00000162736[1,28,1]</td>\n",
       "      <td>NCSTN[1,28,1]</td>\n",
       "      <td>False</td>\n",
       "      <td>False</td>\n",
       "      <td>gtex</td>\n",
       "      <td>NIC</td>\n",
       "      <td>Known</td>\n",
       "      <td>Known</td>\n",
       "    </tr>\n",
       "    <tr>\n",
       "      <th>2</th>\n",
       "      <td>0039fbf5-7334-40e1-a1a9-2aa34b6e009c_ENSG00000...</td>\n",
       "      <td>23</td>\n",
       "      <td>ENSG00000084072_23</td>\n",
       "      <td>ENSG00000084072_1</td>\n",
       "      <td>1</td>\n",
       "      <td>ENSG00000084072_3</td>\n",
       "      <td>3.0</td>\n",
       "      <td>ENSG00000084072</td>\n",
       "      <td>PPIE</td>\n",
       "      <td>0039fbf5-7334-40e1-a1a9-2aa34b6e009c_ENSG00000...</td>\n",
       "      <td>[1,23,3]</td>\n",
       "      <td>ENSG00000084072[1,23,3]</td>\n",
       "      <td>PPIE[1,23,3]</td>\n",
       "      <td>False</td>\n",
       "      <td>False</td>\n",
       "      <td>gtex</td>\n",
       "      <td>NIC</td>\n",
       "      <td>Known</td>\n",
       "      <td>Known</td>\n",
       "    </tr>\n",
       "    <tr>\n",
       "      <th>3</th>\n",
       "      <td>003cbbd1-0cb2-43d0-ba48-daabd4d7d518_ENSG00000...</td>\n",
       "      <td>13</td>\n",
       "      <td>ENSG00000137965_13</td>\n",
       "      <td>ENSG00000137965_1</td>\n",
       "      <td>1</td>\n",
       "      <td>ENSG00000137965_1</td>\n",
       "      <td>1.0</td>\n",
       "      <td>ENSG00000137965</td>\n",
       "      <td>IFI44</td>\n",
       "      <td>003cbbd1-0cb2-43d0-ba48-daabd4d7d518_ENSG00000...</td>\n",
       "      <td>[1,13,1]</td>\n",
       "      <td>ENSG00000137965[1,13,1]</td>\n",
       "      <td>IFI44[1,13,1]</td>\n",
       "      <td>False</td>\n",
       "      <td>False</td>\n",
       "      <td>gtex</td>\n",
       "      <td>NIC</td>\n",
       "      <td>Known</td>\n",
       "      <td>Known</td>\n",
       "    </tr>\n",
       "    <tr>\n",
       "      <th>4</th>\n",
       "      <td>004a6304-0523-477e-ad32-90215c977dca_ENSG00000...</td>\n",
       "      <td>77</td>\n",
       "      <td>ENSG00000127603_77</td>\n",
       "      <td>ENSG00000127603_39</td>\n",
       "      <td>39</td>\n",
       "      <td>ENSG00000127603_36</td>\n",
       "      <td>36.0</td>\n",
       "      <td>ENSG00000127603</td>\n",
       "      <td>MACF1</td>\n",
       "      <td>004a6304-0523-477e-ad32-90215c977dca_ENSG00000...</td>\n",
       "      <td>[39,77,36]</td>\n",
       "      <td>ENSG00000127603[39,77,36]</td>\n",
       "      <td>MACF1[39,77,36]</td>\n",
       "      <td>False</td>\n",
       "      <td>False</td>\n",
       "      <td>gtex</td>\n",
       "      <td>ISM</td>\n",
       "      <td>Known</td>\n",
       "      <td>Known</td>\n",
       "    </tr>\n",
       "  </tbody>\n",
       "</table>\n",
       "</div>"
      ],
      "text/plain": [
       "                              original_transcript_id  ic               ic_id  \\\n",
       "0  0016cd97-0137-4194-9821-910931c6e972_ENSG00000...  22  ENSG00000086015_22   \n",
       "1  001eea3f-368c-444f-96c0-539cb2204403_ENSG00000...  28  ENSG00000162736_28   \n",
       "2  0039fbf5-7334-40e1-a1a9-2aa34b6e009c_ENSG00000...  23  ENSG00000084072_23   \n",
       "3  003cbbd1-0cb2-43d0-ba48-daabd4d7d518_ENSG00000...  13  ENSG00000137965_13   \n",
       "4  004a6304-0523-477e-ad32-90215c977dca_ENSG00000...  77  ENSG00000127603_77   \n",
       "\n",
       "               tss_id  tss              tes_id   tes          gene_id  \\\n",
       "0   ENSG00000086015_5    5   ENSG00000086015_1   1.0  ENSG00000086015   \n",
       "1   ENSG00000162736_1    1   ENSG00000162736_1   1.0  ENSG00000162736   \n",
       "2   ENSG00000084072_1    1   ENSG00000084072_3   3.0  ENSG00000084072   \n",
       "3   ENSG00000137965_1    1   ENSG00000137965_1   1.0  ENSG00000137965   \n",
       "4  ENSG00000127603_39   39  ENSG00000127603_36  36.0  ENSG00000127603   \n",
       "\n",
       "  gene_name                           original_transcript_name  \\\n",
       "0     MAST2  0016cd97-0137-4194-9821-910931c6e972_ENSG00000...   \n",
       "1     NCSTN  001eea3f-368c-444f-96c0-539cb2204403_ENSG00000...   \n",
       "2      PPIE  0039fbf5-7334-40e1-a1a9-2aa34b6e009c_ENSG00000...   \n",
       "3     IFI44  003cbbd1-0cb2-43d0-ba48-daabd4d7d518_ENSG00000...   \n",
       "4     MACF1  004a6304-0523-477e-ad32-90215c977dca_ENSG00000...   \n",
       "\n",
       "  transcript_triplet              transcript_id  transcript_name  \\\n",
       "0           [5,22,1]    ENSG00000086015[5,22,1]    MAST2[5,22,1]   \n",
       "1           [1,28,1]    ENSG00000162736[1,28,1]    NCSTN[1,28,1]   \n",
       "2           [1,23,3]    ENSG00000084072[1,23,3]     PPIE[1,23,3]   \n",
       "3           [1,13,1]    ENSG00000137965[1,13,1]    IFI44[1,13,1]   \n",
       "4         [39,77,36]  ENSG00000127603[39,77,36]  MACF1[39,77,36]   \n",
       "\n",
       "  tss_first_sd_issue tes_last_sa_issue source ic_novelty tss_novelty  \\\n",
       "0              False             False   gtex        NIC       Known   \n",
       "1              False             False   gtex        NIC       Known   \n",
       "2              False             False   gtex        NIC       Known   \n",
       "3              False             False   gtex        NIC       Known   \n",
       "4              False             False   gtex        ISM       Known   \n",
       "\n",
       "  tes_novelty  \n",
       "0       Known  \n",
       "1       Known  \n",
       "2       Known  \n",
       "3       Known  \n",
       "4       Known  "
      ]
     },
     "execution_count": 49,
     "metadata": {},
     "output_type": "execute_result"
    }
   ],
   "source": [
    "df.head()"
   ]
  },
  {
   "cell_type": "code",
   "execution_count": 50,
   "id": "71d9125c-4e02-4510-b4be-c0b7636d1ed2",
   "metadata": {},
   "outputs": [],
   "source": [
    "# limit to polya\n",
    "if gene_subset:\n",
    "    gene_df, _, _ = get_gtf_info(how='gene',\n",
    "                                 ver=ver,\n",
    "                                 add_stable_gid=True)\n",
    "    gene_df = gene_df[['gid_stable', 'biotype']]\n",
    "    df = df.merge(gene_df, how='left',\n",
    "                    left_on='gene_id', right_on='gid_stable')\n",
    "    df = df.loc[df.biotype.isin(get_polya_cats())]\n",
    "    df.drop(['gid_stable', 'biotype'], axis=1, inplace=True)"
   ]
  },
  {
   "cell_type": "code",
   "execution_count": 51,
   "id": "b62d7d6b-f885-44e0-a068-60fa81adfbff",
   "metadata": {},
   "outputs": [],
   "source": [
    "df.to_csv('cerberus_transcript_novelty.tsv', sep='\\t', index=False, mode='a', header=False)"
   ]
  },
  {
   "cell_type": "code",
   "execution_count": null,
   "id": "5c84b616-cf96-475b-9933-aed532f11075",
   "metadata": {},
   "outputs": [],
   "source": []
  },
  {
   "cell_type": "markdown",
   "id": "44c973f1-32a3-4485-905c-462985d6cf6d",
   "metadata": {},
   "source": [
    "## Make sure everything looks ok"
   ]
  },
  {
   "cell_type": "code",
   "execution_count": 4,
   "id": "3606d5e0-dd5a-4e11-ac0b-2dc9b8d4b79e",
   "metadata": {},
   "outputs": [],
   "source": [
    "df = pd.read_csv('cerberus_transcript_novelty.tsv', sep='\\t')"
   ]
  },
  {
   "cell_type": "code",
   "execution_count": 56,
   "id": "30ae938a-78ad-4be1-b2ca-62956ae45a8a",
   "metadata": {},
   "outputs": [
    {
     "data": {
      "text/plain": [
       "206806"
      ]
     },
     "execution_count": 56,
     "metadata": {},
     "output_type": "execute_result"
    }
   ],
   "source": [
    "len(df.loc[df.source=='lapa', 'transcript_id'].unique().tolist())"
   ]
  },
  {
   "cell_type": "code",
   "execution_count": 57,
   "id": "a24242aa-31ce-40ba-8c34-3ea342754cb8",
   "metadata": {},
   "outputs": [
    {
     "data": {
      "text/plain": [
       "87014"
      ]
     },
     "execution_count": 57,
     "metadata": {},
     "output_type": "execute_result"
    }
   ],
   "source": [
    "len(df.loc[df.source=='gtex', 'transcript_id'].unique().tolist())"
   ]
  },
  {
   "cell_type": "code",
   "execution_count": 6,
   "id": "6ad9eb78-442c-4b88-9319-725b7e5850ca",
   "metadata": {},
   "outputs": [
    {
     "data": {
      "text/plain": [
       "267923"
      ]
     },
     "execution_count": 6,
     "metadata": {},
     "output_type": "execute_result"
    }
   ],
   "source": [
    "len(df.transcript_id.unique().tolist())"
   ]
  },
  {
   "cell_type": "code",
   "execution_count": null,
   "id": "dac70abe-3ea3-4b90-a267-93dcd64e92ab",
   "metadata": {},
   "outputs": [],
   "source": []
  }
 ],
 "metadata": {
  "kernelspec": {
   "display_name": "Python 3",
   "language": "python",
   "name": "python3"
  },
  "language_info": {
   "codemirror_mode": {
    "name": "ipython",
    "version": 3
   },
   "file_extension": ".py",
   "mimetype": "text/x-python",
   "name": "python",
   "nbconvert_exporter": "python",
   "pygments_lexer": "ipython3",
   "version": "3.7.4"
  }
 },
 "nbformat": 4,
 "nbformat_minor": 5
}
