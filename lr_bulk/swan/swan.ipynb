{
 "cells": [
  {
   "cell_type": "code",
   "execution_count": 1,
   "id": "collected-microwave",
   "metadata": {},
   "outputs": [],
   "source": [
    "import pandas as pd\n",
    "import numpy as np\n",
    "import scipy.stats as st\n",
    "import seaborn as sns\n",
    "import sys\n",
    "import os\n",
    "import gseapy as gp\n",
    "import swan_vis as swan\n",
    "from scipy import sparse\n",
    "import pyranges.pyranges as pr\n",
    "import pyranges as pyranges\n",
    "\n",
    "p = os.path.dirname(os.path.dirname(os.getcwd()))\n",
    "sys.path.append(p)\n",
    "\n",
    "from scripts.utils import *\n",
    "from scripts.plotting import *"
   ]
  },
  {
   "cell_type": "markdown",
   "id": "plastic-bachelor",
   "metadata": {},
   "source": [
    "## Create SwanGraph"
   ]
  },
  {
   "cell_type": "code",
   "execution_count": 2,
   "id": "promising-vinyl",
   "metadata": {},
   "outputs": [],
   "source": [
    "annot = '../../refs/gencode_v29_sirv4_ercc.gtf'\n",
    "ab = '../talon/human_talon_abundance_filtered.tsv'\n",
    "gtf = '../talon/human_known_nic_nnc_talon.gtf'"
   ]
  },
  {
   "cell_type": "code",
   "execution_count": 3,
   "id": "frank-console",
   "metadata": {},
   "outputs": [],
   "source": [
    "sg = swan.SwanGraph()\n",
    "sg.add_annotation(annot)\n",
    "sg.add_transcriptome(gtf)\n",
    "sg.add_abundance(ab)"
   ]
  },
  {
   "cell_type": "code",
   "execution_count": 5,
   "id": "collaborative-police",
   "metadata": {},
   "outputs": [
    {
     "name": "stdout",
     "output_type": "stream",
     "text": [
      "Saving graph as swan.p\n"
     ]
    }
   ],
   "source": [
    "sg.save_graph('swan')"
   ]
  },
  {
   "cell_type": "markdown",
   "id": "facial-petite",
   "metadata": {},
   "source": [
    "## Get metadata"
   ]
  },
  {
   "cell_type": "code",
   "execution_count": 32,
   "id": "after-result",
   "metadata": {},
   "outputs": [
    {
     "name": "stdout",
     "output_type": "stream",
     "text": [
      "Read in graph from swan.p\n",
      "Found 31 total samples\n"
     ]
    }
   ],
   "source": [
    "sg = swan.read('swan.p')\n",
    "meta = sg.adata.obs.copy(deep=True)\n",
    "meta.reset_index(inplace=True, drop=True)\n",
    "meta['sample'] = meta.dataset.str.rsplit('_', n=2, expand=True)[0]\n",
    "\n",
    "tissue_df = get_tissue_metadata()\n",
    "tissue_df = tissue_df[['tissue', 'biosample']]\n",
    "tissue_df.rename({'biosample': 'sample'}, axis=1, inplace=True)\n",
    "\n",
    "meta = meta.merge(tissue_df, how='left', on='sample')\n",
    "meta.head()\n",
    "meta['classification'] = 'tissue'\n",
    "meta.loc[meta.tissue.isnull(), 'classification'] = 'cell_line'\n",
    "\n",
    "meta.loc[meta.tissue.isnull(), 'tissue'] = meta.loc[meta.tissue.isnull(), 'sample']\n",
    "meta.drop('sample', axis=1, inplace=True)\n",
    "meta.rename({'tissue': 'sample'}, axis=1, inplace=True)\n",
    "\n",
    "print('Found {} total samples'.format(len(meta['sample'].unique().tolist())))"
   ]
  },
  {
   "cell_type": "code",
   "execution_count": 34,
   "id": "naval-prefix",
   "metadata": {},
   "outputs": [],
   "source": [
    "meta.to_csv('swan_metadata.tsv', sep='\\t', index=False)"
   ]
  },
  {
   "cell_type": "markdown",
   "id": "artificial-minneapolis",
   "metadata": {},
   "source": [
    "## Add metadata"
   ]
  },
  {
   "cell_type": "code",
   "execution_count": 35,
   "id": "owned-switch",
   "metadata": {},
   "outputs": [
    {
     "name": "stdout",
     "output_type": "stream",
     "text": [
      "Read in graph from swan.p\n"
     ]
    }
   ],
   "source": [
    "sg = swan.read('swan.p')"
   ]
  },
  {
   "cell_type": "code",
   "execution_count": 36,
   "id": "threatened-boulder",
   "metadata": {},
   "outputs": [
    {
     "name": "stdout",
     "output_type": "stream",
     "text": [
      "Saving graph as swan.p\n"
     ]
    },
    {
     "name": "stderr",
     "output_type": "stream",
     "text": [
      "/Users/fairliereese/miniconda3/lib/python3.7/site-packages/anndata/_core/anndata.py:794: UserWarning: \n",
      "AnnData expects .obs.index to contain strings, but got values like:\n",
      "    [0, 1, 2, 3, 4]\n",
      "\n",
      "    Inferred to be: integer\n",
      "\n",
      "  value_idx = self._prep_dim_index(value.index, attr)\n"
     ]
    }
   ],
   "source": [
    "meta = 'swan_metadata.tsv'\n",
    "sg.add_metadata('swan_metadata.tsv')\n",
    "\n",
    "# colors\n",
    "c_dict, order = get_biosample_colors()\n",
    "sg.set_metadata_colors('sample', c_dict)\n",
    "\n",
    "sg.save_graph('swan')"
   ]
  },
  {
   "cell_type": "markdown",
   "id": "f5dc60ef-01c2-4eef-bac4-883c8c59b388",
   "metadata": {},
   "source": [
    "## Observed intron chain, TSS, TES "
   ]
  },
  {
   "cell_type": "code",
   "execution_count": 1,
   "id": "90cb2c52-8ebb-4a03-a181-2bfe7563f638",
   "metadata": {},
   "outputs": [],
   "source": [
    "import pandas as pd\n",
    "import numpy as np\n",
    "import scipy.stats as st\n",
    "import seaborn as sns\n",
    "import sys\n",
    "import os\n",
    "import gseapy as gp\n",
    "import swan_vis as swan\n",
    "from scipy import sparse\n",
    "import pyranges.pyranges as pr\n",
    "import pyranges as pyranges\n",
    "\n",
    "p = os.path.dirname(os.path.dirname(os.getcwd()))\n",
    "sys.path.append(p)\n",
    "\n",
    "from scripts.utils import *\n",
    "from scripts.plotting import *"
   ]
  },
  {
   "cell_type": "code",
   "execution_count": 2,
   "id": "3c452229-774d-4a83-aac3-9f859b5cf00e",
   "metadata": {},
   "outputs": [
    {
     "name": "stdout",
     "output_type": "stream",
     "text": [
      "Read in graph from swan.p\n"
     ]
    }
   ],
   "source": [
    "sg = swan.read('swan.p')"
   ]
  },
  {
   "cell_type": "code",
   "execution_count": 3,
   "id": "adf2f6c6-2218-44b4-811c-c32165cde4b2",
   "metadata": {},
   "outputs": [
    {
     "name": "stdout",
     "output_type": "stream",
     "text": [
      "Calculating iso TPM values\n",
      "Warning: using old hr_to_biosample_type, is this OK?\n",
      "Subsetting for polya genes\n",
      "Enforcing minimum TPM\n",
      "Total # isos detected: 156027\n",
      "# isos >= 1 tpm: 141390\n",
      "Applying gene type and novelty subset\n",
      "Number of isos reported: 129369\n"
     ]
    }
   ],
   "source": [
    "# get list of detected filtered isoforms\n",
    "df = pd.read_csv('../talon/human_talon_abundance_filtered.tsv', sep='\\t')\n",
    "df, inds = get_tpm_table(df,\n",
    "                   how='iso',\n",
    "                   min_tpm=1,\n",
    "                   gene_subset='polya')"
   ]
  },
  {
   "cell_type": "code",
   "execution_count": 4,
   "id": "10751b3c-b279-4f56-9cb2-5acc5d65cf16",
   "metadata": {},
   "outputs": [],
   "source": [
    "verbose=False\n",
    "novel_tids = inds \n",
    "annot_slack = 200\n",
    "novel_slack = 100\n",
    "verbose=True"
   ]
  },
  {
   "cell_type": "code",
   "execution_count": 5,
   "id": "39078dc1-8f9e-45ff-98d5-b456de448dfe",
   "metadata": {},
   "outputs": [
    {
     "name": "stdout",
     "output_type": "stream",
     "text": [
      "\n",
      "Finding tsss for 206761 annotated transcripts\n",
      "Found 136738 annotated tss clusters\n",
      "Finding tsss for 24066 novel transcripts\n",
      "Found 10621 novel tsss that are already in the annotation\n",
      "Finding tsss for 4000 novel ends\n",
      "Found 3887 novel tss clusters\n",
      "9 new tss regions overlap annotated regions\n",
      "\n",
      "Finding tess for 206761 annotated transcripts\n",
      "Found 137966 annotated tes clusters\n",
      "Finding tess for 24066 novel transcripts\n",
      "Found 9039 novel tess that are already in the annotation\n",
      "Finding tess for 2600 novel ends\n",
      "Found 2554 novel tes clusters\n",
      "0 new tes regions overlap annotated regions\n"
     ]
    }
   ],
   "source": [
    "all_df, end_regions, annot_counts, all_counts, obs_counts = get_ic_tss_tes(sg, novel_tids=novel_tids, \n",
    "                               annot_slack=annot_slack,\n",
    "                               novel_slack=novel_slack,\n",
    "                               verbose=verbose)"
   ]
  },
  {
   "cell_type": "code",
   "execution_count": 41,
   "id": "0a311fff-cdbe-4e51-9ca9-9df0c4a0b8b4",
   "metadata": {},
   "outputs": [
    {
     "name": "stdout",
     "output_type": "stream",
     "text": [
      "Calculating iso TPM values\n",
      "Warning: using old hr_to_biosample_type, is this OK?\n",
      "Subsetting for novelty categories ['Known', 'NIC', 'NNC']\n",
      "Subsetting for polya genes\n",
      "Enforcing minimum TPM\n",
      "Total # isos detected: 156027\n",
      "# isos >= 1 tpm: 141390\n",
      "Applying gene type and novelty subset\n",
      "Number of isos reported: 92963\n",
      "Found 31 total samples\n"
     ]
    }
   ],
   "source": [
    "# get triplets for each sample individually\n",
    "df = pd.read_csv('../talon/human_talon_abundance_filtered.tsv', sep='\\t')\n",
    "df = get_det_table(df,\n",
    "                   how='iso',\n",
    "                   min_tpm=1,\n",
    "                   groupby='sample', \n",
    "                   nov=['Known', 'NIC', 'NNC'])"
   ]
  },
  {
   "cell_type": "code",
   "execution_count": 56,
   "id": "e2986a22-7402-4691-9148-682bccebc0f2",
   "metadata": {},
   "outputs": [],
   "source": [
    "# get list of detected transcripts for each sample\n",
    "counts = pd.DataFrame()\n",
    "for ind, entry in df.iterrows():\n",
    "    entry = entry.to_frame()\n",
    "    tids = entry.loc[entry[ind] == True].index.tolist()\n",
    "    \n",
    "    temp = count_tss_ic_tes(all_df, subset=tids)\n",
    "    temp['sample'] = ind\n",
    "    counts = pd.concat([counts, temp])"
   ]
  },
  {
   "cell_type": "code",
   "execution_count": 58,
   "id": "315abe37-ce1d-4d5c-bbe0-d607993ae843",
   "metadata": {},
   "outputs": [],
   "source": [
    "counts['spl_ratio'] = counts.intron_chain/((counts.tss+counts.tes)/2)"
   ]
  },
  {
   "cell_type": "code",
   "execution_count": 86,
   "id": "1484f931-58d9-4f01-8bd7-83ea8b07c016",
   "metadata": {},
   "outputs": [],
   "source": [
    "def plot_gene_ternary(counts, gene):\n",
    "    # ternary plot\n",
    "    temp = counts.loc[counts.gname == gene]\n",
    "    temp['color'] = 'color'\n",
    "\n",
    "    c_dict, _ = get_biosample_colors()\n",
    "    fig = px.scatter_ternary(temp,\n",
    "                             a='spl_ratio',\n",
    "                             b='tss',\n",
    "                             c='tes',\n",
    "                             hover_name='sample', \n",
    "                             color='sample',\n",
    "                             color_discrete_map=c_dict,\n",
    "                             title=gene)\n",
    "    # fig.update_layout(title_text=gene, title_x=0.435)\n",
    "    fig.show()"
   ]
  },
  {
   "cell_type": "code",
   "execution_count": 87,
   "id": "f5d4d317-bc5a-4c4d-92d5-820fc2f6b445",
   "metadata": {},
   "outputs": [
    {
     "data": {
      "application/vnd.plotly.v1+json": {
       "config": {
        "plotlyServerURL": "https://plot.ly"
       },
       "data": [
        {
         "a": [
          2.8
         ],
         "b": [
          2
         ],
         "c": [
          3
         ],
         "hovertemplate": "<b>%{hovertext}</b><br><br>sample=adipose<br>spl_ratio=%{a}<br>tss=%{b}<br>tes=%{c}<extra></extra>",
         "hovertext": [
          "adipose"
         ],
         "legendgroup": "adipose",
         "marker": {
          "color": "#e69b00",
          "symbol": "circle"
         },
         "mode": "markers",
         "name": "adipose",
         "showlegend": true,
         "subplot": "ternary",
         "type": "scatterternary"
        },
        {
         "a": [
          1
         ],
         "b": [
          1
         ],
         "c": [
          1
         ],
         "hovertemplate": "<b>%{hovertext}</b><br><br>sample=adrenal gland<br>spl_ratio=%{a}<br>tss=%{b}<br>tes=%{c}<extra></extra>",
         "hovertext": [
          "adrenal gland"
         ],
         "legendgroup": "adrenal gland",
         "marker": {
          "color": "#2f357c",
          "symbol": "circle"
         },
         "mode": "markers",
         "name": "adrenal gland",
         "showlegend": true,
         "subplot": "ternary",
         "type": "scatterternary"
        },
        {
         "a": [
          4.8
         ],
         "b": [
          2
         ],
         "c": [
          3
         ],
         "hovertemplate": "<b>%{hovertext}</b><br><br>sample=colon<br>spl_ratio=%{a}<br>tss=%{b}<br>tes=%{c}<extra></extra>",
         "hovertext": [
          "colon"
         ],
         "legendgroup": "colon",
         "marker": {
          "color": "#e48171",
          "symbol": "circle"
         },
         "mode": "markers",
         "name": "colon",
         "showlegend": true,
         "subplot": "ternary",
         "type": "scatterternary"
        },
        {
         "a": [
          53.6
         ],
         "b": [
          2
         ],
         "c": [
          3
         ],
         "hovertemplate": "<b>%{hovertext}</b><br><br>sample=h9_chondro<br>spl_ratio=%{a}<br>tss=%{b}<br>tes=%{c}<extra></extra>",
         "hovertext": [
          "h9_chondro"
         ],
         "legendgroup": "h9_chondro",
         "marker": {
          "color": "#C2856A",
          "symbol": "circle"
         },
         "mode": "markers",
         "name": "h9_chondro",
         "showlegend": true,
         "subplot": "ternary",
         "type": "scatterternary"
        },
        {
         "a": [
          13.666666666666666
         ],
         "b": [
          2
         ],
         "c": [
          4
         ],
         "hovertemplate": "<b>%{hovertext}</b><br><br>sample=heart<br>spl_ratio=%{a}<br>tss=%{b}<br>tes=%{c}<extra></extra>",
         "hovertext": [
          "heart"
         ],
         "legendgroup": "heart",
         "marker": {
          "color": "#b0799a",
          "symbol": "circle"
         },
         "mode": "markers",
         "name": "heart",
         "showlegend": true,
         "subplot": "ternary",
         "type": "scatterternary"
        },
        {
         "a": [
          1
         ],
         "b": [
          2
         ],
         "c": [
          2
         ],
         "hovertemplate": "<b>%{hovertext}</b><br><br>sample=hffc6<br>spl_ratio=%{a}<br>tss=%{b}<br>tes=%{c}<extra></extra>",
         "hovertext": [
          "hffc6"
         ],
         "legendgroup": "hffc6",
         "marker": {
          "color": "#B38711",
          "symbol": "circle"
         },
         "mode": "markers",
         "name": "hffc6",
         "showlegend": true,
         "subplot": "ternary",
         "type": "scatterternary"
        },
        {
         "a": [
          3
         ],
         "b": [
          1
         ],
         "c": [
          1
         ],
         "hovertemplate": "<b>%{hovertext}</b><br><br>sample=imr90<br>spl_ratio=%{a}<br>tss=%{b}<br>tes=%{c}<extra></extra>",
         "hovertext": [
          "imr90"
         ],
         "legendgroup": "imr90",
         "marker": {
          "color": "#CBAB49",
          "symbol": "circle"
         },
         "mode": "markers",
         "name": "imr90",
         "showlegend": true,
         "subplot": "ternary",
         "type": "scatterternary"
        },
        {
         "a": [
          2.4
         ],
         "b": [
          2
         ],
         "c": [
          3
         ],
         "hovertemplate": "<b>%{hovertext}</b><br><br>sample=kidney<br>spl_ratio=%{a}<br>tss=%{b}<br>tes=%{c}<extra></extra>",
         "hovertext": [
          "kidney"
         ],
         "legendgroup": "kidney",
         "marker": {
          "color": "#f6b3b0",
          "symbol": "circle"
         },
         "mode": "markers",
         "name": "kidney",
         "showlegend": true,
         "subplot": "ternary",
         "type": "scatterternary"
        },
        {
         "a": [
          2
         ],
         "b": [
          2
         ],
         "c": [
          2
         ],
         "hovertemplate": "<b>%{hovertext}</b><br><br>sample=liver<br>spl_ratio=%{a}<br>tss=%{b}<br>tes=%{c}<extra></extra>",
         "hovertext": [
          "liver"
         ],
         "legendgroup": "liver",
         "marker": {
          "color": "#ada43b",
          "symbol": "circle"
         },
         "mode": "markers",
         "name": "liver",
         "showlegend": true,
         "subplot": "ternary",
         "type": "scatterternary"
        },
        {
         "a": [
          7.2
         ],
         "b": [
          2
         ],
         "c": [
          3
         ],
         "hovertemplate": "<b>%{hovertext}</b><br><br>sample=lung<br>spl_ratio=%{a}<br>tss=%{b}<br>tes=%{c}<extra></extra>",
         "hovertext": [
          "lung"
         ],
         "legendgroup": "lung",
         "marker": {
          "color": "#bf3729",
          "symbol": "circle"
         },
         "mode": "markers",
         "name": "lung",
         "showlegend": true,
         "subplot": "ternary",
         "type": "scatterternary"
        },
        {
         "a": [
          2
         ],
         "b": [
          2
         ],
         "c": [
          3
         ],
         "hovertemplate": "<b>%{hovertext}</b><br><br>sample=muscle<br>spl_ratio=%{a}<br>tss=%{b}<br>tes=%{c}<extra></extra>",
         "hovertext": [
          "muscle"
         ],
         "legendgroup": "muscle",
         "marker": {
          "color": "#17154f",
          "symbol": "circle"
         },
         "mode": "markers",
         "name": "muscle",
         "showlegend": true,
         "subplot": "ternary",
         "type": "scatterternary"
        },
        {
         "a": [
          2.8
         ],
         "b": [
          2
         ],
         "c": [
          3
         ],
         "hovertemplate": "<b>%{hovertext}</b><br><br>sample=ovary<br>spl_ratio=%{a}<br>tss=%{b}<br>tes=%{c}<extra></extra>",
         "hovertext": [
          "ovary"
         ],
         "legendgroup": "ovary",
         "marker": {
          "color": "#f5bb50",
          "symbol": "circle"
         },
         "mode": "markers",
         "name": "ovary",
         "showlegend": true,
         "subplot": "ternary",
         "type": "scatterternary"
        },
        {
         "a": [
          2
         ],
         "b": [
          1
         ],
         "c": [
          1
         ],
         "hovertemplate": "<b>%{hovertext}</b><br><br>sample=pgp1_astro<br>spl_ratio=%{a}<br>tss=%{b}<br>tes=%{c}<extra></extra>",
         "hovertext": [
          "pgp1_astro"
         ],
         "legendgroup": "pgp1_astro",
         "marker": {
          "color": "#CB7456",
          "symbol": "circle"
         },
         "mode": "markers",
         "name": "pgp1_astro",
         "showlegend": true,
         "subplot": "ternary",
         "type": "scatterternary"
        },
        {
         "a": [
          2
         ],
         "b": [
          2
         ],
         "c": [
          2
         ],
         "hovertemplate": "<b>%{hovertext}</b><br><br>sample=pgp1_endo<br>spl_ratio=%{a}<br>tss=%{b}<br>tes=%{c}<extra></extra>",
         "hovertext": [
          "pgp1_endo"
         ],
         "legendgroup": "pgp1_endo",
         "marker": {
          "color": "#C16F5F",
          "symbol": "circle"
         },
         "mode": "markers",
         "name": "pgp1_endo",
         "showlegend": true,
         "subplot": "ternary",
         "type": "scatterternary"
        },
        {
         "a": [
          9.11111111111111
         ],
         "b": [
          3
         ],
         "c": [
          6
         ],
         "hovertemplate": "<b>%{hovertext}</b><br><br>sample=vessels<br>spl_ratio=%{a}<br>tss=%{b}<br>tes=%{c}<extra></extra>",
         "hovertext": [
          "vessels"
         ],
         "legendgroup": "vessels",
         "marker": {
          "color": "#6c5d9e",
          "symbol": "circle"
         },
         "mode": "markers",
         "name": "vessels",
         "showlegend": true,
         "subplot": "ternary",
         "type": "scatterternary"
        }
       ],
       "layout": {
        "autosize": true,
        "legend": {
         "title": {
          "text": "sample"
         },
         "tracegroupgap": 0
        },
        "template": {
         "data": {
          "bar": [
           {
            "error_x": {
             "color": "#2a3f5f"
            },
            "error_y": {
             "color": "#2a3f5f"
            },
            "marker": {
             "line": {
              "color": "#E5ECF6",
              "width": 0.5
             },
             "pattern": {
              "fillmode": "overlay",
              "size": 10,
              "solidity": 0.2
             }
            },
            "type": "bar"
           }
          ],
          "barpolar": [
           {
            "marker": {
             "line": {
              "color": "#E5ECF6",
              "width": 0.5
             },
             "pattern": {
              "fillmode": "overlay",
              "size": 10,
              "solidity": 0.2
             }
            },
            "type": "barpolar"
           }
          ],
          "carpet": [
           {
            "aaxis": {
             "endlinecolor": "#2a3f5f",
             "gridcolor": "white",
             "linecolor": "white",
             "minorgridcolor": "white",
             "startlinecolor": "#2a3f5f"
            },
            "baxis": {
             "endlinecolor": "#2a3f5f",
             "gridcolor": "white",
             "linecolor": "white",
             "minorgridcolor": "white",
             "startlinecolor": "#2a3f5f"
            },
            "type": "carpet"
           }
          ],
          "choropleth": [
           {
            "colorbar": {
             "outlinewidth": 0,
             "ticks": ""
            },
            "type": "choropleth"
           }
          ],
          "contour": [
           {
            "colorbar": {
             "outlinewidth": 0,
             "ticks": ""
            },
            "colorscale": [
             [
              0,
              "#0d0887"
             ],
             [
              0.1111111111111111,
              "#46039f"
             ],
             [
              0.2222222222222222,
              "#7201a8"
             ],
             [
              0.3333333333333333,
              "#9c179e"
             ],
             [
              0.4444444444444444,
              "#bd3786"
             ],
             [
              0.5555555555555556,
              "#d8576b"
             ],
             [
              0.6666666666666666,
              "#ed7953"
             ],
             [
              0.7777777777777778,
              "#fb9f3a"
             ],
             [
              0.8888888888888888,
              "#fdca26"
             ],
             [
              1,
              "#f0f921"
             ]
            ],
            "type": "contour"
           }
          ],
          "contourcarpet": [
           {
            "colorbar": {
             "outlinewidth": 0,
             "ticks": ""
            },
            "type": "contourcarpet"
           }
          ],
          "heatmap": [
           {
            "colorbar": {
             "outlinewidth": 0,
             "ticks": ""
            },
            "colorscale": [
             [
              0,
              "#0d0887"
             ],
             [
              0.1111111111111111,
              "#46039f"
             ],
             [
              0.2222222222222222,
              "#7201a8"
             ],
             [
              0.3333333333333333,
              "#9c179e"
             ],
             [
              0.4444444444444444,
              "#bd3786"
             ],
             [
              0.5555555555555556,
              "#d8576b"
             ],
             [
              0.6666666666666666,
              "#ed7953"
             ],
             [
              0.7777777777777778,
              "#fb9f3a"
             ],
             [
              0.8888888888888888,
              "#fdca26"
             ],
             [
              1,
              "#f0f921"
             ]
            ],
            "type": "heatmap"
           }
          ],
          "heatmapgl": [
           {
            "colorbar": {
             "outlinewidth": 0,
             "ticks": ""
            },
            "colorscale": [
             [
              0,
              "#0d0887"
             ],
             [
              0.1111111111111111,
              "#46039f"
             ],
             [
              0.2222222222222222,
              "#7201a8"
             ],
             [
              0.3333333333333333,
              "#9c179e"
             ],
             [
              0.4444444444444444,
              "#bd3786"
             ],
             [
              0.5555555555555556,
              "#d8576b"
             ],
             [
              0.6666666666666666,
              "#ed7953"
             ],
             [
              0.7777777777777778,
              "#fb9f3a"
             ],
             [
              0.8888888888888888,
              "#fdca26"
             ],
             [
              1,
              "#f0f921"
             ]
            ],
            "type": "heatmapgl"
           }
          ],
          "histogram": [
           {
            "marker": {
             "pattern": {
              "fillmode": "overlay",
              "size": 10,
              "solidity": 0.2
             }
            },
            "type": "histogram"
           }
          ],
          "histogram2d": [
           {
            "colorbar": {
             "outlinewidth": 0,
             "ticks": ""
            },
            "colorscale": [
             [
              0,
              "#0d0887"
             ],
             [
              0.1111111111111111,
              "#46039f"
             ],
             [
              0.2222222222222222,
              "#7201a8"
             ],
             [
              0.3333333333333333,
              "#9c179e"
             ],
             [
              0.4444444444444444,
              "#bd3786"
             ],
             [
              0.5555555555555556,
              "#d8576b"
             ],
             [
              0.6666666666666666,
              "#ed7953"
             ],
             [
              0.7777777777777778,
              "#fb9f3a"
             ],
             [
              0.8888888888888888,
              "#fdca26"
             ],
             [
              1,
              "#f0f921"
             ]
            ],
            "type": "histogram2d"
           }
          ],
          "histogram2dcontour": [
           {
            "colorbar": {
             "outlinewidth": 0,
             "ticks": ""
            },
            "colorscale": [
             [
              0,
              "#0d0887"
             ],
             [
              0.1111111111111111,
              "#46039f"
             ],
             [
              0.2222222222222222,
              "#7201a8"
             ],
             [
              0.3333333333333333,
              "#9c179e"
             ],
             [
              0.4444444444444444,
              "#bd3786"
             ],
             [
              0.5555555555555556,
              "#d8576b"
             ],
             [
              0.6666666666666666,
              "#ed7953"
             ],
             [
              0.7777777777777778,
              "#fb9f3a"
             ],
             [
              0.8888888888888888,
              "#fdca26"
             ],
             [
              1,
              "#f0f921"
             ]
            ],
            "type": "histogram2dcontour"
           }
          ],
          "mesh3d": [
           {
            "colorbar": {
             "outlinewidth": 0,
             "ticks": ""
            },
            "type": "mesh3d"
           }
          ],
          "parcoords": [
           {
            "line": {
             "colorbar": {
              "outlinewidth": 0,
              "ticks": ""
             }
            },
            "type": "parcoords"
           }
          ],
          "pie": [
           {
            "automargin": true,
            "type": "pie"
           }
          ],
          "scatter": [
           {
            "marker": {
             "colorbar": {
              "outlinewidth": 0,
              "ticks": ""
             }
            },
            "type": "scatter"
           }
          ],
          "scatter3d": [
           {
            "line": {
             "colorbar": {
              "outlinewidth": 0,
              "ticks": ""
             }
            },
            "marker": {
             "colorbar": {
              "outlinewidth": 0,
              "ticks": ""
             }
            },
            "type": "scatter3d"
           }
          ],
          "scattercarpet": [
           {
            "marker": {
             "colorbar": {
              "outlinewidth": 0,
              "ticks": ""
             }
            },
            "type": "scattercarpet"
           }
          ],
          "scattergeo": [
           {
            "marker": {
             "colorbar": {
              "outlinewidth": 0,
              "ticks": ""
             }
            },
            "type": "scattergeo"
           }
          ],
          "scattergl": [
           {
            "marker": {
             "colorbar": {
              "outlinewidth": 0,
              "ticks": ""
             }
            },
            "type": "scattergl"
           }
          ],
          "scattermapbox": [
           {
            "marker": {
             "colorbar": {
              "outlinewidth": 0,
              "ticks": ""
             }
            },
            "type": "scattermapbox"
           }
          ],
          "scatterpolar": [
           {
            "marker": {
             "colorbar": {
              "outlinewidth": 0,
              "ticks": ""
             }
            },
            "type": "scatterpolar"
           }
          ],
          "scatterpolargl": [
           {
            "marker": {
             "colorbar": {
              "outlinewidth": 0,
              "ticks": ""
             }
            },
            "type": "scatterpolargl"
           }
          ],
          "scatterternary": [
           {
            "marker": {
             "colorbar": {
              "outlinewidth": 0,
              "ticks": ""
             }
            },
            "type": "scatterternary"
           }
          ],
          "surface": [
           {
            "colorbar": {
             "outlinewidth": 0,
             "ticks": ""
            },
            "colorscale": [
             [
              0,
              "#0d0887"
             ],
             [
              0.1111111111111111,
              "#46039f"
             ],
             [
              0.2222222222222222,
              "#7201a8"
             ],
             [
              0.3333333333333333,
              "#9c179e"
             ],
             [
              0.4444444444444444,
              "#bd3786"
             ],
             [
              0.5555555555555556,
              "#d8576b"
             ],
             [
              0.6666666666666666,
              "#ed7953"
             ],
             [
              0.7777777777777778,
              "#fb9f3a"
             ],
             [
              0.8888888888888888,
              "#fdca26"
             ],
             [
              1,
              "#f0f921"
             ]
            ],
            "type": "surface"
           }
          ],
          "table": [
           {
            "cells": {
             "fill": {
              "color": "#EBF0F8"
             },
             "line": {
              "color": "white"
             }
            },
            "header": {
             "fill": {
              "color": "#C8D4E3"
             },
             "line": {
              "color": "white"
             }
            },
            "type": "table"
           }
          ]
         },
         "layout": {
          "annotationdefaults": {
           "arrowcolor": "#2a3f5f",
           "arrowhead": 0,
           "arrowwidth": 1
          },
          "autotypenumbers": "strict",
          "coloraxis": {
           "colorbar": {
            "outlinewidth": 0,
            "ticks": ""
           }
          },
          "colorscale": {
           "diverging": [
            [
             0,
             "#8e0152"
            ],
            [
             0.1,
             "#c51b7d"
            ],
            [
             0.2,
             "#de77ae"
            ],
            [
             0.3,
             "#f1b6da"
            ],
            [
             0.4,
             "#fde0ef"
            ],
            [
             0.5,
             "#f7f7f7"
            ],
            [
             0.6,
             "#e6f5d0"
            ],
            [
             0.7,
             "#b8e186"
            ],
            [
             0.8,
             "#7fbc41"
            ],
            [
             0.9,
             "#4d9221"
            ],
            [
             1,
             "#276419"
            ]
           ],
           "sequential": [
            [
             0,
             "#0d0887"
            ],
            [
             0.1111111111111111,
             "#46039f"
            ],
            [
             0.2222222222222222,
             "#7201a8"
            ],
            [
             0.3333333333333333,
             "#9c179e"
            ],
            [
             0.4444444444444444,
             "#bd3786"
            ],
            [
             0.5555555555555556,
             "#d8576b"
            ],
            [
             0.6666666666666666,
             "#ed7953"
            ],
            [
             0.7777777777777778,
             "#fb9f3a"
            ],
            [
             0.8888888888888888,
             "#fdca26"
            ],
            [
             1,
             "#f0f921"
            ]
           ],
           "sequentialminus": [
            [
             0,
             "#0d0887"
            ],
            [
             0.1111111111111111,
             "#46039f"
            ],
            [
             0.2222222222222222,
             "#7201a8"
            ],
            [
             0.3333333333333333,
             "#9c179e"
            ],
            [
             0.4444444444444444,
             "#bd3786"
            ],
            [
             0.5555555555555556,
             "#d8576b"
            ],
            [
             0.6666666666666666,
             "#ed7953"
            ],
            [
             0.7777777777777778,
             "#fb9f3a"
            ],
            [
             0.8888888888888888,
             "#fdca26"
            ],
            [
             1,
             "#f0f921"
            ]
           ]
          },
          "colorway": [
           "#636efa",
           "#EF553B",
           "#00cc96",
           "#ab63fa",
           "#FFA15A",
           "#19d3f3",
           "#FF6692",
           "#B6E880",
           "#FF97FF",
           "#FECB52"
          ],
          "font": {
           "color": "#2a3f5f"
          },
          "geo": {
           "bgcolor": "white",
           "lakecolor": "white",
           "landcolor": "#E5ECF6",
           "showlakes": true,
           "showland": true,
           "subunitcolor": "white"
          },
          "hoverlabel": {
           "align": "left"
          },
          "hovermode": "closest",
          "mapbox": {
           "style": "light"
          },
          "paper_bgcolor": "white",
          "plot_bgcolor": "#E5ECF6",
          "polar": {
           "angularaxis": {
            "gridcolor": "white",
            "linecolor": "white",
            "ticks": ""
           },
           "bgcolor": "#E5ECF6",
           "radialaxis": {
            "gridcolor": "white",
            "linecolor": "white",
            "ticks": ""
           }
          },
          "scene": {
           "xaxis": {
            "backgroundcolor": "#E5ECF6",
            "gridcolor": "white",
            "gridwidth": 2,
            "linecolor": "white",
            "showbackground": true,
            "ticks": "",
            "zerolinecolor": "white"
           },
           "yaxis": {
            "backgroundcolor": "#E5ECF6",
            "gridcolor": "white",
            "gridwidth": 2,
            "linecolor": "white",
            "showbackground": true,
            "ticks": "",
            "zerolinecolor": "white"
           },
           "zaxis": {
            "backgroundcolor": "#E5ECF6",
            "gridcolor": "white",
            "gridwidth": 2,
            "linecolor": "white",
            "showbackground": true,
            "ticks": "",
            "zerolinecolor": "white"
           }
          },
          "shapedefaults": {
           "line": {
            "color": "#2a3f5f"
           }
          },
          "ternary": {
           "aaxis": {
            "gridcolor": "white",
            "linecolor": "white",
            "ticks": ""
           },
           "baxis": {
            "gridcolor": "white",
            "linecolor": "white",
            "ticks": ""
           },
           "bgcolor": "#E5ECF6",
           "caxis": {
            "gridcolor": "white",
            "linecolor": "white",
            "ticks": ""
           }
          },
          "title": {
           "x": 0.05
          },
          "xaxis": {
           "automargin": true,
           "gridcolor": "white",
           "linecolor": "white",
           "ticks": "",
           "title": {
            "standoff": 15
           },
           "zerolinecolor": "white",
           "zerolinewidth": 2
          },
          "yaxis": {
           "automargin": true,
           "gridcolor": "white",
           "linecolor": "white",
           "ticks": "",
           "title": {
            "standoff": 15
           },
           "zerolinecolor": "white",
           "zerolinewidth": 2
          }
         }
        },
        "ternary": {
         "aaxis": {
          "title": {
           "text": "spl_ratio"
          }
         },
         "baxis": {
          "title": {
           "text": "tss"
          }
         },
         "caxis": {
          "title": {
           "text": "tes"
          }
         },
         "domain": {
          "x": [
           0,
           1
          ],
          "y": [
           0,
           1
          ]
         }
        },
        "title": {
         "text": "ELN"
        }
       }
      },
      "image/png": "[encoded data removed]",
      "text/html": [
       "<div>                            <div id=\"4fe42ccb-e107-40c6-8476-5b44e29b2c3e\" class=\"plotly-graph-div\" style=\"height:525px; width:100%;\"></div>            <script type=\"text/javascript\">                require([\"plotly\"], function(Plotly) {                    window.PLOTLYENV=window.PLOTLYENV || {};                                    if (document.getElementById(\"4fe42ccb-e107-40c6-8476-5b44e29b2c3e\")) {                    Plotly.newPlot(                        \"4fe42ccb-e107-40c6-8476-5b44e29b2c3e\",                        [{\"a\":[2.8],\"b\":[2],\"c\":[3],\"hovertemplate\":\"<b>%{hovertext}</b><br><br>sample=adipose<br>spl_ratio=%{a}<br>tss=%{b}<br>tes=%{c}<extra></extra>\",\"hovertext\":[\"adipose\"],\"legendgroup\":\"adipose\",\"marker\":{\"color\":\"#e69b00\",\"symbol\":\"circle\"},\"mode\":\"markers\",\"name\":\"adipose\",\"showlegend\":true,\"subplot\":\"ternary\",\"type\":\"scatterternary\"},{\"a\":[1.0],\"b\":[1],\"c\":[1],\"hovertemplate\":\"<b>%{hovertext}</b><br><br>sample=adrenal gland<br>spl_ratio=%{a}<br>tss=%{b}<br>tes=%{c}<extra></extra>\",\"hovertext\":[\"adrenal gland\"],\"legendgroup\":\"adrenal gland\",\"marker\":{\"color\":\"#2f357c\",\"symbol\":\"circle\"},\"mode\":\"markers\",\"name\":\"adrenal gland\",\"showlegend\":true,\"subplot\":\"ternary\",\"type\":\"scatterternary\"},{\"a\":[4.8],\"b\":[2],\"c\":[3],\"hovertemplate\":\"<b>%{hovertext}</b><br><br>sample=colon<br>spl_ratio=%{a}<br>tss=%{b}<br>tes=%{c}<extra></extra>\",\"hovertext\":[\"colon\"],\"legendgroup\":\"colon\",\"marker\":{\"color\":\"#e48171\",\"symbol\":\"circle\"},\"mode\":\"markers\",\"name\":\"colon\",\"showlegend\":true,\"subplot\":\"ternary\",\"type\":\"scatterternary\"},{\"a\":[53.6],\"b\":[2],\"c\":[3],\"hovertemplate\":\"<b>%{hovertext}</b><br><br>sample=h9_chondro<br>spl_ratio=%{a}<br>tss=%{b}<br>tes=%{c}<extra></extra>\",\"hovertext\":[\"h9_chondro\"],\"legendgroup\":\"h9_chondro\",\"marker\":{\"color\":\"#C2856A\",\"symbol\":\"circle\"},\"mode\":\"markers\",\"name\":\"h9_chondro\",\"showlegend\":true,\"subplot\":\"ternary\",\"type\":\"scatterternary\"},{\"a\":[13.666666666666666],\"b\":[2],\"c\":[4],\"hovertemplate\":\"<b>%{hovertext}</b><br><br>sample=heart<br>spl_ratio=%{a}<br>tss=%{b}<br>tes=%{c}<extra></extra>\",\"hovertext\":[\"heart\"],\"legendgroup\":\"heart\",\"marker\":{\"color\":\"#b0799a\",\"symbol\":\"circle\"},\"mode\":\"markers\",\"name\":\"heart\",\"showlegend\":true,\"subplot\":\"ternary\",\"type\":\"scatterternary\"},{\"a\":[1.0],\"b\":[2],\"c\":[2],\"hovertemplate\":\"<b>%{hovertext}</b><br><br>sample=hffc6<br>spl_ratio=%{a}<br>tss=%{b}<br>tes=%{c}<extra></extra>\",\"hovertext\":[\"hffc6\"],\"legendgroup\":\"hffc6\",\"marker\":{\"color\":\"#B38711\",\"symbol\":\"circle\"},\"mode\":\"markers\",\"name\":\"hffc6\",\"showlegend\":true,\"subplot\":\"ternary\",\"type\":\"scatterternary\"},{\"a\":[3.0],\"b\":[1],\"c\":[1],\"hovertemplate\":\"<b>%{hovertext}</b><br><br>sample=imr90<br>spl_ratio=%{a}<br>tss=%{b}<br>tes=%{c}<extra></extra>\",\"hovertext\":[\"imr90\"],\"legendgroup\":\"imr90\",\"marker\":{\"color\":\"#CBAB49\",\"symbol\":\"circle\"},\"mode\":\"markers\",\"name\":\"imr90\",\"showlegend\":true,\"subplot\":\"ternary\",\"type\":\"scatterternary\"},{\"a\":[2.4],\"b\":[2],\"c\":[3],\"hovertemplate\":\"<b>%{hovertext}</b><br><br>sample=kidney<br>spl_ratio=%{a}<br>tss=%{b}<br>tes=%{c}<extra></extra>\",\"hovertext\":[\"kidney\"],\"legendgroup\":\"kidney\",\"marker\":{\"color\":\"#f6b3b0\",\"symbol\":\"circle\"},\"mode\":\"markers\",\"name\":\"kidney\",\"showlegend\":true,\"subplot\":\"ternary\",\"type\":\"scatterternary\"},{\"a\":[2.0],\"b\":[2],\"c\":[2],\"hovertemplate\":\"<b>%{hovertext}</b><br><br>sample=liver<br>spl_ratio=%{a}<br>tss=%{b}<br>tes=%{c}<extra></extra>\",\"hovertext\":[\"liver\"],\"legendgroup\":\"liver\",\"marker\":{\"color\":\"#ada43b\",\"symbol\":\"circle\"},\"mode\":\"markers\",\"name\":\"liver\",\"showlegend\":true,\"subplot\":\"ternary\",\"type\":\"scatterternary\"},{\"a\":[7.2],\"b\":[2],\"c\":[3],\"hovertemplate\":\"<b>%{hovertext}</b><br><br>sample=lung<br>spl_ratio=%{a}<br>tss=%{b}<br>tes=%{c}<extra></extra>\",\"hovertext\":[\"lung\"],\"legendgroup\":\"lung\",\"marker\":{\"color\":\"#bf3729\",\"symbol\":\"circle\"},\"mode\":\"markers\",\"name\":\"lung\",\"showlegend\":true,\"subplot\":\"ternary\",\"type\":\"scatterternary\"},{\"a\":[2.0],\"b\":[2],\"c\":[3],\"hovertemplate\":\"<b>%{hovertext}</b><br><br>sample=muscle<br>spl_ratio=%{a}<br>tss=%{b}<br>tes=%{c}<extra></extra>\",\"hovertext\":[\"muscle\"],\"legendgroup\":\"muscle\",\"marker\":{\"color\":\"#17154f\",\"symbol\":\"circle\"},\"mode\":\"markers\",\"name\":\"muscle\",\"showlegend\":true,\"subplot\":\"ternary\",\"type\":\"scatterternary\"},{\"a\":[2.8],\"b\":[2],\"c\":[3],\"hovertemplate\":\"<b>%{hovertext}</b><br><br>sample=ovary<br>spl_ratio=%{a}<br>tss=%{b}<br>tes=%{c}<extra></extra>\",\"hovertext\":[\"ovary\"],\"legendgroup\":\"ovary\",\"marker\":{\"color\":\"#f5bb50\",\"symbol\":\"circle\"},\"mode\":\"markers\",\"name\":\"ovary\",\"showlegend\":true,\"subplot\":\"ternary\",\"type\":\"scatterternary\"},{\"a\":[2.0],\"b\":[1],\"c\":[1],\"hovertemplate\":\"<b>%{hovertext}</b><br><br>sample=pgp1_astro<br>spl_ratio=%{a}<br>tss=%{b}<br>tes=%{c}<extra></extra>\",\"hovertext\":[\"pgp1_astro\"],\"legendgroup\":\"pgp1_astro\",\"marker\":{\"color\":\"#CB7456\",\"symbol\":\"circle\"},\"mode\":\"markers\",\"name\":\"pgp1_astro\",\"showlegend\":true,\"subplot\":\"ternary\",\"type\":\"scatterternary\"},{\"a\":[2.0],\"b\":[2],\"c\":[2],\"hovertemplate\":\"<b>%{hovertext}</b><br><br>sample=pgp1_endo<br>spl_ratio=%{a}<br>tss=%{b}<br>tes=%{c}<extra></extra>\",\"hovertext\":[\"pgp1_endo\"],\"legendgroup\":\"pgp1_endo\",\"marker\":{\"color\":\"#C16F5F\",\"symbol\":\"circle\"},\"mode\":\"markers\",\"name\":\"pgp1_endo\",\"showlegend\":true,\"subplot\":\"ternary\",\"type\":\"scatterternary\"},{\"a\":[9.11111111111111],\"b\":[3],\"c\":[6],\"hovertemplate\":\"<b>%{hovertext}</b><br><br>sample=vessels<br>spl_ratio=%{a}<br>tss=%{b}<br>tes=%{c}<extra></extra>\",\"hovertext\":[\"vessels\"],\"legendgroup\":\"vessels\",\"marker\":{\"color\":\"#6c5d9e\",\"symbol\":\"circle\"},\"mode\":\"markers\",\"name\":\"vessels\",\"showlegend\":true,\"subplot\":\"ternary\",\"type\":\"scatterternary\"}],                        {\"template\":{\"data\":{\"bar\":[{\"error_x\":{\"color\":\"#2a3f5f\"},\"error_y\":{\"color\":\"#2a3f5f\"},\"marker\":{\"line\":{\"color\":\"#E5ECF6\",\"width\":0.5},\"pattern\":{\"fillmode\":\"overlay\",\"size\":10,\"solidity\":0.2}},\"type\":\"bar\"}],\"barpolar\":[{\"marker\":{\"line\":{\"color\":\"#E5ECF6\",\"width\":0.5},\"pattern\":{\"fillmode\":\"overlay\",\"size\":10,\"solidity\":0.2}},\"type\":\"barpolar\"}],\"carpet\":[{\"aaxis\":{\"endlinecolor\":\"#2a3f5f\",\"gridcolor\":\"white\",\"linecolor\":\"white\",\"minorgridcolor\":\"white\",\"startlinecolor\":\"#2a3f5f\"},\"baxis\":{\"endlinecolor\":\"#2a3f5f\",\"gridcolor\":\"white\",\"linecolor\":\"white\",\"minorgridcolor\":\"white\",\"startlinecolor\":\"#2a3f5f\"},\"type\":\"carpet\"}],\"choropleth\":[{\"colorbar\":{\"outlinewidth\":0,\"ticks\":\"\"},\"type\":\"choropleth\"}],\"contour\":[{\"colorbar\":{\"outlinewidth\":0,\"ticks\":\"\"},\"colorscale\":[[0.0,\"#0d0887\"],[0.1111111111111111,\"#46039f\"],[0.2222222222222222,\"#7201a8\"],[0.3333333333333333,\"#9c179e\"],[0.4444444444444444,\"#bd3786\"],[0.5555555555555556,\"#d8576b\"],[0.6666666666666666,\"#ed7953\"],[0.7777777777777778,\"#fb9f3a\"],[0.8888888888888888,\"#fdca26\"],[1.0,\"#f0f921\"]],\"type\":\"contour\"}],\"contourcarpet\":[{\"colorbar\":{\"outlinewidth\":0,\"ticks\":\"\"},\"type\":\"contourcarpet\"}],\"heatmap\":[{\"colorbar\":{\"outlinewidth\":0,\"ticks\":\"\"},\"colorscale\":[[0.0,\"#0d0887\"],[0.1111111111111111,\"#46039f\"],[0.2222222222222222,\"#7201a8\"],[0.3333333333333333,\"#9c179e\"],[0.4444444444444444,\"#bd3786\"],[0.5555555555555556,\"#d8576b\"],[0.6666666666666666,\"#ed7953\"],[0.7777777777777778,\"#fb9f3a\"],[0.8888888888888888,\"#fdca26\"],[1.0,\"#f0f921\"]],\"type\":\"heatmap\"}],\"heatmapgl\":[{\"colorbar\":{\"outlinewidth\":0,\"ticks\":\"\"},\"colorscale\":[[0.0,\"#0d0887\"],[0.1111111111111111,\"#46039f\"],[0.2222222222222222,\"#7201a8\"],[0.3333333333333333,\"#9c179e\"],[0.4444444444444444,\"#bd3786\"],[0.5555555555555556,\"#d8576b\"],[0.6666666666666666,\"#ed7953\"],[0.7777777777777778,\"#fb9f3a\"],[0.8888888888888888,\"#fdca26\"],[1.0,\"#f0f921\"]],\"type\":\"heatmapgl\"}],\"histogram\":[{\"marker\":{\"pattern\":{\"fillmode\":\"overlay\",\"size\":10,\"solidity\":0.2}},\"type\":\"histogram\"}],\"histogram2d\":[{\"colorbar\":{\"outlinewidth\":0,\"ticks\":\"\"},\"colorscale\":[[0.0,\"#0d0887\"],[0.1111111111111111,\"#46039f\"],[0.2222222222222222,\"#7201a8\"],[0.3333333333333333,\"#9c179e\"],[0.4444444444444444,\"#bd3786\"],[0.5555555555555556,\"#d8576b\"],[0.6666666666666666,\"#ed7953\"],[0.7777777777777778,\"#fb9f3a\"],[0.8888888888888888,\"#fdca26\"],[1.0,\"#f0f921\"]],\"type\":\"histogram2d\"}],\"histogram2dcontour\":[{\"colorbar\":{\"outlinewidth\":0,\"ticks\":\"\"},\"colorscale\":[[0.0,\"#0d0887\"],[0.1111111111111111,\"#46039f\"],[0.2222222222222222,\"#7201a8\"],[0.3333333333333333,\"#9c179e\"],[0.4444444444444444,\"#bd3786\"],[0.5555555555555556,\"#d8576b\"],[0.6666666666666666,\"#ed7953\"],[0.7777777777777778,\"#fb9f3a\"],[0.8888888888888888,\"#fdca26\"],[1.0,\"#f0f921\"]],\"type\":\"histogram2dcontour\"}],\"mesh3d\":[{\"colorbar\":{\"outlinewidth\":0,\"ticks\":\"\"},\"type\":\"mesh3d\"}],\"parcoords\":[{\"line\":{\"colorbar\":{\"outlinewidth\":0,\"ticks\":\"\"}},\"type\":\"parcoords\"}],\"pie\":[{\"automargin\":true,\"type\":\"pie\"}],\"scatter\":[{\"marker\":{\"colorbar\":{\"outlinewidth\":0,\"ticks\":\"\"}},\"type\":\"scatter\"}],\"scatter3d\":[{\"line\":{\"colorbar\":{\"outlinewidth\":0,\"ticks\":\"\"}},\"marker\":{\"colorbar\":{\"outlinewidth\":0,\"ticks\":\"\"}},\"type\":\"scatter3d\"}],\"scattercarpet\":[{\"marker\":{\"colorbar\":{\"outlinewidth\":0,\"ticks\":\"\"}},\"type\":\"scattercarpet\"}],\"scattergeo\":[{\"marker\":{\"colorbar\":{\"outlinewidth\":0,\"ticks\":\"\"}},\"type\":\"scattergeo\"}],\"scattergl\":[{\"marker\":{\"colorbar\":{\"outlinewidth\":0,\"ticks\":\"\"}},\"type\":\"scattergl\"}],\"scattermapbox\":[{\"marker\":{\"colorbar\":{\"outlinewidth\":0,\"ticks\":\"\"}},\"type\":\"scattermapbox\"}],\"scatterpolar\":[{\"marker\":{\"colorbar\":{\"outlinewidth\":0,\"ticks\":\"\"}},\"type\":\"scatterpolar\"}],\"scatterpolargl\":[{\"marker\":{\"colorbar\":{\"outlinewidth\":0,\"ticks\":\"\"}},\"type\":\"scatterpolargl\"}],\"scatterternary\":[{\"marker\":{\"colorbar\":{\"outlinewidth\":0,\"ticks\":\"\"}},\"type\":\"scatterternary\"}],\"surface\":[{\"colorbar\":{\"outlinewidth\":0,\"ticks\":\"\"},\"colorscale\":[[0.0,\"#0d0887\"],[0.1111111111111111,\"#46039f\"],[0.2222222222222222,\"#7201a8\"],[0.3333333333333333,\"#9c179e\"],[0.4444444444444444,\"#bd3786\"],[0.5555555555555556,\"#d8576b\"],[0.6666666666666666,\"#ed7953\"],[0.7777777777777778,\"#fb9f3a\"],[0.8888888888888888,\"#fdca26\"],[1.0,\"#f0f921\"]],\"type\":\"surface\"}],\"table\":[{\"cells\":{\"fill\":{\"color\":\"#EBF0F8\"},\"line\":{\"color\":\"white\"}},\"header\":{\"fill\":{\"color\":\"#C8D4E3\"},\"line\":{\"color\":\"white\"}},\"type\":\"table\"}]},\"layout\":{\"annotationdefaults\":{\"arrowcolor\":\"#2a3f5f\",\"arrowhead\":0,\"arrowwidth\":1},\"autotypenumbers\":\"strict\",\"coloraxis\":{\"colorbar\":{\"outlinewidth\":0,\"ticks\":\"\"}},\"colorscale\":{\"diverging\":[[0,\"#8e0152\"],[0.1,\"#c51b7d\"],[0.2,\"#de77ae\"],[0.3,\"#f1b6da\"],[0.4,\"#fde0ef\"],[0.5,\"#f7f7f7\"],[0.6,\"#e6f5d0\"],[0.7,\"#b8e186\"],[0.8,\"#7fbc41\"],[0.9,\"#4d9221\"],[1,\"#276419\"]],\"sequential\":[[0.0,\"#0d0887\"],[0.1111111111111111,\"#46039f\"],[0.2222222222222222,\"#7201a8\"],[0.3333333333333333,\"#9c179e\"],[0.4444444444444444,\"#bd3786\"],[0.5555555555555556,\"#d8576b\"],[0.6666666666666666,\"#ed7953\"],[0.7777777777777778,\"#fb9f3a\"],[0.8888888888888888,\"#fdca26\"],[1.0,\"#f0f921\"]],\"sequentialminus\":[[0.0,\"#0d0887\"],[0.1111111111111111,\"#46039f\"],[0.2222222222222222,\"#7201a8\"],[0.3333333333333333,\"#9c179e\"],[0.4444444444444444,\"#bd3786\"],[0.5555555555555556,\"#d8576b\"],[0.6666666666666666,\"#ed7953\"],[0.7777777777777778,\"#fb9f3a\"],[0.8888888888888888,\"#fdca26\"],[1.0,\"#f0f921\"]]},\"colorway\":[\"#636efa\",\"#EF553B\",\"#00cc96\",\"#ab63fa\",\"#FFA15A\",\"#19d3f3\",\"#FF6692\",\"#B6E880\",\"#FF97FF\",\"#FECB52\"],\"font\":{\"color\":\"#2a3f5f\"},\"geo\":{\"bgcolor\":\"white\",\"lakecolor\":\"white\",\"landcolor\":\"#E5ECF6\",\"showlakes\":true,\"showland\":true,\"subunitcolor\":\"white\"},\"hoverlabel\":{\"align\":\"left\"},\"hovermode\":\"closest\",\"mapbox\":{\"style\":\"light\"},\"paper_bgcolor\":\"white\",\"plot_bgcolor\":\"#E5ECF6\",\"polar\":{\"angularaxis\":{\"gridcolor\":\"white\",\"linecolor\":\"white\",\"ticks\":\"\"},\"bgcolor\":\"#E5ECF6\",\"radialaxis\":{\"gridcolor\":\"white\",\"linecolor\":\"white\",\"ticks\":\"\"}},\"scene\":{\"xaxis\":{\"backgroundcolor\":\"#E5ECF6\",\"gridcolor\":\"white\",\"gridwidth\":2,\"linecolor\":\"white\",\"showbackground\":true,\"ticks\":\"\",\"zerolinecolor\":\"white\"},\"yaxis\":{\"backgroundcolor\":\"#E5ECF6\",\"gridcolor\":\"white\",\"gridwidth\":2,\"linecolor\":\"white\",\"showbackground\":true,\"ticks\":\"\",\"zerolinecolor\":\"white\"},\"zaxis\":{\"backgroundcolor\":\"#E5ECF6\",\"gridcolor\":\"white\",\"gridwidth\":2,\"linecolor\":\"white\",\"showbackground\":true,\"ticks\":\"\",\"zerolinecolor\":\"white\"}},\"shapedefaults\":{\"line\":{\"color\":\"#2a3f5f\"}},\"ternary\":{\"aaxis\":{\"gridcolor\":\"white\",\"linecolor\":\"white\",\"ticks\":\"\"},\"baxis\":{\"gridcolor\":\"white\",\"linecolor\":\"white\",\"ticks\":\"\"},\"bgcolor\":\"#E5ECF6\",\"caxis\":{\"gridcolor\":\"white\",\"linecolor\":\"white\",\"ticks\":\"\"}},\"title\":{\"x\":0.05},\"xaxis\":{\"automargin\":true,\"gridcolor\":\"white\",\"linecolor\":\"white\",\"ticks\":\"\",\"title\":{\"standoff\":15},\"zerolinecolor\":\"white\",\"zerolinewidth\":2},\"yaxis\":{\"automargin\":true,\"gridcolor\":\"white\",\"linecolor\":\"white\",\"ticks\":\"\",\"title\":{\"standoff\":15},\"zerolinecolor\":\"white\",\"zerolinewidth\":2}}},\"ternary\":{\"domain\":{\"x\":[0.0,1.0],\"y\":[0.0,1.0]},\"aaxis\":{\"title\":{\"text\":\"spl_ratio\"}},\"baxis\":{\"title\":{\"text\":\"tss\"}},\"caxis\":{\"title\":{\"text\":\"tes\"}}},\"legend\":{\"title\":{\"text\":\"sample\"},\"tracegroupgap\":0},\"title\":{\"text\":\"ELN\"}},                        {\"responsive\": true}                    ).then(function(){\n",
       "                            \n",
       "var gd = document.getElementById('4fe42ccb-e107-40c6-8476-5b44e29b2c3e');\n",
       "var x = new MutationObserver(function (mutations, observer) {{\n",
       "        var display = window.getComputedStyle(gd).display;\n",
       "        if (!display || display === 'none') {{\n",
       "            console.log([gd, 'removed!']);\n",
       "            Plotly.purge(gd);\n",
       "            observer.disconnect();\n",
       "        }}\n",
       "}});\n",
       "\n",
       "// Listen for the removal of the full notebook cells\n",
       "var notebookContainer = gd.closest('#notebook-container');\n",
       "if (notebookContainer) {{\n",
       "    x.observe(notebookContainer, {childList: true});\n",
       "}}\n",
       "\n",
       "// Listen for the clearing of the current output cell\n",
       "var outputEl = gd.closest('.output');\n",
       "if (outputEl) {{\n",
       "    x.observe(outputEl, {childList: true});\n",
       "}}\n",
       "\n",
       "                        })                };                });            </script>        </div>"
      ]
     },
     "metadata": {},
     "output_type": "display_data"
    }
   ],
   "source": [
    "plot_gene_ternary(counts, 'ELN')"
   ]
  },
  {
   "cell_type": "code",
   "execution_count": 88,
   "id": "c44352b7-1fc9-4e52-919e-a4c0cd14aae7",
   "metadata": {},
   "outputs": [
    {
     "data": {
      "application/vnd.plotly.v1+json": {
       "config": {
        "plotlyServerURL": "https://plot.ly"
       },
       "data": [
        {
         "a": [
          2
         ],
         "b": [
          1
         ],
         "c": [
          4
         ],
         "hovertemplate": "<b>%{hovertext}</b><br><br>sample=adipose<br>spl_ratio=%{a}<br>tss=%{b}<br>tes=%{c}<extra></extra>",
         "hovertext": [
          "adipose"
         ],
         "legendgroup": "adipose",
         "marker": {
          "color": "#e69b00",
          "symbol": "circle"
         },
         "mode": "markers",
         "name": "adipose",
         "showlegend": true,
         "subplot": "ternary",
         "type": "scatterternary"
        },
        {
         "a": [
          2
         ],
         "b": [
          1
         ],
         "c": [
          4
         ],
         "hovertemplate": "<b>%{hovertext}</b><br><br>sample=adrenal gland<br>spl_ratio=%{a}<br>tss=%{b}<br>tes=%{c}<extra></extra>",
         "hovertext": [
          "adrenal gland"
         ],
         "legendgroup": "adrenal gland",
         "marker": {
          "color": "#2f357c",
          "symbol": "circle"
         },
         "mode": "markers",
         "name": "adrenal gland",
         "showlegend": true,
         "subplot": "ternary",
         "type": "scatterternary"
        },
        {
         "a": [
          1.5
         ],
         "b": [
          1
         ],
         "c": [
          3
         ],
         "hovertemplate": "<b>%{hovertext}</b><br><br>sample=colon<br>spl_ratio=%{a}<br>tss=%{b}<br>tes=%{c}<extra></extra>",
         "hovertext": [
          "colon"
         ],
         "legendgroup": "colon",
         "marker": {
          "color": "#e48171",
          "symbol": "circle"
         },
         "mode": "markers",
         "name": "colon",
         "showlegend": true,
         "subplot": "ternary",
         "type": "scatterternary"
        },
        {
         "a": [
          2
         ],
         "b": [
          6
         ],
         "c": [
          8
         ],
         "hovertemplate": "<b>%{hovertext}</b><br><br>sample=gm12878<br>spl_ratio=%{a}<br>tss=%{b}<br>tes=%{c}<extra></extra>",
         "hovertext": [
          "gm12878"
         ],
         "legendgroup": "gm12878",
         "marker": {
          "color": "#5B859E",
          "symbol": "circle"
         },
         "mode": "markers",
         "name": "gm12878",
         "showlegend": true,
         "subplot": "ternary",
         "type": "scatterternary"
        },
        {
         "a": [
          2
         ],
         "b": [
          1
         ],
         "c": [
          3
         ],
         "hovertemplate": "<b>%{hovertext}</b><br><br>sample=h9_chondro<br>spl_ratio=%{a}<br>tss=%{b}<br>tes=%{c}<extra></extra>",
         "hovertext": [
          "h9_chondro"
         ],
         "legendgroup": "h9_chondro",
         "marker": {
          "color": "#C2856A",
          "symbol": "circle"
         },
         "mode": "markers",
         "name": "h9_chondro",
         "showlegend": true,
         "subplot": "ternary",
         "type": "scatterternary"
        },
        {
         "a": [
          2
         ],
         "b": [
          2
         ],
         "c": [
          6
         ],
         "hovertemplate": "<b>%{hovertext}</b><br><br>sample=h9_neural_crest<br>spl_ratio=%{a}<br>tss=%{b}<br>tes=%{c}<extra></extra>",
         "hovertext": [
          "h9_neural_crest"
         ],
         "legendgroup": "h9_neural_crest",
         "marker": {
          "color": "#637E4A",
          "symbol": "circle"
         },
         "mode": "markers",
         "name": "h9_neural_crest",
         "showlegend": true,
         "subplot": "ternary",
         "type": "scatterternary"
        },
        {
         "a": [
          2
         ],
         "b": [
          1
         ],
         "c": [
          3
         ],
         "hovertemplate": "<b>%{hovertext}</b><br><br>sample=h9_osteocyte<br>spl_ratio=%{a}<br>tss=%{b}<br>tes=%{c}<extra></extra>",
         "hovertext": [
          "h9_osteocyte"
         ],
         "legendgroup": "h9_osteocyte",
         "marker": {
          "color": "#566C51",
          "symbol": "circle"
         },
         "mode": "markers",
         "name": "h9_osteocyte",
         "showlegend": true,
         "subplot": "ternary",
         "type": "scatterternary"
        },
        {
         "a": [
          2
         ],
         "b": [
          1
         ],
         "c": [
          3
         ],
         "hovertemplate": "<b>%{hovertext}</b><br><br>sample=h9_panc_beta<br>spl_ratio=%{a}<br>tss=%{b}<br>tes=%{c}<extra></extra>",
         "hovertext": [
          "h9_panc_beta"
         ],
         "legendgroup": "h9_panc_beta",
         "marker": {
          "color": "#395B7B",
          "symbol": "circle"
         },
         "mode": "markers",
         "name": "h9_panc_beta",
         "showlegend": true,
         "subplot": "ternary",
         "type": "scatterternary"
        },
        {
         "a": [
          1
         ],
         "b": [
          1
         ],
         "c": [
          1
         ],
         "hovertemplate": "<b>%{hovertext}</b><br><br>sample=hct116<br>spl_ratio=%{a}<br>tss=%{b}<br>tes=%{c}<extra></extra>",
         "hovertext": [
          "hct116"
         ],
         "legendgroup": "hct116",
         "marker": {
          "color": "#9A6A81",
          "symbol": "circle"
         },
         "mode": "markers",
         "name": "hct116",
         "showlegend": true,
         "subplot": "ternary",
         "type": "scatterternary"
        },
        {
         "a": [
          1.5555555555555556
         ],
         "b": [
          3
         ],
         "c": [
          6
         ],
         "hovertemplate": "<b>%{hovertext}</b><br><br>sample=heart<br>spl_ratio=%{a}<br>tss=%{b}<br>tes=%{c}<extra></extra>",
         "hovertext": [
          "heart"
         ],
         "legendgroup": "heart",
         "marker": {
          "color": "#b0799a",
          "symbol": "circle"
         },
         "mode": "markers",
         "name": "heart",
         "showlegend": true,
         "subplot": "ternary",
         "type": "scatterternary"
        },
        {
         "a": [
          1.3333333333333333
         ],
         "b": [
          1
         ],
         "c": [
          2
         ],
         "hovertemplate": "<b>%{hovertext}</b><br><br>sample=hffc6<br>spl_ratio=%{a}<br>tss=%{b}<br>tes=%{c}<extra></extra>",
         "hovertext": [
          "hffc6"
         ],
         "legendgroup": "hffc6",
         "marker": {
          "color": "#B38711",
          "symbol": "circle"
         },
         "mode": "markers",
         "name": "hffc6",
         "showlegend": true,
         "subplot": "ternary",
         "type": "scatterternary"
        },
        {
         "a": [
          1
         ],
         "b": [
          1
         ],
         "c": [
          1
         ],
         "hovertemplate": "<b>%{hovertext}</b><br><br>sample=hl60<br>spl_ratio=%{a}<br>tss=%{b}<br>tes=%{c}<extra></extra>",
         "hovertext": [
          "hl60"
         ],
         "legendgroup": "hl60",
         "marker": {
          "color": "#856454",
          "symbol": "circle"
         },
         "mode": "markers",
         "name": "hl60",
         "showlegend": true,
         "subplot": "ternary",
         "type": "scatterternary"
        },
        {
         "a": [
          2
         ],
         "b": [
          1
         ],
         "c": [
          4
         ],
         "hovertemplate": "<b>%{hovertext}</b><br><br>sample=k562<br>spl_ratio=%{a}<br>tss=%{b}<br>tes=%{c}<extra></extra>",
         "hovertext": [
          "k562"
         ],
         "legendgroup": "k562",
         "marker": {
          "color": "#C7A12E",
          "symbol": "circle"
         },
         "mode": "markers",
         "name": "k562",
         "showlegend": true,
         "subplot": "ternary",
         "type": "scatterternary"
        },
        {
         "a": [
          2
         ],
         "b": [
          1
         ],
         "c": [
          3
         ],
         "hovertemplate": "<b>%{hovertext}</b><br><br>sample=kidney<br>spl_ratio=%{a}<br>tss=%{b}<br>tes=%{c}<extra></extra>",
         "hovertext": [
          "kidney"
         ],
         "legendgroup": "kidney",
         "marker": {
          "color": "#f6b3b0",
          "symbol": "circle"
         },
         "mode": "markers",
         "name": "kidney",
         "showlegend": true,
         "subplot": "ternary",
         "type": "scatterternary"
        },
        {
         "a": [
          2
         ],
         "b": [
          1
         ],
         "c": [
          3
         ],
         "hovertemplate": "<b>%{hovertext}</b><br><br>sample=liver<br>spl_ratio=%{a}<br>tss=%{b}<br>tes=%{c}<extra></extra>",
         "hovertext": [
          "liver"
         ],
         "legendgroup": "liver",
         "marker": {
          "color": "#ada43b",
          "symbol": "circle"
         },
         "mode": "markers",
         "name": "liver",
         "showlegend": true,
         "subplot": "ternary",
         "type": "scatterternary"
        },
        {
         "a": [
          1.7142857142857142
         ],
         "b": [
          2
         ],
         "c": [
          5
         ],
         "hovertemplate": "<b>%{hovertext}</b><br><br>sample=lung<br>spl_ratio=%{a}<br>tss=%{b}<br>tes=%{c}<extra></extra>",
         "hovertext": [
          "lung"
         ],
         "legendgroup": "lung",
         "marker": {
          "color": "#bf3729",
          "symbol": "circle"
         },
         "mode": "markers",
         "name": "lung",
         "showlegend": true,
         "subplot": "ternary",
         "type": "scatterternary"
        },
        {
         "a": [
          1.5
         ],
         "b": [
          2
         ],
         "c": [
          6
         ],
         "hovertemplate": "<b>%{hovertext}</b><br><br>sample=muscle<br>spl_ratio=%{a}<br>tss=%{b}<br>tes=%{c}<extra></extra>",
         "hovertext": [
          "muscle"
         ],
         "legendgroup": "muscle",
         "marker": {
          "color": "#17154f",
          "symbol": "circle"
         },
         "mode": "markers",
         "name": "muscle",
         "showlegend": true,
         "subplot": "ternary",
         "type": "scatterternary"
        },
        {
         "a": [
          2
         ],
         "b": [
          1
         ],
         "c": [
          5
         ],
         "hovertemplate": "<b>%{hovertext}</b><br><br>sample=ovary<br>spl_ratio=%{a}<br>tss=%{b}<br>tes=%{c}<extra></extra>",
         "hovertext": [
          "ovary"
         ],
         "legendgroup": "ovary",
         "marker": {
          "color": "#f5bb50",
          "symbol": "circle"
         },
         "mode": "markers",
         "name": "ovary",
         "showlegend": true,
         "subplot": "ternary",
         "type": "scatterternary"
        },
        {
         "a": [
          1
         ],
         "b": [
          1
         ],
         "c": [
          1
         ],
         "hovertemplate": "<b>%{hovertext}</b><br><br>sample=panc1<br>spl_ratio=%{a}<br>tss=%{b}<br>tes=%{c}<extra></extra>",
         "hovertext": [
          "panc1"
         ],
         "legendgroup": "panc1",
         "marker": {
          "color": "#995556",
          "symbol": "circle"
         },
         "mode": "markers",
         "name": "panc1",
         "showlegend": true,
         "subplot": "ternary",
         "type": "scatterternary"
        },
        {
         "a": [
          2
         ],
         "b": [
          1
         ],
         "c": [
          2
         ],
         "hovertemplate": "<b>%{hovertext}</b><br><br>sample=pc3<br>spl_ratio=%{a}<br>tss=%{b}<br>tes=%{c}<extra></extra>",
         "hovertext": [
          "pc3"
         ],
         "legendgroup": "pc3",
         "marker": {
          "color": "#B15232",
          "symbol": "circle"
         },
         "mode": "markers",
         "name": "pc3",
         "showlegend": true,
         "subplot": "ternary",
         "type": "scatterternary"
        },
        {
         "a": [
          1.3333333333333333
         ],
         "b": [
          1
         ],
         "c": [
          2
         ],
         "hovertemplate": "<b>%{hovertext}</b><br><br>sample=pgp1_astro<br>spl_ratio=%{a}<br>tss=%{b}<br>tes=%{c}<extra></extra>",
         "hovertext": [
          "pgp1_astro"
         ],
         "legendgroup": "pgp1_astro",
         "marker": {
          "color": "#CB7456",
          "symbol": "circle"
         },
         "mode": "markers",
         "name": "pgp1_astro",
         "showlegend": true,
         "subplot": "ternary",
         "type": "scatterternary"
        },
        {
         "a": [
          1.6666666666666667
         ],
         "b": [
          1
         ],
         "c": [
          5
         ],
         "hovertemplate": "<b>%{hovertext}</b><br><br>sample=pgp1_endo<br>spl_ratio=%{a}<br>tss=%{b}<br>tes=%{c}<extra></extra>",
         "hovertext": [
          "pgp1_endo"
         ],
         "legendgroup": "pgp1_endo",
         "marker": {
          "color": "#C16F5F",
          "symbol": "circle"
         },
         "mode": "markers",
         "name": "pgp1_endo",
         "showlegend": true,
         "subplot": "ternary",
         "type": "scatterternary"
        },
        {
         "a": [
          1
         ],
         "b": [
          1
         ],
         "c": [
          1
         ],
         "hovertemplate": "<b>%{hovertext}</b><br><br>sample=pgp1_excite_neuron<br>spl_ratio=%{a}<br>tss=%{b}<br>tes=%{c}<extra></extra>",
         "hovertext": [
          "pgp1_excite_neuron"
         ],
         "legendgroup": "pgp1_excite_neuron",
         "marker": {
          "color": "#336547",
          "symbol": "circle"
         },
         "mode": "markers",
         "name": "pgp1_excite_neuron",
         "showlegend": true,
         "subplot": "ternary",
         "type": "scatterternary"
        },
        {
         "a": [
          1.5
         ],
         "b": [
          4
         ],
         "c": [
          8
         ],
         "hovertemplate": "<b>%{hovertext}</b><br><br>sample=vessels<br>spl_ratio=%{a}<br>tss=%{b}<br>tes=%{c}<extra></extra>",
         "hovertext": [
          "vessels"
         ],
         "legendgroup": "vessels",
         "marker": {
          "color": "#6c5d9e",
          "symbol": "circle"
         },
         "mode": "markers",
         "name": "vessels",
         "showlegend": true,
         "subplot": "ternary",
         "type": "scatterternary"
        }
       ],
       "layout": {
        "autosize": true,
        "legend": {
         "title": {
          "text": "sample"
         },
         "tracegroupgap": 0
        },
        "template": {
         "data": {
          "bar": [
           {
            "error_x": {
             "color": "#2a3f5f"
            },
            "error_y": {
             "color": "#2a3f5f"
            },
            "marker": {
             "line": {
              "color": "#E5ECF6",
              "width": 0.5
             },
             "pattern": {
              "fillmode": "overlay",
              "size": 10,
              "solidity": 0.2
             }
            },
            "type": "bar"
           }
          ],
          "barpolar": [
           {
            "marker": {
             "line": {
              "color": "#E5ECF6",
              "width": 0.5
             },
             "pattern": {
              "fillmode": "overlay",
              "size": 10,
              "solidity": 0.2
             }
            },
            "type": "barpolar"
           }
          ],
          "carpet": [
           {
            "aaxis": {
             "endlinecolor": "#2a3f5f",
             "gridcolor": "white",
             "linecolor": "white",
             "minorgridcolor": "white",
             "startlinecolor": "#2a3f5f"
            },
            "baxis": {
             "endlinecolor": "#2a3f5f",
             "gridcolor": "white",
             "linecolor": "white",
             "minorgridcolor": "white",
             "startlinecolor": "#2a3f5f"
            },
            "type": "carpet"
           }
          ],
          "choropleth": [
           {
            "colorbar": {
             "outlinewidth": 0,
             "ticks": ""
            },
            "type": "choropleth"
           }
          ],
          "contour": [
           {
            "colorbar": {
             "outlinewidth": 0,
             "ticks": ""
            },
            "colorscale": [
             [
              0,
              "#0d0887"
             ],
             [
              0.1111111111111111,
              "#46039f"
             ],
             [
              0.2222222222222222,
              "#7201a8"
             ],
             [
              0.3333333333333333,
              "#9c179e"
             ],
             [
              0.4444444444444444,
              "#bd3786"
             ],
             [
              0.5555555555555556,
              "#d8576b"
             ],
             [
              0.6666666666666666,
              "#ed7953"
             ],
             [
              0.7777777777777778,
              "#fb9f3a"
             ],
             [
              0.8888888888888888,
              "#fdca26"
             ],
             [
              1,
              "#f0f921"
             ]
            ],
            "type": "contour"
           }
          ],
          "contourcarpet": [
           {
            "colorbar": {
             "outlinewidth": 0,
             "ticks": ""
            },
            "type": "contourcarpet"
           }
          ],
          "heatmap": [
           {
            "colorbar": {
             "outlinewidth": 0,
             "ticks": ""
            },
            "colorscale": [
             [
              0,
              "#0d0887"
             ],
             [
              0.1111111111111111,
              "#46039f"
             ],
             [
              0.2222222222222222,
              "#7201a8"
             ],
             [
              0.3333333333333333,
              "#9c179e"
             ],
             [
              0.4444444444444444,
              "#bd3786"
             ],
             [
              0.5555555555555556,
              "#d8576b"
             ],
             [
              0.6666666666666666,
              "#ed7953"
             ],
             [
              0.7777777777777778,
              "#fb9f3a"
             ],
             [
              0.8888888888888888,
              "#fdca26"
             ],
             [
              1,
              "#f0f921"
             ]
            ],
            "type": "heatmap"
           }
          ],
          "heatmapgl": [
           {
            "colorbar": {
             "outlinewidth": 0,
             "ticks": ""
            },
            "colorscale": [
             [
              0,
              "#0d0887"
             ],
             [
              0.1111111111111111,
              "#46039f"
             ],
             [
              0.2222222222222222,
              "#7201a8"
             ],
             [
              0.3333333333333333,
              "#9c179e"
             ],
             [
              0.4444444444444444,
              "#bd3786"
             ],
             [
              0.5555555555555556,
              "#d8576b"
             ],
             [
              0.6666666666666666,
              "#ed7953"
             ],
             [
              0.7777777777777778,
              "#fb9f3a"
             ],
             [
              0.8888888888888888,
              "#fdca26"
             ],
             [
              1,
              "#f0f921"
             ]
            ],
            "type": "heatmapgl"
           }
          ],
          "histogram": [
           {
            "marker": {
             "pattern": {
              "fillmode": "overlay",
              "size": 10,
              "solidity": 0.2
             }
            },
            "type": "histogram"
           }
          ],
          "histogram2d": [
           {
            "colorbar": {
             "outlinewidth": 0,
             "ticks": ""
            },
            "colorscale": [
             [
              0,
              "#0d0887"
             ],
             [
              0.1111111111111111,
              "#46039f"
             ],
             [
              0.2222222222222222,
              "#7201a8"
             ],
             [
              0.3333333333333333,
              "#9c179e"
             ],
             [
              0.4444444444444444,
              "#bd3786"
             ],
             [
              0.5555555555555556,
              "#d8576b"
             ],
             [
              0.6666666666666666,
              "#ed7953"
             ],
             [
              0.7777777777777778,
              "#fb9f3a"
             ],
             [
              0.8888888888888888,
              "#fdca26"
             ],
             [
              1,
              "#f0f921"
             ]
            ],
            "type": "histogram2d"
           }
          ],
          "histogram2dcontour": [
           {
            "colorbar": {
             "outlinewidth": 0,
             "ticks": ""
            },
            "colorscale": [
             [
              0,
              "#0d0887"
             ],
             [
              0.1111111111111111,
              "#46039f"
             ],
             [
              0.2222222222222222,
              "#7201a8"
             ],
             [
              0.3333333333333333,
              "#9c179e"
             ],
             [
              0.4444444444444444,
              "#bd3786"
             ],
             [
              0.5555555555555556,
              "#d8576b"
             ],
             [
              0.6666666666666666,
              "#ed7953"
             ],
             [
              0.7777777777777778,
              "#fb9f3a"
             ],
             [
              0.8888888888888888,
              "#fdca26"
             ],
             [
              1,
              "#f0f921"
             ]
            ],
            "type": "histogram2dcontour"
           }
          ],
          "mesh3d": [
           {
            "colorbar": {
             "outlinewidth": 0,
             "ticks": ""
            },
            "type": "mesh3d"
           }
          ],
          "parcoords": [
           {
            "line": {
             "colorbar": {
              "outlinewidth": 0,
              "ticks": ""
             }
            },
            "type": "parcoords"
           }
          ],
          "pie": [
           {
            "automargin": true,
            "type": "pie"
           }
          ],
          "scatter": [
           {
            "marker": {
             "colorbar": {
              "outlinewidth": 0,
              "ticks": ""
             }
            },
            "type": "scatter"
           }
          ],
          "scatter3d": [
           {
            "line": {
             "colorbar": {
              "outlinewidth": 0,
              "ticks": ""
             }
            },
            "marker": {
             "colorbar": {
              "outlinewidth": 0,
              "ticks": ""
             }
            },
            "type": "scatter3d"
           }
          ],
          "scattercarpet": [
           {
            "marker": {
             "colorbar": {
              "outlinewidth": 0,
              "ticks": ""
             }
            },
            "type": "scattercarpet"
           }
          ],
          "scattergeo": [
           {
            "marker": {
             "colorbar": {
              "outlinewidth": 0,
              "ticks": ""
             }
            },
            "type": "scattergeo"
           }
          ],
          "scattergl": [
           {
            "marker": {
             "colorbar": {
              "outlinewidth": 0,
              "ticks": ""
             }
            },
            "type": "scattergl"
           }
          ],
          "scattermapbox": [
           {
            "marker": {
             "colorbar": {
              "outlinewidth": 0,
              "ticks": ""
             }
            },
            "type": "scattermapbox"
           }
          ],
          "scatterpolar": [
           {
            "marker": {
             "colorbar": {
              "outlinewidth": 0,
              "ticks": ""
             }
            },
            "type": "scatterpolar"
           }
          ],
          "scatterpolargl": [
           {
            "marker": {
             "colorbar": {
              "outlinewidth": 0,
              "ticks": ""
             }
            },
            "type": "scatterpolargl"
           }
          ],
          "scatterternary": [
           {
            "marker": {
             "colorbar": {
              "outlinewidth": 0,
              "ticks": ""
             }
            },
            "type": "scatterternary"
           }
          ],
          "surface": [
           {
            "colorbar": {
             "outlinewidth": 0,
             "ticks": ""
            },
            "colorscale": [
             [
              0,
              "#0d0887"
             ],
             [
              0.1111111111111111,
              "#46039f"
             ],
             [
              0.2222222222222222,
              "#7201a8"
             ],
             [
              0.3333333333333333,
              "#9c179e"
             ],
             [
              0.4444444444444444,
              "#bd3786"
             ],
             [
              0.5555555555555556,
              "#d8576b"
             ],
             [
              0.6666666666666666,
              "#ed7953"
             ],
             [
              0.7777777777777778,
              "#fb9f3a"
             ],
             [
              0.8888888888888888,
              "#fdca26"
             ],
             [
              1,
              "#f0f921"
             ]
            ],
            "type": "surface"
           }
          ],
          "table": [
           {
            "cells": {
             "fill": {
              "color": "#EBF0F8"
             },
             "line": {
              "color": "white"
             }
            },
            "header": {
             "fill": {
              "color": "#C8D4E3"
             },
             "line": {
              "color": "white"
             }
            },
            "type": "table"
           }
          ]
         },
         "layout": {
          "annotationdefaults": {
           "arrowcolor": "#2a3f5f",
           "arrowhead": 0,
           "arrowwidth": 1
          },
          "autotypenumbers": "strict",
          "coloraxis": {
           "colorbar": {
            "outlinewidth": 0,
            "ticks": ""
           }
          },
          "colorscale": {
           "diverging": [
            [
             0,
             "#8e0152"
            ],
            [
             0.1,
             "#c51b7d"
            ],
            [
             0.2,
             "#de77ae"
            ],
            [
             0.3,
             "#f1b6da"
            ],
            [
             0.4,
             "#fde0ef"
            ],
            [
             0.5,
             "#f7f7f7"
            ],
            [
             0.6,
             "#e6f5d0"
            ],
            [
             0.7,
             "#b8e186"
            ],
            [
             0.8,
             "#7fbc41"
            ],
            [
             0.9,
             "#4d9221"
            ],
            [
             1,
             "#276419"
            ]
           ],
           "sequential": [
            [
             0,
             "#0d0887"
            ],
            [
             0.1111111111111111,
             "#46039f"
            ],
            [
             0.2222222222222222,
             "#7201a8"
            ],
            [
             0.3333333333333333,
             "#9c179e"
            ],
            [
             0.4444444444444444,
             "#bd3786"
            ],
            [
             0.5555555555555556,
             "#d8576b"
            ],
            [
             0.6666666666666666,
             "#ed7953"
            ],
            [
             0.7777777777777778,
             "#fb9f3a"
            ],
            [
             0.8888888888888888,
             "#fdca26"
            ],
            [
             1,
             "#f0f921"
            ]
           ],
           "sequentialminus": [
            [
             0,
             "#0d0887"
            ],
            [
             0.1111111111111111,
             "#46039f"
            ],
            [
             0.2222222222222222,
             "#7201a8"
            ],
            [
             0.3333333333333333,
             "#9c179e"
            ],
            [
             0.4444444444444444,
             "#bd3786"
            ],
            [
             0.5555555555555556,
             "#d8576b"
            ],
            [
             0.6666666666666666,
             "#ed7953"
            ],
            [
             0.7777777777777778,
             "#fb9f3a"
            ],
            [
             0.8888888888888888,
             "#fdca26"
            ],
            [
             1,
             "#f0f921"
            ]
           ]
          },
          "colorway": [
           "#636efa",
           "#EF553B",
           "#00cc96",
           "#ab63fa",
           "#FFA15A",
           "#19d3f3",
           "#FF6692",
           "#B6E880",
           "#FF97FF",
           "#FECB52"
          ],
          "font": {
           "color": "#2a3f5f"
          },
          "geo": {
           "bgcolor": "white",
           "lakecolor": "white",
           "landcolor": "#E5ECF6",
           "showlakes": true,
           "showland": true,
           "subunitcolor": "white"
          },
          "hoverlabel": {
           "align": "left"
          },
          "hovermode": "closest",
          "mapbox": {
           "style": "light"
          },
          "paper_bgcolor": "white",
          "plot_bgcolor": "#E5ECF6",
          "polar": {
           "angularaxis": {
            "gridcolor": "white",
            "linecolor": "white",
            "ticks": ""
           },
           "bgcolor": "#E5ECF6",
           "radialaxis": {
            "gridcolor": "white",
            "linecolor": "white",
            "ticks": ""
           }
          },
          "scene": {
           "xaxis": {
            "backgroundcolor": "#E5ECF6",
            "gridcolor": "white",
            "gridwidth": 2,
            "linecolor": "white",
            "showbackground": true,
            "ticks": "",
            "zerolinecolor": "white"
           },
           "yaxis": {
            "backgroundcolor": "#E5ECF6",
            "gridcolor": "white",
            "gridwidth": 2,
            "linecolor": "white",
            "showbackground": true,
            "ticks": "",
            "zerolinecolor": "white"
           },
           "zaxis": {
            "backgroundcolor": "#E5ECF6",
            "gridcolor": "white",
            "gridwidth": 2,
            "linecolor": "white",
            "showbackground": true,
            "ticks": "",
            "zerolinecolor": "white"
           }
          },
          "shapedefaults": {
           "line": {
            "color": "#2a3f5f"
           }
          },
          "ternary": {
           "aaxis": {
            "gridcolor": "white",
            "linecolor": "white",
            "ticks": ""
           },
           "baxis": {
            "gridcolor": "white",
            "linecolor": "white",
            "ticks": ""
           },
           "bgcolor": "#E5ECF6",
           "caxis": {
            "gridcolor": "white",
            "linecolor": "white",
            "ticks": ""
           }
          },
          "title": {
           "x": 0.05
          },
          "xaxis": {
           "automargin": true,
           "gridcolor": "white",
           "linecolor": "white",
           "ticks": "",
           "title": {
            "standoff": 15
           },
           "zerolinecolor": "white",
           "zerolinewidth": 2
          },
          "yaxis": {
           "automargin": true,
           "gridcolor": "white",
           "linecolor": "white",
           "ticks": "",
           "title": {
            "standoff": 15
           },
           "zerolinecolor": "white",
           "zerolinewidth": 2
          }
         }
        },
        "ternary": {
         "aaxis": {
          "title": {
           "text": "spl_ratio"
          }
         },
         "baxis": {
          "title": {
           "text": "tss"
          }
         },
         "caxis": {
          "title": {
           "text": "tes"
          }
         },
         "domain": {
          "x": [
           0,
           1
          ],
          "y": [
           0,
           1
          ]
         }
        },
        "title": {
         "text": "MEF2C"
        }
       }
      },
      "image/png": "[encoded data removed]",
      "text/html": [
       "<div>                            <div id=\"9c5d9db4-0b3f-4c05-b642-cae7368a6819\" class=\"plotly-graph-div\" style=\"height:525px; width:100%;\"></div>            <script type=\"text/javascript\">                require([\"plotly\"], function(Plotly) {                    window.PLOTLYENV=window.PLOTLYENV || {};                                    if (document.getElementById(\"9c5d9db4-0b3f-4c05-b642-cae7368a6819\")) {                    Plotly.newPlot(                        \"9c5d9db4-0b3f-4c05-b642-cae7368a6819\",                        [{\"a\":[2.0],\"b\":[1],\"c\":[4],\"hovertemplate\":\"<b>%{hovertext}</b><br><br>sample=adipose<br>spl_ratio=%{a}<br>tss=%{b}<br>tes=%{c}<extra></extra>\",\"hovertext\":[\"adipose\"],\"legendgroup\":\"adipose\",\"marker\":{\"color\":\"#e69b00\",\"symbol\":\"circle\"},\"mode\":\"markers\",\"name\":\"adipose\",\"showlegend\":true,\"subplot\":\"ternary\",\"type\":\"scatterternary\"},{\"a\":[2.0],\"b\":[1],\"c\":[4],\"hovertemplate\":\"<b>%{hovertext}</b><br><br>sample=adrenal gland<br>spl_ratio=%{a}<br>tss=%{b}<br>tes=%{c}<extra></extra>\",\"hovertext\":[\"adrenal gland\"],\"legendgroup\":\"adrenal gland\",\"marker\":{\"color\":\"#2f357c\",\"symbol\":\"circle\"},\"mode\":\"markers\",\"name\":\"adrenal gland\",\"showlegend\":true,\"subplot\":\"ternary\",\"type\":\"scatterternary\"},{\"a\":[1.5],\"b\":[1],\"c\":[3],\"hovertemplate\":\"<b>%{hovertext}</b><br><br>sample=colon<br>spl_ratio=%{a}<br>tss=%{b}<br>tes=%{c}<extra></extra>\",\"hovertext\":[\"colon\"],\"legendgroup\":\"colon\",\"marker\":{\"color\":\"#e48171\",\"symbol\":\"circle\"},\"mode\":\"markers\",\"name\":\"colon\",\"showlegend\":true,\"subplot\":\"ternary\",\"type\":\"scatterternary\"},{\"a\":[2.0],\"b\":[6],\"c\":[8],\"hovertemplate\":\"<b>%{hovertext}</b><br><br>sample=gm12878<br>spl_ratio=%{a}<br>tss=%{b}<br>tes=%{c}<extra></extra>\",\"hovertext\":[\"gm12878\"],\"legendgroup\":\"gm12878\",\"marker\":{\"color\":\"#5B859E\",\"symbol\":\"circle\"},\"mode\":\"markers\",\"name\":\"gm12878\",\"showlegend\":true,\"subplot\":\"ternary\",\"type\":\"scatterternary\"},{\"a\":[2.0],\"b\":[1],\"c\":[3],\"hovertemplate\":\"<b>%{hovertext}</b><br><br>sample=h9_chondro<br>spl_ratio=%{a}<br>tss=%{b}<br>tes=%{c}<extra></extra>\",\"hovertext\":[\"h9_chondro\"],\"legendgroup\":\"h9_chondro\",\"marker\":{\"color\":\"#C2856A\",\"symbol\":\"circle\"},\"mode\":\"markers\",\"name\":\"h9_chondro\",\"showlegend\":true,\"subplot\":\"ternary\",\"type\":\"scatterternary\"},{\"a\":[2.0],\"b\":[2],\"c\":[6],\"hovertemplate\":\"<b>%{hovertext}</b><br><br>sample=h9_neural_crest<br>spl_ratio=%{a}<br>tss=%{b}<br>tes=%{c}<extra></extra>\",\"hovertext\":[\"h9_neural_crest\"],\"legendgroup\":\"h9_neural_crest\",\"marker\":{\"color\":\"#637E4A\",\"symbol\":\"circle\"},\"mode\":\"markers\",\"name\":\"h9_neural_crest\",\"showlegend\":true,\"subplot\":\"ternary\",\"type\":\"scatterternary\"},{\"a\":[2.0],\"b\":[1],\"c\":[3],\"hovertemplate\":\"<b>%{hovertext}</b><br><br>sample=h9_osteocyte<br>spl_ratio=%{a}<br>tss=%{b}<br>tes=%{c}<extra></extra>\",\"hovertext\":[\"h9_osteocyte\"],\"legendgroup\":\"h9_osteocyte\",\"marker\":{\"color\":\"#566C51\",\"symbol\":\"circle\"},\"mode\":\"markers\",\"name\":\"h9_osteocyte\",\"showlegend\":true,\"subplot\":\"ternary\",\"type\":\"scatterternary\"},{\"a\":[2.0],\"b\":[1],\"c\":[3],\"hovertemplate\":\"<b>%{hovertext}</b><br><br>sample=h9_panc_beta<br>spl_ratio=%{a}<br>tss=%{b}<br>tes=%{c}<extra></extra>\",\"hovertext\":[\"h9_panc_beta\"],\"legendgroup\":\"h9_panc_beta\",\"marker\":{\"color\":\"#395B7B\",\"symbol\":\"circle\"},\"mode\":\"markers\",\"name\":\"h9_panc_beta\",\"showlegend\":true,\"subplot\":\"ternary\",\"type\":\"scatterternary\"},{\"a\":[1.0],\"b\":[1],\"c\":[1],\"hovertemplate\":\"<b>%{hovertext}</b><br><br>sample=hct116<br>spl_ratio=%{a}<br>tss=%{b}<br>tes=%{c}<extra></extra>\",\"hovertext\":[\"hct116\"],\"legendgroup\":\"hct116\",\"marker\":{\"color\":\"#9A6A81\",\"symbol\":\"circle\"},\"mode\":\"markers\",\"name\":\"hct116\",\"showlegend\":true,\"subplot\":\"ternary\",\"type\":\"scatterternary\"},{\"a\":[1.5555555555555556],\"b\":[3],\"c\":[6],\"hovertemplate\":\"<b>%{hovertext}</b><br><br>sample=heart<br>spl_ratio=%{a}<br>tss=%{b}<br>tes=%{c}<extra></extra>\",\"hovertext\":[\"heart\"],\"legendgroup\":\"heart\",\"marker\":{\"color\":\"#b0799a\",\"symbol\":\"circle\"},\"mode\":\"markers\",\"name\":\"heart\",\"showlegend\":true,\"subplot\":\"ternary\",\"type\":\"scatterternary\"},{\"a\":[1.3333333333333333],\"b\":[1],\"c\":[2],\"hovertemplate\":\"<b>%{hovertext}</b><br><br>sample=hffc6<br>spl_ratio=%{a}<br>tss=%{b}<br>tes=%{c}<extra></extra>\",\"hovertext\":[\"hffc6\"],\"legendgroup\":\"hffc6\",\"marker\":{\"color\":\"#B38711\",\"symbol\":\"circle\"},\"mode\":\"markers\",\"name\":\"hffc6\",\"showlegend\":true,\"subplot\":\"ternary\",\"type\":\"scatterternary\"},{\"a\":[1.0],\"b\":[1],\"c\":[1],\"hovertemplate\":\"<b>%{hovertext}</b><br><br>sample=hl60<br>spl_ratio=%{a}<br>tss=%{b}<br>tes=%{c}<extra></extra>\",\"hovertext\":[\"hl60\"],\"legendgroup\":\"hl60\",\"marker\":{\"color\":\"#856454\",\"symbol\":\"circle\"},\"mode\":\"markers\",\"name\":\"hl60\",\"showlegend\":true,\"subplot\":\"ternary\",\"type\":\"scatterternary\"},{\"a\":[2.0],\"b\":[1],\"c\":[4],\"hovertemplate\":\"<b>%{hovertext}</b><br><br>sample=k562<br>spl_ratio=%{a}<br>tss=%{b}<br>tes=%{c}<extra></extra>\",\"hovertext\":[\"k562\"],\"legendgroup\":\"k562\",\"marker\":{\"color\":\"#C7A12E\",\"symbol\":\"circle\"},\"mode\":\"markers\",\"name\":\"k562\",\"showlegend\":true,\"subplot\":\"ternary\",\"type\":\"scatterternary\"},{\"a\":[2.0],\"b\":[1],\"c\":[3],\"hovertemplate\":\"<b>%{hovertext}</b><br><br>sample=kidney<br>spl_ratio=%{a}<br>tss=%{b}<br>tes=%{c}<extra></extra>\",\"hovertext\":[\"kidney\"],\"legendgroup\":\"kidney\",\"marker\":{\"color\":\"#f6b3b0\",\"symbol\":\"circle\"},\"mode\":\"markers\",\"name\":\"kidney\",\"showlegend\":true,\"subplot\":\"ternary\",\"type\":\"scatterternary\"},{\"a\":[2.0],\"b\":[1],\"c\":[3],\"hovertemplate\":\"<b>%{hovertext}</b><br><br>sample=liver<br>spl_ratio=%{a}<br>tss=%{b}<br>tes=%{c}<extra></extra>\",\"hovertext\":[\"liver\"],\"legendgroup\":\"liver\",\"marker\":{\"color\":\"#ada43b\",\"symbol\":\"circle\"},\"mode\":\"markers\",\"name\":\"liver\",\"showlegend\":true,\"subplot\":\"ternary\",\"type\":\"scatterternary\"},{\"a\":[1.7142857142857142],\"b\":[2],\"c\":[5],\"hovertemplate\":\"<b>%{hovertext}</b><br><br>sample=lung<br>spl_ratio=%{a}<br>tss=%{b}<br>tes=%{c}<extra></extra>\",\"hovertext\":[\"lung\"],\"legendgroup\":\"lung\",\"marker\":{\"color\":\"#bf3729\",\"symbol\":\"circle\"},\"mode\":\"markers\",\"name\":\"lung\",\"showlegend\":true,\"subplot\":\"ternary\",\"type\":\"scatterternary\"},{\"a\":[1.5],\"b\":[2],\"c\":[6],\"hovertemplate\":\"<b>%{hovertext}</b><br><br>sample=muscle<br>spl_ratio=%{a}<br>tss=%{b}<br>tes=%{c}<extra></extra>\",\"hovertext\":[\"muscle\"],\"legendgroup\":\"muscle\",\"marker\":{\"color\":\"#17154f\",\"symbol\":\"circle\"},\"mode\":\"markers\",\"name\":\"muscle\",\"showlegend\":true,\"subplot\":\"ternary\",\"type\":\"scatterternary\"},{\"a\":[2.0],\"b\":[1],\"c\":[5],\"hovertemplate\":\"<b>%{hovertext}</b><br><br>sample=ovary<br>spl_ratio=%{a}<br>tss=%{b}<br>tes=%{c}<extra></extra>\",\"hovertext\":[\"ovary\"],\"legendgroup\":\"ovary\",\"marker\":{\"color\":\"#f5bb50\",\"symbol\":\"circle\"},\"mode\":\"markers\",\"name\":\"ovary\",\"showlegend\":true,\"subplot\":\"ternary\",\"type\":\"scatterternary\"},{\"a\":[1.0],\"b\":[1],\"c\":[1],\"hovertemplate\":\"<b>%{hovertext}</b><br><br>sample=panc1<br>spl_ratio=%{a}<br>tss=%{b}<br>tes=%{c}<extra></extra>\",\"hovertext\":[\"panc1\"],\"legendgroup\":\"panc1\",\"marker\":{\"color\":\"#995556\",\"symbol\":\"circle\"},\"mode\":\"markers\",\"name\":\"panc1\",\"showlegend\":true,\"subplot\":\"ternary\",\"type\":\"scatterternary\"},{\"a\":[2.0],\"b\":[1],\"c\":[2],\"hovertemplate\":\"<b>%{hovertext}</b><br><br>sample=pc3<br>spl_ratio=%{a}<br>tss=%{b}<br>tes=%{c}<extra></extra>\",\"hovertext\":[\"pc3\"],\"legendgroup\":\"pc3\",\"marker\":{\"color\":\"#B15232\",\"symbol\":\"circle\"},\"mode\":\"markers\",\"name\":\"pc3\",\"showlegend\":true,\"subplot\":\"ternary\",\"type\":\"scatterternary\"},{\"a\":[1.3333333333333333],\"b\":[1],\"c\":[2],\"hovertemplate\":\"<b>%{hovertext}</b><br><br>sample=pgp1_astro<br>spl_ratio=%{a}<br>tss=%{b}<br>tes=%{c}<extra></extra>\",\"hovertext\":[\"pgp1_astro\"],\"legendgroup\":\"pgp1_astro\",\"marker\":{\"color\":\"#CB7456\",\"symbol\":\"circle\"},\"mode\":\"markers\",\"name\":\"pgp1_astro\",\"showlegend\":true,\"subplot\":\"ternary\",\"type\":\"scatterternary\"},{\"a\":[1.6666666666666667],\"b\":[1],\"c\":[5],\"hovertemplate\":\"<b>%{hovertext}</b><br><br>sample=pgp1_endo<br>spl_ratio=%{a}<br>tss=%{b}<br>tes=%{c}<extra></extra>\",\"hovertext\":[\"pgp1_endo\"],\"legendgroup\":\"pgp1_endo\",\"marker\":{\"color\":\"#C16F5F\",\"symbol\":\"circle\"},\"mode\":\"markers\",\"name\":\"pgp1_endo\",\"showlegend\":true,\"subplot\":\"ternary\",\"type\":\"scatterternary\"},{\"a\":[1.0],\"b\":[1],\"c\":[1],\"hovertemplate\":\"<b>%{hovertext}</b><br><br>sample=pgp1_excite_neuron<br>spl_ratio=%{a}<br>tss=%{b}<br>tes=%{c}<extra></extra>\",\"hovertext\":[\"pgp1_excite_neuron\"],\"legendgroup\":\"pgp1_excite_neuron\",\"marker\":{\"color\":\"#336547\",\"symbol\":\"circle\"},\"mode\":\"markers\",\"name\":\"pgp1_excite_neuron\",\"showlegend\":true,\"subplot\":\"ternary\",\"type\":\"scatterternary\"},{\"a\":[1.5],\"b\":[4],\"c\":[8],\"hovertemplate\":\"<b>%{hovertext}</b><br><br>sample=vessels<br>spl_ratio=%{a}<br>tss=%{b}<br>tes=%{c}<extra></extra>\",\"hovertext\":[\"vessels\"],\"legendgroup\":\"vessels\",\"marker\":{\"color\":\"#6c5d9e\",\"symbol\":\"circle\"},\"mode\":\"markers\",\"name\":\"vessels\",\"showlegend\":true,\"subplot\":\"ternary\",\"type\":\"scatterternary\"}],                        {\"template\":{\"data\":{\"bar\":[{\"error_x\":{\"color\":\"#2a3f5f\"},\"error_y\":{\"color\":\"#2a3f5f\"},\"marker\":{\"line\":{\"color\":\"#E5ECF6\",\"width\":0.5},\"pattern\":{\"fillmode\":\"overlay\",\"size\":10,\"solidity\":0.2}},\"type\":\"bar\"}],\"barpolar\":[{\"marker\":{\"line\":{\"color\":\"#E5ECF6\",\"width\":0.5},\"pattern\":{\"fillmode\":\"overlay\",\"size\":10,\"solidity\":0.2}},\"type\":\"barpolar\"}],\"carpet\":[{\"aaxis\":{\"endlinecolor\":\"#2a3f5f\",\"gridcolor\":\"white\",\"linecolor\":\"white\",\"minorgridcolor\":\"white\",\"startlinecolor\":\"#2a3f5f\"},\"baxis\":{\"endlinecolor\":\"#2a3f5f\",\"gridcolor\":\"white\",\"linecolor\":\"white\",\"minorgridcolor\":\"white\",\"startlinecolor\":\"#2a3f5f\"},\"type\":\"carpet\"}],\"choropleth\":[{\"colorbar\":{\"outlinewidth\":0,\"ticks\":\"\"},\"type\":\"choropleth\"}],\"contour\":[{\"colorbar\":{\"outlinewidth\":0,\"ticks\":\"\"},\"colorscale\":[[0.0,\"#0d0887\"],[0.1111111111111111,\"#46039f\"],[0.2222222222222222,\"#7201a8\"],[0.3333333333333333,\"#9c179e\"],[0.4444444444444444,\"#bd3786\"],[0.5555555555555556,\"#d8576b\"],[0.6666666666666666,\"#ed7953\"],[0.7777777777777778,\"#fb9f3a\"],[0.8888888888888888,\"#fdca26\"],[1.0,\"#f0f921\"]],\"type\":\"contour\"}],\"contourcarpet\":[{\"colorbar\":{\"outlinewidth\":0,\"ticks\":\"\"},\"type\":\"contourcarpet\"}],\"heatmap\":[{\"colorbar\":{\"outlinewidth\":0,\"ticks\":\"\"},\"colorscale\":[[0.0,\"#0d0887\"],[0.1111111111111111,\"#46039f\"],[0.2222222222222222,\"#7201a8\"],[0.3333333333333333,\"#9c179e\"],[0.4444444444444444,\"#bd3786\"],[0.5555555555555556,\"#d8576b\"],[0.6666666666666666,\"#ed7953\"],[0.7777777777777778,\"#fb9f3a\"],[0.8888888888888888,\"#fdca26\"],[1.0,\"#f0f921\"]],\"type\":\"heatmap\"}],\"heatmapgl\":[{\"colorbar\":{\"outlinewidth\":0,\"ticks\":\"\"},\"colorscale\":[[0.0,\"#0d0887\"],[0.1111111111111111,\"#46039f\"],[0.2222222222222222,\"#7201a8\"],[0.3333333333333333,\"#9c179e\"],[0.4444444444444444,\"#bd3786\"],[0.5555555555555556,\"#d8576b\"],[0.6666666666666666,\"#ed7953\"],[0.7777777777777778,\"#fb9f3a\"],[0.8888888888888888,\"#fdca26\"],[1.0,\"#f0f921\"]],\"type\":\"heatmapgl\"}],\"histogram\":[{\"marker\":{\"pattern\":{\"fillmode\":\"overlay\",\"size\":10,\"solidity\":0.2}},\"type\":\"histogram\"}],\"histogram2d\":[{\"colorbar\":{\"outlinewidth\":0,\"ticks\":\"\"},\"colorscale\":[[0.0,\"#0d0887\"],[0.1111111111111111,\"#46039f\"],[0.2222222222222222,\"#7201a8\"],[0.3333333333333333,\"#9c179e\"],[0.4444444444444444,\"#bd3786\"],[0.5555555555555556,\"#d8576b\"],[0.6666666666666666,\"#ed7953\"],[0.7777777777777778,\"#fb9f3a\"],[0.8888888888888888,\"#fdca26\"],[1.0,\"#f0f921\"]],\"type\":\"histogram2d\"}],\"histogram2dcontour\":[{\"colorbar\":{\"outlinewidth\":0,\"ticks\":\"\"},\"colorscale\":[[0.0,\"#0d0887\"],[0.1111111111111111,\"#46039f\"],[0.2222222222222222,\"#7201a8\"],[0.3333333333333333,\"#9c179e\"],[0.4444444444444444,\"#bd3786\"],[0.5555555555555556,\"#d8576b\"],[0.6666666666666666,\"#ed7953\"],[0.7777777777777778,\"#fb9f3a\"],[0.8888888888888888,\"#fdca26\"],[1.0,\"#f0f921\"]],\"type\":\"histogram2dcontour\"}],\"mesh3d\":[{\"colorbar\":{\"outlinewidth\":0,\"ticks\":\"\"},\"type\":\"mesh3d\"}],\"parcoords\":[{\"line\":{\"colorbar\":{\"outlinewidth\":0,\"ticks\":\"\"}},\"type\":\"parcoords\"}],\"pie\":[{\"automargin\":true,\"type\":\"pie\"}],\"scatter\":[{\"marker\":{\"colorbar\":{\"outlinewidth\":0,\"ticks\":\"\"}},\"type\":\"scatter\"}],\"scatter3d\":[{\"line\":{\"colorbar\":{\"outlinewidth\":0,\"ticks\":\"\"}},\"marker\":{\"colorbar\":{\"outlinewidth\":0,\"ticks\":\"\"}},\"type\":\"scatter3d\"}],\"scattercarpet\":[{\"marker\":{\"colorbar\":{\"outlinewidth\":0,\"ticks\":\"\"}},\"type\":\"scattercarpet\"}],\"scattergeo\":[{\"marker\":{\"colorbar\":{\"outlinewidth\":0,\"ticks\":\"\"}},\"type\":\"scattergeo\"}],\"scattergl\":[{\"marker\":{\"colorbar\":{\"outlinewidth\":0,\"ticks\":\"\"}},\"type\":\"scattergl\"}],\"scattermapbox\":[{\"marker\":{\"colorbar\":{\"outlinewidth\":0,\"ticks\":\"\"}},\"type\":\"scattermapbox\"}],\"scatterpolar\":[{\"marker\":{\"colorbar\":{\"outlinewidth\":0,\"ticks\":\"\"}},\"type\":\"scatterpolar\"}],\"scatterpolargl\":[{\"marker\":{\"colorbar\":{\"outlinewidth\":0,\"ticks\":\"\"}},\"type\":\"scatterpolargl\"}],\"scatterternary\":[{\"marker\":{\"colorbar\":{\"outlinewidth\":0,\"ticks\":\"\"}},\"type\":\"scatterternary\"}],\"surface\":[{\"colorbar\":{\"outlinewidth\":0,\"ticks\":\"\"},\"colorscale\":[[0.0,\"#0d0887\"],[0.1111111111111111,\"#46039f\"],[0.2222222222222222,\"#7201a8\"],[0.3333333333333333,\"#9c179e\"],[0.4444444444444444,\"#bd3786\"],[0.5555555555555556,\"#d8576b\"],[0.6666666666666666,\"#ed7953\"],[0.7777777777777778,\"#fb9f3a\"],[0.8888888888888888,\"#fdca26\"],[1.0,\"#f0f921\"]],\"type\":\"surface\"}],\"table\":[{\"cells\":{\"fill\":{\"color\":\"#EBF0F8\"},\"line\":{\"color\":\"white\"}},\"header\":{\"fill\":{\"color\":\"#C8D4E3\"},\"line\":{\"color\":\"white\"}},\"type\":\"table\"}]},\"layout\":{\"annotationdefaults\":{\"arrowcolor\":\"#2a3f5f\",\"arrowhead\":0,\"arrowwidth\":1},\"autotypenumbers\":\"strict\",\"coloraxis\":{\"colorbar\":{\"outlinewidth\":0,\"ticks\":\"\"}},\"colorscale\":{\"diverging\":[[0,\"#8e0152\"],[0.1,\"#c51b7d\"],[0.2,\"#de77ae\"],[0.3,\"#f1b6da\"],[0.4,\"#fde0ef\"],[0.5,\"#f7f7f7\"],[0.6,\"#e6f5d0\"],[0.7,\"#b8e186\"],[0.8,\"#7fbc41\"],[0.9,\"#4d9221\"],[1,\"#276419\"]],\"sequential\":[[0.0,\"#0d0887\"],[0.1111111111111111,\"#46039f\"],[0.2222222222222222,\"#7201a8\"],[0.3333333333333333,\"#9c179e\"],[0.4444444444444444,\"#bd3786\"],[0.5555555555555556,\"#d8576b\"],[0.6666666666666666,\"#ed7953\"],[0.7777777777777778,\"#fb9f3a\"],[0.8888888888888888,\"#fdca26\"],[1.0,\"#f0f921\"]],\"sequentialminus\":[[0.0,\"#0d0887\"],[0.1111111111111111,\"#46039f\"],[0.2222222222222222,\"#7201a8\"],[0.3333333333333333,\"#9c179e\"],[0.4444444444444444,\"#bd3786\"],[0.5555555555555556,\"#d8576b\"],[0.6666666666666666,\"#ed7953\"],[0.7777777777777778,\"#fb9f3a\"],[0.8888888888888888,\"#fdca26\"],[1.0,\"#f0f921\"]]},\"colorway\":[\"#636efa\",\"#EF553B\",\"#00cc96\",\"#ab63fa\",\"#FFA15A\",\"#19d3f3\",\"#FF6692\",\"#B6E880\",\"#FF97FF\",\"#FECB52\"],\"font\":{\"color\":\"#2a3f5f\"},\"geo\":{\"bgcolor\":\"white\",\"lakecolor\":\"white\",\"landcolor\":\"#E5ECF6\",\"showlakes\":true,\"showland\":true,\"subunitcolor\":\"white\"},\"hoverlabel\":{\"align\":\"left\"},\"hovermode\":\"closest\",\"mapbox\":{\"style\":\"light\"},\"paper_bgcolor\":\"white\",\"plot_bgcolor\":\"#E5ECF6\",\"polar\":{\"angularaxis\":{\"gridcolor\":\"white\",\"linecolor\":\"white\",\"ticks\":\"\"},\"bgcolor\":\"#E5ECF6\",\"radialaxis\":{\"gridcolor\":\"white\",\"linecolor\":\"white\",\"ticks\":\"\"}},\"scene\":{\"xaxis\":{\"backgroundcolor\":\"#E5ECF6\",\"gridcolor\":\"white\",\"gridwidth\":2,\"linecolor\":\"white\",\"showbackground\":true,\"ticks\":\"\",\"zerolinecolor\":\"white\"},\"yaxis\":{\"backgroundcolor\":\"#E5ECF6\",\"gridcolor\":\"white\",\"gridwidth\":2,\"linecolor\":\"white\",\"showbackground\":true,\"ticks\":\"\",\"zerolinecolor\":\"white\"},\"zaxis\":{\"backgroundcolor\":\"#E5ECF6\",\"gridcolor\":\"white\",\"gridwidth\":2,\"linecolor\":\"white\",\"showbackground\":true,\"ticks\":\"\",\"zerolinecolor\":\"white\"}},\"shapedefaults\":{\"line\":{\"color\":\"#2a3f5f\"}},\"ternary\":{\"aaxis\":{\"gridcolor\":\"white\",\"linecolor\":\"white\",\"ticks\":\"\"},\"baxis\":{\"gridcolor\":\"white\",\"linecolor\":\"white\",\"ticks\":\"\"},\"bgcolor\":\"#E5ECF6\",\"caxis\":{\"gridcolor\":\"white\",\"linecolor\":\"white\",\"ticks\":\"\"}},\"title\":{\"x\":0.05},\"xaxis\":{\"automargin\":true,\"gridcolor\":\"white\",\"linecolor\":\"white\",\"ticks\":\"\",\"title\":{\"standoff\":15},\"zerolinecolor\":\"white\",\"zerolinewidth\":2},\"yaxis\":{\"automargin\":true,\"gridcolor\":\"white\",\"linecolor\":\"white\",\"ticks\":\"\",\"title\":{\"standoff\":15},\"zerolinecolor\":\"white\",\"zerolinewidth\":2}}},\"ternary\":{\"domain\":{\"x\":[0.0,1.0],\"y\":[0.0,1.0]},\"aaxis\":{\"title\":{\"text\":\"spl_ratio\"}},\"baxis\":{\"title\":{\"text\":\"tss\"}},\"caxis\":{\"title\":{\"text\":\"tes\"}}},\"legend\":{\"title\":{\"text\":\"sample\"},\"tracegroupgap\":0},\"title\":{\"text\":\"MEF2C\"}},                        {\"responsive\": true}                    ).then(function(){\n",
       "                            \n",
       "var gd = document.getElementById('9c5d9db4-0b3f-4c05-b642-cae7368a6819');\n",
       "var x = new MutationObserver(function (mutations, observer) {{\n",
       "        var display = window.getComputedStyle(gd).display;\n",
       "        if (!display || display === 'none') {{\n",
       "            console.log([gd, 'removed!']);\n",
       "            Plotly.purge(gd);\n",
       "            observer.disconnect();\n",
       "        }}\n",
       "}});\n",
       "\n",
       "// Listen for the removal of the full notebook cells\n",
       "var notebookContainer = gd.closest('#notebook-container');\n",
       "if (notebookContainer) {{\n",
       "    x.observe(notebookContainer, {childList: true});\n",
       "}}\n",
       "\n",
       "// Listen for the clearing of the current output cell\n",
       "var outputEl = gd.closest('.output');\n",
       "if (outputEl) {{\n",
       "    x.observe(outputEl, {childList: true});\n",
       "}}\n",
       "\n",
       "                        })                };                });            </script>        </div>"
      ]
     },
     "metadata": {},
     "output_type": "display_data"
    }
   ],
   "source": [
    "plot_gene_ternary(counts, 'MEF2C')"
   ]
  },
  {
   "cell_type": "code",
   "execution_count": 89,
   "id": "80c9c9fd-7f36-453a-b467-f7f7425cc7f9",
   "metadata": {},
   "outputs": [
    {
     "data": {
      "application/vnd.plotly.v1+json": {
       "config": {
        "plotlyServerURL": "https://plot.ly"
       },
       "data": [
        {
         "a": [
          1
         ],
         "b": [
          1
         ],
         "c": [
          1
         ],
         "hovertemplate": "<b>%{hovertext}</b><br><br>sample=adipose<br>spl_ratio=%{a}<br>tss=%{b}<br>tes=%{c}<extra></extra>",
         "hovertext": [
          "adipose"
         ],
         "legendgroup": "adipose",
         "marker": {
          "color": "#e69b00",
          "symbol": "circle"
         },
         "mode": "markers",
         "name": "adipose",
         "showlegend": true,
         "subplot": "ternary",
         "type": "scatterternary"
        },
        {
         "a": [
          1.5
         ],
         "b": [
          2
         ],
         "c": [
          2
         ],
         "hovertemplate": "<b>%{hovertext}</b><br><br>sample=adrenal gland<br>spl_ratio=%{a}<br>tss=%{b}<br>tes=%{c}<extra></extra>",
         "hovertext": [
          "adrenal gland"
         ],
         "legendgroup": "adrenal gland",
         "marker": {
          "color": "#2f357c",
          "symbol": "circle"
         },
         "mode": "markers",
         "name": "adrenal gland",
         "showlegend": true,
         "subplot": "ternary",
         "type": "scatterternary"
        },
        {
         "a": [
          9.666666666666666
         ],
         "b": [
          3
         ],
         "c": [
          3
         ],
         "hovertemplate": "<b>%{hovertext}</b><br><br>sample=colon<br>spl_ratio=%{a}<br>tss=%{b}<br>tes=%{c}<extra></extra>",
         "hovertext": [
          "colon"
         ],
         "legendgroup": "colon",
         "marker": {
          "color": "#e48171",
          "symbol": "circle"
         },
         "mode": "markers",
         "name": "colon",
         "showlegend": true,
         "subplot": "ternary",
         "type": "scatterternary"
        },
        {
         "a": [
          1
         ],
         "b": [
          1
         ],
         "c": [
          1
         ],
         "hovertemplate": "<b>%{hovertext}</b><br><br>sample=h9<br>spl_ratio=%{a}<br>tss=%{b}<br>tes=%{c}<extra></extra>",
         "hovertext": [
          "h9"
         ],
         "legendgroup": "h9",
         "marker": {
          "color": "#7B3B41",
          "symbol": "circle"
         },
         "mode": "markers",
         "name": "h9",
         "showlegend": true,
         "subplot": "ternary",
         "type": "scatterternary"
        },
        {
         "a": [
          1
         ],
         "b": [
          1
         ],
         "c": [
          1
         ],
         "hovertemplate": "<b>%{hovertext}</b><br><br>sample=h9_chondro<br>spl_ratio=%{a}<br>tss=%{b}<br>tes=%{c}<extra></extra>",
         "hovertext": [
          "h9_chondro"
         ],
         "legendgroup": "h9_chondro",
         "marker": {
          "color": "#C2856A",
          "symbol": "circle"
         },
         "mode": "markers",
         "name": "h9_chondro",
         "showlegend": true,
         "subplot": "ternary",
         "type": "scatterternary"
        },
        {
         "a": [
          1
         ],
         "b": [
          1
         ],
         "c": [
          1
         ],
         "hovertemplate": "<b>%{hovertext}</b><br><br>sample=h9_de<br>spl_ratio=%{a}<br>tss=%{b}<br>tes=%{c}<extra></extra>",
         "hovertext": [
          "h9_de"
         ],
         "legendgroup": "h9_de",
         "marker": {
          "color": "#576952",
          "symbol": "circle"
         },
         "mode": "markers",
         "name": "h9_de",
         "showlegend": true,
         "subplot": "ternary",
         "type": "scatterternary"
        },
        {
         "a": [
          10
         ],
         "b": [
          6
         ],
         "c": [
          3
         ],
         "hovertemplate": "<b>%{hovertext}</b><br><br>sample=heart<br>spl_ratio=%{a}<br>tss=%{b}<br>tes=%{c}<extra></extra>",
         "hovertext": [
          "heart"
         ],
         "legendgroup": "heart",
         "marker": {
          "color": "#b0799a",
          "symbol": "circle"
         },
         "mode": "markers",
         "name": "heart",
         "showlegend": true,
         "subplot": "ternary",
         "type": "scatterternary"
        },
        {
         "a": [
          1
         ],
         "b": [
          1
         ],
         "c": [
          1
         ],
         "hovertemplate": "<b>%{hovertext}</b><br><br>sample=kidney<br>spl_ratio=%{a}<br>tss=%{b}<br>tes=%{c}<extra></extra>",
         "hovertext": [
          "kidney"
         ],
         "legendgroup": "kidney",
         "marker": {
          "color": "#f6b3b0",
          "symbol": "circle"
         },
         "mode": "markers",
         "name": "kidney",
         "showlegend": true,
         "subplot": "ternary",
         "type": "scatterternary"
        },
        {
         "a": [
          1.5
         ],
         "b": [
          2
         ],
         "c": [
          2
         ],
         "hovertemplate": "<b>%{hovertext}</b><br><br>sample=lung<br>spl_ratio=%{a}<br>tss=%{b}<br>tes=%{c}<extra></extra>",
         "hovertext": [
          "lung"
         ],
         "legendgroup": "lung",
         "marker": {
          "color": "#bf3729",
          "symbol": "circle"
         },
         "mode": "markers",
         "name": "lung",
         "showlegend": true,
         "subplot": "ternary",
         "type": "scatterternary"
        },
        {
         "a": [
          12
         ],
         "b": [
          5
         ],
         "c": [
          2
         ],
         "hovertemplate": "<b>%{hovertext}</b><br><br>sample=muscle<br>spl_ratio=%{a}<br>tss=%{b}<br>tes=%{c}<extra></extra>",
         "hovertext": [
          "muscle"
         ],
         "legendgroup": "muscle",
         "marker": {
          "color": "#17154f",
          "symbol": "circle"
         },
         "mode": "markers",
         "name": "muscle",
         "showlegend": true,
         "subplot": "ternary",
         "type": "scatterternary"
        },
        {
         "a": [
          3.6
         ],
         "b": [
          3
         ],
         "c": [
          2
         ],
         "hovertemplate": "<b>%{hovertext}</b><br><br>sample=ovary<br>spl_ratio=%{a}<br>tss=%{b}<br>tes=%{c}<extra></extra>",
         "hovertext": [
          "ovary"
         ],
         "legendgroup": "ovary",
         "marker": {
          "color": "#f5bb50",
          "symbol": "circle"
         },
         "mode": "markers",
         "name": "ovary",
         "showlegend": true,
         "subplot": "ternary",
         "type": "scatterternary"
        },
        {
         "a": [
          1
         ],
         "b": [
          1
         ],
         "c": [
          1
         ],
         "hovertemplate": "<b>%{hovertext}</b><br><br>sample=pgp1<br>spl_ratio=%{a}<br>tss=%{b}<br>tes=%{c}<extra></extra>",
         "hovertext": [
          "pgp1"
         ],
         "legendgroup": "pgp1",
         "marker": {
          "color": "#69476A",
          "symbol": "circle"
         },
         "mode": "markers",
         "name": "pgp1",
         "showlegend": true,
         "subplot": "ternary",
         "type": "scatterternary"
        },
        {
         "a": [
          1
         ],
         "b": [
          1
         ],
         "c": [
          1
         ],
         "hovertemplate": "<b>%{hovertext}</b><br><br>sample=pgp1_astro<br>spl_ratio=%{a}<br>tss=%{b}<br>tes=%{c}<extra></extra>",
         "hovertext": [
          "pgp1_astro"
         ],
         "legendgroup": "pgp1_astro",
         "marker": {
          "color": "#CB7456",
          "symbol": "circle"
         },
         "mode": "markers",
         "name": "pgp1_astro",
         "showlegend": true,
         "subplot": "ternary",
         "type": "scatterternary"
        },
        {
         "a": [
          1
         ],
         "b": [
          1
         ],
         "c": [
          1
         ],
         "hovertemplate": "<b>%{hovertext}</b><br><br>sample=pgp1_endo<br>spl_ratio=%{a}<br>tss=%{b}<br>tes=%{c}<extra></extra>",
         "hovertext": [
          "pgp1_endo"
         ],
         "legendgroup": "pgp1_endo",
         "marker": {
          "color": "#C16F5F",
          "symbol": "circle"
         },
         "mode": "markers",
         "name": "pgp1_endo",
         "showlegend": true,
         "subplot": "ternary",
         "type": "scatterternary"
        },
        {
         "a": [
          11.714285714285714
         ],
         "b": [
          5
         ],
         "c": [
          2
         ],
         "hovertemplate": "<b>%{hovertext}</b><br><br>sample=vessels<br>spl_ratio=%{a}<br>tss=%{b}<br>tes=%{c}<extra></extra>",
         "hovertext": [
          "vessels"
         ],
         "legendgroup": "vessels",
         "marker": {
          "color": "#6c5d9e",
          "symbol": "circle"
         },
         "mode": "markers",
         "name": "vessels",
         "showlegend": true,
         "subplot": "ternary",
         "type": "scatterternary"
        }
       ],
       "layout": {
        "autosize": true,
        "legend": {
         "title": {
          "text": "sample"
         },
         "tracegroupgap": 0
        },
        "template": {
         "data": {
          "bar": [
           {
            "error_x": {
             "color": "#2a3f5f"
            },
            "error_y": {
             "color": "#2a3f5f"
            },
            "marker": {
             "line": {
              "color": "#E5ECF6",
              "width": 0.5
             },
             "pattern": {
              "fillmode": "overlay",
              "size": 10,
              "solidity": 0.2
             }
            },
            "type": "bar"
           }
          ],
          "barpolar": [
           {
            "marker": {
             "line": {
              "color": "#E5ECF6",
              "width": 0.5
             },
             "pattern": {
              "fillmode": "overlay",
              "size": 10,
              "solidity": 0.2
             }
            },
            "type": "barpolar"
           }
          ],
          "carpet": [
           {
            "aaxis": {
             "endlinecolor": "#2a3f5f",
             "gridcolor": "white",
             "linecolor": "white",
             "minorgridcolor": "white",
             "startlinecolor": "#2a3f5f"
            },
            "baxis": {
             "endlinecolor": "#2a3f5f",
             "gridcolor": "white",
             "linecolor": "white",
             "minorgridcolor": "white",
             "startlinecolor": "#2a3f5f"
            },
            "type": "carpet"
           }
          ],
          "choropleth": [
           {
            "colorbar": {
             "outlinewidth": 0,
             "ticks": ""
            },
            "type": "choropleth"
           }
          ],
          "contour": [
           {
            "colorbar": {
             "outlinewidth": 0,
             "ticks": ""
            },
            "colorscale": [
             [
              0,
              "#0d0887"
             ],
             [
              0.1111111111111111,
              "#46039f"
             ],
             [
              0.2222222222222222,
              "#7201a8"
             ],
             [
              0.3333333333333333,
              "#9c179e"
             ],
             [
              0.4444444444444444,
              "#bd3786"
             ],
             [
              0.5555555555555556,
              "#d8576b"
             ],
             [
              0.6666666666666666,
              "#ed7953"
             ],
             [
              0.7777777777777778,
              "#fb9f3a"
             ],
             [
              0.8888888888888888,
              "#fdca26"
             ],
             [
              1,
              "#f0f921"
             ]
            ],
            "type": "contour"
           }
          ],
          "contourcarpet": [
           {
            "colorbar": {
             "outlinewidth": 0,
             "ticks": ""
            },
            "type": "contourcarpet"
           }
          ],
          "heatmap": [
           {
            "colorbar": {
             "outlinewidth": 0,
             "ticks": ""
            },
            "colorscale": [
             [
              0,
              "#0d0887"
             ],
             [
              0.1111111111111111,
              "#46039f"
             ],
             [
              0.2222222222222222,
              "#7201a8"
             ],
             [
              0.3333333333333333,
              "#9c179e"
             ],
             [
              0.4444444444444444,
              "#bd3786"
             ],
             [
              0.5555555555555556,
              "#d8576b"
             ],
             [
              0.6666666666666666,
              "#ed7953"
             ],
             [
              0.7777777777777778,
              "#fb9f3a"
             ],
             [
              0.8888888888888888,
              "#fdca26"
             ],
             [
              1,
              "#f0f921"
             ]
            ],
            "type": "heatmap"
           }
          ],
          "heatmapgl": [
           {
            "colorbar": {
             "outlinewidth": 0,
             "ticks": ""
            },
            "colorscale": [
             [
              0,
              "#0d0887"
             ],
             [
              0.1111111111111111,
              "#46039f"
             ],
             [
              0.2222222222222222,
              "#7201a8"
             ],
             [
              0.3333333333333333,
              "#9c179e"
             ],
             [
              0.4444444444444444,
              "#bd3786"
             ],
             [
              0.5555555555555556,
              "#d8576b"
             ],
             [
              0.6666666666666666,
              "#ed7953"
             ],
             [
              0.7777777777777778,
              "#fb9f3a"
             ],
             [
              0.8888888888888888,
              "#fdca26"
             ],
             [
              1,
              "#f0f921"
             ]
            ],
            "type": "heatmapgl"
           }
          ],
          "histogram": [
           {
            "marker": {
             "pattern": {
              "fillmode": "overlay",
              "size": 10,
              "solidity": 0.2
             }
            },
            "type": "histogram"
           }
          ],
          "histogram2d": [
           {
            "colorbar": {
             "outlinewidth": 0,
             "ticks": ""
            },
            "colorscale": [
             [
              0,
              "#0d0887"
             ],
             [
              0.1111111111111111,
              "#46039f"
             ],
             [
              0.2222222222222222,
              "#7201a8"
             ],
             [
              0.3333333333333333,
              "#9c179e"
             ],
             [
              0.4444444444444444,
              "#bd3786"
             ],
             [
              0.5555555555555556,
              "#d8576b"
             ],
             [
              0.6666666666666666,
              "#ed7953"
             ],
             [
              0.7777777777777778,
              "#fb9f3a"
             ],
             [
              0.8888888888888888,
              "#fdca26"
             ],
             [
              1,
              "#f0f921"
             ]
            ],
            "type": "histogram2d"
           }
          ],
          "histogram2dcontour": [
           {
            "colorbar": {
             "outlinewidth": 0,
             "ticks": ""
            },
            "colorscale": [
             [
              0,
              "#0d0887"
             ],
             [
              0.1111111111111111,
              "#46039f"
             ],
             [
              0.2222222222222222,
              "#7201a8"
             ],
             [
              0.3333333333333333,
              "#9c179e"
             ],
             [
              0.4444444444444444,
              "#bd3786"
             ],
             [
              0.5555555555555556,
              "#d8576b"
             ],
             [
              0.6666666666666666,
              "#ed7953"
             ],
             [
              0.7777777777777778,
              "#fb9f3a"
             ],
             [
              0.8888888888888888,
              "#fdca26"
             ],
             [
              1,
              "#f0f921"
             ]
            ],
            "type": "histogram2dcontour"
           }
          ],
          "mesh3d": [
           {
            "colorbar": {
             "outlinewidth": 0,
             "ticks": ""
            },
            "type": "mesh3d"
           }
          ],
          "parcoords": [
           {
            "line": {
             "colorbar": {
              "outlinewidth": 0,
              "ticks": ""
             }
            },
            "type": "parcoords"
           }
          ],
          "pie": [
           {
            "automargin": true,
            "type": "pie"
           }
          ],
          "scatter": [
           {
            "marker": {
             "colorbar": {
              "outlinewidth": 0,
              "ticks": ""
             }
            },
            "type": "scatter"
           }
          ],
          "scatter3d": [
           {
            "line": {
             "colorbar": {
              "outlinewidth": 0,
              "ticks": ""
             }
            },
            "marker": {
             "colorbar": {
              "outlinewidth": 0,
              "ticks": ""
             }
            },
            "type": "scatter3d"
           }
          ],
          "scattercarpet": [
           {
            "marker": {
             "colorbar": {
              "outlinewidth": 0,
              "ticks": ""
             }
            },
            "type": "scattercarpet"
           }
          ],
          "scattergeo": [
           {
            "marker": {
             "colorbar": {
              "outlinewidth": 0,
              "ticks": ""
             }
            },
            "type": "scattergeo"
           }
          ],
          "scattergl": [
           {
            "marker": {
             "colorbar": {
              "outlinewidth": 0,
              "ticks": ""
             }
            },
            "type": "scattergl"
           }
          ],
          "scattermapbox": [
           {
            "marker": {
             "colorbar": {
              "outlinewidth": 0,
              "ticks": ""
             }
            },
            "type": "scattermapbox"
           }
          ],
          "scatterpolar": [
           {
            "marker": {
             "colorbar": {
              "outlinewidth": 0,
              "ticks": ""
             }
            },
            "type": "scatterpolar"
           }
          ],
          "scatterpolargl": [
           {
            "marker": {
             "colorbar": {
              "outlinewidth": 0,
              "ticks": ""
             }
            },
            "type": "scatterpolargl"
           }
          ],
          "scatterternary": [
           {
            "marker": {
             "colorbar": {
              "outlinewidth": 0,
              "ticks": ""
             }
            },
            "type": "scatterternary"
           }
          ],
          "surface": [
           {
            "colorbar": {
             "outlinewidth": 0,
             "ticks": ""
            },
            "colorscale": [
             [
              0,
              "#0d0887"
             ],
             [
              0.1111111111111111,
              "#46039f"
             ],
             [
              0.2222222222222222,
              "#7201a8"
             ],
             [
              0.3333333333333333,
              "#9c179e"
             ],
             [
              0.4444444444444444,
              "#bd3786"
             ],
             [
              0.5555555555555556,
              "#d8576b"
             ],
             [
              0.6666666666666666,
              "#ed7953"
             ],
             [
              0.7777777777777778,
              "#fb9f3a"
             ],
             [
              0.8888888888888888,
              "#fdca26"
             ],
             [
              1,
              "#f0f921"
             ]
            ],
            "type": "surface"
           }
          ],
          "table": [
           {
            "cells": {
             "fill": {
              "color": "#EBF0F8"
             },
             "line": {
              "color": "white"
             }
            },
            "header": {
             "fill": {
              "color": "#C8D4E3"
             },
             "line": {
              "color": "white"
             }
            },
            "type": "table"
           }
          ]
         },
         "layout": {
          "annotationdefaults": {
           "arrowcolor": "#2a3f5f",
           "arrowhead": 0,
           "arrowwidth": 1
          },
          "autotypenumbers": "strict",
          "coloraxis": {
           "colorbar": {
            "outlinewidth": 0,
            "ticks": ""
           }
          },
          "colorscale": {
           "diverging": [
            [
             0,
             "#8e0152"
            ],
            [
             0.1,
             "#c51b7d"
            ],
            [
             0.2,
             "#de77ae"
            ],
            [
             0.3,
             "#f1b6da"
            ],
            [
             0.4,
             "#fde0ef"
            ],
            [
             0.5,
             "#f7f7f7"
            ],
            [
             0.6,
             "#e6f5d0"
            ],
            [
             0.7,
             "#b8e186"
            ],
            [
             0.8,
             "#7fbc41"
            ],
            [
             0.9,
             "#4d9221"
            ],
            [
             1,
             "#276419"
            ]
           ],
           "sequential": [
            [
             0,
             "#0d0887"
            ],
            [
             0.1111111111111111,
             "#46039f"
            ],
            [
             0.2222222222222222,
             "#7201a8"
            ],
            [
             0.3333333333333333,
             "#9c179e"
            ],
            [
             0.4444444444444444,
             "#bd3786"
            ],
            [
             0.5555555555555556,
             "#d8576b"
            ],
            [
             0.6666666666666666,
             "#ed7953"
            ],
            [
             0.7777777777777778,
             "#fb9f3a"
            ],
            [
             0.8888888888888888,
             "#fdca26"
            ],
            [
             1,
             "#f0f921"
            ]
           ],
           "sequentialminus": [
            [
             0,
             "#0d0887"
            ],
            [
             0.1111111111111111,
             "#46039f"
            ],
            [
             0.2222222222222222,
             "#7201a8"
            ],
            [
             0.3333333333333333,
             "#9c179e"
            ],
            [
             0.4444444444444444,
             "#bd3786"
            ],
            [
             0.5555555555555556,
             "#d8576b"
            ],
            [
             0.6666666666666666,
             "#ed7953"
            ],
            [
             0.7777777777777778,
             "#fb9f3a"
            ],
            [
             0.8888888888888888,
             "#fdca26"
            ],
            [
             1,
             "#f0f921"
            ]
           ]
          },
          "colorway": [
           "#636efa",
           "#EF553B",
           "#00cc96",
           "#ab63fa",
           "#FFA15A",
           "#19d3f3",
           "#FF6692",
           "#B6E880",
           "#FF97FF",
           "#FECB52"
          ],
          "font": {
           "color": "#2a3f5f"
          },
          "geo": {
           "bgcolor": "white",
           "lakecolor": "white",
           "landcolor": "#E5ECF6",
           "showlakes": true,
           "showland": true,
           "subunitcolor": "white"
          },
          "hoverlabel": {
           "align": "left"
          },
          "hovermode": "closest",
          "mapbox": {
           "style": "light"
          },
          "paper_bgcolor": "white",
          "plot_bgcolor": "#E5ECF6",
          "polar": {
           "angularaxis": {
            "gridcolor": "white",
            "linecolor": "white",
            "ticks": ""
           },
           "bgcolor": "#E5ECF6",
           "radialaxis": {
            "gridcolor": "white",
            "linecolor": "white",
            "ticks": ""
           }
          },
          "scene": {
           "xaxis": {
            "backgroundcolor": "#E5ECF6",
            "gridcolor": "white",
            "gridwidth": 2,
            "linecolor": "white",
            "showbackground": true,
            "ticks": "",
            "zerolinecolor": "white"
           },
           "yaxis": {
            "backgroundcolor": "#E5ECF6",
            "gridcolor": "white",
            "gridwidth": 2,
            "linecolor": "white",
            "showbackground": true,
            "ticks": "",
            "zerolinecolor": "white"
           },
           "zaxis": {
            "backgroundcolor": "#E5ECF6",
            "gridcolor": "white",
            "gridwidth": 2,
            "linecolor": "white",
            "showbackground": true,
            "ticks": "",
            "zerolinecolor": "white"
           }
          },
          "shapedefaults": {
           "line": {
            "color": "#2a3f5f"
           }
          },
          "ternary": {
           "aaxis": {
            "gridcolor": "white",
            "linecolor": "white",
            "ticks": ""
           },
           "baxis": {
            "gridcolor": "white",
            "linecolor": "white",
            "ticks": ""
           },
           "bgcolor": "#E5ECF6",
           "caxis": {
            "gridcolor": "white",
            "linecolor": "white",
            "ticks": ""
           }
          },
          "title": {
           "x": 0.05
          },
          "xaxis": {
           "automargin": true,
           "gridcolor": "white",
           "linecolor": "white",
           "ticks": "",
           "title": {
            "standoff": 15
           },
           "zerolinecolor": "white",
           "zerolinewidth": 2
          },
          "yaxis": {
           "automargin": true,
           "gridcolor": "white",
           "linecolor": "white",
           "ticks": "",
           "title": {
            "standoff": 15
           },
           "zerolinecolor": "white",
           "zerolinewidth": 2
          }
         }
        },
        "ternary": {
         "aaxis": {
          "title": {
           "text": "spl_ratio"
          }
         },
         "baxis": {
          "title": {
           "text": "tss"
          }
         },
         "caxis": {
          "title": {
           "text": "tes"
          }
         },
         "domain": {
          "x": [
           0,
           1
          ],
          "y": [
           0,
           1
          ]
         }
        },
        "title": {
         "text": "DES"
        }
       }
      },
      "image/png": "[encoded data removed]",
      "text/html": [
       "<div>                            <div id=\"904cbab9-0911-4a8b-89c3-a1cc76f484f6\" class=\"plotly-graph-div\" style=\"height:525px; width:100%;\"></div>            <script type=\"text/javascript\">                require([\"plotly\"], function(Plotly) {                    window.PLOTLYENV=window.PLOTLYENV || {};                                    if (document.getElementById(\"904cbab9-0911-4a8b-89c3-a1cc76f484f6\")) {                    Plotly.newPlot(                        \"904cbab9-0911-4a8b-89c3-a1cc76f484f6\",                        [{\"a\":[1.0],\"b\":[1],\"c\":[1],\"hovertemplate\":\"<b>%{hovertext}</b><br><br>sample=adipose<br>spl_ratio=%{a}<br>tss=%{b}<br>tes=%{c}<extra></extra>\",\"hovertext\":[\"adipose\"],\"legendgroup\":\"adipose\",\"marker\":{\"color\":\"#e69b00\",\"symbol\":\"circle\"},\"mode\":\"markers\",\"name\":\"adipose\",\"showlegend\":true,\"subplot\":\"ternary\",\"type\":\"scatterternary\"},{\"a\":[1.5],\"b\":[2],\"c\":[2],\"hovertemplate\":\"<b>%{hovertext}</b><br><br>sample=adrenal gland<br>spl_ratio=%{a}<br>tss=%{b}<br>tes=%{c}<extra></extra>\",\"hovertext\":[\"adrenal gland\"],\"legendgroup\":\"adrenal gland\",\"marker\":{\"color\":\"#2f357c\",\"symbol\":\"circle\"},\"mode\":\"markers\",\"name\":\"adrenal gland\",\"showlegend\":true,\"subplot\":\"ternary\",\"type\":\"scatterternary\"},{\"a\":[9.666666666666666],\"b\":[3],\"c\":[3],\"hovertemplate\":\"<b>%{hovertext}</b><br><br>sample=colon<br>spl_ratio=%{a}<br>tss=%{b}<br>tes=%{c}<extra></extra>\",\"hovertext\":[\"colon\"],\"legendgroup\":\"colon\",\"marker\":{\"color\":\"#e48171\",\"symbol\":\"circle\"},\"mode\":\"markers\",\"name\":\"colon\",\"showlegend\":true,\"subplot\":\"ternary\",\"type\":\"scatterternary\"},{\"a\":[1.0],\"b\":[1],\"c\":[1],\"hovertemplate\":\"<b>%{hovertext}</b><br><br>sample=h9<br>spl_ratio=%{a}<br>tss=%{b}<br>tes=%{c}<extra></extra>\",\"hovertext\":[\"h9\"],\"legendgroup\":\"h9\",\"marker\":{\"color\":\"#7B3B41\",\"symbol\":\"circle\"},\"mode\":\"markers\",\"name\":\"h9\",\"showlegend\":true,\"subplot\":\"ternary\",\"type\":\"scatterternary\"},{\"a\":[1.0],\"b\":[1],\"c\":[1],\"hovertemplate\":\"<b>%{hovertext}</b><br><br>sample=h9_chondro<br>spl_ratio=%{a}<br>tss=%{b}<br>tes=%{c}<extra></extra>\",\"hovertext\":[\"h9_chondro\"],\"legendgroup\":\"h9_chondro\",\"marker\":{\"color\":\"#C2856A\",\"symbol\":\"circle\"},\"mode\":\"markers\",\"name\":\"h9_chondro\",\"showlegend\":true,\"subplot\":\"ternary\",\"type\":\"scatterternary\"},{\"a\":[1.0],\"b\":[1],\"c\":[1],\"hovertemplate\":\"<b>%{hovertext}</b><br><br>sample=h9_de<br>spl_ratio=%{a}<br>tss=%{b}<br>tes=%{c}<extra></extra>\",\"hovertext\":[\"h9_de\"],\"legendgroup\":\"h9_de\",\"marker\":{\"color\":\"#576952\",\"symbol\":\"circle\"},\"mode\":\"markers\",\"name\":\"h9_de\",\"showlegend\":true,\"subplot\":\"ternary\",\"type\":\"scatterternary\"},{\"a\":[10.0],\"b\":[6],\"c\":[3],\"hovertemplate\":\"<b>%{hovertext}</b><br><br>sample=heart<br>spl_ratio=%{a}<br>tss=%{b}<br>tes=%{c}<extra></extra>\",\"hovertext\":[\"heart\"],\"legendgroup\":\"heart\",\"marker\":{\"color\":\"#b0799a\",\"symbol\":\"circle\"},\"mode\":\"markers\",\"name\":\"heart\",\"showlegend\":true,\"subplot\":\"ternary\",\"type\":\"scatterternary\"},{\"a\":[1.0],\"b\":[1],\"c\":[1],\"hovertemplate\":\"<b>%{hovertext}</b><br><br>sample=kidney<br>spl_ratio=%{a}<br>tss=%{b}<br>tes=%{c}<extra></extra>\",\"hovertext\":[\"kidney\"],\"legendgroup\":\"kidney\",\"marker\":{\"color\":\"#f6b3b0\",\"symbol\":\"circle\"},\"mode\":\"markers\",\"name\":\"kidney\",\"showlegend\":true,\"subplot\":\"ternary\",\"type\":\"scatterternary\"},{\"a\":[1.5],\"b\":[2],\"c\":[2],\"hovertemplate\":\"<b>%{hovertext}</b><br><br>sample=lung<br>spl_ratio=%{a}<br>tss=%{b}<br>tes=%{c}<extra></extra>\",\"hovertext\":[\"lung\"],\"legendgroup\":\"lung\",\"marker\":{\"color\":\"#bf3729\",\"symbol\":\"circle\"},\"mode\":\"markers\",\"name\":\"lung\",\"showlegend\":true,\"subplot\":\"ternary\",\"type\":\"scatterternary\"},{\"a\":[12.0],\"b\":[5],\"c\":[2],\"hovertemplate\":\"<b>%{hovertext}</b><br><br>sample=muscle<br>spl_ratio=%{a}<br>tss=%{b}<br>tes=%{c}<extra></extra>\",\"hovertext\":[\"muscle\"],\"legendgroup\":\"muscle\",\"marker\":{\"color\":\"#17154f\",\"symbol\":\"circle\"},\"mode\":\"markers\",\"name\":\"muscle\",\"showlegend\":true,\"subplot\":\"ternary\",\"type\":\"scatterternary\"},{\"a\":[3.6],\"b\":[3],\"c\":[2],\"hovertemplate\":\"<b>%{hovertext}</b><br><br>sample=ovary<br>spl_ratio=%{a}<br>tss=%{b}<br>tes=%{c}<extra></extra>\",\"hovertext\":[\"ovary\"],\"legendgroup\":\"ovary\",\"marker\":{\"color\":\"#f5bb50\",\"symbol\":\"circle\"},\"mode\":\"markers\",\"name\":\"ovary\",\"showlegend\":true,\"subplot\":\"ternary\",\"type\":\"scatterternary\"},{\"a\":[1.0],\"b\":[1],\"c\":[1],\"hovertemplate\":\"<b>%{hovertext}</b><br><br>sample=pgp1<br>spl_ratio=%{a}<br>tss=%{b}<br>tes=%{c}<extra></extra>\",\"hovertext\":[\"pgp1\"],\"legendgroup\":\"pgp1\",\"marker\":{\"color\":\"#69476A\",\"symbol\":\"circle\"},\"mode\":\"markers\",\"name\":\"pgp1\",\"showlegend\":true,\"subplot\":\"ternary\",\"type\":\"scatterternary\"},{\"a\":[1.0],\"b\":[1],\"c\":[1],\"hovertemplate\":\"<b>%{hovertext}</b><br><br>sample=pgp1_astro<br>spl_ratio=%{a}<br>tss=%{b}<br>tes=%{c}<extra></extra>\",\"hovertext\":[\"pgp1_astro\"],\"legendgroup\":\"pgp1_astro\",\"marker\":{\"color\":\"#CB7456\",\"symbol\":\"circle\"},\"mode\":\"markers\",\"name\":\"pgp1_astro\",\"showlegend\":true,\"subplot\":\"ternary\",\"type\":\"scatterternary\"},{\"a\":[1.0],\"b\":[1],\"c\":[1],\"hovertemplate\":\"<b>%{hovertext}</b><br><br>sample=pgp1_endo<br>spl_ratio=%{a}<br>tss=%{b}<br>tes=%{c}<extra></extra>\",\"hovertext\":[\"pgp1_endo\"],\"legendgroup\":\"pgp1_endo\",\"marker\":{\"color\":\"#C16F5F\",\"symbol\":\"circle\"},\"mode\":\"markers\",\"name\":\"pgp1_endo\",\"showlegend\":true,\"subplot\":\"ternary\",\"type\":\"scatterternary\"},{\"a\":[11.714285714285714],\"b\":[5],\"c\":[2],\"hovertemplate\":\"<b>%{hovertext}</b><br><br>sample=vessels<br>spl_ratio=%{a}<br>tss=%{b}<br>tes=%{c}<extra></extra>\",\"hovertext\":[\"vessels\"],\"legendgroup\":\"vessels\",\"marker\":{\"color\":\"#6c5d9e\",\"symbol\":\"circle\"},\"mode\":\"markers\",\"name\":\"vessels\",\"showlegend\":true,\"subplot\":\"ternary\",\"type\":\"scatterternary\"}],                        {\"template\":{\"data\":{\"bar\":[{\"error_x\":{\"color\":\"#2a3f5f\"},\"error_y\":{\"color\":\"#2a3f5f\"},\"marker\":{\"line\":{\"color\":\"#E5ECF6\",\"width\":0.5},\"pattern\":{\"fillmode\":\"overlay\",\"size\":10,\"solidity\":0.2}},\"type\":\"bar\"}],\"barpolar\":[{\"marker\":{\"line\":{\"color\":\"#E5ECF6\",\"width\":0.5},\"pattern\":{\"fillmode\":\"overlay\",\"size\":10,\"solidity\":0.2}},\"type\":\"barpolar\"}],\"carpet\":[{\"aaxis\":{\"endlinecolor\":\"#2a3f5f\",\"gridcolor\":\"white\",\"linecolor\":\"white\",\"minorgridcolor\":\"white\",\"startlinecolor\":\"#2a3f5f\"},\"baxis\":{\"endlinecolor\":\"#2a3f5f\",\"gridcolor\":\"white\",\"linecolor\":\"white\",\"minorgridcolor\":\"white\",\"startlinecolor\":\"#2a3f5f\"},\"type\":\"carpet\"}],\"choropleth\":[{\"colorbar\":{\"outlinewidth\":0,\"ticks\":\"\"},\"type\":\"choropleth\"}],\"contour\":[{\"colorbar\":{\"outlinewidth\":0,\"ticks\":\"\"},\"colorscale\":[[0.0,\"#0d0887\"],[0.1111111111111111,\"#46039f\"],[0.2222222222222222,\"#7201a8\"],[0.3333333333333333,\"#9c179e\"],[0.4444444444444444,\"#bd3786\"],[0.5555555555555556,\"#d8576b\"],[0.6666666666666666,\"#ed7953\"],[0.7777777777777778,\"#fb9f3a\"],[0.8888888888888888,\"#fdca26\"],[1.0,\"#f0f921\"]],\"type\":\"contour\"}],\"contourcarpet\":[{\"colorbar\":{\"outlinewidth\":0,\"ticks\":\"\"},\"type\":\"contourcarpet\"}],\"heatmap\":[{\"colorbar\":{\"outlinewidth\":0,\"ticks\":\"\"},\"colorscale\":[[0.0,\"#0d0887\"],[0.1111111111111111,\"#46039f\"],[0.2222222222222222,\"#7201a8\"],[0.3333333333333333,\"#9c179e\"],[0.4444444444444444,\"#bd3786\"],[0.5555555555555556,\"#d8576b\"],[0.6666666666666666,\"#ed7953\"],[0.7777777777777778,\"#fb9f3a\"],[0.8888888888888888,\"#fdca26\"],[1.0,\"#f0f921\"]],\"type\":\"heatmap\"}],\"heatmapgl\":[{\"colorbar\":{\"outlinewidth\":0,\"ticks\":\"\"},\"colorscale\":[[0.0,\"#0d0887\"],[0.1111111111111111,\"#46039f\"],[0.2222222222222222,\"#7201a8\"],[0.3333333333333333,\"#9c179e\"],[0.4444444444444444,\"#bd3786\"],[0.5555555555555556,\"#d8576b\"],[0.6666666666666666,\"#ed7953\"],[0.7777777777777778,\"#fb9f3a\"],[0.8888888888888888,\"#fdca26\"],[1.0,\"#f0f921\"]],\"type\":\"heatmapgl\"}],\"histogram\":[{\"marker\":{\"pattern\":{\"fillmode\":\"overlay\",\"size\":10,\"solidity\":0.2}},\"type\":\"histogram\"}],\"histogram2d\":[{\"colorbar\":{\"outlinewidth\":0,\"ticks\":\"\"},\"colorscale\":[[0.0,\"#0d0887\"],[0.1111111111111111,\"#46039f\"],[0.2222222222222222,\"#7201a8\"],[0.3333333333333333,\"#9c179e\"],[0.4444444444444444,\"#bd3786\"],[0.5555555555555556,\"#d8576b\"],[0.6666666666666666,\"#ed7953\"],[0.7777777777777778,\"#fb9f3a\"],[0.8888888888888888,\"#fdca26\"],[1.0,\"#f0f921\"]],\"type\":\"histogram2d\"}],\"histogram2dcontour\":[{\"colorbar\":{\"outlinewidth\":0,\"ticks\":\"\"},\"colorscale\":[[0.0,\"#0d0887\"],[0.1111111111111111,\"#46039f\"],[0.2222222222222222,\"#7201a8\"],[0.3333333333333333,\"#9c179e\"],[0.4444444444444444,\"#bd3786\"],[0.5555555555555556,\"#d8576b\"],[0.6666666666666666,\"#ed7953\"],[0.7777777777777778,\"#fb9f3a\"],[0.8888888888888888,\"#fdca26\"],[1.0,\"#f0f921\"]],\"type\":\"histogram2dcontour\"}],\"mesh3d\":[{\"colorbar\":{\"outlinewidth\":0,\"ticks\":\"\"},\"type\":\"mesh3d\"}],\"parcoords\":[{\"line\":{\"colorbar\":{\"outlinewidth\":0,\"ticks\":\"\"}},\"type\":\"parcoords\"}],\"pie\":[{\"automargin\":true,\"type\":\"pie\"}],\"scatter\":[{\"marker\":{\"colorbar\":{\"outlinewidth\":0,\"ticks\":\"\"}},\"type\":\"scatter\"}],\"scatter3d\":[{\"line\":{\"colorbar\":{\"outlinewidth\":0,\"ticks\":\"\"}},\"marker\":{\"colorbar\":{\"outlinewidth\":0,\"ticks\":\"\"}},\"type\":\"scatter3d\"}],\"scattercarpet\":[{\"marker\":{\"colorbar\":{\"outlinewidth\":0,\"ticks\":\"\"}},\"type\":\"scattercarpet\"}],\"scattergeo\":[{\"marker\":{\"colorbar\":{\"outlinewidth\":0,\"ticks\":\"\"}},\"type\":\"scattergeo\"}],\"scattergl\":[{\"marker\":{\"colorbar\":{\"outlinewidth\":0,\"ticks\":\"\"}},\"type\":\"scattergl\"}],\"scattermapbox\":[{\"marker\":{\"colorbar\":{\"outlinewidth\":0,\"ticks\":\"\"}},\"type\":\"scattermapbox\"}],\"scatterpolar\":[{\"marker\":{\"colorbar\":{\"outlinewidth\":0,\"ticks\":\"\"}},\"type\":\"scatterpolar\"}],\"scatterpolargl\":[{\"marker\":{\"colorbar\":{\"outlinewidth\":0,\"ticks\":\"\"}},\"type\":\"scatterpolargl\"}],\"scatterternary\":[{\"marker\":{\"colorbar\":{\"outlinewidth\":0,\"ticks\":\"\"}},\"type\":\"scatterternary\"}],\"surface\":[{\"colorbar\":{\"outlinewidth\":0,\"ticks\":\"\"},\"colorscale\":[[0.0,\"#0d0887\"],[0.1111111111111111,\"#46039f\"],[0.2222222222222222,\"#7201a8\"],[0.3333333333333333,\"#9c179e\"],[0.4444444444444444,\"#bd3786\"],[0.5555555555555556,\"#d8576b\"],[0.6666666666666666,\"#ed7953\"],[0.7777777777777778,\"#fb9f3a\"],[0.8888888888888888,\"#fdca26\"],[1.0,\"#f0f921\"]],\"type\":\"surface\"}],\"table\":[{\"cells\":{\"fill\":{\"color\":\"#EBF0F8\"},\"line\":{\"color\":\"white\"}},\"header\":{\"fill\":{\"color\":\"#C8D4E3\"},\"line\":{\"color\":\"white\"}},\"type\":\"table\"}]},\"layout\":{\"annotationdefaults\":{\"arrowcolor\":\"#2a3f5f\",\"arrowhead\":0,\"arrowwidth\":1},\"autotypenumbers\":\"strict\",\"coloraxis\":{\"colorbar\":{\"outlinewidth\":0,\"ticks\":\"\"}},\"colorscale\":{\"diverging\":[[0,\"#8e0152\"],[0.1,\"#c51b7d\"],[0.2,\"#de77ae\"],[0.3,\"#f1b6da\"],[0.4,\"#fde0ef\"],[0.5,\"#f7f7f7\"],[0.6,\"#e6f5d0\"],[0.7,\"#b8e186\"],[0.8,\"#7fbc41\"],[0.9,\"#4d9221\"],[1,\"#276419\"]],\"sequential\":[[0.0,\"#0d0887\"],[0.1111111111111111,\"#46039f\"],[0.2222222222222222,\"#7201a8\"],[0.3333333333333333,\"#9c179e\"],[0.4444444444444444,\"#bd3786\"],[0.5555555555555556,\"#d8576b\"],[0.6666666666666666,\"#ed7953\"],[0.7777777777777778,\"#fb9f3a\"],[0.8888888888888888,\"#fdca26\"],[1.0,\"#f0f921\"]],\"sequentialminus\":[[0.0,\"#0d0887\"],[0.1111111111111111,\"#46039f\"],[0.2222222222222222,\"#7201a8\"],[0.3333333333333333,\"#9c179e\"],[0.4444444444444444,\"#bd3786\"],[0.5555555555555556,\"#d8576b\"],[0.6666666666666666,\"#ed7953\"],[0.7777777777777778,\"#fb9f3a\"],[0.8888888888888888,\"#fdca26\"],[1.0,\"#f0f921\"]]},\"colorway\":[\"#636efa\",\"#EF553B\",\"#00cc96\",\"#ab63fa\",\"#FFA15A\",\"#19d3f3\",\"#FF6692\",\"#B6E880\",\"#FF97FF\",\"#FECB52\"],\"font\":{\"color\":\"#2a3f5f\"},\"geo\":{\"bgcolor\":\"white\",\"lakecolor\":\"white\",\"landcolor\":\"#E5ECF6\",\"showlakes\":true,\"showland\":true,\"subunitcolor\":\"white\"},\"hoverlabel\":{\"align\":\"left\"},\"hovermode\":\"closest\",\"mapbox\":{\"style\":\"light\"},\"paper_bgcolor\":\"white\",\"plot_bgcolor\":\"#E5ECF6\",\"polar\":{\"angularaxis\":{\"gridcolor\":\"white\",\"linecolor\":\"white\",\"ticks\":\"\"},\"bgcolor\":\"#E5ECF6\",\"radialaxis\":{\"gridcolor\":\"white\",\"linecolor\":\"white\",\"ticks\":\"\"}},\"scene\":{\"xaxis\":{\"backgroundcolor\":\"#E5ECF6\",\"gridcolor\":\"white\",\"gridwidth\":2,\"linecolor\":\"white\",\"showbackground\":true,\"ticks\":\"\",\"zerolinecolor\":\"white\"},\"yaxis\":{\"backgroundcolor\":\"#E5ECF6\",\"gridcolor\":\"white\",\"gridwidth\":2,\"linecolor\":\"white\",\"showbackground\":true,\"ticks\":\"\",\"zerolinecolor\":\"white\"},\"zaxis\":{\"backgroundcolor\":\"#E5ECF6\",\"gridcolor\":\"white\",\"gridwidth\":2,\"linecolor\":\"white\",\"showbackground\":true,\"ticks\":\"\",\"zerolinecolor\":\"white\"}},\"shapedefaults\":{\"line\":{\"color\":\"#2a3f5f\"}},\"ternary\":{\"aaxis\":{\"gridcolor\":\"white\",\"linecolor\":\"white\",\"ticks\":\"\"},\"baxis\":{\"gridcolor\":\"white\",\"linecolor\":\"white\",\"ticks\":\"\"},\"bgcolor\":\"#E5ECF6\",\"caxis\":{\"gridcolor\":\"white\",\"linecolor\":\"white\",\"ticks\":\"\"}},\"title\":{\"x\":0.05},\"xaxis\":{\"automargin\":true,\"gridcolor\":\"white\",\"linecolor\":\"white\",\"ticks\":\"\",\"title\":{\"standoff\":15},\"zerolinecolor\":\"white\",\"zerolinewidth\":2},\"yaxis\":{\"automargin\":true,\"gridcolor\":\"white\",\"linecolor\":\"white\",\"ticks\":\"\",\"title\":{\"standoff\":15},\"zerolinecolor\":\"white\",\"zerolinewidth\":2}}},\"ternary\":{\"domain\":{\"x\":[0.0,1.0],\"y\":[0.0,1.0]},\"aaxis\":{\"title\":{\"text\":\"spl_ratio\"}},\"baxis\":{\"title\":{\"text\":\"tss\"}},\"caxis\":{\"title\":{\"text\":\"tes\"}}},\"legend\":{\"title\":{\"text\":\"sample\"},\"tracegroupgap\":0},\"title\":{\"text\":\"DES\"}},                        {\"responsive\": true}                    ).then(function(){\n",
       "                            \n",
       "var gd = document.getElementById('904cbab9-0911-4a8b-89c3-a1cc76f484f6');\n",
       "var x = new MutationObserver(function (mutations, observer) {{\n",
       "        var display = window.getComputedStyle(gd).display;\n",
       "        if (!display || display === 'none') {{\n",
       "            console.log([gd, 'removed!']);\n",
       "            Plotly.purge(gd);\n",
       "            observer.disconnect();\n",
       "        }}\n",
       "}});\n",
       "\n",
       "// Listen for the removal of the full notebook cells\n",
       "var notebookContainer = gd.closest('#notebook-container');\n",
       "if (notebookContainer) {{\n",
       "    x.observe(notebookContainer, {childList: true});\n",
       "}}\n",
       "\n",
       "// Listen for the clearing of the current output cell\n",
       "var outputEl = gd.closest('.output');\n",
       "if (outputEl) {{\n",
       "    x.observe(outputEl, {childList: true});\n",
       "}}\n",
       "\n",
       "                        })                };                });            </script>        </div>"
      ]
     },
     "metadata": {},
     "output_type": "display_data"
    }
   ],
   "source": [
    "plot_gene_ternary(counts, 'DES')"
   ]
  },
  {
   "cell_type": "code",
   "execution_count": 10,
   "id": "203edb13-c099-42a7-af02-4d3e02b072ea",
   "metadata": {},
   "outputs": [
    {
     "data": {
      "text/html": [
       "<div>\n",
       "<style scoped>\n",
       "    .dataframe tbody tr th:only-of-type {\n",
       "        vertical-align: middle;\n",
       "    }\n",
       "\n",
       "    .dataframe tbody tr th {\n",
       "        vertical-align: top;\n",
       "    }\n",
       "\n",
       "    .dataframe thead th {\n",
       "        text-align: right;\n",
       "    }\n",
       "</style>\n",
       "<table border=\"1\" class=\"dataframe\">\n",
       "  <thead>\n",
       "    <tr style=\"text-align: right;\">\n",
       "      <th></th>\n",
       "      <th>tss</th>\n",
       "      <th>intron_chain</th>\n",
       "      <th>tes</th>\n",
       "      <th>tss_ic_tes</th>\n",
       "      <th>gid</th>\n",
       "      <th>gname</th>\n",
       "    </tr>\n",
       "  </thead>\n",
       "  <tbody>\n",
       "    <tr>\n",
       "      <th>7819</th>\n",
       "      <td>7</td>\n",
       "      <td>158</td>\n",
       "      <td>13</td>\n",
       "      <td>158</td>\n",
       "      <td>ENSG00000049540.16</td>\n",
       "      <td>ELN</td>\n",
       "    </tr>\n",
       "  </tbody>\n",
       "</table>\n",
       "</div>"
      ],
      "text/plain": [
       "      tss  intron_chain  tes  tss_ic_tes                 gid gname\n",
       "7819    7           158   13         158  ENSG00000049540.16   ELN"
      ]
     },
     "execution_count": 10,
     "metadata": {},
     "output_type": "execute_result"
    }
   ],
   "source": [
    "all_counts.loc[all_counts.gname == 'ELN']"
   ]
  },
  {
   "cell_type": "markdown",
   "id": "655db784-255d-4b51-9c6d-3bb1a82026d3",
   "metadata": {},
   "source": [
    "90% set "
   ]
  },
  {
   "cell_type": "markdown",
   "id": "a6984a5f-0426-4ba4-b8ea-329d12fcf2e3",
   "metadata": {},
   "source": [
    "Observed transcripts"
   ]
  },
  {
   "cell_type": "code",
   "execution_count": 2,
   "id": "ba9a9f51-485b-42f8-966b-28bf11970b5c",
   "metadata": {},
   "outputs": [
    {
     "name": "stdout",
     "output_type": "stream",
     "text": [
      "Read in graph from swan.p\n",
      "will need to eventually compute / merge these after annotated ones\n"
     ]
    }
   ],
   "source": [
    "# sg = swan.read('swan.p')\n",
    "# df, counts, regions = get_ic_tss_tes(sg,\n",
    "#                                      kind='obs', \n",
    "#                                      subset='polya')"
   ]
  },
  {
   "cell_type": "code",
   "execution_count": 29,
   "id": "c92bf1a0-2043-4e19-8163-44d3e54e63c5",
   "metadata": {},
   "outputs": [],
   "source": [
    "# plot_region_widths(obs_counts, \n",
    "#                    kind='obs',\n",
    "#                    opref='figures/human')"
   ]
  },
  {
   "cell_type": "code",
   "execution_count": 38,
   "id": "4c7a2b2e-166f-4d3b-8e59-26968b01a551",
   "metadata": {},
   "outputs": [
    {
     "data": {
      "image/png": "[encoded data removed]",
      "text/plain": [
       "<Figure size 360x360 with 1 Axes>"
      ]
     },
     "metadata": {
      "needs_background": "light"
     },
     "output_type": "display_data"
    },
    {
     "data": {
      "image/png": "[encoded data removed]",
      "text/plain": [
       "<Figure size 360x360 with 1 Axes>"
      ]
     },
     "metadata": {
      "needs_background": "light"
     },
     "output_type": "display_data"
    },
    {
     "data": {
      "image/png": "[encoded data removed]",
      "text/plain": [
       "<Figure size 360x360 with 1 Axes>"
      ]
     },
     "metadata": {
      "needs_background": "light"
     },
     "output_type": "display_data"
    }
   ],
   "source": [
    "# opref = 'figures/human'\n",
    "# kind = 'obs'\n",
    "\n",
    "# temp_counts = counts.melt(id_vars=['gid', 'gname'])\n",
    "# cols = ['tss', 'tes', 'intron_chain']\n",
    "\n",
    "# max_val = 10\n",
    "\n",
    "# for c in cols:\n",
    "#     sns.set_context('paper', font_scale=1.8)\n",
    "#     temp = temp_counts.loc[temp_counts.variable == c].copy(deep=True)\n",
    "#     temp.loc[temp['value'] > 10, 'value'] = 10\n",
    "#     ax = sns.displot(data=temp, x='value', kind='hist',\n",
    "#                      binwidth=1,linewidth=0, log_scale=(0,2))\n",
    "    \n",
    "#     if c == 'tss' or c == 'tes':\n",
    "#         xlabel = '# {}s'.format(c.upper())\n",
    "#     else:\n",
    "#         xlabel = '# {}s'.format(c)\n",
    "    \n",
    "#     if kind == 'annot':\n",
    "#         ylabel = '# GENCODE genes'\n",
    "#     elif kind == 'obs':\n",
    "#         ylabel = '# observed genes'\n",
    "        \n",
    "#     a = [2,4,6,8,10]\n",
    "#     b = a.copy()\n",
    "#     b[-1] = '10+'\n",
    "#     plt.xticks(a, b)\n",
    "    \n",
    "#     ax.set(xlabel=xlabel, ylabel=ylabel)\n",
    "    \n",
    "#     fname = '{}_{}_{}_hist.png'.format(opref,kind,c)\n",
    "#     plt.savefig(fname, dpi=300, bbox_inches='tight')\n"
   ]
  },
  {
   "cell_type": "code",
   "execution_count": 46,
   "id": "f512bb5f-5ce0-47d7-8969-b34bc3ebf062",
   "metadata": {},
   "outputs": [
    {
     "data": {
      "text/plain": [
       "26812"
      ]
     },
     "execution_count": 46,
     "metadata": {},
     "output_type": "execute_result"
    }
   ],
   "source": [
    "len(counts.index)"
   ]
  },
  {
   "cell_type": "code",
   "execution_count": 12,
   "id": "4fec17bc-9f73-4183-8c26-a0aecc9ba802",
   "metadata": {},
   "outputs": [
    {
     "data": {
      "image/png": "[encoded data removed]",
      "text/plain": [
       "<Figure size 432x576 with 2 Axes>"
      ]
     },
     "metadata": {
      "needs_background": "light"
     },
     "output_type": "display_data"
    },
    {
     "data": {
      "image/png": "[encoded data removed]",
      "text/plain": [
       "<Figure size 432x576 with 2 Axes>"
      ]
     },
     "metadata": {
      "needs_background": "light"
     },
     "output_type": "display_data"
    },
    {
     "data": {
      "image/png": "[encoded data removed]",
      "text/plain": [
       "<Figure size 432x576 with 2 Axes>"
      ]
     },
     "metadata": {
      "needs_background": "light"
     },
     "output_type": "display_data"
    }
   ],
   "source": [
    "genes = ['PAX6', 'TCF4', 'MAPK10', 'ELN', 'MEF2C', 'MYOD1', 'MYOG']\n",
    "plot_n_ic_tss_tes(obs_counts, \n",
    "                  label_genes=genes,\n",
    "                  kind='obs',\n",
    "                  opref='figures/human')"
   ]
  },
  {
   "cell_type": "code",
   "execution_count": 13,
   "id": "803f980f-3f21-4171-8248-cd8cff3b84da",
   "metadata": {},
   "outputs": [
    {
     "data": {
      "text/html": [
       "<div>\n",
       "<style scoped>\n",
       "    .dataframe tbody tr th:only-of-type {\n",
       "        vertical-align: middle;\n",
       "    }\n",
       "\n",
       "    .dataframe tbody tr th {\n",
       "        vertical-align: top;\n",
       "    }\n",
       "\n",
       "    .dataframe thead th {\n",
       "        text-align: right;\n",
       "    }\n",
       "</style>\n",
       "<table border=\"1\" class=\"dataframe\">\n",
       "  <thead>\n",
       "    <tr style=\"text-align: right;\">\n",
       "      <th></th>\n",
       "      <th>tss</th>\n",
       "      <th>intron_chain</th>\n",
       "      <th>tes</th>\n",
       "      <th>tss_ic_tes</th>\n",
       "      <th>gid</th>\n",
       "      <th>gname</th>\n",
       "    </tr>\n",
       "  </thead>\n",
       "  <tbody>\n",
       "    <tr>\n",
       "      <th>22306</th>\n",
       "      <td>2</td>\n",
       "      <td>2</td>\n",
       "      <td>1</td>\n",
       "      <td>2</td>\n",
       "      <td>ENSG00000122180.4</td>\n",
       "      <td>MYOG</td>\n",
       "    </tr>\n",
       "    <tr>\n",
       "      <th>26297</th>\n",
       "      <td>1</td>\n",
       "      <td>1</td>\n",
       "      <td>1</td>\n",
       "      <td>1</td>\n",
       "      <td>ENSG00000129152.3</td>\n",
       "      <td>MYOD1</td>\n",
       "    </tr>\n",
       "  </tbody>\n",
       "</table>\n",
       "</div>"
      ],
      "text/plain": [
       "       tss  intron_chain  tes  tss_ic_tes                gid  gname\n",
       "22306    2             2    1           2  ENSG00000122180.4   MYOG\n",
       "26297    1             1    1           1  ENSG00000129152.3  MYOD1"
      ]
     },
     "execution_count": 13,
     "metadata": {},
     "output_type": "execute_result"
    }
   ],
   "source": [
    "obs_counts.loc[obs_counts.gname.isin(['MYOD1', 'MYOG'])]"
   ]
  },
  {
   "cell_type": "code",
   "execution_count": 14,
   "id": "67eb5cef-ecdf-4539-a562-af983132f52a",
   "metadata": {},
   "outputs": [
    {
     "data": {
      "image/png": "[encoded data removed]",
      "text/plain": [
       "<Figure size 432x576 with 2 Axes>"
      ]
     },
     "metadata": {
      "needs_background": "light"
     },
     "output_type": "display_data"
    }
   ],
   "source": [
    "plot_genes_n_ic_ends(obs_counts, \n",
    "                     kind='obs', \n",
    "                     opref='figures/human')"
   ]
  },
  {
   "cell_type": "code",
   "execution_count": 17,
   "id": "15195615-bc63-4976-bc7c-67b0746df3dd",
   "metadata": {},
   "outputs": [
    {
     "data": {
      "text/html": [
       "<div>\n",
       "<style scoped>\n",
       "    .dataframe tbody tr th:only-of-type {\n",
       "        vertical-align: middle;\n",
       "    }\n",
       "\n",
       "    .dataframe tbody tr th {\n",
       "        vertical-align: top;\n",
       "    }\n",
       "\n",
       "    .dataframe thead th {\n",
       "        text-align: right;\n",
       "    }\n",
       "</style>\n",
       "<table border=\"1\" class=\"dataframe\">\n",
       "  <thead>\n",
       "    <tr style=\"text-align: right;\">\n",
       "      <th></th>\n",
       "      <th>tss</th>\n",
       "      <th>intron_chain</th>\n",
       "      <th>tes</th>\n",
       "      <th>tss_ic_tes</th>\n",
       "      <th>gid</th>\n",
       "      <th>gname</th>\n",
       "      <th>tss_tes</th>\n",
       "    </tr>\n",
       "  </thead>\n",
       "  <tbody>\n",
       "    <tr>\n",
       "      <th>8306</th>\n",
       "      <td>5</td>\n",
       "      <td>7</td>\n",
       "      <td>4</td>\n",
       "      <td>7</td>\n",
       "      <td>ENSG00000000003.14</td>\n",
       "      <td>TSPAN6</td>\n",
       "      <td>9</td>\n",
       "    </tr>\n",
       "    <tr>\n",
       "      <th>48059</th>\n",
       "      <td>1</td>\n",
       "      <td>1</td>\n",
       "      <td>1</td>\n",
       "      <td>1</td>\n",
       "      <td>ENSG00000000005.5</td>\n",
       "      <td>TNMD</td>\n",
       "      <td>2</td>\n",
       "    </tr>\n",
       "    <tr>\n",
       "      <th>18379</th>\n",
       "      <td>1</td>\n",
       "      <td>7</td>\n",
       "      <td>3</td>\n",
       "      <td>7</td>\n",
       "      <td>ENSG00000000419.12</td>\n",
       "      <td>DPM1</td>\n",
       "      <td>4</td>\n",
       "    </tr>\n",
       "    <tr>\n",
       "      <th>18446</th>\n",
       "      <td>3</td>\n",
       "      <td>5</td>\n",
       "      <td>3</td>\n",
       "      <td>5</td>\n",
       "      <td>ENSG00000000457.13</td>\n",
       "      <td>SCYL3</td>\n",
       "      <td>6</td>\n",
       "    </tr>\n",
       "    <tr>\n",
       "      <th>18443</th>\n",
       "      <td>5</td>\n",
       "      <td>7</td>\n",
       "      <td>3</td>\n",
       "      <td>7</td>\n",
       "      <td>ENSG00000000460.16</td>\n",
       "      <td>C1orf112</td>\n",
       "      <td>8</td>\n",
       "    </tr>\n",
       "  </tbody>\n",
       "</table>\n",
       "</div>"
      ],
      "text/plain": [
       "       tss  intron_chain  tes  tss_ic_tes                 gid     gname  \\\n",
       "8306     5             7    4           7  ENSG00000000003.14    TSPAN6   \n",
       "48059    1             1    1           1   ENSG00000000005.5      TNMD   \n",
       "18379    1             7    3           7  ENSG00000000419.12      DPM1   \n",
       "18446    3             5    3           5  ENSG00000000457.13     SCYL3   \n",
       "18443    5             7    3           7  ENSG00000000460.16  C1orf112   \n",
       "\n",
       "       tss_tes  \n",
       "8306         9  \n",
       "48059        2  \n",
       "18379        4  \n",
       "18446        6  \n",
       "18443        8  "
      ]
     },
     "execution_count": 17,
     "metadata": {},
     "output_type": "execute_result"
    }
   ],
   "source": [
    "obs_counts.head()"
   ]
  },
  {
   "cell_type": "code",
   "execution_count": 24,
   "id": "093dab72-3176-4e6a-b43b-6129ce53f602",
   "metadata": {},
   "outputs": [],
   "source": [
    "opref = 'figures/human'\n",
    "kind = 'obs'"
   ]
  },
  {
   "cell_type": "code",
   "execution_count": 39,
   "id": "681f287d-acf5-4d76-9a0d-1636df46752c",
   "metadata": {},
   "outputs": [],
   "source": [
    "# ternary plot\n",
    "import plotly.express as px\n",
    "\n",
    "# compute ratios anyway \n",
    "obs_counts['total'] = obs_counts.tss+obs_counts.tes+obs_counts.intron_chain\n",
    "obs_counts['tss_ratio'] = obs_counts.tss/obs_counts.total\n",
    "obs_counts['tes_ratio'] = obs_counts.tes/obs_counts.total\n",
    "obs_counts['intron_chain_ratio'] = obs_counts.intron_chain/obs_counts.total  \n",
    "obs_counts['size'] = 1\n",
    "obs_counts['tss_ic_ratio'] = obs_counts.intron_chain/obs_counts.tss\n",
    "obs_counts['tes_ic_ratio'] = obs_counts.intron_chain/obs_counts.tes\n",
    "obs_counts['ic_end_ratio'] = obs_counts.intron_chain/((obs_counts.tes+obs_counts.tss)/2)\n",
    "obs_counts['color'] = 'color'\n",
    "\n",
    "c_dict = {'color': '#e78424'}\n",
    "\n",
    "                                                               \n",
    "# fig = px.scatter_ternary(obs_counts,\n",
    "#                          a='intron_chain',\n",
    "#                          b='tss',\n",
    "#                          c='tes',\n",
    "#                          hover_name='gname', \n",
    "#                          color='color',\n",
    "#                          color_discrete_map=c_dict)\n",
    "# fig = px.scatter_ternary(obs_counts,\n",
    "#                          a='tss_ic_ratio',\n",
    "#                          b='tss',\n",
    "#                          c='tes',\n",
    "#                          hover_name='gname')\n",
    "# fig = px.scatter_ternary(obs_counts,\n",
    "#                          a='ic_end_ratio',\n",
    "#                          b='tss',\n",
    "#                          c='tes',\n",
    "#                          hover_name='gname', \n",
    "#                          color='color',\n",
    "#                          color_discrete_map=c_dict)\n",
    "# fig.show()\n",
    "# fname = '{}_{}_tss_ic_tes_ternary.png'.format(opref, kind)\n",
    "# fig.write_image(fname)\n"
   ]
  },
  {
   "cell_type": "code",
   "execution_count": 59,
   "id": "8b37094d-0a8c-462a-8bfc-b98aaf1afe7a",
   "metadata": {},
   "outputs": [
    {
     "data": {
      "text/plain": [
       "{'color': '#e78424'}"
      ]
     },
     "execution_count": 59,
     "metadata": {},
     "output_type": "execute_result"
    }
   ],
   "source": [
    "c_dict"
   ]
  },
  {
   "cell_type": "code",
   "execution_count": 27,
   "id": "49e5a339-0480-4a70-8664-084e7dbbe4a6",
   "metadata": {},
   "outputs": [
    {
     "data": {
      "text/html": [
       "<div>\n",
       "<style scoped>\n",
       "    .dataframe tbody tr th:only-of-type {\n",
       "        vertical-align: middle;\n",
       "    }\n",
       "\n",
       "    .dataframe tbody tr th {\n",
       "        vertical-align: top;\n",
       "    }\n",
       "\n",
       "    .dataframe thead th {\n",
       "        text-align: right;\n",
       "    }\n",
       "</style>\n",
       "<table border=\"1\" class=\"dataframe\">\n",
       "  <thead>\n",
       "    <tr style=\"text-align: right;\">\n",
       "      <th></th>\n",
       "      <th>tss</th>\n",
       "      <th>intron_chain</th>\n",
       "      <th>tes</th>\n",
       "      <th>tss_ic_tes</th>\n",
       "      <th>gid</th>\n",
       "      <th>gname</th>\n",
       "      <th>total</th>\n",
       "      <th>tss_ratio</th>\n",
       "      <th>tes_ratio</th>\n",
       "      <th>intron_chain_ratio</th>\n",
       "      <th>size</th>\n",
       "      <th>tss_ic_ratio</th>\n",
       "      <th>tes_ic_ratio</th>\n",
       "      <th>ic_end_ratio</th>\n",
       "    </tr>\n",
       "  </thead>\n",
       "  <tbody>\n",
       "    <tr>\n",
       "      <th>21069</th>\n",
       "      <td>1</td>\n",
       "      <td>39</td>\n",
       "      <td>3</td>\n",
       "      <td>39</td>\n",
       "      <td>ENSG00000168542.14</td>\n",
       "      <td>COL3A1</td>\n",
       "      <td>43</td>\n",
       "      <td>0.023256</td>\n",
       "      <td>0.069767</td>\n",
       "      <td>0.906977</td>\n",
       "      <td>1</td>\n",
       "      <td>39.0</td>\n",
       "      <td>13.0</td>\n",
       "      <td>19.5</td>\n",
       "    </tr>\n",
       "  </tbody>\n",
       "</table>\n",
       "</div>"
      ],
      "text/plain": [
       "       tss  intron_chain  tes  tss_ic_tes                 gid   gname  total  \\\n",
       "21069    1            39    3          39  ENSG00000168542.14  COL3A1     43   \n",
       "\n",
       "       tss_ratio  tes_ratio  intron_chain_ratio  size  tss_ic_ratio  \\\n",
       "21069   0.023256   0.069767            0.906977     1          39.0   \n",
       "\n",
       "       tes_ic_ratio  ic_end_ratio  \n",
       "21069          13.0          19.5  "
      ]
     },
     "execution_count": 27,
     "metadata": {},
     "output_type": "execute_result"
    }
   ],
   "source": [
    "obs_counts.loc[obs_counts.gname == 'COL3A1']"
   ]
  },
  {
   "cell_type": "code",
   "execution_count": 23,
   "id": "3510ab2b-4be2-4390-98fc-d09f2ae3f029",
   "metadata": {},
   "outputs": [
    {
     "data": {
      "text/html": [
       "<div>\n",
       "<style scoped>\n",
       "    .dataframe tbody tr th:only-of-type {\n",
       "        vertical-align: middle;\n",
       "    }\n",
       "\n",
       "    .dataframe tbody tr th {\n",
       "        vertical-align: top;\n",
       "    }\n",
       "\n",
       "    .dataframe thead th {\n",
       "        text-align: right;\n",
       "    }\n",
       "</style>\n",
       "<table border=\"1\" class=\"dataframe\">\n",
       "  <thead>\n",
       "    <tr style=\"text-align: right;\">\n",
       "      <th></th>\n",
       "      <th>tss</th>\n",
       "      <th>intron_chain</th>\n",
       "      <th>tes</th>\n",
       "      <th>tss_ic_tes</th>\n",
       "      <th>gid</th>\n",
       "      <th>gname</th>\n",
       "      <th>total</th>\n",
       "      <th>tss_ratio</th>\n",
       "      <th>tes_ratio</th>\n",
       "      <th>intron_chain_ratio</th>\n",
       "      <th>size</th>\n",
       "      <th>tss_ic_ratio</th>\n",
       "      <th>tes_ic_ratio</th>\n",
       "      <th>ic_end_ratio</th>\n",
       "    </tr>\n",
       "  </thead>\n",
       "  <tbody>\n",
       "    <tr>\n",
       "      <th>7819</th>\n",
       "      <td>3</td>\n",
       "      <td>139</td>\n",
       "      <td>7</td>\n",
       "      <td>139</td>\n",
       "      <td>ENSG00000049540.16</td>\n",
       "      <td>ELN</td>\n",
       "      <td>149</td>\n",
       "      <td>0.020134</td>\n",
       "      <td>0.046980</td>\n",
       "      <td>0.932886</td>\n",
       "      <td>1</td>\n",
       "      <td>46.333333</td>\n",
       "      <td>19.857143</td>\n",
       "      <td>27.8</td>\n",
       "    </tr>\n",
       "    <tr>\n",
       "      <th>16732</th>\n",
       "      <td>1</td>\n",
       "      <td>22</td>\n",
       "      <td>1</td>\n",
       "      <td>22</td>\n",
       "      <td>ENSG00000143416.20</td>\n",
       "      <td>SELENBP1</td>\n",
       "      <td>24</td>\n",
       "      <td>0.041667</td>\n",
       "      <td>0.041667</td>\n",
       "      <td>0.916667</td>\n",
       "      <td>1</td>\n",
       "      <td>22.000000</td>\n",
       "      <td>22.000000</td>\n",
       "      <td>22.0</td>\n",
       "    </tr>\n",
       "    <tr>\n",
       "      <th>7398</th>\n",
       "      <td>2</td>\n",
       "      <td>30</td>\n",
       "      <td>1</td>\n",
       "      <td>30</td>\n",
       "      <td>ENSG00000123136.14</td>\n",
       "      <td>DDX39A</td>\n",
       "      <td>33</td>\n",
       "      <td>0.060606</td>\n",
       "      <td>0.030303</td>\n",
       "      <td>0.909091</td>\n",
       "      <td>1</td>\n",
       "      <td>15.000000</td>\n",
       "      <td>30.000000</td>\n",
       "      <td>20.0</td>\n",
       "    </tr>\n",
       "    <tr>\n",
       "      <th>21069</th>\n",
       "      <td>1</td>\n",
       "      <td>39</td>\n",
       "      <td>3</td>\n",
       "      <td>39</td>\n",
       "      <td>ENSG00000168542.14</td>\n",
       "      <td>COL3A1</td>\n",
       "      <td>43</td>\n",
       "      <td>0.023256</td>\n",
       "      <td>0.069767</td>\n",
       "      <td>0.906977</td>\n",
       "      <td>1</td>\n",
       "      <td>39.000000</td>\n",
       "      <td>13.000000</td>\n",
       "      <td>19.5</td>\n",
       "    </tr>\n",
       "    <tr>\n",
       "      <th>18194</th>\n",
       "      <td>1</td>\n",
       "      <td>17</td>\n",
       "      <td>1</td>\n",
       "      <td>17</td>\n",
       "      <td>ENSG00000100991.11</td>\n",
       "      <td>TRPC4AP</td>\n",
       "      <td>19</td>\n",
       "      <td>0.052632</td>\n",
       "      <td>0.052632</td>\n",
       "      <td>0.894737</td>\n",
       "      <td>1</td>\n",
       "      <td>17.000000</td>\n",
       "      <td>17.000000</td>\n",
       "      <td>17.0</td>\n",
       "    </tr>\n",
       "    <tr>\n",
       "      <th>...</th>\n",
       "      <td>...</td>\n",
       "      <td>...</td>\n",
       "      <td>...</td>\n",
       "      <td>...</td>\n",
       "      <td>...</td>\n",
       "      <td>...</td>\n",
       "      <td>...</td>\n",
       "      <td>...</td>\n",
       "      <td>...</td>\n",
       "      <td>...</td>\n",
       "      <td>...</td>\n",
       "      <td>...</td>\n",
       "      <td>...</td>\n",
       "      <td>...</td>\n",
       "    </tr>\n",
       "    <tr>\n",
       "      <th>205457</th>\n",
       "      <td>2</td>\n",
       "      <td>1</td>\n",
       "      <td>2</td>\n",
       "      <td>2</td>\n",
       "      <td>ENSG00000272599.2</td>\n",
       "      <td>AC016394.1</td>\n",
       "      <td>5</td>\n",
       "      <td>0.400000</td>\n",
       "      <td>0.400000</td>\n",
       "      <td>0.200000</td>\n",
       "      <td>1</td>\n",
       "      <td>0.500000</td>\n",
       "      <td>0.500000</td>\n",
       "      <td>0.5</td>\n",
       "    </tr>\n",
       "    <tr>\n",
       "      <th>148943</th>\n",
       "      <td>2</td>\n",
       "      <td>1</td>\n",
       "      <td>2</td>\n",
       "      <td>2</td>\n",
       "      <td>ENSG00000187479.6</td>\n",
       "      <td>C11orf96</td>\n",
       "      <td>5</td>\n",
       "      <td>0.400000</td>\n",
       "      <td>0.400000</td>\n",
       "      <td>0.200000</td>\n",
       "      <td>1</td>\n",
       "      <td>0.500000</td>\n",
       "      <td>0.500000</td>\n",
       "      <td>0.5</td>\n",
       "    </tr>\n",
       "    <tr>\n",
       "      <th>26751</th>\n",
       "      <td>2</td>\n",
       "      <td>1</td>\n",
       "      <td>2</td>\n",
       "      <td>2</td>\n",
       "      <td>ENSG00000132967.9</td>\n",
       "      <td>HMGB1P5</td>\n",
       "      <td>5</td>\n",
       "      <td>0.400000</td>\n",
       "      <td>0.400000</td>\n",
       "      <td>0.200000</td>\n",
       "      <td>1</td>\n",
       "      <td>0.500000</td>\n",
       "      <td>0.500000</td>\n",
       "      <td>0.5</td>\n",
       "    </tr>\n",
       "    <tr>\n",
       "      <th>106858</th>\n",
       "      <td>2</td>\n",
       "      <td>1</td>\n",
       "      <td>2</td>\n",
       "      <td>2</td>\n",
       "      <td>ENSG00000235217.6</td>\n",
       "      <td>TSPY26P</td>\n",
       "      <td>5</td>\n",
       "      <td>0.400000</td>\n",
       "      <td>0.400000</td>\n",
       "      <td>0.200000</td>\n",
       "      <td>1</td>\n",
       "      <td>0.500000</td>\n",
       "      <td>0.500000</td>\n",
       "      <td>0.5</td>\n",
       "    </tr>\n",
       "    <tr>\n",
       "      <th>41357</th>\n",
       "      <td>2</td>\n",
       "      <td>1</td>\n",
       "      <td>2</td>\n",
       "      <td>2</td>\n",
       "      <td>ENSG00000214262.4</td>\n",
       "      <td>ANKRD36BP1</td>\n",
       "      <td>5</td>\n",
       "      <td>0.400000</td>\n",
       "      <td>0.400000</td>\n",
       "      <td>0.200000</td>\n",
       "      <td>1</td>\n",
       "      <td>0.500000</td>\n",
       "      <td>0.500000</td>\n",
       "      <td>0.5</td>\n",
       "    </tr>\n",
       "  </tbody>\n",
       "</table>\n",
       "<p>23990 rows × 14 columns</p>\n",
       "</div>"
      ],
      "text/plain": [
       "        tss  intron_chain  tes  tss_ic_tes                 gid       gname  \\\n",
       "7819      3           139    7         139  ENSG00000049540.16         ELN   \n",
       "16732     1            22    1          22  ENSG00000143416.20    SELENBP1   \n",
       "7398      2            30    1          30  ENSG00000123136.14      DDX39A   \n",
       "21069     1            39    3          39  ENSG00000168542.14      COL3A1   \n",
       "18194     1            17    1          17  ENSG00000100991.11     TRPC4AP   \n",
       "...     ...           ...  ...         ...                 ...         ...   \n",
       "205457    2             1    2           2   ENSG00000272599.2  AC016394.1   \n",
       "148943    2             1    2           2   ENSG00000187479.6    C11orf96   \n",
       "26751     2             1    2           2   ENSG00000132967.9     HMGB1P5   \n",
       "106858    2             1    2           2   ENSG00000235217.6     TSPY26P   \n",
       "41357     2             1    2           2   ENSG00000214262.4  ANKRD36BP1   \n",
       "\n",
       "        total  tss_ratio  tes_ratio  intron_chain_ratio  size  tss_ic_ratio  \\\n",
       "7819      149   0.020134   0.046980            0.932886     1     46.333333   \n",
       "16732      24   0.041667   0.041667            0.916667     1     22.000000   \n",
       "7398       33   0.060606   0.030303            0.909091     1     15.000000   \n",
       "21069      43   0.023256   0.069767            0.906977     1     39.000000   \n",
       "18194      19   0.052632   0.052632            0.894737     1     17.000000   \n",
       "...       ...        ...        ...                 ...   ...           ...   \n",
       "205457      5   0.400000   0.400000            0.200000     1      0.500000   \n",
       "148943      5   0.400000   0.400000            0.200000     1      0.500000   \n",
       "26751       5   0.400000   0.400000            0.200000     1      0.500000   \n",
       "106858      5   0.400000   0.400000            0.200000     1      0.500000   \n",
       "41357       5   0.400000   0.400000            0.200000     1      0.500000   \n",
       "\n",
       "        tes_ic_ratio  ic_end_ratio  \n",
       "7819       19.857143          27.8  \n",
       "16732      22.000000          22.0  \n",
       "7398       30.000000          20.0  \n",
       "21069      13.000000          19.5  \n",
       "18194      17.000000          17.0  \n",
       "...              ...           ...  \n",
       "205457      0.500000           0.5  \n",
       "148943      0.500000           0.5  \n",
       "26751       0.500000           0.5  \n",
       "106858      0.500000           0.5  \n",
       "41357       0.500000           0.5  \n",
       "\n",
       "[23990 rows x 14 columns]"
      ]
     },
     "execution_count": 23,
     "metadata": {},
     "output_type": "execute_result"
    }
   ],
   "source": [
    "obs_counts.sort_values(by='ic_end_ratio', ascending=False)"
   ]
  },
  {
   "cell_type": "code",
   "execution_count": 55,
   "id": "c35bc043-83ba-4644-8e6f-2c8f42aae2db",
   "metadata": {},
   "outputs": [
    {
     "data": {
      "text/plain": [
       "1245"
      ]
     },
     "execution_count": 55,
     "metadata": {},
     "output_type": "execute_result"
    }
   ],
   "source": [
    "len(obs_counts.loc[obs_counts.tss_ratio >= 0.4])"
   ]
  },
  {
   "cell_type": "markdown",
   "id": "fresh-warner",
   "metadata": {},
   "source": [
    "## Pi / major isoform stuff"
   ]
  },
  {
   "cell_type": "code",
   "execution_count": 2,
   "id": "republican-wisconsin",
   "metadata": {},
   "outputs": [
    {
     "name": "stdout",
     "output_type": "stream",
     "text": [
      "Read in graph from swan.p\n"
     ]
    },
    {
     "data": {
      "image/png": "[encoded data removed]",
      "text/plain": [
       "<Figure size 360x360 with 1 Axes>"
      ]
     },
     "metadata": {
      "needs_background": "light"
     },
     "output_type": "display_data"
    },
    {
     "data": {
      "image/png": "[encoded data removed]",
      "text/plain": [
       "<Figure size 360x360 with 1 Axes>"
      ]
     },
     "metadata": {
      "needs_background": "light"
     },
     "output_type": "display_data"
    },
    {
     "data": {
      "image/png": "[encoded data removed]",
      "text/plain": [
       "<Figure size 360x360 with 1 Axes>"
      ]
     },
     "metadata": {
      "needs_background": "light"
     },
     "output_type": "display_data"
    },
    {
     "data": {
      "image/png": "[encoded data removed]",
      "text/plain": [
       "<Figure size 360x360 with 1 Axes>"
      ]
     },
     "metadata": {
      "needs_background": "light"
     },
     "output_type": "display_data"
    }
   ],
   "source": [
    "sg = swan.read('swan.p')\n",
    "plot_major_iso_pis(sg, 'sample', opref='figures/human')"
   ]
  },
  {
   "cell_type": "markdown",
   "id": "prerequisite-production",
   "metadata": {},
   "source": [
    "### How many isoforms does it take to get 90% expression / gene / sample?"
   ]
  },
  {
   "cell_type": "code",
   "execution_count": 340,
   "id": "alive-prescription",
   "metadata": {},
   "outputs": [
    {
     "name": "stdout",
     "output_type": "stream",
     "text": [
      "Read in graph from swan.p\n"
     ]
    }
   ],
   "source": [
    "sg = swan.read('swan.p')\n",
    "sg.adata.obs['biosample'] = sg.adata.obs['dataset'].str.rsplit('_', n=2, expand=True)[0]"
   ]
  },
  {
   "cell_type": "code",
   "execution_count": 341,
   "id": "premium-brush",
   "metadata": {},
   "outputs": [
    {
     "data": {
      "text/plain": [
       "44"
      ]
     },
     "execution_count": 341,
     "metadata": {},
     "output_type": "execute_result"
    }
   ],
   "source": [
    "len(sg.adata.obs.biosample.unique())"
   ]
  },
  {
   "cell_type": "code",
   "execution_count": 342,
   "id": "gross-documentary",
   "metadata": {},
   "outputs": [
    {
     "data": {
      "text/html": [
       "<div>\n",
       "<style scoped>\n",
       "    .dataframe tbody tr th:only-of-type {\n",
       "        vertical-align: middle;\n",
       "    }\n",
       "\n",
       "    .dataframe tbody tr th {\n",
       "        vertical-align: top;\n",
       "    }\n",
       "\n",
       "    .dataframe thead th {\n",
       "        text-align: right;\n",
       "    }\n",
       "</style>\n",
       "<table border=\"1\" class=\"dataframe\">\n",
       "  <thead>\n",
       "    <tr style=\"text-align: right;\">\n",
       "      <th></th>\n",
       "      <th>dataset</th>\n",
       "      <th>total_counts</th>\n",
       "      <th>biosample</th>\n",
       "      <th>sample</th>\n",
       "    </tr>\n",
       "    <tr>\n",
       "      <th>classification</th>\n",
       "      <th></th>\n",
       "      <th></th>\n",
       "      <th></th>\n",
       "      <th></th>\n",
       "    </tr>\n",
       "  </thead>\n",
       "  <tbody>\n",
       "    <tr>\n",
       "      <th>cell_line</th>\n",
       "      <td>48</td>\n",
       "      <td>48</td>\n",
       "      <td>21</td>\n",
       "      <td>21</td>\n",
       "    </tr>\n",
       "    <tr>\n",
       "      <th>tissue</th>\n",
       "      <td>42</td>\n",
       "      <td>42</td>\n",
       "      <td>23</td>\n",
       "      <td>10</td>\n",
       "    </tr>\n",
       "  </tbody>\n",
       "</table>\n",
       "</div>"
      ],
      "text/plain": [
       "                dataset  total_counts  biosample  sample\n",
       "classification                                          \n",
       "cell_line            48            48         21      21\n",
       "tissue               42            42         23      10"
      ]
     },
     "execution_count": 342,
     "metadata": {},
     "output_type": "execute_result"
    }
   ],
   "source": [
    "sg.adata.obs.groupby('classification').nunique()"
   ]
  },
  {
   "cell_type": "code",
   "execution_count": null,
   "id": "f78b4ca0-30e6-4041-9313-44239970555b",
   "metadata": {},
   "outputs": [],
   "source": [
    "import pandas as pd\n",
    "import numpy as np\n",
    "import scipy.stats as st\n",
    "import seaborn as sns\n",
    "import sys\n",
    "import os\n",
    "import gseapy as gp\n",
    "import swan_vis as swan\n",
    "from scipy import sparse\n",
    "import pyranges.pyranges as pr\n",
    "import pyranges as pyranges\n",
    "\n",
    "p = os.path.dirname(os.path.dirname(os.getcwd()))\n",
    "sys.path.append(p)\n",
    "\n",
    "from scripts.utils import *\n",
    "from scripts.plotting import *"
   ]
  },
  {
   "cell_type": "code",
   "execution_count": 12,
   "id": "artificial-desperate",
   "metadata": {},
   "outputs": [
    {
     "name": "stdout",
     "output_type": "stream",
     "text": [
      "Read in graph from swan.p\n"
     ]
    }
   ],
   "source": [
    "sg = swan.read('swan.p')\n",
    "t_df = pd.read_csv('../talon/human_talon_abundance_filtered.tsv', sep='\\t')"
   ]
  },
  {
   "cell_type": "code",
   "execution_count": 13,
   "id": "usual-symposium",
   "metadata": {},
   "outputs": [],
   "source": [
    "t_df = t_df[['annot_gene_name', 'annot_transcript_id', 'annot_gene_id']]\n",
    "t_df.rename({'annot_gene_name': 'gname',\n",
    "             'annot_gene_id': 'gid',\n",
    "             'annot_transcript_id': 'tid'}, \n",
    "             axis=1, \n",
    "             inplace=True)\n",
    "\n",
    "df, _ = swan.calc_pi(sg.adata, sg.t_df, obs_col='sample')\n",
    "df = df.sparse.to_dense()\n",
    "df = df.transpose()\n",
    "df = df.merge(t_df[['tid', 'gname', 'gid']], how='inner', on='tid')\n",
    "\n",
    "df.set_index(['tid', 'gname', 'gid'], inplace=True)\n",
    "df = df.melt(ignore_index=False, value_name='pi', var_name='biosample')\n",
    "df = df.dropna(subset=['pi'])\n",
    "df.reset_index(inplace=True)\n",
    "\n",
    "# determine the rank of each pi value for each sample / gene combo\n",
    "df = df.sort_values(by='pi', ascending=False)\n",
    "df['pi_rank'] = df.sort_values(by='pi', ascending=False).groupby(['gname', 'gid', 'biosample']).cumcount()+1\n",
    "\n",
    "# add a column that we can check for convergence with \n",
    "df['gname_gid_biosamp'] = df.gname+'_'+df.gid+'_'+df.biosample\n",
    "\n",
    "iso_df = pd.DataFrame()\n",
    "max_pi_rank = df.pi_rank.max()\n",
    "for max_pi in range(1, max_pi_rank+1):\n",
    "    pi_ranks = [i for i in range(1, max_pi+1)]\n",
    "    # for the first iteration, we don't have to limit which genes we look at\n",
    "    if max_pi == 1:\n",
    "        temp = df.loc[df.pi_rank.isin(pi_ranks)].groupby(['gname_gid_biosamp']).sum().reset_index()\n",
    "    else:\n",
    "        ids = iso_df.gname_gid_biosamp.tolist()\n",
    "        temp = df.loc[(~df.gname_gid_biosamp.isin(ids))&(df.pi_rank.isin(pi_ranks))].groupby(['gname_gid_biosamp']).sum().reset_index()\n",
    "    \n",
    "    # converged if no more entries to analyze\n",
    "    if len(temp.index) == 0:\n",
    "        break\n",
    "    \n",
    "    # get isoforms that have >90% isoform exp accounted for\n",
    "    temp = temp.loc[temp.pi >= 90]\n",
    "    temp.drop(['pi_rank'], axis=1, inplace=True)\n",
    "    temp['n_isos'] = max_pi\n",
    "    \n",
    "    iso_df = pd.concat([iso_df, temp])\n",
    "\n",
    "# get list of isoforms required for each sample / gene combination as well\n",
    "df = df.merge(iso_df, how='left', on='gname_gid_biosamp')\n",
    "df['in_90_set'] = df.pi_rank <= df.n_isos\n",
    "df = df.loc[df.in_90_set]\n",
    "df[['gname', 'gid', 'biosample']] = df.gname_gid_biosamp.str.split('_', n=2, expand=True)    \n",
    "df.rename({'pi_x': 'pi'}, axis=1, inplace=True)\n",
    "df.drop(['gname_gid_biosamp', \n",
    "        'pi_y', 'n_isos', 'in_90_set'], axis=1, inplace=True)\n",
    "\n",
    "# get the sample / gene vs. n isoforms required for 90%    \n",
    "iso_df[['gname', 'gid', 'biosample']] = iso_df.gname_gid_biosamp.str.split('_', n=2, expand=True)    \n",
    "iso_df.drop('gname_gid_biosamp', axis=1, inplace=True)\n",
    "iso_df = iso_df.sort_values('n_isos', ascending=False)"
   ]
  },
  {
   "cell_type": "code",
   "execution_count": 14,
   "id": "d37db06e-19cd-4693-9924-880b7dee477d",
   "metadata": {},
   "outputs": [],
   "source": [
    "df.to_csv('isos_sample_gene_90.tsv', sep='\\t', index=False)"
   ]
  },
  {
   "cell_type": "code",
   "execution_count": 15,
   "id": "6cdf4885-1064-470e-ba16-e2bd65775898",
   "metadata": {},
   "outputs": [
    {
     "data": {
      "text/html": [
       "<div>\n",
       "<style scoped>\n",
       "    .dataframe tbody tr th:only-of-type {\n",
       "        vertical-align: middle;\n",
       "    }\n",
       "\n",
       "    .dataframe tbody tr th {\n",
       "        vertical-align: top;\n",
       "    }\n",
       "\n",
       "    .dataframe thead th {\n",
       "        text-align: right;\n",
       "    }\n",
       "</style>\n",
       "<table border=\"1\" class=\"dataframe\">\n",
       "  <thead>\n",
       "    <tr style=\"text-align: right;\">\n",
       "      <th></th>\n",
       "      <th>tid</th>\n",
       "      <th>gname</th>\n",
       "      <th>gid</th>\n",
       "      <th>biosample</th>\n",
       "      <th>pi</th>\n",
       "      <th>pi_rank</th>\n",
       "    </tr>\n",
       "  </thead>\n",
       "  <tbody>\n",
       "    <tr>\n",
       "      <th>0</th>\n",
       "      <td>ENST00000253462.7</td>\n",
       "      <td>GINS2</td>\n",
       "      <td>ENSG00000131153.8</td>\n",
       "      <td>pgp1_excite_neuron</td>\n",
       "      <td>100.0</td>\n",
       "      <td>1</td>\n",
       "    </tr>\n",
       "    <tr>\n",
       "      <th>1</th>\n",
       "      <td>ENST00000297578.8</td>\n",
       "      <td>SLC25A32</td>\n",
       "      <td>ENSG00000164933.11</td>\n",
       "      <td>pgp1_endo</td>\n",
       "      <td>100.0</td>\n",
       "      <td>1</td>\n",
       "    </tr>\n",
       "    <tr>\n",
       "      <th>2</th>\n",
       "      <td>ENST00000379144.6</td>\n",
       "      <td>PCYT1B</td>\n",
       "      <td>ENSG00000102230.13</td>\n",
       "      <td>h9_panc_beta</td>\n",
       "      <td>100.0</td>\n",
       "      <td>1</td>\n",
       "    </tr>\n",
       "    <tr>\n",
       "      <th>3</th>\n",
       "      <td>ENST00000251810.7</td>\n",
       "      <td>RRM2B</td>\n",
       "      <td>ENSG00000048392.11</td>\n",
       "      <td>pgp1_endo</td>\n",
       "      <td>100.0</td>\n",
       "      <td>1</td>\n",
       "    </tr>\n",
       "    <tr>\n",
       "      <th>4</th>\n",
       "      <td>ENST00000520820.1</td>\n",
       "      <td>UBR5-AS1</td>\n",
       "      <td>ENSG00000246263.2</td>\n",
       "      <td>pgp1_endo</td>\n",
       "      <td>100.0</td>\n",
       "      <td>1</td>\n",
       "    </tr>\n",
       "  </tbody>\n",
       "</table>\n",
       "</div>"
      ],
      "text/plain": [
       "                 tid     gname                 gid           biosample     pi  \\\n",
       "0  ENST00000253462.7     GINS2   ENSG00000131153.8  pgp1_excite_neuron  100.0   \n",
       "1  ENST00000297578.8  SLC25A32  ENSG00000164933.11           pgp1_endo  100.0   \n",
       "2  ENST00000379144.6    PCYT1B  ENSG00000102230.13        h9_panc_beta  100.0   \n",
       "3  ENST00000251810.7     RRM2B  ENSG00000048392.11           pgp1_endo  100.0   \n",
       "4  ENST00000520820.1  UBR5-AS1   ENSG00000246263.2           pgp1_endo  100.0   \n",
       "\n",
       "   pi_rank  \n",
       "0        1  \n",
       "1        1  \n",
       "2        1  \n",
       "3        1  \n",
       "4        1  "
      ]
     },
     "execution_count": 15,
     "metadata": {},
     "output_type": "execute_result"
    }
   ],
   "source": [
    "df.head()"
   ]
  },
  {
   "cell_type": "code",
   "execution_count": 353,
   "id": "retired-miniature",
   "metadata": {},
   "outputs": [],
   "source": [
    "iso_df.to_csv('n_isos_sample_gene_90.tsv', sep='\\t', index=False)"
   ]
  },
  {
   "cell_type": "code",
   "execution_count": 118,
   "id": "different-diameter",
   "metadata": {},
   "outputs": [],
   "source": [
    "opref = 'figures/human'"
   ]
  },
  {
   "cell_type": "code",
   "execution_count": 120,
   "id": "reverse-relaxation",
   "metadata": {},
   "outputs": [
    {
     "data": {
      "image/png": "[encoded data removed]",
      "text/plain": [
       "<Figure size 360x360 with 1 Axes>"
      ]
     },
     "metadata": {
      "needs_background": "light"
     },
     "output_type": "display_data"
    }
   ],
   "source": [
    "sns.set_context('paper', font_scale=1.8)\n",
    "ax = sns.displot(data=iso_df, x='n_isos',\n",
    "                 kind='hist',\n",
    "                 binwidth=1,\n",
    "                 linewidth=0)\n",
    "\n",
    "xlabel = '# isoforms for >=90% of gene expression / sample'\n",
    "ylabel = 'Count'\n",
    "\n",
    "_ = ax.set(xlabel=xlabel, ylabel=ylabel)\n",
    "fname = '{}_isos_pi_90.png'.format(opref)\n",
    "plt.savefig(fname, dpi=300, bbox_inches='tight')   "
   ]
  },
  {
   "cell_type": "markdown",
   "id": "irish-trout",
   "metadata": {},
   "source": [
    "### Gene-level exon analysis"
   ]
  },
  {
   "cell_type": "code",
   "execution_count": 5,
   "id": "distinct-police",
   "metadata": {},
   "outputs": [
    {
     "name": "stdout",
     "output_type": "stream",
     "text": [
      "Read in graph from swan.p\n",
      "Calculating iso TPM values\n",
      "Subsetting for novelty categories ['Known', 'NIC', 'NNC']\n",
      "Subsetting for polya genes\n",
      "Enforcing minimum TPM\n",
      "Total # isos detected: 156027\n",
      "# isos >= 1 tpm: 141390\n",
      "Applying gene type and novelty subset\n",
      "Number of isos reported: 92963\n",
      "Found 31 total samples\n"
     ]
    },
    {
     "data": {
      "image/png": "[encoded data removed]",
      "text/plain": [
       "<Figure size 360x360 with 1 Axes>"
      ]
     },
     "metadata": {
      "needs_background": "light"
     },
     "output_type": "display_data"
    },
    {
     "data": {
      "image/png": "[encoded data removed]",
      "text/plain": [
       "<Figure size 360x360 with 1 Axes>"
      ]
     },
     "metadata": {
      "needs_background": "light"
     },
     "output_type": "display_data"
    }
   ],
   "source": [
    "sg = swan.read('swan.p')\n",
    "df = pd.read_csv('../talon/human_talon_abundance_filtered.tsv', sep='\\t')\n",
    "_ = plot_ranked_exon_counts(sg, df, 'DES', \n",
    "                        min_tpm=1, \n",
    "                        gene_subset='polya',\n",
    "                        sample='all', \n",
    "                        groupby='sample', \n",
    "                        nov=['Known', 'NIC', 'NNC'], \n",
    "                        opref='figures/human')"
   ]
  },
  {
   "cell_type": "code",
   "execution_count": 4,
   "id": "stuffed-spyware",
   "metadata": {},
   "outputs": [
    {
     "name": "stdout",
     "output_type": "stream",
     "text": [
      "Read in graph from swan.p\n",
      "Calculating iso TPM values\n",
      "Subsetting for novelty categories ['Known', 'NIC', 'NNC']\n",
      "Subsetting for polya genes\n",
      "Enforcing minimum TPM\n",
      "Total # isos detected: 156027\n",
      "# isos >= 1 tpm: 141390\n",
      "Applying gene type and novelty subset\n",
      "Number of isos reported: 92963\n",
      "Found 90 total libraries\n"
     ]
    },
    {
     "data": {
      "image/png": "[encoded data removed]",
      "text/plain": [
       "<Figure size 360x360 with 1 Axes>"
      ]
     },
     "metadata": {
      "needs_background": "light"
     },
     "output_type": "display_data"
    },
    {
     "data": {
      "image/png": "[encoded data removed]",
      "text/plain": [
       "<Figure size 360x360 with 1 Axes>"
      ]
     },
     "metadata": {
      "needs_background": "light"
     },
     "output_type": "display_data"
    }
   ],
   "source": [
    "sg = swan.read('swan.p')\n",
    "df = pd.read_csv('../talon/human_talon_abundance_filtered.tsv', sep='\\t')\n",
    "_ = plot_ranked_exon_counts(sg, df, 'ELN', \n",
    "                        min_tpm=1, \n",
    "                        gene_subset='polya',\n",
    "                        sample='all', \n",
    "                        groupby='sample', \n",
    "                        nov=['Known', 'NIC', 'NNC'], \n",
    "                        opref='figures/human')"
   ]
  },
  {
   "cell_type": "code",
   "execution_count": 2,
   "id": "delayed-wholesale",
   "metadata": {},
   "outputs": [
    {
     "name": "stdout",
     "output_type": "stream",
     "text": [
      "Read in graph from swan.p\n",
      "Calculating iso TPM values\n",
      "Subsetting for novelty categories ['Known', 'NIC', 'NNC']\n",
      "Subsetting for polya genes\n",
      "Enforcing minimum TPM\n",
      "Total # isos detected: 156027\n",
      "# isos >= 1 tpm: 141390\n",
      "Applying gene type and novelty subset\n",
      "Number of isos reported: 92963\n",
      "Found 31 total samples\n",
      "Found 139 isoforms for ELN\n"
     ]
    },
    {
     "data": {
      "image/png": "[encoded data removed]",
      "text/plain": [
       "<Figure size 360x360 with 1 Axes>"
      ]
     },
     "metadata": {
      "needs_background": "light"
     },
     "output_type": "display_data"
    },
    {
     "data": {
      "image/png": "[encoded data removed]",
      "text/plain": [
       "<Figure size 360x360 with 1 Axes>"
      ]
     },
     "metadata": {
      "needs_background": "light"
     },
     "output_type": "display_data"
    }
   ],
   "source": [
    "sg = swan.read('swan.p')\n",
    "df = pd.read_csv('../talon/human_talon_abundance_filtered.tsv', sep='\\t')\n",
    "plot_exon_hist(sg, df, 'ELN',\n",
    "               min_tpm=1,\n",
    "               gene_subset='polya',\n",
    "               sample='all', \n",
    "               groupby='sample', \n",
    "               nov=['Known', 'NIC', 'NNC'], \n",
    "               opref='figures/human')"
   ]
  },
  {
   "cell_type": "code",
   "execution_count": 3,
   "id": "specific-marker",
   "metadata": {},
   "outputs": [
    {
     "name": "stdout",
     "output_type": "stream",
     "text": [
      "Saving summary graph for ENSG00000049540.16 as figures/eln_novel_ENSG00000049540.16_summary.png\n"
     ]
    }
   ],
   "source": [
    "sg.plot_graph('ELN', indicate_novel=True, prefix='figures/eln')"
   ]
  },
  {
   "cell_type": "code",
   "execution_count": 4,
   "id": "detected-worth",
   "metadata": {},
   "outputs": [
    {
     "name": "stdout",
     "output_type": "stream",
     "text": [
      "Saving summary graph for ENSG00000175084.11 as figures/des_novel_ENSG00000175084.11_summary.png\n"
     ]
    }
   ],
   "source": [
    "sg.plot_graph('DES', indicate_novel=True, prefix='figures/des')"
   ]
  },
  {
   "cell_type": "code",
   "execution_count": 5,
   "id": "underlying-hebrew",
   "metadata": {},
   "outputs": [
    {
     "name": "stdout",
     "output_type": "stream",
     "text": [
      "Saving transcript path graph for ENST00000373960.3 as figures/des_novel_ENST00000373960.3_path.png\n"
     ]
    }
   ],
   "source": [
    "sg.plot_transcript_path('ENST00000373960.3', indicate_novel=True, prefix='figures/des')"
   ]
  },
  {
   "cell_type": "code",
   "execution_count": 6,
   "id": "coral-strength",
   "metadata": {},
   "outputs": [
    {
     "name": "stdout",
     "output_type": "stream",
     "text": [
      "Saving transcript path graph for ENCODEHT002835059 as figures/des_novel_ENCODEHT002835059_path.png\n"
     ]
    }
   ],
   "source": [
    "sg.plot_transcript_path('ENCODEHT002835059', indicate_novel=True, prefix='figures/des')"
   ]
  },
  {
   "cell_type": "markdown",
   "id": "polyphonic-episode",
   "metadata": {},
   "source": [
    "## Reports"
   ]
  },
  {
   "cell_type": "code",
   "execution_count": 16,
   "id": "backed-sheep",
   "metadata": {},
   "outputs": [
    {
     "name": "stdout",
     "output_type": "stream",
     "text": [
      "Read in graph from swan.p\n"
     ]
    }
   ],
   "source": [
    "sg = swan.read('swan.p')"
   ]
  },
  {
   "cell_type": "code",
   "execution_count": 17,
   "id": "through-burst",
   "metadata": {},
   "outputs": [],
   "source": [
    "def make_biosamp_reports(sg, gene):\n",
    "    def make_reports(sg, gene, c):\n",
    "        opref = 'figures/{}_{}'.format(gene.lower(), c)\n",
    "        sg.gen_report(gene,\n",
    "                  prefix=opref,\n",
    "                  layer='pi',\n",
    "                  cmap='magma',\n",
    "                  novelty=True,\n",
    "                  groupby='biosample',\n",
    "                  transcript_name=True,\n",
    "                  metadata_cols=['biosample'],\n",
    "                  datasets={'classification': c},\n",
    "                  browser=True)\n",
    "\n",
    "        sg.gen_report(gene,\n",
    "                      prefix=opref,\n",
    "                      layer='tpm',\n",
    "                      cmap='viridis',\n",
    "                      novelty=True,\n",
    "                      groupby='biosample',\n",
    "                      transcript_name=True,\n",
    "                      metadata_cols=['biosample'],\n",
    "                      indicate_novel=True,\n",
    "                      datasets={'classification': c})\n",
    "        \n",
    "    c = 'tissue'\n",
    "    make_reports(sg, gene, c)\n",
    "    c = 'cell_line'\n",
    "    make_reports(sg, gene, c)    "
   ]
  },
  {
   "cell_type": "code",
   "execution_count": 129,
   "id": "mexican-charge",
   "metadata": {
    "collapsed": true,
    "jupyter": {
     "outputs_hidden": true
    }
   },
   "outputs": [
    {
     "name": "stderr",
     "output_type": "stream",
     "text": [
      "/Users/fairliereese/miniconda3/lib/python3.7/site-packages/scanpy/preprocessing/_normalization.py:155: UserWarning: Revieved a view of an AnnData. Making a copy.\n",
      "  view_to_actual(adata)\n"
     ]
    },
    {
     "name": "stdout",
     "output_type": "stream",
     "text": [
      "\n",
      "Plotting transcripts for ENSG00000108821.13\n",
      "Saving transcript path graph for ENST00000225964.9 as figures/col1a1_tissue_browser_ENST00000225964.9_path.png\n",
      "Saving transcript path graph for ENST00000510710.3 as figures/col1a1_tissue_browser_ENST00000510710.3_path.png\n",
      "Saving transcript path graph for ENST00000463440.1 as figures/col1a1_tissue_browser_ENST00000463440.1_path.png\n",
      "Generating report for ENSG00000108821.13\n"
     ]
    },
    {
     "name": "stderr",
     "output_type": "stream",
     "text": [
      "/Users/fairliereese/miniconda3/lib/python3.7/site-packages/scanpy/preprocessing/_normalization.py:155: UserWarning: Revieved a view of an AnnData. Making a copy.\n",
      "  view_to_actual(adata)\n"
     ]
    },
    {
     "name": "stdout",
     "output_type": "stream",
     "text": [
      "\n",
      "Plotting transcripts for ENSG00000108821.13\n",
      "Saving transcript path graph for ENST00000225964.9 as figures/col1a1_tissue_novel_ENST00000225964.9_path.png\n",
      "Saving transcript path graph for ENST00000510710.3 as figures/col1a1_tissue_novel_ENST00000510710.3_path.png\n",
      "Saving transcript path graph for ENST00000463440.1 as figures/col1a1_tissue_novel_ENST00000463440.1_path.png\n",
      "Generating report for ENSG00000108821.13\n"
     ]
    },
    {
     "name": "stderr",
     "output_type": "stream",
     "text": [
      "/Users/fairliereese/miniconda3/lib/python3.7/site-packages/scanpy/preprocessing/_normalization.py:155: UserWarning: Revieved a view of an AnnData. Making a copy.\n",
      "  view_to_actual(adata)\n"
     ]
    },
    {
     "name": "stdout",
     "output_type": "stream",
     "text": [
      "\n",
      "Plotting transcripts for ENSG00000108821.13\n",
      "Saving transcript path graph for ENST00000225964.9 as figures/col1a1_cell_line_browser_ENST00000225964.9_path.png\n",
      "Saving transcript path graph for ENST00000510710.3 as figures/col1a1_cell_line_browser_ENST00000510710.3_path.png\n",
      "Saving transcript path graph for ENST00000476387.1 as figures/col1a1_cell_line_browser_ENST00000476387.1_path.png\n",
      "Generating report for ENSG00000108821.13\n"
     ]
    },
    {
     "name": "stderr",
     "output_type": "stream",
     "text": [
      "/Users/fairliereese/miniconda3/lib/python3.7/site-packages/scanpy/preprocessing/_normalization.py:155: UserWarning: Revieved a view of an AnnData. Making a copy.\n",
      "  view_to_actual(adata)\n"
     ]
    },
    {
     "name": "stdout",
     "output_type": "stream",
     "text": [
      "\n",
      "Plotting transcripts for ENSG00000108821.13\n",
      "Saving transcript path graph for ENST00000225964.9 as figures/col1a1_cell_line_novel_ENST00000225964.9_path.png\n",
      "Saving transcript path graph for ENST00000510710.3 as figures/col1a1_cell_line_novel_ENST00000510710.3_path.png\n",
      "Saving transcript path graph for ENST00000476387.1 as figures/col1a1_cell_line_novel_ENST00000476387.1_path.png\n",
      "Generating report for ENSG00000108821.13\n"
     ]
    }
   ],
   "source": [
    "make_biosamp_reports(sg, 'COL1A1')"
   ]
  },
  {
   "cell_type": "code",
   "execution_count": 127,
   "id": "separate-tournament",
   "metadata": {
    "collapsed": true,
    "jupyter": {
     "outputs_hidden": true
    }
   },
   "outputs": [
    {
     "name": "stderr",
     "output_type": "stream",
     "text": [
      "/Users/fairliereese/miniconda3/lib/python3.7/site-packages/scanpy/preprocessing/_normalization.py:155: UserWarning: Revieved a view of an AnnData. Making a copy.\n",
      "  view_to_actual(adata)\n"
     ]
    },
    {
     "name": "stdout",
     "output_type": "stream",
     "text": [
      "\n",
      "Plotting transcripts for ENSG00000153113.23\n",
      "Saving transcript path graph for ENCODEHT000470977 as figures/cast_tissue_browser_ENCODEHT000470977_path.png\n",
      "Saving transcript path graph for ENST00000309190.9 as figures/cast_tissue_browser_ENST00000309190.9_path.png\n",
      "Saving transcript path graph for ENCODEHT000470926 as figures/cast_tissue_browser_ENCODEHT000470926_path.png\n",
      "Saving transcript path graph for ENCODEHT000470707 as figures/cast_tissue_browser_ENCODEHT000470707_path.png\n",
      "Saving transcript path graph for ENCODEHT000471452 as figures/cast_tissue_browser_ENCODEHT000471452_path.png\n",
      "Saving transcript path graph for ENCODEHT001378016 as figures/cast_tissue_browser_ENCODEHT001378016_path.png\n",
      "Saving transcript path graph for ENCODEHT000471422 as figures/cast_tissue_browser_ENCODEHT000471422_path.png\n",
      "Saving transcript path graph for ENST00000395813.5 as figures/cast_tissue_browser_ENST00000395813.5_path.png\n",
      "Saving transcript path graph for ENCODEHT000471440 as figures/cast_tissue_browser_ENCODEHT000471440_path.png\n",
      "Saving transcript path graph for ENCODEHT001377428 as figures/cast_tissue_browser_ENCODEHT001377428_path.png\n",
      "Saving transcript path graph for ENCODEHT000471850 as figures/cast_tissue_browser_ENCODEHT000471850_path.png\n",
      "Saving transcript path graph for ENST00000395812.6 as figures/cast_tissue_browser_ENST00000395812.6_path.png\n",
      "Saving transcript path graph for ENST00000508608.5 as figures/cast_tissue_browser_ENST00000508608.5_path.png\n",
      "Saving transcript path graph for ENCODEHT001377345 as figures/cast_tissue_browser_ENCODEHT001377345_path.png\n",
      "Saving transcript path graph for ENCODEHT000471711 as figures/cast_tissue_browser_ENCODEHT000471711_path.png\n",
      "Saving transcript path graph for ENCODEHT000471680 as figures/cast_tissue_browser_ENCODEHT000471680_path.png\n",
      "Saving transcript path graph for ENCODEHT000470701 as figures/cast_tissue_browser_ENCODEHT000470701_path.png\n",
      "Saving transcript path graph for ENCODEHT001377335 as figures/cast_tissue_browser_ENCODEHT001377335_path.png\n",
      "Saving transcript path graph for ENCODEHT002062426 as figures/cast_tissue_browser_ENCODEHT002062426_path.png\n",
      "Saving transcript path graph for ENST00000515160.5 as figures/cast_tissue_browser_ENST00000515160.5_path.png\n",
      "Saving transcript path graph for ENCODEHT001377437 as figures/cast_tissue_browser_ENCODEHT001377437_path.png\n",
      "Saving transcript path graph for ENCODEHT001378061 as figures/cast_tissue_browser_ENCODEHT001378061_path.png\n",
      "Saving transcript path graph for ENCODEHT001378171 as figures/cast_tissue_browser_ENCODEHT001378171_path.png\n",
      "Saving transcript path graph for ENCODEHT000470580 as figures/cast_tissue_browser_ENCODEHT000470580_path.png\n",
      "Saving transcript path graph for ENCODEHT000471261 as figures/cast_tissue_browser_ENCODEHT000471261_path.png\n",
      "Saving transcript path graph for ENCODEHT000471427 as figures/cast_tissue_browser_ENCODEHT000471427_path.png\n",
      "Saving transcript path graph for ENCODEHT002542384 as figures/cast_tissue_browser_ENCODEHT002542384_path.png\n",
      "Saving transcript path graph for ENCODEHT001378401 as figures/cast_tissue_browser_ENCODEHT001378401_path.png\n",
      "Saving transcript path graph for ENCODEHT000470768 as figures/cast_tissue_browser_ENCODEHT000470768_path.png\n",
      "Saving transcript path graph for ENCODEHT002542275 as figures/cast_tissue_browser_ENCODEHT002542275_path.png\n",
      "Saving transcript path graph for ENCODEHT001377305 as figures/cast_tissue_browser_ENCODEHT001377305_path.png\n",
      "Saving transcript path graph for ENCODEHT001378308 as figures/cast_tissue_browser_ENCODEHT001378308_path.png\n",
      "Saving transcript path graph for ENCODEHT002995317 as figures/cast_tissue_browser_ENCODEHT002995317_path.png\n",
      "Saving transcript path graph for ENCODEHT001378397 as figures/cast_tissue_browser_ENCODEHT001378397_path.png\n",
      "Saving transcript path graph for ENCODEHT002542438 as figures/cast_tissue_browser_ENCODEHT002542438_path.png\n",
      "Saving transcript path graph for ENCODEHT000471218 as figures/cast_tissue_browser_ENCODEHT000471218_path.png\n",
      "Saving transcript path graph for ENCODEHT000470699 as figures/cast_tissue_browser_ENCODEHT000470699_path.png\n",
      "Saving transcript path graph for ENCODEHT001378395 as figures/cast_tissue_browser_ENCODEHT001378395_path.png\n",
      "Saving transcript path graph for ENST00000511049.5 as figures/cast_tissue_browser_ENST00000511049.5_path.png\n",
      "Saving transcript path graph for ENCODEHT000471188 as figures/cast_tissue_browser_ENCODEHT000471188_path.png\n",
      "Saving transcript path graph for ENST00000514845.5 as figures/cast_tissue_browser_ENST00000514845.5_path.png\n",
      "Saving transcript path graph for ENCODEHT002542382 as figures/cast_tissue_browser_ENCODEHT002542382_path.png\n",
      "Saving transcript path graph for ENCODEHT002995362 as figures/cast_tissue_browser_ENCODEHT002995362_path.png\n",
      "Saving transcript path graph for ENST00000421689.6 as figures/cast_tissue_browser_ENST00000421689.6_path.png\n",
      "Saving transcript path graph for ENST00000510756.5 as figures/cast_tissue_browser_ENST00000510756.5_path.png\n",
      "Saving transcript path graph for ENST00000507487.5 as figures/cast_tissue_browser_ENST00000507487.5_path.png\n",
      "Saving transcript path graph for ENST00000515663.5 as figures/cast_tissue_browser_ENST00000515663.5_path.png\n",
      "Saving transcript path graph for ENST00000511782.5 as figures/cast_tissue_browser_ENST00000511782.5_path.png\n",
      "Saving transcript path graph for ENST00000504221.5 as figures/cast_tissue_browser_ENST00000504221.5_path.png\n",
      "Saving transcript path graph for ENST00000325674.11 as figures/cast_tissue_browser_ENST00000325674.11_path.png\n",
      "Saving transcript path graph for ENST00000341926.7 as figures/cast_tissue_browser_ENST00000341926.7_path.png\n",
      "Saving transcript path graph for ENST00000510500.5 as figures/cast_tissue_browser_ENST00000510500.5_path.png\n",
      "Saving transcript path graph for ENST00000338252.7 as figures/cast_tissue_browser_ENST00000338252.7_path.png\n",
      "Saving transcript path graph for ENST00000508579.5 as figures/cast_tissue_browser_ENST00000508579.5_path.png\n",
      "Saving transcript path graph for ENST00000509529.1 as figures/cast_tissue_browser_ENST00000509529.1_path.png\n",
      "Saving transcript path graph for ENST00000510245.1 as figures/cast_tissue_browser_ENST00000510245.1_path.png\n",
      "Saving transcript path graph for ENST00000510156.5 as figures/cast_tissue_browser_ENST00000510156.5_path.png\n",
      "Generating report for ENSG00000153113.23\n"
     ]
    },
    {
     "name": "stderr",
     "output_type": "stream",
     "text": [
      "/Users/fairliereese/miniconda3/lib/python3.7/site-packages/scanpy/preprocessing/_normalization.py:155: UserWarning: Revieved a view of an AnnData. Making a copy.\n",
      "  view_to_actual(adata)\n"
     ]
    },
    {
     "name": "stdout",
     "output_type": "stream",
     "text": [
      "\n",
      "Plotting transcripts for ENSG00000153113.23\n",
      "Saving transcript path graph for ENCODEHT000470977 as figures/cast_tissue_novel_ENCODEHT000470977_path.png\n",
      "Saving transcript path graph for ENST00000309190.9 as figures/cast_tissue_novel_ENST00000309190.9_path.png\n",
      "Saving transcript path graph for ENCODEHT000470926 as figures/cast_tissue_novel_ENCODEHT000470926_path.png\n",
      "Saving transcript path graph for ENCODEHT000470707 as figures/cast_tissue_novel_ENCODEHT000470707_path.png\n",
      "Saving transcript path graph for ENCODEHT000471452 as figures/cast_tissue_novel_ENCODEHT000471452_path.png\n",
      "Saving transcript path graph for ENCODEHT001378016 as figures/cast_tissue_novel_ENCODEHT001378016_path.png\n",
      "Saving transcript path graph for ENCODEHT000471422 as figures/cast_tissue_novel_ENCODEHT000471422_path.png\n",
      "Saving transcript path graph for ENST00000395813.5 as figures/cast_tissue_novel_ENST00000395813.5_path.png\n",
      "Saving transcript path graph for ENCODEHT000471440 as figures/cast_tissue_novel_ENCODEHT000471440_path.png\n",
      "Saving transcript path graph for ENCODEHT001377428 as figures/cast_tissue_novel_ENCODEHT001377428_path.png\n",
      "Saving transcript path graph for ENCODEHT000471850 as figures/cast_tissue_novel_ENCODEHT000471850_path.png\n",
      "Saving transcript path graph for ENST00000395812.6 as figures/cast_tissue_novel_ENST00000395812.6_path.png\n",
      "Saving transcript path graph for ENST00000508608.5 as figures/cast_tissue_novel_ENST00000508608.5_path.png\n",
      "Saving transcript path graph for ENCODEHT001377345 as figures/cast_tissue_novel_ENCODEHT001377345_path.png\n",
      "Saving transcript path graph for ENCODEHT000471711 as figures/cast_tissue_novel_ENCODEHT000471711_path.png\n",
      "Saving transcript path graph for ENCODEHT000471680 as figures/cast_tissue_novel_ENCODEHT000471680_path.png\n",
      "Saving transcript path graph for ENCODEHT000470701 as figures/cast_tissue_novel_ENCODEHT000470701_path.png\n",
      "Saving transcript path graph for ENCODEHT001377335 as figures/cast_tissue_novel_ENCODEHT001377335_path.png\n",
      "Saving transcript path graph for ENCODEHT002062426 as figures/cast_tissue_novel_ENCODEHT002062426_path.png\n",
      "Saving transcript path graph for ENST00000515160.5 as figures/cast_tissue_novel_ENST00000515160.5_path.png\n",
      "Saving transcript path graph for ENCODEHT001377437 as figures/cast_tissue_novel_ENCODEHT001377437_path.png\n",
      "Saving transcript path graph for ENCODEHT001378061 as figures/cast_tissue_novel_ENCODEHT001378061_path.png\n",
      "Saving transcript path graph for ENCODEHT001378171 as figures/cast_tissue_novel_ENCODEHT001378171_path.png\n",
      "Saving transcript path graph for ENCODEHT000470580 as figures/cast_tissue_novel_ENCODEHT000470580_path.png\n",
      "Saving transcript path graph for ENCODEHT000471261 as figures/cast_tissue_novel_ENCODEHT000471261_path.png\n",
      "Saving transcript path graph for ENCODEHT000471427 as figures/cast_tissue_novel_ENCODEHT000471427_path.png\n",
      "Saving transcript path graph for ENCODEHT002542384 as figures/cast_tissue_novel_ENCODEHT002542384_path.png\n",
      "Saving transcript path graph for ENCODEHT001378401 as figures/cast_tissue_novel_ENCODEHT001378401_path.png\n",
      "Saving transcript path graph for ENCODEHT000470768 as figures/cast_tissue_novel_ENCODEHT000470768_path.png\n",
      "Saving transcript path graph for ENCODEHT002542275 as figures/cast_tissue_novel_ENCODEHT002542275_path.png\n",
      "Saving transcript path graph for ENCODEHT001377305 as figures/cast_tissue_novel_ENCODEHT001377305_path.png\n",
      "Saving transcript path graph for ENCODEHT001378308 as figures/cast_tissue_novel_ENCODEHT001378308_path.png\n",
      "Saving transcript path graph for ENCODEHT002995317 as figures/cast_tissue_novel_ENCODEHT002995317_path.png\n",
      "Saving transcript path graph for ENCODEHT001378397 as figures/cast_tissue_novel_ENCODEHT001378397_path.png\n",
      "Saving transcript path graph for ENCODEHT002542438 as figures/cast_tissue_novel_ENCODEHT002542438_path.png\n",
      "Saving transcript path graph for ENCODEHT000471218 as figures/cast_tissue_novel_ENCODEHT000471218_path.png\n",
      "Saving transcript path graph for ENCODEHT000470699 as figures/cast_tissue_novel_ENCODEHT000470699_path.png\n",
      "Saving transcript path graph for ENCODEHT001378395 as figures/cast_tissue_novel_ENCODEHT001378395_path.png\n",
      "Saving transcript path graph for ENST00000511049.5 as figures/cast_tissue_novel_ENST00000511049.5_path.png\n",
      "Saving transcript path graph for ENCODEHT000471188 as figures/cast_tissue_novel_ENCODEHT000471188_path.png\n",
      "Saving transcript path graph for ENST00000514845.5 as figures/cast_tissue_novel_ENST00000514845.5_path.png\n",
      "Saving transcript path graph for ENCODEHT002542382 as figures/cast_tissue_novel_ENCODEHT002542382_path.png\n",
      "Saving transcript path graph for ENCODEHT002995362 as figures/cast_tissue_novel_ENCODEHT002995362_path.png\n",
      "Saving transcript path graph for ENST00000421689.6 as figures/cast_tissue_novel_ENST00000421689.6_path.png\n",
      "Saving transcript path graph for ENST00000510756.5 as figures/cast_tissue_novel_ENST00000510756.5_path.png\n",
      "Saving transcript path graph for ENST00000507487.5 as figures/cast_tissue_novel_ENST00000507487.5_path.png\n",
      "Saving transcript path graph for ENST00000515663.5 as figures/cast_tissue_novel_ENST00000515663.5_path.png\n",
      "Saving transcript path graph for ENST00000511782.5 as figures/cast_tissue_novel_ENST00000511782.5_path.png\n",
      "Saving transcript path graph for ENST00000504221.5 as figures/cast_tissue_novel_ENST00000504221.5_path.png\n",
      "Saving transcript path graph for ENST00000325674.11 as figures/cast_tissue_novel_ENST00000325674.11_path.png\n",
      "Saving transcript path graph for ENST00000341926.7 as figures/cast_tissue_novel_ENST00000341926.7_path.png\n",
      "Saving transcript path graph for ENST00000510500.5 as figures/cast_tissue_novel_ENST00000510500.5_path.png\n",
      "Saving transcript path graph for ENST00000338252.7 as figures/cast_tissue_novel_ENST00000338252.7_path.png\n",
      "Saving transcript path graph for ENST00000508579.5 as figures/cast_tissue_novel_ENST00000508579.5_path.png\n",
      "Saving transcript path graph for ENST00000509529.1 as figures/cast_tissue_novel_ENST00000509529.1_path.png\n",
      "Saving transcript path graph for ENST00000510245.1 as figures/cast_tissue_novel_ENST00000510245.1_path.png\n",
      "Saving transcript path graph for ENST00000510156.5 as figures/cast_tissue_novel_ENST00000510156.5_path.png\n",
      "Generating report for ENSG00000153113.23\n"
     ]
    },
    {
     "name": "stderr",
     "output_type": "stream",
     "text": [
      "/Users/fairliereese/miniconda3/lib/python3.7/site-packages/scanpy/preprocessing/_normalization.py:155: UserWarning: Revieved a view of an AnnData. Making a copy.\n",
      "  view_to_actual(adata)\n"
     ]
    },
    {
     "name": "stdout",
     "output_type": "stream",
     "text": [
      "\n",
      "Plotting transcripts for ENSG00000153113.23\n",
      "Saving transcript path graph for ENST00000309190.9 as figures/cast_cell_line_browser_ENST00000309190.9_path.png\n",
      "Saving transcript path graph for ENCODEHT000471422 as figures/cast_cell_line_browser_ENCODEHT000471422_path.png\n",
      "Saving transcript path graph for ENCODEHT000471440 as figures/cast_cell_line_browser_ENCODEHT000471440_path.png\n",
      "Saving transcript path graph for ENST00000508608.5 as figures/cast_cell_line_browser_ENST00000508608.5_path.png\n",
      "Saving transcript path graph for ENST00000395812.6 as figures/cast_cell_line_browser_ENST00000395812.6_path.png\n",
      "Saving transcript path graph for ENCODEHT000470977 as figures/cast_cell_line_browser_ENCODEHT000470977_path.png\n",
      "Saving transcript path graph for ENCODEHT000471188 as figures/cast_cell_line_browser_ENCODEHT000471188_path.png\n",
      "Saving transcript path graph for ENST00000395813.5 as figures/cast_cell_line_browser_ENST00000395813.5_path.png\n",
      "Saving transcript path graph for ENCODEHT000470699 as figures/cast_cell_line_browser_ENCODEHT000470699_path.png\n",
      "Saving transcript path graph for ENCODEHT000471427 as figures/cast_cell_line_browser_ENCODEHT000471427_path.png\n",
      "Saving transcript path graph for ENCODEHT000471218 as figures/cast_cell_line_browser_ENCODEHT000471218_path.png\n",
      "Saving transcript path graph for ENCODEHT001377428 as figures/cast_cell_line_browser_ENCODEHT001377428_path.png\n",
      "Saving transcript path graph for ENCODEHT000470580 as figures/cast_cell_line_browser_ENCODEHT000470580_path.png\n",
      "Saving transcript path graph for ENCODEHT000471261 as figures/cast_cell_line_browser_ENCODEHT000471261_path.png\n",
      "Saving transcript path graph for ENCODEHT001377335 as figures/cast_cell_line_browser_ENCODEHT001377335_path.png\n",
      "Saving transcript path graph for ENCODEHT001377305 as figures/cast_cell_line_browser_ENCODEHT001377305_path.png\n",
      "Saving transcript path graph for ENCODEHT000470707 as figures/cast_cell_line_browser_ENCODEHT000470707_path.png\n",
      "Saving transcript path graph for ENCODEHT001378171 as figures/cast_cell_line_browser_ENCODEHT001378171_path.png\n",
      "Saving transcript path graph for ENCODEHT000470926 as figures/cast_cell_line_browser_ENCODEHT000470926_path.png\n",
      "Saving transcript path graph for ENCODEHT000471850 as figures/cast_cell_line_browser_ENCODEHT000471850_path.png\n",
      "Saving transcript path graph for ENCODEHT001378401 as figures/cast_cell_line_browser_ENCODEHT001378401_path.png\n",
      "Saving transcript path graph for ENCODEHT000470701 as figures/cast_cell_line_browser_ENCODEHT000470701_path.png\n",
      "Saving transcript path graph for ENST00000510500.5 as figures/cast_cell_line_browser_ENST00000510500.5_path.png\n",
      "Saving transcript path graph for ENCODEHT001378016 as figures/cast_cell_line_browser_ENCODEHT001378016_path.png\n",
      "Saving transcript path graph for ENCODEHT002062426 as figures/cast_cell_line_browser_ENCODEHT002062426_path.png\n",
      "Saving transcript path graph for ENST00000515160.5 as figures/cast_cell_line_browser_ENST00000515160.5_path.png\n",
      "Saving transcript path graph for ENCODEHT001377437 as figures/cast_cell_line_browser_ENCODEHT001377437_path.png\n",
      "Saving transcript path graph for ENCODEHT000471452 as figures/cast_cell_line_browser_ENCODEHT000471452_path.png\n",
      "Saving transcript path graph for ENCODEHT001377345 as figures/cast_cell_line_browser_ENCODEHT001377345_path.png\n",
      "Saving transcript path graph for ENCODEHT001378397 as figures/cast_cell_line_browser_ENCODEHT001378397_path.png\n",
      "Saving transcript path graph for ENCODEHT000471680 as figures/cast_cell_line_browser_ENCODEHT000471680_path.png\n",
      "Saving transcript path graph for ENCODEHT000470768 as figures/cast_cell_line_browser_ENCODEHT000470768_path.png\n",
      "Saving transcript path graph for ENST00000504221.5 as figures/cast_cell_line_browser_ENST00000504221.5_path.png\n",
      "Saving transcript path graph for ENST00000511782.5 as figures/cast_cell_line_browser_ENST00000511782.5_path.png\n",
      "Saving transcript path graph for ENCODEHT001378308 as figures/cast_cell_line_browser_ENCODEHT001378308_path.png\n",
      "Saving transcript path graph for ENCODEHT001378395 as figures/cast_cell_line_browser_ENCODEHT001378395_path.png\n",
      "Saving transcript path graph for ENST00000325674.11 as figures/cast_cell_line_browser_ENST00000325674.11_path.png\n",
      "Saving transcript path graph for ENST00000504465.5 as figures/cast_cell_line_browser_ENST00000504465.5_path.png\n",
      "Saving transcript path graph for ENST00000514845.5 as figures/cast_cell_line_browser_ENST00000514845.5_path.png\n",
      "Saving transcript path graph for ENST00000510756.5 as figures/cast_cell_line_browser_ENST00000510756.5_path.png\n",
      "Saving transcript path graph for ENCODEHT000471711 as figures/cast_cell_line_browser_ENCODEHT000471711_path.png\n",
      "Saving transcript path graph for ENST00000515663.5 as figures/cast_cell_line_browser_ENST00000515663.5_path.png\n",
      "Saving transcript path graph for ENST00000511049.5 as figures/cast_cell_line_browser_ENST00000511049.5_path.png\n",
      "Saving transcript path graph for ENST00000506811.5 as figures/cast_cell_line_browser_ENST00000506811.5_path.png\n",
      "Saving transcript path graph for ENCODEHT001378061 as figures/cast_cell_line_browser_ENCODEHT001378061_path.png\n",
      "Saving transcript path graph for ENST00000509529.1 as figures/cast_cell_line_browser_ENST00000509529.1_path.png\n",
      "Saving transcript path graph for ENST00000510245.1 as figures/cast_cell_line_browser_ENST00000510245.1_path.png\n",
      "Saving transcript path graph for ENST00000507487.5 as figures/cast_cell_line_browser_ENST00000507487.5_path.png\n",
      "Saving transcript path graph for ENST00000512620.5 as figures/cast_cell_line_browser_ENST00000512620.5_path.png\n",
      "Generating report for ENSG00000153113.23\n"
     ]
    },
    {
     "name": "stderr",
     "output_type": "stream",
     "text": [
      "/Users/fairliereese/miniconda3/lib/python3.7/site-packages/scanpy/preprocessing/_normalization.py:155: UserWarning: Revieved a view of an AnnData. Making a copy.\n",
      "  view_to_actual(adata)\n"
     ]
    },
    {
     "name": "stdout",
     "output_type": "stream",
     "text": [
      "\n",
      "Plotting transcripts for ENSG00000153113.23\n",
      "Saving transcript path graph for ENST00000309190.9 as figures/cast_cell_line_novel_ENST00000309190.9_path.png\n",
      "Saving transcript path graph for ENCODEHT000471422 as figures/cast_cell_line_novel_ENCODEHT000471422_path.png\n",
      "Saving transcript path graph for ENCODEHT000471440 as figures/cast_cell_line_novel_ENCODEHT000471440_path.png\n",
      "Saving transcript path graph for ENST00000508608.5 as figures/cast_cell_line_novel_ENST00000508608.5_path.png\n",
      "Saving transcript path graph for ENST00000395812.6 as figures/cast_cell_line_novel_ENST00000395812.6_path.png\n",
      "Saving transcript path graph for ENCODEHT000470977 as figures/cast_cell_line_novel_ENCODEHT000470977_path.png\n",
      "Saving transcript path graph for ENCODEHT000471188 as figures/cast_cell_line_novel_ENCODEHT000471188_path.png\n",
      "Saving transcript path graph for ENST00000395813.5 as figures/cast_cell_line_novel_ENST00000395813.5_path.png\n",
      "Saving transcript path graph for ENCODEHT000470699 as figures/cast_cell_line_novel_ENCODEHT000470699_path.png\n",
      "Saving transcript path graph for ENCODEHT000471427 as figures/cast_cell_line_novel_ENCODEHT000471427_path.png\n",
      "Saving transcript path graph for ENCODEHT000471218 as figures/cast_cell_line_novel_ENCODEHT000471218_path.png\n",
      "Saving transcript path graph for ENCODEHT001377428 as figures/cast_cell_line_novel_ENCODEHT001377428_path.png\n",
      "Saving transcript path graph for ENCODEHT000470580 as figures/cast_cell_line_novel_ENCODEHT000470580_path.png\n",
      "Saving transcript path graph for ENCODEHT000471261 as figures/cast_cell_line_novel_ENCODEHT000471261_path.png\n",
      "Saving transcript path graph for ENCODEHT001377335 as figures/cast_cell_line_novel_ENCODEHT001377335_path.png\n",
      "Saving transcript path graph for ENCODEHT001377305 as figures/cast_cell_line_novel_ENCODEHT001377305_path.png\n",
      "Saving transcript path graph for ENCODEHT000470707 as figures/cast_cell_line_novel_ENCODEHT000470707_path.png\n",
      "Saving transcript path graph for ENCODEHT001378171 as figures/cast_cell_line_novel_ENCODEHT001378171_path.png\n",
      "Saving transcript path graph for ENCODEHT000470926 as figures/cast_cell_line_novel_ENCODEHT000470926_path.png\n",
      "Saving transcript path graph for ENCODEHT000471850 as figures/cast_cell_line_novel_ENCODEHT000471850_path.png\n",
      "Saving transcript path graph for ENCODEHT001378401 as figures/cast_cell_line_novel_ENCODEHT001378401_path.png\n",
      "Saving transcript path graph for ENCODEHT000470701 as figures/cast_cell_line_novel_ENCODEHT000470701_path.png\n",
      "Saving transcript path graph for ENST00000510500.5 as figures/cast_cell_line_novel_ENST00000510500.5_path.png\n",
      "Saving transcript path graph for ENCODEHT001378016 as figures/cast_cell_line_novel_ENCODEHT001378016_path.png\n",
      "Saving transcript path graph for ENCODEHT002062426 as figures/cast_cell_line_novel_ENCODEHT002062426_path.png\n",
      "Saving transcript path graph for ENST00000515160.5 as figures/cast_cell_line_novel_ENST00000515160.5_path.png\n",
      "Saving transcript path graph for ENCODEHT001377437 as figures/cast_cell_line_novel_ENCODEHT001377437_path.png\n",
      "Saving transcript path graph for ENCODEHT000471452 as figures/cast_cell_line_novel_ENCODEHT000471452_path.png\n",
      "Saving transcript path graph for ENCODEHT001377345 as figures/cast_cell_line_novel_ENCODEHT001377345_path.png\n",
      "Saving transcript path graph for ENCODEHT001378397 as figures/cast_cell_line_novel_ENCODEHT001378397_path.png\n",
      "Saving transcript path graph for ENCODEHT000471680 as figures/cast_cell_line_novel_ENCODEHT000471680_path.png\n",
      "Saving transcript path graph for ENCODEHT000470768 as figures/cast_cell_line_novel_ENCODEHT000470768_path.png\n",
      "Saving transcript path graph for ENST00000504221.5 as figures/cast_cell_line_novel_ENST00000504221.5_path.png\n",
      "Saving transcript path graph for ENST00000511782.5 as figures/cast_cell_line_novel_ENST00000511782.5_path.png\n",
      "Saving transcript path graph for ENCODEHT001378308 as figures/cast_cell_line_novel_ENCODEHT001378308_path.png\n",
      "Saving transcript path graph for ENCODEHT001378395 as figures/cast_cell_line_novel_ENCODEHT001378395_path.png\n",
      "Saving transcript path graph for ENST00000325674.11 as figures/cast_cell_line_novel_ENST00000325674.11_path.png\n",
      "Saving transcript path graph for ENST00000504465.5 as figures/cast_cell_line_novel_ENST00000504465.5_path.png\n",
      "Saving transcript path graph for ENST00000514845.5 as figures/cast_cell_line_novel_ENST00000514845.5_path.png\n",
      "Saving transcript path graph for ENST00000510756.5 as figures/cast_cell_line_novel_ENST00000510756.5_path.png\n",
      "Saving transcript path graph for ENCODEHT000471711 as figures/cast_cell_line_novel_ENCODEHT000471711_path.png\n",
      "Saving transcript path graph for ENST00000515663.5 as figures/cast_cell_line_novel_ENST00000515663.5_path.png\n",
      "Saving transcript path graph for ENST00000511049.5 as figures/cast_cell_line_novel_ENST00000511049.5_path.png\n",
      "Saving transcript path graph for ENST00000506811.5 as figures/cast_cell_line_novel_ENST00000506811.5_path.png\n",
      "Saving transcript path graph for ENCODEHT001378061 as figures/cast_cell_line_novel_ENCODEHT001378061_path.png\n",
      "Saving transcript path graph for ENST00000509529.1 as figures/cast_cell_line_novel_ENST00000509529.1_path.png\n",
      "Saving transcript path graph for ENST00000510245.1 as figures/cast_cell_line_novel_ENST00000510245.1_path.png\n",
      "Saving transcript path graph for ENST00000507487.5 as figures/cast_cell_line_novel_ENST00000507487.5_path.png\n",
      "Saving transcript path graph for ENST00000512620.5 as figures/cast_cell_line_novel_ENST00000512620.5_path.png\n",
      "Generating report for ENSG00000153113.23\n"
     ]
    }
   ],
   "source": [
    "make_biosamp_reports(sg, 'CAST')"
   ]
  },
  {
   "cell_type": "code",
   "execution_count": 128,
   "id": "acting-projector",
   "metadata": {
    "collapsed": true,
    "jupyter": {
     "outputs_hidden": true
    }
   },
   "outputs": [
    {
     "name": "stderr",
     "output_type": "stream",
     "text": [
      "/Users/fairliereese/miniconda3/lib/python3.7/site-packages/scanpy/preprocessing/_normalization.py:155: UserWarning: Revieved a view of an AnnData. Making a copy.\n",
      "  view_to_actual(adata)\n"
     ]
    },
    {
     "name": "stdout",
     "output_type": "stream",
     "text": [
      "\n",
      "Plotting transcripts for ENSG00000100031.18\n",
      "Saving transcript path graph for ENCODEHT000414203 as figures/ggt1_tissue_browser_ENCODEHT000414203_path.png\n",
      "Saving transcript path graph for ENCODEHT000414250 as figures/ggt1_tissue_browser_ENCODEHT000414250_path.png\n",
      "Saving transcript path graph for ENST00000403838.5 as figures/ggt1_tissue_browser_ENST00000403838.5_path.png\n",
      "Saving transcript path graph for ENST00000400382.5 as figures/ggt1_tissue_browser_ENST00000400382.5_path.png\n",
      "Saving transcript path graph for ENCODEHT000414184 as figures/ggt1_tissue_browser_ENCODEHT000414184_path.png\n",
      "Saving transcript path graph for ENCODEHT000414190 as figures/ggt1_tissue_browser_ENCODEHT000414190_path.png\n",
      "Saving transcript path graph for ENCODEHT000414211 as figures/ggt1_tissue_browser_ENCODEHT000414211_path.png\n",
      "Saving transcript path graph for ENCODEHT000414244 as figures/ggt1_tissue_browser_ENCODEHT000414244_path.png\n",
      "Saving transcript path graph for ENCODEHT000414236 as figures/ggt1_tissue_browser_ENCODEHT000414236_path.png\n",
      "Saving transcript path graph for ENCODEHT000414265 as figures/ggt1_tissue_browser_ENCODEHT000414265_path.png\n",
      "Saving transcript path graph for ENCODEHT000414207 as figures/ggt1_tissue_browser_ENCODEHT000414207_path.png\n",
      "Saving transcript path graph for ENCODEHT000414425 as figures/ggt1_tissue_browser_ENCODEHT000414425_path.png\n",
      "Saving transcript path graph for ENCODEHT000414639 as figures/ggt1_tissue_browser_ENCODEHT000414639_path.png\n",
      "Saving transcript path graph for ENCODEHT000414181 as figures/ggt1_tissue_browser_ENCODEHT000414181_path.png\n",
      "Saving transcript path graph for ENCODEHT000414201 as figures/ggt1_tissue_browser_ENCODEHT000414201_path.png\n",
      "Saving transcript path graph for ENCODEHT000414522 as figures/ggt1_tissue_browser_ENCODEHT000414522_path.png\n",
      "Saving transcript path graph for ENCODEHT000414194 as figures/ggt1_tissue_browser_ENCODEHT000414194_path.png\n",
      "Saving transcript path graph for ENCODEHT000414360 as figures/ggt1_tissue_browser_ENCODEHT000414360_path.png\n",
      "Saving transcript path graph for ENCODEHT000414174 as figures/ggt1_tissue_browser_ENCODEHT000414174_path.png\n",
      "Saving transcript path graph for ENCODEHT000414262 as figures/ggt1_tissue_browser_ENCODEHT000414262_path.png\n",
      "Saving transcript path graph for ENCODEHT000414463 as figures/ggt1_tissue_browser_ENCODEHT000414463_path.png\n",
      "Saving transcript path graph for ENCODEHT000414197 as figures/ggt1_tissue_browser_ENCODEHT000414197_path.png\n",
      "Saving transcript path graph for ENCODEHT000414226 as figures/ggt1_tissue_browser_ENCODEHT000414226_path.png\n",
      "Saving transcript path graph for ENCODEHT001249443 as figures/ggt1_tissue_browser_ENCODEHT001249443_path.png\n",
      "Saving transcript path graph for ENCODEHT001249450 as figures/ggt1_tissue_browser_ENCODEHT001249450_path.png\n",
      "Saving transcript path graph for ENCODEHT000414504 as figures/ggt1_tissue_browser_ENCODEHT000414504_path.png\n",
      "Saving transcript path graph for ENCODEHT000414241 as figures/ggt1_tissue_browser_ENCODEHT000414241_path.png\n",
      "Saving transcript path graph for ENCODEHT000414648 as figures/ggt1_tissue_browser_ENCODEHT000414648_path.png\n",
      "Saving transcript path graph for ENST00000401885.5 as figures/ggt1_tissue_browser_ENST00000401885.5_path.png\n",
      "Saving transcript path graph for ENCODEHT000414300 as figures/ggt1_tissue_browser_ENCODEHT000414300_path.png\n",
      "Saving transcript path graph for ENST00000404532.5 as figures/ggt1_tissue_browser_ENST00000404532.5_path.png\n",
      "Saving transcript path graph for ENST00000400380.5 as figures/ggt1_tissue_browser_ENST00000400380.5_path.png\n",
      "Saving transcript path graph for ENCODEHT000414643 as figures/ggt1_tissue_browser_ENCODEHT000414643_path.png\n",
      "Saving transcript path graph for ENST00000425895.5 as figures/ggt1_tissue_browser_ENST00000425895.5_path.png\n",
      "Saving transcript path graph for ENCODEHT000414276 as figures/ggt1_tissue_browser_ENCODEHT000414276_path.png\n",
      "Saving transcript path graph for ENCODEHT000414251 as figures/ggt1_tissue_browser_ENCODEHT000414251_path.png\n",
      "Saving transcript path graph for ENCODEHT000414665 as figures/ggt1_tissue_browser_ENCODEHT000414665_path.png\n",
      "Saving transcript path graph for ENST00000248923.8 as figures/ggt1_tissue_browser_ENST00000248923.8_path.png\n",
      "Saving transcript path graph for ENCODEHT001249471 as figures/ggt1_tissue_browser_ENCODEHT001249471_path.png\n",
      "Saving transcript path graph for ENCODEHT000414633 as figures/ggt1_tissue_browser_ENCODEHT000414633_path.png\n",
      "Saving transcript path graph for ENST00000404223.5 as figures/ggt1_tissue_browser_ENST00000404223.5_path.png\n",
      "Saving transcript path graph for ENCODEHT001249447 as figures/ggt1_tissue_browser_ENCODEHT001249447_path.png\n",
      "Generating report for ENSG00000100031.18\n"
     ]
    },
    {
     "name": "stderr",
     "output_type": "stream",
     "text": [
      "/Users/fairliereese/miniconda3/lib/python3.7/site-packages/scanpy/preprocessing/_normalization.py:155: UserWarning: Revieved a view of an AnnData. Making a copy.\n",
      "  view_to_actual(adata)\n"
     ]
    },
    {
     "name": "stdout",
     "output_type": "stream",
     "text": [
      "\n",
      "Plotting transcripts for ENSG00000100031.18\n",
      "Saving transcript path graph for ENCODEHT000414203 as figures/ggt1_tissue_novel_ENCODEHT000414203_path.png\n",
      "Saving transcript path graph for ENCODEHT000414250 as figures/ggt1_tissue_novel_ENCODEHT000414250_path.png\n",
      "Saving transcript path graph for ENST00000403838.5 as figures/ggt1_tissue_novel_ENST00000403838.5_path.png\n",
      "Saving transcript path graph for ENST00000400382.5 as figures/ggt1_tissue_novel_ENST00000400382.5_path.png\n",
      "Saving transcript path graph for ENCODEHT000414184 as figures/ggt1_tissue_novel_ENCODEHT000414184_path.png\n",
      "Saving transcript path graph for ENCODEHT000414190 as figures/ggt1_tissue_novel_ENCODEHT000414190_path.png\n",
      "Saving transcript path graph for ENCODEHT000414211 as figures/ggt1_tissue_novel_ENCODEHT000414211_path.png\n",
      "Saving transcript path graph for ENCODEHT000414244 as figures/ggt1_tissue_novel_ENCODEHT000414244_path.png\n",
      "Saving transcript path graph for ENCODEHT000414236 as figures/ggt1_tissue_novel_ENCODEHT000414236_path.png\n",
      "Saving transcript path graph for ENCODEHT000414265 as figures/ggt1_tissue_novel_ENCODEHT000414265_path.png\n",
      "Saving transcript path graph for ENCODEHT000414207 as figures/ggt1_tissue_novel_ENCODEHT000414207_path.png\n",
      "Saving transcript path graph for ENCODEHT000414425 as figures/ggt1_tissue_novel_ENCODEHT000414425_path.png\n",
      "Saving transcript path graph for ENCODEHT000414639 as figures/ggt1_tissue_novel_ENCODEHT000414639_path.png\n",
      "Saving transcript path graph for ENCODEHT000414181 as figures/ggt1_tissue_novel_ENCODEHT000414181_path.png\n",
      "Saving transcript path graph for ENCODEHT000414201 as figures/ggt1_tissue_novel_ENCODEHT000414201_path.png\n",
      "Saving transcript path graph for ENCODEHT000414522 as figures/ggt1_tissue_novel_ENCODEHT000414522_path.png\n",
      "Saving transcript path graph for ENCODEHT000414194 as figures/ggt1_tissue_novel_ENCODEHT000414194_path.png\n",
      "Saving transcript path graph for ENCODEHT000414360 as figures/ggt1_tissue_novel_ENCODEHT000414360_path.png\n",
      "Saving transcript path graph for ENCODEHT000414174 as figures/ggt1_tissue_novel_ENCODEHT000414174_path.png\n",
      "Saving transcript path graph for ENCODEHT000414262 as figures/ggt1_tissue_novel_ENCODEHT000414262_path.png\n",
      "Saving transcript path graph for ENCODEHT000414463 as figures/ggt1_tissue_novel_ENCODEHT000414463_path.png\n",
      "Saving transcript path graph for ENCODEHT000414197 as figures/ggt1_tissue_novel_ENCODEHT000414197_path.png\n",
      "Saving transcript path graph for ENCODEHT000414226 as figures/ggt1_tissue_novel_ENCODEHT000414226_path.png\n",
      "Saving transcript path graph for ENCODEHT001249443 as figures/ggt1_tissue_novel_ENCODEHT001249443_path.png\n",
      "Saving transcript path graph for ENCODEHT001249450 as figures/ggt1_tissue_novel_ENCODEHT001249450_path.png\n",
      "Saving transcript path graph for ENCODEHT000414504 as figures/ggt1_tissue_novel_ENCODEHT000414504_path.png\n",
      "Saving transcript path graph for ENCODEHT000414241 as figures/ggt1_tissue_novel_ENCODEHT000414241_path.png\n",
      "Saving transcript path graph for ENCODEHT000414648 as figures/ggt1_tissue_novel_ENCODEHT000414648_path.png\n",
      "Saving transcript path graph for ENST00000401885.5 as figures/ggt1_tissue_novel_ENST00000401885.5_path.png\n",
      "Saving transcript path graph for ENCODEHT000414300 as figures/ggt1_tissue_novel_ENCODEHT000414300_path.png\n",
      "Saving transcript path graph for ENST00000404532.5 as figures/ggt1_tissue_novel_ENST00000404532.5_path.png\n",
      "Saving transcript path graph for ENST00000400380.5 as figures/ggt1_tissue_novel_ENST00000400380.5_path.png\n",
      "Saving transcript path graph for ENCODEHT000414643 as figures/ggt1_tissue_novel_ENCODEHT000414643_path.png\n",
      "Saving transcript path graph for ENST00000425895.5 as figures/ggt1_tissue_novel_ENST00000425895.5_path.png\n",
      "Saving transcript path graph for ENCODEHT000414276 as figures/ggt1_tissue_novel_ENCODEHT000414276_path.png\n",
      "Saving transcript path graph for ENCODEHT000414251 as figures/ggt1_tissue_novel_ENCODEHT000414251_path.png\n",
      "Saving transcript path graph for ENCODEHT000414665 as figures/ggt1_tissue_novel_ENCODEHT000414665_path.png\n",
      "Saving transcript path graph for ENST00000248923.8 as figures/ggt1_tissue_novel_ENST00000248923.8_path.png\n",
      "Saving transcript path graph for ENCODEHT001249471 as figures/ggt1_tissue_novel_ENCODEHT001249471_path.png\n",
      "Saving transcript path graph for ENCODEHT000414633 as figures/ggt1_tissue_novel_ENCODEHT000414633_path.png\n",
      "Saving transcript path graph for ENST00000404223.5 as figures/ggt1_tissue_novel_ENST00000404223.5_path.png\n",
      "Saving transcript path graph for ENCODEHT001249447 as figures/ggt1_tissue_novel_ENCODEHT001249447_path.png\n",
      "Generating report for ENSG00000100031.18\n"
     ]
    },
    {
     "name": "stderr",
     "output_type": "stream",
     "text": [
      "/Users/fairliereese/miniconda3/lib/python3.7/site-packages/scanpy/preprocessing/_normalization.py:155: UserWarning: Revieved a view of an AnnData. Making a copy.\n",
      "  view_to_actual(adata)\n"
     ]
    },
    {
     "name": "stdout",
     "output_type": "stream",
     "text": [
      "\n",
      "Plotting transcripts for ENSG00000100031.18\n",
      "Saving transcript path graph for ENCODEHT000414250 as figures/ggt1_cell_line_browser_ENCODEHT000414250_path.png\n",
      "Saving transcript path graph for ENCODEHT000414184 as figures/ggt1_cell_line_browser_ENCODEHT000414184_path.png\n",
      "Saving transcript path graph for ENCODEHT000414203 as figures/ggt1_cell_line_browser_ENCODEHT000414203_path.png\n",
      "Saving transcript path graph for ENCODEHT000414265 as figures/ggt1_cell_line_browser_ENCODEHT000414265_path.png\n",
      "Saving transcript path graph for ENCODEHT000414207 as figures/ggt1_cell_line_browser_ENCODEHT000414207_path.png\n",
      "Saving transcript path graph for ENST00000400382.5 as figures/ggt1_cell_line_browser_ENST00000400382.5_path.png\n",
      "Saving transcript path graph for ENST00000403838.5 as figures/ggt1_cell_line_browser_ENST00000403838.5_path.png\n",
      "Saving transcript path graph for ENCODEHT000414181 as figures/ggt1_cell_line_browser_ENCODEHT000414181_path.png\n",
      "Saving transcript path graph for ENCODEHT000414194 as figures/ggt1_cell_line_browser_ENCODEHT000414194_path.png\n",
      "Saving transcript path graph for ENCODEHT000414226 as figures/ggt1_cell_line_browser_ENCODEHT000414226_path.png\n",
      "Saving transcript path graph for ENCODEHT000414643 as figures/ggt1_cell_line_browser_ENCODEHT000414643_path.png\n",
      "Saving transcript path graph for ENCODEHT000414463 as figures/ggt1_cell_line_browser_ENCODEHT000414463_path.png\n",
      "Saving transcript path graph for ENCODEHT000414236 as figures/ggt1_cell_line_browser_ENCODEHT000414236_path.png\n",
      "Saving transcript path graph for ENCODEHT000414241 as figures/ggt1_cell_line_browser_ENCODEHT000414241_path.png\n",
      "Saving transcript path graph for ENCODEHT000414262 as figures/ggt1_cell_line_browser_ENCODEHT000414262_path.png\n",
      "Saving transcript path graph for ENCODEHT000414197 as figures/ggt1_cell_line_browser_ENCODEHT000414197_path.png\n",
      "Saving transcript path graph for ENCODEHT000414201 as figures/ggt1_cell_line_browser_ENCODEHT000414201_path.png\n",
      "Saving transcript path graph for ENCODEHT000414211 as figures/ggt1_cell_line_browser_ENCODEHT000414211_path.png\n",
      "Saving transcript path graph for ENCODEHT000414190 as figures/ggt1_cell_line_browser_ENCODEHT000414190_path.png\n",
      "Saving transcript path graph for ENCODEHT000414244 as figures/ggt1_cell_line_browser_ENCODEHT000414244_path.png\n",
      "Saving transcript path graph for ENCODEHT000414276 as figures/ggt1_cell_line_browser_ENCODEHT000414276_path.png\n",
      "Saving transcript path graph for ENCODEHT000414522 as figures/ggt1_cell_line_browser_ENCODEHT000414522_path.png\n",
      "Saving transcript path graph for ENCODEHT000414360 as figures/ggt1_cell_line_browser_ENCODEHT000414360_path.png\n",
      "Saving transcript path graph for ENCODEHT000414639 as figures/ggt1_cell_line_browser_ENCODEHT000414639_path.png\n",
      "Saving transcript path graph for ENCODEHT001249443 as figures/ggt1_cell_line_browser_ENCODEHT001249443_path.png\n",
      "Saving transcript path graph for ENCODEHT000414425 as figures/ggt1_cell_line_browser_ENCODEHT000414425_path.png\n",
      "Saving transcript path graph for ENCODEHT000414174 as figures/ggt1_cell_line_browser_ENCODEHT000414174_path.png\n",
      "Saving transcript path graph for ENCODEHT001249450 as figures/ggt1_cell_line_browser_ENCODEHT001249450_path.png\n",
      "Saving transcript path graph for ENCODEHT000414325 as figures/ggt1_cell_line_browser_ENCODEHT000414325_path.png\n",
      "Saving transcript path graph for ENCODEHT000414504 as figures/ggt1_cell_line_browser_ENCODEHT000414504_path.png\n",
      "Saving transcript path graph for ENCODEHT000414251 as figures/ggt1_cell_line_browser_ENCODEHT000414251_path.png\n",
      "Saving transcript path graph for ENCODEHT000414665 as figures/ggt1_cell_line_browser_ENCODEHT000414665_path.png\n",
      "Saving transcript path graph for ENCODEHT000414633 as figures/ggt1_cell_line_browser_ENCODEHT000414633_path.png\n",
      "Saving transcript path graph for ENCODEHT000414336 as figures/ggt1_cell_line_browser_ENCODEHT000414336_path.png\n",
      "Saving transcript path graph for ENCODEHT000414648 as figures/ggt1_cell_line_browser_ENCODEHT000414648_path.png\n",
      "Saving transcript path graph for ENCODEHT000414300 as figures/ggt1_cell_line_browser_ENCODEHT000414300_path.png\n",
      "Saving transcript path graph for ENCODEHT001249471 as figures/ggt1_cell_line_browser_ENCODEHT001249471_path.png\n",
      "Saving transcript path graph for ENCODEHT001249447 as figures/ggt1_cell_line_browser_ENCODEHT001249447_path.png\n",
      "Saving transcript path graph for ENST00000400380.5 as figures/ggt1_cell_line_browser_ENST00000400380.5_path.png\n",
      "Saving transcript path graph for ENST00000487766.1 as figures/ggt1_cell_line_browser_ENST00000487766.1_path.png\n",
      "Saving transcript path graph for ENST00000248923.8 as figures/ggt1_cell_line_browser_ENST00000248923.8_path.png\n",
      "Generating report for ENSG00000100031.18\n"
     ]
    },
    {
     "name": "stderr",
     "output_type": "stream",
     "text": [
      "/Users/fairliereese/miniconda3/lib/python3.7/site-packages/scanpy/preprocessing/_normalization.py:155: UserWarning: Revieved a view of an AnnData. Making a copy.\n",
      "  view_to_actual(adata)\n"
     ]
    },
    {
     "name": "stdout",
     "output_type": "stream",
     "text": [
      "\n",
      "Plotting transcripts for ENSG00000100031.18\n",
      "Saving transcript path graph for ENCODEHT000414250 as figures/ggt1_cell_line_novel_ENCODEHT000414250_path.png\n",
      "Saving transcript path graph for ENCODEHT000414184 as figures/ggt1_cell_line_novel_ENCODEHT000414184_path.png\n",
      "Saving transcript path graph for ENCODEHT000414203 as figures/ggt1_cell_line_novel_ENCODEHT000414203_path.png\n",
      "Saving transcript path graph for ENCODEHT000414265 as figures/ggt1_cell_line_novel_ENCODEHT000414265_path.png\n",
      "Saving transcript path graph for ENCODEHT000414207 as figures/ggt1_cell_line_novel_ENCODEHT000414207_path.png\n",
      "Saving transcript path graph for ENST00000400382.5 as figures/ggt1_cell_line_novel_ENST00000400382.5_path.png\n",
      "Saving transcript path graph for ENST00000403838.5 as figures/ggt1_cell_line_novel_ENST00000403838.5_path.png\n",
      "Saving transcript path graph for ENCODEHT000414181 as figures/ggt1_cell_line_novel_ENCODEHT000414181_path.png\n",
      "Saving transcript path graph for ENCODEHT000414194 as figures/ggt1_cell_line_novel_ENCODEHT000414194_path.png\n",
      "Saving transcript path graph for ENCODEHT000414226 as figures/ggt1_cell_line_novel_ENCODEHT000414226_path.png\n",
      "Saving transcript path graph for ENCODEHT000414643 as figures/ggt1_cell_line_novel_ENCODEHT000414643_path.png\n",
      "Saving transcript path graph for ENCODEHT000414463 as figures/ggt1_cell_line_novel_ENCODEHT000414463_path.png\n",
      "Saving transcript path graph for ENCODEHT000414236 as figures/ggt1_cell_line_novel_ENCODEHT000414236_path.png\n",
      "Saving transcript path graph for ENCODEHT000414241 as figures/ggt1_cell_line_novel_ENCODEHT000414241_path.png\n",
      "Saving transcript path graph for ENCODEHT000414262 as figures/ggt1_cell_line_novel_ENCODEHT000414262_path.png\n",
      "Saving transcript path graph for ENCODEHT000414197 as figures/ggt1_cell_line_novel_ENCODEHT000414197_path.png\n",
      "Saving transcript path graph for ENCODEHT000414201 as figures/ggt1_cell_line_novel_ENCODEHT000414201_path.png\n",
      "Saving transcript path graph for ENCODEHT000414211 as figures/ggt1_cell_line_novel_ENCODEHT000414211_path.png\n",
      "Saving transcript path graph for ENCODEHT000414190 as figures/ggt1_cell_line_novel_ENCODEHT000414190_path.png\n",
      "Saving transcript path graph for ENCODEHT000414244 as figures/ggt1_cell_line_novel_ENCODEHT000414244_path.png\n",
      "Saving transcript path graph for ENCODEHT000414276 as figures/ggt1_cell_line_novel_ENCODEHT000414276_path.png\n",
      "Saving transcript path graph for ENCODEHT000414522 as figures/ggt1_cell_line_novel_ENCODEHT000414522_path.png\n",
      "Saving transcript path graph for ENCODEHT000414360 as figures/ggt1_cell_line_novel_ENCODEHT000414360_path.png\n",
      "Saving transcript path graph for ENCODEHT000414639 as figures/ggt1_cell_line_novel_ENCODEHT000414639_path.png\n",
      "Saving transcript path graph for ENCODEHT001249443 as figures/ggt1_cell_line_novel_ENCODEHT001249443_path.png\n",
      "Saving transcript path graph for ENCODEHT000414425 as figures/ggt1_cell_line_novel_ENCODEHT000414425_path.png\n",
      "Saving transcript path graph for ENCODEHT000414174 as figures/ggt1_cell_line_novel_ENCODEHT000414174_path.png\n",
      "Saving transcript path graph for ENCODEHT001249450 as figures/ggt1_cell_line_novel_ENCODEHT001249450_path.png\n",
      "Saving transcript path graph for ENCODEHT000414325 as figures/ggt1_cell_line_novel_ENCODEHT000414325_path.png\n",
      "Saving transcript path graph for ENCODEHT000414504 as figures/ggt1_cell_line_novel_ENCODEHT000414504_path.png\n",
      "Saving transcript path graph for ENCODEHT000414251 as figures/ggt1_cell_line_novel_ENCODEHT000414251_path.png\n",
      "Saving transcript path graph for ENCODEHT000414665 as figures/ggt1_cell_line_novel_ENCODEHT000414665_path.png\n",
      "Saving transcript path graph for ENCODEHT000414633 as figures/ggt1_cell_line_novel_ENCODEHT000414633_path.png\n",
      "Saving transcript path graph for ENCODEHT000414336 as figures/ggt1_cell_line_novel_ENCODEHT000414336_path.png\n",
      "Saving transcript path graph for ENCODEHT000414648 as figures/ggt1_cell_line_novel_ENCODEHT000414648_path.png\n",
      "Saving transcript path graph for ENCODEHT000414300 as figures/ggt1_cell_line_novel_ENCODEHT000414300_path.png\n",
      "Saving transcript path graph for ENCODEHT001249471 as figures/ggt1_cell_line_novel_ENCODEHT001249471_path.png\n",
      "Saving transcript path graph for ENCODEHT001249447 as figures/ggt1_cell_line_novel_ENCODEHT001249447_path.png\n",
      "Saving transcript path graph for ENST00000400380.5 as figures/ggt1_cell_line_novel_ENST00000400380.5_path.png\n",
      "Saving transcript path graph for ENST00000487766.1 as figures/ggt1_cell_line_novel_ENST00000487766.1_path.png\n",
      "Saving transcript path graph for ENST00000248923.8 as figures/ggt1_cell_line_novel_ENST00000248923.8_path.png\n",
      "Generating report for ENSG00000100031.18\n"
     ]
    }
   ],
   "source": [
    "make_biosamp_reports(sg, 'GGT1')"
   ]
  },
  {
   "cell_type": "code",
   "execution_count": 64,
   "id": "initial-symposium",
   "metadata": {
    "collapsed": true,
    "jupyter": {
     "outputs_hidden": true
    }
   },
   "outputs": [
    {
     "name": "stderr",
     "output_type": "stream",
     "text": [
      "/Users/fairliereese/miniconda3/lib/python3.7/site-packages/scanpy/preprocessing/_normalization.py:155: UserWarning: Revieved a view of an AnnData. Making a copy.\n",
      "  view_to_actual(adata)\n"
     ]
    },
    {
     "name": "stdout",
     "output_type": "stream",
     "text": [
      "\n",
      "Plotting transcripts for ENSG00000049540.16\n",
      "Saving transcript path graph for ENCODEHT001481409 as figures/eln_cell_line_pi_browser_ENCODEHT001481409_path.png\n",
      "Saving transcript path graph for ENST00000380576.9 as figures/eln_cell_line_pi_browser_ENST00000380576.9_path.png\n",
      "Saving transcript path graph for ENST00000445912.5 as figures/eln_cell_line_pi_browser_ENST00000445912.5_path.png\n",
      "Saving transcript path graph for ENST00000252034.11 as figures/eln_cell_line_pi_browser_ENST00000252034.11_path.png\n",
      "Saving transcript path graph for ENST00000380575.8 as figures/eln_cell_line_pi_browser_ENST00000380575.8_path.png\n",
      "Saving transcript path graph for ENCODEHT001481404 as figures/eln_cell_line_pi_browser_ENCODEHT001481404_path.png\n",
      "Saving transcript path graph for ENCODEHT002323610 as figures/eln_cell_line_pi_browser_ENCODEHT002323610_path.png\n",
      "Saving transcript path graph for ENCODEHT002323608 as figures/eln_cell_line_pi_browser_ENCODEHT002323608_path.png\n",
      "Saving transcript path graph for ENCODEHT002323596 as figures/eln_cell_line_pi_browser_ENCODEHT002323596_path.png\n",
      "Saving transcript path graph for ENCODEHT002323629 as figures/eln_cell_line_pi_browser_ENCODEHT002323629_path.png\n",
      "Saving transcript path graph for ENCODEHT002323593 as figures/eln_cell_line_pi_browser_ENCODEHT002323593_path.png\n",
      "Saving transcript path graph for ENCODEHT001481394 as figures/eln_cell_line_pi_browser_ENCODEHT001481394_path.png\n",
      "Saving transcript path graph for ENST00000458204.5 as figures/eln_cell_line_pi_browser_ENST00000458204.5_path.png\n",
      "Saving transcript path graph for ENCODEHT002323663 as figures/eln_cell_line_pi_browser_ENCODEHT002323663_path.png\n",
      "Saving transcript path graph for ENCODEHT002323626 as figures/eln_cell_line_pi_browser_ENCODEHT002323626_path.png\n",
      "Saving transcript path graph for ENST00000357036.9 as figures/eln_cell_line_pi_browser_ENST00000357036.9_path.png\n",
      "Saving transcript path graph for ENCODEHT002323675 as figures/eln_cell_line_pi_browser_ENCODEHT002323675_path.png\n",
      "Saving transcript path graph for ENCODEHT002323649 as figures/eln_cell_line_pi_browser_ENCODEHT002323649_path.png\n",
      "Saving transcript path graph for ENST00000429192.5 as figures/eln_cell_line_pi_browser_ENST00000429192.5_path.png\n",
      "Saving transcript path graph for ENCODEHT002323580 as figures/eln_cell_line_pi_browser_ENCODEHT002323580_path.png\n",
      "Saving transcript path graph for ENCODEHT002323648 as figures/eln_cell_line_pi_browser_ENCODEHT002323648_path.png\n",
      "Saving transcript path graph for ENCODEHT002323597 as figures/eln_cell_line_pi_browser_ENCODEHT002323597_path.png\n",
      "Saving transcript path graph for ENCODEHT002323647 as figures/eln_cell_line_pi_browser_ENCODEHT002323647_path.png\n",
      "Saving transcript path graph for ENCODEHT002323748 as figures/eln_cell_line_pi_browser_ENCODEHT002323748_path.png\n",
      "Saving transcript path graph for ENCODEHT002323645 as figures/eln_cell_line_pi_browser_ENCODEHT002323645_path.png\n",
      "Saving transcript path graph for ENCODEHT002323712 as figures/eln_cell_line_pi_browser_ENCODEHT002323712_path.png\n",
      "Saving transcript path graph for ENCODEHT002323601 as figures/eln_cell_line_pi_browser_ENCODEHT002323601_path.png\n",
      "Saving transcript path graph for ENCODEHT002323840 as figures/eln_cell_line_pi_browser_ENCODEHT002323840_path.png\n",
      "Saving transcript path graph for ENCODEHT002323630 as figures/eln_cell_line_pi_browser_ENCODEHT002323630_path.png\n",
      "Saving transcript path graph for ENCODEHT002323665 as figures/eln_cell_line_pi_browser_ENCODEHT002323665_path.png\n",
      "Saving transcript path graph for ENCODEHT002323696 as figures/eln_cell_line_pi_browser_ENCODEHT002323696_path.png\n",
      "Saving transcript path graph for ENCODEHT002323737 as figures/eln_cell_line_pi_browser_ENCODEHT002323737_path.png\n",
      "Saving transcript path graph for ENCODEHT002323661 as figures/eln_cell_line_pi_browser_ENCODEHT002323661_path.png\n",
      "Saving transcript path graph for ENCODEHT002323761 as figures/eln_cell_line_pi_browser_ENCODEHT002323761_path.png\n",
      "Saving transcript path graph for ENCODEHT002323752 as figures/eln_cell_line_pi_browser_ENCODEHT002323752_path.png\n",
      "Saving transcript path graph for ENCODEHT002323581 as figures/eln_cell_line_pi_browser_ENCODEHT002323581_path.png\n",
      "Saving transcript path graph for ENCODEHT002323653 as figures/eln_cell_line_pi_browser_ENCODEHT002323653_path.png\n",
      "Saving transcript path graph for ENCODEHT002323698 as figures/eln_cell_line_pi_browser_ENCODEHT002323698_path.png\n",
      "Saving transcript path graph for ENCODEHT002323589 as figures/eln_cell_line_pi_browser_ENCODEHT002323589_path.png\n",
      "Saving transcript path graph for ENCODEHT000578981 as figures/eln_cell_line_pi_browser_ENCODEHT000578981_path.png\n",
      "Saving transcript path graph for ENCODEHT002323590 as figures/eln_cell_line_pi_browser_ENCODEHT002323590_path.png\n",
      "Saving transcript path graph for ENCODEHT002323726 as figures/eln_cell_line_pi_browser_ENCODEHT002323726_path.png\n",
      "Saving transcript path graph for ENCODEHT002323634 as figures/eln_cell_line_pi_browser_ENCODEHT002323634_path.png\n",
      "Saving transcript path graph for ENCODEHT002323725 as figures/eln_cell_line_pi_browser_ENCODEHT002323725_path.png\n",
      "Saving transcript path graph for ENCODEHT002323651 as figures/eln_cell_line_pi_browser_ENCODEHT002323651_path.png\n",
      "Saving transcript path graph for ENCODEHT002323703 as figures/eln_cell_line_pi_browser_ENCODEHT002323703_path.png\n",
      "Saving transcript path graph for ENCODEHT002324026 as figures/eln_cell_line_pi_browser_ENCODEHT002324026_path.png\n",
      "Saving transcript path graph for ENCODEHT002323592 as figures/eln_cell_line_pi_browser_ENCODEHT002323592_path.png\n",
      "Saving transcript path graph for ENCODEHT002323807 as figures/eln_cell_line_pi_browser_ENCODEHT002323807_path.png\n",
      "Saving transcript path graph for ENCODEHT002323652 as figures/eln_cell_line_pi_browser_ENCODEHT002323652_path.png\n",
      "Saving transcript path graph for ENCODEHT002323717 as figures/eln_cell_line_pi_browser_ENCODEHT002323717_path.png\n",
      "Saving transcript path graph for ENCODEHT002323684 as figures/eln_cell_line_pi_browser_ENCODEHT002323684_path.png\n",
      "Saving transcript path graph for ENCODEHT002323695 as figures/eln_cell_line_pi_browser_ENCODEHT002323695_path.png\n",
      "Saving transcript path graph for ENCODEHT002323845 as figures/eln_cell_line_pi_browser_ENCODEHT002323845_path.png\n",
      "Saving transcript path graph for ENCODEHT002323767 as figures/eln_cell_line_pi_browser_ENCODEHT002323767_path.png\n",
      "Saving transcript path graph for ENCODEHT002323678 as figures/eln_cell_line_pi_browser_ENCODEHT002323678_path.png\n",
      "Saving transcript path graph for ENCODEHT002323862 as figures/eln_cell_line_pi_browser_ENCODEHT002323862_path.png\n",
      "Saving transcript path graph for ENCODEHT002323741 as figures/eln_cell_line_pi_browser_ENCODEHT002323741_path.png\n",
      "Saving transcript path graph for ENCODEHT002323860 as figures/eln_cell_line_pi_browser_ENCODEHT002323860_path.png\n",
      "Saving transcript path graph for ENCODEHT002323914 as figures/eln_cell_line_pi_browser_ENCODEHT002323914_path.png\n",
      "Saving transcript path graph for ENCODEHT002323700 as figures/eln_cell_line_pi_browser_ENCODEHT002323700_path.png\n",
      "Saving transcript path graph for ENCODEHT002323672 as figures/eln_cell_line_pi_browser_ENCODEHT002323672_path.png\n",
      "Saving transcript path graph for ENCODEHT002324142 as figures/eln_cell_line_pi_browser_ENCODEHT002324142_path.png\n",
      "Saving transcript path graph for ENCODEHT002323690 as figures/eln_cell_line_pi_browser_ENCODEHT002323690_path.png\n",
      "Saving transcript path graph for ENCODEHT002323715 as figures/eln_cell_line_pi_browser_ENCODEHT002323715_path.png\n",
      "Saving transcript path graph for ENCODEHT002323738 as figures/eln_cell_line_pi_browser_ENCODEHT002323738_path.png\n",
      "Saving transcript path graph for ENCODEHT002323693 as figures/eln_cell_line_pi_browser_ENCODEHT002323693_path.png\n",
      "Saving transcript path graph for ENCODEHT002323770 as figures/eln_cell_line_pi_browser_ENCODEHT002323770_path.png\n",
      "Saving transcript path graph for ENCODEHT002324129 as figures/eln_cell_line_pi_browser_ENCODEHT002324129_path.png\n",
      "Saving transcript path graph for ENCODEHT002323879 as figures/eln_cell_line_pi_browser_ENCODEHT002323879_path.png\n",
      "Saving transcript path graph for ENCODEHT002323650 as figures/eln_cell_line_pi_browser_ENCODEHT002323650_path.png\n",
      "Saving transcript path graph for ENCODEHT002323843 as figures/eln_cell_line_pi_browser_ENCODEHT002323843_path.png\n",
      "Saving transcript path graph for ENCODEHT002323681 as figures/eln_cell_line_pi_browser_ENCODEHT002323681_path.png\n",
      "Saving transcript path graph for ENCODEHT002323759 as figures/eln_cell_line_pi_browser_ENCODEHT002323759_path.png\n",
      "Saving transcript path graph for ENCODEHT002324441 as figures/eln_cell_line_pi_browser_ENCODEHT002324441_path.png\n",
      "Saving transcript path graph for ENCODEHT002323606 as figures/eln_cell_line_pi_browser_ENCODEHT002323606_path.png\n",
      "Saving transcript path graph for ENCODEHT002323762 as figures/eln_cell_line_pi_browser_ENCODEHT002323762_path.png\n",
      "Saving transcript path graph for ENCODEHT002324007 as figures/eln_cell_line_pi_browser_ENCODEHT002324007_path.png\n",
      "Saving transcript path graph for ENCODEHT002323724 as figures/eln_cell_line_pi_browser_ENCODEHT002323724_path.png\n",
      "Saving transcript path graph for ENCODEHT002323669 as figures/eln_cell_line_pi_browser_ENCODEHT002323669_path.png\n",
      "Saving transcript path graph for ENCODEHT002323823 as figures/eln_cell_line_pi_browser_ENCODEHT002323823_path.png\n",
      "Saving transcript path graph for ENCODEHT002323587 as figures/eln_cell_line_pi_browser_ENCODEHT002323587_path.png\n",
      "Saving transcript path graph for ENCODEHT002324252 as figures/eln_cell_line_pi_browser_ENCODEHT002324252_path.png\n",
      "Saving transcript path graph for ENCODEHT002323706 as figures/eln_cell_line_pi_browser_ENCODEHT002323706_path.png\n",
      "Saving transcript path graph for ENCODEHT002323673 as figures/eln_cell_line_pi_browser_ENCODEHT002323673_path.png\n",
      "Saving transcript path graph for ENCODEHT002323704 as figures/eln_cell_line_pi_browser_ENCODEHT002323704_path.png\n",
      "Saving transcript path graph for ENCODEHT002323687 as figures/eln_cell_line_pi_browser_ENCODEHT002323687_path.png\n",
      "Saving transcript path graph for ENCODEHT002323637 as figures/eln_cell_line_pi_browser_ENCODEHT002323637_path.png\n",
      "Saving transcript path graph for ENCODEHT002323929 as figures/eln_cell_line_pi_browser_ENCODEHT002323929_path.png\n",
      "Saving transcript path graph for ENCODEHT002323774 as figures/eln_cell_line_pi_browser_ENCODEHT002323774_path.png\n",
      "Saving transcript path graph for ENCODEHT002323973 as figures/eln_cell_line_pi_browser_ENCODEHT002323973_path.png\n",
      "Saving transcript path graph for ENCODEHT002323598 as figures/eln_cell_line_pi_browser_ENCODEHT002323598_path.png\n",
      "Saving transcript path graph for ENCODEHT002323941 as figures/eln_cell_line_pi_browser_ENCODEHT002323941_path.png\n",
      "Saving transcript path graph for ENCODEHT002323859 as figures/eln_cell_line_pi_browser_ENCODEHT002323859_path.png\n",
      "Saving transcript path graph for ENCODEHT002324110 as figures/eln_cell_line_pi_browser_ENCODEHT002324110_path.png\n",
      "Saving transcript path graph for ENCODEHT002323670 as figures/eln_cell_line_pi_browser_ENCODEHT002323670_path.png\n",
      "Saving transcript path graph for ENCODEHT002323869 as figures/eln_cell_line_pi_browser_ENCODEHT002323869_path.png\n",
      "Saving transcript path graph for ENCODEHT002323916 as figures/eln_cell_line_pi_browser_ENCODEHT002323916_path.png\n",
      "Saving transcript path graph for ENCODEHT002324716 as figures/eln_cell_line_pi_browser_ENCODEHT002324716_path.png\n",
      "Saving transcript path graph for ENCODEHT002323719 as figures/eln_cell_line_pi_browser_ENCODEHT002323719_path.png\n",
      "Saving transcript path graph for ENCODEHT002324258 as figures/eln_cell_line_pi_browser_ENCODEHT002324258_path.png\n",
      "Saving transcript path graph for ENCODEHT002324065 as figures/eln_cell_line_pi_browser_ENCODEHT002324065_path.png\n",
      "Saving transcript path graph for ENCODEHT002323851 as figures/eln_cell_line_pi_browser_ENCODEHT002323851_path.png\n",
      "Saving transcript path graph for ENCODEHT002323739 as figures/eln_cell_line_pi_browser_ENCODEHT002323739_path.png\n",
      "Saving transcript path graph for ENCODEHT002323802 as figures/eln_cell_line_pi_browser_ENCODEHT002323802_path.png\n",
      "Saving transcript path graph for ENCODEHT002323943 as figures/eln_cell_line_pi_browser_ENCODEHT002323943_path.png\n",
      "Saving transcript path graph for ENCODEHT002324107 as figures/eln_cell_line_pi_browser_ENCODEHT002324107_path.png\n",
      "Saving transcript path graph for ENCODEHT002323786 as figures/eln_cell_line_pi_browser_ENCODEHT002323786_path.png\n",
      "Saving transcript path graph for ENCODEHT002323668 as figures/eln_cell_line_pi_browser_ENCODEHT002323668_path.png\n",
      "Saving transcript path graph for ENCODEHT002323928 as figures/eln_cell_line_pi_browser_ENCODEHT002323928_path.png\n",
      "Saving transcript path graph for ENCODEHT002323772 as figures/eln_cell_line_pi_browser_ENCODEHT002323772_path.png\n",
      "Saving transcript path graph for ENCODEHT002324850 as figures/eln_cell_line_pi_browser_ENCODEHT002324850_path.png\n",
      "Saving transcript path graph for ENCODEHT002323727 as figures/eln_cell_line_pi_browser_ENCODEHT002323727_path.png\n",
      "Saving transcript path graph for ENCODEHT002324207 as figures/eln_cell_line_pi_browser_ENCODEHT002324207_path.png\n",
      "Saving transcript path graph for ENCODEHT002323749 as figures/eln_cell_line_pi_browser_ENCODEHT002323749_path.png\n",
      "Saving transcript path graph for ENCODEHT002323877 as figures/eln_cell_line_pi_browser_ENCODEHT002323877_path.png\n",
      "Saving transcript path graph for ENCODEHT002323815 as figures/eln_cell_line_pi_browser_ENCODEHT002323815_path.png\n",
      "Saving transcript path graph for ENCODEHT002323956 as figures/eln_cell_line_pi_browser_ENCODEHT002323956_path.png\n",
      "Saving transcript path graph for ENCODEHT002324360 as figures/eln_cell_line_pi_browser_ENCODEHT002324360_path.png\n",
      "Saving transcript path graph for ENST00000320399.10 as figures/eln_cell_line_pi_browser_ENST00000320399.10_path.png\n",
      "Saving transcript path graph for ENCODEHT002323611 as figures/eln_cell_line_pi_browser_ENCODEHT002323611_path.png\n",
      "Saving transcript path graph for ENCODEHT002323876 as figures/eln_cell_line_pi_browser_ENCODEHT002323876_path.png\n",
      "Saving transcript path graph for ENCODEHT002323982 as figures/eln_cell_line_pi_browser_ENCODEHT002323982_path.png\n",
      "Saving transcript path graph for ENCODEHT002324216 as figures/eln_cell_line_pi_browser_ENCODEHT002324216_path.png\n",
      "Saving transcript path graph for ENCODEHT002323617 as figures/eln_cell_line_pi_browser_ENCODEHT002323617_path.png\n",
      "Saving transcript path graph for ENST00000380584.8 as figures/eln_cell_line_pi_browser_ENST00000380584.8_path.png\n",
      "Saving transcript path graph for ENCODEHT002324390 as figures/eln_cell_line_pi_browser_ENCODEHT002324390_path.png\n",
      "Saving transcript path graph for ENCODEHT002323791 as figures/eln_cell_line_pi_browser_ENCODEHT002323791_path.png\n",
      "Saving transcript path graph for ENCODEHT002323839 as figures/eln_cell_line_pi_browser_ENCODEHT002323839_path.png\n",
      "Saving transcript path graph for ENCODEHT002323620 as figures/eln_cell_line_pi_browser_ENCODEHT002323620_path.png\n",
      "Saving transcript path graph for ENCODEHT002323615 as figures/eln_cell_line_pi_browser_ENCODEHT002323615_path.png\n",
      "Saving transcript path graph for ENCODEHT002324262 as figures/eln_cell_line_pi_browser_ENCODEHT002324262_path.png\n",
      "Saving transcript path graph for ENCODEHT002323848 as figures/eln_cell_line_pi_browser_ENCODEHT002323848_path.png\n",
      "Saving transcript path graph for ENST00000414324.5 as figures/eln_cell_line_pi_browser_ENST00000414324.5_path.png\n",
      "Generating report for ENSG00000049540.16\n"
     ]
    }
   ],
   "source": [
    "sg.gen_report('ELN',\n",
    "              prefix='figures/eln_cell_line_pi',\n",
    "              layer='pi',\n",
    "              cmap='magma',\n",
    "              novelty=True,\n",
    "              groupby='biosample',\n",
    "              transcript_name=True,\n",
    "              metadata_cols=['biosample'],\n",
    "              datasets={'classification': 'cell_line'},\n",
    "              browser=True)"
   ]
  },
  {
   "cell_type": "code",
   "execution_count": 7,
   "id": "dependent-enough",
   "metadata": {
    "collapsed": true,
    "jupyter": {
     "outputs_hidden": true
    }
   },
   "outputs": [
    {
     "name": "stderr",
     "output_type": "stream",
     "text": [
      "/Users/fairliereese/miniconda3/lib/python3.7/site-packages/scanpy/preprocessing/_normalization.py:155: UserWarning: Revieved a view of an AnnData. Making a copy.\n",
      "  view_to_actual(adata)\n"
     ]
    },
    {
     "name": "stdout",
     "output_type": "stream",
     "text": [
      "\n",
      "Plotting transcripts for ENSG00000049540.16\n",
      "Saving transcript path graph for ENCODEHT001481409 as figures/eln_cell_line_browser_ENCODEHT001481409_path.png\n",
      "Saving transcript path graph for ENST00000380576.9 as figures/eln_cell_line_browser_ENST00000380576.9_path.png\n",
      "Saving transcript path graph for ENST00000445912.5 as figures/eln_cell_line_browser_ENST00000445912.5_path.png\n",
      "Saving transcript path graph for ENST00000252034.11 as figures/eln_cell_line_browser_ENST00000252034.11_path.png\n",
      "Saving transcript path graph for ENST00000380575.8 as figures/eln_cell_line_browser_ENST00000380575.8_path.png\n",
      "Saving transcript path graph for ENCODEHT001481404 as figures/eln_cell_line_browser_ENCODEHT001481404_path.png\n",
      "Saving transcript path graph for ENCODEHT002323610 as figures/eln_cell_line_browser_ENCODEHT002323610_path.png\n",
      "Saving transcript path graph for ENCODEHT002323608 as figures/eln_cell_line_browser_ENCODEHT002323608_path.png\n",
      "Saving transcript path graph for ENCODEHT002323596 as figures/eln_cell_line_browser_ENCODEHT002323596_path.png\n",
      "Saving transcript path graph for ENCODEHT002323629 as figures/eln_cell_line_browser_ENCODEHT002323629_path.png\n",
      "Saving transcript path graph for ENCODEHT002323593 as figures/eln_cell_line_browser_ENCODEHT002323593_path.png\n",
      "Saving transcript path graph for ENCODEHT001481394 as figures/eln_cell_line_browser_ENCODEHT001481394_path.png\n",
      "Saving transcript path graph for ENST00000458204.5 as figures/eln_cell_line_browser_ENST00000458204.5_path.png\n",
      "Saving transcript path graph for ENCODEHT002323663 as figures/eln_cell_line_browser_ENCODEHT002323663_path.png\n",
      "Saving transcript path graph for ENCODEHT002323626 as figures/eln_cell_line_browser_ENCODEHT002323626_path.png\n",
      "Saving transcript path graph for ENST00000357036.9 as figures/eln_cell_line_browser_ENST00000357036.9_path.png\n",
      "Saving transcript path graph for ENCODEHT002323675 as figures/eln_cell_line_browser_ENCODEHT002323675_path.png\n",
      "Saving transcript path graph for ENCODEHT002323649 as figures/eln_cell_line_browser_ENCODEHT002323649_path.png\n",
      "Saving transcript path graph for ENST00000429192.5 as figures/eln_cell_line_browser_ENST00000429192.5_path.png\n",
      "Saving transcript path graph for ENCODEHT002323580 as figures/eln_cell_line_browser_ENCODEHT002323580_path.png\n",
      "Saving transcript path graph for ENCODEHT002323648 as figures/eln_cell_line_browser_ENCODEHT002323648_path.png\n",
      "Saving transcript path graph for ENCODEHT002323597 as figures/eln_cell_line_browser_ENCODEHT002323597_path.png\n",
      "Saving transcript path graph for ENCODEHT002323647 as figures/eln_cell_line_browser_ENCODEHT002323647_path.png\n",
      "Saving transcript path graph for ENCODEHT002323748 as figures/eln_cell_line_browser_ENCODEHT002323748_path.png\n",
      "Saving transcript path graph for ENCODEHT002323645 as figures/eln_cell_line_browser_ENCODEHT002323645_path.png\n",
      "Saving transcript path graph for ENCODEHT002323712 as figures/eln_cell_line_browser_ENCODEHT002323712_path.png\n",
      "Saving transcript path graph for ENCODEHT002323601 as figures/eln_cell_line_browser_ENCODEHT002323601_path.png\n",
      "Saving transcript path graph for ENCODEHT002323840 as figures/eln_cell_line_browser_ENCODEHT002323840_path.png\n",
      "Saving transcript path graph for ENCODEHT002323630 as figures/eln_cell_line_browser_ENCODEHT002323630_path.png\n",
      "Saving transcript path graph for ENCODEHT002323665 as figures/eln_cell_line_browser_ENCODEHT002323665_path.png\n",
      "Saving transcript path graph for ENCODEHT002323696 as figures/eln_cell_line_browser_ENCODEHT002323696_path.png\n",
      "Saving transcript path graph for ENCODEHT002323737 as figures/eln_cell_line_browser_ENCODEHT002323737_path.png\n",
      "Saving transcript path graph for ENCODEHT002323661 as figures/eln_cell_line_browser_ENCODEHT002323661_path.png\n",
      "Saving transcript path graph for ENCODEHT002323761 as figures/eln_cell_line_browser_ENCODEHT002323761_path.png\n",
      "Saving transcript path graph for ENCODEHT002323752 as figures/eln_cell_line_browser_ENCODEHT002323752_path.png\n",
      "Saving transcript path graph for ENCODEHT002323581 as figures/eln_cell_line_browser_ENCODEHT002323581_path.png\n",
      "Saving transcript path graph for ENCODEHT002323653 as figures/eln_cell_line_browser_ENCODEHT002323653_path.png\n",
      "Saving transcript path graph for ENCODEHT002323698 as figures/eln_cell_line_browser_ENCODEHT002323698_path.png\n",
      "Saving transcript path graph for ENCODEHT002323589 as figures/eln_cell_line_browser_ENCODEHT002323589_path.png\n",
      "Saving transcript path graph for ENCODEHT000578981 as figures/eln_cell_line_browser_ENCODEHT000578981_path.png\n",
      "Saving transcript path graph for ENCODEHT002323590 as figures/eln_cell_line_browser_ENCODEHT002323590_path.png\n",
      "Saving transcript path graph for ENCODEHT002323726 as figures/eln_cell_line_browser_ENCODEHT002323726_path.png\n",
      "Saving transcript path graph for ENCODEHT002323634 as figures/eln_cell_line_browser_ENCODEHT002323634_path.png\n",
      "Saving transcript path graph for ENCODEHT002323725 as figures/eln_cell_line_browser_ENCODEHT002323725_path.png\n",
      "Saving transcript path graph for ENCODEHT002323651 as figures/eln_cell_line_browser_ENCODEHT002323651_path.png\n",
      "Saving transcript path graph for ENCODEHT002323703 as figures/eln_cell_line_browser_ENCODEHT002323703_path.png\n",
      "Saving transcript path graph for ENCODEHT002324026 as figures/eln_cell_line_browser_ENCODEHT002324026_path.png\n",
      "Saving transcript path graph for ENCODEHT002323592 as figures/eln_cell_line_browser_ENCODEHT002323592_path.png\n",
      "Saving transcript path graph for ENCODEHT002323807 as figures/eln_cell_line_browser_ENCODEHT002323807_path.png\n",
      "Saving transcript path graph for ENCODEHT002323652 as figures/eln_cell_line_browser_ENCODEHT002323652_path.png\n",
      "Saving transcript path graph for ENCODEHT002323717 as figures/eln_cell_line_browser_ENCODEHT002323717_path.png\n",
      "Saving transcript path graph for ENCODEHT002323684 as figures/eln_cell_line_browser_ENCODEHT002323684_path.png\n",
      "Saving transcript path graph for ENCODEHT002323695 as figures/eln_cell_line_browser_ENCODEHT002323695_path.png\n",
      "Saving transcript path graph for ENCODEHT002323845 as figures/eln_cell_line_browser_ENCODEHT002323845_path.png\n",
      "Saving transcript path graph for ENCODEHT002323767 as figures/eln_cell_line_browser_ENCODEHT002323767_path.png\n",
      "Saving transcript path graph for ENCODEHT002323678 as figures/eln_cell_line_browser_ENCODEHT002323678_path.png\n",
      "Saving transcript path graph for ENCODEHT002323862 as figures/eln_cell_line_browser_ENCODEHT002323862_path.png\n",
      "Saving transcript path graph for ENCODEHT002323741 as figures/eln_cell_line_browser_ENCODEHT002323741_path.png\n",
      "Saving transcript path graph for ENCODEHT002323860 as figures/eln_cell_line_browser_ENCODEHT002323860_path.png\n",
      "Saving transcript path graph for ENCODEHT002323914 as figures/eln_cell_line_browser_ENCODEHT002323914_path.png\n",
      "Saving transcript path graph for ENCODEHT002323700 as figures/eln_cell_line_browser_ENCODEHT002323700_path.png\n",
      "Saving transcript path graph for ENCODEHT002323672 as figures/eln_cell_line_browser_ENCODEHT002323672_path.png\n",
      "Saving transcript path graph for ENCODEHT002324142 as figures/eln_cell_line_browser_ENCODEHT002324142_path.png\n",
      "Saving transcript path graph for ENCODEHT002323690 as figures/eln_cell_line_browser_ENCODEHT002323690_path.png\n",
      "Saving transcript path graph for ENCODEHT002323715 as figures/eln_cell_line_browser_ENCODEHT002323715_path.png\n",
      "Saving transcript path graph for ENCODEHT002323738 as figures/eln_cell_line_browser_ENCODEHT002323738_path.png\n",
      "Saving transcript path graph for ENCODEHT002323693 as figures/eln_cell_line_browser_ENCODEHT002323693_path.png\n",
      "Saving transcript path graph for ENCODEHT002323770 as figures/eln_cell_line_browser_ENCODEHT002323770_path.png\n",
      "Saving transcript path graph for ENCODEHT002324129 as figures/eln_cell_line_browser_ENCODEHT002324129_path.png\n",
      "Saving transcript path graph for ENCODEHT002323879 as figures/eln_cell_line_browser_ENCODEHT002323879_path.png\n",
      "Saving transcript path graph for ENCODEHT002323650 as figures/eln_cell_line_browser_ENCODEHT002323650_path.png\n",
      "Saving transcript path graph for ENCODEHT002323843 as figures/eln_cell_line_browser_ENCODEHT002323843_path.png\n",
      "Saving transcript path graph for ENCODEHT002323681 as figures/eln_cell_line_browser_ENCODEHT002323681_path.png\n",
      "Saving transcript path graph for ENCODEHT002323759 as figures/eln_cell_line_browser_ENCODEHT002323759_path.png\n",
      "Saving transcript path graph for ENCODEHT002324441 as figures/eln_cell_line_browser_ENCODEHT002324441_path.png\n",
      "Saving transcript path graph for ENCODEHT002323606 as figures/eln_cell_line_browser_ENCODEHT002323606_path.png\n",
      "Saving transcript path graph for ENCODEHT002323762 as figures/eln_cell_line_browser_ENCODEHT002323762_path.png\n",
      "Saving transcript path graph for ENCODEHT002324007 as figures/eln_cell_line_browser_ENCODEHT002324007_path.png\n",
      "Saving transcript path graph for ENCODEHT002323724 as figures/eln_cell_line_browser_ENCODEHT002323724_path.png\n",
      "Saving transcript path graph for ENCODEHT002323669 as figures/eln_cell_line_browser_ENCODEHT002323669_path.png\n",
      "Saving transcript path graph for ENCODEHT002323823 as figures/eln_cell_line_browser_ENCODEHT002323823_path.png\n",
      "Saving transcript path graph for ENCODEHT002323587 as figures/eln_cell_line_browser_ENCODEHT002323587_path.png\n",
      "Saving transcript path graph for ENCODEHT002324252 as figures/eln_cell_line_browser_ENCODEHT002324252_path.png\n",
      "Saving transcript path graph for ENCODEHT002323706 as figures/eln_cell_line_browser_ENCODEHT002323706_path.png\n",
      "Saving transcript path graph for ENCODEHT002323673 as figures/eln_cell_line_browser_ENCODEHT002323673_path.png\n",
      "Saving transcript path graph for ENCODEHT002323704 as figures/eln_cell_line_browser_ENCODEHT002323704_path.png\n",
      "Saving transcript path graph for ENCODEHT002323687 as figures/eln_cell_line_browser_ENCODEHT002323687_path.png\n",
      "Saving transcript path graph for ENCODEHT002323637 as figures/eln_cell_line_browser_ENCODEHT002323637_path.png\n",
      "Saving transcript path graph for ENCODEHT002323929 as figures/eln_cell_line_browser_ENCODEHT002323929_path.png\n",
      "Saving transcript path graph for ENCODEHT002323774 as figures/eln_cell_line_browser_ENCODEHT002323774_path.png\n",
      "Saving transcript path graph for ENCODEHT002323973 as figures/eln_cell_line_browser_ENCODEHT002323973_path.png\n",
      "Saving transcript path graph for ENCODEHT002323598 as figures/eln_cell_line_browser_ENCODEHT002323598_path.png\n",
      "Saving transcript path graph for ENCODEHT002323941 as figures/eln_cell_line_browser_ENCODEHT002323941_path.png\n",
      "Saving transcript path graph for ENCODEHT002323859 as figures/eln_cell_line_browser_ENCODEHT002323859_path.png\n",
      "Saving transcript path graph for ENCODEHT002324110 as figures/eln_cell_line_browser_ENCODEHT002324110_path.png\n",
      "Saving transcript path graph for ENCODEHT002323670 as figures/eln_cell_line_browser_ENCODEHT002323670_path.png\n",
      "Saving transcript path graph for ENCODEHT002323869 as figures/eln_cell_line_browser_ENCODEHT002323869_path.png\n",
      "Saving transcript path graph for ENCODEHT002323916 as figures/eln_cell_line_browser_ENCODEHT002323916_path.png\n",
      "Saving transcript path graph for ENCODEHT002324716 as figures/eln_cell_line_browser_ENCODEHT002324716_path.png\n",
      "Saving transcript path graph for ENCODEHT002323719 as figures/eln_cell_line_browser_ENCODEHT002323719_path.png\n",
      "Saving transcript path graph for ENCODEHT002324258 as figures/eln_cell_line_browser_ENCODEHT002324258_path.png\n",
      "Saving transcript path graph for ENCODEHT002324065 as figures/eln_cell_line_browser_ENCODEHT002324065_path.png\n",
      "Saving transcript path graph for ENCODEHT002323851 as figures/eln_cell_line_browser_ENCODEHT002323851_path.png\n",
      "Saving transcript path graph for ENCODEHT002323739 as figures/eln_cell_line_browser_ENCODEHT002323739_path.png\n",
      "Saving transcript path graph for ENCODEHT002323802 as figures/eln_cell_line_browser_ENCODEHT002323802_path.png\n",
      "Saving transcript path graph for ENCODEHT002323943 as figures/eln_cell_line_browser_ENCODEHT002323943_path.png\n",
      "Saving transcript path graph for ENCODEHT002324107 as figures/eln_cell_line_browser_ENCODEHT002324107_path.png\n",
      "Saving transcript path graph for ENCODEHT002323786 as figures/eln_cell_line_browser_ENCODEHT002323786_path.png\n",
      "Saving transcript path graph for ENCODEHT002323668 as figures/eln_cell_line_browser_ENCODEHT002323668_path.png\n",
      "Saving transcript path graph for ENCODEHT002323928 as figures/eln_cell_line_browser_ENCODEHT002323928_path.png\n",
      "Saving transcript path graph for ENCODEHT002323772 as figures/eln_cell_line_browser_ENCODEHT002323772_path.png\n",
      "Saving transcript path graph for ENCODEHT002324850 as figures/eln_cell_line_browser_ENCODEHT002324850_path.png\n",
      "Saving transcript path graph for ENCODEHT002323727 as figures/eln_cell_line_browser_ENCODEHT002323727_path.png\n",
      "Saving transcript path graph for ENCODEHT002324207 as figures/eln_cell_line_browser_ENCODEHT002324207_path.png\n",
      "Saving transcript path graph for ENCODEHT002323749 as figures/eln_cell_line_browser_ENCODEHT002323749_path.png\n",
      "Saving transcript path graph for ENCODEHT002323877 as figures/eln_cell_line_browser_ENCODEHT002323877_path.png\n",
      "Saving transcript path graph for ENCODEHT002323815 as figures/eln_cell_line_browser_ENCODEHT002323815_path.png\n",
      "Saving transcript path graph for ENCODEHT002323956 as figures/eln_cell_line_browser_ENCODEHT002323956_path.png\n",
      "Saving transcript path graph for ENCODEHT002324360 as figures/eln_cell_line_browser_ENCODEHT002324360_path.png\n",
      "Saving transcript path graph for ENST00000320399.10 as figures/eln_cell_line_browser_ENST00000320399.10_path.png\n",
      "Saving transcript path graph for ENCODEHT002323876 as figures/eln_cell_line_browser_ENCODEHT002323876_path.png\n",
      "Saving transcript path graph for ENCODEHT002323611 as figures/eln_cell_line_browser_ENCODEHT002323611_path.png\n",
      "Saving transcript path graph for ENCODEHT002323982 as figures/eln_cell_line_browser_ENCODEHT002323982_path.png\n",
      "Saving transcript path graph for ENCODEHT002323617 as figures/eln_cell_line_browser_ENCODEHT002323617_path.png\n",
      "Saving transcript path graph for ENCODEHT002324216 as figures/eln_cell_line_browser_ENCODEHT002324216_path.png\n",
      "Saving transcript path graph for ENST00000380584.8 as figures/eln_cell_line_browser_ENST00000380584.8_path.png\n",
      "Saving transcript path graph for ENCODEHT002324390 as figures/eln_cell_line_browser_ENCODEHT002324390_path.png\n",
      "Saving transcript path graph for ENCODEHT002323839 as figures/eln_cell_line_browser_ENCODEHT002323839_path.png\n",
      "Saving transcript path graph for ENCODEHT002323791 as figures/eln_cell_line_browser_ENCODEHT002323791_path.png\n",
      "Saving transcript path graph for ENCODEHT002323620 as figures/eln_cell_line_browser_ENCODEHT002323620_path.png\n",
      "Saving transcript path graph for ENCODEHT002323615 as figures/eln_cell_line_browser_ENCODEHT002323615_path.png\n",
      "Saving transcript path graph for ENCODEHT002324262 as figures/eln_cell_line_browser_ENCODEHT002324262_path.png\n",
      "Saving transcript path graph for ENCODEHT002323848 as figures/eln_cell_line_browser_ENCODEHT002323848_path.png\n",
      "Saving transcript path graph for ENST00000414324.5 as figures/eln_cell_line_browser_ENST00000414324.5_path.png\n",
      "Generating report for ENSG00000049540.16\n"
     ]
    }
   ],
   "source": [
    "sg.gen_report('ELN',\n",
    "              prefix='figures/eln_cell_line',\n",
    "              layer='tpm',\n",
    "              cmap='viridis',\n",
    "              novelty=True,\n",
    "              groupby='biosample',\n",
    "              transcript_name=True,\n",
    "              metadata_cols=['biosample'],\n",
    "              datasets={'classification': 'cell_line'},\n",
    "              browser=True)"
   ]
  },
  {
   "cell_type": "code",
   "execution_count": 18,
   "id": "08eeb0d7-5571-40d1-aa19-c9ab6b1f9870",
   "metadata": {
    "collapsed": true,
    "jupyter": {
     "outputs_hidden": true
    },
    "tags": []
   },
   "outputs": [
    {
     "name": "stdout",
     "output_type": "stream",
     "text": [
      "               ENST00000469289.1  ENST00000417324.1  ENST00000461467.1  \\\n",
      "biosample                                                                \n",
      "adrenal gland           0.000000                0.0                0.0   \n",
      "adipose                 0.000000                0.0                0.0   \n",
      "colon                   0.000000                0.0                0.0   \n",
      "colon                   1.423607                0.0                0.0   \n",
      "ovary                   0.000000                0.0                0.0   \n",
      "\n",
      "               ENST00000442987.3  ENST00000494149.2  ENST00000410691.1  \\\n",
      "biosample                                                                \n",
      "adrenal gland                0.0           3.233415                0.0   \n",
      "adipose                      0.0           0.000000                0.0   \n",
      "colon                        0.0           0.000000                0.0   \n",
      "colon                        0.0           0.000000                0.0   \n",
      "ovary                        0.0           0.000000                0.0   \n",
      "\n",
      "               ENST00000623083.4  ENST00000635159.1  ENST00000614007.1  \\\n",
      "biosample                                                                \n",
      "adrenal gland           6.466831                0.0                0.0   \n",
      "adipose                24.131775                0.0                0.0   \n",
      "colon                   9.767952                0.0                0.0   \n",
      "colon                  19.930500                0.0                0.0   \n",
      "ovary                   0.000000                0.0                0.0   \n",
      "\n",
      "               ENST00000636676.1  ...  ENCODEHT003648509  ENCODEHT003648579  \\\n",
      "biosample                         ...                                         \n",
      "adrenal gland                0.0  ...                0.0                0.0   \n",
      "adipose                      0.0  ...                0.0                0.0   \n",
      "colon                        0.0  ...                0.0                0.0   \n",
      "colon                        0.0  ...                0.0                0.0   \n",
      "ovary                        0.0  ...                0.0                0.0   \n",
      "\n",
      "               ENCODEHT003651878  ENCODEHT003651881  ENCODEHT003652725  \\\n",
      "biosample                                                                \n",
      "adrenal gland                0.0                0.0                0.0   \n",
      "adipose                      0.0                0.0                0.0   \n",
      "colon                        0.0                0.0                0.0   \n",
      "colon                        0.0                0.0                0.0   \n",
      "ovary                        0.0                0.0                0.0   \n",
      "\n",
      "               ENCODEHT003652730  ENCODEHT003668286  ENCODEHT003673448  \\\n",
      "biosample                                                                \n",
      "adrenal gland                0.0                0.0                0.0   \n",
      "adipose                      0.0                0.0                0.0   \n",
      "colon                        0.0                0.0                0.0   \n",
      "colon                        0.0                0.0                0.0   \n",
      "ovary                        0.0                0.0                0.0   \n",
      "\n",
      "               ENCODEHT003673479  ENCODEHT003673484  \n",
      "biosample                                            \n",
      "adrenal gland                0.0                0.0  \n",
      "adipose                      0.0                0.0  \n",
      "colon                        0.0                0.0  \n",
      "colon                        0.0                0.0  \n",
      "ovary                        0.0                0.0  \n",
      "\n",
      "[5 rows x 109741 columns]\n",
      "\n",
      "Plotting transcripts for ENSG00000122180.4\n",
      "Saving transcript path graph for ENST00000241651.4 as figures/myog_tissue_browser_ENST00000241651.4_path.png\n",
      "Generating report for ENSG00000122180.4\n",
      "               ENST00000469289.1  ENST00000417324.1  ENST00000461467.1  \\\n",
      "biosample                                                                \n",
      "adrenal gland           0.000000                0.0                0.0   \n",
      "adipose                 0.000000                0.0                0.0   \n",
      "colon                   0.000000                0.0                0.0   \n",
      "colon                   1.423607                0.0                0.0   \n",
      "ovary                   0.000000                0.0                0.0   \n",
      "\n",
      "               ENST00000442987.3  ENST00000494149.2  ENST00000410691.1  \\\n",
      "biosample                                                                \n",
      "adrenal gland                0.0           3.233415                0.0   \n",
      "adipose                      0.0           0.000000                0.0   \n",
      "colon                        0.0           0.000000                0.0   \n",
      "colon                        0.0           0.000000                0.0   \n",
      "ovary                        0.0           0.000000                0.0   \n",
      "\n",
      "               ENST00000623083.4  ENST00000635159.1  ENST00000614007.1  \\\n",
      "biosample                                                                \n",
      "adrenal gland           6.466831                0.0                0.0   \n",
      "adipose                24.131775                0.0                0.0   \n",
      "colon                   9.767952                0.0                0.0   \n",
      "colon                  19.930500                0.0                0.0   \n",
      "ovary                   0.000000                0.0                0.0   \n",
      "\n",
      "               ENST00000636676.1  ...  ENCODEHT003648509  ENCODEHT003648579  \\\n",
      "biosample                         ...                                         \n",
      "adrenal gland                0.0  ...                0.0                0.0   \n",
      "adipose                      0.0  ...                0.0                0.0   \n",
      "colon                        0.0  ...                0.0                0.0   \n",
      "colon                        0.0  ...                0.0                0.0   \n",
      "ovary                        0.0  ...                0.0                0.0   \n",
      "\n",
      "               ENCODEHT003651878  ENCODEHT003651881  ENCODEHT003652725  \\\n",
      "biosample                                                                \n",
      "adrenal gland                0.0                0.0                0.0   \n",
      "adipose                      0.0                0.0                0.0   \n",
      "colon                        0.0                0.0                0.0   \n",
      "colon                        0.0                0.0                0.0   \n",
      "ovary                        0.0                0.0                0.0   \n",
      "\n",
      "               ENCODEHT003652730  ENCODEHT003668286  ENCODEHT003673448  \\\n",
      "biosample                                                                \n",
      "adrenal gland                0.0                0.0                0.0   \n",
      "adipose                      0.0                0.0                0.0   \n",
      "colon                        0.0                0.0                0.0   \n",
      "colon                        0.0                0.0                0.0   \n",
      "ovary                        0.0                0.0                0.0   \n",
      "\n",
      "               ENCODEHT003673479  ENCODEHT003673484  \n",
      "biosample                                            \n",
      "adrenal gland                0.0                0.0  \n",
      "adipose                      0.0                0.0  \n",
      "colon                        0.0                0.0  \n",
      "colon                        0.0                0.0  \n",
      "ovary                        0.0                0.0  \n",
      "\n",
      "[5 rows x 109741 columns]\n",
      "\n",
      "Plotting transcripts for ENSG00000122180.4\n",
      "Saving transcript path graph for ENST00000241651.4 as figures/myog_tissue_novel_ENST00000241651.4_path.png\n",
      "Generating report for ENSG00000122180.4\n",
      "            ENST00000469289.1  ENST00000417324.1  ENST00000461467.1  \\\n",
      "biosample                                                             \n",
      "gm12878                   0.0                0.0                0.0   \n",
      "mcf7                      0.0                0.0                0.0   \n",
      "panc1                     0.0                0.0                0.0   \n",
      "pc3                       0.0                0.0                0.0   \n",
      "pgp1_astro                0.0                0.0                0.0   \n",
      "\n",
      "            ENST00000442987.3  ENST00000494149.2  ENST00000410691.1  \\\n",
      "biosample                                                             \n",
      "gm12878              0.000000           0.000000                0.0   \n",
      "mcf7                 0.000000           5.068707                0.0   \n",
      "panc1                0.000000           0.000000                0.0   \n",
      "pc3                  0.000000          19.488256                0.0   \n",
      "pgp1_astro           1.742746           3.485492                0.0   \n",
      "\n",
      "            ENST00000623083.4  ENST00000635159.1  ENST00000614007.1  \\\n",
      "biosample                                                             \n",
      "gm12878             18.399481           0.000000                0.0   \n",
      "mcf7                 9.123672           1.013741                0.0   \n",
      "panc1               10.931255           0.000000                0.0   \n",
      "pc3                 13.920184           0.000000                0.0   \n",
      "pgp1_astro          10.456477           0.000000                0.0   \n",
      "\n",
      "            ENST00000636676.1  ...  ENCODEHT003648509  ENCODEHT003648579  \\\n",
      "biosample                      ...                                         \n",
      "gm12878                   0.0  ...                0.0                0.0   \n",
      "mcf7                      0.0  ...                0.0                0.0   \n",
      "panc1                     0.0  ...                0.0                0.0   \n",
      "pc3                       0.0  ...                0.0                0.0   \n",
      "pgp1_astro                0.0  ...                0.0                0.0   \n",
      "\n",
      "            ENCODEHT003651878  ENCODEHT003651881  ENCODEHT003652725  \\\n",
      "biosample                                                             \n",
      "gm12878                   0.0                0.0                0.0   \n",
      "mcf7                      0.0                0.0                0.0   \n",
      "panc1                     0.0                0.0                0.0   \n",
      "pc3                       0.0                0.0                0.0   \n",
      "pgp1_astro                0.0                0.0                0.0   \n",
      "\n",
      "            ENCODEHT003652730  ENCODEHT003668286  ENCODEHT003673448  \\\n",
      "biosample                                                             \n",
      "gm12878                   0.0                0.0                0.0   \n",
      "mcf7                      0.0                0.0                0.0   \n",
      "panc1                     0.0                0.0                0.0   \n",
      "pc3                       0.0                0.0                0.0   \n",
      "pgp1_astro                0.0                0.0                0.0   \n",
      "\n",
      "            ENCODEHT003673479  ENCODEHT003673484  \n",
      "biosample                                         \n",
      "gm12878                   0.0                0.0  \n",
      "mcf7                      0.0                0.0  \n",
      "panc1                     0.0                0.0  \n",
      "pc3                       0.0                0.0  \n",
      "pgp1_astro                0.0                0.0  \n",
      "\n",
      "[5 rows x 109741 columns]\n",
      "\n",
      "Plotting transcripts for ENSG00000122180.4\n",
      "Saving transcript path graph for ENCODEHT002380206 as figures/myog_cell_line_browser_ENCODEHT002380206_path.png\n",
      "Saving transcript path graph for ENST00000241651.4 as figures/myog_cell_line_browser_ENST00000241651.4_path.png\n",
      "Generating report for ENSG00000122180.4\n",
      "            ENST00000469289.1  ENST00000417324.1  ENST00000461467.1  \\\n",
      "biosample                                                             \n",
      "gm12878                   0.0                0.0                0.0   \n",
      "mcf7                      0.0                0.0                0.0   \n",
      "panc1                     0.0                0.0                0.0   \n",
      "pc3                       0.0                0.0                0.0   \n",
      "pgp1_astro                0.0                0.0                0.0   \n",
      "\n",
      "            ENST00000442987.3  ENST00000494149.2  ENST00000410691.1  \\\n",
      "biosample                                                             \n",
      "gm12878              0.000000           0.000000                0.0   \n",
      "mcf7                 0.000000           5.068707                0.0   \n",
      "panc1                0.000000           0.000000                0.0   \n",
      "pc3                  0.000000          19.488256                0.0   \n",
      "pgp1_astro           1.742746           3.485492                0.0   \n",
      "\n",
      "            ENST00000623083.4  ENST00000635159.1  ENST00000614007.1  \\\n",
      "biosample                                                             \n",
      "gm12878             18.399481           0.000000                0.0   \n",
      "mcf7                 9.123672           1.013741                0.0   \n",
      "panc1               10.931255           0.000000                0.0   \n",
      "pc3                 13.920184           0.000000                0.0   \n",
      "pgp1_astro          10.456477           0.000000                0.0   \n",
      "\n",
      "            ENST00000636676.1  ...  ENCODEHT003648509  ENCODEHT003648579  \\\n",
      "biosample                      ...                                         \n",
      "gm12878                   0.0  ...                0.0                0.0   \n",
      "mcf7                      0.0  ...                0.0                0.0   \n",
      "panc1                     0.0  ...                0.0                0.0   \n",
      "pc3                       0.0  ...                0.0                0.0   \n",
      "pgp1_astro                0.0  ...                0.0                0.0   \n",
      "\n",
      "            ENCODEHT003651878  ENCODEHT003651881  ENCODEHT003652725  \\\n",
      "biosample                                                             \n",
      "gm12878                   0.0                0.0                0.0   \n",
      "mcf7                      0.0                0.0                0.0   \n",
      "panc1                     0.0                0.0                0.0   \n",
      "pc3                       0.0                0.0                0.0   \n",
      "pgp1_astro                0.0                0.0                0.0   \n",
      "\n",
      "            ENCODEHT003652730  ENCODEHT003668286  ENCODEHT003673448  \\\n",
      "biosample                                                             \n",
      "gm12878                   0.0                0.0                0.0   \n",
      "mcf7                      0.0                0.0                0.0   \n",
      "panc1                     0.0                0.0                0.0   \n",
      "pc3                       0.0                0.0                0.0   \n",
      "pgp1_astro                0.0                0.0                0.0   \n",
      "\n",
      "            ENCODEHT003673479  ENCODEHT003673484  \n",
      "biosample                                         \n",
      "gm12878                   0.0                0.0  \n",
      "mcf7                      0.0                0.0  \n",
      "panc1                     0.0                0.0  \n",
      "pc3                       0.0                0.0  \n",
      "pgp1_astro                0.0                0.0  \n",
      "\n",
      "[5 rows x 109741 columns]\n",
      "\n",
      "Plotting transcripts for ENSG00000122180.4\n",
      "Saving transcript path graph for ENCODEHT002380206 as figures/myog_cell_line_novel_ENCODEHT002380206_path.png\n",
      "Saving transcript path graph for ENST00000241651.4 as figures/myog_cell_line_novel_ENST00000241651.4_path.png\n",
      "Generating report for ENSG00000122180.4\n"
     ]
    }
   ],
   "source": [
    "make_biosamp_reports(sg, 'MYOG')"
   ]
  },
  {
   "cell_type": "code",
   "execution_count": 3,
   "id": "built-seating",
   "metadata": {
    "collapsed": true,
    "jupyter": {
     "outputs_hidden": true
    }
   },
   "outputs": [
    {
     "name": "stderr",
     "output_type": "stream",
     "text": [
      "/Users/fairliereese/miniconda3/lib/python3.7/site-packages/scanpy/preprocessing/_normalization.py:155: UserWarning: Revieved a view of an AnnData. Making a copy.\n",
      "  view_to_actual(adata)\n"
     ]
    },
    {
     "name": "stdout",
     "output_type": "stream",
     "text": [
      "\n",
      "Plotting transcripts for ENSG00000081189.15\n",
      "Saving transcript path graph for ENST00000510942.5 as figures/mef2c_tissue_browser_ENST00000510942.5_path.png\n",
      "Saving transcript path graph for ENCODEHT000458385 as figures/mef2c_tissue_browser_ENCODEHT000458385_path.png\n",
      "Saving transcript path graph for ENCODEHT000458453 as figures/mef2c_tissue_browser_ENCODEHT000458453_path.png\n",
      "Saving transcript path graph for ENST00000508569.5 as figures/mef2c_tissue_browser_ENST00000508569.5_path.png\n",
      "Saving transcript path graph for ENST00000511086.1 as figures/mef2c_tissue_browser_ENST00000511086.1_path.png\n",
      "Saving transcript path graph for ENST00000637481.1 as figures/mef2c_tissue_browser_ENST00000637481.1_path.png\n",
      "Saving transcript path graph for ENST00000629612.2 as figures/mef2c_tissue_browser_ENST00000629612.2_path.png\n",
      "Saving transcript path graph for ENST00000627659.2 as figures/mef2c_tissue_browser_ENST00000627659.2_path.png\n",
      "Saving transcript path graph for ENST00000424173.6 as figures/mef2c_tissue_browser_ENST00000424173.6_path.png\n",
      "Saving transcript path graph for ENST00000625674.2 as figures/mef2c_tissue_browser_ENST00000625674.2_path.png\n",
      "Saving transcript path graph for ENST00000510980.1 as figures/mef2c_tissue_browser_ENST00000510980.1_path.png\n",
      "Saving transcript path graph for ENST00000515093.1 as figures/mef2c_tissue_browser_ENST00000515093.1_path.png\n",
      "Saving transcript path graph for ENST00000503955.1 as figures/mef2c_tissue_browser_ENST00000503955.1_path.png\n",
      "Saving transcript path graph for ENST00000509373.1 as figures/mef2c_tissue_browser_ENST00000509373.1_path.png\n",
      "Saving transcript path graph for ENCODEHT000458359 as figures/mef2c_tissue_browser_ENCODEHT000458359_path.png\n",
      "Saving transcript path graph for ENST00000636336.1 as figures/mef2c_tissue_browser_ENST00000636336.1_path.png\n",
      "Generating report for ENSG00000081189.15\n"
     ]
    },
    {
     "name": "stderr",
     "output_type": "stream",
     "text": [
      "/Users/fairliereese/miniconda3/lib/python3.7/site-packages/scanpy/preprocessing/_normalization.py:155: UserWarning: Revieved a view of an AnnData. Making a copy.\n",
      "  view_to_actual(adata)\n"
     ]
    },
    {
     "name": "stdout",
     "output_type": "stream",
     "text": [
      "\n",
      "Plotting transcripts for ENSG00000081189.15\n",
      "Saving transcript path graph for ENST00000510942.5 as figures/mef2c_tissue_novel_ENST00000510942.5_path.png\n",
      "Saving transcript path graph for ENCODEHT000458385 as figures/mef2c_tissue_novel_ENCODEHT000458385_path.png\n",
      "Saving transcript path graph for ENCODEHT000458453 as figures/mef2c_tissue_novel_ENCODEHT000458453_path.png\n",
      "Saving transcript path graph for ENST00000508569.5 as figures/mef2c_tissue_novel_ENST00000508569.5_path.png\n",
      "Saving transcript path graph for ENST00000511086.1 as figures/mef2c_tissue_novel_ENST00000511086.1_path.png\n",
      "Saving transcript path graph for ENST00000637481.1 as figures/mef2c_tissue_novel_ENST00000637481.1_path.png\n",
      "Saving transcript path graph for ENST00000629612.2 as figures/mef2c_tissue_novel_ENST00000629612.2_path.png\n",
      "Saving transcript path graph for ENST00000627659.2 as figures/mef2c_tissue_novel_ENST00000627659.2_path.png\n",
      "Saving transcript path graph for ENST00000424173.6 as figures/mef2c_tissue_novel_ENST00000424173.6_path.png\n",
      "Saving transcript path graph for ENST00000625674.2 as figures/mef2c_tissue_novel_ENST00000625674.2_path.png\n",
      "Saving transcript path graph for ENST00000510980.1 as figures/mef2c_tissue_novel_ENST00000510980.1_path.png\n",
      "Saving transcript path graph for ENST00000515093.1 as figures/mef2c_tissue_novel_ENST00000515093.1_path.png\n",
      "Saving transcript path graph for ENST00000503955.1 as figures/mef2c_tissue_novel_ENST00000503955.1_path.png\n",
      "Saving transcript path graph for ENST00000509373.1 as figures/mef2c_tissue_novel_ENST00000509373.1_path.png\n",
      "Saving transcript path graph for ENCODEHT000458359 as figures/mef2c_tissue_novel_ENCODEHT000458359_path.png\n",
      "Saving transcript path graph for ENST00000636336.1 as figures/mef2c_tissue_novel_ENST00000636336.1_path.png\n",
      "Generating report for ENSG00000081189.15\n"
     ]
    },
    {
     "name": "stderr",
     "output_type": "stream",
     "text": [
      "/Users/fairliereese/miniconda3/lib/python3.7/site-packages/scanpy/preprocessing/_normalization.py:155: UserWarning: Revieved a view of an AnnData. Making a copy.\n",
      "  view_to_actual(adata)\n"
     ]
    },
    {
     "name": "stdout",
     "output_type": "stream",
     "text": [
      "\n",
      "Plotting transcripts for ENSG00000081189.15\n",
      "Saving transcript path graph for ENST00000510942.5 as figures/mef2c_cell_line_browser_ENST00000510942.5_path.png\n",
      "Saving transcript path graph for ENCODEHT000458385 as figures/mef2c_cell_line_browser_ENCODEHT000458385_path.png\n",
      "Saving transcript path graph for ENST00000508569.5 as figures/mef2c_cell_line_browser_ENST00000508569.5_path.png\n",
      "Saving transcript path graph for ENCODEHT000458453 as figures/mef2c_cell_line_browser_ENCODEHT000458453_path.png\n",
      "Saving transcript path graph for ENST00000511086.1 as figures/mef2c_cell_line_browser_ENST00000511086.1_path.png\n",
      "Saving transcript path graph for ENCODEHT000458359 as figures/mef2c_cell_line_browser_ENCODEHT000458359_path.png\n",
      "Saving transcript path graph for ENST00000637481.1 as figures/mef2c_cell_line_browser_ENST00000637481.1_path.png\n",
      "Saving transcript path graph for ENCODEHT000458395 as figures/mef2c_cell_line_browser_ENCODEHT000458395_path.png\n",
      "Saving transcript path graph for ENCODEHT000458420 as figures/mef2c_cell_line_browser_ENCODEHT000458420_path.png\n",
      "Saving transcript path graph for ENCODEHT000458399 as figures/mef2c_cell_line_browser_ENCODEHT000458399_path.png\n",
      "Saving transcript path graph for ENCODEHT000458498 as figures/mef2c_cell_line_browser_ENCODEHT000458498_path.png\n",
      "Saving transcript path graph for ENST00000510980.1 as figures/mef2c_cell_line_browser_ENST00000510980.1_path.png\n",
      "Saving transcript path graph for ENST00000437473.6 as figures/mef2c_cell_line_browser_ENST00000437473.6_path.png\n",
      "Saving transcript path graph for ENST00000504921.6 as figures/mef2c_cell_line_browser_ENST00000504921.6_path.png\n",
      "Saving transcript path graph for ENST00000509373.1 as figures/mef2c_cell_line_browser_ENST00000509373.1_path.png\n",
      "Saving transcript path graph for ENST00000629847.1 as figures/mef2c_cell_line_browser_ENST00000629847.1_path.png\n",
      "Saving transcript path graph for ENST00000507984.5 as figures/mef2c_cell_line_browser_ENST00000507984.5_path.png\n",
      "Generating report for ENSG00000081189.15\n"
     ]
    },
    {
     "name": "stderr",
     "output_type": "stream",
     "text": [
      "/Users/fairliereese/miniconda3/lib/python3.7/site-packages/scanpy/preprocessing/_normalization.py:155: UserWarning: Revieved a view of an AnnData. Making a copy.\n",
      "  view_to_actual(adata)\n"
     ]
    },
    {
     "name": "stdout",
     "output_type": "stream",
     "text": [
      "\n",
      "Plotting transcripts for ENSG00000081189.15\n",
      "Saving transcript path graph for ENST00000510942.5 as figures/mef2c_cell_line_novel_ENST00000510942.5_path.png\n",
      "Saving transcript path graph for ENCODEHT000458385 as figures/mef2c_cell_line_novel_ENCODEHT000458385_path.png\n",
      "Saving transcript path graph for ENST00000508569.5 as figures/mef2c_cell_line_novel_ENST00000508569.5_path.png\n",
      "Saving transcript path graph for ENCODEHT000458453 as figures/mef2c_cell_line_novel_ENCODEHT000458453_path.png\n",
      "Saving transcript path graph for ENST00000511086.1 as figures/mef2c_cell_line_novel_ENST00000511086.1_path.png\n",
      "Saving transcript path graph for ENCODEHT000458359 as figures/mef2c_cell_line_novel_ENCODEHT000458359_path.png\n",
      "Saving transcript path graph for ENST00000637481.1 as figures/mef2c_cell_line_novel_ENST00000637481.1_path.png\n",
      "Saving transcript path graph for ENCODEHT000458395 as figures/mef2c_cell_line_novel_ENCODEHT000458395_path.png\n",
      "Saving transcript path graph for ENCODEHT000458420 as figures/mef2c_cell_line_novel_ENCODEHT000458420_path.png\n",
      "Saving transcript path graph for ENCODEHT000458399 as figures/mef2c_cell_line_novel_ENCODEHT000458399_path.png\n",
      "Saving transcript path graph for ENCODEHT000458498 as figures/mef2c_cell_line_novel_ENCODEHT000458498_path.png\n",
      "Saving transcript path graph for ENST00000510980.1 as figures/mef2c_cell_line_novel_ENST00000510980.1_path.png\n",
      "Saving transcript path graph for ENST00000437473.6 as figures/mef2c_cell_line_novel_ENST00000437473.6_path.png\n",
      "Saving transcript path graph for ENST00000504921.6 as figures/mef2c_cell_line_novel_ENST00000504921.6_path.png\n",
      "Saving transcript path graph for ENST00000509373.1 as figures/mef2c_cell_line_novel_ENST00000509373.1_path.png\n",
      "Saving transcript path graph for ENST00000629847.1 as figures/mef2c_cell_line_novel_ENST00000629847.1_path.png\n",
      "Saving transcript path graph for ENST00000507984.5 as figures/mef2c_cell_line_novel_ENST00000507984.5_path.png\n",
      "Generating report for ENSG00000081189.15\n"
     ]
    }
   ],
   "source": [
    "make_biosamp_reports(sg, 'MEF2C')"
   ]
  },
  {
   "cell_type": "code",
   "execution_count": 4,
   "id": "premier-entity",
   "metadata": {
    "collapsed": true,
    "jupyter": {
     "outputs_hidden": true
    }
   },
   "outputs": [
    {
     "name": "stderr",
     "output_type": "stream",
     "text": [
      "/Users/fairliereese/miniconda3/lib/python3.7/site-packages/scanpy/preprocessing/_normalization.py:155: UserWarning: Revieved a view of an AnnData. Making a copy.\n",
      "  view_to_actual(adata)\n"
     ]
    },
    {
     "name": "stdout",
     "output_type": "stream",
     "text": [
      "\n",
      "Plotting transcripts for ENSG00000049540.16\n",
      "Saving transcript path graph for ENST00000445912.5 as figures/eln_tissue_browser_ENST00000445912.5_path.png\n",
      "Saving transcript path graph for ENST00000252034.11 as figures/eln_tissue_browser_ENST00000252034.11_path.png\n",
      "Saving transcript path graph for ENCODEHT001481409 as figures/eln_tissue_browser_ENCODEHT001481409_path.png\n",
      "Saving transcript path graph for ENST00000380576.9 as figures/eln_tissue_browser_ENST00000380576.9_path.png\n",
      "Saving transcript path graph for ENCODEHT002323610 as figures/eln_tissue_browser_ENCODEHT002323610_path.png\n",
      "Saving transcript path graph for ENCODEHT002323608 as figures/eln_tissue_browser_ENCODEHT002323608_path.png\n",
      "Saving transcript path graph for ENCODEHT002323596 as figures/eln_tissue_browser_ENCODEHT002323596_path.png\n",
      "Saving transcript path graph for ENST00000458204.5 as figures/eln_tissue_browser_ENST00000458204.5_path.png\n",
      "Saving transcript path graph for ENST00000380575.8 as figures/eln_tissue_browser_ENST00000380575.8_path.png\n",
      "Saving transcript path graph for ENST00000357036.9 as figures/eln_tissue_browser_ENST00000357036.9_path.png\n",
      "Saving transcript path graph for ENCODEHT002323629 as figures/eln_tissue_browser_ENCODEHT002323629_path.png\n",
      "Saving transcript path graph for ENCODEHT002323665 as figures/eln_tissue_browser_ENCODEHT002323665_path.png\n",
      "Saving transcript path graph for ENCODEHT001481404 as figures/eln_tissue_browser_ENCODEHT001481404_path.png\n",
      "Saving transcript path graph for ENCODEHT002323675 as figures/eln_tissue_browser_ENCODEHT002323675_path.png\n",
      "Saving transcript path graph for ENCODEHT002323626 as figures/eln_tissue_browser_ENCODEHT002323626_path.png\n",
      "Saving transcript path graph for ENCODEHT002323580 as figures/eln_tissue_browser_ENCODEHT002323580_path.png\n",
      "Saving transcript path graph for ENST00000429192.5 as figures/eln_tissue_browser_ENST00000429192.5_path.png\n",
      "Saving transcript path graph for ENCODEHT002323593 as figures/eln_tissue_browser_ENCODEHT002323593_path.png\n",
      "Saving transcript path graph for ENCODEHT001481394 as figures/eln_tissue_browser_ENCODEHT001481394_path.png\n",
      "Saving transcript path graph for ENCODEHT002323840 as figures/eln_tissue_browser_ENCODEHT002323840_path.png\n",
      "Saving transcript path graph for ENCODEHT002323663 as figures/eln_tissue_browser_ENCODEHT002323663_path.png\n",
      "Saving transcript path graph for ENCODEHT002323601 as figures/eln_tissue_browser_ENCODEHT002323601_path.png\n",
      "Saving transcript path graph for ENCODEHT002323589 as figures/eln_tissue_browser_ENCODEHT002323589_path.png\n",
      "Saving transcript path graph for ENCODEHT002323590 as figures/eln_tissue_browser_ENCODEHT002323590_path.png\n",
      "Saving transcript path graph for ENST00000468517.5 as figures/eln_tissue_browser_ENST00000468517.5_path.png\n",
      "Saving transcript path graph for ENCODEHT000578981 as figures/eln_tissue_browser_ENCODEHT000578981_path.png\n",
      "Saving transcript path graph for ENCODEHT002323767 as figures/eln_tissue_browser_ENCODEHT002323767_path.png\n",
      "Saving transcript path graph for ENCODEHT002324065 as figures/eln_tissue_browser_ENCODEHT002324065_path.png\n",
      "Saving transcript path graph for ENCODEHT002323761 as figures/eln_tissue_browser_ENCODEHT002323761_path.png\n",
      "Saving transcript path graph for ENCODEHT002323647 as figures/eln_tissue_browser_ENCODEHT002323647_path.png\n",
      "Saving transcript path graph for ENCODEHT002323653 as figures/eln_tissue_browser_ENCODEHT002323653_path.png\n",
      "Saving transcript path graph for ENST00000493839.1 as figures/eln_tissue_browser_ENST00000493839.1_path.png\n",
      "Saving transcript path graph for ENCODEHT002323649 as figures/eln_tissue_browser_ENCODEHT002323649_path.png\n",
      "Saving transcript path graph for ENCODEHT002323693 as figures/eln_tissue_browser_ENCODEHT002323693_path.png\n",
      "Saving transcript path graph for ENCODEHT002323727 as figures/eln_tissue_browser_ENCODEHT002323727_path.png\n",
      "Saving transcript path graph for ENST00000492003.5 as figures/eln_tissue_browser_ENST00000492003.5_path.png\n",
      "Saving transcript path graph for ENCODEHT002324142 as figures/eln_tissue_browser_ENCODEHT002324142_path.png\n",
      "Saving transcript path graph for ENCODEHT002324026 as figures/eln_tissue_browser_ENCODEHT002324026_path.png\n",
      "Saving transcript path graph for ENCODEHT002324007 as figures/eln_tissue_browser_ENCODEHT002324007_path.png\n",
      "Saving transcript path graph for ENST00000494160.5 as figures/eln_tissue_browser_ENST00000494160.5_path.png\n",
      "Saving transcript path graph for ENCODEHT002323704 as figures/eln_tissue_browser_ENCODEHT002323704_path.png\n",
      "Saving transcript path graph for ENCODEHT002323672 as figures/eln_tissue_browser_ENCODEHT002323672_path.png\n",
      "Saving transcript path graph for ENCODEHT002323648 as figures/eln_tissue_browser_ENCODEHT002323648_path.png\n",
      "Saving transcript path graph for ENCODEHT002323845 as figures/eln_tissue_browser_ENCODEHT002323845_path.png\n",
      "Saving transcript path graph for ENST00000462506.5 as figures/eln_tissue_browser_ENST00000462506.5_path.png\n",
      "Saving transcript path graph for ENCODEHT002323581 as figures/eln_tissue_browser_ENCODEHT002323581_path.png\n",
      "Saving transcript path graph for ENCODEHT002323712 as figures/eln_tissue_browser_ENCODEHT002323712_path.png\n",
      "Saving transcript path graph for ENCODEHT002323592 as figures/eln_tissue_browser_ENCODEHT002323592_path.png\n",
      "Saving transcript path graph for ENCODEHT002323598 as figures/eln_tissue_browser_ENCODEHT002323598_path.png\n",
      "Saving transcript path graph for ENCODEHT002323652 as figures/eln_tissue_browser_ENCODEHT002323652_path.png\n",
      "Saving transcript path graph for ENCODEHT002323741 as figures/eln_tissue_browser_ENCODEHT002323741_path.png\n",
      "Saving transcript path graph for ENCODEHT002323726 as figures/eln_tissue_browser_ENCODEHT002323726_path.png\n",
      "Saving transcript path graph for ENCODEHT002323869 as figures/eln_tissue_browser_ENCODEHT002323869_path.png\n",
      "Saving transcript path graph for ENCODEHT002324390 as figures/eln_tissue_browser_ENCODEHT002324390_path.png\n",
      "Saving transcript path graph for ENCODEHT002323717 as figures/eln_tissue_browser_ENCODEHT002323717_path.png\n",
      "Saving transcript path graph for ENCODEHT002324441 as figures/eln_tissue_browser_ENCODEHT002324441_path.png\n",
      "Saving transcript path graph for ENCODEHT002323661 as figures/eln_tissue_browser_ENCODEHT002323661_path.png\n",
      "Saving transcript path graph for ENCODEHT002323774 as figures/eln_tissue_browser_ENCODEHT002323774_path.png\n",
      "Saving transcript path graph for ENCODEHT002323715 as figures/eln_tissue_browser_ENCODEHT002323715_path.png\n",
      "Saving transcript path graph for ENCODEHT002323770 as figures/eln_tissue_browser_ENCODEHT002323770_path.png\n",
      "Saving transcript path graph for ENCODEHT002323802 as figures/eln_tissue_browser_ENCODEHT002323802_path.png\n",
      "Saving transcript path graph for ENCODEHT002323695 as figures/eln_tissue_browser_ENCODEHT002323695_path.png\n",
      "Saving transcript path graph for ENCODEHT002323698 as figures/eln_tissue_browser_ENCODEHT002323698_path.png\n",
      "Saving transcript path graph for ENCODEHT002323670 as figures/eln_tissue_browser_ENCODEHT002323670_path.png\n",
      "Saving transcript path graph for ENCODEHT002323860 as figures/eln_tissue_browser_ENCODEHT002323860_path.png\n",
      "Saving transcript path graph for ENCODEHT002323724 as figures/eln_tissue_browser_ENCODEHT002323724_path.png\n",
      "Saving transcript path graph for ENCODEHT002323669 as figures/eln_tissue_browser_ENCODEHT002323669_path.png\n",
      "Saving transcript path graph for ENCODEHT002323684 as figures/eln_tissue_browser_ENCODEHT002323684_path.png\n",
      "Saving transcript path graph for ENCODEHT002323759 as figures/eln_tissue_browser_ENCODEHT002323759_path.png\n",
      "Saving transcript path graph for ENCODEHT002323651 as figures/eln_tissue_browser_ENCODEHT002323651_path.png\n",
      "Saving transcript path graph for ENCODEHT002323877 as figures/eln_tissue_browser_ENCODEHT002323877_path.png\n",
      "Saving transcript path graph for ENCODEHT002323956 as figures/eln_tissue_browser_ENCODEHT002323956_path.png\n",
      "Saving transcript path graph for ENCODEHT002323690 as figures/eln_tissue_browser_ENCODEHT002323690_path.png\n",
      "Saving transcript path graph for ENCODEHT002323597 as figures/eln_tissue_browser_ENCODEHT002323597_path.png\n",
      "Saving transcript path graph for ENCODEHT002323843 as figures/eln_tissue_browser_ENCODEHT002323843_path.png\n",
      "Saving transcript path graph for ENCODEHT002323725 as figures/eln_tissue_browser_ENCODEHT002323725_path.png\n",
      "Saving transcript path graph for ENCODEHT002323749 as figures/eln_tissue_browser_ENCODEHT002323749_path.png\n",
      "Saving transcript path graph for ENCODEHT002323703 as figures/eln_tissue_browser_ENCODEHT002323703_path.png\n",
      "Saving transcript path graph for ENCODEHT002323737 as figures/eln_tissue_browser_ENCODEHT002323737_path.png\n",
      "Saving transcript path graph for ENCODEHT002323617 as figures/eln_tissue_browser_ENCODEHT002323617_path.png\n",
      "Saving transcript path graph for ENCODEHT002323916 as figures/eln_tissue_browser_ENCODEHT002323916_path.png\n",
      "Saving transcript path graph for ENCODEHT002323637 as figures/eln_tissue_browser_ENCODEHT002323637_path.png\n",
      "Saving transcript path graph for ENCODEHT002323706 as figures/eln_tissue_browser_ENCODEHT002323706_path.png\n",
      "Saving transcript path graph for ENCODEHT002323630 as figures/eln_tissue_browser_ENCODEHT002323630_path.png\n",
      "Saving transcript path graph for ENCODEHT002323650 as figures/eln_tissue_browser_ENCODEHT002323650_path.png\n",
      "Saving transcript path graph for ENCODEHT002323862 as figures/eln_tissue_browser_ENCODEHT002323862_path.png\n",
      "Saving transcript path graph for ENCODEHT002323606 as figures/eln_tissue_browser_ENCODEHT002323606_path.png\n",
      "Saving transcript path graph for ENCODEHT002323719 as figures/eln_tissue_browser_ENCODEHT002323719_path.png\n",
      "Saving transcript path graph for ENCODEHT002323929 as figures/eln_tissue_browser_ENCODEHT002323929_path.png\n",
      "Saving transcript path graph for ENCODEHT002324207 as figures/eln_tissue_browser_ENCODEHT002324207_path.png\n",
      "Saving transcript path graph for ENCODEHT002324129 as figures/eln_tissue_browser_ENCODEHT002324129_path.png\n",
      "Saving transcript path graph for ENCODEHT002323587 as figures/eln_tissue_browser_ENCODEHT002323587_path.png\n",
      "Saving transcript path graph for ENCODEHT002323823 as figures/eln_tissue_browser_ENCODEHT002323823_path.png\n",
      "Saving transcript path graph for ENCODEHT002323673 as figures/eln_tissue_browser_ENCODEHT002323673_path.png\n",
      "Generating report for ENSG00000049540.16\n"
     ]
    },
    {
     "name": "stderr",
     "output_type": "stream",
     "text": [
      "/Users/fairliereese/miniconda3/lib/python3.7/site-packages/scanpy/preprocessing/_normalization.py:155: UserWarning: Revieved a view of an AnnData. Making a copy.\n",
      "  view_to_actual(adata)\n"
     ]
    },
    {
     "name": "stdout",
     "output_type": "stream",
     "text": [
      "\n",
      "Plotting transcripts for ENSG00000049540.16\n",
      "Saving transcript path graph for ENST00000445912.5 as figures/eln_tissue_novel_ENST00000445912.5_path.png\n",
      "Saving transcript path graph for ENST00000252034.11 as figures/eln_tissue_novel_ENST00000252034.11_path.png\n",
      "Saving transcript path graph for ENCODEHT001481409 as figures/eln_tissue_novel_ENCODEHT001481409_path.png\n",
      "Saving transcript path graph for ENST00000380576.9 as figures/eln_tissue_novel_ENST00000380576.9_path.png\n",
      "Saving transcript path graph for ENCODEHT002323610 as figures/eln_tissue_novel_ENCODEHT002323610_path.png\n",
      "Saving transcript path graph for ENCODEHT002323608 as figures/eln_tissue_novel_ENCODEHT002323608_path.png\n",
      "Saving transcript path graph for ENCODEHT002323596 as figures/eln_tissue_novel_ENCODEHT002323596_path.png\n",
      "Saving transcript path graph for ENST00000458204.5 as figures/eln_tissue_novel_ENST00000458204.5_path.png\n",
      "Saving transcript path graph for ENST00000380575.8 as figures/eln_tissue_novel_ENST00000380575.8_path.png\n",
      "Saving transcript path graph for ENST00000357036.9 as figures/eln_tissue_novel_ENST00000357036.9_path.png\n",
      "Saving transcript path graph for ENCODEHT002323629 as figures/eln_tissue_novel_ENCODEHT002323629_path.png\n",
      "Saving transcript path graph for ENCODEHT002323665 as figures/eln_tissue_novel_ENCODEHT002323665_path.png\n",
      "Saving transcript path graph for ENCODEHT001481404 as figures/eln_tissue_novel_ENCODEHT001481404_path.png\n",
      "Saving transcript path graph for ENCODEHT002323675 as figures/eln_tissue_novel_ENCODEHT002323675_path.png\n",
      "Saving transcript path graph for ENCODEHT002323626 as figures/eln_tissue_novel_ENCODEHT002323626_path.png\n",
      "Saving transcript path graph for ENCODEHT002323580 as figures/eln_tissue_novel_ENCODEHT002323580_path.png\n",
      "Saving transcript path graph for ENST00000429192.5 as figures/eln_tissue_novel_ENST00000429192.5_path.png\n",
      "Saving transcript path graph for ENCODEHT002323593 as figures/eln_tissue_novel_ENCODEHT002323593_path.png\n",
      "Saving transcript path graph for ENCODEHT001481394 as figures/eln_tissue_novel_ENCODEHT001481394_path.png\n",
      "Saving transcript path graph for ENCODEHT002323840 as figures/eln_tissue_novel_ENCODEHT002323840_path.png\n",
      "Saving transcript path graph for ENCODEHT002323663 as figures/eln_tissue_novel_ENCODEHT002323663_path.png\n",
      "Saving transcript path graph for ENCODEHT002323601 as figures/eln_tissue_novel_ENCODEHT002323601_path.png\n",
      "Saving transcript path graph for ENCODEHT002323589 as figures/eln_tissue_novel_ENCODEHT002323589_path.png\n",
      "Saving transcript path graph for ENCODEHT002323590 as figures/eln_tissue_novel_ENCODEHT002323590_path.png\n",
      "Saving transcript path graph for ENST00000468517.5 as figures/eln_tissue_novel_ENST00000468517.5_path.png\n",
      "Saving transcript path graph for ENCODEHT000578981 as figures/eln_tissue_novel_ENCODEHT000578981_path.png\n",
      "Saving transcript path graph for ENCODEHT002323767 as figures/eln_tissue_novel_ENCODEHT002323767_path.png\n",
      "Saving transcript path graph for ENCODEHT002324065 as figures/eln_tissue_novel_ENCODEHT002324065_path.png\n",
      "Saving transcript path graph for ENCODEHT002323761 as figures/eln_tissue_novel_ENCODEHT002323761_path.png\n",
      "Saving transcript path graph for ENCODEHT002323647 as figures/eln_tissue_novel_ENCODEHT002323647_path.png\n",
      "Saving transcript path graph for ENCODEHT002323653 as figures/eln_tissue_novel_ENCODEHT002323653_path.png\n",
      "Saving transcript path graph for ENST00000493839.1 as figures/eln_tissue_novel_ENST00000493839.1_path.png\n",
      "Saving transcript path graph for ENCODEHT002323649 as figures/eln_tissue_novel_ENCODEHT002323649_path.png\n",
      "Saving transcript path graph for ENCODEHT002323693 as figures/eln_tissue_novel_ENCODEHT002323693_path.png\n",
      "Saving transcript path graph for ENCODEHT002323727 as figures/eln_tissue_novel_ENCODEHT002323727_path.png\n",
      "Saving transcript path graph for ENST00000492003.5 as figures/eln_tissue_novel_ENST00000492003.5_path.png\n",
      "Saving transcript path graph for ENCODEHT002324142 as figures/eln_tissue_novel_ENCODEHT002324142_path.png\n",
      "Saving transcript path graph for ENCODEHT002324026 as figures/eln_tissue_novel_ENCODEHT002324026_path.png\n",
      "Saving transcript path graph for ENCODEHT002324007 as figures/eln_tissue_novel_ENCODEHT002324007_path.png\n",
      "Saving transcript path graph for ENST00000494160.5 as figures/eln_tissue_novel_ENST00000494160.5_path.png\n",
      "Saving transcript path graph for ENCODEHT002323704 as figures/eln_tissue_novel_ENCODEHT002323704_path.png\n",
      "Saving transcript path graph for ENCODEHT002323672 as figures/eln_tissue_novel_ENCODEHT002323672_path.png\n",
      "Saving transcript path graph for ENCODEHT002323648 as figures/eln_tissue_novel_ENCODEHT002323648_path.png\n",
      "Saving transcript path graph for ENCODEHT002323845 as figures/eln_tissue_novel_ENCODEHT002323845_path.png\n",
      "Saving transcript path graph for ENST00000462506.5 as figures/eln_tissue_novel_ENST00000462506.5_path.png\n",
      "Saving transcript path graph for ENCODEHT002323581 as figures/eln_tissue_novel_ENCODEHT002323581_path.png\n",
      "Saving transcript path graph for ENCODEHT002323712 as figures/eln_tissue_novel_ENCODEHT002323712_path.png\n",
      "Saving transcript path graph for ENCODEHT002323592 as figures/eln_tissue_novel_ENCODEHT002323592_path.png\n",
      "Saving transcript path graph for ENCODEHT002323598 as figures/eln_tissue_novel_ENCODEHT002323598_path.png\n",
      "Saving transcript path graph for ENCODEHT002323652 as figures/eln_tissue_novel_ENCODEHT002323652_path.png\n",
      "Saving transcript path graph for ENCODEHT002323741 as figures/eln_tissue_novel_ENCODEHT002323741_path.png\n",
      "Saving transcript path graph for ENCODEHT002323726 as figures/eln_tissue_novel_ENCODEHT002323726_path.png\n",
      "Saving transcript path graph for ENCODEHT002323869 as figures/eln_tissue_novel_ENCODEHT002323869_path.png\n",
      "Saving transcript path graph for ENCODEHT002324390 as figures/eln_tissue_novel_ENCODEHT002324390_path.png\n",
      "Saving transcript path graph for ENCODEHT002323717 as figures/eln_tissue_novel_ENCODEHT002323717_path.png\n",
      "Saving transcript path graph for ENCODEHT002324441 as figures/eln_tissue_novel_ENCODEHT002324441_path.png\n",
      "Saving transcript path graph for ENCODEHT002323661 as figures/eln_tissue_novel_ENCODEHT002323661_path.png\n",
      "Saving transcript path graph for ENCODEHT002323774 as figures/eln_tissue_novel_ENCODEHT002323774_path.png\n",
      "Saving transcript path graph for ENCODEHT002323715 as figures/eln_tissue_novel_ENCODEHT002323715_path.png\n",
      "Saving transcript path graph for ENCODEHT002323770 as figures/eln_tissue_novel_ENCODEHT002323770_path.png\n",
      "Saving transcript path graph for ENCODEHT002323802 as figures/eln_tissue_novel_ENCODEHT002323802_path.png\n",
      "Saving transcript path graph for ENCODEHT002323695 as figures/eln_tissue_novel_ENCODEHT002323695_path.png\n",
      "Saving transcript path graph for ENCODEHT002323698 as figures/eln_tissue_novel_ENCODEHT002323698_path.png\n",
      "Saving transcript path graph for ENCODEHT002323670 as figures/eln_tissue_novel_ENCODEHT002323670_path.png\n",
      "Saving transcript path graph for ENCODEHT002323860 as figures/eln_tissue_novel_ENCODEHT002323860_path.png\n",
      "Saving transcript path graph for ENCODEHT002323724 as figures/eln_tissue_novel_ENCODEHT002323724_path.png\n",
      "Saving transcript path graph for ENCODEHT002323669 as figures/eln_tissue_novel_ENCODEHT002323669_path.png\n",
      "Saving transcript path graph for ENCODEHT002323684 as figures/eln_tissue_novel_ENCODEHT002323684_path.png\n",
      "Saving transcript path graph for ENCODEHT002323759 as figures/eln_tissue_novel_ENCODEHT002323759_path.png\n",
      "Saving transcript path graph for ENCODEHT002323651 as figures/eln_tissue_novel_ENCODEHT002323651_path.png\n",
      "Saving transcript path graph for ENCODEHT002323877 as figures/eln_tissue_novel_ENCODEHT002323877_path.png\n",
      "Saving transcript path graph for ENCODEHT002323956 as figures/eln_tissue_novel_ENCODEHT002323956_path.png\n",
      "Saving transcript path graph for ENCODEHT002323690 as figures/eln_tissue_novel_ENCODEHT002323690_path.png\n",
      "Saving transcript path graph for ENCODEHT002323597 as figures/eln_tissue_novel_ENCODEHT002323597_path.png\n",
      "Saving transcript path graph for ENCODEHT002323843 as figures/eln_tissue_novel_ENCODEHT002323843_path.png\n",
      "Saving transcript path graph for ENCODEHT002323725 as figures/eln_tissue_novel_ENCODEHT002323725_path.png\n",
      "Saving transcript path graph for ENCODEHT002323749 as figures/eln_tissue_novel_ENCODEHT002323749_path.png\n",
      "Saving transcript path graph for ENCODEHT002323703 as figures/eln_tissue_novel_ENCODEHT002323703_path.png\n",
      "Saving transcript path graph for ENCODEHT002323737 as figures/eln_tissue_novel_ENCODEHT002323737_path.png\n",
      "Saving transcript path graph for ENCODEHT002323617 as figures/eln_tissue_novel_ENCODEHT002323617_path.png\n",
      "Saving transcript path graph for ENCODEHT002323916 as figures/eln_tissue_novel_ENCODEHT002323916_path.png\n",
      "Saving transcript path graph for ENCODEHT002323637 as figures/eln_tissue_novel_ENCODEHT002323637_path.png\n",
      "Saving transcript path graph for ENCODEHT002323706 as figures/eln_tissue_novel_ENCODEHT002323706_path.png\n",
      "Saving transcript path graph for ENCODEHT002323630 as figures/eln_tissue_novel_ENCODEHT002323630_path.png\n",
      "Saving transcript path graph for ENCODEHT002323650 as figures/eln_tissue_novel_ENCODEHT002323650_path.png\n",
      "Saving transcript path graph for ENCODEHT002323862 as figures/eln_tissue_novel_ENCODEHT002323862_path.png\n",
      "Saving transcript path graph for ENCODEHT002323606 as figures/eln_tissue_novel_ENCODEHT002323606_path.png\n",
      "Saving transcript path graph for ENCODEHT002323719 as figures/eln_tissue_novel_ENCODEHT002323719_path.png\n",
      "Saving transcript path graph for ENCODEHT002323929 as figures/eln_tissue_novel_ENCODEHT002323929_path.png\n",
      "Saving transcript path graph for ENCODEHT002324207 as figures/eln_tissue_novel_ENCODEHT002324207_path.png\n",
      "Saving transcript path graph for ENCODEHT002324129 as figures/eln_tissue_novel_ENCODEHT002324129_path.png\n",
      "Saving transcript path graph for ENCODEHT002323587 as figures/eln_tissue_novel_ENCODEHT002323587_path.png\n",
      "Saving transcript path graph for ENCODEHT002323823 as figures/eln_tissue_novel_ENCODEHT002323823_path.png\n",
      "Saving transcript path graph for ENCODEHT002323673 as figures/eln_tissue_novel_ENCODEHT002323673_path.png\n",
      "Generating report for ENSG00000049540.16\n"
     ]
    },
    {
     "name": "stderr",
     "output_type": "stream",
     "text": [
      "/Users/fairliereese/miniconda3/lib/python3.7/site-packages/scanpy/preprocessing/_normalization.py:155: UserWarning: Revieved a view of an AnnData. Making a copy.\n",
      "  view_to_actual(adata)\n"
     ]
    },
    {
     "name": "stdout",
     "output_type": "stream",
     "text": [
      "\n",
      "Plotting transcripts for ENSG00000049540.16\n",
      "Saving transcript path graph for ENCODEHT001481409 as figures/eln_cell_line_browser_ENCODEHT001481409_path.png\n",
      "Saving transcript path graph for ENST00000380576.9 as figures/eln_cell_line_browser_ENST00000380576.9_path.png\n",
      "Saving transcript path graph for ENST00000445912.5 as figures/eln_cell_line_browser_ENST00000445912.5_path.png\n",
      "Saving transcript path graph for ENST00000252034.11 as figures/eln_cell_line_browser_ENST00000252034.11_path.png\n",
      "Saving transcript path graph for ENST00000380575.8 as figures/eln_cell_line_browser_ENST00000380575.8_path.png\n",
      "Saving transcript path graph for ENCODEHT001481404 as figures/eln_cell_line_browser_ENCODEHT001481404_path.png\n",
      "Saving transcript path graph for ENCODEHT002323610 as figures/eln_cell_line_browser_ENCODEHT002323610_path.png\n",
      "Saving transcript path graph for ENCODEHT002323608 as figures/eln_cell_line_browser_ENCODEHT002323608_path.png\n",
      "Saving transcript path graph for ENCODEHT002323596 as figures/eln_cell_line_browser_ENCODEHT002323596_path.png\n",
      "Saving transcript path graph for ENCODEHT002323629 as figures/eln_cell_line_browser_ENCODEHT002323629_path.png\n",
      "Saving transcript path graph for ENCODEHT002323593 as figures/eln_cell_line_browser_ENCODEHT002323593_path.png\n",
      "Saving transcript path graph for ENCODEHT001481394 as figures/eln_cell_line_browser_ENCODEHT001481394_path.png\n",
      "Saving transcript path graph for ENST00000458204.5 as figures/eln_cell_line_browser_ENST00000458204.5_path.png\n",
      "Saving transcript path graph for ENCODEHT002323663 as figures/eln_cell_line_browser_ENCODEHT002323663_path.png\n",
      "Saving transcript path graph for ENCODEHT002323626 as figures/eln_cell_line_browser_ENCODEHT002323626_path.png\n",
      "Saving transcript path graph for ENST00000357036.9 as figures/eln_cell_line_browser_ENST00000357036.9_path.png\n",
      "Saving transcript path graph for ENCODEHT002323675 as figures/eln_cell_line_browser_ENCODEHT002323675_path.png\n",
      "Saving transcript path graph for ENCODEHT002323649 as figures/eln_cell_line_browser_ENCODEHT002323649_path.png\n",
      "Saving transcript path graph for ENST00000429192.5 as figures/eln_cell_line_browser_ENST00000429192.5_path.png\n",
      "Saving transcript path graph for ENCODEHT002323580 as figures/eln_cell_line_browser_ENCODEHT002323580_path.png\n",
      "Saving transcript path graph for ENCODEHT002323648 as figures/eln_cell_line_browser_ENCODEHT002323648_path.png\n",
      "Saving transcript path graph for ENCODEHT002323597 as figures/eln_cell_line_browser_ENCODEHT002323597_path.png\n",
      "Saving transcript path graph for ENCODEHT002323647 as figures/eln_cell_line_browser_ENCODEHT002323647_path.png\n",
      "Saving transcript path graph for ENCODEHT002323748 as figures/eln_cell_line_browser_ENCODEHT002323748_path.png\n",
      "Saving transcript path graph for ENCODEHT002323645 as figures/eln_cell_line_browser_ENCODEHT002323645_path.png\n",
      "Saving transcript path graph for ENCODEHT002323712 as figures/eln_cell_line_browser_ENCODEHT002323712_path.png\n",
      "Saving transcript path graph for ENCODEHT002323601 as figures/eln_cell_line_browser_ENCODEHT002323601_path.png\n",
      "Saving transcript path graph for ENCODEHT002323840 as figures/eln_cell_line_browser_ENCODEHT002323840_path.png\n",
      "Saving transcript path graph for ENCODEHT002323630 as figures/eln_cell_line_browser_ENCODEHT002323630_path.png\n",
      "Saving transcript path graph for ENCODEHT002323665 as figures/eln_cell_line_browser_ENCODEHT002323665_path.png\n",
      "Saving transcript path graph for ENCODEHT002323696 as figures/eln_cell_line_browser_ENCODEHT002323696_path.png\n",
      "Saving transcript path graph for ENCODEHT002323737 as figures/eln_cell_line_browser_ENCODEHT002323737_path.png\n",
      "Saving transcript path graph for ENCODEHT002323661 as figures/eln_cell_line_browser_ENCODEHT002323661_path.png\n",
      "Saving transcript path graph for ENCODEHT002323761 as figures/eln_cell_line_browser_ENCODEHT002323761_path.png\n",
      "Saving transcript path graph for ENCODEHT002323752 as figures/eln_cell_line_browser_ENCODEHT002323752_path.png\n",
      "Saving transcript path graph for ENCODEHT002323581 as figures/eln_cell_line_browser_ENCODEHT002323581_path.png\n",
      "Saving transcript path graph for ENCODEHT002323653 as figures/eln_cell_line_browser_ENCODEHT002323653_path.png\n",
      "Saving transcript path graph for ENCODEHT002323698 as figures/eln_cell_line_browser_ENCODEHT002323698_path.png\n",
      "Saving transcript path graph for ENCODEHT002323589 as figures/eln_cell_line_browser_ENCODEHT002323589_path.png\n",
      "Saving transcript path graph for ENCODEHT000578981 as figures/eln_cell_line_browser_ENCODEHT000578981_path.png\n",
      "Saving transcript path graph for ENCODEHT002323590 as figures/eln_cell_line_browser_ENCODEHT002323590_path.png\n",
      "Saving transcript path graph for ENCODEHT002323726 as figures/eln_cell_line_browser_ENCODEHT002323726_path.png\n",
      "Saving transcript path graph for ENCODEHT002323634 as figures/eln_cell_line_browser_ENCODEHT002323634_path.png\n",
      "Saving transcript path graph for ENCODEHT002323725 as figures/eln_cell_line_browser_ENCODEHT002323725_path.png\n",
      "Saving transcript path graph for ENCODEHT002323651 as figures/eln_cell_line_browser_ENCODEHT002323651_path.png\n",
      "Saving transcript path graph for ENCODEHT002323703 as figures/eln_cell_line_browser_ENCODEHT002323703_path.png\n",
      "Saving transcript path graph for ENCODEHT002324026 as figures/eln_cell_line_browser_ENCODEHT002324026_path.png\n",
      "Saving transcript path graph for ENCODEHT002323592 as figures/eln_cell_line_browser_ENCODEHT002323592_path.png\n",
      "Saving transcript path graph for ENCODEHT002323807 as figures/eln_cell_line_browser_ENCODEHT002323807_path.png\n",
      "Saving transcript path graph for ENCODEHT002323652 as figures/eln_cell_line_browser_ENCODEHT002323652_path.png\n",
      "Saving transcript path graph for ENCODEHT002323717 as figures/eln_cell_line_browser_ENCODEHT002323717_path.png\n",
      "Saving transcript path graph for ENCODEHT002323684 as figures/eln_cell_line_browser_ENCODEHT002323684_path.png\n",
      "Saving transcript path graph for ENCODEHT002323695 as figures/eln_cell_line_browser_ENCODEHT002323695_path.png\n",
      "Saving transcript path graph for ENCODEHT002323845 as figures/eln_cell_line_browser_ENCODEHT002323845_path.png\n",
      "Saving transcript path graph for ENCODEHT002323767 as figures/eln_cell_line_browser_ENCODEHT002323767_path.png\n",
      "Saving transcript path graph for ENCODEHT002323678 as figures/eln_cell_line_browser_ENCODEHT002323678_path.png\n",
      "Saving transcript path graph for ENCODEHT002323862 as figures/eln_cell_line_browser_ENCODEHT002323862_path.png\n",
      "Saving transcript path graph for ENCODEHT002323741 as figures/eln_cell_line_browser_ENCODEHT002323741_path.png\n",
      "Saving transcript path graph for ENCODEHT002323860 as figures/eln_cell_line_browser_ENCODEHT002323860_path.png\n",
      "Saving transcript path graph for ENCODEHT002323914 as figures/eln_cell_line_browser_ENCODEHT002323914_path.png\n",
      "Saving transcript path graph for ENCODEHT002323700 as figures/eln_cell_line_browser_ENCODEHT002323700_path.png\n",
      "Saving transcript path graph for ENCODEHT002323672 as figures/eln_cell_line_browser_ENCODEHT002323672_path.png\n",
      "Saving transcript path graph for ENCODEHT002324142 as figures/eln_cell_line_browser_ENCODEHT002324142_path.png\n",
      "Saving transcript path graph for ENCODEHT002323690 as figures/eln_cell_line_browser_ENCODEHT002323690_path.png\n",
      "Saving transcript path graph for ENCODEHT002323715 as figures/eln_cell_line_browser_ENCODEHT002323715_path.png\n",
      "Saving transcript path graph for ENCODEHT002323738 as figures/eln_cell_line_browser_ENCODEHT002323738_path.png\n",
      "Saving transcript path graph for ENCODEHT002323693 as figures/eln_cell_line_browser_ENCODEHT002323693_path.png\n",
      "Saving transcript path graph for ENCODEHT002323770 as figures/eln_cell_line_browser_ENCODEHT002323770_path.png\n",
      "Saving transcript path graph for ENCODEHT002324129 as figures/eln_cell_line_browser_ENCODEHT002324129_path.png\n",
      "Saving transcript path graph for ENCODEHT002323879 as figures/eln_cell_line_browser_ENCODEHT002323879_path.png\n",
      "Saving transcript path graph for ENCODEHT002323650 as figures/eln_cell_line_browser_ENCODEHT002323650_path.png\n",
      "Saving transcript path graph for ENCODEHT002323843 as figures/eln_cell_line_browser_ENCODEHT002323843_path.png\n",
      "Saving transcript path graph for ENCODEHT002323681 as figures/eln_cell_line_browser_ENCODEHT002323681_path.png\n",
      "Saving transcript path graph for ENCODEHT002323759 as figures/eln_cell_line_browser_ENCODEHT002323759_path.png\n",
      "Saving transcript path graph for ENCODEHT002324441 as figures/eln_cell_line_browser_ENCODEHT002324441_path.png\n",
      "Saving transcript path graph for ENCODEHT002323606 as figures/eln_cell_line_browser_ENCODEHT002323606_path.png\n",
      "Saving transcript path graph for ENCODEHT002323762 as figures/eln_cell_line_browser_ENCODEHT002323762_path.png\n",
      "Saving transcript path graph for ENCODEHT002324007 as figures/eln_cell_line_browser_ENCODEHT002324007_path.png\n",
      "Saving transcript path graph for ENCODEHT002323724 as figures/eln_cell_line_browser_ENCODEHT002323724_path.png\n",
      "Saving transcript path graph for ENCODEHT002323669 as figures/eln_cell_line_browser_ENCODEHT002323669_path.png\n",
      "Saving transcript path graph for ENCODEHT002323823 as figures/eln_cell_line_browser_ENCODEHT002323823_path.png\n",
      "Saving transcript path graph for ENCODEHT002323587 as figures/eln_cell_line_browser_ENCODEHT002323587_path.png\n",
      "Saving transcript path graph for ENCODEHT002324252 as figures/eln_cell_line_browser_ENCODEHT002324252_path.png\n",
      "Saving transcript path graph for ENCODEHT002323706 as figures/eln_cell_line_browser_ENCODEHT002323706_path.png\n",
      "Saving transcript path graph for ENCODEHT002323673 as figures/eln_cell_line_browser_ENCODEHT002323673_path.png\n",
      "Saving transcript path graph for ENCODEHT002323704 as figures/eln_cell_line_browser_ENCODEHT002323704_path.png\n",
      "Saving transcript path graph for ENCODEHT002323687 as figures/eln_cell_line_browser_ENCODEHT002323687_path.png\n",
      "Saving transcript path graph for ENCODEHT002323637 as figures/eln_cell_line_browser_ENCODEHT002323637_path.png\n",
      "Saving transcript path graph for ENCODEHT002323929 as figures/eln_cell_line_browser_ENCODEHT002323929_path.png\n",
      "Saving transcript path graph for ENCODEHT002323774 as figures/eln_cell_line_browser_ENCODEHT002323774_path.png\n",
      "Saving transcript path graph for ENCODEHT002323973 as figures/eln_cell_line_browser_ENCODEHT002323973_path.png\n",
      "Saving transcript path graph for ENCODEHT002323598 as figures/eln_cell_line_browser_ENCODEHT002323598_path.png\n",
      "Saving transcript path graph for ENCODEHT002323941 as figures/eln_cell_line_browser_ENCODEHT002323941_path.png\n",
      "Saving transcript path graph for ENCODEHT002323859 as figures/eln_cell_line_browser_ENCODEHT002323859_path.png\n",
      "Saving transcript path graph for ENCODEHT002324110 as figures/eln_cell_line_browser_ENCODEHT002324110_path.png\n",
      "Saving transcript path graph for ENCODEHT002323670 as figures/eln_cell_line_browser_ENCODEHT002323670_path.png\n",
      "Saving transcript path graph for ENCODEHT002323869 as figures/eln_cell_line_browser_ENCODEHT002323869_path.png\n",
      "Saving transcript path graph for ENCODEHT002323916 as figures/eln_cell_line_browser_ENCODEHT002323916_path.png\n",
      "Saving transcript path graph for ENCODEHT002324716 as figures/eln_cell_line_browser_ENCODEHT002324716_path.png\n",
      "Saving transcript path graph for ENCODEHT002323719 as figures/eln_cell_line_browser_ENCODEHT002323719_path.png\n",
      "Saving transcript path graph for ENCODEHT002324258 as figures/eln_cell_line_browser_ENCODEHT002324258_path.png\n",
      "Saving transcript path graph for ENCODEHT002324065 as figures/eln_cell_line_browser_ENCODEHT002324065_path.png\n",
      "Saving transcript path graph for ENCODEHT002323851 as figures/eln_cell_line_browser_ENCODEHT002323851_path.png\n",
      "Saving transcript path graph for ENCODEHT002323739 as figures/eln_cell_line_browser_ENCODEHT002323739_path.png\n",
      "Saving transcript path graph for ENCODEHT002323802 as figures/eln_cell_line_browser_ENCODEHT002323802_path.png\n",
      "Saving transcript path graph for ENCODEHT002323943 as figures/eln_cell_line_browser_ENCODEHT002323943_path.png\n",
      "Saving transcript path graph for ENCODEHT002324107 as figures/eln_cell_line_browser_ENCODEHT002324107_path.png\n",
      "Saving transcript path graph for ENCODEHT002323786 as figures/eln_cell_line_browser_ENCODEHT002323786_path.png\n",
      "Saving transcript path graph for ENCODEHT002323668 as figures/eln_cell_line_browser_ENCODEHT002323668_path.png\n",
      "Saving transcript path graph for ENCODEHT002323928 as figures/eln_cell_line_browser_ENCODEHT002323928_path.png\n",
      "Saving transcript path graph for ENCODEHT002323772 as figures/eln_cell_line_browser_ENCODEHT002323772_path.png\n",
      "Saving transcript path graph for ENCODEHT002324850 as figures/eln_cell_line_browser_ENCODEHT002324850_path.png\n",
      "Saving transcript path graph for ENCODEHT002323727 as figures/eln_cell_line_browser_ENCODEHT002323727_path.png\n",
      "Saving transcript path graph for ENCODEHT002324207 as figures/eln_cell_line_browser_ENCODEHT002324207_path.png\n",
      "Saving transcript path graph for ENCODEHT002323749 as figures/eln_cell_line_browser_ENCODEHT002323749_path.png\n",
      "Saving transcript path graph for ENCODEHT002323877 as figures/eln_cell_line_browser_ENCODEHT002323877_path.png\n",
      "Saving transcript path graph for ENCODEHT002323815 as figures/eln_cell_line_browser_ENCODEHT002323815_path.png\n",
      "Saving transcript path graph for ENCODEHT002323956 as figures/eln_cell_line_browser_ENCODEHT002323956_path.png\n",
      "Saving transcript path graph for ENCODEHT002324360 as figures/eln_cell_line_browser_ENCODEHT002324360_path.png\n",
      "Saving transcript path graph for ENST00000320399.10 as figures/eln_cell_line_browser_ENST00000320399.10_path.png\n",
      "Saving transcript path graph for ENCODEHT002323876 as figures/eln_cell_line_browser_ENCODEHT002323876_path.png\n",
      "Saving transcript path graph for ENCODEHT002323611 as figures/eln_cell_line_browser_ENCODEHT002323611_path.png\n",
      "Saving transcript path graph for ENCODEHT002323982 as figures/eln_cell_line_browser_ENCODEHT002323982_path.png\n",
      "Saving transcript path graph for ENCODEHT002323617 as figures/eln_cell_line_browser_ENCODEHT002323617_path.png\n",
      "Saving transcript path graph for ENCODEHT002324216 as figures/eln_cell_line_browser_ENCODEHT002324216_path.png\n",
      "Saving transcript path graph for ENST00000380584.8 as figures/eln_cell_line_browser_ENST00000380584.8_path.png\n",
      "Saving transcript path graph for ENCODEHT002324390 as figures/eln_cell_line_browser_ENCODEHT002324390_path.png\n",
      "Saving transcript path graph for ENCODEHT002323839 as figures/eln_cell_line_browser_ENCODEHT002323839_path.png\n",
      "Saving transcript path graph for ENCODEHT002323791 as figures/eln_cell_line_browser_ENCODEHT002323791_path.png\n",
      "Saving transcript path graph for ENCODEHT002323620 as figures/eln_cell_line_browser_ENCODEHT002323620_path.png\n",
      "Saving transcript path graph for ENCODEHT002323615 as figures/eln_cell_line_browser_ENCODEHT002323615_path.png\n",
      "Saving transcript path graph for ENCODEHT002324262 as figures/eln_cell_line_browser_ENCODEHT002324262_path.png\n",
      "Saving transcript path graph for ENCODEHT002323848 as figures/eln_cell_line_browser_ENCODEHT002323848_path.png\n",
      "Saving transcript path graph for ENST00000414324.5 as figures/eln_cell_line_browser_ENST00000414324.5_path.png\n",
      "Generating report for ENSG00000049540.16\n"
     ]
    },
    {
     "name": "stderr",
     "output_type": "stream",
     "text": [
      "/Users/fairliereese/miniconda3/lib/python3.7/site-packages/scanpy/preprocessing/_normalization.py:155: UserWarning: Revieved a view of an AnnData. Making a copy.\n",
      "  view_to_actual(adata)\n"
     ]
    },
    {
     "name": "stdout",
     "output_type": "stream",
     "text": [
      "\n",
      "Plotting transcripts for ENSG00000049540.16\n",
      "Saving transcript path graph for ENCODEHT001481409 as figures/eln_cell_line_novel_ENCODEHT001481409_path.png\n",
      "Saving transcript path graph for ENST00000380576.9 as figures/eln_cell_line_novel_ENST00000380576.9_path.png\n",
      "Saving transcript path graph for ENST00000445912.5 as figures/eln_cell_line_novel_ENST00000445912.5_path.png\n",
      "Saving transcript path graph for ENST00000252034.11 as figures/eln_cell_line_novel_ENST00000252034.11_path.png\n",
      "Saving transcript path graph for ENST00000380575.8 as figures/eln_cell_line_novel_ENST00000380575.8_path.png\n",
      "Saving transcript path graph for ENCODEHT001481404 as figures/eln_cell_line_novel_ENCODEHT001481404_path.png\n",
      "Saving transcript path graph for ENCODEHT002323610 as figures/eln_cell_line_novel_ENCODEHT002323610_path.png\n",
      "Saving transcript path graph for ENCODEHT002323608 as figures/eln_cell_line_novel_ENCODEHT002323608_path.png\n",
      "Saving transcript path graph for ENCODEHT002323596 as figures/eln_cell_line_novel_ENCODEHT002323596_path.png\n",
      "Saving transcript path graph for ENCODEHT002323629 as figures/eln_cell_line_novel_ENCODEHT002323629_path.png\n",
      "Saving transcript path graph for ENCODEHT002323593 as figures/eln_cell_line_novel_ENCODEHT002323593_path.png\n",
      "Saving transcript path graph for ENCODEHT001481394 as figures/eln_cell_line_novel_ENCODEHT001481394_path.png\n",
      "Saving transcript path graph for ENST00000458204.5 as figures/eln_cell_line_novel_ENST00000458204.5_path.png\n",
      "Saving transcript path graph for ENCODEHT002323663 as figures/eln_cell_line_novel_ENCODEHT002323663_path.png\n",
      "Saving transcript path graph for ENCODEHT002323626 as figures/eln_cell_line_novel_ENCODEHT002323626_path.png\n",
      "Saving transcript path graph for ENST00000357036.9 as figures/eln_cell_line_novel_ENST00000357036.9_path.png\n",
      "Saving transcript path graph for ENCODEHT002323675 as figures/eln_cell_line_novel_ENCODEHT002323675_path.png\n",
      "Saving transcript path graph for ENCODEHT002323649 as figures/eln_cell_line_novel_ENCODEHT002323649_path.png\n",
      "Saving transcript path graph for ENST00000429192.5 as figures/eln_cell_line_novel_ENST00000429192.5_path.png\n",
      "Saving transcript path graph for ENCODEHT002323580 as figures/eln_cell_line_novel_ENCODEHT002323580_path.png\n",
      "Saving transcript path graph for ENCODEHT002323648 as figures/eln_cell_line_novel_ENCODEHT002323648_path.png\n",
      "Saving transcript path graph for ENCODEHT002323597 as figures/eln_cell_line_novel_ENCODEHT002323597_path.png\n",
      "Saving transcript path graph for ENCODEHT002323647 as figures/eln_cell_line_novel_ENCODEHT002323647_path.png\n",
      "Saving transcript path graph for ENCODEHT002323748 as figures/eln_cell_line_novel_ENCODEHT002323748_path.png\n",
      "Saving transcript path graph for ENCODEHT002323645 as figures/eln_cell_line_novel_ENCODEHT002323645_path.png\n",
      "Saving transcript path graph for ENCODEHT002323712 as figures/eln_cell_line_novel_ENCODEHT002323712_path.png\n",
      "Saving transcript path graph for ENCODEHT002323601 as figures/eln_cell_line_novel_ENCODEHT002323601_path.png\n",
      "Saving transcript path graph for ENCODEHT002323840 as figures/eln_cell_line_novel_ENCODEHT002323840_path.png\n",
      "Saving transcript path graph for ENCODEHT002323630 as figures/eln_cell_line_novel_ENCODEHT002323630_path.png\n",
      "Saving transcript path graph for ENCODEHT002323665 as figures/eln_cell_line_novel_ENCODEHT002323665_path.png\n",
      "Saving transcript path graph for ENCODEHT002323696 as figures/eln_cell_line_novel_ENCODEHT002323696_path.png\n",
      "Saving transcript path graph for ENCODEHT002323737 as figures/eln_cell_line_novel_ENCODEHT002323737_path.png\n",
      "Saving transcript path graph for ENCODEHT002323661 as figures/eln_cell_line_novel_ENCODEHT002323661_path.png\n",
      "Saving transcript path graph for ENCODEHT002323761 as figures/eln_cell_line_novel_ENCODEHT002323761_path.png\n",
      "Saving transcript path graph for ENCODEHT002323752 as figures/eln_cell_line_novel_ENCODEHT002323752_path.png\n",
      "Saving transcript path graph for ENCODEHT002323581 as figures/eln_cell_line_novel_ENCODEHT002323581_path.png\n",
      "Saving transcript path graph for ENCODEHT002323653 as figures/eln_cell_line_novel_ENCODEHT002323653_path.png\n",
      "Saving transcript path graph for ENCODEHT002323698 as figures/eln_cell_line_novel_ENCODEHT002323698_path.png\n",
      "Saving transcript path graph for ENCODEHT002323589 as figures/eln_cell_line_novel_ENCODEHT002323589_path.png\n",
      "Saving transcript path graph for ENCODEHT000578981 as figures/eln_cell_line_novel_ENCODEHT000578981_path.png\n",
      "Saving transcript path graph for ENCODEHT002323590 as figures/eln_cell_line_novel_ENCODEHT002323590_path.png\n",
      "Saving transcript path graph for ENCODEHT002323726 as figures/eln_cell_line_novel_ENCODEHT002323726_path.png\n",
      "Saving transcript path graph for ENCODEHT002323634 as figures/eln_cell_line_novel_ENCODEHT002323634_path.png\n",
      "Saving transcript path graph for ENCODEHT002323725 as figures/eln_cell_line_novel_ENCODEHT002323725_path.png\n",
      "Saving transcript path graph for ENCODEHT002323651 as figures/eln_cell_line_novel_ENCODEHT002323651_path.png\n",
      "Saving transcript path graph for ENCODEHT002323703 as figures/eln_cell_line_novel_ENCODEHT002323703_path.png\n",
      "Saving transcript path graph for ENCODEHT002324026 as figures/eln_cell_line_novel_ENCODEHT002324026_path.png\n",
      "Saving transcript path graph for ENCODEHT002323592 as figures/eln_cell_line_novel_ENCODEHT002323592_path.png\n",
      "Saving transcript path graph for ENCODEHT002323807 as figures/eln_cell_line_novel_ENCODEHT002323807_path.png\n",
      "Saving transcript path graph for ENCODEHT002323652 as figures/eln_cell_line_novel_ENCODEHT002323652_path.png\n",
      "Saving transcript path graph for ENCODEHT002323717 as figures/eln_cell_line_novel_ENCODEHT002323717_path.png\n",
      "Saving transcript path graph for ENCODEHT002323684 as figures/eln_cell_line_novel_ENCODEHT002323684_path.png\n",
      "Saving transcript path graph for ENCODEHT002323695 as figures/eln_cell_line_novel_ENCODEHT002323695_path.png\n",
      "Saving transcript path graph for ENCODEHT002323845 as figures/eln_cell_line_novel_ENCODEHT002323845_path.png\n",
      "Saving transcript path graph for ENCODEHT002323767 as figures/eln_cell_line_novel_ENCODEHT002323767_path.png\n",
      "Saving transcript path graph for ENCODEHT002323678 as figures/eln_cell_line_novel_ENCODEHT002323678_path.png\n",
      "Saving transcript path graph for ENCODEHT002323862 as figures/eln_cell_line_novel_ENCODEHT002323862_path.png\n",
      "Saving transcript path graph for ENCODEHT002323741 as figures/eln_cell_line_novel_ENCODEHT002323741_path.png\n",
      "Saving transcript path graph for ENCODEHT002323860 as figures/eln_cell_line_novel_ENCODEHT002323860_path.png\n",
      "Saving transcript path graph for ENCODEHT002323914 as figures/eln_cell_line_novel_ENCODEHT002323914_path.png\n",
      "Saving transcript path graph for ENCODEHT002323700 as figures/eln_cell_line_novel_ENCODEHT002323700_path.png\n",
      "Saving transcript path graph for ENCODEHT002323672 as figures/eln_cell_line_novel_ENCODEHT002323672_path.png\n",
      "Saving transcript path graph for ENCODEHT002324142 as figures/eln_cell_line_novel_ENCODEHT002324142_path.png\n",
      "Saving transcript path graph for ENCODEHT002323690 as figures/eln_cell_line_novel_ENCODEHT002323690_path.png\n",
      "Saving transcript path graph for ENCODEHT002323715 as figures/eln_cell_line_novel_ENCODEHT002323715_path.png\n",
      "Saving transcript path graph for ENCODEHT002323738 as figures/eln_cell_line_novel_ENCODEHT002323738_path.png\n",
      "Saving transcript path graph for ENCODEHT002323693 as figures/eln_cell_line_novel_ENCODEHT002323693_path.png\n",
      "Saving transcript path graph for ENCODEHT002323770 as figures/eln_cell_line_novel_ENCODEHT002323770_path.png\n",
      "Saving transcript path graph for ENCODEHT002324129 as figures/eln_cell_line_novel_ENCODEHT002324129_path.png\n",
      "Saving transcript path graph for ENCODEHT002323879 as figures/eln_cell_line_novel_ENCODEHT002323879_path.png\n",
      "Saving transcript path graph for ENCODEHT002323650 as figures/eln_cell_line_novel_ENCODEHT002323650_path.png\n",
      "Saving transcript path graph for ENCODEHT002323843 as figures/eln_cell_line_novel_ENCODEHT002323843_path.png\n",
      "Saving transcript path graph for ENCODEHT002323681 as figures/eln_cell_line_novel_ENCODEHT002323681_path.png\n",
      "Saving transcript path graph for ENCODEHT002323759 as figures/eln_cell_line_novel_ENCODEHT002323759_path.png\n",
      "Saving transcript path graph for ENCODEHT002324441 as figures/eln_cell_line_novel_ENCODEHT002324441_path.png\n",
      "Saving transcript path graph for ENCODEHT002323606 as figures/eln_cell_line_novel_ENCODEHT002323606_path.png\n",
      "Saving transcript path graph for ENCODEHT002323762 as figures/eln_cell_line_novel_ENCODEHT002323762_path.png\n",
      "Saving transcript path graph for ENCODEHT002324007 as figures/eln_cell_line_novel_ENCODEHT002324007_path.png\n",
      "Saving transcript path graph for ENCODEHT002323724 as figures/eln_cell_line_novel_ENCODEHT002323724_path.png\n",
      "Saving transcript path graph for ENCODEHT002323669 as figures/eln_cell_line_novel_ENCODEHT002323669_path.png\n",
      "Saving transcript path graph for ENCODEHT002323823 as figures/eln_cell_line_novel_ENCODEHT002323823_path.png\n",
      "Saving transcript path graph for ENCODEHT002323587 as figures/eln_cell_line_novel_ENCODEHT002323587_path.png\n",
      "Saving transcript path graph for ENCODEHT002324252 as figures/eln_cell_line_novel_ENCODEHT002324252_path.png\n",
      "Saving transcript path graph for ENCODEHT002323706 as figures/eln_cell_line_novel_ENCODEHT002323706_path.png\n",
      "Saving transcript path graph for ENCODEHT002323673 as figures/eln_cell_line_novel_ENCODEHT002323673_path.png\n",
      "Saving transcript path graph for ENCODEHT002323704 as figures/eln_cell_line_novel_ENCODEHT002323704_path.png\n",
      "Saving transcript path graph for ENCODEHT002323687 as figures/eln_cell_line_novel_ENCODEHT002323687_path.png\n",
      "Saving transcript path graph for ENCODEHT002323637 as figures/eln_cell_line_novel_ENCODEHT002323637_path.png\n",
      "Saving transcript path graph for ENCODEHT002323929 as figures/eln_cell_line_novel_ENCODEHT002323929_path.png\n",
      "Saving transcript path graph for ENCODEHT002323774 as figures/eln_cell_line_novel_ENCODEHT002323774_path.png\n",
      "Saving transcript path graph for ENCODEHT002323973 as figures/eln_cell_line_novel_ENCODEHT002323973_path.png\n",
      "Saving transcript path graph for ENCODEHT002323598 as figures/eln_cell_line_novel_ENCODEHT002323598_path.png\n",
      "Saving transcript path graph for ENCODEHT002323941 as figures/eln_cell_line_novel_ENCODEHT002323941_path.png\n",
      "Saving transcript path graph for ENCODEHT002323859 as figures/eln_cell_line_novel_ENCODEHT002323859_path.png\n",
      "Saving transcript path graph for ENCODEHT002324110 as figures/eln_cell_line_novel_ENCODEHT002324110_path.png\n",
      "Saving transcript path graph for ENCODEHT002323670 as figures/eln_cell_line_novel_ENCODEHT002323670_path.png\n",
      "Saving transcript path graph for ENCODEHT002323869 as figures/eln_cell_line_novel_ENCODEHT002323869_path.png\n",
      "Saving transcript path graph for ENCODEHT002323916 as figures/eln_cell_line_novel_ENCODEHT002323916_path.png\n",
      "Saving transcript path graph for ENCODEHT002324716 as figures/eln_cell_line_novel_ENCODEHT002324716_path.png\n",
      "Saving transcript path graph for ENCODEHT002323719 as figures/eln_cell_line_novel_ENCODEHT002323719_path.png\n",
      "Saving transcript path graph for ENCODEHT002324258 as figures/eln_cell_line_novel_ENCODEHT002324258_path.png\n",
      "Saving transcript path graph for ENCODEHT002324065 as figures/eln_cell_line_novel_ENCODEHT002324065_path.png\n",
      "Saving transcript path graph for ENCODEHT002323851 as figures/eln_cell_line_novel_ENCODEHT002323851_path.png\n",
      "Saving transcript path graph for ENCODEHT002323739 as figures/eln_cell_line_novel_ENCODEHT002323739_path.png\n",
      "Saving transcript path graph for ENCODEHT002323802 as figures/eln_cell_line_novel_ENCODEHT002323802_path.png\n",
      "Saving transcript path graph for ENCODEHT002323943 as figures/eln_cell_line_novel_ENCODEHT002323943_path.png\n",
      "Saving transcript path graph for ENCODEHT002324107 as figures/eln_cell_line_novel_ENCODEHT002324107_path.png\n",
      "Saving transcript path graph for ENCODEHT002323786 as figures/eln_cell_line_novel_ENCODEHT002323786_path.png\n",
      "Saving transcript path graph for ENCODEHT002323668 as figures/eln_cell_line_novel_ENCODEHT002323668_path.png\n",
      "Saving transcript path graph for ENCODEHT002323928 as figures/eln_cell_line_novel_ENCODEHT002323928_path.png\n",
      "Saving transcript path graph for ENCODEHT002323772 as figures/eln_cell_line_novel_ENCODEHT002323772_path.png\n",
      "Saving transcript path graph for ENCODEHT002324850 as figures/eln_cell_line_novel_ENCODEHT002324850_path.png\n",
      "Saving transcript path graph for ENCODEHT002323727 as figures/eln_cell_line_novel_ENCODEHT002323727_path.png\n",
      "Saving transcript path graph for ENCODEHT002324207 as figures/eln_cell_line_novel_ENCODEHT002324207_path.png\n",
      "Saving transcript path graph for ENCODEHT002323749 as figures/eln_cell_line_novel_ENCODEHT002323749_path.png\n",
      "Saving transcript path graph for ENCODEHT002323877 as figures/eln_cell_line_novel_ENCODEHT002323877_path.png\n",
      "Saving transcript path graph for ENCODEHT002323815 as figures/eln_cell_line_novel_ENCODEHT002323815_path.png\n",
      "Saving transcript path graph for ENCODEHT002323956 as figures/eln_cell_line_novel_ENCODEHT002323956_path.png\n",
      "Saving transcript path graph for ENCODEHT002324360 as figures/eln_cell_line_novel_ENCODEHT002324360_path.png\n",
      "Saving transcript path graph for ENST00000320399.10 as figures/eln_cell_line_novel_ENST00000320399.10_path.png\n",
      "Saving transcript path graph for ENCODEHT002323876 as figures/eln_cell_line_novel_ENCODEHT002323876_path.png\n",
      "Saving transcript path graph for ENCODEHT002323611 as figures/eln_cell_line_novel_ENCODEHT002323611_path.png\n",
      "Saving transcript path graph for ENCODEHT002323982 as figures/eln_cell_line_novel_ENCODEHT002323982_path.png\n",
      "Saving transcript path graph for ENCODEHT002323617 as figures/eln_cell_line_novel_ENCODEHT002323617_path.png\n",
      "Saving transcript path graph for ENCODEHT002324216 as figures/eln_cell_line_novel_ENCODEHT002324216_path.png\n",
      "Saving transcript path graph for ENST00000380584.8 as figures/eln_cell_line_novel_ENST00000380584.8_path.png\n",
      "Saving transcript path graph for ENCODEHT002324390 as figures/eln_cell_line_novel_ENCODEHT002324390_path.png\n",
      "Saving transcript path graph for ENCODEHT002323839 as figures/eln_cell_line_novel_ENCODEHT002323839_path.png\n",
      "Saving transcript path graph for ENCODEHT002323791 as figures/eln_cell_line_novel_ENCODEHT002323791_path.png\n",
      "Saving transcript path graph for ENCODEHT002323620 as figures/eln_cell_line_novel_ENCODEHT002323620_path.png\n",
      "Saving transcript path graph for ENCODEHT002323615 as figures/eln_cell_line_novel_ENCODEHT002323615_path.png\n",
      "Saving transcript path graph for ENCODEHT002324262 as figures/eln_cell_line_novel_ENCODEHT002324262_path.png\n",
      "Saving transcript path graph for ENCODEHT002323848 as figures/eln_cell_line_novel_ENCODEHT002323848_path.png\n",
      "Saving transcript path graph for ENST00000414324.5 as figures/eln_cell_line_novel_ENST00000414324.5_path.png\n",
      "Generating report for ENSG00000049540.16\n"
     ]
    }
   ],
   "source": [
    "make_biosamp_reports(sg, 'ELN')"
   ]
  },
  {
   "cell_type": "code",
   "execution_count": null,
   "id": "behind-transformation",
   "metadata": {},
   "outputs": [],
   "source": [
    "make_biosamp_reports(sg, 'DES')"
   ]
  },
  {
   "cell_type": "code",
   "execution_count": 25,
   "id": "colonial-manufacturer",
   "metadata": {
    "collapsed": true,
    "jupyter": {
     "outputs_hidden": true
    }
   },
   "outputs": [
    {
     "name": "stdout",
     "output_type": "stream",
     "text": [
      "\n",
      "Plotting transcripts for ENSG00000092054.12\n",
      "Saving transcript path graph for ENST00000355349.3 as figures/myh7_tissue_browser_ENST00000355349.3_path.png\n",
      "Saving transcript path graph for ENCODEHT002509576 as figures/myh7_tissue_browser_ENCODEHT002509576_path.png\n",
      "Saving transcript path graph for ENCODEHT002511948 as figures/myh7_tissue_browser_ENCODEHT002511948_path.png\n",
      "Saving transcript path graph for ENCODEHT002511093 as figures/myh7_tissue_browser_ENCODEHT002511093_path.png\n",
      "Saving transcript path graph for ENCODEHT002509562 as figures/myh7_tissue_browser_ENCODEHT002509562_path.png\n",
      "Saving transcript path graph for ENCODEHT002509573 as figures/myh7_tissue_browser_ENCODEHT002509573_path.png\n",
      "Saving transcript path graph for ENCODEHT002510879 as figures/myh7_tissue_browser_ENCODEHT002510879_path.png\n",
      "Saving transcript path graph for ENCODEHT002509778 as figures/myh7_tissue_browser_ENCODEHT002509778_path.png\n",
      "Saving transcript path graph for ENCODEHT002511483 as figures/myh7_tissue_browser_ENCODEHT002511483_path.png\n",
      "Saving transcript path graph for ENCODEHT002512955 as figures/myh7_tissue_browser_ENCODEHT002512955_path.png\n",
      "Saving transcript path graph for ENCODEHT002513000 as figures/myh7_tissue_browser_ENCODEHT002513000_path.png\n",
      "Saving transcript path graph for ENCODEHT002511910 as figures/myh7_tissue_browser_ENCODEHT002511910_path.png\n",
      "Saving transcript path graph for ENCODEHT002509669 as figures/myh7_tissue_browser_ENCODEHT002509669_path.png\n",
      "Saving transcript path graph for ENCODEHT002520315 as figures/myh7_tissue_browser_ENCODEHT002520315_path.png\n",
      "Saving transcript path graph for ENCODEHT002513183 as figures/myh7_tissue_browser_ENCODEHT002513183_path.png\n",
      "Saving transcript path graph for ENCODEHT002517580 as figures/myh7_tissue_browser_ENCODEHT002517580_path.png\n",
      "Saving transcript path graph for ENCODEHT002509485 as figures/myh7_tissue_browser_ENCODEHT002509485_path.png\n",
      "Saving transcript path graph for ENCODEHT002510707 as figures/myh7_tissue_browser_ENCODEHT002510707_path.png\n",
      "Saving transcript path graph for ENCODEHT002512963 as figures/myh7_tissue_browser_ENCODEHT002512963_path.png\n",
      "Saving transcript path graph for ENCODEHT002511024 as figures/myh7_tissue_browser_ENCODEHT002511024_path.png\n",
      "Saving transcript path graph for ENCODEHT002515367 as figures/myh7_tissue_browser_ENCODEHT002515367_path.png\n",
      "Saving transcript path graph for ENCODEHT002518507 as figures/myh7_tissue_browser_ENCODEHT002518507_path.png\n",
      "Saving transcript path graph for ENCODEHT002510612 as figures/myh7_tissue_browser_ENCODEHT002510612_path.png\n",
      "Saving transcript path graph for ENCODEHT002510217 as figures/myh7_tissue_browser_ENCODEHT002510217_path.png\n",
      "Saving transcript path graph for ENCODEHT002514292 as figures/myh7_tissue_browser_ENCODEHT002514292_path.png\n",
      "Generating report for ENSG00000092054.12\n",
      "\n",
      "Plotting transcripts for ENSG00000092054.12\n",
      "Saving transcript path graph for ENST00000355349.3 as figures/myh7_tissue_novel_ENST00000355349.3_path.png\n",
      "Saving transcript path graph for ENCODEHT002509576 as figures/myh7_tissue_novel_ENCODEHT002509576_path.png\n",
      "Saving transcript path graph for ENCODEHT002511948 as figures/myh7_tissue_novel_ENCODEHT002511948_path.png\n",
      "Saving transcript path graph for ENCODEHT002511093 as figures/myh7_tissue_novel_ENCODEHT002511093_path.png\n",
      "Saving transcript path graph for ENCODEHT002509562 as figures/myh7_tissue_novel_ENCODEHT002509562_path.png\n",
      "Saving transcript path graph for ENCODEHT002509573 as figures/myh7_tissue_novel_ENCODEHT002509573_path.png\n",
      "Saving transcript path graph for ENCODEHT002510879 as figures/myh7_tissue_novel_ENCODEHT002510879_path.png\n",
      "Saving transcript path graph for ENCODEHT002509778 as figures/myh7_tissue_novel_ENCODEHT002509778_path.png\n",
      "Saving transcript path graph for ENCODEHT002511483 as figures/myh7_tissue_novel_ENCODEHT002511483_path.png\n",
      "Saving transcript path graph for ENCODEHT002512955 as figures/myh7_tissue_novel_ENCODEHT002512955_path.png\n",
      "Saving transcript path graph for ENCODEHT002513000 as figures/myh7_tissue_novel_ENCODEHT002513000_path.png\n",
      "Saving transcript path graph for ENCODEHT002511910 as figures/myh7_tissue_novel_ENCODEHT002511910_path.png\n",
      "Saving transcript path graph for ENCODEHT002509669 as figures/myh7_tissue_novel_ENCODEHT002509669_path.png\n",
      "Saving transcript path graph for ENCODEHT002520315 as figures/myh7_tissue_novel_ENCODEHT002520315_path.png\n",
      "Saving transcript path graph for ENCODEHT002513183 as figures/myh7_tissue_novel_ENCODEHT002513183_path.png\n",
      "Saving transcript path graph for ENCODEHT002517580 as figures/myh7_tissue_novel_ENCODEHT002517580_path.png\n",
      "Saving transcript path graph for ENCODEHT002509485 as figures/myh7_tissue_novel_ENCODEHT002509485_path.png\n",
      "Saving transcript path graph for ENCODEHT002510707 as figures/myh7_tissue_novel_ENCODEHT002510707_path.png\n",
      "Saving transcript path graph for ENCODEHT002512963 as figures/myh7_tissue_novel_ENCODEHT002512963_path.png\n",
      "Saving transcript path graph for ENCODEHT002511024 as figures/myh7_tissue_novel_ENCODEHT002511024_path.png\n",
      "Saving transcript path graph for ENCODEHT002515367 as figures/myh7_tissue_novel_ENCODEHT002515367_path.png\n",
      "Saving transcript path graph for ENCODEHT002518507 as figures/myh7_tissue_novel_ENCODEHT002518507_path.png\n",
      "Saving transcript path graph for ENCODEHT002510612 as figures/myh7_tissue_novel_ENCODEHT002510612_path.png\n",
      "Saving transcript path graph for ENCODEHT002510217 as figures/myh7_tissue_novel_ENCODEHT002510217_path.png\n",
      "Saving transcript path graph for ENCODEHT002514292 as figures/myh7_tissue_novel_ENCODEHT002514292_path.png\n",
      "Generating report for ENSG00000092054.12\n",
      "\n",
      "Plotting transcripts for ENSG00000092054.12\n",
      "Saving transcript path graph for ENST00000355349.3 as figures/myh7_cell_line_browser_ENST00000355349.3_path.png\n",
      "Generating report for ENSG00000092054.12\n",
      "\n",
      "Plotting transcripts for ENSG00000092054.12\n",
      "Saving transcript path graph for ENST00000355349.3 as figures/myh7_cell_line_novel_ENST00000355349.3_path.png\n",
      "Generating report for ENSG00000092054.12\n"
     ]
    }
   ],
   "source": [
    "make_biosamp_reports('MYH7')"
   ]
  },
  {
   "cell_type": "code",
   "execution_count": 142,
   "id": "complex-trail",
   "metadata": {
    "collapsed": true,
    "jupyter": {
     "outputs_hidden": true
    }
   },
   "outputs": [
    {
     "name": "stdout",
     "output_type": "stream",
     "text": [
      "\n",
      "Plotting transcripts for ENSG00000092054.12\n",
      "Saving transcript path graph for ENST00000355349.3 as figures/myh7_cell_line_browser_ENST00000355349.3_path.png\n",
      "Saving transcript path graph for ENCODEHT002509576 as figures/myh7_cell_line_browser_ENCODEHT002509576_path.png\n",
      "Saving transcript path graph for ENCODEHT002511948 as figures/myh7_cell_line_browser_ENCODEHT002511948_path.png\n",
      "Saving transcript path graph for ENCODEHT002511093 as figures/myh7_cell_line_browser_ENCODEHT002511093_path.png\n",
      "Saving transcript path graph for ENCODEHT002509573 as figures/myh7_cell_line_browser_ENCODEHT002509573_path.png\n",
      "Saving transcript path graph for ENCODEHT002509778 as figures/myh7_cell_line_browser_ENCODEHT002509778_path.png\n",
      "Saving transcript path graph for ENCODEHT002511483 as figures/myh7_cell_line_browser_ENCODEHT002511483_path.png\n",
      "Saving transcript path graph for ENCODEHT002510879 as figures/myh7_cell_line_browser_ENCODEHT002510879_path.png\n",
      "Saving transcript path graph for ENCODEHT002509562 as figures/myh7_cell_line_browser_ENCODEHT002509562_path.png\n",
      "Saving transcript path graph for ENCODEHT002512955 as figures/myh7_cell_line_browser_ENCODEHT002512955_path.png\n",
      "Saving transcript path graph for ENCODEHT002513000 as figures/myh7_cell_line_browser_ENCODEHT002513000_path.png\n",
      "Saving transcript path graph for ENCODEHT002511910 as figures/myh7_cell_line_browser_ENCODEHT002511910_path.png\n",
      "Saving transcript path graph for ENCODEHT002509669 as figures/myh7_cell_line_browser_ENCODEHT002509669_path.png\n",
      "Saving transcript path graph for ENCODEHT002520315 as figures/myh7_cell_line_browser_ENCODEHT002520315_path.png\n",
      "Saving transcript path graph for ENCODEHT002513183 as figures/myh7_cell_line_browser_ENCODEHT002513183_path.png\n",
      "Saving transcript path graph for ENCODEHT002517580 as figures/myh7_cell_line_browser_ENCODEHT002517580_path.png\n",
      "Saving transcript path graph for ENCODEHT002510707 as figures/myh7_cell_line_browser_ENCODEHT002510707_path.png\n",
      "Saving transcript path graph for ENCODEHT002511024 as figures/myh7_cell_line_browser_ENCODEHT002511024_path.png\n",
      "Saving transcript path graph for ENCODEHT002509485 as figures/myh7_cell_line_browser_ENCODEHT002509485_path.png\n",
      "Saving transcript path graph for ENCODEHT002512963 as figures/myh7_cell_line_browser_ENCODEHT002512963_path.png\n",
      "Saving transcript path graph for ENCODEHT002518507 as figures/myh7_cell_line_browser_ENCODEHT002518507_path.png\n",
      "Saving transcript path graph for ENCODEHT002515367 as figures/myh7_cell_line_browser_ENCODEHT002515367_path.png\n",
      "Saving transcript path graph for ENCODEHT002510612 as figures/myh7_cell_line_browser_ENCODEHT002510612_path.png\n",
      "Saving transcript path graph for ENCODEHT002510217 as figures/myh7_cell_line_browser_ENCODEHT002510217_path.png\n",
      "Saving transcript path graph for ENCODEHT002514292 as figures/myh7_cell_line_browser_ENCODEHT002514292_path.png\n",
      "Generating report for ENSG00000092054.12\n"
     ]
    }
   ],
   "source": [
    "sg.set_metadata_colors('classification', {'cell_line': 'blue', 'tissue': 'pink'})\n",
    "sg.gen_report('MYH7',\n",
    "              prefix='figures/myh7_cell_line',\n",
    "              layer='tpm',\n",
    "              cmap='viridis',\n",
    "              novelty=True,\n",
    "              groupby='biosample',\n",
    "              transcript_name=True,\n",
    "              metadata_cols=['classification', 'biosample'],\n",
    "              browser=True)"
   ]
  },
  {
   "cell_type": "code",
   "execution_count": 141,
   "id": "built-medline",
   "metadata": {},
   "outputs": [
    {
     "data": {
      "text/html": [
       "<div>\n",
       "<style scoped>\n",
       "    .dataframe tbody tr th:only-of-type {\n",
       "        vertical-align: middle;\n",
       "    }\n",
       "\n",
       "    .dataframe tbody tr th {\n",
       "        vertical-align: top;\n",
       "    }\n",
       "\n",
       "    .dataframe thead th {\n",
       "        text-align: right;\n",
       "    }\n",
       "</style>\n",
       "<table border=\"1\" class=\"dataframe\">\n",
       "  <thead>\n",
       "    <tr style=\"text-align: right;\">\n",
       "      <th></th>\n",
       "      <th>dataset</th>\n",
       "      <th>total_counts</th>\n",
       "      <th>biosample</th>\n",
       "      <th>classification</th>\n",
       "      <th>sample</th>\n",
       "    </tr>\n",
       "    <tr>\n",
       "      <th>index</th>\n",
       "      <th></th>\n",
       "      <th></th>\n",
       "      <th></th>\n",
       "      <th></th>\n",
       "      <th></th>\n",
       "    </tr>\n",
       "  </thead>\n",
       "  <tbody>\n",
       "    <tr>\n",
       "      <th>gm12878_1_1</th>\n",
       "      <td>gm12878_1_1</td>\n",
       "      <td>597843.0</td>\n",
       "      <td>gm12878</td>\n",
       "      <td>cell_line</td>\n",
       "      <td>gm12878</td>\n",
       "    </tr>\n",
       "    <tr>\n",
       "      <th>gm12878_1_2</th>\n",
       "      <td>gm12878_1_2</td>\n",
       "      <td>519604.0</td>\n",
       "      <td>gm12878</td>\n",
       "      <td>cell_line</td>\n",
       "      <td>gm12878</td>\n",
       "    </tr>\n",
       "    <tr>\n",
       "      <th>gm12878_1_3</th>\n",
       "      <td>gm12878_1_3</td>\n",
       "      <td>453017.0</td>\n",
       "      <td>gm12878</td>\n",
       "      <td>cell_line</td>\n",
       "      <td>gm12878</td>\n",
       "    </tr>\n",
       "    <tr>\n",
       "      <th>gm12878_1_4</th>\n",
       "      <td>gm12878_1_4</td>\n",
       "      <td>566864.0</td>\n",
       "      <td>gm12878</td>\n",
       "      <td>cell_line</td>\n",
       "      <td>gm12878</td>\n",
       "    </tr>\n",
       "    <tr>\n",
       "      <th>gm12878_3_1</th>\n",
       "      <td>gm12878_3_1</td>\n",
       "      <td>881857.0</td>\n",
       "      <td>gm12878</td>\n",
       "      <td>cell_line</td>\n",
       "      <td>gm12878</td>\n",
       "    </tr>\n",
       "  </tbody>\n",
       "</table>\n",
       "</div>"
      ],
      "text/plain": [
       "                 dataset  total_counts biosample classification   sample\n",
       "index                                                                   \n",
       "gm12878_1_1  gm12878_1_1      597843.0   gm12878      cell_line  gm12878\n",
       "gm12878_1_2  gm12878_1_2      519604.0   gm12878      cell_line  gm12878\n",
       "gm12878_1_3  gm12878_1_3      453017.0   gm12878      cell_line  gm12878\n",
       "gm12878_1_4  gm12878_1_4      566864.0   gm12878      cell_line  gm12878\n",
       "gm12878_3_1  gm12878_3_1      881857.0   gm12878      cell_line  gm12878"
      ]
     },
     "execution_count": 141,
     "metadata": {},
     "output_type": "execute_result"
    }
   ],
   "source": [
    "sg.adata.obs.head()"
   ]
  },
  {
   "cell_type": "markdown",
   "id": "shared-advertiser",
   "metadata": {},
   "source": [
    "# where are the TSSs for Elastin?"
   ]
  },
  {
   "cell_type": "code",
   "execution_count": 15,
   "id": "minus-glenn",
   "metadata": {},
   "outputs": [],
   "source": [
    "df = sg.get_tss_abundance(kind='tpm')\n",
    "df = df.loc[df.gname == 'ELN']"
   ]
  },
  {
   "cell_type": "code",
   "execution_count": 24,
   "id": "dying-kidney",
   "metadata": {},
   "outputs": [
    {
     "data": {
      "text/html": [
       "<div>\n",
       "<style scoped>\n",
       "    .dataframe tbody tr th:only-of-type {\n",
       "        vertical-align: middle;\n",
       "    }\n",
       "\n",
       "    .dataframe tbody tr th {\n",
       "        vertical-align: top;\n",
       "    }\n",
       "\n",
       "    .dataframe thead th {\n",
       "        text-align: right;\n",
       "    }\n",
       "</style>\n",
       "<table border=\"1\" class=\"dataframe\">\n",
       "  <thead>\n",
       "    <tr style=\"text-align: right;\">\n",
       "      <th></th>\n",
       "      <th>tss_id</th>\n",
       "      <th>gid</th>\n",
       "      <th>gname</th>\n",
       "      <th>vertex_id</th>\n",
       "      <th>tss_name</th>\n",
       "      <th>chrom</th>\n",
       "      <th>coord</th>\n",
       "      <th>gm12878_1_1</th>\n",
       "      <th>gm12878_1_2</th>\n",
       "      <th>gm12878_1_3</th>\n",
       "      <th>...</th>\n",
       "      <th>psoas_muscle_1_1</th>\n",
       "      <th>right_cardiac_atrium_1_1</th>\n",
       "      <th>right_cardiac_atrium_3_1</th>\n",
       "      <th>right_cardiac_atrium_4_1</th>\n",
       "      <th>right_cardiac_atrium_2_1</th>\n",
       "      <th>right_lobe_of_liver_1_1</th>\n",
       "      <th>right_lobe_of_liver_2_1</th>\n",
       "      <th>right_ventricle_myocardium_inferior_1_1</th>\n",
       "      <th>right_ventricle_myocardium_superior_1_1</th>\n",
       "      <th>upper_lobe_of_right_lung_1_1</th>\n",
       "    </tr>\n",
       "  </thead>\n",
       "  <tbody>\n",
       "    <tr>\n",
       "      <th>6500</th>\n",
       "      <td>ENSG00000049540.16_1</td>\n",
       "      <td>ENSG00000049540.16</td>\n",
       "      <td>ELN</td>\n",
       "      <td>821937</td>\n",
       "      <td>ELN_1</td>\n",
       "      <td>chr7</td>\n",
       "      <td>74027789</td>\n",
       "      <td>0.0</td>\n",
       "      <td>0.0</td>\n",
       "      <td>0.0</td>\n",
       "      <td>...</td>\n",
       "      <td>11.608784</td>\n",
       "      <td>47.126377</td>\n",
       "      <td>48.933109</td>\n",
       "      <td>39.749577</td>\n",
       "      <td>40.375385</td>\n",
       "      <td>0.0</td>\n",
       "      <td>7.196885</td>\n",
       "      <td>20.005281</td>\n",
       "      <td>13.122725</td>\n",
       "      <td>90.904961</td>\n",
       "    </tr>\n",
       "    <tr>\n",
       "      <th>6501</th>\n",
       "      <td>ENSG00000049540.16_2</td>\n",
       "      <td>ENSG00000049540.16</td>\n",
       "      <td>ELN</td>\n",
       "      <td>821938</td>\n",
       "      <td>ELN_2</td>\n",
       "      <td>chr7</td>\n",
       "      <td>74028101</td>\n",
       "      <td>0.0</td>\n",
       "      <td>0.0</td>\n",
       "      <td>0.0</td>\n",
       "      <td>...</td>\n",
       "      <td>2.902196</td>\n",
       "      <td>19.938084</td>\n",
       "      <td>26.256790</td>\n",
       "      <td>15.899831</td>\n",
       "      <td>12.288161</td>\n",
       "      <td>0.0</td>\n",
       "      <td>4.797924</td>\n",
       "      <td>0.000000</td>\n",
       "      <td>8.201703</td>\n",
       "      <td>28.407799</td>\n",
       "    </tr>\n",
       "    <tr>\n",
       "      <th>6502</th>\n",
       "      <td>ENSG00000049540.16_3</td>\n",
       "      <td>ENSG00000049540.16</td>\n",
       "      <td>ELN</td>\n",
       "      <td>821939</td>\n",
       "      <td>ELN_3</td>\n",
       "      <td>chr7</td>\n",
       "      <td>74028106</td>\n",
       "      <td>0.0</td>\n",
       "      <td>0.0</td>\n",
       "      <td>0.0</td>\n",
       "      <td>...</td>\n",
       "      <td>0.967399</td>\n",
       "      <td>0.000000</td>\n",
       "      <td>1.790236</td>\n",
       "      <td>1.987479</td>\n",
       "      <td>3.510903</td>\n",
       "      <td>0.0</td>\n",
       "      <td>2.398962</td>\n",
       "      <td>2.000528</td>\n",
       "      <td>1.640341</td>\n",
       "      <td>7.954184</td>\n",
       "    </tr>\n",
       "    <tr>\n",
       "      <th>6503</th>\n",
       "      <td>ENSG00000049540.16_4</td>\n",
       "      <td>ENSG00000049540.16</td>\n",
       "      <td>ELN</td>\n",
       "      <td>821940</td>\n",
       "      <td>ELN_4</td>\n",
       "      <td>chr7</td>\n",
       "      <td>74028109</td>\n",
       "      <td>0.0</td>\n",
       "      <td>0.0</td>\n",
       "      <td>0.0</td>\n",
       "      <td>...</td>\n",
       "      <td>0.000000</td>\n",
       "      <td>0.000000</td>\n",
       "      <td>0.596745</td>\n",
       "      <td>1.987479</td>\n",
       "      <td>0.000000</td>\n",
       "      <td>0.0</td>\n",
       "      <td>0.000000</td>\n",
       "      <td>0.000000</td>\n",
       "      <td>0.000000</td>\n",
       "      <td>0.000000</td>\n",
       "    </tr>\n",
       "    <tr>\n",
       "      <th>6504</th>\n",
       "      <td>ENSG00000049540.16_5</td>\n",
       "      <td>ENSG00000049540.16</td>\n",
       "      <td>ELN</td>\n",
       "      <td>821941</td>\n",
       "      <td>ELN_5</td>\n",
       "      <td>chr7</td>\n",
       "      <td>74028114</td>\n",
       "      <td>0.0</td>\n",
       "      <td>0.0</td>\n",
       "      <td>0.0</td>\n",
       "      <td>...</td>\n",
       "      <td>0.967399</td>\n",
       "      <td>0.000000</td>\n",
       "      <td>1.790236</td>\n",
       "      <td>0.000000</td>\n",
       "      <td>0.000000</td>\n",
       "      <td>0.0</td>\n",
       "      <td>0.000000</td>\n",
       "      <td>2.000528</td>\n",
       "      <td>0.000000</td>\n",
       "      <td>3.408936</td>\n",
       "    </tr>\n",
       "    <tr>\n",
       "      <th>6505</th>\n",
       "      <td>ENSG00000049540.16_6</td>\n",
       "      <td>ENSG00000049540.16</td>\n",
       "      <td>ELN</td>\n",
       "      <td>821942</td>\n",
       "      <td>ELN_6</td>\n",
       "      <td>chr7</td>\n",
       "      <td>74028124</td>\n",
       "      <td>0.0</td>\n",
       "      <td>0.0</td>\n",
       "      <td>0.0</td>\n",
       "      <td>...</td>\n",
       "      <td>0.000000</td>\n",
       "      <td>0.000000</td>\n",
       "      <td>1.790236</td>\n",
       "      <td>0.000000</td>\n",
       "      <td>0.000000</td>\n",
       "      <td>0.0</td>\n",
       "      <td>0.000000</td>\n",
       "      <td>0.000000</td>\n",
       "      <td>0.000000</td>\n",
       "      <td>0.000000</td>\n",
       "    </tr>\n",
       "    <tr>\n",
       "      <th>6506</th>\n",
       "      <td>ENSG00000049540.16_7</td>\n",
       "      <td>ENSG00000049540.16</td>\n",
       "      <td>ELN</td>\n",
       "      <td>821943</td>\n",
       "      <td>ELN_7</td>\n",
       "      <td>chr7</td>\n",
       "      <td>74028126</td>\n",
       "      <td>0.0</td>\n",
       "      <td>0.0</td>\n",
       "      <td>0.0</td>\n",
       "      <td>...</td>\n",
       "      <td>0.000000</td>\n",
       "      <td>0.000000</td>\n",
       "      <td>0.596745</td>\n",
       "      <td>1.987479</td>\n",
       "      <td>0.000000</td>\n",
       "      <td>0.0</td>\n",
       "      <td>0.000000</td>\n",
       "      <td>0.000000</td>\n",
       "      <td>0.000000</td>\n",
       "      <td>0.000000</td>\n",
       "    </tr>\n",
       "    <tr>\n",
       "      <th>6507</th>\n",
       "      <td>ENSG00000049540.16_8</td>\n",
       "      <td>ENSG00000049540.16</td>\n",
       "      <td>ELN</td>\n",
       "      <td>821944</td>\n",
       "      <td>ELN_8</td>\n",
       "      <td>chr7</td>\n",
       "      <td>74028129</td>\n",
       "      <td>0.0</td>\n",
       "      <td>0.0</td>\n",
       "      <td>0.0</td>\n",
       "      <td>...</td>\n",
       "      <td>0.000000</td>\n",
       "      <td>0.000000</td>\n",
       "      <td>4.177217</td>\n",
       "      <td>1.987479</td>\n",
       "      <td>0.000000</td>\n",
       "      <td>0.0</td>\n",
       "      <td>0.000000</td>\n",
       "      <td>0.000000</td>\n",
       "      <td>2.460511</td>\n",
       "      <td>0.000000</td>\n",
       "    </tr>\n",
       "    <tr>\n",
       "      <th>6508</th>\n",
       "      <td>ENSG00000049540.16_9</td>\n",
       "      <td>ENSG00000049540.16</td>\n",
       "      <td>ELN</td>\n",
       "      <td>821945</td>\n",
       "      <td>ELN_9</td>\n",
       "      <td>chr7</td>\n",
       "      <td>74028141</td>\n",
       "      <td>0.0</td>\n",
       "      <td>0.0</td>\n",
       "      <td>0.0</td>\n",
       "      <td>...</td>\n",
       "      <td>0.000000</td>\n",
       "      <td>1.812553</td>\n",
       "      <td>0.596745</td>\n",
       "      <td>0.000000</td>\n",
       "      <td>1.755452</td>\n",
       "      <td>0.0</td>\n",
       "      <td>0.000000</td>\n",
       "      <td>0.000000</td>\n",
       "      <td>1.640341</td>\n",
       "      <td>2.272624</td>\n",
       "    </tr>\n",
       "    <tr>\n",
       "      <th>6509</th>\n",
       "      <td>ENSG00000049540.16_10</td>\n",
       "      <td>ENSG00000049540.16</td>\n",
       "      <td>ELN</td>\n",
       "      <td>821946</td>\n",
       "      <td>ELN_10</td>\n",
       "      <td>chr7</td>\n",
       "      <td>74028144</td>\n",
       "      <td>0.0</td>\n",
       "      <td>0.0</td>\n",
       "      <td>0.0</td>\n",
       "      <td>...</td>\n",
       "      <td>0.000000</td>\n",
       "      <td>0.000000</td>\n",
       "      <td>0.000000</td>\n",
       "      <td>0.000000</td>\n",
       "      <td>0.000000</td>\n",
       "      <td>0.0</td>\n",
       "      <td>0.000000</td>\n",
       "      <td>0.000000</td>\n",
       "      <td>0.000000</td>\n",
       "      <td>0.000000</td>\n",
       "    </tr>\n",
       "    <tr>\n",
       "      <th>6510</th>\n",
       "      <td>ENSG00000049540.16_11</td>\n",
       "      <td>ENSG00000049540.16</td>\n",
       "      <td>ELN</td>\n",
       "      <td>821947</td>\n",
       "      <td>ELN_11</td>\n",
       "      <td>chr7</td>\n",
       "      <td>74028157</td>\n",
       "      <td>0.0</td>\n",
       "      <td>0.0</td>\n",
       "      <td>0.0</td>\n",
       "      <td>...</td>\n",
       "      <td>0.967399</td>\n",
       "      <td>1.812553</td>\n",
       "      <td>0.596745</td>\n",
       "      <td>0.993739</td>\n",
       "      <td>0.000000</td>\n",
       "      <td>0.0</td>\n",
       "      <td>0.000000</td>\n",
       "      <td>0.000000</td>\n",
       "      <td>0.820170</td>\n",
       "      <td>1.136312</td>\n",
       "    </tr>\n",
       "    <tr>\n",
       "      <th>6511</th>\n",
       "      <td>ENSG00000049540.16_12</td>\n",
       "      <td>ENSG00000049540.16</td>\n",
       "      <td>ELN</td>\n",
       "      <td>821948</td>\n",
       "      <td>ELN_12</td>\n",
       "      <td>chr7</td>\n",
       "      <td>74028158</td>\n",
       "      <td>0.0</td>\n",
       "      <td>0.0</td>\n",
       "      <td>0.0</td>\n",
       "      <td>...</td>\n",
       "      <td>0.000000</td>\n",
       "      <td>0.000000</td>\n",
       "      <td>0.000000</td>\n",
       "      <td>0.000000</td>\n",
       "      <td>0.000000</td>\n",
       "      <td>0.0</td>\n",
       "      <td>0.000000</td>\n",
       "      <td>0.000000</td>\n",
       "      <td>0.000000</td>\n",
       "      <td>0.000000</td>\n",
       "    </tr>\n",
       "    <tr>\n",
       "      <th>6512</th>\n",
       "      <td>ENSG00000049540.16_13</td>\n",
       "      <td>ENSG00000049540.16</td>\n",
       "      <td>ELN</td>\n",
       "      <td>821949</td>\n",
       "      <td>ELN_13</td>\n",
       "      <td>chr7</td>\n",
       "      <td>74028163</td>\n",
       "      <td>0.0</td>\n",
       "      <td>0.0</td>\n",
       "      <td>0.0</td>\n",
       "      <td>...</td>\n",
       "      <td>0.000000</td>\n",
       "      <td>3.625106</td>\n",
       "      <td>1.790236</td>\n",
       "      <td>0.000000</td>\n",
       "      <td>0.000000</td>\n",
       "      <td>0.0</td>\n",
       "      <td>0.000000</td>\n",
       "      <td>0.000000</td>\n",
       "      <td>0.820170</td>\n",
       "      <td>5.681560</td>\n",
       "    </tr>\n",
       "    <tr>\n",
       "      <th>6513</th>\n",
       "      <td>ENSG00000049540.16_14</td>\n",
       "      <td>ENSG00000049540.16</td>\n",
       "      <td>ELN</td>\n",
       "      <td>821950</td>\n",
       "      <td>ELN_14</td>\n",
       "      <td>chr7</td>\n",
       "      <td>74028170</td>\n",
       "      <td>0.0</td>\n",
       "      <td>0.0</td>\n",
       "      <td>0.0</td>\n",
       "      <td>...</td>\n",
       "      <td>0.000000</td>\n",
       "      <td>1.812553</td>\n",
       "      <td>0.596745</td>\n",
       "      <td>0.000000</td>\n",
       "      <td>1.755452</td>\n",
       "      <td>0.0</td>\n",
       "      <td>0.000000</td>\n",
       "      <td>0.000000</td>\n",
       "      <td>0.000000</td>\n",
       "      <td>0.000000</td>\n",
       "    </tr>\n",
       "    <tr>\n",
       "      <th>6514</th>\n",
       "      <td>ENSG00000049540.16_15</td>\n",
       "      <td>ENSG00000049540.16</td>\n",
       "      <td>ELN</td>\n",
       "      <td>821951</td>\n",
       "      <td>ELN_15</td>\n",
       "      <td>chr7</td>\n",
       "      <td>74028173</td>\n",
       "      <td>0.0</td>\n",
       "      <td>0.0</td>\n",
       "      <td>0.0</td>\n",
       "      <td>...</td>\n",
       "      <td>5.804392</td>\n",
       "      <td>7.250212</td>\n",
       "      <td>23.869810</td>\n",
       "      <td>12.918612</td>\n",
       "      <td>8.777258</td>\n",
       "      <td>0.0</td>\n",
       "      <td>0.000000</td>\n",
       "      <td>8.002112</td>\n",
       "      <td>3.280681</td>\n",
       "      <td>18.180992</td>\n",
       "    </tr>\n",
       "    <tr>\n",
       "      <th>6515</th>\n",
       "      <td>ENSG00000049540.16_16</td>\n",
       "      <td>ENSG00000049540.16</td>\n",
       "      <td>ELN</td>\n",
       "      <td>821952</td>\n",
       "      <td>ELN_16</td>\n",
       "      <td>chr7</td>\n",
       "      <td>74028175</td>\n",
       "      <td>0.0</td>\n",
       "      <td>0.0</td>\n",
       "      <td>0.0</td>\n",
       "      <td>...</td>\n",
       "      <td>1.934797</td>\n",
       "      <td>12.687871</td>\n",
       "      <td>16.112122</td>\n",
       "      <td>6.956176</td>\n",
       "      <td>14.043612</td>\n",
       "      <td>0.0</td>\n",
       "      <td>4.797924</td>\n",
       "      <td>2.000528</td>\n",
       "      <td>1.640341</td>\n",
       "      <td>18.180992</td>\n",
       "    </tr>\n",
       "    <tr>\n",
       "      <th>6516</th>\n",
       "      <td>ENSG00000049540.16_17</td>\n",
       "      <td>ENSG00000049540.16</td>\n",
       "      <td>ELN</td>\n",
       "      <td>821953</td>\n",
       "      <td>ELN_17</td>\n",
       "      <td>chr7</td>\n",
       "      <td>74028176</td>\n",
       "      <td>0.0</td>\n",
       "      <td>0.0</td>\n",
       "      <td>0.0</td>\n",
       "      <td>...</td>\n",
       "      <td>0.000000</td>\n",
       "      <td>0.000000</td>\n",
       "      <td>0.000000</td>\n",
       "      <td>0.000000</td>\n",
       "      <td>0.000000</td>\n",
       "      <td>0.0</td>\n",
       "      <td>0.000000</td>\n",
       "      <td>0.000000</td>\n",
       "      <td>0.000000</td>\n",
       "      <td>0.000000</td>\n",
       "    </tr>\n",
       "    <tr>\n",
       "      <th>6517</th>\n",
       "      <td>ENSG00000049540.16_18</td>\n",
       "      <td>ENSG00000049540.16</td>\n",
       "      <td>ELN</td>\n",
       "      <td>821954</td>\n",
       "      <td>ELN_18</td>\n",
       "      <td>chr7</td>\n",
       "      <td>74028188</td>\n",
       "      <td>0.0</td>\n",
       "      <td>0.0</td>\n",
       "      <td>0.0</td>\n",
       "      <td>...</td>\n",
       "      <td>0.000000</td>\n",
       "      <td>0.000000</td>\n",
       "      <td>0.000000</td>\n",
       "      <td>0.000000</td>\n",
       "      <td>0.000000</td>\n",
       "      <td>0.0</td>\n",
       "      <td>0.000000</td>\n",
       "      <td>0.000000</td>\n",
       "      <td>0.000000</td>\n",
       "      <td>0.000000</td>\n",
       "    </tr>\n",
       "    <tr>\n",
       "      <th>6518</th>\n",
       "      <td>ENSG00000049540.16_19</td>\n",
       "      <td>ENSG00000049540.16</td>\n",
       "      <td>ELN</td>\n",
       "      <td>821967</td>\n",
       "      <td>ELN_19</td>\n",
       "      <td>chr7</td>\n",
       "      <td>74042634</td>\n",
       "      <td>0.0</td>\n",
       "      <td>0.0</td>\n",
       "      <td>0.0</td>\n",
       "      <td>...</td>\n",
       "      <td>0.000000</td>\n",
       "      <td>0.000000</td>\n",
       "      <td>0.000000</td>\n",
       "      <td>0.000000</td>\n",
       "      <td>0.000000</td>\n",
       "      <td>0.0</td>\n",
       "      <td>0.000000</td>\n",
       "      <td>0.000000</td>\n",
       "      <td>0.000000</td>\n",
       "      <td>0.000000</td>\n",
       "    </tr>\n",
       "    <tr>\n",
       "      <th>6519</th>\n",
       "      <td>ENSG00000049540.16_20</td>\n",
       "      <td>ENSG00000049540.16</td>\n",
       "      <td>ELN</td>\n",
       "      <td>821989</td>\n",
       "      <td>ELN_20</td>\n",
       "      <td>chr7</td>\n",
       "      <td>74045763</td>\n",
       "      <td>0.0</td>\n",
       "      <td>0.0</td>\n",
       "      <td>0.0</td>\n",
       "      <td>...</td>\n",
       "      <td>0.000000</td>\n",
       "      <td>0.000000</td>\n",
       "      <td>0.000000</td>\n",
       "      <td>0.000000</td>\n",
       "      <td>0.000000</td>\n",
       "      <td>0.0</td>\n",
       "      <td>0.000000</td>\n",
       "      <td>0.000000</td>\n",
       "      <td>0.000000</td>\n",
       "      <td>0.000000</td>\n",
       "    </tr>\n",
       "    <tr>\n",
       "      <th>6520</th>\n",
       "      <td>ENSG00000049540.16_21</td>\n",
       "      <td>ENSG00000049540.16</td>\n",
       "      <td>ELN</td>\n",
       "      <td>821992</td>\n",
       "      <td>ELN_21</td>\n",
       "      <td>chr7</td>\n",
       "      <td>74046659</td>\n",
       "      <td>0.0</td>\n",
       "      <td>0.0</td>\n",
       "      <td>0.0</td>\n",
       "      <td>...</td>\n",
       "      <td>0.000000</td>\n",
       "      <td>0.000000</td>\n",
       "      <td>0.000000</td>\n",
       "      <td>0.000000</td>\n",
       "      <td>0.000000</td>\n",
       "      <td>0.0</td>\n",
       "      <td>0.000000</td>\n",
       "      <td>0.000000</td>\n",
       "      <td>0.000000</td>\n",
       "      <td>0.000000</td>\n",
       "    </tr>\n",
       "    <tr>\n",
       "      <th>6521</th>\n",
       "      <td>ENSG00000049540.16_22</td>\n",
       "      <td>ENSG00000049540.16</td>\n",
       "      <td>ELN</td>\n",
       "      <td>822009</td>\n",
       "      <td>ELN_22</td>\n",
       "      <td>chr7</td>\n",
       "      <td>74052294</td>\n",
       "      <td>0.0</td>\n",
       "      <td>0.0</td>\n",
       "      <td>0.0</td>\n",
       "      <td>...</td>\n",
       "      <td>0.000000</td>\n",
       "      <td>0.000000</td>\n",
       "      <td>0.000000</td>\n",
       "      <td>0.000000</td>\n",
       "      <td>0.000000</td>\n",
       "      <td>0.0</td>\n",
       "      <td>0.000000</td>\n",
       "      <td>0.000000</td>\n",
       "      <td>0.000000</td>\n",
       "      <td>0.000000</td>\n",
       "    </tr>\n",
       "    <tr>\n",
       "      <th>6522</th>\n",
       "      <td>ENSG00000049540.16_23</td>\n",
       "      <td>ENSG00000049540.16</td>\n",
       "      <td>ELN</td>\n",
       "      <td>822011</td>\n",
       "      <td>ELN_23</td>\n",
       "      <td>chr7</td>\n",
       "      <td>74052851</td>\n",
       "      <td>0.0</td>\n",
       "      <td>0.0</td>\n",
       "      <td>0.0</td>\n",
       "      <td>...</td>\n",
       "      <td>0.000000</td>\n",
       "      <td>0.000000</td>\n",
       "      <td>0.000000</td>\n",
       "      <td>0.000000</td>\n",
       "      <td>0.000000</td>\n",
       "      <td>0.0</td>\n",
       "      <td>0.000000</td>\n",
       "      <td>0.000000</td>\n",
       "      <td>0.000000</td>\n",
       "      <td>0.000000</td>\n",
       "    </tr>\n",
       "  </tbody>\n",
       "</table>\n",
       "<p>23 rows × 97 columns</p>\n",
       "</div>"
      ],
      "text/plain": [
       "                     tss_id                 gid gname  vertex_id tss_name  \\\n",
       "6500   ENSG00000049540.16_1  ENSG00000049540.16   ELN     821937    ELN_1   \n",
       "6501   ENSG00000049540.16_2  ENSG00000049540.16   ELN     821938    ELN_2   \n",
       "6502   ENSG00000049540.16_3  ENSG00000049540.16   ELN     821939    ELN_3   \n",
       "6503   ENSG00000049540.16_4  ENSG00000049540.16   ELN     821940    ELN_4   \n",
       "6504   ENSG00000049540.16_5  ENSG00000049540.16   ELN     821941    ELN_5   \n",
       "6505   ENSG00000049540.16_6  ENSG00000049540.16   ELN     821942    ELN_6   \n",
       "6506   ENSG00000049540.16_7  ENSG00000049540.16   ELN     821943    ELN_7   \n",
       "6507   ENSG00000049540.16_8  ENSG00000049540.16   ELN     821944    ELN_8   \n",
       "6508   ENSG00000049540.16_9  ENSG00000049540.16   ELN     821945    ELN_9   \n",
       "6509  ENSG00000049540.16_10  ENSG00000049540.16   ELN     821946   ELN_10   \n",
       "6510  ENSG00000049540.16_11  ENSG00000049540.16   ELN     821947   ELN_11   \n",
       "6511  ENSG00000049540.16_12  ENSG00000049540.16   ELN     821948   ELN_12   \n",
       "6512  ENSG00000049540.16_13  ENSG00000049540.16   ELN     821949   ELN_13   \n",
       "6513  ENSG00000049540.16_14  ENSG00000049540.16   ELN     821950   ELN_14   \n",
       "6514  ENSG00000049540.16_15  ENSG00000049540.16   ELN     821951   ELN_15   \n",
       "6515  ENSG00000049540.16_16  ENSG00000049540.16   ELN     821952   ELN_16   \n",
       "6516  ENSG00000049540.16_17  ENSG00000049540.16   ELN     821953   ELN_17   \n",
       "6517  ENSG00000049540.16_18  ENSG00000049540.16   ELN     821954   ELN_18   \n",
       "6518  ENSG00000049540.16_19  ENSG00000049540.16   ELN     821967   ELN_19   \n",
       "6519  ENSG00000049540.16_20  ENSG00000049540.16   ELN     821989   ELN_20   \n",
       "6520  ENSG00000049540.16_21  ENSG00000049540.16   ELN     821992   ELN_21   \n",
       "6521  ENSG00000049540.16_22  ENSG00000049540.16   ELN     822009   ELN_22   \n",
       "6522  ENSG00000049540.16_23  ENSG00000049540.16   ELN     822011   ELN_23   \n",
       "\n",
       "     chrom     coord  gm12878_1_1  gm12878_1_2  gm12878_1_3  ...  \\\n",
       "6500  chr7  74027789          0.0          0.0          0.0  ...   \n",
       "6501  chr7  74028101          0.0          0.0          0.0  ...   \n",
       "6502  chr7  74028106          0.0          0.0          0.0  ...   \n",
       "6503  chr7  74028109          0.0          0.0          0.0  ...   \n",
       "6504  chr7  74028114          0.0          0.0          0.0  ...   \n",
       "6505  chr7  74028124          0.0          0.0          0.0  ...   \n",
       "6506  chr7  74028126          0.0          0.0          0.0  ...   \n",
       "6507  chr7  74028129          0.0          0.0          0.0  ...   \n",
       "6508  chr7  74028141          0.0          0.0          0.0  ...   \n",
       "6509  chr7  74028144          0.0          0.0          0.0  ...   \n",
       "6510  chr7  74028157          0.0          0.0          0.0  ...   \n",
       "6511  chr7  74028158          0.0          0.0          0.0  ...   \n",
       "6512  chr7  74028163          0.0          0.0          0.0  ...   \n",
       "6513  chr7  74028170          0.0          0.0          0.0  ...   \n",
       "6514  chr7  74028173          0.0          0.0          0.0  ...   \n",
       "6515  chr7  74028175          0.0          0.0          0.0  ...   \n",
       "6516  chr7  74028176          0.0          0.0          0.0  ...   \n",
       "6517  chr7  74028188          0.0          0.0          0.0  ...   \n",
       "6518  chr7  74042634          0.0          0.0          0.0  ...   \n",
       "6519  chr7  74045763          0.0          0.0          0.0  ...   \n",
       "6520  chr7  74046659          0.0          0.0          0.0  ...   \n",
       "6521  chr7  74052294          0.0          0.0          0.0  ...   \n",
       "6522  chr7  74052851          0.0          0.0          0.0  ...   \n",
       "\n",
       "      psoas_muscle_1_1  right_cardiac_atrium_1_1  right_cardiac_atrium_3_1  \\\n",
       "6500         11.608784                 47.126377                 48.933109   \n",
       "6501          2.902196                 19.938084                 26.256790   \n",
       "6502          0.967399                  0.000000                  1.790236   \n",
       "6503          0.000000                  0.000000                  0.596745   \n",
       "6504          0.967399                  0.000000                  1.790236   \n",
       "6505          0.000000                  0.000000                  1.790236   \n",
       "6506          0.000000                  0.000000                  0.596745   \n",
       "6507          0.000000                  0.000000                  4.177217   \n",
       "6508          0.000000                  1.812553                  0.596745   \n",
       "6509          0.000000                  0.000000                  0.000000   \n",
       "6510          0.967399                  1.812553                  0.596745   \n",
       "6511          0.000000                  0.000000                  0.000000   \n",
       "6512          0.000000                  3.625106                  1.790236   \n",
       "6513          0.000000                  1.812553                  0.596745   \n",
       "6514          5.804392                  7.250212                 23.869810   \n",
       "6515          1.934797                 12.687871                 16.112122   \n",
       "6516          0.000000                  0.000000                  0.000000   \n",
       "6517          0.000000                  0.000000                  0.000000   \n",
       "6518          0.000000                  0.000000                  0.000000   \n",
       "6519          0.000000                  0.000000                  0.000000   \n",
       "6520          0.000000                  0.000000                  0.000000   \n",
       "6521          0.000000                  0.000000                  0.000000   \n",
       "6522          0.000000                  0.000000                  0.000000   \n",
       "\n",
       "      right_cardiac_atrium_4_1  right_cardiac_atrium_2_1  \\\n",
       "6500                 39.749577                 40.375385   \n",
       "6501                 15.899831                 12.288161   \n",
       "6502                  1.987479                  3.510903   \n",
       "6503                  1.987479                  0.000000   \n",
       "6504                  0.000000                  0.000000   \n",
       "6505                  0.000000                  0.000000   \n",
       "6506                  1.987479                  0.000000   \n",
       "6507                  1.987479                  0.000000   \n",
       "6508                  0.000000                  1.755452   \n",
       "6509                  0.000000                  0.000000   \n",
       "6510                  0.993739                  0.000000   \n",
       "6511                  0.000000                  0.000000   \n",
       "6512                  0.000000                  0.000000   \n",
       "6513                  0.000000                  1.755452   \n",
       "6514                 12.918612                  8.777258   \n",
       "6515                  6.956176                 14.043612   \n",
       "6516                  0.000000                  0.000000   \n",
       "6517                  0.000000                  0.000000   \n",
       "6518                  0.000000                  0.000000   \n",
       "6519                  0.000000                  0.000000   \n",
       "6520                  0.000000                  0.000000   \n",
       "6521                  0.000000                  0.000000   \n",
       "6522                  0.000000                  0.000000   \n",
       "\n",
       "      right_lobe_of_liver_1_1  right_lobe_of_liver_2_1  \\\n",
       "6500                      0.0                 7.196885   \n",
       "6501                      0.0                 4.797924   \n",
       "6502                      0.0                 2.398962   \n",
       "6503                      0.0                 0.000000   \n",
       "6504                      0.0                 0.000000   \n",
       "6505                      0.0                 0.000000   \n",
       "6506                      0.0                 0.000000   \n",
       "6507                      0.0                 0.000000   \n",
       "6508                      0.0                 0.000000   \n",
       "6509                      0.0                 0.000000   \n",
       "6510                      0.0                 0.000000   \n",
       "6511                      0.0                 0.000000   \n",
       "6512                      0.0                 0.000000   \n",
       "6513                      0.0                 0.000000   \n",
       "6514                      0.0                 0.000000   \n",
       "6515                      0.0                 4.797924   \n",
       "6516                      0.0                 0.000000   \n",
       "6517                      0.0                 0.000000   \n",
       "6518                      0.0                 0.000000   \n",
       "6519                      0.0                 0.000000   \n",
       "6520                      0.0                 0.000000   \n",
       "6521                      0.0                 0.000000   \n",
       "6522                      0.0                 0.000000   \n",
       "\n",
       "      right_ventricle_myocardium_inferior_1_1  \\\n",
       "6500                                20.005281   \n",
       "6501                                 0.000000   \n",
       "6502                                 2.000528   \n",
       "6503                                 0.000000   \n",
       "6504                                 2.000528   \n",
       "6505                                 0.000000   \n",
       "6506                                 0.000000   \n",
       "6507                                 0.000000   \n",
       "6508                                 0.000000   \n",
       "6509                                 0.000000   \n",
       "6510                                 0.000000   \n",
       "6511                                 0.000000   \n",
       "6512                                 0.000000   \n",
       "6513                                 0.000000   \n",
       "6514                                 8.002112   \n",
       "6515                                 2.000528   \n",
       "6516                                 0.000000   \n",
       "6517                                 0.000000   \n",
       "6518                                 0.000000   \n",
       "6519                                 0.000000   \n",
       "6520                                 0.000000   \n",
       "6521                                 0.000000   \n",
       "6522                                 0.000000   \n",
       "\n",
       "      right_ventricle_myocardium_superior_1_1  upper_lobe_of_right_lung_1_1  \n",
       "6500                                13.122725                     90.904961  \n",
       "6501                                 8.201703                     28.407799  \n",
       "6502                                 1.640341                      7.954184  \n",
       "6503                                 0.000000                      0.000000  \n",
       "6504                                 0.000000                      3.408936  \n",
       "6505                                 0.000000                      0.000000  \n",
       "6506                                 0.000000                      0.000000  \n",
       "6507                                 2.460511                      0.000000  \n",
       "6508                                 1.640341                      2.272624  \n",
       "6509                                 0.000000                      0.000000  \n",
       "6510                                 0.820170                      1.136312  \n",
       "6511                                 0.000000                      0.000000  \n",
       "6512                                 0.820170                      5.681560  \n",
       "6513                                 0.000000                      0.000000  \n",
       "6514                                 3.280681                     18.180992  \n",
       "6515                                 1.640341                     18.180992  \n",
       "6516                                 0.000000                      0.000000  \n",
       "6517                                 0.000000                      0.000000  \n",
       "6518                                 0.000000                      0.000000  \n",
       "6519                                 0.000000                      0.000000  \n",
       "6520                                 0.000000                      0.000000  \n",
       "6521                                 0.000000                      0.000000  \n",
       "6522                                 0.000000                      0.000000  \n",
       "\n",
       "[23 rows x 97 columns]"
      ]
     },
     "execution_count": 24,
     "metadata": {},
     "output_type": "execute_result"
    }
   ],
   "source": [
    "df"
   ]
  },
  {
   "cell_type": "code",
   "execution_count": 19,
   "id": "sharing-process",
   "metadata": {},
   "outputs": [
    {
     "data": {
      "text/plain": [
       "25062"
      ]
     },
     "execution_count": 19,
     "metadata": {},
     "output_type": "execute_result"
    }
   ],
   "source": [
    "df.coord.max()-df.coord.min()"
   ]
  },
  {
   "cell_type": "code",
   "execution_count": 21,
   "id": "finite-customs",
   "metadata": {},
   "outputs": [
    {
     "data": {
      "text/plain": [
       "74052851"
      ]
     },
     "execution_count": 21,
     "metadata": {},
     "output_type": "execute_result"
    }
   ],
   "source": [
    "df.coord.max()"
   ]
  },
  {
   "cell_type": "code",
   "execution_count": 22,
   "id": "brazilian-prize",
   "metadata": {},
   "outputs": [
    {
     "data": {
      "text/plain": [
       "74027789"
      ]
     },
     "execution_count": 22,
     "metadata": {},
     "output_type": "execute_result"
    }
   ],
   "source": [
    "df.coord.min()"
   ]
  },
  {
   "cell_type": "code",
   "execution_count": 26,
   "id": "prostate-aquarium",
   "metadata": {},
   "outputs": [
    {
     "data": {
      "text/html": [
       "<div>\n",
       "<style scoped>\n",
       "    .dataframe tbody tr th:only-of-type {\n",
       "        vertical-align: middle;\n",
       "    }\n",
       "\n",
       "    .dataframe tbody tr th {\n",
       "        vertical-align: top;\n",
       "    }\n",
       "\n",
       "    .dataframe thead th {\n",
       "        text-align: right;\n",
       "    }\n",
       "</style>\n",
       "<table border=\"1\" class=\"dataframe\">\n",
       "  <thead>\n",
       "    <tr style=\"text-align: right;\">\n",
       "      <th></th>\n",
       "      <th>tname</th>\n",
       "      <th>loc_path</th>\n",
       "    </tr>\n",
       "    <tr>\n",
       "      <th>tid</th>\n",
       "      <th></th>\n",
       "      <th></th>\n",
       "    </tr>\n",
       "  </thead>\n",
       "  <tbody>\n",
       "    <tr>\n",
       "      <th>ENCODEHT001481409</th>\n",
       "      <td>ENCODEHT001481409</td>\n",
       "      <td>[821951, 821955, 821956, 821957, 821959, 82196...</td>\n",
       "    </tr>\n",
       "    <tr>\n",
       "      <th>ENST00000380576.9</th>\n",
       "      <td>ELN-209</td>\n",
       "      <td>[821952, 821955, 821956, 821957, 821959, 82196...</td>\n",
       "    </tr>\n",
       "  </tbody>\n",
       "</table>\n",
       "</div>"
      ],
      "text/plain": [
       "                               tname  \\\n",
       "tid                                    \n",
       "ENCODEHT001481409  ENCODEHT001481409   \n",
       "ENST00000380576.9            ELN-209   \n",
       "\n",
       "                                                            loc_path  \n",
       "tid                                                                   \n",
       "ENCODEHT001481409  [821951, 821955, 821956, 821957, 821959, 82196...  \n",
       "ENST00000380576.9  [821952, 821955, 821956, 821957, 821959, 82196...  "
      ]
     },
     "execution_count": 26,
     "metadata": {},
     "output_type": "execute_result"
    }
   ],
   "source": [
    "tids = ['ENCODEHT001481409', 'ELN-209']\n",
    "\n",
    "sg.t_df.loc[sg.t_df.tname.isin(tids), ['tname', 'loc_path']]"
   ]
  },
  {
   "cell_type": "code",
   "execution_count": 27,
   "id": "atmospheric-departure",
   "metadata": {},
   "outputs": [],
   "source": [
    "beep = sg.t_df.loc[sg.t_df.gname == 'ELN']"
   ]
  },
  {
   "cell_type": "code",
   "execution_count": 33,
   "id": "outstanding-burlington",
   "metadata": {},
   "outputs": [],
   "source": [
    "beep['tss'] = beep.apply(lambda x: x.loc_path[0], axis=1)\n",
    "beep = beep.merge(df[['vertex_id', 'coord']], how='left', left_on='tss', right_on='vertex_id')"
   ]
  },
  {
   "cell_type": "code",
   "execution_count": 36,
   "id": "typical-people",
   "metadata": {},
   "outputs": [
    {
     "data": {
      "text/html": [
       "<div>\n",
       "<style scoped>\n",
       "    .dataframe tbody tr th:only-of-type {\n",
       "        vertical-align: middle;\n",
       "    }\n",
       "\n",
       "    .dataframe tbody tr th {\n",
       "        vertical-align: top;\n",
       "    }\n",
       "\n",
       "    .dataframe thead th {\n",
       "        text-align: right;\n",
       "    }\n",
       "</style>\n",
       "<table border=\"1\" class=\"dataframe\">\n",
       "  <thead>\n",
       "    <tr style=\"text-align: right;\">\n",
       "      <th></th>\n",
       "      <th>tname</th>\n",
       "      <th>gid</th>\n",
       "      <th>gname</th>\n",
       "      <th>path</th>\n",
       "      <th>tid</th>\n",
       "      <th>loc_path</th>\n",
       "      <th>annotation</th>\n",
       "      <th>novelty</th>\n",
       "      <th>tss</th>\n",
       "      <th>vertex_id</th>\n",
       "      <th>coord</th>\n",
       "    </tr>\n",
       "  </thead>\n",
       "  <tbody>\n",
       "    <tr>\n",
       "      <th>147</th>\n",
       "      <td>ELN-224</td>\n",
       "      <td>ENSG00000049540.16</td>\n",
       "      <td>ELN</td>\n",
       "      <td>[360442, 360443, 360344, 360345, 360346, 36034...</td>\n",
       "      <td>ENST00000466878.5</td>\n",
       "      <td>[822009, 822010, 822012, 822015, 822016, 82201...</td>\n",
       "      <td>True</td>\n",
       "      <td>Known</td>\n",
       "      <td>822009</td>\n",
       "      <td>822009</td>\n",
       "      <td>74052294</td>\n",
       "    </tr>\n",
       "  </tbody>\n",
       "</table>\n",
       "</div>"
      ],
      "text/plain": [
       "       tname                 gid gname  \\\n",
       "147  ELN-224  ENSG00000049540.16   ELN   \n",
       "\n",
       "                                                  path                tid  \\\n",
       "147  [360442, 360443, 360344, 360345, 360346, 36034...  ENST00000466878.5   \n",
       "\n",
       "                                              loc_path  annotation novelty  \\\n",
       "147  [822009, 822010, 822012, 822015, 822016, 82201...        True   Known   \n",
       "\n",
       "        tss  vertex_id     coord  \n",
       "147  822009     822009  74052294  "
      ]
     },
     "execution_count": 36,
     "metadata": {},
     "output_type": "execute_result"
    }
   ],
   "source": [
    "beep.loc[beep.tss == 822009]"
   ]
  },
  {
   "cell_type": "code",
   "execution_count": 43,
   "id": "nasty-agency",
   "metadata": {},
   "outputs": [
    {
     "data": {
      "text/html": [
       "<div>\n",
       "<style scoped>\n",
       "    .dataframe tbody tr th:only-of-type {\n",
       "        vertical-align: middle;\n",
       "    }\n",
       "\n",
       "    .dataframe tbody tr th {\n",
       "        vertical-align: top;\n",
       "    }\n",
       "\n",
       "    .dataframe thead th {\n",
       "        text-align: right;\n",
       "    }\n",
       "</style>\n",
       "<table border=\"1\" class=\"dataframe\">\n",
       "  <thead>\n",
       "    <tr style=\"text-align: right;\">\n",
       "      <th></th>\n",
       "      <th>tss_id</th>\n",
       "      <th>gid</th>\n",
       "      <th>gname</th>\n",
       "      <th>vertex_id</th>\n",
       "      <th>tss_name</th>\n",
       "      <th>chrom</th>\n",
       "      <th>coord</th>\n",
       "      <th>gm12878_1_1</th>\n",
       "      <th>gm12878_1_2</th>\n",
       "      <th>gm12878_1_3</th>\n",
       "      <th>...</th>\n",
       "      <th>psoas_muscle_1_1</th>\n",
       "      <th>right_cardiac_atrium_1_1</th>\n",
       "      <th>right_cardiac_atrium_3_1</th>\n",
       "      <th>right_cardiac_atrium_4_1</th>\n",
       "      <th>right_cardiac_atrium_2_1</th>\n",
       "      <th>right_lobe_of_liver_1_1</th>\n",
       "      <th>right_lobe_of_liver_2_1</th>\n",
       "      <th>right_ventricle_myocardium_inferior_1_1</th>\n",
       "      <th>right_ventricle_myocardium_superior_1_1</th>\n",
       "      <th>upper_lobe_of_right_lung_1_1</th>\n",
       "    </tr>\n",
       "  </thead>\n",
       "  <tbody>\n",
       "    <tr>\n",
       "      <th>6500</th>\n",
       "      <td>ENSG00000049540.16_1</td>\n",
       "      <td>ENSG00000049540.16</td>\n",
       "      <td>ELN</td>\n",
       "      <td>821937</td>\n",
       "      <td>ELN_1</td>\n",
       "      <td>chr7</td>\n",
       "      <td>74027789</td>\n",
       "      <td>0.0</td>\n",
       "      <td>0.0</td>\n",
       "      <td>0.0</td>\n",
       "      <td>...</td>\n",
       "      <td>11.608784</td>\n",
       "      <td>47.126377</td>\n",
       "      <td>48.933109</td>\n",
       "      <td>39.749577</td>\n",
       "      <td>40.375385</td>\n",
       "      <td>0.0</td>\n",
       "      <td>7.196885</td>\n",
       "      <td>20.005281</td>\n",
       "      <td>13.122725</td>\n",
       "      <td>90.904961</td>\n",
       "    </tr>\n",
       "    <tr>\n",
       "      <th>6501</th>\n",
       "      <td>ENSG00000049540.16_2</td>\n",
       "      <td>ENSG00000049540.16</td>\n",
       "      <td>ELN</td>\n",
       "      <td>821938</td>\n",
       "      <td>ELN_2</td>\n",
       "      <td>chr7</td>\n",
       "      <td>74028101</td>\n",
       "      <td>0.0</td>\n",
       "      <td>0.0</td>\n",
       "      <td>0.0</td>\n",
       "      <td>...</td>\n",
       "      <td>2.902196</td>\n",
       "      <td>19.938084</td>\n",
       "      <td>26.256790</td>\n",
       "      <td>15.899831</td>\n",
       "      <td>12.288161</td>\n",
       "      <td>0.0</td>\n",
       "      <td>4.797924</td>\n",
       "      <td>0.000000</td>\n",
       "      <td>8.201703</td>\n",
       "      <td>28.407799</td>\n",
       "    </tr>\n",
       "    <tr>\n",
       "      <th>6502</th>\n",
       "      <td>ENSG00000049540.16_3</td>\n",
       "      <td>ENSG00000049540.16</td>\n",
       "      <td>ELN</td>\n",
       "      <td>821939</td>\n",
       "      <td>ELN_3</td>\n",
       "      <td>chr7</td>\n",
       "      <td>74028106</td>\n",
       "      <td>0.0</td>\n",
       "      <td>0.0</td>\n",
       "      <td>0.0</td>\n",
       "      <td>...</td>\n",
       "      <td>0.967399</td>\n",
       "      <td>0.000000</td>\n",
       "      <td>1.790236</td>\n",
       "      <td>1.987479</td>\n",
       "      <td>3.510903</td>\n",
       "      <td>0.0</td>\n",
       "      <td>2.398962</td>\n",
       "      <td>2.000528</td>\n",
       "      <td>1.640341</td>\n",
       "      <td>7.954184</td>\n",
       "    </tr>\n",
       "    <tr>\n",
       "      <th>6503</th>\n",
       "      <td>ENSG00000049540.16_4</td>\n",
       "      <td>ENSG00000049540.16</td>\n",
       "      <td>ELN</td>\n",
       "      <td>821940</td>\n",
       "      <td>ELN_4</td>\n",
       "      <td>chr7</td>\n",
       "      <td>74028109</td>\n",
       "      <td>0.0</td>\n",
       "      <td>0.0</td>\n",
       "      <td>0.0</td>\n",
       "      <td>...</td>\n",
       "      <td>0.000000</td>\n",
       "      <td>0.000000</td>\n",
       "      <td>0.596745</td>\n",
       "      <td>1.987479</td>\n",
       "      <td>0.000000</td>\n",
       "      <td>0.0</td>\n",
       "      <td>0.000000</td>\n",
       "      <td>0.000000</td>\n",
       "      <td>0.000000</td>\n",
       "      <td>0.000000</td>\n",
       "    </tr>\n",
       "    <tr>\n",
       "      <th>6504</th>\n",
       "      <td>ENSG00000049540.16_5</td>\n",
       "      <td>ENSG00000049540.16</td>\n",
       "      <td>ELN</td>\n",
       "      <td>821941</td>\n",
       "      <td>ELN_5</td>\n",
       "      <td>chr7</td>\n",
       "      <td>74028114</td>\n",
       "      <td>0.0</td>\n",
       "      <td>0.0</td>\n",
       "      <td>0.0</td>\n",
       "      <td>...</td>\n",
       "      <td>0.967399</td>\n",
       "      <td>0.000000</td>\n",
       "      <td>1.790236</td>\n",
       "      <td>0.000000</td>\n",
       "      <td>0.000000</td>\n",
       "      <td>0.0</td>\n",
       "      <td>0.000000</td>\n",
       "      <td>2.000528</td>\n",
       "      <td>0.000000</td>\n",
       "      <td>3.408936</td>\n",
       "    </tr>\n",
       "  </tbody>\n",
       "</table>\n",
       "<p>5 rows × 97 columns</p>\n",
       "</div>"
      ],
      "text/plain": [
       "                    tss_id                 gid gname  vertex_id tss_name  \\\n",
       "6500  ENSG00000049540.16_1  ENSG00000049540.16   ELN     821937    ELN_1   \n",
       "6501  ENSG00000049540.16_2  ENSG00000049540.16   ELN     821938    ELN_2   \n",
       "6502  ENSG00000049540.16_3  ENSG00000049540.16   ELN     821939    ELN_3   \n",
       "6503  ENSG00000049540.16_4  ENSG00000049540.16   ELN     821940    ELN_4   \n",
       "6504  ENSG00000049540.16_5  ENSG00000049540.16   ELN     821941    ELN_5   \n",
       "\n",
       "     chrom     coord  gm12878_1_1  gm12878_1_2  gm12878_1_3  ...  \\\n",
       "6500  chr7  74027789          0.0          0.0          0.0  ...   \n",
       "6501  chr7  74028101          0.0          0.0          0.0  ...   \n",
       "6502  chr7  74028106          0.0          0.0          0.0  ...   \n",
       "6503  chr7  74028109          0.0          0.0          0.0  ...   \n",
       "6504  chr7  74028114          0.0          0.0          0.0  ...   \n",
       "\n",
       "      psoas_muscle_1_1  right_cardiac_atrium_1_1  right_cardiac_atrium_3_1  \\\n",
       "6500         11.608784                 47.126377                 48.933109   \n",
       "6501          2.902196                 19.938084                 26.256790   \n",
       "6502          0.967399                  0.000000                  1.790236   \n",
       "6503          0.000000                  0.000000                  0.596745   \n",
       "6504          0.967399                  0.000000                  1.790236   \n",
       "\n",
       "      right_cardiac_atrium_4_1  right_cardiac_atrium_2_1  \\\n",
       "6500                 39.749577                 40.375385   \n",
       "6501                 15.899831                 12.288161   \n",
       "6502                  1.987479                  3.510903   \n",
       "6503                  1.987479                  0.000000   \n",
       "6504                  0.000000                  0.000000   \n",
       "\n",
       "      right_lobe_of_liver_1_1  right_lobe_of_liver_2_1  \\\n",
       "6500                      0.0                 7.196885   \n",
       "6501                      0.0                 4.797924   \n",
       "6502                      0.0                 2.398962   \n",
       "6503                      0.0                 0.000000   \n",
       "6504                      0.0                 0.000000   \n",
       "\n",
       "      right_ventricle_myocardium_inferior_1_1  \\\n",
       "6500                                20.005281   \n",
       "6501                                 0.000000   \n",
       "6502                                 2.000528   \n",
       "6503                                 0.000000   \n",
       "6504                                 2.000528   \n",
       "\n",
       "      right_ventricle_myocardium_superior_1_1  upper_lobe_of_right_lung_1_1  \n",
       "6500                                13.122725                     90.904961  \n",
       "6501                                 8.201703                     28.407799  \n",
       "6502                                 1.640341                      7.954184  \n",
       "6503                                 0.000000                      0.000000  \n",
       "6504                                 0.000000                      3.408936  \n",
       "\n",
       "[5 rows x 97 columns]"
      ]
     },
     "execution_count": 43,
     "metadata": {},
     "output_type": "execute_result"
    }
   ],
   "source": [
    "df.head()"
   ]
  },
  {
   "cell_type": "code",
   "execution_count": 48,
   "id": "leading-values",
   "metadata": {},
   "outputs": [
    {
     "name": "stdout",
     "output_type": "stream",
     "text": [
      "6521    0.0\n",
      "dtype: float32\n",
      "6522    0.0\n",
      "dtype: float32\n",
      "6518    0.0\n",
      "dtype: float32\n",
      "6520    7.299387\n",
      "dtype: float32\n",
      "6519    0.0\n",
      "dtype: float32\n"
     ]
    }
   ],
   "source": [
    "# are the isoforms with the super far away tsss even expresed?\n",
    "far_tss = [822009, 822011, 821967, 821992, 821989]\n",
    "for tss in far_tss:\n",
    "    print(df.loc[df.vertex_id == tss, sg.datasets].sum(axis=1))"
   ]
  },
  {
   "cell_type": "code",
   "execution_count": 47,
   "id": "guided-petroleum",
   "metadata": {},
   "outputs": [
    {
     "data": {
      "text/html": [
       "<div>\n",
       "<style scoped>\n",
       "    .dataframe tbody tr th:only-of-type {\n",
       "        vertical-align: middle;\n",
       "    }\n",
       "\n",
       "    .dataframe tbody tr th {\n",
       "        vertical-align: top;\n",
       "    }\n",
       "\n",
       "    .dataframe thead th {\n",
       "        text-align: right;\n",
       "    }\n",
       "</style>\n",
       "<table border=\"1\" class=\"dataframe\">\n",
       "  <thead>\n",
       "    <tr style=\"text-align: right;\">\n",
       "      <th></th>\n",
       "      <th>tss_id</th>\n",
       "      <th>gid</th>\n",
       "      <th>gname</th>\n",
       "      <th>vertex_id</th>\n",
       "      <th>tss_name</th>\n",
       "      <th>chrom</th>\n",
       "      <th>coord</th>\n",
       "      <th>gm12878_1_1</th>\n",
       "      <th>gm12878_1_2</th>\n",
       "      <th>gm12878_1_3</th>\n",
       "      <th>...</th>\n",
       "      <th>psoas_muscle_1_1</th>\n",
       "      <th>right_cardiac_atrium_1_1</th>\n",
       "      <th>right_cardiac_atrium_3_1</th>\n",
       "      <th>right_cardiac_atrium_4_1</th>\n",
       "      <th>right_cardiac_atrium_2_1</th>\n",
       "      <th>right_lobe_of_liver_1_1</th>\n",
       "      <th>right_lobe_of_liver_2_1</th>\n",
       "      <th>right_ventricle_myocardium_inferior_1_1</th>\n",
       "      <th>right_ventricle_myocardium_superior_1_1</th>\n",
       "      <th>upper_lobe_of_right_lung_1_1</th>\n",
       "    </tr>\n",
       "  </thead>\n",
       "  <tbody>\n",
       "    <tr>\n",
       "      <th>6500</th>\n",
       "      <td>ENSG00000049540.16_1</td>\n",
       "      <td>ENSG00000049540.16</td>\n",
       "      <td>ELN</td>\n",
       "      <td>821937</td>\n",
       "      <td>ELN_1</td>\n",
       "      <td>chr7</td>\n",
       "      <td>74027789</td>\n",
       "      <td>0.0</td>\n",
       "      <td>0.0</td>\n",
       "      <td>0.0</td>\n",
       "      <td>...</td>\n",
       "      <td>11.608784</td>\n",
       "      <td>47.126377</td>\n",
       "      <td>48.933109</td>\n",
       "      <td>39.749577</td>\n",
       "      <td>40.375385</td>\n",
       "      <td>0.0</td>\n",
       "      <td>7.196885</td>\n",
       "      <td>20.005281</td>\n",
       "      <td>13.122725</td>\n",
       "      <td>90.904961</td>\n",
       "    </tr>\n",
       "    <tr>\n",
       "      <th>6501</th>\n",
       "      <td>ENSG00000049540.16_2</td>\n",
       "      <td>ENSG00000049540.16</td>\n",
       "      <td>ELN</td>\n",
       "      <td>821938</td>\n",
       "      <td>ELN_2</td>\n",
       "      <td>chr7</td>\n",
       "      <td>74028101</td>\n",
       "      <td>0.0</td>\n",
       "      <td>0.0</td>\n",
       "      <td>0.0</td>\n",
       "      <td>...</td>\n",
       "      <td>2.902196</td>\n",
       "      <td>19.938084</td>\n",
       "      <td>26.256790</td>\n",
       "      <td>15.899831</td>\n",
       "      <td>12.288161</td>\n",
       "      <td>0.0</td>\n",
       "      <td>4.797924</td>\n",
       "      <td>0.000000</td>\n",
       "      <td>8.201703</td>\n",
       "      <td>28.407799</td>\n",
       "    </tr>\n",
       "    <tr>\n",
       "      <th>6502</th>\n",
       "      <td>ENSG00000049540.16_3</td>\n",
       "      <td>ENSG00000049540.16</td>\n",
       "      <td>ELN</td>\n",
       "      <td>821939</td>\n",
       "      <td>ELN_3</td>\n",
       "      <td>chr7</td>\n",
       "      <td>74028106</td>\n",
       "      <td>0.0</td>\n",
       "      <td>0.0</td>\n",
       "      <td>0.0</td>\n",
       "      <td>...</td>\n",
       "      <td>0.967399</td>\n",
       "      <td>0.000000</td>\n",
       "      <td>1.790236</td>\n",
       "      <td>1.987479</td>\n",
       "      <td>3.510903</td>\n",
       "      <td>0.0</td>\n",
       "      <td>2.398962</td>\n",
       "      <td>2.000528</td>\n",
       "      <td>1.640341</td>\n",
       "      <td>7.954184</td>\n",
       "    </tr>\n",
       "    <tr>\n",
       "      <th>6503</th>\n",
       "      <td>ENSG00000049540.16_4</td>\n",
       "      <td>ENSG00000049540.16</td>\n",
       "      <td>ELN</td>\n",
       "      <td>821940</td>\n",
       "      <td>ELN_4</td>\n",
       "      <td>chr7</td>\n",
       "      <td>74028109</td>\n",
       "      <td>0.0</td>\n",
       "      <td>0.0</td>\n",
       "      <td>0.0</td>\n",
       "      <td>...</td>\n",
       "      <td>0.000000</td>\n",
       "      <td>0.000000</td>\n",
       "      <td>0.596745</td>\n",
       "      <td>1.987479</td>\n",
       "      <td>0.000000</td>\n",
       "      <td>0.0</td>\n",
       "      <td>0.000000</td>\n",
       "      <td>0.000000</td>\n",
       "      <td>0.000000</td>\n",
       "      <td>0.000000</td>\n",
       "    </tr>\n",
       "    <tr>\n",
       "      <th>6504</th>\n",
       "      <td>ENSG00000049540.16_5</td>\n",
       "      <td>ENSG00000049540.16</td>\n",
       "      <td>ELN</td>\n",
       "      <td>821941</td>\n",
       "      <td>ELN_5</td>\n",
       "      <td>chr7</td>\n",
       "      <td>74028114</td>\n",
       "      <td>0.0</td>\n",
       "      <td>0.0</td>\n",
       "      <td>0.0</td>\n",
       "      <td>...</td>\n",
       "      <td>0.967399</td>\n",
       "      <td>0.000000</td>\n",
       "      <td>1.790236</td>\n",
       "      <td>0.000000</td>\n",
       "      <td>0.000000</td>\n",
       "      <td>0.0</td>\n",
       "      <td>0.000000</td>\n",
       "      <td>2.000528</td>\n",
       "      <td>0.000000</td>\n",
       "      <td>3.408936</td>\n",
       "    </tr>\n",
       "    <tr>\n",
       "      <th>6505</th>\n",
       "      <td>ENSG00000049540.16_6</td>\n",
       "      <td>ENSG00000049540.16</td>\n",
       "      <td>ELN</td>\n",
       "      <td>821942</td>\n",
       "      <td>ELN_6</td>\n",
       "      <td>chr7</td>\n",
       "      <td>74028124</td>\n",
       "      <td>0.0</td>\n",
       "      <td>0.0</td>\n",
       "      <td>0.0</td>\n",
       "      <td>...</td>\n",
       "      <td>0.000000</td>\n",
       "      <td>0.000000</td>\n",
       "      <td>1.790236</td>\n",
       "      <td>0.000000</td>\n",
       "      <td>0.000000</td>\n",
       "      <td>0.0</td>\n",
       "      <td>0.000000</td>\n",
       "      <td>0.000000</td>\n",
       "      <td>0.000000</td>\n",
       "      <td>0.000000</td>\n",
       "    </tr>\n",
       "    <tr>\n",
       "      <th>6506</th>\n",
       "      <td>ENSG00000049540.16_7</td>\n",
       "      <td>ENSG00000049540.16</td>\n",
       "      <td>ELN</td>\n",
       "      <td>821943</td>\n",
       "      <td>ELN_7</td>\n",
       "      <td>chr7</td>\n",
       "      <td>74028126</td>\n",
       "      <td>0.0</td>\n",
       "      <td>0.0</td>\n",
       "      <td>0.0</td>\n",
       "      <td>...</td>\n",
       "      <td>0.000000</td>\n",
       "      <td>0.000000</td>\n",
       "      <td>0.596745</td>\n",
       "      <td>1.987479</td>\n",
       "      <td>0.000000</td>\n",
       "      <td>0.0</td>\n",
       "      <td>0.000000</td>\n",
       "      <td>0.000000</td>\n",
       "      <td>0.000000</td>\n",
       "      <td>0.000000</td>\n",
       "    </tr>\n",
       "    <tr>\n",
       "      <th>6507</th>\n",
       "      <td>ENSG00000049540.16_8</td>\n",
       "      <td>ENSG00000049540.16</td>\n",
       "      <td>ELN</td>\n",
       "      <td>821944</td>\n",
       "      <td>ELN_8</td>\n",
       "      <td>chr7</td>\n",
       "      <td>74028129</td>\n",
       "      <td>0.0</td>\n",
       "      <td>0.0</td>\n",
       "      <td>0.0</td>\n",
       "      <td>...</td>\n",
       "      <td>0.000000</td>\n",
       "      <td>0.000000</td>\n",
       "      <td>4.177217</td>\n",
       "      <td>1.987479</td>\n",
       "      <td>0.000000</td>\n",
       "      <td>0.0</td>\n",
       "      <td>0.000000</td>\n",
       "      <td>0.000000</td>\n",
       "      <td>2.460511</td>\n",
       "      <td>0.000000</td>\n",
       "    </tr>\n",
       "    <tr>\n",
       "      <th>6508</th>\n",
       "      <td>ENSG00000049540.16_9</td>\n",
       "      <td>ENSG00000049540.16</td>\n",
       "      <td>ELN</td>\n",
       "      <td>821945</td>\n",
       "      <td>ELN_9</td>\n",
       "      <td>chr7</td>\n",
       "      <td>74028141</td>\n",
       "      <td>0.0</td>\n",
       "      <td>0.0</td>\n",
       "      <td>0.0</td>\n",
       "      <td>...</td>\n",
       "      <td>0.000000</td>\n",
       "      <td>1.812553</td>\n",
       "      <td>0.596745</td>\n",
       "      <td>0.000000</td>\n",
       "      <td>1.755452</td>\n",
       "      <td>0.0</td>\n",
       "      <td>0.000000</td>\n",
       "      <td>0.000000</td>\n",
       "      <td>1.640341</td>\n",
       "      <td>2.272624</td>\n",
       "    </tr>\n",
       "    <tr>\n",
       "      <th>6509</th>\n",
       "      <td>ENSG00000049540.16_10</td>\n",
       "      <td>ENSG00000049540.16</td>\n",
       "      <td>ELN</td>\n",
       "      <td>821946</td>\n",
       "      <td>ELN_10</td>\n",
       "      <td>chr7</td>\n",
       "      <td>74028144</td>\n",
       "      <td>0.0</td>\n",
       "      <td>0.0</td>\n",
       "      <td>0.0</td>\n",
       "      <td>...</td>\n",
       "      <td>0.000000</td>\n",
       "      <td>0.000000</td>\n",
       "      <td>0.000000</td>\n",
       "      <td>0.000000</td>\n",
       "      <td>0.000000</td>\n",
       "      <td>0.0</td>\n",
       "      <td>0.000000</td>\n",
       "      <td>0.000000</td>\n",
       "      <td>0.000000</td>\n",
       "      <td>0.000000</td>\n",
       "    </tr>\n",
       "    <tr>\n",
       "      <th>6510</th>\n",
       "      <td>ENSG00000049540.16_11</td>\n",
       "      <td>ENSG00000049540.16</td>\n",
       "      <td>ELN</td>\n",
       "      <td>821947</td>\n",
       "      <td>ELN_11</td>\n",
       "      <td>chr7</td>\n",
       "      <td>74028157</td>\n",
       "      <td>0.0</td>\n",
       "      <td>0.0</td>\n",
       "      <td>0.0</td>\n",
       "      <td>...</td>\n",
       "      <td>0.967399</td>\n",
       "      <td>1.812553</td>\n",
       "      <td>0.596745</td>\n",
       "      <td>0.993739</td>\n",
       "      <td>0.000000</td>\n",
       "      <td>0.0</td>\n",
       "      <td>0.000000</td>\n",
       "      <td>0.000000</td>\n",
       "      <td>0.820170</td>\n",
       "      <td>1.136312</td>\n",
       "    </tr>\n",
       "    <tr>\n",
       "      <th>6511</th>\n",
       "      <td>ENSG00000049540.16_12</td>\n",
       "      <td>ENSG00000049540.16</td>\n",
       "      <td>ELN</td>\n",
       "      <td>821948</td>\n",
       "      <td>ELN_12</td>\n",
       "      <td>chr7</td>\n",
       "      <td>74028158</td>\n",
       "      <td>0.0</td>\n",
       "      <td>0.0</td>\n",
       "      <td>0.0</td>\n",
       "      <td>...</td>\n",
       "      <td>0.000000</td>\n",
       "      <td>0.000000</td>\n",
       "      <td>0.000000</td>\n",
       "      <td>0.000000</td>\n",
       "      <td>0.000000</td>\n",
       "      <td>0.0</td>\n",
       "      <td>0.000000</td>\n",
       "      <td>0.000000</td>\n",
       "      <td>0.000000</td>\n",
       "      <td>0.000000</td>\n",
       "    </tr>\n",
       "    <tr>\n",
       "      <th>6512</th>\n",
       "      <td>ENSG00000049540.16_13</td>\n",
       "      <td>ENSG00000049540.16</td>\n",
       "      <td>ELN</td>\n",
       "      <td>821949</td>\n",
       "      <td>ELN_13</td>\n",
       "      <td>chr7</td>\n",
       "      <td>74028163</td>\n",
       "      <td>0.0</td>\n",
       "      <td>0.0</td>\n",
       "      <td>0.0</td>\n",
       "      <td>...</td>\n",
       "      <td>0.000000</td>\n",
       "      <td>3.625106</td>\n",
       "      <td>1.790236</td>\n",
       "      <td>0.000000</td>\n",
       "      <td>0.000000</td>\n",
       "      <td>0.0</td>\n",
       "      <td>0.000000</td>\n",
       "      <td>0.000000</td>\n",
       "      <td>0.820170</td>\n",
       "      <td>5.681560</td>\n",
       "    </tr>\n",
       "    <tr>\n",
       "      <th>6513</th>\n",
       "      <td>ENSG00000049540.16_14</td>\n",
       "      <td>ENSG00000049540.16</td>\n",
       "      <td>ELN</td>\n",
       "      <td>821950</td>\n",
       "      <td>ELN_14</td>\n",
       "      <td>chr7</td>\n",
       "      <td>74028170</td>\n",
       "      <td>0.0</td>\n",
       "      <td>0.0</td>\n",
       "      <td>0.0</td>\n",
       "      <td>...</td>\n",
       "      <td>0.000000</td>\n",
       "      <td>1.812553</td>\n",
       "      <td>0.596745</td>\n",
       "      <td>0.000000</td>\n",
       "      <td>1.755452</td>\n",
       "      <td>0.0</td>\n",
       "      <td>0.000000</td>\n",
       "      <td>0.000000</td>\n",
       "      <td>0.000000</td>\n",
       "      <td>0.000000</td>\n",
       "    </tr>\n",
       "    <tr>\n",
       "      <th>6514</th>\n",
       "      <td>ENSG00000049540.16_15</td>\n",
       "      <td>ENSG00000049540.16</td>\n",
       "      <td>ELN</td>\n",
       "      <td>821951</td>\n",
       "      <td>ELN_15</td>\n",
       "      <td>chr7</td>\n",
       "      <td>74028173</td>\n",
       "      <td>0.0</td>\n",
       "      <td>0.0</td>\n",
       "      <td>0.0</td>\n",
       "      <td>...</td>\n",
       "      <td>5.804392</td>\n",
       "      <td>7.250212</td>\n",
       "      <td>23.869810</td>\n",
       "      <td>12.918612</td>\n",
       "      <td>8.777258</td>\n",
       "      <td>0.0</td>\n",
       "      <td>0.000000</td>\n",
       "      <td>8.002112</td>\n",
       "      <td>3.280681</td>\n",
       "      <td>18.180992</td>\n",
       "    </tr>\n",
       "    <tr>\n",
       "      <th>6515</th>\n",
       "      <td>ENSG00000049540.16_16</td>\n",
       "      <td>ENSG00000049540.16</td>\n",
       "      <td>ELN</td>\n",
       "      <td>821952</td>\n",
       "      <td>ELN_16</td>\n",
       "      <td>chr7</td>\n",
       "      <td>74028175</td>\n",
       "      <td>0.0</td>\n",
       "      <td>0.0</td>\n",
       "      <td>0.0</td>\n",
       "      <td>...</td>\n",
       "      <td>1.934797</td>\n",
       "      <td>12.687871</td>\n",
       "      <td>16.112122</td>\n",
       "      <td>6.956176</td>\n",
       "      <td>14.043612</td>\n",
       "      <td>0.0</td>\n",
       "      <td>4.797924</td>\n",
       "      <td>2.000528</td>\n",
       "      <td>1.640341</td>\n",
       "      <td>18.180992</td>\n",
       "    </tr>\n",
       "    <tr>\n",
       "      <th>6516</th>\n",
       "      <td>ENSG00000049540.16_17</td>\n",
       "      <td>ENSG00000049540.16</td>\n",
       "      <td>ELN</td>\n",
       "      <td>821953</td>\n",
       "      <td>ELN_17</td>\n",
       "      <td>chr7</td>\n",
       "      <td>74028176</td>\n",
       "      <td>0.0</td>\n",
       "      <td>0.0</td>\n",
       "      <td>0.0</td>\n",
       "      <td>...</td>\n",
       "      <td>0.000000</td>\n",
       "      <td>0.000000</td>\n",
       "      <td>0.000000</td>\n",
       "      <td>0.000000</td>\n",
       "      <td>0.000000</td>\n",
       "      <td>0.0</td>\n",
       "      <td>0.000000</td>\n",
       "      <td>0.000000</td>\n",
       "      <td>0.000000</td>\n",
       "      <td>0.000000</td>\n",
       "    </tr>\n",
       "    <tr>\n",
       "      <th>6517</th>\n",
       "      <td>ENSG00000049540.16_18</td>\n",
       "      <td>ENSG00000049540.16</td>\n",
       "      <td>ELN</td>\n",
       "      <td>821954</td>\n",
       "      <td>ELN_18</td>\n",
       "      <td>chr7</td>\n",
       "      <td>74028188</td>\n",
       "      <td>0.0</td>\n",
       "      <td>0.0</td>\n",
       "      <td>0.0</td>\n",
       "      <td>...</td>\n",
       "      <td>0.000000</td>\n",
       "      <td>0.000000</td>\n",
       "      <td>0.000000</td>\n",
       "      <td>0.000000</td>\n",
       "      <td>0.000000</td>\n",
       "      <td>0.0</td>\n",
       "      <td>0.000000</td>\n",
       "      <td>0.000000</td>\n",
       "      <td>0.000000</td>\n",
       "      <td>0.000000</td>\n",
       "    </tr>\n",
       "    <tr>\n",
       "      <th>6518</th>\n",
       "      <td>ENSG00000049540.16_19</td>\n",
       "      <td>ENSG00000049540.16</td>\n",
       "      <td>ELN</td>\n",
       "      <td>821967</td>\n",
       "      <td>ELN_19</td>\n",
       "      <td>chr7</td>\n",
       "      <td>74042634</td>\n",
       "      <td>0.0</td>\n",
       "      <td>0.0</td>\n",
       "      <td>0.0</td>\n",
       "      <td>...</td>\n",
       "      <td>0.000000</td>\n",
       "      <td>0.000000</td>\n",
       "      <td>0.000000</td>\n",
       "      <td>0.000000</td>\n",
       "      <td>0.000000</td>\n",
       "      <td>0.0</td>\n",
       "      <td>0.000000</td>\n",
       "      <td>0.000000</td>\n",
       "      <td>0.000000</td>\n",
       "      <td>0.000000</td>\n",
       "    </tr>\n",
       "    <tr>\n",
       "      <th>6519</th>\n",
       "      <td>ENSG00000049540.16_20</td>\n",
       "      <td>ENSG00000049540.16</td>\n",
       "      <td>ELN</td>\n",
       "      <td>821989</td>\n",
       "      <td>ELN_20</td>\n",
       "      <td>chr7</td>\n",
       "      <td>74045763</td>\n",
       "      <td>0.0</td>\n",
       "      <td>0.0</td>\n",
       "      <td>0.0</td>\n",
       "      <td>...</td>\n",
       "      <td>0.000000</td>\n",
       "      <td>0.000000</td>\n",
       "      <td>0.000000</td>\n",
       "      <td>0.000000</td>\n",
       "      <td>0.000000</td>\n",
       "      <td>0.0</td>\n",
       "      <td>0.000000</td>\n",
       "      <td>0.000000</td>\n",
       "      <td>0.000000</td>\n",
       "      <td>0.000000</td>\n",
       "    </tr>\n",
       "    <tr>\n",
       "      <th>6520</th>\n",
       "      <td>ENSG00000049540.16_21</td>\n",
       "      <td>ENSG00000049540.16</td>\n",
       "      <td>ELN</td>\n",
       "      <td>821992</td>\n",
       "      <td>ELN_21</td>\n",
       "      <td>chr7</td>\n",
       "      <td>74046659</td>\n",
       "      <td>0.0</td>\n",
       "      <td>0.0</td>\n",
       "      <td>0.0</td>\n",
       "      <td>...</td>\n",
       "      <td>0.000000</td>\n",
       "      <td>0.000000</td>\n",
       "      <td>0.000000</td>\n",
       "      <td>0.000000</td>\n",
       "      <td>0.000000</td>\n",
       "      <td>0.0</td>\n",
       "      <td>0.000000</td>\n",
       "      <td>0.000000</td>\n",
       "      <td>0.000000</td>\n",
       "      <td>0.000000</td>\n",
       "    </tr>\n",
       "    <tr>\n",
       "      <th>6521</th>\n",
       "      <td>ENSG00000049540.16_22</td>\n",
       "      <td>ENSG00000049540.16</td>\n",
       "      <td>ELN</td>\n",
       "      <td>822009</td>\n",
       "      <td>ELN_22</td>\n",
       "      <td>chr7</td>\n",
       "      <td>74052294</td>\n",
       "      <td>0.0</td>\n",
       "      <td>0.0</td>\n",
       "      <td>0.0</td>\n",
       "      <td>...</td>\n",
       "      <td>0.000000</td>\n",
       "      <td>0.000000</td>\n",
       "      <td>0.000000</td>\n",
       "      <td>0.000000</td>\n",
       "      <td>0.000000</td>\n",
       "      <td>0.0</td>\n",
       "      <td>0.000000</td>\n",
       "      <td>0.000000</td>\n",
       "      <td>0.000000</td>\n",
       "      <td>0.000000</td>\n",
       "    </tr>\n",
       "    <tr>\n",
       "      <th>6522</th>\n",
       "      <td>ENSG00000049540.16_23</td>\n",
       "      <td>ENSG00000049540.16</td>\n",
       "      <td>ELN</td>\n",
       "      <td>822011</td>\n",
       "      <td>ELN_23</td>\n",
       "      <td>chr7</td>\n",
       "      <td>74052851</td>\n",
       "      <td>0.0</td>\n",
       "      <td>0.0</td>\n",
       "      <td>0.0</td>\n",
       "      <td>...</td>\n",
       "      <td>0.000000</td>\n",
       "      <td>0.000000</td>\n",
       "      <td>0.000000</td>\n",
       "      <td>0.000000</td>\n",
       "      <td>0.000000</td>\n",
       "      <td>0.0</td>\n",
       "      <td>0.000000</td>\n",
       "      <td>0.000000</td>\n",
       "      <td>0.000000</td>\n",
       "      <td>0.000000</td>\n",
       "    </tr>\n",
       "  </tbody>\n",
       "</table>\n",
       "<p>23 rows × 97 columns</p>\n",
       "</div>"
      ],
      "text/plain": [
       "                     tss_id                 gid gname  vertex_id tss_name  \\\n",
       "6500   ENSG00000049540.16_1  ENSG00000049540.16   ELN     821937    ELN_1   \n",
       "6501   ENSG00000049540.16_2  ENSG00000049540.16   ELN     821938    ELN_2   \n",
       "6502   ENSG00000049540.16_3  ENSG00000049540.16   ELN     821939    ELN_3   \n",
       "6503   ENSG00000049540.16_4  ENSG00000049540.16   ELN     821940    ELN_4   \n",
       "6504   ENSG00000049540.16_5  ENSG00000049540.16   ELN     821941    ELN_5   \n",
       "6505   ENSG00000049540.16_6  ENSG00000049540.16   ELN     821942    ELN_6   \n",
       "6506   ENSG00000049540.16_7  ENSG00000049540.16   ELN     821943    ELN_7   \n",
       "6507   ENSG00000049540.16_8  ENSG00000049540.16   ELN     821944    ELN_8   \n",
       "6508   ENSG00000049540.16_9  ENSG00000049540.16   ELN     821945    ELN_9   \n",
       "6509  ENSG00000049540.16_10  ENSG00000049540.16   ELN     821946   ELN_10   \n",
       "6510  ENSG00000049540.16_11  ENSG00000049540.16   ELN     821947   ELN_11   \n",
       "6511  ENSG00000049540.16_12  ENSG00000049540.16   ELN     821948   ELN_12   \n",
       "6512  ENSG00000049540.16_13  ENSG00000049540.16   ELN     821949   ELN_13   \n",
       "6513  ENSG00000049540.16_14  ENSG00000049540.16   ELN     821950   ELN_14   \n",
       "6514  ENSG00000049540.16_15  ENSG00000049540.16   ELN     821951   ELN_15   \n",
       "6515  ENSG00000049540.16_16  ENSG00000049540.16   ELN     821952   ELN_16   \n",
       "6516  ENSG00000049540.16_17  ENSG00000049540.16   ELN     821953   ELN_17   \n",
       "6517  ENSG00000049540.16_18  ENSG00000049540.16   ELN     821954   ELN_18   \n",
       "6518  ENSG00000049540.16_19  ENSG00000049540.16   ELN     821967   ELN_19   \n",
       "6519  ENSG00000049540.16_20  ENSG00000049540.16   ELN     821989   ELN_20   \n",
       "6520  ENSG00000049540.16_21  ENSG00000049540.16   ELN     821992   ELN_21   \n",
       "6521  ENSG00000049540.16_22  ENSG00000049540.16   ELN     822009   ELN_22   \n",
       "6522  ENSG00000049540.16_23  ENSG00000049540.16   ELN     822011   ELN_23   \n",
       "\n",
       "     chrom     coord  gm12878_1_1  gm12878_1_2  gm12878_1_3  ...  \\\n",
       "6500  chr7  74027789          0.0          0.0          0.0  ...   \n",
       "6501  chr7  74028101          0.0          0.0          0.0  ...   \n",
       "6502  chr7  74028106          0.0          0.0          0.0  ...   \n",
       "6503  chr7  74028109          0.0          0.0          0.0  ...   \n",
       "6504  chr7  74028114          0.0          0.0          0.0  ...   \n",
       "6505  chr7  74028124          0.0          0.0          0.0  ...   \n",
       "6506  chr7  74028126          0.0          0.0          0.0  ...   \n",
       "6507  chr7  74028129          0.0          0.0          0.0  ...   \n",
       "6508  chr7  74028141          0.0          0.0          0.0  ...   \n",
       "6509  chr7  74028144          0.0          0.0          0.0  ...   \n",
       "6510  chr7  74028157          0.0          0.0          0.0  ...   \n",
       "6511  chr7  74028158          0.0          0.0          0.0  ...   \n",
       "6512  chr7  74028163          0.0          0.0          0.0  ...   \n",
       "6513  chr7  74028170          0.0          0.0          0.0  ...   \n",
       "6514  chr7  74028173          0.0          0.0          0.0  ...   \n",
       "6515  chr7  74028175          0.0          0.0          0.0  ...   \n",
       "6516  chr7  74028176          0.0          0.0          0.0  ...   \n",
       "6517  chr7  74028188          0.0          0.0          0.0  ...   \n",
       "6518  chr7  74042634          0.0          0.0          0.0  ...   \n",
       "6519  chr7  74045763          0.0          0.0          0.0  ...   \n",
       "6520  chr7  74046659          0.0          0.0          0.0  ...   \n",
       "6521  chr7  74052294          0.0          0.0          0.0  ...   \n",
       "6522  chr7  74052851          0.0          0.0          0.0  ...   \n",
       "\n",
       "      psoas_muscle_1_1  right_cardiac_atrium_1_1  right_cardiac_atrium_3_1  \\\n",
       "6500         11.608784                 47.126377                 48.933109   \n",
       "6501          2.902196                 19.938084                 26.256790   \n",
       "6502          0.967399                  0.000000                  1.790236   \n",
       "6503          0.000000                  0.000000                  0.596745   \n",
       "6504          0.967399                  0.000000                  1.790236   \n",
       "6505          0.000000                  0.000000                  1.790236   \n",
       "6506          0.000000                  0.000000                  0.596745   \n",
       "6507          0.000000                  0.000000                  4.177217   \n",
       "6508          0.000000                  1.812553                  0.596745   \n",
       "6509          0.000000                  0.000000                  0.000000   \n",
       "6510          0.967399                  1.812553                  0.596745   \n",
       "6511          0.000000                  0.000000                  0.000000   \n",
       "6512          0.000000                  3.625106                  1.790236   \n",
       "6513          0.000000                  1.812553                  0.596745   \n",
       "6514          5.804392                  7.250212                 23.869810   \n",
       "6515          1.934797                 12.687871                 16.112122   \n",
       "6516          0.000000                  0.000000                  0.000000   \n",
       "6517          0.000000                  0.000000                  0.000000   \n",
       "6518          0.000000                  0.000000                  0.000000   \n",
       "6519          0.000000                  0.000000                  0.000000   \n",
       "6520          0.000000                  0.000000                  0.000000   \n",
       "6521          0.000000                  0.000000                  0.000000   \n",
       "6522          0.000000                  0.000000                  0.000000   \n",
       "\n",
       "      right_cardiac_atrium_4_1  right_cardiac_atrium_2_1  \\\n",
       "6500                 39.749577                 40.375385   \n",
       "6501                 15.899831                 12.288161   \n",
       "6502                  1.987479                  3.510903   \n",
       "6503                  1.987479                  0.000000   \n",
       "6504                  0.000000                  0.000000   \n",
       "6505                  0.000000                  0.000000   \n",
       "6506                  1.987479                  0.000000   \n",
       "6507                  1.987479                  0.000000   \n",
       "6508                  0.000000                  1.755452   \n",
       "6509                  0.000000                  0.000000   \n",
       "6510                  0.993739                  0.000000   \n",
       "6511                  0.000000                  0.000000   \n",
       "6512                  0.000000                  0.000000   \n",
       "6513                  0.000000                  1.755452   \n",
       "6514                 12.918612                  8.777258   \n",
       "6515                  6.956176                 14.043612   \n",
       "6516                  0.000000                  0.000000   \n",
       "6517                  0.000000                  0.000000   \n",
       "6518                  0.000000                  0.000000   \n",
       "6519                  0.000000                  0.000000   \n",
       "6520                  0.000000                  0.000000   \n",
       "6521                  0.000000                  0.000000   \n",
       "6522                  0.000000                  0.000000   \n",
       "\n",
       "      right_lobe_of_liver_1_1  right_lobe_of_liver_2_1  \\\n",
       "6500                      0.0                 7.196885   \n",
       "6501                      0.0                 4.797924   \n",
       "6502                      0.0                 2.398962   \n",
       "6503                      0.0                 0.000000   \n",
       "6504                      0.0                 0.000000   \n",
       "6505                      0.0                 0.000000   \n",
       "6506                      0.0                 0.000000   \n",
       "6507                      0.0                 0.000000   \n",
       "6508                      0.0                 0.000000   \n",
       "6509                      0.0                 0.000000   \n",
       "6510                      0.0                 0.000000   \n",
       "6511                      0.0                 0.000000   \n",
       "6512                      0.0                 0.000000   \n",
       "6513                      0.0                 0.000000   \n",
       "6514                      0.0                 0.000000   \n",
       "6515                      0.0                 4.797924   \n",
       "6516                      0.0                 0.000000   \n",
       "6517                      0.0                 0.000000   \n",
       "6518                      0.0                 0.000000   \n",
       "6519                      0.0                 0.000000   \n",
       "6520                      0.0                 0.000000   \n",
       "6521                      0.0                 0.000000   \n",
       "6522                      0.0                 0.000000   \n",
       "\n",
       "      right_ventricle_myocardium_inferior_1_1  \\\n",
       "6500                                20.005281   \n",
       "6501                                 0.000000   \n",
       "6502                                 2.000528   \n",
       "6503                                 0.000000   \n",
       "6504                                 2.000528   \n",
       "6505                                 0.000000   \n",
       "6506                                 0.000000   \n",
       "6507                                 0.000000   \n",
       "6508                                 0.000000   \n",
       "6509                                 0.000000   \n",
       "6510                                 0.000000   \n",
       "6511                                 0.000000   \n",
       "6512                                 0.000000   \n",
       "6513                                 0.000000   \n",
       "6514                                 8.002112   \n",
       "6515                                 2.000528   \n",
       "6516                                 0.000000   \n",
       "6517                                 0.000000   \n",
       "6518                                 0.000000   \n",
       "6519                                 0.000000   \n",
       "6520                                 0.000000   \n",
       "6521                                 0.000000   \n",
       "6522                                 0.000000   \n",
       "\n",
       "      right_ventricle_myocardium_superior_1_1  upper_lobe_of_right_lung_1_1  \n",
       "6500                                13.122725                     90.904961  \n",
       "6501                                 8.201703                     28.407799  \n",
       "6502                                 1.640341                      7.954184  \n",
       "6503                                 0.000000                      0.000000  \n",
       "6504                                 0.000000                      3.408936  \n",
       "6505                                 0.000000                      0.000000  \n",
       "6506                                 0.000000                      0.000000  \n",
       "6507                                 2.460511                      0.000000  \n",
       "6508                                 1.640341                      2.272624  \n",
       "6509                                 0.000000                      0.000000  \n",
       "6510                                 0.820170                      1.136312  \n",
       "6511                                 0.000000                      0.000000  \n",
       "6512                                 0.820170                      5.681560  \n",
       "6513                                 0.000000                      0.000000  \n",
       "6514                                 3.280681                     18.180992  \n",
       "6515                                 1.640341                     18.180992  \n",
       "6516                                 0.000000                      0.000000  \n",
       "6517                                 0.000000                      0.000000  \n",
       "6518                                 0.000000                      0.000000  \n",
       "6519                                 0.000000                      0.000000  \n",
       "6520                                 0.000000                      0.000000  \n",
       "6521                                 0.000000                      0.000000  \n",
       "6522                                 0.000000                      0.000000  \n",
       "\n",
       "[23 rows x 97 columns]"
      ]
     },
     "execution_count": 47,
     "metadata": {},
     "output_type": "execute_result"
    }
   ],
   "source": [
    "df.sort_values(by='coord')"
   ]
  },
  {
   "cell_type": "code",
   "execution_count": 49,
   "id": "chemical-portsmouth",
   "metadata": {},
   "outputs": [
    {
     "data": {
      "text/plain": [
       "-399"
      ]
     },
     "execution_count": 49,
     "metadata": {},
     "output_type": "execute_result"
    }
   ],
   "source": [
    "74027789-74028188"
   ]
  },
  {
   "cell_type": "code",
   "execution_count": null,
   "id": "arranged-rescue",
   "metadata": {},
   "outputs": [],
   "source": []
  }
 ],
 "metadata": {
  "kernelspec": {
   "display_name": "Python 3",
   "language": "python",
   "name": "python3"
  },
  "language_info": {
   "codemirror_mode": {
    "name": "ipython",
    "version": 3
   },
   "file_extension": ".py",
   "mimetype": "text/x-python",
   "name": "python",
   "nbconvert_exporter": "python",
   "pygments_lexer": "ipython3",
   "version": "3.7.4"
  }
 },
 "nbformat": 4,
 "nbformat_minor": 5
}
