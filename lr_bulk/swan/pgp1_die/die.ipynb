{
 "cells": [
  {
   "cell_type": "code",
   "execution_count": 14,
   "id": "77417a34-ea88-4c08-9956-bfaa1707b291",
   "metadata": {},
   "outputs": [],
   "source": [
    "import swan_vis as swan\n",
    "import pandas as pd\n",
    "import numpy as np\n",
    "import seaborn as sns"
   ]
  },
  {
   "cell_type": "code",
   "execution_count": 5,
   "id": "d282bc17-ccf4-4a20-915d-3aef05d88985",
   "metadata": {},
   "outputs": [
    {
     "name": "stdout",
     "output_type": "stream",
     "text": [
      "Read in graph from ../swan.p\n"
     ]
    }
   ],
   "source": [
    "sg = swan.read('../swan.p')"
   ]
  },
  {
   "cell_type": "code",
   "execution_count": 7,
   "id": "d75bc3f7-2394-4370-a010-d1207724a8d4",
   "metadata": {},
   "outputs": [],
   "source": [
    "# # run die tests between each set of pgp1 things\n",
    "# pgp1_conds = sg.adata.obs.loc[sg.adata.obs['sample'].str.contains('pgp1'), 'sample'].unique().tolist()\n",
    "# tested = []\n",
    "# for c1 in pgp1_conds:\n",
    "#     for c2 in pgp1_conds: \n",
    "#         test1 = (c1, c2)\n",
    "#         test2 = (c2, c1)\n",
    "#         if test1 in tested or test2 in tested:\n",
    "#             continue\n",
    "#         elif c1 == c2:\n",
    "#             continue\n",
    "#         else:\n",
    "#             print()\n",
    "#             print(c1)\n",
    "#             print(c2)\n",
    "#             tested.append(test1)\n",
    "#             tested.append(test2)\n",
    "#             fname = 'iso_die_{}_{}.tsv'.format(c1, c2)\n",
    "#             die_table, test_results = sg.die_gene_test(kind='iso',\n",
    "#                                                        obs_col='sample',\n",
    "#                                                        obs_conditions=[c1, c2],\n",
    "#                                                        verbose=True)\n",
    "#             die_table.to_csv(fname, sep='\\t')\n",
    "            \n",
    "        "
   ]
  },
  {
   "cell_type": "code",
   "execution_count": 9,
   "id": "eddd8fa3-161f-4585-bfae-a931251cbcda",
   "metadata": {},
   "outputs": [],
   "source": [
    "tested = []\n",
    "\n",
    "conds = sg.adata.obs.loc[sg.adata.obs['sample'].str.contains('pgp1'), 'sample'].unique().tolist()\n",
    "data = [[0 for i in range(len(conds))] for j in range(len(conds))]\n",
    "n_die = pd.DataFrame(data=data, columns=conds, index=conds)\n",
    "n_die.head()\n",
    "\n",
    "for c1 in conds:\n",
    "    for c2 in conds:\n",
    "        if c1 == c2:\n",
    "            continue \n",
    "        fname = 'iso_die_{}_{}.tsv'.format(c1, c2)\n",
    "        try:\n",
    "            df = pd.read_csv(fname, sep='\\t')\n",
    "        except:\n",
    "            fname = 'iso_die_{}_{}.tsv'.format(c2, c1)\n",
    "            df = pd.read_csv(fname, sep='\\t')\n",
    "        \n",
    "        # filter \n",
    "        df = df.loc[(df.adj_p_val < 0.05)&(df.dpi > 10)]\n",
    "        \n",
    "        n_die.loc[c1, c2] = len(df.index)"
   ]
  },
  {
   "cell_type": "code",
   "execution_count": 15,
   "id": "e4d0f5be-8971-410b-ad57-ac19160cd779",
   "metadata": {},
   "outputs": [
    {
     "data": {
      "text/plain": [
       "<matplotlib.axes._subplots.AxesSubplot at 0x7f845c251290>"
      ]
     },
     "execution_count": 15,
     "metadata": {},
     "output_type": "execute_result"
    },
    {
     "data": {
      "image/png": "[encoded data removed]",
      "text/plain": [
       "<Figure size 432x288 with 2 Axes>"
      ]
     },
     "metadata": {
      "needs_background": "light"
     },
     "output_type": "display_data"
    }
   ],
   "source": [
    "# Getting the Upper Triangle of the co-relation matrix\n",
    "matrix = np.tril(n_die)\n",
    "\n",
    "# using the upper triangle matrix as mask \n",
    "sns.heatmap(n_die, annot=True, mask=matrix, fmt='')"
   ]
  },
  {
   "cell_type": "code",
   "execution_count": null,
   "id": "d2bad3f5-75d8-42de-9cf4-6ddcd72a6db9",
   "metadata": {},
   "outputs": [],
   "source": []
  }
 ],
 "metadata": {
  "kernelspec": {
   "display_name": "Python 3",
   "language": "python",
   "name": "python3"
  },
  "language_info": {
   "codemirror_mode": {
    "name": "ipython",
    "version": 3
   },
   "file_extension": ".py",
   "mimetype": "text/x-python",
   "name": "python",
   "nbconvert_exporter": "python",
   "pygments_lexer": "ipython3",
   "version": "3.7.4"
  }
 },
 "nbformat": 4,
 "nbformat_minor": 5
}
