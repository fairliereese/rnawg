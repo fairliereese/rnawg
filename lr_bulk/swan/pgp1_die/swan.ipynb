{
 "cells": [
  {
   "cell_type": "code",
   "execution_count": 1,
   "id": "f218d6db-29e1-4847-bd65-d04efd52968e",
   "metadata": {},
   "outputs": [],
   "source": [
    "import swan_vis as swan"
   ]
  },
  {
   "cell_type": "code",
   "execution_count": 3,
   "id": "75d5bd0b-e3e6-488b-a435-2cef3008cb56",
   "metadata": {},
   "outputs": [
    {
     "name": "stdout",
     "output_type": "stream",
     "text": [
      "Read in graph from ../swan.p\n"
     ]
    }
   ],
   "source": [
    "sg = swan.read('../swan.p')"
   ]
  },
  {
   "cell_type": "code",
   "execution_count": 8,
   "id": "30e2c222-29ec-4f4a-8cd9-b826344e7052",
   "metadata": {},
   "outputs": [
    {
     "name": "stdout",
     "output_type": "stream",
     "text": [
      "\n",
      "Plotting transcripts for ENSG00000120885.21\n",
      "Saving transcript path graph for ENST00000316403.14 as figures/CLU_browser_ENST00000316403.14_path.png\n",
      "Saving transcript path graph for ENST00000523500.5 as figures/CLU_browser_ENST00000523500.5_path.png\n",
      "Saving transcript path graph for ENCODEHT000848590 as figures/CLU_browser_ENCODEHT000848590_path.png\n",
      "Saving transcript path graph for ENCODEHT000848594 as figures/CLU_browser_ENCODEHT000848594_path.png\n",
      "Saving transcript path graph for ENST00000405140.7 as figures/CLU_browser_ENST00000405140.7_path.png\n",
      "Saving transcript path graph for ENCODEHT000848719 as figures/CLU_browser_ENCODEHT000848719_path.png\n",
      "Saving transcript path graph for ENCODEHT000848599 as figures/CLU_browser_ENCODEHT000848599_path.png\n",
      "Saving transcript path graph for ENST00000518050.1 as figures/CLU_browser_ENST00000518050.1_path.png\n",
      "Saving transcript path graph for ENCODEHT000849320 as figures/CLU_browser_ENCODEHT000849320_path.png\n",
      "Saving transcript path graph for ENCODEHT001997293 as figures/CLU_browser_ENCODEHT001997293_path.png\n",
      "Saving transcript path graph for ENCODEHT000848650 as figures/CLU_browser_ENCODEHT000848650_path.png\n",
      "Saving transcript path graph for ENST00000521770.1 as figures/CLU_browser_ENST00000521770.1_path.png\n",
      "Saving transcript path graph for ENCODEHT000848666 as figures/CLU_browser_ENCODEHT000848666_path.png\n",
      "Generating report for ENSG00000120885.21\n"
     ]
    }
   ],
   "source": [
    "# clusterin\n",
    "gene = 'CLU'\n",
    "opref = 'figures/{}'.format(gene)\n",
    "conds = sg.adata.obs.loc[sg.adata.obs['sample'].str.contains('pgp1'), 'sample'].unique().tolist()\n",
    "sg.gen_report(gene,\n",
    "          prefix=opref,\n",
    "          layer='pi',\n",
    "          cmap='magma',\n",
    "          novelty=True,\n",
    "          metadata_cols=['sample'],\n",
    "          groupby='sample',\n",
    "          datasets={'sample': conds},\n",
    "          transcript_col='tname',\n",
    "          display_numbers=True,\n",
    "          browser=True)"
   ]
  },
  {
   "cell_type": "code",
   "execution_count": 9,
   "id": "2bf3f9d5-e97c-4594-98cd-fdb236bb0e2f",
   "metadata": {},
   "outputs": [
    {
     "name": "stdout",
     "output_type": "stream",
     "text": [
      "\n",
      "Plotting transcripts for ENSG00000005893.15\n",
      "Saving transcript path graph for ENST00000200639.8 as figures/LAMP2_browser_ENST00000200639.8_path.png\n",
      "Saving transcript path graph for ENST00000371335.4 as figures/LAMP2_browser_ENST00000371335.4_path.png\n",
      "Saving transcript path graph for ENCODEHT000666968 as figures/LAMP2_browser_ENCODEHT000666968_path.png\n",
      "Saving transcript path graph for ENST00000434600.6 as figures/LAMP2_browser_ENST00000434600.6_path.png\n",
      "Saving transcript path graph for ENCODEHT000666933 as figures/LAMP2_browser_ENCODEHT000666933_path.png\n",
      "Generating report for ENSG00000005893.15\n"
     ]
    }
   ],
   "source": [
    "# lamp2\n",
    "gene = 'LAMP2'\n",
    "opref = 'figures/{}'.format(gene)\n",
    "conds = sg.adata.obs.loc[sg.adata.obs['sample'].str.contains('pgp1'), 'sample'].unique().tolist()\n",
    "sg.gen_report(gene,\n",
    "          prefix=opref,\n",
    "          layer='pi',\n",
    "          cmap='magma',\n",
    "          novelty=True,\n",
    "          metadata_cols=['sample'],\n",
    "          groupby='sample',\n",
    "          datasets={'sample': conds},\n",
    "          transcript_col='tname',\n",
    "          display_numbers=True,\n",
    "          browser=True)"
   ]
  },
  {
   "cell_type": "code",
   "execution_count": 10,
   "id": "70ae6034-cac0-4ea1-b249-63fe28ad8515",
   "metadata": {},
   "outputs": [
    {
     "name": "stdout",
     "output_type": "stream",
     "text": [
      "\n",
      "Plotting transcripts for ENSG00000136717.14\n",
      "Saving transcript path graph for ENST00000393040.7 as figures/BIN1_browser_ENST00000393040.7_path.png\n",
      "Saving transcript path graph for ENST00000409400.1 as figures/BIN1_browser_ENST00000409400.1_path.png\n",
      "Saving transcript path graph for ENCODEHT000805098 as figures/BIN1_browser_ENCODEHT000805098_path.png\n",
      "Saving transcript path graph for ENCODEHT000805112 as figures/BIN1_browser_ENCODEHT000805112_path.png\n",
      "Saving transcript path graph for ENST00000348750.8 as figures/BIN1_browser_ENST00000348750.8_path.png\n",
      "Saving transcript path graph for ENCODEHT000805087 as figures/BIN1_browser_ENCODEHT000805087_path.png\n",
      "Saving transcript path graph for ENCODEHT000805104 as figures/BIN1_browser_ENCODEHT000805104_path.png\n",
      "Saving transcript path graph for ENST00000316724.9 as figures/BIN1_browser_ENST00000316724.9_path.png\n",
      "Saving transcript path graph for ENCODEHT002237003 as figures/BIN1_browser_ENCODEHT002237003_path.png\n",
      "Saving transcript path graph for ENST00000346226.7 as figures/BIN1_browser_ENST00000346226.7_path.png\n",
      "Saving transcript path graph for ENST00000462958.5 as figures/BIN1_browser_ENST00000462958.5_path.png\n",
      "Generating report for ENSG00000136717.14\n"
     ]
    }
   ],
   "source": [
    "# bin1\n",
    "gene = 'BIN1'\n",
    "opref = 'figures/{}'.format(gene)\n",
    "conds = sg.adata.obs.loc[sg.adata.obs['sample'].str.contains('pgp1'), 'sample'].unique().tolist()\n",
    "sg.gen_report(gene,\n",
    "          prefix=opref,\n",
    "          layer='pi',\n",
    "          cmap='magma',\n",
    "          novelty=True,\n",
    "          metadata_cols=['sample'],\n",
    "          groupby='sample',\n",
    "          datasets={'sample': conds},\n",
    "          transcript_col='tname',\n",
    "          display_numbers=True,\n",
    "          browser=True)"
   ]
  },
  {
   "cell_type": "code",
   "execution_count": 11,
   "id": "4a0bc304-9ebf-4b1b-83d4-5316396feb09",
   "metadata": {},
   "outputs": [
    {
     "name": "stdout",
     "output_type": "stream",
     "text": [
      "\n",
      "Plotting transcripts for ENSG00000136717.14\n",
      "Saving transcript path graph for ENST00000393040.7 as figures/BIN1_ENST00000393040.7_path.png\n",
      "Saving transcript path graph for ENST00000409400.1 as figures/BIN1_ENST00000409400.1_path.png\n",
      "Saving transcript path graph for ENCODEHT000805098 as figures/BIN1_ENCODEHT000805098_path.png\n",
      "Saving transcript path graph for ENCODEHT000805112 as figures/BIN1_ENCODEHT000805112_path.png\n",
      "Saving transcript path graph for ENST00000348750.8 as figures/BIN1_ENST00000348750.8_path.png\n",
      "Saving transcript path graph for ENCODEHT000805087 as figures/BIN1_ENCODEHT000805087_path.png\n",
      "Saving transcript path graph for ENCODEHT000805104 as figures/BIN1_ENCODEHT000805104_path.png\n",
      "Saving transcript path graph for ENST00000316724.9 as figures/BIN1_ENST00000316724.9_path.png\n",
      "Saving transcript path graph for ENCODEHT002237003 as figures/BIN1_ENCODEHT002237003_path.png\n",
      "Saving transcript path graph for ENST00000346226.7 as figures/BIN1_ENST00000346226.7_path.png\n",
      "Saving transcript path graph for ENST00000462958.5 as figures/BIN1_ENST00000462958.5_path.png\n",
      "Generating report for ENSG00000136717.14\n"
     ]
    }
   ],
   "source": [
    "# bin1\n",
    "gene = 'BIN1'\n",
    "opref = 'figures/{}'.format(gene)\n",
    "conds = sg.adata.obs.loc[sg.adata.obs['sample'].str.contains('pgp1'), 'sample'].unique().tolist()\n",
    "sg.gen_report(gene,\n",
    "          prefix=opref,\n",
    "          layer='tpm',\n",
    "          cmap='viridis',\n",
    "          novelty=True,\n",
    "          metadata_cols=['sample'],\n",
    "          groupby='sample',\n",
    "          datasets={'sample': conds},\n",
    "          transcript_col='tname')"
   ]
  },
  {
   "cell_type": "code",
   "execution_count": 15,
   "id": "5ed62219-b155-40fc-813f-18ed75603a65",
   "metadata": {},
   "outputs": [
    {
     "data": {
      "text/html": [
       "<div>\n",
       "<style scoped>\n",
       "    .dataframe tbody tr th:only-of-type {\n",
       "        vertical-align: middle;\n",
       "    }\n",
       "\n",
       "    .dataframe tbody tr th {\n",
       "        vertical-align: top;\n",
       "    }\n",
       "\n",
       "    .dataframe thead th {\n",
       "        text-align: right;\n",
       "    }\n",
       "</style>\n",
       "<table border=\"1\" class=\"dataframe\">\n",
       "  <thead>\n",
       "    <tr style=\"text-align: right;\">\n",
       "      <th></th>\n",
       "      <th>dataset</th>\n",
       "      <th>total_counts</th>\n",
       "      <th>sample</th>\n",
       "      <th>classification</th>\n",
       "      <th>health_status</th>\n",
       "    </tr>\n",
       "    <tr>\n",
       "      <th>index</th>\n",
       "      <th></th>\n",
       "      <th></th>\n",
       "      <th></th>\n",
       "      <th></th>\n",
       "      <th></th>\n",
       "    </tr>\n",
       "  </thead>\n",
       "  <tbody>\n",
       "    <tr>\n",
       "      <th>gm12878_1_1</th>\n",
       "      <td>gm12878_1_1</td>\n",
       "      <td>598749.0</td>\n",
       "      <td>gm12878</td>\n",
       "      <td>cell_line</td>\n",
       "      <td>NaN</td>\n",
       "    </tr>\n",
       "    <tr>\n",
       "      <th>gm12878_1_2</th>\n",
       "      <td>gm12878_1_2</td>\n",
       "      <td>519722.0</td>\n",
       "      <td>gm12878</td>\n",
       "      <td>cell_line</td>\n",
       "      <td>NaN</td>\n",
       "    </tr>\n",
       "    <tr>\n",
       "      <th>gm12878_1_3</th>\n",
       "      <td>gm12878_1_3</td>\n",
       "      <td>452616.0</td>\n",
       "      <td>gm12878</td>\n",
       "      <td>cell_line</td>\n",
       "      <td>NaN</td>\n",
       "    </tr>\n",
       "    <tr>\n",
       "      <th>gm12878_1_4</th>\n",
       "      <td>gm12878_1_4</td>\n",
       "      <td>566726.0</td>\n",
       "      <td>gm12878</td>\n",
       "      <td>cell_line</td>\n",
       "      <td>NaN</td>\n",
       "    </tr>\n",
       "    <tr>\n",
       "      <th>gm12878_3_1</th>\n",
       "      <td>gm12878_3_1</td>\n",
       "      <td>885570.0</td>\n",
       "      <td>gm12878</td>\n",
       "      <td>cell_line</td>\n",
       "      <td>NaN</td>\n",
       "    </tr>\n",
       "  </tbody>\n",
       "</table>\n",
       "</div>"
      ],
      "text/plain": [
       "                 dataset  total_counts   sample classification health_status\n",
       "index                                                                       \n",
       "gm12878_1_1  gm12878_1_1      598749.0  gm12878      cell_line           NaN\n",
       "gm12878_1_2  gm12878_1_2      519722.0  gm12878      cell_line           NaN\n",
       "gm12878_1_3  gm12878_1_3      452616.0  gm12878      cell_line           NaN\n",
       "gm12878_1_4  gm12878_1_4      566726.0  gm12878      cell_line           NaN\n",
       "gm12878_3_1  gm12878_3_1      885570.0  gm12878      cell_line           NaN"
      ]
     },
     "execution_count": 15,
     "metadata": {},
     "output_type": "execute_result"
    }
   ],
   "source": [
    "sg.adata.obs.head()"
   ]
  },
  {
   "cell_type": "code",
   "execution_count": null,
   "id": "8b442697-b8fe-4d77-a148-d1b5d35c3225",
   "metadata": {},
   "outputs": [],
   "source": []
  }
 ],
 "metadata": {
  "kernelspec": {
   "display_name": "Python 3",
   "language": "python",
   "name": "python3"
  },
  "language_info": {
   "codemirror_mode": {
    "name": "ipython",
    "version": 3
   },
   "file_extension": ".py",
   "mimetype": "text/x-python",
   "name": "python",
   "nbconvert_exporter": "python",
   "pygments_lexer": "ipython3",
   "version": "3.7.4"
  }
 },
 "nbformat": 4,
 "nbformat_minor": 5
}
