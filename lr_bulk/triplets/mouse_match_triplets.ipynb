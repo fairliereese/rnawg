{
 "cells": [
  {
   "cell_type": "code",
   "execution_count": 1,
   "id": "2ed22f39-ae1e-478d-b1b9-6a8ad0dd0661",
   "metadata": {},
   "outputs": [],
   "source": [
    "import pandas as pd\n",
    "import numpy as np\n",
    "import scipy.stats as st\n",
    "import seaborn as sns\n",
    "import sys\n",
    "import os\n",
    "import gseapy as gp\n",
    "import swan_vis as swan\n",
    "from scipy import sparse\n",
    "\n",
    "p = os.path.dirname(os.path.dirname(os.getcwd()))\n",
    "sys.path.append(p)\n",
    "\n",
    "from scripts.utils import *\n",
    "from scripts.plotting import *"
   ]
  },
  {
   "cell_type": "code",
   "execution_count": 5,
   "id": "63f4ba54-e13c-490c-ba43-6e3561447196",
   "metadata": {},
   "outputs": [
    {
     "name": "stdout",
     "output_type": "stream",
     "text": [
      "Read in graph from ../swan/swan.p\n",
      "Calculating iso TPM values\n",
      "Subsetting for novelty categories ['Known', 'NIC', 'NNC']\n",
      "Subsetting for polya genes\n",
      "Enforcing minimum TPM\n",
      "Total # isos detected: 185293\n",
      "# isos >= 1 tpm: 167378\n",
      "Applying gene type and novelty subset\n",
      "Number of isos reported: 106687\n",
      "Calculating iso TPM values\n",
      "Subsetting for novelty categories ['Known', 'NIC', 'NNC']\n",
      "Subsetting for polya genes\n",
      "Enforcing minimum TPM\n",
      "Total # isos detected: 185293\n",
      "# isos >= 1 tpm: 112819\n",
      "Applying gene type and novelty subset\n",
      "Number of isos reported: 65928\n",
      "Calculating gene TPM values\n",
      "Subsetting for novelty categories ['Known']\n",
      "Subsetting for polya genes\n",
      "Enforcing minimum TPM\n",
      "Total # genes detected: 559881\n",
      "# genes >= 1 tpm: 274347\n",
      "Applying gene type and novelty subset\n",
      "Averaging over biosample\n",
      "Found 49 total samples\n",
      "Number of genes reported: 33635\n"
     ]
    }
   ],
   "source": [
    "# get list of detected filtered isoforms\n",
    "sg = swan.read('../swan/swan.p')\n",
    "df = pd.read_csv('../talon/human_talon_abundance_filtered.tsv', sep='\\t')\n",
    "\n",
    "# compute regions with all the transcripts so we're using \n",
    "# the unified set\n",
    "t_df, regions, counts = get_ic_tss_tes(sg,\n",
    "                                         df,\n",
    "                                         min_tpm=1, \n",
    "                                         gene_subset='polya',\n",
    "                                         annot_slack=200,\n",
    "                                         novel_slack=100)\n",
    "\n",
    "# add tissue triplets, remove old obs triplets before that\n",
    "temp = compute_triplets(t_df,\n",
    "                        df, \n",
    "                        sample='mouse_match',\n",
    "                        groupby='all')\n",
    "temp.source = 'obs'\n",
    "counts = counts.loc[counts.source != 'obs']\n",
    "counts = pd.concat([counts, temp])\n",
    "\n",
    "# add tpm on the sample level to the table\n",
    "df = pd.read_csv('../talon/human_talon_abundance.tsv', sep='\\t')\n",
    "gene_df,_ = get_tpm_table(df,\n",
    "                         how='gene',\n",
    "                         min_tpm=1, \n",
    "                         gene_subset='polya',\n",
    "                         groupby='sample')\n",
    "gene_df = gene_df.melt(ignore_index=False)\n",
    "gene_df.rename({'value':'tpm'}, axis=1, inplace=True)\n",
    "gene_df.reset_index(inplace=True)\n",
    "gene_df.rename({'index': 'gid'}, axis=1, inplace=True)\n",
    "counts = counts.merge(gene_df, how='left', left_on=['source', 'gid'], right_on=['biosample', 'gid'])"
   ]
  },
  {
   "cell_type": "code",
   "execution_count": 12,
   "id": "a46d6fe7-2e28-474e-b801-6e655c2c0368",
   "metadata": {},
   "outputs": [],
   "source": [
    "# save all triplets\n",
    "counts.to_csv('mouse_match_triplets.tsv', sep='\\t', index=False)"
   ]
  },
  {
   "cell_type": "markdown",
   "id": "2c03b2e8-9edf-4330-9851-aae4248fc2ad",
   "metadata": {},
   "source": [
    "## Compare human and mouse"
   ]
  },
  {
   "cell_type": "code",
   "execution_count": 3,
   "id": "f14911a0-0927-4b9d-ac3d-75ee2569c4ec",
   "metadata": {},
   "outputs": [],
   "source": [
    "import pandas as pd\n",
    "import numpy as np\n",
    "import scipy.stats as st\n",
    "import seaborn as sns\n",
    "import sys\n",
    "import os\n",
    "import gseapy as gp\n",
    "import swan_vis as swan\n",
    "from scipy import sparse\n",
    "\n",
    "p = os.path.dirname(os.path.dirname(os.getcwd()))\n",
    "sys.path.append(p)\n",
    "\n",
    "from scripts.utils import *\n",
    "from scripts.plotting import *"
   ]
  },
  {
   "cell_type": "code",
   "execution_count": 4,
   "id": "7890bf39-0f0a-43c7-a625-ae2162365349",
   "metadata": {},
   "outputs": [
    {
     "name": "stderr",
     "output_type": "stream",
     "text": [
      "/Users/fairliereese/miniconda3/lib/python3.7/site-packages/IPython/core/interactiveshell.py:3156: DtypeWarning: Columns (10) have mixed types.Specify dtype option on import or set low_memory=False.\n",
      "  interactivity=interactivity, compiler=compiler, result=result)\n",
      "/Users/fairliereese/miniconda3/lib/python3.7/site-packages/IPython/core/interactiveshell.py:3156: DtypeWarning: Columns (10,11) have mixed types.Specify dtype option on import or set low_memory=False.\n",
      "  interactivity=interactivity, compiler=compiler, result=result)\n"
     ]
    }
   ],
   "source": [
    "counts = pd.read_csv('mouse_match_triplets.tsv', sep='\\t')\n",
    "m_counts = pd.read_csv('../../../mousewg/lr_bulk/triplets/triplets.tsv', sep='\\t')"
   ]
  },
  {
   "cell_type": "code",
   "execution_count": 5,
   "id": "7c11236d-6ade-4a0f-ad05-bff5c95eb721",
   "metadata": {},
   "outputs": [
    {
     "name": "stdout",
     "output_type": "stream",
     "text": [
      "58780 genes are in GENCODE\n",
      "3096 (5.27%) genes are TSS-high in GENCODE\n",
      "3599 (6.12%) genes are TES-high in GENCODE\n",
      "195 (0.33%) genes are splicing-high in GENCODE\n",
      "51890 (88.28%) genes are simple in GENCODE\n",
      "17582 genes are in obs\n",
      "1017 (5.78%) genes are TSS-high in obs\n",
      "938 (5.34%) genes are TES-high in obs\n",
      "1066 (6.06%) genes are splicing-high in obs\n",
      "14561 (82.82%) genes are simple in obs\n"
     ]
    }
   ],
   "source": [
    "# GENCODE\n",
    "count_gisx_region_genes(counts, 'GENCODE', .5, .5, .5)\n",
    "\n",
    "# observed\n",
    "count_gisx_region_genes(counts, 'obs', .5, .5, .5)"
   ]
  },
  {
   "cell_type": "code",
   "execution_count": 6,
   "id": "7cd7a085-b36e-4acd-9fbf-05af45a79be3",
   "metadata": {},
   "outputs": [
    {
     "data": {
      "image/png": "[encoded data removed]",
      "text/plain": [
       "<Figure size 837.524x360 with 2 Axes>"
      ]
     },
     "metadata": {
      "needs_background": "light"
     },
     "output_type": "display_data"
    }
   ],
   "source": [
    "temp = plot_species_sector_gene_counts(m_counts, counts)"
   ]
  },
  {
   "cell_type": "code",
   "execution_count": 7,
   "id": "3c2449e5-d149-43ff-912b-dff546901cf7",
   "metadata": {},
   "outputs": [
    {
     "data": {
      "text/html": [
       "<div>\n",
       "<style scoped>\n",
       "    .dataframe tbody tr th:only-of-type {\n",
       "        vertical-align: middle;\n",
       "    }\n",
       "\n",
       "    .dataframe tbody tr th {\n",
       "        vertical-align: top;\n",
       "    }\n",
       "\n",
       "    .dataframe thead th {\n",
       "        text-align: right;\n",
       "    }\n",
       "</style>\n",
       "<table border=\"1\" class=\"dataframe\">\n",
       "  <thead>\n",
       "    <tr style=\"text-align: right;\">\n",
       "      <th></th>\n",
       "      <th>sector_human</th>\n",
       "      <th>sector_mouse</th>\n",
       "      <th>gid_human</th>\n",
       "    </tr>\n",
       "  </thead>\n",
       "  <tbody>\n",
       "    <tr>\n",
       "      <th>0</th>\n",
       "      <td>simple</td>\n",
       "      <td>simple</td>\n",
       "      <td>8770</td>\n",
       "    </tr>\n",
       "    <tr>\n",
       "      <th>1</th>\n",
       "      <td>simple</td>\n",
       "      <td>splicing</td>\n",
       "      <td>302</td>\n",
       "    </tr>\n",
       "    <tr>\n",
       "      <th>2</th>\n",
       "      <td>simple</td>\n",
       "      <td>tes</td>\n",
       "      <td>686</td>\n",
       "    </tr>\n",
       "    <tr>\n",
       "      <th>3</th>\n",
       "      <td>simple</td>\n",
       "      <td>tss</td>\n",
       "      <td>642</td>\n",
       "    </tr>\n",
       "    <tr>\n",
       "      <th>4</th>\n",
       "      <td>splicing</td>\n",
       "      <td>simple</td>\n",
       "      <td>796</td>\n",
       "    </tr>\n",
       "    <tr>\n",
       "      <th>5</th>\n",
       "      <td>splicing</td>\n",
       "      <td>splicing</td>\n",
       "      <td>77</td>\n",
       "    </tr>\n",
       "    <tr>\n",
       "      <th>6</th>\n",
       "      <td>splicing</td>\n",
       "      <td>tes</td>\n",
       "      <td>63</td>\n",
       "    </tr>\n",
       "    <tr>\n",
       "      <th>7</th>\n",
       "      <td>splicing</td>\n",
       "      <td>tss</td>\n",
       "      <td>76</td>\n",
       "    </tr>\n",
       "    <tr>\n",
       "      <th>8</th>\n",
       "      <td>tes</td>\n",
       "      <td>simple</td>\n",
       "      <td>602</td>\n",
       "    </tr>\n",
       "    <tr>\n",
       "      <th>9</th>\n",
       "      <td>tes</td>\n",
       "      <td>splicing</td>\n",
       "      <td>12</td>\n",
       "    </tr>\n",
       "    <tr>\n",
       "      <th>10</th>\n",
       "      <td>tes</td>\n",
       "      <td>tes</td>\n",
       "      <td>140</td>\n",
       "    </tr>\n",
       "    <tr>\n",
       "      <th>11</th>\n",
       "      <td>tes</td>\n",
       "      <td>tss</td>\n",
       "      <td>27</td>\n",
       "    </tr>\n",
       "    <tr>\n",
       "      <th>12</th>\n",
       "      <td>tss</td>\n",
       "      <td>simple</td>\n",
       "      <td>675</td>\n",
       "    </tr>\n",
       "    <tr>\n",
       "      <th>13</th>\n",
       "      <td>tss</td>\n",
       "      <td>splicing</td>\n",
       "      <td>21</td>\n",
       "    </tr>\n",
       "    <tr>\n",
       "      <th>14</th>\n",
       "      <td>tss</td>\n",
       "      <td>tes</td>\n",
       "      <td>23</td>\n",
       "    </tr>\n",
       "    <tr>\n",
       "      <th>15</th>\n",
       "      <td>tss</td>\n",
       "      <td>tss</td>\n",
       "      <td>200</td>\n",
       "    </tr>\n",
       "  </tbody>\n",
       "</table>\n",
       "</div>"
      ],
      "text/plain": [
       "   sector_human sector_mouse  gid_human\n",
       "0        simple       simple       8770\n",
       "1        simple     splicing        302\n",
       "2        simple          tes        686\n",
       "3        simple          tss        642\n",
       "4      splicing       simple        796\n",
       "5      splicing     splicing         77\n",
       "6      splicing          tes         63\n",
       "7      splicing          tss         76\n",
       "8           tes       simple        602\n",
       "9           tes     splicing         12\n",
       "10          tes          tes        140\n",
       "11          tes          tss         27\n",
       "12          tss       simple        675\n",
       "13          tss     splicing         21\n",
       "14          tss          tes         23\n",
       "15          tss          tss        200"
      ]
     },
     "execution_count": 7,
     "metadata": {},
     "output_type": "execute_result"
    }
   ],
   "source": [
    "df = compare_species(counts, m_counts) \n",
    "df[['gid_human', 'sector_human', 'sector_mouse']].groupby(['sector_human', 'sector_mouse']).count().reset_index()\n",
    "# df.rename({'gid_human': 'n_genes'}, axis=1, inplace=True)"
   ]
  },
  {
   "cell_type": "code",
   "execution_count": null,
   "id": "c81c8c28-ed5b-4e48-96ac-281c51a07e70",
   "metadata": {},
   "outputs": [],
   "source": []
  }
 ],
 "metadata": {
  "kernelspec": {
   "display_name": "Python 3",
   "language": "python",
   "name": "python3"
  },
  "language_info": {
   "codemirror_mode": {
    "name": "ipython",
    "version": 3
   },
   "file_extension": ".py",
   "mimetype": "text/x-python",
   "name": "python",
   "nbconvert_exporter": "python",
   "pygments_lexer": "ipython3",
   "version": "3.7.4"
  }
 },
 "nbformat": 4,
 "nbformat_minor": 5
}
