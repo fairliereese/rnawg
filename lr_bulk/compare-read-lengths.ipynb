{
 "cells": [
  {
   "cell_type": "markdown",
   "id": "confused-trick",
   "metadata": {},
   "source": [
    "# Introduction"
   ]
  },
  {
   "cell_type": "markdown",
   "id": "pursuant-weapon",
   "metadata": {},
   "source": [
    "Compare the read lengths between what made it to the bams and whats in the fastqs."
   ]
  },
  {
   "cell_type": "code",
   "execution_count": 1,
   "id": "rotary-flexibility",
   "metadata": {},
   "outputs": [],
   "source": [
    "import pandas\n",
    "\n",
    "import seaborn\n",
    "from matplotlib import pyplot"
   ]
  },
  {
   "cell_type": "code",
   "execution_count": 2,
   "id": "raising-superior",
   "metadata": {},
   "outputs": [
    {
     "name": "stdout",
     "output_type": "stream",
     "text": [
      "(138, 36)\n"
     ]
    },
    {
     "data": {
      "text/html": [
       "<div>\n",
       "<style scoped>\n",
       "    .dataframe tbody tr th:only-of-type {\n",
       "        vertical-align: middle;\n",
       "    }\n",
       "\n",
       "    .dataframe tbody tr th {\n",
       "        vertical-align: top;\n",
       "    }\n",
       "\n",
       "    .dataframe thead tr th {\n",
       "        text-align: left;\n",
       "    }\n",
       "</style>\n",
       "<table border=\"1\" class=\"dataframe\">\n",
       "  <thead>\n",
       "    <tr>\n",
       "      <th></th>\n",
       "      <th colspan=\"9\" halign=\"left\">primary</th>\n",
       "      <th>non_primary</th>\n",
       "      <th>...</th>\n",
       "      <th>unaligned</th>\n",
       "      <th colspan=\"9\" halign=\"left\">total</th>\n",
       "    </tr>\n",
       "    <tr>\n",
       "      <th></th>\n",
       "      <th>count</th>\n",
       "      <th>mean</th>\n",
       "      <th>std</th>\n",
       "      <th>min</th>\n",
       "      <th>25%</th>\n",
       "      <th>50%</th>\n",
       "      <th>75%</th>\n",
       "      <th>max</th>\n",
       "      <th>median</th>\n",
       "      <th>count</th>\n",
       "      <th>...</th>\n",
       "      <th>median</th>\n",
       "      <th>count</th>\n",
       "      <th>mean</th>\n",
       "      <th>std</th>\n",
       "      <th>min</th>\n",
       "      <th>25%</th>\n",
       "      <th>50%</th>\n",
       "      <th>75%</th>\n",
       "      <th>max</th>\n",
       "      <th>median</th>\n",
       "    </tr>\n",
       "  </thead>\n",
       "  <tbody>\n",
       "    <tr>\n",
       "      <th>ENCSR293MOX_1_1</th>\n",
       "      <td>683140.0</td>\n",
       "      <td>1209.884494</td>\n",
       "      <td>866.069058</td>\n",
       "      <td>300.0</td>\n",
       "      <td>587.0</td>\n",
       "      <td>913.0</td>\n",
       "      <td>1583.0</td>\n",
       "      <td>20450.0</td>\n",
       "      <td>913.0</td>\n",
       "      <td>44553.0</td>\n",
       "      <td>...</td>\n",
       "      <td>533.0</td>\n",
       "      <td>734723.0</td>\n",
       "      <td>1209.430372</td>\n",
       "      <td>871.409418</td>\n",
       "      <td>81.0</td>\n",
       "      <td>574.0</td>\n",
       "      <td>914.0</td>\n",
       "      <td>1591.0</td>\n",
       "      <td>20450.0</td>\n",
       "      <td>914.0</td>\n",
       "    </tr>\n",
       "    <tr>\n",
       "      <th>ENCSR081NRO_1_1</th>\n",
       "      <td>854940.0</td>\n",
       "      <td>1386.843563</td>\n",
       "      <td>933.383143</td>\n",
       "      <td>300.0</td>\n",
       "      <td>730.0</td>\n",
       "      <td>1243.0</td>\n",
       "      <td>1743.0</td>\n",
       "      <td>20435.0</td>\n",
       "      <td>1243.0</td>\n",
       "      <td>61457.0</td>\n",
       "      <td>...</td>\n",
       "      <td>576.0</td>\n",
       "      <td>918423.0</td>\n",
       "      <td>1383.144401</td>\n",
       "      <td>936.996919</td>\n",
       "      <td>80.0</td>\n",
       "      <td>722.0</td>\n",
       "      <td>1235.0</td>\n",
       "      <td>1743.0</td>\n",
       "      <td>20435.0</td>\n",
       "      <td>1235.0</td>\n",
       "    </tr>\n",
       "    <tr>\n",
       "      <th>ENCSR257JBF_1_2</th>\n",
       "      <td>770389.0</td>\n",
       "      <td>1540.944205</td>\n",
       "      <td>987.192926</td>\n",
       "      <td>300.0</td>\n",
       "      <td>855.0</td>\n",
       "      <td>1433.0</td>\n",
       "      <td>1856.0</td>\n",
       "      <td>20390.0</td>\n",
       "      <td>1433.0</td>\n",
       "      <td>53707.0</td>\n",
       "      <td>...</td>\n",
       "      <td>1337.0</td>\n",
       "      <td>829052.0</td>\n",
       "      <td>1541.419548</td>\n",
       "      <td>991.463472</td>\n",
       "      <td>80.0</td>\n",
       "      <td>847.0</td>\n",
       "      <td>1432.0</td>\n",
       "      <td>1870.0</td>\n",
       "      <td>20390.0</td>\n",
       "      <td>1432.0</td>\n",
       "    </tr>\n",
       "    <tr>\n",
       "      <th>ENCSR257JBF_1_1</th>\n",
       "      <td>715098.0</td>\n",
       "      <td>1471.351878</td>\n",
       "      <td>927.762674</td>\n",
       "      <td>300.0</td>\n",
       "      <td>825.0</td>\n",
       "      <td>1406.0</td>\n",
       "      <td>1774.0</td>\n",
       "      <td>19854.0</td>\n",
       "      <td>1406.0</td>\n",
       "      <td>50903.0</td>\n",
       "      <td>...</td>\n",
       "      <td>992.0</td>\n",
       "      <td>773020.0</td>\n",
       "      <td>1466.718856</td>\n",
       "      <td>930.325307</td>\n",
       "      <td>80.0</td>\n",
       "      <td>814.0</td>\n",
       "      <td>1402.0</td>\n",
       "      <td>1780.0</td>\n",
       "      <td>19854.0</td>\n",
       "      <td>1402.0</td>\n",
       "    </tr>\n",
       "    <tr>\n",
       "      <th>ENCSR838WFC_1_1</th>\n",
       "      <td>2135001.0</td>\n",
       "      <td>1607.560022</td>\n",
       "      <td>717.466194</td>\n",
       "      <td>80.0</td>\n",
       "      <td>1045.0</td>\n",
       "      <td>1568.0</td>\n",
       "      <td>2082.0</td>\n",
       "      <td>12755.0</td>\n",
       "      <td>1568.0</td>\n",
       "      <td>13932.0</td>\n",
       "      <td>...</td>\n",
       "      <td>72.0</td>\n",
       "      <td>2151100.0</td>\n",
       "      <td>1599.280992</td>\n",
       "      <td>722.153420</td>\n",
       "      <td>50.0</td>\n",
       "      <td>1035.0</td>\n",
       "      <td>1559.0</td>\n",
       "      <td>2077.0</td>\n",
       "      <td>12755.0</td>\n",
       "      <td>1559.0</td>\n",
       "    </tr>\n",
       "  </tbody>\n",
       "</table>\n",
       "<p>5 rows × 36 columns</p>\n",
       "</div>"
      ],
      "text/plain": [
       "                   primary                                                  \\\n",
       "                     count         mean         std    min     25%     50%   \n",
       "ENCSR293MOX_1_1   683140.0  1209.884494  866.069058  300.0   587.0   913.0   \n",
       "ENCSR081NRO_1_1   854940.0  1386.843563  933.383143  300.0   730.0  1243.0   \n",
       "ENCSR257JBF_1_2   770389.0  1540.944205  987.192926  300.0   855.0  1433.0   \n",
       "ENCSR257JBF_1_1   715098.0  1471.351878  927.762674  300.0   825.0  1406.0   \n",
       "ENCSR838WFC_1_1  2135001.0  1607.560022  717.466194   80.0  1045.0  1568.0   \n",
       "\n",
       "                                         non_primary  ... unaligned  \\\n",
       "                    75%      max  median       count  ...    median   \n",
       "ENCSR293MOX_1_1  1583.0  20450.0   913.0     44553.0  ...     533.0   \n",
       "ENCSR081NRO_1_1  1743.0  20435.0  1243.0     61457.0  ...     576.0   \n",
       "ENCSR257JBF_1_2  1856.0  20390.0  1433.0     53707.0  ...    1337.0   \n",
       "ENCSR257JBF_1_1  1774.0  19854.0  1406.0     50903.0  ...     992.0   \n",
       "ENCSR838WFC_1_1  2082.0  12755.0  1568.0     13932.0  ...      72.0   \n",
       "\n",
       "                     total                                                 \\\n",
       "                     count         mean         std   min     25%     50%   \n",
       "ENCSR293MOX_1_1   734723.0  1209.430372  871.409418  81.0   574.0   914.0   \n",
       "ENCSR081NRO_1_1   918423.0  1383.144401  936.996919  80.0   722.0  1235.0   \n",
       "ENCSR257JBF_1_2   829052.0  1541.419548  991.463472  80.0   847.0  1432.0   \n",
       "ENCSR257JBF_1_1   773020.0  1466.718856  930.325307  80.0   814.0  1402.0   \n",
       "ENCSR838WFC_1_1  2151100.0  1599.280992  722.153420  50.0  1035.0  1559.0   \n",
       "\n",
       "                                          \n",
       "                    75%      max  median  \n",
       "ENCSR293MOX_1_1  1591.0  20450.0   914.0  \n",
       "ENCSR081NRO_1_1  1743.0  20435.0  1235.0  \n",
       "ENCSR257JBF_1_2  1870.0  20390.0  1432.0  \n",
       "ENCSR257JBF_1_1  1780.0  19854.0  1402.0  \n",
       "ENCSR838WFC_1_1  2077.0  12755.0  1559.0  \n",
       "\n",
       "[5 rows x 36 columns]"
      ]
     },
     "execution_count": 2,
     "metadata": {},
     "output_type": "execute_result"
    }
   ],
   "source": [
    "bam_reads = pandas.read_csv(\"bam_read_summary.csv\", index_col=0, header=[0,1])\n",
    "print(bam_reads.shape)\n",
    "bam_reads.head()"
   ]
  },
  {
   "cell_type": "code",
   "execution_count": 3,
   "id": "afraid-indianapolis",
   "metadata": {},
   "outputs": [
    {
     "name": "stdout",
     "output_type": "stream",
     "text": [
      "(138, 9)\n"
     ]
    },
    {
     "data": {
      "text/html": [
       "<div>\n",
       "<style scoped>\n",
       "    .dataframe tbody tr th:only-of-type {\n",
       "        vertical-align: middle;\n",
       "    }\n",
       "\n",
       "    .dataframe tbody tr th {\n",
       "        vertical-align: top;\n",
       "    }\n",
       "\n",
       "    .dataframe thead th {\n",
       "        text-align: right;\n",
       "    }\n",
       "</style>\n",
       "<table border=\"1\" class=\"dataframe\">\n",
       "  <thead>\n",
       "    <tr style=\"text-align: right;\">\n",
       "      <th></th>\n",
       "      <th>count</th>\n",
       "      <th>mean</th>\n",
       "      <th>median</th>\n",
       "      <th>std</th>\n",
       "      <th>min</th>\n",
       "      <th>25%</th>\n",
       "      <th>50%</th>\n",
       "      <th>75%</th>\n",
       "      <th>max</th>\n",
       "    </tr>\n",
       "  </thead>\n",
       "  <tbody>\n",
       "    <tr>\n",
       "      <th>ENCSR293MOX_1_1</th>\n",
       "      <td>690170.0</td>\n",
       "      <td>1205.590579</td>\n",
       "      <td>912.0</td>\n",
       "      <td>868.004579</td>\n",
       "      <td>300.0</td>\n",
       "      <td>577.0</td>\n",
       "      <td>912.0</td>\n",
       "      <td>1578.0</td>\n",
       "      <td>20450.0</td>\n",
       "    </tr>\n",
       "    <tr>\n",
       "      <th>ENCSR081NRO_1_1</th>\n",
       "      <td>856966.0</td>\n",
       "      <td>1386.103723</td>\n",
       "      <td>1240.0</td>\n",
       "      <td>935.032789</td>\n",
       "      <td>300.0</td>\n",
       "      <td>729.0</td>\n",
       "      <td>1240.0</td>\n",
       "      <td>1743.0</td>\n",
       "      <td>20435.0</td>\n",
       "    </tr>\n",
       "    <tr>\n",
       "      <th>ENCSR257JBF_1_1</th>\n",
       "      <td>722117.0</td>\n",
       "      <td>1468.418269</td>\n",
       "      <td>1404.0</td>\n",
       "      <td>928.986870</td>\n",
       "      <td>300.0</td>\n",
       "      <td>821.0</td>\n",
       "      <td>1404.0</td>\n",
       "      <td>1772.0</td>\n",
       "      <td>19854.0</td>\n",
       "    </tr>\n",
       "    <tr>\n",
       "      <th>ENCSR257JBF_1_2</th>\n",
       "      <td>775345.0</td>\n",
       "      <td>1539.440640</td>\n",
       "      <td>1431.0</td>\n",
       "      <td>987.833987</td>\n",
       "      <td>300.0</td>\n",
       "      <td>854.0</td>\n",
       "      <td>1431.0</td>\n",
       "      <td>1854.0</td>\n",
       "      <td>20390.0</td>\n",
       "    </tr>\n",
       "    <tr>\n",
       "      <th>ENCSR838WFC_1_1</th>\n",
       "      <td>2137168.0</td>\n",
       "      <td>1606.083173</td>\n",
       "      <td>1567.0</td>\n",
       "      <td>718.682934</td>\n",
       "      <td>50.0</td>\n",
       "      <td>1044.0</td>\n",
       "      <td>1567.0</td>\n",
       "      <td>2082.0</td>\n",
       "      <td>12755.0</td>\n",
       "    </tr>\n",
       "  </tbody>\n",
       "</table>\n",
       "</div>"
      ],
      "text/plain": [
       "                     count         mean  median         std    min     25%  \\\n",
       "ENCSR293MOX_1_1   690170.0  1205.590579   912.0  868.004579  300.0   577.0   \n",
       "ENCSR081NRO_1_1   856966.0  1386.103723  1240.0  935.032789  300.0   729.0   \n",
       "ENCSR257JBF_1_1   722117.0  1468.418269  1404.0  928.986870  300.0   821.0   \n",
       "ENCSR257JBF_1_2   775345.0  1539.440640  1431.0  987.833987  300.0   854.0   \n",
       "ENCSR838WFC_1_1  2137168.0  1606.083173  1567.0  718.682934   50.0  1044.0   \n",
       "\n",
       "                    50%     75%      max  \n",
       "ENCSR293MOX_1_1   912.0  1578.0  20450.0  \n",
       "ENCSR081NRO_1_1  1240.0  1743.0  20435.0  \n",
       "ENCSR257JBF_1_1  1404.0  1772.0  19854.0  \n",
       "ENCSR257JBF_1_2  1431.0  1854.0  20390.0  \n",
       "ENCSR838WFC_1_1  1567.0  2082.0  12755.0  "
      ]
     },
     "execution_count": 3,
     "metadata": {},
     "output_type": "execute_result"
    }
   ],
   "source": [
    "fastq_reads = pandas.read_csv(\"fastq_lengths.csv\", index_col=0, header=[0])\n",
    "print(fastq_reads.shape)\n",
    "fastq_reads.head()"
   ]
  },
  {
   "cell_type": "code",
   "execution_count": 4,
   "id": "international-scanner",
   "metadata": {},
   "outputs": [
    {
     "name": "stderr",
     "output_type": "stream",
     "text": [
      "/usr/lib/python3/dist-packages/pandas/core/reshape/merge.py:643: UserWarning: merging between different levels can give an unintended result (2 levels on the left,1 on the right)\n",
      "  warnings.warn(msg, UserWarning)\n"
     ]
    }
   ],
   "source": [
    "read_counts = pandas.merge(bam_reads[[(\"primary\", \"count\")]], fastq_reads[[\"count\"]], left_index=True, right_index=True)\n",
    "read_counts.columns = [\"aligned_read_count\", \"fastq_read_count\"]"
   ]
  },
  {
   "cell_type": "code",
   "execution_count": 5,
   "id": "young-narrative",
   "metadata": {},
   "outputs": [
    {
     "data": {
      "text/html": [
       "<div>\n",
       "<style scoped>\n",
       "    .dataframe tbody tr th:only-of-type {\n",
       "        vertical-align: middle;\n",
       "    }\n",
       "\n",
       "    .dataframe tbody tr th {\n",
       "        vertical-align: top;\n",
       "    }\n",
       "\n",
       "    .dataframe thead th {\n",
       "        text-align: right;\n",
       "    }\n",
       "</style>\n",
       "<table border=\"1\" class=\"dataframe\">\n",
       "  <thead>\n",
       "    <tr style=\"text-align: right;\">\n",
       "      <th></th>\n",
       "      <th>aligned_read_count</th>\n",
       "      <th>fastq_read_count</th>\n",
       "      <th>aligned_gt</th>\n",
       "    </tr>\n",
       "  </thead>\n",
       "  <tbody>\n",
       "    <tr>\n",
       "      <th>ENCSR293MOX_1_1</th>\n",
       "      <td>683140.0</td>\n",
       "      <td>690170.0</td>\n",
       "      <td>False</td>\n",
       "    </tr>\n",
       "    <tr>\n",
       "      <th>ENCSR081NRO_1_1</th>\n",
       "      <td>854940.0</td>\n",
       "      <td>856966.0</td>\n",
       "      <td>False</td>\n",
       "    </tr>\n",
       "    <tr>\n",
       "      <th>ENCSR257JBF_1_2</th>\n",
       "      <td>770389.0</td>\n",
       "      <td>775345.0</td>\n",
       "      <td>False</td>\n",
       "    </tr>\n",
       "    <tr>\n",
       "      <th>ENCSR257JBF_1_1</th>\n",
       "      <td>715098.0</td>\n",
       "      <td>722117.0</td>\n",
       "      <td>False</td>\n",
       "    </tr>\n",
       "    <tr>\n",
       "      <th>ENCSR838WFC_1_1</th>\n",
       "      <td>2135001.0</td>\n",
       "      <td>2137168.0</td>\n",
       "      <td>False</td>\n",
       "    </tr>\n",
       "    <tr>\n",
       "      <th>...</th>\n",
       "      <td>...</td>\n",
       "      <td>...</td>\n",
       "      <td>...</td>\n",
       "    </tr>\n",
       "    <tr>\n",
       "      <th>ENCSR463IDK_1_1</th>\n",
       "      <td>2223209.0</td>\n",
       "      <td>2255491.0</td>\n",
       "      <td>False</td>\n",
       "    </tr>\n",
       "    <tr>\n",
       "      <th>ENCSR316ZTD_1_1</th>\n",
       "      <td>2732454.0</td>\n",
       "      <td>2796483.0</td>\n",
       "      <td>False</td>\n",
       "    </tr>\n",
       "    <tr>\n",
       "      <th>ENCSR462COR_1_1</th>\n",
       "      <td>3014382.0</td>\n",
       "      <td>3152341.0</td>\n",
       "      <td>False</td>\n",
       "    </tr>\n",
       "    <tr>\n",
       "      <th>ENCSR257YUB_1_1</th>\n",
       "      <td>2860061.0</td>\n",
       "      <td>2904443.0</td>\n",
       "      <td>False</td>\n",
       "    </tr>\n",
       "    <tr>\n",
       "      <th>ENCSR690QHM_1_1</th>\n",
       "      <td>2411154.0</td>\n",
       "      <td>2471748.0</td>\n",
       "      <td>False</td>\n",
       "    </tr>\n",
       "  </tbody>\n",
       "</table>\n",
       "<p>138 rows × 3 columns</p>\n",
       "</div>"
      ],
      "text/plain": [
       "                 aligned_read_count  fastq_read_count  aligned_gt\n",
       "ENCSR293MOX_1_1            683140.0          690170.0       False\n",
       "ENCSR081NRO_1_1            854940.0          856966.0       False\n",
       "ENCSR257JBF_1_2            770389.0          775345.0       False\n",
       "ENCSR257JBF_1_1            715098.0          722117.0       False\n",
       "ENCSR838WFC_1_1           2135001.0         2137168.0       False\n",
       "...                             ...               ...         ...\n",
       "ENCSR463IDK_1_1           2223209.0         2255491.0       False\n",
       "ENCSR316ZTD_1_1           2732454.0         2796483.0       False\n",
       "ENCSR462COR_1_1           3014382.0         3152341.0       False\n",
       "ENCSR257YUB_1_1           2860061.0         2904443.0       False\n",
       "ENCSR690QHM_1_1           2411154.0         2471748.0       False\n",
       "\n",
       "[138 rows x 3 columns]"
      ]
     },
     "execution_count": 5,
     "metadata": {},
     "output_type": "execute_result"
    }
   ],
   "source": [
    "read_counts[\"aligned_gt\"] = (read_counts[\"aligned_read_count\"] > read_counts[\"fastq_read_count\"])\n",
    "read_counts"
   ]
  },
  {
   "cell_type": "code",
   "execution_count": 6,
   "id": "vertical-financing",
   "metadata": {},
   "outputs": [
    {
     "data": {
      "text/plain": [
       "0"
      ]
     },
     "execution_count": 6,
     "metadata": {},
     "output_type": "execute_result"
    }
   ],
   "source": [
    "read_counts[\"aligned_gt\"].sum()"
   ]
  },
  {
   "cell_type": "code",
   "execution_count": 7,
   "id": "attempted-tamil",
   "metadata": {},
   "outputs": [
    {
     "data": {
      "text/plain": [
       "217913736.0"
      ]
     },
     "execution_count": 7,
     "metadata": {},
     "output_type": "execute_result"
    }
   ],
   "source": [
    "fastq_reads[\"count\"].sum()"
   ]
  },
  {
   "cell_type": "code",
   "execution_count": 9,
   "id": "written-defendant",
   "metadata": {},
   "outputs": [
    {
     "data": {
      "text/plain": [
       "<AxesSubplot:xlabel='fastq_read_count', ylabel='aligned_read_count'>"
      ]
     },
     "execution_count": 9,
     "metadata": {},
     "output_type": "execute_result"
    },
    {
     "data": {
      "image/png": "[encoded data removed]",
      "text/plain": [
       "<Figure size 432x288 with 1 Axes>"
      ]
     },
     "metadata": {
      "needs_background": "light"
     },
     "output_type": "display_data"
    }
   ],
   "source": [
    "read_counts.plot.scatter(x=\"fastq_read_count\", y=\"aligned_read_count\")"
   ]
  },
  {
   "cell_type": "code",
   "execution_count": 10,
   "id": "broad-politics",
   "metadata": {},
   "outputs": [
    {
     "data": {
      "image/png": "[encoded data removed]",
      "text/plain": [
       "<Figure size 432x288 with 1 Axes>"
      ]
     },
     "metadata": {
      "needs_background": "light"
     },
     "output_type": "display_data"
    }
   ],
   "source": [
    "f = pyplot.figure()\n",
    "ax = f.add_subplot(1,1,1)\n",
    "read_counts.plot.scatter(x=\"fastq_read_count\", y=\"aligned_read_count\", ax=ax)\n",
    "xmin, xmax = ax.get_xlim()\n",
    "ymin, ymax = ax.get_ylim()\n",
    "_ = ax.plot([0,xmax], [0,ymax], color='k')"
   ]
  },
  {
   "cell_type": "markdown",
   "id": "specified-gazette",
   "metadata": {},
   "source": [
    "# primary median read length vs fastq read length"
   ]
  },
  {
   "cell_type": "code",
   "execution_count": 11,
   "id": "delayed-chair",
   "metadata": {},
   "outputs": [
    {
     "name": "stderr",
     "output_type": "stream",
     "text": [
      "/usr/lib/python3/dist-packages/pandas/core/reshape/merge.py:643: UserWarning: merging between different levels can give an unintended result (2 levels on the left,1 on the right)\n",
      "  warnings.warn(msg, UserWarning)\n"
     ]
    },
    {
     "data": {
      "image/png": "[encoded data removed]",
      "text/plain": [
       "<Figure size 432x288 with 1 Axes>"
      ]
     },
     "metadata": {
      "needs_background": "light"
     },
     "output_type": "display_data"
    }
   ],
   "source": [
    "f = pyplot.figure()\n",
    "ax = f.add_subplot(1,1,1)\n",
    "\n",
    "primary_median = pandas.merge(bam_reads[[(\"primary\", \"median\")]], fastq_reads[[\"median\"]], left_index=True, right_index=True)\n",
    "primary_median.columns = [\"primary_read_median\", \"fastq_read_median\"]\n",
    "primary_median.plot.scatter(x=\"fastq_read_median\", y=\"primary_read_median\", ax=ax)\n",
    "xmin, xmax = ax.get_xlim()\n",
    "ymin, ymax = ax.get_ylim()\n",
    "_ = ax.plot([0,xmax], [0,ymax], color='k')"
   ]
  },
  {
   "cell_type": "code",
   "execution_count": null,
   "id": "dated-paste",
   "metadata": {},
   "outputs": [],
   "source": []
  }
 ],
 "metadata": {
  "kernelspec": {
   "display_name": "Python 3",
   "language": "python",
   "name": "python3"
  },
  "language_info": {
   "codemirror_mode": {
    "name": "ipython",
    "version": 3
   },
   "file_extension": ".py",
   "mimetype": "text/x-python",
   "name": "python",
   "nbconvert_exporter": "python",
   "pygments_lexer": "ipython3",
   "version": "3.7.4"
  }
 },
 "nbformat": 4,
 "nbformat_minor": 5
}
