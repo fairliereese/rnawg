{
 "cells": [
  {
   "cell_type": "code",
   "execution_count": 2,
   "id": "613bf09a-bd89-4750-8db7-f3c5de7992f5",
   "metadata": {},
   "outputs": [],
   "source": [
    "import pandas as pd\n",
    "import numpy as np\n",
    "import scipy.stats as st\n",
    "import seaborn as sns\n",
    "import sys\n",
    "import os\n",
    "import gseapy as gp\n",
    "import cerberus\n",
    "\n",
    "p = os.path.dirname(os.path.dirname(os.getcwd()))\n",
    "sys.path.append(p)\n",
    "\n",
    "from scripts.utils import *\n",
    "from scripts.plotting import *"
   ]
  },
  {
   "cell_type": "code",
   "execution_count": 32,
   "id": "3d30c1ba-39b8-40b6-ba6c-77c4a74dad5e",
   "metadata": {},
   "outputs": [],
   "source": [
    "ab = '../talon/human_talon_abundance.tsv'\n",
    "filt_ab = 'cerberus_filtered_abundance.tsv'\n",
    "c_annot = 'cerberus_annot.h5'\n",
    "ver = 'v40_cerberus'\n",
    "complete_novs = ['Known', 'NIC', 'NNC', 'ISM_rescue']"
   ]
  },
  {
   "cell_type": "markdown",
   "id": "170e6040-5de4-4bc2-aef9-2470117d2b27",
   "metadata": {},
   "source": [
    "## PolyA gene transcript detection"
   ]
  },
  {
   "cell_type": "markdown",
   "id": "7203cbf6-f653-4b4d-aef3-e8ab1745ad5a",
   "metadata": {},
   "source": [
    "What fraction of polyA genes from the annotation do we detect with at least 1 known isoform >= 1 TPM in any library?"
   ]
  },
  {
   "cell_type": "code",
   "execution_count": 11,
   "id": "dfe7b42f-8a42-4d87-9d12-009c009cedca",
   "metadata": {},
   "outputs": [
    {
     "name": "stdout",
     "output_type": "stream",
     "text": [
      "Calculating iso TPM values\n",
      "Subsetting for novelty categories ['Known']\n",
      "Subsetting for polya genes\n"
     ]
    },
    {
     "name": "stderr",
     "output_type": "stream",
     "text": [
      "/Users/fairliereese/Documents/programming/mortazavi_lab/data/rnawg/scripts/utils.py:1297: PerformanceWarning: DataFrame is highly fragmented.  This is usually the result of calling `frame.insert` many times, which has poor performance.  Consider joining all columns at once using pd.concat(axis=1) instead.  To get a de-fragmented frame, use `newframe = frame.copy()`\n",
      "  df[total_col] = df[d].sum()\n",
      "/Users/fairliereese/Documents/programming/mortazavi_lab/data/rnawg/scripts/utils.py:1298: PerformanceWarning: DataFrame is highly fragmented.  This is usually the result of calling `frame.insert` many times, which has poor performance.  Consider joining all columns at once using pd.concat(axis=1) instead.  To get a de-fragmented frame, use `newframe = frame.copy()`\n",
      "  df[tpm_col] = (df[d]*1000000)/df[total_col]\n"
     ]
    },
    {
     "name": "stdout",
     "output_type": "stream",
     "text": [
      "Enforcing minimum TPM\n",
      "Total # isos detected: 245379\n",
      "# isos >= 1 tpm: 223477\n",
      "Applying gene type and novelty subset\n",
      "Number of isos reported: 132274\n",
      "Detected 26446 / 52274 (50.59%) annotated polyA genes w/ at least 1 known transcript >= 1 TPM\n"
     ]
    }
   ],
   "source": [
    "df = pd.read_csv(filt_ab, sep='\\t')\n",
    "df, tids = get_tpm_table(df,\n",
    "               how='iso',\n",
    "               nov=['Known'],\n",
    "               min_tpm=1,\n",
    "               gene_subset='polya')\n",
    "\n",
    "# merge with gene id\n",
    "gene_df = pd.read_csv(filt_ab, sep='\\t')\n",
    "gene_df = gene_df[['annot_gene_id', 'annot_transcript_id']]\n",
    "df = df.merge(gene_df, how='left', left_index=True, right_on='annot_transcript_id')\n",
    "\n",
    "gene_df, _, _ = get_gtf_info(how='gene', ver=ver)\n",
    "\n",
    "polya_biotypes = ['protein_coding', 'pseudogene', 'lncRNA']\n",
    "polya_genes = gene_df.loc[gene_df.biotype_category.isin(polya_biotypes), 'gid'].tolist()\n",
    "n_polya = len(polya_genes)\n",
    "n_det_polya = len(df.annot_gene_id.unique().tolist())\n",
    "\n",
    "print('Detected {} / {} ({:.2f}%) annotated polyA genes w/ at least 1 known transcript >= 1 TPM'.format(n_det_polya, n_polya, (n_det_polya/n_polya)*100))"
   ]
  },
  {
   "cell_type": "markdown",
   "id": "ca78fffa-5694-42d7-980a-1a37ea233685",
   "metadata": {},
   "source": [
    "## TF gene transcript detection\n",
    "\n",
    "What fraction of TF genes from the annotation do we detect with at least 1 known isoform >= 1 TPM in any library?"
   ]
  },
  {
   "cell_type": "code",
   "execution_count": 12,
   "id": "5f2fd8cd-e329-46f8-b6dd-7041bf2ce415",
   "metadata": {},
   "outputs": [
    {
     "name": "stdout",
     "output_type": "stream",
     "text": [
      "Calculating iso TPM values\n",
      "Subsetting for novelty categories ['Known']\n",
      "Subsetting for tf genes\n",
      "Enforcing minimum TPM\n",
      "Total # isos detected: 245379\n",
      "# isos >= 1 tpm: 223477\n",
      "Applying gene type and novelty subset\n",
      "Number of isos reported: 9102\n",
      "Detected 1326 / 1419 (93.45%) annotated TF genes w/ at least 1 known transcript >= 1 TPM\n"
     ]
    }
   ],
   "source": [
    "df = pd.read_csv(filt_ab, sep='\\t')\n",
    "df, tids = get_tpm_table(df,\n",
    "                   how='iso',\n",
    "                   nov=['Known'],\n",
    "                   min_tpm=1,\n",
    "                   gene_subset='tf')\n",
    "\n",
    "# merge with gene id\n",
    "gene_df = pd.read_csv(filt_ab, sep='\\t')\n",
    "gene_df = gene_df[['annot_gene_id', 'annot_transcript_id']]\n",
    "df = df.merge(gene_df, how='left', left_index=True, right_on='annot_transcript_id')\n",
    "\n",
    "gene_df, _, _ = get_gtf_info(how='gene', subset='tf', ver=ver)\n",
    "\n",
    "n_tf = len(gene_df.index)\n",
    "n_det_tf = len(df.annot_gene_id.unique().tolist())\n",
    "\n",
    "print('Detected {} / {} ({:.2f}%) annotated TF genes w/ at least 1 known transcript >= 1 TPM'.format(n_det_tf, n_tf, (n_det_tf/n_tf)*100))"
   ]
  },
  {
   "cell_type": "markdown",
   "id": "153b85ce-0abc-43e5-9df9-d48da23d316a",
   "metadata": {},
   "source": [
    "Which TFs have the most isoforms?"
   ]
  },
  {
   "cell_type": "code",
   "execution_count": 7,
   "id": "c6e1bbf6-51a1-4bc3-beb8-4a8272d81a7d",
   "metadata": {},
   "outputs": [
    {
     "name": "stdout",
     "output_type": "stream",
     "text": [
      "Calculating iso TPM values\n",
      "Subsetting for novelty categories ['Known', 'NIC', 'NNC', 'ISM_rescue']\n",
      "Subsetting for tf genes\n",
      "Enforcing minimum TPM\n",
      "Total # isos detected: 245379\n",
      "# isos >= 1 tpm: 223477\n",
      "Applying gene type and novelty subset\n",
      "Number of isos reported: 13122\n"
     ]
    },
    {
     "data": {
      "text/html": [
       "<div>\n",
       "<style scoped>\n",
       "    .dataframe tbody tr th:only-of-type {\n",
       "        vertical-align: middle;\n",
       "    }\n",
       "\n",
       "    .dataframe tbody tr th {\n",
       "        vertical-align: top;\n",
       "    }\n",
       "\n",
       "    .dataframe thead th {\n",
       "        text-align: right;\n",
       "    }\n",
       "</style>\n",
       "<table border=\"1\" class=\"dataframe\">\n",
       "  <thead>\n",
       "    <tr style=\"text-align: right;\">\n",
       "      <th></th>\n",
       "      <th>annot_gene_id</th>\n",
       "      <th>all</th>\n",
       "      <th>gid_stable</th>\n",
       "      <th>gname</th>\n",
       "    </tr>\n",
       "  </thead>\n",
       "  <tbody>\n",
       "    <tr>\n",
       "      <th>87</th>\n",
       "      <td>ENSG00000081189.15</td>\n",
       "      <td>74</td>\n",
       "      <td>ENSG00000081189</td>\n",
       "      <td>MEF2C</td>\n",
       "    </tr>\n",
       "    <tr>\n",
       "      <th>5</th>\n",
       "      <td>ENSG00000005801.17</td>\n",
       "      <td>71</td>\n",
       "      <td>ENSG00000005801</td>\n",
       "      <td>ZNF195</td>\n",
       "    </tr>\n",
       "    <tr>\n",
       "      <th>68</th>\n",
       "      <td>ENSG00000071564.14</td>\n",
       "      <td>67</td>\n",
       "      <td>ENSG00000071564</td>\n",
       "      <td>TCF3</td>\n",
       "    </tr>\n",
       "    <tr>\n",
       "      <th>120</th>\n",
       "      <td>ENSG00000095794.19</td>\n",
       "      <td>66</td>\n",
       "      <td>ENSG00000095794</td>\n",
       "      <td>CREM</td>\n",
       "    </tr>\n",
       "    <tr>\n",
       "      <th>44</th>\n",
       "      <td>ENSG00000062194.15</td>\n",
       "      <td>64</td>\n",
       "      <td>ENSG00000062194</td>\n",
       "      <td>GPBP1</td>\n",
       "    </tr>\n",
       "    <tr>\n",
       "      <th>843</th>\n",
       "      <td>ENSG00000175387.15</td>\n",
       "      <td>64</td>\n",
       "      <td>ENSG00000175387</td>\n",
       "      <td>SMAD2</td>\n",
       "    </tr>\n",
       "    <tr>\n",
       "      <th>62</th>\n",
       "      <td>ENSG00000068305.17</td>\n",
       "      <td>59</td>\n",
       "      <td>ENSG00000068305</td>\n",
       "      <td>MEF2A</td>\n",
       "    </tr>\n",
       "    <tr>\n",
       "      <th>302</th>\n",
       "      <td>ENSG00000120837.7</td>\n",
       "      <td>57</td>\n",
       "      <td>ENSG00000120837</td>\n",
       "      <td>NFYB</td>\n",
       "    </tr>\n",
       "    <tr>\n",
       "      <th>404</th>\n",
       "      <td>ENSG00000130844.17</td>\n",
       "      <td>57</td>\n",
       "      <td>ENSG00000130844</td>\n",
       "      <td>ZNF331</td>\n",
       "    </tr>\n",
       "    <tr>\n",
       "      <th>100</th>\n",
       "      <td>ENSG00000085274.15</td>\n",
       "      <td>56</td>\n",
       "      <td>ENSG00000085274</td>\n",
       "      <td>MYNN</td>\n",
       "    </tr>\n",
       "  </tbody>\n",
       "</table>\n",
       "</div>"
      ],
      "text/plain": [
       "          annot_gene_id  all       gid_stable   gname\n",
       "87   ENSG00000081189.15   74  ENSG00000081189   MEF2C\n",
       "5    ENSG00000005801.17   71  ENSG00000005801  ZNF195\n",
       "68   ENSG00000071564.14   67  ENSG00000071564    TCF3\n",
       "120  ENSG00000095794.19   66  ENSG00000095794    CREM\n",
       "44   ENSG00000062194.15   64  ENSG00000062194   GPBP1\n",
       "843  ENSG00000175387.15   64  ENSG00000175387   SMAD2\n",
       "62   ENSG00000068305.17   59  ENSG00000068305   MEF2A\n",
       "302   ENSG00000120837.7   57  ENSG00000120837    NFYB\n",
       "404  ENSG00000130844.17   57  ENSG00000130844  ZNF331\n",
       "100  ENSG00000085274.15   56  ENSG00000085274    MYNN"
      ]
     },
     "execution_count": 7,
     "metadata": {},
     "output_type": "execute_result"
    }
   ],
   "source": [
    "df = pd.read_csv(filt_ab, sep='\\t')\n",
    "df = get_isos_per_gene(df,\n",
    "                       min_tpm=1,\n",
    "                       gene_subset='tf',\n",
    "                       groupby='all', \n",
    "                       nov=complete_novs)\n",
    "gene_df, _, _ = get_gtf_info(how='gene', ver=ver, add_stable_gid=True)\n",
    "\n",
    "df.reset_index(inplace=True)\n",
    "df['gid_stable'] = cerberus.get_stable_gid(df, 'annot_gene_id')\n",
    "df.set_index('annot_gene_id')\n",
    "      \n",
    "df = df.merge(gene_df[['gid_stable', 'gname']], \n",
    "              how='left', \n",
    "              on='gid_stable')\n",
    "df = df.sort_values(by='all', ascending=False)\n",
    "df.head(10)"
   ]
  },
  {
   "cell_type": "markdown",
   "id": "f8008835-d4b3-4ac1-a6d0-9f0eb0951c14",
   "metadata": {},
   "source": [
    "Which TF has the most isoforms expressed in a single sample? "
   ]
  },
  {
   "cell_type": "code",
   "execution_count": 9,
   "id": "0f47243c-28ea-4275-bd92-a0e218d6dc31",
   "metadata": {},
   "outputs": [
    {
     "name": "stdout",
     "output_type": "stream",
     "text": [
      "Calculating iso TPM values\n",
      "Subsetting for novelty categories ['Known', 'NIC', 'NNC', 'ISM_rescue']\n",
      "Subsetting for tf genes\n",
      "Enforcing minimum TPM\n",
      "Total # isos detected: 245379\n",
      "# isos >= 1 tpm: 223477\n",
      "Applying gene type and novelty subset\n",
      "Number of isos reported: 13122\n",
      "Found 50 total samples\n"
     ]
    },
    {
     "data": {
      "text/html": [
       "<div>\n",
       "<style scoped>\n",
       "    .dataframe tbody tr th:only-of-type {\n",
       "        vertical-align: middle;\n",
       "    }\n",
       "\n",
       "    .dataframe tbody tr th {\n",
       "        vertical-align: top;\n",
       "    }\n",
       "\n",
       "    .dataframe thead th {\n",
       "        text-align: right;\n",
       "    }\n",
       "</style>\n",
       "<table border=\"1\" class=\"dataframe\">\n",
       "  <thead>\n",
       "    <tr style=\"text-align: right;\">\n",
       "      <th></th>\n",
       "      <th>annot_gene_id</th>\n",
       "      <th>max_sample</th>\n",
       "      <th>gid_stable</th>\n",
       "      <th>gname</th>\n",
       "    </tr>\n",
       "  </thead>\n",
       "  <tbody>\n",
       "    <tr>\n",
       "      <th>250</th>\n",
       "      <td>ENSG00000115415.18</td>\n",
       "      <td>44.0</td>\n",
       "      <td>ENSG00000115415</td>\n",
       "      <td>STAT1</td>\n",
       "    </tr>\n",
       "    <tr>\n",
       "      <th>120</th>\n",
       "      <td>ENSG00000095794.19</td>\n",
       "      <td>42.0</td>\n",
       "      <td>ENSG00000095794</td>\n",
       "      <td>CREM</td>\n",
       "    </tr>\n",
       "    <tr>\n",
       "      <th>87</th>\n",
       "      <td>ENSG00000081189.15</td>\n",
       "      <td>41.0</td>\n",
       "      <td>ENSG00000081189</td>\n",
       "      <td>MEF2C</td>\n",
       "    </tr>\n",
       "    <tr>\n",
       "      <th>62</th>\n",
       "      <td>ENSG00000068305.17</td>\n",
       "      <td>41.0</td>\n",
       "      <td>ENSG00000068305</td>\n",
       "      <td>MEF2A</td>\n",
       "    </tr>\n",
       "    <tr>\n",
       "      <th>44</th>\n",
       "      <td>ENSG00000062194.15</td>\n",
       "      <td>41.0</td>\n",
       "      <td>ENSG00000062194</td>\n",
       "      <td>GPBP1</td>\n",
       "    </tr>\n",
       "    <tr>\n",
       "      <th>471</th>\n",
       "      <td>ENSG00000137504.13</td>\n",
       "      <td>38.0</td>\n",
       "      <td>ENSG00000137504</td>\n",
       "      <td>CREBZF</td>\n",
       "    </tr>\n",
       "    <tr>\n",
       "      <th>728</th>\n",
       "      <td>ENSG00000168610.14</td>\n",
       "      <td>36.0</td>\n",
       "      <td>ENSG00000168610</td>\n",
       "      <td>STAT3</td>\n",
       "    </tr>\n",
       "    <tr>\n",
       "      <th>5</th>\n",
       "      <td>ENSG00000005801.17</td>\n",
       "      <td>36.0</td>\n",
       "      <td>ENSG00000005801</td>\n",
       "      <td>ZNF195</td>\n",
       "    </tr>\n",
       "    <tr>\n",
       "      <th>364</th>\n",
       "      <td>ENSG00000126561.16</td>\n",
       "      <td>35.0</td>\n",
       "      <td>ENSG00000126561</td>\n",
       "      <td>STAT5A</td>\n",
       "    </tr>\n",
       "    <tr>\n",
       "      <th>101</th>\n",
       "      <td>ENSG00000085276.17</td>\n",
       "      <td>34.0</td>\n",
       "      <td>ENSG00000085276</td>\n",
       "      <td>MECOM</td>\n",
       "    </tr>\n",
       "  </tbody>\n",
       "</table>\n",
       "</div>"
      ],
      "text/plain": [
       "          annot_gene_id  max_sample       gid_stable   gname\n",
       "250  ENSG00000115415.18        44.0  ENSG00000115415   STAT1\n",
       "120  ENSG00000095794.19        42.0  ENSG00000095794    CREM\n",
       "87   ENSG00000081189.15        41.0  ENSG00000081189   MEF2C\n",
       "62   ENSG00000068305.17        41.0  ENSG00000068305   MEF2A\n",
       "44   ENSG00000062194.15        41.0  ENSG00000062194   GPBP1\n",
       "471  ENSG00000137504.13        38.0  ENSG00000137504  CREBZF\n",
       "728  ENSG00000168610.14        36.0  ENSG00000168610   STAT3\n",
       "5    ENSG00000005801.17        36.0  ENSG00000005801  ZNF195\n",
       "364  ENSG00000126561.16        35.0  ENSG00000126561  STAT5A\n",
       "101  ENSG00000085276.17        34.0  ENSG00000085276   MECOM"
      ]
     },
     "execution_count": 9,
     "metadata": {},
     "output_type": "execute_result"
    }
   ],
   "source": [
    "df = pd.read_csv(filt_ab, sep='\\t')\n",
    "df = get_isos_per_gene(df,\n",
    "                       min_tpm=1,\n",
    "                       gene_subset='tf',\n",
    "                       groupby='sample', \n",
    "                       nov=complete_novs)\n",
    "df['max_sample'] = df.max(1)\n",
    "df = df['max_sample'].to_frame()\n",
    "\n",
    "gene_df, _, _ = get_gtf_info(how='gene', ver=ver, add_stable_gid=True)\n",
    "df.reset_index(inplace=True)\n",
    "df['gid_stable'] = cerberus.get_stable_gid(df, 'annot_gene_id')\n",
    "df.set_index('annot_gene_id')\n",
    "df = df.merge(gene_df[['gid_stable', 'gname']], \n",
    "              how='left', \n",
    "              on='gid_stable')\n",
    "\n",
    "df = df.sort_values(by='max_sample', ascending=False)\n",
    "df.head(10)"
   ]
  },
  {
   "cell_type": "markdown",
   "id": "c5446cca-2207-44a8-bf45-484e2e8ea3b5",
   "metadata": {},
   "source": [
    "## Protein coding gene transcript detection\n",
    "\n",
    "What fraction of protein-coding genes do we detect with at least 1 known isoform >= 1 TPM in any library?"
   ]
  },
  {
   "cell_type": "code",
   "execution_count": 13,
   "id": "53e19663-1f06-46c2-a281-217712288532",
   "metadata": {},
   "outputs": [
    {
     "name": "stdout",
     "output_type": "stream",
     "text": [
      "Calculating iso TPM values\n",
      "Subsetting for novelty categories ['Known']\n"
     ]
    },
    {
     "name": "stderr",
     "output_type": "stream",
     "text": [
      "/Users/fairliereese/Documents/programming/mortazavi_lab/data/rnawg/scripts/utils.py:1294: PerformanceWarning: DataFrame is highly fragmented.  This is usually the result of calling `frame.insert` many times, which has poor performance.  Consider joining all columns at once using pd.concat(axis=1) instead.  To get a de-fragmented frame, use `newframe = frame.copy()`\n",
      "  df[total_col] = df[d].sum()\n",
      "/Users/fairliereese/Documents/programming/mortazavi_lab/data/rnawg/scripts/utils.py:1295: PerformanceWarning: DataFrame is highly fragmented.  This is usually the result of calling `frame.insert` many times, which has poor performance.  Consider joining all columns at once using pd.concat(axis=1) instead.  To get a de-fragmented frame, use `newframe = frame.copy()`\n",
      "  df[tpm_col] = (df[d]*1000000)/df[total_col]\n"
     ]
    },
    {
     "name": "stdout",
     "output_type": "stream",
     "text": [
      "Enforcing minimum TPM\n",
      "Total # isos detected: 245379\n",
      "# isos >= 1 tpm: 223477\n",
      "Applying gene type and novelty subset\n",
      "Number of isos reported: 135125\n"
     ]
    },
    {
     "data": {
      "text/html": [
       "<div>\n",
       "<style scoped>\n",
       "    .dataframe tbody tr th:only-of-type {\n",
       "        vertical-align: middle;\n",
       "    }\n",
       "\n",
       "    .dataframe tbody tr th {\n",
       "        vertical-align: top;\n",
       "    }\n",
       "\n",
       "    .dataframe thead th {\n",
       "        text-align: right;\n",
       "    }\n",
       "</style>\n",
       "<table border=\"1\" class=\"dataframe\">\n",
       "  <thead>\n",
       "    <tr style=\"text-align: right;\">\n",
       "      <th></th>\n",
       "      <th>biotype_category</th>\n",
       "      <th>detected_counts</th>\n",
       "      <th>gencode_counts</th>\n",
       "      <th>prop_detected</th>\n",
       "    </tr>\n",
       "  </thead>\n",
       "  <tbody>\n",
       "    <tr>\n",
       "      <th>3</th>\n",
       "      <td>protein_coding</td>\n",
       "      <td>17321</td>\n",
       "      <td>19988</td>\n",
       "      <td>0.866570</td>\n",
       "    </tr>\n",
       "    <tr>\n",
       "      <th>0</th>\n",
       "      <td>lncRNA</td>\n",
       "      <td>5298</td>\n",
       "      <td>17748</td>\n",
       "      <td>0.298513</td>\n",
       "    </tr>\n",
       "    <tr>\n",
       "      <th>2</th>\n",
       "      <td>other</td>\n",
       "      <td>2197</td>\n",
       "      <td>7391</td>\n",
       "      <td>0.297253</td>\n",
       "    </tr>\n",
       "    <tr>\n",
       "      <th>4</th>\n",
       "      <td>pseudogene</td>\n",
       "      <td>3678</td>\n",
       "      <td>14538</td>\n",
       "      <td>0.252992</td>\n",
       "    </tr>\n",
       "    <tr>\n",
       "      <th>1</th>\n",
       "      <td>miRNA</td>\n",
       "      <td>466</td>\n",
       "      <td>1879</td>\n",
       "      <td>0.248004</td>\n",
       "    </tr>\n",
       "  </tbody>\n",
       "</table>\n",
       "</div>"
      ],
      "text/plain": [
       "  biotype_category  detected_counts  gencode_counts  prop_detected\n",
       "3   protein_coding            17321           19988       0.866570\n",
       "0           lncRNA             5298           17748       0.298513\n",
       "2            other             2197            7391       0.297253\n",
       "4       pseudogene             3678           14538       0.252992\n",
       "1            miRNA              466            1879       0.248004"
      ]
     },
     "execution_count": 13,
     "metadata": {},
     "output_type": "execute_result"
    }
   ],
   "source": [
    "df = pd.read_csv(filt_ab, sep='\\t')\n",
    "# no gene subset here so we can look at all other genes\n",
    "df, tids = get_tpm_table(df,\n",
    "                   how='iso',\n",
    "                   nov=['Known'],\n",
    "                   min_tpm=1)\n",
    "\n",
    "# merge with gene id\n",
    "gene_df = pd.read_csv(filt_ab, sep='\\t')\n",
    "gene_df = gene_df[['annot_gene_id', 'annot_transcript_id']]\n",
    "df = df.merge(gene_df, how='left', left_index=True, right_on='annot_transcript_id')\n",
    "\n",
    "gene_df, b_counts, b_cat_counts = get_gtf_info(how='gene', ver=ver, add_stable_gid=True)\n",
    "df['gid_stable'] = cerberus.get_stable_gid(df, 'annot_gene_id')\n",
    "df = df.merge(gene_df, how='left', on='gid_stable')\n",
    "\n",
    "temp = df[['gid', 'biotype_category']].drop_duplicates().groupby('biotype_category').count()\n",
    "temp.reset_index(inplace=True)\n",
    "temp.rename({'gid': 'detected_counts'}, axis=1, inplace=True)\n",
    "\n",
    "temp = temp.merge(b_cat_counts, on='biotype_category', how='outer')\n",
    "temp['prop_detected'] = temp.detected_counts/temp.gencode_counts\n",
    "temp.sort_values(by='prop_detected', ascending=False, inplace=True)\n",
    "temp"
   ]
  },
  {
   "cell_type": "markdown",
   "id": "39e0ab7e-1200-4540-8698-2eacee85911b",
   "metadata": {},
   "source": [
    "## What fraction of protein coding gene transcripts do we detect?\n",
    "\n",
    "Of the transcripts associated with protein coding genes GENCODE, how many do we detect >=1 TPM?"
   ]
  },
  {
   "cell_type": "code",
   "execution_count": 1,
   "id": "d52d4690-2836-4986-9c68-555bdbe43de2",
   "metadata": {},
   "outputs": [],
   "source": [
    "import pandas as pd\n",
    "import numpy as np\n",
    "import scipy.stats as st\n",
    "import seaborn as sns\n",
    "import sys\n",
    "import os\n",
    "import gseapy as gp\n",
    "import cerberus\n",
    "\n",
    "p = os.path.dirname(os.path.dirname(os.getcwd()))\n",
    "sys.path.append(p)\n",
    "\n",
    "from scripts.utils import *\n",
    "from scripts.plotting import *\n",
    "\n",
    "ab = '../talon/human_talon_abundance.tsv'\n",
    "filt_ab = 'cerberus_filtered_abundance.tsv'\n",
    "c_annot = 'cerberus_annot.h5'\n",
    "ver = 'v40_cerberus'\n",
    "complete_novs = ['Known', 'NIC', 'NNC', 'ISM_rescue']"
   ]
  },
  {
   "cell_type": "code",
   "execution_count": 25,
   "id": "54061b4d-5515-4837-afd9-9493cbde9190",
   "metadata": {},
   "outputs": [
    {
     "name": "stdout",
     "output_type": "stream",
     "text": [
      "Calculating ic TPM values\n",
      "Subsetting for polya genes\n"
     ]
    },
    {
     "name": "stderr",
     "output_type": "stream",
     "text": [
      "/Users/fairliereese/Documents/programming/mortazavi_lab/data/rnawg/scripts/utils.py:1373: PerformanceWarning: DataFrame is highly fragmented.  This is usually the result of calling `frame.insert` many times, which has poor performance.  Consider joining all columns at once using pd.concat(axis=1) instead.  To get a de-fragmented frame, use `newframe = frame.copy()`\n",
      "  df[tpm_col] = (df[d]*1000000)/df[total_col]\n",
      "/Users/fairliereese/Documents/programming/mortazavi_lab/data/rnawg/scripts/utils.py:1372: PerformanceWarning: DataFrame is highly fragmented.  This is usually the result of calling `frame.insert` many times, which has poor performance.  Consider joining all columns at once using pd.concat(axis=1) instead.  To get a de-fragmented frame, use `newframe = frame.copy()`\n",
      "  df[total_col] = df[d].sum()\n"
     ]
    },
    {
     "name": "stdout",
     "output_type": "stream",
     "text": [
      "Enforcing minimum TPM\n",
      "Total # ics detected: 149743\n",
      "# ics >= 1 tpm: 135923\n",
      "Applying gene type and novelty subset\n",
      "Number of ics reported: 132337\n"
     ]
    },
    {
     "data": {
      "text/html": [
       "<div>\n",
       "<style scoped>\n",
       "    .dataframe tbody tr th:only-of-type {\n",
       "        vertical-align: middle;\n",
       "    }\n",
       "\n",
       "    .dataframe tbody tr th {\n",
       "        vertical-align: top;\n",
       "    }\n",
       "\n",
       "    .dataframe thead th {\n",
       "        text-align: right;\n",
       "    }\n",
       "</style>\n",
       "<table border=\"1\" class=\"dataframe\">\n",
       "  <thead>\n",
       "    <tr style=\"text-align: right;\">\n",
       "      <th></th>\n",
       "      <th>biotype_category</th>\n",
       "      <th>detected_counts</th>\n",
       "      <th>gencode_counts</th>\n",
       "      <th>prop_detected</th>\n",
       "    </tr>\n",
       "  </thead>\n",
       "  <tbody>\n",
       "    <tr>\n",
       "      <th>1</th>\n",
       "      <td>protein_coding</td>\n",
       "      <td>68694</td>\n",
       "      <td>164642</td>\n",
       "      <td>0.417233</td>\n",
       "    </tr>\n",
       "    <tr>\n",
       "      <th>2</th>\n",
       "      <td>pseudogene</td>\n",
       "      <td>4343</td>\n",
       "      <td>18856</td>\n",
       "      <td>0.230325</td>\n",
       "    </tr>\n",
       "    <tr>\n",
       "      <th>0</th>\n",
       "      <td>lncRNA</td>\n",
       "      <td>8266</td>\n",
       "      <td>50082</td>\n",
       "      <td>0.165049</td>\n",
       "    </tr>\n",
       "  </tbody>\n",
       "</table>\n",
       "</div>"
      ],
      "text/plain": [
       "  biotype_category  detected_counts  gencode_counts  prop_detected\n",
       "1   protein_coding            68694          164642       0.417233\n",
       "2       pseudogene             4343           18856       0.230325\n",
       "0           lncRNA             8266           50082       0.165049"
      ]
     },
     "execution_count": 25,
     "metadata": {},
     "output_type": "execute_result"
    }
   ],
   "source": [
    "# transcript level\n",
    "df = pd.read_csv(filt_ab, sep='\\t')\n",
    "df, tids = get_tpm_table(df,\n",
    "                   how='ic',\n",
    "                   # nov=['Known'], # don't need to limit b/c ic will tell us\n",
    "                   min_tpm=1,\n",
    "                   gene_subset='polya')\n",
    "t_df, b_counts, b_cat_counts = get_gtf_info(how='ic', ver=ver, subset='polya')\n",
    "df = df.merge(t_df, how='inner', left_index=True, right_on='ic')\n",
    "temp = df[['ic', 'biotype_category']].groupby('biotype_category', dropna=False).count()\n",
    "temp.reset_index(inplace=True)\n",
    "temp.rename({'ic': 'detected_counts'}, axis=1, inplace=True)\n",
    "\n",
    "temp = temp.merge(b_cat_counts, on='biotype_category', how='outer')\n",
    "temp['prop_detected'] = temp.detected_counts/temp.gencode_counts\n",
    "temp.sort_values(by='prop_detected', ascending=False, inplace=True)\n",
    "temp"
   ]
  },
  {
   "cell_type": "code",
   "execution_count": 27,
   "id": "1ce5af87-61db-4ea5-a4f9-8306abf2738c",
   "metadata": {},
   "outputs": [],
   "source": [
    "temp = temp[['detected_counts', 'gencode_counts']]\n",
    "temp = temp.sum(axis=0)\n",
    "temp['prop_detected'] = temp.detected_counts/temp.gencode_counts"
   ]
  },
  {
   "cell_type": "code",
   "execution_count": 28,
   "id": "e820ed4c-93c3-4982-9b63-c2b64462a194",
   "metadata": {},
   "outputs": [
    {
     "data": {
      "text/plain": [
       "detected_counts     81303.000000\n",
       "gencode_counts     233580.000000\n",
       "prop_detected           0.348073\n",
       "dtype: float64"
      ]
     },
     "execution_count": 28,
     "metadata": {},
     "output_type": "execute_result"
    }
   ],
   "source": [
    "temp"
   ]
  },
  {
   "cell_type": "markdown",
   "id": "a00a40e2-56ec-4664-87f8-5dc852885e66",
   "metadata": {},
   "source": [
    "## Characteristics of detected known, polyA gene associated transcripts"
   ]
  },
  {
   "cell_type": "markdown",
   "id": "14a2f8c2-b0c2-456a-81fe-3cf78f7abaf4",
   "metadata": {},
   "source": [
    "## Number of cell types or tissues that each known transcript from polyA genes is expressed >= 1 TPM"
   ]
  },
  {
   "cell_type": "code",
   "execution_count": 5,
   "id": "a0500d97-ac14-408f-9406-d63ccf1f0c22",
   "metadata": {},
   "outputs": [
    {
     "name": "stdout",
     "output_type": "stream",
     "text": [
      "Calculating iso TPM values\n",
      "Subsetting for novelty categories ['Known']\n",
      "Subsetting for polya genes\n"
     ]
    },
    {
     "name": "stderr",
     "output_type": "stream",
     "text": [
      "/Users/fairliereese/Documents/programming/mortazavi_lab/data/rnawg/scripts/utils.py:1294: PerformanceWarning: DataFrame is highly fragmented.  This is usually the result of calling `frame.insert` many times, which has poor performance.  Consider joining all columns at once using pd.concat(axis=1) instead.  To get a de-fragmented frame, use `newframe = frame.copy()`\n",
      "  df[total_col] = df[d].sum()\n",
      "/Users/fairliereese/Documents/programming/mortazavi_lab/data/rnawg/scripts/utils.py:1295: PerformanceWarning: DataFrame is highly fragmented.  This is usually the result of calling `frame.insert` many times, which has poor performance.  Consider joining all columns at once using pd.concat(axis=1) instead.  To get a de-fragmented frame, use `newframe = frame.copy()`\n",
      "  df[tpm_col] = (df[d]*1000000)/df[total_col]\n"
     ]
    },
    {
     "name": "stdout",
     "output_type": "stream",
     "text": [
      "Enforcing minimum TPM\n",
      "Total # isos detected: 245379\n",
      "# isos >= 1 tpm: 223477\n",
      "Applying gene type and novelty subset\n",
      "Number of isos reported: 132274\n",
      "Found 50 total samples\n"
     ]
    },
    {
     "data": {
      "image/png": "[encoded data removed]",
      "text/plain": [
       "<Figure size 360x360 with 1 Axes>"
      ]
     },
     "metadata": {
      "needs_background": "light"
     },
     "output_type": "display_data"
    }
   ],
   "source": [
    "df = pd.read_csv(filt_ab, sep='\\t')\n",
    "df = plot_biosamp_det(df,\n",
    "                      how='iso',\n",
    "                      min_tpm=1,\n",
    "                      gene_subset='polya',\n",
    "                      sample=None,\n",
    "                      groupby='sample',\n",
    "                      nov='Known',\n",
    "                      opref='figures/human')"
   ]
  },
  {
   "cell_type": "code",
   "execution_count": 6,
   "id": "2f8dbcd2-1a09-4dd6-8675-364b0d82a2c6",
   "metadata": {},
   "outputs": [
    {
     "name": "stdout",
     "output_type": "stream",
     "text": [
      "79616 / 132274 (60.2%) transcripts are expressed in <= 8 samples\n",
      "20673 / 132274 (15.6%) transcripts are expressed in >= 30 samples\n"
     ]
    }
   ],
   "source": [
    "specific_thresh = 8\n",
    "ubiq_thresh = 30\n",
    "\n",
    "n_iso = len(df.index)\n",
    "n_specific = len(df.loc[df.n_samples <= specific_thresh].index)\n",
    "n_ubiq = len(df.loc[df.n_samples >= ubiq_thresh].index)\n",
    "\n",
    "print('{} / {} ({:.1f}%) transcripts are expressed in <= {} samples'.format(n_specific, n_iso, (n_specific/n_iso)*100, specific_thresh))\n",
    "print('{} / {} ({:.1f}%) transcripts are expressed in >= {} samples'.format(n_ubiq, n_iso, (n_ubiq/n_iso)*100, ubiq_thresh))"
   ]
  },
  {
   "cell_type": "markdown",
   "id": "16b4ab7b-49bc-4ade-8cd8-442e46de80c5",
   "metadata": {},
   "source": [
    "## Length of transcripts from polyA genes detected >= 1 TPM"
   ]
  },
  {
   "cell_type": "code",
   "execution_count": 13,
   "id": "423eb824-ebda-4824-ba4d-9700f339be31",
   "metadata": {},
   "outputs": [
    {
     "name": "stdout",
     "output_type": "stream",
     "text": [
      "Calculating iso TPM values\n",
      "Subsetting for novelty categories ['Known']\n",
      "Subsetting for polya genes\n"
     ]
    },
    {
     "name": "stderr",
     "output_type": "stream",
     "text": [
      "/Users/fairliereese/Documents/programming/mortazavi_lab/data/rnawg/scripts/utils.py:1294: PerformanceWarning: DataFrame is highly fragmented.  This is usually the result of calling `frame.insert` many times, which has poor performance.  Consider joining all columns at once using pd.concat(axis=1) instead.  To get a de-fragmented frame, use `newframe = frame.copy()`\n",
      "  df[total_col] = df[d].sum()\n",
      "/Users/fairliereese/Documents/programming/mortazavi_lab/data/rnawg/scripts/utils.py:1295: PerformanceWarning: DataFrame is highly fragmented.  This is usually the result of calling `frame.insert` many times, which has poor performance.  Consider joining all columns at once using pd.concat(axis=1) instead.  To get a de-fragmented frame, use `newframe = frame.copy()`\n",
      "  df[tpm_col] = (df[d]*1000000)/df[total_col]\n"
     ]
    },
    {
     "name": "stdout",
     "output_type": "stream",
     "text": [
      "Enforcing minimum TPM\n",
      "Total # isos detected: 245379\n",
      "# isos >= 1 tpm: 223477\n",
      "Applying gene type and novelty subset\n",
      "Number of isos reported: 132274\n"
     ]
    },
    {
     "data": {
      "image/png": "[encoded data removed]",
      "text/plain": [
       "<Figure size 467.36x360 with 1 Axes>"
      ]
     },
     "metadata": {
      "needs_background": "light"
     },
     "output_type": "display_data"
    }
   ],
   "source": [
    "df = pd.read_csv(filt_ab, sep='\\t')\n",
    "df = plot_det_len_kde(df, \n",
    "                      how='iso', \n",
    "                      subset='polya',\n",
    "                      min_tpm=1,\n",
    "                      xlim=10000,\n",
    "                      opref='figures/',\n",
    "                      ver=ver)"
   ]
  },
  {
   "cell_type": "code",
   "execution_count": 14,
   "id": "2e71e411-287f-4a5d-bfc9-3af2d8d632f5",
   "metadata": {},
   "outputs": [
    {
     "data": {
      "text/plain": [
       "<seaborn.axisgrid.FacetGrid at 0x7fe012708cd0>"
      ]
     },
     "execution_count": 14,
     "metadata": {},
     "output_type": "execute_result"
    },
    {
     "data": {
      "image/png": "[encoded data removed]",
      "text/plain": [
       "<Figure size 606.985x360 with 1 Axes>"
      ]
     },
     "metadata": {
      "needs_background": "light"
     },
     "output_type": "display_data"
    }
   ],
   "source": [
    "df['det_biotype'] = df.detected.astype('str')+'_'+df.biotype_category\n",
    "ax = sns.displot(data=df, x='t_len', kind='kde',\n",
    "                     linewidth=3, hue='det_biotype', common_norm=True)\n",
    "ax.set(xlim=(0,10000))"
   ]
  },
  {
   "cell_type": "markdown",
   "id": "9e159e19-b922-45c5-a779-b914b66efaad",
   "metadata": {},
   "source": [
    "What is the longest detected transcript with more than one exon?"
   ]
  },
  {
   "cell_type": "code",
   "execution_count": 15,
   "id": "ced2334d-d0b8-4a1f-a34b-f2f93e288595",
   "metadata": {},
   "outputs": [
    {
     "name": "stdout",
     "output_type": "stream",
     "text": [
      "37978.0\n"
     ]
    },
    {
     "data": {
      "text/html": [
       "<div>\n",
       "<style scoped>\n",
       "    .dataframe tbody tr th:only-of-type {\n",
       "        vertical-align: middle;\n",
       "    }\n",
       "\n",
       "    .dataframe tbody tr th {\n",
       "        vertical-align: top;\n",
       "    }\n",
       "\n",
       "    .dataframe thead th {\n",
       "        text-align: right;\n",
       "    }\n",
       "</style>\n",
       "<table border=\"1\" class=\"dataframe\">\n",
       "  <thead>\n",
       "    <tr style=\"text-align: right;\">\n",
       "      <th></th>\n",
       "      <th>annot_transcript_id</th>\n",
       "      <th>tid</th>\n",
       "      <th>t_len</th>\n",
       "      <th>gid</th>\n",
       "      <th>gname</th>\n",
       "      <th>biotype</th>\n",
       "      <th>biotype_category</th>\n",
       "      <th>tf</th>\n",
       "      <th>detected</th>\n",
       "      <th>det_biotype</th>\n",
       "      <th>n_exons</th>\n",
       "    </tr>\n",
       "  </thead>\n",
       "  <tbody>\n",
       "    <tr>\n",
       "      <th>125816</th>\n",
       "      <td>ENSG00000224086[1,1,2]</td>\n",
       "      <td>ENSG00000224086[1,1,2]</td>\n",
       "      <td>37978.0</td>\n",
       "      <td>ENSG00000224086.6</td>\n",
       "      <td>PPM1F-AS1</td>\n",
       "      <td>lncRNA</td>\n",
       "      <td>lncRNA</td>\n",
       "      <td>False</td>\n",
       "      <td>True</td>\n",
       "      <td>True_lncRNA</td>\n",
       "      <td>2.0</td>\n",
       "    </tr>\n",
       "  </tbody>\n",
       "</table>\n",
       "</div>"
      ],
      "text/plain": [
       "           annot_transcript_id                     tid    t_len  \\\n",
       "125816  ENSG00000224086[1,1,2]  ENSG00000224086[1,1,2]  37978.0   \n",
       "\n",
       "                      gid      gname biotype biotype_category     tf  \\\n",
       "125816  ENSG00000224086.6  PPM1F-AS1  lncRNA           lncRNA  False   \n",
       "\n",
       "        detected  det_biotype  n_exons  \n",
       "125816      True  True_lncRNA      2.0  "
      ]
     },
     "execution_count": 15,
     "metadata": {},
     "output_type": "execute_result"
    }
   ],
   "source": [
    "t_df = pd.read_csv(filt_ab, sep='\\t')\n",
    "t_df = t_df[['annot_transcript_id', 'n_exons']]\n",
    "df = df.merge(t_df, how='left', on='annot_transcript_id')\n",
    "n = df.loc[(df.detected == True)&(df.n_exons > 1), 't_len'].max()\n",
    "print(n)\n",
    "df.loc[df.t_len == n]"
   ]
  },
  {
   "cell_type": "markdown",
   "id": "4c4f19a0-1e60-4bf9-ae9b-985f23fa4353",
   "metadata": {},
   "source": [
    "## Variance in TPM levels >= 1 TPM for known transcripts detected >= 1 TPM"
   ]
  },
  {
   "cell_type": "code",
   "execution_count": 29,
   "id": "f0a2da7e-85cc-400a-81f0-ce18eddde368",
   "metadata": {},
   "outputs": [],
   "source": [
    "# df = pd.read_csv(filt_ab, sep='\\t')\n",
    "# df = get_tpm_table(df,\n",
    "#                    how='iso',\n",
    "#                    nov=['Known'],\n",
    "#                    min_tpm=1,\n",
    "#                    gene_subset='polya')"
   ]
  },
  {
   "cell_type": "markdown",
   "id": "7940aec9-483b-4e45-9e28-5439387a6958",
   "metadata": {},
   "source": [
    "## How many known polyA intron chains do we detect?"
   ]
  },
  {
   "cell_type": "code",
   "execution_count": 31,
   "id": "923a296e-c897-4261-9206-0597e362d6c1",
   "metadata": {},
   "outputs": [
    {
     "name": "stdout",
     "output_type": "stream",
     "text": [
      "Calculating ic TPM values\n",
      "Subsetting for polya genes\n",
      "Enforcing minimum TPM\n",
      "Total # ics detected: 149743\n",
      "# ics >= 1 tpm: 135923\n",
      "Applying gene type and novelty subset\n",
      "Number of ics reported: 132337\n",
      "Detected 81303 / 233580 (34.81%) annotated transcripts from polyA genes >= 1 TPM\n"
     ]
    }
   ],
   "source": [
    "df = pd.read_csv(filt_ab, sep='\\t')\n",
    "df, _ = get_tpm_table(df,\n",
    "                   how='ic',\n",
    "                   min_tpm=1,\n",
    "                   gene_subset='polya')\n",
    "# merge with transcript len\n",
    "t_df, b_counts, c_counts = get_gtf_info(how='ic', ver='v40_cerberus')\n",
    "df = df.merge(t_df, how='inner', left_index=True, right_on='ic')\n",
    "polya_biotypes = ['protein_coding', 'pseudogene', 'lncRNA']\n",
    "n_det_polya = len(df.index)\n",
    "n_known_polya = c_counts.loc[c_counts.biotype_category.isin(polya_biotypes), 'gencode_counts'].sum()\n",
    "print('Detected {} / {} ({:.2f}%) annotated transcripts from polyA genes >= 1 TPM'.format(n_det_polya, n_known_polya, (n_det_polya/n_known_polya)*100))"
   ]
  },
  {
   "cell_type": "markdown",
   "id": "c54a6279-0051-44b3-8d1f-351aad206cbf",
   "metadata": {},
   "source": [
    "## How many complete isoforms do we detect?"
   ]
  },
  {
   "cell_type": "code",
   "execution_count": 33,
   "id": "eb5cb1cc-f0eb-4737-8c73-a41fcb87fb66",
   "metadata": {},
   "outputs": [
    {
     "name": "stdout",
     "output_type": "stream",
     "text": [
      "Calculating iso TPM values\n",
      "Subsetting for novelty categories ['Known', 'NIC', 'NNC', 'ISM_rescue']\n",
      "Subsetting for polya genes\n",
      "Enforcing minimum TPM\n",
      "Total # isos detected: 245379\n",
      "# isos >= 1 tpm: 223477\n",
      "Applying gene type and novelty subset\n",
      "Number of isos reported: 219164\n",
      "  transcript_novelty  counts\n",
      "0         ISM_rescue   26508\n",
      "1              Known  132274\n",
      "2                NIC   46434\n",
      "3                NNC   13948\n",
      "Number of complete isoforms: 219164\n"
     ]
    },
    {
     "data": {
      "text/plain": [
       "<Figure size 288x432 with 0 Axes>"
      ]
     },
     "metadata": {},
     "output_type": "display_data"
    },
    {
     "data": {
      "image/png": "[encoded data removed]",
      "text/plain": [
       "<Figure size 360x360 with 1 Axes>"
      ]
     },
     "metadata": {
      "needs_background": "light"
     },
     "output_type": "display_data"
    },
    {
     "data": {
      "text/plain": [
       "<Figure size 432x288 with 0 Axes>"
      ]
     },
     "metadata": {},
     "output_type": "display_data"
    }
   ],
   "source": [
    "df = pd.read_csv(filt_ab, sep='\\t')\n",
    "df, tids = get_tpm_table(df,\n",
    "                   how='iso',\n",
    "                   nov=complete_novs,\n",
    "                   min_tpm=1,\n",
    "                   gene_subset='polya')\n",
    "\n",
    "df = pd.read_csv(filt_ab, sep='\\t')\n",
    "plot_transcript_novelty(df,\n",
    "                        oprefix='figures/complete_det',\n",
    "                        whitelist=tids,\n",
    "                        novs=complete_novs,\n",
    "                        save_type='png')"
   ]
  },
  {
   "cell_type": "code",
   "execution_count": 3,
   "id": "acfa10b4-7bba-4e9b-a0ae-28e4e622f3b7",
   "metadata": {},
   "outputs": [
    {
     "name": "stdout",
     "output_type": "stream",
     "text": [
      "Number of novel transcripts: 86890\n"
     ]
    }
   ],
   "source": [
    "n = 26508+46434+13948\n",
    "print('Number of novel transcripts: {}'.format(n))"
   ]
  },
  {
   "cell_type": "markdown",
   "id": "39d64df7-9888-4fff-81c9-fb126df31531",
   "metadata": {},
   "source": [
    "## How many exons are in each complete, detected model, split by novelty?"
   ]
  },
  {
   "cell_type": "code",
   "execution_count": 4,
   "id": "c8f43384-3e1d-426f-938e-085e87fdd66d",
   "metadata": {},
   "outputs": [
    {
     "name": "stdout",
     "output_type": "stream",
     "text": [
      "Calculating iso TPM values\n",
      "Subsetting for novelty categories ['Known', 'NIC', 'NNC', 'ISM_rescue']\n",
      "Subsetting for polya genes\n"
     ]
    },
    {
     "name": "stderr",
     "output_type": "stream",
     "text": [
      "/Users/fairliereese/Documents/programming/mortazavi_lab/data/rnawg/scripts/utils.py:1294: PerformanceWarning: DataFrame is highly fragmented.  This is usually the result of calling `frame.insert` many times, which has poor performance.  Consider joining all columns at once using pd.concat(axis=1) instead.  To get a de-fragmented frame, use `newframe = frame.copy()`\n",
      "  df[total_col] = df[d].sum()\n",
      "/Users/fairliereese/Documents/programming/mortazavi_lab/data/rnawg/scripts/utils.py:1295: PerformanceWarning: DataFrame is highly fragmented.  This is usually the result of calling `frame.insert` many times, which has poor performance.  Consider joining all columns at once using pd.concat(axis=1) instead.  To get a de-fragmented frame, use `newframe = frame.copy()`\n",
      "  df[tpm_col] = (df[d]*1000000)/df[total_col]\n"
     ]
    },
    {
     "name": "stdout",
     "output_type": "stream",
     "text": [
      "Enforcing minimum TPM\n",
      "Total # isos detected: 245379\n",
      "# isos >= 1 tpm: 223477\n",
      "Applying gene type and novelty subset\n",
      "Number of isos reported: 219164\n"
     ]
    },
    {
     "data": {
      "image/png": "[encoded data removed]",
      "text/plain": [
       "<Figure size 288x432 with 1 Axes>"
      ]
     },
     "metadata": {
      "needs_background": "light"
     },
     "output_type": "display_data"
    }
   ],
   "source": [
    "df = pd.read_csv(filt_ab, sep='\\t')\n",
    "plot_exons_per_iso(df,\n",
    "                   nov=complete_novs,\n",
    "                   min_tpm=1,\n",
    "                   gene_subset='polya',\n",
    "                   opref='figures/human')"
   ]
  },
  {
   "cell_type": "markdown",
   "id": "b85f872a-3dbd-4785-9729-353be3c90d7f",
   "metadata": {},
   "source": [
    "## How many isoforms per gene do we detect per sample?\n",
    "\n",
    "What is the average and range of complete isoforms per polyA gene that we detect per sample?"
   ]
  },
  {
   "cell_type": "code",
   "execution_count": 6,
   "id": "da82308d-835e-422a-88cc-8fc261dc7539",
   "metadata": {},
   "outputs": [
    {
     "name": "stdout",
     "output_type": "stream",
     "text": [
      "Calculating iso TPM values\n",
      "Subsetting for novelty categories ['Known', 'NIC', 'NNC', 'ISM_rescue']\n",
      "Subsetting for polya genes\n"
     ]
    },
    {
     "name": "stderr",
     "output_type": "stream",
     "text": [
      "/Users/fairliereese/Documents/programming/mortazavi_lab/data/rnawg/scripts/utils.py:1294: PerformanceWarning: DataFrame is highly fragmented.  This is usually the result of calling `frame.insert` many times, which has poor performance.  Consider joining all columns at once using pd.concat(axis=1) instead.  To get a de-fragmented frame, use `newframe = frame.copy()`\n",
      "  df[total_col] = df[d].sum()\n",
      "/Users/fairliereese/Documents/programming/mortazavi_lab/data/rnawg/scripts/utils.py:1295: PerformanceWarning: DataFrame is highly fragmented.  This is usually the result of calling `frame.insert` many times, which has poor performance.  Consider joining all columns at once using pd.concat(axis=1) instead.  To get a de-fragmented frame, use `newframe = frame.copy()`\n",
      "  df[tpm_col] = (df[d]*1000000)/df[total_col]\n"
     ]
    },
    {
     "name": "stdout",
     "output_type": "stream",
     "text": [
      "Enforcing minimum TPM\n",
      "Total # isos detected: 245379\n",
      "# isos >= 1 tpm: 223477\n",
      "Applying gene type and novelty subset\n",
      "Number of isos reported: 219164\n",
      "Found 50 total samples\n"
     ]
    }
   ],
   "source": [
    "df = pd.read_csv(filt_ab, sep='\\t')\n",
    "df = get_isos_per_gene(df,\n",
    "                       min_tpm=1,\n",
    "                       gene_subset='polya',\n",
    "                       groupby='sample', \n",
    "                       nov=complete_novs)"
   ]
  },
  {
   "cell_type": "code",
   "execution_count": 7,
   "id": "9e6ddd64-55d9-42c3-a2cb-8e362112ae69",
   "metadata": {},
   "outputs": [
    {
     "data": {
      "text/plain": [
       "annot_gene_id\n",
       "ENSG00000000003.14     h9_panc_progen\n",
       "ENSG00000000005.5        h9_panc_beta\n",
       "ENSG00000000419.12    h9_neural_crest\n",
       "ENSG00000000457.13    h9_neural_crest\n",
       "ENSG00000000460.16     h9_panc_progen\n",
       "                           ...       \n",
       "ENSG00000285967.1                k562\n",
       "ENSG00000285972.1             gm12878\n",
       "ENSG00000285976.1                lung\n",
       "ENSG00000285988.1               wtc11\n",
       "ENSG00000285991.1              mcf10a\n",
       "Length: 26940, dtype: object"
      ]
     },
     "execution_count": 7,
     "metadata": {},
     "output_type": "execute_result"
    }
   ],
   "source": [
    "df.idxmax(axis=1)"
   ]
  },
  {
   "cell_type": "code",
   "execution_count": 8,
   "id": "f3170920-5a2c-434d-b07d-f875d9914232",
   "metadata": {},
   "outputs": [
    {
     "name": "stdout",
     "output_type": "stream",
     "text": [
      "Average # isoforms / gene / sample: 4.049808370669015\n"
     ]
    }
   ],
   "source": [
    "print('Average # isoforms / gene / sample: {}'.format(df.mean().mean()))"
   ]
  },
  {
   "cell_type": "code",
   "execution_count": 9,
   "id": "1eac2d6c-878e-40d5-9706-939eb9e16d24",
   "metadata": {},
   "outputs": [
    {
     "name": "stdout",
     "output_type": "stream",
     "text": [
      "Max # isoforms / gene / sample: 281.0\n"
     ]
    }
   ],
   "source": [
    "print('Max # isoforms / gene / sample: {}'.format(df.max().max()))"
   ]
  },
  {
   "cell_type": "code",
   "execution_count": 11,
   "id": "3c013e69-5bef-4225-a104-7525ec9e1257",
   "metadata": {},
   "outputs": [
    {
     "data": {
      "text/html": [
       "<div>\n",
       "<style scoped>\n",
       "    .dataframe tbody tr th:only-of-type {\n",
       "        vertical-align: middle;\n",
       "    }\n",
       "\n",
       "    .dataframe tbody tr th {\n",
       "        vertical-align: top;\n",
       "    }\n",
       "\n",
       "    .dataframe thead th {\n",
       "        text-align: right;\n",
       "    }\n",
       "</style>\n",
       "<table border=\"1\" class=\"dataframe\">\n",
       "  <thead>\n",
       "    <tr style=\"text-align: right;\">\n",
       "      <th></th>\n",
       "      <th>a673</th>\n",
       "      <th>adipose</th>\n",
       "      <th>adrenal gland</th>\n",
       "      <th>brain</th>\n",
       "      <th>caco2</th>\n",
       "      <th>calu3</th>\n",
       "      <th>colon</th>\n",
       "      <th>gm12878</th>\n",
       "      <th>h1</th>\n",
       "      <th>h1_de</th>\n",
       "      <th>...</th>\n",
       "      <th>ovary</th>\n",
       "      <th>panc1</th>\n",
       "      <th>pc3</th>\n",
       "      <th>pc9</th>\n",
       "      <th>pgp1</th>\n",
       "      <th>pgp1_astro</th>\n",
       "      <th>pgp1_endo</th>\n",
       "      <th>pgp1_excite_neuron</th>\n",
       "      <th>vessels</th>\n",
       "      <th>wtc11</th>\n",
       "    </tr>\n",
       "    <tr>\n",
       "      <th>annot_gene_id</th>\n",
       "      <th></th>\n",
       "      <th></th>\n",
       "      <th></th>\n",
       "      <th></th>\n",
       "      <th></th>\n",
       "      <th></th>\n",
       "      <th></th>\n",
       "      <th></th>\n",
       "      <th></th>\n",
       "      <th></th>\n",
       "      <th></th>\n",
       "      <th></th>\n",
       "      <th></th>\n",
       "      <th></th>\n",
       "      <th></th>\n",
       "      <th></th>\n",
       "      <th></th>\n",
       "      <th></th>\n",
       "      <th></th>\n",
       "      <th></th>\n",
       "      <th></th>\n",
       "    </tr>\n",
       "  </thead>\n",
       "  <tbody>\n",
       "    <tr>\n",
       "      <th>ENSG00000000003.14</th>\n",
       "      <td>11.0</td>\n",
       "      <td>5.0</td>\n",
       "      <td>4.0</td>\n",
       "      <td>7.0</td>\n",
       "      <td>18.0</td>\n",
       "      <td>8.0</td>\n",
       "      <td>16.0</td>\n",
       "      <td>1.0</td>\n",
       "      <td>13.0</td>\n",
       "      <td>14.0</td>\n",
       "      <td>...</td>\n",
       "      <td>10.0</td>\n",
       "      <td>3.0</td>\n",
       "      <td>4.0</td>\n",
       "      <td>7.0</td>\n",
       "      <td>9.0</td>\n",
       "      <td>7.0</td>\n",
       "      <td>8.0</td>\n",
       "      <td>11.0</td>\n",
       "      <td>6.0</td>\n",
       "      <td>15.0</td>\n",
       "    </tr>\n",
       "    <tr>\n",
       "      <th>ENSG00000000005.5</th>\n",
       "      <td>NaN</td>\n",
       "      <td>NaN</td>\n",
       "      <td>NaN</td>\n",
       "      <td>NaN</td>\n",
       "      <td>NaN</td>\n",
       "      <td>NaN</td>\n",
       "      <td>NaN</td>\n",
       "      <td>NaN</td>\n",
       "      <td>NaN</td>\n",
       "      <td>NaN</td>\n",
       "      <td>...</td>\n",
       "      <td>NaN</td>\n",
       "      <td>NaN</td>\n",
       "      <td>NaN</td>\n",
       "      <td>NaN</td>\n",
       "      <td>NaN</td>\n",
       "      <td>NaN</td>\n",
       "      <td>NaN</td>\n",
       "      <td>NaN</td>\n",
       "      <td>NaN</td>\n",
       "      <td>NaN</td>\n",
       "    </tr>\n",
       "    <tr>\n",
       "      <th>ENSG00000000419.12</th>\n",
       "      <td>8.0</td>\n",
       "      <td>2.0</td>\n",
       "      <td>5.0</td>\n",
       "      <td>8.0</td>\n",
       "      <td>11.0</td>\n",
       "      <td>6.0</td>\n",
       "      <td>6.0</td>\n",
       "      <td>10.0</td>\n",
       "      <td>5.0</td>\n",
       "      <td>4.0</td>\n",
       "      <td>...</td>\n",
       "      <td>5.0</td>\n",
       "      <td>6.0</td>\n",
       "      <td>5.0</td>\n",
       "      <td>7.0</td>\n",
       "      <td>6.0</td>\n",
       "      <td>8.0</td>\n",
       "      <td>5.0</td>\n",
       "      <td>6.0</td>\n",
       "      <td>8.0</td>\n",
       "      <td>5.0</td>\n",
       "    </tr>\n",
       "    <tr>\n",
       "      <th>ENSG00000000457.13</th>\n",
       "      <td>3.0</td>\n",
       "      <td>1.0</td>\n",
       "      <td>3.0</td>\n",
       "      <td>3.0</td>\n",
       "      <td>4.0</td>\n",
       "      <td>4.0</td>\n",
       "      <td>2.0</td>\n",
       "      <td>3.0</td>\n",
       "      <td>2.0</td>\n",
       "      <td>4.0</td>\n",
       "      <td>...</td>\n",
       "      <td>3.0</td>\n",
       "      <td>2.0</td>\n",
       "      <td>1.0</td>\n",
       "      <td>1.0</td>\n",
       "      <td>1.0</td>\n",
       "      <td>2.0</td>\n",
       "      <td>1.0</td>\n",
       "      <td>NaN</td>\n",
       "      <td>1.0</td>\n",
       "      <td>3.0</td>\n",
       "    </tr>\n",
       "    <tr>\n",
       "      <th>ENSG00000000460.16</th>\n",
       "      <td>6.0</td>\n",
       "      <td>NaN</td>\n",
       "      <td>2.0</td>\n",
       "      <td>1.0</td>\n",
       "      <td>4.0</td>\n",
       "      <td>3.0</td>\n",
       "      <td>2.0</td>\n",
       "      <td>8.0</td>\n",
       "      <td>8.0</td>\n",
       "      <td>7.0</td>\n",
       "      <td>...</td>\n",
       "      <td>2.0</td>\n",
       "      <td>3.0</td>\n",
       "      <td>1.0</td>\n",
       "      <td>5.0</td>\n",
       "      <td>4.0</td>\n",
       "      <td>1.0</td>\n",
       "      <td>1.0</td>\n",
       "      <td>2.0</td>\n",
       "      <td>1.0</td>\n",
       "      <td>3.0</td>\n",
       "    </tr>\n",
       "  </tbody>\n",
       "</table>\n",
       "<p>5 rows × 50 columns</p>\n",
       "</div>"
      ],
      "text/plain": [
       "                    a673  adipose  adrenal gland  brain  caco2  calu3  colon  \\\n",
       "annot_gene_id                                                                  \n",
       "ENSG00000000003.14  11.0      5.0            4.0    7.0   18.0    8.0   16.0   \n",
       "ENSG00000000005.5    NaN      NaN            NaN    NaN    NaN    NaN    NaN   \n",
       "ENSG00000000419.12   8.0      2.0            5.0    8.0   11.0    6.0    6.0   \n",
       "ENSG00000000457.13   3.0      1.0            3.0    3.0    4.0    4.0    2.0   \n",
       "ENSG00000000460.16   6.0      NaN            2.0    1.0    4.0    3.0    2.0   \n",
       "\n",
       "                    gm12878    h1  h1_de  ...  ovary  panc1  pc3  pc9  pgp1  \\\n",
       "annot_gene_id                             ...                                 \n",
       "ENSG00000000003.14      1.0  13.0   14.0  ...   10.0    3.0  4.0  7.0   9.0   \n",
       "ENSG00000000005.5       NaN   NaN    NaN  ...    NaN    NaN  NaN  NaN   NaN   \n",
       "ENSG00000000419.12     10.0   5.0    4.0  ...    5.0    6.0  5.0  7.0   6.0   \n",
       "ENSG00000000457.13      3.0   2.0    4.0  ...    3.0    2.0  1.0  1.0   1.0   \n",
       "ENSG00000000460.16      8.0   8.0    7.0  ...    2.0    3.0  1.0  5.0   4.0   \n",
       "\n",
       "                    pgp1_astro  pgp1_endo  pgp1_excite_neuron  vessels  wtc11  \n",
       "annot_gene_id                                                                  \n",
       "ENSG00000000003.14         7.0        8.0                11.0      6.0   15.0  \n",
       "ENSG00000000005.5          NaN        NaN                 NaN      NaN    NaN  \n",
       "ENSG00000000419.12         8.0        5.0                 6.0      8.0    5.0  \n",
       "ENSG00000000457.13         2.0        1.0                 NaN      1.0    3.0  \n",
       "ENSG00000000460.16         1.0        1.0                 2.0      1.0    3.0  \n",
       "\n",
       "[5 rows x 50 columns]"
      ]
     },
     "execution_count": 11,
     "metadata": {},
     "output_type": "execute_result"
    }
   ],
   "source": [
    "df.head()"
   ]
  },
  {
   "cell_type": "code",
   "execution_count": 14,
   "id": "3a311288-2733-44e2-9231-ffa8852036bb",
   "metadata": {},
   "outputs": [],
   "source": [
    "temp = df.melt(ignore_index=False)"
   ]
  },
  {
   "cell_type": "code",
   "execution_count": 16,
   "id": "c2f0be91-b000-4794-b3d6-7f943291f828",
   "metadata": {},
   "outputs": [
    {
     "data": {
      "text/html": [
       "<div>\n",
       "<style scoped>\n",
       "    .dataframe tbody tr th:only-of-type {\n",
       "        vertical-align: middle;\n",
       "    }\n",
       "\n",
       "    .dataframe tbody tr th {\n",
       "        vertical-align: top;\n",
       "    }\n",
       "\n",
       "    .dataframe thead th {\n",
       "        text-align: right;\n",
       "    }\n",
       "</style>\n",
       "<table border=\"1\" class=\"dataframe\">\n",
       "  <thead>\n",
       "    <tr style=\"text-align: right;\">\n",
       "      <th></th>\n",
       "      <th>variable</th>\n",
       "      <th>value</th>\n",
       "    </tr>\n",
       "    <tr>\n",
       "      <th>annot_gene_id</th>\n",
       "      <th></th>\n",
       "      <th></th>\n",
       "    </tr>\n",
       "  </thead>\n",
       "  <tbody>\n",
       "    <tr>\n",
       "      <th>ENSG00000049540.16</th>\n",
       "      <td>h9_chondro</td>\n",
       "      <td>281.0</td>\n",
       "    </tr>\n",
       "  </tbody>\n",
       "</table>\n",
       "</div>"
      ],
      "text/plain": [
       "                      variable  value\n",
       "annot_gene_id                        \n",
       "ENSG00000049540.16  h9_chondro  281.0"
      ]
     },
     "execution_count": 16,
     "metadata": {},
     "output_type": "execute_result"
    }
   ],
   "source": [
    "temp.loc[temp.value == df.max().max()]"
   ]
  },
  {
   "cell_type": "markdown",
   "id": "f4f3d9db-f642-4e87-9483-cbade1dc24cb",
   "metadata": {},
   "source": [
    "How does the total # of isoforms we detect / gene compare to the number of annotated isoforms / gene"
   ]
  },
  {
   "cell_type": "code",
   "execution_count": 1,
   "id": "f8467979-abcd-44bd-bf1e-1a5a2ea9dcc2",
   "metadata": {},
   "outputs": [],
   "source": [
    "import pandas as pd\n",
    "import numpy as np\n",
    "import scipy.stats as st\n",
    "import seaborn as sns\n",
    "import sys\n",
    "import os\n",
    "import gseapy as gp\n",
    "import cerberus\n",
    "\n",
    "p = os.path.dirname(os.path.dirname(os.getcwd()))\n",
    "sys.path.append(p)\n",
    "\n",
    "from scripts.utils import *\n",
    "from scripts.plotting import *\n",
    "\n",
    "ab = '../talon/human_talon_abundance.tsv'\n",
    "filt_ab = 'cerberus_filtered_abundance.tsv'\n",
    "c_annot = 'cerberus_annot.h5'\n",
    "ver = 'v40_cerberus'\n",
    "complete_novs = ['Known', 'NIC', 'NNC', 'ISM_rescue']"
   ]
  },
  {
   "cell_type": "code",
   "execution_count": 2,
   "id": "0595601e-d64b-40bc-9aab-62c2f723c822",
   "metadata": {},
   "outputs": [
    {
     "name": "stdout",
     "output_type": "stream",
     "text": [
      "Calculating iso TPM values\n",
      "Subsetting for novelty categories ['Known', 'NIC', 'NNC', 'ISM_rescue']\n",
      "Subsetting for polya genes\n"
     ]
    },
    {
     "name": "stderr",
     "output_type": "stream",
     "text": [
      "/Users/fairliereese/Documents/programming/mortazavi_lab/data/rnawg/scripts/utils.py:1299: PerformanceWarning: DataFrame is highly fragmented.  This is usually the result of calling `frame.insert` many times, which has poor performance.  Consider joining all columns at once using pd.concat(axis=1) instead.  To get a de-fragmented frame, use `newframe = frame.copy()`\n",
      "  df[total_col] = df[d].sum()\n",
      "/Users/fairliereese/Documents/programming/mortazavi_lab/data/rnawg/scripts/utils.py:1300: PerformanceWarning: DataFrame is highly fragmented.  This is usually the result of calling `frame.insert` many times, which has poor performance.  Consider joining all columns at once using pd.concat(axis=1) instead.  To get a de-fragmented frame, use `newframe = frame.copy()`\n",
      "  df[tpm_col] = (df[d]*1000000)/df[total_col]\n"
     ]
    },
    {
     "name": "stdout",
     "output_type": "stream",
     "text": [
      "Enforcing minimum TPM\n",
      "Total # isos detected: 245379\n",
      "# isos >= 1 tpm: 223477\n",
      "Applying gene type and novelty subset\n",
      "Number of isos reported: 219164\n",
      "[1.5602256040717162, 367.89551363728026]\n"
     ]
    },
    {
     "data": {
      "image/png": "[encoded data removed]",
      "text/plain": [
       "<Figure size 432x432 with 1 Axes>"
      ]
     },
     "metadata": {
      "needs_background": "light"
     },
     "output_type": "display_data"
    }
   ],
   "source": [
    "df = pd.read_csv(filt_ab, sep='\\t')\n",
    "genes = ['ELN', 'DES', 'TPM1', 'MEF2C',\n",
    "         'MYH7', 'MAPK10', 'PAX6', 'TCF4', 'COL1A1']\n",
    "df = plot_det_vs_gencode_isos(df, \n",
    "                         min_tpm=1,\n",
    "                         gene_subset='polya',\n",
    "                         nov=complete_novs,\n",
    "                         label_genes=genes, \n",
    "                         ver=ver,\n",
    "                         opref='figures/human')"
   ]
  },
  {
   "cell_type": "code",
   "execution_count": 7,
   "id": "5fb69fdc-d2c5-4762-b281-1bddc5bdfa28",
   "metadata": {},
   "outputs": [
    {
     "data": {
      "text/html": [
       "<div>\n",
       "<style scoped>\n",
       "    .dataframe tbody tr th:only-of-type {\n",
       "        vertical-align: middle;\n",
       "    }\n",
       "\n",
       "    .dataframe tbody tr th {\n",
       "        vertical-align: top;\n",
       "    }\n",
       "\n",
       "    .dataframe thead th {\n",
       "        text-align: right;\n",
       "    }\n",
       "</style>\n",
       "<table border=\"1\" class=\"dataframe\">\n",
       "  <thead>\n",
       "    <tr style=\"text-align: right;\">\n",
       "      <th></th>\n",
       "      <th>annot_gene_id</th>\n",
       "      <th>n_isos_det</th>\n",
       "      <th>gid</th>\n",
       "      <th>n_isos_gencode</th>\n",
       "      <th>gname</th>\n",
       "    </tr>\n",
       "  </thead>\n",
       "  <tbody>\n",
       "    <tr>\n",
       "      <th>13641</th>\n",
       "      <td>ENSG00000179818.13</td>\n",
       "      <td>28</td>\n",
       "      <td>ENSG00000179818</td>\n",
       "      <td>278.0</td>\n",
       "      <td>PCBP1-AS1</td>\n",
       "    </tr>\n",
       "    <tr>\n",
       "      <th>3557</th>\n",
       "      <td>ENSG00000109339.21</td>\n",
       "      <td>97</td>\n",
       "      <td>ENSG00000109339</td>\n",
       "      <td>192.0</td>\n",
       "      <td>MAPK10</td>\n",
       "    </tr>\n",
       "    <tr>\n",
       "      <th>18141</th>\n",
       "      <td>ENSG00000226674.9</td>\n",
       "      <td>8</td>\n",
       "      <td>ENSG00000226674</td>\n",
       "      <td>187.0</td>\n",
       "      <td>TEX41</td>\n",
       "    </tr>\n",
       "    <tr>\n",
       "      <th>21448</th>\n",
       "      <td>ENSG00000249859.9</td>\n",
       "      <td>15</td>\n",
       "      <td>ENSG00000249859</td>\n",
       "      <td>183.0</td>\n",
       "      <td>PVT1</td>\n",
       "    </tr>\n",
       "    <tr>\n",
       "      <th>4294</th>\n",
       "      <td>ENSG00000115392.11</td>\n",
       "      <td>11</td>\n",
       "      <td>ENSG00000115392</td>\n",
       "      <td>156.0</td>\n",
       "      <td>FANCL</td>\n",
       "    </tr>\n",
       "    <tr>\n",
       "      <th>...</th>\n",
       "      <td>...</td>\n",
       "      <td>...</td>\n",
       "      <td>...</td>\n",
       "      <td>...</td>\n",
       "      <td>...</td>\n",
       "    </tr>\n",
       "    <tr>\n",
       "      <th>26759</th>\n",
       "      <td>ENSG00000284741.1</td>\n",
       "      <td>2</td>\n",
       "      <td>ENSG00000284741</td>\n",
       "      <td>NaN</td>\n",
       "      <td>NaN</td>\n",
       "    </tr>\n",
       "    <tr>\n",
       "      <th>26769</th>\n",
       "      <td>ENSG00000284824.1</td>\n",
       "      <td>1</td>\n",
       "      <td>ENSG00000284824</td>\n",
       "      <td>NaN</td>\n",
       "      <td>NaN</td>\n",
       "    </tr>\n",
       "    <tr>\n",
       "      <th>26813</th>\n",
       "      <td>ENSG00000285138.1</td>\n",
       "      <td>1</td>\n",
       "      <td>ENSG00000285138</td>\n",
       "      <td>NaN</td>\n",
       "      <td>NaN</td>\n",
       "    </tr>\n",
       "    <tr>\n",
       "      <th>26828</th>\n",
       "      <td>ENSG00000285258.1</td>\n",
       "      <td>1</td>\n",
       "      <td>ENSG00000285258</td>\n",
       "      <td>NaN</td>\n",
       "      <td>NaN</td>\n",
       "    </tr>\n",
       "    <tr>\n",
       "      <th>26848</th>\n",
       "      <td>ENSG00000285441.1</td>\n",
       "      <td>1</td>\n",
       "      <td>ENSG00000285441</td>\n",
       "      <td>NaN</td>\n",
       "      <td>NaN</td>\n",
       "    </tr>\n",
       "  </tbody>\n",
       "</table>\n",
       "<p>26940 rows × 5 columns</p>\n",
       "</div>"
      ],
      "text/plain": [
       "            annot_gene_id  n_isos_det              gid  n_isos_gencode  \\\n",
       "13641  ENSG00000179818.13          28  ENSG00000179818           278.0   \n",
       "3557   ENSG00000109339.21          97  ENSG00000109339           192.0   \n",
       "18141   ENSG00000226674.9           8  ENSG00000226674           187.0   \n",
       "21448   ENSG00000249859.9          15  ENSG00000249859           183.0   \n",
       "4294   ENSG00000115392.11          11  ENSG00000115392           156.0   \n",
       "...                   ...         ...              ...             ...   \n",
       "26759   ENSG00000284741.1           2  ENSG00000284741             NaN   \n",
       "26769   ENSG00000284824.1           1  ENSG00000284824             NaN   \n",
       "26813   ENSG00000285138.1           1  ENSG00000285138             NaN   \n",
       "26828   ENSG00000285258.1           1  ENSG00000285258             NaN   \n",
       "26848   ENSG00000285441.1           1  ENSG00000285441             NaN   \n",
       "\n",
       "           gname  \n",
       "13641  PCBP1-AS1  \n",
       "3557      MAPK10  \n",
       "18141      TEX41  \n",
       "21448       PVT1  \n",
       "4294       FANCL  \n",
       "...          ...  \n",
       "26759        NaN  \n",
       "26769        NaN  \n",
       "26813        NaN  \n",
       "26828        NaN  \n",
       "26848        NaN  \n",
       "\n",
       "[26940 rows x 5 columns]"
      ]
     },
     "execution_count": 7,
     "metadata": {},
     "output_type": "execute_result"
    }
   ],
   "source": [
    "df.sort_values(by='n_isos_gencode', ascending=False)"
   ]
  },
  {
   "cell_type": "code",
   "execution_count": 4,
   "id": "67f2930a-6777-4a17-be80-94cc212a1440",
   "metadata": {},
   "outputs": [
    {
     "name": "stdout",
     "output_type": "stream",
     "text": [
      "PCBP1-AS1 has the most annotated isoforms in GENCODE (278.0)\n"
     ]
    }
   ],
   "source": [
    "entry = df.sort_values(by='n_isos_gencode', ascending=False).head(1)\n",
    "print('{} has the most annotated isoforms in GENCODE ({})'.format(entry.gname.values[0], entry.n_isos_gencode.values[0]))"
   ]
  },
  {
   "cell_type": "code",
   "execution_count": 8,
   "id": "7e906b86-a183-400e-a40e-354c2aba19d5",
   "metadata": {},
   "outputs": [
    {
     "data": {
      "text/html": [
       "<div>\n",
       "<style scoped>\n",
       "    .dataframe tbody tr th:only-of-type {\n",
       "        vertical-align: middle;\n",
       "    }\n",
       "\n",
       "    .dataframe tbody tr th {\n",
       "        vertical-align: top;\n",
       "    }\n",
       "\n",
       "    .dataframe thead th {\n",
       "        text-align: right;\n",
       "    }\n",
       "</style>\n",
       "<table border=\"1\" class=\"dataframe\">\n",
       "  <thead>\n",
       "    <tr style=\"text-align: right;\">\n",
       "      <th></th>\n",
       "      <th>annot_gene_id</th>\n",
       "      <th>n_isos_det</th>\n",
       "      <th>gid</th>\n",
       "      <th>n_isos_gencode</th>\n",
       "      <th>gname</th>\n",
       "    </tr>\n",
       "  </thead>\n",
       "  <tbody>\n",
       "    <tr>\n",
       "      <th>651</th>\n",
       "      <td>ENSG00000049540.16</td>\n",
       "      <td>286</td>\n",
       "      <td>ENSG00000049540</td>\n",
       "      <td>35.0</td>\n",
       "      <td>ELN</td>\n",
       "    </tr>\n",
       "    <tr>\n",
       "      <th>3488</th>\n",
       "      <td>ENSG00000108821.13</td>\n",
       "      <td>11</td>\n",
       "      <td>ENSG00000108821</td>\n",
       "      <td>13.0</td>\n",
       "      <td>COL1A1</td>\n",
       "    </tr>\n",
       "    <tr>\n",
       "      <th>3557</th>\n",
       "      <td>ENSG00000109339.21</td>\n",
       "      <td>97</td>\n",
       "      <td>ENSG00000109339</td>\n",
       "      <td>192.0</td>\n",
       "      <td>MAPK10</td>\n",
       "    </tr>\n",
       "    <tr>\n",
       "      <th>7619</th>\n",
       "      <td>ENSG00000140416.20</td>\n",
       "      <td>95</td>\n",
       "      <td>ENSG00000140416</td>\n",
       "      <td>38.0</td>\n",
       "      <td>TPM1</td>\n",
       "    </tr>\n",
       "    <tr>\n",
       "      <th>12924</th>\n",
       "      <td>ENSG00000175084.11</td>\n",
       "      <td>55</td>\n",
       "      <td>ENSG00000175084</td>\n",
       "      <td>5.0</td>\n",
       "      <td>DES</td>\n",
       "    </tr>\n",
       "    <tr>\n",
       "      <th>13641</th>\n",
       "      <td>ENSG00000179818.13</td>\n",
       "      <td>28</td>\n",
       "      <td>ENSG00000179818</td>\n",
       "      <td>278.0</td>\n",
       "      <td>PCBP1-AS1</td>\n",
       "    </tr>\n",
       "  </tbody>\n",
       "</table>\n",
       "</div>"
      ],
      "text/plain": [
       "            annot_gene_id  n_isos_det              gid  n_isos_gencode  \\\n",
       "651    ENSG00000049540.16         286  ENSG00000049540            35.0   \n",
       "3488   ENSG00000108821.13          11  ENSG00000108821            13.0   \n",
       "3557   ENSG00000109339.21          97  ENSG00000109339           192.0   \n",
       "7619   ENSG00000140416.20          95  ENSG00000140416            38.0   \n",
       "12924  ENSG00000175084.11          55  ENSG00000175084             5.0   \n",
       "13641  ENSG00000179818.13          28  ENSG00000179818           278.0   \n",
       "\n",
       "           gname  \n",
       "651          ELN  \n",
       "3488      COL1A1  \n",
       "3557      MAPK10  \n",
       "7619        TPM1  \n",
       "12924        DES  \n",
       "13641  PCBP1-AS1  "
      ]
     },
     "execution_count": 8,
     "metadata": {},
     "output_type": "execute_result"
    }
   ],
   "source": [
    "genes = ['COL1A1', 'TPM1', 'MAPK10', 'ELN', 'DES', 'PCBP1-AS1']\n",
    "df.loc[df.gname.isin(genes)]"
   ]
  },
  {
   "cell_type": "code",
   "execution_count": 9,
   "id": "e275a877-28a8-47e7-9c74-383331f26d29",
   "metadata": {},
   "outputs": [
    {
     "data": {
      "text/html": [
       "<div>\n",
       "<style scoped>\n",
       "    .dataframe tbody tr th:only-of-type {\n",
       "        vertical-align: middle;\n",
       "    }\n",
       "\n",
       "    .dataframe tbody tr th {\n",
       "        vertical-align: top;\n",
       "    }\n",
       "\n",
       "    .dataframe thead th {\n",
       "        text-align: right;\n",
       "    }\n",
       "</style>\n",
       "<table border=\"1\" class=\"dataframe\">\n",
       "  <thead>\n",
       "    <tr style=\"text-align: right;\">\n",
       "      <th></th>\n",
       "      <th>annot_gene_id</th>\n",
       "      <th>n_isos_det</th>\n",
       "      <th>gid</th>\n",
       "      <th>n_isos_gencode</th>\n",
       "      <th>gname</th>\n",
       "    </tr>\n",
       "  </thead>\n",
       "  <tbody>\n",
       "    <tr>\n",
       "      <th>13641</th>\n",
       "      <td>ENSG00000179818.13</td>\n",
       "      <td>28</td>\n",
       "      <td>ENSG00000179818</td>\n",
       "      <td>278.0</td>\n",
       "      <td>PCBP1-AS1</td>\n",
       "    </tr>\n",
       "    <tr>\n",
       "      <th>3557</th>\n",
       "      <td>ENSG00000109339.21</td>\n",
       "      <td>97</td>\n",
       "      <td>ENSG00000109339</td>\n",
       "      <td>192.0</td>\n",
       "      <td>MAPK10</td>\n",
       "    </tr>\n",
       "    <tr>\n",
       "      <th>18141</th>\n",
       "      <td>ENSG00000226674.9</td>\n",
       "      <td>8</td>\n",
       "      <td>ENSG00000226674</td>\n",
       "      <td>187.0</td>\n",
       "      <td>TEX41</td>\n",
       "    </tr>\n",
       "    <tr>\n",
       "      <th>21448</th>\n",
       "      <td>ENSG00000249859.9</td>\n",
       "      <td>15</td>\n",
       "      <td>ENSG00000249859</td>\n",
       "      <td>183.0</td>\n",
       "      <td>PVT1</td>\n",
       "    </tr>\n",
       "    <tr>\n",
       "      <th>4294</th>\n",
       "      <td>ENSG00000115392.11</td>\n",
       "      <td>11</td>\n",
       "      <td>ENSG00000115392</td>\n",
       "      <td>156.0</td>\n",
       "      <td>FANCL</td>\n",
       "    </tr>\n",
       "  </tbody>\n",
       "</table>\n",
       "</div>"
      ],
      "text/plain": [
       "            annot_gene_id  n_isos_det              gid  n_isos_gencode  \\\n",
       "13641  ENSG00000179818.13          28  ENSG00000179818           278.0   \n",
       "3557   ENSG00000109339.21          97  ENSG00000109339           192.0   \n",
       "18141   ENSG00000226674.9           8  ENSG00000226674           187.0   \n",
       "21448   ENSG00000249859.9          15  ENSG00000249859           183.0   \n",
       "4294   ENSG00000115392.11          11  ENSG00000115392           156.0   \n",
       "\n",
       "           gname  \n",
       "13641  PCBP1-AS1  \n",
       "3557      MAPK10  \n",
       "18141      TEX41  \n",
       "21448       PVT1  \n",
       "4294       FANCL  "
      ]
     },
     "execution_count": 9,
     "metadata": {},
     "output_type": "execute_result"
    }
   ],
   "source": [
    "df.sort_values(by='n_isos_gencode', ascending=False).head()"
   ]
  },
  {
   "cell_type": "code",
   "execution_count": 10,
   "id": "d2affb35-dc72-4c41-bc22-977d1c969815",
   "metadata": {},
   "outputs": [
    {
     "data": {
      "text/html": [
       "<div>\n",
       "<style scoped>\n",
       "    .dataframe tbody tr th:only-of-type {\n",
       "        vertical-align: middle;\n",
       "    }\n",
       "\n",
       "    .dataframe tbody tr th {\n",
       "        vertical-align: top;\n",
       "    }\n",
       "\n",
       "    .dataframe thead th {\n",
       "        text-align: right;\n",
       "    }\n",
       "</style>\n",
       "<table border=\"1\" class=\"dataframe\">\n",
       "  <thead>\n",
       "    <tr style=\"text-align: right;\">\n",
       "      <th></th>\n",
       "      <th>annot_gene_id</th>\n",
       "      <th>n_isos_det</th>\n",
       "      <th>gid</th>\n",
       "      <th>n_isos_gencode</th>\n",
       "      <th>gname</th>\n",
       "    </tr>\n",
       "  </thead>\n",
       "  <tbody>\n",
       "    <tr>\n",
       "      <th>3488</th>\n",
       "      <td>ENSG00000108821.13</td>\n",
       "      <td>11</td>\n",
       "      <td>ENSG00000108821</td>\n",
       "      <td>13.0</td>\n",
       "      <td>COL1A1</td>\n",
       "    </tr>\n",
       "  </tbody>\n",
       "</table>\n",
       "</div>"
      ],
      "text/plain": [
       "           annot_gene_id  n_isos_det              gid  n_isos_gencode   gname\n",
       "3488  ENSG00000108821.13          11  ENSG00000108821            13.0  COL1A1"
      ]
     },
     "execution_count": 10,
     "metadata": {},
     "output_type": "execute_result"
    }
   ],
   "source": [
    "df.loc[df.gname == 'COL1A1']"
   ]
  },
  {
   "cell_type": "code",
   "execution_count": 11,
   "id": "78acf9d8-98eb-4275-be64-8f8584676f1d",
   "metadata": {},
   "outputs": [
    {
     "data": {
      "text/html": [
       "<div>\n",
       "<style scoped>\n",
       "    .dataframe tbody tr th:only-of-type {\n",
       "        vertical-align: middle;\n",
       "    }\n",
       "\n",
       "    .dataframe tbody tr th {\n",
       "        vertical-align: top;\n",
       "    }\n",
       "\n",
       "    .dataframe thead th {\n",
       "        text-align: right;\n",
       "    }\n",
       "</style>\n",
       "<table border=\"1\" class=\"dataframe\">\n",
       "  <thead>\n",
       "    <tr style=\"text-align: right;\">\n",
       "      <th></th>\n",
       "      <th>annot_gene_id</th>\n",
       "      <th>n_isos_det</th>\n",
       "      <th>gid</th>\n",
       "      <th>n_isos_gencode</th>\n",
       "      <th>gname</th>\n",
       "    </tr>\n",
       "  </thead>\n",
       "  <tbody>\n",
       "    <tr>\n",
       "      <th>12924</th>\n",
       "      <td>ENSG00000175084.11</td>\n",
       "      <td>55</td>\n",
       "      <td>ENSG00000175084</td>\n",
       "      <td>5.0</td>\n",
       "      <td>DES</td>\n",
       "    </tr>\n",
       "  </tbody>\n",
       "</table>\n",
       "</div>"
      ],
      "text/plain": [
       "            annot_gene_id  n_isos_det              gid  n_isos_gencode gname\n",
       "12924  ENSG00000175084.11          55  ENSG00000175084             5.0   DES"
      ]
     },
     "execution_count": 11,
     "metadata": {},
     "output_type": "execute_result"
    }
   ],
   "source": [
    "df.loc[df.gname == 'DES']"
   ]
  },
  {
   "cell_type": "code",
   "execution_count": 12,
   "id": "dab6b7b3-31c9-4243-a6f3-1457911d0572",
   "metadata": {},
   "outputs": [
    {
     "data": {
      "text/html": [
       "<div>\n",
       "<style scoped>\n",
       "    .dataframe tbody tr th:only-of-type {\n",
       "        vertical-align: middle;\n",
       "    }\n",
       "\n",
       "    .dataframe tbody tr th {\n",
       "        vertical-align: top;\n",
       "    }\n",
       "\n",
       "    .dataframe thead th {\n",
       "        text-align: right;\n",
       "    }\n",
       "</style>\n",
       "<table border=\"1\" class=\"dataframe\">\n",
       "  <thead>\n",
       "    <tr style=\"text-align: right;\">\n",
       "      <th></th>\n",
       "      <th>annot_gene_id</th>\n",
       "      <th>n_isos_det</th>\n",
       "      <th>gid</th>\n",
       "      <th>n_isos_gencode</th>\n",
       "      <th>gname</th>\n",
       "      <th>ratio</th>\n",
       "    </tr>\n",
       "  </thead>\n",
       "  <tbody>\n",
       "    <tr>\n",
       "      <th>13641</th>\n",
       "      <td>ENSG00000179818.13</td>\n",
       "      <td>28</td>\n",
       "      <td>ENSG00000179818</td>\n",
       "      <td>278.0</td>\n",
       "      <td>PCBP1-AS1</td>\n",
       "      <td>0.100719</td>\n",
       "    </tr>\n",
       "    <tr>\n",
       "      <th>20704</th>\n",
       "      <td>ENSG00000242086.8</td>\n",
       "      <td>21</td>\n",
       "      <td>ENSG00000242086</td>\n",
       "      <td>141.0</td>\n",
       "      <td>MUC20-OT1</td>\n",
       "      <td>0.148936</td>\n",
       "    </tr>\n",
       "    <tr>\n",
       "      <th>12591</th>\n",
       "      <td>ENSG00000172965.15</td>\n",
       "      <td>20</td>\n",
       "      <td>ENSG00000172965</td>\n",
       "      <td>108.0</td>\n",
       "      <td>MIR4435-2HG</td>\n",
       "      <td>0.185185</td>\n",
       "    </tr>\n",
       "    <tr>\n",
       "      <th>15511</th>\n",
       "      <td>ENSG00000196756.11</td>\n",
       "      <td>22</td>\n",
       "      <td>ENSG00000196756</td>\n",
       "      <td>109.0</td>\n",
       "      <td>SNHG17</td>\n",
       "      <td>0.201835</td>\n",
       "    </tr>\n",
       "    <tr>\n",
       "      <th>14575</th>\n",
       "      <td>ENSG00000185359.12</td>\n",
       "      <td>21</td>\n",
       "      <td>ENSG00000185359</td>\n",
       "      <td>101.0</td>\n",
       "      <td>HGS</td>\n",
       "      <td>0.207921</td>\n",
       "    </tr>\n",
       "    <tr>\n",
       "      <th>...</th>\n",
       "      <td>...</td>\n",
       "      <td>...</td>\n",
       "      <td>...</td>\n",
       "      <td>...</td>\n",
       "      <td>...</td>\n",
       "      <td>...</td>\n",
       "    </tr>\n",
       "    <tr>\n",
       "      <th>26214</th>\n",
       "      <td>ENSG00000277957.1</td>\n",
       "      <td>39</td>\n",
       "      <td>ENSG00000277957</td>\n",
       "      <td>1.0</td>\n",
       "      <td>SENP3-EIF4A1</td>\n",
       "      <td>39.000000</td>\n",
       "    </tr>\n",
       "    <tr>\n",
       "      <th>23930</th>\n",
       "      <td>ENSG00000265992.1</td>\n",
       "      <td>63</td>\n",
       "      <td>ENSG00000265992</td>\n",
       "      <td>1.0</td>\n",
       "      <td>ESRG</td>\n",
       "      <td>63.000000</td>\n",
       "    </tr>\n",
       "    <tr>\n",
       "      <th>22940</th>\n",
       "      <td>ENSG00000259590.1</td>\n",
       "      <td>97</td>\n",
       "      <td>ENSG00000259590</td>\n",
       "      <td>1.0</td>\n",
       "      <td>LINC02244</td>\n",
       "      <td>97.000000</td>\n",
       "    </tr>\n",
       "    <tr>\n",
       "      <th>6064</th>\n",
       "      <td>ENSG00000130723.19</td>\n",
       "      <td>28</td>\n",
       "      <td>ENSG00000130723</td>\n",
       "      <td>NaN</td>\n",
       "      <td>NaN</td>\n",
       "      <td>NaN</td>\n",
       "    </tr>\n",
       "    <tr>\n",
       "      <th>20692</th>\n",
       "      <td>ENSG00000241978.9</td>\n",
       "      <td>89</td>\n",
       "      <td>ENSG00000241978</td>\n",
       "      <td>NaN</td>\n",
       "      <td>NaN</td>\n",
       "      <td>NaN</td>\n",
       "    </tr>\n",
       "  </tbody>\n",
       "</table>\n",
       "<p>4337 rows × 6 columns</p>\n",
       "</div>"
      ],
      "text/plain": [
       "            annot_gene_id  n_isos_det              gid  n_isos_gencode  \\\n",
       "13641  ENSG00000179818.13          28  ENSG00000179818           278.0   \n",
       "20704   ENSG00000242086.8          21  ENSG00000242086           141.0   \n",
       "12591  ENSG00000172965.15          20  ENSG00000172965           108.0   \n",
       "15511  ENSG00000196756.11          22  ENSG00000196756           109.0   \n",
       "14575  ENSG00000185359.12          21  ENSG00000185359           101.0   \n",
       "...                   ...         ...              ...             ...   \n",
       "26214   ENSG00000277957.1          39  ENSG00000277957             1.0   \n",
       "23930   ENSG00000265992.1          63  ENSG00000265992             1.0   \n",
       "22940   ENSG00000259590.1          97  ENSG00000259590             1.0   \n",
       "6064   ENSG00000130723.19          28  ENSG00000130723             NaN   \n",
       "20692   ENSG00000241978.9          89  ENSG00000241978             NaN   \n",
       "\n",
       "              gname      ratio  \n",
       "13641     PCBP1-AS1   0.100719  \n",
       "20704     MUC20-OT1   0.148936  \n",
       "12591   MIR4435-2HG   0.185185  \n",
       "15511        SNHG17   0.201835  \n",
       "14575           HGS   0.207921  \n",
       "...             ...        ...  \n",
       "26214  SENP3-EIF4A1  39.000000  \n",
       "23930          ESRG  63.000000  \n",
       "22940     LINC02244  97.000000  \n",
       "6064            NaN        NaN  \n",
       "20692           NaN        NaN  \n",
       "\n",
       "[4337 rows x 6 columns]"
      ]
     },
     "execution_count": 12,
     "metadata": {},
     "output_type": "execute_result"
    }
   ],
   "source": [
    "df['ratio'] = df['n_isos_det'] / df['n_isos_gencode']\n",
    "df.sort_values(by='ratio', ascending=False)\n",
    "df = df.sort_values(by='ratio', ascending=True)\n",
    "df.loc[df.n_isos_det > 15]"
   ]
  },
  {
   "cell_type": "markdown",
   "id": "7dca5e64-7bb2-44f1-9b9e-6b22e6819cb1",
   "metadata": {},
   "source": [
    "How does TPM for a gene in a sample relate to the number of models we see in a sample?"
   ]
  },
  {
   "cell_type": "code",
   "execution_count": 26,
   "id": "3d064f57-25db-4235-80a1-31456e5add13",
   "metadata": {},
   "outputs": [
    {
     "name": "stdout",
     "output_type": "stream",
     "text": [
      "Calculating gene TPM values\n",
      "Subsetting for novelty categories ['Known']\n",
      "Subsetting for polya genes\n"
     ]
    },
    {
     "name": "stderr",
     "output_type": "stream",
     "text": [
      "/Users/fairliereese/Documents/programming/mortazavi_lab/data/rnawg/scripts/utils.py:1295: PerformanceWarning: DataFrame is highly fragmented.  This is usually the result of calling `frame.insert` many times, which has poor performance.  Consider joining all columns at once using pd.concat(axis=1) instead.  To get a de-fragmented frame, use `newframe = frame.copy()`\n",
      "  df[tpm_col] = (df[d]*1000000)/df[total_col]\n",
      "/Users/fairliereese/Documents/programming/mortazavi_lab/data/rnawg/scripts/utils.py:1294: PerformanceWarning: DataFrame is highly fragmented.  This is usually the result of calling `frame.insert` many times, which has poor performance.  Consider joining all columns at once using pd.concat(axis=1) instead.  To get a de-fragmented frame, use `newframe = frame.copy()`\n",
      "  df[total_col] = df[d].sum()\n"
     ]
    },
    {
     "name": "stdout",
     "output_type": "stream",
     "text": [
      "Enforcing minimum TPM\n",
      "Total # genes detected: 599976\n",
      "# genes >= 1 tpm: 292060\n",
      "Applying gene type and novelty subset\n",
      "Averaging over biosample\n",
      "Found 50 total samples\n",
      "Number of genes reported: 34027\n",
      "Calculating iso TPM values\n",
      "Subsetting for novelty categories ['Known', 'NIC', 'NNC', 'ISM_rescue']\n",
      "Subsetting for polya genes\n",
      "Enforcing minimum TPM\n",
      "Total # isos detected: 245379\n",
      "# isos >= 1 tpm: 223477\n",
      "Applying gene type and novelty subset\n",
      "Number of isos reported: 219164\n",
      "Found 50 total samples\n"
     ]
    },
    {
     "data": {
      "image/png": "[encoded data removed]",
      "text/plain": [
       "<Figure size 432x288 with 1 Axes>"
      ]
     },
     "metadata": {
      "needs_background": "light"
     },
     "output_type": "display_data"
    }
   ],
   "source": [
    "df = pd.read_csv(ab, sep='\\t')\n",
    "filt_df = pd.read_csv(filt_ab, sep='\\t')\n",
    "df = plot_gene_tpm_v_n_isos(df, filt_df, \n",
    "                            min_tpm=1, \n",
    "                            groupby='sample', \n",
    "                            gene_subset='polya', \n",
    "                            nov=complete_novs, \n",
    "                            opref='figures/human')"
   ]
  },
  {
   "cell_type": "code",
   "execution_count": 27,
   "id": "ac9b4119-45b4-4c91-9899-11948a57664f",
   "metadata": {},
   "outputs": [
    {
     "data": {
      "text/html": [
       "<div>\n",
       "<style scoped>\n",
       "    .dataframe tbody tr th:only-of-type {\n",
       "        vertical-align: middle;\n",
       "    }\n",
       "\n",
       "    .dataframe tbody tr th {\n",
       "        vertical-align: top;\n",
       "    }\n",
       "\n",
       "    .dataframe thead th {\n",
       "        text-align: right;\n",
       "    }\n",
       "</style>\n",
       "<table border=\"1\" class=\"dataframe\">\n",
       "  <thead>\n",
       "    <tr style=\"text-align: right;\">\n",
       "      <th></th>\n",
       "      <th>annot_gene_id</th>\n",
       "      <th>biosample</th>\n",
       "      <th>tpm</th>\n",
       "      <th>n_iso</th>\n",
       "      <th>gid</th>\n",
       "      <th>gname</th>\n",
       "    </tr>\n",
       "  </thead>\n",
       "  <tbody>\n",
       "    <tr>\n",
       "      <th>374959</th>\n",
       "      <td>ENSG00000049540.16</td>\n",
       "      <td>h9_chondro</td>\n",
       "      <td>13063.607528</td>\n",
       "      <td>281.0</td>\n",
       "      <td>ENSG00000049540.16</td>\n",
       "      <td>ELN</td>\n",
       "    </tr>\n",
       "  </tbody>\n",
       "</table>\n",
       "</div>"
      ],
      "text/plain": [
       "             annot_gene_id   biosample           tpm  n_iso  \\\n",
       "374959  ENSG00000049540.16  h9_chondro  13063.607528  281.0   \n",
       "\n",
       "                       gid gname  \n",
       "374959  ENSG00000049540.16   ELN  "
      ]
     },
     "execution_count": 27,
     "metadata": {},
     "output_type": "execute_result"
    }
   ],
   "source": [
    "df.loc[(df.gname == 'ELN')&(df.biosample == 'h9_chondro')]"
   ]
  },
  {
   "cell_type": "code",
   "execution_count": 28,
   "id": "e6d30eee-7ca8-4051-91b9-68b65dca6db0",
   "metadata": {},
   "outputs": [
    {
     "data": {
      "text/html": [
       "<div>\n",
       "<style scoped>\n",
       "    .dataframe tbody tr th:only-of-type {\n",
       "        vertical-align: middle;\n",
       "    }\n",
       "\n",
       "    .dataframe tbody tr th {\n",
       "        vertical-align: top;\n",
       "    }\n",
       "\n",
       "    .dataframe thead th {\n",
       "        text-align: right;\n",
       "    }\n",
       "</style>\n",
       "<table border=\"1\" class=\"dataframe\">\n",
       "  <thead>\n",
       "    <tr style=\"text-align: right;\">\n",
       "      <th></th>\n",
       "      <th>annot_gene_id</th>\n",
       "      <th>biosample</th>\n",
       "      <th>tpm</th>\n",
       "      <th>n_iso</th>\n",
       "      <th>gid</th>\n",
       "      <th>gname</th>\n",
       "    </tr>\n",
       "  </thead>\n",
       "  <tbody>\n",
       "    <tr>\n",
       "      <th>377859</th>\n",
       "      <td>ENSG00000108821.13</td>\n",
       "      <td>h9_chondro</td>\n",
       "      <td>63934.387848</td>\n",
       "      <td>9.0</td>\n",
       "      <td>ENSG00000108821.13</td>\n",
       "      <td>COL1A1</td>\n",
       "    </tr>\n",
       "    <tr>\n",
       "      <th>1158632</th>\n",
       "      <td>ENSG00000087086.14</td>\n",
       "      <td>liver</td>\n",
       "      <td>44143.313758</td>\n",
       "      <td>11.0</td>\n",
       "      <td>ENSG00000087086.14</td>\n",
       "      <td>FTL</td>\n",
       "    </tr>\n",
       "    <tr>\n",
       "      <th>1167791</th>\n",
       "      <td>ENSG00000163631.16</td>\n",
       "      <td>liver</td>\n",
       "      <td>87160.201515</td>\n",
       "      <td>26.0</td>\n",
       "      <td>ENSG00000163631.16</td>\n",
       "      <td>ALB</td>\n",
       "    </tr>\n",
       "    <tr>\n",
       "      <th>1611148</th>\n",
       "      <td>ENSG00000167552.13</td>\n",
       "      <td>pgp1_excite_neuron</td>\n",
       "      <td>63368.654759</td>\n",
       "      <td>20.0</td>\n",
       "      <td>ENSG00000167552.13</td>\n",
       "      <td>TUBA1A</td>\n",
       "    </tr>\n",
       "  </tbody>\n",
       "</table>\n",
       "</div>"
      ],
      "text/plain": [
       "              annot_gene_id           biosample           tpm  n_iso  \\\n",
       "377859   ENSG00000108821.13          h9_chondro  63934.387848    9.0   \n",
       "1158632  ENSG00000087086.14               liver  44143.313758   11.0   \n",
       "1167791  ENSG00000163631.16               liver  87160.201515   26.0   \n",
       "1611148  ENSG00000167552.13  pgp1_excite_neuron  63368.654759   20.0   \n",
       "\n",
       "                        gid   gname  \n",
       "377859   ENSG00000108821.13  COL1A1  \n",
       "1158632  ENSG00000087086.14     FTL  \n",
       "1167791  ENSG00000163631.16     ALB  \n",
       "1611148  ENSG00000167552.13  TUBA1A  "
      ]
     },
     "execution_count": 28,
     "metadata": {},
     "output_type": "execute_result"
    }
   ],
   "source": [
    "df.loc[df.tpm > 40000]"
   ]
  },
  {
   "cell_type": "code",
   "execution_count": 29,
   "id": "b4c1a155-8603-4c67-8fe1-777dbdd58fbd",
   "metadata": {},
   "outputs": [
    {
     "data": {
      "text/html": [
       "<div>\n",
       "<style scoped>\n",
       "    .dataframe tbody tr th:only-of-type {\n",
       "        vertical-align: middle;\n",
       "    }\n",
       "\n",
       "    .dataframe tbody tr th {\n",
       "        vertical-align: top;\n",
       "    }\n",
       "\n",
       "    .dataframe thead th {\n",
       "        text-align: right;\n",
       "    }\n",
       "</style>\n",
       "<table border=\"1\" class=\"dataframe\">\n",
       "  <thead>\n",
       "    <tr style=\"text-align: right;\">\n",
       "      <th></th>\n",
       "      <th>annot_gene_id</th>\n",
       "      <th>biosample</th>\n",
       "      <th>tpm</th>\n",
       "      <th>n_iso</th>\n",
       "      <th>gid</th>\n",
       "      <th>gname</th>\n",
       "    </tr>\n",
       "  </thead>\n",
       "  <tbody>\n",
       "    <tr>\n",
       "      <th>3562</th>\n",
       "      <td>ENSG00000108821.13</td>\n",
       "      <td>a673</td>\n",
       "      <td>39.099773</td>\n",
       "      <td>1.0</td>\n",
       "      <td>ENSG00000108821.13</td>\n",
       "      <td>COL1A1</td>\n",
       "    </tr>\n",
       "    <tr>\n",
       "      <th>37589</th>\n",
       "      <td>ENSG00000108821.13</td>\n",
       "      <td>adipose</td>\n",
       "      <td>131.496029</td>\n",
       "      <td>1.0</td>\n",
       "      <td>ENSG00000108821.13</td>\n",
       "      <td>COL1A1</td>\n",
       "    </tr>\n",
       "    <tr>\n",
       "      <th>71616</th>\n",
       "      <td>ENSG00000108821.13</td>\n",
       "      <td>adrenal gland</td>\n",
       "      <td>110.667449</td>\n",
       "      <td>1.0</td>\n",
       "      <td>ENSG00000108821.13</td>\n",
       "      <td>COL1A1</td>\n",
       "    </tr>\n",
       "    <tr>\n",
       "      <th>105643</th>\n",
       "      <td>ENSG00000108821.13</td>\n",
       "      <td>brain</td>\n",
       "      <td>2.852873</td>\n",
       "      <td>1.0</td>\n",
       "      <td>ENSG00000108821.13</td>\n",
       "      <td>COL1A1</td>\n",
       "    </tr>\n",
       "    <tr>\n",
       "      <th>139670</th>\n",
       "      <td>ENSG00000108821.13</td>\n",
       "      <td>caco2</td>\n",
       "      <td>7.774921</td>\n",
       "      <td>1.0</td>\n",
       "      <td>ENSG00000108821.13</td>\n",
       "      <td>COL1A1</td>\n",
       "    </tr>\n",
       "  </tbody>\n",
       "</table>\n",
       "</div>"
      ],
      "text/plain": [
       "             annot_gene_id      biosample         tpm  n_iso  \\\n",
       "3562    ENSG00000108821.13           a673   39.099773    1.0   \n",
       "37589   ENSG00000108821.13        adipose  131.496029    1.0   \n",
       "71616   ENSG00000108821.13  adrenal gland  110.667449    1.0   \n",
       "105643  ENSG00000108821.13          brain    2.852873    1.0   \n",
       "139670  ENSG00000108821.13          caco2    7.774921    1.0   \n",
       "\n",
       "                       gid   gname  \n",
       "3562    ENSG00000108821.13  COL1A1  \n",
       "37589   ENSG00000108821.13  COL1A1  \n",
       "71616   ENSG00000108821.13  COL1A1  \n",
       "105643  ENSG00000108821.13  COL1A1  \n",
       "139670  ENSG00000108821.13  COL1A1  "
      ]
     },
     "execution_count": 29,
     "metadata": {},
     "output_type": "execute_result"
    }
   ],
   "source": [
    "df.loc[df.gname == 'COL1A1'].head()"
   ]
  },
  {
   "cell_type": "markdown",
   "id": "35263d65-6452-443f-b696-24ac0f472b3b",
   "metadata": {},
   "source": [
    "How does the average number of exons in a gene relate to the number of isoforms we detect for that gene?"
   ]
  },
  {
   "cell_type": "code",
   "execution_count": 30,
   "id": "2607a217-de89-4fed-b6bd-051e8f033c4b",
   "metadata": {},
   "outputs": [
    {
     "name": "stdout",
     "output_type": "stream",
     "text": [
      "Calculating iso TPM values\n",
      "Subsetting for novelty categories ['Known', 'NIC', 'NNC', 'ISM_rescue']\n",
      "Subsetting for polya genes\n"
     ]
    },
    {
     "name": "stderr",
     "output_type": "stream",
     "text": [
      "/Users/fairliereese/Documents/programming/mortazavi_lab/data/rnawg/scripts/utils.py:1294: PerformanceWarning: DataFrame is highly fragmented.  This is usually the result of calling `frame.insert` many times, which has poor performance.  Consider joining all columns at once using pd.concat(axis=1) instead.  To get a de-fragmented frame, use `newframe = frame.copy()`\n",
      "  df[total_col] = df[d].sum()\n",
      "/Users/fairliereese/Documents/programming/mortazavi_lab/data/rnawg/scripts/utils.py:1295: PerformanceWarning: DataFrame is highly fragmented.  This is usually the result of calling `frame.insert` many times, which has poor performance.  Consider joining all columns at once using pd.concat(axis=1) instead.  To get a de-fragmented frame, use `newframe = frame.copy()`\n",
      "  df[tpm_col] = (df[d]*1000000)/df[total_col]\n"
     ]
    },
    {
     "name": "stdout",
     "output_type": "stream",
     "text": [
      "Enforcing minimum TPM\n",
      "Total # isos detected: 245379\n",
      "# isos >= 1 tpm: 223477\n",
      "Applying gene type and novelty subset\n",
      "Number of isos reported: 219164\n"
     ]
    },
    {
     "data": {
      "image/png": "[encoded data removed]",
      "text/plain": [
       "<Figure size 432x288 with 1 Axes>"
      ]
     },
     "metadata": {
      "needs_background": "light"
     },
     "output_type": "display_data"
    }
   ],
   "source": [
    "df = pd.read_csv(filt_ab, sep='\\t')\n",
    "g_df = df.copy(deep=True)\n",
    "g_df = g_df[['n_exons', 'annot_gene_id', 'annot_gene_name']]\n",
    "g_df = g_df.groupby(['annot_gene_id', 'annot_gene_name']).mean().reset_index()\n",
    "g_df.rename({'n_exons':'avg_exons'}, axis=1, inplace=True)\n",
    "\n",
    "# detected isoforms\n",
    "df = get_isos_per_gene(df,\n",
    "                   min_tpm=1,\n",
    "                   gene_subset='polya',\n",
    "                   groupby='all', \n",
    "                   nov=complete_novs)\n",
    "df.rename({'all': 'n_isos_det'}, axis=1, inplace=True)\n",
    "df.head()\n",
    "\n",
    "# merge with # isos detected\n",
    "df = df.merge(g_df, how='left', left_index=True, right_on='annot_gene_id')\n",
    "\n",
    "\n",
    "xlim = 0\n",
    "ylim = 0\n",
    "label_genes = ['ELN', 'DES', 'TPM1', 'MYH7', \n",
    "               'SFTPA1', 'MGAT1', 'DYSF', \n",
    "               'COL16A1']\n",
    "\n",
    "# plot the figure\n",
    "opref = 'figures/human'\n",
    "\n",
    "sns.set_context('paper', font_scale=1.6)\n",
    "ax = sns.scatterplot(data=df, x='n_isos_det', y='avg_exons')\n",
    "\n",
    "ax.spines['right'].set_visible(False)\n",
    "ax.spines['top'].set_visible(False)\n",
    "\n",
    "# set x and y lims if provided\n",
    "if xlim:\n",
    "    xlim = (0, xlim)\n",
    "    ax.set(xlim=xlim)\n",
    "if ylim:\n",
    "    ylim = (0, ylim)\n",
    "    ax.set(ylim=ylim)\n",
    "\n",
    "lims = [\n",
    "    np.min([ax.get_xlim(), ax.get_ylim()]),  # min of both axes\n",
    "    np.max([ax.get_xlim(), ax.get_ylim()]),  # max of both axes\n",
    "]\n",
    "\n",
    "# now plot both limits against eachother\n",
    "ax.plot(lims, lims, 'k-', alpha=0.75, zorder=0)\n",
    "ax.set_aspect('equal')\n",
    "ax.set_xlim(lims)\n",
    "ax.set_ylim(lims)\n",
    "\n",
    "# annotate genes that are kinda interesting\n",
    "if label_genes:\n",
    "    xlim = ax.get_xlim()[1]\n",
    "    ylim = ax.get_ylim()[1]\n",
    "    for g in label_genes:\n",
    "        x = df.loc[df.annot_gene_name == g, 'n_isos_det'].values[0]+(2/75)*xlim\n",
    "        y = df.loc[df.annot_gene_name == g, 'avg_exons'].values[0]-(1.5/75)*ylim\n",
    "        plt.annotate(g, (x,y), fontsize='small', fontstyle='italic')\n",
    "\n",
    "xlabel = 'Total # isoforms / gene'\n",
    "ylabel = 'Average number of exons / isoform'\n",
    "_ = ax.set(xlabel=xlabel, ylabel=ylabel)\n",
    "\n",
    "fname = '{}_isos_det_v_exons.png'.format(opref)\n",
    "plt.savefig(fname, dpi=300, bbox_inches='tight')\n"
   ]
  },
  {
   "cell_type": "code",
   "execution_count": 31,
   "id": "4d812e79-fe7d-473a-b572-63aa274368ed",
   "metadata": {},
   "outputs": [
    {
     "data": {
      "text/html": [
       "<div>\n",
       "<style scoped>\n",
       "    .dataframe tbody tr th:only-of-type {\n",
       "        vertical-align: middle;\n",
       "    }\n",
       "\n",
       "    .dataframe tbody tr th {\n",
       "        vertical-align: top;\n",
       "    }\n",
       "\n",
       "    .dataframe thead th {\n",
       "        text-align: right;\n",
       "    }\n",
       "</style>\n",
       "<table border=\"1\" class=\"dataframe\">\n",
       "  <thead>\n",
       "    <tr style=\"text-align: right;\">\n",
       "      <th></th>\n",
       "      <th>n_isos_det</th>\n",
       "      <th>annot_gene_id</th>\n",
       "      <th>annot_gene_name</th>\n",
       "      <th>avg_exons</th>\n",
       "      <th>ratio</th>\n",
       "    </tr>\n",
       "  </thead>\n",
       "  <tbody>\n",
       "    <tr>\n",
       "      <th>16604</th>\n",
       "      <td>7</td>\n",
       "      <td>ENSG00000197969.12</td>\n",
       "      <td>VPS13A</td>\n",
       "      <td>50.111111</td>\n",
       "      <td>0.139690</td>\n",
       "    </tr>\n",
       "    <tr>\n",
       "      <th>7965</th>\n",
       "      <td>6</td>\n",
       "      <td>ENSG00000139219.18</td>\n",
       "      <td>COL2A1</td>\n",
       "      <td>36.166667</td>\n",
       "      <td>0.165899</td>\n",
       "    </tr>\n",
       "    <tr>\n",
       "      <th>10556</th>\n",
       "      <td>7</td>\n",
       "      <td>ENSG00000160796.16</td>\n",
       "      <td>NBEAL2</td>\n",
       "      <td>37.428571</td>\n",
       "      <td>0.187023</td>\n",
       "    </tr>\n",
       "    <tr>\n",
       "      <th>15784</th>\n",
       "      <td>6</td>\n",
       "      <td>ENSG00000187955.11</td>\n",
       "      <td>COL14A1</td>\n",
       "      <td>31.166667</td>\n",
       "      <td>0.192513</td>\n",
       "    </tr>\n",
       "    <tr>\n",
       "      <th>856</th>\n",
       "      <td>8</td>\n",
       "      <td>ENSG00000024048.10</td>\n",
       "      <td>UBR2</td>\n",
       "      <td>41.250000</td>\n",
       "      <td>0.193939</td>\n",
       "    </tr>\n",
       "    <tr>\n",
       "      <th>...</th>\n",
       "      <td>...</td>\n",
       "      <td>...</td>\n",
       "      <td>...</td>\n",
       "      <td>...</td>\n",
       "      <td>...</td>\n",
       "    </tr>\n",
       "    <tr>\n",
       "      <th>28149</th>\n",
       "      <td>97</td>\n",
       "      <td>ENSG00000259590.1</td>\n",
       "      <td>LINC02244</td>\n",
       "      <td>3.820000</td>\n",
       "      <td>25.392670</td>\n",
       "    </tr>\n",
       "    <tr>\n",
       "      <th>26653</th>\n",
       "      <td>75</td>\n",
       "      <td>ENSG00000253352.9</td>\n",
       "      <td>TUG1</td>\n",
       "      <td>2.821429</td>\n",
       "      <td>26.582278</td>\n",
       "    </tr>\n",
       "    <tr>\n",
       "      <th>24723</th>\n",
       "      <td>89</td>\n",
       "      <td>ENSG00000241978.9</td>\n",
       "      <td>AKAP2</td>\n",
       "      <td>3.322581</td>\n",
       "      <td>26.786408</td>\n",
       "    </tr>\n",
       "    <tr>\n",
       "      <th>11954</th>\n",
       "      <td>58</td>\n",
       "      <td>ENSG00000167173.18</td>\n",
       "      <td>C15orf39</td>\n",
       "      <td>2.081967</td>\n",
       "      <td>27.858268</td>\n",
       "    </tr>\n",
       "    <tr>\n",
       "      <th>26207</th>\n",
       "      <td>48</td>\n",
       "      <td>ENSG00000251562.8</td>\n",
       "      <td>MALAT1</td>\n",
       "      <td>1.372549</td>\n",
       "      <td>34.971429</td>\n",
       "    </tr>\n",
       "  </tbody>\n",
       "</table>\n",
       "<p>12147 rows × 5 columns</p>\n",
       "</div>"
      ],
      "text/plain": [
       "       n_isos_det       annot_gene_id annot_gene_name  avg_exons      ratio\n",
       "16604           7  ENSG00000197969.12          VPS13A  50.111111   0.139690\n",
       "7965            6  ENSG00000139219.18          COL2A1  36.166667   0.165899\n",
       "10556           7  ENSG00000160796.16          NBEAL2  37.428571   0.187023\n",
       "15784           6  ENSG00000187955.11         COL14A1  31.166667   0.192513\n",
       "856             8  ENSG00000024048.10            UBR2  41.250000   0.193939\n",
       "...           ...                 ...             ...        ...        ...\n",
       "28149          97   ENSG00000259590.1       LINC02244   3.820000  25.392670\n",
       "26653          75   ENSG00000253352.9            TUG1   2.821429  26.582278\n",
       "24723          89   ENSG00000241978.9           AKAP2   3.322581  26.786408\n",
       "11954          58  ENSG00000167173.18        C15orf39   2.081967  27.858268\n",
       "26207          48   ENSG00000251562.8          MALAT1   1.372549  34.971429\n",
       "\n",
       "[12147 rows x 5 columns]"
      ]
     },
     "execution_count": 31,
     "metadata": {},
     "output_type": "execute_result"
    }
   ],
   "source": [
    "df['ratio'] = df.n_isos_det / df.avg_exons\n",
    "df = df.sort_values(by='ratio', ascending=True)\n",
    "df.loc[df.n_isos_det > 5]"
   ]
  },
  {
   "cell_type": "markdown",
   "id": "c7e4f6a0-bbbf-4632-a018-84186ebfeeb0",
   "metadata": {},
   "source": [
    "For genes where we detect a lot more isoforms than those annotated, are there typically more NIC or NNC?"
   ]
  },
  {
   "cell_type": "code",
   "execution_count": 33,
   "id": "7ab08326-5c3d-4bba-9f84-5ffb65900bf9",
   "metadata": {},
   "outputs": [
    {
     "name": "stdout",
     "output_type": "stream",
     "text": [
      "Calculating iso TPM values\n",
      "Subsetting for novelty categories ['Known', 'NIC', 'NNC', 'ISM_rescue']\n",
      "Subsetting for polya genes\n"
     ]
    },
    {
     "name": "stderr",
     "output_type": "stream",
     "text": [
      "/Users/fairliereese/Documents/programming/mortazavi_lab/data/rnawg/scripts/utils.py:1294: PerformanceWarning: DataFrame is highly fragmented.  This is usually the result of calling `frame.insert` many times, which has poor performance.  Consider joining all columns at once using pd.concat(axis=1) instead.  To get a de-fragmented frame, use `newframe = frame.copy()`\n",
      "  df[total_col] = df[d].sum()\n",
      "/Users/fairliereese/Documents/programming/mortazavi_lab/data/rnawg/scripts/utils.py:1295: PerformanceWarning: DataFrame is highly fragmented.  This is usually the result of calling `frame.insert` many times, which has poor performance.  Consider joining all columns at once using pd.concat(axis=1) instead.  To get a de-fragmented frame, use `newframe = frame.copy()`\n",
      "  df[tpm_col] = (df[d]*1000000)/df[total_col]\n"
     ]
    },
    {
     "name": "stdout",
     "output_type": "stream",
     "text": [
      "Enforcing minimum TPM\n",
      "Total # isos detected: 245379\n",
      "# isos >= 1 tpm: 223477\n",
      "Applying gene type and novelty subset\n",
      "Number of isos reported: 219164\n",
      "Calculating iso TPM values\n",
      "Subsetting for novelty categories ['Known', 'NIC', 'NNC', 'ISM_rescue']\n",
      "Subsetting for polya genes\n",
      "Enforcing minimum TPM\n",
      "Total # isos detected: 245379\n",
      "# isos >= 1 tpm: 223477\n",
      "Applying gene type and novelty subset\n",
      "Number of isos reported: 219164\n"
     ]
    },
    {
     "data": {
      "text/plain": [
       "<Figure size 288x432 with 0 Axes>"
      ]
     },
     "metadata": {},
     "output_type": "display_data"
    },
    {
     "data": {
      "image/png": "[encoded data removed]",
      "text/plain": [
       "<Figure size 360x360 with 1 Axes>"
      ]
     },
     "metadata": {
      "needs_background": "light"
     },
     "output_type": "display_data"
    }
   ],
   "source": [
    "df = pd.read_csv(filt_ab, sep='\\t')\n",
    "min_tpm=1\n",
    "gene_subset='polya'\n",
    "nov=complete_novs\n",
    "opref='figures/human'\n",
    "\n",
    "df_back = df.copy(deep=True)\n",
    "\n",
    "# detected isoforms\n",
    "det_df = get_isos_per_gene(df,\n",
    "                   min_tpm=min_tpm,\n",
    "                   gene_subset=gene_subset,\n",
    "                   groupby='all', \n",
    "                   nov=nov)\n",
    "det_df.rename({'all': 'n_isos_det'}, axis=1, inplace=True)\n",
    "\n",
    "# annotated isoforms\n",
    "gc_df = get_n_gencode_isos(subset='polya')\n",
    "gc_df = gc_df[['gid', 'n_isos_gencode']]\n",
    "\n",
    "df = det_df.merge(gc_df, how='left', left_index=True, right_on='gid')    \n",
    "\n",
    "# add gene name \n",
    "gene_df, _, _ = get_gtf_info(how='gene', subset='polya')\n",
    "gene_df = gene_df[['gid', 'gname']]\n",
    "df = df.merge(gene_df, how='left', on='gid')\n",
    "\n",
    "df['ratio'] = df['n_isos_det'] / df['n_isos_gencode']\n",
    "gids = df.loc[df['ratio']>1.5, 'gid'].tolist()\n",
    "len(df.loc[df['ratio']>1.5])\n",
    "\n",
    "t_df = df_back.copy(deep=True)\n",
    "t_df = t_df[['annot_transcript_id', 'transcript_novelty', 'annot_gene_id', 'annot_gene_name']]\n",
    "df = get_det_table(df_back, \n",
    "                   how='iso', \n",
    "                   min_tpm=1, \n",
    "                   gene_subset='polya',\n",
    "                   groupby='all',\n",
    "                   nov=complete_novs)\n",
    "df = df.transpose()\n",
    "\n",
    "df = df.merge(t_df, how='left', left_index=True, right_on='annot_transcript_id')\n",
    "df = df.loc[df.annot_gene_id.isin(gids)]\n",
    "\n",
    "df.drop('all', axis=1, inplace=True)\n",
    "df = df.groupby(['annot_gene_id', 'annot_gene_name', 'transcript_novelty'], dropna=False).count().reset_index()\n",
    "df.rename({'annot_transcript_id': 'n_isos'}, axis=1, inplace=True)\n",
    "df.head()\n",
    "\n",
    "# plot the plot\n",
    "sns.set_context('paper', font_scale=1.6)\n",
    "plt.figure(figsize=(4,6))\n",
    "\n",
    "c_dict, order = get_talon_nov_colors(cats=nov)\n",
    "# ax = sns.boxplot(data=df, x='transcript_novelty', y='n_isos',\n",
    "#                  order=order, palette=c_dict,\n",
    "#                  saturation=1)\n",
    "\n",
    "ax = sns.catplot(data=df, x='transcript_novelty', y='n_isos',\n",
    "                 order=order, palette=c_dict, kind='bar', saturation=1)\n",
    "\n",
    "\n",
    "# ax.spines['right'].set_visible(False)\n",
    "# ax.spines['top'].set_visible(False)\n",
    "\n",
    "xlabel = 'Transcript novelty'\n",
    "ylabel = '# isoforms'\n",
    "\n",
    "_ = ax.set(xlabel=xlabel, ylabel=ylabel)\n",
    "\n",
    "fname = '{}_isos_per_many_iso_gene.png'.format(opref)\n",
    "plt.savefig(fname, dpi=300, bbox_inches='tight')"
   ]
  },
  {
   "cell_type": "markdown",
   "id": "4057f1bc-bfbf-4d9d-b090-fc385776ce38",
   "metadata": {},
   "source": [
    "How does the max # isoforms detected per gene / sample compare to the number of isoforms detected per gene overall across the whole dataset?"
   ]
  },
  {
   "cell_type": "code",
   "execution_count": 35,
   "id": "2f33724d-d194-4f0a-adc3-682bcb281682",
   "metadata": {},
   "outputs": [
    {
     "name": "stdout",
     "output_type": "stream",
     "text": [
      "Calculating iso TPM values\n",
      "Subsetting for novelty categories ['Known', 'NIC', 'NNC', 'ISM_rescue']\n",
      "Subsetting for polya genes\n"
     ]
    },
    {
     "name": "stderr",
     "output_type": "stream",
     "text": [
      "/Users/fairliereese/Documents/programming/mortazavi_lab/data/rnawg/scripts/utils.py:1294: PerformanceWarning: DataFrame is highly fragmented.  This is usually the result of calling `frame.insert` many times, which has poor performance.  Consider joining all columns at once using pd.concat(axis=1) instead.  To get a de-fragmented frame, use `newframe = frame.copy()`\n",
      "  df[total_col] = df[d].sum()\n",
      "/Users/fairliereese/Documents/programming/mortazavi_lab/data/rnawg/scripts/utils.py:1295: PerformanceWarning: DataFrame is highly fragmented.  This is usually the result of calling `frame.insert` many times, which has poor performance.  Consider joining all columns at once using pd.concat(axis=1) instead.  To get a de-fragmented frame, use `newframe = frame.copy()`\n",
      "  df[tpm_col] = (df[d]*1000000)/df[total_col]\n"
     ]
    },
    {
     "name": "stdout",
     "output_type": "stream",
     "text": [
      "Enforcing minimum TPM\n",
      "Total # isos detected: 245379\n",
      "# isos >= 1 tpm: 223477\n",
      "Applying gene type and novelty subset\n",
      "Number of isos reported: 219164\n",
      "Found 50 total samples\n",
      "Calculating iso TPM values\n",
      "Subsetting for novelty categories ['Known', 'NIC', 'NNC', 'ISM_rescue']\n",
      "Subsetting for polya genes\n",
      "Enforcing minimum TPM\n",
      "Total # isos detected: 245379\n",
      "# isos >= 1 tpm: 223477\n",
      "Applying gene type and novelty subset\n",
      "Number of isos reported: 219164\n",
      "       max_isos  total_isos                 gid gname  length         biotype  \\\n",
      "21978     281.0         286  ENSG00000049540.16   ELN   42118  protein_coding   \n",
      "\n",
      "      biotype_category     tf  \n",
      "21978   protein_coding  False  \n"
     ]
    },
    {
     "data": {
      "text/html": [
       "<div>\n",
       "<style scoped>\n",
       "    .dataframe tbody tr th:only-of-type {\n",
       "        vertical-align: middle;\n",
       "    }\n",
       "\n",
       "    .dataframe tbody tr th {\n",
       "        vertical-align: top;\n",
       "    }\n",
       "\n",
       "    .dataframe thead th {\n",
       "        text-align: right;\n",
       "    }\n",
       "</style>\n",
       "<table border=\"1\" class=\"dataframe\">\n",
       "  <thead>\n",
       "    <tr style=\"text-align: right;\">\n",
       "      <th></th>\n",
       "      <th>max_isos</th>\n",
       "      <th>total_isos</th>\n",
       "      <th>gid</th>\n",
       "      <th>gname</th>\n",
       "      <th>length</th>\n",
       "      <th>biotype</th>\n",
       "      <th>biotype_category</th>\n",
       "      <th>tf</th>\n",
       "      <th>ratio</th>\n",
       "    </tr>\n",
       "  </thead>\n",
       "  <tbody>\n",
       "    <tr>\n",
       "      <th>20125</th>\n",
       "      <td>23.0</td>\n",
       "      <td>67</td>\n",
       "      <td>ENSG00000029363.16</td>\n",
       "      <td>BCLAF1</td>\n",
       "      <td>33224</td>\n",
       "      <td>protein_coding</td>\n",
       "      <td>protein_coding</td>\n",
       "      <td>False</td>\n",
       "      <td>0.343284</td>\n",
       "    </tr>\n",
       "    <tr>\n",
       "      <th>14094</th>\n",
       "      <td>22.0</td>\n",
       "      <td>59</td>\n",
       "      <td>ENSG00000164073.10</td>\n",
       "      <td>MFSD8</td>\n",
       "      <td>48302</td>\n",
       "      <td>protein_coding</td>\n",
       "      <td>protein_coding</td>\n",
       "      <td>False</td>\n",
       "      <td>0.372881</td>\n",
       "    </tr>\n",
       "    <tr>\n",
       "      <th>55133</th>\n",
       "      <td>28.0</td>\n",
       "      <td>75</td>\n",
       "      <td>ENSG00000253352.9</td>\n",
       "      <td>TUG1</td>\n",
       "      <td>10150</td>\n",
       "      <td>bidirectional_promoter_lncRNA</td>\n",
       "      <td>lncRNA</td>\n",
       "      <td>False</td>\n",
       "      <td>0.373333</td>\n",
       "    </tr>\n",
       "    <tr>\n",
       "      <th>51738</th>\n",
       "      <td>24.0</td>\n",
       "      <td>57</td>\n",
       "      <td>ENSG00000130844.17</td>\n",
       "      <td>ZNF331</td>\n",
       "      <td>60742</td>\n",
       "      <td>protein_coding</td>\n",
       "      <td>protein_coding</td>\n",
       "      <td>True</td>\n",
       "      <td>0.421053</td>\n",
       "    </tr>\n",
       "    <tr>\n",
       "      <th>11408</th>\n",
       "      <td>25.0</td>\n",
       "      <td>57</td>\n",
       "      <td>ENSG00000114120.12</td>\n",
       "      <td>SLC25A36</td>\n",
       "      <td>39131</td>\n",
       "      <td>protein_coding</td>\n",
       "      <td>protein_coding</td>\n",
       "      <td>False</td>\n",
       "      <td>0.438596</td>\n",
       "    </tr>\n",
       "    <tr>\n",
       "      <th>...</th>\n",
       "      <td>...</td>\n",
       "      <td>...</td>\n",
       "      <td>...</td>\n",
       "      <td>...</td>\n",
       "      <td>...</td>\n",
       "      <td>...</td>\n",
       "      <td>...</td>\n",
       "      <td>...</td>\n",
       "      <td>...</td>\n",
       "    </tr>\n",
       "    <tr>\n",
       "      <th>24057</th>\n",
       "      <td>54.0</td>\n",
       "      <td>54</td>\n",
       "      <td>ENSG00000168484.12</td>\n",
       "      <td>SFTPC</td>\n",
       "      <td>7566</td>\n",
       "      <td>protein_coding</td>\n",
       "      <td>protein_coding</td>\n",
       "      <td>False</td>\n",
       "      <td>1.000000</td>\n",
       "    </tr>\n",
       "    <tr>\n",
       "      <th>29532</th>\n",
       "      <td>74.0</td>\n",
       "      <td>74</td>\n",
       "      <td>ENSG00000122852.14</td>\n",
       "      <td>SFTPA1</td>\n",
       "      <td>4516</td>\n",
       "      <td>protein_coding</td>\n",
       "      <td>protein_coding</td>\n",
       "      <td>False</td>\n",
       "      <td>1.000000</td>\n",
       "    </tr>\n",
       "    <tr>\n",
       "      <th>25834</th>\n",
       "      <td>64.0</td>\n",
       "      <td>64</td>\n",
       "      <td>ENSG00000160882.11</td>\n",
       "      <td>CYP11B1</td>\n",
       "      <td>7490</td>\n",
       "      <td>protein_coding</td>\n",
       "      <td>protein_coding</td>\n",
       "      <td>False</td>\n",
       "      <td>1.000000</td>\n",
       "    </tr>\n",
       "    <tr>\n",
       "      <th>6694</th>\n",
       "      <td>163.0</td>\n",
       "      <td>163</td>\n",
       "      <td>ENSG00000168878.16</td>\n",
       "      <td>SFTPB</td>\n",
       "      <td>11427</td>\n",
       "      <td>protein_coding</td>\n",
       "      <td>protein_coding</td>\n",
       "      <td>False</td>\n",
       "      <td>1.000000</td>\n",
       "    </tr>\n",
       "    <tr>\n",
       "      <th>8887</th>\n",
       "      <td>55.0</td>\n",
       "      <td>55</td>\n",
       "      <td>ENSG00000175084.11</td>\n",
       "      <td>DES</td>\n",
       "      <td>8362</td>\n",
       "      <td>protein_coding</td>\n",
       "      <td>protein_coding</td>\n",
       "      <td>False</td>\n",
       "      <td>1.000000</td>\n",
       "    </tr>\n",
       "  </tbody>\n",
       "</table>\n",
       "<p>205 rows × 9 columns</p>\n",
       "</div>"
      ],
      "text/plain": [
       "       max_isos  total_isos                 gid     gname  length  \\\n",
       "20125      23.0          67  ENSG00000029363.16    BCLAF1   33224   \n",
       "14094      22.0          59  ENSG00000164073.10     MFSD8   48302   \n",
       "55133      28.0          75   ENSG00000253352.9      TUG1   10150   \n",
       "51738      24.0          57  ENSG00000130844.17    ZNF331   60742   \n",
       "11408      25.0          57  ENSG00000114120.12  SLC25A36   39131   \n",
       "...         ...         ...                 ...       ...     ...   \n",
       "24057      54.0          54  ENSG00000168484.12     SFTPC    7566   \n",
       "29532      74.0          74  ENSG00000122852.14    SFTPA1    4516   \n",
       "25834      64.0          64  ENSG00000160882.11   CYP11B1    7490   \n",
       "6694      163.0         163  ENSG00000168878.16     SFTPB   11427   \n",
       "8887       55.0          55  ENSG00000175084.11       DES    8362   \n",
       "\n",
       "                             biotype biotype_category     tf     ratio  \n",
       "20125                 protein_coding   protein_coding  False  0.343284  \n",
       "14094                 protein_coding   protein_coding  False  0.372881  \n",
       "55133  bidirectional_promoter_lncRNA           lncRNA  False  0.373333  \n",
       "51738                 protein_coding   protein_coding   True  0.421053  \n",
       "11408                 protein_coding   protein_coding  False  0.438596  \n",
       "...                              ...              ...    ...       ...  \n",
       "24057                 protein_coding   protein_coding  False  1.000000  \n",
       "29532                 protein_coding   protein_coding  False  1.000000  \n",
       "25834                 protein_coding   protein_coding  False  1.000000  \n",
       "6694                  protein_coding   protein_coding  False  1.000000  \n",
       "8887                  protein_coding   protein_coding  False  1.000000  \n",
       "\n",
       "[205 rows x 9 columns]"
      ]
     },
     "execution_count": 35,
     "metadata": {},
     "output_type": "execute_result"
    },
    {
     "data": {
      "image/png": "[encoded data removed]",
      "text/plain": [
       "<Figure size 432x288 with 1 Axes>"
      ]
     },
     "metadata": {
      "needs_background": "light"
     },
     "output_type": "display_data"
    }
   ],
   "source": [
    "df = pd.read_csv(filt_ab, sep='\\t')\n",
    "df = plot_max_vs_all_isos(df,\n",
    "                         min_tpm=1,\n",
    "                         gene_subset='polya',\n",
    "                         nov=complete_novs,\n",
    "                         label_genes=['TPM1', 'DES', 'MAPK10', 'FN1', 'SFTPA1', 'ELN'],\n",
    "                         xlim=75,\n",
    "                         ylim=75,\n",
    "                         opref='figures/human')\n",
    "\n",
    "print(df.loc[df.gname=='ELN'])\n",
    "df['ratio'] = df['max_isos'] / df['total_isos']\n",
    "df.loc[df['total_isos'] > 50].sort_values(by='ratio', ascending=True)"
   ]
  },
  {
   "cell_type": "markdown",
   "id": "3803d6ee-2b6d-4a2f-9f1b-b48f9a1dc447",
   "metadata": {},
   "source": [
    "What # of genes do we detect >15 isoforms overall that have >15 annotated isoforms in GENCODE?"
   ]
  },
  {
   "cell_type": "code",
   "execution_count": 37,
   "id": "10ee88bf-2509-49a6-afc7-097d561ce457",
   "metadata": {},
   "outputs": [
    {
     "name": "stdout",
     "output_type": "stream",
     "text": [
      "Calculating iso TPM values\n",
      "Subsetting for novelty categories ['Known', 'NIC', 'NNC', 'ISM_rescue']\n",
      "Subsetting for polya genes\n"
     ]
    },
    {
     "name": "stderr",
     "output_type": "stream",
     "text": [
      "/Users/fairliereese/Documents/programming/mortazavi_lab/data/rnawg/scripts/utils.py:1294: PerformanceWarning: DataFrame is highly fragmented.  This is usually the result of calling `frame.insert` many times, which has poor performance.  Consider joining all columns at once using pd.concat(axis=1) instead.  To get a de-fragmented frame, use `newframe = frame.copy()`\n",
      "  df[total_col] = df[d].sum()\n",
      "/Users/fairliereese/Documents/programming/mortazavi_lab/data/rnawg/scripts/utils.py:1295: PerformanceWarning: DataFrame is highly fragmented.  This is usually the result of calling `frame.insert` many times, which has poor performance.  Consider joining all columns at once using pd.concat(axis=1) instead.  To get a de-fragmented frame, use `newframe = frame.copy()`\n",
      "  df[tpm_col] = (df[d]*1000000)/df[total_col]\n"
     ]
    },
    {
     "name": "stdout",
     "output_type": "stream",
     "text": [
      "Enforcing minimum TPM\n",
      "Total # isos detected: 245379\n",
      "# isos >= 1 tpm: 223477\n",
      "Applying gene type and novelty subset\n",
      "Number of isos reported: 219164\n",
      "25 / 4337 genes w/ >15 isoforms detected overall have >15 isoforms annotated in GENCODE\n"
     ]
    }
   ],
   "source": [
    "df = pd.read_csv(filt_ab, sep='\\t')\n",
    "df = get_isos_per_gene(df,\n",
    "                       min_tpm=1,\n",
    "                       gene_subset='polya',\n",
    "                       groupby='all', \n",
    "                       nov=complete_novs)\n",
    "df.head()\n",
    "\n",
    "df = df.loc[df['all'] > 15]\n",
    "\n",
    "gene_df, _, _ = get_gtf_info(how='iso', subset='polya', ver=ver)\n",
    "gene_df = gene_df[['gid', 'tid']]\n",
    "gene_df = gene_df.groupby('gid').count().reset_index()\n",
    "gene_df.rename({'tid': 'n_isos_gencode'}, axis=1, inplace=True)\n",
    "gene_df.sort_values(by='n_isos_gencode', ascending=False, inplace=True)\n",
    "gene_df = gene_df.loc[gene_df.n_isos_gencode > 15]\n",
    "\n",
    "# get intersection of genes wih >15 annotated isoforms and \n",
    "# genes that we detect >15 isoforms in at least one sample\n",
    "n = len(set(gene_df.gid.tolist())&set(df.index.tolist()))\n",
    "total = len(df.index)\n",
    "\n",
    "print('{} / {} genes w/ >15 isoforms detected overall have >15 isoforms annotated in GENCODE'.format(n, total))"
   ]
  },
  {
   "cell_type": "markdown",
   "id": "91c3acb1-1ed0-451f-aa17-c685846c131d",
   "metadata": {},
   "source": [
    "Deeper dive into what's going on with _ELN_"
   ]
  },
  {
   "cell_type": "code",
   "execution_count": 40,
   "id": "8c88de07-2cd8-44b2-9e43-4d06ac6a5c92",
   "metadata": {},
   "outputs": [
    {
     "data": {
      "text/html": [
       "<div>\n",
       "<style scoped>\n",
       "    .dataframe tbody tr th:only-of-type {\n",
       "        vertical-align: middle;\n",
       "    }\n",
       "\n",
       "    .dataframe tbody tr th {\n",
       "        vertical-align: top;\n",
       "    }\n",
       "\n",
       "    .dataframe thead th {\n",
       "        text-align: right;\n",
       "    }\n",
       "</style>\n",
       "<table border=\"1\" class=\"dataframe\">\n",
       "  <thead>\n",
       "    <tr style=\"text-align: right;\">\n",
       "      <th></th>\n",
       "      <th>0</th>\n",
       "    </tr>\n",
       "    <tr>\n",
       "      <th>annot_gene_id</th>\n",
       "      <th></th>\n",
       "    </tr>\n",
       "  </thead>\n",
       "  <tbody>\n",
       "    <tr>\n",
       "      <th>ENSG00000049540.16</th>\n",
       "      <td>286</td>\n",
       "    </tr>\n",
       "  </tbody>\n",
       "</table>\n",
       "</div>"
      ],
      "text/plain": [
       "                      0\n",
       "annot_gene_id          \n",
       "ENSG00000049540.16  286"
      ]
     },
     "execution_count": 40,
     "metadata": {},
     "output_type": "execute_result"
    }
   ],
   "source": [
    "temp = df.max(axis=1).to_frame()\n",
    "n = df.max().max()\n",
    "temp.loc[temp[0] == 286]"
   ]
  },
  {
   "cell_type": "code",
   "execution_count": 41,
   "id": "39ed3acc-2bde-45d5-8496-3621ce734cd4",
   "metadata": {},
   "outputs": [
    {
     "data": {
      "text/plain": [
       "'all'"
      ]
     },
     "execution_count": 41,
     "metadata": {},
     "output_type": "execute_result"
    }
   ],
   "source": [
    "df.loc['ENSG00000049540.16'].idxmax()"
   ]
  },
  {
   "cell_type": "markdown",
   "id": "7946c90b-e00f-409e-a58e-ae1f7459b6d6",
   "metadata": {},
   "source": [
    "How many different tissues express Elastin? How many isoforms are detected in these tissues?"
   ]
  },
  {
   "cell_type": "code",
   "execution_count": 42,
   "id": "c61fcb67-5814-4adf-b545-c22418f5b196",
   "metadata": {},
   "outputs": [
    {
     "data": {
      "text/plain": [
       "all    286\n",
       "Name: ENSG00000049540.16, dtype: int64"
      ]
     },
     "execution_count": 42,
     "metadata": {},
     "output_type": "execute_result"
    }
   ],
   "source": [
    "df.loc['ENSG00000049540.16']"
   ]
  },
  {
   "cell_type": "code",
   "execution_count": 43,
   "id": "6b518848-93a8-4a59-a8b7-fce3bba6b51e",
   "metadata": {},
   "outputs": [
    {
     "name": "stdout",
     "output_type": "stream",
     "text": [
      "Calculating iso TPM values\n",
      "Subsetting for novelty categories ['Known', 'NIC', 'NNC', 'ISM_rescue']\n",
      "Subsetting for polya genes\n"
     ]
    },
    {
     "name": "stderr",
     "output_type": "stream",
     "text": [
      "/Users/fairliereese/Documents/programming/mortazavi_lab/data/rnawg/scripts/utils.py:1294: PerformanceWarning: DataFrame is highly fragmented.  This is usually the result of calling `frame.insert` many times, which has poor performance.  Consider joining all columns at once using pd.concat(axis=1) instead.  To get a de-fragmented frame, use `newframe = frame.copy()`\n",
      "  df[total_col] = df[d].sum()\n",
      "/Users/fairliereese/Documents/programming/mortazavi_lab/data/rnawg/scripts/utils.py:1295: PerformanceWarning: DataFrame is highly fragmented.  This is usually the result of calling `frame.insert` many times, which has poor performance.  Consider joining all columns at once using pd.concat(axis=1) instead.  To get a de-fragmented frame, use `newframe = frame.copy()`\n",
      "  df[tpm_col] = (df[d]*1000000)/df[total_col]\n"
     ]
    },
    {
     "name": "stdout",
     "output_type": "stream",
     "text": [
      "Enforcing minimum TPM\n",
      "Total # isos detected: 245379\n",
      "# isos >= 1 tpm: 223477\n",
      "Applying gene type and novelty subset\n",
      "Number of isos reported: 219164\n",
      "Found 50 total samples\n"
     ]
    },
    {
     "data": {
      "text/plain": [
       "<Figure size 288x432 with 0 Axes>"
      ]
     },
     "metadata": {},
     "output_type": "display_data"
    },
    {
     "data": {
      "image/png": "[encoded data removed]",
      "text/plain": [
       "<Figure size 510.764x360 with 1 Axes>"
      ]
     },
     "metadata": {
      "needs_background": "light"
     },
     "output_type": "display_data"
    }
   ],
   "source": [
    "df = pd.read_csv(filt_ab, sep='\\t')\n",
    "plot_transcript_novelty_per(df, \n",
    "                            gene='ELN', \n",
    "                            min_tpm=1, \n",
    "                            gene_subset='polya', \n",
    "                            groupby='sample', \n",
    "                            nov=complete_novs, \n",
    "                            opref='figures/human')"
   ]
  },
  {
   "cell_type": "code",
   "execution_count": 44,
   "id": "c3573ced-8a12-4613-bbf5-7e688736a48f",
   "metadata": {},
   "outputs": [
    {
     "name": "stdout",
     "output_type": "stream",
     "text": [
      "Calculating iso TPM values\n",
      "Subsetting for novelty categories ['Known', 'NIC', 'NNC', 'ISM_rescue']\n",
      "Subsetting for polya genes\n"
     ]
    },
    {
     "name": "stderr",
     "output_type": "stream",
     "text": [
      "/Users/fairliereese/Documents/programming/mortazavi_lab/data/rnawg/scripts/utils.py:1294: PerformanceWarning: DataFrame is highly fragmented.  This is usually the result of calling `frame.insert` many times, which has poor performance.  Consider joining all columns at once using pd.concat(axis=1) instead.  To get a de-fragmented frame, use `newframe = frame.copy()`\n",
      "  df[total_col] = df[d].sum()\n",
      "/Users/fairliereese/Documents/programming/mortazavi_lab/data/rnawg/scripts/utils.py:1295: PerformanceWarning: DataFrame is highly fragmented.  This is usually the result of calling `frame.insert` many times, which has poor performance.  Consider joining all columns at once using pd.concat(axis=1) instead.  To get a de-fragmented frame, use `newframe = frame.copy()`\n",
      "  df[tpm_col] = (df[d]*1000000)/df[total_col]\n"
     ]
    },
    {
     "name": "stdout",
     "output_type": "stream",
     "text": [
      "Enforcing minimum TPM\n",
      "Total # isos detected: 245379\n",
      "# isos >= 1 tpm: 223477\n",
      "Applying gene type and novelty subset\n",
      "Number of isos reported: 219164\n",
      "Found 50 total samples\n"
     ]
    },
    {
     "data": {
      "text/plain": [
       "<Figure size 288x432 with 0 Axes>"
      ]
     },
     "metadata": {},
     "output_type": "display_data"
    },
    {
     "data": {
      "image/png": "[encoded data removed]",
      "text/plain": [
       "<Figure size 510.764x360 with 1 Axes>"
      ]
     },
     "metadata": {
      "needs_background": "light"
     },
     "output_type": "display_data"
    }
   ],
   "source": [
    "df = pd.read_csv(filt_ab, sep='\\t')\n",
    "plot_transcript_novelty_per(df, \n",
    "                            gene='DES', \n",
    "                            min_tpm=1, \n",
    "                            gene_subset='polya', \n",
    "                            groupby='sample', \n",
    "                            nov=complete_novs, \n",
    "                            opref='figures/human')"
   ]
  },
  {
   "cell_type": "code",
   "execution_count": 45,
   "id": "25f2398e-1242-41ae-9369-bbc7dae779d3",
   "metadata": {},
   "outputs": [
    {
     "name": "stdout",
     "output_type": "stream",
     "text": [
      "Calculating iso TPM values\n",
      "Subsetting for novelty categories ['Known', 'NIC', 'NNC', 'ISM_rescue']\n",
      "Subsetting for polya genes\n"
     ]
    },
    {
     "name": "stderr",
     "output_type": "stream",
     "text": [
      "/Users/fairliereese/Documents/programming/mortazavi_lab/data/rnawg/scripts/utils.py:1294: PerformanceWarning: DataFrame is highly fragmented.  This is usually the result of calling `frame.insert` many times, which has poor performance.  Consider joining all columns at once using pd.concat(axis=1) instead.  To get a de-fragmented frame, use `newframe = frame.copy()`\n",
      "  df[total_col] = df[d].sum()\n",
      "/Users/fairliereese/Documents/programming/mortazavi_lab/data/rnawg/scripts/utils.py:1295: PerformanceWarning: DataFrame is highly fragmented.  This is usually the result of calling `frame.insert` many times, which has poor performance.  Consider joining all columns at once using pd.concat(axis=1) instead.  To get a de-fragmented frame, use `newframe = frame.copy()`\n",
      "  df[tpm_col] = (df[d]*1000000)/df[total_col]\n"
     ]
    },
    {
     "name": "stdout",
     "output_type": "stream",
     "text": [
      "Enforcing minimum TPM\n",
      "Total # isos detected: 245379\n",
      "# isos >= 1 tpm: 223477\n",
      "Applying gene type and novelty subset\n",
      "Number of isos reported: 219164\n",
      "Found 50 total samples\n"
     ]
    },
    {
     "data": {
      "text/plain": [
       "<Figure size 288x432 with 0 Axes>"
      ]
     },
     "metadata": {},
     "output_type": "display_data"
    },
    {
     "data": {
      "image/png": "[encoded data removed]",
      "text/plain": [
       "<Figure size 510.764x360 with 1 Axes>"
      ]
     },
     "metadata": {
      "needs_background": "light"
     },
     "output_type": "display_data"
    }
   ],
   "source": [
    "df = pd.read_csv(filt_ab, sep='\\t')\n",
    "plot_transcript_novelty_per(df, \n",
    "                            gene='MYH7', \n",
    "                            min_tpm=1, \n",
    "                            gene_subset='polya', \n",
    "                            groupby='sample', \n",
    "                            nov=complete_novs, \n",
    "                            opref='figures/human')"
   ]
  },
  {
   "cell_type": "markdown",
   "id": "0bf14fc7-3fc1-420e-9c64-dacc37761d5a",
   "metadata": {},
   "source": [
    "What novelty type do each of these isoforms have in just h9 chondro?"
   ]
  },
  {
   "cell_type": "code",
   "execution_count": 46,
   "id": "35043d03-6491-4e60-a45d-445aab11ac3f",
   "metadata": {},
   "outputs": [
    {
     "name": "stdout",
     "output_type": "stream",
     "text": [
      "Calculating iso TPM values\n",
      "Subsetting for novelty categories ['Known', 'NIC', 'NNC', 'ISM_rescue']\n",
      "Subsetting for polya genes\n"
     ]
    },
    {
     "name": "stderr",
     "output_type": "stream",
     "text": [
      "/Users/fairliereese/Documents/programming/mortazavi_lab/data/rnawg/scripts/utils.py:1294: PerformanceWarning: DataFrame is highly fragmented.  This is usually the result of calling `frame.insert` many times, which has poor performance.  Consider joining all columns at once using pd.concat(axis=1) instead.  To get a de-fragmented frame, use `newframe = frame.copy()`\n",
      "  df[total_col] = df[d].sum()\n",
      "/Users/fairliereese/Documents/programming/mortazavi_lab/data/rnawg/scripts/utils.py:1295: PerformanceWarning: DataFrame is highly fragmented.  This is usually the result of calling `frame.insert` many times, which has poor performance.  Consider joining all columns at once using pd.concat(axis=1) instead.  To get a de-fragmented frame, use `newframe = frame.copy()`\n",
      "  df[tpm_col] = (df[d]*1000000)/df[total_col]\n"
     ]
    },
    {
     "name": "stdout",
     "output_type": "stream",
     "text": [
      "Enforcing minimum TPM\n",
      "Total # isos detected: 245379\n",
      "# isos >= 1 tpm: 223477\n",
      "Applying gene type and novelty subset\n",
      "Number of isos reported: 219164\n",
      "Found 50 total samples\n"
     ]
    },
    {
     "data": {
      "text/plain": [
       "<Figure size 288x432 with 0 Axes>"
      ]
     },
     "metadata": {},
     "output_type": "display_data"
    },
    {
     "data": {
      "image/png": "[encoded data removed]",
      "text/plain": [
       "<Figure size 360x360 with 1 Axes>"
      ]
     },
     "metadata": {
      "needs_background": "light"
     },
     "output_type": "display_data"
    }
   ],
   "source": [
    "df = pd.read_csv(filt_ab, sep='\\t')\n",
    "plot_transcript_novelty_per_1(df, \n",
    "                            dataset='h9_chondro',\n",
    "                            gene='ELN',\n",
    "                            min_tpm=1,\n",
    "                            gene_subset='polya',\n",
    "                            groupby='sample',\n",
    "                            nov=complete_novs, \n",
    "                            opref='figures/human')"
   ]
  },
  {
   "cell_type": "markdown",
   "id": "7bd68342-bfa3-4352-abcd-c5b4e3125aa0",
   "metadata": {},
   "source": [
    "Which samples have the highest average?"
   ]
  },
  {
   "cell_type": "code",
   "execution_count": 47,
   "id": "6c715d40-b9f8-4a1f-a470-b49b7130f44a",
   "metadata": {},
   "outputs": [
    {
     "name": "stdout",
     "output_type": "stream",
     "text": [
      "Calculating iso TPM values\n",
      "Subsetting for novelty categories ['Known', 'NIC', 'NNC', 'ISM_rescue']\n",
      "Subsetting for polya genes\n"
     ]
    },
    {
     "name": "stderr",
     "output_type": "stream",
     "text": [
      "/Users/fairliereese/Documents/programming/mortazavi_lab/data/rnawg/scripts/utils.py:1294: PerformanceWarning: DataFrame is highly fragmented.  This is usually the result of calling `frame.insert` many times, which has poor performance.  Consider joining all columns at once using pd.concat(axis=1) instead.  To get a de-fragmented frame, use `newframe = frame.copy()`\n",
      "  df[total_col] = df[d].sum()\n",
      "/Users/fairliereese/Documents/programming/mortazavi_lab/data/rnawg/scripts/utils.py:1295: PerformanceWarning: DataFrame is highly fragmented.  This is usually the result of calling `frame.insert` many times, which has poor performance.  Consider joining all columns at once using pd.concat(axis=1) instead.  To get a de-fragmented frame, use `newframe = frame.copy()`\n",
      "  df[tpm_col] = (df[d]*1000000)/df[total_col]\n"
     ]
    },
    {
     "name": "stdout",
     "output_type": "stream",
     "text": [
      "Enforcing minimum TPM\n",
      "Total # isos detected: 245379\n",
      "# isos >= 1 tpm: 223477\n",
      "Applying gene type and novelty subset\n",
      "Number of isos reported: 219164\n",
      "Found 50 total samples\n"
     ]
    },
    {
     "data": {
      "image/png": "[encoded data removed]",
      "text/plain": [
       "<Figure size 432x288 with 1 Axes>"
      ]
     },
     "metadata": {
      "needs_background": "light"
     },
     "output_type": "display_data"
    }
   ],
   "source": [
    "df = pd.read_csv(filt_ab, sep='\\t')\n",
    "plot_avg_isos_per_gene(df,\n",
    "                       min_tpm=1,\n",
    "                       gene_subset='polya',\n",
    "                       sample='all', \n",
    "                       groupby='sample',\n",
    "                       nov=complete_novs,\n",
    "                       opref='figures/human')"
   ]
  },
  {
   "cell_type": "code",
   "execution_count": 48,
   "id": "2d41cfdb-d425-4112-a7db-2ad54436a9f8",
   "metadata": {},
   "outputs": [
    {
     "name": "stdout",
     "output_type": "stream",
     "text": [
      "Calculating iso TPM values\n",
      "Subsetting for tissue datasets\n",
      "Subsetting for novelty categories ['Known', 'NIC', 'NNC', 'ISM_rescue']\n",
      "Subsetting for polya genes\n"
     ]
    },
    {
     "name": "stderr",
     "output_type": "stream",
     "text": [
      "/Users/fairliereese/Documents/programming/mortazavi_lab/data/rnawg/scripts/utils.py:1294: PerformanceWarning: DataFrame is highly fragmented.  This is usually the result of calling `frame.insert` many times, which has poor performance.  Consider joining all columns at once using pd.concat(axis=1) instead.  To get a de-fragmented frame, use `newframe = frame.copy()`\n",
      "  df[total_col] = df[d].sum()\n",
      "/Users/fairliereese/Documents/programming/mortazavi_lab/data/rnawg/scripts/utils.py:1295: PerformanceWarning: DataFrame is highly fragmented.  This is usually the result of calling `frame.insert` many times, which has poor performance.  Consider joining all columns at once using pd.concat(axis=1) instead.  To get a de-fragmented frame, use `newframe = frame.copy()`\n",
      "  df[tpm_col] = (df[d]*1000000)/df[total_col]\n"
     ]
    },
    {
     "name": "stdout",
     "output_type": "stream",
     "text": [
      "Enforcing minimum TPM\n",
      "Total # isos detected: 245379\n",
      "# isos >= 1 tpm: 151334\n",
      "Applying gene type and novelty subset\n",
      "Number of isos reported: 149372\n",
      "Found 11 total samples\n"
     ]
    },
    {
     "data": {
      "image/png": "[encoded data removed]",
      "text/plain": [
       "<Figure size 432x288 with 1 Axes>"
      ]
     },
     "metadata": {
      "needs_background": "light"
     },
     "output_type": "display_data"
    }
   ],
   "source": [
    "df = pd.read_csv(filt_ab, sep='\\t')\n",
    "plot_avg_isos_per_gene(df,\n",
    "                       min_tpm=1,\n",
    "                       gene_subset='polya',\n",
    "                       sample='tissue', \n",
    "                       groupby='sample',\n",
    "                       nov=complete_novs,\n",
    "                       opref='figures/human')"
   ]
  },
  {
   "cell_type": "markdown",
   "id": "e5b47418-245d-472a-b7a8-a51f7adf24ca",
   "metadata": {},
   "source": [
    "What's the distribution of number of isoforms detected per gene per sample?"
   ]
  },
  {
   "cell_type": "code",
   "execution_count": 49,
   "id": "26114505-3993-45a6-8880-d4835a1e5f9b",
   "metadata": {},
   "outputs": [
    {
     "name": "stdout",
     "output_type": "stream",
     "text": [
      "Calculating iso TPM values\n",
      "Subsetting for novelty categories ['Known', 'NIC', 'NNC', 'ISM_rescue']\n",
      "Subsetting for polya genes\n"
     ]
    },
    {
     "name": "stderr",
     "output_type": "stream",
     "text": [
      "/Users/fairliereese/Documents/programming/mortazavi_lab/data/rnawg/scripts/utils.py:1294: PerformanceWarning: DataFrame is highly fragmented.  This is usually the result of calling `frame.insert` many times, which has poor performance.  Consider joining all columns at once using pd.concat(axis=1) instead.  To get a de-fragmented frame, use `newframe = frame.copy()`\n",
      "  df[total_col] = df[d].sum()\n",
      "/Users/fairliereese/Documents/programming/mortazavi_lab/data/rnawg/scripts/utils.py:1295: PerformanceWarning: DataFrame is highly fragmented.  This is usually the result of calling `frame.insert` many times, which has poor performance.  Consider joining all columns at once using pd.concat(axis=1) instead.  To get a de-fragmented frame, use `newframe = frame.copy()`\n",
      "  df[tpm_col] = (df[d]*1000000)/df[total_col]\n"
     ]
    },
    {
     "name": "stdout",
     "output_type": "stream",
     "text": [
      "Enforcing minimum TPM\n",
      "Total # isos detected: 245379\n",
      "# isos >= 1 tpm: 223477\n",
      "Applying gene type and novelty subset\n",
      "Number of isos reported: 219164\n",
      "Found 50 total samples\n"
     ]
    },
    {
     "data": {
      "image/png": "[encoded data removed]",
      "text/plain": [
       "<Figure size 360x360 with 1 Axes>"
      ]
     },
     "metadata": {
      "needs_background": "light"
     },
     "output_type": "display_data"
    }
   ],
   "source": [
    "df = pd.read_csv(filt_ab, sep='\\t')\n",
    "df, ax = plot_isos_per_gene_hist(df,\n",
    "                       min_tpm=1,\n",
    "                       gene_subset='polya',\n",
    "                       groupby='sample', \n",
    "                       nov=complete_novs,\n",
    "                       rm_1=True)"
   ]
  },
  {
   "cell_type": "markdown",
   "id": "c6512ef5-45d1-45d9-b84c-7d102976f091",
   "metadata": {},
   "source": [
    "How many genes have >15, >10 isoforms expressed in a sample?"
   ]
  },
  {
   "cell_type": "code",
   "execution_count": 50,
   "id": "b64269df-af6e-4216-8c17-58f6af353005",
   "metadata": {},
   "outputs": [
    {
     "name": "stdout",
     "output_type": "stream",
     "text": [
      "Calculating iso TPM values\n",
      "Subsetting for novelty categories ['Known', 'NIC', 'NNC', 'ISM_rescue']\n",
      "Subsetting for polya genes\n"
     ]
    },
    {
     "name": "stderr",
     "output_type": "stream",
     "text": [
      "/Users/fairliereese/Documents/programming/mortazavi_lab/data/rnawg/scripts/utils.py:1294: PerformanceWarning: DataFrame is highly fragmented.  This is usually the result of calling `frame.insert` many times, which has poor performance.  Consider joining all columns at once using pd.concat(axis=1) instead.  To get a de-fragmented frame, use `newframe = frame.copy()`\n",
      "  df[total_col] = df[d].sum()\n",
      "/Users/fairliereese/Documents/programming/mortazavi_lab/data/rnawg/scripts/utils.py:1295: PerformanceWarning: DataFrame is highly fragmented.  This is usually the result of calling `frame.insert` many times, which has poor performance.  Consider joining all columns at once using pd.concat(axis=1) instead.  To get a de-fragmented frame, use `newframe = frame.copy()`\n",
      "  df[tpm_col] = (df[d]*1000000)/df[total_col]\n"
     ]
    },
    {
     "name": "stdout",
     "output_type": "stream",
     "text": [
      "Enforcing minimum TPM\n",
      "Total # isos detected: 245379\n",
      "# isos >= 1 tpm: 223477\n",
      "Applying gene type and novelty subset\n",
      "Number of isos reported: 219164\n",
      "Found 50 total samples\n"
     ]
    }
   ],
   "source": [
    "df = pd.read_csv(filt_ab, sep='\\t')\n",
    "df = get_isos_per_gene(df,\n",
    "                       min_tpm=1,\n",
    "                       gene_subset='polya',\n",
    "                       groupby='sample',\n",
    "                       nov=complete_novs)"
   ]
  },
  {
   "cell_type": "code",
   "execution_count": 51,
   "id": "db89e378-290d-4eb0-a2c1-b45821338e44",
   "metadata": {},
   "outputs": [
    {
     "name": "stdout",
     "output_type": "stream",
     "text": [
      "4801 genes with >10 complete isoforms / gene in at least one sample\n"
     ]
    }
   ],
   "source": [
    "df = df.loc[(df > 10).any(axis=1)]\n",
    "n = len(df.index)\n",
    "print('{} genes with >10 complete isoforms / gene in at least one sample'.format(n))"
   ]
  },
  {
   "cell_type": "code",
   "execution_count": 52,
   "id": "15d5a6fc-0292-4766-9af1-54d4b38a90bc",
   "metadata": {},
   "outputs": [
    {
     "name": "stdout",
     "output_type": "stream",
     "text": [
      "4801\n"
     ]
    },
    {
     "data": {
      "text/html": [
       "<div>\n",
       "<style scoped>\n",
       "    .dataframe tbody tr th:only-of-type {\n",
       "        vertical-align: middle;\n",
       "    }\n",
       "\n",
       "    .dataframe tbody tr th {\n",
       "        vertical-align: top;\n",
       "    }\n",
       "\n",
       "    .dataframe thead th {\n",
       "        text-align: right;\n",
       "    }\n",
       "</style>\n",
       "<table border=\"1\" class=\"dataframe\">\n",
       "  <thead>\n",
       "    <tr style=\"text-align: right;\">\n",
       "      <th></th>\n",
       "      <th>a673</th>\n",
       "      <th>adipose</th>\n",
       "      <th>adrenal gland</th>\n",
       "      <th>brain</th>\n",
       "      <th>caco2</th>\n",
       "      <th>calu3</th>\n",
       "      <th>colon</th>\n",
       "      <th>gm12878</th>\n",
       "      <th>h1</th>\n",
       "      <th>h1_de</th>\n",
       "      <th>...</th>\n",
       "      <th>ovary</th>\n",
       "      <th>panc1</th>\n",
       "      <th>pc3</th>\n",
       "      <th>pc9</th>\n",
       "      <th>pgp1</th>\n",
       "      <th>pgp1_astro</th>\n",
       "      <th>pgp1_endo</th>\n",
       "      <th>pgp1_excite_neuron</th>\n",
       "      <th>vessels</th>\n",
       "      <th>wtc11</th>\n",
       "    </tr>\n",
       "    <tr>\n",
       "      <th>annot_gene_id</th>\n",
       "      <th></th>\n",
       "      <th></th>\n",
       "      <th></th>\n",
       "      <th></th>\n",
       "      <th></th>\n",
       "      <th></th>\n",
       "      <th></th>\n",
       "      <th></th>\n",
       "      <th></th>\n",
       "      <th></th>\n",
       "      <th></th>\n",
       "      <th></th>\n",
       "      <th></th>\n",
       "      <th></th>\n",
       "      <th></th>\n",
       "      <th></th>\n",
       "      <th></th>\n",
       "      <th></th>\n",
       "      <th></th>\n",
       "      <th></th>\n",
       "      <th></th>\n",
       "    </tr>\n",
       "  </thead>\n",
       "  <tbody>\n",
       "    <tr>\n",
       "      <th>ENSG00000000003.14</th>\n",
       "      <td>11.0</td>\n",
       "      <td>5.0</td>\n",
       "      <td>4.0</td>\n",
       "      <td>7.0</td>\n",
       "      <td>18.0</td>\n",
       "      <td>8.0</td>\n",
       "      <td>16.0</td>\n",
       "      <td>1.0</td>\n",
       "      <td>13.0</td>\n",
       "      <td>14.0</td>\n",
       "      <td>...</td>\n",
       "      <td>10.0</td>\n",
       "      <td>3.0</td>\n",
       "      <td>4.0</td>\n",
       "      <td>7.0</td>\n",
       "      <td>9.0</td>\n",
       "      <td>7.0</td>\n",
       "      <td>8.0</td>\n",
       "      <td>11.0</td>\n",
       "      <td>6.0</td>\n",
       "      <td>15.0</td>\n",
       "    </tr>\n",
       "    <tr>\n",
       "      <th>ENSG00000000419.12</th>\n",
       "      <td>8.0</td>\n",
       "      <td>2.0</td>\n",
       "      <td>5.0</td>\n",
       "      <td>8.0</td>\n",
       "      <td>11.0</td>\n",
       "      <td>6.0</td>\n",
       "      <td>6.0</td>\n",
       "      <td>10.0</td>\n",
       "      <td>5.0</td>\n",
       "      <td>4.0</td>\n",
       "      <td>...</td>\n",
       "      <td>5.0</td>\n",
       "      <td>6.0</td>\n",
       "      <td>5.0</td>\n",
       "      <td>7.0</td>\n",
       "      <td>6.0</td>\n",
       "      <td>8.0</td>\n",
       "      <td>5.0</td>\n",
       "      <td>6.0</td>\n",
       "      <td>8.0</td>\n",
       "      <td>5.0</td>\n",
       "    </tr>\n",
       "    <tr>\n",
       "      <th>ENSG00000000938.12</th>\n",
       "      <td>NaN</td>\n",
       "      <td>6.0</td>\n",
       "      <td>1.0</td>\n",
       "      <td>5.0</td>\n",
       "      <td>NaN</td>\n",
       "      <td>NaN</td>\n",
       "      <td>2.0</td>\n",
       "      <td>9.0</td>\n",
       "      <td>1.0</td>\n",
       "      <td>NaN</td>\n",
       "      <td>...</td>\n",
       "      <td>2.0</td>\n",
       "      <td>NaN</td>\n",
       "      <td>NaN</td>\n",
       "      <td>NaN</td>\n",
       "      <td>1.0</td>\n",
       "      <td>1.0</td>\n",
       "      <td>NaN</td>\n",
       "      <td>NaN</td>\n",
       "      <td>6.0</td>\n",
       "      <td>NaN</td>\n",
       "    </tr>\n",
       "    <tr>\n",
       "      <th>ENSG00000001036.13</th>\n",
       "      <td>5.0</td>\n",
       "      <td>4.0</td>\n",
       "      <td>7.0</td>\n",
       "      <td>9.0</td>\n",
       "      <td>11.0</td>\n",
       "      <td>7.0</td>\n",
       "      <td>10.0</td>\n",
       "      <td>8.0</td>\n",
       "      <td>10.0</td>\n",
       "      <td>10.0</td>\n",
       "      <td>...</td>\n",
       "      <td>9.0</td>\n",
       "      <td>7.0</td>\n",
       "      <td>5.0</td>\n",
       "      <td>9.0</td>\n",
       "      <td>5.0</td>\n",
       "      <td>3.0</td>\n",
       "      <td>4.0</td>\n",
       "      <td>4.0</td>\n",
       "      <td>9.0</td>\n",
       "      <td>7.0</td>\n",
       "    </tr>\n",
       "    <tr>\n",
       "      <th>ENSG00000001084.12</th>\n",
       "      <td>1.0</td>\n",
       "      <td>1.0</td>\n",
       "      <td>2.0</td>\n",
       "      <td>3.0</td>\n",
       "      <td>5.0</td>\n",
       "      <td>3.0</td>\n",
       "      <td>2.0</td>\n",
       "      <td>2.0</td>\n",
       "      <td>7.0</td>\n",
       "      <td>11.0</td>\n",
       "      <td>...</td>\n",
       "      <td>2.0</td>\n",
       "      <td>2.0</td>\n",
       "      <td>8.0</td>\n",
       "      <td>6.0</td>\n",
       "      <td>1.0</td>\n",
       "      <td>2.0</td>\n",
       "      <td>NaN</td>\n",
       "      <td>2.0</td>\n",
       "      <td>3.0</td>\n",
       "      <td>7.0</td>\n",
       "    </tr>\n",
       "  </tbody>\n",
       "</table>\n",
       "<p>5 rows × 50 columns</p>\n",
       "</div>"
      ],
      "text/plain": [
       "                    a673  adipose  adrenal gland  brain  caco2  calu3  colon  \\\n",
       "annot_gene_id                                                                  \n",
       "ENSG00000000003.14  11.0      5.0            4.0    7.0   18.0    8.0   16.0   \n",
       "ENSG00000000419.12   8.0      2.0            5.0    8.0   11.0    6.0    6.0   \n",
       "ENSG00000000938.12   NaN      6.0            1.0    5.0    NaN    NaN    2.0   \n",
       "ENSG00000001036.13   5.0      4.0            7.0    9.0   11.0    7.0   10.0   \n",
       "ENSG00000001084.12   1.0      1.0            2.0    3.0    5.0    3.0    2.0   \n",
       "\n",
       "                    gm12878    h1  h1_de  ...  ovary  panc1  pc3  pc9  pgp1  \\\n",
       "annot_gene_id                             ...                                 \n",
       "ENSG00000000003.14      1.0  13.0   14.0  ...   10.0    3.0  4.0  7.0   9.0   \n",
       "ENSG00000000419.12     10.0   5.0    4.0  ...    5.0    6.0  5.0  7.0   6.0   \n",
       "ENSG00000000938.12      9.0   1.0    NaN  ...    2.0    NaN  NaN  NaN   1.0   \n",
       "ENSG00000001036.13      8.0  10.0   10.0  ...    9.0    7.0  5.0  9.0   5.0   \n",
       "ENSG00000001084.12      2.0   7.0   11.0  ...    2.0    2.0  8.0  6.0   1.0   \n",
       "\n",
       "                    pgp1_astro  pgp1_endo  pgp1_excite_neuron  vessels  wtc11  \n",
       "annot_gene_id                                                                  \n",
       "ENSG00000000003.14         7.0        8.0                11.0      6.0   15.0  \n",
       "ENSG00000000419.12         8.0        5.0                 6.0      8.0    5.0  \n",
       "ENSG00000000938.12         1.0        NaN                 NaN      6.0    NaN  \n",
       "ENSG00000001036.13         3.0        4.0                 4.0      9.0    7.0  \n",
       "ENSG00000001084.12         2.0        NaN                 2.0      3.0    7.0  \n",
       "\n",
       "[5 rows x 50 columns]"
      ]
     },
     "execution_count": 52,
     "metadata": {},
     "output_type": "execute_result"
    }
   ],
   "source": [
    "print(len(df.index))\n",
    "df.head()"
   ]
  },
  {
   "cell_type": "code",
   "execution_count": 54,
   "id": "832329ad-ffce-4848-92c9-71fd5dff4a19",
   "metadata": {},
   "outputs": [
    {
     "ename": "AttributeError",
     "evalue": "'list' object has no attribute 'squeeze'",
     "output_type": "error",
     "traceback": [
      "\u001b[0;31m---------------------------------------------------------------------------\u001b[0m",
      "\u001b[0;31mAttributeError\u001b[0m                            Traceback (most recent call last)",
      "\u001b[0;32m<ipython-input-54-3203a97bd973>\u001b[0m in \u001b[0;36m<module>\u001b[0;34m\u001b[0m\n\u001b[1;32m     12\u001b[0m \u001b[0mgids\u001b[0m \u001b[0;34m=\u001b[0m \u001b[0mdf\u001b[0m\u001b[0;34m.\u001b[0m\u001b[0mgid\u001b[0m\u001b[0;34m.\u001b[0m\u001b[0mtolist\u001b[0m\u001b[0;34m(\u001b[0m\u001b[0;34m)\u001b[0m\u001b[0;34m\u001b[0m\u001b[0;34m\u001b[0m\u001b[0m\n\u001b[1;32m     13\u001b[0m \u001b[0mdf\u001b[0m\u001b[0;34m.\u001b[0m\u001b[0mdrop\u001b[0m\u001b[0;34m(\u001b[0m\u001b[0;34m'gid'\u001b[0m\u001b[0;34m,\u001b[0m \u001b[0maxis\u001b[0m\u001b[0;34m=\u001b[0m\u001b[0;36m1\u001b[0m\u001b[0;34m,\u001b[0m \u001b[0minplace\u001b[0m\u001b[0;34m=\u001b[0m\u001b[0;32mTrue\u001b[0m\u001b[0;34m)\u001b[0m\u001b[0;34m\u001b[0m\u001b[0;34m\u001b[0m\u001b[0m\n\u001b[0;32m---> 14\u001b[0;31m \u001b[0mgids\u001b[0m \u001b[0;34m=\u001b[0m \u001b[0mgids\u001b[0m\u001b[0;34m.\u001b[0m\u001b[0msqueeze\u001b[0m\u001b[0;34m(\u001b[0m\u001b[0;34m)\u001b[0m\u001b[0;34m.\u001b[0m\u001b[0mstr\u001b[0m\u001b[0;34m.\u001b[0m\u001b[0mstrip\u001b[0m\u001b[0;34m(\u001b[0m\u001b[0;34m)\u001b[0m\u001b[0;34m.\u001b[0m\u001b[0mtolist\u001b[0m\u001b[0;34m(\u001b[0m\u001b[0;34m)\u001b[0m\u001b[0;34m\u001b[0m\u001b[0;34m\u001b[0m\u001b[0m\n\u001b[0m\u001b[1;32m     15\u001b[0m gids = bm.query(dataset='hsapiens_gene_ensembl',\n\u001b[1;32m     16\u001b[0m            \u001b[0mattributes\u001b[0m\u001b[0;34m=\u001b[0m\u001b[0;34m[\u001b[0m\u001b[0;34m'ensembl_gene_id'\u001b[0m\u001b[0;34m,\u001b[0m \u001b[0;34m'external_gene_name'\u001b[0m\u001b[0;34m]\u001b[0m\u001b[0;34m,\u001b[0m\u001b[0;34m\u001b[0m\u001b[0;34m\u001b[0m\u001b[0m\n",
      "\u001b[0;31mAttributeError\u001b[0m: 'list' object has no attribute 'squeeze'"
     ]
    }
   ],
   "source": [
    "# enrichr on these genes\n",
    "dbs = ['GO_Biological_Process_2021',\n",
    "       'GO_Cellular_Component_2021',\n",
    "       'GO_Molecular_Function_2021',\n",
    "       'KEGG_2021_Human']\n",
    "bm = gp.parser.Biomart()\n",
    "datasets = bm.get_datasets(mart='ENSEMBL_MART_ENSEMBL')\n",
    "datasets.loc[datasets.Description.str.contains('Human')]\n",
    "\n",
    "df['gid'] = df.index\n",
    "# gids = df.gid.str.rsplit('.', n=1, expand=True)[0].to_frame()\n",
    "gids = df.gid.tolist()\n",
    "df.drop('gid', axis=1, inplace=True)\n",
    "gids = gids.squeeze().str.strip().tolist()\n",
    "gids = bm.query(dataset='hsapiens_gene_ensembl',\n",
    "           attributes=['ensembl_gene_id', 'external_gene_name'],\n",
    "           filters={'ensembl_gene_id': gids})\n",
    "gids = gids.loc[~gids.external_gene_name.isna()]\n",
    "gnames = gids.external_gene_name.squeeze().str.strip().tolist()\n",
    "go = gp.enrichr(gene_list=gnames,\n",
    "                gene_sets=dbs,\n",
    "                organism='Human',\n",
    "                description='highly_spliced_isos',\n",
    "                outdir='highly_spliced_isos_GO',\n",
    "                cutoff=0.5)"
   ]
  },
  {
   "cell_type": "code",
   "execution_count": null,
   "id": "e2f95bb2-a14b-437a-9fd7-be311d33d1e3",
   "metadata": {},
   "outputs": [],
   "source": [
    "df = df.loc[(df > 15).any(axis=1)]\n",
    "n = len(df.index)\n",
    "print('{} genes with >15 complete isoforms / gene in at least one sample'.format(n))"
   ]
  },
  {
   "cell_type": "code",
   "execution_count": null,
   "id": "14fdea01-1be3-4177-8f26-35abc6d9dab8",
   "metadata": {},
   "outputs": [],
   "source": [
    "# enrichr on these genes\n",
    "dbs = ['GO_Biological_Process_2021',\n",
    "       'GO_Cellular_Component_2021',\n",
    "       'GO_Molecular_Function_2021',\n",
    "       'KEGG_2021_Human']\n",
    "bm = gp.parser.Biomart()\n",
    "datasets = bm.get_datasets(mart='ENSEMBL_MART_ENSEMBL')\n",
    "datasets.loc[datasets.Description.str.contains('Human')]\n",
    "\n",
    "df['gid'] = df.index\n",
    "# gids = df.gid.str.rsplit('.', n=1, expand=True)[0].to_frame()\n",
    "df.drop('gid', axis=1, inplace=True)\n",
    "gids = gids.squeeze().str.strip().tolist()\n",
    "gids = bm.query(dataset='hsapiens_gene_ensembl',\n",
    "           attributes=['ensembl_gene_id', 'external_gene_name'],\n",
    "           filters={'ensembl_gene_id': gids})\n",
    "gids = gids.loc[~gids.external_gene_name.isna()]\n",
    "gnames = gids.external_gene_name.squeeze().str.strip().tolist()\n",
    "go = gp.enrichr(gene_list=gnames,\n",
    "                gene_sets=dbs,\n",
    "                organism='Human',\n",
    "                description='highly_spliced_isos_15',\n",
    "                outdir='highly_spliced_isos_15_GO',\n",
    "                cutoff=0.5)"
   ]
  },
  {
   "cell_type": "markdown",
   "id": "1e10d532-6bc9-4cea-8bb6-bb1653b21784",
   "metadata": {},
   "source": [
    "What are the identities of highly-spliced genes?"
   ]
  },
  {
   "cell_type": "code",
   "execution_count": 56,
   "id": "24a76ac0-ad64-40b5-89cb-0ce1dca446e0",
   "metadata": {},
   "outputs": [
    {
     "name": "stdout",
     "output_type": "stream",
     "text": [
      "Calculating iso TPM values\n",
      "Subsetting for novelty categories ['Known', 'NIC', 'NNC', 'ISM_rescue']\n",
      "Subsetting for polya genes\n"
     ]
    },
    {
     "name": "stderr",
     "output_type": "stream",
     "text": [
      "/Users/fairliereese/Documents/programming/mortazavi_lab/data/rnawg/scripts/utils.py:1294: PerformanceWarning: DataFrame is highly fragmented.  This is usually the result of calling `frame.insert` many times, which has poor performance.  Consider joining all columns at once using pd.concat(axis=1) instead.  To get a de-fragmented frame, use `newframe = frame.copy()`\n",
      "  df[total_col] = df[d].sum()\n",
      "/Users/fairliereese/Documents/programming/mortazavi_lab/data/rnawg/scripts/utils.py:1295: PerformanceWarning: DataFrame is highly fragmented.  This is usually the result of calling `frame.insert` many times, which has poor performance.  Consider joining all columns at once using pd.concat(axis=1) instead.  To get a de-fragmented frame, use `newframe = frame.copy()`\n",
      "  df[tpm_col] = (df[d]*1000000)/df[total_col]\n"
     ]
    },
    {
     "name": "stdout",
     "output_type": "stream",
     "text": [
      "Enforcing minimum TPM\n",
      "Total # isos detected: 245379\n",
      "# isos >= 1 tpm: 223477\n",
      "Applying gene type and novelty subset\n",
      "Number of isos reported: 219164\n",
      "Found 50 total samples\n"
     ]
    }
   ],
   "source": [
    "df = pd.read_csv(filt_ab, sep='\\t')\n",
    "df = get_isos_per_gene(df,\n",
    "                       min_tpm=1,\n",
    "                       gene_subset='polya',\n",
    "                       groupby='sample',\n",
    "                       nov=complete_novs)"
   ]
  },
  {
   "cell_type": "code",
   "execution_count": 57,
   "id": "e0d07f89-8f61-4e5d-a215-2805efb9b1b6",
   "metadata": {},
   "outputs": [],
   "source": [
    "df['max_isos_sample'] = df.max(axis=1)\n",
    "df['max_sample'] = df.idxmax(axis=1)\n",
    "df = df[['max_isos_sample', 'max_sample']]\n",
    "df = df.sort_values('max_isos_sample', ascending=False)"
   ]
  },
  {
   "cell_type": "code",
   "execution_count": 58,
   "id": "dad915f0-68e9-416f-a64c-52b1f49056a4",
   "metadata": {},
   "outputs": [],
   "source": [
    "g_df = pd.read_csv(filt_ab, sep='\\t')\n",
    "g_df = g_df[['annot_gene_name', 'annot_gene_id']].drop_duplicates()\n",
    "df = df.merge(g_df, how='left', left_index=True, right_on='annot_gene_id')"
   ]
  },
  {
   "cell_type": "code",
   "execution_count": 59,
   "id": "aaead91e-38ae-4c2d-ad06-80ff1fcedcc1",
   "metadata": {},
   "outputs": [
    {
     "name": "stdout",
     "output_type": "stream",
     "text": [
      "Top 10 genes with isoforms / gene / sample\n"
     ]
    },
    {
     "data": {
      "text/html": [
       "<div>\n",
       "<style scoped>\n",
       "    .dataframe tbody tr th:only-of-type {\n",
       "        vertical-align: middle;\n",
       "    }\n",
       "\n",
       "    .dataframe tbody tr th {\n",
       "        vertical-align: top;\n",
       "    }\n",
       "\n",
       "    .dataframe thead th {\n",
       "        text-align: right;\n",
       "    }\n",
       "</style>\n",
       "<table border=\"1\" class=\"dataframe\">\n",
       "  <thead>\n",
       "    <tr style=\"text-align: right;\">\n",
       "      <th></th>\n",
       "      <th>max_isos_sample</th>\n",
       "      <th>max_sample</th>\n",
       "      <th>annot_gene_name</th>\n",
       "      <th>annot_gene_id</th>\n",
       "    </tr>\n",
       "  </thead>\n",
       "  <tbody>\n",
       "    <tr>\n",
       "      <th>93401</th>\n",
       "      <td>281.0</td>\n",
       "      <td>h9_chondro</td>\n",
       "      <td>ELN</td>\n",
       "      <td>ENSG00000049540.16</td>\n",
       "    </tr>\n",
       "    <tr>\n",
       "      <th>29931</th>\n",
       "      <td>163.0</td>\n",
       "      <td>lung</td>\n",
       "      <td>SFTPB</td>\n",
       "      <td>ENSG00000168878.16</td>\n",
       "    </tr>\n",
       "    <tr>\n",
       "      <th>70848</th>\n",
       "      <td>132.0</td>\n",
       "      <td>heart</td>\n",
       "      <td>PAM</td>\n",
       "      <td>ENSG00000145730.20</td>\n",
       "    </tr>\n",
       "    <tr>\n",
       "      <th>38043</th>\n",
       "      <td>104.0</td>\n",
       "      <td>h9_chondro</td>\n",
       "      <td>FN1</td>\n",
       "      <td>ENSG00000115414.18</td>\n",
       "    </tr>\n",
       "    <tr>\n",
       "      <th>101060</th>\n",
       "      <td>103.0</td>\n",
       "      <td>lung</td>\n",
       "      <td>CTSB</td>\n",
       "      <td>ENSG00000164733.20</td>\n",
       "    </tr>\n",
       "    <tr>\n",
       "      <th>70597</th>\n",
       "      <td>92.0</td>\n",
       "      <td>heart</td>\n",
       "      <td>CAST</td>\n",
       "      <td>ENSG00000153113.23</td>\n",
       "    </tr>\n",
       "    <tr>\n",
       "      <th>176506</th>\n",
       "      <td>87.0</td>\n",
       "      <td>hl60_m0</td>\n",
       "      <td>LINC02244</td>\n",
       "      <td>ENSG00000259590.1</td>\n",
       "    </tr>\n",
       "    <tr>\n",
       "      <th>107019</th>\n",
       "      <td>84.0</td>\n",
       "      <td>hl60_m0</td>\n",
       "      <td>DCSTAMP</td>\n",
       "      <td>ENSG00000164935.6</td>\n",
       "    </tr>\n",
       "    <tr>\n",
       "      <th>112962</th>\n",
       "      <td>81.0</td>\n",
       "      <td>h1_de</td>\n",
       "      <td>HNRNPK</td>\n",
       "      <td>ENSG00000165119.20</td>\n",
       "    </tr>\n",
       "    <tr>\n",
       "      <th>44805</th>\n",
       "      <td>80.0</td>\n",
       "      <td>heart</td>\n",
       "      <td>MAP4</td>\n",
       "      <td>ENSG00000047849.21</td>\n",
       "    </tr>\n",
       "  </tbody>\n",
       "</table>\n",
       "</div>"
      ],
      "text/plain": [
       "        max_isos_sample  max_sample annot_gene_name       annot_gene_id\n",
       "93401             281.0  h9_chondro             ELN  ENSG00000049540.16\n",
       "29931             163.0        lung           SFTPB  ENSG00000168878.16\n",
       "70848             132.0       heart             PAM  ENSG00000145730.20\n",
       "38043             104.0  h9_chondro             FN1  ENSG00000115414.18\n",
       "101060            103.0        lung            CTSB  ENSG00000164733.20\n",
       "70597              92.0       heart            CAST  ENSG00000153113.23\n",
       "176506             87.0     hl60_m0       LINC02244   ENSG00000259590.1\n",
       "107019             84.0     hl60_m0         DCSTAMP   ENSG00000164935.6\n",
       "112962             81.0       h1_de          HNRNPK  ENSG00000165119.20\n",
       "44805              80.0       heart            MAP4  ENSG00000047849.21"
      ]
     },
     "execution_count": 59,
     "metadata": {},
     "output_type": "execute_result"
    }
   ],
   "source": [
    "print('Top 10 genes with isoforms / gene / sample')\n",
    "df.head(10)"
   ]
  },
  {
   "cell_type": "code",
   "execution_count": 60,
   "id": "1172a94e-0959-4f43-b294-c553bc5c42fb",
   "metadata": {},
   "outputs": [],
   "source": [
    "# save table \n",
    "df.to_csv('isos_per_gene_per_sample_min_15.tsv', sep='\\t')"
   ]
  },
  {
   "cell_type": "markdown",
   "id": "6217f087-b5f2-4e62-9ffe-144e441cf40b",
   "metadata": {},
   "source": [
    "Number of libraries per sample"
   ]
  },
  {
   "cell_type": "code",
   "execution_count": 61,
   "id": "fd4a0e97-d0f8-45d7-b108-45edb03189df",
   "metadata": {},
   "outputs": [
    {
     "name": "stdout",
     "output_type": "stream",
     "text": [
      "Calculating iso TPM values\n",
      "Subsetting for novelty categories ['Known', 'NIC', 'NNC', 'ISM_rescue']\n",
      "Subsetting for polya genes\n"
     ]
    },
    {
     "name": "stderr",
     "output_type": "stream",
     "text": [
      "/Users/fairliereese/Documents/programming/mortazavi_lab/data/rnawg/scripts/utils.py:1294: PerformanceWarning: DataFrame is highly fragmented.  This is usually the result of calling `frame.insert` many times, which has poor performance.  Consider joining all columns at once using pd.concat(axis=1) instead.  To get a de-fragmented frame, use `newframe = frame.copy()`\n",
      "  df[total_col] = df[d].sum()\n",
      "/Users/fairliereese/Documents/programming/mortazavi_lab/data/rnawg/scripts/utils.py:1295: PerformanceWarning: DataFrame is highly fragmented.  This is usually the result of calling `frame.insert` many times, which has poor performance.  Consider joining all columns at once using pd.concat(axis=1) instead.  To get a de-fragmented frame, use `newframe = frame.copy()`\n",
      "  df[tpm_col] = (df[d]*1000000)/df[total_col]\n"
     ]
    },
    {
     "name": "stdout",
     "output_type": "stream",
     "text": [
      "Enforcing minimum TPM\n",
      "Total # isos detected: 245379\n",
      "# isos >= 1 tpm: 223477\n",
      "Applying gene type and novelty subset\n",
      "Number of isos reported: 219164\n",
      "Found 50 total samples\n",
      "Slope of correlation: 0.1350652853027843\n",
      "R of correlation: 0.5330590720079246\n",
      "R2 of correlation: 0.6499835126474629\n"
     ]
    },
    {
     "data": {
      "image/png": "[encoded data removed]",
      "text/plain": [
       "<Figure size 432x288 with 1 Axes>"
      ]
     },
     "metadata": {
      "needs_background": "light"
     },
     "output_type": "display_data"
    }
   ],
   "source": [
    "df = pd.read_csv(filt_ab, sep='\\t')\n",
    "plot_n_libs_v_avg_isos(df,\n",
    "                        min_tpm=1,\n",
    "                        gene_subset='polya',\n",
    "                        sample='all',\n",
    "                        nov=complete_novs, \n",
    "                        opref='figures/human')"
   ]
  },
  {
   "cell_type": "markdown",
   "id": "4e9f56f1-d2cd-45be-954c-27e591eca1f7",
   "metadata": {},
   "source": [
    "Number of reads per sample"
   ]
  },
  {
   "cell_type": "code",
   "execution_count": 62,
   "id": "1d532452-6c99-4b41-be70-2dde76da2bff",
   "metadata": {},
   "outputs": [
    {
     "name": "stderr",
     "output_type": "stream",
     "text": [
      "/Users/fairliereese/Documents/programming/mortazavi_lab/data/rnawg/scripts/utils.py:1032: FutureWarning: Dropping of nuisance columns in DataFrame reductions (with 'numeric_only=None') is deprecated; in a future version this will raise TypeError.  Select only valid columns before calling the reduction.\n",
      "  df = df.sum(axis=1).to_frame()\n"
     ]
    },
    {
     "name": "stdout",
     "output_type": "stream",
     "text": [
      "Found 50 total samples\n",
      "Calculating iso TPM values\n",
      "Subsetting for novelty categories ['Known', 'NIC', 'NNC', 'ISM_rescue']\n",
      "Subsetting for polya genes\n"
     ]
    },
    {
     "name": "stderr",
     "output_type": "stream",
     "text": [
      "/Users/fairliereese/Documents/programming/mortazavi_lab/data/rnawg/scripts/utils.py:1294: PerformanceWarning: DataFrame is highly fragmented.  This is usually the result of calling `frame.insert` many times, which has poor performance.  Consider joining all columns at once using pd.concat(axis=1) instead.  To get a de-fragmented frame, use `newframe = frame.copy()`\n",
      "  df[total_col] = df[d].sum()\n",
      "/Users/fairliereese/Documents/programming/mortazavi_lab/data/rnawg/scripts/utils.py:1295: PerformanceWarning: DataFrame is highly fragmented.  This is usually the result of calling `frame.insert` many times, which has poor performance.  Consider joining all columns at once using pd.concat(axis=1) instead.  To get a de-fragmented frame, use `newframe = frame.copy()`\n",
      "  df[tpm_col] = (df[d]*1000000)/df[total_col]\n"
     ]
    },
    {
     "name": "stdout",
     "output_type": "stream",
     "text": [
      "Enforcing minimum TPM\n",
      "Total # isos detected: 245379\n",
      "# isos >= 1 tpm: 223477\n",
      "Applying gene type and novelty subset\n",
      "Number of isos reported: 219164\n",
      "Found 50 total samples\n",
      "Slope of correlation: 9.456099940513355e-08\n",
      "R of correlation: 0.5573411363394731\n",
      "R2 of correlation: 0.6499399759903962\n"
     ]
    },
    {
     "data": {
      "image/png": "[encoded data removed]",
      "text/plain": [
       "<Figure size 432x288 with 1 Axes>"
      ]
     },
     "metadata": {
      "needs_background": "light"
     },
     "output_type": "display_data"
    }
   ],
   "source": [
    "df = pd.read_csv(ab, sep='\\t')\n",
    "filt_df = pd.read_csv(filt_ab, sep='\\t')\n",
    "plot_n_reads_v_avg_isos(df, filt_df,\n",
    "                        min_tpm=1,\n",
    "                        gene_subset='polya',\n",
    "                        sample='all',\n",
    "                        groupby='sample',\n",
    "                        nov=complete_novs, \n",
    "                        opref='figures/human')"
   ]
  },
  {
   "cell_type": "markdown",
   "id": "a88aba40-5ca1-4d14-bad1-3a3d8a851c0a",
   "metadata": {},
   "source": [
    "What fraction of polyA genes express >= 2 complete isoforms in more than half of their expressed samples?"
   ]
  },
  {
   "cell_type": "code",
   "execution_count": 63,
   "id": "a4b11f52-5316-4ee1-a8b5-984b9008f6b6",
   "metadata": {},
   "outputs": [
    {
     "name": "stderr",
     "output_type": "stream",
     "text": [
      "/Users/fairliereese/Documents/programming/mortazavi_lab/data/rnawg/scripts/utils.py:1032: FutureWarning: Dropping of nuisance columns in DataFrame reductions (with 'numeric_only=None') is deprecated; in a future version this will raise TypeError.  Select only valid columns before calling the reduction.\n",
      "  df = df.sum(axis=1).to_frame()\n"
     ]
    },
    {
     "name": "stdout",
     "output_type": "stream",
     "text": [
      "Found 50 total samples\n",
      "Calculating iso TPM values\n",
      "Subsetting for novelty categories ['Known', 'NIC', 'NNC', 'ISM_rescue']\n",
      "Subsetting for polya genes\n"
     ]
    },
    {
     "name": "stderr",
     "output_type": "stream",
     "text": [
      "/Users/fairliereese/Documents/programming/mortazavi_lab/data/rnawg/scripts/utils.py:1294: PerformanceWarning: DataFrame is highly fragmented.  This is usually the result of calling `frame.insert` many times, which has poor performance.  Consider joining all columns at once using pd.concat(axis=1) instead.  To get a de-fragmented frame, use `newframe = frame.copy()`\n",
      "  df[total_col] = df[d].sum()\n",
      "/Users/fairliereese/Documents/programming/mortazavi_lab/data/rnawg/scripts/utils.py:1295: PerformanceWarning: DataFrame is highly fragmented.  This is usually the result of calling `frame.insert` many times, which has poor performance.  Consider joining all columns at once using pd.concat(axis=1) instead.  To get a de-fragmented frame, use `newframe = frame.copy()`\n",
      "  df[tpm_col] = (df[d]*1000000)/df[total_col]\n"
     ]
    },
    {
     "name": "stdout",
     "output_type": "stream",
     "text": [
      "Enforcing minimum TPM\n",
      "Total # isos detected: 245379\n",
      "# isos >= 1 tpm: 223477\n",
      "Applying gene type and novelty subset\n",
      "Number of isos reported: 219164\n",
      "Found 50 total samples\n",
      "Slope of correlation: 9.456099940513355e-08\n",
      "R of correlation: 0.5573411363394731\n",
      "R2 of correlation: 0.6499399759903962\n"
     ]
    },
    {
     "data": {
      "image/png": "[encoded data removed]",
      "text/plain": [
       "<Figure size 432x288 with 1 Axes>"
      ]
     },
     "metadata": {
      "needs_background": "light"
     },
     "output_type": "display_data"
    }
   ],
   "source": [
    "df = pd.read_csv(ab, sep='\\t')\n",
    "filt_df = pd.read_csv(filt_ab, sep='\\t')\n",
    "plot_n_reads_v_avg_isos(df, filt_df,\n",
    "                        min_tpm=1,\n",
    "                        gene_subset='polya',\n",
    "                        sample='all',\n",
    "                        groupby='sample',\n",
    "                        nov=complete_novs, \n",
    "                        opref='figures/human')"
   ]
  },
  {
   "cell_type": "markdown",
   "id": "7b012311-17bf-45a6-a3e6-11a5b40e6f9d",
   "metadata": {},
   "source": [
    "What fraction of polyA genes express >= 2 complete isoforms in more than half of their expressed samples?"
   ]
  },
  {
   "cell_type": "code",
   "execution_count": 65,
   "id": "4b5f0982-1270-4d21-a646-bd3a2fd67c8c",
   "metadata": {},
   "outputs": [
    {
     "name": "stdout",
     "output_type": "stream",
     "text": [
      "Calculating gene TPM values\n",
      "Subsetting for novelty categories ['Known']\n",
      "Subsetting for polya genes\n"
     ]
    },
    {
     "name": "stderr",
     "output_type": "stream",
     "text": [
      "/Users/fairliereese/Documents/programming/mortazavi_lab/data/rnawg/scripts/utils.py:1295: PerformanceWarning: DataFrame is highly fragmented.  This is usually the result of calling `frame.insert` many times, which has poor performance.  Consider joining all columns at once using pd.concat(axis=1) instead.  To get a de-fragmented frame, use `newframe = frame.copy()`\n",
      "  df[tpm_col] = (df[d]*1000000)/df[total_col]\n",
      "/Users/fairliereese/Documents/programming/mortazavi_lab/data/rnawg/scripts/utils.py:1294: PerformanceWarning: DataFrame is highly fragmented.  This is usually the result of calling `frame.insert` many times, which has poor performance.  Consider joining all columns at once using pd.concat(axis=1) instead.  To get a de-fragmented frame, use `newframe = frame.copy()`\n",
      "  df[total_col] = df[d].sum()\n"
     ]
    },
    {
     "name": "stdout",
     "output_type": "stream",
     "text": [
      "Enforcing minimum TPM\n",
      "Total # genes detected: 599976\n",
      "# genes >= 1 tpm: 292060\n",
      "Applying gene type and novelty subset\n",
      "Number of genes reported: 34027\n",
      "Found 50 total samples\n",
      "Calculating iso TPM values\n",
      "Subsetting for novelty categories ['Known', 'NIC', 'NNC', 'ISM_rescue']\n",
      "Subsetting for polya genes\n",
      "Enforcing minimum TPM\n",
      "Total # isos detected: 245379\n",
      "# isos >= 1 tpm: 223477\n",
      "Applying gene type and novelty subset\n",
      "Number of isos reported: 219164\n",
      "Found 50 total samples\n"
     ]
    }
   ],
   "source": [
    "filt_df = pd.read_csv(filt_ab, sep='\\t')\n",
    "df = pd.read_csv(ab, sep='\\t')\n",
    "\n",
    "df = get_gene_iso_det_table(df, filt_df,\n",
    "                            min_isos=2,\n",
    "                            iso_nov=complete_novs,\n",
    "                            gene_nov=['Known'],\n",
    "                            gene_subset='polya',\n",
    "                            min_tpm=1,\n",
    "                            sample='all',\n",
    "                            groupby='sample')"
   ]
  },
  {
   "cell_type": "code",
   "execution_count": 66,
   "id": "2f2fafb8-1f75-4d7b-8561-78e7d82d9e1d",
   "metadata": {},
   "outputs": [
    {
     "name": "stdout",
     "output_type": "stream",
     "text": [
      "10314 / 34027 (30.31%) detected polyA genes express >=2 isoforms in at least half of their expressed samples\n"
     ]
    }
   ],
   "source": [
    "df = df.apply(pd.Series.value_counts)\n",
    "df = df.transpose()\n",
    "df.fillna(0, inplace=True)\n",
    "df.rename({'00': 'no_det',\n",
    "             '01': 'gene_det',\n",
    "             '10': 'iso_det',\n",
    "             '11': 'gene_iso_det'}, axis=1, inplace=True)\n",
    "\n",
    "df['total_gene_det'] = df['gene_det']+df['gene_iso_det']\n",
    "df['prop'] = df['gene_iso_det']/df['total_gene_det']\n",
    "\n",
    "n_gene_iso = len(df.loc[df.prop >= .5])\n",
    "n = len(df.index)\n",
    "\n",
    "print('{} / {} ({:.2f}%) detected polyA genes express >=2 isoforms in at least half of their expressed samples'.format(n_gene_iso, n, (n_gene_iso/n)*100))"
   ]
  },
  {
   "cell_type": "markdown",
   "id": "6362d051-64a2-415e-bbf0-94324bebb823",
   "metadata": {},
   "source": [
    "What fraction of TF genes express >= 2 complete isoforms in more than half of their expressed samples?\n"
   ]
  },
  {
   "cell_type": "code",
   "execution_count": 67,
   "id": "314e8ac8-cb68-41bd-820a-5e82d2c62c62",
   "metadata": {},
   "outputs": [
    {
     "name": "stdout",
     "output_type": "stream",
     "text": [
      "Calculating gene TPM values\n",
      "Subsetting for novelty categories ['Known']\n",
      "Subsetting for tf genes\n",
      "Enforcing minimum TPM\n",
      "Total # genes detected: 34673\n",
      "# genes >= 1 tpm: 30075\n",
      "Applying gene type and novelty subset\n",
      "Number of genes reported: 1333\n",
      "Found 50 total samples\n",
      "Calculating iso TPM values\n",
      "Subsetting for novelty categories ['Known', 'NIC', 'NNC', 'ISM_rescue']\n",
      "Subsetting for tf genes\n",
      "Enforcing minimum TPM\n",
      "Total # isos detected: 5401754\n",
      "# isos >= 1 tpm: 1669566\n",
      "Applying gene type and novelty subset\n",
      "Number of isos reported: 30119\n",
      "Found 50 total samples\n"
     ]
    }
   ],
   "source": [
    "filt_df = pd.read_csv(ab, sep='\\t')\n",
    "df = pd.read_csv(filt_ab, sep='\\t')\n",
    "\n",
    "df = get_gene_iso_det_table(df, filt_df,\n",
    "                            min_isos=2,\n",
    "                            iso_nov=complete_novs,\n",
    "                            gene_nov=['Known'],\n",
    "                            gene_subset='tf',\n",
    "                            min_tpm=1,\n",
    "                            sample='all',\n",
    "                            groupby='sample')"
   ]
  },
  {
   "cell_type": "code",
   "execution_count": 68,
   "id": "178b5094-816c-4834-b7c3-116e242fe723",
   "metadata": {},
   "outputs": [
    {
     "name": "stdout",
     "output_type": "stream",
     "text": [
      "759 / 1333 (56.94%) detected TF genes express >=2 isoforms in at least half of their expressed samples\n"
     ]
    }
   ],
   "source": [
    "df = df.apply(pd.Series.value_counts)\n",
    "df = df.transpose()\n",
    "df.fillna(0, inplace=True)\n",
    "df.rename({'00': 'no_det',\n",
    "             '01': 'gene_det',\n",
    "             '10': 'iso_det',\n",
    "             '11': 'gene_iso_det'}, axis=1, inplace=True)\n",
    "\n",
    "df['total_gene_det'] = df['gene_det']+df['gene_iso_det']\n",
    "df['prop'] = df['gene_iso_det']/df['total_gene_det']\n",
    "\n",
    "n_gene_iso = len(df.loc[df.prop >= .5])\n",
    "n = len(df.index)\n",
    "\n",
    "print('{} / {} ({:.2f}%) detected TF genes express >=2 isoforms in at least half of their expressed samples'.format(n_gene_iso, n, (n_gene_iso/n)*100))"
   ]
  },
  {
   "cell_type": "markdown",
   "id": "82e88c87-0b86-4020-90da-efb95334f88d",
   "metadata": {},
   "source": [
    "What fraction of polyA genes have >= 2 complete isoforms detected in the same sample?"
   ]
  },
  {
   "cell_type": "code",
   "execution_count": 70,
   "id": "67442a9a-ccf6-4932-b8e1-eb0567db2a72",
   "metadata": {},
   "outputs": [
    {
     "name": "stdout",
     "output_type": "stream",
     "text": [
      "Calculating iso TPM values\n",
      "Subsetting for novelty categories ['Known', 'NIC', 'NNC', 'ISM_rescue']\n",
      "Subsetting for polya genes\n",
      "Enforcing minimum TPM\n",
      "Total # isos detected: 245379\n",
      "# isos >= 1 tpm: 223477\n",
      "Applying gene type and novelty subset\n",
      "Number of isos reported: 219164\n",
      "Found 50 total samples\n"
     ]
    }
   ],
   "source": [
    "df = pd.read_csv(filt_ab, sep='\\t')\n",
    "df = get_isos_per_gene(df,\n",
    "                       min_tpm=1,\n",
    "                       gene_subset='polya',\n",
    "                       groupby='sample', \n",
    "                       nov=complete_novs)"
   ]
  },
  {
   "cell_type": "code",
   "execution_count": 71,
   "id": "90e8f7e1-d0a3-416c-83f8-520b1d76dc0f",
   "metadata": {},
   "outputs": [
    {
     "name": "stdout",
     "output_type": "stream",
     "text": [
      "15168 / 52274 (29.02%) annotated polyA genes have >= 2 isoforms expressed in >= 1 sample\n"
     ]
    }
   ],
   "source": [
    "gene_df, b_counts, b_cat_counts = get_gtf_info(how='gene', subset='polya', ver=ver)\n",
    "n_polya = len(gene_df.index)\n",
    "\n",
    "df = df.loc[(df > 2).any(axis=1)]\n",
    "n_det_polya = len(df.index)\n",
    "\n",
    "print('{} / {} ({:.2f}%) annotated polyA genes have >= 2 isoforms expressed in >= 1 sample'.format(n_det_polya, n_polya, (n_det_polya/n_polya)*100))"
   ]
  },
  {
   "cell_type": "markdown",
   "id": "9bbd38ac-a302-4b0e-9d37-4e000c04ca79",
   "metadata": {},
   "source": [
    "What fraction of TF genes have >= 2 complete isoforms detected in the same sample?"
   ]
  },
  {
   "cell_type": "code",
   "execution_count": 72,
   "id": "42e29c5e-8255-477b-9b98-23554e8586ae",
   "metadata": {},
   "outputs": [
    {
     "name": "stdout",
     "output_type": "stream",
     "text": [
      "Calculating iso TPM values\n",
      "Subsetting for novelty categories ['Known', 'NIC', 'NNC', 'ISM_rescue']\n",
      "Subsetting for tf genes\n",
      "Enforcing minimum TPM\n",
      "Total # isos detected: 245379\n",
      "# isos >= 1 tpm: 223477\n",
      "Applying gene type and novelty subset\n",
      "Number of isos reported: 13122\n",
      "Found 50 total samples\n"
     ]
    }
   ],
   "source": [
    "df = pd.read_csv(filt_ab, sep='\\t')\n",
    "df = get_isos_per_gene(df,\n",
    "                       min_tpm=1,\n",
    "                       gene_subset='tf',\n",
    "                       groupby='sample', \n",
    "                       nov=complete_novs)"
   ]
  },
  {
   "cell_type": "code",
   "execution_count": 73,
   "id": "96402b34-8c5a-430f-afd0-a59bb329641a",
   "metadata": {},
   "outputs": [
    {
     "name": "stdout",
     "output_type": "stream",
     "text": [
      "1033 / 1419 (72.80%) annotated TF genes have >= 2 isoforms expressed in >= 1 sample\n"
     ]
    }
   ],
   "source": [
    "gene_df, b_counts, b_cat_counts = get_gtf_info(how='gene', subset='tf', ver=ver)\n",
    "n_polya = len(gene_df.index)\n",
    "\n",
    "df = df.loc[(df > 2).any(axis=1)]\n",
    "n_det_polya = len(df.index)\n",
    "\n",
    "print('{} / {} ({:.2f}%) annotated TF genes have >= 2 isoforms expressed in >= 1 sample'.format(n_det_polya, n_polya, (n_det_polya/n_polya)*100))"
   ]
  },
  {
   "cell_type": "code",
   "execution_count": null,
   "id": "34a4eff5-4a0f-49dd-a1db-3a455d126fea",
   "metadata": {},
   "outputs": [],
   "source": []
  }
 ],
 "metadata": {
  "kernelspec": {
   "display_name": "Python 3",
   "language": "python",
   "name": "python3"
  },
  "language_info": {
   "codemirror_mode": {
    "name": "ipython",
    "version": 3
   },
   "file_extension": ".py",
   "mimetype": "text/x-python",
   "name": "python",
   "nbconvert_exporter": "python",
   "pygments_lexer": "ipython3",
   "version": "3.7.4"
  }
 },
 "nbformat": 4,
 "nbformat_minor": 5
}
