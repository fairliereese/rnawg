{
 "cells": [
  {
   "cell_type": "code",
   "execution_count": 1,
   "id": "4342d335-c2e6-4ad1-bd01-23f77629ec39",
   "metadata": {},
   "outputs": [],
   "source": [
    "import pandas as pd\n",
    "import numpy as np\n",
    "import scipy.stats as st\n",
    "import seaborn as sns\n",
    "import sys\n",
    "import os\n",
    "import gseapy as gp\n",
    "import pdb\n",
    "import copy\n",
    "from scipy import sparse\n",
    "import anndata\n",
    "import swan_vis as swan\n",
    "\n",
    "\n",
    "p = os.path.dirname(os.path.dirname(os.path.dirname(os.getcwd())))\n",
    "sys.path.append(p)\n",
    "\n",
    "from scripts.utils import *\n",
    "from scripts.plotting import *"
   ]
  },
  {
   "cell_type": "code",
   "execution_count": 2,
   "id": "eff7cd3c-d5b5-4a00-a320-fd66bbbb0f36",
   "metadata": {},
   "outputs": [],
   "source": [
    "h5 = '../cerberus_annot.h5'\n",
    "ab = '../../talon/human_talon_abundance.tsv'\n",
    "filt_ab = '../cerberus_filtered_abundance.tsv'\n",
    "obs_col = 'sample'\n",
    "min_tpm = 1\n",
    "major_set = 'isos_sample_gene_90.tsv'\n",
    "swan_file = 'swan.p'"
   ]
  },
  {
   "cell_type": "code",
   "execution_count": 3,
   "id": "810e43a5-7a13-4ca1-96dc-d2846429ce45",
   "metadata": {},
   "outputs": [],
   "source": [
    "# df = pd.read_csv(ab, sep='\\t')\n",
    "# df, inds = get_tpm_table(df,\n",
    "#                    how='gene',\n",
    "#                    min_tpm=min_tpm,\n",
    "#                    gene_subset='polya')\n",
    "\n",
    "# # need stable gid\n",
    "# df.head()\n",
    "# df['temp_tid'] = df.index.tolist()\n",
    "# inds = cerberus.get_stable_gid(df, col='temp_tid')\n",
    "# inds[:5]\n",
    "\n",
    "# temp = pd.DataFrame()\n",
    "# temp['gids'] = inds\n",
    "# temp.to_csv('temp_gids_1_tpm.tsv', sep='\\t', index=False)"
   ]
  },
  {
   "cell_type": "code",
   "execution_count": 4,
   "id": "8a8b2366-1008-472d-a63e-0d00a31022fa",
   "metadata": {},
   "outputs": [],
   "source": [
    "# # get metadata for v40\n",
    "# gtf = '/Users/fairliereese/mortazavi_lab/data/rnawg/refs/gencode.v40.annotation.gtf'\n",
    "# o = '/Users/fairliereese/mortazavi_lab/data/rnawg/refs/v40_gene_metadata.tsv'\n",
    "# get_gene_info(gtf, o)"
   ]
  },
  {
   "cell_type": "code",
   "execution_count": 5,
   "id": "54dee34d-1d24-4348-a830-719aae41f2a5",
   "metadata": {},
   "outputs": [],
   "source": [
    "mane_file = o = '/Users/fairliereese/mortazavi_lab/data/rnawg/refs/v40_gene_metadata.tsv'"
   ]
  },
  {
   "cell_type": "code",
   "execution_count": 6,
   "id": "7e308a81-1bca-4183-b1cd-c1d8b3e0412c",
   "metadata": {},
   "outputs": [],
   "source": [
    "# get list of gene inds that are >=1 tpm and \n",
    "# had a mane iso\n",
    "inds = pd.read_csv('temp_gids_1_tpm.tsv', sep='\\t')\n",
    "inds = inds.gids.tolist()\n",
    "\n",
    "mane = pd.read_csv(mane_file, sep='\\t')\n",
    "mane = mane.loc[mane.MANE_Select == True]\n",
    "mane['gid'] = cerberus.get_stable_gid(mane, col='gid')\n",
    "mane = mane.gid.tolist()"
   ]
  },
  {
   "cell_type": "code",
   "execution_count": 7,
   "id": "317a7dd7-08fd-4ac1-a07a-018748a669ca",
   "metadata": {},
   "outputs": [
    {
     "name": "stdout",
     "output_type": "stream",
     "text": [
      "17629\n"
     ]
    }
   ],
   "source": [
    "inds = list(set(inds)&(set(mane)))\n",
    "print(len(inds))"
   ]
  },
  {
   "cell_type": "code",
   "execution_count": 8,
   "id": "7c7f0f46-7246-4127-986c-0604cdd44b46",
   "metadata": {},
   "outputs": [
    {
     "name": "stdout",
     "output_type": "stream",
     "text": [
      "Read in graph from swan.p\n"
     ]
    }
   ],
   "source": [
    "obs_col = 'sample'\n",
    "sg = swan.read('swan.p')"
   ]
  },
  {
   "cell_type": "code",
   "execution_count": 43,
   "id": "d9c97296-1fea-44f8-a0cb-5a5d4d04d426",
   "metadata": {},
   "outputs": [],
   "source": [
    "def uses_principal_feat(x):\n",
    "    \"\"\"\n",
    "    Agg function to determine if individual feats\n",
    "    (tss, ic, tes) use the principal version of that \n",
    "    feature\n",
    "    \"\"\"\n",
    "    return '1' in x.unique()\n",
    "\n",
    "def uses_principal_iso(x):\n",
    "    \"\"\"\n",
    "    Agg function to determine if the isoform triplet\n",
    "    is the principal version of that gene\n",
    "    \"\"\"\n",
    "    return '1,1,1' in x.unique()\n",
    "\n",
    "def get_major_iso(sg, obs_col='sample', gene_subset=None):\n",
    "    \"\"\"\n",
    "    Determine what the major isoform is in each grouping\n",
    "    for each gene \n",
    "    \n",
    "    Parameters:\n",
    "        sg (swan_vis SwanGraph): SwanGraph with transcript\n",
    "            abundance data added\n",
    "        obs_col (str): Column in `sg.adata.obs` to group\n",
    "            datasets by \n",
    "        gene_subset (list of str or None): If not None, \n",
    "            list of stable gene ids to subset on \n",
    "            \n",
    "    Returns:\n",
    "        df (pandas DataFrame): DF where each row is the major \n",
    "            isoform in each expressed gene / sample combination\n",
    "    \"\"\"\n",
    "    df, _ = swan.calc_pi(sg.adata, sg.t_df, obs_col=obs_col)\n",
    "    df = df.sparse.to_dense()\n",
    "    df = df.transpose()\n",
    "\n",
    "    t_df = sg.t_df.copy(deep=True)\n",
    "    t_df.reset_index(drop=True, inplace=True)\n",
    "    t_df = t_df[['tid', 'gname', 'gid']]\n",
    "    df = df.merge(t_df, how='inner', on='tid')\n",
    "    \n",
    "    df.set_index(['tid', 'gname', 'gid'], inplace=True)\n",
    "    df = df.melt(ignore_index=False, value_name='pi', var_name=obs_col)\n",
    "    df = df.dropna(subset=['pi'])\n",
    "    df.reset_index(inplace=True)\n",
    "    \n",
    "    # remove unexpressed isoforms\n",
    "    df = df.loc[df.pi > 0]\n",
    "    \n",
    "    # limit to detected genes\n",
    "    df['gid_stable'] = cerberus.get_stable_gid(df, 'gid')\n",
    "    if gene_subset:\n",
    "        df = df.loc[df.gid_stable.isin(gene_subset)]\n",
    "        \n",
    "    # sort by gene, sample, and pi value\n",
    "    # dedupe across the gene and sample cols; take the top-expressed isoform\n",
    "    df = df.sort_values(by=['gid', obs_col, 'pi'],\n",
    "                        ascending=[False, False, False])\n",
    "\n",
    "    df = df.drop_duplicates(subset=['gname', 'gid', obs_col], keep='first')       \n",
    "    \n",
    "    return df\n",
    "\n",
    "def get_major_principal_feats(sg, **kwargs):\n",
    "    \"\"\"\n",
    "    Determine how many genes have at least one sample where\n",
    "    the features and full-length isoform is the principal isoform\n",
    "    \n",
    "    Parameters:\n",
    "        sg (swan_vis SwanGraph): SwanGraph with transcript\n",
    "                    abundance data added   \n",
    "                    \n",
    "    Returns:\n",
    "        df (pandas DataFrame): DF w/ boolean columns for \n",
    "            whether or not there's at least one sample\n",
    "            where the major feat / isoform is the principal one\n",
    "    \"\"\"\n",
    "    df = get_major_iso(sg, **kwargs)\n",
    "    \n",
    "    # add features\n",
    "    for feat in ['ic', 'tss', 'tes']:\n",
    "        df = add_feat(df, kind=feat,\n",
    "                      col='tid',\n",
    "                      as_number=True,\n",
    "                      drop_triplet=False)\n",
    "\n",
    "    # remove unnecessary columns and determine which genes\n",
    "    # have at least one sample who's major iso uses the principal\n",
    "    # of each feature\n",
    "    temp = df.copy(deep=True)\n",
    "    temp.drop([obs_col, 'tid', 'pi', 'gid'], axis=1, inplace=True)\n",
    "\n",
    "    temp = temp.groupby(['gname',\n",
    "                         'gid_stable']).agg({'tss': uses_principal_feat,\n",
    "                                             'ic': uses_principal_feat,\n",
    "                                             'tes': uses_principal_feat,\n",
    "                                             'triplet': uses_principal_iso}).reset_index()\n",
    "\n",
    "    # output\n",
    "    for feat in ['ic', 'tss', 'tes', 'triplet']:\n",
    "        n_genes = len(temp.gid_stable.unique().tolist())\n",
    "        n_major = len(temp.loc[temp[feat] == True].index)\n",
    "        print(n_genes)\n",
    "        print(n_major)\n",
    "        print(feat)\n",
    "        print('{:.2f}% of genes have >=1 sample where major isoform contains principal {}'.format((n_major/n_genes)*100, feat))\n",
    "        print()\n",
    "        \n",
    "    return temp\n",
    "\n",
    "def count_major_principal_feats(sg, **kwargs):\n",
    "    \"\"\"\n",
    "    Count the number of samples that the major isoform\n",
    "    is the principal isoform and vice versa. Do the same\n",
    "    for individual features as well.\n",
    "    \n",
    "    Parameters:\n",
    "        sg (swan_vis SwanGraph): SwanGraph with transcript\n",
    "            abundance data added\n",
    "            \n",
    "    Returns:\n",
    "        df (pandas DataFrame): DF with # samples per gene \n",
    "            that use the principal feature as their major\n",
    "            feature / iso\n",
    "    \"\"\"\n",
    "    \n",
    "    df = get_major_iso(sg, **kwargs)\n",
    "    \n",
    "    # add features\n",
    "    for feat in ['ic', 'tss', 'tes']:\n",
    "        df = add_feat(df, kind=feat,\n",
    "                      col='tid',\n",
    "                      as_number=True,\n",
    "                      drop_triplet=False)\n",
    "        \n",
    "    temp = df.copy(deep=True)\n",
    "    temp.drop(['tid', 'pi', 'gid'], axis=1, inplace=True)\n",
    "\n",
    "    temp = temp.groupby([obs_col, 'gname',\n",
    "                        'gid_stable'],\n",
    "                        observed=True).agg({'tss': uses_principal_feat,\n",
    "                                            'ic': uses_principal_feat,\n",
    "                                            'tes': uses_principal_feat,\n",
    "                                            'triplet': uses_principal_iso}).reset_index()\n",
    "    \n",
    "    # convert from detection bool to int so we can sum up\n",
    "    # also add the opposiite number\n",
    "    for feat in ['tss', 'ic', 'tes', 'triplet']:\n",
    "        col = 'not_{}'.format(feat)\n",
    "        temp[feat] = temp[feat].astype(int)\n",
    "        temp[col] = (temp[feat] == False).astype(int)\n",
    "\n",
    "    # count n samples where major != principal and vice versa\n",
    "    temp = temp.groupby(['gname', 'gid_stable']).sum().reset_index()\n",
    "    \n",
    "    # total number of samples that this gene is expressed / \n",
    "    # has a complete isoform in \n",
    "    temp['n_samples'] = temp.triplet+temp.not_triplet\n",
    "    \n",
    "    for feat in ['triplet', 'tss', 'ic', 'tes']:\n",
    "        col = 'not_{}'.format(feat)\n",
    "        n_genes = len(temp.gid_stable.unique())\n",
    "        n_num = len(temp.loc[temp[col] >= 1].index)\n",
    "        print()\n",
    "        print('{:.2f}% ({}/{}) genes with >= 1 sample where the major {} is not the principal one'.format((n_num/n_genes)*100, n_num, n_genes, feat)) \n",
    "        \n",
    "    for feat in ['triplet', 'tss', 'ic', 'tes']:\n",
    "        col = 'perc_{}'.format(feat)\n",
    "        temp[col] = (temp[feat]/temp.n_samples)*100\n",
    "        \n",
    "    return temp\n",
    "\n",
    "def plot_major_principal_feat_counts(sg, opref='figures/', **kwargs):\n",
    "    \"\"\"\n",
    "    Plot a histogram of the number of datasets where the major isoform\n",
    "    is the principal isoform.\n",
    "    \n",
    "    Parameters:\n",
    "        sg (swan_vis SwanGraph): SwanGraph with transcript\n",
    "                abundance data added\n",
    "    \n",
    "    Returns:\n",
    "        temp (pandas DataFrame): Output from `count_major_principal_feats`.\n",
    "    \"\"\"\n",
    "    temp = count_major_principal_feats(sg, **kwargs)\n",
    "    mpl.rcParams['font.family'] = 'Arial'\n",
    "    mpl.rcParams['pdf.fonttype'] = 42\n",
    "    sns.set_context('paper', font_scale=1.8)\n",
    "    c_dict, order = get_feat_colors()    \n",
    "    for feat in ['triplet', 'tss', 'ic', 'tes']:\n",
    "        col = 'perc_{}'.format(feat)\n",
    "        ax = sns.displot(data=temp,\n",
    "                         x=col,\n",
    "                         linewidth=0, \n",
    "                         color=c_dict[feat],\n",
    "                         binwidth=5,\n",
    "                         alpha=1)\n",
    "        ylabel = '# genes'\n",
    "        if feat in ['tss', 'ic', 'tes']: \n",
    "            xlabel = '% of samples where major isoform uses MANE {}'.format(feat.upper())\n",
    "        else:\n",
    "            xlabel = '% of samples where major isoform is MANE'\n",
    "            \n",
    "        ax.set(ylabel=ylabel, xlabel=xlabel)\n",
    "\n",
    "        fname = '{}/MANE_vs_major_{}_hist.pdf'.format(opref, feat)\n",
    "        plt.savefig(fname, dpi=800, bbox_inches='tight')\n",
    "        \n",
    "    return temp"
   ]
  },
  {
   "cell_type": "code",
   "execution_count": 41,
   "id": "eaab90a1-a348-479e-87d5-83abbb22cca2",
   "metadata": {},
   "outputs": [
    {
     "name": "stdout",
     "output_type": "stream",
     "text": [
      "\n",
      "82.61% (14015/16966) genes with >= 1 sample where the major triplet is not the principal one\n",
      "\n",
      "53.02% (8996/16966) genes with >= 1 sample where the major tss is not the principal one\n",
      "\n",
      "65.09% (11044/16966) genes with >= 1 sample where the major ic is not the principal one\n",
      "\n",
      "61.23% (10388/16966) genes with >= 1 sample where the major tes is not the principal one\n"
     ]
    }
   ],
   "source": [
    "temp = count_major_principal_feats(sg, obs_col=obs_col, gene_subset=inds)"
   ]
  },
  {
   "cell_type": "code",
   "execution_count": 28,
   "id": "df0f17d4-6529-476c-87c1-c47e74dcc181",
   "metadata": {},
   "outputs": [
    {
     "name": "stdout",
     "output_type": "stream",
     "text": [
      "16966\n",
      "15147\n",
      "ic\n",
      "89.28% of genes have >=1 sample where major isoform contains principal ic\n",
      "\n",
      "16966\n",
      "15710\n",
      "tss\n",
      "92.60% of genes have >=1 sample where major isoform contains principal tss\n",
      "\n",
      "16966\n",
      "14613\n",
      "tes\n",
      "86.13% of genes have >=1 sample where major isoform contains principal tes\n",
      "\n",
      "16966\n",
      "11987\n",
      "triplet\n",
      "70.65% of genes have >=1 sample where major isoform contains principal triplet\n",
      "\n"
     ]
    },
    {
     "data": {
      "text/html": [
       "<div>\n",
       "<style scoped>\n",
       "    .dataframe tbody tr th:only-of-type {\n",
       "        vertical-align: middle;\n",
       "    }\n",
       "\n",
       "    .dataframe tbody tr th {\n",
       "        vertical-align: top;\n",
       "    }\n",
       "\n",
       "    .dataframe thead th {\n",
       "        text-align: right;\n",
       "    }\n",
       "</style>\n",
       "<table border=\"1\" class=\"dataframe\">\n",
       "  <thead>\n",
       "    <tr style=\"text-align: right;\">\n",
       "      <th></th>\n",
       "      <th>gname</th>\n",
       "      <th>gid_stable</th>\n",
       "      <th>tss</th>\n",
       "      <th>ic</th>\n",
       "      <th>tes</th>\n",
       "      <th>triplet</th>\n",
       "    </tr>\n",
       "  </thead>\n",
       "  <tbody>\n",
       "    <tr>\n",
       "      <th>0</th>\n",
       "      <td>A1BG</td>\n",
       "      <td>ENSG00000121410</td>\n",
       "      <td>True</td>\n",
       "      <td>True</td>\n",
       "      <td>True</td>\n",
       "      <td>False</td>\n",
       "    </tr>\n",
       "    <tr>\n",
       "      <th>1</th>\n",
       "      <td>A1CF</td>\n",
       "      <td>ENSG00000148584</td>\n",
       "      <td>True</td>\n",
       "      <td>False</td>\n",
       "      <td>True</td>\n",
       "      <td>False</td>\n",
       "    </tr>\n",
       "    <tr>\n",
       "      <th>2</th>\n",
       "      <td>A2M</td>\n",
       "      <td>ENSG00000175899</td>\n",
       "      <td>True</td>\n",
       "      <td>True</td>\n",
       "      <td>True</td>\n",
       "      <td>True</td>\n",
       "    </tr>\n",
       "    <tr>\n",
       "      <th>3</th>\n",
       "      <td>A2ML1</td>\n",
       "      <td>ENSG00000166535</td>\n",
       "      <td>False</td>\n",
       "      <td>False</td>\n",
       "      <td>False</td>\n",
       "      <td>False</td>\n",
       "    </tr>\n",
       "    <tr>\n",
       "      <th>4</th>\n",
       "      <td>A4GALT</td>\n",
       "      <td>ENSG00000128274</td>\n",
       "      <td>True</td>\n",
       "      <td>True</td>\n",
       "      <td>True</td>\n",
       "      <td>True</td>\n",
       "    </tr>\n",
       "    <tr>\n",
       "      <th>...</th>\n",
       "      <td>...</td>\n",
       "      <td>...</td>\n",
       "      <td>...</td>\n",
       "      <td>...</td>\n",
       "      <td>...</td>\n",
       "      <td>...</td>\n",
       "    </tr>\n",
       "    <tr>\n",
       "      <th>16961</th>\n",
       "      <td>ZYG11A</td>\n",
       "      <td>ENSG00000203995</td>\n",
       "      <td>True</td>\n",
       "      <td>True</td>\n",
       "      <td>True</td>\n",
       "      <td>True</td>\n",
       "    </tr>\n",
       "    <tr>\n",
       "      <th>16962</th>\n",
       "      <td>ZYG11B</td>\n",
       "      <td>ENSG00000162378</td>\n",
       "      <td>True</td>\n",
       "      <td>True</td>\n",
       "      <td>True</td>\n",
       "      <td>True</td>\n",
       "    </tr>\n",
       "    <tr>\n",
       "      <th>16963</th>\n",
       "      <td>ZYX</td>\n",
       "      <td>ENSG00000159840</td>\n",
       "      <td>True</td>\n",
       "      <td>True</td>\n",
       "      <td>True</td>\n",
       "      <td>True</td>\n",
       "    </tr>\n",
       "    <tr>\n",
       "      <th>16964</th>\n",
       "      <td>ZZEF1</td>\n",
       "      <td>ENSG00000074755</td>\n",
       "      <td>True</td>\n",
       "      <td>True</td>\n",
       "      <td>True</td>\n",
       "      <td>True</td>\n",
       "    </tr>\n",
       "    <tr>\n",
       "      <th>16965</th>\n",
       "      <td>ZZZ3</td>\n",
       "      <td>ENSG00000036549</td>\n",
       "      <td>True</td>\n",
       "      <td>True</td>\n",
       "      <td>True</td>\n",
       "      <td>False</td>\n",
       "    </tr>\n",
       "  </tbody>\n",
       "</table>\n",
       "<p>16966 rows × 6 columns</p>\n",
       "</div>"
      ],
      "text/plain": [
       "        gname       gid_stable    tss     ic    tes  triplet\n",
       "0        A1BG  ENSG00000121410   True   True   True    False\n",
       "1        A1CF  ENSG00000148584   True  False   True    False\n",
       "2         A2M  ENSG00000175899   True   True   True     True\n",
       "3       A2ML1  ENSG00000166535  False  False  False    False\n",
       "4      A4GALT  ENSG00000128274   True   True   True     True\n",
       "...       ...              ...    ...    ...    ...      ...\n",
       "16961  ZYG11A  ENSG00000203995   True   True   True     True\n",
       "16962  ZYG11B  ENSG00000162378   True   True   True     True\n",
       "16963     ZYX  ENSG00000159840   True   True   True     True\n",
       "16964   ZZEF1  ENSG00000074755   True   True   True     True\n",
       "16965    ZZZ3  ENSG00000036549   True   True   True    False\n",
       "\n",
       "[16966 rows x 6 columns]"
      ]
     },
     "execution_count": 28,
     "metadata": {},
     "output_type": "execute_result"
    }
   ],
   "source": [
    "obs_col = 'sample'\n",
    "get_major_principal_feats(sg, obs_col=obs_col, gene_subset=inds)"
   ]
  },
  {
   "cell_type": "code",
   "execution_count": 29,
   "id": "ffc659d6-928a-46dc-8900-9ae3fbd0375c",
   "metadata": {},
   "outputs": [
    {
     "name": "stdout",
     "output_type": "stream",
     "text": [
      "\n",
      "82.61% (14015/16966) genes with >= 1 sample where the major triplet is not the principal one\n",
      "\n",
      "53.02% (8996/16966) genes with >= 1 sample where the major tss is not the principal one\n",
      "\n",
      "65.09% (11044/16966) genes with >= 1 sample where the major ic is not the principal one\n",
      "\n",
      "61.23% (10388/16966) genes with >= 1 sample where the major tes is not the principal one\n"
     ]
    }
   ],
   "source": [
    "df = count_major_principal_feats(sg, obs_col=obs_col, gene_subset=inds)"
   ]
  },
  {
   "cell_type": "code",
   "execution_count": 30,
   "id": "32987660-4c19-4cdb-8f59-ddb062a9eb8e",
   "metadata": {},
   "outputs": [
    {
     "data": {
      "text/plain": [
       "50"
      ]
     },
     "execution_count": 30,
     "metadata": {},
     "output_type": "execute_result"
    }
   ],
   "source": [
    "# do we have the correct number of samples? Should be 50\n",
    "max(df.tss)"
   ]
  },
  {
   "cell_type": "code",
   "execution_count": 31,
   "id": "7fbbec87-f72b-4bed-b433-cc33f519f2ca",
   "metadata": {},
   "outputs": [],
   "source": [
    "def get_feat_colors(cats=None):\n",
    "    tss = '#56B4E9'\n",
    "    tes = '#E69F00'\n",
    "    splicing = '#CC79A7'\n",
    "    triplet = '#009E73'\n",
    "    c_dict = {'tss': tss,\n",
    "              'ic': splicing,\n",
    "              'tes': tes,\n",
    "              'triplet': triplet}\n",
    "    order = ['triplet', 'tss', 'ic', 'tes']\n",
    "    \n",
    "    c_dict, order = rm_color_cats(c_dict, order, cats)\n",
    "    return c_dict, order"
   ]
  },
  {
   "cell_type": "code",
   "execution_count": 33,
   "id": "8e7116cc-7fa9-424a-af8a-d951b63334dc",
   "metadata": {},
   "outputs": [],
   "source": [
    "sns.set_context('paper', font_scale=1.8)\n"
   ]
  },
  {
   "cell_type": "code",
   "execution_count": 44,
   "id": "3bfa99ed-290f-4ba7-8ec7-a4c5d65f3658",
   "metadata": {},
   "outputs": [
    {
     "name": "stdout",
     "output_type": "stream",
     "text": [
      "\n",
      "82.61% (14015/16966) genes with >= 1 sample where the major triplet is not the principal one\n",
      "\n",
      "53.02% (8996/16966) genes with >= 1 sample where the major tss is not the principal one\n",
      "\n",
      "65.09% (11044/16966) genes with >= 1 sample where the major ic is not the principal one\n",
      "\n",
      "61.23% (10388/16966) genes with >= 1 sample where the major tes is not the principal one\n"
     ]
    },
    {
     "data": {
      "image/png": "[encoded data removed]",
      "text/plain": [
       "<Figure size 360x360 with 1 Axes>"
      ]
     },
     "metadata": {
      "needs_background": "light"
     },
     "output_type": "display_data"
    },
    {
     "data": {
      "image/png": "[encoded data removed]",
      "text/plain": [
       "<Figure size 360x360 with 1 Axes>"
      ]
     },
     "metadata": {
      "needs_background": "light"
     },
     "output_type": "display_data"
    },
    {
     "data": {
      "image/png": "[encoded data removed]",
      "text/plain": [
       "<Figure size 360x360 with 1 Axes>"
      ]
     },
     "metadata": {
      "needs_background": "light"
     },
     "output_type": "display_data"
    },
    {
     "data": {
      "image/png": "[encoded data removed]",
      "text/plain": [
       "<Figure size 360x360 with 1 Axes>"
      ]
     },
     "metadata": {
      "needs_background": "light"
     },
     "output_type": "display_data"
    }
   ],
   "source": [
    "df = plot_major_principal_feat_counts(sg, opref='figures/', obs_col=obs_col, gene_subset=inds)"
   ]
  },
  {
   "cell_type": "code",
   "execution_count": null,
   "id": "9cb8b1ee-1f4b-4bb0-9fbc-e605383d4c3f",
   "metadata": {},
   "outputs": [],
   "source": []
  },
  {
   "cell_type": "code",
   "execution_count": null,
   "id": "df585519-527b-48ba-a3bd-4223cfe5b51f",
   "metadata": {},
   "outputs": [],
   "source": []
  }
 ],
 "metadata": {
  "kernelspec": {
   "display_name": "Python 3",
   "language": "python",
   "name": "python3"
  },
  "language_info": {
   "codemirror_mode": {
    "name": "ipython",
    "version": 3
   },
   "file_extension": ".py",
   "mimetype": "text/x-python",
   "name": "python",
   "nbconvert_exporter": "python",
   "pygments_lexer": "ipython3",
   "version": "3.7.4"
  }
 },
 "nbformat": 4,
 "nbformat_minor": 5
}
