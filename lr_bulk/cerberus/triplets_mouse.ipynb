{
 "cells": [
  {
   "cell_type": "code",
   "execution_count": null,
   "id": "faa49d19-cecb-4e28-ac1b-d04d194cd07f",
   "metadata": {},
   "outputs": [],
   "source": [
    "import pandas as pd\n",
    "import numpy as np\n",
    "import scipy.stats as st\n",
    "import seaborn as sns\n",
    "import sys\n",
    "import os\n",
    "import gseapy as gp\n",
    "import pdb\n",
    "import copy\n",
    "from scipy import sparse\n",
    "import anndata\n",
    "import cerberus\n",
    "\n",
    "\n",
    "p = os.path.dirname(os.path.dirname(os.getcwd()))\n",
    "sys.path.append(p)\n",
    "\n",
    "from scripts.utils import *\n",
    "from scripts.plotting import *"
   ]
  },
  {
   "cell_type": "code",
   "execution_count": 5,
   "id": "f4f25a98-7f5a-4fc4-a187-8b9bde81014b",
   "metadata": {},
   "outputs": [],
   "source": [
    "h5 = '/Users/fairliereese/mortazavi_lab/data/mousewg/lr_bulk/cerberus/cerberus_annot.h5'\n",
    "filt_ab = '/Users/fairliereese/mortazavi_lab/data/mousewg/lr_bulk/cerberus/cerberus_filtered_abundance.tsv'\n",
    "swangraph = '/Users/fairliereese/mortazavi_lab/data/mousewg/lr_bulk/cerberus/swan/swan.p'"
   ]
  },
  {
   "cell_type": "markdown",
   "id": "0295f051-67c6-4730-b104-5b5fcc474d03",
   "metadata": {},
   "source": [
    "## Get triplets functions for cerberus annotation"
   ]
  },
  {
   "cell_type": "code",
   "execution_count": 8,
   "id": "8cd6736a-1f9e-4ec4-ae49-993a3e442248",
   "metadata": {},
   "outputs": [
    {
     "name": "stdout",
     "output_type": "stream",
     "text": [
      "Read in graph from /Users/fairliereese/mortazavi_lab/data/mousewg/lr_bulk/cerberus/swan/swan.p\n"
     ]
    }
   ],
   "source": [
    "ca = cerberus.read(h5)\n",
    "sg = swan.read(swangraph)\n",
    "ca.set_sg(sg)"
   ]
  },
  {
   "cell_type": "code",
   "execution_count": 9,
   "id": "e3556d39-05ee-46ba-9536-dce5c3a3166e",
   "metadata": {},
   "outputs": [],
   "source": [
    "source_trip = ca.get_source_triplets(sg)\n",
    "source_trip.to_csv('mouse_source_triplets.tsv', sep='\\t', index=False)"
   ]
  },
  {
   "cell_type": "markdown",
   "id": "ad33d0f3-8819-4641-afd8-8db97acf7d2f",
   "metadata": {},
   "source": [
    "## Get triplets from list of tids "
   ]
  },
  {
   "cell_type": "code",
   "execution_count": 11,
   "id": "41008dff-be0a-4ab2-bd7f-e3621de99c6c",
   "metadata": {},
   "outputs": [
    {
     "name": "stdout",
     "output_type": "stream",
     "text": [
      "Calculating iso TPM values\n"
     ]
    },
    {
     "name": "stderr",
     "output_type": "stream",
     "text": [
      "/Users/fairliereese/Documents/programming/mortazavi_lab/data/rnawg/scripts/utils.py:1478: PerformanceWarning: DataFrame is highly fragmented.  This is usually the result of calling `frame.insert` many times, which has poor performance.  Consider joining all columns at once using pd.concat(axis=1) instead.  To get a de-fragmented frame, use `newframe = frame.copy()`\n",
      "  df[tpm_col] = (df[d]*1000000)/df[total_col]\n",
      "/Users/fairliereese/Documents/programming/mortazavi_lab/data/rnawg/scripts/utils.py:1477: PerformanceWarning: DataFrame is highly fragmented.  This is usually the result of calling `frame.insert` many times, which has poor performance.  Consider joining all columns at once using pd.concat(axis=1) instead.  To get a de-fragmented frame, use `newframe = frame.copy()`\n",
      "  df[total_col] = df[d].sum()\n"
     ]
    },
    {
     "name": "stdout",
     "output_type": "stream",
     "text": [
      "Enforcing minimum TPM\n",
      "Total # isos detected: 145708\n",
      "# isos >= 1 tpm: 136394\n",
      "Number of isos reported: 136394\n"
     ]
    }
   ],
   "source": [
    "df = pd.read_csv(filt_ab, sep='\\t')\n",
    "df, tids = get_tpm_table(df,\n",
    "               how='iso',\n",
    "               min_tpm=1,\n",
    "               species='mouse',\n",
    "               sample='mouse')"
   ]
  },
  {
   "cell_type": "code",
   "execution_count": 12,
   "id": "72980427-b121-4138-b2c2-478088c98a59",
   "metadata": {},
   "outputs": [],
   "source": [
    "def get_subset_triplets(ca, tids, source):\n",
    "    df = pd.DataFrame()\n",
    "    df['tid'] = tids\n",
    "\n",
    "    df = add_feat(df, kind='tss', col='tid')\n",
    "    df = add_feat(df, kind='ic', col='tid')\n",
    "    df = add_feat(df, kind='tes', col='tid', drop_gid=False)\n",
    "    df.rename({'temp_gid': 'gene_id',\n",
    "               'tss': 'tss_id', \n",
    "               'ic': 'ic_id', \n",
    "               'tes': 'tes_id'}, axis=1, inplace=True)\n",
    "    df = df.groupby('gene_id').nunique()\n",
    "    df.rename({'tss_id': 'n_tss',\n",
    "                 'ic_id': 'n_ic',\n",
    "                 'tes_id': 'n_tes',\n",
    "                 'tid': 'n_iso'}, axis=1, inplace=True)\n",
    "    df.reset_index(inplace=True)\n",
    "    df = cerberus.compute_splicing_ratio(df)\n",
    "    \n",
    "    # add the gene id\n",
    "    temp = ca.sg.t_df[['gid', 'gname']].copy(deep=True)\n",
    "    df.rename({'gene_id': 'gid'}, axis=1, inplace=True)\n",
    "    temp.rename({'gid':'gene_id'}, axis=1, inplace=True)\n",
    "    temp = cerberus.add_stable_gid(temp)\n",
    "    temp.reset_index(drop=True)\n",
    "    temp.drop_duplicates(inplace=True)\n",
    "    temp.rename({'gene_id': 'gid'}, axis=1, inplace=True)\n",
    "    df = df.merge(temp, how='left', on='gid')\n",
    "    \n",
    "    df['source'] = source\n",
    "    return df"
   ]
  },
  {
   "cell_type": "code",
   "execution_count": 13,
   "id": "01abdeb0-205f-4e94-a84b-aecd93a590ad",
   "metadata": {},
   "outputs": [],
   "source": [
    "temp = get_subset_triplets(ca, tids, 'lapa_det')\n",
    "source_trip = pd.concat([source_trip, temp], axis=0)\n",
    "source_trip.to_csv('mouse_source_triplets.tsv', sep='\\t', index=False)"
   ]
  },
  {
   "cell_type": "markdown",
   "id": "4eae0ae8-6f65-475d-bb63-f0d111809820",
   "metadata": {},
   "source": [
    "## Expressed triplets"
   ]
  },
  {
   "cell_type": "code",
   "execution_count": 14,
   "id": "d8b40a3d-aeaa-4ef3-a591-6076eb9085f2",
   "metadata": {},
   "outputs": [],
   "source": [
    "obs_col = 'sample'\n",
    "min_tpm = 1\n",
    "e_trip = ca.get_expressed_triplets(obs_col=obs_col, min_tpm=min_tpm)\n",
    "e_trip.to_csv('mouse_expressed_triplets.tsv', sep='\\t', index=False)"
   ]
  },
  {
   "cell_type": "code",
   "execution_count": 17,
   "id": "e82075bf-ca88-4685-82ac-8ddb920bda60",
   "metadata": {},
   "outputs": [],
   "source": [
    "# # reference + expressed triplets\n",
    "# e_trip = pd.read_csv('mouse_expressed_triplets.tsv', sep='\\t')\n",
    "# s_trip = pd.read_csv('mouse_source_triplets.tsv', sep='\\t')\n",
    "\n",
    "# # for now, hack together dfs to work with existing code\n",
    "# e_trip.rename({'sample': 'source'}, axis=1, inplace=True)\n",
    "# trips = pd.concat([s_trip, e_trip])\n",
    "# trips.loc[trips.source == 'lapa_det', 'source'] = 'obs'\n",
    "# trips.loc[trips.source=='all', 'source'] = 'cerberus'\n",
    "\n",
    "# # remove all observed triplets\n",
    "# trips = trips.loc[trips.source != 'lapa']"
   ]
  },
  {
   "cell_type": "code",
   "execution_count": 18,
   "id": "e550885b-2788-4ac4-aa27-164ad3636cc7",
   "metadata": {},
   "outputs": [],
   "source": [
    "# c_dict, order = get_lr_bulk_sample_colors()\n"
   ]
  },
  {
   "cell_type": "code",
   "execution_count": null,
   "id": "8c84561b-5b31-4beb-9f1d-d9141128d681",
   "metadata": {},
   "outputs": [],
   "source": []
  }
 ],
 "metadata": {
  "kernelspec": {
   "display_name": "Python 3",
   "language": "python",
   "name": "python3"
  },
  "language_info": {
   "codemirror_mode": {
    "name": "ipython",
    "version": 3
   },
   "file_extension": ".py",
   "mimetype": "text/x-python",
   "name": "python",
   "nbconvert_exporter": "python",
   "pygments_lexer": "ipython3",
   "version": "3.7.4"
  }
 },
 "nbformat": 4,
 "nbformat_minor": 5
}
