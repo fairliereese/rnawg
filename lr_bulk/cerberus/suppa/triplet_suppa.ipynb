{
 "cells": [
  {
   "cell_type": "code",
   "execution_count": 1,
   "id": "8fbd92f8-62c7-4847-9529-94369934fd26",
   "metadata": {},
   "outputs": [],
   "source": [
    "import numpy as np\n",
    "import pandas as pd\n",
    "import pyranges as pr\n",
    "from pandas import DataFrame\n",
    "import os\n",
    "from collections import defaultdict"
   ]
  },
  {
   "cell_type": "code",
   "execution_count": null,
   "id": "411ef998-dcec-4c61-ae04-757d858cd721",
   "metadata": {},
   "outputs": [],
   "source": [
    "#AF_events = pd.read_csv('localEvents/cerberus.events_AF_strict.ioe', sep = '\\t')\n",
    "#AL_events = pd.read_csv('localEvents/cerberus.events_AL_strict.ioe', sep = '\\t')"
   ]
  },
  {
   "cell_type": "code",
   "execution_count": 2,
   "id": "6d78a5ec-6bfd-4ed6-b079-766292989813",
   "metadata": {},
   "outputs": [],
   "source": [
    "metadata = pd.read_csv('swan_metadata.txt', sep = '\\t')\n",
    "metadata = metadata[['dataset','sample']]\n",
    "d = defaultdict(list)\n",
    "for a, b in metadata.values.tolist():\n",
    "    d[b].append(a)"
   ]
  },
  {
   "cell_type": "code",
   "execution_count": 3,
   "id": "3575208f-fd9e-42d6-8cdc-be508b1ae873",
   "metadata": {},
   "outputs": [],
   "source": [
    "AF_psi = pd.read_csv('psi_by_suppa/cerberus_AF.psi', sep = '\\t')\n",
    "AL_psi = pd.read_csv('psi_by_suppa/cerberus_AL.psi', sep = '\\t')"
   ]
  },
  {
   "cell_type": "code",
   "execution_count": 4,
   "id": "164fe88c-d04d-48df-b1af-03b5d67b9f66",
   "metadata": {},
   "outputs": [],
   "source": [
    "A3_psi = pd.read_csv('psi_by_suppa/cerberus_A3.psi', sep = '\\t')\n",
    "A5_psi = pd.read_csv('psi_by_suppa/cerberus_A5.psi', sep = '\\t')\n",
    "MX_psi = pd.read_csv('psi_by_suppa/cerberus_MX.psi', sep = '\\t')\n",
    "RI_psi = pd.read_csv('psi_by_suppa/cerberus_RI.psi', sep = '\\t')\n",
    "SE_psi = pd.read_csv('psi_by_suppa/cerberus_SE.psi', sep = '\\t')"
   ]
  },
  {
   "cell_type": "code",
   "execution_count": 5,
   "id": "893da2ae-bb21-47b8-9d13-4350b57b1e13",
   "metadata": {},
   "outputs": [],
   "source": [
    "IC_psi = pd.concat([AF_psi, AL_psi, A3_psi, A5_psi, MX_psi, RI_psi, SE_psi])"
   ]
  },
  {
   "cell_type": "code",
   "execution_count": null,
   "id": "a6594b9d-1efe-4aa2-b0f5-d26cf391c839",
   "metadata": {},
   "outputs": [],
   "source": [
    "from collections import defaultdict\n",
    "\n",
    "AF_dict = defaultdict(set)\n",
    "\n",
    "for AF_event in AF_events['event_id']:\n",
    "    gene, event = AF_event.split(';')[:2]\n",
    "    chrom = event.split(':')[1]\n",
    "    \n",
    "    if event.endswith('-'):\n",
    "        s1, e1 = event.split('-')[2].split(':')[:2]\n",
    "        s2, e2 = event.split('-')[1].split(':')[:2]\n",
    "        strand = '-'\n",
    "    else:\n",
    "        s1, e1 = event.split('-')[0].split(':')[2:]\n",
    "        s2, e2 = event.split('-')[1].split(':')[1:]\n",
    "        strand = '+'\n",
    "          \n",
    "    exon_1 = chrom + ':' + s1 + '-' + e1 + ':' + strand\n",
    "    exon_2 = chrom + ':' + s2 + '-' + e2 + ':' + strand\n",
    "    \n",
    "    AF_dict[gene].add(exon_1)\n",
    "    AF_dict[gene].add(exon_2)"
   ]
  },
  {
   "cell_type": "code",
   "execution_count": 6,
   "id": "0225ed29-1db9-448c-80c5-cc527cae4a84",
   "metadata": {},
   "outputs": [],
   "source": [
    "cerberus_tss = pd.read_csv('psi_by_cerberus/tss_psi.tsv', sep = '\\t', header = 0, low_memory = False)\n",
    "cerberus_tes = pd.read_csv('psi_by_cerberus/tes_psi.tsv', sep = '\\t', header = 0, low_memory = False)\n",
    "cerberus_ic = pd.read_csv('psi_by_cerberus/ic_psi.tsv', sep = '\\t', header = 0, low_memory = False)"
   ]
  },
  {
   "cell_type": "code",
   "execution_count": 7,
   "id": "3d7e544f-25cf-4846-90c3-2c2ab184d33f",
   "metadata": {},
   "outputs": [],
   "source": [
    "def extract_genes_from_cerberus_across_sample(cerberus, sample, mapping, name, thres_1 = 0.25, thres_2 = 0.75):\n",
    "    from collections import Counter\n",
    "    df = cerberus.loc[cerberus['dataset'].isin(mapping[sample]), [name,'psi']].groupby([name]).mean()\n",
    "    events = set(df[(df['psi'] >= thres_1) & (df['psi'] <= thres_2)].index)\n",
    "    counter = Counter([event.split('_')[0] for event in events])\n",
    "    return([event for event in counter.keys() if counter[event] >= 2])"
   ]
  },
  {
   "cell_type": "code",
   "execution_count": 8,
   "id": "ea63157a-e085-49f6-ae1c-a546df93d2d8",
   "metadata": {},
   "outputs": [],
   "source": [
    "def extract_genes_from_suppa_across_sample(psi, sample, mapping, threshold_1 = 0.25, threshold_2 = 0.75):    \n",
    "    dataset = mapping[sample]\n",
    "    df = psi[dataset]\n",
    "    df = df[(df.mean(axis=1) >= threshold_1) & (df.mean(axis=1) <= threshold_2)]\n",
    "    return(set([gene[0].split('.')[0] for gene in df.index.str.split(';')]))"
   ]
  },
  {
   "cell_type": "code",
   "execution_count": 40,
   "id": "8fe59fcc-423f-4e6d-9121-0148dc061de9",
   "metadata": {},
   "outputs": [],
   "source": [
    "def compare_cerberus_and_suppa_across_events(df, psi, name, mapping = d):\n",
    "    \n",
    "    path = '/'.join(['cerberus_suppa', name])\n",
    "    if not os.path.exists(path):\n",
    "        os.mkdir(path) \n",
    "    \n",
    "    for sample in mapping.keys():\n",
    "       \n",
    "        geneList = set(df.loc[df['dataset'].isin(mapping[sample]), 'gid_stable'])\n",
    "        gene_by_suppa = extract_genes_from_suppa_across_sample(psi, sample, mapping)\n",
    "        gene_by_cerberus = extract_genes_from_cerberus_across_sample(df, sample, mapping, name)\n",
    "        \n",
    "        suppa = []; cerberus = []\n",
    "        for gene in geneList:     \n",
    "            \n",
    "            suppa.append('TRUE') if gene in gene_by_suppa else suppa.append('FALSE') ## not detected by SUPPA: (1) psi value not in .25 - .75 (2) does not have a event\n",
    "            cerberus.append('TRUE') if gene in gene_by_cerberus else cerberus.append('FALSE')\n",
    "            \n",
    "#            if gene in gene_by_cerberus:\n",
    "#                cerberus.append('TRUE')\n",
    "#            else:\n",
    "#                cerberus.append('FALSE') if gene in gene_bg2 else cerberus.append(np.nan)            \n",
    "#            lr.append(True) if gene in gene_by_lr else lr.append(False)\n",
    "        res = DataFrame({'gid':list(geneList), 'sample':sample, 'suppa':suppa, 'cerberus':cerberus})\n",
    "        # reformat\n",
    "#        for i in range(df.shape[0]):\n",
    "#            if(pd.isnull(df.iloc[i,3])):\n",
    " #               df.iloc[i,2] = np.nan\n",
    "               \n",
    "        res.to_csv(''.join([path, '/', sample, '.tsv']), sep = '\\t', index = False, header = True)"
   ]
  },
  {
   "cell_type": "code",
   "execution_count": 42,
   "id": "55397c2d-25af-40ef-9048-6680a66dd72a",
   "metadata": {},
   "outputs": [],
   "source": [
    "compare_cerberus_and_suppa_across_events(df = cerberus_tss, psi = AF_psi, name = 'tss')\n",
    "compare_cerberus_and_suppa_across_events(df = cerberus_tes, psi = AL_psi, name = 'tes')\n",
    "compare_cerberus_and_suppa_across_events(df = cerberus_ic, psi = IC_psi, name = 'ic')"
   ]
  },
  {
   "cell_type": "code",
   "execution_count": 46,
   "id": "20e2264d-9df3-4809-ba46-1d69a72f3348",
   "metadata": {},
   "outputs": [],
   "source": [
    "df = cerberus_tss.loc[cerberus_tss['dataset'].isin(d['a673']), ['tss','psi']].groupby(['tss']).mean()"
   ]
  },
  {
   "cell_type": "code",
   "execution_count": 57,
   "id": "aa7113ac-4b06-4970-8e4b-2740d91928e2",
   "metadata": {},
   "outputs": [],
   "source": [
    "events = set(df[(df['psi'] >= 0.1) & (df['psi'] <= 0.9)].index)\n",
    "from collections import Counter\n",
    "counter = Counter([event.split('_')[0] for event in events])"
   ]
  },
  {
   "cell_type": "code",
   "execution_count": 58,
   "id": "08bd8b22-9b9f-4966-a889-1c0889e18ec8",
   "metadata": {},
   "outputs": [
    {
     "data": {
      "text/plain": [
       "2"
      ]
     },
     "execution_count": 58,
     "metadata": {},
     "output_type": "execute_result"
    }
   ],
   "source": [
    "counter['ENSG00000124785']"
   ]
  },
  {
   "cell_type": "code",
   "execution_count": 56,
   "id": "457dab1d-15c8-4718-843c-325730f7a142",
   "metadata": {},
   "outputs": [
    {
     "data": {
      "text/plain": [
       "False"
      ]
     },
     "execution_count": 56,
     "metadata": {},
     "output_type": "execute_result"
    }
   ],
   "source": [
    "'ENSG00000124785' in events "
   ]
  }
 ],
 "metadata": {
  "kernelspec": {
   "display_name": "Python 3",
   "language": "python",
   "name": "python3"
  },
  "language_info": {
   "codemirror_mode": {
    "name": "ipython",
    "version": 3
   },
   "file_extension": ".py",
   "mimetype": "text/x-python",
   "name": "python",
   "nbconvert_exporter": "python",
   "pygments_lexer": "ipython3",
   "version": "3.7.4"
  }
 },
 "nbformat": 4,
 "nbformat_minor": 5
}
