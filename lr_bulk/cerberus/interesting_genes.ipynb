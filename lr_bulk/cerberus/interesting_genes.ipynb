{
 "cells": [
  {
   "cell_type": "code",
   "execution_count": 1,
   "id": "99cbb23b-04c0-4929-8afb-cdb5e96eb8ab",
   "metadata": {},
   "outputs": [],
   "source": [
    "import pandas as pd\n",
    "import pyranges as pr\n",
    "import upsetplot\n",
    "import seaborn as sns\n",
    "import matplotlib.pyplot as plt\n",
    "import os\n",
    "import sys\n",
    "\n",
    "p = os.path.dirname(os.path.dirname(os.getcwd()))\n",
    "sys.path.append(p)\n",
    "\n",
    "from scripts.utils import *\n",
    "from scripts.plotting import *"
   ]
  },
  {
   "cell_type": "code",
   "execution_count": 3,
   "id": "42632191-3b06-4b2f-ba4d-fd3d03b62af3",
   "metadata": {},
   "outputs": [],
   "source": [
    "h5 = 'cerberus_annot_triplets.h5'\n",
    "filt_ab = 'cerberus_filtered_abundance.tsv'\n",
    "feat = 'tss'\n",
    "obs_source = 'lapa'\n",
    "ref_sources = ['v40', 'v29']\n",
    "support_sources = ['encode_cage',\n",
    "                   'fantom_cage',\n",
    "                   'encode_rampage']                   \n",
    "support_label = 'CAGE, RAMPAGE'\n",
    "ref = '../../refs/cerberus/v40_transcript_metadata.tsv'"
   ]
  },
  {
   "cell_type": "code",
   "execution_count": null,
   "id": "8ff3fc57-08f7-43a0-8842-1cd726f710b2",
   "metadata": {},
   "outputs": [],
   "source": []
  }
 ],
 "metadata": {
  "kernelspec": {
   "display_name": "Python 3",
   "language": "python",
   "name": "python3"
  },
  "language_info": {
   "codemirror_mode": {
    "name": "ipython",
    "version": 3
   },
   "file_extension": ".py",
   "mimetype": "text/x-python",
   "name": "python",
   "nbconvert_exporter": "python",
   "pygments_lexer": "ipython3",
   "version": "3.7.4"
  }
 },
 "nbformat": 4,
 "nbformat_minor": 5
}
