{
 "cells": [
  {
   "cell_type": "code",
   "execution_count": 1,
   "id": "9febdc3b-ac8e-4dc8-9c37-958ca8881377",
   "metadata": {},
   "outputs": [],
   "source": [
    "import pandas as pd\n",
    "import pyranges as pr\n",
    "import upsetplot\n",
    "import seaborn as sns\n",
    "import matplotlib.pyplot as plt\n",
    "import os\n",
    "import sys\n",
    "\n",
    "p = os.path.dirname(os.path.dirname(os.path.dirname(os.getcwd())))\n",
    "sys.path.append(p)\n",
    "\n",
    "from scripts.utils import *\n",
    "from scripts.plotting import *"
   ]
  },
  {
   "cell_type": "markdown",
   "id": "44fbbf80-2497-477a-a776-b699241f9584",
   "metadata": {},
   "source": [
    "## What % of expressed protein-coding genes do we detected >1 isoform for? "
   ]
  },
  {
   "cell_type": "code",
   "execution_count": 3,
   "id": "62566de4-9bee-4d4a-9a05-4ecddeebc698",
   "metadata": {},
   "outputs": [],
   "source": [
    "h5 = '../cerberus_annot.h5'\n",
    "filt_ab = '../cerberus_filtered_abundance.tsv'\n",
    "feat = 'tss'"
   ]
  },
  {
   "cell_type": "code",
   "execution_count": 4,
   "id": "4a184770-cb71-43f9-a290-d231e1ca13cb",
   "metadata": {},
   "outputs": [
    {
     "name": "stdout",
     "output_type": "stream",
     "text": [
      "Calculating iso TPM values\n",
      "Subsetting for polya genes\n"
     ]
    },
    {
     "name": "stderr",
     "output_type": "stream",
     "text": [
      "/Users/fairliereese/Documents/programming/mortazavi_lab/data/rnawg/scripts/utils.py:1805: PerformanceWarning: DataFrame is highly fragmented.  This is usually the result of calling `frame.insert` many times, which has poor performance.  Consider joining all columns at once using pd.concat(axis=1) instead.  To get a de-fragmented frame, use `newframe = frame.copy()`\n",
      "  df[tpm_col] = (df[d]*1000000)/df[total_col]\n",
      "/Users/fairliereese/Documents/programming/mortazavi_lab/data/rnawg/scripts/utils.py:1804: PerformanceWarning: DataFrame is highly fragmented.  This is usually the result of calling `frame.insert` many times, which has poor performance.  Consider joining all columns at once using pd.concat(axis=1) instead.  To get a de-fragmented frame, use `newframe = frame.copy()`\n",
      "  df[total_col] = df[d].sum()\n"
     ]
    },
    {
     "name": "stdout",
     "output_type": "stream",
     "text": [
      "Enforcing minimum TPM\n",
      "Total # isos detected: 234040\n",
      "# isos >= 1 tpm: 212911\n",
      "Applying gene type and novelty subset\n",
      "Number of isos reported: 209476\n"
     ]
    }
   ],
   "source": [
    "df = pd.read_csv(filt_ab, sep='\\t')\n",
    "df, tids = get_tpm_table(df,\n",
    "               how='iso',\n",
    "               min_tpm=1,\n",
    "               gene_subset='polya',\n",
    "               h5=h5)"
   ]
  },
  {
   "cell_type": "code",
   "execution_count": 5,
   "id": "459dd37c-5c14-426c-b58d-2adc1abe34a8",
   "metadata": {},
   "outputs": [],
   "source": [
    "ca = cerberus.read(h5)"
   ]
  },
  {
   "cell_type": "code",
   "execution_count": 7,
   "id": "01e6e117-0f4b-4982-8640-84ff6264bc03",
   "metadata": {},
   "outputs": [],
   "source": [
    "source = 'lapa'\n",
    "df = ca.t_map.loc[ca.t_map.source == source].copy(deep=True)"
   ]
  },
  {
   "cell_type": "code",
   "execution_count": 10,
   "id": "62f6f8a0-9ba6-41ae-a04b-ead8ebf95891",
   "metadata": {},
   "outputs": [
    {
     "name": "stdout",
     "output_type": "stream",
     "text": [
      "322461\n",
      "234066\n"
     ]
    }
   ],
   "source": [
    "print(len(df.index))\n",
    "print(len(df.transcript_id.unique().tolist()))"
   ]
  },
  {
   "cell_type": "code",
   "execution_count": 16,
   "id": "cd20ad3a-40f7-40b0-9623-4037822afe14",
   "metadata": {},
   "outputs": [
    {
     "name": "stdout",
     "output_type": "stream",
     "text": [
      "297207\n",
      "209476\n",
      "209476\n"
     ]
    }
   ],
   "source": [
    "# limit to detected isoforms\n",
    "df = df.loc[df.transcript_id.isin(tids)]\n",
    "print(len(df.index))\n",
    "print(len(df.transcript_id.unique().tolist()))\n",
    "df = df[['gene_id', 'transcript_id']].drop_duplicates()\n",
    "print(len(df.index))\n"
   ]
  },
  {
   "cell_type": "code",
   "execution_count": 19,
   "id": "141bc123-5755-4e53-a04a-9120f78c7ee9",
   "metadata": {},
   "outputs": [],
   "source": [
    "df = df.groupby('gene_id').count().reset_index()\n",
    "df.rename({'transcript_id': 'n_isos'}, axis=1, inplace=True)"
   ]
  },
  {
   "cell_type": "code",
   "execution_count": 24,
   "id": "063a1037-5ea8-4e50-9333-314e287079a1",
   "metadata": {},
   "outputs": [],
   "source": [
    "gene_df, _, _ = get_gtf_info(how='gene', ver='v40_cerberus', add_stable_gid=True)\n",
    "gene_df.head()\n",
    "df = df.merge(gene_df, how='left', left_on='gene_id', right_on='gid_stable')"
   ]
  },
  {
   "cell_type": "code",
   "execution_count": 26,
   "id": "09d8e3d9-d94c-4df6-bebb-40a63188afb9",
   "metadata": {},
   "outputs": [],
   "source": [
    "# only query PC genes\n",
    "df = df.loc[df.biotype=='protein_coding']"
   ]
  },
  {
   "cell_type": "code",
   "execution_count": 27,
   "id": "a2bdc23a-6f6b-46f7-95c4-c30a6bce3034",
   "metadata": {},
   "outputs": [
    {
     "data": {
      "text/html": [
       "<div>\n",
       "<style scoped>\n",
       "    .dataframe tbody tr th:only-of-type {\n",
       "        vertical-align: middle;\n",
       "    }\n",
       "\n",
       "    .dataframe tbody tr th {\n",
       "        vertical-align: top;\n",
       "    }\n",
       "\n",
       "    .dataframe thead th {\n",
       "        text-align: right;\n",
       "    }\n",
       "</style>\n",
       "<table border=\"1\" class=\"dataframe\">\n",
       "  <thead>\n",
       "    <tr style=\"text-align: right;\">\n",
       "      <th></th>\n",
       "      <th>gene_id</th>\n",
       "      <th>n_isos</th>\n",
       "      <th>gid</th>\n",
       "      <th>gname</th>\n",
       "      <th>length</th>\n",
       "      <th>biotype</th>\n",
       "      <th>biotype_category</th>\n",
       "      <th>tf</th>\n",
       "      <th>gid_stable</th>\n",
       "    </tr>\n",
       "  </thead>\n",
       "  <tbody>\n",
       "    <tr>\n",
       "      <th>0</th>\n",
       "      <td>ENSG00000000003</td>\n",
       "      <td>28</td>\n",
       "      <td>ENSG00000000003.15</td>\n",
       "      <td>TSPAN6</td>\n",
       "      <td>12984</td>\n",
       "      <td>protein_coding</td>\n",
       "      <td>protein_coding</td>\n",
       "      <td>False</td>\n",
       "      <td>ENSG00000000003</td>\n",
       "    </tr>\n",
       "    <tr>\n",
       "      <th>1</th>\n",
       "      <td>ENSG00000000005</td>\n",
       "      <td>1</td>\n",
       "      <td>ENSG00000000005.6</td>\n",
       "      <td>TNMD</td>\n",
       "      <td>15050</td>\n",
       "      <td>protein_coding</td>\n",
       "      <td>protein_coding</td>\n",
       "      <td>False</td>\n",
       "      <td>ENSG00000000005</td>\n",
       "    </tr>\n",
       "    <tr>\n",
       "      <th>2</th>\n",
       "      <td>ENSG00000000419</td>\n",
       "      <td>15</td>\n",
       "      <td>ENSG00000000419.14</td>\n",
       "      <td>DPM1</td>\n",
       "      <td>24374</td>\n",
       "      <td>protein_coding</td>\n",
       "      <td>protein_coding</td>\n",
       "      <td>False</td>\n",
       "      <td>ENSG00000000419</td>\n",
       "    </tr>\n",
       "    <tr>\n",
       "      <th>3</th>\n",
       "      <td>ENSG00000000457</td>\n",
       "      <td>7</td>\n",
       "      <td>ENSG00000000457.14</td>\n",
       "      <td>SCYL3</td>\n",
       "      <td>44737</td>\n",
       "      <td>protein_coding</td>\n",
       "      <td>protein_coding</td>\n",
       "      <td>False</td>\n",
       "      <td>ENSG00000000457</td>\n",
       "    </tr>\n",
       "    <tr>\n",
       "      <th>4</th>\n",
       "      <td>ENSG00000000460</td>\n",
       "      <td>15</td>\n",
       "      <td>ENSG00000000460.17</td>\n",
       "      <td>C1orf112</td>\n",
       "      <td>192174</td>\n",
       "      <td>protein_coding</td>\n",
       "      <td>protein_coding</td>\n",
       "      <td>False</td>\n",
       "      <td>ENSG00000000460</td>\n",
       "    </tr>\n",
       "  </tbody>\n",
       "</table>\n",
       "</div>"
      ],
      "text/plain": [
       "           gene_id  n_isos                 gid     gname  length  \\\n",
       "0  ENSG00000000003      28  ENSG00000000003.15    TSPAN6   12984   \n",
       "1  ENSG00000000005       1   ENSG00000000005.6      TNMD   15050   \n",
       "2  ENSG00000000419      15  ENSG00000000419.14      DPM1   24374   \n",
       "3  ENSG00000000457       7  ENSG00000000457.14     SCYL3   44737   \n",
       "4  ENSG00000000460      15  ENSG00000000460.17  C1orf112  192174   \n",
       "\n",
       "          biotype biotype_category     tf       gid_stable  \n",
       "0  protein_coding   protein_coding  False  ENSG00000000003  \n",
       "1  protein_coding   protein_coding  False  ENSG00000000005  \n",
       "2  protein_coding   protein_coding  False  ENSG00000000419  \n",
       "3  protein_coding   protein_coding  False  ENSG00000000457  \n",
       "4  protein_coding   protein_coding  False  ENSG00000000460  "
      ]
     },
     "execution_count": 27,
     "metadata": {},
     "output_type": "execute_result"
    }
   ],
   "source": [
    "df.head()"
   ]
  },
  {
   "cell_type": "code",
   "execution_count": 28,
   "id": "a3c72682-62cb-4616-bd30-61d207a5ddc3",
   "metadata": {},
   "outputs": [
    {
     "name": "stdout",
     "output_type": "stream",
     "text": [
      "89.82% of protein-coding genes (15740/17523) have >1 isoform detected\n"
     ]
    }
   ],
   "source": [
    "n_multiple = len(df.loc[df.n_isos>1].index)\n",
    "n = len(df.index)\n",
    "print('{:.2f}% of protein-coding genes ({}/{}) have >1 isoform detected'.format((n_multiple/n)*100,n_multiple,n))"
   ]
  },
  {
   "cell_type": "code",
   "execution_count": null,
   "id": "87eae3d1-ac6c-40b2-bfe7-282a77731a3c",
   "metadata": {},
   "outputs": [],
   "source": []
  }
 ],
 "metadata": {
  "kernelspec": {
   "display_name": "Python 3",
   "language": "python",
   "name": "python3"
  },
  "language_info": {
   "codemirror_mode": {
    "name": "ipython",
    "version": 3
   },
   "file_extension": ".py",
   "mimetype": "text/x-python",
   "name": "python",
   "nbconvert_exporter": "python",
   "pygments_lexer": "ipython3",
   "version": "3.7.4"
  }
 },
 "nbformat": 4,
 "nbformat_minor": 5
}
