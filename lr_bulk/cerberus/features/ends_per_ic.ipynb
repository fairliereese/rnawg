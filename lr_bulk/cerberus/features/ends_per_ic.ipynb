{
 "cells": [
  {
   "cell_type": "code",
   "execution_count": 1,
   "id": "b7bffcd6-33e1-4795-a2f5-1d1bd8585089",
   "metadata": {},
   "outputs": [],
   "source": [
    "import pandas as pd\n",
    "import pyranges as pr\n",
    "import upsetplot\n",
    "import seaborn as sns\n",
    "import matplotlib.pyplot as plt\n",
    "import os\n",
    "import sys\n",
    "\n",
    "p = os.path.dirname(os.path.dirname(os.path.dirname(os.getcwd())))\n",
    "sys.path.append(p)\n",
    "\n",
    "from scripts.utils import *\n",
    "from scripts.plotting import *"
   ]
  },
  {
   "cell_type": "code",
   "execution_count": 2,
   "id": "c6cdf470-47e1-44ed-8ed0-ad89f06c032b",
   "metadata": {},
   "outputs": [],
   "source": [
    "h5 = '../cerberus_annot.h5'\n",
    "filt_ab = '../cerberus_filtered_abundance.tsv'\n",
    "feat = 'tss'\n",
    "obs_source = 'lapa'\n",
    "ref_sources = ['v40', 'v29']\n",
    "support_sources = ['encode_cage',\n",
    "                   'fantom_cage',\n",
    "                   'encode_rampage']                   \n",
    "support_label = 'CAGE, RAMPAGE'\n",
    "ref = '../../../refs/cerberus/v40_transcript_metadata.tsv'"
   ]
  },
  {
   "cell_type": "code",
   "execution_count": 42,
   "id": "00e1f770-3965-4165-96f1-cd5d646fb1d0",
   "metadata": {},
   "outputs": [],
   "source": [
    "def plot_ends_per_ic(df, ca,\n",
    "                     feat,\n",
    "                     fname,\n",
    "                     rm_monoexonic=True):\n",
    "    \"\"\"\n",
    "    Plot a histogram of the # ends (tss or tes) per ic\n",
    "\n",
    "    Parameters: \n",
    "        df (pandas DataFrame): DF where index is transcript\n",
    "            id w/ triplet form\n",
    "        feat (str): {'tss', 'tes'}\n",
    "        fname (str): Output file name to save to\n",
    "        \n",
    "    Returns:\n",
    "        temp (pandas DataFrame): DF w/ # ends / ic\n",
    "    \"\"\"\n",
    "    \n",
    "    # plot settings\n",
    "    mpl.rcParams['font.family'] = 'Arial'\n",
    "    mpl.rcParams['pdf.fonttype'] = 42\n",
    "    sns.set_context('paper', font_scale=1.8)\n",
    "\n",
    "\n",
    "    temp = df.copy(deep=True)\n",
    "    feats = ['ic', feat]\n",
    "    for feat in feats:\n",
    "        temp = add_feat(temp, col='index', kind=feat)\n",
    "    \n",
    "    # keep only the relevant features and drop duplicated\n",
    "    # combinations\n",
    "    temp.reset_index(drop=True, inplace=True)\n",
    "    temp = temp[[feat, 'ic']].copy(deep=True)\n",
    "    temp.drop_duplicates(inplace=True)\n",
    "    \n",
    "    # groupby and count number of feature per ic\n",
    "    temp = temp.groupby('ic').nunique().reset_index()\n",
    "    \n",
    "    # merge with novelty info from h5\n",
    "    temp = temp.merge(ca.ic[['Name', 'Coordinates']],\n",
    "                      how='left', left_on='ic', right_on='Name')\n",
    "    \n",
    "    if rm_monoexonic:\n",
    "        temp = temp.loc[temp.Coordinates != '-']\n",
    "    temp.drop(['Name', 'Coordinates'], axis=1, inplace=True)\n",
    "    \n",
    "    # plotting\n",
    "    sns.set_context('paper', font_scale=1.8)    \n",
    "    c_dict, order = get_end_colors()\n",
    "    c = c_dict[feat]\n",
    "    ax = sns.displot(temp, x=feat, kind='hist',\n",
    "                     linewidth=0,\n",
    "                     color=c, \n",
    "                     discrete=True,\n",
    "                     alpha=1)\n",
    "\n",
    "    ylabel = '# ICs'\n",
    "    xlabel = '# {}s'.format(feat.upper())\n",
    "    ax.fig.get_axes()[0].set_yscale('log')\n",
    "\n",
    "    # _ = ax.set_yscale(\"log\")\n",
    "\n",
    "    _ = ax.set(xlabel=xlabel, ylabel=ylabel)\n",
    "    # plt.savefig(fname, dpi=300, bbox_inches='tight')\n",
    "    plt.savefig(fname, dpi=300)\n",
    "    \n",
    "    \n",
    "    return temp"
   ]
  },
  {
   "cell_type": "code",
   "execution_count": 27,
   "id": "9c26c48c-5df8-44c8-8479-996e8afffb0a",
   "metadata": {},
   "outputs": [],
   "source": [
    "ca = cerberus.read(h5)"
   ]
  },
  {
   "cell_type": "markdown",
   "id": "99af961d-891d-493f-bbcc-522dd00986ac",
   "metadata": {},
   "source": [
    "## For detected transcripts"
   ]
  },
  {
   "cell_type": "code",
   "execution_count": 43,
   "id": "67060eb0-b01d-4e0b-aa7c-a1bb81b6b0dd",
   "metadata": {},
   "outputs": [
    {
     "name": "stdout",
     "output_type": "stream",
     "text": [
      "Calculating iso TPM values\n",
      "Subsetting for polya genes\n"
     ]
    },
    {
     "name": "stderr",
     "output_type": "stream",
     "text": [
      "/Users/fairliereese/Documents/programming/mortazavi_lab/data/rnawg/scripts/utils.py:1789: PerformanceWarning: DataFrame is highly fragmented.  This is usually the result of calling `frame.insert` many times, which has poor performance.  Consider joining all columns at once using pd.concat(axis=1) instead.  To get a de-fragmented frame, use `newframe = frame.copy()`\n",
      "  df[tpm_col] = (df[d]*1000000)/df[total_col]\n",
      "/Users/fairliereese/Documents/programming/mortazavi_lab/data/rnawg/scripts/utils.py:1788: PerformanceWarning: DataFrame is highly fragmented.  This is usually the result of calling `frame.insert` many times, which has poor performance.  Consider joining all columns at once using pd.concat(axis=1) instead.  To get a de-fragmented frame, use `newframe = frame.copy()`\n",
      "  df[total_col] = df[d].sum()\n"
     ]
    },
    {
     "name": "stdout",
     "output_type": "stream",
     "text": [
      "Enforcing minimum TPM\n",
      "Total # isos detected: 234040\n",
      "# isos >= 1 tpm: 212911\n",
      "Applying gene type and novelty subset\n",
      "Number of isos reported: 209476\n"
     ]
    },
    {
     "data": {
      "image/png": "[encoded data removed]",
      "text/plain": [
       "<Figure size 360x360 with 1 Axes>"
      ]
     },
     "metadata": {
      "needs_background": "light"
     },
     "output_type": "display_data"
    }
   ],
   "source": [
    "# get detected transcripts\n",
    "df = pd.read_csv(filt_ab, sep='\\t')\n",
    "df, tids = get_tpm_table(df,\n",
    "               how='iso',\n",
    "               min_tpm=1,\n",
    "               gene_subset='polya',\n",
    "               h5=h5)\n",
    "feat = 'tss'\n",
    "fname = 'figures/tss_per_ic.pdf'\n",
    "\n",
    "temp = plot_ends_per_ic(df, ca, feat,\n",
    "                       fname,\n",
    "                       rm_monoexonic=True)"
   ]
  },
  {
   "cell_type": "code",
   "execution_count": 36,
   "id": "03427608-a814-43f0-b609-ae7b27a8472b",
   "metadata": {},
   "outputs": [
    {
     "name": "stdout",
     "output_type": "stream",
     "text": [
      "Calculating iso TPM values\n",
      "Subsetting for polya genes\n"
     ]
    },
    {
     "name": "stderr",
     "output_type": "stream",
     "text": [
      "/Users/fairliereese/Documents/programming/mortazavi_lab/data/rnawg/scripts/utils.py:1789: PerformanceWarning: DataFrame is highly fragmented.  This is usually the result of calling `frame.insert` many times, which has poor performance.  Consider joining all columns at once using pd.concat(axis=1) instead.  To get a de-fragmented frame, use `newframe = frame.copy()`\n",
      "  df[tpm_col] = (df[d]*1000000)/df[total_col]\n",
      "/Users/fairliereese/Documents/programming/mortazavi_lab/data/rnawg/scripts/utils.py:1788: PerformanceWarning: DataFrame is highly fragmented.  This is usually the result of calling `frame.insert` many times, which has poor performance.  Consider joining all columns at once using pd.concat(axis=1) instead.  To get a de-fragmented frame, use `newframe = frame.copy()`\n",
      "  df[total_col] = df[d].sum()\n"
     ]
    },
    {
     "name": "stdout",
     "output_type": "stream",
     "text": [
      "Enforcing minimum TPM\n",
      "Total # isos detected: 234040\n",
      "# isos >= 1 tpm: 212911\n",
      "Applying gene type and novelty subset\n",
      "Number of isos reported: 209476\n"
     ]
    },
    {
     "data": {
      "image/png": "[encoded data removed]",
      "text/plain": [
       "<Figure size 360x360 with 1 Axes>"
      ]
     },
     "metadata": {
      "needs_background": "light"
     },
     "output_type": "display_data"
    }
   ],
   "source": [
    "# get detected transcripts\n",
    "df = pd.read_csv(filt_ab, sep='\\t')\n",
    "df, tids = get_tpm_table(df,\n",
    "               how='iso',\n",
    "               min_tpm=1,\n",
    "               gene_subset='polya',\n",
    "               h5=h5)\n",
    "feat = 'tes'\n",
    "fname = 'figures/tes_per_ic.pdf'\n",
    "\n",
    "temp = plot_ends_per_ic(df, ca, feat,\n",
    "                       fname,\n",
    "                       rm_monoexonic=True)"
   ]
  },
  {
   "cell_type": "markdown",
   "id": "cf591be6-c3cf-4a4f-a48a-b4c85392773c",
   "metadata": {},
   "source": [
    "## For gencode transcripts (polya)"
   ]
  },
  {
   "cell_type": "code",
   "execution_count": 37,
   "id": "222af8cf-f350-4fad-bbde-1f6566be8307",
   "metadata": {},
   "outputs": [
    {
     "name": "stdout",
     "output_type": "stream",
     "text": [
      "['protein_coding' 'pseudogene' 'lncRNA']\n"
     ]
    }
   ],
   "source": [
    "df = pd.read_csv(ref, sep='\\t')\n",
    "\n",
    "# only polya\n",
    "polya_cats = ['protein_coding', 'lncRNA', 'pseudogene']\n",
    "df = df.loc[df.biotype_category.isin(polya_cats)]\n",
    "\n",
    "print(df.biotype_category.unique())\n",
    "\n",
    "df.set_index('tid', inplace=True)"
   ]
  },
  {
   "cell_type": "code",
   "execution_count": 38,
   "id": "d5a5f335-fac9-4bc1-8ac6-d32c0cb039e6",
   "metadata": {},
   "outputs": [
    {
     "data": {
      "image/png": "[encoded data removed]",
      "text/plain": [
       "<Figure size 360x360 with 1 Axes>"
      ]
     },
     "metadata": {
      "needs_background": "light"
     },
     "output_type": "display_data"
    }
   ],
   "source": [
    "feat = 'tss'\n",
    "fname = 'figures/v40_tss_per_ic.pdf'\n",
    "\n",
    "temp = plot_ends_per_ic(df, ca, feat,\n",
    "                       fname,\n",
    "                       rm_monoexonic=True)"
   ]
  },
  {
   "cell_type": "code",
   "execution_count": 39,
   "id": "7ffd527a-0b8a-4188-84d3-afcafc36721b",
   "metadata": {},
   "outputs": [
    {
     "data": {
      "text/html": [
       "<div>\n",
       "<style scoped>\n",
       "    .dataframe tbody tr th:only-of-type {\n",
       "        vertical-align: middle;\n",
       "    }\n",
       "\n",
       "    .dataframe tbody tr th {\n",
       "        vertical-align: top;\n",
       "    }\n",
       "\n",
       "    .dataframe thead th {\n",
       "        text-align: right;\n",
       "    }\n",
       "</style>\n",
       "<table border=\"1\" class=\"dataframe\">\n",
       "  <thead>\n",
       "    <tr style=\"text-align: right;\">\n",
       "      <th></th>\n",
       "      <th>ic</th>\n",
       "      <th>tss</th>\n",
       "    </tr>\n",
       "  </thead>\n",
       "  <tbody>\n",
       "    <tr>\n",
       "      <th>55960</th>\n",
       "      <td>ENSG00000122644_1</td>\n",
       "      <td>3</td>\n",
       "    </tr>\n",
       "    <tr>\n",
       "      <th>60265</th>\n",
       "      <td>ENSG00000126453_1</td>\n",
       "      <td>3</td>\n",
       "    </tr>\n",
       "    <tr>\n",
       "      <th>79062</th>\n",
       "      <td>ENSG00000138835_11</td>\n",
       "      <td>3</td>\n",
       "    </tr>\n",
       "    <tr>\n",
       "      <th>89164</th>\n",
       "      <td>ENSG00000146112_1</td>\n",
       "      <td>3</td>\n",
       "    </tr>\n",
       "    <tr>\n",
       "      <th>96119</th>\n",
       "      <td>ENSG00000152795_1</td>\n",
       "      <td>3</td>\n",
       "    </tr>\n",
       "    <tr>\n",
       "      <th>129319</th>\n",
       "      <td>ENSG00000174227_22</td>\n",
       "      <td>3</td>\n",
       "    </tr>\n",
       "    <tr>\n",
       "      <th>131311</th>\n",
       "      <td>ENSG00000175611_4</td>\n",
       "      <td>3</td>\n",
       "    </tr>\n",
       "    <tr>\n",
       "      <th>160601</th>\n",
       "      <td>ENSG00000205853_1</td>\n",
       "      <td>3</td>\n",
       "    </tr>\n",
       "    <tr>\n",
       "      <th>175843</th>\n",
       "      <td>ENSG00000229116_1</td>\n",
       "      <td>3</td>\n",
       "    </tr>\n",
       "    <tr>\n",
       "      <th>181780</th>\n",
       "      <td>ENSG00000232931_1</td>\n",
       "      <td>3</td>\n",
       "    </tr>\n",
       "    <tr>\n",
       "      <th>195627</th>\n",
       "      <td>ENSG00000245146_5</td>\n",
       "      <td>3</td>\n",
       "    </tr>\n",
       "    <tr>\n",
       "      <th>202834</th>\n",
       "      <td>ENSG00000253230_6</td>\n",
       "      <td>3</td>\n",
       "    </tr>\n",
       "    <tr>\n",
       "      <th>204150</th>\n",
       "      <td>ENSG00000253955_1</td>\n",
       "      <td>3</td>\n",
       "    </tr>\n",
       "    <tr>\n",
       "      <th>215816</th>\n",
       "      <td>ENSG00000263677_2</td>\n",
       "      <td>3</td>\n",
       "    </tr>\n",
       "    <tr>\n",
       "      <th>216955</th>\n",
       "      <td>ENSG00000266256_5</td>\n",
       "      <td>3</td>\n",
       "    </tr>\n",
       "    <tr>\n",
       "      <th>218194</th>\n",
       "      <td>ENSG00000267348_1</td>\n",
       "      <td>3</td>\n",
       "    </tr>\n",
       "    <tr>\n",
       "      <th>223547</th>\n",
       "      <td>ENSG00000274461_9</td>\n",
       "      <td>3</td>\n",
       "    </tr>\n",
       "    <tr>\n",
       "      <th>228919</th>\n",
       "      <td>ENSG00000285756_3</td>\n",
       "      <td>3</td>\n",
       "    </tr>\n",
       "  </tbody>\n",
       "</table>\n",
       "</div>"
      ],
      "text/plain": [
       "                        ic  tss\n",
       "55960    ENSG00000122644_1    3\n",
       "60265    ENSG00000126453_1    3\n",
       "79062   ENSG00000138835_11    3\n",
       "89164    ENSG00000146112_1    3\n",
       "96119    ENSG00000152795_1    3\n",
       "129319  ENSG00000174227_22    3\n",
       "131311   ENSG00000175611_4    3\n",
       "160601   ENSG00000205853_1    3\n",
       "175843   ENSG00000229116_1    3\n",
       "181780   ENSG00000232931_1    3\n",
       "195627   ENSG00000245146_5    3\n",
       "202834   ENSG00000253230_6    3\n",
       "204150   ENSG00000253955_1    3\n",
       "215816   ENSG00000263677_2    3\n",
       "216955   ENSG00000266256_5    3\n",
       "218194   ENSG00000267348_1    3\n",
       "223547   ENSG00000274461_9    3\n",
       "228919   ENSG00000285756_3    3"
      ]
     },
     "execution_count": 39,
     "metadata": {},
     "output_type": "execute_result"
    }
   ],
   "source": [
    "temp.loc[temp[feat] == temp[feat].max()]\n",
    "# temp.loc[temp[feat] == 5]\n",
    "# temp.loc[temp[feat] == 4]"
   ]
  },
  {
   "cell_type": "code",
   "execution_count": 40,
   "id": "02a4ce66-2bfd-47b0-918a-eff872f39404",
   "metadata": {},
   "outputs": [
    {
     "data": {
      "image/png": "[encoded data removed]",
      "text/plain": [
       "<Figure size 360x360 with 1 Axes>"
      ]
     },
     "metadata": {
      "needs_background": "light"
     },
     "output_type": "display_data"
    }
   ],
   "source": [
    "feat = 'tes'\n",
    "fname = 'figures/v40_tes_per_ic.pdf'\n",
    "\n",
    "temp = plot_ends_per_ic(df, ca, feat,\n",
    "                       fname,\n",
    "                       rm_monoexonic=True)"
   ]
  },
  {
   "cell_type": "code",
   "execution_count": 41,
   "id": "c074c89e-bdbd-4e85-ac18-39fcec46ef67",
   "metadata": {},
   "outputs": [
    {
     "data": {
      "text/html": [
       "<div>\n",
       "<style scoped>\n",
       "    .dataframe tbody tr th:only-of-type {\n",
       "        vertical-align: middle;\n",
       "    }\n",
       "\n",
       "    .dataframe tbody tr th {\n",
       "        vertical-align: top;\n",
       "    }\n",
       "\n",
       "    .dataframe thead th {\n",
       "        text-align: right;\n",
       "    }\n",
       "</style>\n",
       "<table border=\"1\" class=\"dataframe\">\n",
       "  <thead>\n",
       "    <tr style=\"text-align: right;\">\n",
       "      <th></th>\n",
       "      <th>ic</th>\n",
       "      <th>tes</th>\n",
       "    </tr>\n",
       "  </thead>\n",
       "  <tbody>\n",
       "    <tr>\n",
       "      <th>10023</th>\n",
       "      <td>ENSG00000063978_5</td>\n",
       "      <td>3</td>\n",
       "    </tr>\n",
       "    <tr>\n",
       "      <th>24507</th>\n",
       "      <td>ENSG00000099622_1</td>\n",
       "      <td>3</td>\n",
       "    </tr>\n",
       "    <tr>\n",
       "      <th>80348</th>\n",
       "      <td>ENSG00000140044_1</td>\n",
       "      <td>3</td>\n",
       "    </tr>\n",
       "    <tr>\n",
       "      <th>85960</th>\n",
       "      <td>ENSG00000143761_2</td>\n",
       "      <td>3</td>\n",
       "    </tr>\n",
       "    <tr>\n",
       "      <th>87498</th>\n",
       "      <td>ENSG00000144810_1</td>\n",
       "      <td>3</td>\n",
       "    </tr>\n",
       "    <tr>\n",
       "      <th>131311</th>\n",
       "      <td>ENSG00000175611_4</td>\n",
       "      <td>3</td>\n",
       "    </tr>\n",
       "    <tr>\n",
       "      <th>133155</th>\n",
       "      <td>ENSG00000177302_1</td>\n",
       "      <td>3</td>\n",
       "    </tr>\n",
       "    <tr>\n",
       "      <th>133266</th>\n",
       "      <td>ENSG00000177374_1</td>\n",
       "      <td>3</td>\n",
       "    </tr>\n",
       "    <tr>\n",
       "      <th>140209</th>\n",
       "      <td>ENSG00000183150_1</td>\n",
       "      <td>3</td>\n",
       "    </tr>\n",
       "    <tr>\n",
       "      <th>153032</th>\n",
       "      <td>ENSG00000197471_1</td>\n",
       "      <td>3</td>\n",
       "    </tr>\n",
       "    <tr>\n",
       "      <th>167601</th>\n",
       "      <td>ENSG00000224281_4</td>\n",
       "      <td>3</td>\n",
       "    </tr>\n",
       "    <tr>\n",
       "      <th>169074</th>\n",
       "      <td>ENSG00000225265_2</td>\n",
       "      <td>3</td>\n",
       "    </tr>\n",
       "    <tr>\n",
       "      <th>169813</th>\n",
       "      <td>ENSG00000225706_1</td>\n",
       "      <td>3</td>\n",
       "    </tr>\n",
       "    <tr>\n",
       "      <th>170477</th>\n",
       "      <td>ENSG00000226087_1</td>\n",
       "      <td>3</td>\n",
       "    </tr>\n",
       "    <tr>\n",
       "      <th>174666</th>\n",
       "      <td>ENSG00000228412_5</td>\n",
       "      <td>3</td>\n",
       "    </tr>\n",
       "    <tr>\n",
       "      <th>175682</th>\n",
       "      <td>ENSG00000228971_1</td>\n",
       "      <td>3</td>\n",
       "    </tr>\n",
       "    <tr>\n",
       "      <th>178023</th>\n",
       "      <td>ENSG00000230530_1</td>\n",
       "      <td>3</td>\n",
       "    </tr>\n",
       "    <tr>\n",
       "      <th>182848</th>\n",
       "      <td>ENSG00000233593_3</td>\n",
       "      <td>3</td>\n",
       "    </tr>\n",
       "    <tr>\n",
       "      <th>188407</th>\n",
       "      <td>ENSG00000237036_3</td>\n",
       "      <td>3</td>\n",
       "    </tr>\n",
       "    <tr>\n",
       "      <th>190003</th>\n",
       "      <td>ENSG00000237943_6</td>\n",
       "      <td>3</td>\n",
       "    </tr>\n",
       "    <tr>\n",
       "      <th>196170</th>\n",
       "      <td>ENSG00000246067_4</td>\n",
       "      <td>3</td>\n",
       "    </tr>\n",
       "    <tr>\n",
       "      <th>196210</th>\n",
       "      <td>ENSG00000246100_1</td>\n",
       "      <td>3</td>\n",
       "    </tr>\n",
       "    <tr>\n",
       "      <th>196628</th>\n",
       "      <td>ENSG00000247516_2</td>\n",
       "      <td>3</td>\n",
       "    </tr>\n",
       "    <tr>\n",
       "      <th>196886</th>\n",
       "      <td>ENSG00000248008_1</td>\n",
       "      <td>3</td>\n",
       "    </tr>\n",
       "    <tr>\n",
       "      <th>202665</th>\n",
       "      <td>ENSG00000253123_1</td>\n",
       "      <td>3</td>\n",
       "    </tr>\n",
       "    <tr>\n",
       "      <th>208690</th>\n",
       "      <td>ENSG00000257698_1</td>\n",
       "      <td>3</td>\n",
       "    </tr>\n",
       "    <tr>\n",
       "      <th>211458</th>\n",
       "      <td>ENSG00000259426_3</td>\n",
       "      <td>3</td>\n",
       "    </tr>\n",
       "    <tr>\n",
       "      <th>216081</th>\n",
       "      <td>ENSG00000264247_1</td>\n",
       "      <td>3</td>\n",
       "    </tr>\n",
       "    <tr>\n",
       "      <th>216084</th>\n",
       "      <td>ENSG00000264247_4</td>\n",
       "      <td>3</td>\n",
       "    </tr>\n",
       "    <tr>\n",
       "      <th>219425</th>\n",
       "      <td>ENSG00000268555_1</td>\n",
       "      <td>3</td>\n",
       "    </tr>\n",
       "    <tr>\n",
       "      <th>222184</th>\n",
       "      <td>ENSG00000272462_2</td>\n",
       "      <td>3</td>\n",
       "    </tr>\n",
       "    <tr>\n",
       "      <th>222517</th>\n",
       "      <td>ENSG00000272870_2</td>\n",
       "      <td>3</td>\n",
       "    </tr>\n",
       "    <tr>\n",
       "      <th>228919</th>\n",
       "      <td>ENSG00000285756_3</td>\n",
       "      <td>3</td>\n",
       "    </tr>\n",
       "  </tbody>\n",
       "</table>\n",
       "</div>"
      ],
      "text/plain": [
       "                       ic  tes\n",
       "10023   ENSG00000063978_5    3\n",
       "24507   ENSG00000099622_1    3\n",
       "80348   ENSG00000140044_1    3\n",
       "85960   ENSG00000143761_2    3\n",
       "87498   ENSG00000144810_1    3\n",
       "131311  ENSG00000175611_4    3\n",
       "133155  ENSG00000177302_1    3\n",
       "133266  ENSG00000177374_1    3\n",
       "140209  ENSG00000183150_1    3\n",
       "153032  ENSG00000197471_1    3\n",
       "167601  ENSG00000224281_4    3\n",
       "169074  ENSG00000225265_2    3\n",
       "169813  ENSG00000225706_1    3\n",
       "170477  ENSG00000226087_1    3\n",
       "174666  ENSG00000228412_5    3\n",
       "175682  ENSG00000228971_1    3\n",
       "178023  ENSG00000230530_1    3\n",
       "182848  ENSG00000233593_3    3\n",
       "188407  ENSG00000237036_3    3\n",
       "190003  ENSG00000237943_6    3\n",
       "196170  ENSG00000246067_4    3\n",
       "196210  ENSG00000246100_1    3\n",
       "196628  ENSG00000247516_2    3\n",
       "196886  ENSG00000248008_1    3\n",
       "202665  ENSG00000253123_1    3\n",
       "208690  ENSG00000257698_1    3\n",
       "211458  ENSG00000259426_3    3\n",
       "216081  ENSG00000264247_1    3\n",
       "216084  ENSG00000264247_4    3\n",
       "219425  ENSG00000268555_1    3\n",
       "222184  ENSG00000272462_2    3\n",
       "222517  ENSG00000272870_2    3\n",
       "228919  ENSG00000285756_3    3"
      ]
     },
     "execution_count": 41,
     "metadata": {},
     "output_type": "execute_result"
    }
   ],
   "source": [
    "temp.loc[temp[feat] == temp[feat].max()]\n",
    "# temp.loc[temp[feat] == 5]\n",
    "# temp.loc[temp[feat] == 4]"
   ]
  },
  {
   "cell_type": "code",
   "execution_count": null,
   "id": "8aec75a8-707d-4fca-a543-c6d5833ca6bf",
   "metadata": {},
   "outputs": [],
   "source": []
  },
  {
   "cell_type": "code",
   "execution_count": null,
   "id": "4cb96305-526a-4573-ab5b-8a1a82ad15de",
   "metadata": {},
   "outputs": [
    {
     "ename": "FileNotFoundError",
     "evalue": "File cerberus_annot_triplets.h5 does not exist",
     "output_type": "error",
     "traceback": [
      "\u001b[0;31m---------------------------------------------------------------------------\u001b[0m",
      "\u001b[0;31mFileNotFoundError\u001b[0m                         Traceback (most recent call last)",
      "\u001b[0;32m<ipython-input-25-649a9ef1d162>\u001b[0m in \u001b[0;36m<module>\u001b[0;34m\u001b[0m\n\u001b[1;32m      2\u001b[0m \u001b[0;31m# oh they're all monoexonic\u001b[0m\u001b[0;34m\u001b[0m\u001b[0;34m\u001b[0m\u001b[0;34m\u001b[0m\u001b[0m\n\u001b[1;32m      3\u001b[0m \u001b[0;34m\u001b[0m\u001b[0m\n\u001b[0;32m----> 4\u001b[0;31m \u001b[0mca\u001b[0m \u001b[0;34m=\u001b[0m \u001b[0mcerberus\u001b[0m\u001b[0;34m.\u001b[0m\u001b[0mread\u001b[0m\u001b[0;34m(\u001b[0m\u001b[0;34m'cerberus_annot_triplets.h5'\u001b[0m\u001b[0;34m)\u001b[0m\u001b[0;34m\u001b[0m\u001b[0;34m\u001b[0m\u001b[0m\n\u001b[0m\u001b[1;32m      5\u001b[0m \u001b[0mdf\u001b[0m \u001b[0;34m=\u001b[0m \u001b[0mca\u001b[0m\u001b[0;34m.\u001b[0m\u001b[0mtriplets\u001b[0m\u001b[0;34m.\u001b[0m\u001b[0mcopy\u001b[0m\u001b[0;34m(\u001b[0m\u001b[0mdeep\u001b[0m\u001b[0;34m=\u001b[0m\u001b[0;32mTrue\u001b[0m\u001b[0;34m)\u001b[0m\u001b[0;34m\u001b[0m\u001b[0;34m\u001b[0m\u001b[0m\n\u001b[1;32m      6\u001b[0m \u001b[0mdf\u001b[0m \u001b[0;34m=\u001b[0m \u001b[0mdf\u001b[0m\u001b[0;34m.\u001b[0m\u001b[0mloc\u001b[0m\u001b[0;34m[\u001b[0m\u001b[0mdf\u001b[0m\u001b[0;34m.\u001b[0m\u001b[0msource\u001b[0m\u001b[0;34m.\u001b[0m\u001b[0misin\u001b[0m\u001b[0;34m(\u001b[0m\u001b[0;34m[\u001b[0m\u001b[0;34m'obs_det'\u001b[0m\u001b[0;34m,\u001b[0m \u001b[0;34m'v40'\u001b[0m\u001b[0;34m]\u001b[0m\u001b[0;34m)\u001b[0m\u001b[0;34m]\u001b[0m\u001b[0;34m\u001b[0m\u001b[0;34m\u001b[0m\u001b[0m\n",
      "\u001b[0;32m~/Documents/programming/mortazavi_lab/bin/cerberus/cerberus/cerberusannotation.py\u001b[0m in \u001b[0;36mread\u001b[0;34m(h5)\u001b[0m\n\u001b[1;32m   1017\u001b[0m \u001b[0;32mdef\u001b[0m \u001b[0mread\u001b[0m\u001b[0;34m(\u001b[0m\u001b[0mh5\u001b[0m\u001b[0;34m)\u001b[0m\u001b[0;34m:\u001b[0m\u001b[0;34m\u001b[0m\u001b[0;34m\u001b[0m\u001b[0m\n\u001b[1;32m   1018\u001b[0m     \u001b[0mca\u001b[0m \u001b[0;34m=\u001b[0m \u001b[0mCerberusAnnotation\u001b[0m\u001b[0;34m(\u001b[0m\u001b[0;34m)\u001b[0m\u001b[0;34m\u001b[0m\u001b[0;34m\u001b[0m\u001b[0m\n\u001b[0;32m-> 1019\u001b[0;31m     \u001b[0mic\u001b[0m\u001b[0;34m,\u001b[0m \u001b[0mtss\u001b[0m\u001b[0;34m,\u001b[0m \u001b[0mtes\u001b[0m\u001b[0;34m,\u001b[0m \u001b[0mtss_map\u001b[0m\u001b[0;34m,\u001b[0m \u001b[0mtes_map\u001b[0m\u001b[0;34m,\u001b[0m \u001b[0mm\u001b[0m\u001b[0;34m,\u001b[0m \u001b[0mtriplets\u001b[0m \u001b[0;34m=\u001b[0m \u001b[0mread_h5\u001b[0m\u001b[0;34m(\u001b[0m\u001b[0mh5\u001b[0m\u001b[0;34m,\u001b[0m \u001b[0mas_pyranges\u001b[0m\u001b[0;34m=\u001b[0m\u001b[0;32mFalse\u001b[0m\u001b[0;34m)\u001b[0m\u001b[0;34m\u001b[0m\u001b[0;34m\u001b[0m\u001b[0m\n\u001b[0m\u001b[1;32m   1020\u001b[0m     \u001b[0mca\u001b[0m\u001b[0;34m.\u001b[0m\u001b[0mset_tss\u001b[0m\u001b[0;34m(\u001b[0m\u001b[0mtss\u001b[0m\u001b[0;34m)\u001b[0m\u001b[0;34m\u001b[0m\u001b[0;34m\u001b[0m\u001b[0m\n\u001b[1;32m   1021\u001b[0m     \u001b[0mca\u001b[0m\u001b[0;34m.\u001b[0m\u001b[0mset_tes\u001b[0m\u001b[0;34m(\u001b[0m\u001b[0mtes\u001b[0m\u001b[0;34m)\u001b[0m\u001b[0;34m\u001b[0m\u001b[0;34m\u001b[0m\u001b[0m\n",
      "\u001b[0;32m~/Documents/programming/mortazavi_lab/bin/cerberus/cerberus/cerberus.py\u001b[0m in \u001b[0;36mread_h5\u001b[0;34m(h5, as_pyranges)\u001b[0m\n\u001b[1;32m   1354\u001b[0m     \"\"\"\n\u001b[1;32m   1355\u001b[0m \u001b[0;34m\u001b[0m\u001b[0m\n\u001b[0;32m-> 1356\u001b[0;31m     \u001b[0mic\u001b[0m \u001b[0;34m=\u001b[0m \u001b[0mpd\u001b[0m\u001b[0;34m.\u001b[0m\u001b[0mread_hdf\u001b[0m\u001b[0;34m(\u001b[0m\u001b[0mh5\u001b[0m\u001b[0;34m,\u001b[0m \u001b[0mkey\u001b[0m\u001b[0;34m=\u001b[0m\u001b[0;34m'ic'\u001b[0m\u001b[0;34m)\u001b[0m\u001b[0;34m\u001b[0m\u001b[0;34m\u001b[0m\u001b[0m\n\u001b[0m\u001b[1;32m   1357\u001b[0m     \u001b[0mtss\u001b[0m \u001b[0;34m=\u001b[0m \u001b[0mpd\u001b[0m\u001b[0;34m.\u001b[0m\u001b[0mread_hdf\u001b[0m\u001b[0;34m(\u001b[0m\u001b[0mh5\u001b[0m\u001b[0;34m,\u001b[0m \u001b[0mkey\u001b[0m\u001b[0;34m=\u001b[0m\u001b[0;34m'tss'\u001b[0m\u001b[0;34m)\u001b[0m\u001b[0;34m\u001b[0m\u001b[0;34m\u001b[0m\u001b[0m\n\u001b[1;32m   1358\u001b[0m     \u001b[0mtes\u001b[0m \u001b[0;34m=\u001b[0m \u001b[0mpd\u001b[0m\u001b[0;34m.\u001b[0m\u001b[0mread_hdf\u001b[0m\u001b[0;34m(\u001b[0m\u001b[0mh5\u001b[0m\u001b[0;34m,\u001b[0m \u001b[0mkey\u001b[0m\u001b[0;34m=\u001b[0m\u001b[0;34m'tes'\u001b[0m\u001b[0;34m)\u001b[0m\u001b[0;34m\u001b[0m\u001b[0;34m\u001b[0m\u001b[0m\n",
      "\u001b[0;32m~/miniconda3/lib/python3.7/site-packages/pandas/io/pytables.py\u001b[0m in \u001b[0;36mread_hdf\u001b[0;34m(path_or_buf, key, mode, errors, where, start, stop, columns, iterator, chunksize, **kwargs)\u001b[0m\n\u001b[1;32m    425\u001b[0m \u001b[0;34m\u001b[0m\u001b[0m\n\u001b[1;32m    426\u001b[0m         \u001b[0;32mif\u001b[0m \u001b[0;32mnot\u001b[0m \u001b[0mexists\u001b[0m\u001b[0;34m:\u001b[0m\u001b[0;34m\u001b[0m\u001b[0;34m\u001b[0m\u001b[0m\n\u001b[0;32m--> 427\u001b[0;31m             \u001b[0;32mraise\u001b[0m \u001b[0mFileNotFoundError\u001b[0m\u001b[0;34m(\u001b[0m\u001b[0;34mf\"File {path_or_buf} does not exist\"\u001b[0m\u001b[0;34m)\u001b[0m\u001b[0;34m\u001b[0m\u001b[0;34m\u001b[0m\u001b[0m\n\u001b[0m\u001b[1;32m    428\u001b[0m \u001b[0;34m\u001b[0m\u001b[0m\n\u001b[1;32m    429\u001b[0m         \u001b[0mstore\u001b[0m \u001b[0;34m=\u001b[0m \u001b[0mHDFStore\u001b[0m\u001b[0;34m(\u001b[0m\u001b[0mpath_or_buf\u001b[0m\u001b[0;34m,\u001b[0m \u001b[0mmode\u001b[0m\u001b[0;34m=\u001b[0m\u001b[0mmode\u001b[0m\u001b[0;34m,\u001b[0m \u001b[0merrors\u001b[0m\u001b[0;34m=\u001b[0m\u001b[0merrors\u001b[0m\u001b[0;34m,\u001b[0m \u001b[0;34m**\u001b[0m\u001b[0mkwargs\u001b[0m\u001b[0;34m)\u001b[0m\u001b[0;34m\u001b[0m\u001b[0;34m\u001b[0m\u001b[0m\n",
      "\u001b[0;31mFileNotFoundError\u001b[0m: File cerberus_annot_triplets.h5 does not exist"
     ]
    }
   ],
   "source": [
    "# yo what is going on w/ cacna1a\n",
    "# oh they're all monoexonic\n",
    "\n",
    "ca = cerberus.read('cerberus_annot_triplets.h5')\n",
    "df = ca.triplets.copy(deep=True)\n",
    "df = df.loc[df.source.isin(['obs_det', 'v40'])]\n"
   ]
  },
  {
   "cell_type": "code",
   "execution_count": null,
   "id": "50472393-52c1-478b-9fc5-f27dc371c4a1",
   "metadata": {},
   "outputs": [],
   "source": [
    "df.loc[df.gid == 'ENSG00000141837']"
   ]
  },
  {
   "cell_type": "code",
   "execution_count": null,
   "id": "fbb8d9d5-5523-4c71-8dec-66169f82aa87",
   "metadata": {},
   "outputs": [],
   "source": [
    "ca.ic.loc[ca.ic.Name == 'ENSG00000141837_17']"
   ]
  },
  {
   "cell_type": "code",
   "execution_count": null,
   "id": "cb32efba-160b-47b6-9226-7e6a06ef91c7",
   "metadata": {},
   "outputs": [],
   "source": [
    "ca.ic.novelty.unique()"
   ]
  },
  {
   "cell_type": "code",
   "execution_count": null,
   "id": "0557555e-2df4-46b6-b479-4e7b31db0566",
   "metadata": {},
   "outputs": [],
   "source": []
  },
  {
   "cell_type": "code",
   "execution_count": null,
   "id": "e85a7c4a-b051-4109-b175-747501b231c2",
   "metadata": {},
   "outputs": [],
   "source": []
  }
 ],
 "metadata": {
  "kernelspec": {
   "display_name": "Python 3",
   "language": "python",
   "name": "python3"
  },
  "language_info": {
   "codemirror_mode": {
    "name": "ipython",
    "version": 3
   },
   "file_extension": ".py",
   "mimetype": "text/x-python",
   "name": "python",
   "nbconvert_exporter": "python",
   "pygments_lexer": "ipython3",
   "version": "3.7.4"
  }
 },
 "nbformat": 4,
 "nbformat_minor": 5
}
