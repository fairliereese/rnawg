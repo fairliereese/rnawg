{
 "cells": [
  {
   "cell_type": "code",
   "execution_count": null,
   "id": "b7bffcd6-33e1-4795-a2f5-1d1bd8585089",
   "metadata": {},
   "outputs": [],
   "source": [
    "import pandas as pd\n",
    "import pyranges as pr\n",
    "import upsetplot\n",
    "import seaborn as sns\n",
    "import matplotlib.pyplot as plt\n",
    "import os\n",
    "import sys\n",
    "from matplotlib.ticker import FormatStrFormatter\n",
    "\n",
    "\n",
    "p = os.path.dirname(os.path.dirname(os.path.dirname(os.getcwd())))\n",
    "sys.path.append(p)\n",
    "\n",
    "from scripts.utils import *\n",
    "from scripts.plotting import *"
   ]
  },
  {
   "cell_type": "code",
   "execution_count": 2,
   "id": "c6cdf470-47e1-44ed-8ed0-ad89f06c032b",
   "metadata": {},
   "outputs": [],
   "source": [
    "h5 = '../cerberus_annot.h5'\n",
    "filt_ab = '../cerberus_filtered_abundance.tsv'\n",
    "feat = 'tss'\n",
    "obs_source = 'lapa'\n",
    "ref_sources = ['v40', 'v29']\n",
    "support_sources = ['encode_cage',\n",
    "                   'fantom_cage',\n",
    "                   'encode_rampage']                   \n",
    "support_label = 'CAGE, RAMPAGE'\n",
    "ref = '../../../refs/cerberus/v40_transcript_metadata.tsv'"
   ]
  },
  {
   "cell_type": "code",
   "execution_count": 19,
   "id": "00e1f770-3965-4165-96f1-cd5d646fb1d0",
   "metadata": {},
   "outputs": [],
   "source": [
    "def plot_ends_per_ic(df, ca,\n",
    "                     feat,\n",
    "                     fname,\n",
    "                     rm_monoexonic=True):\n",
    "    \"\"\"\n",
    "    Plot a histogram of the # ends (tss or tes) per ic\n",
    "\n",
    "    Parameters: \n",
    "        df (pandas DataFrame): DF where index is transcript\n",
    "            id w/ triplet form\n",
    "        feat (str): {'tss', 'tes'}\n",
    "        fname (str): Output file name to save to\n",
    "        \n",
    "    Returns:\n",
    "        temp (pandas DataFrame): DF w/ # ends / ic\n",
    "    \"\"\"\n",
    "    \n",
    "    # plot settings\n",
    "    mpl.rcParams['font.family'] = 'Arial'\n",
    "    mpl.rcParams['pdf.fonttype'] = 42\n",
    "    sns.set_context('paper', font_scale=1.8)\n",
    "\n",
    "\n",
    "    temp = df.copy(deep=True)\n",
    "    feats = ['ic', feat]\n",
    "    for feat in feats:\n",
    "        temp = add_feat(temp, col='index', kind=feat)\n",
    "    \n",
    "    # keep only the relevant features and drop duplicated\n",
    "    # combinations\n",
    "    temp.reset_index(drop=True, inplace=True)\n",
    "    temp = temp[[feat, 'ic']].copy(deep=True)\n",
    "    temp.drop_duplicates(inplace=True)\n",
    "    \n",
    "    # groupby and count number of feature per ic\n",
    "    temp = temp.groupby('ic').nunique().reset_index()\n",
    "    \n",
    "    # merge with novelty info from h5\n",
    "    temp = temp.merge(ca.ic[['Name', 'Coordinates']],\n",
    "                      how='left', left_on='ic', right_on='Name')\n",
    "    \n",
    "    if rm_monoexonic:\n",
    "        temp = temp.loc[temp.Coordinates != '-']\n",
    "    temp.drop(['Name', 'Coordinates'], axis=1, inplace=True)\n",
    "    \n",
    "    # plotting\n",
    "    sns.set_context('paper', font_scale=1.8)    \n",
    "    c_dict, order = get_end_colors()\n",
    "    c = c_dict[feat]\n",
    "    # ax = sns.displot(temp, x=feat, kind='hist',\n",
    "    #                  linewidth=0,\n",
    "    #                  color=c, \n",
    "    #                  discrete=True,\n",
    "    #                  alpha=1)\n",
    "    ax = sns.displot(temp, x=feat, kind='hist',\n",
    "                 linewidth=0,\n",
    "                 color=c, \n",
    "                 discrete=True,\n",
    "                 alpha=1,\n",
    "                 binwidth=1,\n",
    "                 log_scale=(False, True))\n",
    "\n",
    "\n",
    "    ylabel = '# ICs'\n",
    "    xlabel = '# {}s / IC'.format(feat.upper())\n",
    "    # ax.fig.get_axes()[0].set_yscale('log')\n",
    "    # ax.fig.get_axes()[0].xaxis.set_major_formatter(FormatStrFormatter('%d'))\n",
    "    _ = ax.set(xlabel=xlabel, ylabel=ylabel)\n",
    "    \n",
    "    ax = plt.gca()\n",
    "    ylim = ax.get_ylim()\n",
    "    ax.set_ylim(1**-4, ylim[1])\n",
    "\n",
    "    # _ = ax.set_yscale(\"log\")\n",
    "\n",
    "    # plt.savefig(fname, dpi=300, bbox_inches='tight')\n",
    "    plt.savefig(fname, dpi=700)\n",
    "    \n",
    "    \n",
    "    return temp"
   ]
  },
  {
   "cell_type": "code",
   "execution_count": 4,
   "id": "9c26c48c-5df8-44c8-8479-996e8afffb0a",
   "metadata": {},
   "outputs": [],
   "source": [
    "ca = cerberus.read(h5)"
   ]
  },
  {
   "cell_type": "code",
   "execution_count": 5,
   "id": "2d4f9c36-25b8-432f-ab07-d4a6a8a87311",
   "metadata": {},
   "outputs": [],
   "source": [
    "fig_dir = '/Users/fairliereese/Documents/programming/mortazavi_lab/documents/rnawg/fig2'"
   ]
  },
  {
   "cell_type": "markdown",
   "id": "99af961d-891d-493f-bbcc-522dd00986ac",
   "metadata": {},
   "source": [
    "## For detected transcripts"
   ]
  },
  {
   "cell_type": "code",
   "execution_count": 20,
   "id": "67060eb0-b01d-4e0b-aa7c-a1bb81b6b0dd",
   "metadata": {},
   "outputs": [
    {
     "name": "stdout",
     "output_type": "stream",
     "text": [
      "Calculating iso TPM values\n",
      "Subsetting for polya genes\n"
     ]
    },
    {
     "name": "stderr",
     "output_type": "stream",
     "text": [
      "/Users/fairliereese/Documents/programming/mortazavi_lab/data/rnawg/scripts/utils.py:1854: PerformanceWarning: DataFrame is highly fragmented.  This is usually the result of calling `frame.insert` many times, which has poor performance.  Consider joining all columns at once using pd.concat(axis=1) instead.  To get a de-fragmented frame, use `newframe = frame.copy()`\n",
      "  df[tpm_col] = (df[d]*1000000)/df[total_col]\n",
      "/Users/fairliereese/Documents/programming/mortazavi_lab/data/rnawg/scripts/utils.py:1853: PerformanceWarning: DataFrame is highly fragmented.  This is usually the result of calling `frame.insert` many times, which has poor performance.  Consider joining all columns at once using pd.concat(axis=1) instead.  To get a de-fragmented frame, use `newframe = frame.copy()`\n",
      "  df[total_col] = df[d].sum()\n"
     ]
    },
    {
     "name": "stdout",
     "output_type": "stream",
     "text": [
      "Enforcing minimum TPM\n",
      "Total # isos detected: 234040\n",
      "# isos >= 1 tpm: 212911\n",
      "Applying gene type and novelty subset\n",
      "Number of isos reported: 209476\n"
     ]
    },
    {
     "data": {
      "image/png": "[encoded data removed]",
      "text/plain": [
       "<Figure size 360x360 with 1 Axes>"
      ]
     },
     "metadata": {
      "needs_background": "light"
     },
     "output_type": "display_data"
    }
   ],
   "source": [
    "# get detected transcripts\n",
    "df = pd.read_csv(filt_ab, sep='\\t')\n",
    "df, tids = get_tpm_table(df,\n",
    "               how='iso',\n",
    "               min_tpm=1,\n",
    "               gene_subset='polya',\n",
    "               h5=h5)\n",
    "feat = 'tss'\n",
    "fname = f'{fig_dir}/tss_per_ic.pdf'\n",
    "\n",
    "temp = plot_ends_per_ic(df, ca, feat,\n",
    "                       fname,\n",
    "                       rm_monoexonic=True)"
   ]
  },
  {
   "cell_type": "code",
   "execution_count": 21,
   "id": "03427608-a814-43f0-b609-ae7b27a8472b",
   "metadata": {},
   "outputs": [
    {
     "name": "stdout",
     "output_type": "stream",
     "text": [
      "Calculating iso TPM values\n",
      "Subsetting for polya genes\n"
     ]
    },
    {
     "name": "stderr",
     "output_type": "stream",
     "text": [
      "/Users/fairliereese/Documents/programming/mortazavi_lab/data/rnawg/scripts/utils.py:1854: PerformanceWarning: DataFrame is highly fragmented.  This is usually the result of calling `frame.insert` many times, which has poor performance.  Consider joining all columns at once using pd.concat(axis=1) instead.  To get a de-fragmented frame, use `newframe = frame.copy()`\n",
      "  df[tpm_col] = (df[d]*1000000)/df[total_col]\n",
      "/Users/fairliereese/Documents/programming/mortazavi_lab/data/rnawg/scripts/utils.py:1853: PerformanceWarning: DataFrame is highly fragmented.  This is usually the result of calling `frame.insert` many times, which has poor performance.  Consider joining all columns at once using pd.concat(axis=1) instead.  To get a de-fragmented frame, use `newframe = frame.copy()`\n",
      "  df[total_col] = df[d].sum()\n"
     ]
    },
    {
     "name": "stdout",
     "output_type": "stream",
     "text": [
      "Enforcing minimum TPM\n",
      "Total # isos detected: 234040\n",
      "# isos >= 1 tpm: 212911\n",
      "Applying gene type and novelty subset\n",
      "Number of isos reported: 209476\n"
     ]
    },
    {
     "data": {
      "image/png": "[encoded data removed]",
      "text/plain": [
       "<Figure size 360x360 with 1 Axes>"
      ]
     },
     "metadata": {
      "needs_background": "light"
     },
     "output_type": "display_data"
    }
   ],
   "source": [
    "# get detected transcripts\n",
    "df = pd.read_csv(filt_ab, sep='\\t')\n",
    "df, tids = get_tpm_table(df,\n",
    "               how='iso',\n",
    "               min_tpm=1,\n",
    "               gene_subset='polya',\n",
    "               h5=h5)\n",
    "feat = 'tes'\n",
    "fname = f'{fig_dir}/tes_per_ic.pdf'\n",
    "\n",
    "temp = plot_ends_per_ic(df, ca, feat,\n",
    "                       fname,\n",
    "                       rm_monoexonic=True)"
   ]
  },
  {
   "cell_type": "markdown",
   "id": "cf591be6-c3cf-4a4f-a48a-b4c85392773c",
   "metadata": {},
   "source": [
    "## For gencode transcripts (polya)"
   ]
  },
  {
   "cell_type": "code",
   "execution_count": 22,
   "id": "222af8cf-f350-4fad-bbde-1f6566be8307",
   "metadata": {},
   "outputs": [
    {
     "name": "stdout",
     "output_type": "stream",
     "text": [
      "['protein_coding' 'pseudogene' 'lncRNA']\n"
     ]
    }
   ],
   "source": [
    "df = pd.read_csv(ref, sep='\\t')\n",
    "\n",
    "# only polya\n",
    "polya_cats = ['protein_coding', 'lncRNA', 'pseudogene']\n",
    "df = df.loc[df.biotype_category.isin(polya_cats)]\n",
    "\n",
    "print(df.biotype_category.unique())\n",
    "\n",
    "df.set_index('tid', inplace=True)"
   ]
  },
  {
   "cell_type": "code",
   "execution_count": 23,
   "id": "d5a5f335-fac9-4bc1-8ac6-d32c0cb039e6",
   "metadata": {},
   "outputs": [
    {
     "data": {
      "image/png": "[encoded data removed]",
      "text/plain": [
       "<Figure size 360x360 with 1 Axes>"
      ]
     },
     "metadata": {
      "needs_background": "light"
     },
     "output_type": "display_data"
    }
   ],
   "source": [
    "feat = 'tss'\n",
    "fname = f'{fig_dir}/v40_tss_per_ic.pdf'\n",
    "\n",
    "temp = plot_ends_per_ic(df, ca, feat,\n",
    "                       fname,\n",
    "                       rm_monoexonic=True)"
   ]
  },
  {
   "cell_type": "code",
   "execution_count": 10,
   "id": "02a4ce66-2bfd-47b0-918a-eff872f39404",
   "metadata": {},
   "outputs": [
    {
     "data": {
      "image/png": "[encoded data removed]",
      "text/plain": [
       "<Figure size 360x360 with 1 Axes>"
      ]
     },
     "metadata": {
      "needs_background": "light"
     },
     "output_type": "display_data"
    }
   ],
   "source": [
    "feat = 'tes'\n",
    "fname = f'{fig_dir}/v40_tes_per_ic.pdf'\n",
    "\n",
    "temp = plot_ends_per_ic(df, ca, feat,\n",
    "                       fname,\n",
    "                       rm_monoexonic=True)"
   ]
  },
  {
   "cell_type": "code",
   "execution_count": null,
   "id": "8aec75a8-707d-4fca-a543-c6d5833ca6bf",
   "metadata": {},
   "outputs": [],
   "source": []
  },
  {
   "cell_type": "code",
   "execution_count": null,
   "id": "4cb96305-526a-4573-ab5b-8a1a82ad15de",
   "metadata": {},
   "outputs": [
    {
     "ename": "FileNotFoundError",
     "evalue": "File cerberus_annot_triplets.h5 does not exist",
     "output_type": "error",
     "traceback": [
      "\u001b[0;31m---------------------------------------------------------------------------\u001b[0m",
      "\u001b[0;31mFileNotFoundError\u001b[0m                         Traceback (most recent call last)",
      "\u001b[0;32m<ipython-input-25-649a9ef1d162>\u001b[0m in \u001b[0;36m<module>\u001b[0;34m\u001b[0m\n\u001b[1;32m      2\u001b[0m \u001b[0;31m# oh they're all monoexonic\u001b[0m\u001b[0;34m\u001b[0m\u001b[0;34m\u001b[0m\u001b[0;34m\u001b[0m\u001b[0m\n\u001b[1;32m      3\u001b[0m \u001b[0;34m\u001b[0m\u001b[0m\n\u001b[0;32m----> 4\u001b[0;31m \u001b[0mca\u001b[0m \u001b[0;34m=\u001b[0m \u001b[0mcerberus\u001b[0m\u001b[0;34m.\u001b[0m\u001b[0mread\u001b[0m\u001b[0;34m(\u001b[0m\u001b[0;34m'cerberus_annot_triplets.h5'\u001b[0m\u001b[0;34m)\u001b[0m\u001b[0;34m\u001b[0m\u001b[0;34m\u001b[0m\u001b[0m\n\u001b[0m\u001b[1;32m      5\u001b[0m \u001b[0mdf\u001b[0m \u001b[0;34m=\u001b[0m \u001b[0mca\u001b[0m\u001b[0;34m.\u001b[0m\u001b[0mtriplets\u001b[0m\u001b[0;34m.\u001b[0m\u001b[0mcopy\u001b[0m\u001b[0;34m(\u001b[0m\u001b[0mdeep\u001b[0m\u001b[0;34m=\u001b[0m\u001b[0;32mTrue\u001b[0m\u001b[0;34m)\u001b[0m\u001b[0;34m\u001b[0m\u001b[0;34m\u001b[0m\u001b[0m\n\u001b[1;32m      6\u001b[0m \u001b[0mdf\u001b[0m \u001b[0;34m=\u001b[0m \u001b[0mdf\u001b[0m\u001b[0;34m.\u001b[0m\u001b[0mloc\u001b[0m\u001b[0;34m[\u001b[0m\u001b[0mdf\u001b[0m\u001b[0;34m.\u001b[0m\u001b[0msource\u001b[0m\u001b[0;34m.\u001b[0m\u001b[0misin\u001b[0m\u001b[0;34m(\u001b[0m\u001b[0;34m[\u001b[0m\u001b[0;34m'obs_det'\u001b[0m\u001b[0;34m,\u001b[0m \u001b[0;34m'v40'\u001b[0m\u001b[0;34m]\u001b[0m\u001b[0;34m)\u001b[0m\u001b[0;34m]\u001b[0m\u001b[0;34m\u001b[0m\u001b[0;34m\u001b[0m\u001b[0m\n",
      "\u001b[0;32m~/Documents/programming/mortazavi_lab/bin/cerberus/cerberus/cerberusannotation.py\u001b[0m in \u001b[0;36mread\u001b[0;34m(h5)\u001b[0m\n\u001b[1;32m   1017\u001b[0m \u001b[0;32mdef\u001b[0m \u001b[0mread\u001b[0m\u001b[0;34m(\u001b[0m\u001b[0mh5\u001b[0m\u001b[0;34m)\u001b[0m\u001b[0;34m:\u001b[0m\u001b[0;34m\u001b[0m\u001b[0;34m\u001b[0m\u001b[0m\n\u001b[1;32m   1018\u001b[0m     \u001b[0mca\u001b[0m \u001b[0;34m=\u001b[0m \u001b[0mCerberusAnnotation\u001b[0m\u001b[0;34m(\u001b[0m\u001b[0;34m)\u001b[0m\u001b[0;34m\u001b[0m\u001b[0;34m\u001b[0m\u001b[0m\n\u001b[0;32m-> 1019\u001b[0;31m     \u001b[0mic\u001b[0m\u001b[0;34m,\u001b[0m \u001b[0mtss\u001b[0m\u001b[0;34m,\u001b[0m \u001b[0mtes\u001b[0m\u001b[0;34m,\u001b[0m \u001b[0mtss_map\u001b[0m\u001b[0;34m,\u001b[0m \u001b[0mtes_map\u001b[0m\u001b[0;34m,\u001b[0m \u001b[0mm\u001b[0m\u001b[0;34m,\u001b[0m \u001b[0mtriplets\u001b[0m \u001b[0;34m=\u001b[0m \u001b[0mread_h5\u001b[0m\u001b[0;34m(\u001b[0m\u001b[0mh5\u001b[0m\u001b[0;34m,\u001b[0m \u001b[0mas_pyranges\u001b[0m\u001b[0;34m=\u001b[0m\u001b[0;32mFalse\u001b[0m\u001b[0;34m)\u001b[0m\u001b[0;34m\u001b[0m\u001b[0;34m\u001b[0m\u001b[0m\n\u001b[0m\u001b[1;32m   1020\u001b[0m     \u001b[0mca\u001b[0m\u001b[0;34m.\u001b[0m\u001b[0mset_tss\u001b[0m\u001b[0;34m(\u001b[0m\u001b[0mtss\u001b[0m\u001b[0;34m)\u001b[0m\u001b[0;34m\u001b[0m\u001b[0;34m\u001b[0m\u001b[0m\n\u001b[1;32m   1021\u001b[0m     \u001b[0mca\u001b[0m\u001b[0;34m.\u001b[0m\u001b[0mset_tes\u001b[0m\u001b[0;34m(\u001b[0m\u001b[0mtes\u001b[0m\u001b[0;34m)\u001b[0m\u001b[0;34m\u001b[0m\u001b[0;34m\u001b[0m\u001b[0m\n",
      "\u001b[0;32m~/Documents/programming/mortazavi_lab/bin/cerberus/cerberus/cerberus.py\u001b[0m in \u001b[0;36mread_h5\u001b[0;34m(h5, as_pyranges)\u001b[0m\n\u001b[1;32m   1354\u001b[0m     \"\"\"\n\u001b[1;32m   1355\u001b[0m \u001b[0;34m\u001b[0m\u001b[0m\n\u001b[0;32m-> 1356\u001b[0;31m     \u001b[0mic\u001b[0m \u001b[0;34m=\u001b[0m \u001b[0mpd\u001b[0m\u001b[0;34m.\u001b[0m\u001b[0mread_hdf\u001b[0m\u001b[0;34m(\u001b[0m\u001b[0mh5\u001b[0m\u001b[0;34m,\u001b[0m \u001b[0mkey\u001b[0m\u001b[0;34m=\u001b[0m\u001b[0;34m'ic'\u001b[0m\u001b[0;34m)\u001b[0m\u001b[0;34m\u001b[0m\u001b[0;34m\u001b[0m\u001b[0m\n\u001b[0m\u001b[1;32m   1357\u001b[0m     \u001b[0mtss\u001b[0m \u001b[0;34m=\u001b[0m \u001b[0mpd\u001b[0m\u001b[0;34m.\u001b[0m\u001b[0mread_hdf\u001b[0m\u001b[0;34m(\u001b[0m\u001b[0mh5\u001b[0m\u001b[0;34m,\u001b[0m \u001b[0mkey\u001b[0m\u001b[0;34m=\u001b[0m\u001b[0;34m'tss'\u001b[0m\u001b[0;34m)\u001b[0m\u001b[0;34m\u001b[0m\u001b[0;34m\u001b[0m\u001b[0m\n\u001b[1;32m   1358\u001b[0m     \u001b[0mtes\u001b[0m \u001b[0;34m=\u001b[0m \u001b[0mpd\u001b[0m\u001b[0;34m.\u001b[0m\u001b[0mread_hdf\u001b[0m\u001b[0;34m(\u001b[0m\u001b[0mh5\u001b[0m\u001b[0;34m,\u001b[0m \u001b[0mkey\u001b[0m\u001b[0;34m=\u001b[0m\u001b[0;34m'tes'\u001b[0m\u001b[0;34m)\u001b[0m\u001b[0;34m\u001b[0m\u001b[0;34m\u001b[0m\u001b[0m\n",
      "\u001b[0;32m~/miniconda3/lib/python3.7/site-packages/pandas/io/pytables.py\u001b[0m in \u001b[0;36mread_hdf\u001b[0;34m(path_or_buf, key, mode, errors, where, start, stop, columns, iterator, chunksize, **kwargs)\u001b[0m\n\u001b[1;32m    425\u001b[0m \u001b[0;34m\u001b[0m\u001b[0m\n\u001b[1;32m    426\u001b[0m         \u001b[0;32mif\u001b[0m \u001b[0;32mnot\u001b[0m \u001b[0mexists\u001b[0m\u001b[0;34m:\u001b[0m\u001b[0;34m\u001b[0m\u001b[0;34m\u001b[0m\u001b[0m\n\u001b[0;32m--> 427\u001b[0;31m             \u001b[0;32mraise\u001b[0m \u001b[0mFileNotFoundError\u001b[0m\u001b[0;34m(\u001b[0m\u001b[0;34mf\"File {path_or_buf} does not exist\"\u001b[0m\u001b[0;34m)\u001b[0m\u001b[0;34m\u001b[0m\u001b[0;34m\u001b[0m\u001b[0m\n\u001b[0m\u001b[1;32m    428\u001b[0m \u001b[0;34m\u001b[0m\u001b[0m\n\u001b[1;32m    429\u001b[0m         \u001b[0mstore\u001b[0m \u001b[0;34m=\u001b[0m \u001b[0mHDFStore\u001b[0m\u001b[0;34m(\u001b[0m\u001b[0mpath_or_buf\u001b[0m\u001b[0;34m,\u001b[0m \u001b[0mmode\u001b[0m\u001b[0;34m=\u001b[0m\u001b[0mmode\u001b[0m\u001b[0;34m,\u001b[0m \u001b[0merrors\u001b[0m\u001b[0;34m=\u001b[0m\u001b[0merrors\u001b[0m\u001b[0;34m,\u001b[0m \u001b[0;34m**\u001b[0m\u001b[0mkwargs\u001b[0m\u001b[0;34m)\u001b[0m\u001b[0;34m\u001b[0m\u001b[0;34m\u001b[0m\u001b[0m\n",
      "\u001b[0;31mFileNotFoundError\u001b[0m: File cerberus_annot_triplets.h5 does not exist"
     ]
    }
   ],
   "source": [
    "# yo what is going on w/ cacna1a\n",
    "# oh they're all monoexonic\n",
    "\n",
    "ca = cerberus.read('cerberus_annot_triplets.h5')\n",
    "df = ca.triplets.copy(deep=True)\n",
    "df = df.loc[df.source.isin(['obs_det', 'v40'])]\n"
   ]
  },
  {
   "cell_type": "code",
   "execution_count": null,
   "id": "50472393-52c1-478b-9fc5-f27dc371c4a1",
   "metadata": {},
   "outputs": [],
   "source": [
    "df.loc[df.gid == 'ENSG00000141837']"
   ]
  },
  {
   "cell_type": "code",
   "execution_count": null,
   "id": "fbb8d9d5-5523-4c71-8dec-66169f82aa87",
   "metadata": {},
   "outputs": [],
   "source": [
    "ca.ic.loc[ca.ic.Name == 'ENSG00000141837_17']"
   ]
  },
  {
   "cell_type": "code",
   "execution_count": null,
   "id": "cb32efba-160b-47b6-9226-7e6a06ef91c7",
   "metadata": {},
   "outputs": [],
   "source": [
    "ca.ic.novelty.unique()"
   ]
  },
  {
   "cell_type": "code",
   "execution_count": null,
   "id": "0557555e-2df4-46b6-b479-4e7b31db0566",
   "metadata": {},
   "outputs": [],
   "source": []
  },
  {
   "cell_type": "code",
   "execution_count": null,
   "id": "e85a7c4a-b051-4109-b175-747501b231c2",
   "metadata": {},
   "outputs": [],
   "source": []
  }
 ],
 "metadata": {
  "kernelspec": {
   "display_name": "Python 3",
   "language": "python",
   "name": "python3"
  },
  "language_info": {
   "codemirror_mode": {
    "name": "ipython",
    "version": 3
   },
   "file_extension": ".py",
   "mimetype": "text/x-python",
   "name": "python",
   "nbconvert_exporter": "python",
   "pygments_lexer": "ipython3",
   "version": "3.7.4"
  }
 },
 "nbformat": 4,
 "nbformat_minor": 5
}
