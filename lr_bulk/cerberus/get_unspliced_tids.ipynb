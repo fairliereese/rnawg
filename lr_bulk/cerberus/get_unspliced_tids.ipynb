{
 "cells": [
  {
   "cell_type": "code",
   "execution_count": 1,
   "id": "05db0954-7326-4388-a1f4-fb3b4b3e47e5",
   "metadata": {},
   "outputs": [],
   "source": [
    "import pandas as pd\n",
    "import numpy as np\n",
    "import scipy.stats as st\n",
    "import seaborn as sns\n",
    "import sys\n",
    "import os\n",
    "import gseapy as gp\n",
    "import pdb\n",
    "import copy\n",
    "from scipy import sparse\n",
    "import anndata\n",
    "import cerberus\n",
    "\n",
    "p = os.path.dirname(os.path.dirname(os.getcwd()))\n",
    "sys.path.append(p)\n",
    "\n",
    "from scripts.utils import *\n",
    "from scripts.plotting import *"
   ]
  },
  {
   "cell_type": "code",
   "execution_count": 2,
   "id": "14028a11-5525-4e73-bbc8-5b33be246900",
   "metadata": {},
   "outputs": [],
   "source": [
    "h5 = 'cerberus_annot.h5'\n",
    "ca = cerberus.read(h5)"
   ]
  },
  {
   "cell_type": "code",
   "execution_count": 3,
   "id": "c8b95532-2512-4d34-8a07-a500ada5c337",
   "metadata": {},
   "outputs": [],
   "source": [
    "# get transcripts from our long-read data\n",
    "temp = ca.t_map.loc[ca.t_map.source == 'lapa']"
   ]
  },
  {
   "cell_type": "code",
   "execution_count": 4,
   "id": "76009554-8f67-4a2c-8594-8bf8929541f8",
   "metadata": {},
   "outputs": [],
   "source": [
    "# get novelty for each ic\n",
    "temp = temp.merge(ca.ic[['Name', 'novelty']], how='left', left_on='ic_id', right_on='Name')"
   ]
  },
  {
   "cell_type": "code",
   "execution_count": 5,
   "id": "0448c034-282b-4ed5-8aea-288e4d1228c9",
   "metadata": {},
   "outputs": [],
   "source": [
    "# only unspliced transcripts\n",
    "temp = temp.loc[temp.novelty == 'Unspliced']"
   ]
  },
  {
   "cell_type": "code",
   "execution_count": 6,
   "id": "97cc9eb0-838c-4baf-8a90-3725897be660",
   "metadata": {},
   "outputs": [],
   "source": [
    "tids = temp[['transcript_id']].drop_duplicates()\n",
    "tids.to_csv('unspliced_tids.tsv', sep='\\t', index=False)"
   ]
  },
  {
   "cell_type": "code",
   "execution_count": null,
   "id": "54c254ae-d9d8-4d39-b58a-19513e6a273e",
   "metadata": {},
   "outputs": [],
   "source": []
  }
 ],
 "metadata": {
  "kernelspec": {
   "display_name": "Python 3",
   "language": "python",
   "name": "python3"
  },
  "language_info": {
   "codemirror_mode": {
    "name": "ipython",
    "version": 3
   },
   "file_extension": ".py",
   "mimetype": "text/x-python",
   "name": "python",
   "nbconvert_exporter": "python",
   "pygments_lexer": "ipython3",
   "version": "3.7.4"
  }
 },
 "nbformat": 4,
 "nbformat_minor": 5
}
