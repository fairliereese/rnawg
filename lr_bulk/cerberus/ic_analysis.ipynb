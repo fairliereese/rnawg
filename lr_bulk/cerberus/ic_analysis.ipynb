{
 "cells": [
  {
   "cell_type": "code",
   "execution_count": 1,
   "id": "a4944eaf-403d-4b4c-b04e-a90c506e9058",
   "metadata": {},
   "outputs": [],
   "source": [
    "import pandas as pd\n",
    "import pyranges as pr\n",
    "import upsetplot\n",
    "import seaborn as sns\n",
    "import matplotlib.pyplot as plt\n",
    "import os\n",
    "import sys\n",
    "import cerberus\n",
    "\n",
    "p = os.path.dirname(os.path.dirname(os.getcwd()))\n",
    "sys.path.append(p)\n",
    "\n",
    "from scripts.utils import *\n",
    "from scripts.plotting import *"
   ]
  },
  {
   "cell_type": "code",
   "execution_count": 2,
   "id": "67fa8ea1-320c-443e-8da1-054ea210e793",
   "metadata": {},
   "outputs": [],
   "source": [
    "# files\n",
    "h5 = 'cerberus_annot.h5'\n",
    "filt_ab = 'cerberus_filtered_abundance.tsv'"
   ]
  },
  {
   "cell_type": "markdown",
   "id": "25a7b11d-5743-4dcc-92c7-8f3ea239f6e5",
   "metadata": {},
   "source": [
    "## IC detection by novelty categories for polyA genes"
   ]
  },
  {
   "cell_type": "code",
   "execution_count": 4,
   "id": "177e88e2-33e1-4a33-9ea1-f653a5369af4",
   "metadata": {},
   "outputs": [
    {
     "name": "stdout",
     "output_type": "stream",
     "text": [
      "Calculating ic TPM values\n",
      "Subsetting for polya genes\n"
     ]
    },
    {
     "name": "stderr",
     "output_type": "stream",
     "text": [
      "/Users/fairliereese/Documents/programming/mortazavi_lab/data/rnawg/scripts/utils.py:1383: PerformanceWarning: DataFrame is highly fragmented.  This is usually the result of calling `frame.insert` many times, which has poor performance.  Consider joining all columns at once using pd.concat(axis=1) instead.  To get a de-fragmented frame, use `newframe = frame.copy()`\n",
      "  df[tpm_col] = (df[d]*1000000)/df[total_col]\n",
      "/Users/fairliereese/Documents/programming/mortazavi_lab/data/rnawg/scripts/utils.py:1382: PerformanceWarning: DataFrame is highly fragmented.  This is usually the result of calling `frame.insert` many times, which has poor performance.  Consider joining all columns at once using pd.concat(axis=1) instead.  To get a de-fragmented frame, use `newframe = frame.copy()`\n",
      "  df[total_col] = df[d].sum()\n"
     ]
    },
    {
     "name": "stdout",
     "output_type": "stream",
     "text": [
      "Enforcing minimum TPM\n",
      "Total # ics detected: 149012\n",
      "# ics >= 1 tpm: 135193\n",
      "Applying gene type and novelty subset\n",
      "Number of ics reported: 132337\n"
     ]
    }
   ],
   "source": [
    "df = pd.read_csv(filt_ab, sep='\\t')\n",
    "df, ic_ids = get_tpm_table(df,\n",
    "               how='ic',\n",
    "               gene_subset='polya',\n",
    "               min_tpm=1)"
   ]
  },
  {
   "cell_type": "code",
   "execution_count": 5,
   "id": "a0621661-3145-4446-8e1f-e5ddfdad3484",
   "metadata": {},
   "outputs": [
    {
     "name": "stdout",
     "output_type": "stream",
     "text": [
      "      novelty  counts\n",
      "0         ISM   11201\n",
      "1       Known   82942\n",
      "2  Monoexonic    1460\n",
      "3         NIC   21302\n",
      "4         NNC   15432\n",
      "Number of complete intron chains: counts    130877\n",
      "dtype: int64\n"
     ]
    },
    {
     "data": {
      "text/plain": [
       "<Figure size 288x432 with 0 Axes>"
      ]
     },
     "metadata": {},
     "output_type": "display_data"
    },
    {
     "data": {
      "image/png": "[encoded data removed]",
      "text/plain": [
       "<Figure size 360x360 with 1 Axes>"
      ]
     },
     "metadata": {
      "needs_background": "light"
     },
     "output_type": "display_data"
    },
    {
     "data": {
      "text/plain": [
       "<Figure size 432x288 with 0 Axes>"
      ]
     },
     "metadata": {},
     "output_type": "display_data"
    }
   ],
   "source": [
    "plot_ic_novelty(h5, \n",
    "                source='lapa', \n",
    "                oprefix='figures/human',\n",
    "                pass_list=ic_ids, \n",
    "                novs=['Known', 'ISM', 'NIC', 'NNC'])"
   ]
  },
  {
   "cell_type": "markdown",
   "id": "bf82cbfb-2b31-4115-9c70-20c6226904bd",
   "metadata": {},
   "source": [
    "## Verification that missing ics are from first sd issue"
   ]
  },
  {
   "cell_type": "code",
   "execution_count": 23,
   "id": "26900d76-b895-4dfc-838d-0b8fcd4fa0c9",
   "metadata": {},
   "outputs": [],
   "source": [
    "ca = cerberus.read(h5)\n",
    "temp = ca.t_map.loc[ca.t_map.source=='lapa'].copy(deep=True)\n",
    "map_ics = temp.ic_id.unique()\n",
    "ab_ics = df.index.tolist()"
   ]
  },
  {
   "cell_type": "code",
   "execution_count": 24,
   "id": "6785465c-3ae0-423c-98e6-22bce1c7b0a3",
   "metadata": {},
   "outputs": [
    {
     "data": {
      "text/plain": [
       "array(['ENSG00000228794_32', 'ENSG00000187634_29', 'ENSG00000187961_6',\n",
       "       'ENSG00000187961_7', 'ENSG00000187961_8'], dtype=object)"
      ]
     },
     "execution_count": 24,
     "metadata": {},
     "output_type": "execute_result"
    }
   ],
   "source": [
    "map_ics[:5]\n",
    "# ab_ics[:5]"
   ]
  },
  {
   "cell_type": "code",
   "execution_count": 25,
   "id": "6a244cf3-6fc3-422e-a9bc-bee61633d2eb",
   "metadata": {},
   "outputs": [
    {
     "data": {
      "text/plain": [
       "['ENSG00000186265_5',\n",
       " 'ENSG00000136536_10',\n",
       " 'ENSG00000118729_5',\n",
       " 'ENSG00000122756_6',\n",
       " 'ENSG00000161955_10',\n",
       " 'ENSG00000163536_8',\n",
       " 'ENSG00000205560_20']"
      ]
     },
     "execution_count": 25,
     "metadata": {},
     "output_type": "execute_result"
    }
   ],
   "source": [
    "miss_ics = list(set(map_ics)-set(ab_ics))\n",
    "miss_ics"
   ]
  },
  {
   "cell_type": "code",
   "execution_count": 26,
   "id": "a9f350bb-e63f-48e9-a0dc-1d6a16133b83",
   "metadata": {},
   "outputs": [
    {
     "data": {
      "text/html": [
       "<div>\n",
       "<style scoped>\n",
       "    .dataframe tbody tr th:only-of-type {\n",
       "        vertical-align: middle;\n",
       "    }\n",
       "\n",
       "    .dataframe tbody tr th {\n",
       "        vertical-align: top;\n",
       "    }\n",
       "\n",
       "    .dataframe thead th {\n",
       "        text-align: right;\n",
       "    }\n",
       "</style>\n",
       "<table border=\"1\" class=\"dataframe\">\n",
       "  <thead>\n",
       "    <tr style=\"text-align: right;\">\n",
       "      <th></th>\n",
       "      <th>original_transcript_id</th>\n",
       "      <th>ic</th>\n",
       "      <th>ic_id</th>\n",
       "      <th>tss_id</th>\n",
       "      <th>tss</th>\n",
       "      <th>tes_id</th>\n",
       "      <th>tes</th>\n",
       "      <th>gene_id</th>\n",
       "      <th>gene_name</th>\n",
       "      <th>original_transcript_name</th>\n",
       "      <th>transcript_triplet</th>\n",
       "      <th>transcript_id</th>\n",
       "      <th>transcript_name</th>\n",
       "      <th>tss_first_sd_issue</th>\n",
       "      <th>tes_last_sa_issue</th>\n",
       "      <th>source</th>\n",
       "    </tr>\n",
       "  </thead>\n",
       "  <tbody>\n",
       "    <tr>\n",
       "      <th>22328</th>\n",
       "      <td>ENCODEHT003200255</td>\n",
       "      <td>5</td>\n",
       "      <td>ENSG00000118729_5</td>\n",
       "      <td>ENSG00000118729_1</td>\n",
       "      <td>1</td>\n",
       "      <td>ENSG00000118729_1</td>\n",
       "      <td>1</td>\n",
       "      <td>ENSG00000118729</td>\n",
       "      <td>CASQ2</td>\n",
       "      <td>ENCODEHT003200255</td>\n",
       "      <td>[1,5,1]</td>\n",
       "      <td>ENSG00000118729[1,5,1]</td>\n",
       "      <td>CASQ2[1,5,1]</td>\n",
       "      <td>True</td>\n",
       "      <td>False</td>\n",
       "      <td>lapa</td>\n",
       "    </tr>\n",
       "    <tr>\n",
       "      <th>22329</th>\n",
       "      <td>ENCODEHT003200255#1</td>\n",
       "      <td>5</td>\n",
       "      <td>ENSG00000118729_5</td>\n",
       "      <td>ENSG00000118729_1</td>\n",
       "      <td>1</td>\n",
       "      <td>ENSG00000118729_1</td>\n",
       "      <td>1</td>\n",
       "      <td>ENSG00000118729</td>\n",
       "      <td>CASQ2</td>\n",
       "      <td>ENCODEHT003200255</td>\n",
       "      <td>[1,5,1]</td>\n",
       "      <td>ENSG00000118729[1,5,1]</td>\n",
       "      <td>CASQ2[1,5,1]</td>\n",
       "      <td>True</td>\n",
       "      <td>False</td>\n",
       "      <td>lapa</td>\n",
       "    </tr>\n",
       "    <tr>\n",
       "      <th>122812</th>\n",
       "      <td>ENCODEHT000350234#0</td>\n",
       "      <td>10</td>\n",
       "      <td>ENSG00000161955_10</td>\n",
       "      <td>ENSG00000161955_2</td>\n",
       "      <td>2</td>\n",
       "      <td>ENSG00000161955_1</td>\n",
       "      <td>1</td>\n",
       "      <td>ENSG00000161955</td>\n",
       "      <td>TNFSF13</td>\n",
       "      <td>ENCODEHT000350234</td>\n",
       "      <td>[2,10,1]</td>\n",
       "      <td>ENSG00000161955[2,10,1]</td>\n",
       "      <td>TNFSF13[2,10,1]</td>\n",
       "      <td>True</td>\n",
       "      <td>False</td>\n",
       "      <td>lapa</td>\n",
       "    </tr>\n",
       "    <tr>\n",
       "      <th>170309</th>\n",
       "      <td>ENCODEHT000849603</td>\n",
       "      <td>10</td>\n",
       "      <td>ENSG00000136536_10</td>\n",
       "      <td>ENSG00000136536_1</td>\n",
       "      <td>1</td>\n",
       "      <td>ENSG00000136536_3</td>\n",
       "      <td>3</td>\n",
       "      <td>ENSG00000136536</td>\n",
       "      <td>MARCH7</td>\n",
       "      <td>ENCODEHT000849603</td>\n",
       "      <td>[1,10,3]</td>\n",
       "      <td>ENSG00000136536[1,10,3]</td>\n",
       "      <td>MARCH7[1,10,3]</td>\n",
       "      <td>True</td>\n",
       "      <td>False</td>\n",
       "      <td>lapa</td>\n",
       "    </tr>\n",
       "    <tr>\n",
       "      <th>170310</th>\n",
       "      <td>ENCODEHT000849603#0</td>\n",
       "      <td>10</td>\n",
       "      <td>ENSG00000136536_10</td>\n",
       "      <td>ENSG00000136536_1</td>\n",
       "      <td>1</td>\n",
       "      <td>ENSG00000136536_3</td>\n",
       "      <td>3</td>\n",
       "      <td>ENSG00000136536</td>\n",
       "      <td>MARCH7</td>\n",
       "      <td>ENCODEHT000849603</td>\n",
       "      <td>[1,10,3]</td>\n",
       "      <td>ENSG00000136536[1,10,3]</td>\n",
       "      <td>MARCH7[1,10,3]</td>\n",
       "      <td>True</td>\n",
       "      <td>False</td>\n",
       "      <td>lapa</td>\n",
       "    </tr>\n",
       "    <tr>\n",
       "      <th>208089</th>\n",
       "      <td>ENCODEHT003006918</td>\n",
       "      <td>20</td>\n",
       "      <td>ENSG00000205560_20</td>\n",
       "      <td>ENSG00000205560_1</td>\n",
       "      <td>1</td>\n",
       "      <td>ENSG00000205560_1</td>\n",
       "      <td>1</td>\n",
       "      <td>ENSG00000205560</td>\n",
       "      <td>CPT1B</td>\n",
       "      <td>ENCODEHT003006918</td>\n",
       "      <td>[1,20,1]</td>\n",
       "      <td>ENSG00000205560[1,20,1]</td>\n",
       "      <td>CPT1B[1,20,1]</td>\n",
       "      <td>True</td>\n",
       "      <td>False</td>\n",
       "      <td>lapa</td>\n",
       "    </tr>\n",
       "    <tr>\n",
       "      <th>208090</th>\n",
       "      <td>ENCODEHT003006918#0</td>\n",
       "      <td>20</td>\n",
       "      <td>ENSG00000205560_20</td>\n",
       "      <td>ENSG00000205560_1</td>\n",
       "      <td>1</td>\n",
       "      <td>ENSG00000205560_1</td>\n",
       "      <td>1</td>\n",
       "      <td>ENSG00000205560</td>\n",
       "      <td>CPT1B</td>\n",
       "      <td>ENCODEHT003006918</td>\n",
       "      <td>[1,20,1]</td>\n",
       "      <td>ENSG00000205560[1,20,1]</td>\n",
       "      <td>CPT1B[1,20,1]</td>\n",
       "      <td>True</td>\n",
       "      <td>False</td>\n",
       "      <td>lapa</td>\n",
       "    </tr>\n",
       "    <tr>\n",
       "      <th>213864</th>\n",
       "      <td>ENCODEHT005402898</td>\n",
       "      <td>8</td>\n",
       "      <td>ENSG00000163536_8</td>\n",
       "      <td>ENSG00000163536_2</td>\n",
       "      <td>2</td>\n",
       "      <td>ENSG00000163536_1</td>\n",
       "      <td>1</td>\n",
       "      <td>ENSG00000163536</td>\n",
       "      <td>SERPINI1</td>\n",
       "      <td>ENCODEHT005402898</td>\n",
       "      <td>[2,8,1]</td>\n",
       "      <td>ENSG00000163536[2,8,1]</td>\n",
       "      <td>SERPINI1[2,8,1]</td>\n",
       "      <td>True</td>\n",
       "      <td>False</td>\n",
       "      <td>lapa</td>\n",
       "    </tr>\n",
       "    <tr>\n",
       "      <th>213865</th>\n",
       "      <td>ENCODEHT005402898#0</td>\n",
       "      <td>8</td>\n",
       "      <td>ENSG00000163536_8</td>\n",
       "      <td>ENSG00000163536_2</td>\n",
       "      <td>2</td>\n",
       "      <td>ENSG00000163536_1</td>\n",
       "      <td>1</td>\n",
       "      <td>ENSG00000163536</td>\n",
       "      <td>SERPINI1</td>\n",
       "      <td>ENCODEHT005402898</td>\n",
       "      <td>[2,8,1]</td>\n",
       "      <td>ENSG00000163536[2,8,1]</td>\n",
       "      <td>SERPINI1[2,8,1]</td>\n",
       "      <td>True</td>\n",
       "      <td>False</td>\n",
       "      <td>lapa</td>\n",
       "    </tr>\n",
       "    <tr>\n",
       "      <th>221642</th>\n",
       "      <td>ENCODEHT000709998</td>\n",
       "      <td>5</td>\n",
       "      <td>ENSG00000186265_5</td>\n",
       "      <td>ENSG00000186265_1</td>\n",
       "      <td>1</td>\n",
       "      <td>ENSG00000186265_1</td>\n",
       "      <td>1</td>\n",
       "      <td>ENSG00000186265</td>\n",
       "      <td>BTLA</td>\n",
       "      <td>ENCODEHT000709998</td>\n",
       "      <td>[1,5,1]</td>\n",
       "      <td>ENSG00000186265[1,5,1]</td>\n",
       "      <td>BTLA[1,5,1]</td>\n",
       "      <td>True</td>\n",
       "      <td>False</td>\n",
       "      <td>lapa</td>\n",
       "    </tr>\n",
       "    <tr>\n",
       "      <th>221643</th>\n",
       "      <td>ENCODEHT000709998#0</td>\n",
       "      <td>5</td>\n",
       "      <td>ENSG00000186265_5</td>\n",
       "      <td>ENSG00000186265_1</td>\n",
       "      <td>1</td>\n",
       "      <td>ENSG00000186265_1</td>\n",
       "      <td>1</td>\n",
       "      <td>ENSG00000186265</td>\n",
       "      <td>BTLA</td>\n",
       "      <td>ENCODEHT000709998</td>\n",
       "      <td>[1,5,1]</td>\n",
       "      <td>ENSG00000186265[1,5,1]</td>\n",
       "      <td>BTLA[1,5,1]</td>\n",
       "      <td>True</td>\n",
       "      <td>False</td>\n",
       "      <td>lapa</td>\n",
       "    </tr>\n",
       "    <tr>\n",
       "      <th>221644</th>\n",
       "      <td>ENCODEHT000709998#1</td>\n",
       "      <td>5</td>\n",
       "      <td>ENSG00000186265_5</td>\n",
       "      <td>ENSG00000186265_1</td>\n",
       "      <td>1</td>\n",
       "      <td>ENSG00000186265_6</td>\n",
       "      <td>6</td>\n",
       "      <td>ENSG00000186265</td>\n",
       "      <td>BTLA</td>\n",
       "      <td>ENCODEHT000709998</td>\n",
       "      <td>[1,5,6]</td>\n",
       "      <td>ENSG00000186265[1,5,6]</td>\n",
       "      <td>BTLA[1,5,6]</td>\n",
       "      <td>True</td>\n",
       "      <td>False</td>\n",
       "      <td>lapa</td>\n",
       "    </tr>\n",
       "    <tr>\n",
       "      <th>221645</th>\n",
       "      <td>ENCODEHT000709998#2</td>\n",
       "      <td>5</td>\n",
       "      <td>ENSG00000186265_5</td>\n",
       "      <td>ENSG00000186265_1</td>\n",
       "      <td>1</td>\n",
       "      <td>ENSG00000186265_3</td>\n",
       "      <td>3</td>\n",
       "      <td>ENSG00000186265</td>\n",
       "      <td>BTLA</td>\n",
       "      <td>ENCODEHT000709998</td>\n",
       "      <td>[1,5,3]</td>\n",
       "      <td>ENSG00000186265[1,5,3]</td>\n",
       "      <td>BTLA[1,5,3]</td>\n",
       "      <td>True</td>\n",
       "      <td>False</td>\n",
       "      <td>lapa</td>\n",
       "    </tr>\n",
       "    <tr>\n",
       "      <th>308958</th>\n",
       "      <td>ENCODEHT002185877</td>\n",
       "      <td>6</td>\n",
       "      <td>ENSG00000122756_6</td>\n",
       "      <td>ENSG00000122756_2</td>\n",
       "      <td>2</td>\n",
       "      <td>ENSG00000122756_1</td>\n",
       "      <td>1</td>\n",
       "      <td>ENSG00000122756</td>\n",
       "      <td>CNTFR</td>\n",
       "      <td>ENCODEHT002185877</td>\n",
       "      <td>[2,6,1]</td>\n",
       "      <td>ENSG00000122756[2,6,1]</td>\n",
       "      <td>CNTFR[2,6,1]</td>\n",
       "      <td>True</td>\n",
       "      <td>False</td>\n",
       "      <td>lapa</td>\n",
       "    </tr>\n",
       "  </tbody>\n",
       "</table>\n",
       "</div>"
      ],
      "text/plain": [
       "       original_transcript_id  ic               ic_id             tss_id  tss  \\\n",
       "22328       ENCODEHT003200255   5   ENSG00000118729_5  ENSG00000118729_1    1   \n",
       "22329     ENCODEHT003200255#1   5   ENSG00000118729_5  ENSG00000118729_1    1   \n",
       "122812    ENCODEHT000350234#0  10  ENSG00000161955_10  ENSG00000161955_2    2   \n",
       "170309      ENCODEHT000849603  10  ENSG00000136536_10  ENSG00000136536_1    1   \n",
       "170310    ENCODEHT000849603#0  10  ENSG00000136536_10  ENSG00000136536_1    1   \n",
       "208089      ENCODEHT003006918  20  ENSG00000205560_20  ENSG00000205560_1    1   \n",
       "208090    ENCODEHT003006918#0  20  ENSG00000205560_20  ENSG00000205560_1    1   \n",
       "213864      ENCODEHT005402898   8   ENSG00000163536_8  ENSG00000163536_2    2   \n",
       "213865    ENCODEHT005402898#0   8   ENSG00000163536_8  ENSG00000163536_2    2   \n",
       "221642      ENCODEHT000709998   5   ENSG00000186265_5  ENSG00000186265_1    1   \n",
       "221643    ENCODEHT000709998#0   5   ENSG00000186265_5  ENSG00000186265_1    1   \n",
       "221644    ENCODEHT000709998#1   5   ENSG00000186265_5  ENSG00000186265_1    1   \n",
       "221645    ENCODEHT000709998#2   5   ENSG00000186265_5  ENSG00000186265_1    1   \n",
       "308958      ENCODEHT002185877   6   ENSG00000122756_6  ENSG00000122756_2    2   \n",
       "\n",
       "                   tes_id  tes          gene_id gene_name  \\\n",
       "22328   ENSG00000118729_1    1  ENSG00000118729     CASQ2   \n",
       "22329   ENSG00000118729_1    1  ENSG00000118729     CASQ2   \n",
       "122812  ENSG00000161955_1    1  ENSG00000161955   TNFSF13   \n",
       "170309  ENSG00000136536_3    3  ENSG00000136536    MARCH7   \n",
       "170310  ENSG00000136536_3    3  ENSG00000136536    MARCH7   \n",
       "208089  ENSG00000205560_1    1  ENSG00000205560     CPT1B   \n",
       "208090  ENSG00000205560_1    1  ENSG00000205560     CPT1B   \n",
       "213864  ENSG00000163536_1    1  ENSG00000163536  SERPINI1   \n",
       "213865  ENSG00000163536_1    1  ENSG00000163536  SERPINI1   \n",
       "221642  ENSG00000186265_1    1  ENSG00000186265      BTLA   \n",
       "221643  ENSG00000186265_1    1  ENSG00000186265      BTLA   \n",
       "221644  ENSG00000186265_6    6  ENSG00000186265      BTLA   \n",
       "221645  ENSG00000186265_3    3  ENSG00000186265      BTLA   \n",
       "308958  ENSG00000122756_1    1  ENSG00000122756     CNTFR   \n",
       "\n",
       "       original_transcript_name transcript_triplet            transcript_id  \\\n",
       "22328         ENCODEHT003200255            [1,5,1]   ENSG00000118729[1,5,1]   \n",
       "22329         ENCODEHT003200255            [1,5,1]   ENSG00000118729[1,5,1]   \n",
       "122812        ENCODEHT000350234           [2,10,1]  ENSG00000161955[2,10,1]   \n",
       "170309        ENCODEHT000849603           [1,10,3]  ENSG00000136536[1,10,3]   \n",
       "170310        ENCODEHT000849603           [1,10,3]  ENSG00000136536[1,10,3]   \n",
       "208089        ENCODEHT003006918           [1,20,1]  ENSG00000205560[1,20,1]   \n",
       "208090        ENCODEHT003006918           [1,20,1]  ENSG00000205560[1,20,1]   \n",
       "213864        ENCODEHT005402898            [2,8,1]   ENSG00000163536[2,8,1]   \n",
       "213865        ENCODEHT005402898            [2,8,1]   ENSG00000163536[2,8,1]   \n",
       "221642        ENCODEHT000709998            [1,5,1]   ENSG00000186265[1,5,1]   \n",
       "221643        ENCODEHT000709998            [1,5,1]   ENSG00000186265[1,5,1]   \n",
       "221644        ENCODEHT000709998            [1,5,6]   ENSG00000186265[1,5,6]   \n",
       "221645        ENCODEHT000709998            [1,5,3]   ENSG00000186265[1,5,3]   \n",
       "308958        ENCODEHT002185877            [2,6,1]   ENSG00000122756[2,6,1]   \n",
       "\n",
       "        transcript_name tss_first_sd_issue tes_last_sa_issue source  \n",
       "22328      CASQ2[1,5,1]               True             False   lapa  \n",
       "22329      CASQ2[1,5,1]               True             False   lapa  \n",
       "122812  TNFSF13[2,10,1]               True             False   lapa  \n",
       "170309   MARCH7[1,10,3]               True             False   lapa  \n",
       "170310   MARCH7[1,10,3]               True             False   lapa  \n",
       "208089    CPT1B[1,20,1]               True             False   lapa  \n",
       "208090    CPT1B[1,20,1]               True             False   lapa  \n",
       "213864  SERPINI1[2,8,1]               True             False   lapa  \n",
       "213865  SERPINI1[2,8,1]               True             False   lapa  \n",
       "221642      BTLA[1,5,1]               True             False   lapa  \n",
       "221643      BTLA[1,5,1]               True             False   lapa  \n",
       "221644      BTLA[1,5,6]               True             False   lapa  \n",
       "221645      BTLA[1,5,3]               True             False   lapa  \n",
       "308958     CNTFR[2,6,1]               True             False   lapa  "
      ]
     },
     "execution_count": 26,
     "metadata": {},
     "output_type": "execute_result"
    }
   ],
   "source": [
    "ca.t_map.loc[ca.t_map.ic_id.isin(miss_ics)]"
   ]
  },
  {
   "cell_type": "markdown",
   "id": "69ad4b01-12df-43c3-abe8-871fd0a10f95",
   "metadata": {},
   "source": [
    "## Verification that ics are the same between the map and the ics"
   ]
  },
  {
   "cell_type": "code",
   "execution_count": 30,
   "id": "f066b71e-1ec4-4a90-b0ff-2bfb96891905",
   "metadata": {},
   "outputs": [
    {
     "data": {
      "text/html": [
       "<div>\n",
       "<style scoped>\n",
       "    .dataframe tbody tr th:only-of-type {\n",
       "        vertical-align: middle;\n",
       "    }\n",
       "\n",
       "    .dataframe tbody tr th {\n",
       "        vertical-align: top;\n",
       "    }\n",
       "\n",
       "    .dataframe thead th {\n",
       "        text-align: right;\n",
       "    }\n",
       "</style>\n",
       "<table border=\"1\" class=\"dataframe\">\n",
       "  <thead>\n",
       "    <tr style=\"text-align: right;\">\n",
       "      <th></th>\n",
       "      <th>ic_id</th>\n",
       "      <th>Name</th>\n",
       "    </tr>\n",
       "    <tr>\n",
       "      <th>novelty</th>\n",
       "      <th></th>\n",
       "      <th></th>\n",
       "    </tr>\n",
       "  </thead>\n",
       "  <tbody>\n",
       "    <tr>\n",
       "      <th>ISM</th>\n",
       "      <td>11423</td>\n",
       "      <td>11423</td>\n",
       "    </tr>\n",
       "    <tr>\n",
       "      <th>Known</th>\n",
       "      <td>99064</td>\n",
       "      <td>99064</td>\n",
       "    </tr>\n",
       "    <tr>\n",
       "      <th>Monoexonic</th>\n",
       "      <td>1466</td>\n",
       "      <td>1466</td>\n",
       "    </tr>\n",
       "    <tr>\n",
       "      <th>NIC</th>\n",
       "      <td>21393</td>\n",
       "      <td>21393</td>\n",
       "    </tr>\n",
       "    <tr>\n",
       "      <th>NNC</th>\n",
       "      <td>15673</td>\n",
       "      <td>15673</td>\n",
       "    </tr>\n",
       "  </tbody>\n",
       "</table>\n",
       "</div>"
      ],
      "text/plain": [
       "            ic_id   Name\n",
       "novelty                 \n",
       "ISM         11423  11423\n",
       "Known       99064  99064\n",
       "Monoexonic   1466   1466\n",
       "NIC         21393  21393\n",
       "NNC         15673  15673"
      ]
     },
     "execution_count": 30,
     "metadata": {},
     "output_type": "execute_result"
    }
   ],
   "source": [
    "ca = cerberus.read(h5)\n",
    "temp = ca.t_map.loc[ca.t_map.source=='lapa'].copy(deep=True)\n",
    "temp = temp[['ic_id']]\n",
    "nov = ca.ic[['Name', 'novelty']]\n",
    "temp = temp.merge(nov, how='left', left_on='ic_id', right_on='Name')\n",
    "temp.drop_duplicates(inplace=True)\n",
    "temp.groupby('novelty').count()"
   ]
  },
  {
   "cell_type": "code",
   "execution_count": 31,
   "id": "9b5c93fc-429e-4d43-a8cb-8952e8be9e90",
   "metadata": {},
   "outputs": [
    {
     "data": {
      "text/html": [
       "<div>\n",
       "<style scoped>\n",
       "    .dataframe tbody tr th:only-of-type {\n",
       "        vertical-align: middle;\n",
       "    }\n",
       "\n",
       "    .dataframe tbody tr th {\n",
       "        vertical-align: top;\n",
       "    }\n",
       "\n",
       "    .dataframe thead th {\n",
       "        text-align: right;\n",
       "    }\n",
       "</style>\n",
       "<table border=\"1\" class=\"dataframe\">\n",
       "  <thead>\n",
       "    <tr style=\"text-align: right;\">\n",
       "      <th></th>\n",
       "      <th>Name</th>\n",
       "    </tr>\n",
       "    <tr>\n",
       "      <th>novelty</th>\n",
       "      <th></th>\n",
       "    </tr>\n",
       "  </thead>\n",
       "  <tbody>\n",
       "    <tr>\n",
       "      <th>ISM</th>\n",
       "      <td>11423</td>\n",
       "    </tr>\n",
       "    <tr>\n",
       "      <th>Known</th>\n",
       "      <td>99064</td>\n",
       "    </tr>\n",
       "    <tr>\n",
       "      <th>Monoexonic</th>\n",
       "      <td>1466</td>\n",
       "    </tr>\n",
       "    <tr>\n",
       "      <th>NIC</th>\n",
       "      <td>21393</td>\n",
       "    </tr>\n",
       "    <tr>\n",
       "      <th>NNC</th>\n",
       "      <td>15673</td>\n",
       "    </tr>\n",
       "  </tbody>\n",
       "</table>\n",
       "</div>"
      ],
      "text/plain": [
       "             Name\n",
       "novelty          \n",
       "ISM         11423\n",
       "Known       99064\n",
       "Monoexonic   1466\n",
       "NIC         21393\n",
       "NNC         15673"
      ]
     },
     "execution_count": 31,
     "metadata": {},
     "output_type": "execute_result"
    }
   ],
   "source": [
    "temp = ca.ic.loc[ca.ic.source.str.contains('lapa')].copy(deep=True)\n",
    "temp[['Name', 'novelty']].groupby('novelty').count()"
   ]
  },
  {
   "cell_type": "markdown",
   "id": "8ce272b8-8924-4853-9f44-1886b4992494",
   "metadata": {},
   "source": [
    "## Overlap of intron chains b/w cerberus sources"
   ]
  },
  {
   "cell_type": "code",
   "execution_count": 4,
   "id": "0fb5688e-0025-4566-8018-143423206ee3",
   "metadata": {},
   "outputs": [],
   "source": [
    "h5 = 'cerberus_annot.h5'\n",
    "subset = 'polya'\n",
    "gids = None\n",
    "# sources = ['v29', 'v40']\n",
    "o = 'talon_expressed_polya_1tpm_genes.tsv'\n",
    "gids = pd.read_csv(o, sep='\\t').gene_id.tolist()"
   ]
  },
  {
   "cell_type": "code",
   "execution_count": 5,
   "id": "7fdf2bb5-9583-4778-bae8-820c290e03a1",
   "metadata": {},
   "outputs": [
    {
     "data": {
      "image/png": "[encoded data removed]",
      "text/plain": [
       "<Figure size 792x432 with 4 Axes>"
      ]
     },
     "metadata": {
      "needs_background": "light"
     },
     "output_type": "display_data"
    }
   ],
   "source": [
    "df = plot_ic_upset(h5, \n",
    "                   subset=subset,\n",
    "                   gids=gids)"
   ]
  },
  {
   "cell_type": "code",
   "execution_count": null,
   "id": "2c5dd6b0-24d4-45df-9b99-2516dfa2174e",
   "metadata": {},
   "outputs": [],
   "source": []
  },
  {
   "cell_type": "code",
   "execution_count": null,
   "id": "4b4aba68-07d0-4372-9d42-c6630970e054",
   "metadata": {},
   "outputs": [],
   "source": []
  }
 ],
 "metadata": {
  "kernelspec": {
   "display_name": "Python 3",
   "language": "python",
   "name": "python3"
  },
  "language_info": {
   "codemirror_mode": {
    "name": "ipython",
    "version": 3
   },
   "file_extension": ".py",
   "mimetype": "text/x-python",
   "name": "python",
   "nbconvert_exporter": "python",
   "pygments_lexer": "ipython3",
   "version": "3.7.4"
  }
 },
 "nbformat": 4,
 "nbformat_minor": 5
}
