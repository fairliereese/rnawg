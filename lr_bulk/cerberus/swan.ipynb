{
 "cells": [
  {
   "cell_type": "code",
   "execution_count": 15,
   "id": "1d6323ee-6fc4-459d-b992-5efefa5bef71",
   "metadata": {},
   "outputs": [],
   "source": [
    "import pandas as pd\n",
    "import numpy as np\n",
    "import scipy.stats as st\n",
    "import seaborn as sns\n",
    "import sys\n",
    "import os\n",
    "import gseapy as gp\n",
    "import pdb\n",
    "import copy\n",
    "from scipy import sparse\n",
    "import anndata\n",
    "\n",
    "\n",
    "p = os.path.dirname(os.path.dirname(os.getcwd()))\n",
    "sys.path.append(p)\n",
    "\n",
    "from scripts.utils import *\n",
    "from scripts.plotting import *"
   ]
  },
  {
   "cell_type": "code",
   "execution_count": 27,
   "id": "a0067de5-b765-436c-a838-b0a961f0962a",
   "metadata": {},
   "outputs": [],
   "source": [
    "# load expression data and metadata into swan\n",
    "annot = 'v29_cerberus.gtf'\n",
    "ab = 'cerberus_filtered_abundance.tsv'\n",
    "gene_ab = '/Users/fairliereese/mortazavi_lab/data/rnawg/lr_bulk/talon/human_talon_abundance.tsv'\n",
    "gtf = 'cerberus.gtf'"
   ]
  },
  {
   "cell_type": "code",
   "execution_count": 28,
   "id": "f4695ba5-c976-414a-ae0e-9df0d1a7fc32",
   "metadata": {},
   "outputs": [
    {
     "name": "stdout",
     "output_type": "stream",
     "text": [
      "\n",
      "Adding annotation to the SwanGraph\n",
      "\n",
      "Adding transcriptome to the SwanGraph\n",
      "Saving graph as swan_no_ab.p\n"
     ]
    }
   ],
   "source": [
    "sg = swan.SwanGraph()\n",
    "sg.add_annotation(annot)\n",
    "sg.add_transcriptome(gtf, include_isms=True)\n",
    "sg.save_graph('swan_no_ab')"
   ]
  },
  {
   "cell_type": "code",
   "execution_count": 29,
   "id": "61d1fbde-a552-4e60-a4a9-2e6694e9fb56",
   "metadata": {},
   "outputs": [
    {
     "name": "stdout",
     "output_type": "stream",
     "text": [
      "Read in graph from swan_no_ab.p\n",
      "\n",
      "Adding abundance for datasets hl60_m2_24hr_1_1, mucosa_of_descending_colon_1_1, hl60_1_2, posterior_vena_cava_2_1, aorta_2_1... (and 133 more) to SwanGraph\n",
      "Calculating TPM...\n",
      "Calculating PI...\n"
     ]
    },
    {
     "name": "stderr",
     "output_type": "stream",
     "text": [
      "/Users/fairliereese/miniconda3/lib/python3.7/site-packages/swan_vis/utils.py:410: PerformanceWarning: DataFrame is highly fragmented.  This is usually the result of calling `frame.insert` many times, which has poor performance.  Consider joining all columns at once using pd.concat(axis=1) instead.  To get a de-fragmented frame, use `newframe = frame.copy()`\n",
      "  df.reset_index(inplace=True)\n"
     ]
    },
    {
     "name": "stdout",
     "output_type": "stream",
     "text": [
      "Calculating edge usage...\n"
     ]
    },
    {
     "name": "stderr",
     "output_type": "stream",
     "text": [
      "/Users/fairliereese/miniconda3/lib/python3.7/site-packages/anndata/_core/anndata.py:120: ImplicitModificationWarning: Transforming to str index.\n",
      "  warnings.warn(\"Transforming to str index.\", ImplicitModificationWarning)\n"
     ]
    },
    {
     "name": "stdout",
     "output_type": "stream",
     "text": [
      "Calculating TSS usage...\n",
      "Using cerberus IDs to calculate\n"
     ]
    },
    {
     "name": "stderr",
     "output_type": "stream",
     "text": [
      "/Users/fairliereese/miniconda3/lib/python3.7/site-packages/swan_vis/utils.py:410: PerformanceWarning: DataFrame is highly fragmented.  This is usually the result of calling `frame.insert` many times, which has poor performance.  Consider joining all columns at once using pd.concat(axis=1) instead.  To get a de-fragmented frame, use `newframe = frame.copy()`\n",
      "  df.reset_index(inplace=True)\n"
     ]
    },
    {
     "name": "stdout",
     "output_type": "stream",
     "text": [
      "Calculating TES usage...\n",
      "Using cerberus IDs to calculate\n"
     ]
    },
    {
     "name": "stderr",
     "output_type": "stream",
     "text": [
      "/Users/fairliereese/miniconda3/lib/python3.7/site-packages/swan_vis/utils.py:410: PerformanceWarning: DataFrame is highly fragmented.  This is usually the result of calling `frame.insert` many times, which has poor performance.  Consider joining all columns at once using pd.concat(axis=1) instead.  To get a de-fragmented frame, use `newframe = frame.copy()`\n",
      "  df.reset_index(inplace=True)\n"
     ]
    },
    {
     "name": "stdout",
     "output_type": "stream",
     "text": [
      "Calculating IC usage...\n",
      "Using cerberus IDs to calculate\n"
     ]
    },
    {
     "name": "stderr",
     "output_type": "stream",
     "text": [
      "/Users/fairliereese/miniconda3/lib/python3.7/site-packages/swan_vis/utils.py:410: PerformanceWarning: DataFrame is highly fragmented.  This is usually the result of calling `frame.insert` many times, which has poor performance.  Consider joining all columns at once using pd.concat(axis=1) instead.  To get a de-fragmented frame, use `newframe = frame.copy()`\n",
      "  df.reset_index(inplace=True)\n"
     ]
    }
   ],
   "source": [
    "sg = swan.read('swan_no_ab.p')\n",
    "sg.add_abundance(ab)"
   ]
  },
  {
   "cell_type": "code",
   "execution_count": 30,
   "id": "2b0b0c4a-0cb0-42ed-853c-d3143b91f736",
   "metadata": {},
   "outputs": [
    {
     "name": "stdout",
     "output_type": "stream",
     "text": [
      "Saving graph as swan.p\n"
     ]
    }
   ],
   "source": [
    "sg.save_graph('swan')"
   ]
  },
  {
   "cell_type": "code",
   "execution_count": 31,
   "id": "66c4c895-636e-4192-a229-6f91c610901c",
   "metadata": {},
   "outputs": [
    {
     "name": "stdout",
     "output_type": "stream",
     "text": [
      "Read in graph from swan.p\n",
      "\n",
      "Adding abundance for datasets gm12878_1_1, gm12878_1_2, gm12878_1_3, gm12878_1_4, gm12878_3_1... (and 133 more) to SwanGraph\n",
      "Calculating TPM...\n"
     ]
    }
   ],
   "source": [
    "sg = swan.read('swan.p')\n",
    "sg.add_abundance(gene_ab, how='gene')"
   ]
  },
  {
   "cell_type": "code",
   "execution_count": 32,
   "id": "e0947285-bebb-4b13-800a-ff1c1345cc7b",
   "metadata": {},
   "outputs": [
    {
     "name": "stdout",
     "output_type": "stream",
     "text": [
      "Saving graph as swan.p\n"
     ]
    }
   ],
   "source": [
    "sg.save_graph('swan')"
   ]
  },
  {
   "cell_type": "code",
   "execution_count": 33,
   "id": "99b6df35-0247-44f8-88ae-9154f0066050",
   "metadata": {},
   "outputs": [
    {
     "data": {
      "text/plain": [
       "array(['Undefined', 'Known', 'NIC', 'ISM', 'NNC'], dtype=object)"
      ]
     },
     "execution_count": 33,
     "metadata": {},
     "output_type": "execute_result"
    }
   ],
   "source": [
    "sg.t_df.novelty.unique()\n"
   ]
  },
  {
   "cell_type": "markdown",
   "id": "60f53d90-c67f-47de-b3c8-ca4aa186c617",
   "metadata": {},
   "source": [
    "### ISMs got removed!!! 6/24/22\n",
    "* not in corrected abundance file\n",
    "* yes in corrected gtf\n",
    "* yet in input to the corrected abundance file\n",
    "* fixed by adding ISM_rescue to novelty ranks 6/28/22\n",
    "* But still not in swangraph!"
   ]
  },
  {
   "cell_type": "code",
   "execution_count": 34,
   "id": "177d480c-5e5f-4d38-a8cf-b5d4ba8c519a",
   "metadata": {},
   "outputs": [
    {
     "data": {
      "text/html": [
       "<div>\n",
       "<style scoped>\n",
       "    .dataframe tbody tr th:only-of-type {\n",
       "        vertical-align: middle;\n",
       "    }\n",
       "\n",
       "    .dataframe tbody tr th {\n",
       "        vertical-align: top;\n",
       "    }\n",
       "\n",
       "    .dataframe thead th {\n",
       "        text-align: right;\n",
       "    }\n",
       "</style>\n",
       "<table border=\"1\" class=\"dataframe\">\n",
       "  <thead>\n",
       "    <tr style=\"text-align: right;\">\n",
       "      <th></th>\n",
       "      <th>tid</th>\n",
       "    </tr>\n",
       "    <tr>\n",
       "      <th>novelty</th>\n",
       "      <th></th>\n",
       "    </tr>\n",
       "  </thead>\n",
       "  <tbody>\n",
       "    <tr>\n",
       "      <th>ISM</th>\n",
       "      <td>27635</td>\n",
       "    </tr>\n",
       "    <tr>\n",
       "      <th>Known</th>\n",
       "      <td>262367</td>\n",
       "    </tr>\n",
       "    <tr>\n",
       "      <th>NIC</th>\n",
       "      <td>48526</td>\n",
       "    </tr>\n",
       "    <tr>\n",
       "      <th>NNC</th>\n",
       "      <td>14539</td>\n",
       "    </tr>\n",
       "    <tr>\n",
       "      <th>Undefined</th>\n",
       "      <td>1282</td>\n",
       "    </tr>\n",
       "  </tbody>\n",
       "</table>\n",
       "</div>"
      ],
      "text/plain": [
       "              tid\n",
       "novelty          \n",
       "ISM         27635\n",
       "Known      262367\n",
       "NIC         48526\n",
       "NNC         14539\n",
       "Undefined    1282"
      ]
     },
     "execution_count": 34,
     "metadata": {},
     "output_type": "execute_result"
    }
   ],
   "source": [
    "temp = sg.t_df[['novelty', 'tid']]\n",
    "temp.reset_index(drop=True, inplace=True)\n",
    "temp[['novelty', 'tid']].groupby('novelty').count()"
   ]
  },
  {
   "cell_type": "code",
   "execution_count": 37,
   "id": "6f47e30b-2ddf-4f0d-a714-06d71281ce46",
   "metadata": {},
   "outputs": [
    {
     "data": {
      "text/html": [
       "<div>\n",
       "<style scoped>\n",
       "    .dataframe tbody tr th:only-of-type {\n",
       "        vertical-align: middle;\n",
       "    }\n",
       "\n",
       "    .dataframe tbody tr th {\n",
       "        vertical-align: top;\n",
       "    }\n",
       "\n",
       "    .dataframe thead th {\n",
       "        text-align: right;\n",
       "    }\n",
       "</style>\n",
       "<table border=\"1\" class=\"dataframe\">\n",
       "  <thead>\n",
       "    <tr style=\"text-align: right;\">\n",
       "      <th></th>\n",
       "      <th>tname</th>\n",
       "      <th>gid</th>\n",
       "      <th>gname</th>\n",
       "      <th>path</th>\n",
       "      <th>tid</th>\n",
       "      <th>tss_id</th>\n",
       "      <th>ic_id</th>\n",
       "      <th>tes_id</th>\n",
       "      <th>loc_path</th>\n",
       "      <th>annotation</th>\n",
       "      <th>novelty</th>\n",
       "    </tr>\n",
       "    <tr>\n",
       "      <th>tid</th>\n",
       "      <th></th>\n",
       "      <th></th>\n",
       "      <th></th>\n",
       "      <th></th>\n",
       "      <th></th>\n",
       "      <th></th>\n",
       "      <th></th>\n",
       "      <th></th>\n",
       "      <th></th>\n",
       "      <th></th>\n",
       "      <th></th>\n",
       "    </tr>\n",
       "  </thead>\n",
       "  <tbody>\n",
       "    <tr>\n",
       "      <th>ENCODEHG000058784[1,1,2]</th>\n",
       "      <td>ENCODEHG000058784[1,1,2]</td>\n",
       "      <td>ENCODEHG000058784</td>\n",
       "      <td>ENCODEHG000058784</td>\n",
       "      <td>[869635, 869617, 869636, 869621, 869637]</td>\n",
       "      <td>ENCODEHG000058784[1,1,2]</td>\n",
       "      <td>ENCODEHG000058784_1</td>\n",
       "      <td>ENCODEHG000058784_1</td>\n",
       "      <td>ENCODEHG000058784_2</td>\n",
       "      <td>[43, 41, 40, 37, 36, 34]</td>\n",
       "      <td>False</td>\n",
       "      <td>Undefined</td>\n",
       "    </tr>\n",
       "    <tr>\n",
       "      <th>ENCODEHG000058784[2,2,2]</th>\n",
       "      <td>ENCODEHG000058784[2,2,2]</td>\n",
       "      <td>ENCODEHG000058784</td>\n",
       "      <td>ENCODEHG000058784</td>\n",
       "      <td>[869638, 869639, 869616, 869617, 869618, 86961...</td>\n",
       "      <td>ENCODEHG000058784[2,2,2]</td>\n",
       "      <td>ENCODEHG000058784_2</td>\n",
       "      <td>ENCODEHG000058784_2</td>\n",
       "      <td>ENCODEHG000058784_2</td>\n",
       "      <td>[46, 44, 42, 41, 40, 39, 38, 37, 36, 34]</td>\n",
       "      <td>False</td>\n",
       "      <td>Undefined</td>\n",
       "    </tr>\n",
       "    <tr>\n",
       "      <th>ENCODEHG000058784[2,3,1]</th>\n",
       "      <td>ENCODEHG000058784[2,3,1]</td>\n",
       "      <td>ENCODEHG000058784</td>\n",
       "      <td>ENCODEHG000058784</td>\n",
       "      <td>[869614, 869615, 869616, 869617, 869618, 86961...</td>\n",
       "      <td>ENCODEHG000058784[2,3,1]</td>\n",
       "      <td>ENCODEHG000058784_2</td>\n",
       "      <td>ENCODEHG000058784_3</td>\n",
       "      <td>ENCODEHG000058784_1</td>\n",
       "      <td>[46, 45, 42, 41, 40, 39, 38, 37, 36, 35, 33, 3...</td>\n",
       "      <td>False</td>\n",
       "      <td>Undefined</td>\n",
       "    </tr>\n",
       "    <tr>\n",
       "      <th>ENCODEHG000058837[1,1,1]</th>\n",
       "      <td>ENCODEHG000058837[1,1,1]</td>\n",
       "      <td>ENCODEHG000058837</td>\n",
       "      <td>ENCODEHG000058837</td>\n",
       "      <td>[869612, 869598, 869599, 869600, 869613, 86960...</td>\n",
       "      <td>ENCODEHG000058837[1,1,1]</td>\n",
       "      <td>ENCODEHG000058837_1</td>\n",
       "      <td>ENCODEHG000058837_1</td>\n",
       "      <td>ENCODEHG000058837_1</td>\n",
       "      <td>[11, 9, 8, 6, 5, 2, 1, 0]</td>\n",
       "      <td>False</td>\n",
       "      <td>Undefined</td>\n",
       "    </tr>\n",
       "    <tr>\n",
       "      <th>ENCODEHG000058837[2,2,1]</th>\n",
       "      <td>ENCODEHG000058837[2,2,1]</td>\n",
       "      <td>ENCODEHG000058837</td>\n",
       "      <td>ENCODEHG000058837</td>\n",
       "      <td>[869606, 869607, 869597, 869598, 869599, 86960...</td>\n",
       "      <td>ENCODEHG000058837[2,2,1]</td>\n",
       "      <td>ENCODEHG000058837_2</td>\n",
       "      <td>ENCODEHG000058837_2</td>\n",
       "      <td>ENCODEHG000058837_1</td>\n",
       "      <td>[17, 12, 10, 9, 8, 6, 5, 4, 3, 2, 1, 0]</td>\n",
       "      <td>False</td>\n",
       "      <td>Undefined</td>\n",
       "    </tr>\n",
       "    <tr>\n",
       "      <th>...</th>\n",
       "      <td>...</td>\n",
       "      <td>...</td>\n",
       "      <td>...</td>\n",
       "      <td>...</td>\n",
       "      <td>...</td>\n",
       "      <td>...</td>\n",
       "      <td>...</td>\n",
       "      <td>...</td>\n",
       "      <td>...</td>\n",
       "      <td>...</td>\n",
       "      <td>...</td>\n",
       "    </tr>\n",
       "    <tr>\n",
       "      <th>ENCODEHG000570158[1,1,1]</th>\n",
       "      <td>ENCODEHG000570158[1,1,1]</td>\n",
       "      <td>ENCODEHG000570158</td>\n",
       "      <td>ENCODEHG000570158</td>\n",
       "      <td>[928099, 928100, 928101]</td>\n",
       "      <td>ENCODEHG000570158[1,1,1]</td>\n",
       "      <td>ENCODEHG000570158_1</td>\n",
       "      <td>ENCODEHG000570158_1</td>\n",
       "      <td>ENCODEHG000570158_1</td>\n",
       "      <td>[600964, 600962, 600957, 600956]</td>\n",
       "      <td>False</td>\n",
       "      <td>Undefined</td>\n",
       "    </tr>\n",
       "    <tr>\n",
       "      <th>ENCODEHG000570465[1,1,1]</th>\n",
       "      <td>ENCODEHG000570465[1,1,1]</td>\n",
       "      <td>ENCODEHG000570465</td>\n",
       "      <td>ENCODEHG000570465</td>\n",
       "      <td>[956853, 956854, 956855]</td>\n",
       "      <td>ENCODEHG000570465[1,1,1]</td>\n",
       "      <td>ENCODEHG000570465_1</td>\n",
       "      <td>ENCODEHG000570465_1</td>\n",
       "      <td>ENCODEHG000570465_1</td>\n",
       "      <td>[898398, 898399, 898400, 898401]</td>\n",
       "      <td>False</td>\n",
       "      <td>Undefined</td>\n",
       "    </tr>\n",
       "    <tr>\n",
       "      <th>ENCODEHG000573849[1,1,1]</th>\n",
       "      <td>ENCODEHG000573849[1,1,1]</td>\n",
       "      <td>ENCODEHG000573849</td>\n",
       "      <td>ENCODEHG000573849</td>\n",
       "      <td>[947086, 947087, 947088, 947089, 947090, 94709...</td>\n",
       "      <td>ENCODEHG000573849[1,1,1]</td>\n",
       "      <td>ENCODEHG000573849_1</td>\n",
       "      <td>ENCODEHG000573849_1</td>\n",
       "      <td>ENCODEHG000573849_1</td>\n",
       "      <td>[829227, 829228, 829229, 829230, 829231, 82923...</td>\n",
       "      <td>False</td>\n",
       "      <td>Undefined</td>\n",
       "    </tr>\n",
       "    <tr>\n",
       "      <th>ENCODEHG000576557[1,1,1]</th>\n",
       "      <td>ENCODEHG000576557[1,1,1]</td>\n",
       "      <td>ENCODEHG000576557</td>\n",
       "      <td>ENCODEHG000576557</td>\n",
       "      <td>[924605, 924606, 924607]</td>\n",
       "      <td>ENCODEHG000576557[1,1,1]</td>\n",
       "      <td>ENCODEHG000576557_1</td>\n",
       "      <td>ENCODEHG000576557_1</td>\n",
       "      <td>ENCODEHG000576557_1</td>\n",
       "      <td>[565062, 565061, 565060, 565059]</td>\n",
       "      <td>False</td>\n",
       "      <td>Undefined</td>\n",
       "    </tr>\n",
       "    <tr>\n",
       "      <th>ENCODEHG000600414[1,1,1]</th>\n",
       "      <td>ENCODEHG000600414[1,1,1]</td>\n",
       "      <td>ENCODEHG000600414</td>\n",
       "      <td>ENCODEHG000600414</td>\n",
       "      <td>[938051, 938052, 938053]</td>\n",
       "      <td>ENCODEHG000600414[1,1,1]</td>\n",
       "      <td>ENCODEHG000600414_1</td>\n",
       "      <td>ENCODEHG000600414_1</td>\n",
       "      <td>ENCODEHG000600414_1</td>\n",
       "      <td>[715620, 715621, 715622, 715623]</td>\n",
       "      <td>False</td>\n",
       "      <td>Undefined</td>\n",
       "    </tr>\n",
       "  </tbody>\n",
       "</table>\n",
       "<p>1282 rows × 11 columns</p>\n",
       "</div>"
      ],
      "text/plain": [
       "                                             tname                gid  \\\n",
       "tid                                                                     \n",
       "ENCODEHG000058784[1,1,2]  ENCODEHG000058784[1,1,2]  ENCODEHG000058784   \n",
       "ENCODEHG000058784[2,2,2]  ENCODEHG000058784[2,2,2]  ENCODEHG000058784   \n",
       "ENCODEHG000058784[2,3,1]  ENCODEHG000058784[2,3,1]  ENCODEHG000058784   \n",
       "ENCODEHG000058837[1,1,1]  ENCODEHG000058837[1,1,1]  ENCODEHG000058837   \n",
       "ENCODEHG000058837[2,2,1]  ENCODEHG000058837[2,2,1]  ENCODEHG000058837   \n",
       "...                                            ...                ...   \n",
       "ENCODEHG000570158[1,1,1]  ENCODEHG000570158[1,1,1]  ENCODEHG000570158   \n",
       "ENCODEHG000570465[1,1,1]  ENCODEHG000570465[1,1,1]  ENCODEHG000570465   \n",
       "ENCODEHG000573849[1,1,1]  ENCODEHG000573849[1,1,1]  ENCODEHG000573849   \n",
       "ENCODEHG000576557[1,1,1]  ENCODEHG000576557[1,1,1]  ENCODEHG000576557   \n",
       "ENCODEHG000600414[1,1,1]  ENCODEHG000600414[1,1,1]  ENCODEHG000600414   \n",
       "\n",
       "                                      gname  \\\n",
       "tid                                           \n",
       "ENCODEHG000058784[1,1,2]  ENCODEHG000058784   \n",
       "ENCODEHG000058784[2,2,2]  ENCODEHG000058784   \n",
       "ENCODEHG000058784[2,3,1]  ENCODEHG000058784   \n",
       "ENCODEHG000058837[1,1,1]  ENCODEHG000058837   \n",
       "ENCODEHG000058837[2,2,1]  ENCODEHG000058837   \n",
       "...                                     ...   \n",
       "ENCODEHG000570158[1,1,1]  ENCODEHG000570158   \n",
       "ENCODEHG000570465[1,1,1]  ENCODEHG000570465   \n",
       "ENCODEHG000573849[1,1,1]  ENCODEHG000573849   \n",
       "ENCODEHG000576557[1,1,1]  ENCODEHG000576557   \n",
       "ENCODEHG000600414[1,1,1]  ENCODEHG000600414   \n",
       "\n",
       "                                                                       path  \\\n",
       "tid                                                                           \n",
       "ENCODEHG000058784[1,1,2]           [869635, 869617, 869636, 869621, 869637]   \n",
       "ENCODEHG000058784[2,2,2]  [869638, 869639, 869616, 869617, 869618, 86961...   \n",
       "ENCODEHG000058784[2,3,1]  [869614, 869615, 869616, 869617, 869618, 86961...   \n",
       "ENCODEHG000058837[1,1,1]  [869612, 869598, 869599, 869600, 869613, 86960...   \n",
       "ENCODEHG000058837[2,2,1]  [869606, 869607, 869597, 869598, 869599, 86960...   \n",
       "...                                                                     ...   \n",
       "ENCODEHG000570158[1,1,1]                           [928099, 928100, 928101]   \n",
       "ENCODEHG000570465[1,1,1]                           [956853, 956854, 956855]   \n",
       "ENCODEHG000573849[1,1,1]  [947086, 947087, 947088, 947089, 947090, 94709...   \n",
       "ENCODEHG000576557[1,1,1]                           [924605, 924606, 924607]   \n",
       "ENCODEHG000600414[1,1,1]                           [938051, 938052, 938053]   \n",
       "\n",
       "                                               tid               tss_id  \\\n",
       "tid                                                                       \n",
       "ENCODEHG000058784[1,1,2]  ENCODEHG000058784[1,1,2]  ENCODEHG000058784_1   \n",
       "ENCODEHG000058784[2,2,2]  ENCODEHG000058784[2,2,2]  ENCODEHG000058784_2   \n",
       "ENCODEHG000058784[2,3,1]  ENCODEHG000058784[2,3,1]  ENCODEHG000058784_2   \n",
       "ENCODEHG000058837[1,1,1]  ENCODEHG000058837[1,1,1]  ENCODEHG000058837_1   \n",
       "ENCODEHG000058837[2,2,1]  ENCODEHG000058837[2,2,1]  ENCODEHG000058837_2   \n",
       "...                                            ...                  ...   \n",
       "ENCODEHG000570158[1,1,1]  ENCODEHG000570158[1,1,1]  ENCODEHG000570158_1   \n",
       "ENCODEHG000570465[1,1,1]  ENCODEHG000570465[1,1,1]  ENCODEHG000570465_1   \n",
       "ENCODEHG000573849[1,1,1]  ENCODEHG000573849[1,1,1]  ENCODEHG000573849_1   \n",
       "ENCODEHG000576557[1,1,1]  ENCODEHG000576557[1,1,1]  ENCODEHG000576557_1   \n",
       "ENCODEHG000600414[1,1,1]  ENCODEHG000600414[1,1,1]  ENCODEHG000600414_1   \n",
       "\n",
       "                                        ic_id               tes_id  \\\n",
       "tid                                                                  \n",
       "ENCODEHG000058784[1,1,2]  ENCODEHG000058784_1  ENCODEHG000058784_2   \n",
       "ENCODEHG000058784[2,2,2]  ENCODEHG000058784_2  ENCODEHG000058784_2   \n",
       "ENCODEHG000058784[2,3,1]  ENCODEHG000058784_3  ENCODEHG000058784_1   \n",
       "ENCODEHG000058837[1,1,1]  ENCODEHG000058837_1  ENCODEHG000058837_1   \n",
       "ENCODEHG000058837[2,2,1]  ENCODEHG000058837_2  ENCODEHG000058837_1   \n",
       "...                                       ...                  ...   \n",
       "ENCODEHG000570158[1,1,1]  ENCODEHG000570158_1  ENCODEHG000570158_1   \n",
       "ENCODEHG000570465[1,1,1]  ENCODEHG000570465_1  ENCODEHG000570465_1   \n",
       "ENCODEHG000573849[1,1,1]  ENCODEHG000573849_1  ENCODEHG000573849_1   \n",
       "ENCODEHG000576557[1,1,1]  ENCODEHG000576557_1  ENCODEHG000576557_1   \n",
       "ENCODEHG000600414[1,1,1]  ENCODEHG000600414_1  ENCODEHG000600414_1   \n",
       "\n",
       "                                                                   loc_path  \\\n",
       "tid                                                                           \n",
       "ENCODEHG000058784[1,1,2]                           [43, 41, 40, 37, 36, 34]   \n",
       "ENCODEHG000058784[2,2,2]           [46, 44, 42, 41, 40, 39, 38, 37, 36, 34]   \n",
       "ENCODEHG000058784[2,3,1]  [46, 45, 42, 41, 40, 39, 38, 37, 36, 35, 33, 3...   \n",
       "ENCODEHG000058837[1,1,1]                          [11, 9, 8, 6, 5, 2, 1, 0]   \n",
       "ENCODEHG000058837[2,2,1]            [17, 12, 10, 9, 8, 6, 5, 4, 3, 2, 1, 0]   \n",
       "...                                                                     ...   \n",
       "ENCODEHG000570158[1,1,1]                   [600964, 600962, 600957, 600956]   \n",
       "ENCODEHG000570465[1,1,1]                   [898398, 898399, 898400, 898401]   \n",
       "ENCODEHG000573849[1,1,1]  [829227, 829228, 829229, 829230, 829231, 82923...   \n",
       "ENCODEHG000576557[1,1,1]                   [565062, 565061, 565060, 565059]   \n",
       "ENCODEHG000600414[1,1,1]                   [715620, 715621, 715622, 715623]   \n",
       "\n",
       "                          annotation    novelty  \n",
       "tid                                              \n",
       "ENCODEHG000058784[1,1,2]       False  Undefined  \n",
       "ENCODEHG000058784[2,2,2]       False  Undefined  \n",
       "ENCODEHG000058784[2,3,1]       False  Undefined  \n",
       "ENCODEHG000058837[1,1,1]       False  Undefined  \n",
       "ENCODEHG000058837[2,2,1]       False  Undefined  \n",
       "...                              ...        ...  \n",
       "ENCODEHG000570158[1,1,1]       False  Undefined  \n",
       "ENCODEHG000570465[1,1,1]       False  Undefined  \n",
       "ENCODEHG000573849[1,1,1]       False  Undefined  \n",
       "ENCODEHG000576557[1,1,1]       False  Undefined  \n",
       "ENCODEHG000600414[1,1,1]       False  Undefined  \n",
       "\n",
       "[1282 rows x 11 columns]"
      ]
     },
     "execution_count": 37,
     "metadata": {},
     "output_type": "execute_result"
    }
   ],
   "source": [
    "sg.t_df.loc[sg.t_df.novelty == 'Undefined']"
   ]
  },
  {
   "cell_type": "code",
   "execution_count": 35,
   "id": "1c053645-748b-4152-938a-5bfa226f7ffa",
   "metadata": {},
   "outputs": [
    {
     "name": "stdout",
     "output_type": "stream",
     "text": [
      "Saving graph as swan.p\n"
     ]
    }
   ],
   "source": [
    "sg.save_graph('swan')"
   ]
  },
  {
   "cell_type": "markdown",
   "id": "8dd4b48c-1575-4141-9e3d-8419b82a480a",
   "metadata": {},
   "source": [
    "## Add metadata"
   ]
  },
  {
   "cell_type": "code",
   "execution_count": 36,
   "id": "185a5c7f-a653-4e04-b002-00689f540d9b",
   "metadata": {},
   "outputs": [
    {
     "name": "stdout",
     "output_type": "stream",
     "text": [
      "Read in graph from swan.p\n"
     ]
    },
    {
     "name": "stderr",
     "output_type": "stream",
     "text": [
      "/Users/fairliereese/miniconda3/lib/python3.7/site-packages/anndata/_core/anndata.py:794: UserWarning: \n",
      "AnnData expects .obs.index to contain strings, but got values like:\n",
      "    [0, 1, 2, 3, 4]\n",
      "\n",
      "    Inferred to be: integer\n",
      "\n",
      "  value_idx = self._prep_dim_index(value.index, attr)\n"
     ]
    },
    {
     "name": "stdout",
     "output_type": "stream",
     "text": [
      "Saving graph as swan.p\n"
     ]
    }
   ],
   "source": [
    "sg = swan.read('swan.p')\n",
    "meta = '../swan/swan_metadata.tsv'\n",
    "sg.add_metadata(meta)\n",
    "\n",
    "# colors\n",
    "c_dict, order = get_biosample_colors()\n",
    "sg.set_metadata_colors('sample', c_dict)\n",
    "\n",
    "c_dict, order = get_ad_colors()\n",
    "sg.set_metadata_colors('health_status', c_dict)\n",
    "\n",
    "sg.save_graph('swan')"
   ]
  },
  {
   "cell_type": "code",
   "execution_count": null,
   "id": "122c6c14-76d5-4b40-9d87-a9acf29c1902",
   "metadata": {},
   "outputs": [],
   "source": []
  }
 ],
 "metadata": {
  "kernelspec": {
   "display_name": "Python 3",
   "language": "python",
   "name": "python3"
  },
  "language_info": {
   "codemirror_mode": {
    "name": "ipython",
    "version": 3
   },
   "file_extension": ".py",
   "mimetype": "text/x-python",
   "name": "python",
   "nbconvert_exporter": "python",
   "pygments_lexer": "ipython3",
   "version": "3.7.4"
  }
 },
 "nbformat": 4,
 "nbformat_minor": 5
}
