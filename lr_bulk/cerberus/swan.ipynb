{
 "cells": [
  {
   "cell_type": "code",
   "execution_count": 1,
   "id": "1d6323ee-6fc4-459d-b992-5efefa5bef71",
   "metadata": {},
   "outputs": [],
   "source": [
    "import pandas as pd\n",
    "import numpy as np\n",
    "import scipy.stats as st\n",
    "import seaborn as sns\n",
    "import sys\n",
    "import os\n",
    "import gseapy as gp\n",
    "import pdb\n",
    "import copy\n",
    "from scipy import sparse\n",
    "import anndata\n",
    "import swan_vis as swan\n",
    "\n",
    "\n",
    "p = os.path.dirname(os.path.dirname(os.getcwd()))\n",
    "sys.path.append(p)\n",
    "\n",
    "from scripts.utils import *\n",
    "from scripts.plotting import *"
   ]
  },
  {
   "cell_type": "code",
   "execution_count": 25,
   "id": "a0067de5-b765-436c-a838-b0a961f0962a",
   "metadata": {},
   "outputs": [],
   "source": [
    "# load expression data and metadata into swan\n",
    "annot = 'v29_cerberus.gtf'\n",
    "ab = 'cerberus_filtered_abundance.tsv'\n",
    "gene_ab = '/Users/fairliereese/mortazavi_lab/data/rnawg/lr_bulk/talon/human_talon_abundance.tsv'\n",
    "gtf = 'cerberus.gtf'"
   ]
  },
  {
   "cell_type": "code",
   "execution_count": 28,
   "id": "f4695ba5-c976-414a-ae0e-9df0d1a7fc32",
   "metadata": {},
   "outputs": [
    {
     "name": "stdout",
     "output_type": "stream",
     "text": [
      "\n",
      "Adding annotation to the SwanGraph\n",
      "\n",
      "Adding transcriptome to the SwanGraph\n",
      "Saving graph as swan_no_ab.p\n"
     ]
    }
   ],
   "source": [
    "sg = swan.SwanGraph()\n",
    "sg.add_annotation(annot)\n",
    "sg.add_transcriptome(gtf, include_isms=True)\n",
    "sg.save_graph('swan_no_ab')"
   ]
  },
  {
   "cell_type": "code",
   "execution_count": 29,
   "id": "61d1fbde-a552-4e60-a4a9-2e6694e9fb56",
   "metadata": {},
   "outputs": [
    {
     "name": "stdout",
     "output_type": "stream",
     "text": [
      "Read in graph from swan_no_ab.p\n",
      "\n",
      "Adding abundance for datasets hl60_m2_24hr_1_1, mucosa_of_descending_colon_1_1, hl60_1_2, posterior_vena_cava_2_1, aorta_2_1... (and 133 more) to SwanGraph\n",
      "Calculating TPM...\n",
      "Calculating PI...\n"
     ]
    },
    {
     "name": "stderr",
     "output_type": "stream",
     "text": [
      "/Users/fairliereese/miniconda3/lib/python3.7/site-packages/swan_vis/utils.py:410: PerformanceWarning: DataFrame is highly fragmented.  This is usually the result of calling `frame.insert` many times, which has poor performance.  Consider joining all columns at once using pd.concat(axis=1) instead.  To get a de-fragmented frame, use `newframe = frame.copy()`\n",
      "  df.reset_index(inplace=True)\n"
     ]
    },
    {
     "name": "stdout",
     "output_type": "stream",
     "text": [
      "Calculating edge usage...\n"
     ]
    },
    {
     "name": "stderr",
     "output_type": "stream",
     "text": [
      "/Users/fairliereese/miniconda3/lib/python3.7/site-packages/anndata/_core/anndata.py:120: ImplicitModificationWarning: Transforming to str index.\n",
      "  warnings.warn(\"Transforming to str index.\", ImplicitModificationWarning)\n"
     ]
    },
    {
     "name": "stdout",
     "output_type": "stream",
     "text": [
      "Calculating TSS usage...\n",
      "Using cerberus IDs to calculate\n"
     ]
    },
    {
     "name": "stderr",
     "output_type": "stream",
     "text": [
      "/Users/fairliereese/miniconda3/lib/python3.7/site-packages/swan_vis/utils.py:410: PerformanceWarning: DataFrame is highly fragmented.  This is usually the result of calling `frame.insert` many times, which has poor performance.  Consider joining all columns at once using pd.concat(axis=1) instead.  To get a de-fragmented frame, use `newframe = frame.copy()`\n",
      "  df.reset_index(inplace=True)\n"
     ]
    },
    {
     "name": "stdout",
     "output_type": "stream",
     "text": [
      "Calculating TES usage...\n",
      "Using cerberus IDs to calculate\n"
     ]
    },
    {
     "name": "stderr",
     "output_type": "stream",
     "text": [
      "/Users/fairliereese/miniconda3/lib/python3.7/site-packages/swan_vis/utils.py:410: PerformanceWarning: DataFrame is highly fragmented.  This is usually the result of calling `frame.insert` many times, which has poor performance.  Consider joining all columns at once using pd.concat(axis=1) instead.  To get a de-fragmented frame, use `newframe = frame.copy()`\n",
      "  df.reset_index(inplace=True)\n"
     ]
    },
    {
     "name": "stdout",
     "output_type": "stream",
     "text": [
      "Calculating IC usage...\n",
      "Using cerberus IDs to calculate\n"
     ]
    },
    {
     "name": "stderr",
     "output_type": "stream",
     "text": [
      "/Users/fairliereese/miniconda3/lib/python3.7/site-packages/swan_vis/utils.py:410: PerformanceWarning: DataFrame is highly fragmented.  This is usually the result of calling `frame.insert` many times, which has poor performance.  Consider joining all columns at once using pd.concat(axis=1) instead.  To get a de-fragmented frame, use `newframe = frame.copy()`\n",
      "  df.reset_index(inplace=True)\n"
     ]
    }
   ],
   "source": [
    "sg = swan.read('swan_no_ab.p')\n",
    "sg.add_abundance(ab)"
   ]
  },
  {
   "cell_type": "code",
   "execution_count": 30,
   "id": "2b0b0c4a-0cb0-42ed-853c-d3143b91f736",
   "metadata": {},
   "outputs": [
    {
     "name": "stdout",
     "output_type": "stream",
     "text": [
      "Saving graph as swan.p\n"
     ]
    }
   ],
   "source": [
    "sg.save_graph('swan')"
   ]
  },
  {
   "cell_type": "code",
   "execution_count": 31,
   "id": "66c4c895-636e-4192-a229-6f91c610901c",
   "metadata": {},
   "outputs": [
    {
     "name": "stdout",
     "output_type": "stream",
     "text": [
      "Read in graph from swan.p\n",
      "\n",
      "Adding abundance for datasets gm12878_1_1, gm12878_1_2, gm12878_1_3, gm12878_1_4, gm12878_3_1... (and 133 more) to SwanGraph\n",
      "Calculating TPM...\n"
     ]
    }
   ],
   "source": [
    "sg = swan.read('swan.p')\n",
    "sg.add_abundance(gene_ab, how='gene')"
   ]
  },
  {
   "cell_type": "code",
   "execution_count": 32,
   "id": "e0947285-bebb-4b13-800a-ff1c1345cc7b",
   "metadata": {},
   "outputs": [
    {
     "name": "stdout",
     "output_type": "stream",
     "text": [
      "Saving graph as swan.p\n"
     ]
    }
   ],
   "source": [
    "sg.save_graph('swan')"
   ]
  },
  {
   "cell_type": "code",
   "execution_count": 33,
   "id": "99b6df35-0247-44f8-88ae-9154f0066050",
   "metadata": {},
   "outputs": [
    {
     "data": {
      "text/plain": [
       "array(['Undefined', 'Known', 'NIC', 'ISM', 'NNC'], dtype=object)"
      ]
     },
     "execution_count": 33,
     "metadata": {},
     "output_type": "execute_result"
    }
   ],
   "source": [
    "sg.t_df.novelty.unique()"
   ]
  },
  {
   "cell_type": "code",
   "execution_count": 34,
   "id": "177d480c-5e5f-4d38-a8cf-b5d4ba8c519a",
   "metadata": {},
   "outputs": [
    {
     "data": {
      "text/html": [
       "<div>\n",
       "<style scoped>\n",
       "    .dataframe tbody tr th:only-of-type {\n",
       "        vertical-align: middle;\n",
       "    }\n",
       "\n",
       "    .dataframe tbody tr th {\n",
       "        vertical-align: top;\n",
       "    }\n",
       "\n",
       "    .dataframe thead th {\n",
       "        text-align: right;\n",
       "    }\n",
       "</style>\n",
       "<table border=\"1\" class=\"dataframe\">\n",
       "  <thead>\n",
       "    <tr style=\"text-align: right;\">\n",
       "      <th></th>\n",
       "      <th>tid</th>\n",
       "    </tr>\n",
       "    <tr>\n",
       "      <th>novelty</th>\n",
       "      <th></th>\n",
       "    </tr>\n",
       "  </thead>\n",
       "  <tbody>\n",
       "    <tr>\n",
       "      <th>ISM</th>\n",
       "      <td>27635</td>\n",
       "    </tr>\n",
       "    <tr>\n",
       "      <th>Known</th>\n",
       "      <td>262367</td>\n",
       "    </tr>\n",
       "    <tr>\n",
       "      <th>NIC</th>\n",
       "      <td>48526</td>\n",
       "    </tr>\n",
       "    <tr>\n",
       "      <th>NNC</th>\n",
       "      <td>14539</td>\n",
       "    </tr>\n",
       "    <tr>\n",
       "      <th>Undefined</th>\n",
       "      <td>1282</td>\n",
       "    </tr>\n",
       "  </tbody>\n",
       "</table>\n",
       "</div>"
      ],
      "text/plain": [
       "              tid\n",
       "novelty          \n",
       "ISM         27635\n",
       "Known      262367\n",
       "NIC         48526\n",
       "NNC         14539\n",
       "Undefined    1282"
      ]
     },
     "execution_count": 34,
     "metadata": {},
     "output_type": "execute_result"
    }
   ],
   "source": [
    "temp = sg.t_df[['novelty', 'tid']]\n",
    "temp.reset_index(drop=True, inplace=True)\n",
    "temp[['novelty', 'tid']].groupby('novelty').count()"
   ]
  },
  {
   "cell_type": "code",
   "execution_count": 37,
   "id": "6f47e30b-2ddf-4f0d-a714-06d71281ce46",
   "metadata": {
    "collapsed": true,
    "jupyter": {
     "outputs_hidden": true
    },
    "tags": []
   },
   "outputs": [
    {
     "data": {
      "text/html": [
       "<div>\n",
       "<style scoped>\n",
       "    .dataframe tbody tr th:only-of-type {\n",
       "        vertical-align: middle;\n",
       "    }\n",
       "\n",
       "    .dataframe tbody tr th {\n",
       "        vertical-align: top;\n",
       "    }\n",
       "\n",
       "    .dataframe thead th {\n",
       "        text-align: right;\n",
       "    }\n",
       "</style>\n",
       "<table border=\"1\" class=\"dataframe\">\n",
       "  <thead>\n",
       "    <tr style=\"text-align: right;\">\n",
       "      <th></th>\n",
       "      <th>tname</th>\n",
       "      <th>gid</th>\n",
       "      <th>gname</th>\n",
       "      <th>path</th>\n",
       "      <th>tid</th>\n",
       "      <th>tss_id</th>\n",
       "      <th>ic_id</th>\n",
       "      <th>tes_id</th>\n",
       "      <th>loc_path</th>\n",
       "      <th>annotation</th>\n",
       "      <th>novelty</th>\n",
       "    </tr>\n",
       "    <tr>\n",
       "      <th>tid</th>\n",
       "      <th></th>\n",
       "      <th></th>\n",
       "      <th></th>\n",
       "      <th></th>\n",
       "      <th></th>\n",
       "      <th></th>\n",
       "      <th></th>\n",
       "      <th></th>\n",
       "      <th></th>\n",
       "      <th></th>\n",
       "      <th></th>\n",
       "    </tr>\n",
       "  </thead>\n",
       "  <tbody>\n",
       "    <tr>\n",
       "      <th>ENCODEHG000058784[1,1,2]</th>\n",
       "      <td>ENCODEHG000058784[1,1,2]</td>\n",
       "      <td>ENCODEHG000058784</td>\n",
       "      <td>ENCODEHG000058784</td>\n",
       "      <td>[869635, 869617, 869636, 869621, 869637]</td>\n",
       "      <td>ENCODEHG000058784[1,1,2]</td>\n",
       "      <td>ENCODEHG000058784_1</td>\n",
       "      <td>ENCODEHG000058784_1</td>\n",
       "      <td>ENCODEHG000058784_2</td>\n",
       "      <td>[43, 41, 40, 37, 36, 34]</td>\n",
       "      <td>False</td>\n",
       "      <td>Undefined</td>\n",
       "    </tr>\n",
       "    <tr>\n",
       "      <th>ENCODEHG000058784[2,2,2]</th>\n",
       "      <td>ENCODEHG000058784[2,2,2]</td>\n",
       "      <td>ENCODEHG000058784</td>\n",
       "      <td>ENCODEHG000058784</td>\n",
       "      <td>[869638, 869639, 869616, 869617, 869618, 86961...</td>\n",
       "      <td>ENCODEHG000058784[2,2,2]</td>\n",
       "      <td>ENCODEHG000058784_2</td>\n",
       "      <td>ENCODEHG000058784_2</td>\n",
       "      <td>ENCODEHG000058784_2</td>\n",
       "      <td>[46, 44, 42, 41, 40, 39, 38, 37, 36, 34]</td>\n",
       "      <td>False</td>\n",
       "      <td>Undefined</td>\n",
       "    </tr>\n",
       "    <tr>\n",
       "      <th>ENCODEHG000058784[2,3,1]</th>\n",
       "      <td>ENCODEHG000058784[2,3,1]</td>\n",
       "      <td>ENCODEHG000058784</td>\n",
       "      <td>ENCODEHG000058784</td>\n",
       "      <td>[869614, 869615, 869616, 869617, 869618, 86961...</td>\n",
       "      <td>ENCODEHG000058784[2,3,1]</td>\n",
       "      <td>ENCODEHG000058784_2</td>\n",
       "      <td>ENCODEHG000058784_3</td>\n",
       "      <td>ENCODEHG000058784_1</td>\n",
       "      <td>[46, 45, 42, 41, 40, 39, 38, 37, 36, 35, 33, 3...</td>\n",
       "      <td>False</td>\n",
       "      <td>Undefined</td>\n",
       "    </tr>\n",
       "    <tr>\n",
       "      <th>ENCODEHG000058837[1,1,1]</th>\n",
       "      <td>ENCODEHG000058837[1,1,1]</td>\n",
       "      <td>ENCODEHG000058837</td>\n",
       "      <td>ENCODEHG000058837</td>\n",
       "      <td>[869612, 869598, 869599, 869600, 869613, 86960...</td>\n",
       "      <td>ENCODEHG000058837[1,1,1]</td>\n",
       "      <td>ENCODEHG000058837_1</td>\n",
       "      <td>ENCODEHG000058837_1</td>\n",
       "      <td>ENCODEHG000058837_1</td>\n",
       "      <td>[11, 9, 8, 6, 5, 2, 1, 0]</td>\n",
       "      <td>False</td>\n",
       "      <td>Undefined</td>\n",
       "    </tr>\n",
       "    <tr>\n",
       "      <th>ENCODEHG000058837[2,2,1]</th>\n",
       "      <td>ENCODEHG000058837[2,2,1]</td>\n",
       "      <td>ENCODEHG000058837</td>\n",
       "      <td>ENCODEHG000058837</td>\n",
       "      <td>[869606, 869607, 869597, 869598, 869599, 86960...</td>\n",
       "      <td>ENCODEHG000058837[2,2,1]</td>\n",
       "      <td>ENCODEHG000058837_2</td>\n",
       "      <td>ENCODEHG000058837_2</td>\n",
       "      <td>ENCODEHG000058837_1</td>\n",
       "      <td>[17, 12, 10, 9, 8, 6, 5, 4, 3, 2, 1, 0]</td>\n",
       "      <td>False</td>\n",
       "      <td>Undefined</td>\n",
       "    </tr>\n",
       "    <tr>\n",
       "      <th>...</th>\n",
       "      <td>...</td>\n",
       "      <td>...</td>\n",
       "      <td>...</td>\n",
       "      <td>...</td>\n",
       "      <td>...</td>\n",
       "      <td>...</td>\n",
       "      <td>...</td>\n",
       "      <td>...</td>\n",
       "      <td>...</td>\n",
       "      <td>...</td>\n",
       "      <td>...</td>\n",
       "    </tr>\n",
       "    <tr>\n",
       "      <th>ENCODEHG000570158[1,1,1]</th>\n",
       "      <td>ENCODEHG000570158[1,1,1]</td>\n",
       "      <td>ENCODEHG000570158</td>\n",
       "      <td>ENCODEHG000570158</td>\n",
       "      <td>[928099, 928100, 928101]</td>\n",
       "      <td>ENCODEHG000570158[1,1,1]</td>\n",
       "      <td>ENCODEHG000570158_1</td>\n",
       "      <td>ENCODEHG000570158_1</td>\n",
       "      <td>ENCODEHG000570158_1</td>\n",
       "      <td>[600964, 600962, 600957, 600956]</td>\n",
       "      <td>False</td>\n",
       "      <td>Undefined</td>\n",
       "    </tr>\n",
       "    <tr>\n",
       "      <th>ENCODEHG000570465[1,1,1]</th>\n",
       "      <td>ENCODEHG000570465[1,1,1]</td>\n",
       "      <td>ENCODEHG000570465</td>\n",
       "      <td>ENCODEHG000570465</td>\n",
       "      <td>[956853, 956854, 956855]</td>\n",
       "      <td>ENCODEHG000570465[1,1,1]</td>\n",
       "      <td>ENCODEHG000570465_1</td>\n",
       "      <td>ENCODEHG000570465_1</td>\n",
       "      <td>ENCODEHG000570465_1</td>\n",
       "      <td>[898398, 898399, 898400, 898401]</td>\n",
       "      <td>False</td>\n",
       "      <td>Undefined</td>\n",
       "    </tr>\n",
       "    <tr>\n",
       "      <th>ENCODEHG000573849[1,1,1]</th>\n",
       "      <td>ENCODEHG000573849[1,1,1]</td>\n",
       "      <td>ENCODEHG000573849</td>\n",
       "      <td>ENCODEHG000573849</td>\n",
       "      <td>[947086, 947087, 947088, 947089, 947090, 94709...</td>\n",
       "      <td>ENCODEHG000573849[1,1,1]</td>\n",
       "      <td>ENCODEHG000573849_1</td>\n",
       "      <td>ENCODEHG000573849_1</td>\n",
       "      <td>ENCODEHG000573849_1</td>\n",
       "      <td>[829227, 829228, 829229, 829230, 829231, 82923...</td>\n",
       "      <td>False</td>\n",
       "      <td>Undefined</td>\n",
       "    </tr>\n",
       "    <tr>\n",
       "      <th>ENCODEHG000576557[1,1,1]</th>\n",
       "      <td>ENCODEHG000576557[1,1,1]</td>\n",
       "      <td>ENCODEHG000576557</td>\n",
       "      <td>ENCODEHG000576557</td>\n",
       "      <td>[924605, 924606, 924607]</td>\n",
       "      <td>ENCODEHG000576557[1,1,1]</td>\n",
       "      <td>ENCODEHG000576557_1</td>\n",
       "      <td>ENCODEHG000576557_1</td>\n",
       "      <td>ENCODEHG000576557_1</td>\n",
       "      <td>[565062, 565061, 565060, 565059]</td>\n",
       "      <td>False</td>\n",
       "      <td>Undefined</td>\n",
       "    </tr>\n",
       "    <tr>\n",
       "      <th>ENCODEHG000600414[1,1,1]</th>\n",
       "      <td>ENCODEHG000600414[1,1,1]</td>\n",
       "      <td>ENCODEHG000600414</td>\n",
       "      <td>ENCODEHG000600414</td>\n",
       "      <td>[938051, 938052, 938053]</td>\n",
       "      <td>ENCODEHG000600414[1,1,1]</td>\n",
       "      <td>ENCODEHG000600414_1</td>\n",
       "      <td>ENCODEHG000600414_1</td>\n",
       "      <td>ENCODEHG000600414_1</td>\n",
       "      <td>[715620, 715621, 715622, 715623]</td>\n",
       "      <td>False</td>\n",
       "      <td>Undefined</td>\n",
       "    </tr>\n",
       "  </tbody>\n",
       "</table>\n",
       "<p>1282 rows × 11 columns</p>\n",
       "</div>"
      ],
      "text/plain": [
       "                                             tname                gid  \\\n",
       "tid                                                                     \n",
       "ENCODEHG000058784[1,1,2]  ENCODEHG000058784[1,1,2]  ENCODEHG000058784   \n",
       "ENCODEHG000058784[2,2,2]  ENCODEHG000058784[2,2,2]  ENCODEHG000058784   \n",
       "ENCODEHG000058784[2,3,1]  ENCODEHG000058784[2,3,1]  ENCODEHG000058784   \n",
       "ENCODEHG000058837[1,1,1]  ENCODEHG000058837[1,1,1]  ENCODEHG000058837   \n",
       "ENCODEHG000058837[2,2,1]  ENCODEHG000058837[2,2,1]  ENCODEHG000058837   \n",
       "...                                            ...                ...   \n",
       "ENCODEHG000570158[1,1,1]  ENCODEHG000570158[1,1,1]  ENCODEHG000570158   \n",
       "ENCODEHG000570465[1,1,1]  ENCODEHG000570465[1,1,1]  ENCODEHG000570465   \n",
       "ENCODEHG000573849[1,1,1]  ENCODEHG000573849[1,1,1]  ENCODEHG000573849   \n",
       "ENCODEHG000576557[1,1,1]  ENCODEHG000576557[1,1,1]  ENCODEHG000576557   \n",
       "ENCODEHG000600414[1,1,1]  ENCODEHG000600414[1,1,1]  ENCODEHG000600414   \n",
       "\n",
       "                                      gname  \\\n",
       "tid                                           \n",
       "ENCODEHG000058784[1,1,2]  ENCODEHG000058784   \n",
       "ENCODEHG000058784[2,2,2]  ENCODEHG000058784   \n",
       "ENCODEHG000058784[2,3,1]  ENCODEHG000058784   \n",
       "ENCODEHG000058837[1,1,1]  ENCODEHG000058837   \n",
       "ENCODEHG000058837[2,2,1]  ENCODEHG000058837   \n",
       "...                                     ...   \n",
       "ENCODEHG000570158[1,1,1]  ENCODEHG000570158   \n",
       "ENCODEHG000570465[1,1,1]  ENCODEHG000570465   \n",
       "ENCODEHG000573849[1,1,1]  ENCODEHG000573849   \n",
       "ENCODEHG000576557[1,1,1]  ENCODEHG000576557   \n",
       "ENCODEHG000600414[1,1,1]  ENCODEHG000600414   \n",
       "\n",
       "                                                                       path  \\\n",
       "tid                                                                           \n",
       "ENCODEHG000058784[1,1,2]           [869635, 869617, 869636, 869621, 869637]   \n",
       "ENCODEHG000058784[2,2,2]  [869638, 869639, 869616, 869617, 869618, 86961...   \n",
       "ENCODEHG000058784[2,3,1]  [869614, 869615, 869616, 869617, 869618, 86961...   \n",
       "ENCODEHG000058837[1,1,1]  [869612, 869598, 869599, 869600, 869613, 86960...   \n",
       "ENCODEHG000058837[2,2,1]  [869606, 869607, 869597, 869598, 869599, 86960...   \n",
       "...                                                                     ...   \n",
       "ENCODEHG000570158[1,1,1]                           [928099, 928100, 928101]   \n",
       "ENCODEHG000570465[1,1,1]                           [956853, 956854, 956855]   \n",
       "ENCODEHG000573849[1,1,1]  [947086, 947087, 947088, 947089, 947090, 94709...   \n",
       "ENCODEHG000576557[1,1,1]                           [924605, 924606, 924607]   \n",
       "ENCODEHG000600414[1,1,1]                           [938051, 938052, 938053]   \n",
       "\n",
       "                                               tid               tss_id  \\\n",
       "tid                                                                       \n",
       "ENCODEHG000058784[1,1,2]  ENCODEHG000058784[1,1,2]  ENCODEHG000058784_1   \n",
       "ENCODEHG000058784[2,2,2]  ENCODEHG000058784[2,2,2]  ENCODEHG000058784_2   \n",
       "ENCODEHG000058784[2,3,1]  ENCODEHG000058784[2,3,1]  ENCODEHG000058784_2   \n",
       "ENCODEHG000058837[1,1,1]  ENCODEHG000058837[1,1,1]  ENCODEHG000058837_1   \n",
       "ENCODEHG000058837[2,2,1]  ENCODEHG000058837[2,2,1]  ENCODEHG000058837_2   \n",
       "...                                            ...                  ...   \n",
       "ENCODEHG000570158[1,1,1]  ENCODEHG000570158[1,1,1]  ENCODEHG000570158_1   \n",
       "ENCODEHG000570465[1,1,1]  ENCODEHG000570465[1,1,1]  ENCODEHG000570465_1   \n",
       "ENCODEHG000573849[1,1,1]  ENCODEHG000573849[1,1,1]  ENCODEHG000573849_1   \n",
       "ENCODEHG000576557[1,1,1]  ENCODEHG000576557[1,1,1]  ENCODEHG000576557_1   \n",
       "ENCODEHG000600414[1,1,1]  ENCODEHG000600414[1,1,1]  ENCODEHG000600414_1   \n",
       "\n",
       "                                        ic_id               tes_id  \\\n",
       "tid                                                                  \n",
       "ENCODEHG000058784[1,1,2]  ENCODEHG000058784_1  ENCODEHG000058784_2   \n",
       "ENCODEHG000058784[2,2,2]  ENCODEHG000058784_2  ENCODEHG000058784_2   \n",
       "ENCODEHG000058784[2,3,1]  ENCODEHG000058784_3  ENCODEHG000058784_1   \n",
       "ENCODEHG000058837[1,1,1]  ENCODEHG000058837_1  ENCODEHG000058837_1   \n",
       "ENCODEHG000058837[2,2,1]  ENCODEHG000058837_2  ENCODEHG000058837_1   \n",
       "...                                       ...                  ...   \n",
       "ENCODEHG000570158[1,1,1]  ENCODEHG000570158_1  ENCODEHG000570158_1   \n",
       "ENCODEHG000570465[1,1,1]  ENCODEHG000570465_1  ENCODEHG000570465_1   \n",
       "ENCODEHG000573849[1,1,1]  ENCODEHG000573849_1  ENCODEHG000573849_1   \n",
       "ENCODEHG000576557[1,1,1]  ENCODEHG000576557_1  ENCODEHG000576557_1   \n",
       "ENCODEHG000600414[1,1,1]  ENCODEHG000600414_1  ENCODEHG000600414_1   \n",
       "\n",
       "                                                                   loc_path  \\\n",
       "tid                                                                           \n",
       "ENCODEHG000058784[1,1,2]                           [43, 41, 40, 37, 36, 34]   \n",
       "ENCODEHG000058784[2,2,2]           [46, 44, 42, 41, 40, 39, 38, 37, 36, 34]   \n",
       "ENCODEHG000058784[2,3,1]  [46, 45, 42, 41, 40, 39, 38, 37, 36, 35, 33, 3...   \n",
       "ENCODEHG000058837[1,1,1]                          [11, 9, 8, 6, 5, 2, 1, 0]   \n",
       "ENCODEHG000058837[2,2,1]            [17, 12, 10, 9, 8, 6, 5, 4, 3, 2, 1, 0]   \n",
       "...                                                                     ...   \n",
       "ENCODEHG000570158[1,1,1]                   [600964, 600962, 600957, 600956]   \n",
       "ENCODEHG000570465[1,1,1]                   [898398, 898399, 898400, 898401]   \n",
       "ENCODEHG000573849[1,1,1]  [829227, 829228, 829229, 829230, 829231, 82923...   \n",
       "ENCODEHG000576557[1,1,1]                   [565062, 565061, 565060, 565059]   \n",
       "ENCODEHG000600414[1,1,1]                   [715620, 715621, 715622, 715623]   \n",
       "\n",
       "                          annotation    novelty  \n",
       "tid                                              \n",
       "ENCODEHG000058784[1,1,2]       False  Undefined  \n",
       "ENCODEHG000058784[2,2,2]       False  Undefined  \n",
       "ENCODEHG000058784[2,3,1]       False  Undefined  \n",
       "ENCODEHG000058837[1,1,1]       False  Undefined  \n",
       "ENCODEHG000058837[2,2,1]       False  Undefined  \n",
       "...                              ...        ...  \n",
       "ENCODEHG000570158[1,1,1]       False  Undefined  \n",
       "ENCODEHG000570465[1,1,1]       False  Undefined  \n",
       "ENCODEHG000573849[1,1,1]       False  Undefined  \n",
       "ENCODEHG000576557[1,1,1]       False  Undefined  \n",
       "ENCODEHG000600414[1,1,1]       False  Undefined  \n",
       "\n",
       "[1282 rows x 11 columns]"
      ]
     },
     "execution_count": 37,
     "metadata": {},
     "output_type": "execute_result"
    }
   ],
   "source": [
    "sg.t_df.loc[sg.t_df.novelty == 'Undefined']"
   ]
  },
  {
   "cell_type": "code",
   "execution_count": 35,
   "id": "1c053645-748b-4152-938a-5bfa226f7ffa",
   "metadata": {},
   "outputs": [
    {
     "name": "stdout",
     "output_type": "stream",
     "text": [
      "Saving graph as swan.p\n"
     ]
    }
   ],
   "source": [
    "sg.save_graph('swan')"
   ]
  },
  {
   "cell_type": "markdown",
   "id": "8dd4b48c-1575-4141-9e3d-8419b82a480a",
   "metadata": {},
   "source": [
    "## Add metadata"
   ]
  },
  {
   "cell_type": "code",
   "execution_count": 36,
   "id": "185a5c7f-a653-4e04-b002-00689f540d9b",
   "metadata": {},
   "outputs": [
    {
     "name": "stdout",
     "output_type": "stream",
     "text": [
      "Read in graph from swan.p\n"
     ]
    },
    {
     "name": "stderr",
     "output_type": "stream",
     "text": [
      "/Users/fairliereese/miniconda3/lib/python3.7/site-packages/anndata/_core/anndata.py:794: UserWarning: \n",
      "AnnData expects .obs.index to contain strings, but got values like:\n",
      "    [0, 1, 2, 3, 4]\n",
      "\n",
      "    Inferred to be: integer\n",
      "\n",
      "  value_idx = self._prep_dim_index(value.index, attr)\n"
     ]
    },
    {
     "name": "stdout",
     "output_type": "stream",
     "text": [
      "Saving graph as swan.p\n"
     ]
    }
   ],
   "source": [
    "sg = swan.read('swan.p')\n",
    "meta = '../swan/swan_metadata.tsv'\n",
    "sg.add_metadata(meta)\n",
    "\n",
    "# colors\n",
    "c_dict, order = get_biosample_colors()\n",
    "sg.set_metadata_colors('sample', c_dict)\n",
    "\n",
    "c_dict, order = get_ad_colors()\n",
    "sg.set_metadata_colors('health_status', c_dict)\n",
    "\n",
    "sg.save_graph('swan')"
   ]
  },
  {
   "cell_type": "markdown",
   "id": "2b32fb3b-6709-4a55-b49d-c6ddd7819e1f",
   "metadata": {},
   "source": [
    "## Swan reports"
   ]
  },
  {
   "cell_type": "code",
   "execution_count": 80,
   "id": "46e883a4-46a5-430a-a124-5cb45d3ac5c3",
   "metadata": {
    "collapsed": true,
    "jupyter": {
     "outputs_hidden": true
    },
    "tags": []
   },
   "outputs": [
    {
     "name": "stdout",
     "output_type": "stream",
     "text": [
      "Read in graph from swan.p\n",
      "['h9_chondro', 'h9_panc_beta', 'h9_de', 'h9_neural_crest', 'h9', 'h9_osteocyte', 'h9_panc_progen', 'pgp1_excite_neuron', 'pgp1_astro', 'pgp1', 'pgp1_endo', 'caco2']\n",
      "\n",
      "Plotting transcripts for ENSG00000081189.15\n",
      "Saving transcript path graph for ENSG00000081189[1,10,5] as figures/mef2c_h9_pgp1_caco2_novel_ENSG00000081189[1,10,5]_path.png\n",
      "Saving transcript path graph for ENSG00000081189[1,13,8] as figures/mef2c_h9_pgp1_caco2_novel_ENSG00000081189[1,13,8]_path.png\n",
      "Saving transcript path graph for ENSG00000081189[1,64,4] as figures/mef2c_h9_pgp1_caco2_novel_ENSG00000081189[1,64,4]_path.png\n",
      "Saving transcript path graph for ENSG00000081189[1,62,4] as figures/mef2c_h9_pgp1_caco2_novel_ENSG00000081189[1,62,4]_path.png\n",
      "Saving transcript path graph for ENSG00000081189[1,43,20] as figures/mef2c_h9_pgp1_caco2_novel_ENSG00000081189[1,43,20]_path.png\n",
      "Saving transcript path graph for ENSG00000081189[1,64,5] as figures/mef2c_h9_pgp1_caco2_novel_ENSG00000081189[1,64,5]_path.png\n",
      "Saving transcript path graph for ENSG00000081189[1,62,28] as figures/mef2c_h9_pgp1_caco2_novel_ENSG00000081189[1,62,28]_path.png\n",
      "Saving transcript path graph for ENSG00000081189[1,64,28] as figures/mef2c_h9_pgp1_caco2_novel_ENSG00000081189[1,64,28]_path.png\n",
      "Saving transcript path graph for ENSG00000081189[1,13,28] as figures/mef2c_h9_pgp1_caco2_novel_ENSG00000081189[1,13,28]_path.png\n",
      "Saving transcript path graph for ENSG00000081189[1,10,28] as figures/mef2c_h9_pgp1_caco2_novel_ENSG00000081189[1,10,28]_path.png\n",
      "Saving transcript path graph for ENSG00000081189[1,62,5] as figures/mef2c_h9_pgp1_caco2_novel_ENSG00000081189[1,62,5]_path.png\n",
      "Saving transcript path graph for ENSG00000081189[1,13,5] as figures/mef2c_h9_pgp1_caco2_novel_ENSG00000081189[1,13,5]_path.png\n",
      "Saving transcript path graph for ENSG00000081189[1,64,7] as figures/mef2c_h9_pgp1_caco2_novel_ENSG00000081189[1,64,7]_path.png\n",
      "Saving transcript path graph for ENSG00000081189[1,10,7] as figures/mef2c_h9_pgp1_caco2_novel_ENSG00000081189[1,10,7]_path.png\n",
      "Saving transcript path graph for ENSG00000081189[1,62,7] as figures/mef2c_h9_pgp1_caco2_novel_ENSG00000081189[1,62,7]_path.png\n",
      "Saving transcript path graph for ENSG00000081189[1,13,7] as figures/mef2c_h9_pgp1_caco2_novel_ENSG00000081189[1,13,7]_path.png\n",
      "Saving transcript path graph for ENSG00000081189[1,12,2] as figures/mef2c_h9_pgp1_caco2_novel_ENSG00000081189[1,12,2]_path.png\n",
      "Saving transcript path graph for ENSG00000081189[1,13,4] as figures/mef2c_h9_pgp1_caco2_novel_ENSG00000081189[1,13,4]_path.png\n",
      "Saving transcript path graph for ENSG00000081189[1,10,4] as figures/mef2c_h9_pgp1_caco2_novel_ENSG00000081189[1,10,4]_path.png\n",
      "Saving transcript path graph for ENSG00000081189[1,64,2] as figures/mef2c_h9_pgp1_caco2_novel_ENSG00000081189[1,64,2]_path.png\n",
      "Saving transcript path graph for ENSG00000081189[1,10,2] as figures/mef2c_h9_pgp1_caco2_novel_ENSG00000081189[1,10,2]_path.png\n",
      "Saving transcript path graph for ENSG00000081189[8,11,4] as figures/mef2c_h9_pgp1_caco2_novel_ENSG00000081189[8,11,4]_path.png\n",
      "Saving transcript path graph for ENSG00000081189[1,1,5] as figures/mef2c_h9_pgp1_caco2_novel_ENSG00000081189[1,1,5]_path.png\n",
      "Saving transcript path graph for ENSG00000081189[1,12,28] as figures/mef2c_h9_pgp1_caco2_novel_ENSG00000081189[1,12,28]_path.png\n",
      "Saving transcript path graph for ENSG00000081189[1,62,2] as figures/mef2c_h9_pgp1_caco2_novel_ENSG00000081189[1,62,2]_path.png\n",
      "Saving transcript path graph for ENSG00000081189[10,22,9] as figures/mef2c_h9_pgp1_caco2_novel_ENSG00000081189[10,22,9]_path.png\n",
      "Saving transcript path graph for ENSG00000081189[1,13,2] as figures/mef2c_h9_pgp1_caco2_novel_ENSG00000081189[1,13,2]_path.png\n",
      "Generating report for ENSG00000081189.15\n"
     ]
    }
   ],
   "source": [
    "sg = swan.read('swan.p')\n",
    "datasets = []\n",
    "datasets += sg.adata.obs.loc[sg.adata.obs['sample'].str.contains('h9'), 'sample'].unique().tolist()\n",
    "datasets += sg.adata.obs.loc[sg.adata.obs['sample'].str.contains('pgp1'), 'sample'].unique().tolist()\n",
    "datasets.append('caco2')\n",
    "print(datasets)\n",
    "\n",
    "# sg.gen_report('MEF2C',\n",
    "#               prefix='figures/mef2c_h9_pgp1_caco2',\n",
    "#               layer='pi',\n",
    "#               cmap='magma',\n",
    "#               novelty=True,\n",
    "#               groupby='sample',\n",
    "#               transcript_col='tname',\n",
    "#               metadata_cols=['sample'],\n",
    "#               datasets={'sample': datasets},\n",
    "#               browser=True)\n",
    "\n",
    "sg.gen_report('MEF2C',\n",
    "              prefix='figures/mef2c_h9_pgp1_caco2',\n",
    "              layer='tpm',\n",
    "              cmap='viridis',\n",
    "              novelty=True,\n",
    "              groupby='sample',\n",
    "              transcript_col='tname',\n",
    "              metadata_cols=['sample'],\n",
    "              indicate_novel=True,\n",
    "              datasets={'sample': datasets})\n"
   ]
  },
  {
   "cell_type": "code",
   "execution_count": 2,
   "id": "3c44b73d-f8e0-4bd9-899f-8b688b4d85f8",
   "metadata": {
    "collapsed": true,
    "jupyter": {
     "outputs_hidden": true
    },
    "tags": []
   },
   "outputs": [
    {
     "name": "stdout",
     "output_type": "stream",
     "text": [
      "Read in graph from swan.p\n",
      "\n",
      "Plotting transcripts for ENSG00000136717.14\n",
      "Saving transcript path graph for ENSG00000136717[1,2,1] as figures/BIN1_browser_ENSG00000136717[1,2,1]_path.png\n",
      "Saving transcript path graph for ENSG00000136717[2,2,1] as figures/BIN1_browser_ENSG00000136717[2,2,1]_path.png\n",
      "Saving transcript path graph for ENSG00000136717[1,4,1] as figures/BIN1_browser_ENSG00000136717[1,4,1]_path.png\n",
      "Saving transcript path graph for ENSG00000136717[2,1,1] as figures/BIN1_browser_ENSG00000136717[2,1,1]_path.png\n",
      "Saving transcript path graph for ENSG00000136717[1,1,1] as figures/BIN1_browser_ENSG00000136717[1,1,1]_path.png\n",
      "Saving transcript path graph for ENSG00000136717[1,20,1] as figures/BIN1_browser_ENSG00000136717[1,20,1]_path.png\n",
      "Saving transcript path graph for ENSG00000136717[4,15,1] as figures/BIN1_browser_ENSG00000136717[4,15,1]_path.png\n",
      "Saving transcript path graph for ENSG00000136717[1,18,1] as figures/BIN1_browser_ENSG00000136717[1,18,1]_path.png\n",
      "Saving transcript path graph for ENSG00000136717[2,21,1] as figures/BIN1_browser_ENSG00000136717[2,21,1]_path.png\n",
      "Saving transcript path graph for ENSG00000136717[1,21,1] as figures/BIN1_browser_ENSG00000136717[1,21,1]_path.png\n",
      "Saving transcript path graph for ENSG00000136717[2,19,1] as figures/BIN1_browser_ENSG00000136717[2,19,1]_path.png\n",
      "Saving transcript path graph for ENSG00000136717[7,2,1] as figures/BIN1_browser_ENSG00000136717[7,2,1]_path.png\n",
      "Saving transcript path graph for ENSG00000136717[1,3,1] as figures/BIN1_browser_ENSG00000136717[1,3,1]_path.png\n",
      "Saving transcript path graph for ENSG00000136717[1,19,1] as figures/BIN1_browser_ENSG00000136717[1,19,1]_path.png\n",
      "Saving transcript path graph for ENSG00000136717[2,20,1] as figures/BIN1_browser_ENSG00000136717[2,20,1]_path.png\n",
      "Saving transcript path graph for ENSG00000136717[2,3,1] as figures/BIN1_browser_ENSG00000136717[2,3,1]_path.png\n",
      "Saving transcript path graph for ENSG00000136717[2,18,1] as figures/BIN1_browser_ENSG00000136717[2,18,1]_path.png\n",
      "Saving transcript path graph for ENSG00000136717[7,4,1] as figures/BIN1_browser_ENSG00000136717[7,4,1]_path.png\n",
      "Saving transcript path graph for ENSG00000136717[2,4,1] as figures/BIN1_browser_ENSG00000136717[2,4,1]_path.png\n",
      "Saving transcript path graph for ENSG00000136717[7,18,1] as figures/BIN1_browser_ENSG00000136717[7,18,1]_path.png\n",
      "Saving transcript path graph for ENSG00000136717[7,3,1] as figures/BIN1_browser_ENSG00000136717[7,3,1]_path.png\n",
      "Saving transcript path graph for ENSG00000136717[2,6,1] as figures/BIN1_browser_ENSG00000136717[2,6,1]_path.png\n",
      "Saving transcript path graph for ENSG00000136717[1,6,1] as figures/BIN1_browser_ENSG00000136717[1,6,1]_path.png\n",
      "Saving transcript path graph for ENSG00000136717[7,20,1] as figures/BIN1_browser_ENSG00000136717[7,20,1]_path.png\n",
      "Saving transcript path graph for ENSG00000136717[3,12,1] as figures/BIN1_browser_ENSG00000136717[3,12,1]_path.png\n",
      "Generating report for ENSG00000136717.14\n"
     ]
    }
   ],
   "source": [
    "# bin1\n",
    "sg = swan.read('swan.p')\n",
    "\n",
    "gene = 'BIN1'\n",
    "opref = 'figures/{}'.format(gene)\n",
    "conds = sg.adata.obs.loc[sg.adata.obs['sample'].str.contains('pgp1'), 'sample'].unique().tolist()\n",
    "conds = ['pgp1', 'pgp1_astro', 'pgp1_endo', 'pgp1_excite_neuron']\n",
    "sg.gen_report(gene,\n",
    "          prefix=opref,\n",
    "          layer='pi',\n",
    "          order='pi',\n",
    "          cmap='magma',\n",
    "          novelty=True,\n",
    "          metadata_cols=['sample'],\n",
    "          groupby='sample',\n",
    "          datasets={'sample': conds},\n",
    "          transcript_col='tname',\n",
    "          display_numbers=True,\n",
    "          browser=True)"
   ]
  },
  {
   "cell_type": "markdown",
   "id": "2833238d-8656-47ef-adeb-85020edc4c17",
   "metadata": {},
   "source": [
    "### How many isoforms does it take to get 90% expression / gene / sample?"
   ]
  },
  {
   "cell_type": "code",
   "execution_count": 6,
   "id": "567c4539-29f9-48c5-acdb-ac4d09ea1c5d",
   "metadata": {},
   "outputs": [
    {
     "name": "stdout",
     "output_type": "stream",
     "text": [
      "Read in graph from swan.p\n"
     ]
    }
   ],
   "source": [
    "sg = swan.read('swan.p')\n",
    "t_df = pd.read_csv(ab, sep='\\t')"
   ]
  },
  {
   "cell_type": "code",
   "execution_count": 7,
   "id": "eb860c47-8e76-47c4-bf12-d2f2293042a7",
   "metadata": {},
   "outputs": [],
   "source": [
    "t_df = t_df[['annot_gene_name', 'annot_transcript_id', 'annot_gene_id']]\n",
    "t_df.rename({'annot_gene_name': 'gname',\n",
    "             'annot_gene_id': 'gid',\n",
    "             'annot_transcript_id': 'tid'}, \n",
    "             axis=1, \n",
    "             inplace=True)\n",
    "\n",
    "df, _ = swan.calc_pi(sg.adata, sg.t_df, obs_col='sample')\n",
    "df = df.sparse.to_dense()\n",
    "df = df.transpose()\n",
    "df = df.merge(t_df[['tid', 'gname', 'gid']], how='inner', on='tid')\n",
    "\n",
    "df.set_index(['tid', 'gname', 'gid'], inplace=True)\n",
    "df = df.melt(ignore_index=False, value_name='pi', var_name='sample')\n",
    "df = df.dropna(subset=['pi'])\n",
    "df.reset_index(inplace=True)\n",
    "\n",
    "# determine the rank of each pi value for each sample / gene combo\n",
    "df = df.sort_values(by='pi', ascending=False)\n",
    "df['pi_rank'] = df.sort_values(by='pi', ascending=False).groupby(['gname', 'gid', 'sample']).cumcount()+1\n",
    "\n",
    "# add a column that we can check for convergence with \n",
    "df['gname_gid_biosamp'] = df.gname+'_'+df.gid+'_'+df['sample']\n",
    "\n",
    "iso_df = pd.DataFrame()\n",
    "max_pi_rank = df.pi_rank.max()\n",
    "for max_pi in range(1, max_pi_rank+1):\n",
    "    pi_ranks = [i for i in range(1, max_pi+1)]\n",
    "    # for the first iteration, we don't have to limit which genes we look at\n",
    "    if max_pi == 1:\n",
    "        temp = df.loc[df.pi_rank.isin(pi_ranks)].groupby(['gname_gid_biosamp']).sum().reset_index()\n",
    "    else:\n",
    "        ids = iso_df.gname_gid_biosamp.tolist()\n",
    "        temp = df.loc[(~df.gname_gid_biosamp.isin(ids))&(df.pi_rank.isin(pi_ranks))].groupby(['gname_gid_biosamp']).sum().reset_index()\n",
    "    \n",
    "    # converged if no more entries to analyze\n",
    "    if len(temp.index) == 0:\n",
    "        break\n",
    "    \n",
    "    # get isoforms that have >90% isoform exp accounted for\n",
    "    temp = temp.loc[temp.pi >= 90]\n",
    "    temp.drop(['pi_rank'], axis=1, inplace=True)\n",
    "    temp['n_isos'] = max_pi\n",
    "    \n",
    "    iso_df = pd.concat([iso_df, temp])\n",
    "\n",
    "# get list of isoforms required for each sample / gene combination as well\n",
    "df = df.merge(iso_df, how='left', on='gname_gid_biosamp')\n",
    "df['in_90_set'] = df.pi_rank <= df.n_isos\n",
    "df = df.loc[df.in_90_set]\n",
    "df[['gname', 'gid', 'sample']] = df.gname_gid_biosamp.str.split('_', n=2, expand=True)    \n",
    "df.rename({'pi_x': 'pi'}, axis=1, inplace=True)\n",
    "df.drop(['gname_gid_biosamp', \n",
    "        'pi_y', 'n_isos', 'in_90_set'], axis=1, inplace=True)\n",
    "\n",
    "# get the sample / gene vs. n isoforms required for 90%    \n",
    "iso_df[['gname', 'gid', 'sample']] = iso_df.gname_gid_biosamp.str.split('_', n=2, expand=True)    \n",
    "iso_df.drop('gname_gid_biosamp', axis=1, inplace=True)\n",
    "iso_df = iso_df.sort_values('n_isos', ascending=False)"
   ]
  },
  {
   "cell_type": "code",
   "execution_count": 8,
   "id": "c539ea98-e8b9-4e19-a7b0-2a9a4a74330c",
   "metadata": {},
   "outputs": [
    {
     "data": {
      "text/html": [
       "<div>\n",
       "<style scoped>\n",
       "    .dataframe tbody tr th:only-of-type {\n",
       "        vertical-align: middle;\n",
       "    }\n",
       "\n",
       "    .dataframe tbody tr th {\n",
       "        vertical-align: top;\n",
       "    }\n",
       "\n",
       "    .dataframe thead th {\n",
       "        text-align: right;\n",
       "    }\n",
       "</style>\n",
       "<table border=\"1\" class=\"dataframe\">\n",
       "  <thead>\n",
       "    <tr style=\"text-align: right;\">\n",
       "      <th></th>\n",
       "      <th>tid</th>\n",
       "      <th>gname</th>\n",
       "      <th>gid</th>\n",
       "      <th>sample</th>\n",
       "      <th>pi</th>\n",
       "      <th>pi_rank</th>\n",
       "    </tr>\n",
       "  </thead>\n",
       "  <tbody>\n",
       "    <tr>\n",
       "      <th>0</th>\n",
       "      <td>ENSG00000238009[4,5,5]</td>\n",
       "      <td>AL627309.1</td>\n",
       "      <td>ENSG00000238009.6</td>\n",
       "      <td>hl60_m2_24hr</td>\n",
       "      <td>100.0</td>\n",
       "      <td>1</td>\n",
       "    </tr>\n",
       "    <tr>\n",
       "      <th>1</th>\n",
       "      <td>ENSG00000259335[1,1,1]</td>\n",
       "      <td>HNRNPMP1</td>\n",
       "      <td>ENSG00000259335.1</td>\n",
       "      <td>h9_de</td>\n",
       "      <td>100.0</td>\n",
       "      <td>1</td>\n",
       "    </tr>\n",
       "    <tr>\n",
       "      <th>2</th>\n",
       "      <td>ENSG00000133111[1,1,1]</td>\n",
       "      <td>RFXAP</td>\n",
       "      <td>ENSG00000133111.3</td>\n",
       "      <td>heart</td>\n",
       "      <td>100.0</td>\n",
       "      <td>1</td>\n",
       "    </tr>\n",
       "    <tr>\n",
       "      <th>3</th>\n",
       "      <td>ENSG00000227973[1,1,1]</td>\n",
       "      <td>PIN4P1</td>\n",
       "      <td>ENSG00000227973.1</td>\n",
       "      <td>h9_de</td>\n",
       "      <td>100.0</td>\n",
       "      <td>1</td>\n",
       "    </tr>\n",
       "    <tr>\n",
       "      <th>4</th>\n",
       "      <td>ENSG00000230283[1,1,1]</td>\n",
       "      <td>RPS12P24</td>\n",
       "      <td>ENSG00000230283.1</td>\n",
       "      <td>heart</td>\n",
       "      <td>100.0</td>\n",
       "      <td>1</td>\n",
       "    </tr>\n",
       "  </tbody>\n",
       "</table>\n",
       "</div>"
      ],
      "text/plain": [
       "                      tid       gname                gid        sample     pi  \\\n",
       "0  ENSG00000238009[4,5,5]  AL627309.1  ENSG00000238009.6  hl60_m2_24hr  100.0   \n",
       "1  ENSG00000259335[1,1,1]    HNRNPMP1  ENSG00000259335.1         h9_de  100.0   \n",
       "2  ENSG00000133111[1,1,1]       RFXAP  ENSG00000133111.3         heart  100.0   \n",
       "3  ENSG00000227973[1,1,1]      PIN4P1  ENSG00000227973.1         h9_de  100.0   \n",
       "4  ENSG00000230283[1,1,1]    RPS12P24  ENSG00000230283.1         heart  100.0   \n",
       "\n",
       "   pi_rank  \n",
       "0        1  \n",
       "1        1  \n",
       "2        1  \n",
       "3        1  \n",
       "4        1  "
      ]
     },
     "execution_count": 8,
     "metadata": {},
     "output_type": "execute_result"
    }
   ],
   "source": [
    "df.head()"
   ]
  },
  {
   "cell_type": "code",
   "execution_count": 9,
   "id": "7970ce54-5bb7-4bdf-b030-4fb0a6d84ddd",
   "metadata": {},
   "outputs": [],
   "source": [
    "df.to_csv('isos_sample_gene_90.tsv', sep='\\t', index=False)"
   ]
  },
  {
   "cell_type": "markdown",
   "id": "7dad5a29-453c-43f5-b350-855826512af2",
   "metadata": {},
   "source": [
    "## Which isoforms are the major isoform in any sample?"
   ]
  },
  {
   "cell_type": "code",
   "execution_count": 14,
   "id": "e59b58bd-f153-4884-a3f1-f7a5038755b8",
   "metadata": {},
   "outputs": [],
   "source": [
    "import pandas as pd\n",
    "import numpy as np\n",
    "import scipy.stats as st\n",
    "import seaborn as sns\n",
    "import sys\n",
    "import os\n",
    "import gseapy as gp\n",
    "import pdb\n",
    "import copy\n",
    "from scipy import sparse\n",
    "import anndata\n",
    "import swan_vis as swan\n",
    "\n",
    "\n",
    "p = os.path.dirname(os.path.dirname(os.getcwd()))\n",
    "sys.path.append(p)\n",
    "\n",
    "from scripts.utils import *\n",
    "from scripts.plotting import *\n",
    "\n",
    "# load expression data and metadata into swan\n",
    "annot = 'v29_cerberus.gtf'\n",
    "ab = 'cerberus_filtered_abundance.tsv'\n",
    "gene_ab = '/Users/fairliereese/mortazavi_lab/data/rnawg/lr_bulk/talon/human_talon_abundance.tsv'\n",
    "gtf = 'cerberus.gtf'"
   ]
  },
  {
   "cell_type": "code",
   "execution_count": 15,
   "id": "21be0b30-34a0-42f9-8118-146a3a83405c",
   "metadata": {},
   "outputs": [
    {
     "name": "stdout",
     "output_type": "stream",
     "text": [
      "Read in graph from swan.p\n"
     ]
    }
   ],
   "source": [
    "sg = swan.read('swan.p')"
   ]
  },
  {
   "cell_type": "code",
   "execution_count": 16,
   "id": "c02d2e0a-c6fe-429a-9526-8dc225f4483f",
   "metadata": {},
   "outputs": [],
   "source": [
    "# df = pd.read_csv(gene_ab, sep='\\t')\n",
    "# df, inds = get_tpm_table(df,\n",
    "#                    how='gene',\n",
    "#                    min_tpm=1,\n",
    "#                    gene_subset='polya')\n",
    "\n",
    "# # need stable gid\n",
    "# df.head()\n",
    "# df['temp_tid'] = df.index.tolist()\n",
    "# inds = cerberus.get_stable_gid(df, col='temp_tid')\n",
    "# inds[:5]"
   ]
  },
  {
   "cell_type": "code",
   "execution_count": 22,
   "id": "49ea4669-3376-4187-8f9e-320a460e0150",
   "metadata": {},
   "outputs": [],
   "source": [
    "temp = pd.DataFrame()\n",
    "temp['gids'] = inds\n",
    "temp.to_csv('temp_gids_1_tpm.tsv', sep='\\t', index=False)"
   ]
  },
  {
   "cell_type": "code",
   "execution_count": 153,
   "id": "a5eab6b1-83a3-4c8e-9bb6-7eb44848bbd6",
   "metadata": {},
   "outputs": [],
   "source": []
  },
  {
   "cell_type": "code",
   "execution_count": 68,
   "id": "102e3e1c-54a1-45fa-b614-8bbe69f59f48",
   "metadata": {},
   "outputs": [
    {
     "data": {
      "text/plain": [
       "34027"
      ]
     },
     "execution_count": 68,
     "metadata": {},
     "output_type": "execute_result"
    }
   ],
   "source": [
    "inds = pd.read_csv('temp_gids_1_tpm.tsv', sep='\\t')\n",
    "# inds.head()\n",
    "inds = inds.gids.tolist()\n",
    "len(inds)"
   ]
  },
  {
   "cell_type": "code",
   "execution_count": 69,
   "id": "26fe2b14-172c-4cbd-8f62-28d8900b04b2",
   "metadata": {},
   "outputs": [],
   "source": [
    "def uses_principal_feat(x):\n",
    "    \"\"\"\n",
    "    Agg function to determine if individual feats\n",
    "    (tss, ic, tes) use the principal version of that \n",
    "    feature\n",
    "    \"\"\"\n",
    "    return '1' in x.unique()\n",
    "\n",
    "def uses_principal_iso(x):\n",
    "    \"\"\"\n",
    "    Agg function to determine if the isoform triplet\n",
    "    is the principal version of that gene\n",
    "    \"\"\"\n",
    "    return '1,1,1' in x.unique()\n",
    "\n",
    "def get_major_iso(sg, obs_col='sample', gene_subset=None):\n",
    "    \"\"\"\n",
    "    Determine what the major isoform is in each grouping\n",
    "    for each gene \n",
    "    \n",
    "    Parameters:\n",
    "        sg (swan_vis SwanGraph): SwanGraph with transcript\n",
    "            abundance data added\n",
    "        obs_col (str): Column in `sg.adata.obs` to group\n",
    "            datasets by \n",
    "        gene_subset (list of str or None): If not None, \n",
    "            list of stable gene ids to subset on \n",
    "            \n",
    "    Returns:\n",
    "        df (pandas DataFrame): DF where each row is the major \n",
    "            isoform in each expressed gene / sample combination\n",
    "    \"\"\"\n",
    "    df, _ = swan.calc_pi(sg.adata, sg.t_df, obs_col=obs_col)\n",
    "    df = df.sparse.to_dense()\n",
    "    df = df.transpose()\n",
    "\n",
    "    t_df = sg.t_df.copy(deep=True)\n",
    "    t_df.reset_index(drop=True, inplace=True)\n",
    "    t_df = t_df[['tid', 'gname', 'gid']]\n",
    "    df = df.merge(t_df, how='inner', on='tid')\n",
    "    \n",
    "    df.set_index(['tid', 'gname', 'gid'], inplace=True)\n",
    "    df = df.melt(ignore_index=False, value_name='pi', var_name=obs_col)\n",
    "    df = df.dropna(subset=['pi'])\n",
    "    df.reset_index(inplace=True)\n",
    "    \n",
    "    # remove unexpressed isoforms\n",
    "    df = df.loc[df.pi > 0]\n",
    "    \n",
    "    # limit to detected genes\n",
    "    df['gid_stable'] = cerberus.get_stable_gid(df, 'gid')\n",
    "    if gene_subset:\n",
    "        df = df.loc[df.gid_stable.isin(gene_subset)]\n",
    "        \n",
    "    # sort by gene, sample, and pi value\n",
    "    # dedupe across the gene and sample cols; take the top-expressed isoform\n",
    "    df = df.sort_values(by=['gid', obs_col, 'pi'],\n",
    "                        ascending=[False, False, False])\n",
    "\n",
    "    df = df.drop_duplicates(subset=['gname', 'gid', obs_col], keep='first')       \n",
    "    \n",
    "    return df\n",
    "\n",
    "def get_major_principal_feats(sg, **kwargs):\n",
    "    \"\"\"\n",
    "    Determine how many genes have at least one sample where\n",
    "    the features and full-length isoform is the principal isoform\n",
    "    \n",
    "    Parameters:\n",
    "        sg (swan_vis SwanGraph): SwanGraph with transcript\n",
    "                    abundance data added   \n",
    "                    \n",
    "    Returns:\n",
    "        df (pandas DataFrame): DF w/ boolean columns for \n",
    "            whether or not there's at least one sample\n",
    "            where the major feat / isoform is the principal one\n",
    "    \"\"\"\n",
    "    df = get_major_iso(sg, **kwargs)\n",
    "    \n",
    "    # add features\n",
    "    for feat in ['ic', 'tss', 'tes']:\n",
    "        df = add_feat(df, kind=feat,\n",
    "                      col='tid',\n",
    "                      as_number=True,\n",
    "                      drop_triplet=False)\n",
    "\n",
    "    # remove unnecessary columns and determine which genes\n",
    "    # have at least one sample who's major iso uses the principal\n",
    "    # of each feature\n",
    "    temp = df.copy(deep=True)\n",
    "    temp.drop([obs_col, 'tid', 'pi', 'gid'], axis=1, inplace=True)\n",
    "\n",
    "    temp = temp.groupby(['gname',\n",
    "                         'gid_stable']).agg({'tss': uses_principal_feat,\n",
    "                                             'ic': uses_principal_feat,\n",
    "                                             'tes': uses_principal_feat,\n",
    "                                             'triplet': uses_principal_iso}).reset_index()\n",
    "\n",
    "    # output\n",
    "    for feat in ['ic', 'tss', 'tes', 'triplet']:\n",
    "        n_genes = len(temp.gid_stable.unique().tolist())\n",
    "        n_major = len(temp.loc[temp[feat] == True].index)\n",
    "        print(n_genes)\n",
    "        print(n_major)\n",
    "        print(feat)\n",
    "        print('{:.2f}% of genes have >=1 sample where major isoform contains principal {}'.format((n_major/n_genes)*100, feat))\n",
    "        print()\n",
    "        \n",
    "    return temp"
   ]
  },
  {
   "cell_type": "code",
   "execution_count": 70,
   "id": "ba40653b-c5f8-4602-af4c-700326ac7107",
   "metadata": {},
   "outputs": [],
   "source": [
    "df = get_major_iso(sg, 'sample', gene_subset=inds)"
   ]
  },
  {
   "cell_type": "code",
   "execution_count": 62,
   "id": "9e20a823-f44f-401a-aa52-c203863ca7e1",
   "metadata": {},
   "outputs": [],
   "source": []
  },
  {
   "cell_type": "code",
   "execution_count": 152,
   "id": "b696b846-a276-44cf-a923-17e2af674b0b",
   "metadata": {},
   "outputs": [],
   "source": [
    "# # add features\n",
    "# for feat in ['ic', 'tss', 'tes']:\n",
    "#     df = add_feat(df, kind=feat,\n",
    "#                   col='tid',\n",
    "#                   as_number=True,\n",
    "#                   drop_triplet=False)\n",
    "\n",
    "# temp = df.copy(deep=True)\n",
    "# temp.drop([obs_col, 'tid', 'pi', 'gid'], axis=1, inplace=True)\n",
    "\n",
    "# temp = temp.groupby(['gname',\n",
    "#                      'gid_stable']).agg({'tss': uses_principal_feat,\n",
    "#                                          'ic': uses_principal_feat,\n",
    "#                                          'tes': uses_principal_feat,\n",
    "#                                          'triplet': uses_principal_iso}).reset_index()\n",
    "\n",
    "\n",
    "# for feat in ['ic', 'tss', 'tes', 'triplet']:\n",
    "#     n_genes = len(temp.gid_stable.unique().tolist())\n",
    "#     n_major = len(temp.loc[temp[feat] == True].index)\n",
    "#     print(n_genes)\n",
    "#     print(n_major)\n",
    "#     print(feat)\n",
    "#     print('{:.2f}% of genes have >=1 sample where major isoform contains principal {}'.format((n_major/n_genes)*100, feat))\n",
    "#     print()"
   ]
  },
  {
   "cell_type": "code",
   "execution_count": null,
   "id": "b1e8c29f-f8d0-48db-a166-5bab04e16b09",
   "metadata": {},
   "outputs": [],
   "source": []
  },
  {
   "cell_type": "code",
   "execution_count": null,
   "id": "48b9b23b-e889-4c21-900c-7bdb9b48521d",
   "metadata": {},
   "outputs": [],
   "source": []
  },
  {
   "cell_type": "code",
   "execution_count": null,
   "id": "4c3c5c3e-1d54-4c08-af43-41347a7eb80e",
   "metadata": {},
   "outputs": [],
   "source": [
    "df = get_major_iso(sg, 'sample', gene_subset=inds)"
   ]
  },
  {
   "cell_type": "code",
   "execution_count": 75,
   "id": "d838551f-a693-4b87-a429-aba7d45e1056",
   "metadata": {},
   "outputs": [],
   "source": [
    "obs_col = 'sample'"
   ]
  },
  {
   "cell_type": "code",
   "execution_count": 72,
   "id": "84f1083b-aa2d-426d-b9cd-5d451cc961cb",
   "metadata": {},
   "outputs": [],
   "source": [
    "# add features\n",
    "for feat in ['ic', 'tss', 'tes']:\n",
    "    df = add_feat(df, kind=feat,\n",
    "                  col='tid',\n",
    "                  as_number=True,\n",
    "                  drop_triplet=False)\n"
   ]
  },
  {
   "cell_type": "code",
   "execution_count": 117,
   "id": "53833f47-b44d-413e-be00-1c8f49bc52cb",
   "metadata": {},
   "outputs": [],
   "source": [
    "temp = df.copy(deep=True)\n",
    "temp.drop(['tid', 'pi', 'gid'], axis=1, inplace=True)\n",
    "\n",
    "temp = temp.groupby([obs_col, 'gname',\n",
    "                     'gid_stable'],\n",
    "                     observed=True).agg({'tss': uses_principal_feat,\n",
    "                                         'ic': uses_principal_feat,\n",
    "                                         'tes': uses_principal_feat,\n",
    "                                         'triplet': uses_principal_iso}).reset_index()"
   ]
  },
  {
   "cell_type": "code",
   "execution_count": 118,
   "id": "dccf0859-4b61-48b7-ac7d-44dedd92b08d",
   "metadata": {},
   "outputs": [
    {
     "data": {
      "text/html": [
       "<div>\n",
       "<style scoped>\n",
       "    .dataframe tbody tr th:only-of-type {\n",
       "        vertical-align: middle;\n",
       "    }\n",
       "\n",
       "    .dataframe tbody tr th {\n",
       "        vertical-align: top;\n",
       "    }\n",
       "\n",
       "    .dataframe thead th {\n",
       "        text-align: right;\n",
       "    }\n",
       "</style>\n",
       "<table border=\"1\" class=\"dataframe\">\n",
       "  <thead>\n",
       "    <tr style=\"text-align: right;\">\n",
       "      <th></th>\n",
       "      <th>sample</th>\n",
       "      <th>gname</th>\n",
       "      <th>gid_stable</th>\n",
       "      <th>tss</th>\n",
       "      <th>ic</th>\n",
       "      <th>tes</th>\n",
       "      <th>triplet</th>\n",
       "    </tr>\n",
       "  </thead>\n",
       "  <tbody>\n",
       "    <tr>\n",
       "      <th>0</th>\n",
       "      <td>a673</td>\n",
       "      <td>A1BG</td>\n",
       "      <td>ENSG00000121410</td>\n",
       "      <td>False</td>\n",
       "      <td>False</td>\n",
       "      <td>False</td>\n",
       "      <td>False</td>\n",
       "    </tr>\n",
       "    <tr>\n",
       "      <th>1</th>\n",
       "      <td>a673</td>\n",
       "      <td>A1BG-AS1</td>\n",
       "      <td>ENSG00000268895</td>\n",
       "      <td>True</td>\n",
       "      <td>False</td>\n",
       "      <td>True</td>\n",
       "      <td>False</td>\n",
       "    </tr>\n",
       "    <tr>\n",
       "      <th>2</th>\n",
       "      <td>a673</td>\n",
       "      <td>A2M</td>\n",
       "      <td>ENSG00000175899</td>\n",
       "      <td>True</td>\n",
       "      <td>False</td>\n",
       "      <td>True</td>\n",
       "      <td>False</td>\n",
       "    </tr>\n",
       "    <tr>\n",
       "      <th>3</th>\n",
       "      <td>a673</td>\n",
       "      <td>A2ML1</td>\n",
       "      <td>ENSG00000166535</td>\n",
       "      <td>False</td>\n",
       "      <td>False</td>\n",
       "      <td>False</td>\n",
       "      <td>False</td>\n",
       "    </tr>\n",
       "    <tr>\n",
       "      <th>4</th>\n",
       "      <td>a673</td>\n",
       "      <td>A4GALT</td>\n",
       "      <td>ENSG00000128274</td>\n",
       "      <td>True</td>\n",
       "      <td>True</td>\n",
       "      <td>True</td>\n",
       "      <td>True</td>\n",
       "    </tr>\n",
       "  </tbody>\n",
       "</table>\n",
       "</div>"
      ],
      "text/plain": [
       "  sample     gname       gid_stable    tss     ic    tes  triplet\n",
       "0   a673      A1BG  ENSG00000121410  False  False  False    False\n",
       "1   a673  A1BG-AS1  ENSG00000268895   True  False   True    False\n",
       "2   a673       A2M  ENSG00000175899   True  False   True    False\n",
       "3   a673     A2ML1  ENSG00000166535  False  False  False    False\n",
       "4   a673    A4GALT  ENSG00000128274   True   True   True     True"
      ]
     },
     "execution_count": 118,
     "metadata": {},
     "output_type": "execute_result"
    }
   ],
   "source": [
    "temp.head()"
   ]
  },
  {
   "cell_type": "code",
   "execution_count": 119,
   "id": "567bd71f-ec55-4caf-ba34-7762ee633c78",
   "metadata": {},
   "outputs": [],
   "source": [
    "for feat in ['tss', 'ic', 'tes', 'triplet']:\n",
    "    col = 'not_{}'.format(feat)\n",
    "    temp[feat] = temp[feat].astype(int)\n",
    "    temp[col] = (temp[feat] == False).astype(int)"
   ]
  },
  {
   "cell_type": "code",
   "execution_count": 86,
   "id": "4438f32f-285b-4b1d-a059-6ad1d70cfda6",
   "metadata": {},
   "outputs": [],
   "source": [
    "# temp.triplet = temp.triplet.astype(int)"
   ]
  },
  {
   "cell_type": "code",
   "execution_count": 88,
   "id": "a8db8edb-ceff-4231-95db-cdbbe5d22fd5",
   "metadata": {},
   "outputs": [],
   "source": [
    "# temp['major_iso'] = temp.triplet"
   ]
  },
  {
   "cell_type": "code",
   "execution_count": 122,
   "id": "e8889fb5-fe96-4e21-ad96-38a40ac34c9d",
   "metadata": {},
   "outputs": [],
   "source": [
    "# temp.head()"
   ]
  },
  {
   "cell_type": "code",
   "execution_count": 96,
   "id": "2e658afe-80cd-45e8-9001-f2e3697e25dc",
   "metadata": {},
   "outputs": [],
   "source": [
    "# temp = temp[['gname', 'gid_stable', 'major_iso']]\n",
    "# temp['not_major_iso'] = (temp.major_iso == False).astype(int)\n"
   ]
  },
  {
   "cell_type": "code",
   "execution_count": 121,
   "id": "ad6acf9a-e275-4559-be30-3ccb94029bdf",
   "metadata": {},
   "outputs": [
    {
     "data": {
      "text/html": [
       "<div>\n",
       "<style scoped>\n",
       "    .dataframe tbody tr th:only-of-type {\n",
       "        vertical-align: middle;\n",
       "    }\n",
       "\n",
       "    .dataframe tbody tr th {\n",
       "        vertical-align: top;\n",
       "    }\n",
       "\n",
       "    .dataframe thead th {\n",
       "        text-align: right;\n",
       "    }\n",
       "</style>\n",
       "<table border=\"1\" class=\"dataframe\">\n",
       "  <thead>\n",
       "    <tr style=\"text-align: right;\">\n",
       "      <th></th>\n",
       "      <th>sample</th>\n",
       "      <th>gname</th>\n",
       "      <th>gid_stable</th>\n",
       "      <th>tss</th>\n",
       "      <th>ic</th>\n",
       "      <th>tes</th>\n",
       "      <th>triplet</th>\n",
       "      <th>not_tss</th>\n",
       "      <th>not_ic</th>\n",
       "      <th>not_tes</th>\n",
       "      <th>not_triplet</th>\n",
       "    </tr>\n",
       "  </thead>\n",
       "  <tbody>\n",
       "    <tr>\n",
       "      <th>0</th>\n",
       "      <td>a673</td>\n",
       "      <td>A1BG</td>\n",
       "      <td>ENSG00000121410</td>\n",
       "      <td>0</td>\n",
       "      <td>0</td>\n",
       "      <td>0</td>\n",
       "      <td>0</td>\n",
       "      <td>1</td>\n",
       "      <td>1</td>\n",
       "      <td>1</td>\n",
       "      <td>1</td>\n",
       "    </tr>\n",
       "    <tr>\n",
       "      <th>1</th>\n",
       "      <td>a673</td>\n",
       "      <td>A1BG-AS1</td>\n",
       "      <td>ENSG00000268895</td>\n",
       "      <td>1</td>\n",
       "      <td>0</td>\n",
       "      <td>1</td>\n",
       "      <td>0</td>\n",
       "      <td>0</td>\n",
       "      <td>1</td>\n",
       "      <td>0</td>\n",
       "      <td>1</td>\n",
       "    </tr>\n",
       "    <tr>\n",
       "      <th>2</th>\n",
       "      <td>a673</td>\n",
       "      <td>A2M</td>\n",
       "      <td>ENSG00000175899</td>\n",
       "      <td>1</td>\n",
       "      <td>0</td>\n",
       "      <td>1</td>\n",
       "      <td>0</td>\n",
       "      <td>0</td>\n",
       "      <td>1</td>\n",
       "      <td>0</td>\n",
       "      <td>1</td>\n",
       "    </tr>\n",
       "    <tr>\n",
       "      <th>3</th>\n",
       "      <td>a673</td>\n",
       "      <td>A2ML1</td>\n",
       "      <td>ENSG00000166535</td>\n",
       "      <td>0</td>\n",
       "      <td>0</td>\n",
       "      <td>0</td>\n",
       "      <td>0</td>\n",
       "      <td>1</td>\n",
       "      <td>1</td>\n",
       "      <td>1</td>\n",
       "      <td>1</td>\n",
       "    </tr>\n",
       "    <tr>\n",
       "      <th>4</th>\n",
       "      <td>a673</td>\n",
       "      <td>A4GALT</td>\n",
       "      <td>ENSG00000128274</td>\n",
       "      <td>1</td>\n",
       "      <td>1</td>\n",
       "      <td>1</td>\n",
       "      <td>1</td>\n",
       "      <td>0</td>\n",
       "      <td>0</td>\n",
       "      <td>0</td>\n",
       "      <td>0</td>\n",
       "    </tr>\n",
       "  </tbody>\n",
       "</table>\n",
       "</div>"
      ],
      "text/plain": [
       "  sample     gname       gid_stable  tss  ic  tes  triplet  not_tss  not_ic  \\\n",
       "0   a673      A1BG  ENSG00000121410    0   0    0        0        1       1   \n",
       "1   a673  A1BG-AS1  ENSG00000268895    1   0    1        0        0       1   \n",
       "2   a673       A2M  ENSG00000175899    1   0    1        0        0       1   \n",
       "3   a673     A2ML1  ENSG00000166535    0   0    0        0        1       1   \n",
       "4   a673    A4GALT  ENSG00000128274    1   1    1        1        0       0   \n",
       "\n",
       "   not_tes  not_triplet  \n",
       "0        1            1  \n",
       "1        0            1  \n",
       "2        0            1  \n",
       "3        1            1  \n",
       "4        0            0  "
      ]
     },
     "execution_count": 121,
     "metadata": {},
     "output_type": "execute_result"
    }
   ],
   "source": [
    "temp.head()"
   ]
  },
  {
   "cell_type": "code",
   "execution_count": 124,
   "id": "5a8b850f-2fd5-431a-9afb-1f718f1b6788",
   "metadata": {},
   "outputs": [],
   "source": [
    "temp = temp.groupby(['gname', 'gid_stable']).sum().reset_index()"
   ]
  },
  {
   "cell_type": "code",
   "execution_count": 125,
   "id": "b111b6ed-515f-4ee3-925e-1dbd8a653400",
   "metadata": {},
   "outputs": [
    {
     "data": {
      "text/html": [
       "<div>\n",
       "<style scoped>\n",
       "    .dataframe tbody tr th:only-of-type {\n",
       "        vertical-align: middle;\n",
       "    }\n",
       "\n",
       "    .dataframe tbody tr th {\n",
       "        vertical-align: top;\n",
       "    }\n",
       "\n",
       "    .dataframe thead th {\n",
       "        text-align: right;\n",
       "    }\n",
       "</style>\n",
       "<table border=\"1\" class=\"dataframe\">\n",
       "  <thead>\n",
       "    <tr style=\"text-align: right;\">\n",
       "      <th></th>\n",
       "      <th>gname</th>\n",
       "      <th>gid_stable</th>\n",
       "      <th>tss</th>\n",
       "      <th>ic</th>\n",
       "      <th>tes</th>\n",
       "      <th>triplet</th>\n",
       "      <th>not_tss</th>\n",
       "      <th>not_ic</th>\n",
       "      <th>not_tes</th>\n",
       "      <th>not_triplet</th>\n",
       "    </tr>\n",
       "  </thead>\n",
       "  <tbody>\n",
       "    <tr>\n",
       "      <th>0</th>\n",
       "      <td>A1BG</td>\n",
       "      <td>ENSG00000121410</td>\n",
       "      <td>2</td>\n",
       "      <td>2</td>\n",
       "      <td>24</td>\n",
       "      <td>0</td>\n",
       "      <td>42</td>\n",
       "      <td>42</td>\n",
       "      <td>20</td>\n",
       "      <td>44</td>\n",
       "    </tr>\n",
       "    <tr>\n",
       "      <th>1</th>\n",
       "      <td>A1BG-AS1</td>\n",
       "      <td>ENSG00000268895</td>\n",
       "      <td>43</td>\n",
       "      <td>2</td>\n",
       "      <td>18</td>\n",
       "      <td>2</td>\n",
       "      <td>0</td>\n",
       "      <td>41</td>\n",
       "      <td>25</td>\n",
       "      <td>41</td>\n",
       "    </tr>\n",
       "    <tr>\n",
       "      <th>2</th>\n",
       "      <td>A1CF</td>\n",
       "      <td>ENSG00000148584</td>\n",
       "      <td>10</td>\n",
       "      <td>0</td>\n",
       "      <td>1</td>\n",
       "      <td>0</td>\n",
       "      <td>0</td>\n",
       "      <td>10</td>\n",
       "      <td>9</td>\n",
       "      <td>10</td>\n",
       "    </tr>\n",
       "    <tr>\n",
       "      <th>3</th>\n",
       "      <td>A2M</td>\n",
       "      <td>ENSG00000175899</td>\n",
       "      <td>25</td>\n",
       "      <td>31</td>\n",
       "      <td>32</td>\n",
       "      <td>24</td>\n",
       "      <td>7</td>\n",
       "      <td>1</td>\n",
       "      <td>0</td>\n",
       "      <td>8</td>\n",
       "    </tr>\n",
       "    <tr>\n",
       "      <th>4</th>\n",
       "      <td>A2M-AS1</td>\n",
       "      <td>ENSG00000245105</td>\n",
       "      <td>13</td>\n",
       "      <td>1</td>\n",
       "      <td>13</td>\n",
       "      <td>1</td>\n",
       "      <td>0</td>\n",
       "      <td>12</td>\n",
       "      <td>0</td>\n",
       "      <td>12</td>\n",
       "    </tr>\n",
       "  </tbody>\n",
       "</table>\n",
       "</div>"
      ],
      "text/plain": [
       "      gname       gid_stable  tss  ic  tes  triplet  not_tss  not_ic  not_tes  \\\n",
       "0      A1BG  ENSG00000121410    2   2   24        0       42      42       20   \n",
       "1  A1BG-AS1  ENSG00000268895   43   2   18        2        0      41       25   \n",
       "2      A1CF  ENSG00000148584   10   0    1        0        0      10        9   \n",
       "3       A2M  ENSG00000175899   25  31   32       24        7       1        0   \n",
       "4   A2M-AS1  ENSG00000245105   13   1   13        1        0      12        0   \n",
       "\n",
       "   not_triplet  \n",
       "0           44  \n",
       "1           41  \n",
       "2           10  \n",
       "3            8  \n",
       "4           12  "
      ]
     },
     "execution_count": 125,
     "metadata": {},
     "output_type": "execute_result"
    }
   ],
   "source": [
    "temp.head()"
   ]
  },
  {
   "cell_type": "code",
   "execution_count": 99,
   "id": "063b29c7-6026-48c3-9c6a-198161d9118b",
   "metadata": {},
   "outputs": [],
   "source": [
    "# temp.rename({'major_iso': 'n_{}_major_iso'.format(obs_col), \n",
    "#              'not_major_iso': 'n_{}_not_major_iso'.format(obs_col)},\n",
    "#             axis=1, inplace=True)"
   ]
  },
  {
   "cell_type": "code",
   "execution_count": 126,
   "id": "964960cf-84ac-47bc-925d-743e388bf321",
   "metadata": {},
   "outputs": [],
   "source": [
    "temp['n_samples'] = temp.triplet+temp.not_triplet"
   ]
  },
  {
   "cell_type": "code",
   "execution_count": 130,
   "id": "9910cba6-58fb-436b-ae55-e232ceaefdcb",
   "metadata": {},
   "outputs": [
    {
     "name": "stdout",
     "output_type": "stream",
     "text": [
      "\n",
      "69.00% (18355/26603) genes with >= 1 sample where the major triplet is not the principal one\n",
      "\n",
      "44.49% (11835/26603) genes with >= 1 sample where the major tss is not the principal one\n",
      "\n",
      "54.96% (14622/26603) genes with >= 1 sample where the major ic is not the principal one\n",
      "\n",
      "51.78% (13774/26603) genes with >= 1 sample where the major tes is not the principal one\n"
     ]
    }
   ],
   "source": [
    "for feat in ['triplet', 'tss', 'ic', 'tes']:\n",
    "    col = 'not_{}'.format(feat)\n",
    "    n_genes = len(temp.gid_stable.unique())\n",
    "    n_num = len(temp.loc[temp[col] >= 1].index)\n",
    "    print()\n",
    "    print('{:.2f}% ({}/{}) genes with >= 1 sample where the major {} is not the principal one'.format((n_num/n_genes)*100, n_num, n_genes, feat)) "
   ]
  },
  {
   "cell_type": "code",
   "execution_count": 131,
   "id": "7426e0c7-31b5-4ddc-ab85-e8352ce1d977",
   "metadata": {},
   "outputs": [
    {
     "data": {
      "text/plain": [
       "50"
      ]
     },
     "execution_count": 131,
     "metadata": {},
     "output_type": "execute_result"
    }
   ],
   "source": [
    "# do we have the correct number of samples? Should be 50\n",
    "max(temp.tss)"
   ]
  },
  {
   "cell_type": "code",
   "execution_count": 110,
   "id": "f849ff35-1542-47c5-9ac6-304ae6d49ebd",
   "metadata": {},
   "outputs": [
    {
     "data": {
      "text/html": [
       "<div>\n",
       "<style scoped>\n",
       "    .dataframe tbody tr th:only-of-type {\n",
       "        vertical-align: middle;\n",
       "    }\n",
       "\n",
       "    .dataframe tbody tr th {\n",
       "        vertical-align: top;\n",
       "    }\n",
       "\n",
       "    .dataframe thead th {\n",
       "        text-align: right;\n",
       "    }\n",
       "</style>\n",
       "<table border=\"1\" class=\"dataframe\">\n",
       "  <thead>\n",
       "    <tr style=\"text-align: right;\">\n",
       "      <th></th>\n",
       "      <th>gname</th>\n",
       "      <th>gid_stable</th>\n",
       "      <th>n_sample_major_iso</th>\n",
       "      <th>n_sample_not_major_iso</th>\n",
       "      <th>n_expressed_samples</th>\n",
       "    </tr>\n",
       "  </thead>\n",
       "  <tbody>\n",
       "    <tr>\n",
       "      <th>0</th>\n",
       "      <td>A1BG</td>\n",
       "      <td>ENSG00000121410</td>\n",
       "      <td>0</td>\n",
       "      <td>44</td>\n",
       "      <td>44</td>\n",
       "    </tr>\n",
       "    <tr>\n",
       "      <th>1</th>\n",
       "      <td>A1BG-AS1</td>\n",
       "      <td>ENSG00000268895</td>\n",
       "      <td>2</td>\n",
       "      <td>41</td>\n",
       "      <td>43</td>\n",
       "    </tr>\n",
       "    <tr>\n",
       "      <th>2</th>\n",
       "      <td>A1CF</td>\n",
       "      <td>ENSG00000148584</td>\n",
       "      <td>0</td>\n",
       "      <td>10</td>\n",
       "      <td>10</td>\n",
       "    </tr>\n",
       "    <tr>\n",
       "      <th>3</th>\n",
       "      <td>A2M</td>\n",
       "      <td>ENSG00000175899</td>\n",
       "      <td>24</td>\n",
       "      <td>8</td>\n",
       "      <td>32</td>\n",
       "    </tr>\n",
       "    <tr>\n",
       "      <th>4</th>\n",
       "      <td>A2M-AS1</td>\n",
       "      <td>ENSG00000245105</td>\n",
       "      <td>1</td>\n",
       "      <td>12</td>\n",
       "      <td>13</td>\n",
       "    </tr>\n",
       "  </tbody>\n",
       "</table>\n",
       "</div>"
      ],
      "text/plain": [
       "      gname       gid_stable  n_sample_major_iso  n_sample_not_major_iso  \\\n",
       "0      A1BG  ENSG00000121410                   0                      44   \n",
       "1  A1BG-AS1  ENSG00000268895                   2                      41   \n",
       "2      A1CF  ENSG00000148584                   0                      10   \n",
       "3       A2M  ENSG00000175899                  24                       8   \n",
       "4   A2M-AS1  ENSG00000245105                   1                      12   \n",
       "\n",
       "   n_expressed_samples  \n",
       "0                   44  \n",
       "1                   43  \n",
       "2                   10  \n",
       "3                   32  \n",
       "4                   13  "
      ]
     },
     "execution_count": 110,
     "metadata": {},
     "output_type": "execute_result"
    }
   ],
   "source": [
    "temp.head()"
   ]
  },
  {
   "cell_type": "code",
   "execution_count": 137,
   "id": "c474046a-50c5-496f-b5fb-20b274d1a6e0",
   "metadata": {},
   "outputs": [],
   "source": [
    "for feat in ['triplet', 'tss', 'ic', 'tes']:\n",
    "    col = 'perc_{}'.format(feat)\n",
    "    temp[col] = (temp[feat]/temp.n_samples)*100"
   ]
  },
  {
   "cell_type": "code",
   "execution_count": 138,
   "id": "488a9336-a7cc-4fdb-af72-d2e2b98b93d7",
   "metadata": {},
   "outputs": [
    {
     "data": {
      "text/html": [
       "<div>\n",
       "<style scoped>\n",
       "    .dataframe tbody tr th:only-of-type {\n",
       "        vertical-align: middle;\n",
       "    }\n",
       "\n",
       "    .dataframe tbody tr th {\n",
       "        vertical-align: top;\n",
       "    }\n",
       "\n",
       "    .dataframe thead th {\n",
       "        text-align: right;\n",
       "    }\n",
       "</style>\n",
       "<table border=\"1\" class=\"dataframe\">\n",
       "  <thead>\n",
       "    <tr style=\"text-align: right;\">\n",
       "      <th></th>\n",
       "      <th>gname</th>\n",
       "      <th>gid_stable</th>\n",
       "      <th>tss</th>\n",
       "      <th>ic</th>\n",
       "      <th>tes</th>\n",
       "      <th>triplet</th>\n",
       "      <th>not_tss</th>\n",
       "      <th>not_ic</th>\n",
       "      <th>not_tes</th>\n",
       "      <th>not_triplet</th>\n",
       "      <th>n_samples</th>\n",
       "      <th>prop_triplet</th>\n",
       "      <th>prop_tss</th>\n",
       "      <th>prop_ic</th>\n",
       "      <th>prop_tes</th>\n",
       "      <th>perc_triplet</th>\n",
       "      <th>perc_tss</th>\n",
       "      <th>perc_ic</th>\n",
       "      <th>perc_tes</th>\n",
       "    </tr>\n",
       "  </thead>\n",
       "  <tbody>\n",
       "    <tr>\n",
       "      <th>0</th>\n",
       "      <td>A1BG</td>\n",
       "      <td>ENSG00000121410</td>\n",
       "      <td>2</td>\n",
       "      <td>2</td>\n",
       "      <td>24</td>\n",
       "      <td>0</td>\n",
       "      <td>42</td>\n",
       "      <td>42</td>\n",
       "      <td>20</td>\n",
       "      <td>44</td>\n",
       "      <td>44</td>\n",
       "      <td>0.000000</td>\n",
       "      <td>0.045455</td>\n",
       "      <td>0.045455</td>\n",
       "      <td>0.545455</td>\n",
       "      <td>0.000000</td>\n",
       "      <td>4.545455</td>\n",
       "      <td>4.545455</td>\n",
       "      <td>54.545455</td>\n",
       "    </tr>\n",
       "    <tr>\n",
       "      <th>1</th>\n",
       "      <td>A1BG-AS1</td>\n",
       "      <td>ENSG00000268895</td>\n",
       "      <td>43</td>\n",
       "      <td>2</td>\n",
       "      <td>18</td>\n",
       "      <td>2</td>\n",
       "      <td>0</td>\n",
       "      <td>41</td>\n",
       "      <td>25</td>\n",
       "      <td>41</td>\n",
       "      <td>43</td>\n",
       "      <td>0.046512</td>\n",
       "      <td>1.000000</td>\n",
       "      <td>0.046512</td>\n",
       "      <td>0.418605</td>\n",
       "      <td>4.651163</td>\n",
       "      <td>100.000000</td>\n",
       "      <td>4.651163</td>\n",
       "      <td>41.860465</td>\n",
       "    </tr>\n",
       "    <tr>\n",
       "      <th>2</th>\n",
       "      <td>A1CF</td>\n",
       "      <td>ENSG00000148584</td>\n",
       "      <td>10</td>\n",
       "      <td>0</td>\n",
       "      <td>1</td>\n",
       "      <td>0</td>\n",
       "      <td>0</td>\n",
       "      <td>10</td>\n",
       "      <td>9</td>\n",
       "      <td>10</td>\n",
       "      <td>10</td>\n",
       "      <td>0.000000</td>\n",
       "      <td>1.000000</td>\n",
       "      <td>0.000000</td>\n",
       "      <td>0.100000</td>\n",
       "      <td>0.000000</td>\n",
       "      <td>100.000000</td>\n",
       "      <td>0.000000</td>\n",
       "      <td>10.000000</td>\n",
       "    </tr>\n",
       "    <tr>\n",
       "      <th>3</th>\n",
       "      <td>A2M</td>\n",
       "      <td>ENSG00000175899</td>\n",
       "      <td>25</td>\n",
       "      <td>31</td>\n",
       "      <td>32</td>\n",
       "      <td>24</td>\n",
       "      <td>7</td>\n",
       "      <td>1</td>\n",
       "      <td>0</td>\n",
       "      <td>8</td>\n",
       "      <td>32</td>\n",
       "      <td>0.750000</td>\n",
       "      <td>0.781250</td>\n",
       "      <td>0.968750</td>\n",
       "      <td>1.000000</td>\n",
       "      <td>75.000000</td>\n",
       "      <td>78.125000</td>\n",
       "      <td>96.875000</td>\n",
       "      <td>100.000000</td>\n",
       "    </tr>\n",
       "    <tr>\n",
       "      <th>4</th>\n",
       "      <td>A2M-AS1</td>\n",
       "      <td>ENSG00000245105</td>\n",
       "      <td>13</td>\n",
       "      <td>1</td>\n",
       "      <td>13</td>\n",
       "      <td>1</td>\n",
       "      <td>0</td>\n",
       "      <td>12</td>\n",
       "      <td>0</td>\n",
       "      <td>12</td>\n",
       "      <td>13</td>\n",
       "      <td>0.076923</td>\n",
       "      <td>1.000000</td>\n",
       "      <td>0.076923</td>\n",
       "      <td>1.000000</td>\n",
       "      <td>7.692308</td>\n",
       "      <td>100.000000</td>\n",
       "      <td>7.692308</td>\n",
       "      <td>100.000000</td>\n",
       "    </tr>\n",
       "  </tbody>\n",
       "</table>\n",
       "</div>"
      ],
      "text/plain": [
       "      gname       gid_stable  tss  ic  tes  triplet  not_tss  not_ic  not_tes  \\\n",
       "0      A1BG  ENSG00000121410    2   2   24        0       42      42       20   \n",
       "1  A1BG-AS1  ENSG00000268895   43   2   18        2        0      41       25   \n",
       "2      A1CF  ENSG00000148584   10   0    1        0        0      10        9   \n",
       "3       A2M  ENSG00000175899   25  31   32       24        7       1        0   \n",
       "4   A2M-AS1  ENSG00000245105   13   1   13        1        0      12        0   \n",
       "\n",
       "   not_triplet  n_samples  prop_triplet  prop_tss   prop_ic  prop_tes  \\\n",
       "0           44         44      0.000000  0.045455  0.045455  0.545455   \n",
       "1           41         43      0.046512  1.000000  0.046512  0.418605   \n",
       "2           10         10      0.000000  1.000000  0.000000  0.100000   \n",
       "3            8         32      0.750000  0.781250  0.968750  1.000000   \n",
       "4           12         13      0.076923  1.000000  0.076923  1.000000   \n",
       "\n",
       "   perc_triplet    perc_tss    perc_ic    perc_tes  \n",
       "0      0.000000    4.545455   4.545455   54.545455  \n",
       "1      4.651163  100.000000   4.651163   41.860465  \n",
       "2      0.000000  100.000000   0.000000   10.000000  \n",
       "3     75.000000   78.125000  96.875000  100.000000  \n",
       "4      7.692308  100.000000   7.692308  100.000000  "
      ]
     },
     "execution_count": 138,
     "metadata": {},
     "output_type": "execute_result"
    }
   ],
   "source": [
    "temp.head()"
   ]
  },
  {
   "cell_type": "code",
   "execution_count": 142,
   "id": "d01272cc-1dac-47ed-8286-0ce07bd4a94b",
   "metadata": {},
   "outputs": [],
   "source": [
    "def get_feat_colors(cats=None):\n",
    "    tss = '#56B4E9'\n",
    "    tes = '#E69F00'\n",
    "    splicing = '#CC79A7'\n",
    "    triplet = '#009E73'\n",
    "    c_dict = {'tss': tss,\n",
    "              'ic': splicing,\n",
    "              'tes': tes,\n",
    "              'triplet': triplet}\n",
    "    order = ['triplet', 'tss', 'ic', 'tes']\n",
    "    \n",
    "    c_dict, order = rm_color_cats(c_dict, order, cats)\n",
    "    return c_dict, order\n"
   ]
  },
  {
   "cell_type": "code",
   "execution_count": 143,
   "id": "fe435b88-d27d-4844-8767-a27b842241bb",
   "metadata": {},
   "outputs": [],
   "source": [
    "c_dict, order = get_feat_colors()"
   ]
  },
  {
   "cell_type": "code",
   "execution_count": 151,
   "id": "76e78fa5-fcc9-4af9-8390-81dd3473f09f",
   "metadata": {},
   "outputs": [
    {
     "data": {
      "image/png": "[encoded data removed]",
      "text/plain": [
       "<Figure size 360x360 with 1 Axes>"
      ]
     },
     "metadata": {
      "needs_background": "light"
     },
     "output_type": "display_data"
    },
    {
     "data": {
      "image/png": "[encoded data removed]",
      "text/plain": [
       "<Figure size 360x360 with 1 Axes>"
      ]
     },
     "metadata": {
      "needs_background": "light"
     },
     "output_type": "display_data"
    },
    {
     "data": {
      "image/png": "[encoded data removed]",
      "text/plain": [
       "<Figure size 360x360 with 1 Axes>"
      ]
     },
     "metadata": {
      "needs_background": "light"
     },
     "output_type": "display_data"
    },
    {
     "data": {
      "image/png": "[encoded data removed]",
      "text/plain": [
       "<Figure size 360x360 with 1 Axes>"
      ]
     },
     "metadata": {
      "needs_background": "light"
     },
     "output_type": "display_data"
    }
   ],
   "source": [
    "for feat in ['triplet', 'tss', 'ic', 'tes']:\n",
    "    col = 'prop_{}'.format(feat)\n",
    "    ax = sns.displot(data=temp,\n",
    "                     x=col,\n",
    "                     linewidth=0, \n",
    "                     color=c_dict[feat])\n",
    "    ylabel = '# genes'\n",
    "    xlabel = '% of samples where MANE is major {}'.format(feat)\n",
    "    ax.set(ylabel=ylabel, xlabel=xlabel)\n",
    "    \n",
    "    fname = 'figures/MANE_vs_major_{}_hist.png'.format(feat)\n",
    "    plt.savefig(fname, dpi=800, bbox_inches='tight')"
   ]
  },
  {
   "cell_type": "code",
   "execution_count": 116,
   "id": "73c402fa-e941-48db-9e63-29ebbb509d18",
   "metadata": {},
   "outputs": [
    {
     "data": {
      "text/html": [
       "<div>\n",
       "<style scoped>\n",
       "    .dataframe tbody tr th:only-of-type {\n",
       "        vertical-align: middle;\n",
       "    }\n",
       "\n",
       "    .dataframe tbody tr th {\n",
       "        vertical-align: top;\n",
       "    }\n",
       "\n",
       "    .dataframe thead th {\n",
       "        text-align: right;\n",
       "    }\n",
       "</style>\n",
       "<table border=\"1\" class=\"dataframe\">\n",
       "  <thead>\n",
       "    <tr style=\"text-align: right;\">\n",
       "      <th></th>\n",
       "      <th>gname</th>\n",
       "      <th>gid_stable</th>\n",
       "      <th>n_sample_major_iso</th>\n",
       "      <th>n_sample_not_major_iso</th>\n",
       "      <th>n_expressed_samples</th>\n",
       "      <th>prop_major_samples</th>\n",
       "    </tr>\n",
       "  </thead>\n",
       "  <tbody>\n",
       "    <tr>\n",
       "      <th>8842</th>\n",
       "      <td>COL1A1</td>\n",
       "      <td>ENSG00000108821</td>\n",
       "      <td>0</td>\n",
       "      <td>29</td>\n",
       "      <td>29</td>\n",
       "      <td>0.0</td>\n",
       "    </tr>\n",
       "    <tr>\n",
       "      <th>16140</th>\n",
       "      <td>MEF2C</td>\n",
       "      <td>ENSG00000081189</td>\n",
       "      <td>0</td>\n",
       "      <td>42</td>\n",
       "      <td>42</td>\n",
       "      <td>0.0</td>\n",
       "    </tr>\n",
       "  </tbody>\n",
       "</table>\n",
       "</div>"
      ],
      "text/plain": [
       "        gname       gid_stable  n_sample_major_iso  n_sample_not_major_iso  \\\n",
       "8842   COL1A1  ENSG00000108821                   0                      29   \n",
       "16140   MEF2C  ENSG00000081189                   0                      42   \n",
       "\n",
       "       n_expressed_samples  prop_major_samples  \n",
       "8842                    29                 0.0  \n",
       "16140                   42                 0.0  "
      ]
     },
     "execution_count": 116,
     "metadata": {},
     "output_type": "execute_result"
    }
   ],
   "source": [
    "gnames = ['MEF2C', 'COL1A1']\n",
    "temp.loc[temp.gname.isin(gnames)]"
   ]
  },
  {
   "cell_type": "code",
   "execution_count": null,
   "id": "392381b1-6f36-4470-a0b1-511ca9192ede",
   "metadata": {},
   "outputs": [],
   "source": []
  }
 ],
 "metadata": {
  "kernelspec": {
   "display_name": "Python 3",
   "language": "python",
   "name": "python3"
  },
  "language_info": {
   "codemirror_mode": {
    "name": "ipython",
    "version": 3
   },
   "file_extension": ".py",
   "mimetype": "text/x-python",
   "name": "python",
   "nbconvert_exporter": "python",
   "pygments_lexer": "ipython3",
   "version": "3.7.4"
  }
 },
 "nbformat": 4,
 "nbformat_minor": 5
}
