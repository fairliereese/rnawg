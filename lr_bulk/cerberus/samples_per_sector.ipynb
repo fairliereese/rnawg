{
 "cells": [
  {
   "cell_type": "code",
   "execution_count": 1,
   "id": "e3a48bbb-1e2e-425c-948c-4f3bd2f275b8",
   "metadata": {},
   "outputs": [],
   "source": [
    "import pandas as pd\n",
    "import numpy as np\n",
    "import scipy.stats as st\n",
    "import seaborn as sns\n",
    "import sys\n",
    "import os\n",
    "import gseapy as gp\n",
    "import pdb\n",
    "import copy\n",
    "from scipy import sparse\n",
    "import anndata\n",
    "import cerberus\n",
    "import plotly.io as pio\n",
    "\n",
    "\n",
    "p = os.path.dirname(os.path.dirname(os.getcwd()))\n",
    "sys.path.append(p)\n",
    "\n",
    "from scripts.utils import *\n",
    "from scripts.plotting import *"
   ]
  },
  {
   "cell_type": "code",
   "execution_count": 2,
   "id": "54fecd3a-a4ed-48e7-a308-3e1c07849a5c",
   "metadata": {},
   "outputs": [],
   "source": [
    "h_h5 = 'cerberus_annot_triplets.h5'\n",
    "m_h5 = '../../../mousewg/lr_bulk/cerberus/cerberus_annot_triplets.h5'\n",
    "filt_ab = 'cerberus_filtered_abundance.tsv'"
   ]
  },
  {
   "cell_type": "code",
   "execution_count": 3,
   "id": "a630bd99-45f5-4a37-827f-535b3727627f",
   "metadata": {},
   "outputs": [],
   "source": [
    "ca = cerberus.read(h_h5)\n",
    "h_df = ca.triplets\n",
    "\n",
    "ca = cerberus.read(m_h5)\n",
    "m_df = ca.triplets"
   ]
  },
  {
   "cell_type": "code",
   "execution_count": 4,
   "id": "53fede29-ed93-4eb5-9ceb-00072d13d2ea",
   "metadata": {},
   "outputs": [
    {
     "data": {
      "text/plain": [
       "array([nan, 'adrenal', 'adrenal_10d', 'adrenal_14d', 'adrenal_18-20mo',\n",
       "       'adrenal_25d', 'adrenal_2mo', 'adrenal_36d', 'adrenal_4d',\n",
       "       'c2c12_myoblast', 'c2c12_myotube', 'cortex', 'cortex_14d',\n",
       "       'cortex_18-20mo', 'cortex_2mo', 'forelimb_e11', 'forelimb_e13',\n",
       "       'gastroc_10d', 'gastroc_14d', 'gastroc_18-20mo', 'gastroc_25d',\n",
       "       'gastroc_2mo', 'gastroc_36d', 'gastroc_4d', 'heart_14d',\n",
       "       'heart_18-20mo', 'heart_2mo', 'hippocampus', 'hippocampus_14d',\n",
       "       'hippocampus_18-20mo', 'hippocampus_2mo'], dtype=object)"
      ]
     },
     "execution_count": 4,
     "metadata": {},
     "output_type": "execute_result"
    }
   ],
   "source": [
    "m_df['sample'].unique()"
   ]
  },
  {
   "cell_type": "code",
   "execution_count": 5,
   "id": "a13749ec-18ce-4f7e-a0bd-c98fa24e56fe",
   "metadata": {},
   "outputs": [
    {
     "data": {
      "text/plain": [
       "array([nan, 'caco2', 'brain', 'mcf10a', 'a673', 'lung', 'hl60_m0',\n",
       "       'colon', 'hmec', 'k562', 'imr90', 'pgp1_astro', 'h9_de', 'liver',\n",
       "       'pc9', 'h9_panc_progen', 'hl60_m2_24hr', 'vessels', 'h1',\n",
       "       'h9_neural_crest', 'ovary', 'gm12878', 'muscle', 'hl60_m1_72hr',\n",
       "       'wtc11', 'huvec', 'hl60_m1_12hr', 'h1_de', 'hl60_m2_72hr', 'calu3',\n",
       "       'mcf7', 'heart', 'pgp1', 'hl60_m2_12hr', 'pc3', 'pgp1_endo',\n",
       "       'ocily7', 'adipose', 'hl60_m1_24hr', 'hffc6', 'h9', 'panc1',\n",
       "       'h9_chondro', 'pgp1_excite_neuron', 'adrenal gland', 'hl60',\n",
       "       'h9_osteocyte', 'h9_panc_beta', 'hepg2', 'hct116', 'kidney'],\n",
       "      dtype=object)"
      ]
     },
     "execution_count": 5,
     "metadata": {},
     "output_type": "execute_result"
    }
   ],
   "source": [
    "h_df['sample'].unique()"
   ]
  },
  {
   "cell_type": "code",
   "execution_count": null,
   "id": "d52264b4-4ddd-4031-9982-8ceb5cba203a",
   "metadata": {},
   "outputs": [],
   "source": []
  }
 ],
 "metadata": {
  "kernelspec": {
   "display_name": "Python 3",
   "language": "python",
   "name": "python3"
  },
  "language_info": {
   "codemirror_mode": {
    "name": "ipython",
    "version": 3
   },
   "file_extension": ".py",
   "mimetype": "text/x-python",
   "name": "python",
   "nbconvert_exporter": "python",
   "pygments_lexer": "ipython3",
   "version": "3.7.4"
  }
 },
 "nbformat": 4,
 "nbformat_minor": 5
}
