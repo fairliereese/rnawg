{
 "cells": [
  {
   "cell_type": "code",
   "execution_count": 1,
   "id": "06fd8114-7d47-44d8-9138-0898244f2eef",
   "metadata": {},
   "outputs": [],
   "source": [
    "import pyranges as pr"
   ]
  },
  {
   "cell_type": "code",
   "execution_count": null,
   "id": "90cef51c-5939-4697-bf0c-984d9d9ac196",
   "metadata": {},
   "outputs": [],
   "source": [
    "gtf = pr.read_gtf('human_cerberus.gtf', as_df=True)"
   ]
  },
  {
   "cell_type": "code",
   "execution_count": 5,
   "id": "5279b123-5720-431c-8036-bc491150404a",
   "metadata": {},
   "outputs": [
    {
     "data": {
      "text/plain": [
       "0    ENSG00000000460[3,10,3]\n",
       "1    ENSG00000000460[3,10,3]\n",
       "2    ENSG00000000460[3,10,3]\n",
       "3    ENSG00000000460[3,10,3]\n",
       "4    ENSG00000000460[3,10,3]\n",
       "Name: transcript_id, dtype: object"
      ]
     },
     "execution_count": 5,
     "metadata": {},
     "output_type": "execute_result"
    }
   ],
   "source": [
    "gtf.transcript_id.head()"
   ]
  },
  {
   "cell_type": "code",
   "execution_count": 6,
   "id": "ffd7d39d-d7d6-402b-abcf-a886001c616f",
   "metadata": {},
   "outputs": [
    {
     "data": {
      "text/plain": [
       "251243"
      ]
     },
     "execution_count": 6,
     "metadata": {},
     "output_type": "execute_result"
    }
   ],
   "source": [
    "len(gtf.transcript_id.unique())"
   ]
  },
  {
   "cell_type": "code",
   "execution_count": 7,
   "id": "22b4560d-5236-463a-862a-bcfc076591b3",
   "metadata": {},
   "outputs": [
    {
     "data": {
      "text/plain": [
       "398794"
      ]
     },
     "execution_count": 7,
     "metadata": {},
     "output_type": "execute_result"
    }
   ],
   "source": [
    "len(gtf.loc[gtf.Feature == 'transcript'])"
   ]
  },
  {
   "cell_type": "code",
   "execution_count": 9,
   "id": "64a205bc-adab-4322-80df-8af295fe5fd0",
   "metadata": {},
   "outputs": [
    {
     "data": {
      "text/plain": [
       "array([nan, 'ISM_rescue'], dtype=object)"
      ]
     },
     "execution_count": 9,
     "metadata": {},
     "output_type": "execute_result"
    }
   ],
   "source": [
    "gtf.transcript_novelty.unique()"
   ]
  },
  {
   "cell_type": "code",
   "execution_count": 10,
   "id": "cc6735e8-169e-4802-bf17-532cb7704ac5",
   "metadata": {},
   "outputs": [
    {
     "data": {
      "text/html": [
       "<div>\n",
       "<style scoped>\n",
       "    .dataframe tbody tr th:only-of-type {\n",
       "        vertical-align: middle;\n",
       "    }\n",
       "\n",
       "    .dataframe tbody tr th {\n",
       "        vertical-align: top;\n",
       "    }\n",
       "\n",
       "    .dataframe thead th {\n",
       "        text-align: right;\n",
       "    }\n",
       "</style>\n",
       "<table border=\"1\" class=\"dataframe\">\n",
       "  <thead>\n",
       "    <tr style=\"text-align: right;\">\n",
       "      <th></th>\n",
       "      <th>Chromosome</th>\n",
       "      <th>Source</th>\n",
       "      <th>Feature</th>\n",
       "      <th>Start</th>\n",
       "      <th>End</th>\n",
       "      <th>Score</th>\n",
       "      <th>Strand</th>\n",
       "      <th>Frame</th>\n",
       "      <th>gene_id</th>\n",
       "      <th>gene_name</th>\n",
       "      <th>...</th>\n",
       "      <th>transcript_type</th>\n",
       "      <th>source</th>\n",
       "      <th>tag</th>\n",
       "      <th>ISM-prefix_transcript</th>\n",
       "      <th>ISM_to_IDs</th>\n",
       "      <th>ISM-prefix_to_IDs</th>\n",
       "      <th>ISM_transcript</th>\n",
       "      <th>ISM-suffix_transcript</th>\n",
       "      <th>ISM-suffix_to_IDs</th>\n",
       "      <th>ont</th>\n",
       "    </tr>\n",
       "  </thead>\n",
       "  <tbody>\n",
       "    <tr>\n",
       "      <th>0</th>\n",
       "      <td>chr1</td>\n",
       "      <td>TALON</td>\n",
       "      <td>transcript</td>\n",
       "      <td>169794679</td>\n",
       "      <td>169853135</td>\n",
       "      <td>.</td>\n",
       "      <td>+</td>\n",
       "      <td>.</td>\n",
       "      <td>ENSG00000000460.16</td>\n",
       "      <td>C1orf112</td>\n",
       "      <td>...</td>\n",
       "      <td>NaN</td>\n",
       "      <td>NaN</td>\n",
       "      <td>NaN</td>\n",
       "      <td>NaN</td>\n",
       "      <td>NaN</td>\n",
       "      <td>NaN</td>\n",
       "      <td>NaN</td>\n",
       "      <td>NaN</td>\n",
       "      <td>NaN</td>\n",
       "      <td>NaN</td>\n",
       "    </tr>\n",
       "    <tr>\n",
       "      <th>25</th>\n",
       "      <td>chr1</td>\n",
       "      <td>TALON</td>\n",
       "      <td>transcript</td>\n",
       "      <td>169794679</td>\n",
       "      <td>169853135</td>\n",
       "      <td>.</td>\n",
       "      <td>+</td>\n",
       "      <td>.</td>\n",
       "      <td>ENSG00000000460.16</td>\n",
       "      <td>C1orf112</td>\n",
       "      <td>...</td>\n",
       "      <td>NaN</td>\n",
       "      <td>NaN</td>\n",
       "      <td>NaN</td>\n",
       "      <td>NaN</td>\n",
       "      <td>NaN</td>\n",
       "      <td>NaN</td>\n",
       "      <td>NaN</td>\n",
       "      <td>NaN</td>\n",
       "      <td>NaN</td>\n",
       "      <td>NaN</td>\n",
       "    </tr>\n",
       "    <tr>\n",
       "      <th>50</th>\n",
       "      <td>chr1</td>\n",
       "      <td>TALON</td>\n",
       "      <td>transcript</td>\n",
       "      <td>169794679</td>\n",
       "      <td>169853135</td>\n",
       "      <td>.</td>\n",
       "      <td>+</td>\n",
       "      <td>.</td>\n",
       "      <td>ENSG00000000460.16</td>\n",
       "      <td>C1orf112</td>\n",
       "      <td>...</td>\n",
       "      <td>NaN</td>\n",
       "      <td>NaN</td>\n",
       "      <td>NaN</td>\n",
       "      <td>NaN</td>\n",
       "      <td>NaN</td>\n",
       "      <td>NaN</td>\n",
       "      <td>NaN</td>\n",
       "      <td>NaN</td>\n",
       "      <td>NaN</td>\n",
       "      <td>NaN</td>\n",
       "    </tr>\n",
       "  </tbody>\n",
       "</table>\n",
       "<p>3 rows × 43 columns</p>\n",
       "</div>"
      ],
      "text/plain": [
       "   Chromosome Source     Feature      Start        End Score Strand Frame  \\\n",
       "0        chr1  TALON  transcript  169794679  169853135     .      +     .   \n",
       "25       chr1  TALON  transcript  169794679  169853135     .      +     .   \n",
       "50       chr1  TALON  transcript  169794679  169853135     .      +     .   \n",
       "\n",
       "               gene_id gene_name  ... transcript_type source  tag  \\\n",
       "0   ENSG00000000460.16  C1orf112  ...             NaN    NaN  NaN   \n",
       "25  ENSG00000000460.16  C1orf112  ...             NaN    NaN  NaN   \n",
       "50  ENSG00000000460.16  C1orf112  ...             NaN    NaN  NaN   \n",
       "\n",
       "   ISM-prefix_transcript ISM_to_IDs ISM-prefix_to_IDs ISM_transcript  \\\n",
       "0                    NaN        NaN               NaN            NaN   \n",
       "25                   NaN        NaN               NaN            NaN   \n",
       "50                   NaN        NaN               NaN            NaN   \n",
       "\n",
       "   ISM-suffix_transcript ISM-suffix_to_IDs  ont  \n",
       "0                    NaN               NaN  NaN  \n",
       "25                   NaN               NaN  NaN  \n",
       "50                   NaN               NaN  NaN  \n",
       "\n",
       "[3 rows x 43 columns]"
      ]
     },
     "execution_count": 10,
     "metadata": {},
     "output_type": "execute_result"
    }
   ],
   "source": [
    "gtf.loc[(gtf.Feature == 'transcript')&(gtf.transcript_id == 'ENSG00000000460[3,10,3]')]"
   ]
  },
  {
   "cell_type": "code",
   "execution_count": null,
   "id": "c43ff099-2d75-41fc-94a5-2b7830bcc2f6",
   "metadata": {},
   "outputs": [],
   "source": []
  }
 ],
 "metadata": {
  "kernelspec": {
   "display_name": "Python 3",
   "language": "python",
   "name": "python3"
  },
  "language_info": {
   "codemirror_mode": {
    "name": "ipython",
    "version": 3
   },
   "file_extension": ".py",
   "mimetype": "text/x-python",
   "name": "python",
   "nbconvert_exporter": "python",
   "pygments_lexer": "ipython3",
   "version": "3.7.4"
  }
 },
 "nbformat": 4,
 "nbformat_minor": 5
}
