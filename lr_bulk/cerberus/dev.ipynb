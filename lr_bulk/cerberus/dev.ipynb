{
 "cells": [
  {
   "cell_type": "code",
   "execution_count": 1,
   "id": "06fd8114-7d47-44d8-9138-0898244f2eef",
   "metadata": {},
   "outputs": [],
   "source": [
    "import pandas as pd\n",
    "import numpy as np\n",
    "import scipy.stats as st\n",
    "import seaborn as sns\n",
    "import matplotlib as mpl\n",
    "import sys\n",
    "import os\n",
    "import gseapy as gp\n",
    "import pdb\n",
    "import copy\n",
    "from scipy import sparse\n",
    "import anndata\n",
    "import cerberus\n",
    "import ternary\n",
    "\n",
    "\n",
    "p = os.path.dirname(os.path.dirname(os.getcwd()))\n",
    "sys.path.append(p)\n",
    "\n",
    "from scripts.utils import *\n",
    "from scripts.plotting import *"
   ]
  },
  {
   "cell_type": "markdown",
   "id": "f0ae8077-b606-458b-bf7e-2e57cb2e8619",
   "metadata": {},
   "source": [
    "## 220830 adding arrows to simplex"
   ]
  },
  {
   "cell_type": "code",
   "execution_count": 2,
   "id": "6cb0104c-5f18-42a5-b655-11d90cec58ac",
   "metadata": {},
   "outputs": [
    {
     "data": {
      "image/png": "[encoded data removed]",
      "text/plain": [
       "<Figure size 432x288 with 1 Axes>"
      ]
     },
     "metadata": {
      "needs_background": "light"
     },
     "output_type": "display_data"
    }
   ],
   "source": [
    "fig, tax = ternary.figure()\n",
    "tax.set_title(\"Scatter Plot\", fontsize=20)\n",
    "points = [(1,1), (2,1)]\n",
    "tax.scatter(points, marker='s', color='red', label=\"Red Squares\")\n",
    "tax.legend()\n",
    "tax.left_axis_label('TSS')\n",
    "tax.right_axis_label('Splicing ratio')\n",
    "tax.bottom_axis_label('TES')"
   ]
  },
  {
   "cell_type": "code",
   "execution_count": 3,
   "id": "3f1eb286-bc66-428c-a6ff-3a11753b96a8",
   "metadata": {},
   "outputs": [
    {
     "data": {
      "text/plain": [
       "('TSS', (-0.08, 0.6, 0.4), 60, {})"
      ]
     },
     "execution_count": 3,
     "metadata": {},
     "output_type": "execute_result"
    }
   ],
   "source": [
    "tax._labels['left']"
   ]
  },
  {
   "cell_type": "code",
   "execution_count": 4,
   "id": "644927ca-1fe7-47c8-89e6-f6ab3ddbdd5d",
   "metadata": {},
   "outputs": [
    {
     "data": {
      "text/plain": [
       "{'left': ('TSS', (-0.08, 0.6, 0.4), 60, {}),\n",
       " 'right': ('Splicing ratio', (0.48000000000000004, 0.6, 0), -60, {}),\n",
       " 'bottom': ('TES', (0.5, -0.01, 0.5), 0, {})}"
      ]
     },
     "execution_count": 4,
     "metadata": {},
     "output_type": "execute_result"
    }
   ],
   "source": [
    "tax._labels"
   ]
  },
  {
   "cell_type": "code",
   "execution_count": null,
   "id": "8340df52-7c8d-47bd-9f37-19c5f126a699",
   "metadata": {},
   "outputs": [],
   "source": []
  },
  {
   "cell_type": "code",
   "execution_count": 5,
   "id": "c163c9d7-6a82-4a1d-9979-c00782f1bfbb",
   "metadata": {},
   "outputs": [],
   "source": [
    "def left_axis_arrow(tax, position=None,  rotation=60, offset=0.08,\n",
    "                    **kwargs):\n",
    "    \"\"\"\n",
    "    Sets the label on the left axis.\n",
    "\n",
    "    Parameters\n",
    "    ----------\n",
    "    label: String\n",
    "        The axis label\n",
    "    position: 3-Tuple of floats, None\n",
    "        The position of the text label\n",
    "    rotation: float, 60\n",
    "        The angle of rotation of the label\n",
    "    offset: float,\n",
    "        Used to compute the distance of the label from the axis\n",
    "    kwargs:\n",
    "        Any kwargs to pass through to matplotlib.\n",
    "    \"\"\"\n",
    "\n",
    "    if not position:\n",
    "        position = (-offset, 3./5, 2./5)\n",
    "    tax._arrows[\"left\"] = ('', position, rotation, kwargs)\n",
    "\n",
    "def right_axis_arrow(tax, position=None, rotation=-60, offset=0.08,\n",
    "                     **kwargs):\n",
    "\n",
    "    \"\"\"\n",
    "    Sets the label on the right axis.\n",
    "\n",
    "    Parameters\n",
    "    ----------\n",
    "    label: String\n",
    "        The axis label\n",
    "    position: 3-Tuple of floats, None\n",
    "        The position of the text label\n",
    "    rotation: float, -60\n",
    "        The angle of rotation of the label\n",
    "    offset: float,\n",
    "        Used to compute the distance of the label from the axis\n",
    "    kwargs:\n",
    "        Any kwargs to pass through to matplotlib.\n",
    "    \"\"\"\n",
    "\n",
    "    if not position:\n",
    "        position = (2. / 5 + offset, 3. / 5, 0)\n",
    "    tax._arrows[\"right\"] = ('', position, rotation, kwargs)\n",
    "\n",
    "def bottom_axis_arrow(tax, position=None, rotation=0, offset=0.02,\n",
    "                      **kwargs):\n",
    "    \"\"\"\n",
    "    Sets the label on the bottom axis.\n",
    "\n",
    "    Parameters\n",
    "    ----------\n",
    "    label: String\n",
    "        The axis label\n",
    "    position: 3-Tuple of floats, None\n",
    "        The position of the text label\n",
    "    rotation: float, 0\n",
    "        The angle of rotation of the label\n",
    "    offset: float,\n",
    "        Used to compute the distance of the label from the axis\n",
    "    kwargs:\n",
    "        Any kwargs to pass through to matplotlib.\n",
    "    \"\"\"\n",
    "\n",
    "    if not position:\n",
    "        position = (0.5, -offset / 2., 0.5)\n",
    "    tax._arrows[\"bottom\"] = ('', position, rotation, kwargs)"
   ]
  },
  {
   "cell_type": "code",
   "execution_count": 8,
   "id": "2e14e299-5f30-40bd-a2f4-3ae831e1067f",
   "metadata": {},
   "outputs": [],
   "source": [
    "SQRT3 = np.sqrt(3)\n",
    "SQRT3OVER2 = SQRT3 / 2.\n",
    "\n",
    "def project_point(p, permutation=None):\n",
    "    \"\"\"\n",
    "    Maps (x,y,z) coordinates to planar simplex.\n",
    "\n",
    "    Parameters\n",
    "    ----------\n",
    "    p: 3-tuple\n",
    "        The point to be projected p = (x, y, z)\n",
    "    permutation: string, None, equivalent to \"012\"\n",
    "        The order of the coordinates, counterclockwise from the origin\n",
    "    \"\"\"\n",
    "    permuted = permute_point(p, permutation=permutation)\n",
    "    a = permuted[0]\n",
    "    b = permuted[1]\n",
    "    x = a + b/2.\n",
    "    y = SQRT3OVER2 * b\n",
    "    return np.array([x, y])\n",
    "\n",
    "def permute_point(p, permutation=None):\n",
    "    \"\"\"\n",
    "    Permutes the point according to the permutation keyword argument. The\n",
    "    default permutation is \"012\" which does not change the order of the\n",
    "    coordinate. To rotate counterclockwise, use \"120\" and to rotate clockwise\n",
    "    use \"201\".\"\"\"\n",
    "    if not permutation:\n",
    "        return p\n",
    "    return [p[int(permutation[i])] for i in range(len(p))]\n"
   ]
  },
  {
   "cell_type": "code",
   "execution_count": 39,
   "id": "ee78e285-ed1c-41fc-a06e-b25658b1023e",
   "metadata": {},
   "outputs": [
    {
     "data": {
      "text/plain": [
       "60"
      ]
     },
     "execution_count": 39,
     "metadata": {},
     "output_type": "execute_result"
    }
   ],
   "source": [
    "abs(-60)"
   ]
  },
  {
   "cell_type": "code",
   "execution_count": 78,
   "id": "e3361866-73b9-46af-9be7-d1a1a087c522",
   "metadata": {},
   "outputs": [],
   "source": [
    "def draw_arrows(tax):\n",
    "    \"\"\"Redraw axis labels, typically after draw or resize events.\"\"\"\n",
    "    # Redraw the labels with the appropriate angles\n",
    "    ax = tax.get_axes()\n",
    "    arrow_data = list(tax._arrows.values())\n",
    "    for (label, position, rotation, kwargs) in arrow_data:\n",
    "        transform = ax.transAxes\n",
    "        print(rotation)\n",
    "        x = position[0]\n",
    "        y = position[1]\n",
    "        dx = (1/3)*math.sin(abs(rotation))\n",
    "        dy = (1/3)*math.sin(90-abs(rotation))\n",
    "        x2 = x+dx\n",
    "        y2 = y+dy\n",
    "        z2 = sum(position)-(x2+y2)\n",
    "        # print(position)\n",
    "        # print((x2,y2,z2))\n",
    "        # print()\n",
    "        print('x, x2')\n",
    "        print((x, x2))\n",
    "        print('y, y2')\n",
    "        print((y, y2))\n",
    "        proj_x, proj_y = project_point(position)\n",
    "        \n",
    "        position = np.array([proj_x, proj_y])\n",
    "        new_rotation = ax.transData.transform_angles(\n",
    "                np.array((rotation,)), position.reshape((1, 2)))[0]\n",
    "        \n",
    "        proj_x2, proj_y2 = project_point((x2, y2, z2))\n",
    "        proj_dx = proj_x2-proj_x\n",
    "        proj_dy = proj_y2-proj_y\n",
    "        print('x proj, x2 proj')\n",
    "        print((proj_x, proj_x2))\n",
    "        print('y proj, y2_proj')\n",
    "        print((proj_y, proj_y2))\n",
    "        print('new rotation')\n",
    "        print(new_rotation)\n",
    "        print()\n",
    "        \n",
    "\n",
    "        arrow = ax.arrow(proj_x, proj_y,\n",
    "                         proj_dx, proj_dy, head_width=0.02,\n",
    "                         width=.0005,\n",
    "                          **kwargs)\n"
   ]
  },
  {
   "cell_type": "code",
   "execution_count": 80,
   "id": "8fa4338c-593e-4ffb-b8a9-b9ca95501f02",
   "metadata": {},
   "outputs": [
    {
     "name": "stdout",
     "output_type": "stream",
     "text": [
      "60\n",
      "x, x2\n",
      "(-0.08, -0.18160354036740556)\n",
      "y, y2\n",
      "(0.6, 0.27065612530237937)\n",
      "x proj, x2 proj\n",
      "(0.21999999999999997, -0.046275477716215874)\n",
      "y proj, y2_proj\n",
      "(0.5196152422706631, 0.2343950802017247)\n",
      "new rotation\n",
      "51.05654304257676\n",
      "\n"
     ]
    },
    {
     "data": {
      "image/png": "[encoded data removed]",
      "text/plain": [
       "<Figure size 432x288 with 1 Axes>"
      ]
     },
     "metadata": {
      "needs_background": "light"
     },
     "output_type": "display_data"
    }
   ],
   "source": [
    "fig, tax = ternary.figure()\n",
    "tax.set_title(\"Scatter Plot\", fontsize=20)\n",
    "points = [(1,2), (2,1)]\n",
    "tax.scatter(points, marker='s', color='red', label=\"Red Squares\")\n",
    "tax.legend()\n",
    "tax.left_axis_label('TSS')\n",
    "tax.right_axis_label('Splicing ratio')\n",
    "tax.bottom_axis_label('TES')\n",
    "tax._arrows = {}\n",
    "left_axis_arrow(tax)\n",
    "# right_axis_arrow(tax)\n",
    "# bottom_axis_arrow(tax)\n",
    "draw_arrows(tax)"
   ]
  },
  {
   "cell_type": "markdown",
   "id": "fb7c594b-c7aa-4945-b700-746d010e5f36",
   "metadata": {},
   "source": [
    "## 220816 genes where sr == tss == tes"
   ]
  },
  {
   "cell_type": "code",
   "execution_count": 12,
   "id": "aa9fd94e-512c-4af0-9545-826eb6f35b4b",
   "metadata": {},
   "outputs": [],
   "source": [
    "ca = cerberus.read('cerberus_annot_triplets.h5')"
   ]
  },
  {
   "cell_type": "code",
   "execution_count": 13,
   "id": "78f063ba-56cf-4d93-b0e8-5d83e2812003",
   "metadata": {},
   "outputs": [],
   "source": [
    "df = ca.triplets"
   ]
  },
  {
   "cell_type": "code",
   "execution_count": 15,
   "id": "a4854959-1bce-42e8-b0a5-38d4c14f152b",
   "metadata": {},
   "outputs": [],
   "source": [
    "df = df.loc[df.source == 'obs_det']"
   ]
  },
  {
   "cell_type": "code",
   "execution_count": 18,
   "id": "39b1e664-f6f0-4f4a-b87c-3a81989f9fa0",
   "metadata": {},
   "outputs": [
    {
     "name": "stdout",
     "output_type": "stream",
     "text": [
      "26781\n",
      "8796\n"
     ]
    }
   ],
   "source": [
    "print(len(df.index))\n",
    "df = df.loc[(df.n_tss == df.splicing_ratio)&(df.n_tss == df.n_tes)]\n",
    "print(len(df.index))"
   ]
  },
  {
   "cell_type": "code",
   "execution_count": 20,
   "id": "1cded4a2-3563-41c6-a880-42efaff4423f",
   "metadata": {},
   "outputs": [
    {
     "name": "stdout",
     "output_type": "stream",
     "text": [
      "8796\n",
      "163\n"
     ]
    }
   ],
   "source": [
    "print(len(df.index))\n",
    "df = df.loc[df.n_tss > 1]\n",
    "print(len(df.index))\n"
   ]
  },
  {
   "cell_type": "code",
   "execution_count": 21,
   "id": "59a03b2a-2e90-41a2-8d4e-cf2dda463141",
   "metadata": {},
   "outputs": [
    {
     "data": {
      "text/html": [
       "<div>\n",
       "<style scoped>\n",
       "    .dataframe tbody tr th:only-of-type {\n",
       "        vertical-align: middle;\n",
       "    }\n",
       "\n",
       "    .dataframe tbody tr th {\n",
       "        vertical-align: top;\n",
       "    }\n",
       "\n",
       "    .dataframe thead th {\n",
       "        text-align: right;\n",
       "    }\n",
       "</style>\n",
       "<table border=\"1\" class=\"dataframe\">\n",
       "  <thead>\n",
       "    <tr style=\"text-align: right;\">\n",
       "      <th></th>\n",
       "      <th>source</th>\n",
       "      <th>gid</th>\n",
       "      <th>n_tss</th>\n",
       "      <th>n_tes</th>\n",
       "      <th>n_ic</th>\n",
       "      <th>n_iso</th>\n",
       "      <th>splicing_ratio</th>\n",
       "      <th>gname</th>\n",
       "      <th>sample</th>\n",
       "      <th>gene_tpm</th>\n",
       "    </tr>\n",
       "  </thead>\n",
       "  <tbody>\n",
       "    <tr>\n",
       "      <th>14</th>\n",
       "      <td>obs_det</td>\n",
       "      <td>ENSG00000001617</td>\n",
       "      <td>2.0</td>\n",
       "      <td>2.0</td>\n",
       "      <td>4.0</td>\n",
       "      <td>7.0</td>\n",
       "      <td>2.0</td>\n",
       "      <td>SEMA3F</td>\n",
       "      <td>NaN</td>\n",
       "      <td>NaN</td>\n",
       "    </tr>\n",
       "    <tr>\n",
       "      <th>515</th>\n",
       "      <td>obs_det</td>\n",
       "      <td>ENSG00000035720</td>\n",
       "      <td>2.0</td>\n",
       "      <td>2.0</td>\n",
       "      <td>4.0</td>\n",
       "      <td>7.0</td>\n",
       "      <td>2.0</td>\n",
       "      <td>STAP1</td>\n",
       "      <td>NaN</td>\n",
       "      <td>NaN</td>\n",
       "    </tr>\n",
       "    <tr>\n",
       "      <th>559</th>\n",
       "      <td>obs_det</td>\n",
       "      <td>ENSG00000040487</td>\n",
       "      <td>3.0</td>\n",
       "      <td>3.0</td>\n",
       "      <td>9.0</td>\n",
       "      <td>11.0</td>\n",
       "      <td>3.0</td>\n",
       "      <td>SLC66A1</td>\n",
       "      <td>NaN</td>\n",
       "      <td>NaN</td>\n",
       "    </tr>\n",
       "    <tr>\n",
       "      <th>577</th>\n",
       "      <td>obs_det</td>\n",
       "      <td>ENSG00000042429</td>\n",
       "      <td>4.0</td>\n",
       "      <td>4.0</td>\n",
       "      <td>16.0</td>\n",
       "      <td>23.0</td>\n",
       "      <td>4.0</td>\n",
       "      <td>MED17</td>\n",
       "      <td>NaN</td>\n",
       "      <td>NaN</td>\n",
       "    </tr>\n",
       "    <tr>\n",
       "      <th>644</th>\n",
       "      <td>obs_det</td>\n",
       "      <td>ENSG00000049245</td>\n",
       "      <td>2.0</td>\n",
       "      <td>2.0</td>\n",
       "      <td>4.0</td>\n",
       "      <td>5.0</td>\n",
       "      <td>2.0</td>\n",
       "      <td>VAMP3</td>\n",
       "      <td>NaN</td>\n",
       "      <td>NaN</td>\n",
       "    </tr>\n",
       "  </tbody>\n",
       "</table>\n",
       "</div>"
      ],
      "text/plain": [
       "      source              gid  n_tss  n_tes  n_ic  n_iso  splicing_ratio  \\\n",
       "14   obs_det  ENSG00000001617    2.0    2.0   4.0    7.0             2.0   \n",
       "515  obs_det  ENSG00000035720    2.0    2.0   4.0    7.0             2.0   \n",
       "559  obs_det  ENSG00000040487    3.0    3.0   9.0   11.0             3.0   \n",
       "577  obs_det  ENSG00000042429    4.0    4.0  16.0   23.0             4.0   \n",
       "644  obs_det  ENSG00000049245    2.0    2.0   4.0    5.0             2.0   \n",
       "\n",
       "       gname sample  gene_tpm  \n",
       "14    SEMA3F    NaN       NaN  \n",
       "515    STAP1    NaN       NaN  \n",
       "559  SLC66A1    NaN       NaN  \n",
       "577    MED17    NaN       NaN  \n",
       "644    VAMP3    NaN       NaN  "
      ]
     },
     "execution_count": 21,
     "metadata": {},
     "output_type": "execute_result"
    }
   ],
   "source": [
    "df.head()"
   ]
  },
  {
   "cell_type": "code",
   "execution_count": 23,
   "id": "4e16de73-3f4a-4655-a441-903ab618640d",
   "metadata": {},
   "outputs": [
    {
     "data": {
      "text/html": [
       "<div>\n",
       "<style scoped>\n",
       "    .dataframe tbody tr th:only-of-type {\n",
       "        vertical-align: middle;\n",
       "    }\n",
       "\n",
       "    .dataframe tbody tr th {\n",
       "        vertical-align: top;\n",
       "    }\n",
       "\n",
       "    .dataframe thead th {\n",
       "        text-align: right;\n",
       "    }\n",
       "</style>\n",
       "<table border=\"1\" class=\"dataframe\">\n",
       "  <thead>\n",
       "    <tr style=\"text-align: right;\">\n",
       "      <th></th>\n",
       "      <th>source</th>\n",
       "      <th>gid</th>\n",
       "      <th>n_tss</th>\n",
       "      <th>n_tes</th>\n",
       "      <th>n_ic</th>\n",
       "      <th>n_iso</th>\n",
       "      <th>splicing_ratio</th>\n",
       "      <th>gname</th>\n",
       "      <th>sample</th>\n",
       "      <th>gene_tpm</th>\n",
       "    </tr>\n",
       "  </thead>\n",
       "  <tbody>\n",
       "    <tr>\n",
       "      <th>13976</th>\n",
       "      <td>obs_det</td>\n",
       "      <td>ENSG00000182220</td>\n",
       "      <td>5.0</td>\n",
       "      <td>5.0</td>\n",
       "      <td>25.0</td>\n",
       "      <td>31.0</td>\n",
       "      <td>5.0</td>\n",
       "      <td>ATP6AP2</td>\n",
       "      <td>NaN</td>\n",
       "      <td>NaN</td>\n",
       "    </tr>\n",
       "    <tr>\n",
       "      <th>7137</th>\n",
       "      <td>obs_det</td>\n",
       "      <td>ENSG00000137312</td>\n",
       "      <td>5.0</td>\n",
       "      <td>5.0</td>\n",
       "      <td>25.0</td>\n",
       "      <td>42.0</td>\n",
       "      <td>5.0</td>\n",
       "      <td>FLOT1</td>\n",
       "      <td>NaN</td>\n",
       "      <td>NaN</td>\n",
       "    </tr>\n",
       "    <tr>\n",
       "      <th>10461</th>\n",
       "      <td>obs_det</td>\n",
       "      <td>ENSG00000163479</td>\n",
       "      <td>4.0</td>\n",
       "      <td>4.0</td>\n",
       "      <td>16.0</td>\n",
       "      <td>19.0</td>\n",
       "      <td>4.0</td>\n",
       "      <td>SSR2</td>\n",
       "      <td>NaN</td>\n",
       "      <td>NaN</td>\n",
       "    </tr>\n",
       "    <tr>\n",
       "      <th>577</th>\n",
       "      <td>obs_det</td>\n",
       "      <td>ENSG00000042429</td>\n",
       "      <td>4.0</td>\n",
       "      <td>4.0</td>\n",
       "      <td>16.0</td>\n",
       "      <td>23.0</td>\n",
       "      <td>4.0</td>\n",
       "      <td>MED17</td>\n",
       "      <td>NaN</td>\n",
       "      <td>NaN</td>\n",
       "    </tr>\n",
       "    <tr>\n",
       "      <th>11498</th>\n",
       "      <td>obs_det</td>\n",
       "      <td>ENSG00000167645</td>\n",
       "      <td>4.0</td>\n",
       "      <td>4.0</td>\n",
       "      <td>16.0</td>\n",
       "      <td>20.0</td>\n",
       "      <td>4.0</td>\n",
       "      <td>YIF1B</td>\n",
       "      <td>NaN</td>\n",
       "      <td>NaN</td>\n",
       "    </tr>\n",
       "  </tbody>\n",
       "</table>\n",
       "</div>"
      ],
      "text/plain": [
       "        source              gid  n_tss  n_tes  n_ic  n_iso  splicing_ratio  \\\n",
       "13976  obs_det  ENSG00000182220    5.0    5.0  25.0   31.0             5.0   \n",
       "7137   obs_det  ENSG00000137312    5.0    5.0  25.0   42.0             5.0   \n",
       "10461  obs_det  ENSG00000163479    4.0    4.0  16.0   19.0             4.0   \n",
       "577    obs_det  ENSG00000042429    4.0    4.0  16.0   23.0             4.0   \n",
       "11498  obs_det  ENSG00000167645    4.0    4.0  16.0   20.0             4.0   \n",
       "\n",
       "         gname sample  gene_tpm  \n",
       "13976  ATP6AP2    NaN       NaN  \n",
       "7137     FLOT1    NaN       NaN  \n",
       "10461     SSR2    NaN       NaN  \n",
       "577      MED17    NaN       NaN  \n",
       "11498    YIF1B    NaN       NaN  "
      ]
     },
     "execution_count": 23,
     "metadata": {},
     "output_type": "execute_result"
    }
   ],
   "source": [
    "df.sort_values(by='n_tss', ascending=False).head()"
   ]
  },
  {
   "cell_type": "code",
   "execution_count": 22,
   "id": "206b94ea-acd7-4207-bb4c-a7173c17e70f",
   "metadata": {},
   "outputs": [],
   "source": [
    "df.to_csv('obs_det_triplets_111.tsv', sep='\\t', index=False)"
   ]
  },
  {
   "cell_type": "code",
   "execution_count": null,
   "id": "0f17678c-60d2-444d-84a7-b3542307f82f",
   "metadata": {},
   "outputs": [],
   "source": []
  },
  {
   "cell_type": "code",
   "execution_count": null,
   "id": "f5aab164-d0ea-4db0-a368-6409a8930e76",
   "metadata": {},
   "outputs": [],
   "source": []
  },
  {
   "cell_type": "markdown",
   "id": "46516de4-7950-446e-b57c-4a1648c7aea8",
   "metadata": {},
   "source": [
    "## What novelty is that one mef2c transcript"
   ]
  },
  {
   "cell_type": "code",
   "execution_count": 3,
   "id": "4263f7a9-910a-4a24-a000-0c7d7b54af49",
   "metadata": {},
   "outputs": [],
   "source": [
    "ca = cerberus.read('cerberus_annot.h5')"
   ]
  },
  {
   "cell_type": "code",
   "execution_count": 5,
   "id": "99963f10-06d4-4395-bfe0-6abbde273daa",
   "metadata": {},
   "outputs": [
    {
     "data": {
      "text/html": [
       "<div>\n",
       "<style scoped>\n",
       "    .dataframe tbody tr th:only-of-type {\n",
       "        vertical-align: middle;\n",
       "    }\n",
       "\n",
       "    .dataframe tbody tr th {\n",
       "        vertical-align: top;\n",
       "    }\n",
       "\n",
       "    .dataframe thead th {\n",
       "        text-align: right;\n",
       "    }\n",
       "</style>\n",
       "<table border=\"1\" class=\"dataframe\">\n",
       "  <thead>\n",
       "    <tr style=\"text-align: right;\">\n",
       "      <th></th>\n",
       "      <th>Chromosome</th>\n",
       "      <th>Start</th>\n",
       "      <th>End</th>\n",
       "      <th>Strand</th>\n",
       "      <th>Name</th>\n",
       "      <th>source</th>\n",
       "      <th>novelty</th>\n",
       "      <th>gene_id</th>\n",
       "      <th>tss</th>\n",
       "    </tr>\n",
       "  </thead>\n",
       "  <tbody>\n",
       "    <tr>\n",
       "      <th>0</th>\n",
       "      <td>chr1</td>\n",
       "      <td>169794989</td>\n",
       "      <td>169795129</td>\n",
       "      <td>+</td>\n",
       "      <td>ENSG00000000460_1</td>\n",
       "      <td>v40,v29,lapa,gtex,encode_cage,fantom_cage,enco...</td>\n",
       "      <td>Known</td>\n",
       "      <td>ENSG00000000460</td>\n",
       "      <td>1</td>\n",
       "    </tr>\n",
       "    <tr>\n",
       "      <th>1</th>\n",
       "      <td>chr1</td>\n",
       "      <td>169795358</td>\n",
       "      <td>169795459</td>\n",
       "      <td>+</td>\n",
       "      <td>ENSG00000000460_2</td>\n",
       "      <td>v40,v29,lapa,pls</td>\n",
       "      <td>Known</td>\n",
       "      <td>ENSG00000000460</td>\n",
       "      <td>2</td>\n",
       "    </tr>\n",
       "    <tr>\n",
       "      <th>2</th>\n",
       "      <td>chr1</td>\n",
       "      <td>169794679</td>\n",
       "      <td>169794780</td>\n",
       "      <td>+</td>\n",
       "      <td>ENSG00000000460_3</td>\n",
       "      <td>v40,v29,lapa,gtex,pls</td>\n",
       "      <td>Known</td>\n",
       "      <td>ENSG00000000460</td>\n",
       "      <td>3</td>\n",
       "    </tr>\n",
       "    <tr>\n",
       "      <th>3</th>\n",
       "      <td>chr1</td>\n",
       "      <td>169795870</td>\n",
       "      <td>169795971</td>\n",
       "      <td>+</td>\n",
       "      <td>ENSG00000000460_4</td>\n",
       "      <td>v40,v29,pls</td>\n",
       "      <td>Known</td>\n",
       "      <td>ENSG00000000460</td>\n",
       "      <td>4</td>\n",
       "    </tr>\n",
       "    <tr>\n",
       "      <th>4</th>\n",
       "      <td>chr1</td>\n",
       "      <td>169661956</td>\n",
       "      <td>169662057</td>\n",
       "      <td>+</td>\n",
       "      <td>ENSG00000000460_5</td>\n",
       "      <td>v40,v29,dels</td>\n",
       "      <td>Known</td>\n",
       "      <td>ENSG00000000460</td>\n",
       "      <td>5</td>\n",
       "    </tr>\n",
       "  </tbody>\n",
       "</table>\n",
       "</div>"
      ],
      "text/plain": [
       "  Chromosome      Start        End Strand               Name  \\\n",
       "0       chr1  169794989  169795129      +  ENSG00000000460_1   \n",
       "1       chr1  169795358  169795459      +  ENSG00000000460_2   \n",
       "2       chr1  169794679  169794780      +  ENSG00000000460_3   \n",
       "3       chr1  169795870  169795971      +  ENSG00000000460_4   \n",
       "4       chr1  169661956  169662057      +  ENSG00000000460_5   \n",
       "\n",
       "                                              source novelty          gene_id  \\\n",
       "0  v40,v29,lapa,gtex,encode_cage,fantom_cage,enco...   Known  ENSG00000000460   \n",
       "1                                   v40,v29,lapa,pls   Known  ENSG00000000460   \n",
       "2                              v40,v29,lapa,gtex,pls   Known  ENSG00000000460   \n",
       "3                                        v40,v29,pls   Known  ENSG00000000460   \n",
       "4                                       v40,v29,dels   Known  ENSG00000000460   \n",
       "\n",
       "   tss  \n",
       "0    1  \n",
       "1    2  \n",
       "2    3  \n",
       "3    4  \n",
       "4    5  "
      ]
     },
     "execution_count": 5,
     "metadata": {},
     "output_type": "execute_result"
    }
   ],
   "source": [
    "ca.tss.head()"
   ]
  },
  {
   "cell_type": "code",
   "execution_count": 7,
   "id": "e671d552-25d3-4ce2-becc-131e41a25070",
   "metadata": {},
   "outputs": [
    {
     "data": {
      "text/plain": [
       "44405    Known\n",
       "Name: novelty, dtype: object"
      ]
     },
     "execution_count": 7,
     "metadata": {},
     "output_type": "execute_result"
    }
   ],
   "source": [
    "ca.tss.loc[(ca.tss.gene_id=='ENSG00000081189')&(ca.tss.tss==1)].novelty"
   ]
  },
  {
   "cell_type": "code",
   "execution_count": 8,
   "id": "2e2676ae-540e-4c7f-bece-31274f990e87",
   "metadata": {},
   "outputs": [
    {
     "data": {
      "text/plain": [
       "70064    Known\n",
       "Name: novelty, dtype: object"
      ]
     },
     "execution_count": 8,
     "metadata": {},
     "output_type": "execute_result"
    }
   ],
   "source": [
    "ca.tes.loc[(ca.tes.gene_id=='ENSG00000081189')&(ca.tes.tes==20)].novelty"
   ]
  },
  {
   "cell_type": "code",
   "execution_count": 10,
   "id": "33923240-2174-4aa3-a398-f213b8f7fa02",
   "metadata": {},
   "outputs": [
    {
     "data": {
      "text/html": [
       "<div>\n",
       "<style scoped>\n",
       "    .dataframe tbody tr th:only-of-type {\n",
       "        vertical-align: middle;\n",
       "    }\n",
       "\n",
       "    .dataframe tbody tr th {\n",
       "        vertical-align: top;\n",
       "    }\n",
       "\n",
       "    .dataframe thead th {\n",
       "        text-align: right;\n",
       "    }\n",
       "</style>\n",
       "<table border=\"1\" class=\"dataframe\">\n",
       "  <thead>\n",
       "    <tr style=\"text-align: right;\">\n",
       "      <th></th>\n",
       "      <th>Chromosome</th>\n",
       "      <th>Strand</th>\n",
       "      <th>Coordinates</th>\n",
       "      <th>Name</th>\n",
       "      <th>source</th>\n",
       "      <th>novelty</th>\n",
       "      <th>gene_id</th>\n",
       "      <th>ic</th>\n",
       "    </tr>\n",
       "  </thead>\n",
       "  <tbody>\n",
       "    <tr>\n",
       "      <th>192589</th>\n",
       "      <td>chr5</td>\n",
       "      <td>-</td>\n",
       "      <td>88882954-88823927-88823734-88804801</td>\n",
       "      <td>ENSG00000081189_43</td>\n",
       "      <td>v40,v29,lapa</td>\n",
       "      <td>Known</td>\n",
       "      <td>ENSG00000081189</td>\n",
       "      <td>43</td>\n",
       "    </tr>\n",
       "  </tbody>\n",
       "</table>\n",
       "</div>"
      ],
      "text/plain": [
       "       Chromosome Strand                          Coordinates  \\\n",
       "192589       chr5      -  88882954-88823927-88823734-88804801   \n",
       "\n",
       "                      Name        source novelty          gene_id  ic  \n",
       "192589  ENSG00000081189_43  v40,v29,lapa   Known  ENSG00000081189  43  "
      ]
     },
     "execution_count": 10,
     "metadata": {},
     "output_type": "execute_result"
    }
   ],
   "source": [
    "ca.ic.loc[(ca.ic.gene_id=='ENSG00000081189')&(ca.ic.ic==43)]"
   ]
  },
  {
   "cell_type": "markdown",
   "id": "3264ea4f-d67f-4a69-b646-0ac3a79027c5",
   "metadata": {},
   "source": [
    "## PolyA gene detection at 0, 1, and 100 TPM"
   ]
  },
  {
   "cell_type": "code",
   "execution_count": 3,
   "id": "6bee8844-10c4-4d0d-8924-30d3b9230e82",
   "metadata": {},
   "outputs": [],
   "source": [
    "ab = '../talon/human_talon_abundance.tsv'\n",
    "ver = 'v40_cerberus'"
   ]
  },
  {
   "cell_type": "code",
   "execution_count": 18,
   "id": "3195f953-b77f-4ad0-89a1-9c783f8647ed",
   "metadata": {},
   "outputs": [],
   "source": [
    "df = pd.read_csv(ab, sep='\\t')\n",
    "df, inds = get_tpm_table(df,\n",
    "                   how='gene',\n",
    "                   gene_subset='polya',\n",
    "                   min_tpm=0)\n",
    "\n",
    "gene_df, b_counts, b_cat_counts = get_gtf_info(how='gene', ver=ver)\n",
    "\n",
    "polya_biotypes = ['protein_coding', 'pseudogene', 'lncRNA']\n",
    "polya_genes = gene_df.loc[gene_df.biotype_category.isin(polya_biotypes), 'gid'].tolist()\n",
    "n_polya = len(polya_genes)\n",
    "n_det_polya = len(df.index)\n",
    "\n",
    "print('Detected {} / {} ({:.3}%) annotated polyA genes'.format(n_det_polya, n_polya, (n_det_polya/n_polya)*100))\n",
    "\n",
    "tpm_df = df.copy(deep=True)\n",
    "tpm_dfs = []\n",
    "tpm_dfs.append(tpm_df)\n",
    "tpm_dfs.append(tpm_df.loc[(tpm_df >= 1).any(axis=1)])\n",
    "tpm_dfs.append(tpm_df.loc[(tpm_df >= 100).any(axis=1)])\n",
    "\n",
    "det_df = pd.DataFrame()\n",
    "for df, tpm in zip(tpm_dfs, [0,1,100]):\n",
    "    gene_df, _, _ = get_gtf_info(how='gene', subset='polya', ver=ver, add_stable_gid=True)\n",
    "    gene_df = gene_df[['gid_stable', 'gname', 'biotype_category']]\n",
    "\n",
    "    df.reset_index(inplace=True)\n",
    "    df = df.merge(gene_df, how='left', on='gid_stable')\n",
    "\n",
    "    df = df[['gid_stable', 'biotype_category']].groupby('biotype_category').count()\n",
    "    df.rename({'gid_stable':'obs_counts'}, axis=1, inplace=True)\n",
    "\n",
    "    gene_df = gene_df[['gid_stable', 'biotype_category']].groupby('biotype_category').count()\n",
    "    gene_df.rename({'gid_stable':'annot_counts'}, axis=1, inplace=True)\n",
    "    df = df.merge(gene_df, how='left', left_index=True, right_index=True)\n",
    "\n",
    "    df['perc'] = (df.obs_counts/df.annot_counts)*100\n",
    "    df = df.sort_values(by='perc', ascending=False)\n",
    "    df['tpm_thresh'] = tpm\n",
    "    det_df = pd.concat([det_df, df])\n",
    "    \n",
    "det_df = det_df.reset_index()\n",
    "det_df.head()"
   ]
  },
  {
   "cell_type": "code",
   "execution_count": 87,
   "id": "28a52c78-db2a-49fe-b4cd-b033052d4afd",
   "metadata": {},
   "outputs": [
    {
     "data": {
      "text/html": [
       "<div>\n",
       "<style scoped>\n",
       "    .dataframe tbody tr th:only-of-type {\n",
       "        vertical-align: middle;\n",
       "    }\n",
       "\n",
       "    .dataframe tbody tr th {\n",
       "        vertical-align: top;\n",
       "    }\n",
       "\n",
       "    .dataframe thead th {\n",
       "        text-align: right;\n",
       "    }\n",
       "</style>\n",
       "<table border=\"1\" class=\"dataframe\">\n",
       "  <thead>\n",
       "    <tr style=\"text-align: right;\">\n",
       "      <th></th>\n",
       "      <th>biotype_category</th>\n",
       "      <th>obs_counts</th>\n",
       "      <th>annot_counts</th>\n",
       "      <th>perc</th>\n",
       "      <th>tpm_thresh</th>\n",
       "    </tr>\n",
       "  </thead>\n",
       "  <tbody>\n",
       "    <tr>\n",
       "      <th>0</th>\n",
       "      <td>protein_coding</td>\n",
       "      <td>19246</td>\n",
       "      <td>19988</td>\n",
       "      <td>96.287773</td>\n",
       "      <td>0</td>\n",
       "    </tr>\n",
       "    <tr>\n",
       "      <th>1</th>\n",
       "      <td>lncRNA</td>\n",
       "      <td>12715</td>\n",
       "      <td>17748</td>\n",
       "      <td>71.641875</td>\n",
       "      <td>0</td>\n",
       "    </tr>\n",
       "    <tr>\n",
       "      <th>2</th>\n",
       "      <td>pseudogene</td>\n",
       "      <td>7720</td>\n",
       "      <td>14538</td>\n",
       "      <td>53.102215</td>\n",
       "      <td>0</td>\n",
       "    </tr>\n",
       "    <tr>\n",
       "      <th>3</th>\n",
       "      <td>protein_coding</td>\n",
       "      <td>18727</td>\n",
       "      <td>19988</td>\n",
       "      <td>93.691215</td>\n",
       "      <td>1</td>\n",
       "    </tr>\n",
       "    <tr>\n",
       "      <th>4</th>\n",
       "      <td>lncRNA</td>\n",
       "      <td>10713</td>\n",
       "      <td>17748</td>\n",
       "      <td>60.361731</td>\n",
       "      <td>1</td>\n",
       "    </tr>\n",
       "    <tr>\n",
       "      <th>5</th>\n",
       "      <td>pseudogene</td>\n",
       "      <td>4332</td>\n",
       "      <td>14538</td>\n",
       "      <td>29.797771</td>\n",
       "      <td>1</td>\n",
       "    </tr>\n",
       "    <tr>\n",
       "      <th>6</th>\n",
       "      <td>protein_coding</td>\n",
       "      <td>9776</td>\n",
       "      <td>19988</td>\n",
       "      <td>48.909346</td>\n",
       "      <td>100</td>\n",
       "    </tr>\n",
       "    <tr>\n",
       "      <th>7</th>\n",
       "      <td>lncRNA</td>\n",
       "      <td>254</td>\n",
       "      <td>17748</td>\n",
       "      <td>1.431147</td>\n",
       "      <td>100</td>\n",
       "    </tr>\n",
       "    <tr>\n",
       "      <th>8</th>\n",
       "      <td>pseudogene</td>\n",
       "      <td>101</td>\n",
       "      <td>14538</td>\n",
       "      <td>0.694731</td>\n",
       "      <td>100</td>\n",
       "    </tr>\n",
       "  </tbody>\n",
       "</table>\n",
       "</div>"
      ],
      "text/plain": [
       "  biotype_category  obs_counts  annot_counts       perc  tpm_thresh\n",
       "0   protein_coding       19246         19988  96.287773           0\n",
       "1           lncRNA       12715         17748  71.641875           0\n",
       "2       pseudogene        7720         14538  53.102215           0\n",
       "3   protein_coding       18727         19988  93.691215           1\n",
       "4           lncRNA       10713         17748  60.361731           1\n",
       "5       pseudogene        4332         14538  29.797771           1\n",
       "6   protein_coding        9776         19988  48.909346         100\n",
       "7           lncRNA         254         17748   1.431147         100\n",
       "8       pseudogene         101         14538   0.694731         100"
      ]
     },
     "execution_count": 87,
     "metadata": {},
     "output_type": "execute_result"
    }
   ],
   "source": [
    "det_df"
   ]
  },
  {
   "cell_type": "code",
   "execution_count": 86,
   "id": "27ac00df-db82-4433-a82c-b4522354c043",
   "metadata": {},
   "outputs": [
    {
     "data": {
      "image/png": "[encoded data removed]",
      "text/plain": [
       "<Figure size 432x432 with 1 Axes>"
      ]
     },
     "metadata": {
      "needs_background": "light"
     },
     "output_type": "display_data"
    }
   ],
   "source": [
    "sns.set_context('paper', font_scale=2)\n",
    "plt.figure(figsize=(6,6))\n",
    "mpl.rcParams['font.family'] = 'Arial'\n",
    "mpl.rcParams['pdf.fonttype'] = 42\n",
    "ic_colors, order = get_ic_nov_colors()\n",
    "gray = get_sector_colors()[0]['simple']\n",
    "c = ic_colors['Known']\n",
    "cats = [100,1,0]\n",
    "c_dict, order = get_shade_colors(c, cats)\n",
    "order.reverse()\n",
    "biotypes = ['protein_coding', 'lncRNA', 'pseudogene']\n",
    "b_dict = {'protein_coding': 'Protein coding',\n",
    "          'lncRNA': 'lncRNA',\n",
    "          'pseudogene': 'Pseudogene'}\n",
    "\n",
    "# https://matplotlib.org/2.0.2/examples/api/barchart_demo.html\n",
    "def add_n(rects, label):\n",
    "    ax = plt.gca()\n",
    "    for rect in rects:\n",
    "        # height = rect.get_height()\n",
    "        x = rect.get_y()+rect.get_height()/2.3\n",
    "        y = rect.get_width()*1.15\n",
    "        ax.text(y,x,\n",
    "                '{:,}'.format(label),\n",
    "                ha='center', va='bottom', size=16)\n",
    "\n",
    "for b in biotypes:\n",
    "    x = b_dict[b]\n",
    "    y = 0\n",
    "    rects = plt.barh(x, [100], color=gray)\n",
    "    # add total number of genes\n",
    "    n = det_df.loc[(det_df.biotype_category == b)&(det_df.tpm_thresh==0), 'annot_counts'].tolist()[0]\n",
    "    add_n(rects, n)\n",
    "    \n",
    "    for c in order:\n",
    "        curr_y = det_df.loc[(det_df.biotype_category == b)&(det_df.tpm_thresh==c), 'perc'].tolist()[0]\n",
    "        plt.barh(x, [curr_y], color=c_dict[c])\n",
    "        y = y+curr_y\n",
    "    \n",
    "\n",
    "\n",
    "leg_labels = ['Not Detected', 'Detected', 'Detected >= 1 TPM', 'Detected >= 100 TPM']\n",
    "plt.legend(leg_labels, bbox_to_anchor=(.6, 1.05))\n",
    "ax = plt.gca()\n",
    "leg = ax.get_legend()\n",
    "\n",
    "# plt.yticks(rotation=90)\n",
    "\n",
    "plt.ylabel('Biotype')\n",
    "plt.xlabel('% of GENCODE v40 genes')\n",
    "\n",
    "ax.spines['right'].set_visible(False)\n",
    "ax.spines['top'].set_visible(False)\n",
    "\n",
    "fname = 'figures/gene_det_by_biotype.png'\n",
    "plt.savefig(fname, dpi=500, bbox_inches='tight')\n",
    "fname = 'figures/gene_det_by_biotype.pdf'\n",
    "plt.savefig(fname, dpi=500, bbox_inches='tight')"
   ]
  },
  {
   "cell_type": "code",
   "execution_count": null,
   "id": "470818a8-63f5-4ac5-a9a0-c44afae3308d",
   "metadata": {},
   "outputs": [],
   "source": []
  }
 ],
 "metadata": {
  "kernelspec": {
   "display_name": "Python 3",
   "language": "python",
   "name": "python3"
  },
  "language_info": {
   "codemirror_mode": {
    "name": "ipython",
    "version": 3
   },
   "file_extension": ".py",
   "mimetype": "text/x-python",
   "name": "python",
   "nbconvert_exporter": "python",
   "pygments_lexer": "ipython3",
   "version": "3.7.4"
  }
 },
 "nbformat": 4,
 "nbformat_minor": 5
}
