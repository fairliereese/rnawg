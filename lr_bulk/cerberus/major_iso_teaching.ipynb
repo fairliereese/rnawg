{
 "cells": [
  {
   "cell_type": "code",
   "execution_count": 37,
   "id": "7f7349cd-0d73-4a24-8e10-c6b9a9043589",
   "metadata": {},
   "outputs": [],
   "source": [
    "import pandas as pd\n",
    "import numpy as np\n",
    "import scipy.stats as st\n",
    "import seaborn as sns\n",
    "import sys\n",
    "import os\n",
    "import gseapy as gp\n",
    "import matplotlib.pyplot as plt\n",
    "import swan_vis as swan\n",
    "from pandarallel import pandarallel\n",
    "\n",
    "p = os.path.dirname(os.path.dirname(os.getcwd()))\n",
    "sys.path.append(p)\n",
    "\n",
    "from scripts.utils import *\n",
    "from scripts.plotting import *"
   ]
  },
  {
   "cell_type": "code",
   "execution_count": 8,
   "id": "20a8a62e-fd47-4760-bd3d-cf406375f869",
   "metadata": {},
   "outputs": [],
   "source": [
    "fname = '../../figures/fig_4_sample_major/triplet_sample_pi_tpm.tsv'\n",
    "major_isos = '../../lr_bulk/cerberus/swan/major_isos.tsv'"
   ]
  },
  {
   "cell_type": "code",
   "execution_count": 9,
   "id": "1c16a178-4fea-4a6d-84bd-3176087b35e5",
   "metadata": {},
   "outputs": [],
   "source": [
    "df = pd.read_csv(fname, sep='\\t')\n",
    "major_df = pd.read_csv(major_isos, sep='\\t')"
   ]
  },
  {
   "cell_type": "code",
   "execution_count": 31,
   "id": "850afa4c-e008-489e-96cc-2b8964243fa5",
   "metadata": {},
   "outputs": [],
   "source": [
    "df = df.loc[(df.gname=='E4F1')&(df['sample']=='panc1')]\n",
    "major_df = major_df.loc[(major_df.gname=='E4F1')&(major_df['sample']=='panc1')]"
   ]
  },
  {
   "cell_type": "code",
   "execution_count": 32,
   "id": "87b0043e-ebcf-46b5-8878-e2693ed0662b",
   "metadata": {},
   "outputs": [
    {
     "data": {
      "text/html": [
       "<div>\n",
       "<style scoped>\n",
       "    .dataframe tbody tr th:only-of-type {\n",
       "        vertical-align: middle;\n",
       "    }\n",
       "\n",
       "    .dataframe tbody tr th {\n",
       "        vertical-align: top;\n",
       "    }\n",
       "\n",
       "    .dataframe thead th {\n",
       "        text-align: right;\n",
       "    }\n",
       "</style>\n",
       "<table border=\"1\" class=\"dataframe\">\n",
       "  <thead>\n",
       "    <tr style=\"text-align: right;\">\n",
       "      <th></th>\n",
       "      <th>tid</th>\n",
       "      <th>sample</th>\n",
       "      <th>triplet_tpm</th>\n",
       "      <th>triplet_pi</th>\n",
       "      <th>gid</th>\n",
       "      <th>gname</th>\n",
       "      <th>triplet_rank</th>\n",
       "    </tr>\n",
       "  </thead>\n",
       "  <tbody>\n",
       "    <tr>\n",
       "      <th>932692</th>\n",
       "      <td>ENSG00000167967[1,1,1]</td>\n",
       "      <td>panc1</td>\n",
       "      <td>27.319420</td>\n",
       "      <td>46.551723</td>\n",
       "      <td>ENSG00000167967</td>\n",
       "      <td>E4F1</td>\n",
       "      <td>1</td>\n",
       "    </tr>\n",
       "    <tr>\n",
       "      <th>932693</th>\n",
       "      <td>ENSG00000167967[1,15,1]</td>\n",
       "      <td>panc1</td>\n",
       "      <td>13.153794</td>\n",
       "      <td>22.413794</td>\n",
       "      <td>ENSG00000167967</td>\n",
       "      <td>E4F1</td>\n",
       "      <td>2</td>\n",
       "    </tr>\n",
       "    <tr>\n",
       "      <th>932694</th>\n",
       "      <td>ENSG00000167967[1,14,1]</td>\n",
       "      <td>panc1</td>\n",
       "      <td>8.094643</td>\n",
       "      <td>13.793103</td>\n",
       "      <td>ENSG00000167967</td>\n",
       "      <td>E4F1</td>\n",
       "      <td>3</td>\n",
       "    </tr>\n",
       "    <tr>\n",
       "      <th>932695</th>\n",
       "      <td>ENSG00000167967[1,13,1]</td>\n",
       "      <td>panc1</td>\n",
       "      <td>6.070982</td>\n",
       "      <td>10.344828</td>\n",
       "      <td>ENSG00000167967</td>\n",
       "      <td>E4F1</td>\n",
       "      <td>4</td>\n",
       "    </tr>\n",
       "    <tr>\n",
       "      <th>932696</th>\n",
       "      <td>ENSG00000167967[1,17,1]</td>\n",
       "      <td>panc1</td>\n",
       "      <td>2.023661</td>\n",
       "      <td>3.448276</td>\n",
       "      <td>ENSG00000167967</td>\n",
       "      <td>E4F1</td>\n",
       "      <td>5</td>\n",
       "    </tr>\n",
       "    <tr>\n",
       "      <th>932697</th>\n",
       "      <td>ENSG00000167967[1,10,1]</td>\n",
       "      <td>panc1</td>\n",
       "      <td>1.011830</td>\n",
       "      <td>1.724138</td>\n",
       "      <td>ENSG00000167967</td>\n",
       "      <td>E4F1</td>\n",
       "      <td>6</td>\n",
       "    </tr>\n",
       "    <tr>\n",
       "      <th>932698</th>\n",
       "      <td>ENSG00000167967[1,12,1]</td>\n",
       "      <td>panc1</td>\n",
       "      <td>1.011830</td>\n",
       "      <td>1.724138</td>\n",
       "      <td>ENSG00000167967</td>\n",
       "      <td>E4F1</td>\n",
       "      <td>7</td>\n",
       "    </tr>\n",
       "  </tbody>\n",
       "</table>\n",
       "</div>"
      ],
      "text/plain": [
       "                            tid sample  triplet_tpm  triplet_pi  \\\n",
       "932692   ENSG00000167967[1,1,1]  panc1    27.319420   46.551723   \n",
       "932693  ENSG00000167967[1,15,1]  panc1    13.153794   22.413794   \n",
       "932694  ENSG00000167967[1,14,1]  panc1     8.094643   13.793103   \n",
       "932695  ENSG00000167967[1,13,1]  panc1     6.070982   10.344828   \n",
       "932696  ENSG00000167967[1,17,1]  panc1     2.023661    3.448276   \n",
       "932697  ENSG00000167967[1,10,1]  panc1     1.011830    1.724138   \n",
       "932698  ENSG00000167967[1,12,1]  panc1     1.011830    1.724138   \n",
       "\n",
       "                    gid gname  triplet_rank  \n",
       "932692  ENSG00000167967  E4F1             1  \n",
       "932693  ENSG00000167967  E4F1             2  \n",
       "932694  ENSG00000167967  E4F1             3  \n",
       "932695  ENSG00000167967  E4F1             4  \n",
       "932696  ENSG00000167967  E4F1             5  \n",
       "932697  ENSG00000167967  E4F1             6  \n",
       "932698  ENSG00000167967  E4F1             7  "
      ]
     },
     "execution_count": 32,
     "metadata": {},
     "output_type": "execute_result"
    }
   ],
   "source": [
    "df"
   ]
  },
  {
   "cell_type": "code",
   "execution_count": 33,
   "id": "c29c61b3-9c01-4f45-af7b-c4b75e12182f",
   "metadata": {},
   "outputs": [
    {
     "data": {
      "text/html": [
       "<div>\n",
       "<style scoped>\n",
       "    .dataframe tbody tr th:only-of-type {\n",
       "        vertical-align: middle;\n",
       "    }\n",
       "\n",
       "    .dataframe tbody tr th {\n",
       "        vertical-align: top;\n",
       "    }\n",
       "\n",
       "    .dataframe thead th {\n",
       "        text-align: right;\n",
       "    }\n",
       "</style>\n",
       "<table border=\"1\" class=\"dataframe\">\n",
       "  <thead>\n",
       "    <tr style=\"text-align: right;\">\n",
       "      <th></th>\n",
       "      <th>tid</th>\n",
       "      <th>gname</th>\n",
       "      <th>gid</th>\n",
       "      <th>sample</th>\n",
       "      <th>pi</th>\n",
       "      <th>pi_rank</th>\n",
       "    </tr>\n",
       "  </thead>\n",
       "  <tbody>\n",
       "    <tr>\n",
       "      <th>544971</th>\n",
       "      <td>ENSG00000167967[1,1,1]</td>\n",
       "      <td>E4F1</td>\n",
       "      <td>ENSG00000167967.15</td>\n",
       "      <td>panc1</td>\n",
       "      <td>46.551723</td>\n",
       "      <td>1</td>\n",
       "    </tr>\n",
       "    <tr>\n",
       "      <th>815827</th>\n",
       "      <td>ENSG00000167967[1,15,1]</td>\n",
       "      <td>E4F1</td>\n",
       "      <td>ENSG00000167967.15</td>\n",
       "      <td>panc1</td>\n",
       "      <td>22.413794</td>\n",
       "      <td>2</td>\n",
       "    </tr>\n",
       "    <tr>\n",
       "      <th>1005807</th>\n",
       "      <td>ENSG00000167967[1,14,1]</td>\n",
       "      <td>E4F1</td>\n",
       "      <td>ENSG00000167967.15</td>\n",
       "      <td>panc1</td>\n",
       "      <td>13.793103</td>\n",
       "      <td>3</td>\n",
       "    </tr>\n",
       "    <tr>\n",
       "      <th>1119330</th>\n",
       "      <td>ENSG00000167967[1,13,1]</td>\n",
       "      <td>E4F1</td>\n",
       "      <td>ENSG00000167967.15</td>\n",
       "      <td>panc1</td>\n",
       "      <td>10.344828</td>\n",
       "      <td>4</td>\n",
       "    </tr>\n",
       "  </tbody>\n",
       "</table>\n",
       "</div>"
      ],
      "text/plain": [
       "                             tid gname                 gid sample         pi  \\\n",
       "544971    ENSG00000167967[1,1,1]  E4F1  ENSG00000167967.15  panc1  46.551723   \n",
       "815827   ENSG00000167967[1,15,1]  E4F1  ENSG00000167967.15  panc1  22.413794   \n",
       "1005807  ENSG00000167967[1,14,1]  E4F1  ENSG00000167967.15  panc1  13.793103   \n",
       "1119330  ENSG00000167967[1,13,1]  E4F1  ENSG00000167967.15  panc1  10.344828   \n",
       "\n",
       "         pi_rank  \n",
       "544971         1  \n",
       "815827         2  \n",
       "1005807        3  \n",
       "1119330        4  "
      ]
     },
     "execution_count": 33,
     "metadata": {},
     "output_type": "execute_result"
    }
   ],
   "source": [
    "major_df"
   ]
  },
  {
   "cell_type": "code",
   "execution_count": 44,
   "id": "177d9238-3bd0-407c-8895-bf8cc53883a3",
   "metadata": {},
   "outputs": [],
   "source": [
    "df['major'] = False\n",
    "df.loc[df.tid.isin(major_df.tid.tolist()), 'major'] = True\n",
    "df.triplet_rank = df.triplet_rank.astype('category')"
   ]
  },
  {
   "cell_type": "code",
   "execution_count": 59,
   "id": "45403a54-8b72-4044-8ed4-9a634ac3489e",
   "metadata": {},
   "outputs": [],
   "source": [
    "c_dict, _ = get_biosample_colors()\n",
    "c1 = c_dict['panc1']\n",
    "c2 = get_not_det_color()\n",
    "c_dict = {True: c1, False: c2}\n",
    "colors = [c_dict[c] for c in df.sort_values(by='triplet_rank', ascending=False).major.values]\n",
    "          \n",
    "    "
   ]
  },
  {
   "cell_type": "code",
   "execution_count": 74,
   "id": "051493f0-76f5-446c-ac04-8e409cd60d7e",
   "metadata": {},
   "outputs": [],
   "source": [
    "# import matplotlib as mpl\n",
    "# sns.set_context('paper', font_scale=1.8)\n",
    "# ax = plt.gca()\n",
    "# ax.bar(x=df.triplet_rank.tolist(),\n",
    "#                   height=df.triplet_pi.tolist(),\n",
    "#                   color=colors)\n",
    "\n",
    "# ax.spines['right'].set_visible(False)\n",
    "# ax.spines['top'].set_visible(False)\n",
    "\n",
    "# # ax.legend()\n",
    "\n",
    "# xlabel = 'Ranked transcripts'\n",
    "# ylabel = 'Pi value of transcript'\n",
    "\n",
    "# _ = ax.set(xlabel=xlabel, ylabel=ylabel)"
   ]
  },
  {
   "cell_type": "code",
   "execution_count": 73,
   "id": "b660e829-dccc-4b53-bb01-80dda4343181",
   "metadata": {},
   "outputs": [
    {
     "data": {
      "image/png": "[encoded data removed]",
      "text/plain": [
       "<Figure size 432x288 with 1 Axes>"
      ]
     },
     "metadata": {
      "needs_background": "light"
     },
     "output_type": "display_data"
    }
   ],
   "source": [
    "ax = sns.barplot(df, x='triplet_rank', y='triplet_pi',\n",
    "            hue='major', palette=c_dict, dodge=False, saturation=1)\n",
    "ax.spines['right'].set_visible(False)\n",
    "ax.spines['top'].set_visible(False)\n",
    "\n",
    "# ax.legend()\n",
    "\n",
    "xlabel = 'Ranked transcripts'\n",
    "ylabel = 'Pi value of transcript'\n",
    "\n",
    "_ = ax.set(xlabel=xlabel, ylabel=ylabel)"
   ]
  },
  {
   "cell_type": "code",
   "execution_count": null,
   "id": "903bdcc1-a169-4df9-99a2-3f7acf6fbd00",
   "metadata": {},
   "outputs": [],
   "source": []
  }
 ],
 "metadata": {
  "kernelspec": {
   "display_name": "Python 3",
   "language": "python",
   "name": "python3"
  },
  "language_info": {
   "codemirror_mode": {
    "name": "ipython",
    "version": 3
   },
   "file_extension": ".py",
   "mimetype": "text/x-python",
   "name": "python",
   "nbconvert_exporter": "python",
   "pygments_lexer": "ipython3",
   "version": "3.7.4"
  }
 },
 "nbformat": 4,
 "nbformat_minor": 5
}
