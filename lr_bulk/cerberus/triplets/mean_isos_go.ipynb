{
 "cells": [
  {
   "cell_type": "code",
   "execution_count": 1,
   "id": "67ea5559-0525-465b-b6e4-bf5d94642441",
   "metadata": {},
   "outputs": [],
   "source": [
    "import pandas as pd\n",
    "import numpy as np\n",
    "import scipy.stats as st\n",
    "import seaborn as sns\n",
    "import sys\n",
    "import os\n",
    "import gseapy as gp\n",
    "import pdb\n",
    "import copy\n",
    "from scipy import sparse\n",
    "import anndata\n",
    "import cerberus\n",
    "import scipy\n",
    "from pandarallel import pandarallel\n",
    "\n",
    "\n",
    "p = os.path.dirname(os.path.dirname(os.path.dirname(os.getcwd())))\n",
    "sys.path.append(p)\n",
    "\n",
    "from scripts.utils import *\n",
    "from scripts.plotting import *"
   ]
  },
  {
   "cell_type": "code",
   "execution_count": 2,
   "id": "2426abc7-b4ae-4e54-a48c-7c5efe554d48",
   "metadata": {},
   "outputs": [],
   "source": [
    "h5 = '../cerberus_annot.h5'\n",
    "h5_annot = 'cerberus_annot_triplets.h5'\n",
    "h5_annot_mouse = '../../../mouse/lr_bulk/triplets/cerberus_annot_triplets.h5'\n",
    "swan_file = '../swan/swan.p'\n",
    "mouse_swan_file = '../../../mouse/lr_bulk/swan/swan.p'\n",
    "ab = '../../talon/human_talon_abundance.tsv'\n",
    "mouse_filt_ab = '../../../mouse/lr_bulk/cerberus/cerberus_filtered_abundance.tsv'\n",
    "filt_ab = '../cerberus_filtered_abundance.tsv'\n",
    "obs_col = 'sample'\n",
    "min_tpm = 1\n",
    "major_set = '../swan/isos_sample_gene_90.tsv'\n",
    "major_set_mouse = '../swan/isos_sample_gene_90.tsv'\n",
    "mm_tissues = get_mouse_match_samples()"
   ]
  },
  {
   "cell_type": "code",
   "execution_count": 3,
   "id": "9f2390e8-8d50-452c-a4f8-98a7843504e9",
   "metadata": {},
   "outputs": [],
   "source": [
    "ca = cerberus.read(h5_annot)\n"
   ]
  },
  {
   "cell_type": "code",
   "execution_count": 4,
   "id": "45cc84db-8005-49af-ab84-a9eae532fb3b",
   "metadata": {},
   "outputs": [],
   "source": [
    "# calculate centroid of each gene based on sample_det\n",
    "# and compute mean number of isoforms expressed\n",
    "source = 'sample_det'\n",
    "df = ca.triplets.loc[ca.triplets.source == source].copy(deep=True)\n",
    "df = cerberus.compute_simplex_coords(df, 'splicing_ratio')\n",
    "keep_cols = ['gname', 'gid', 'tss_ratio', 'tes_ratio', 'spl_ratio', 'n_iso']\n",
    "df = df[keep_cols]\n",
    "df = df.groupby(['gname', 'gid']).mean().reset_index()"
   ]
  },
  {
   "cell_type": "code",
   "execution_count": 9,
   "id": "27236915-ea46-4078-a0f2-f721a3dd2bd8",
   "metadata": {},
   "outputs": [],
   "source": [
    "def do_go_thing(df, iso_threshes):\n",
    "    dbs = ['GO_Biological_Process_2021',\n",
    "           'GO_Cellular_Component_2021',\n",
    "           'GO_Molecular_Function_2021',\n",
    "           'KEGG_2021_Human']\n",
    "    bm = gp.parser.Biomart()\n",
    "    datasets = bm.get_datasets(mart='ENSEMBL_MART_ENSEMBL')\n",
    "    datasets.loc[datasets.Description.str.contains('Human')]\n",
    "    \n",
    "    for iso_thresh in iso_threshes:\n",
    "        print(iso_thresh)\n",
    "        odir = '{}_isos_genes_GO'.format(iso_thresh)\n",
    "        desc = odir\n",
    "        gids = df.loc[df.n_iso >= iso_thresh, 'gid'].tolist()\n",
    "        gids = bm.query(dataset='hsapiens_gene_ensembl',\n",
    "               attributes=['ensembl_gene_id', 'external_gene_name'],\n",
    "               filters={'ensembl_gene_id': gids})\n",
    "        gids = gids.loc[~gids.external_gene_name.isna()]\n",
    "        gnames = gids.external_gene_name.squeeze().str.strip().tolist()\n",
    "        go = gp.enrichr(gene_list=gnames,\n",
    "                        gene_sets=dbs,\n",
    "                        organism='Human',\n",
    "                        description=desc,\n",
    "                        outdir=odir,\n",
    "                        cutoff=0.5)"
   ]
  },
  {
   "cell_type": "code",
   "execution_count": 10,
   "id": "cb4b304e-ddad-4f87-b899-900b59484b85",
   "metadata": {},
   "outputs": [
    {
     "name": "stdout",
     "output_type": "stream",
     "text": [
      "5\n",
      "10\n"
     ]
    }
   ],
   "source": [
    "do_go_thing(df, [5,10])"
   ]
  },
  {
   "cell_type": "code",
   "execution_count": null,
   "id": "5d0a8221-edd2-4d85-aac7-847c48c93231",
   "metadata": {},
   "outputs": [],
   "source": []
  }
 ],
 "metadata": {
  "kernelspec": {
   "display_name": "Python 3",
   "language": "python",
   "name": "python3"
  },
  "language_info": {
   "codemirror_mode": {
    "name": "ipython",
    "version": 3
   },
   "file_extension": ".py",
   "mimetype": "text/x-python",
   "name": "python",
   "nbconvert_exporter": "python",
   "pygments_lexer": "ipython3",
   "version": "3.7.4"
  }
 },
 "nbformat": 4,
 "nbformat_minor": 5
}
