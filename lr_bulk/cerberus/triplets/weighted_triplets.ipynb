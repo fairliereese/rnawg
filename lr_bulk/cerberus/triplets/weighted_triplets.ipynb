{
 "cells": [
  {
   "cell_type": "code",
   "execution_count": 1,
   "id": "9f9b3538-c5e8-46dd-bd09-fb786d5dd3d4",
   "metadata": {},
   "outputs": [],
   "source": [
    "import pandas as pd\n",
    "import numpy as np\n",
    "import scipy.stats as st\n",
    "import seaborn as sns\n",
    "import sys\n",
    "import os\n",
    "import gseapy as gp\n",
    "import pdb\n",
    "import copy\n",
    "from scipy import sparse\n",
    "import anndata\n",
    "import cerberus\n",
    "\n",
    "\n",
    "p = os.path.dirname(os.path.dirname(os.getcwd()))\n",
    "sys.path.append(p)\n",
    "\n",
    "from scripts.utils import *\n",
    "from scripts.plotting import *"
   ]
  },
  {
   "cell_type": "markdown",
   "id": "0d8cc354-707b-40e7-9f01-e94959e22f11",
   "metadata": {},
   "source": [
    "## weighted triplets?\n"
   ]
  },
  {
   "cell_type": "markdown",
   "id": "4fc2e040-7342-4f57-b4b8-625bb78cb29e",
   "metadata": {},
   "source": [
    "Properties we want:\n",
    "\n",
    "* higher score when there are a lot of \"major\" isoforms (0.33, 0.33, 0.33)\n",
    "* number should be bigger the more isoforms there are\n",
    "* maximum value (scaled)\n",
    "* 1 isoform --> 1\n",
    "\n",
    "https://en.wikipedia.org/wiki/Harmonic_mean#Weighted_harmonic_mean\n",
    "\n",
    "https://en.wikipedia.org/wiki/Entropy\n",
    "\n",
    "https://en.wikipedia.org/wiki/Gini_coefficient\n",
    "\n",
    "https://academic.oup.com/bib/article/18/2/205/2562739\n",
    "\n",
    "Try Gini and Tau from this paper"
   ]
  },
  {
   "cell_type": "code",
   "execution_count": 2,
   "id": "9aeb5935-1d61-45f1-8f54-ce24e8e2237f",
   "metadata": {},
   "outputs": [],
   "source": [
    "def compute_hg(pis):\n",
    "    val = 0\n",
    "    for pi in pis:\n",
    "        val += pi*math.log2(pi)\n",
    "    val = -1*val\n",
    "    return val"
   ]
  },
  {
   "cell_type": "code",
   "execution_count": 3,
   "id": "691802fc-541f-4a54-93db-9529f231930e",
   "metadata": {},
   "outputs": [],
   "source": [
    "def compute_tau(x):\n",
    "    x_hat = max(x)\n",
    "    n = len(x)\n",
    "    tau = 0\n",
    "    for i in range(n):\n",
    "        tau += (1-x_hat)\n",
    "    tau = tau/(n-1)\n",
    "    return tau"
   ]
  },
  {
   "cell_type": "code",
   "execution_count": 4,
   "id": "018c7d61-3ec3-4515-a7f3-391f5243348d",
   "metadata": {},
   "outputs": [],
   "source": [
    "def compute_gini(pis):\n",
    "    n = len(pis)\n",
    "    pis = sorted(pis)\n",
    "    gini = ((n+1)/n) - \\\n",
    "        (((2*sum([(n+1-i)*xi for i,xi in enumerate(pis)])) / \\\n",
    "          (n*sum([xi for xi in pis])))) \n",
    "    return gini"
   ]
  },
  {
   "cell_type": "code",
   "execution_count": 6,
   "id": "25faba6c-183a-4dc5-994d-114b83a79dcd",
   "metadata": {},
   "outputs": [],
   "source": [
    "# sorted(pis)"
   ]
  },
  {
   "cell_type": "code",
   "execution_count": 7,
   "id": "ef91ee34-7426-496e-8d75-d4cbced131ff",
   "metadata": {},
   "outputs": [],
   "source": [
    "def compare_metrics(pis):\n",
    "    print('hg: {}'.format(compute_hg(pis)))\n",
    "    print('tau: {}'.format(compute_tau(pis)))\n",
    "    print('gini: {}'.format(compute_gini(pis)))"
   ]
  },
  {
   "cell_type": "code",
   "execution_count": 8,
   "id": "979c2c51-f559-4f92-9f54-506164f3660d",
   "metadata": {},
   "outputs": [
    {
     "name": "stdout",
     "output_type": "stream",
     "text": [
      "hg: 3.321928094887362\n",
      "tau: 1.0000000000000002\n",
      "gini: -0.20000000000000018\n"
     ]
    }
   ],
   "source": [
    "pis = [.1 for i in range(10)]\n",
    "compare_metrics(pis)"
   ]
  },
  {
   "cell_type": "code",
   "execution_count": 9,
   "id": "80551e17-6403-45ae-b1fe-cf34d81b105d",
   "metadata": {},
   "outputs": [
    {
     "name": "stdout",
     "output_type": "stream",
     "text": [
      "hg: 1.5632690347495855\n",
      "tau: 1.0499999999999998\n",
      "gini: -0.6666666666666667\n"
     ]
    }
   ],
   "source": [
    "pis = [.3 for i in range(3)]\n",
    "compare_metrics(pis)"
   ]
  },
  {
   "cell_type": "code",
   "execution_count": 10,
   "id": "d3ab5711-3e62-4e21-a4d5-a80b41b6da9b",
   "metadata": {},
   "outputs": [
    {
     "name": "stdout",
     "output_type": "stream",
     "text": [
      "hg: 0.4689955935892812\n",
      "tau: 0.19999999999999996\n",
      "gini: -0.6000000000000001\n"
     ]
    }
   ],
   "source": [
    "pis = [.9, .1]\n",
    "compare_metrics(pis)"
   ]
  },
  {
   "cell_type": "code",
   "execution_count": 11,
   "id": "4188117a-1fd7-4de8-a64c-132c33171b3d",
   "metadata": {},
   "outputs": [
    {
     "name": "stdout",
     "output_type": "stream",
     "text": [
      "1.0\n",
      "hg: 0.8011884030780172\n",
      "tau: 0.10999999999999996\n",
      "gini: 0.6272727272727272\n"
     ]
    }
   ],
   "source": [
    "pis = [.9]+[.01 for i in range(10)]\n",
    "print(sum(pis))\n",
    "compare_metrics(pis)"
   ]
  },
  {
   "cell_type": "code",
   "execution_count": 12,
   "id": "1349750a-1348-4c8e-a128-adf2d5e26463",
   "metadata": {},
   "outputs": [
    {
     "name": "stdout",
     "output_type": "stream",
     "text": [
      "1.0\n",
      "hg: 0.5689955935892812\n",
      "tau: 0.14999999999999997\n",
      "gini: -0.10000000000000009\n"
     ]
    }
   ],
   "source": [
    "pis = [.9]+[.05 for i in range(2)]\n",
    "print(sum(pis))\n",
    "compare_metrics(pis)"
   ]
  },
  {
   "cell_type": "code",
   "execution_count": null,
   "id": "ec9b6668-d6bf-41c0-aa08-173f824eb301",
   "metadata": {},
   "outputs": [],
   "source": []
  }
 ],
 "metadata": {
  "kernelspec": {
   "display_name": "Python 3",
   "language": "python",
   "name": "python3"
  },
  "language_info": {
   "codemirror_mode": {
    "name": "ipython",
    "version": 3
   },
   "file_extension": ".py",
   "mimetype": "text/x-python",
   "name": "python",
   "nbconvert_exporter": "python",
   "pygments_lexer": "ipython3",
   "version": "3.7.4"
  }
 },
 "nbformat": 4,
 "nbformat_minor": 5
}
