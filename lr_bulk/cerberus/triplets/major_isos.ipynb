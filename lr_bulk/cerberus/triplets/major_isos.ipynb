{
 "cells": [
  {
   "cell_type": "code",
   "execution_count": 1,
   "id": "dba567c2-1d01-4fcd-b115-a054d8bf709a",
   "metadata": {},
   "outputs": [],
   "source": [
    "import pandas as pd\n",
    "import numpy as np\n",
    "import scipy.stats as st\n",
    "import seaborn as sns\n",
    "import sys\n",
    "import os\n",
    "import gseapy as gp\n",
    "import pdb\n",
    "import copy\n",
    "from scipy import sparse\n",
    "import anndata\n",
    "import cerberus\n",
    "import subprocess\n",
    "\n",
    "p = os.path.dirname(os.path.dirname(os.path.dirname(os.getcwd())))\n",
    "sys.path.append(p)\n",
    "\n",
    "from scripts.utils import *\n",
    "from scripts.plotting import *"
   ]
  },
  {
   "cell_type": "code",
   "execution_count": 2,
   "id": "7bb6552a-73db-4822-954f-330a0828b2f1",
   "metadata": {},
   "outputs": [],
   "source": [
    "major_set = '../swan/isos_sample_gene_90.tsv'\n",
    "gtf = '../cerberus.gtf'"
   ]
  },
  {
   "cell_type": "markdown",
   "id": "ba170259-585e-48b1-93af-d24460136cd2",
   "metadata": {},
   "source": [
    "## Get GTF for only the major isoforms for a given gene"
   ]
  },
  {
   "cell_type": "code",
   "execution_count": 3,
   "id": "057d39ec-45e7-407f-a3c3-ac59e058355d",
   "metadata": {},
   "outputs": [],
   "source": [
    "gene = 'CTCF'"
   ]
  },
  {
   "cell_type": "code",
   "execution_count": 4,
   "id": "85c54c88-65b8-4288-bd3e-2d352625d9b0",
   "metadata": {},
   "outputs": [],
   "source": [
    "def get_gene_major_iso_gtf(gene, gtf, major_set):\n",
    "    ofile = '{}_major_isos.gtf'.format(gene.lower())\n",
    "    df = pd.read_csv(major_set, sep='\\t')\n",
    "    df = df.loc[df.gname == gene]\n",
    "    tids = df.tid.unique().tolist()\n",
    "    tid_str = \"'\"\n",
    "    for i, tid in enumerate(tids):\n",
    "        if i == 0: \n",
    "            tid_str += tid\n",
    "        else:\n",
    "            tid_str += '|'+tid\n",
    "    tid_str += \"'\"\n",
    "    grep_cmd = 'grep -E {} {} > {}'.format(tid_str, gtf, ofile)\n",
    "    grep_cmd = grep_cmd.replace('[', '\\[')\n",
    "    grep_cmd = grep_cmd.replace(']', '\\]')\n",
    "    # print(grep_cmd)\n",
    "    # grep_cmd = grep_cmd.split()\n",
    "    # print(grep_cmd)\n",
    "    # subprocess.run(grep_cmd, check=True)\n",
    "    print(grep_cmd)\n",
    "    \n"
   ]
  },
  {
   "cell_type": "code",
   "execution_count": 5,
   "id": "61db60f2-8f73-49b0-9dc0-1a31ab8f186f",
   "metadata": {},
   "outputs": [
    {
     "name": "stdout",
     "output_type": "stream",
     "text": [
      "grep -E 'ENSG00000102974\\[3,5,1\\]|ENSG00000102974\\[1,1,1\\]|ENSG00000102974\\[9,16,1\\]|ENSG00000102974\\[8,14,1\\]|ENSG00000102974\\[12,16,1\\]|ENSG00000102974\\[10,17,1\\]|ENSG00000102974\\[1,6,1\\]|ENSG00000102974\\[11,5,1\\]|ENSG00000102974\\[1,18,5\\]|ENSG00000102974\\[1,19,6\\]' ../cerberus.gtf > ctcf_major_isos.gtf\n"
     ]
    }
   ],
   "source": [
    "gene = 'CTCF'\n",
    "get_gene_major_iso_gtf(gene, gtf, major_set)"
   ]
  },
  {
   "cell_type": "code",
   "execution_count": 6,
   "id": "82f2212c-29b7-459a-8ffd-ea3865617f9e",
   "metadata": {},
   "outputs": [
    {
     "name": "stdout",
     "output_type": "stream",
     "text": [
      "grep -E 'ENSG00000049540\\[1,112,3\\]|ENSG00000049540\\[2,2,2\\]|ENSG00000049540\\[1,137,3\\]|ENSG00000049540\\[1,8,3\\]|ENSG00000049540\\[1,2,3\\]|ENSG00000049540\\[1,157,1\\]|ENSG00000049540\\[1,14,3\\]|ENSG00000049540\\[1,135,3\\]|ENSG00000049540\\[1,76,3\\]|ENSG00000049540\\[1,77,3\\]|ENSG00000049540\\[1,1,1\\]|ENSG00000049540\\[2,1,1\\]|ENSG00000049540\\[1,69,1\\]|ENSG00000049540\\[1,108,3\\]|ENSG00000049540\\[1,111,3\\]|ENSG00000049540\\[1,1,3\\]|ENSG00000049540\\[1,8,1\\]|ENSG00000049540\\[1,16,4\\]|ENSG00000049540\\[1,76,1\\]|ENSG00000049540\\[1,96,3\\]|ENSG00000049540\\[1,2,1\\]|ENSG00000049540\\[1,57,3\\]|ENSG00000049540\\[1,3,3\\]|ENSG00000049540\\[1,147,3\\]|ENSG00000049540\\[1,77,1\\]|ENSG00000049540\\[1,98,3\\]|ENSG00000049540\\[1,136,1\\]|ENSG00000049540\\[1,147,1\\]|ENSG00000049540\\[1,112,1\\]|ENSG00000049540\\[1,135,1\\]|ENSG00000049540\\[1,109,1\\]|ENSG00000049540\\[1,13,3\\]|ENSG00000049540\\[1,149,3\\]|ENSG00000049540\\[2,36,3\\]|ENSG00000049540\\[1,86,3\\]|ENSG00000049540\\[1,4,3\\]|ENSG00000049540\\[1,14,1\\]|ENSG00000049540\\[1,138,3\\]|ENSG00000049540\\[1,42,1\\]|ENSG00000049540\\[1,121,3\\]|ENSG00000049540\\[1,113,3\\]|ENSG00000049540\\[1,64,3\\]|ENSG00000049540\\[1,124,3\\]|ENSG00000049540\\[1,140,3\\]|ENSG00000049540\\[1,149,1\\]|ENSG00000049540\\[1,136,3\\]|ENSG00000049540\\[1,108,1\\]|ENSG00000049540\\[1,107,3\\]|ENSG00000049540\\[1,98,1\\]|ENSG00000049540\\[1,36,3\\]|ENSG00000049540\\[1,3,1\\]|ENSG00000049540\\[1,95,3\\]|ENSG00000049540\\[1,97,3\\]|ENSG00000049540\\[6,33,13\\]|ENSG00000049540\\[1,18,7\\]|ENSG00000049540\\[1,57,1\\]|ENSG00000049540\\[1,107,1\\]|ENSG00000049540\\[1,127,3\\]|ENSG00000049540\\[1,13,1\\]|ENSG00000049540\\[1,38,3\\]|ENSG00000049540\\[1,118,1\\]|ENSG00000049540\\[1,111,1\\]|ENSG00000049540\\[1,143,3\\]|ENSG00000049540\\[1,103,3\\]|ENSG00000049540\\[1,97,1\\]|ENSG00000049540\\[1,96,1\\]|ENSG00000049540\\[1,59,3\\]|ENSG00000049540\\[1,17,6\\]|ENSG00000049540\\[1,95,1\\]|ENSG00000049540\\[1,159,3\\]|ENSG00000049540\\[1,59,1\\]|ENSG00000049540\\[1,138,1\\]|ENSG00000049540\\[1,4,1\\]|ENSG00000049540\\[1,156,3\\]|ENSG00000049540\\[1,79,3\\]|ENSG00000049540\\[1,48,3\\]|ENSG00000049540\\[1,88,3\\]|ENSG00000049540\\[1,38,1\\]|ENSG00000049540\\[1,36,1\\]|ENSG00000049540\\[1,94,3\\]|ENSG00000049540\\[1,137,1\\]|ENSG00000049540\\[1,92,3\\]|ENSG00000049540\\[1,48,1\\]|ENSG00000049540\\[1,70,3\\]|ENSG00000049540\\[1,92,1\\]|ENSG00000049540\\[1,70,1\\]|ENSG00000049540\\[1,79,1\\]' ../cerberus.gtf > eln_major_isos.gtf\n"
     ]
    }
   ],
   "source": [
    "gene = 'ELN'\n",
    "get_gene_major_iso_gtf(gene, gtf, major_set)"
   ]
  },
  {
   "cell_type": "code",
   "execution_count": null,
   "id": "e28beb90-2741-4433-bdcb-498eb9d4ed04",
   "metadata": {},
   "outputs": [],
   "source": []
  }
 ],
 "metadata": {
  "kernelspec": {
   "display_name": "Python 3",
   "language": "python",
   "name": "python3"
  },
  "language_info": {
   "codemirror_mode": {
    "name": "ipython",
    "version": 3
   },
   "file_extension": ".py",
   "mimetype": "text/x-python",
   "name": "python",
   "nbconvert_exporter": "python",
   "pygments_lexer": "ipython3",
   "version": "3.7.4"
  }
 },
 "nbformat": 4,
 "nbformat_minor": 5
}
