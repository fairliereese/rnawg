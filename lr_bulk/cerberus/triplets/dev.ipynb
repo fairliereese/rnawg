{
 "cells": [
  {
   "cell_type": "code",
   "execution_count": 2,
   "id": "cf394958-1df6-4417-93ff-5c2e593e96b7",
   "metadata": {},
   "outputs": [],
   "source": [
    "import pandas as pd\n",
    "import numpy as np\n",
    "import scipy.stats as st\n",
    "import seaborn as sns\n",
    "import sys\n",
    "import os\n",
    "import gseapy as gp\n",
    "import matplotlib.pyplot as plt\n",
    "import swan_vis as swan\n",
    "from pandarallel import pandarallel\n",
    "\n",
    "p = os.path.dirname(os.path.dirname(os.path.dirname(os.getcwd())))\n",
    "sys.path.append(p)\n",
    "\n",
    "from scripts.utils import *\n",
    "from scripts.plotting import *"
   ]
  },
  {
   "cell_type": "code",
   "execution_count": 28,
   "id": "e209559c-4de5-433c-bc3c-f546c4dda242",
   "metadata": {},
   "outputs": [],
   "source": [
    "ab = '../../../lr_bulk/talon/human_talon_abundance.tsv'\n",
    "filt_ab = '../../../lr_bulk/cerberus/cerberus_filtered_abundance.tsv'\n",
    "read_annot = '../../../lr_bulk/talon/human_talon_read_annot.tsv'\n",
    "t_metadata = '../../../refs/cerberus/v40_transcript_metadata.tsv'\n",
    "t_orig_metadata = '../../../refs/v40_transcript_metadata.tsv'\n",
    "swan_file = '../../../lr_bulk/cerberus/swan/swan_meta.p'\n",
    "cerberus_h5 = '../../../lr_bulk/cerberus/triplets/cerberus_annot_triplets.h5'\n",
    "major_isos = '../../../lr_bulk/cerberus/swan/major_isos.tsv'\n",
    "mane_file = '../../../refs/v40_gene_metadata.tsv'\n",
    "\n",
    "ver = 'v40_cerberus'\n",
    "\n",
    "min_tpm = 1\n",
    "gene_subset = 'protein_coding'\n",
    "predom_subset = 'protein_coding'\n",
    "obs_col = 'sample'\n"
   ]
  },
  {
   "cell_type": "code",
   "execution_count": 4,
   "id": "d461cc34-0b04-43a9-9c85-1510927d5942",
   "metadata": {},
   "outputs": [],
   "source": [
    "ca = cerberus.read(cerberus_h5)"
   ]
  },
  {
   "cell_type": "code",
   "execution_count": 5,
   "id": "4f08ac66-b8c9-4a24-8f9a-32f5c04795d8",
   "metadata": {},
   "outputs": [],
   "source": [
    "df = ca.triplets.loc[ca.triplets.source.isin(['obs_det', 'obs_major'])]"
   ]
  },
  {
   "cell_type": "code",
   "execution_count": 7,
   "id": "062e1e31-731a-473b-9a58-df951d41e3dd",
   "metadata": {},
   "outputs": [
    {
     "data": {
      "text/html": [
       "<div>\n",
       "<style scoped>\n",
       "    .dataframe tbody tr th:only-of-type {\n",
       "        vertical-align: middle;\n",
       "    }\n",
       "\n",
       "    .dataframe tbody tr th {\n",
       "        vertical-align: top;\n",
       "    }\n",
       "\n",
       "    .dataframe thead th {\n",
       "        text-align: right;\n",
       "    }\n",
       "</style>\n",
       "<table border=\"1\" class=\"dataframe\">\n",
       "  <thead>\n",
       "    <tr style=\"text-align: right;\">\n",
       "      <th></th>\n",
       "      <th>source</th>\n",
       "      <th>gid</th>\n",
       "      <th>n_tss</th>\n",
       "      <th>n_tes</th>\n",
       "      <th>n_ic</th>\n",
       "      <th>n_iso</th>\n",
       "      <th>splicing_ratio</th>\n",
       "      <th>tss_ratio</th>\n",
       "      <th>tes_ratio</th>\n",
       "      <th>spl_ratio</th>\n",
       "      <th>sector</th>\n",
       "      <th>gname</th>\n",
       "      <th>sample</th>\n",
       "      <th>gene_tpm</th>\n",
       "    </tr>\n",
       "  </thead>\n",
       "  <tbody>\n",
       "    <tr>\n",
       "      <th>0</th>\n",
       "      <td>obs_det</td>\n",
       "      <td>ENSG00000000003</td>\n",
       "      <td>1.0</td>\n",
       "      <td>6.0</td>\n",
       "      <td>9.0</td>\n",
       "      <td>28.0</td>\n",
       "      <td>2.571429</td>\n",
       "      <td>0.104478</td>\n",
       "      <td>0.626866</td>\n",
       "      <td>0.268657</td>\n",
       "      <td>tes</td>\n",
       "      <td>TSPAN6</td>\n",
       "      <td>NaN</td>\n",
       "      <td>NaN</td>\n",
       "    </tr>\n",
       "    <tr>\n",
       "      <th>1</th>\n",
       "      <td>obs_det</td>\n",
       "      <td>ENSG00000000005</td>\n",
       "      <td>1.0</td>\n",
       "      <td>1.0</td>\n",
       "      <td>1.0</td>\n",
       "      <td>1.0</td>\n",
       "      <td>1.000000</td>\n",
       "      <td>0.333333</td>\n",
       "      <td>0.333333</td>\n",
       "      <td>0.333333</td>\n",
       "      <td>simple</td>\n",
       "      <td>TNMD</td>\n",
       "      <td>NaN</td>\n",
       "      <td>NaN</td>\n",
       "    </tr>\n",
       "    <tr>\n",
       "      <th>2</th>\n",
       "      <td>obs_det</td>\n",
       "      <td>ENSG00000000419</td>\n",
       "      <td>2.0</td>\n",
       "      <td>4.0</td>\n",
       "      <td>9.0</td>\n",
       "      <td>15.0</td>\n",
       "      <td>3.000000</td>\n",
       "      <td>0.222222</td>\n",
       "      <td>0.444444</td>\n",
       "      <td>0.333333</td>\n",
       "      <td>mixed</td>\n",
       "      <td>DPM1</td>\n",
       "      <td>NaN</td>\n",
       "      <td>NaN</td>\n",
       "    </tr>\n",
       "    <tr>\n",
       "      <th>3</th>\n",
       "      <td>obs_det</td>\n",
       "      <td>ENSG00000000457</td>\n",
       "      <td>3.0</td>\n",
       "      <td>4.0</td>\n",
       "      <td>5.0</td>\n",
       "      <td>7.0</td>\n",
       "      <td>1.428571</td>\n",
       "      <td>0.355932</td>\n",
       "      <td>0.474576</td>\n",
       "      <td>0.169492</td>\n",
       "      <td>mixed</td>\n",
       "      <td>SCYL3</td>\n",
       "      <td>NaN</td>\n",
       "      <td>NaN</td>\n",
       "    </tr>\n",
       "    <tr>\n",
       "      <th>4</th>\n",
       "      <td>obs_det</td>\n",
       "      <td>ENSG00000000460</td>\n",
       "      <td>3.0</td>\n",
       "      <td>4.0</td>\n",
       "      <td>7.0</td>\n",
       "      <td>15.0</td>\n",
       "      <td>2.000000</td>\n",
       "      <td>0.333333</td>\n",
       "      <td>0.444444</td>\n",
       "      <td>0.222222</td>\n",
       "      <td>mixed</td>\n",
       "      <td>C1orf112</td>\n",
       "      <td>NaN</td>\n",
       "      <td>NaN</td>\n",
       "    </tr>\n",
       "  </tbody>\n",
       "</table>\n",
       "</div>"
      ],
      "text/plain": [
       "    source              gid  n_tss  n_tes  n_ic  n_iso  splicing_ratio  \\\n",
       "0  obs_det  ENSG00000000003    1.0    6.0   9.0   28.0        2.571429   \n",
       "1  obs_det  ENSG00000000005    1.0    1.0   1.0    1.0        1.000000   \n",
       "2  obs_det  ENSG00000000419    2.0    4.0   9.0   15.0        3.000000   \n",
       "3  obs_det  ENSG00000000457    3.0    4.0   5.0    7.0        1.428571   \n",
       "4  obs_det  ENSG00000000460    3.0    4.0   7.0   15.0        2.000000   \n",
       "\n",
       "   tss_ratio  tes_ratio  spl_ratio  sector     gname sample  gene_tpm  \n",
       "0   0.104478   0.626866   0.268657     tes    TSPAN6    NaN       NaN  \n",
       "1   0.333333   0.333333   0.333333  simple      TNMD    NaN       NaN  \n",
       "2   0.222222   0.444444   0.333333   mixed      DPM1    NaN       NaN  \n",
       "3   0.355932   0.474576   0.169492   mixed     SCYL3    NaN       NaN  \n",
       "4   0.333333   0.444444   0.222222   mixed  C1orf112    NaN       NaN  "
      ]
     },
     "execution_count": 7,
     "metadata": {},
     "output_type": "execute_result"
    }
   ],
   "source": [
    "df.head()"
   ]
  },
  {
   "cell_type": "code",
   "execution_count": 9,
   "id": "b1fb9340-a637-42b2-a8ed-1ea7cc7c2760",
   "metadata": {},
   "outputs": [],
   "source": [
    "obs = df.loc[df.source == 'obs_det'][['gid', 'gname', 'n_iso']]"
   ]
  },
  {
   "cell_type": "code",
   "execution_count": 10,
   "id": "2fc6a892-633b-473b-8f67-f1a3157409ed",
   "metadata": {},
   "outputs": [],
   "source": [
    "major = df.loc[df.source == 'obs_major'][['gid', 'gname', 'n_iso']]"
   ]
  },
  {
   "cell_type": "code",
   "execution_count": 14,
   "id": "d039fbec-9e17-4d1c-8b6f-6c0c08263f3a",
   "metadata": {},
   "outputs": [],
   "source": [
    "temp = obs.merge(major, how='outer', on=['gid', 'gname'], suffixes=('_obs', '_major'))"
   ]
  },
  {
   "cell_type": "code",
   "execution_count": 15,
   "id": "2eb3d1b9-1e5f-477f-8017-84a0925a826e",
   "metadata": {},
   "outputs": [
    {
     "data": {
      "text/html": [
       "<div>\n",
       "<style scoped>\n",
       "    .dataframe tbody tr th:only-of-type {\n",
       "        vertical-align: middle;\n",
       "    }\n",
       "\n",
       "    .dataframe tbody tr th {\n",
       "        vertical-align: top;\n",
       "    }\n",
       "\n",
       "    .dataframe thead th {\n",
       "        text-align: right;\n",
       "    }\n",
       "</style>\n",
       "<table border=\"1\" class=\"dataframe\">\n",
       "  <thead>\n",
       "    <tr style=\"text-align: right;\">\n",
       "      <th></th>\n",
       "      <th>gid</th>\n",
       "      <th>gname</th>\n",
       "      <th>n_iso_obs</th>\n",
       "      <th>n_iso_major</th>\n",
       "    </tr>\n",
       "  </thead>\n",
       "  <tbody>\n",
       "    <tr>\n",
       "      <th>0</th>\n",
       "      <td>ENSG00000000003</td>\n",
       "      <td>TSPAN6</td>\n",
       "      <td>28.0</td>\n",
       "      <td>12.0</td>\n",
       "    </tr>\n",
       "    <tr>\n",
       "      <th>1</th>\n",
       "      <td>ENSG00000000005</td>\n",
       "      <td>TNMD</td>\n",
       "      <td>1.0</td>\n",
       "      <td>1.0</td>\n",
       "    </tr>\n",
       "    <tr>\n",
       "      <th>2</th>\n",
       "      <td>ENSG00000000419</td>\n",
       "      <td>DPM1</td>\n",
       "      <td>15.0</td>\n",
       "      <td>10.0</td>\n",
       "    </tr>\n",
       "    <tr>\n",
       "      <th>3</th>\n",
       "      <td>ENSG00000000457</td>\n",
       "      <td>SCYL3</td>\n",
       "      <td>7.0</td>\n",
       "      <td>5.0</td>\n",
       "    </tr>\n",
       "    <tr>\n",
       "      <th>4</th>\n",
       "      <td>ENSG00000000460</td>\n",
       "      <td>C1orf112</td>\n",
       "      <td>15.0</td>\n",
       "      <td>10.0</td>\n",
       "    </tr>\n",
       "  </tbody>\n",
       "</table>\n",
       "</div>"
      ],
      "text/plain": [
       "               gid     gname  n_iso_obs  n_iso_major\n",
       "0  ENSG00000000003    TSPAN6       28.0         12.0\n",
       "1  ENSG00000000005      TNMD        1.0          1.0\n",
       "2  ENSG00000000419      DPM1       15.0         10.0\n",
       "3  ENSG00000000457     SCYL3        7.0          5.0\n",
       "4  ENSG00000000460  C1orf112       15.0         10.0"
      ]
     },
     "execution_count": 15,
     "metadata": {},
     "output_type": "execute_result"
    }
   ],
   "source": [
    "temp.head()"
   ]
  },
  {
   "cell_type": "code",
   "execution_count": 19,
   "id": "ebec2286-5116-432a-ba95-c551d1389da5",
   "metadata": {},
   "outputs": [
    {
     "data": {
      "text/plain": [
       "<seaborn.axisgrid.JointGrid at 0x7f8611190650>"
      ]
     },
     "execution_count": 19,
     "metadata": {},
     "output_type": "execute_result"
    },
    {
     "data": {
      "image/png": "[encoded data removed]",
      "text/plain": [
       "<Figure size 432x432 with 3 Axes>"
      ]
     },
     "metadata": {
      "needs_background": "light"
     },
     "output_type": "display_data"
    }
   ],
   "source": [
    "sns.jointplot(temp, x='n_iso_obs', y='n_iso_major')"
   ]
  },
  {
   "cell_type": "code",
   "execution_count": 20,
   "id": "e261e22c-c150-4205-8438-9d592a650dc7",
   "metadata": {},
   "outputs": [],
   "source": [
    "temp['diff'] = temp.n_iso_obs-temp.n_iso_major\n"
   ]
  },
  {
   "cell_type": "code",
   "execution_count": 26,
   "id": "9e94db5c-8172-4cb3-9eb8-9e8868074227",
   "metadata": {},
   "outputs": [
    {
     "data": {
      "text/plain": [
       "<seaborn.axisgrid.FacetGrid at 0x7f853652b250>"
      ]
     },
     "execution_count": 26,
     "metadata": {},
     "output_type": "execute_result"
    },
    {
     "data": {
      "image/png": "[encoded data removed]",
      "text/plain": [
       "<Figure size 360x360 with 1 Axes>"
      ]
     },
     "metadata": {
      "needs_background": "light"
     },
     "output_type": "display_data"
    }
   ],
   "source": [
    "temp2 = temp.loc[temp.n_iso_obs!=1]\n",
    "ax = sns.displot(temp2, x='diff', discrete=True)\n",
    "ax.set(xlim=(-1, 50))"
   ]
  },
  {
   "cell_type": "code",
   "execution_count": 27,
   "id": "15ce8264-5ae8-46ed-9495-efc4451ba8c6",
   "metadata": {},
   "outputs": [
    {
     "data": {
      "text/html": [
       "<div>\n",
       "<style scoped>\n",
       "    .dataframe tbody tr th:only-of-type {\n",
       "        vertical-align: middle;\n",
       "    }\n",
       "\n",
       "    .dataframe tbody tr th {\n",
       "        vertical-align: top;\n",
       "    }\n",
       "\n",
       "    .dataframe thead th {\n",
       "        text-align: right;\n",
       "    }\n",
       "</style>\n",
       "<table border=\"1\" class=\"dataframe\">\n",
       "  <thead>\n",
       "    <tr style=\"text-align: right;\">\n",
       "      <th></th>\n",
       "      <th>source</th>\n",
       "      <th>gid</th>\n",
       "      <th>n_tss</th>\n",
       "      <th>n_tes</th>\n",
       "      <th>n_ic</th>\n",
       "      <th>n_iso</th>\n",
       "      <th>splicing_ratio</th>\n",
       "      <th>tss_ratio</th>\n",
       "      <th>tes_ratio</th>\n",
       "      <th>spl_ratio</th>\n",
       "      <th>sector</th>\n",
       "      <th>gname</th>\n",
       "      <th>sample</th>\n",
       "      <th>gene_tpm</th>\n",
       "    </tr>\n",
       "  </thead>\n",
       "  <tbody>\n",
       "    <tr>\n",
       "      <th>281</th>\n",
       "      <td>obs_det</td>\n",
       "      <td>ENSG00000011243</td>\n",
       "      <td>3.0</td>\n",
       "      <td>6.0</td>\n",
       "      <td>23.0</td>\n",
       "      <td>23.0</td>\n",
       "      <td>5.111111</td>\n",
       "      <td>0.212598</td>\n",
       "      <td>0.425197</td>\n",
       "      <td>0.362205</td>\n",
       "      <td>mixed</td>\n",
       "      <td>AKAP8L</td>\n",
       "      <td>NaN</td>\n",
       "      <td>NaN</td>\n",
       "    </tr>\n",
       "  </tbody>\n",
       "</table>\n",
       "</div>"
      ],
      "text/plain": [
       "      source              gid  n_tss  n_tes  n_ic  n_iso  splicing_ratio  \\\n",
       "281  obs_det  ENSG00000011243    3.0    6.0  23.0   23.0        5.111111   \n",
       "\n",
       "     tss_ratio  tes_ratio  spl_ratio sector   gname sample  gene_tpm  \n",
       "281   0.212598   0.425197   0.362205  mixed  AKAP8L    NaN       NaN  "
      ]
     },
     "execution_count": 27,
     "metadata": {},
     "output_type": "execute_result"
    }
   ],
   "source": [
    "ca.triplets.loc[(ca.triplets.gname=='AKAP8L')&(ca.triplets.source=='obs_det')]"
   ]
  },
  {
   "cell_type": "code",
   "execution_count": 31,
   "id": "ed69fb5b-f551-4c8e-8c1d-685f47591c4f",
   "metadata": {},
   "outputs": [
    {
     "data": {
      "text/html": [
       "<div>\n",
       "<style scoped>\n",
       "    .dataframe tbody tr th:only-of-type {\n",
       "        vertical-align: middle;\n",
       "    }\n",
       "\n",
       "    .dataframe tbody tr th {\n",
       "        vertical-align: top;\n",
       "    }\n",
       "\n",
       "    .dataframe thead th {\n",
       "        text-align: right;\n",
       "    }\n",
       "</style>\n",
       "<table border=\"1\" class=\"dataframe\">\n",
       "  <thead>\n",
       "    <tr style=\"text-align: right;\">\n",
       "      <th></th>\n",
       "      <th>source</th>\n",
       "      <th>gid</th>\n",
       "      <th>n_tss</th>\n",
       "      <th>n_tes</th>\n",
       "      <th>n_ic</th>\n",
       "      <th>n_iso</th>\n",
       "      <th>splicing_ratio</th>\n",
       "      <th>tss_ratio</th>\n",
       "      <th>tes_ratio</th>\n",
       "      <th>spl_ratio</th>\n",
       "      <th>sector</th>\n",
       "      <th>gname</th>\n",
       "      <th>sample</th>\n",
       "      <th>gene_tpm</th>\n",
       "    </tr>\n",
       "  </thead>\n",
       "  <tbody>\n",
       "  </tbody>\n",
       "</table>\n",
       "</div>"
      ],
      "text/plain": [
       "Empty DataFrame\n",
       "Columns: [source, gid, n_tss, n_tes, n_ic, n_iso, splicing_ratio, tss_ratio, tes_ratio, spl_ratio, sector, gname, sample, gene_tpm]\n",
       "Index: []"
      ]
     },
     "execution_count": 31,
     "metadata": {},
     "output_type": "execute_result"
    }
   ],
   "source": [
    "ca.triplets.loc[(ca.triplets.gname=='PDE4C')&\\\n",
    "                (ca.triplets.source=='sample')&\\\n",
    "                (ca.triplets['sample']=='pgp1')]"
   ]
  },
  {
   "cell_type": "code",
   "execution_count": 33,
   "id": "dea89617-6aae-4cfd-a819-d2016b327e27",
   "metadata": {},
   "outputs": [
    {
     "data": {
      "text/html": [
       "<div>\n",
       "<style scoped>\n",
       "    .dataframe tbody tr th:only-of-type {\n",
       "        vertical-align: middle;\n",
       "    }\n",
       "\n",
       "    .dataframe tbody tr th {\n",
       "        vertical-align: top;\n",
       "    }\n",
       "\n",
       "    .dataframe thead th {\n",
       "        text-align: right;\n",
       "    }\n",
       "</style>\n",
       "<table border=\"1\" class=\"dataframe\">\n",
       "  <thead>\n",
       "    <tr style=\"text-align: right;\">\n",
       "      <th></th>\n",
       "      <th>source</th>\n",
       "      <th>gid</th>\n",
       "      <th>n_tss</th>\n",
       "      <th>n_tes</th>\n",
       "      <th>n_ic</th>\n",
       "      <th>n_iso</th>\n",
       "      <th>splicing_ratio</th>\n",
       "      <th>tss_ratio</th>\n",
       "      <th>tes_ratio</th>\n",
       "      <th>spl_ratio</th>\n",
       "      <th>sector</th>\n",
       "      <th>gname</th>\n",
       "      <th>sample</th>\n",
       "      <th>gene_tpm</th>\n",
       "    </tr>\n",
       "  </thead>\n",
       "  <tbody>\n",
       "  </tbody>\n",
       "</table>\n",
       "</div>"
      ],
      "text/plain": [
       "Empty DataFrame\n",
       "Columns: [source, gid, n_tss, n_tes, n_ic, n_iso, splicing_ratio, tss_ratio, tes_ratio, spl_ratio, sector, gname, sample, gene_tpm]\n",
       "Index: []"
      ]
     },
     "execution_count": 33,
     "metadata": {},
     "output_type": "execute_result"
    }
   ],
   "source": [
    "ca.triplets.loc[(ca.triplets.gname=='PDE4C')&\\\n",
    "                (ca.triplets.source=='sample')&\\\n",
    "                (ca.triplets['sample']=='pgp1_excite_neuron')]"
   ]
  },
  {
   "cell_type": "code",
   "execution_count": 32,
   "id": "c8928522-7911-4e36-ae4f-af51f1956032",
   "metadata": {},
   "outputs": [],
   "source": [
    "# plot_browser_isos_2(cerberus_h5,\n",
    "#                     swan_file, \n",
    "#                     filt_ab,\n",
    "#                     major_isos,\n",
    "#                     'PDE4C',\n",
    "#                     obs_col,\n",
    "#                     'pgp1',\n",
    "#                     'figures/pde4c_pgp1_browser_isos.pdf',\n",
    "#                     h=0.2,\n",
    "#                     ref_sources=['v29', 'v40'])"
   ]
  },
  {
   "cell_type": "code",
   "execution_count": null,
   "id": "41d1a71a-879f-4fbf-bb53-612cd9479d95",
   "metadata": {},
   "outputs": [],
   "source": [
    "plot_browser_isos_2(cerberus_h5,\n",
    "                    swan_file, \n",
    "                    filt_ab,\n",
    "                    major_isos,\n",
    "                    'PDE4C',\n",
    "                    obs_col,\n",
    "                    'pgp1_excite_neuron',\n",
    "                    'figures/pde4c_pgp1_excite_neuron_browser_isos.pdf',\n",
    "                    h=0.2,\n",
    "                    ref_sources=['v29', 'v40'])"
   ]
  },
  {
   "cell_type": "code",
   "execution_count": null,
   "id": "41b266df-34e0-4eb3-8812-265e0fe7ef75",
   "metadata": {},
   "outputs": [],
   "source": []
  }
 ],
 "metadata": {
  "kernelspec": {
   "display_name": "Python 3",
   "language": "python",
   "name": "python3"
  },
  "language_info": {
   "codemirror_mode": {
    "name": "ipython",
    "version": 3
   },
   "file_extension": ".py",
   "mimetype": "text/x-python",
   "name": "python",
   "nbconvert_exporter": "python",
   "pygments_lexer": "ipython3",
   "version": "3.7.4"
  }
 },
 "nbformat": 4,
 "nbformat_minor": 5
}
