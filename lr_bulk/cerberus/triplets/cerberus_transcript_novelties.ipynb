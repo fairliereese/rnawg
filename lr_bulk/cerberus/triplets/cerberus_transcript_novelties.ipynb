{
 "cells": [
  {
   "cell_type": "code",
   "execution_count": 3,
   "id": "090d37d4-99b2-4c99-a41a-ec94916dbafb",
   "metadata": {},
   "outputs": [],
   "source": [
    "import pandas as pd\n",
    "import numpy as np\n",
    "import scipy.stats as st\n",
    "import seaborn as sns\n",
    "import sys\n",
    "import os\n",
    "import gseapy as gp\n",
    "import pdb\n",
    "import copy\n",
    "from scipy import sparse\n",
    "import anndata\n",
    "import cerberus\n",
    "import subprocess\n",
    "import re\n",
    "\n",
    "p = os.path.dirname(os.path.dirname(os.path.dirname(os.getcwd())))\n",
    "sys.path.append(p)\n",
    "\n",
    "from scripts.utils import *\n",
    "from scripts.plotting import *"
   ]
  },
  {
   "cell_type": "code",
   "execution_count": 4,
   "id": "acaf7e96-dd37-4567-aa2d-a388a1bd7a7e",
   "metadata": {},
   "outputs": [],
   "source": [
    "major_set = '../swan/isos_sample_gene_90.tsv'\n",
    "c_annot = 'cerberus_annot_triplets.h5'\n",
    "gtf = '../cerberus.gtf'\n",
    "swan_file = '../swan/swan.p'\n",
    "filt_ab = '../cerberus_filtered_abundance.tsv'\n",
    "h5 = 'gtex_cerberus.h5'\n",
    "\n",
    "gene_subset = 'polya'\n",
    "min_tpm = 1"
   ]
  },
  {
   "cell_type": "code",
   "execution_count": 7,
   "id": "827c53de-08db-4228-abbe-469f57bbb677",
   "metadata": {},
   "outputs": [],
   "source": [
    "def get_transcript_novelties(c_annot,\n",
    "                             filt_ab,\n",
    "                             min_tpm,\n",
    "                             gene_subset,\n",
    "                             ofile):\n",
    "    ca = cerberus.read(c_annot)   \n",
    "    \n",
    "    # get observed lapa transcripts\n",
    "    df = pd.read_csv(filt_ab, sep='\\t')\n",
    "    df, tids = get_tpm_table(df,\n",
    "                   how='iso',\n",
    "                   min_tpm=min_tpm,\n",
    "                   gene_subset=gene_subset)\n",
    "    \n",
    "    df = ca.t_map.loc[ca.t_map.source=='lapa'].copy(deep=True)\n",
    "    df = df.merge(ca.ic[['Name', 'novelty']], how='left', left_on='ic_id', right_on='Name')\n",
    "    df.rename({'novelty':'ic_novelty'}, axis=1, inplace=True)\n",
    "    df.drop('Name', axis=1, inplace=True)\n",
    "    df = df.merge(ca.tss[['Name', 'novelty']], how='left', left_on='tss_id', right_on='Name')\n",
    "    df.rename({'novelty':'tss_novelty'}, axis=1, inplace=True)\n",
    "    df.drop('Name', axis=1, inplace=True)\n",
    "    df = df.merge(ca.tes[['Name', 'novelty']], how='left', left_on='tes_id', right_on='Name')\n",
    "    df.rename({'novelty':'tes_novelty'}, axis=1, inplace=True)\n",
    "    df.drop('Name', axis=1, inplace=True)\n",
    "\n",
    "    df = df.loc[df.transcript_id.isin(tids)]\n",
    "    \n",
    "    # gtex stuff\n",
    "    df = ca.t_map.loc[ca.t_map.source=='gtex'].copy(deep=True)\n",
    "    df = df.merge(ca.ic[['Name', 'novelty']], how='left', left_on='ic_id', right_on='Name')\n",
    "    df.rename({'novelty':'ic_novelty'}, axis=1, inplace=True)\n",
    "    df.drop('Name', axis=1, inplace=True)\n",
    "    df = df.merge(ca.tss[['Name', 'novelty']], how='left', left_on='tss_id', right_on='Name')\n",
    "    df.rename({'novelty':'tss_novelty'}, axis=1, inplace=True)\n",
    "    df.drop('Name', axis=1, inplace=True)\n",
    "    df = df.merge(ca.tes[['Name', 'novelty']], how='left', left_on='tes_id', right_on='Name')\n",
    "    df.rename({'novelty':'tes_novelty'}, axis=1, inplace=True)\n",
    "    df.drop('Name', axis=1, inplace=True)\n",
    "    \n",
    "#     # limit to polya\n",
    "#     if gene_subset:\n",
    "#         gene_df, _, _ = get_gtf_info(how='gene',\n",
    "#                                      ver=ver,\n",
    "#                                      add_stable_gid=True)\n",
    "#         gene_df = gene_df[['gid_stable', 'biotype']]\n",
    "#         df = df.merge(gene_df, how='left',\n",
    "#                         left_on='gid', right_on='gid_stable')\n",
    "#         df = df.loc[df.biotype==gene_subset]\n",
    "        \n",
    "    df.to_csv(ofile, sep='\\t')"
   ]
  },
  {
   "cell_type": "code",
   "execution_count": 8,
   "id": "ebbdcb30-9783-4c8e-b816-5f6a1038626f",
   "metadata": {},
   "outputs": [
    {
     "name": "stdout",
     "output_type": "stream",
     "text": [
      "Calculating iso TPM values\n",
      "Subsetting for polya genes\n",
      "Enforcing minimum TPM\n",
      "Total # isos detected: 231136\n",
      "# isos >= 1 tpm: 210239\n",
      "Applying gene type and novelty subset\n",
      "Number of isos reported: 206806\n"
     ]
    }
   ],
   "source": [
    "get_transcript_novelties(c_annot,\n",
    "                         filt_ab,\n",
    "                         min_tpm,\n",
    "                         gene_subset,\n",
    "                         'test_novelties.tsv')"
   ]
  },
  {
   "cell_type": "code",
   "execution_count": null,
   "id": "2941d573-b3e7-4a48-a905-512ee246ef48",
   "metadata": {},
   "outputs": [],
   "source": []
  },
  {
   "cell_type": "code",
   "execution_count": 34,
   "id": "4e4d4335-68a6-4c19-a1b6-f9b2b5c3f3f5",
   "metadata": {},
   "outputs": [],
   "source": [
    "ca = cerberus.read(c_annot)"
   ]
  },
  {
   "cell_type": "markdown",
   "id": "92d42beb-7fb8-45c8-bdf7-0d8660e7bda5",
   "metadata": {},
   "source": [
    "## Cerberus transcripts"
   ]
  },
  {
   "cell_type": "code",
   "execution_count": 22,
   "id": "04dad57b-8e13-4485-9bbf-3cdb65bfce56",
   "metadata": {},
   "outputs": [
    {
     "name": "stdout",
     "output_type": "stream",
     "text": [
      "Calculating iso TPM values\n",
      "Subsetting for polya genes\n"
     ]
    },
    {
     "name": "stderr",
     "output_type": "stream",
     "text": [
      "/Users/fairliereese/Documents/programming/mortazavi_lab/data/rnawg/scripts/utils.py:2047: PerformanceWarning: DataFrame is highly fragmented.  This is usually the result of calling `frame.insert` many times, which has poor performance.  Consider joining all columns at once using pd.concat(axis=1) instead.  To get a de-fragmented frame, use `newframe = frame.copy()`\n",
      "  df[tpm_col] = (df[d]*1000000)/df[total_col]\n",
      "/Users/fairliereese/Documents/programming/mortazavi_lab/data/rnawg/scripts/utils.py:2046: PerformanceWarning: DataFrame is highly fragmented.  This is usually the result of calling `frame.insert` many times, which has poor performance.  Consider joining all columns at once using pd.concat(axis=1) instead.  To get a de-fragmented frame, use `newframe = frame.copy()`\n",
      "  df[total_col] = df[d].sum()\n"
     ]
    },
    {
     "name": "stdout",
     "output_type": "stream",
     "text": [
      "Enforcing minimum TPM\n",
      "Total # isos detected: 231136\n",
      "# isos >= 1 tpm: 210239\n",
      "Applying gene type and novelty subset\n",
      "Number of isos reported: 206806\n"
     ]
    }
   ],
   "source": [
    "# get observed lapa transcripts\n",
    "df = pd.read_csv(filt_ab, sep='\\t')\n",
    "df, tids = get_tpm_table(df,\n",
    "               how='iso',\n",
    "               min_tpm=min_tpm,\n",
    "               gene_subset=gene_subset)"
   ]
  },
  {
   "cell_type": "code",
   "execution_count": 23,
   "id": "e5dfa23b-0e47-4cf5-ba5c-1ecf0cb9c927",
   "metadata": {},
   "outputs": [],
   "source": [
    "df = ca.t_map.loc[ca.t_map.source=='lapa'].copy(deep=True)\n",
    "df = df.merge(ca.ic[['Name', 'novelty']], how='left', left_on='ic_id', right_on='Name')\n",
    "df.rename({'novelty':'ic_novelty'}, axis=1, inplace=True)\n",
    "df.drop('Name', axis=1, inplace=True)\n",
    "df = df.merge(ca.tss[['Name', 'novelty']], how='left', left_on='tss_id', right_on='Name')\n",
    "df.rename({'novelty':'tss_novelty'}, axis=1, inplace=True)\n",
    "df.drop('Name', axis=1, inplace=True)\n",
    "df = df.merge(ca.tes[['Name', 'novelty']], how='left', left_on='tes_id', right_on='Name')\n",
    "df.rename({'novelty':'tes_novelty'}, axis=1, inplace=True)\n",
    "df.drop('Name', axis=1, inplace=True)\n",
    "\n",
    "df = df.loc[df.transcript_id.isin(tids)]"
   ]
  },
  {
   "cell_type": "code",
   "execution_count": 24,
   "id": "0b9b87e7-2c21-4782-ab8f-ca9cd2e95569",
   "metadata": {},
   "outputs": [
    {
     "data": {
      "text/plain": [
       "206806"
      ]
     },
     "execution_count": 24,
     "metadata": {},
     "output_type": "execute_result"
    }
   ],
   "source": [
    "len(df.transcript_id.unique())"
   ]
  },
  {
   "cell_type": "markdown",
   "id": "c30f7b98-ed0c-4ebe-8b80-8d814b73a72f",
   "metadata": {},
   "source": [
    "## Gtex transcripts"
   ]
  },
  {
   "cell_type": "code",
   "execution_count": 31,
   "id": "9af68243-e029-43d4-9ff5-c01ed645edc2",
   "metadata": {},
   "outputs": [
    {
     "data": {
      "text/plain": [
       "array(['v40', 'v29', 'lapa'], dtype=object)"
      ]
     },
     "execution_count": 31,
     "metadata": {},
     "output_type": "execute_result"
    }
   ],
   "source": [
    "ca.t_map.source.unique()"
   ]
  },
  {
   "cell_type": "code",
   "execution_count": 32,
   "id": "afca276e-ab48-4670-9581-ab7fcb662587",
   "metadata": {},
   "outputs": [],
   "source": [
    "df = ca.t_map.loc[ca.t_map.source=='gtex'].copy(deep=True)\n",
    "df = df.merge(ca.ic[['Name', 'novelty']], how='left', left_on='ic_id', right_on='Name')\n",
    "df.rename({'novelty':'ic_novelty'}, axis=1, inplace=True)\n",
    "df.drop('Name', axis=1, inplace=True)\n",
    "df = df.merge(ca.tss[['Name', 'novelty']], how='left', left_on='tss_id', right_on='Name')\n",
    "df.rename({'novelty':'tss_novelty'}, axis=1, inplace=True)\n",
    "df.drop('Name', axis=1, inplace=True)\n",
    "df = df.merge(ca.tes[['Name', 'novelty']], how='left', left_on='tes_id', right_on='Name')\n",
    "df.rename({'novelty':'tes_novelty'}, axis=1, inplace=True)\n",
    "df.drop('Name', axis=1, inplace=True)"
   ]
  },
  {
   "cell_type": "code",
   "execution_count": 33,
   "id": "e27c7610-9827-4fc0-838c-fbd7dc66d116",
   "metadata": {},
   "outputs": [
    {
     "data": {
      "text/html": [
       "<div>\n",
       "<style scoped>\n",
       "    .dataframe tbody tr th:only-of-type {\n",
       "        vertical-align: middle;\n",
       "    }\n",
       "\n",
       "    .dataframe tbody tr th {\n",
       "        vertical-align: top;\n",
       "    }\n",
       "\n",
       "    .dataframe thead th {\n",
       "        text-align: right;\n",
       "    }\n",
       "</style>\n",
       "<table border=\"1\" class=\"dataframe\">\n",
       "  <thead>\n",
       "    <tr style=\"text-align: right;\">\n",
       "      <th></th>\n",
       "      <th>original_transcript_id</th>\n",
       "      <th>ic</th>\n",
       "      <th>ic_id</th>\n",
       "      <th>tss_id</th>\n",
       "      <th>tss</th>\n",
       "      <th>tes_id</th>\n",
       "      <th>tes</th>\n",
       "      <th>gene_id</th>\n",
       "      <th>gene_name</th>\n",
       "      <th>original_transcript_name</th>\n",
       "      <th>transcript_triplet</th>\n",
       "      <th>transcript_id</th>\n",
       "      <th>transcript_name</th>\n",
       "      <th>tss_first_sd_issue</th>\n",
       "      <th>tes_last_sa_issue</th>\n",
       "      <th>source</th>\n",
       "      <th>ic_novelty</th>\n",
       "      <th>tss_novelty</th>\n",
       "      <th>tes_novelty</th>\n",
       "    </tr>\n",
       "  </thead>\n",
       "  <tbody>\n",
       "  </tbody>\n",
       "</table>\n",
       "</div>"
      ],
      "text/plain": [
       "Empty DataFrame\n",
       "Columns: [original_transcript_id, ic, ic_id, tss_id, tss, tes_id, tes, gene_id, gene_name, original_transcript_name, transcript_triplet, transcript_id, transcript_name, tss_first_sd_issue, tes_last_sa_issue, source, ic_novelty, tss_novelty, tes_novelty]\n",
       "Index: []"
      ]
     },
     "execution_count": 33,
     "metadata": {},
     "output_type": "execute_result"
    }
   ],
   "source": [
    "df.head()"
   ]
  },
  {
   "cell_type": "code",
   "execution_count": null,
   "id": "71d9125c-4e02-4510-b4be-c0b7636d1ed2",
   "metadata": {},
   "outputs": [],
   "source": [
    "# limit to polya\n",
    "if gene_subset:\n",
    "    gene_df, _, _ = get_gtf_info(how='gene',\n",
    "                                 ver=ver,\n",
    "                                 add_stable_gid=True)\n",
    "    gene_df = gene_df[['gid_stable', 'biotype']]\n",
    "    df = df.merge(gene_df, how='left',\n",
    "                    left_on='gid', right_on='gid_stable')\n",
    "    df = df.loc[df.biotype==gene_subset]"
   ]
  },
  {
   "cell_type": "code",
   "execution_count": null,
   "id": "4b3b0b81-d16f-40cc-8942-7f3d1e23099d",
   "metadata": {},
   "outputs": [],
   "source": []
  },
  {
   "cell_type": "code",
   "execution_count": null,
   "id": "4e43738f-957e-4e7e-bd1b-e556011dd378",
   "metadata": {},
   "outputs": [],
   "source": []
  },
  {
   "cell_type": "code",
   "execution_count": null,
   "id": "02be3f3f-3008-4ea6-8c90-957667b1106a",
   "metadata": {},
   "outputs": [],
   "source": []
  },
  {
   "cell_type": "code",
   "execution_count": 24,
   "id": "b62d7d6b-f885-44e0-a068-60fa81adfbff",
   "metadata": {},
   "outputs": [],
   "source": [
    "df.to_csv('cerberus_transcript_novelty.tsv', sep='\\t', index=False)"
   ]
  },
  {
   "cell_type": "code",
   "execution_count": 2,
   "id": "2824c44d-f8f2-407f-a0d3-01787b86e85b",
   "metadata": {},
   "outputs": [
    {
     "data": {
      "text/plain": [
       "322461"
      ]
     },
     "execution_count": 2,
     "metadata": {},
     "output_type": "execute_result"
    }
   ],
   "source": [
    "import pandas as pd\n",
    "df = pd.read_csv('cerberus_transcript_novelty.tsv',sep='\\t')\n",
    "len(df.index)"
   ]
  },
  {
   "cell_type": "code",
   "execution_count": null,
   "id": "5c84b616-cf96-475b-9933-aed532f11075",
   "metadata": {},
   "outputs": [],
   "source": []
  }
 ],
 "metadata": {
  "kernelspec": {
   "display_name": "Python 3",
   "language": "python",
   "name": "python3"
  },
  "language_info": {
   "codemirror_mode": {
    "name": "ipython",
    "version": 3
   },
   "file_extension": ".py",
   "mimetype": "text/x-python",
   "name": "python",
   "nbconvert_exporter": "python",
   "pygments_lexer": "ipython3",
   "version": "3.7.4"
  }
 },
 "nbformat": 4,
 "nbformat_minor": 5
}
