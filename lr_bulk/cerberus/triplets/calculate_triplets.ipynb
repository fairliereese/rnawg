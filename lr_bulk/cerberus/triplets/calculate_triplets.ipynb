{
 "cells": [
  {
   "cell_type": "code",
   "execution_count": 1,
   "id": "6258b6e4-410c-4ad4-80ed-58541b6ab191",
   "metadata": {},
   "outputs": [],
   "source": [
    "import pandas as pd\n",
    "import numpy as np\n",
    "import scipy.stats as st\n",
    "import seaborn as sns\n",
    "import sys\n",
    "import os\n",
    "import gseapy as gp\n",
    "import pdb\n",
    "import copy\n",
    "from scipy import sparse\n",
    "import anndata\n",
    "import cerberus\n",
    "\n",
    "\n",
    "p = os.path.dirname(os.path.dirname(os.path.dirname(os.getcwd())))\n",
    "sys.path.append(p)\n",
    "\n",
    "from scripts.utils import *\n",
    "from scripts.plotting import *"
   ]
  },
  {
   "cell_type": "code",
   "execution_count": 2,
   "id": "57989f60-cf7d-4fc4-965c-b70e7e358d68",
   "metadata": {},
   "outputs": [],
   "source": [
    "h5 = '../cerberus_annot.h5'\n",
    "ab = '../talon/human_talon_abundance.tsv'\n",
    "filt_ab = '../cerberus_filtered_abundance.tsv'\n",
    "obs_col = 'sample'\n",
    "min_tpm = 1\n",
    "major_set = '../swan/isos_sample_gene_90.tsv'\n",
    "swan_file = '../swan/swan.p'\n",
    "mm_tissues = ['adrenal gland', 'heart',\n",
    "              'muscle', 'brain', 'pgp1_excite_neuron',\n",
    "              'pgp1_astro', 'h9_osteocyte',\n",
    "              'h1', 'wtc11']"
   ]
  },
  {
   "cell_type": "code",
   "execution_count": 3,
   "id": "45b76953-f6d6-481b-8134-23bcbec9a2b3",
   "metadata": {},
   "outputs": [
    {
     "name": "stdout",
     "output_type": "stream",
     "text": [
      "Read in graph from ../swan/swan.p\n"
     ]
    }
   ],
   "source": [
    "ca = cerberus.read(h5)\n",
    "sg = swan.read(swan_file)"
   ]
  },
  {
   "cell_type": "markdown",
   "id": "189655f6-bd46-454d-a1bf-ed153fb819e0",
   "metadata": {},
   "source": [
    "Triplets for each source in cerberus annotation"
   ]
  },
  {
   "cell_type": "code",
   "execution_count": 4,
   "id": "05bf4383-365e-48c6-b328-fd7dccb435d5",
   "metadata": {},
   "outputs": [],
   "source": [
    "df = ca.get_source_triplets(sg=sg)\n",
    "ca.add_triplets(df)"
   ]
  },
  {
   "cell_type": "markdown",
   "id": "00376a7f-174b-41c7-8198-e8533d8cb209",
   "metadata": {},
   "source": [
    "Expressed triplets"
   ]
  },
  {
   "cell_type": "code",
   "execution_count": 5,
   "id": "496e4013-c676-45ec-b6e7-a0d356aa1791",
   "metadata": {},
   "outputs": [
    {
     "name": "stdout",
     "output_type": "stream",
     "text": [
      "Calculating iso TPM values\n"
     ]
    },
    {
     "name": "stderr",
     "output_type": "stream",
     "text": [
      "/Users/fairliereese/Documents/programming/mortazavi_lab/data/rnawg/scripts/utils.py:1816: PerformanceWarning: DataFrame is highly fragmented.  This is usually the result of calling `frame.insert` many times, which has poor performance.  Consider joining all columns at once using pd.concat(axis=1) instead.  To get a de-fragmented frame, use `newframe = frame.copy()`\n",
      "  df[tpm_col] = (df[d]*1000000)/df[total_col]\n",
      "/Users/fairliereese/Documents/programming/mortazavi_lab/data/rnawg/scripts/utils.py:1815: PerformanceWarning: DataFrame is highly fragmented.  This is usually the result of calling `frame.insert` many times, which has poor performance.  Consider joining all columns at once using pd.concat(axis=1) instead.  To get a de-fragmented frame, use `newframe = frame.copy()`\n",
      "  df[total_col] = df[d].sum()\n"
     ]
    },
    {
     "name": "stdout",
     "output_type": "stream",
     "text": [
      "Enforcing minimum TPM\n",
      "Total # isos detected: 234040\n",
      "# isos >= 1 tpm: 212911\n",
      "Number of isos reported: 212911\n"
     ]
    }
   ],
   "source": [
    "df = pd.read_csv(filt_ab, sep='\\t')\n",
    "df, tids = get_tpm_table(df,\n",
    "               how='iso',\n",
    "               min_tpm=1)\n",
    "df = ca.get_subset_triplets(tids, 'obs_det', sg=sg)\n",
    "ca.add_triplets(df)"
   ]
  },
  {
   "cell_type": "markdown",
   "id": "8755acee-6bc7-47f5-8dd4-6fc46cd0b378",
   "metadata": {},
   "source": [
    "Sample-level expressed triplets"
   ]
  },
  {
   "cell_type": "code",
   "execution_count": 6,
   "id": "f1f3bcc3-f4dc-4714-899e-33a4753df7db",
   "metadata": {},
   "outputs": [],
   "source": [
    "# TODO - check if results are the same between \n",
    "# utils.py TPM calc and this one"
   ]
  },
  {
   "cell_type": "code",
   "execution_count": 7,
   "id": "38c05eae-2d8f-4292-8075-1502e7753992",
   "metadata": {},
   "outputs": [],
   "source": [
    "df = ca.get_expressed_triplets(sg, obs_col=obs_col,\n",
    "                               min_tpm=min_tpm,\n",
    "                               source='sample_det')\n",
    "ca.add_triplets(df)"
   ]
  },
  {
   "cell_type": "markdown",
   "id": "d8ce93f1-35fc-482f-ba00-f28a1e32c34f",
   "metadata": {},
   "source": [
    "Union of major (90% set) expressed triplets"
   ]
  },
  {
   "cell_type": "code",
   "execution_count": 8,
   "id": "96704d29-49be-47fb-93f5-2926e8a923a1",
   "metadata": {},
   "outputs": [],
   "source": [
    "subset = pd.read_csv(major_set, sep='\\t')\n",
    "tids = subset.tid.unique().tolist()\n",
    "df = ca.get_subset_triplets(tids, source='obs_major', sg=sg)\n",
    "ca.add_triplets(df)"
   ]
  },
  {
   "cell_type": "markdown",
   "id": "aebda66f-478b-4be5-a800-9c5b5329bbf9",
   "metadata": {},
   "source": [
    "Sample-level major (90% set) expressed triplets"
   ]
  },
  {
   "cell_type": "code",
   "execution_count": 9,
   "id": "233762e2-507e-46ff-9f3c-1047c3976c2c",
   "metadata": {},
   "outputs": [],
   "source": [
    "subset = pd.read_csv(major_set, sep='\\t')\n",
    "df = ca.get_expressed_triplets(sg, obs_col=obs_col,\n",
    "                               min_tpm=min_tpm,\n",
    "                               source='sample_major',\n",
    "                               subset=subset)\n",
    "ca.add_triplets(df)"
   ]
  },
  {
   "cell_type": "markdown",
   "id": "c19b2978-f556-427d-b12b-4854b436bbdc",
   "metadata": {},
   "source": [
    "Mouse match triplets"
   ]
  },
  {
   "cell_type": "code",
   "execution_count": 10,
   "id": "2e6cbea6-68ed-476e-954a-960760750195",
   "metadata": {},
   "outputs": [
    {
     "name": "stdout",
     "output_type": "stream",
     "text": [
      "Calculating iso TPM values\n",
      "Enforcing minimum TPM\n",
      "Total # isos detected: 234040\n",
      "# isos >= 1 tpm: 212911\n",
      "Number of isos reported: 212911\n",
      "Found 50 total samples\n"
     ]
    }
   ],
   "source": [
    "df = pd.read_csv(filt_ab, sep='\\t')\n",
    "df = get_det_table(df,\n",
    "               groupby='sample',\n",
    "               how='iso',\n",
    "               min_tpm=1)\n",
    "\n",
    "df = df.transpose()\n",
    "df = df[mm_tissues]\n",
    "df = df.loc[df.any(axis=1)]\n",
    "tids = df.index.tolist()\n",
    "\n",
    "df = ca.get_subset_triplets(tids, source='obs_mm_det', sg=sg)\n",
    "ca.add_triplets(df)"
   ]
  },
  {
   "cell_type": "markdown",
   "id": "8f63b71b-6af5-4cf0-b790-1b0f93a3d8eb",
   "metadata": {},
   "source": [
    "Mouse match major (90% set) triplets"
   ]
  },
  {
   "cell_type": "code",
   "execution_count": 11,
   "id": "dc5272b8-5b31-41ac-9b43-8392211fd8f9",
   "metadata": {},
   "outputs": [
    {
     "name": "stdout",
     "output_type": "stream",
     "text": [
      "1534016\n",
      "300835\n"
     ]
    }
   ],
   "source": [
    "subset = pd.read_csv(major_set, sep='\\t')\n",
    "print(len(subset.index))\n",
    "subset = subset.loc[subset['sample'].isin(mm_tissues)]\n",
    "print(len(subset.index))\n",
    "tids = subset.tid.unique().tolist()\n",
    "df = ca.get_subset_triplets(tids, source='obs_mm_major', sg=sg)\n",
    "ca.add_triplets(df)"
   ]
  },
  {
   "cell_type": "markdown",
   "id": "82dd3bca-b8e1-48b8-88f3-2868dd956d58",
   "metadata": {},
   "source": [
    "Remove non-polyA genes"
   ]
  },
  {
   "cell_type": "code",
   "execution_count": 12,
   "id": "2ffdc6e8-bd24-4ebf-b5c7-fd7bbf43b289",
   "metadata": {},
   "outputs": [],
   "source": [
    "df, _, _ = get_gtf_info(how='gene', ver='v40_cerberus', subset='polya')"
   ]
  },
  {
   "cell_type": "code",
   "execution_count": 13,
   "id": "e9ed520d-b895-4d3a-b573-03ccf608ad1f",
   "metadata": {},
   "outputs": [],
   "source": [
    "df['gid_stable'] = cerberus.get_stable_gid(df, 'gid')"
   ]
  },
  {
   "cell_type": "code",
   "execution_count": 14,
   "id": "a29894aa-5318-4d07-a4c3-22aad92fafb7",
   "metadata": {},
   "outputs": [
    {
     "name": "stdout",
     "output_type": "stream",
     "text": [
      "1600865\n",
      "1535912\n"
     ]
    }
   ],
   "source": [
    "polya_gids = df.gid_stable.tolist()\n",
    "print(len(ca.triplets.index))\n",
    "ca.triplets = ca.triplets.loc[ca.triplets.gid.isin(polya_gids)]\n",
    "print(len(ca.triplets.index))       "
   ]
  },
  {
   "cell_type": "code",
   "execution_count": 15,
   "id": "f1d7f3be-9dee-4467-ad90-8489512eb43f",
   "metadata": {},
   "outputs": [
    {
     "data": {
      "text/html": [
       "<div>\n",
       "<style scoped>\n",
       "    .dataframe tbody tr th:only-of-type {\n",
       "        vertical-align: middle;\n",
       "    }\n",
       "\n",
       "    .dataframe tbody tr th {\n",
       "        vertical-align: top;\n",
       "    }\n",
       "\n",
       "    .dataframe thead th {\n",
       "        text-align: right;\n",
       "    }\n",
       "</style>\n",
       "<table border=\"1\" class=\"dataframe\">\n",
       "  <thead>\n",
       "    <tr style=\"text-align: right;\">\n",
       "      <th></th>\n",
       "      <th>source</th>\n",
       "      <th>gid</th>\n",
       "      <th>n_tss</th>\n",
       "      <th>n_tes</th>\n",
       "      <th>n_ic</th>\n",
       "      <th>n_iso</th>\n",
       "      <th>splicing_ratio</th>\n",
       "      <th>tss_ratio</th>\n",
       "      <th>tes_ratio</th>\n",
       "      <th>spl_ratio</th>\n",
       "      <th>gname</th>\n",
       "      <th>sample</th>\n",
       "      <th>gene_tpm</th>\n",
       "    </tr>\n",
       "  </thead>\n",
       "  <tbody>\n",
       "    <tr>\n",
       "      <th>651</th>\n",
       "      <td>obs_det</td>\n",
       "      <td>ENSG00000049540</td>\n",
       "      <td>3.0</td>\n",
       "      <td>7.0</td>\n",
       "      <td>140.0</td>\n",
       "      <td>283.0</td>\n",
       "      <td>28.000000</td>\n",
       "      <td>0.078947</td>\n",
       "      <td>0.184211</td>\n",
       "      <td>0.736842</td>\n",
       "      <td>ELN</td>\n",
       "      <td>NaN</td>\n",
       "      <td>NaN</td>\n",
       "    </tr>\n",
       "    <tr>\n",
       "      <th>614</th>\n",
       "      <td>obs_mm_det</td>\n",
       "      <td>ENSG00000049540</td>\n",
       "      <td>2.0</td>\n",
       "      <td>5.0</td>\n",
       "      <td>50.0</td>\n",
       "      <td>73.0</td>\n",
       "      <td>14.285714</td>\n",
       "      <td>0.093960</td>\n",
       "      <td>0.234899</td>\n",
       "      <td>0.671141</td>\n",
       "      <td>ELN</td>\n",
       "      <td>NaN</td>\n",
       "      <td>NaN</td>\n",
       "    </tr>\n",
       "  </tbody>\n",
       "</table>\n",
       "</div>"
      ],
      "text/plain": [
       "         source              gid  n_tss  n_tes   n_ic  n_iso  splicing_ratio  \\\n",
       "651     obs_det  ENSG00000049540    3.0    7.0  140.0  283.0       28.000000   \n",
       "614  obs_mm_det  ENSG00000049540    2.0    5.0   50.0   73.0       14.285714   \n",
       "\n",
       "     tss_ratio  tes_ratio  spl_ratio gname sample  gene_tpm  \n",
       "651   0.078947   0.184211   0.736842   ELN    NaN       NaN  \n",
       "614   0.093960   0.234899   0.671141   ELN    NaN       NaN  "
      ]
     },
     "execution_count": 15,
     "metadata": {},
     "output_type": "execute_result"
    }
   ],
   "source": [
    "ca.triplets.loc[(ca.triplets.gname =='ELN')&(ca.triplets.source.isin(['obs_det', 'obs_mm_det']))]"
   ]
  },
  {
   "cell_type": "code",
   "execution_count": null,
   "id": "73c38160-a2eb-4577-8b55-94317aaf9dbe",
   "metadata": {},
   "outputs": [],
   "source": []
  },
  {
   "cell_type": "markdown",
   "id": "2d0be864-100b-4481-b8f6-a2501ea2ff93",
   "metadata": {},
   "source": [
    "Write triplets to file"
   ]
  },
  {
   "cell_type": "code",
   "execution_count": 16,
   "id": "2454950a-9162-4cfb-b80e-b051fc44c45e",
   "metadata": {},
   "outputs": [],
   "source": [
    "ca.write('cerberus_annot_triplets.h5')"
   ]
  },
  {
   "cell_type": "code",
   "execution_count": 17,
   "id": "4cd3c5bf-b8ee-4ff1-92c2-63a30016f0b1",
   "metadata": {},
   "outputs": [],
   "source": [
    "# also write out triplets separately to tsv\n",
    "ca.triplets.to_csv('triplets.tsv', sep='\\t', index=False)"
   ]
  },
  {
   "cell_type": "code",
   "execution_count": 18,
   "id": "6e54d53a-e908-49a5-a868-08292a4e94db",
   "metadata": {},
   "outputs": [
    {
     "data": {
      "text/plain": [
       "array(['v40', 'v29', 'lapa', 'gtex', 'all', 'obs_det', 'sample_det',\n",
       "       'obs_major', 'sample_major', 'obs_mm_det', 'obs_mm_major'],\n",
       "      dtype=object)"
      ]
     },
     "execution_count": 18,
     "metadata": {},
     "output_type": "execute_result"
    }
   ],
   "source": [
    "ca.triplets.source.unique()"
   ]
  },
  {
   "cell_type": "markdown",
   "id": "0427e0cf-8151-401c-95c9-89a572de282e",
   "metadata": {},
   "source": [
    "## add simplex coords to triplets"
   ]
  },
  {
   "cell_type": "code",
   "execution_count": 19,
   "id": "9fccfc60-0bbd-45f4-bd1d-f9c85836f4b1",
   "metadata": {},
   "outputs": [],
   "source": [
    "# ca = cerberus.read('cerberus_annot_triplets.h5')\n",
    "# ca.triplets = cerberus.compute_simplex_coords(ca.triplets)\n",
    "# ca.write('cerberus_annot_triplets.h5')"
   ]
  },
  {
   "cell_type": "markdown",
   "id": "3f320b03-7c62-423b-a688-128a8d1f5f66",
   "metadata": {},
   "source": [
    "## sanity checks"
   ]
  },
  {
   "cell_type": "code",
   "execution_count": 31,
   "id": "c12fc4b6-2915-42b7-b61c-ebf771d90438",
   "metadata": {},
   "outputs": [
    {
     "data": {
      "text/html": [
       "<div>\n",
       "<style scoped>\n",
       "    .dataframe tbody tr th:only-of-type {\n",
       "        vertical-align: middle;\n",
       "    }\n",
       "\n",
       "    .dataframe tbody tr th {\n",
       "        vertical-align: top;\n",
       "    }\n",
       "\n",
       "    .dataframe thead th {\n",
       "        text-align: right;\n",
       "    }\n",
       "</style>\n",
       "<table border=\"1\" class=\"dataframe\">\n",
       "  <thead>\n",
       "    <tr style=\"text-align: right;\">\n",
       "      <th></th>\n",
       "      <th>source</th>\n",
       "      <th>gid</th>\n",
       "      <th>n_tss</th>\n",
       "      <th>n_tes</th>\n",
       "      <th>n_ic</th>\n",
       "      <th>n_iso</th>\n",
       "      <th>splicing_ratio</th>\n",
       "      <th>gname</th>\n",
       "      <th>sample</th>\n",
       "      <th>gene_tpm</th>\n",
       "    </tr>\n",
       "  </thead>\n",
       "  <tbody>\n",
       "    <tr>\n",
       "      <th>11419</th>\n",
       "      <td>sample_major</td>\n",
       "      <td>ENSG00000227232</td>\n",
       "      <td>1.0</td>\n",
       "      <td>1.0</td>\n",
       "      <td>3.0</td>\n",
       "      <td>3.0</td>\n",
       "      <td>3.0</td>\n",
       "      <td>WASH7P</td>\n",
       "      <td>caco2</td>\n",
       "      <td>17.223036</td>\n",
       "    </tr>\n",
       "  </tbody>\n",
       "</table>\n",
       "</div>"
      ],
      "text/plain": [
       "             source              gid  n_tss  n_tes  n_ic  n_iso  \\\n",
       "11419  sample_major  ENSG00000227232    1.0    1.0   3.0    3.0   \n",
       "\n",
       "       splicing_ratio   gname sample   gene_tpm  \n",
       "11419             3.0  WASH7P  caco2  17.223036  "
      ]
     },
     "execution_count": 31,
     "metadata": {},
     "output_type": "execute_result"
    }
   ],
   "source": [
    "ca.triplets.loc[(ca.triplets['sample'] =='caco2')&\\\n",
    "                (ca.triplets.gname=='WASH7P')&\\\n",
    "                (ca.triplets.source=='sample_major')]"
   ]
  },
  {
   "cell_type": "code",
   "execution_count": 3,
   "id": "acff24f4-82eb-4bdc-ab9c-b5e100ec28a0",
   "metadata": {},
   "outputs": [],
   "source": [
    "# temp = ca.t_map[['transcript_id', 'tss_first_sd_issue']].copy(deep=True)\n",
    "# print(temp.groupby('tss_first_sd_issue').count())\n",
    "\n",
    "# temp = ca.t_map[['transcript_id', 'tes_last_sa_issue']].copy(deep=True)\n",
    "# print(temp.groupby('tes_last_sa_issue').count())\n",
    "\n",
    "# null are ok because we feed more ends than intron chains\n",
    "# for lapa\n",
    "# source_trip.loc[source_trip.n_iso.isnull()]\n",
    "\n",
    "# ca.ic.loc[(ca.ic.gene_id =='ENSG00000002079')&(ca.ic.source.str.contains('lapa'))]\n",
    "# ca.tss.loc[(ca.tss.gene_id =='ENSG00000002079')&(ca.tss.source.str.contains('lapa'))]\n",
    "\n",
    "# ca.t_map.loc[(ca.t_map.gene_id == 'ENSG00000002079')&(ca.t_map.source.str.contains('lapa'))]"
   ]
  }
 ],
 "metadata": {
  "kernelspec": {
   "display_name": "Python 3",
   "language": "python",
   "name": "python3"
  },
  "language_info": {
   "codemirror_mode": {
    "name": "ipython",
    "version": 3
   },
   "file_extension": ".py",
   "mimetype": "text/x-python",
   "name": "python",
   "nbconvert_exporter": "python",
   "pygments_lexer": "ipython3",
   "version": "3.7.4"
  }
 },
 "nbformat": 4,
 "nbformat_minor": 5
}
