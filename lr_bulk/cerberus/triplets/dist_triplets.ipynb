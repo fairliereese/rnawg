{
 "cells": [
  {
   "cell_type": "code",
   "execution_count": 4,
   "id": "a3a15fb9-9673-407e-b640-75dc939dcaf1",
   "metadata": {},
   "outputs": [],
   "source": [
    "import pandas as pd\n",
    "import numpy as np\n",
    "import scipy.stats as st\n",
    "import seaborn as sns\n",
    "import sys\n",
    "import os\n",
    "import gseapy as gp\n",
    "import pdb\n",
    "import copy\n",
    "from scipy import sparse\n",
    "import anndata\n",
    "import cerberus\n",
    "\n",
    "p = os.path.dirname(os.path.dirname(os.path.dirname(os.getcwd())))\n",
    "sys.path.append(p)\n",
    "\n",
    "from scripts.utils import *\n",
    "from scripts.plotting import *"
   ]
  },
  {
   "cell_type": "code",
   "execution_count": 5,
   "id": "9ff1d0c9-5c38-4447-8e07-b3b2a05679c4",
   "metadata": {},
   "outputs": [],
   "source": [
    "h5 = '../cerberus_annot.h5'\n",
    "h5_annot = 'cerberus_annot_triplets.h5'\n",
    "ab = '../../talon/human_talon_abundance.tsv'\n",
    "filt_ab = '../cerberus_filtered_abundance.tsv'\n",
    "obs_col = 'sample'\n",
    "min_tpm = 1\n",
    "major_set = '../swan/isos_sample_gene_90.tsv'\n",
    "mm_tissues = ['adrenal gland', 'heart',\n",
    "              'muscle', 'brain', 'pgp1_excite_neuron',\n",
    "              'pgp1_astro', 'h9_osteocyte',\n",
    "              'h1', 'wtc11']"
   ]
  },
  {
   "cell_type": "markdown",
   "id": "1df119f9-560e-4118-addc-bc63742d2632",
   "metadata": {},
   "source": [
    "## Compare centroid of all obs protein coding genes to those in each tissue"
   ]
  },
  {
   "cell_type": "code",
   "execution_count": 6,
   "id": "c72b573f-5adc-4251-96d9-ab1290506198",
   "metadata": {},
   "outputs": [],
   "source": [
    "ca = cerberus.read(h5_annot)"
   ]
  },
  {
   "cell_type": "code",
   "execution_count": 11,
   "id": "04a31e75-c531-4763-a798-6175dbfdacd7",
   "metadata": {},
   "outputs": [],
   "source": [
    "# add biotype to subset on \n",
    "gene_df, _, _ = get_gtf_info(how='gene', ver='v40_cerberus', add_stable_gid=True)\n",
    "gene_df = gene_df[['gid_stable', 'biotype_category']]\n",
    "gene_df.rename({'gid_stable': 'gid'}, axis=1, inplace=True)\n",
    "ca.triplets = ca.triplets.merge(gene_df, how='left', on='gid')"
   ]
  },
  {
   "cell_type": "code",
   "execution_count": 12,
   "id": "f1d5fbfb-dfe8-4f40-88c7-41141b67e531",
   "metadata": {},
   "outputs": [],
   "source": [
    "def compute_centroid(ca, gene=None, subset=None):\n",
    "    \"\"\" \n",
    "    Compute the centroid of simplex coordinates for a given set of genes / triplets\n",
    "    \n",
    "    Parameters:\n",
    "        gene (str): Gene ID or name\n",
    "        subset (dict of str): Subset\n",
    "    \"\"\"\n",
    "    \n",
    "    df = ca.triplets.copy(deep=True)\n",
    "    \n",
    "    if gene:\n",
    "        df, gene = cerberus.subset_df_on_gene(df, gene)\n",
    "\n",
    "    # if we have a list of allowed sources, limit to those entries\n",
    "    if subset:\n",
    "        df = cerberus.subset_df(df, subset)\n",
    "    \n",
    "    df = cerberus.compute_simplex_coords(df, 'splicing_ratio')\n",
    "    \n",
    "    df = df[['tss_ratio', 'spl_ratio', 'tes_ratio']]\n",
    "    centroid = df.mean().tolist()\n",
    "    \n",
    "    return centroid"
   ]
  },
  {
   "cell_type": "code",
   "execution_count": 13,
   "id": "a416582f-43df-4d75-9ed0-cd2f4120e6b5",
   "metadata": {},
   "outputs": [],
   "source": [
    "c = compute_centroid(ca, subset = {'source': 'obs_det', 'biotype_category': 'protein_coding'})"
   ]
  },
  {
   "cell_type": "code",
   "execution_count": 14,
   "id": "662b5cda-5e2d-4a51-83a6-a032d3c87511",
   "metadata": {},
   "outputs": [
    {
     "data": {
      "text/plain": [
       "[0.34586555392142465, 0.25119837661919536, 0.40293606945938]"
      ]
     },
     "execution_count": 14,
     "metadata": {},
     "output_type": "execute_result"
    }
   ],
   "source": []
  },
  {
   "cell_type": "code",
   "execution_count": null,
   "id": "1854c3a8-fcdf-4e5f-9c3d-a19d6fdbbb56",
   "metadata": {},
   "outputs": [],
   "source": []
  }
 ],
 "metadata": {
  "kernelspec": {
   "display_name": "Python 3",
   "language": "python",
   "name": "python3"
  },
  "language_info": {
   "codemirror_mode": {
    "name": "ipython",
    "version": 3
   },
   "file_extension": ".py",
   "mimetype": "text/x-python",
   "name": "python",
   "nbconvert_exporter": "python",
   "pygments_lexer": "ipython3",
   "version": "3.7.4"
  }
 },
 "nbformat": 4,
 "nbformat_minor": 5
}
