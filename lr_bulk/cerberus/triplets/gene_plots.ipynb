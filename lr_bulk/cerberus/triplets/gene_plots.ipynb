{
 "cells": [
  {
   "cell_type": "code",
   "execution_count": 1,
   "id": "e8101e35-8779-4562-a02e-ba28b8ff02f1",
   "metadata": {},
   "outputs": [],
   "source": [
    "import pandas as pd\n",
    "import numpy as np\n",
    "import scipy.stats as st\n",
    "import seaborn as sns\n",
    "import sys\n",
    "import os\n",
    "import gseapy as gp\n",
    "import pdb\n",
    "import copy\n",
    "from scipy import sparse\n",
    "import anndata\n",
    "import cerberus\n",
    "\n",
    "p = os.path.dirname(os.path.dirname(os.path.dirname(os.getcwd())))\n",
    "sys.path.append(p)\n",
    "\n",
    "from scripts.utils import *\n",
    "from scripts.plotting import *"
   ]
  },
  {
   "cell_type": "code",
   "execution_count": 7,
   "id": "0e16046d-89f1-497f-87f7-8de3ab55d3c9",
   "metadata": {},
   "outputs": [],
   "source": [
    "ca = cerberus.read('cerberus_annot_triplets.h5')"
   ]
  },
  {
   "cell_type": "code",
   "execution_count": 8,
   "id": "eae12e55-9793-42c6-99c3-0d791c413009",
   "metadata": {},
   "outputs": [
    {
     "data": {
      "text/plain": [
       "array(['lapa', 'v40', 'gtex', 'v29', 'all', 'obs_det', 'sample_det',\n",
       "       'obs_major', 'sample_major', 'obs_mm_det', 'obs_mm_major'],\n",
       "      dtype=object)"
      ]
     },
     "execution_count": 8,
     "metadata": {},
     "output_type": "execute_result"
    }
   ],
   "source": [
    "ca.triplets.source.unique()"
   ]
  },
  {
   "cell_type": "code",
   "execution_count": 9,
   "id": "5b38138c-992e-414c-9fe2-3243e4671ef7",
   "metadata": {},
   "outputs": [],
   "source": [
    "# mouse match stuff\n",
    "c_dict, order = get_biosample_colors()\n",
    "c_dict[np.nan] = 'k'\n",
    "\n",
    "mm_tissues = get_mouse_match_samples\n",
    "mm_tissues+= np.nan\n",
    "mmap = {'v40': '*', 'v29': 'x', 'obs_mm_det': '^', 'cerberus': '2'}\n",
    "subset = {'source': ['v40', 'obs_mm_det', 'sample_det']}\n",
    "\n",
    "# can't subset the way that I want because I want to use and and or logic...\n",
    "ca.triplets = ca.triplets.loc[ca.triplets.source.isin(subset['source'])]\n",
    "ca.triplets = ca.triplets.loc[ca.triplets['sample'].isin(mm_tissues)]"
   ]
  },
  {
   "cell_type": "code",
   "execution_count": 10,
   "id": "f49fdaf9-72e7-4a9e-b593-a39be1858df3",
   "metadata": {},
   "outputs": [
    {
     "name": "stdout",
     "output_type": "stream",
     "text": [
      "0.4\n",
      "12.0\n",
      "(2.1431999999999998, 2.0)\n"
     ]
    },
    {
     "data": {
      "image/png": "[encoded data removed]",
      "text/plain": [
       "<Figure size 154.31x144 with 1 Axes>"
      ]
     },
     "metadata": {},
     "output_type": "display_data"
    }
   ],
   "source": [
    "# Ctcf\n",
    "df = ca.plot_simplex(top='splicing_ratio', \n",
    "            gene='CTCF',\n",
    "            hue='sample',\n",
    "            cmap=c_dict,\n",
    "            size='gene_tpm', \n",
    "            log_size=True,\n",
    "            sectors=True,\n",
    "            marker_style='source',\n",
    "            mmap=mmap,\n",
    "            jitter=True,\n",
    "            legend=False,\n",
    "            subset=subset,\n",
    "            size_scale=0.2,\n",
    "            order_marker_sizes=True,\n",
    "            fname='figures/simplex_ctcf_mm.pdf')"
   ]
  },
  {
   "cell_type": "code",
   "execution_count": 11,
   "id": "28f0531d-94a2-4983-810b-7aecb820047a",
   "metadata": {},
   "outputs": [
    {
     "name": "stdout",
     "output_type": "stream",
     "text": [
      "0.4\n",
      "12.0\n",
      "(2.1431999999999998, 2.0)\n"
     ]
    },
    {
     "data": {
      "image/png": "[encoded data removed]",
      "text/plain": [
       "<Figure size 154.31x144 with 1 Axes>"
      ]
     },
     "metadata": {},
     "output_type": "display_data"
    }
   ],
   "source": [
    "# Tcf3\n",
    "df = ca.plot_simplex(top='splicing_ratio', \n",
    "            gene='TCF3',\n",
    "            hue='sample',\n",
    "            cmap=c_dict,\n",
    "            size='gene_tpm', \n",
    "            log_size=True,\n",
    "            sectors=True,\n",
    "            marker_style='source',\n",
    "            mmap=mmap,\n",
    "            jitter=True,\n",
    "            legend=False,\n",
    "            subset=subset,\n",
    "            size_scale=0.2,\n",
    "            order_marker_sizes=True,\n",
    "            fname='figures/simplex_tcf3_mm.pdf')"
   ]
  },
  {
   "cell_type": "code",
   "execution_count": null,
   "id": "d3127909-4064-4ef1-a3b4-4df942cce485",
   "metadata": {},
   "outputs": [],
   "source": []
  }
 ],
 "metadata": {
  "kernelspec": {
   "display_name": "Python 3",
   "language": "python",
   "name": "python3"
  },
  "language_info": {
   "codemirror_mode": {
    "name": "ipython",
    "version": 3
   },
   "file_extension": ".py",
   "mimetype": "text/x-python",
   "name": "python",
   "nbconvert_exporter": "python",
   "pygments_lexer": "ipython3",
   "version": "3.7.4"
  }
 },
 "nbformat": 4,
 "nbformat_minor": 5
}
