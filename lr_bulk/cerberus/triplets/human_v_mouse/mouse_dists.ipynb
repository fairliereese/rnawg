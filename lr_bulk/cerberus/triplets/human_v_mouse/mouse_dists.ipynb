{
 "cells": [
  {
   "cell_type": "code",
   "execution_count": 1,
   "id": "30c1e85a-1543-4187-b2ec-7d84627bd761",
   "metadata": {},
   "outputs": [],
   "source": [
    "import pandas as pd\n",
    "import numpy as np\n",
    "import scipy.stats as st\n",
    "import seaborn as sns\n",
    "import sys\n",
    "import os\n",
    "import gseapy as gp\n",
    "import pdb\n",
    "import copy\n",
    "from scipy import sparse\n",
    "import anndata\n",
    "import cerberus\n",
    "import scipy\n",
    "from pandarallel import pandarallel\n",
    "\n",
    "\n",
    "p = os.path.dirname(os.path.dirname(os.path.dirname(os.path.dirname(os.getcwd()))))\n",
    "sys.path.append(p)\n",
    "\n",
    "from scripts.utils import *\n",
    "from scripts.plotting import *"
   ]
  },
  {
   "cell_type": "code",
   "execution_count": 11,
   "id": "43fdf9a3-b69c-4143-ad9d-adcd0b32ec19",
   "metadata": {},
   "outputs": [],
   "source": [
    "h5 = '../../cerberus_annot.h5'\n",
    "h5_annot = '../cerberus_annot_triplets.h5'\n",
    "h5_annot_mouse = '../../../../mouse/lr_bulk/triplets/cerberus_annot_triplets.h5'\n",
    "swan_file = '../../swan/swan.p'\n",
    "mouse_swan_file = '../../../../mouse/lr_bulk/swan/swan.p'\n",
    "ab = '../../../talon/human_talon_abundance.tsv'\n",
    "mouse_filt_ab = '../../../../mouse/lr_bulk/cerberus/cerberus_filtered_abundance.tsv'\n",
    "filt_ab = '../../cerberus_filtered_abundance.tsv'\n",
    "obs_col = 'sample'\n",
    "min_tpm = 1\n",
    "major_set = '../../swan/isos_sample_gene_90.tsv'\n",
    "major_set_mouse = '../../swan/isos_sample_gene_90.tsv'\n",
    "mm_tissues = get_mouse_match_samples()\n",
    "fig_dir = '/Users/fairliereese/mortazavi_lab/documents/rnawg/fig5'\n",
    "orth_table = '../../../../refs/biomart_human_to_mouse.tsv'"
   ]
  },
  {
   "cell_type": "code",
   "execution_count": 3,
   "id": "a2f7a835-0715-48d7-b51f-c82d9362c940",
   "metadata": {},
   "outputs": [
    {
     "name": "stdout",
     "output_type": "stream",
     "text": [
      "Read in graph from ../../swan/swan.p\n",
      "Read in graph from ../../../../mouse/lr_bulk/swan/swan.p\n"
     ]
    }
   ],
   "source": [
    "ca = cerberus.read(h5_annot)\n",
    "m_ca = cerberus.read(h5_annot_mouse)\n",
    "sg = swan.read(swan_file)\n",
    "m_sg = swan.read(mouse_swan_file)"
   ]
  },
  {
   "cell_type": "code",
   "execution_count": 4,
   "id": "7ec15254-3915-4923-b38f-1079262a8dbb",
   "metadata": {},
   "outputs": [],
   "source": [
    "# def get_human_mouse_gid_table():\n",
    "#     # get matching gids from human and mouse\n",
    "#     df = pd.read_csv('../../../../refs/biomart_human_to_mouse.tsv', sep='\\t')\n",
    "\n",
    "#     # drop nans in either human or mouse\n",
    "#     df = df[['Gene stable ID', 'Mouse gene stable ID']]\n",
    "#     df = df.loc[~df['Gene stable ID'].isnull()]\n",
    "#     df = df.loc[~df['Mouse gene stable ID'].isnull()]    \n",
    "    \n",
    "#     df = df.drop_duplicates()\n",
    "#     return df"
   ]
  },
  {
   "cell_type": "markdown",
   "id": "81d2bcb7-8ebb-4f8c-8b49-b5a5d31eabea",
   "metadata": {},
   "source": [
    "## Compare centroid for sample_det for each gene to sample_det in mouse"
   ]
  },
  {
   "cell_type": "code",
   "execution_count": 5,
   "id": "b01b6643-c96d-4cff-a3b0-f0f32de2bdd5",
   "metadata": {},
   "outputs": [],
   "source": [
    "def get_human_df(ca):\n",
    "    # compute centroid for each mm sample / gene pairing for the different sources\n",
    "    source = 'sample_det'\n",
    "    df = ca.triplets.loc[(ca.triplets.source == source)&(ca.triplets['sample'].isin(mm_tissues))].copy(deep=True)\n",
    "    # df = cerberus.compute_simplex_coords(df, 'splicing_ratio')\n",
    "    keep_cols = ['gname', 'gid', 'tss_ratio', 'tes_ratio', 'spl_ratio', 'n_iso']\n",
    "    df = df[keep_cols]\n",
    "    df = df.groupby(['gname', 'gid']).mean().reset_index()\n",
    "    df = assign_sector(df)\n",
    "    \n",
    "    # only protein coding genes\n",
    "    gene_df, _, _ = get_gtf_info(how='gene', ver='v40_cerberus', add_stable_gid=True)\n",
    "    gene_df = gene_df[['gid_stable', 'biotype']]\n",
    "    df = df.merge(gene_df, how='left', left_on='gid', right_on='gid_stable')\n",
    "    df = df.loc[df.biotype=='protein_coding']\n",
    "    \n",
    "    return df"
   ]
  },
  {
   "cell_type": "code",
   "execution_count": 6,
   "id": "b85d0205-58f5-415f-8617-849403946440",
   "metadata": {},
   "outputs": [],
   "source": [
    "def get_mouse_df(ca):\n",
    "    # compute centroid for each mm sample / gene pairing for the different sources\n",
    "    source = 'sample_det'\n",
    "    df = ca.triplets.loc[(ca.triplets.source == source)].copy(deep=True)\n",
    "    df = cerberus.compute_simplex_coords(df, 'splicing_ratio')\n",
    "    keep_cols = ['gname', 'gid', 'tss_ratio', 'tes_ratio', 'spl_ratio', 'n_iso']\n",
    "    df = df[keep_cols]\n",
    "    df = df.groupby(['gname', 'gid']).mean().reset_index()\n",
    "    df = assign_sector(df)\n",
    "    \n",
    "    # only protein coding genes\n",
    "    gene_df, _, _ = get_gtf_info(how='gene', ver='vM25_cerberus', add_stable_gid=True)\n",
    "    gene_df = gene_df[['gid_stable', 'biotype']]\n",
    "    df = df.merge(gene_df, how='left', left_on='gid', right_on='gid_stable')\n",
    "    df = df.loc[df.biotype=='protein_coding']\n",
    "    \n",
    "    return df"
   ]
  },
  {
   "cell_type": "code",
   "execution_count": 7,
   "id": "5d8e30fc-f01c-4f06-940e-ed54a0194b1a",
   "metadata": {},
   "outputs": [
    {
     "name": "stdout",
     "output_type": "stream",
     "text": [
      "16090\n",
      "17334\n"
     ]
    }
   ],
   "source": [
    "# compute centroid for each mm sample / gene pairing for the different sources\n",
    "h_df = get_human_df(ca)\n",
    "m_df = get_mouse_df(m_ca)\n",
    "\n",
    "print(len(h_df.index))\n",
    "print(len(m_df.index))"
   ]
  },
  {
   "cell_type": "code",
   "execution_count": 12,
   "id": "f24aebe6-6bbc-46ac-9c08-6efcfed1a241",
   "metadata": {},
   "outputs": [
    {
     "name": "stdout",
     "output_type": "stream",
     "text": [
      "16734\n"
     ]
    }
   ],
   "source": [
    "mh_df = get_human_mouse_gid_table(orth_table)\n",
    "print(len(mh_df.index))"
   ]
  },
  {
   "cell_type": "code",
   "execution_count": 13,
   "id": "76289f42-1e48-4fc1-a238-c03a937b07cd",
   "metadata": {},
   "outputs": [],
   "source": [
    "# merge in mouse gids that we need\n",
    "df = h_df.merge(mh_df, how='left', left_on='gid', right_on='Gene stable ID')\n",
    "\n",
    "# merge in mouse data\n",
    "df = df.merge(m_df, how='inner', left_on='Mouse gene stable ID', right_on='gid', suffixes=('_human', '_mouse'))"
   ]
  },
  {
   "cell_type": "code",
   "execution_count": 14,
   "id": "80ef2779-0194-49ad-b678-31994b50f1dc",
   "metadata": {},
   "outputs": [
    {
     "data": {
      "text/html": [
       "<div>\n",
       "<style scoped>\n",
       "    .dataframe tbody tr th:only-of-type {\n",
       "        vertical-align: middle;\n",
       "    }\n",
       "\n",
       "    .dataframe tbody tr th {\n",
       "        vertical-align: top;\n",
       "    }\n",
       "\n",
       "    .dataframe thead th {\n",
       "        text-align: right;\n",
       "    }\n",
       "</style>\n",
       "<table border=\"1\" class=\"dataframe\">\n",
       "  <thead>\n",
       "    <tr style=\"text-align: right;\">\n",
       "      <th></th>\n",
       "      <th>gname_human</th>\n",
       "      <th>gid_human</th>\n",
       "      <th>tss_ratio_human</th>\n",
       "      <th>tes_ratio_human</th>\n",
       "      <th>spl_ratio_human</th>\n",
       "      <th>n_iso_human</th>\n",
       "      <th>sector_human</th>\n",
       "      <th>gid_stable_human</th>\n",
       "      <th>biotype_human</th>\n",
       "      <th>Gene stable ID</th>\n",
       "      <th>Mouse gene stable ID</th>\n",
       "      <th>gname_mouse</th>\n",
       "      <th>gid_mouse</th>\n",
       "      <th>tss_ratio_mouse</th>\n",
       "      <th>tes_ratio_mouse</th>\n",
       "      <th>spl_ratio_mouse</th>\n",
       "      <th>n_iso_mouse</th>\n",
       "      <th>sector_mouse</th>\n",
       "      <th>gid_stable_mouse</th>\n",
       "      <th>biotype_mouse</th>\n",
       "    </tr>\n",
       "  </thead>\n",
       "  <tbody>\n",
       "  </tbody>\n",
       "</table>\n",
       "</div>"
      ],
      "text/plain": [
       "Empty DataFrame\n",
       "Columns: [gname_human, gid_human, tss_ratio_human, tes_ratio_human, spl_ratio_human, n_iso_human, sector_human, gid_stable_human, biotype_human, Gene stable ID, Mouse gene stable ID, gname_mouse, gid_mouse, tss_ratio_mouse, tes_ratio_mouse, spl_ratio_mouse, n_iso_mouse, sector_mouse, gid_stable_mouse, biotype_mouse]\n",
       "Index: []"
      ]
     },
     "execution_count": 14,
     "metadata": {},
     "output_type": "execute_result"
    }
   ],
   "source": [
    "df.loc[df.gid_human.duplicated(keep=False)].sort_values(by='gid_human')"
   ]
  },
  {
   "cell_type": "code",
   "execution_count": 15,
   "id": "99a8751d-bc96-4f1e-8399-e57ea3e27582",
   "metadata": {},
   "outputs": [],
   "source": [
    "# compute distances\n",
    "pandarallel.initialize(nb_workers=8, verbose=1)\n",
    "df['dist'] = df.parallel_apply(simplex_dist,\n",
    "                               args=('_human', '_mouse'),\n",
    "                               axis=1)"
   ]
  },
  {
   "cell_type": "code",
   "execution_count": 16,
   "id": "2b9c6585-4932-41f5-8146-16fec122b4e4",
   "metadata": {},
   "outputs": [
    {
     "data": {
      "text/html": [
       "<div>\n",
       "<style scoped>\n",
       "    .dataframe tbody tr th:only-of-type {\n",
       "        vertical-align: middle;\n",
       "    }\n",
       "\n",
       "    .dataframe tbody tr th {\n",
       "        vertical-align: top;\n",
       "    }\n",
       "\n",
       "    .dataframe thead th {\n",
       "        text-align: right;\n",
       "    }\n",
       "</style>\n",
       "<table border=\"1\" class=\"dataframe\">\n",
       "  <thead>\n",
       "    <tr style=\"text-align: right;\">\n",
       "      <th></th>\n",
       "      <th>gname_human</th>\n",
       "      <th>gid_human</th>\n",
       "      <th>tss_ratio_human</th>\n",
       "      <th>tes_ratio_human</th>\n",
       "      <th>spl_ratio_human</th>\n",
       "      <th>n_iso_human</th>\n",
       "      <th>sector_human</th>\n",
       "      <th>gid_stable_human</th>\n",
       "      <th>biotype_human</th>\n",
       "      <th>Gene stable ID</th>\n",
       "      <th>...</th>\n",
       "      <th>gname_mouse</th>\n",
       "      <th>gid_mouse</th>\n",
       "      <th>tss_ratio_mouse</th>\n",
       "      <th>tes_ratio_mouse</th>\n",
       "      <th>spl_ratio_mouse</th>\n",
       "      <th>n_iso_mouse</th>\n",
       "      <th>sector_mouse</th>\n",
       "      <th>gid_stable_mouse</th>\n",
       "      <th>biotype_mouse</th>\n",
       "      <th>dist</th>\n",
       "    </tr>\n",
       "  </thead>\n",
       "  <tbody>\n",
       "    <tr>\n",
       "      <th>0</th>\n",
       "      <td>A1BG</td>\n",
       "      <td>ENSG00000121410</td>\n",
       "      <td>0.306397</td>\n",
       "      <td>0.427609</td>\n",
       "      <td>0.265993</td>\n",
       "      <td>1.444444</td>\n",
       "      <td>mixed</td>\n",
       "      <td>ENSG00000121410</td>\n",
       "      <td>protein_coding</td>\n",
       "      <td>ENSG00000121410</td>\n",
       "      <td>...</td>\n",
       "      <td>A1bg</td>\n",
       "      <td>ENSMUSG00000022347</td>\n",
       "      <td>0.333333</td>\n",
       "      <td>0.333333</td>\n",
       "      <td>0.333333</td>\n",
       "      <td>1.000000</td>\n",
       "      <td>simple</td>\n",
       "      <td>ENSMUSG00000022347</td>\n",
       "      <td>protein_coding</td>\n",
       "      <td>0.071462</td>\n",
       "    </tr>\n",
       "    <tr>\n",
       "      <th>1</th>\n",
       "      <td>A2M</td>\n",
       "      <td>ENSG00000175899</td>\n",
       "      <td>0.340071</td>\n",
       "      <td>0.197813</td>\n",
       "      <td>0.462116</td>\n",
       "      <td>5.166667</td>\n",
       "      <td>mixed</td>\n",
       "      <td>ENSG00000175899</td>\n",
       "      <td>protein_coding</td>\n",
       "      <td>ENSG00000175899</td>\n",
       "      <td>...</td>\n",
       "      <td>A2m</td>\n",
       "      <td>ENSMUSG00000030111</td>\n",
       "      <td>0.333333</td>\n",
       "      <td>0.333333</td>\n",
       "      <td>0.333333</td>\n",
       "      <td>1.000000</td>\n",
       "      <td>simple</td>\n",
       "      <td>ENSMUSG00000030111</td>\n",
       "      <td>protein_coding</td>\n",
       "      <td>0.118292</td>\n",
       "    </tr>\n",
       "    <tr>\n",
       "      <th>2</th>\n",
       "      <td>A4GALT</td>\n",
       "      <td>ENSG00000128274</td>\n",
       "      <td>0.335897</td>\n",
       "      <td>0.232508</td>\n",
       "      <td>0.431595</td>\n",
       "      <td>4.000000</td>\n",
       "      <td>mixed</td>\n",
       "      <td>ENSG00000128274</td>\n",
       "      <td>protein_coding</td>\n",
       "      <td>ENSG00000128274</td>\n",
       "      <td>...</td>\n",
       "      <td>A4galt</td>\n",
       "      <td>ENSMUSG00000047878</td>\n",
       "      <td>0.262843</td>\n",
       "      <td>0.402434</td>\n",
       "      <td>0.334723</td>\n",
       "      <td>1.846154</td>\n",
       "      <td>mixed</td>\n",
       "      <td>ENSMUSG00000047878</td>\n",
       "      <td>protein_coding</td>\n",
       "      <td>0.129663</td>\n",
       "    </tr>\n",
       "    <tr>\n",
       "      <th>3</th>\n",
       "      <td>AAAS</td>\n",
       "      <td>ENSG00000094914</td>\n",
       "      <td>0.239435</td>\n",
       "      <td>0.170247</td>\n",
       "      <td>0.590319</td>\n",
       "      <td>4.333333</td>\n",
       "      <td>splicing</td>\n",
       "      <td>ENSG00000094914</td>\n",
       "      <td>protein_coding</td>\n",
       "      <td>ENSG00000094914</td>\n",
       "      <td>...</td>\n",
       "      <td>Aaas</td>\n",
       "      <td>ENSMUSG00000036678</td>\n",
       "      <td>0.265591</td>\n",
       "      <td>0.265591</td>\n",
       "      <td>0.468817</td>\n",
       "      <td>1.935484</td>\n",
       "      <td>mixed</td>\n",
       "      <td>ENSMUSG00000036678</td>\n",
       "      <td>protein_coding</td>\n",
       "      <td>0.095331</td>\n",
       "    </tr>\n",
       "    <tr>\n",
       "      <th>4</th>\n",
       "      <td>AACS</td>\n",
       "      <td>ENSG00000081760</td>\n",
       "      <td>0.223280</td>\n",
       "      <td>0.175661</td>\n",
       "      <td>0.601058</td>\n",
       "      <td>4.333333</td>\n",
       "      <td>splicing</td>\n",
       "      <td>ENSG00000081760</td>\n",
       "      <td>protein_coding</td>\n",
       "      <td>ENSG00000081760</td>\n",
       "      <td>...</td>\n",
       "      <td>Aacs</td>\n",
       "      <td>ENSMUSG00000029482</td>\n",
       "      <td>0.310955</td>\n",
       "      <td>0.228864</td>\n",
       "      <td>0.460181</td>\n",
       "      <td>2.451613</td>\n",
       "      <td>mixed</td>\n",
       "      <td>ENSMUSG00000029482</td>\n",
       "      <td>protein_coding</td>\n",
       "      <td>0.100284</td>\n",
       "    </tr>\n",
       "  </tbody>\n",
       "</table>\n",
       "<p>5 rows × 21 columns</p>\n",
       "</div>"
      ],
      "text/plain": [
       "  gname_human        gid_human  tss_ratio_human  tes_ratio_human  \\\n",
       "0        A1BG  ENSG00000121410         0.306397         0.427609   \n",
       "1         A2M  ENSG00000175899         0.340071         0.197813   \n",
       "2      A4GALT  ENSG00000128274         0.335897         0.232508   \n",
       "3        AAAS  ENSG00000094914         0.239435         0.170247   \n",
       "4        AACS  ENSG00000081760         0.223280         0.175661   \n",
       "\n",
       "   spl_ratio_human  n_iso_human sector_human gid_stable_human   biotype_human  \\\n",
       "0         0.265993     1.444444        mixed  ENSG00000121410  protein_coding   \n",
       "1         0.462116     5.166667        mixed  ENSG00000175899  protein_coding   \n",
       "2         0.431595     4.000000        mixed  ENSG00000128274  protein_coding   \n",
       "3         0.590319     4.333333     splicing  ENSG00000094914  protein_coding   \n",
       "4         0.601058     4.333333     splicing  ENSG00000081760  protein_coding   \n",
       "\n",
       "    Gene stable ID  ... gname_mouse           gid_mouse tss_ratio_mouse  \\\n",
       "0  ENSG00000121410  ...        A1bg  ENSMUSG00000022347        0.333333   \n",
       "1  ENSG00000175899  ...         A2m  ENSMUSG00000030111        0.333333   \n",
       "2  ENSG00000128274  ...      A4galt  ENSMUSG00000047878        0.262843   \n",
       "3  ENSG00000094914  ...        Aaas  ENSMUSG00000036678        0.265591   \n",
       "4  ENSG00000081760  ...        Aacs  ENSMUSG00000029482        0.310955   \n",
       "\n",
       "   tes_ratio_mouse  spl_ratio_mouse  n_iso_mouse  sector_mouse  \\\n",
       "0         0.333333         0.333333     1.000000        simple   \n",
       "1         0.333333         0.333333     1.000000        simple   \n",
       "2         0.402434         0.334723     1.846154         mixed   \n",
       "3         0.265591         0.468817     1.935484         mixed   \n",
       "4         0.228864         0.460181     2.451613         mixed   \n",
       "\n",
       "     gid_stable_mouse   biotype_mouse      dist  \n",
       "0  ENSMUSG00000022347  protein_coding  0.071462  \n",
       "1  ENSMUSG00000030111  protein_coding  0.118292  \n",
       "2  ENSMUSG00000047878  protein_coding  0.129663  \n",
       "3  ENSMUSG00000036678  protein_coding  0.095331  \n",
       "4  ENSMUSG00000029482  protein_coding  0.100284  \n",
       "\n",
       "[5 rows x 21 columns]"
      ]
     },
     "execution_count": 16,
     "metadata": {},
     "output_type": "execute_result"
    }
   ],
   "source": [
    "df.head()"
   ]
  },
  {
   "cell_type": "code",
   "execution_count": 17,
   "id": "be851bbf-131b-4813-a850-1d742098a0a2",
   "metadata": {},
   "outputs": [
    {
     "data": {
      "text/plain": [
       "13536"
      ]
     },
     "execution_count": 17,
     "metadata": {},
     "output_type": "execute_result"
    }
   ],
   "source": [
    "len(df.index)"
   ]
  },
  {
   "cell_type": "code",
   "execution_count": null,
   "id": "54a982d4-6bc8-427c-a553-02863a849d17",
   "metadata": {},
   "outputs": [],
   "source": [
    "df.to_csv('sample_det_mouse_v_human_dist.tsv', sep='\\t', index=False)"
   ]
  },
  {
   "cell_type": "code",
   "execution_count": null,
   "id": "39ad5aa2-d872-411d-823d-443a8da2252d",
   "metadata": {},
   "outputs": [],
   "source": [
    "df.sort_values(by='dist', ascending=False)[['gname_human', 'dist', 'sector_human', 'sector_mouse']].head(40).tail(20)"
   ]
  },
  {
   "cell_type": "code",
   "execution_count": null,
   "id": "66f38f10-965b-4264-8fd8-6294dd4b27ab",
   "metadata": {},
   "outputs": [],
   "source": []
  },
  {
   "cell_type": "code",
   "execution_count": null,
   "id": "6bf66f43-d2e7-4c73-a80f-5ac3ccdb0d0c",
   "metadata": {},
   "outputs": [],
   "source": []
  },
  {
   "cell_type": "code",
   "execution_count": null,
   "id": "3419d30d-9c01-433a-8f13-326c8ede220d",
   "metadata": {},
   "outputs": [],
   "source": []
  },
  {
   "cell_type": "markdown",
   "id": "095ec853-b4a9-4a52-a80a-86bd43988aa5",
   "metadata": {},
   "source": [
    "## Looking at the results"
   ]
  },
  {
   "cell_type": "code",
   "execution_count": 16,
   "id": "515b1455-41ad-417a-bc64-98155d4acedc",
   "metadata": {},
   "outputs": [],
   "source": [
    "df = pd.read_csv('sample_det_mouse_v_human_dist.tsv', sep='\\t')"
   ]
  },
  {
   "cell_type": "code",
   "execution_count": 17,
   "id": "f51518b3-9999-48d2-a908-822bc0d0f1c1",
   "metadata": {},
   "outputs": [
    {
     "data": {
      "text/plain": [
       "<seaborn.axisgrid.FacetGrid at 0x7fd6ea518390>"
      ]
     },
     "execution_count": 17,
     "metadata": {},
     "output_type": "execute_result"
    },
    {
     "data": {
      "image/png": "[encoded data removed]",
      "text/plain": [
       "<Figure size 360x360 with 1 Axes>"
      ]
     },
     "metadata": {
      "needs_background": "light"
     },
     "output_type": "display_data"
    }
   ],
   "source": [
    "sns.displot(data=df, x='dist', kind='kde')"
   ]
  },
  {
   "cell_type": "code",
   "execution_count": 18,
   "id": "1714a2ed-6dd1-4716-8706-1687a911e906",
   "metadata": {},
   "outputs": [
    {
     "data": {
      "text/html": [
       "<div>\n",
       "<style scoped>\n",
       "    .dataframe tbody tr th:only-of-type {\n",
       "        vertical-align: middle;\n",
       "    }\n",
       "\n",
       "    .dataframe tbody tr th {\n",
       "        vertical-align: top;\n",
       "    }\n",
       "\n",
       "    .dataframe thead th {\n",
       "        text-align: right;\n",
       "    }\n",
       "</style>\n",
       "<table border=\"1\" class=\"dataframe\">\n",
       "  <thead>\n",
       "    <tr style=\"text-align: right;\">\n",
       "      <th></th>\n",
       "      <th>gname_human</th>\n",
       "      <th>gid_human</th>\n",
       "      <th>tss_ratio_human</th>\n",
       "      <th>tes_ratio_human</th>\n",
       "      <th>spl_ratio_human</th>\n",
       "      <th>n_iso_human</th>\n",
       "      <th>sector_human</th>\n",
       "      <th>gid_stable_human</th>\n",
       "      <th>biotype_human</th>\n",
       "      <th>Gene stable ID</th>\n",
       "      <th>...</th>\n",
       "      <th>gname_mouse</th>\n",
       "      <th>gid_mouse</th>\n",
       "      <th>tss_ratio_mouse</th>\n",
       "      <th>tes_ratio_mouse</th>\n",
       "      <th>spl_ratio_mouse</th>\n",
       "      <th>n_iso_mouse</th>\n",
       "      <th>sector_mouse</th>\n",
       "      <th>gid_stable_mouse</th>\n",
       "      <th>biotype_mouse</th>\n",
       "      <th>dist</th>\n",
       "    </tr>\n",
       "  </thead>\n",
       "  <tbody>\n",
       "    <tr>\n",
       "      <th>34</th>\n",
       "      <td>ARF4</td>\n",
       "      <td>ENSG00000168374</td>\n",
       "      <td>0.206614</td>\n",
       "      <td>0.206614</td>\n",
       "      <td>0.586772</td>\n",
       "      <td>3.111111</td>\n",
       "      <td>splicing</td>\n",
       "      <td>ENSG00000168374</td>\n",
       "      <td>protein_coding</td>\n",
       "      <td>ENSG00000168374</td>\n",
       "      <td>...</td>\n",
       "      <td>Arf4</td>\n",
       "      <td>ENSMUSG00000021877</td>\n",
       "      <td>0.315754</td>\n",
       "      <td>0.547987</td>\n",
       "      <td>0.136259</td>\n",
       "      <td>3.387097</td>\n",
       "      <td>tes</td>\n",
       "      <td>ENSMUSG00000021877</td>\n",
       "      <td>protein_coding</td>\n",
       "      <td>0.348437</td>\n",
       "    </tr>\n",
       "  </tbody>\n",
       "</table>\n",
       "<p>1 rows × 21 columns</p>\n",
       "</div>"
      ],
      "text/plain": [
       "   gname_human        gid_human  tss_ratio_human  tes_ratio_human  \\\n",
       "34        ARF4  ENSG00000168374         0.206614         0.206614   \n",
       "\n",
       "    spl_ratio_human  n_iso_human sector_human gid_stable_human  \\\n",
       "34         0.586772     3.111111     splicing  ENSG00000168374   \n",
       "\n",
       "     biotype_human   Gene stable ID  ... gname_mouse           gid_mouse  \\\n",
       "34  protein_coding  ENSG00000168374  ...        Arf4  ENSMUSG00000021877   \n",
       "\n",
       "   tss_ratio_mouse  tes_ratio_mouse  spl_ratio_mouse  n_iso_mouse  \\\n",
       "34        0.315754         0.547987         0.136259     3.387097   \n",
       "\n",
       "    sector_mouse    gid_stable_mouse   biotype_mouse      dist  \n",
       "34           tes  ENSMUSG00000021877  protein_coding  0.348437  \n",
       "\n",
       "[1 rows x 21 columns]"
      ]
     },
     "execution_count": 18,
     "metadata": {},
     "output_type": "execute_result"
    }
   ],
   "source": [
    "df = df.sort_values(by='dist', ascending=False)\n",
    "df.index = [i for i in range(len(df.index))]\n",
    "df.loc[df.gname_human=='ARF4']"
   ]
  },
  {
   "cell_type": "code",
   "execution_count": 19,
   "id": "d4481fe8-5880-4556-a659-26ca46f8118b",
   "metadata": {},
   "outputs": [
    {
     "name": "stdout",
     "output_type": "stream",
     "text": [
      "7.20% of protein-coding genes in mouse and human (1099/15258) have a distance >= 0.2 between species\n"
     ]
    }
   ],
   "source": [
    "# how many genes have far distances in the simplex between human and mouse?\n",
    "thresh = 0.2\n",
    "n = len(df.index)\n",
    "n_num = len(df.loc[df.dist >= thresh].index)\n",
    "print('{:.2f}% of protein-coding genes in mouse and human ({}/{}) have a distance >= {} between species'.format((n_num/n)*100,n_num,n,thresh))"
   ]
  },
  {
   "cell_type": "code",
   "execution_count": 20,
   "id": "2800497b-f5ff-4054-8036-30ea3ec30599",
   "metadata": {},
   "outputs": [
    {
     "name": "stdout",
     "output_type": "stream",
     "text": [
      "0.83% of protein-coding genes in mouse and human (126/15258) have a distance >= 0.3 between species\n"
     ]
    }
   ],
   "source": [
    "# how many genes have far distances in the simplex between human and mouse?\n",
    "thresh = 0.3\n",
    "n = len(df.index)\n",
    "n_num = len(df.loc[df.dist >= thresh].index)\n",
    "print('{:.2f}% of protein-coding genes in mouse and human ({}/{}) have a distance >= {} between species'.format((n_num/n)*100,n_num,n,thresh))"
   ]
  },
  {
   "cell_type": "code",
   "execution_count": 21,
   "id": "5dc58ebc-081d-4fa3-bae5-f2667404bd22",
   "metadata": {},
   "outputs": [
    {
     "name": "stdout",
     "output_type": "stream",
     "text": [
      "/Users/fairliereese/mortazavi_lab/documents/rnawg/fig5/mouse_v_human_sample_det_centroid_zscore_dist.pdf\n"
     ]
    },
    {
     "data": {
      "image/png": "[encoded data removed]",
      "text/plain": [
       "<Figure size 360x360 with 1 Axes>"
      ]
     },
     "metadata": {
      "needs_background": "light"
     },
     "output_type": "display_data"
    }
   ],
   "source": [
    "# calc z scores and use these to quantiy\n",
    "sns.set_context('paper', font_scale=2)\n",
    "mpl.rcParams['font.family'] = 'Arial'\n",
    "mpl.rcParams['pdf.fonttype'] = 42\n",
    "df['z_score'] = st.zscore(df.dist.tolist())\n",
    "\n",
    "ax = sns.displot(data=df, x='z_score', kind='kde', linewidth=3, color='#81c236')\n",
    "xlabel = 'Jensen-Shannon distance z-score'\n",
    "ylabel = 'KDE'\n",
    "ax.set(xlabel=xlabel, ylabel=ylabel)\n",
    "fname = '{}/mouse_v_human_sample_det_centroid_zscore_dist.pdf'.format(fig_dir)\n",
    "print(fname)\n",
    "plt.savefig(fname, dpi=300)"
   ]
  },
  {
   "cell_type": "code",
   "execution_count": 33,
   "id": "44b9bb7f-30f1-42d8-810d-3718b5e484af",
   "metadata": {},
   "outputs": [
    {
     "data": {
      "text/plain": [
       "<seaborn.axisgrid.FacetGrid at 0x7fd49b7a7a90>"
      ]
     },
     "execution_count": 33,
     "metadata": {},
     "output_type": "execute_result"
    },
    {
     "data": {
      "image/png": "[encoded data removed]",
      "text/plain": [
       "<Figure size 360x360 with 1 Axes>"
      ]
     },
     "metadata": {
      "needs_background": "light"
     },
     "output_type": "display_data"
    }
   ],
   "source": [
    "sns.displot(data=df, x='z_score', kind='kde')"
   ]
  },
  {
   "cell_type": "code",
   "execution_count": 34,
   "id": "e2e621b3-2a38-43ba-a3fc-ece4cab7f60c",
   "metadata": {},
   "outputs": [
    {
     "name": "stdout",
     "output_type": "stream",
     "text": [
      "4.29% of protein-coding genes in mouse and human (655/15258) have a zscore >= 2 between species\n"
     ]
    }
   ],
   "source": [
    "# how many genes have far distances in the simplex between human and mouse?\n",
    "thresh = 2\n",
    "n = len(df.index)\n",
    "n_num = len(df.loc[df.z_score >= thresh].index)\n",
    "print('{:.2f}% of protein-coding genes in mouse and human ({}/{}) have a zscore >= {} between species'.format((n_num/n)*100,n_num,n,thresh))"
   ]
  },
  {
   "cell_type": "code",
   "execution_count": 15,
   "id": "645ef2a1-7198-4dd3-91f8-12e15d26706b",
   "metadata": {},
   "outputs": [
    {
     "name": "stdout",
     "output_type": "stream",
     "text": [
      "1.23% of protein-coding genes in mouse and human (2/162) have a zscore >= 3 between species\n"
     ]
    }
   ],
   "source": [
    "# how many genes have far distances in the simplex between human and mouse?\n",
    "thresh = 3\n",
    "n = len(df.index)\n",
    "n_num = len(df.loc[df.z_score >= thresh].index)\n",
    "print('{:.2f}% of protein-coding genes in mouse and human ({}/{}) have a zscore >= {} between species'.format((n_num/n)*100,n_num,n,thresh))"
   ]
  },
  {
   "cell_type": "code",
   "execution_count": 35,
   "id": "a8386b61-0178-449a-8755-77889f8f1b34",
   "metadata": {},
   "outputs": [
    {
     "data": {
      "text/html": [
       "<div>\n",
       "<style scoped>\n",
       "    .dataframe tbody tr th:only-of-type {\n",
       "        vertical-align: middle;\n",
       "    }\n",
       "\n",
       "    .dataframe tbody tr th {\n",
       "        vertical-align: top;\n",
       "    }\n",
       "\n",
       "    .dataframe thead th {\n",
       "        text-align: right;\n",
       "    }\n",
       "</style>\n",
       "<table border=\"1\" class=\"dataframe\">\n",
       "  <thead>\n",
       "    <tr style=\"text-align: right;\">\n",
       "      <th></th>\n",
       "      <th>gname_human</th>\n",
       "      <th>gid_human</th>\n",
       "      <th>tss_ratio_human</th>\n",
       "      <th>tes_ratio_human</th>\n",
       "      <th>spl_ratio_human</th>\n",
       "      <th>n_iso_human</th>\n",
       "      <th>sector_human</th>\n",
       "      <th>gid_stable_human</th>\n",
       "      <th>biotype_human</th>\n",
       "      <th>Gene stable ID</th>\n",
       "      <th>...</th>\n",
       "      <th>gid_mouse</th>\n",
       "      <th>tss_ratio_mouse</th>\n",
       "      <th>tes_ratio_mouse</th>\n",
       "      <th>spl_ratio_mouse</th>\n",
       "      <th>n_iso_mouse</th>\n",
       "      <th>sector_mouse</th>\n",
       "      <th>gid_stable_mouse</th>\n",
       "      <th>biotype_mouse</th>\n",
       "      <th>dist</th>\n",
       "      <th>z_score</th>\n",
       "    </tr>\n",
       "  </thead>\n",
       "  <tbody>\n",
       "    <tr>\n",
       "      <th>34</th>\n",
       "      <td>ARF4</td>\n",
       "      <td>ENSG00000168374</td>\n",
       "      <td>0.206614</td>\n",
       "      <td>0.206614</td>\n",
       "      <td>0.586772</td>\n",
       "      <td>3.111111</td>\n",
       "      <td>splicing</td>\n",
       "      <td>ENSG00000168374</td>\n",
       "      <td>protein_coding</td>\n",
       "      <td>ENSG00000168374</td>\n",
       "      <td>...</td>\n",
       "      <td>ENSMUSG00000021877</td>\n",
       "      <td>0.315754</td>\n",
       "      <td>0.547987</td>\n",
       "      <td>0.136259</td>\n",
       "      <td>3.387097</td>\n",
       "      <td>tes</td>\n",
       "      <td>ENSMUSG00000021877</td>\n",
       "      <td>protein_coding</td>\n",
       "      <td>0.348437</td>\n",
       "      <td>3.924843</td>\n",
       "    </tr>\n",
       "  </tbody>\n",
       "</table>\n",
       "<p>1 rows × 22 columns</p>\n",
       "</div>"
      ],
      "text/plain": [
       "   gname_human        gid_human  tss_ratio_human  tes_ratio_human  \\\n",
       "34        ARF4  ENSG00000168374         0.206614         0.206614   \n",
       "\n",
       "    spl_ratio_human  n_iso_human sector_human gid_stable_human  \\\n",
       "34         0.586772     3.111111     splicing  ENSG00000168374   \n",
       "\n",
       "     biotype_human   Gene stable ID  ...           gid_mouse tss_ratio_mouse  \\\n",
       "34  protein_coding  ENSG00000168374  ...  ENSMUSG00000021877        0.315754   \n",
       "\n",
       "   tes_ratio_mouse  spl_ratio_mouse  n_iso_mouse  sector_mouse  \\\n",
       "34        0.547987         0.136259     3.387097           tes   \n",
       "\n",
       "      gid_stable_mouse   biotype_mouse      dist   z_score  \n",
       "34  ENSMUSG00000021877  protein_coding  0.348437  3.924843  \n",
       "\n",
       "[1 rows x 22 columns]"
      ]
     },
     "execution_count": 35,
     "metadata": {},
     "output_type": "execute_result"
    }
   ],
   "source": [
    "df.loc[df.gname_human == 'ARF4']"
   ]
  },
  {
   "cell_type": "markdown",
   "id": "73c11449-d179-4185-a7c5-8efc9c0a464a",
   "metadata": {},
   "source": [
    "## GO on z-scores >= 3"
   ]
  },
  {
   "cell_type": "code",
   "execution_count": 24,
   "id": "670bf314-e65a-4396-8f03-0332f39c91a0",
   "metadata": {},
   "outputs": [],
   "source": [
    "thresh = 3\n",
    "opref = 'human_mouse_z_score_genes_{}'.format(thresh)\n",
    "df = df.loc[df.z_score >= thresh]\n",
    "gids = df.gid_human.tolist()"
   ]
  },
  {
   "cell_type": "code",
   "execution_count": 25,
   "id": "edc27eb6-8e8f-4653-92f2-47bc03496ce3",
   "metadata": {},
   "outputs": [],
   "source": [
    "dbs = ['GO_Biological_Process_2021',\n",
    "       'GO_Cellular_Component_2021',\n",
    "       'GO_Molecular_Function_2021',\n",
    "       'KEGG_2021_Human']\n",
    "bm = gp.parser.Biomart()\n",
    "datasets = bm.get_datasets(mart='ENSEMBL_MART_ENSEMBL')\n",
    "datasets.loc[datasets.Description.str.contains('Human')]\n",
    "\n",
    "\n",
    "desc = opref\n",
    "odir = '{}_genes_GO'.format(opref)\n",
    "gids = bm.query(dataset='hsapiens_gene_ensembl',\n",
    "       attributes=['ensembl_gene_id', 'external_gene_name'],\n",
    "       filters={'ensembl_gene_id': gids})\n",
    "gids = gids.loc[~gids.external_gene_name.isna()]\n",
    "gnames = gids.external_gene_name.squeeze().str.strip().tolist()\n",
    "go = gp.enrichr(gene_list=gnames,\n",
    "                gene_sets=dbs,\n",
    "                organism='Human',\n",
    "                description=desc,\n",
    "                outdir=odir,\n",
    "                cutoff=0.5)"
   ]
  },
  {
   "cell_type": "code",
   "execution_count": null,
   "id": "4be03574-e5a8-477c-9285-3b9ce7377a81",
   "metadata": {},
   "outputs": [],
   "source": []
  },
  {
   "cell_type": "code",
   "execution_count": null,
   "id": "3e47f127-8ce4-435c-ad37-5117c0e1f328",
   "metadata": {},
   "outputs": [],
   "source": []
  },
  {
   "cell_type": "code",
   "execution_count": null,
   "id": "2cc930ce-2aa3-451a-80da-bb19de8c35ef",
   "metadata": {},
   "outputs": [],
   "source": []
  },
  {
   "cell_type": "code",
   "execution_count": 26,
   "id": "14fd9503-e15e-493f-bb98-f07e08da63be",
   "metadata": {},
   "outputs": [],
   "source": [
    "df.to_csv('sample_det_mouse_v_human_dist.tsv', sep='\\t', index=False)"
   ]
  },
  {
   "cell_type": "code",
   "execution_count": null,
   "id": "d94296be-51c9-4af6-9849-09e41480545c",
   "metadata": {},
   "outputs": [],
   "source": []
  },
  {
   "cell_type": "markdown",
   "id": "4849422b-2ac4-4e97-9f89-d5c7b8695963",
   "metadata": {},
   "source": [
    "## Simplex plots"
   ]
  },
  {
   "cell_type": "code",
   "execution_count": 36,
   "id": "dfaffd08-6ca5-48a1-b8c5-a3b419cadca1",
   "metadata": {},
   "outputs": [
    {
     "name": "stdout",
     "output_type": "stream",
     "text": [
      "Read in graph from ../../swan/swan.p\n",
      "Read in graph from ../../../../mouse/lr_bulk/swan/swan.p\n"
     ]
    }
   ],
   "source": [
    "ca = cerberus.read(h5_annot)\n",
    "m_ca = cerberus.read(h5_annot_mouse)\n",
    "sg = swan.read(swan_file)\n",
    "m_sg = swan.read(mouse_swan_file)"
   ]
  },
  {
   "cell_type": "code",
   "execution_count": 37,
   "id": "8b726535-bbff-496e-b8f7-5f1c0507f44e",
   "metadata": {},
   "outputs": [],
   "source": [
    "# compute centroid for each mm sample / gene pairing for the different sources\n",
    "h_df = get_human_df(ca)\n",
    "m_df = get_mouse_df(m_ca)"
   ]
  },
  {
   "cell_type": "code",
   "execution_count": 38,
   "id": "254d37d4-f21e-4171-83cd-7a6e7430f19b",
   "metadata": {},
   "outputs": [],
   "source": [
    "df = pd.read_csv('sample_det_mouse_v_human_dist.tsv', sep='\\t')"
   ]
  },
  {
   "cell_type": "code",
   "execution_count": 39,
   "id": "8fba0229-facd-4023-bf37-84785272a74a",
   "metadata": {},
   "outputs": [],
   "source": [
    "# add centroid as coord\n",
    "h_df['source'] = 'sample_det_centroid'\n",
    "m_df['source'] = 'sample_det_centroid'\n",
    "ca.triplets = pd.concat([ca.triplets, h_df], axis=0)\n",
    "m_ca.triplets = pd.concat([m_ca.triplets, m_df], axis=0)"
   ]
  },
  {
   "cell_type": "code",
   "execution_count": 40,
   "id": "513474c2-54e5-4a1f-99c1-3221af7df393",
   "metadata": {},
   "outputs": [],
   "source": [
    "def plot_human_mouse(ca, m_ca, df, gene, odir):\n",
    "    \n",
    "    # get mouse gene name\n",
    "    gene_mouse = df.loc[df.gname_human==gene, 'gname_mouse'].values[0]\n",
    "\n",
    "    # human\n",
    "    c_dict, order = get_biosample_colors()\n",
    "    c_dict[np.nan] = 'k'\n",
    "    mmap = {'v40': '*', 'v29': 'x', 'obs_mm_det': '^', 'cerberus': '2', 'sample_det_centroid': 'x'} \n",
    "    subset = {'source': ['v40', 'obs_mm_det', 'sample_det', 'sample_det_centroid']}\n",
    "\n",
    "    # can't subset the way that I want because I want to use and and or logic...\n",
    "    ca.triplets = ca.triplets.loc[ca.triplets.source.isin(subset['source'])]\n",
    "    print(ca.triplets.source.unique())\n",
    "    ca.triplets = ca.triplets.loc[(ca.triplets.source!='sample_det')|(ca.triplets['sample'].isin(mm_tissues))]\n",
    "    print(ca.triplets.source.unique())\n",
    "    print(ca.triplets['sample'].unique())\n",
    "    \n",
    "    \n",
    "    df = ca.plot_simplex(top='splicing_ratio', \n",
    "                gene=gene,\n",
    "                hue='sample',\n",
    "                cmap=c_dict,\n",
    "                size='gene_tpm', \n",
    "                log_size=True,\n",
    "                sectors=True,\n",
    "                marker_style='source',\n",
    "                mmap=mmap,\n",
    "                legend=False,\n",
    "                jitter=True,\n",
    "                subset=subset,\n",
    "                size_scale=0.5,\n",
    "                fname='{}/simplex_{}.pdf'.format(odir, gene.lower()))\n",
    "\n",
    "    # mouse\n",
    "    c_dict, order = get_lr_bulk_sample_colors()\n",
    "    c_dict[np.nan] = 'k'\n",
    "    mmap = {'vM25': '*', 'v29': 'x', 'obs_det': '^', 'cerberus': '2', 'sample_det_centroid': 'x'} \n",
    "    subset = {'source': ['vM25', 'obs_det', 'sample_det', 'sample_det_centroid']}\n",
    "    df = m_ca.plot_simplex(top='splicing_ratio', \n",
    "                gene=gene_mouse,\n",
    "                hue='sample',\n",
    "                cmap=c_dict,\n",
    "                size='gene_tpm', \n",
    "                log_size=True,\n",
    "                sectors=True,\n",
    "                marker_style='source',\n",
    "                mmap=mmap,\n",
    "                legend=False,\n",
    "                jitter=True,\n",
    "                subset=subset,\n",
    "                size_scale=0.5,\n",
    "                fname='{}/simplex_mouse_{}.pdf'.format(odir, gene.lower()))"
   ]
  },
  {
   "cell_type": "code",
   "execution_count": 41,
   "id": "fde75bec-d8ed-430c-9300-1fdf7e3beb0d",
   "metadata": {},
   "outputs": [
    {
     "name": "stdout",
     "output_type": "stream",
     "text": [
      "['v40' 'sample_det' 'obs_mm_det' 'sample_det_centroid']\n",
      "['v40' 'sample_det' 'obs_mm_det' 'sample_det_centroid']\n",
      "[nan 'heart' 'brain' 'wtc11' 'pgp1_astro' 'muscle' 'h1' 'adrenal gland'\n",
      " 'h9_osteocyte' 'pgp1_excite_neuron']\n"
     ]
    },
    {
     "data": {
      "image/png": "[encoded data removed]",
      "text/plain": [
       "<Figure size 385.776x360 with 1 Axes>"
      ]
     },
     "metadata": {},
     "output_type": "display_data"
    },
    {
     "data": {
      "image/png": "[encoded data removed]",
      "text/plain": [
       "<Figure size 385.776x360 with 1 Axes>"
      ]
     },
     "metadata": {},
     "output_type": "display_data"
    }
   ],
   "source": [
    "plot_human_mouse(ca, m_ca, df, 'ARF4', fig_dir)"
   ]
  },
  {
   "cell_type": "code",
   "execution_count": 20,
   "id": "9a3a165f-0c3b-480a-a062-f9a4f1805e71",
   "metadata": {},
   "outputs": [
    {
     "data": {
      "text/html": [
       "<div>\n",
       "<style scoped>\n",
       "    .dataframe tbody tr th:only-of-type {\n",
       "        vertical-align: middle;\n",
       "    }\n",
       "\n",
       "    .dataframe tbody tr th {\n",
       "        vertical-align: top;\n",
       "    }\n",
       "\n",
       "    .dataframe thead th {\n",
       "        text-align: right;\n",
       "    }\n",
       "</style>\n",
       "<table border=\"1\" class=\"dataframe\">\n",
       "  <thead>\n",
       "    <tr style=\"text-align: right;\">\n",
       "      <th></th>\n",
       "      <th>source</th>\n",
       "      <th>gid</th>\n",
       "      <th>n_tss</th>\n",
       "      <th>n_tes</th>\n",
       "      <th>n_ic</th>\n",
       "      <th>n_iso</th>\n",
       "      <th>splicing_ratio</th>\n",
       "      <th>tss_ratio</th>\n",
       "      <th>tes_ratio</th>\n",
       "      <th>spl_ratio</th>\n",
       "      <th>gname</th>\n",
       "      <th>sample</th>\n",
       "      <th>gene_tpm</th>\n",
       "      <th>sector</th>\n",
       "      <th>gid_stable</th>\n",
       "      <th>biotype</th>\n",
       "    </tr>\n",
       "  </thead>\n",
       "  <tbody>\n",
       "    <tr>\n",
       "      <th>22776</th>\n",
       "      <td>sample_det</td>\n",
       "      <td>ENSG00000168374</td>\n",
       "      <td>1.0</td>\n",
       "      <td>1.0</td>\n",
       "      <td>3.0</td>\n",
       "      <td>3.0</td>\n",
       "      <td>3.0</td>\n",
       "      <td>0.200000</td>\n",
       "      <td>0.200000</td>\n",
       "      <td>0.600000</td>\n",
       "      <td>ARF4</td>\n",
       "      <td>brain</td>\n",
       "      <td>88.595078</td>\n",
       "      <td>NaN</td>\n",
       "      <td>NaN</td>\n",
       "      <td>NaN</td>\n",
       "    </tr>\n",
       "    <tr>\n",
       "      <th>146030</th>\n",
       "      <td>sample_det</td>\n",
       "      <td>ENSG00000168374</td>\n",
       "      <td>1.0</td>\n",
       "      <td>1.0</td>\n",
       "      <td>4.0</td>\n",
       "      <td>4.0</td>\n",
       "      <td>4.0</td>\n",
       "      <td>0.166667</td>\n",
       "      <td>0.166667</td>\n",
       "      <td>0.666667</td>\n",
       "      <td>ARF4</td>\n",
       "      <td>pgp1_astro</td>\n",
       "      <td>326.434998</td>\n",
       "      <td>NaN</td>\n",
       "      <td>NaN</td>\n",
       "      <td>NaN</td>\n",
       "    </tr>\n",
       "    <tr>\n",
       "      <th>233010</th>\n",
       "      <td>sample_det</td>\n",
       "      <td>ENSG00000168374</td>\n",
       "      <td>1.0</td>\n",
       "      <td>1.0</td>\n",
       "      <td>3.0</td>\n",
       "      <td>3.0</td>\n",
       "      <td>3.0</td>\n",
       "      <td>0.200000</td>\n",
       "      <td>0.200000</td>\n",
       "      <td>0.600000</td>\n",
       "      <td>ARF4</td>\n",
       "      <td>h1</td>\n",
       "      <td>240.441605</td>\n",
       "      <td>NaN</td>\n",
       "      <td>NaN</td>\n",
       "      <td>NaN</td>\n",
       "    </tr>\n",
       "    <tr>\n",
       "      <th>287330</th>\n",
       "      <td>sample_det</td>\n",
       "      <td>ENSG00000168374</td>\n",
       "      <td>1.0</td>\n",
       "      <td>1.0</td>\n",
       "      <td>1.0</td>\n",
       "      <td>1.0</td>\n",
       "      <td>1.0</td>\n",
       "      <td>0.333333</td>\n",
       "      <td>0.333333</td>\n",
       "      <td>0.333333</td>\n",
       "      <td>ARF4</td>\n",
       "      <td>muscle</td>\n",
       "      <td>26.309940</td>\n",
       "      <td>NaN</td>\n",
       "      <td>NaN</td>\n",
       "      <td>NaN</td>\n",
       "    </tr>\n",
       "    <tr>\n",
       "      <th>310874</th>\n",
       "      <td>sample_det</td>\n",
       "      <td>ENSG00000168374</td>\n",
       "      <td>1.0</td>\n",
       "      <td>1.0</td>\n",
       "      <td>3.0</td>\n",
       "      <td>3.0</td>\n",
       "      <td>3.0</td>\n",
       "      <td>0.200000</td>\n",
       "      <td>0.200000</td>\n",
       "      <td>0.600000</td>\n",
       "      <td>ARF4</td>\n",
       "      <td>wtc11</td>\n",
       "      <td>240.854675</td>\n",
       "      <td>NaN</td>\n",
       "      <td>NaN</td>\n",
       "      <td>NaN</td>\n",
       "    </tr>\n",
       "    <tr>\n",
       "      <th>396004</th>\n",
       "      <td>sample_det</td>\n",
       "      <td>ENSG00000168374</td>\n",
       "      <td>1.0</td>\n",
       "      <td>1.0</td>\n",
       "      <td>2.0</td>\n",
       "      <td>2.0</td>\n",
       "      <td>2.0</td>\n",
       "      <td>0.250000</td>\n",
       "      <td>0.250000</td>\n",
       "      <td>0.500000</td>\n",
       "      <td>ARF4</td>\n",
       "      <td>heart</td>\n",
       "      <td>58.211140</td>\n",
       "      <td>NaN</td>\n",
       "      <td>NaN</td>\n",
       "      <td>NaN</td>\n",
       "    </tr>\n",
       "    <tr>\n",
       "      <th>542445</th>\n",
       "      <td>sample_det</td>\n",
       "      <td>ENSG00000168374</td>\n",
       "      <td>1.0</td>\n",
       "      <td>1.0</td>\n",
       "      <td>3.0</td>\n",
       "      <td>3.0</td>\n",
       "      <td>3.0</td>\n",
       "      <td>0.200000</td>\n",
       "      <td>0.200000</td>\n",
       "      <td>0.600000</td>\n",
       "      <td>ARF4</td>\n",
       "      <td>pgp1_excite_neuron</td>\n",
       "      <td>174.750427</td>\n",
       "      <td>NaN</td>\n",
       "      <td>NaN</td>\n",
       "      <td>NaN</td>\n",
       "    </tr>\n",
       "    <tr>\n",
       "      <th>555578</th>\n",
       "      <td>sample_det</td>\n",
       "      <td>ENSG00000168374</td>\n",
       "      <td>1.0</td>\n",
       "      <td>1.0</td>\n",
       "      <td>5.0</td>\n",
       "      <td>5.0</td>\n",
       "      <td>5.0</td>\n",
       "      <td>0.142857</td>\n",
       "      <td>0.142857</td>\n",
       "      <td>0.714286</td>\n",
       "      <td>ARF4</td>\n",
       "      <td>adrenal gland</td>\n",
       "      <td>142.368027</td>\n",
       "      <td>NaN</td>\n",
       "      <td>NaN</td>\n",
       "      <td>NaN</td>\n",
       "    </tr>\n",
       "    <tr>\n",
       "      <th>576900</th>\n",
       "      <td>sample_det</td>\n",
       "      <td>ENSG00000168374</td>\n",
       "      <td>1.0</td>\n",
       "      <td>1.0</td>\n",
       "      <td>4.0</td>\n",
       "      <td>4.0</td>\n",
       "      <td>4.0</td>\n",
       "      <td>0.166667</td>\n",
       "      <td>0.166667</td>\n",
       "      <td>0.666667</td>\n",
       "      <td>ARF4</td>\n",
       "      <td>h9_osteocyte</td>\n",
       "      <td>572.059448</td>\n",
       "      <td>NaN</td>\n",
       "      <td>NaN</td>\n",
       "      <td>NaN</td>\n",
       "    </tr>\n",
       "  </tbody>\n",
       "</table>\n",
       "</div>"
      ],
      "text/plain": [
       "            source              gid  n_tss  n_tes  n_ic  n_iso  \\\n",
       "22776   sample_det  ENSG00000168374    1.0    1.0   3.0    3.0   \n",
       "146030  sample_det  ENSG00000168374    1.0    1.0   4.0    4.0   \n",
       "233010  sample_det  ENSG00000168374    1.0    1.0   3.0    3.0   \n",
       "287330  sample_det  ENSG00000168374    1.0    1.0   1.0    1.0   \n",
       "310874  sample_det  ENSG00000168374    1.0    1.0   3.0    3.0   \n",
       "396004  sample_det  ENSG00000168374    1.0    1.0   2.0    2.0   \n",
       "542445  sample_det  ENSG00000168374    1.0    1.0   3.0    3.0   \n",
       "555578  sample_det  ENSG00000168374    1.0    1.0   5.0    5.0   \n",
       "576900  sample_det  ENSG00000168374    1.0    1.0   4.0    4.0   \n",
       "\n",
       "        splicing_ratio  tss_ratio  tes_ratio  spl_ratio gname  \\\n",
       "22776              3.0   0.200000   0.200000   0.600000  ARF4   \n",
       "146030             4.0   0.166667   0.166667   0.666667  ARF4   \n",
       "233010             3.0   0.200000   0.200000   0.600000  ARF4   \n",
       "287330             1.0   0.333333   0.333333   0.333333  ARF4   \n",
       "310874             3.0   0.200000   0.200000   0.600000  ARF4   \n",
       "396004             2.0   0.250000   0.250000   0.500000  ARF4   \n",
       "542445             3.0   0.200000   0.200000   0.600000  ARF4   \n",
       "555578             5.0   0.142857   0.142857   0.714286  ARF4   \n",
       "576900             4.0   0.166667   0.166667   0.666667  ARF4   \n",
       "\n",
       "                    sample    gene_tpm sector gid_stable biotype  \n",
       "22776                brain   88.595078    NaN        NaN     NaN  \n",
       "146030          pgp1_astro  326.434998    NaN        NaN     NaN  \n",
       "233010                  h1  240.441605    NaN        NaN     NaN  \n",
       "287330              muscle   26.309940    NaN        NaN     NaN  \n",
       "310874               wtc11  240.854675    NaN        NaN     NaN  \n",
       "396004               heart   58.211140    NaN        NaN     NaN  \n",
       "542445  pgp1_excite_neuron  174.750427    NaN        NaN     NaN  \n",
       "555578       adrenal gland  142.368027    NaN        NaN     NaN  \n",
       "576900        h9_osteocyte  572.059448    NaN        NaN     NaN  "
      ]
     },
     "execution_count": 20,
     "metadata": {},
     "output_type": "execute_result"
    }
   ],
   "source": [
    "ca.triplets.loc[(ca.triplets.source=='sample_det')&(ca.triplets.gname=='ARF4')]"
   ]
  },
  {
   "cell_type": "code",
   "execution_count": 30,
   "id": "9b31654a-328a-4153-89e2-b29f89524109",
   "metadata": {},
   "outputs": [
    {
     "data": {
      "text/html": [
       "<div>\n",
       "<style scoped>\n",
       "    .dataframe tbody tr th:only-of-type {\n",
       "        vertical-align: middle;\n",
       "    }\n",
       "\n",
       "    .dataframe tbody tr th {\n",
       "        vertical-align: top;\n",
       "    }\n",
       "\n",
       "    .dataframe thead th {\n",
       "        text-align: right;\n",
       "    }\n",
       "</style>\n",
       "<table border=\"1\" class=\"dataframe\">\n",
       "  <thead>\n",
       "    <tr style=\"text-align: right;\">\n",
       "      <th></th>\n",
       "      <th>source</th>\n",
       "      <th>gid</th>\n",
       "      <th>n_tss</th>\n",
       "      <th>n_tes</th>\n",
       "      <th>n_ic</th>\n",
       "      <th>n_iso</th>\n",
       "      <th>splicing_ratio</th>\n",
       "      <th>tss_ratio</th>\n",
       "      <th>tes_ratio</th>\n",
       "      <th>spl_ratio</th>\n",
       "      <th>gname</th>\n",
       "      <th>sample</th>\n",
       "      <th>gene_tpm</th>\n",
       "      <th>tissue</th>\n",
       "    </tr>\n",
       "  </thead>\n",
       "  <tbody>\n",
       "    <tr>\n",
       "      <th>79725</th>\n",
       "      <td>sample_det</td>\n",
       "      <td>ENSMUSG00000021877</td>\n",
       "      <td>2.0</td>\n",
       "      <td>3.0</td>\n",
       "      <td>2.0</td>\n",
       "      <td>3.0</td>\n",
       "      <td>0.800000</td>\n",
       "      <td>0.344828</td>\n",
       "      <td>0.517241</td>\n",
       "      <td>0.137931</td>\n",
       "      <td>Arf4</td>\n",
       "      <td>adrenal</td>\n",
       "      <td>192.309082</td>\n",
       "      <td>NaN</td>\n",
       "    </tr>\n",
       "    <tr>\n",
       "      <th>79726</th>\n",
       "      <td>sample_det</td>\n",
       "      <td>ENSMUSG00000021877</td>\n",
       "      <td>2.0</td>\n",
       "      <td>3.0</td>\n",
       "      <td>2.0</td>\n",
       "      <td>3.0</td>\n",
       "      <td>0.800000</td>\n",
       "      <td>0.344828</td>\n",
       "      <td>0.517241</td>\n",
       "      <td>0.137931</td>\n",
       "      <td>Arf4</td>\n",
       "      <td>adrenal_10d</td>\n",
       "      <td>191.445343</td>\n",
       "      <td>NaN</td>\n",
       "    </tr>\n",
       "    <tr>\n",
       "      <th>79727</th>\n",
       "      <td>sample_det</td>\n",
       "      <td>ENSMUSG00000021877</td>\n",
       "      <td>2.0</td>\n",
       "      <td>3.0</td>\n",
       "      <td>2.0</td>\n",
       "      <td>4.0</td>\n",
       "      <td>0.800000</td>\n",
       "      <td>0.344828</td>\n",
       "      <td>0.517241</td>\n",
       "      <td>0.137931</td>\n",
       "      <td>Arf4</td>\n",
       "      <td>adrenal_14d</td>\n",
       "      <td>186.728561</td>\n",
       "      <td>NaN</td>\n",
       "    </tr>\n",
       "    <tr>\n",
       "      <th>79728</th>\n",
       "      <td>sample_det</td>\n",
       "      <td>ENSMUSG00000021877</td>\n",
       "      <td>1.0</td>\n",
       "      <td>2.0</td>\n",
       "      <td>1.0</td>\n",
       "      <td>2.0</td>\n",
       "      <td>0.666667</td>\n",
       "      <td>0.272727</td>\n",
       "      <td>0.545455</td>\n",
       "      <td>0.181818</td>\n",
       "      <td>Arf4</td>\n",
       "      <td>adrenal_18-20mo</td>\n",
       "      <td>146.663651</td>\n",
       "      <td>NaN</td>\n",
       "    </tr>\n",
       "    <tr>\n",
       "      <th>79729</th>\n",
       "      <td>sample_det</td>\n",
       "      <td>ENSMUSG00000021877</td>\n",
       "      <td>2.0</td>\n",
       "      <td>3.0</td>\n",
       "      <td>2.0</td>\n",
       "      <td>3.0</td>\n",
       "      <td>0.800000</td>\n",
       "      <td>0.344828</td>\n",
       "      <td>0.517241</td>\n",
       "      <td>0.137931</td>\n",
       "      <td>Arf4</td>\n",
       "      <td>adrenal_25d</td>\n",
       "      <td>196.478851</td>\n",
       "      <td>NaN</td>\n",
       "    </tr>\n",
       "    <tr>\n",
       "      <th>79730</th>\n",
       "      <td>sample_det</td>\n",
       "      <td>ENSMUSG00000021877</td>\n",
       "      <td>2.0</td>\n",
       "      <td>2.0</td>\n",
       "      <td>1.0</td>\n",
       "      <td>3.0</td>\n",
       "      <td>0.500000</td>\n",
       "      <td>0.444444</td>\n",
       "      <td>0.444444</td>\n",
       "      <td>0.111111</td>\n",
       "      <td>Arf4</td>\n",
       "      <td>adrenal_2mo</td>\n",
       "      <td>196.195892</td>\n",
       "      <td>NaN</td>\n",
       "    </tr>\n",
       "    <tr>\n",
       "      <th>79731</th>\n",
       "      <td>sample_det</td>\n",
       "      <td>ENSMUSG00000021877</td>\n",
       "      <td>2.0</td>\n",
       "      <td>3.0</td>\n",
       "      <td>2.0</td>\n",
       "      <td>3.0</td>\n",
       "      <td>0.800000</td>\n",
       "      <td>0.344828</td>\n",
       "      <td>0.517241</td>\n",
       "      <td>0.137931</td>\n",
       "      <td>Arf4</td>\n",
       "      <td>adrenal_36d</td>\n",
       "      <td>171.244308</td>\n",
       "      <td>NaN</td>\n",
       "    </tr>\n",
       "    <tr>\n",
       "      <th>79732</th>\n",
       "      <td>sample_det</td>\n",
       "      <td>ENSMUSG00000021877</td>\n",
       "      <td>2.0</td>\n",
       "      <td>4.0</td>\n",
       "      <td>2.0</td>\n",
       "      <td>5.0</td>\n",
       "      <td>0.666667</td>\n",
       "      <td>0.300000</td>\n",
       "      <td>0.600000</td>\n",
       "      <td>0.100000</td>\n",
       "      <td>Arf4</td>\n",
       "      <td>adrenal_4d</td>\n",
       "      <td>190.771164</td>\n",
       "      <td>NaN</td>\n",
       "    </tr>\n",
       "    <tr>\n",
       "      <th>79733</th>\n",
       "      <td>sample_det</td>\n",
       "      <td>ENSMUSG00000021877</td>\n",
       "      <td>2.0</td>\n",
       "      <td>3.0</td>\n",
       "      <td>1.0</td>\n",
       "      <td>5.0</td>\n",
       "      <td>0.400000</td>\n",
       "      <td>0.370370</td>\n",
       "      <td>0.555556</td>\n",
       "      <td>0.074074</td>\n",
       "      <td>Arf4</td>\n",
       "      <td>c2c12_myoblast</td>\n",
       "      <td>351.628815</td>\n",
       "      <td>NaN</td>\n",
       "    </tr>\n",
       "    <tr>\n",
       "      <th>79734</th>\n",
       "      <td>sample_det</td>\n",
       "      <td>ENSMUSG00000021877</td>\n",
       "      <td>1.0</td>\n",
       "      <td>2.0</td>\n",
       "      <td>1.0</td>\n",
       "      <td>2.0</td>\n",
       "      <td>0.666667</td>\n",
       "      <td>0.272727</td>\n",
       "      <td>0.545455</td>\n",
       "      <td>0.181818</td>\n",
       "      <td>Arf4</td>\n",
       "      <td>c2c12_myotube</td>\n",
       "      <td>146.246033</td>\n",
       "      <td>NaN</td>\n",
       "    </tr>\n",
       "    <tr>\n",
       "      <th>79735</th>\n",
       "      <td>sample_det</td>\n",
       "      <td>ENSMUSG00000021877</td>\n",
       "      <td>2.0</td>\n",
       "      <td>3.0</td>\n",
       "      <td>1.0</td>\n",
       "      <td>6.0</td>\n",
       "      <td>0.400000</td>\n",
       "      <td>0.370370</td>\n",
       "      <td>0.555556</td>\n",
       "      <td>0.074074</td>\n",
       "      <td>Arf4</td>\n",
       "      <td>cortex</td>\n",
       "      <td>167.384064</td>\n",
       "      <td>NaN</td>\n",
       "    </tr>\n",
       "    <tr>\n",
       "      <th>79736</th>\n",
       "      <td>sample_det</td>\n",
       "      <td>ENSMUSG00000021877</td>\n",
       "      <td>1.0</td>\n",
       "      <td>3.0</td>\n",
       "      <td>1.0</td>\n",
       "      <td>3.0</td>\n",
       "      <td>0.500000</td>\n",
       "      <td>0.222222</td>\n",
       "      <td>0.666667</td>\n",
       "      <td>0.111111</td>\n",
       "      <td>Arf4</td>\n",
       "      <td>cortex_14d</td>\n",
       "      <td>143.220428</td>\n",
       "      <td>NaN</td>\n",
       "    </tr>\n",
       "    <tr>\n",
       "      <th>79737</th>\n",
       "      <td>sample_det</td>\n",
       "      <td>ENSMUSG00000021877</td>\n",
       "      <td>2.0</td>\n",
       "      <td>3.0</td>\n",
       "      <td>1.0</td>\n",
       "      <td>4.0</td>\n",
       "      <td>0.400000</td>\n",
       "      <td>0.370370</td>\n",
       "      <td>0.555556</td>\n",
       "      <td>0.074074</td>\n",
       "      <td>Arf4</td>\n",
       "      <td>cortex_18-20mo</td>\n",
       "      <td>123.761436</td>\n",
       "      <td>NaN</td>\n",
       "    </tr>\n",
       "    <tr>\n",
       "      <th>79738</th>\n",
       "      <td>sample_det</td>\n",
       "      <td>ENSMUSG00000021877</td>\n",
       "      <td>1.0</td>\n",
       "      <td>3.0</td>\n",
       "      <td>1.0</td>\n",
       "      <td>3.0</td>\n",
       "      <td>0.500000</td>\n",
       "      <td>0.222222</td>\n",
       "      <td>0.666667</td>\n",
       "      <td>0.111111</td>\n",
       "      <td>Arf4</td>\n",
       "      <td>cortex_2mo</td>\n",
       "      <td>74.636642</td>\n",
       "      <td>NaN</td>\n",
       "    </tr>\n",
       "    <tr>\n",
       "      <th>79739</th>\n",
       "      <td>sample_det</td>\n",
       "      <td>ENSMUSG00000021877</td>\n",
       "      <td>1.0</td>\n",
       "      <td>3.0</td>\n",
       "      <td>1.0</td>\n",
       "      <td>3.0</td>\n",
       "      <td>0.500000</td>\n",
       "      <td>0.222222</td>\n",
       "      <td>0.666667</td>\n",
       "      <td>0.111111</td>\n",
       "      <td>Arf4</td>\n",
       "      <td>f1219</td>\n",
       "      <td>232.470367</td>\n",
       "      <td>NaN</td>\n",
       "    </tr>\n",
       "    <tr>\n",
       "      <th>79740</th>\n",
       "      <td>sample_det</td>\n",
       "      <td>ENSMUSG00000021877</td>\n",
       "      <td>2.0</td>\n",
       "      <td>3.0</td>\n",
       "      <td>2.0</td>\n",
       "      <td>3.0</td>\n",
       "      <td>0.800000</td>\n",
       "      <td>0.344828</td>\n",
       "      <td>0.517241</td>\n",
       "      <td>0.137931</td>\n",
       "      <td>Arf4</td>\n",
       "      <td>forelimb_e11</td>\n",
       "      <td>278.445526</td>\n",
       "      <td>NaN</td>\n",
       "    </tr>\n",
       "    <tr>\n",
       "      <th>79741</th>\n",
       "      <td>sample_det</td>\n",
       "      <td>ENSMUSG00000021877</td>\n",
       "      <td>2.0</td>\n",
       "      <td>3.0</td>\n",
       "      <td>2.0</td>\n",
       "      <td>5.0</td>\n",
       "      <td>0.800000</td>\n",
       "      <td>0.344828</td>\n",
       "      <td>0.517241</td>\n",
       "      <td>0.137931</td>\n",
       "      <td>Arf4</td>\n",
       "      <td>forelimb_e13</td>\n",
       "      <td>567.025513</td>\n",
       "      <td>NaN</td>\n",
       "    </tr>\n",
       "    <tr>\n",
       "      <th>79742</th>\n",
       "      <td>sample_det</td>\n",
       "      <td>ENSMUSG00000021877</td>\n",
       "      <td>1.0</td>\n",
       "      <td>2.0</td>\n",
       "      <td>1.0</td>\n",
       "      <td>2.0</td>\n",
       "      <td>0.666667</td>\n",
       "      <td>0.272727</td>\n",
       "      <td>0.545455</td>\n",
       "      <td>0.181818</td>\n",
       "      <td>Arf4</td>\n",
       "      <td>gastroc_10d</td>\n",
       "      <td>106.754333</td>\n",
       "      <td>NaN</td>\n",
       "    </tr>\n",
       "    <tr>\n",
       "      <th>79743</th>\n",
       "      <td>sample_det</td>\n",
       "      <td>ENSMUSG00000021877</td>\n",
       "      <td>1.0</td>\n",
       "      <td>2.0</td>\n",
       "      <td>1.0</td>\n",
       "      <td>2.0</td>\n",
       "      <td>0.666667</td>\n",
       "      <td>0.272727</td>\n",
       "      <td>0.545455</td>\n",
       "      <td>0.181818</td>\n",
       "      <td>Arf4</td>\n",
       "      <td>gastroc_14d</td>\n",
       "      <td>44.696381</td>\n",
       "      <td>NaN</td>\n",
       "    </tr>\n",
       "    <tr>\n",
       "      <th>79744</th>\n",
       "      <td>sample_det</td>\n",
       "      <td>ENSMUSG00000021877</td>\n",
       "      <td>2.0</td>\n",
       "      <td>3.0</td>\n",
       "      <td>2.0</td>\n",
       "      <td>3.0</td>\n",
       "      <td>0.800000</td>\n",
       "      <td>0.344828</td>\n",
       "      <td>0.517241</td>\n",
       "      <td>0.137931</td>\n",
       "      <td>Arf4</td>\n",
       "      <td>gastroc_18-20mo</td>\n",
       "      <td>24.201202</td>\n",
       "      <td>NaN</td>\n",
       "    </tr>\n",
       "    <tr>\n",
       "      <th>79745</th>\n",
       "      <td>sample_det</td>\n",
       "      <td>ENSMUSG00000021877</td>\n",
       "      <td>1.0</td>\n",
       "      <td>2.0</td>\n",
       "      <td>1.0</td>\n",
       "      <td>2.0</td>\n",
       "      <td>0.666667</td>\n",
       "      <td>0.272727</td>\n",
       "      <td>0.545455</td>\n",
       "      <td>0.181818</td>\n",
       "      <td>Arf4</td>\n",
       "      <td>gastroc_25d</td>\n",
       "      <td>29.955065</td>\n",
       "      <td>NaN</td>\n",
       "    </tr>\n",
       "    <tr>\n",
       "      <th>79746</th>\n",
       "      <td>sample_det</td>\n",
       "      <td>ENSMUSG00000021877</td>\n",
       "      <td>1.0</td>\n",
       "      <td>2.0</td>\n",
       "      <td>1.0</td>\n",
       "      <td>2.0</td>\n",
       "      <td>0.666667</td>\n",
       "      <td>0.272727</td>\n",
       "      <td>0.545455</td>\n",
       "      <td>0.181818</td>\n",
       "      <td>Arf4</td>\n",
       "      <td>gastroc_2mo</td>\n",
       "      <td>26.530716</td>\n",
       "      <td>NaN</td>\n",
       "    </tr>\n",
       "    <tr>\n",
       "      <th>79747</th>\n",
       "      <td>sample_det</td>\n",
       "      <td>ENSMUSG00000021877</td>\n",
       "      <td>1.0</td>\n",
       "      <td>2.0</td>\n",
       "      <td>1.0</td>\n",
       "      <td>2.0</td>\n",
       "      <td>0.666667</td>\n",
       "      <td>0.272727</td>\n",
       "      <td>0.545455</td>\n",
       "      <td>0.181818</td>\n",
       "      <td>Arf4</td>\n",
       "      <td>gastroc_36d</td>\n",
       "      <td>24.579542</td>\n",
       "      <td>NaN</td>\n",
       "    </tr>\n",
       "    <tr>\n",
       "      <th>79748</th>\n",
       "      <td>sample_det</td>\n",
       "      <td>ENSMUSG00000021877</td>\n",
       "      <td>2.0</td>\n",
       "      <td>3.0</td>\n",
       "      <td>3.0</td>\n",
       "      <td>5.0</td>\n",
       "      <td>1.200000</td>\n",
       "      <td>0.322581</td>\n",
       "      <td>0.483871</td>\n",
       "      <td>0.193548</td>\n",
       "      <td>Arf4</td>\n",
       "      <td>gastroc_4d</td>\n",
       "      <td>185.091690</td>\n",
       "      <td>NaN</td>\n",
       "    </tr>\n",
       "    <tr>\n",
       "      <th>79749</th>\n",
       "      <td>sample_det</td>\n",
       "      <td>ENSMUSG00000021877</td>\n",
       "      <td>2.0</td>\n",
       "      <td>3.0</td>\n",
       "      <td>2.0</td>\n",
       "      <td>4.0</td>\n",
       "      <td>0.800000</td>\n",
       "      <td>0.344828</td>\n",
       "      <td>0.517241</td>\n",
       "      <td>0.137931</td>\n",
       "      <td>Arf4</td>\n",
       "      <td>heart_14d</td>\n",
       "      <td>148.401749</td>\n",
       "      <td>NaN</td>\n",
       "    </tr>\n",
       "    <tr>\n",
       "      <th>79750</th>\n",
       "      <td>sample_det</td>\n",
       "      <td>ENSMUSG00000021877</td>\n",
       "      <td>1.0</td>\n",
       "      <td>2.0</td>\n",
       "      <td>1.0</td>\n",
       "      <td>2.0</td>\n",
       "      <td>0.666667</td>\n",
       "      <td>0.272727</td>\n",
       "      <td>0.545455</td>\n",
       "      <td>0.181818</td>\n",
       "      <td>Arf4</td>\n",
       "      <td>heart_18-20mo</td>\n",
       "      <td>67.449959</td>\n",
       "      <td>NaN</td>\n",
       "    </tr>\n",
       "    <tr>\n",
       "      <th>79751</th>\n",
       "      <td>sample_det</td>\n",
       "      <td>ENSMUSG00000021877</td>\n",
       "      <td>1.0</td>\n",
       "      <td>2.0</td>\n",
       "      <td>1.0</td>\n",
       "      <td>2.0</td>\n",
       "      <td>0.666667</td>\n",
       "      <td>0.272727</td>\n",
       "      <td>0.545455</td>\n",
       "      <td>0.181818</td>\n",
       "      <td>Arf4</td>\n",
       "      <td>heart_2mo</td>\n",
       "      <td>83.758316</td>\n",
       "      <td>NaN</td>\n",
       "    </tr>\n",
       "    <tr>\n",
       "      <th>79752</th>\n",
       "      <td>sample_det</td>\n",
       "      <td>ENSMUSG00000021877</td>\n",
       "      <td>2.0</td>\n",
       "      <td>3.0</td>\n",
       "      <td>2.0</td>\n",
       "      <td>5.0</td>\n",
       "      <td>0.800000</td>\n",
       "      <td>0.344828</td>\n",
       "      <td>0.517241</td>\n",
       "      <td>0.137931</td>\n",
       "      <td>Arf4</td>\n",
       "      <td>hippocampus</td>\n",
       "      <td>201.238098</td>\n",
       "      <td>NaN</td>\n",
       "    </tr>\n",
       "    <tr>\n",
       "      <th>79753</th>\n",
       "      <td>sample_det</td>\n",
       "      <td>ENSMUSG00000021877</td>\n",
       "      <td>2.0</td>\n",
       "      <td>3.0</td>\n",
       "      <td>1.0</td>\n",
       "      <td>5.0</td>\n",
       "      <td>0.400000</td>\n",
       "      <td>0.370370</td>\n",
       "      <td>0.555556</td>\n",
       "      <td>0.074074</td>\n",
       "      <td>Arf4</td>\n",
       "      <td>hippocampus_14d</td>\n",
       "      <td>182.758606</td>\n",
       "      <td>NaN</td>\n",
       "    </tr>\n",
       "    <tr>\n",
       "      <th>79754</th>\n",
       "      <td>sample_det</td>\n",
       "      <td>ENSMUSG00000021877</td>\n",
       "      <td>2.0</td>\n",
       "      <td>3.0</td>\n",
       "      <td>1.0</td>\n",
       "      <td>5.0</td>\n",
       "      <td>0.400000</td>\n",
       "      <td>0.370370</td>\n",
       "      <td>0.555556</td>\n",
       "      <td>0.074074</td>\n",
       "      <td>Arf4</td>\n",
       "      <td>hippocampus_18-20mo</td>\n",
       "      <td>101.922592</td>\n",
       "      <td>NaN</td>\n",
       "    </tr>\n",
       "    <tr>\n",
       "      <th>79755</th>\n",
       "      <td>sample_det</td>\n",
       "      <td>ENSMUSG00000021877</td>\n",
       "      <td>2.0</td>\n",
       "      <td>4.0</td>\n",
       "      <td>2.0</td>\n",
       "      <td>4.0</td>\n",
       "      <td>0.666667</td>\n",
       "      <td>0.300000</td>\n",
       "      <td>0.600000</td>\n",
       "      <td>0.100000</td>\n",
       "      <td>Arf4</td>\n",
       "      <td>hippocampus_2mo</td>\n",
       "      <td>98.381088</td>\n",
       "      <td>NaN</td>\n",
       "    </tr>\n",
       "  </tbody>\n",
       "</table>\n",
       "</div>"
      ],
      "text/plain": [
       "           source                 gid  n_tss  n_tes  n_ic  n_iso  \\\n",
       "79725  sample_det  ENSMUSG00000021877    2.0    3.0   2.0    3.0   \n",
       "79726  sample_det  ENSMUSG00000021877    2.0    3.0   2.0    3.0   \n",
       "79727  sample_det  ENSMUSG00000021877    2.0    3.0   2.0    4.0   \n",
       "79728  sample_det  ENSMUSG00000021877    1.0    2.0   1.0    2.0   \n",
       "79729  sample_det  ENSMUSG00000021877    2.0    3.0   2.0    3.0   \n",
       "79730  sample_det  ENSMUSG00000021877    2.0    2.0   1.0    3.0   \n",
       "79731  sample_det  ENSMUSG00000021877    2.0    3.0   2.0    3.0   \n",
       "79732  sample_det  ENSMUSG00000021877    2.0    4.0   2.0    5.0   \n",
       "79733  sample_det  ENSMUSG00000021877    2.0    3.0   1.0    5.0   \n",
       "79734  sample_det  ENSMUSG00000021877    1.0    2.0   1.0    2.0   \n",
       "79735  sample_det  ENSMUSG00000021877    2.0    3.0   1.0    6.0   \n",
       "79736  sample_det  ENSMUSG00000021877    1.0    3.0   1.0    3.0   \n",
       "79737  sample_det  ENSMUSG00000021877    2.0    3.0   1.0    4.0   \n",
       "79738  sample_det  ENSMUSG00000021877    1.0    3.0   1.0    3.0   \n",
       "79739  sample_det  ENSMUSG00000021877    1.0    3.0   1.0    3.0   \n",
       "79740  sample_det  ENSMUSG00000021877    2.0    3.0   2.0    3.0   \n",
       "79741  sample_det  ENSMUSG00000021877    2.0    3.0   2.0    5.0   \n",
       "79742  sample_det  ENSMUSG00000021877    1.0    2.0   1.0    2.0   \n",
       "79743  sample_det  ENSMUSG00000021877    1.0    2.0   1.0    2.0   \n",
       "79744  sample_det  ENSMUSG00000021877    2.0    3.0   2.0    3.0   \n",
       "79745  sample_det  ENSMUSG00000021877    1.0    2.0   1.0    2.0   \n",
       "79746  sample_det  ENSMUSG00000021877    1.0    2.0   1.0    2.0   \n",
       "79747  sample_det  ENSMUSG00000021877    1.0    2.0   1.0    2.0   \n",
       "79748  sample_det  ENSMUSG00000021877    2.0    3.0   3.0    5.0   \n",
       "79749  sample_det  ENSMUSG00000021877    2.0    3.0   2.0    4.0   \n",
       "79750  sample_det  ENSMUSG00000021877    1.0    2.0   1.0    2.0   \n",
       "79751  sample_det  ENSMUSG00000021877    1.0    2.0   1.0    2.0   \n",
       "79752  sample_det  ENSMUSG00000021877    2.0    3.0   2.0    5.0   \n",
       "79753  sample_det  ENSMUSG00000021877    2.0    3.0   1.0    5.0   \n",
       "79754  sample_det  ENSMUSG00000021877    2.0    3.0   1.0    5.0   \n",
       "79755  sample_det  ENSMUSG00000021877    2.0    4.0   2.0    4.0   \n",
       "\n",
       "       splicing_ratio  tss_ratio  tes_ratio  spl_ratio gname  \\\n",
       "79725        0.800000   0.344828   0.517241   0.137931  Arf4   \n",
       "79726        0.800000   0.344828   0.517241   0.137931  Arf4   \n",
       "79727        0.800000   0.344828   0.517241   0.137931  Arf4   \n",
       "79728        0.666667   0.272727   0.545455   0.181818  Arf4   \n",
       "79729        0.800000   0.344828   0.517241   0.137931  Arf4   \n",
       "79730        0.500000   0.444444   0.444444   0.111111  Arf4   \n",
       "79731        0.800000   0.344828   0.517241   0.137931  Arf4   \n",
       "79732        0.666667   0.300000   0.600000   0.100000  Arf4   \n",
       "79733        0.400000   0.370370   0.555556   0.074074  Arf4   \n",
       "79734        0.666667   0.272727   0.545455   0.181818  Arf4   \n",
       "79735        0.400000   0.370370   0.555556   0.074074  Arf4   \n",
       "79736        0.500000   0.222222   0.666667   0.111111  Arf4   \n",
       "79737        0.400000   0.370370   0.555556   0.074074  Arf4   \n",
       "79738        0.500000   0.222222   0.666667   0.111111  Arf4   \n",
       "79739        0.500000   0.222222   0.666667   0.111111  Arf4   \n",
       "79740        0.800000   0.344828   0.517241   0.137931  Arf4   \n",
       "79741        0.800000   0.344828   0.517241   0.137931  Arf4   \n",
       "79742        0.666667   0.272727   0.545455   0.181818  Arf4   \n",
       "79743        0.666667   0.272727   0.545455   0.181818  Arf4   \n",
       "79744        0.800000   0.344828   0.517241   0.137931  Arf4   \n",
       "79745        0.666667   0.272727   0.545455   0.181818  Arf4   \n",
       "79746        0.666667   0.272727   0.545455   0.181818  Arf4   \n",
       "79747        0.666667   0.272727   0.545455   0.181818  Arf4   \n",
       "79748        1.200000   0.322581   0.483871   0.193548  Arf4   \n",
       "79749        0.800000   0.344828   0.517241   0.137931  Arf4   \n",
       "79750        0.666667   0.272727   0.545455   0.181818  Arf4   \n",
       "79751        0.666667   0.272727   0.545455   0.181818  Arf4   \n",
       "79752        0.800000   0.344828   0.517241   0.137931  Arf4   \n",
       "79753        0.400000   0.370370   0.555556   0.074074  Arf4   \n",
       "79754        0.400000   0.370370   0.555556   0.074074  Arf4   \n",
       "79755        0.666667   0.300000   0.600000   0.100000  Arf4   \n",
       "\n",
       "                    sample    gene_tpm tissue  \n",
       "79725              adrenal  192.309082    NaN  \n",
       "79726          adrenal_10d  191.445343    NaN  \n",
       "79727          adrenal_14d  186.728561    NaN  \n",
       "79728      adrenal_18-20mo  146.663651    NaN  \n",
       "79729          adrenal_25d  196.478851    NaN  \n",
       "79730          adrenal_2mo  196.195892    NaN  \n",
       "79731          adrenal_36d  171.244308    NaN  \n",
       "79732           adrenal_4d  190.771164    NaN  \n",
       "79733       c2c12_myoblast  351.628815    NaN  \n",
       "79734        c2c12_myotube  146.246033    NaN  \n",
       "79735               cortex  167.384064    NaN  \n",
       "79736           cortex_14d  143.220428    NaN  \n",
       "79737       cortex_18-20mo  123.761436    NaN  \n",
       "79738           cortex_2mo   74.636642    NaN  \n",
       "79739                f1219  232.470367    NaN  \n",
       "79740         forelimb_e11  278.445526    NaN  \n",
       "79741         forelimb_e13  567.025513    NaN  \n",
       "79742          gastroc_10d  106.754333    NaN  \n",
       "79743          gastroc_14d   44.696381    NaN  \n",
       "79744      gastroc_18-20mo   24.201202    NaN  \n",
       "79745          gastroc_25d   29.955065    NaN  \n",
       "79746          gastroc_2mo   26.530716    NaN  \n",
       "79747          gastroc_36d   24.579542    NaN  \n",
       "79748           gastroc_4d  185.091690    NaN  \n",
       "79749            heart_14d  148.401749    NaN  \n",
       "79750        heart_18-20mo   67.449959    NaN  \n",
       "79751            heart_2mo   83.758316    NaN  \n",
       "79752          hippocampus  201.238098    NaN  \n",
       "79753      hippocampus_14d  182.758606    NaN  \n",
       "79754  hippocampus_18-20mo  101.922592    NaN  \n",
       "79755      hippocampus_2mo   98.381088    NaN  "
      ]
     },
     "execution_count": 30,
     "metadata": {},
     "output_type": "execute_result"
    }
   ],
   "source": [
    "m_ca.triplets.loc[(m_ca.triplets.source=='sample_det')&(m_ca.triplets.gname=='Arf4')]"
   ]
  },
  {
   "cell_type": "code",
   "execution_count": 31,
   "id": "7bc12edf-a805-4e98-a3f9-c7cffb4debc7",
   "metadata": {},
   "outputs": [
    {
     "name": "stdout",
     "output_type": "stream",
     "text": [
      "Calculating iso TPM values\n",
      "Subsetting for polya genes\n"
     ]
    },
    {
     "name": "stderr",
     "output_type": "stream",
     "text": [
      "/Users/fairliereese/Documents/programming/mortazavi_lab/data/rnawg/scripts/utils.py:1816: PerformanceWarning: DataFrame is highly fragmented.  This is usually the result of calling `frame.insert` many times, which has poor performance.  Consider joining all columns at once using pd.concat(axis=1) instead.  To get a de-fragmented frame, use `newframe = frame.copy()`\n",
      "  df[tpm_col] = (df[d]*1000000)/df[total_col]\n",
      "/Users/fairliereese/Documents/programming/mortazavi_lab/data/rnawg/scripts/utils.py:1815: PerformanceWarning: DataFrame is highly fragmented.  This is usually the result of calling `frame.insert` many times, which has poor performance.  Consider joining all columns at once using pd.concat(axis=1) instead.  To get a de-fragmented frame, use `newframe = frame.copy()`\n",
      "  df[total_col] = df[d].sum()\n"
     ]
    },
    {
     "name": "stdout",
     "output_type": "stream",
     "text": [
      "Enforcing minimum TPM\n",
      "Total # isos detected: 234040\n",
      "# isos >= 1 tpm: 212911\n",
      "Applying gene type and novelty subset\n",
      "Number of isos reported: 209476\n",
      "Found 50 total samples\n",
      "15.711947626841242\n",
      "17.571194762684122\n"
     ]
    },
    {
     "data": {
      "image/png": "[encoded data removed]",
      "text/plain": [
       "<Figure size 1008x180 with 1 Axes>"
      ]
     },
     "metadata": {
      "needs_background": "light"
     },
     "output_type": "display_data"
    }
   ],
   "source": [
    "gene = 'ARF4'\n",
    "obs_col = 'sample'\n",
    "obs_condition = 'adrenal gland'\n",
    "ax, tpm_df = plot_browser_isos(ca, sg, gene,\n",
    "                             obs_col, obs_condition,\n",
    "                             filt_ab, major_set,\n",
    "                             h=0.2, ref_source='v40')"
   ]
  },
  {
   "cell_type": "code",
   "execution_count": 32,
   "id": "a8a0fbb1-e85e-442e-b8a6-74826a30acda",
   "metadata": {},
   "outputs": [
    {
     "data": {
      "text/plain": [
       "array(['hippocampus_18-20mo', 'cortex_18-20mo', 'adrenal_18-20mo',\n",
       "       'adrenal_10d', 'hippocampus_14d', 'cortex', 'heart_18-20mo',\n",
       "       'adrenal', 'adrenal_4d', 'hippocampus_2mo', 'gastroc_36d',\n",
       "       'hippocampus', 'c2c12_myotube', 'gastroc_4d', 'f1219',\n",
       "       'adrenal_2mo', 'gastroc_14d', 'gastroc_25d', 'cortex_14d',\n",
       "       'gastroc_18-20mo', 'gastroc_2mo', 'gastroc_10d', 'adrenal_36d',\n",
       "       'adrenal_25d', 'cortex_2mo', 'adrenal_14d', 'c2c12_myoblast',\n",
       "       'heart_2mo', 'forelimb_e11', 'heart_14d', 'forelimb_e13'],\n",
       "      dtype=object)"
      ]
     },
     "execution_count": 32,
     "metadata": {},
     "output_type": "execute_result"
    }
   ],
   "source": [
    "m_sg.adata.obs['sample'].unique()"
   ]
  },
  {
   "cell_type": "code",
   "execution_count": 33,
   "id": "79e5a685-f9a4-4c91-8d51-62604d24d3fb",
   "metadata": {},
   "outputs": [
    {
     "name": "stdout",
     "output_type": "stream",
     "text": [
      "Calculating iso TPM values\n",
      "Subsetting for polya genes\n",
      "Enforcing minimum TPM\n",
      "Total # isos detected: 149463\n",
      "# isos >= 1 tpm: 138642\n",
      "Applying gene type and novelty subset\n",
      "Number of isos reported: 135450\n",
      "Found 37 total samples\n",
      "15.711947626841242\n",
      "17.571194762684122\n"
     ]
    },
    {
     "data": {
      "image/png": "[encoded data removed]",
      "text/plain": [
       "<Figure size 1008x144 with 1 Axes>"
      ]
     },
     "metadata": {
      "needs_background": "light"
     },
     "output_type": "display_data"
    }
   ],
   "source": [
    "gene = 'Arf4'\n",
    "obs_col = 'sample'\n",
    "obs_condition = 'adrenal_14d'\n",
    "ax, tpm_df = plot_browser_isos(m_ca, m_sg, gene,\n",
    "                             obs_col, obs_condition,\n",
    "                             mouse_filt_ab, major_set_mouse,\n",
    "                             h=0.2, ref_source='vM25', species='mouse')"
   ]
  },
  {
   "cell_type": "code",
   "execution_count": 43,
   "id": "69a83c19-7436-44c2-bd0a-b6fa861b1e78",
   "metadata": {},
   "outputs": [
    {
     "name": "stdout",
     "output_type": "stream",
     "text": [
      "Calculating iso TPM values\n",
      "Subsetting for polya genes\n"
     ]
    },
    {
     "name": "stderr",
     "output_type": "stream",
     "text": [
      "/Users/fairliereese/Documents/programming/mortazavi_lab/data/rnawg/scripts/utils.py:2033: PerformanceWarning: DataFrame is highly fragmented.  This is usually the result of calling `frame.insert` many times, which has poor performance.  Consider joining all columns at once using pd.concat(axis=1) instead.  To get a de-fragmented frame, use `newframe = frame.copy()`\n",
      "  df[tpm_col] = (df[d]*1000000)/df[total_col]\n",
      "/Users/fairliereese/Documents/programming/mortazavi_lab/data/rnawg/scripts/utils.py:2032: PerformanceWarning: DataFrame is highly fragmented.  This is usually the result of calling `frame.insert` many times, which has poor performance.  Consider joining all columns at once using pd.concat(axis=1) instead.  To get a de-fragmented frame, use `newframe = frame.copy()`\n",
      "  df[total_col] = df[d].sum()\n"
     ]
    },
    {
     "name": "stdout",
     "output_type": "stream",
     "text": [
      "Enforcing minimum TPM\n",
      "Total # isos detected: 231136\n",
      "# isos >= 1 tpm: 210239\n",
      "Applying gene type and novelty subset\n",
      "Number of isos reported: 206806\n",
      "Found 50 total samples\n"
     ]
    },
    {
     "data": {
      "image/png": "[encoded data removed]",
      "text/plain": [
       "<Figure size 1008x111.6 with 1 Axes>"
      ]
     },
     "metadata": {
      "needs_background": "light"
     },
     "output_type": "display_data"
    }
   ],
   "source": [
    "gene = 'ARF4'\n",
    "obs_col = 'sample'\n",
    "obs_condition = 'h1'\n",
    "ax, tpm_df = plot_browser_isos(ca, sg, gene,\n",
    "                             obs_col, obs_condition,\n",
    "                             filt_ab, major_set,\n",
    "                             h=0.2)\n",
    "fname = 'figures/{}_{}_human_browser.pdf'.format(gene.lower(), obs_condition)\n",
    "plt.savefig(fname, dpi=300)\n",
    "\n",
    "fname = '{}/{}_{}_human_browser.pdf'.format(fig_dir, gene.lower(), obs_condition)\n",
    "plt.savefig(fname, dpi=300)"
   ]
  },
  {
   "cell_type": "code",
   "execution_count": 44,
   "id": "ad37c5ea-bbef-4243-9356-6b19821b7f5a",
   "metadata": {},
   "outputs": [
    {
     "name": "stdout",
     "output_type": "stream",
     "text": [
      "Calculating iso TPM values\n",
      "Subsetting for polya genes\n",
      "Enforcing minimum TPM\n",
      "Total # isos detected: 149463\n",
      "# isos >= 1 tpm: 138642\n",
      "Applying gene type and novelty subset\n",
      "Number of isos reported: 135450\n",
      "Found 37 total samples\n"
     ]
    },
    {
     "data": {
      "image/png": "[encoded data removed]",
      "text/plain": [
       "<Figure size 1008x111.6 with 1 Axes>"
      ]
     },
     "metadata": {
      "needs_background": "light"
     },
     "output_type": "display_data"
    }
   ],
   "source": [
    "gene = 'Arf4'\n",
    "obs_col = 'sample'\n",
    "obs_condition = 'f1219'\n",
    "ax, tpm_df = plot_browser_isos(m_ca, m_sg, gene,\n",
    "                             obs_col, obs_condition,\n",
    "                             mouse_filt_ab, major_set_mouse,\n",
    "                             h=0.2, species='mouse')\n",
    "fname = 'figures/{}_{}_mouse_browser.pdf'.format(gene.lower(), obs_condition)\n",
    "plt.savefig(fname, dpi=300)\n",
    "\n",
    "fname = '{}/{}_{}_mouse_browser.pdf'.format(fig_dir, gene.lower(), obs_condition)\n",
    "plt.savefig(fname, dpi=300)"
   ]
  },
  {
   "cell_type": "code",
   "execution_count": 37,
   "id": "557e3b88-a32e-456a-a803-25e8daf7ef65",
   "metadata": {},
   "outputs": [],
   "source": [
    "# plot_human_mouse(ca, m_ca, df, 'NVL')"
   ]
  },
  {
   "cell_type": "code",
   "execution_count": 38,
   "id": "6190d6b6-3a3e-46fc-9d44-29dd734cf49c",
   "metadata": {},
   "outputs": [],
   "source": [
    "# ca.triplets.loc[(ca.triplets.source=='sample_det')&(ca.triplets.gname=='NVL')]"
   ]
  },
  {
   "cell_type": "code",
   "execution_count": 39,
   "id": "4a74a24d-f7a9-46a6-904b-0de45e9e70b0",
   "metadata": {},
   "outputs": [],
   "source": [
    "# m_ca.triplets.loc[(m_ca.triplets.source=='sample_det')&(m_ca.triplets.gname=='Nvl')]"
   ]
  },
  {
   "cell_type": "code",
   "execution_count": 40,
   "id": "bd3b1188-e6a3-428d-858a-8365ffcbbb70",
   "metadata": {},
   "outputs": [],
   "source": [
    "# gene = 'NVL'\n",
    "# obs_col = 'sample'\n",
    "# obs_condition = 'h1'\n",
    "# ax, tpm_df = plot_browser_isos(ca, sg, gene,\n",
    "#                              obs_col, obs_condition,\n",
    "#                              filt_ab, major_set,\n",
    "#                              h=0.2, ref_source='v40')"
   ]
  },
  {
   "cell_type": "code",
   "execution_count": 41,
   "id": "bc580e60-6707-411a-bb8a-84a7c1ed7a16",
   "metadata": {},
   "outputs": [],
   "source": [
    "# gene = 'Nvl'\n",
    "# obs_col = 'sample'\n",
    "# obs_condition = 'f1219'\n",
    "# ax, tpm_df = plot_browser_isos(m_ca, m_sg, gene,\n",
    "#                              obs_col, obs_condition,\n",
    "#                              mouse_filt_ab, major_set_mouse,\n",
    "#                              h=0.2, ref_source='vM25', species='mouse')"
   ]
  },
  {
   "cell_type": "code",
   "execution_count": 42,
   "id": "7bfbdb19-58dd-4958-a6c6-330860fd61ca",
   "metadata": {},
   "outputs": [],
   "source": [
    "# plot_human_mouse(ca, m_ca, df, 'CERS4')"
   ]
  },
  {
   "cell_type": "code",
   "execution_count": 27,
   "id": "f4e9cb09-3125-4767-a0df-aa30fbc2820d",
   "metadata": {},
   "outputs": [],
   "source": [
    "# ca.triplets.loc[(ca.triplets.source=='sample_det')&(ca.triplets.gname=='CERS4')]"
   ]
  },
  {
   "cell_type": "code",
   "execution_count": 43,
   "id": "9b9d70ba-fe7c-4d3b-bf4f-588d7102f916",
   "metadata": {},
   "outputs": [],
   "source": [
    "# gene = 'CERS4'\n",
    "# obs_col = 'sample'\n",
    "# obs_condition = 'h1'\n",
    "# ax, tpm_df = plot_browser_isos(ca, sg, gene,\n",
    "#                              obs_col, obs_condition,\n",
    "#                              filt_ab, major_set,\n",
    "#                              h=0.2, ref_source='v40')"
   ]
  },
  {
   "cell_type": "code",
   "execution_count": 26,
   "id": "f7e078a8-2060-4d6c-a617-93ff9cdecaac",
   "metadata": {},
   "outputs": [],
   "source": [
    "# m_ca.triplets.loc[(m_ca.triplets.source=='sample_det')&(m_ca.triplets.gname=='Cers4')]"
   ]
  },
  {
   "cell_type": "code",
   "execution_count": 44,
   "id": "d079f236-b1a1-49af-8e25-d19eb4ae113d",
   "metadata": {},
   "outputs": [],
   "source": [
    "# gene = 'Cers4'\n",
    "# obs_col = 'sample'\n",
    "# obs_condition = 'f1219'\n",
    "# ax, tpm_df = plot_browser_isos(m_ca, m_sg, gene,\n",
    "#                              obs_col, obs_condition,\n",
    "#                              mouse_filt_ab, major_set_mouse,\n",
    "#                              h=0.2, ref_source='vM25', species='mouse')"
   ]
  },
  {
   "cell_type": "code",
   "execution_count": 45,
   "id": "4adffcaa-22e4-4b7c-9b1f-99e2ec8e8e5c",
   "metadata": {},
   "outputs": [],
   "source": [
    "# plot_human_mouse(ca, m_ca, df, 'MAPRE1')"
   ]
  },
  {
   "cell_type": "code",
   "execution_count": 46,
   "id": "b7093831-bdb6-407f-964a-172b27b8e3df",
   "metadata": {},
   "outputs": [],
   "source": [
    "# ca.triplets.loc[(ca.triplets.source=='sample_det')&(ca.triplets.gname=='M2APRE1')]"
   ]
  },
  {
   "cell_type": "code",
   "execution_count": 47,
   "id": "dc8ea7a4-c0a3-4622-b9e2-d79dda0741fd",
   "metadata": {},
   "outputs": [],
   "source": [
    "# m_ca.triplets.loc[(m_ca.triplets.source=='sample_det')&(m_ca.triplets.gname=='Mapre1')]"
   ]
  },
  {
   "cell_type": "code",
   "execution_count": 48,
   "id": "d6079483-c9b1-47d8-a7ec-6c9698671d02",
   "metadata": {},
   "outputs": [],
   "source": [
    "# gene = 'MAPRE1'\n",
    "# obs_col = 'sample'\n",
    "# obs_condition = 'h1'\n",
    "# ax, tpm_df = plot_browser_isos(ca, sg, gene,\n",
    "#                              obs_col, obs_condition,\n",
    "#                              filt_ab, major_set,\n",
    "#                              h=0.2, ref_source='v40')"
   ]
  },
  {
   "cell_type": "code",
   "execution_count": 49,
   "id": "c16334ba-3fdf-4d7e-a7c8-a8621998d98d",
   "metadata": {},
   "outputs": [],
   "source": [
    "# gene = 'Mapre1'\n",
    "# obs_col = 'sample'\n",
    "# obs_condition = 'f1219'\n",
    "# ax, tpm_df = plot_browser_isos(m_ca, m_sg, gene,\n",
    "#                              obs_col, obs_condition,\n",
    "#                              mouse_filt_ab, major_set_mouse,\n",
    "#                              h=0.2, ref_source='vM25', species='mouse')"
   ]
  },
  {
   "cell_type": "code",
   "execution_count": 50,
   "id": "bb6a5983-6539-49f6-ab20-66086751b437",
   "metadata": {},
   "outputs": [],
   "source": [
    "# plot_human_mouse(ca, m_ca, df, 'GTF2F1')"
   ]
  },
  {
   "cell_type": "code",
   "execution_count": 51,
   "id": "8e3f07b0-2052-4ffe-bbd9-6db99e795b40",
   "metadata": {},
   "outputs": [],
   "source": [
    "# ca.triplets.loc[(ca.triplets.source=='sample_det')&(ca.triplets.gname=='GTF2F1')]"
   ]
  },
  {
   "cell_type": "code",
   "execution_count": 52,
   "id": "b1637019-613d-4014-b717-ad80dd080d27",
   "metadata": {},
   "outputs": [],
   "source": [
    "# m_ca.triplets.loc[(m_ca.triplets.source=='sample_det')&(m_ca.triplets.gname=='Gtf2f1')]"
   ]
  },
  {
   "cell_type": "code",
   "execution_count": 53,
   "id": "da499217-215f-480a-8589-eeb17592c5e3",
   "metadata": {},
   "outputs": [],
   "source": [
    "# gene = 'GTF2F1'\n",
    "# obs_col = 'sample'\n",
    "# obs_condition = 'h1'\n",
    "# ax, tpm_df = plot_browser_isos(ca, sg, gene,\n",
    "#                              obs_col, obs_condition,\n",
    "#                              filt_ab, major_set,\n",
    "#                              h=0.2, ref_source='v40')"
   ]
  },
  {
   "cell_type": "code",
   "execution_count": 54,
   "id": "c18fbbc1-1d66-4f51-a895-7160bcdf397a",
   "metadata": {},
   "outputs": [],
   "source": [
    "# gene = 'Gtf2f1'\n",
    "# obs_col = 'sample'\n",
    "# obs_condition = 'f1219'\n",
    "# ax, tpm_df = plot_browser_isos(m_ca, m_sg, gene,\n",
    "#                              obs_col, obs_condition,\n",
    "#                              mouse_filt_ab, major_set_mouse,\n",
    "#                              h=0.2, ref_source='vM25', species='mouse')"
   ]
  },
  {
   "cell_type": "code",
   "execution_count": 55,
   "id": "487d9202-2f92-4ad4-9333-a5931c69911f",
   "metadata": {},
   "outputs": [],
   "source": [
    "# plot_human_mouse(ca, m_ca, df, 'PIGX')"
   ]
  },
  {
   "cell_type": "code",
   "execution_count": 56,
   "id": "0cff40c2-4c59-45d6-85ba-8b70ea6ab45b",
   "metadata": {},
   "outputs": [],
   "source": [
    "# ca.triplets.loc[(ca.triplets.source=='sample_det')&(ca.triplets.gname=='PIGX')]"
   ]
  },
  {
   "cell_type": "code",
   "execution_count": 57,
   "id": "f7d2f636-d7c7-4dbc-8717-eeda190b0b49",
   "metadata": {},
   "outputs": [],
   "source": [
    "# m_ca.triplets.loc[(m_ca.triplets.source=='sample_det')&(m_ca.triplets.gname=='Pigx')]"
   ]
  },
  {
   "cell_type": "code",
   "execution_count": 58,
   "id": "866ebe9f-fa78-4c97-9bd9-929eaca233f4",
   "metadata": {},
   "outputs": [],
   "source": [
    "# gene = 'PIGX'\n",
    "# obs_col = 'sample'\n",
    "# obs_condition = 'brain'\n",
    "# ax, tpm_df = plot_browser_isos(ca, sg, gene,\n",
    "#                              obs_col, obs_condition,\n",
    "#                              filt_ab, major_set,\n",
    "#                              h=0.2, ref_source='v40')"
   ]
  },
  {
   "cell_type": "code",
   "execution_count": 59,
   "id": "06278f3d-29cb-43de-a0f1-e8ef1b45eed3",
   "metadata": {},
   "outputs": [],
   "source": [
    "# obs_condition = 'cortex_14d'\n",
    "# gene = 'Pigx'\n",
    "# obs_col = 'sample'\n",
    "# obs_condition = 'cortex_14d'\n",
    "# ax, tpm_df = plot_browser_isos(m_ca, m_sg, gene,\n",
    "#                              obs_col, obs_condition,\n",
    "#                              mouse_filt_ab, major_set_mouse,\n",
    "#                              h=0.2, ref_source='vM25', species='mouse')"
   ]
  },
  {
   "cell_type": "code",
   "execution_count": 60,
   "id": "f79311f1-33b9-4014-a108-f1b224cb9616",
   "metadata": {},
   "outputs": [],
   "source": [
    "# plot_human_mouse(ca, m_ca, df, 'PPFIBP1')"
   ]
  },
  {
   "cell_type": "code",
   "execution_count": 61,
   "id": "c136858e-ffff-44f5-8585-dbdda655be5e",
   "metadata": {},
   "outputs": [],
   "source": [
    "# ca.triplets.loc[(ca.triplets.source=='sample_det')&(ca.triplets.gname=='PPFIBP1')]"
   ]
  },
  {
   "cell_type": "code",
   "execution_count": 62,
   "id": "c246900d-e3a2-42e2-a388-0cb6da148a9c",
   "metadata": {},
   "outputs": [],
   "source": [
    "# m_ca.triplets.loc[(m_ca.triplets.source=='sample_det')&(m_ca.triplets.gname=='Ppfibp1')]"
   ]
  },
  {
   "cell_type": "code",
   "execution_count": 63,
   "id": "7dfcf8bb-2ca7-40e9-b17b-3e031353be62",
   "metadata": {},
   "outputs": [],
   "source": [
    "# gene = 'PPFIBP1'\n",
    "# obs_col = 'sample'\n",
    "# obs_condition = 'heart'\n",
    "# ax, tpm_df = plot_browser_isos(ca, sg, gene,\n",
    "#                              obs_col, obs_condition,\n",
    "#                              filt_ab, major_set,\n",
    "#                              h=0.2, ref_source='v40')"
   ]
  },
  {
   "cell_type": "code",
   "execution_count": 64,
   "id": "ae3e1ded-d249-4273-8ca9-2fa0d8194315",
   "metadata": {},
   "outputs": [],
   "source": [
    "# gene = 'Ppfibp1'\n",
    "# obs_col = 'sample'\n",
    "# obs_condition = 'heart_2mo'\n",
    "# ax, tpm_df = plot_browser_isos(m_ca, m_sg, gene,\n",
    "#                              obs_col, obs_condition,\n",
    "#                              mouse_filt_ab, major_set_mouse,\n",
    "#                              h=0.2, ref_source='vM25', species='mouse')"
   ]
  },
  {
   "cell_type": "code",
   "execution_count": null,
   "id": "f56d6e7a-ccec-48eb-a8d9-ba6107c53670",
   "metadata": {},
   "outputs": [],
   "source": []
  },
  {
   "cell_type": "code",
   "execution_count": null,
   "id": "7b4ec026-cc8c-459f-a6ee-f87ab6ea4164",
   "metadata": {},
   "outputs": [],
   "source": []
  },
  {
   "cell_type": "code",
   "execution_count": null,
   "id": "597ceff5-4279-427f-b68a-814234d56a93",
   "metadata": {},
   "outputs": [],
   "source": []
  },
  {
   "cell_type": "code",
   "execution_count": null,
   "id": "5ddc26ba-8d20-47f8-a212-f36a00dae9a1",
   "metadata": {},
   "outputs": [],
   "source": []
  },
  {
   "cell_type": "code",
   "execution_count": null,
   "id": "4fe07783-623a-45ac-8fad-ebc7474c4eee",
   "metadata": {},
   "outputs": [],
   "source": []
  }
 ],
 "metadata": {
  "kernelspec": {
   "display_name": "Python 3",
   "language": "python",
   "name": "python3"
  },
  "language_info": {
   "codemirror_mode": {
    "name": "ipython",
    "version": 3
   },
   "file_extension": ".py",
   "mimetype": "text/x-python",
   "name": "python",
   "nbconvert_exporter": "python",
   "pygments_lexer": "ipython3",
   "version": "3.7.4"
  }
 },
 "nbformat": 4,
 "nbformat_minor": 5
}
