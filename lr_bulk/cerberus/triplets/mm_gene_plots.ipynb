{
 "cells": [
  {
   "cell_type": "code",
   "execution_count": 1,
   "id": "617974ab-d514-4e1c-958a-ccd6d606f39f",
   "metadata": {},
   "outputs": [],
   "source": [
    "import pandas as pd\n",
    "import numpy as np\n",
    "import scipy.stats as st\n",
    "import seaborn as sns\n",
    "import sys\n",
    "import os\n",
    "import gseapy as gp\n",
    "import pdb\n",
    "import copy\n",
    "from scipy import sparse\n",
    "import anndata\n",
    "import cerberus\n",
    "\n",
    "p = os.path.dirname(os.path.dirname(os.path.dirname(os.getcwd())))\n",
    "sys.path.append(p)\n",
    "\n",
    "from scripts.utils import *\n",
    "from scripts.plotting import *"
   ]
  },
  {
   "cell_type": "code",
   "execution_count": 2,
   "id": "68bc73a0-ea0f-470a-a70c-610594e250a5",
   "metadata": {},
   "outputs": [],
   "source": [
    "ca = cerberus.read('cerberus_annot_triplets.h5')"
   ]
  },
  {
   "cell_type": "code",
   "execution_count": 3,
   "id": "99ce20ae-685c-424c-9bf1-f293972fc93a",
   "metadata": {},
   "outputs": [
    {
     "data": {
      "text/plain": [
       "array(['lapa', 'v40', 'gtex', 'v29', 'all', 'obs_det', 'sample_det',\n",
       "       'obs_major', 'sample_major', 'obs_mm_det', 'obs_mm_major'],\n",
       "      dtype=object)"
      ]
     },
     "execution_count": 3,
     "metadata": {},
     "output_type": "execute_result"
    }
   ],
   "source": [
    "ca.triplets.source.unique()"
   ]
  },
  {
   "cell_type": "code",
   "execution_count": 4,
   "id": "18a76738-527c-45c8-bba3-4ac4eecfcb29",
   "metadata": {},
   "outputs": [
    {
     "name": "stdout",
     "output_type": "stream",
     "text": [
      "['adrenal gland', 'heart', 'muscle', 'brain', 'pgp1_excite_neuron', 'pgp1_astro', 'h9_osteocyte', 'h1', 'wtc11']\n"
     ]
    }
   ],
   "source": [
    "# mouse match stuff\n",
    "c_dict, order = get_biosample_colors()\n",
    "c_dict[np.nan] = 'k'\n",
    "\n",
    "mm_tissues = get_mouse_match_samples()\n",
    "print(mm_tissues)\n",
    "mm_tissues += [np.nan]\n",
    "mmap = {'v40': '*', 'v29': 'x', 'obs_mm_det': '^', 'cerberus': '2'}\n",
    "subset = {'source': ['v40', 'obs_mm_det', 'sample_det']}\n",
    "\n",
    "# can't subset the way that I want because I want to use and and or logic...\n",
    "ca.triplets = ca.triplets.loc[ca.triplets.source.isin(subset['source'])]\n",
    "ca.triplets = ca.triplets.loc[ca.triplets['sample'].isin(mm_tissues)]"
   ]
  },
  {
   "cell_type": "code",
   "execution_count": 5,
   "id": "accf0c56-4b6b-405e-9a40-2a3384ce6179",
   "metadata": {},
   "outputs": [
    {
     "name": "stdout",
     "output_type": "stream",
     "text": [
      "0.4\n",
      "12.0\n",
      "(2.1431999999999998, 2.0)\n"
     ]
    },
    {
     "data": {
      "image/png": "[encoded data removed]",
      "text/plain": [
       "<Figure size 154.31x144 with 1 Axes>"
      ]
     },
     "metadata": {},
     "output_type": "display_data"
    }
   ],
   "source": [
    "# Ctcf\n",
    "df = ca.plot_simplex(top='splicing_ratio', \n",
    "            gene='CTCF',\n",
    "            hue='sample',\n",
    "            cmap=c_dict,\n",
    "            size='gene_tpm', \n",
    "            log_size=True,\n",
    "            sectors=True,\n",
    "            marker_style='source',\n",
    "            mmap=mmap,\n",
    "            jitter=True,\n",
    "            legend=False,\n",
    "            subset=subset,\n",
    "            size_scale=0.2,\n",
    "            order_marker_sizes=True,\n",
    "            fname='figures/simplex_ctcf_mm.pdf')"
   ]
  },
  {
   "cell_type": "code",
   "execution_count": 6,
   "id": "f8d226c5-5691-4989-8f2e-e73b2db6f625",
   "metadata": {},
   "outputs": [
    {
     "name": "stdout",
     "output_type": "stream",
     "text": [
      "0.4\n",
      "12.0\n",
      "(2.1431999999999998, 2.0)\n"
     ]
    },
    {
     "data": {
      "image/png": "[encoded data removed]",
      "text/plain": [
       "<Figure size 154.31x144 with 1 Axes>"
      ]
     },
     "metadata": {},
     "output_type": "display_data"
    }
   ],
   "source": [
    "# Tcf3\n",
    "df = ca.plot_simplex(top='splicing_ratio', \n",
    "            gene='TCF3',\n",
    "            hue='sample',\n",
    "            cmap=c_dict,\n",
    "            size='gene_tpm', \n",
    "            log_size=True,\n",
    "            sectors=True,\n",
    "            marker_style='source',\n",
    "            mmap=mmap,\n",
    "            jitter=True,\n",
    "            legend=False,\n",
    "            subset=subset,\n",
    "            size_scale=0.2,\n",
    "            order_marker_sizes=True,\n",
    "            fname='figures/simplex_tcf3_mm.pdf')"
   ]
  },
  {
   "cell_type": "code",
   "execution_count": null,
   "id": "237d7f91-b361-4e9c-922f-9f0f507ccd45",
   "metadata": {},
   "outputs": [],
   "source": []
  }
 ],
 "metadata": {
  "kernelspec": {
   "display_name": "Python 3",
   "language": "python",
   "name": "python3"
  },
  "language_info": {
   "codemirror_mode": {
    "name": "ipython",
    "version": 3
   },
   "file_extension": ".py",
   "mimetype": "text/x-python",
   "name": "python",
   "nbconvert_exporter": "python",
   "pygments_lexer": "ipython3",
   "version": "3.7.4"
  }
 },
 "nbformat": 4,
 "nbformat_minor": 5
}
