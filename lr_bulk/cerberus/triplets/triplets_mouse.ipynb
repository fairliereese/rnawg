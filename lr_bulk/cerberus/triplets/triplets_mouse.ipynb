{
 "cells": [
  {
   "cell_type": "code",
   "execution_count": 1,
   "id": "faa49d19-cecb-4e28-ac1b-d04d194cd07f",
   "metadata": {},
   "outputs": [],
   "source": [
    "import pandas as pd\n",
    "import numpy as np\n",
    "import scipy.stats as st\n",
    "import seaborn as sns\n",
    "import sys\n",
    "import os\n",
    "import gseapy as gp\n",
    "import pdb\n",
    "import copy\n",
    "from scipy import sparse\n",
    "import anndata\n",
    "import cerberus\n",
    "\n",
    "\n",
    "p = os.path.dirname(os.path.dirname(os.getcwd()))\n",
    "sys.path.append(p)\n",
    "\n",
    "from scripts.utils import *\n",
    "from scripts.plotting import *"
   ]
  },
  {
   "cell_type": "code",
   "execution_count": 4,
   "id": "b0a715fe-7505-4496-906a-81d1d29d3608",
   "metadata": {},
   "outputs": [
    {
     "data": {
      "text/html": [
       "<div>\n",
       "<style scoped>\n",
       "    .dataframe tbody tr th:only-of-type {\n",
       "        vertical-align: middle;\n",
       "    }\n",
       "\n",
       "    .dataframe tbody tr th {\n",
       "        vertical-align: top;\n",
       "    }\n",
       "\n",
       "    .dataframe thead th {\n",
       "        text-align: right;\n",
       "    }\n",
       "</style>\n",
       "<table border=\"1\" class=\"dataframe\">\n",
       "  <thead>\n",
       "    <tr style=\"text-align: right;\">\n",
       "      <th></th>\n",
       "      <th>gid</th>\n",
       "      <th>gname</th>\n",
       "      <th>length</th>\n",
       "      <th>biotype</th>\n",
       "      <th>biotype_category</th>\n",
       "      <th>tf</th>\n",
       "    </tr>\n",
       "  </thead>\n",
       "  <tbody>\n",
       "    <tr>\n",
       "      <th>0</th>\n",
       "      <td>ENSMUSG00000000544.14</td>\n",
       "      <td>Gpa33</td>\n",
       "      <td>36373</td>\n",
       "      <td>protein_coding</td>\n",
       "      <td>protein_coding</td>\n",
       "      <td>False</td>\n",
       "    </tr>\n",
       "    <tr>\n",
       "      <th>1</th>\n",
       "      <td>ENSMUSG00000001138.13</td>\n",
       "      <td>Cnnm3</td>\n",
       "      <td>16471</td>\n",
       "      <td>protein_coding</td>\n",
       "      <td>protein_coding</td>\n",
       "      <td>False</td>\n",
       "    </tr>\n",
       "    <tr>\n",
       "      <th>2</th>\n",
       "      <td>ENSMUSG00000003135.15</td>\n",
       "      <td>Cnot11</td>\n",
       "      <td>11998</td>\n",
       "      <td>protein_coding</td>\n",
       "      <td>protein_coding</td>\n",
       "      <td>False</td>\n",
       "    </tr>\n",
       "    <tr>\n",
       "      <th>3</th>\n",
       "      <td>ENSMUSG00000003464.13</td>\n",
       "      <td>Pex19</td>\n",
       "      <td>9839</td>\n",
       "      <td>protein_coding</td>\n",
       "      <td>protein_coding</td>\n",
       "      <td>False</td>\n",
       "    </tr>\n",
       "    <tr>\n",
       "      <th>4</th>\n",
       "      <td>ENSMUSG00000004552.16</td>\n",
       "      <td>Ctse</td>\n",
       "      <td>37300</td>\n",
       "      <td>protein_coding</td>\n",
       "      <td>protein_coding</td>\n",
       "      <td>False</td>\n",
       "    </tr>\n",
       "  </tbody>\n",
       "</table>\n",
       "</div>"
      ],
      "text/plain": [
       "                     gid   gname  length         biotype biotype_category  \\\n",
       "0  ENSMUSG00000000544.14   Gpa33   36373  protein_coding   protein_coding   \n",
       "1  ENSMUSG00000001138.13   Cnnm3   16471  protein_coding   protein_coding   \n",
       "2  ENSMUSG00000003135.15  Cnot11   11998  protein_coding   protein_coding   \n",
       "3  ENSMUSG00000003464.13   Pex19    9839  protein_coding   protein_coding   \n",
       "4  ENSMUSG00000004552.16    Ctse   37300  protein_coding   protein_coding   \n",
       "\n",
       "      tf  \n",
       "0  False  \n",
       "1  False  \n",
       "2  False  \n",
       "3  False  \n",
       "4  False  "
      ]
     },
     "execution_count": 4,
     "metadata": {},
     "output_type": "execute_result"
    }
   ],
   "source": [
    "df, _, _ = get_gtf_info(how='gene', ver='vM25_cerberus')\n",
    "df.head()"
   ]
  },
  {
   "cell_type": "code",
   "execution_count": 5,
   "id": "f4f25a98-7f5a-4fc4-a187-8b9bde81014b",
   "metadata": {},
   "outputs": [],
   "source": [
    "h5 = '/Users/fairliereese/mortazavi_lab/data/mousewg/lr_bulk/cerberus/cerberus_annot.h5'\n",
    "filt_ab = '/Users/fairliereese/mortazavi_lab/data/mousewg/lr_bulk/cerberus/cerberus_filtered_abundance.tsv'\n",
    "swangraph = '/Users/fairliereese/mortazavi_lab/data/mousewg/lr_bulk/cerberus/swan/swan.p'"
   ]
  },
  {
   "cell_type": "markdown",
   "id": "0295f051-67c6-4730-b104-5b5fcc474d03",
   "metadata": {},
   "source": [
    "## Get triplets functions for cerberus annotation"
   ]
  },
  {
   "cell_type": "code",
   "execution_count": 8,
   "id": "8cd6736a-1f9e-4ec4-ae49-993a3e442248",
   "metadata": {},
   "outputs": [
    {
     "name": "stdout",
     "output_type": "stream",
     "text": [
      "Read in graph from /Users/fairliereese/mortazavi_lab/data/mousewg/lr_bulk/cerberus/swan/swan.p\n"
     ]
    }
   ],
   "source": [
    "ca = cerberus.read(h5)\n",
    "sg = swan.read(swangraph)\n",
    "ca.set_sg(sg)"
   ]
  },
  {
   "cell_type": "code",
   "execution_count": 9,
   "id": "e3556d39-05ee-46ba-9536-dce5c3a3166e",
   "metadata": {},
   "outputs": [],
   "source": [
    "source_trip = ca.get_source_triplets(sg)\n",
    "source_trip.to_csv('mouse_source_triplets.tsv', sep='\\t', index=False)"
   ]
  },
  {
   "cell_type": "markdown",
   "id": "ad33d0f3-8819-4641-afd8-8db97acf7d2f",
   "metadata": {},
   "source": [
    "## Get triplets from list of tids "
   ]
  },
  {
   "cell_type": "code",
   "execution_count": 11,
   "id": "41008dff-be0a-4ab2-bd7f-e3621de99c6c",
   "metadata": {},
   "outputs": [
    {
     "name": "stdout",
     "output_type": "stream",
     "text": [
      "Calculating iso TPM values\n"
     ]
    },
    {
     "name": "stderr",
     "output_type": "stream",
     "text": [
      "/Users/fairliereese/Documents/programming/mortazavi_lab/data/rnawg/scripts/utils.py:1478: PerformanceWarning: DataFrame is highly fragmented.  This is usually the result of calling `frame.insert` many times, which has poor performance.  Consider joining all columns at once using pd.concat(axis=1) instead.  To get a de-fragmented frame, use `newframe = frame.copy()`\n",
      "  df[tpm_col] = (df[d]*1000000)/df[total_col]\n",
      "/Users/fairliereese/Documents/programming/mortazavi_lab/data/rnawg/scripts/utils.py:1477: PerformanceWarning: DataFrame is highly fragmented.  This is usually the result of calling `frame.insert` many times, which has poor performance.  Consider joining all columns at once using pd.concat(axis=1) instead.  To get a de-fragmented frame, use `newframe = frame.copy()`\n",
      "  df[total_col] = df[d].sum()\n"
     ]
    },
    {
     "name": "stdout",
     "output_type": "stream",
     "text": [
      "Enforcing minimum TPM\n",
      "Total # isos detected: 145708\n",
      "# isos >= 1 tpm: 136394\n",
      "Number of isos reported: 136394\n"
     ]
    }
   ],
   "source": [
    "df = pd.read_csv(filt_ab, sep='\\t')\n",
    "df, tids = get_tpm_table(df,\n",
    "               how='iso',\n",
    "               min_tpm=1,\n",
    "               species='mouse',\n",
    "               sample='mouse')"
   ]
  },
  {
   "cell_type": "code",
   "execution_count": 12,
   "id": "72980427-b121-4138-b2c2-478088c98a59",
   "metadata": {},
   "outputs": [],
   "source": [
    "def get_subset_triplets(ca, tids, source):\n",
    "    df = pd.DataFrame()\n",
    "    df['tid'] = tids\n",
    "\n",
    "    df = add_feat(df, kind='tss', col='tid')\n",
    "    df = add_feat(df, kind='ic', col='tid')\n",
    "    df = add_feat(df, kind='tes', col='tid', drop_gid=False)\n",
    "    df.rename({'temp_gid': 'gene_id',\n",
    "               'tss': 'tss_id', \n",
    "               'ic': 'ic_id', \n",
    "               'tes': 'tes_id'}, axis=1, inplace=True)\n",
    "    df = df.groupby('gene_id').nunique()\n",
    "    df.rename({'tss_id': 'n_tss',\n",
    "                 'ic_id': 'n_ic',\n",
    "                 'tes_id': 'n_tes',\n",
    "                 'tid': 'n_iso'}, axis=1, inplace=True)\n",
    "    df.reset_index(inplace=True)\n",
    "    df = cerberus.compute_splicing_ratio(df)\n",
    "    \n",
    "    # add the gene id\n",
    "    temp = ca.sg.t_df[['gid', 'gname']].copy(deep=True)\n",
    "    df.rename({'gene_id': 'gid'}, axis=1, inplace=True)\n",
    "    temp.rename({'gid':'gene_id'}, axis=1, inplace=True)\n",
    "    temp = cerberus.add_stable_gid(temp)\n",
    "    temp.reset_index(drop=True)\n",
    "    temp.drop_duplicates(inplace=True)\n",
    "    temp.rename({'gene_id': 'gid'}, axis=1, inplace=True)\n",
    "    df = df.merge(temp, how='left', on='gid')\n",
    "    \n",
    "    df['source'] = source\n",
    "    return df"
   ]
  },
  {
   "cell_type": "code",
   "execution_count": 13,
   "id": "01abdeb0-205f-4e94-a84b-aecd93a590ad",
   "metadata": {},
   "outputs": [],
   "source": [
    "temp = get_subset_triplets(ca, tids, 'lapa_det')\n",
    "source_trip = pd.concat([source_trip, temp], axis=0)\n",
    "source_trip.to_csv('mouse_source_triplets.tsv', sep='\\t', index=False)"
   ]
  },
  {
   "cell_type": "markdown",
   "id": "4eae0ae8-6f65-475d-bb63-f0d111809820",
   "metadata": {},
   "source": [
    "## Expressed triplets"
   ]
  },
  {
   "cell_type": "code",
   "execution_count": 14,
   "id": "d8b40a3d-aeaa-4ef3-a591-6076eb9085f2",
   "metadata": {},
   "outputs": [],
   "source": [
    "obs_col = 'sample'\n",
    "min_tpm = 1\n",
    "e_trip = ca.get_expressed_triplets(obs_col=obs_col, min_tpm=min_tpm)\n",
    "e_trip.to_csv('mouse_expressed_triplets.tsv', sep='\\t', index=False)"
   ]
  },
  {
   "cell_type": "code",
   "execution_count": 17,
   "id": "e82075bf-ca88-4685-82ac-8ddb920bda60",
   "metadata": {},
   "outputs": [],
   "source": [
    "# # reference + expressed triplets\n",
    "# e_trip = pd.read_csv('mouse_expressed_triplets.tsv', sep='\\t')\n",
    "# s_trip = pd.read_csv('mouse_source_triplets.tsv', sep='\\t')\n",
    "\n",
    "# # for now, hack together dfs to work with existing code\n",
    "# e_trip.rename({'sample': 'source'}, axis=1, inplace=True)\n",
    "# trips = pd.concat([s_trip, e_trip])\n",
    "# trips.loc[trips.source == 'lapa_det', 'source'] = 'obs'\n",
    "# trips.loc[trips.source=='all', 'source'] = 'cerberus'\n",
    "\n",
    "# # remove all observed triplets\n",
    "# trips = trips.loc[trips.source != 'lapa']"
   ]
  },
  {
   "cell_type": "code",
   "execution_count": 18,
   "id": "e550885b-2788-4ac4-aa27-164ad3636cc7",
   "metadata": {},
   "outputs": [],
   "source": [
    "# c_dict, order = get_lr_bulk_sample_colors()\n"
   ]
  },
  {
   "cell_type": "code",
   "execution_count": null,
   "id": "8c84561b-5b31-4beb-9f1d-d9141128d681",
   "metadata": {},
   "outputs": [],
   "source": []
  }
 ],
 "metadata": {
  "kernelspec": {
   "display_name": "Python 3",
   "language": "python",
   "name": "python3"
  },
  "language_info": {
   "codemirror_mode": {
    "name": "ipython",
    "version": 3
   },
   "file_extension": ".py",
   "mimetype": "text/x-python",
   "name": "python",
   "nbconvert_exporter": "python",
   "pygments_lexer": "ipython3",
   "version": "3.7.4"
  }
 },
 "nbformat": 4,
 "nbformat_minor": 5
}
