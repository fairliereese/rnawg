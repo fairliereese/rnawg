{
 "cells": [
  {
   "cell_type": "code",
   "execution_count": 1,
   "id": "nervous-grant",
   "metadata": {},
   "outputs": [],
   "source": [
    "import pandas as pd\n",
    "import numpy as np\n",
    "import scipy.stats as st\n",
    "import seaborn as sns\n",
    "import sys\n",
    "import os\n",
    "\n",
    "p = os.path.dirname(os.path.dirname(os.getcwd()))\n",
    "sys.path.append(p)\n",
    "\n",
    "from scripts.utils import *\n",
    "from scripts.plotting import *"
   ]
  },
  {
   "cell_type": "markdown",
   "id": "sorted-indonesia",
   "metadata": {},
   "source": [
    "## PolyA gene transcript detection"
   ]
  },
  {
   "cell_type": "markdown",
   "id": "distinct-bookmark",
   "metadata": {},
   "source": [
    "What fraction of polyA genes from the annotation do we detect with at least 1 known isoform >= 1 TPM in any library?"
   ]
  },
  {
   "cell_type": "code",
   "execution_count": 3,
   "id": "macro-companion",
   "metadata": {},
   "outputs": [
    {
     "name": "stdout",
     "output_type": "stream",
     "text": [
      "Calculating iso TPM values\n",
      "Subsetting for polyA genes\n",
      "Enforcing minimum TPM\n",
      "Total # isos detected: 85348\n",
      "# isos >= 1 tpm: 77128\n",
      "Subsetting on polya genes\n",
      "Number of isos reported: 74796\n"
     ]
    }
   ],
   "source": [
    "df = pd.read_csv('human_talon_abundance.tsv', sep='\\t')\n",
    "df = get_tpm_table(df,\n",
    "                   how='iso',\n",
    "                   nov=['Known'],\n",
    "                   min_tpm=1,\n",
    "                   gene_subset='polya')"
   ]
  },
  {
   "cell_type": "code",
   "execution_count": 3,
   "id": "agricultural-camping",
   "metadata": {},
   "outputs": [],
   "source": [
    "# merge with gene id\n",
    "gene_df = pd.read_csv('human_talon_abundance.tsv', sep='\\t')\n",
    "gene_df = gene_df[['annot_gene_id', 'annot_transcript_id']]\n",
    "df = df.merge(gene_df, how='left', left_index=True, right_on='annot_transcript_id')"
   ]
  },
  {
   "cell_type": "code",
   "execution_count": 4,
   "id": "chief-worse",
   "metadata": {},
   "outputs": [
    {
     "name": "stdout",
     "output_type": "stream",
     "text": [
      "Detected 24936 / 49472 annotated polyA genes w/ at least 1 known transcript >= 1 TPM\n"
     ]
    }
   ],
   "source": [
    "gene_df, _, _ = get_gtf_info(how='gene')\n",
    "\n",
    "polya_biotypes = ['protein_coding', 'pseudogene', 'lncRNA']\n",
    "polya_genes = gene_df.loc[gene_df.biotype_category.isin(polya_biotypes), 'gid'].tolist()\n",
    "n_polya = len(polya_genes)\n",
    "n_det_polya = len(df.annot_gene_id.unique().tolist())\n",
    "\n",
    "print('Detected {} / {} annotated polyA genes w/ at least 1 known transcript >= 1 TPM'.format(n_det_polya, n_polya))"
   ]
  },
  {
   "cell_type": "markdown",
   "id": "banner-singing",
   "metadata": {},
   "source": [
    "## Protein coding gene transcript detection"
   ]
  },
  {
   "cell_type": "markdown",
   "id": "round-orientation",
   "metadata": {},
   "source": [
    "What fraction of protein-coding genes do we detect with at least 1 known isoform >= 1 TPM in any library?"
   ]
  },
  {
   "cell_type": "code",
   "execution_count": 26,
   "id": "serial-antique",
   "metadata": {},
   "outputs": [
    {
     "name": "stdout",
     "output_type": "stream",
     "text": [
      "Calculating iso TPM values\n",
      "Enforcing minimum TPM\n",
      "Total # isos detected: 85348\n",
      "# isos >= 1 tpm: 77128\n",
      "Number of isos reported: 77128\n"
     ]
    }
   ],
   "source": [
    "df = pd.read_csv('human_talon_abundance.tsv', sep='\\t')\n",
    "# no gene subset here so we can look at all other genes\n",
    "df, tids = get_tpm_table(df,\n",
    "                   how='iso',\n",
    "                   nov=['Known'],\n",
    "                   min_tpm=1)"
   ]
  },
  {
   "cell_type": "code",
   "execution_count": 27,
   "id": "identified-bones",
   "metadata": {},
   "outputs": [],
   "source": [
    "# merge with gene id\n",
    "gene_df = pd.read_csv('human_talon_abundance.tsv', sep='\\t')\n",
    "gene_df = gene_df[['annot_gene_id', 'annot_transcript_id']]\n",
    "df = df.merge(gene_df, how='left', left_index=True, right_on='annot_transcript_id')"
   ]
  },
  {
   "cell_type": "code",
   "execution_count": 28,
   "id": "rolled-rabbit",
   "metadata": {},
   "outputs": [],
   "source": [
    "gene_df, b_counts, b_cat_counts = get_gtf_info(how='gene')\n",
    "df = df.merge(gene_df, how='left', left_on='annot_gene_id', right_on='gid')"
   ]
  },
  {
   "cell_type": "code",
   "execution_count": 29,
   "id": "lonely-satisfaction",
   "metadata": {},
   "outputs": [
    {
     "data": {
      "text/html": [
       "<div>\n",
       "<style scoped>\n",
       "    .dataframe tbody tr th:only-of-type {\n",
       "        vertical-align: middle;\n",
       "    }\n",
       "\n",
       "    .dataframe tbody tr th {\n",
       "        vertical-align: top;\n",
       "    }\n",
       "\n",
       "    .dataframe thead th {\n",
       "        text-align: right;\n",
       "    }\n",
       "</style>\n",
       "<table border=\"1\" class=\"dataframe\">\n",
       "  <thead>\n",
       "    <tr style=\"text-align: right;\">\n",
       "      <th></th>\n",
       "      <th>gm12878_1_1</th>\n",
       "      <th>gm12878_1_2</th>\n",
       "      <th>gm12878_1_3</th>\n",
       "      <th>gm12878_1_4</th>\n",
       "      <th>gm12878_3_1</th>\n",
       "      <th>gm12878_2_1</th>\n",
       "      <th>gm12878_2_2</th>\n",
       "      <th>pgp1_1_1</th>\n",
       "      <th>pgp1_1_2</th>\n",
       "      <th>h9_1_1</th>\n",
       "      <th>...</th>\n",
       "      <th>right_lobe_of_liver_2_1</th>\n",
       "      <th>right_ventricle_myocardium_inferior_1_1</th>\n",
       "      <th>right_ventricle_myocardium_superior_1_1</th>\n",
       "      <th>upper_lobe_of_right_lung_1_1</th>\n",
       "      <th>annot_gene_id</th>\n",
       "      <th>annot_transcript_id</th>\n",
       "      <th>gid</th>\n",
       "      <th>length</th>\n",
       "      <th>biotype</th>\n",
       "      <th>biotype_category</th>\n",
       "    </tr>\n",
       "  </thead>\n",
       "  <tbody>\n",
       "    <tr>\n",
       "      <th>0</th>\n",
       "      <td>0.0</td>\n",
       "      <td>0.0</td>\n",
       "      <td>0.0</td>\n",
       "      <td>0.0</td>\n",
       "      <td>0.0</td>\n",
       "      <td>0.0</td>\n",
       "      <td>0.0</td>\n",
       "      <td>0.000000</td>\n",
       "      <td>0.000000</td>\n",
       "      <td>0.000000</td>\n",
       "      <td>...</td>\n",
       "      <td>0.0</td>\n",
       "      <td>0.0</td>\n",
       "      <td>0.0</td>\n",
       "      <td>0.0</td>\n",
       "      <td>ENSG00000243485.5</td>\n",
       "      <td>ENST00000469289.1</td>\n",
       "      <td>ENSG00000243485.5</td>\n",
       "      <td>1555</td>\n",
       "      <td>lincRNA</td>\n",
       "      <td>lncRNA</td>\n",
       "    </tr>\n",
       "    <tr>\n",
       "      <th>1</th>\n",
       "      <td>0.0</td>\n",
       "      <td>0.0</td>\n",
       "      <td>0.0</td>\n",
       "      <td>0.0</td>\n",
       "      <td>0.0</td>\n",
       "      <td>0.0</td>\n",
       "      <td>0.0</td>\n",
       "      <td>1.737626</td>\n",
       "      <td>1.618796</td>\n",
       "      <td>0.000000</td>\n",
       "      <td>...</td>\n",
       "      <td>0.0</td>\n",
       "      <td>0.0</td>\n",
       "      <td>0.0</td>\n",
       "      <td>0.0</td>\n",
       "      <td>ENSG00000237613.2</td>\n",
       "      <td>ENST00000417324.1</td>\n",
       "      <td>ENSG00000237613.2</td>\n",
       "      <td>1527</td>\n",
       "      <td>lincRNA</td>\n",
       "      <td>lncRNA</td>\n",
       "    </tr>\n",
       "    <tr>\n",
       "      <th>2</th>\n",
       "      <td>0.0</td>\n",
       "      <td>0.0</td>\n",
       "      <td>0.0</td>\n",
       "      <td>0.0</td>\n",
       "      <td>0.0</td>\n",
       "      <td>0.0</td>\n",
       "      <td>0.0</td>\n",
       "      <td>1.737626</td>\n",
       "      <td>0.000000</td>\n",
       "      <td>0.000000</td>\n",
       "      <td>...</td>\n",
       "      <td>0.0</td>\n",
       "      <td>0.0</td>\n",
       "      <td>0.0</td>\n",
       "      <td>0.0</td>\n",
       "      <td>ENSG00000237613.2</td>\n",
       "      <td>ENST00000461467.1</td>\n",
       "      <td>ENSG00000237613.2</td>\n",
       "      <td>1527</td>\n",
       "      <td>lincRNA</td>\n",
       "      <td>lncRNA</td>\n",
       "    </tr>\n",
       "    <tr>\n",
       "      <th>3</th>\n",
       "      <td>0.0</td>\n",
       "      <td>0.0</td>\n",
       "      <td>0.0</td>\n",
       "      <td>0.0</td>\n",
       "      <td>0.0</td>\n",
       "      <td>0.0</td>\n",
       "      <td>0.0</td>\n",
       "      <td>0.000000</td>\n",
       "      <td>0.000000</td>\n",
       "      <td>0.000000</td>\n",
       "      <td>...</td>\n",
       "      <td>0.0</td>\n",
       "      <td>0.0</td>\n",
       "      <td>0.0</td>\n",
       "      <td>0.0</td>\n",
       "      <td>ENSG00000233750.3</td>\n",
       "      <td>ENST00000442987.3</td>\n",
       "      <td>ENSG00000233750.3</td>\n",
       "      <td>3811</td>\n",
       "      <td>processed_pseudogene</td>\n",
       "      <td>pseudogene</td>\n",
       "    </tr>\n",
       "    <tr>\n",
       "      <th>4</th>\n",
       "      <td>0.0</td>\n",
       "      <td>0.0</td>\n",
       "      <td>0.0</td>\n",
       "      <td>0.0</td>\n",
       "      <td>0.0</td>\n",
       "      <td>0.0</td>\n",
       "      <td>0.0</td>\n",
       "      <td>1.737626</td>\n",
       "      <td>6.475185</td>\n",
       "      <td>1.242064</td>\n",
       "      <td>...</td>\n",
       "      <td>0.0</td>\n",
       "      <td>0.0</td>\n",
       "      <td>0.0</td>\n",
       "      <td>0.0</td>\n",
       "      <td>ENSG00000268903.1</td>\n",
       "      <td>ENST00000494149.2</td>\n",
       "      <td>ENSG00000268903.1</td>\n",
       "      <td>754</td>\n",
       "      <td>processed_pseudogene</td>\n",
       "      <td>pseudogene</td>\n",
       "    </tr>\n",
       "  </tbody>\n",
       "</table>\n",
       "<p>5 rows × 96 columns</p>\n",
       "</div>"
      ],
      "text/plain": [
       "   gm12878_1_1  gm12878_1_2  gm12878_1_3  gm12878_1_4  gm12878_3_1  \\\n",
       "0          0.0          0.0          0.0          0.0          0.0   \n",
       "1          0.0          0.0          0.0          0.0          0.0   \n",
       "2          0.0          0.0          0.0          0.0          0.0   \n",
       "3          0.0          0.0          0.0          0.0          0.0   \n",
       "4          0.0          0.0          0.0          0.0          0.0   \n",
       "\n",
       "   gm12878_2_1  gm12878_2_2  pgp1_1_1  pgp1_1_2    h9_1_1  ...  \\\n",
       "0          0.0          0.0  0.000000  0.000000  0.000000  ...   \n",
       "1          0.0          0.0  1.737626  1.618796  0.000000  ...   \n",
       "2          0.0          0.0  1.737626  0.000000  0.000000  ...   \n",
       "3          0.0          0.0  0.000000  0.000000  0.000000  ...   \n",
       "4          0.0          0.0  1.737626  6.475185  1.242064  ...   \n",
       "\n",
       "   right_lobe_of_liver_2_1  right_ventricle_myocardium_inferior_1_1  \\\n",
       "0                      0.0                                      0.0   \n",
       "1                      0.0                                      0.0   \n",
       "2                      0.0                                      0.0   \n",
       "3                      0.0                                      0.0   \n",
       "4                      0.0                                      0.0   \n",
       "\n",
       "   right_ventricle_myocardium_superior_1_1  upper_lobe_of_right_lung_1_1  \\\n",
       "0                                      0.0                           0.0   \n",
       "1                                      0.0                           0.0   \n",
       "2                                      0.0                           0.0   \n",
       "3                                      0.0                           0.0   \n",
       "4                                      0.0                           0.0   \n",
       "\n",
       "       annot_gene_id  annot_transcript_id                gid  length  \\\n",
       "0  ENSG00000243485.5    ENST00000469289.1  ENSG00000243485.5    1555   \n",
       "1  ENSG00000237613.2    ENST00000417324.1  ENSG00000237613.2    1527   \n",
       "2  ENSG00000237613.2    ENST00000461467.1  ENSG00000237613.2    1527   \n",
       "3  ENSG00000233750.3    ENST00000442987.3  ENSG00000233750.3    3811   \n",
       "4  ENSG00000268903.1    ENST00000494149.2  ENSG00000268903.1     754   \n",
       "\n",
       "                biotype  biotype_category  \n",
       "0               lincRNA            lncRNA  \n",
       "1               lincRNA            lncRNA  \n",
       "2               lincRNA            lncRNA  \n",
       "3  processed_pseudogene        pseudogene  \n",
       "4  processed_pseudogene        pseudogene  \n",
       "\n",
       "[5 rows x 96 columns]"
      ]
     },
     "execution_count": 29,
     "metadata": {},
     "output_type": "execute_result"
    }
   ],
   "source": [
    "df.head()"
   ]
  },
  {
   "cell_type": "code",
   "execution_count": 30,
   "id": "infrared-bhutan",
   "metadata": {},
   "outputs": [
    {
     "data": {
      "text/html": [
       "<div>\n",
       "<style scoped>\n",
       "    .dataframe tbody tr th:only-of-type {\n",
       "        vertical-align: middle;\n",
       "    }\n",
       "\n",
       "    .dataframe tbody tr th {\n",
       "        vertical-align: top;\n",
       "    }\n",
       "\n",
       "    .dataframe thead th {\n",
       "        text-align: right;\n",
       "    }\n",
       "</style>\n",
       "<table border=\"1\" class=\"dataframe\">\n",
       "  <thead>\n",
       "    <tr style=\"text-align: right;\">\n",
       "      <th></th>\n",
       "      <th>biotype_category</th>\n",
       "      <th>detected_counts</th>\n",
       "      <th>gencode_counts</th>\n",
       "      <th>prop_detected</th>\n",
       "    </tr>\n",
       "  </thead>\n",
       "  <tbody>\n",
       "    <tr>\n",
       "      <th>3</th>\n",
       "      <td>protein_coding</td>\n",
       "      <td>17052</td>\n",
       "      <td>19969</td>\n",
       "      <td>0.853924</td>\n",
       "    </tr>\n",
       "    <tr>\n",
       "      <th>0</th>\n",
       "      <td>lncRNA</td>\n",
       "      <td>4777</td>\n",
       "      <td>15006</td>\n",
       "      <td>0.318339</td>\n",
       "    </tr>\n",
       "    <tr>\n",
       "      <th>2</th>\n",
       "      <td>other</td>\n",
       "      <td>1908</td>\n",
       "      <td>7426</td>\n",
       "      <td>0.256935</td>\n",
       "    </tr>\n",
       "    <tr>\n",
       "      <th>1</th>\n",
       "      <td>miRNA</td>\n",
       "      <td>418</td>\n",
       "      <td>1881</td>\n",
       "      <td>0.222222</td>\n",
       "    </tr>\n",
       "    <tr>\n",
       "      <th>4</th>\n",
       "      <td>pseudogene</td>\n",
       "      <td>3107</td>\n",
       "      <td>14497</td>\n",
       "      <td>0.214320</td>\n",
       "    </tr>\n",
       "  </tbody>\n",
       "</table>\n",
       "</div>"
      ],
      "text/plain": [
       "  biotype_category  detected_counts  gencode_counts  prop_detected\n",
       "3   protein_coding            17052           19969       0.853924\n",
       "0           lncRNA             4777           15006       0.318339\n",
       "2            other             1908            7426       0.256935\n",
       "1            miRNA              418            1881       0.222222\n",
       "4       pseudogene             3107           14497       0.214320"
      ]
     },
     "execution_count": 30,
     "metadata": {},
     "output_type": "execute_result"
    }
   ],
   "source": [
    "temp = df[['gid', 'biotype_category']].drop_duplicates().groupby('biotype_category').count()\n",
    "temp.reset_index(inplace=True)\n",
    "temp.rename({'gid': 'detected_counts'}, axis=1, inplace=True)\n",
    "\n",
    "temp = temp.merge(b_cat_counts, on='biotype_category', how='outer')\n",
    "temp['prop_detected'] = temp.detected_counts/temp.gencode_counts\n",
    "temp.sort_values(by='prop_detected', ascending=False, inplace=True)\n",
    "temp"
   ]
  },
  {
   "cell_type": "markdown",
   "id": "accurate-genius",
   "metadata": {},
   "source": [
    "## What fraction of protein coding gene transcripts do we detect?"
   ]
  },
  {
   "cell_type": "markdown",
   "id": "listed-pepper",
   "metadata": {},
   "source": [
    "Of the transcripts associated with protein coding genes GENCODE, how many do we detect >=1 1 TPM?"
   ]
  },
  {
   "cell_type": "code",
   "execution_count": 31,
   "id": "nuclear-telling",
   "metadata": {},
   "outputs": [
    {
     "name": "stdout",
     "output_type": "stream",
     "text": [
      "Calculating iso TPM values\n",
      "Subsetting for polyA genes\n",
      "Enforcing minimum TPM\n",
      "Total # isos detected: 85348\n",
      "# isos >= 1 tpm: 77128\n",
      "Subsetting on polya genes\n",
      "Number of isos reported: 74796\n"
     ]
    }
   ],
   "source": [
    "df = pd.read_csv('human_talon_abundance.tsv', sep='\\t')\n",
    "df, tids = get_tpm_table(df,\n",
    "                   how='iso',\n",
    "                   nov=['Known'],\n",
    "                   min_tpm=1,\n",
    "                   gene_subset='polya')"
   ]
  },
  {
   "cell_type": "code",
   "execution_count": 32,
   "id": "fantastic-aberdeen",
   "metadata": {},
   "outputs": [],
   "source": [
    "t_df, b_counts, b_cat_counts = get_gtf_info(how='iso')\n",
    "df = df.merge(t_df, how='left', left_index=True, right_on='tid')"
   ]
  },
  {
   "cell_type": "code",
   "execution_count": 34,
   "id": "gorgeous-longitude",
   "metadata": {},
   "outputs": [
    {
     "data": {
      "text/html": [
       "<div>\n",
       "<style scoped>\n",
       "    .dataframe tbody tr th:only-of-type {\n",
       "        vertical-align: middle;\n",
       "    }\n",
       "\n",
       "    .dataframe tbody tr th {\n",
       "        vertical-align: top;\n",
       "    }\n",
       "\n",
       "    .dataframe thead th {\n",
       "        text-align: right;\n",
       "    }\n",
       "</style>\n",
       "<table border=\"1\" class=\"dataframe\">\n",
       "  <thead>\n",
       "    <tr style=\"text-align: right;\">\n",
       "      <th></th>\n",
       "      <th>biotype_category</th>\n",
       "      <th>detected_counts</th>\n",
       "      <th>gencode_counts</th>\n",
       "      <th>prop_detected</th>\n",
       "    </tr>\n",
       "  </thead>\n",
       "  <tbody>\n",
       "    <tr>\n",
       "      <th>1</th>\n",
       "      <td>protein_coding</td>\n",
       "      <td>64084.0</td>\n",
       "      <td>151259</td>\n",
       "      <td>0.423671</td>\n",
       "    </tr>\n",
       "    <tr>\n",
       "      <th>0</th>\n",
       "      <td>lncRNA</td>\n",
       "      <td>7073.0</td>\n",
       "      <td>28478</td>\n",
       "      <td>0.248367</td>\n",
       "    </tr>\n",
       "    <tr>\n",
       "      <th>2</th>\n",
       "      <td>pseudogene</td>\n",
       "      <td>3639.0</td>\n",
       "      <td>17657</td>\n",
       "      <td>0.206094</td>\n",
       "    </tr>\n",
       "    <tr>\n",
       "      <th>3</th>\n",
       "      <td>miRNA</td>\n",
       "      <td>NaN</td>\n",
       "      <td>1881</td>\n",
       "      <td>NaN</td>\n",
       "    </tr>\n",
       "    <tr>\n",
       "      <th>4</th>\n",
       "      <td>other</td>\n",
       "      <td>NaN</td>\n",
       "      <td>7486</td>\n",
       "      <td>NaN</td>\n",
       "    </tr>\n",
       "  </tbody>\n",
       "</table>\n",
       "</div>"
      ],
      "text/plain": [
       "  biotype_category  detected_counts  gencode_counts  prop_detected\n",
       "1   protein_coding          64084.0          151259       0.423671\n",
       "0           lncRNA           7073.0           28478       0.248367\n",
       "2       pseudogene           3639.0           17657       0.206094\n",
       "3            miRNA              NaN            1881            NaN\n",
       "4            other              NaN            7486            NaN"
      ]
     },
     "execution_count": 34,
     "metadata": {},
     "output_type": "execute_result"
    }
   ],
   "source": [
    "temp = df[['tid', 'biotype_category']].groupby('biotype_category').count()\n",
    "temp.reset_index(inplace=True)\n",
    "temp.rename({'tid': 'detected_counts'}, axis=1, inplace=True)\n",
    "\n",
    "temp = temp.merge(b_cat_counts, on='biotype_category', how='outer')\n",
    "temp['prop_detected'] = temp.detected_counts/temp.gencode_counts\n",
    "temp.sort_values(by='prop_detected', ascending=False, inplace=True)\n",
    "temp"
   ]
  },
  {
   "cell_type": "markdown",
   "id": "legitimate-danish",
   "metadata": {},
   "source": [
    "## Characteristics of detected known, polyA gene associated transcripts"
   ]
  },
  {
   "cell_type": "markdown",
   "id": "bored-dance",
   "metadata": {},
   "source": [
    "## Number of cell types or tissues that each known transcript from polyA genes is expressed >= 1 TPM"
   ]
  },
  {
   "cell_type": "code",
   "execution_count": 1,
   "id": "efficient-energy",
   "metadata": {},
   "outputs": [],
   "source": [
    "import pandas as pd\n",
    "import numpy as np\n",
    "import scipy.stats as st\n",
    "import seaborn as sns\n",
    "import sys\n",
    "import os\n",
    "\n",
    "p = os.path.dirname(os.path.dirname(os.getcwd()))\n",
    "sys.path.append(p)\n",
    "\n",
    "from scripts.utils import *\n",
    "from scripts.plotting import *"
   ]
  },
  {
   "cell_type": "code",
   "execution_count": 2,
   "id": "bound-invite",
   "metadata": {},
   "outputs": [
    {
     "name": "stdout",
     "output_type": "stream",
     "text": [
      "Calculating iso TPM values\n",
      "Subsetting for polyA genes\n",
      "Enforcing minimum TPM\n",
      "Total # isos detected: 85348\n",
      "# isos >= 1 tpm: 77128\n",
      "Subsetting on polya genes\n",
      "Number of isos reported: 74796\n",
      "Found 31 total samples\n"
     ]
    },
    {
     "data": {
      "image/png": "[encoded data removed]",
      "text/plain": [
       "<Figure size 360x360 with 1 Axes>"
      ]
     },
     "metadata": {
      "needs_background": "light"
     },
     "output_type": "display_data"
    }
   ],
   "source": [
    "df = pd.read_csv('human_talon_abundance.tsv', sep='\\t')\n",
    "df = plot_biosamp_det(df,\n",
    "                      how='iso',\n",
    "                      min_tpm=1,\n",
    "                      gene_subset='polya',\n",
    "                      sample=None,\n",
    "                      groupby='sample',\n",
    "                      nov='Known',\n",
    "                      opref='figures/human')"
   ]
  },
  {
   "cell_type": "code",
   "execution_count": 9,
   "id": "biblical-rwanda",
   "metadata": {},
   "outputs": [
    {
     "name": "stdout",
     "output_type": "stream",
     "text": [
      "32327 / 74796 (43.2%) transcripts are expressed in <= 4 samples\n",
      "16872 / 74796 (22.6%) transcripts are expressed in >= 20 samples\n"
     ]
    }
   ],
   "source": [
    "specific_thresh = 4\n",
    "ubiq_thresh = 20\n",
    "\n",
    "n_iso = len(df.index)\n",
    "n_specific = len(df.loc[df.n_samples <= specific_thresh].index)\n",
    "n_ubiq = len(df.loc[df.n_samples >= ubiq_thresh].index)\n",
    "\n",
    "print('{} / {} ({:.1f}%) transcripts are expressed in <= {} samples'.format(n_specific, n_iso, (n_specific/n_iso)*100, specific_thresh))\n",
    "print('{} / {} ({:.1f}%) transcripts are expressed in >= {} samples'.format(n_ubiq, n_iso, (n_ubiq/n_iso)*100, ubiq_thresh))"
   ]
  },
  {
   "cell_type": "markdown",
   "id": "advised-jurisdiction",
   "metadata": {},
   "source": [
    "## Length of transcripts from polyA genes detected >= 1 TPM"
   ]
  },
  {
   "cell_type": "code",
   "execution_count": 3,
   "id": "integral-brighton",
   "metadata": {},
   "outputs": [
    {
     "name": "stdout",
     "output_type": "stream",
     "text": [
      "Calculating iso TPM values\n",
      "Subsetting for polyA genes\n",
      "Enforcing minimum TPM\n",
      "Total # isos detected: 85348\n",
      "# isos >= 1 tpm: 77128\n",
      "Subsetting on polya genes\n",
      "Number of isos reported: 74796\n"
     ]
    },
    {
     "data": {
      "image/png": "[encoded data removed]",
      "text/plain": [
       "<Figure size 467.36x360 with 1 Axes>"
      ]
     },
     "metadata": {
      "needs_background": "light"
     },
     "output_type": "display_data"
    }
   ],
   "source": [
    "df = pd.read_csv('human_talon_abundance_filtered.tsv', sep='\\t')\n",
    "df = plot_det_len_kde(df, \n",
    "                      how='iso', \n",
    "                      subset='polya',\n",
    "                      min_tpm=1,\n",
    "                      xlim=10000,\n",
    "                      opref='figures/')"
   ]
  },
  {
   "cell_type": "markdown",
   "id": "applicable-exploration",
   "metadata": {},
   "source": [
    "## Variance in TPM levels >= 1 TPM for known transcripts detected >= 1 TPM"
   ]
  },
  {
   "cell_type": "code",
   "execution_count": 41,
   "id": "addressed-skiing",
   "metadata": {},
   "outputs": [
    {
     "name": "stdout",
     "output_type": "stream",
     "text": [
      "Calculating iso TPM values\n",
      "Subsetting for polyA genes\n",
      "Enforcing minimum TPM\n",
      "Total # isos detected: 85348\n",
      "# isos >= 1 tpm: 77128\n",
      "Subsetting on polya genes\n",
      "Number of isos reported: 74796\n"
     ]
    }
   ],
   "source": [
    "df = pd.read_csv('human_talon_abundance.tsv', sep='\\t')\n",
    "df = get_tpm_table(df,\n",
    "                   how='iso',\n",
    "                   nov=['Known'],\n",
    "                   min_tpm=1,\n",
    "                   gene_subset='polya')"
   ]
  },
  {
   "cell_type": "markdown",
   "id": "informative-geometry",
   "metadata": {},
   "source": [
    "## How many known polyA transcripts do we detect?"
   ]
  },
  {
   "cell_type": "code",
   "execution_count": 7,
   "id": "ceramic-tract",
   "metadata": {},
   "outputs": [
    {
     "name": "stdout",
     "output_type": "stream",
     "text": [
      "Calculating iso TPM values\n",
      "Subsetting for polyA genes\n",
      "Enforcing minimum TPM\n",
      "Total # isos detected: 85348\n",
      "# isos >= 1 tpm: 77128\n",
      "Subsetting on polya genes\n",
      "Number of isos reported: 74796\n"
     ]
    }
   ],
   "source": [
    "df = pd.read_csv('human_talon_abundance.tsv', sep='\\t')\n",
    "df = get_tpm_table(df,\n",
    "                   how='iso',\n",
    "                   nov=['Known'],\n",
    "                   min_tpm=1,\n",
    "                   gene_subset='polya')"
   ]
  },
  {
   "cell_type": "code",
   "execution_count": 8,
   "id": "german-price",
   "metadata": {},
   "outputs": [],
   "source": [
    "# merge with transcript len\n",
    "t_df, b_counts, c_counts = get_gtf_info(how='iso')\n",
    "df = df.merge(t_df, how='left', left_index=True, right_on='tid')"
   ]
  },
  {
   "cell_type": "code",
   "execution_count": 17,
   "id": "lyric-richardson",
   "metadata": {},
   "outputs": [
    {
     "name": "stdout",
     "output_type": "stream",
     "text": [
      "Detected 74796 / 197394 annotated transcripts from polyA genes >= 1 TPM\n"
     ]
    }
   ],
   "source": [
    "polya_biotypes = ['protein_coding', 'pseudogene', 'lncRNA']\n",
    "n_det_polya = len(df.index)\n",
    "n_known_polya = c_counts.loc[c_counts.biotype_category.isin(polya_biotypes), 'gencode_counts'].sum()\n",
    "print('Detected {} / {} annotated transcripts from polyA genes >= 1 TPM'.format(n_det_polya, n_known_polya))"
   ]
  },
  {
   "cell_type": "markdown",
   "id": "silent-spirituality",
   "metadata": {},
   "source": [
    "## How many complete isoforms do we detect?"
   ]
  },
  {
   "cell_type": "code",
   "execution_count": 1,
   "id": "subsequent-lesson",
   "metadata": {},
   "outputs": [],
   "source": [
    "import pandas as pd\n",
    "import numpy as np\n",
    "import scipy.stats as st\n",
    "import seaborn as sns\n",
    "import sys\n",
    "import os\n",
    "\n",
    "p = os.path.dirname(os.path.dirname(os.getcwd()))\n",
    "sys.path.append(p)\n",
    "\n",
    "from scripts.utils import *\n",
    "from scripts.plotting import *"
   ]
  },
  {
   "cell_type": "code",
   "execution_count": 13,
   "id": "developmental-grace",
   "metadata": {},
   "outputs": [
    {
     "name": "stdout",
     "output_type": "stream",
     "text": [
      "Calculating iso TPM values\n",
      "Subsetting for polyA genes\n",
      "Enforcing minimum TPM\n",
      "Total # isos detected: 109741\n",
      "# isos >= 1 tpm: 100642\n",
      "Subsetting on polya genes\n",
      "Number of isos reported: 98027\n"
     ]
    }
   ],
   "source": [
    "df = pd.read_csv('human_talon_abundance_filtered.tsv', sep='\\t')\n",
    "df = get_tpm_table(df,\n",
    "                   how='iso',\n",
    "                   nov=['Known', 'NIC', 'NNC'],\n",
    "                   min_tpm=1,\n",
    "                   gene_subset='polya')\n",
    "\n",
    "tids = df.index.tolist()"
   ]
  },
  {
   "cell_type": "code",
   "execution_count": 16,
   "id": "found-obligation",
   "metadata": {},
   "outputs": [
    {
     "name": "stdout",
     "output_type": "stream",
     "text": [
      "  transcript_novelty  counts\n",
      "0              Known   73961\n",
      "1                NIC   18270\n",
      "2                NNC    5796\n",
      "Number of complete isoforms: 98027\n"
     ]
    },
    {
     "data": {
      "image/png": "[encoded data removed]",
      "text/plain": [
       "<Figure size 360x360 with 1 Axes>"
      ]
     },
     "metadata": {
      "needs_background": "light"
     },
     "output_type": "display_data"
    },
    {
     "data": {
      "text/plain": [
       "<Figure size 432x288 with 0 Axes>"
      ]
     },
     "metadata": {},
     "output_type": "display_data"
    }
   ],
   "source": [
    "df = pd.read_csv('human_talon_abundance_filtered.tsv', sep='\\t')\n",
    "plot_transcript_novelty(df,\n",
    "                        oprefix='figures/complete_det',\n",
    "                        whitelist=tids,\n",
    "                        novs=['Known', 'NIC', 'NNC'])"
   ]
  },
  {
   "cell_type": "markdown",
   "id": "analyzed-float",
   "metadata": {},
   "source": [
    "## How many exons are in each complete, detected model, split by novelty?"
   ]
  },
  {
   "cell_type": "code",
   "execution_count": 1,
   "id": "independent-vacation",
   "metadata": {},
   "outputs": [],
   "source": [
    "import pandas as pd\n",
    "import numpy as np\n",
    "import scipy.stats as st\n",
    "import seaborn as sns\n",
    "import sys\n",
    "import os\n",
    "\n",
    "p = os.path.dirname(os.path.dirname(os.getcwd()))\n",
    "sys.path.append(p)\n",
    "\n",
    "from scripts.utils import *\n",
    "from scripts.plotting import *"
   ]
  },
  {
   "cell_type": "code",
   "execution_count": 2,
   "id": "initial-concentrate",
   "metadata": {},
   "outputs": [
    {
     "name": "stdout",
     "output_type": "stream",
     "text": [
      "Calculating iso TPM values\n",
      "Subsetting for polyA genes\n",
      "Enforcing minimum TPM\n",
      "Total # isos detected: 109741\n",
      "# isos >= 1 tpm: 100642\n",
      "Subsetting on polya genes\n",
      "Number of isos reported: 98027\n"
     ]
    },
    {
     "data": {
      "image/png": "[encoded data removed]",
      "text/plain": [
       "<Figure size 432x288 with 1 Axes>"
      ]
     },
     "metadata": {
      "needs_background": "light"
     },
     "output_type": "display_data"
    }
   ],
   "source": [
    "df = pd.read_csv('human_talon_abundance_filtered.tsv', sep='\\t')\n",
    "plot_exons_per_iso(df,\n",
    "                   nov=['Known', 'NIC', 'NNC'],\n",
    "                   min_tpm=1,\n",
    "                   gene_subset='polya',\n",
    "                   opref='figures/human')"
   ]
  },
  {
   "cell_type": "markdown",
   "id": "outer-rolling",
   "metadata": {},
   "source": [
    "## How many isoforms per gene do we detect per sample? "
   ]
  },
  {
   "cell_type": "code",
   "execution_count": 30,
   "id": "grand-ticket",
   "metadata": {},
   "outputs": [
    {
     "name": "stdout",
     "output_type": "stream",
     "text": [
      "Calculating iso TPM values\n",
      "Subsetting for polyA genes\n",
      "Enforcing minimum TPM\n",
      "Total # isos detected: 109741\n",
      "# isos >= 1 tpm: 100642\n",
      "Subsetting on polya genes\n",
      "Number of isos reported: 98027\n"
     ]
    }
   ],
   "source": [
    "df = pd.read_csv('human_talon_abundance_filtered.tsv', sep='\\t')\n",
    "df = get_tpm_table(df,\n",
    "                   how='iso',\n",
    "                   nov=['Known', 'NIC', 'NNC'],\n",
    "                   min_tpm=1,\n",
    "                   gene_subset='polya')\n",
    "t_df, _, _ = get_gtf_info(how='iso', subset='polya')\n",
    "\n",
    "xlabel = 'Transcript novelty'\n",
    "ylabel = '# exons'\n",
    "\n",
    "ax.spines['right'].set_visible(False)\n",
    "ax.spines['top'].set_visible(False)\n",
    "\n",
    "_ = ax.set(xlabel=xlabel, ylabel=ylabel)\n"
   ]
  },
  {
   "cell_type": "code",
   "execution_count": 31,
   "id": "sporting-realtor",
   "metadata": {},
   "outputs": [
    {
     "data": {
      "text/html": [
       "<div>\n",
       "<style scoped>\n",
       "    .dataframe tbody tr th:only-of-type {\n",
       "        vertical-align: middle;\n",
       "    }\n",
       "\n",
       "    .dataframe tbody tr th {\n",
       "        vertical-align: top;\n",
       "    }\n",
       "\n",
       "    .dataframe thead th {\n",
       "        text-align: right;\n",
       "    }\n",
       "</style>\n",
       "<table border=\"1\" class=\"dataframe\">\n",
       "  <thead>\n",
       "    <tr style=\"text-align: right;\">\n",
       "      <th></th>\n",
       "      <th>gm12878_1_1</th>\n",
       "      <th>gm12878_1_2</th>\n",
       "      <th>gm12878_1_3</th>\n",
       "      <th>gm12878_1_4</th>\n",
       "      <th>gm12878_3_1</th>\n",
       "      <th>gm12878_2_1</th>\n",
       "      <th>gm12878_2_2</th>\n",
       "      <th>pgp1_1_1</th>\n",
       "      <th>pgp1_1_2</th>\n",
       "      <th>h9_1_1</th>\n",
       "      <th>...</th>\n",
       "      <th>psoas_muscle_1_1</th>\n",
       "      <th>right_cardiac_atrium_1_1</th>\n",
       "      <th>right_cardiac_atrium_3_1</th>\n",
       "      <th>right_cardiac_atrium_4_1</th>\n",
       "      <th>right_cardiac_atrium_2_1</th>\n",
       "      <th>right_lobe_of_liver_1_1</th>\n",
       "      <th>right_lobe_of_liver_2_1</th>\n",
       "      <th>right_ventricle_myocardium_inferior_1_1</th>\n",
       "      <th>right_ventricle_myocardium_superior_1_1</th>\n",
       "      <th>upper_lobe_of_right_lung_1_1</th>\n",
       "    </tr>\n",
       "    <tr>\n",
       "      <th>annot_transcript_id</th>\n",
       "      <th></th>\n",
       "      <th></th>\n",
       "      <th></th>\n",
       "      <th></th>\n",
       "      <th></th>\n",
       "      <th></th>\n",
       "      <th></th>\n",
       "      <th></th>\n",
       "      <th></th>\n",
       "      <th></th>\n",
       "      <th></th>\n",
       "      <th></th>\n",
       "      <th></th>\n",
       "      <th></th>\n",
       "      <th></th>\n",
       "      <th></th>\n",
       "      <th></th>\n",
       "      <th></th>\n",
       "      <th></th>\n",
       "      <th></th>\n",
       "      <th></th>\n",
       "    </tr>\n",
       "  </thead>\n",
       "  <tbody>\n",
       "    <tr>\n",
       "      <th>ENST00000469289.1</th>\n",
       "      <td>0.0</td>\n",
       "      <td>0.0</td>\n",
       "      <td>0.0</td>\n",
       "      <td>0.0</td>\n",
       "      <td>0.0</td>\n",
       "      <td>0.0</td>\n",
       "      <td>0.0</td>\n",
       "      <td>0.000000</td>\n",
       "      <td>0.000000</td>\n",
       "      <td>0.000000</td>\n",
       "      <td>...</td>\n",
       "      <td>0.0</td>\n",
       "      <td>0.0</td>\n",
       "      <td>0.0</td>\n",
       "      <td>0.0</td>\n",
       "      <td>0.0</td>\n",
       "      <td>0.0</td>\n",
       "      <td>0.0</td>\n",
       "      <td>0.0</td>\n",
       "      <td>0.0</td>\n",
       "      <td>0.0</td>\n",
       "    </tr>\n",
       "    <tr>\n",
       "      <th>ENST00000417324.1</th>\n",
       "      <td>0.0</td>\n",
       "      <td>0.0</td>\n",
       "      <td>0.0</td>\n",
       "      <td>0.0</td>\n",
       "      <td>0.0</td>\n",
       "      <td>0.0</td>\n",
       "      <td>0.0</td>\n",
       "      <td>1.674708</td>\n",
       "      <td>1.563304</td>\n",
       "      <td>0.000000</td>\n",
       "      <td>...</td>\n",
       "      <td>0.0</td>\n",
       "      <td>0.0</td>\n",
       "      <td>0.0</td>\n",
       "      <td>0.0</td>\n",
       "      <td>0.0</td>\n",
       "      <td>0.0</td>\n",
       "      <td>0.0</td>\n",
       "      <td>0.0</td>\n",
       "      <td>0.0</td>\n",
       "      <td>0.0</td>\n",
       "    </tr>\n",
       "    <tr>\n",
       "      <th>ENST00000461467.1</th>\n",
       "      <td>0.0</td>\n",
       "      <td>0.0</td>\n",
       "      <td>0.0</td>\n",
       "      <td>0.0</td>\n",
       "      <td>0.0</td>\n",
       "      <td>0.0</td>\n",
       "      <td>0.0</td>\n",
       "      <td>1.674708</td>\n",
       "      <td>0.000000</td>\n",
       "      <td>0.000000</td>\n",
       "      <td>...</td>\n",
       "      <td>0.0</td>\n",
       "      <td>0.0</td>\n",
       "      <td>0.0</td>\n",
       "      <td>0.0</td>\n",
       "      <td>0.0</td>\n",
       "      <td>0.0</td>\n",
       "      <td>0.0</td>\n",
       "      <td>0.0</td>\n",
       "      <td>0.0</td>\n",
       "      <td>0.0</td>\n",
       "    </tr>\n",
       "    <tr>\n",
       "      <th>ENST00000442987.3</th>\n",
       "      <td>0.0</td>\n",
       "      <td>0.0</td>\n",
       "      <td>0.0</td>\n",
       "      <td>0.0</td>\n",
       "      <td>0.0</td>\n",
       "      <td>0.0</td>\n",
       "      <td>0.0</td>\n",
       "      <td>0.000000</td>\n",
       "      <td>0.000000</td>\n",
       "      <td>0.000000</td>\n",
       "      <td>...</td>\n",
       "      <td>0.0</td>\n",
       "      <td>0.0</td>\n",
       "      <td>0.0</td>\n",
       "      <td>0.0</td>\n",
       "      <td>0.0</td>\n",
       "      <td>0.0</td>\n",
       "      <td>0.0</td>\n",
       "      <td>0.0</td>\n",
       "      <td>0.0</td>\n",
       "      <td>0.0</td>\n",
       "    </tr>\n",
       "    <tr>\n",
       "      <th>ENST00000494149.2</th>\n",
       "      <td>0.0</td>\n",
       "      <td>0.0</td>\n",
       "      <td>0.0</td>\n",
       "      <td>0.0</td>\n",
       "      <td>0.0</td>\n",
       "      <td>0.0</td>\n",
       "      <td>0.0</td>\n",
       "      <td>1.674708</td>\n",
       "      <td>6.253215</td>\n",
       "      <td>1.160702</td>\n",
       "      <td>...</td>\n",
       "      <td>0.0</td>\n",
       "      <td>0.0</td>\n",
       "      <td>0.0</td>\n",
       "      <td>0.0</td>\n",
       "      <td>0.0</td>\n",
       "      <td>0.0</td>\n",
       "      <td>0.0</td>\n",
       "      <td>0.0</td>\n",
       "      <td>0.0</td>\n",
       "      <td>0.0</td>\n",
       "    </tr>\n",
       "  </tbody>\n",
       "</table>\n",
       "<p>5 rows × 90 columns</p>\n",
       "</div>"
      ],
      "text/plain": [
       "                     gm12878_1_1  gm12878_1_2  gm12878_1_3  gm12878_1_4  \\\n",
       "annot_transcript_id                                                       \n",
       "ENST00000469289.1            0.0          0.0          0.0          0.0   \n",
       "ENST00000417324.1            0.0          0.0          0.0          0.0   \n",
       "ENST00000461467.1            0.0          0.0          0.0          0.0   \n",
       "ENST00000442987.3            0.0          0.0          0.0          0.0   \n",
       "ENST00000494149.2            0.0          0.0          0.0          0.0   \n",
       "\n",
       "                     gm12878_3_1  gm12878_2_1  gm12878_2_2  pgp1_1_1  \\\n",
       "annot_transcript_id                                                    \n",
       "ENST00000469289.1            0.0          0.0          0.0  0.000000   \n",
       "ENST00000417324.1            0.0          0.0          0.0  1.674708   \n",
       "ENST00000461467.1            0.0          0.0          0.0  1.674708   \n",
       "ENST00000442987.3            0.0          0.0          0.0  0.000000   \n",
       "ENST00000494149.2            0.0          0.0          0.0  1.674708   \n",
       "\n",
       "                     pgp1_1_2    h9_1_1  ...  psoas_muscle_1_1  \\\n",
       "annot_transcript_id                      ...                     \n",
       "ENST00000469289.1    0.000000  0.000000  ...               0.0   \n",
       "ENST00000417324.1    1.563304  0.000000  ...               0.0   \n",
       "ENST00000461467.1    0.000000  0.000000  ...               0.0   \n",
       "ENST00000442987.3    0.000000  0.000000  ...               0.0   \n",
       "ENST00000494149.2    6.253215  1.160702  ...               0.0   \n",
       "\n",
       "                     right_cardiac_atrium_1_1  right_cardiac_atrium_3_1  \\\n",
       "annot_transcript_id                                                       \n",
       "ENST00000469289.1                         0.0                       0.0   \n",
       "ENST00000417324.1                         0.0                       0.0   \n",
       "ENST00000461467.1                         0.0                       0.0   \n",
       "ENST00000442987.3                         0.0                       0.0   \n",
       "ENST00000494149.2                         0.0                       0.0   \n",
       "\n",
       "                     right_cardiac_atrium_4_1  right_cardiac_atrium_2_1  \\\n",
       "annot_transcript_id                                                       \n",
       "ENST00000469289.1                         0.0                       0.0   \n",
       "ENST00000417324.1                         0.0                       0.0   \n",
       "ENST00000461467.1                         0.0                       0.0   \n",
       "ENST00000442987.3                         0.0                       0.0   \n",
       "ENST00000494149.2                         0.0                       0.0   \n",
       "\n",
       "                     right_lobe_of_liver_1_1  right_lobe_of_liver_2_1  \\\n",
       "annot_transcript_id                                                     \n",
       "ENST00000469289.1                        0.0                      0.0   \n",
       "ENST00000417324.1                        0.0                      0.0   \n",
       "ENST00000461467.1                        0.0                      0.0   \n",
       "ENST00000442987.3                        0.0                      0.0   \n",
       "ENST00000494149.2                        0.0                      0.0   \n",
       "\n",
       "                     right_ventricle_myocardium_inferior_1_1  \\\n",
       "annot_transcript_id                                            \n",
       "ENST00000469289.1                                        0.0   \n",
       "ENST00000417324.1                                        0.0   \n",
       "ENST00000461467.1                                        0.0   \n",
       "ENST00000442987.3                                        0.0   \n",
       "ENST00000494149.2                                        0.0   \n",
       "\n",
       "                     right_ventricle_myocardium_superior_1_1  \\\n",
       "annot_transcript_id                                            \n",
       "ENST00000469289.1                                        0.0   \n",
       "ENST00000417324.1                                        0.0   \n",
       "ENST00000461467.1                                        0.0   \n",
       "ENST00000442987.3                                        0.0   \n",
       "ENST00000494149.2                                        0.0   \n",
       "\n",
       "                     upper_lobe_of_right_lung_1_1  \n",
       "annot_transcript_id                                \n",
       "ENST00000469289.1                             0.0  \n",
       "ENST00000417324.1                             0.0  \n",
       "ENST00000461467.1                             0.0  \n",
       "ENST00000442987.3                             0.0  \n",
       "ENST00000494149.2                             0.0  \n",
       "\n",
       "[5 rows x 90 columns]"
      ]
     },
     "execution_count": 31,
     "metadata": {},
     "output_type": "execute_result"
    }
   ],
   "source": [
    "df.head()"
   ]
  },
  {
   "cell_type": "code",
   "execution_count": 32,
   "id": "chief-habitat",
   "metadata": {},
   "outputs": [
    {
     "data": {
      "text/html": [
       "<div>\n",
       "<style scoped>\n",
       "    .dataframe tbody tr th:only-of-type {\n",
       "        vertical-align: middle;\n",
       "    }\n",
       "\n",
       "    .dataframe tbody tr th {\n",
       "        vertical-align: top;\n",
       "    }\n",
       "\n",
       "    .dataframe thead th {\n",
       "        text-align: right;\n",
       "    }\n",
       "</style>\n",
       "<table border=\"1\" class=\"dataframe\">\n",
       "  <thead>\n",
       "    <tr style=\"text-align: right;\">\n",
       "      <th></th>\n",
       "      <th>tid</th>\n",
       "      <th>t_len</th>\n",
       "      <th>biotype</th>\n",
       "      <th>biotype_category</th>\n",
       "    </tr>\n",
       "  </thead>\n",
       "  <tbody>\n",
       "    <tr>\n",
       "      <th>0</th>\n",
       "      <td>ENST00000000233.9</td>\n",
       "      <td>1103</td>\n",
       "      <td>protein_coding</td>\n",
       "      <td>protein_coding</td>\n",
       "    </tr>\n",
       "    <tr>\n",
       "      <th>1</th>\n",
       "      <td>ENST00000000412.7</td>\n",
       "      <td>2756</td>\n",
       "      <td>protein_coding</td>\n",
       "      <td>protein_coding</td>\n",
       "    </tr>\n",
       "    <tr>\n",
       "      <th>2</th>\n",
       "      <td>ENST00000000442.10</td>\n",
       "      <td>2215</td>\n",
       "      <td>protein_coding</td>\n",
       "      <td>protein_coding</td>\n",
       "    </tr>\n",
       "    <tr>\n",
       "      <th>3</th>\n",
       "      <td>ENST00000001008.5</td>\n",
       "      <td>3732</td>\n",
       "      <td>protein_coding</td>\n",
       "      <td>protein_coding</td>\n",
       "    </tr>\n",
       "    <tr>\n",
       "      <th>4</th>\n",
       "      <td>ENST00000001146.6</td>\n",
       "      <td>4732</td>\n",
       "      <td>protein_coding</td>\n",
       "      <td>protein_coding</td>\n",
       "    </tr>\n",
       "  </tbody>\n",
       "</table>\n",
       "</div>"
      ],
      "text/plain": [
       "                  tid  t_len         biotype biotype_category\n",
       "0   ENST00000000233.9   1103  protein_coding   protein_coding\n",
       "1   ENST00000000412.7   2756  protein_coding   protein_coding\n",
       "2  ENST00000000442.10   2215  protein_coding   protein_coding\n",
       "3   ENST00000001008.5   3732  protein_coding   protein_coding\n",
       "4   ENST00000001146.6   4732  protein_coding   protein_coding"
      ]
     },
     "execution_count": 32,
     "metadata": {},
     "output_type": "execute_result"
    }
   ],
   "source": [
    "t_df.head()"
   ]
  },
  {
   "cell_type": "code",
   "execution_count": null,
   "id": "chubby-senator",
   "metadata": {},
   "outputs": [],
   "source": []
  }
 ],
 "metadata": {
  "kernelspec": {
   "display_name": "Python 3",
   "language": "python",
   "name": "python3"
  },
  "language_info": {
   "codemirror_mode": {
    "name": "ipython",
    "version": 3
   },
   "file_extension": ".py",
   "mimetype": "text/x-python",
   "name": "python",
   "nbconvert_exporter": "python",
   "pygments_lexer": "ipython3",
   "version": "3.7.4"
  }
 },
 "nbformat": 4,
 "nbformat_minor": 5
}
