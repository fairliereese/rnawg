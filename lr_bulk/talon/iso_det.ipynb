{
 "cells": [
  {
   "cell_type": "code",
   "execution_count": 3,
   "id": "recognized-malawi",
   "metadata": {},
   "outputs": [],
   "source": [
    "import pandas as pd\n",
    "import numpy as np\n",
    "import scipy.stats as st\n",
    "import seaborn as sns\n",
    "import sys\n",
    "import os\n",
    "import gseapy as gp\n",
    "\n",
    "p = os.path.dirname(os.path.dirname(os.getcwd()))\n",
    "sys.path.append(p)\n",
    "\n",
    "from scripts.utils import *\n",
    "from scripts.plotting import *"
   ]
  },
  {
   "cell_type": "code",
   "execution_count": null,
   "id": "5f4b4e83-70a1-4acb-97ec-05ab15337a3d",
   "metadata": {},
   "outputs": [],
   "source": [
    "# TODO -- should we be calculating transcript TPM from the unfiltered or filtered abundance file? \n",
    "# 3/9/22 ali says let's go with filtered for now"
   ]
  },
  {
   "cell_type": "markdown",
   "id": "juvenile-research",
   "metadata": {},
   "source": [
    "## PolyA gene transcript detection"
   ]
  },
  {
   "cell_type": "markdown",
   "id": "special-collector",
   "metadata": {},
   "source": [
    "What fraction of polyA genes from the annotation do we detect with at least 1 known isoform >= 1 TPM in any library?"
   ]
  },
  {
   "cell_type": "code",
   "execution_count": 6,
   "id": "increased-colon",
   "metadata": {},
   "outputs": [
    {
     "name": "stdout",
     "output_type": "stream",
     "text": [
      "Calculating gene TPM values\n",
      "Subsetting for novelty categories ['Known']\n",
      "Subsetting for polya genes\n",
      "Enforcing minimum TPM\n",
      "Total # genes detected: 45729\n",
      "# genes >= 1 tpm: 39867\n",
      "Applying gene type and novelty subset\n",
      "Number of genes reported: 25466\n"
     ]
    }
   ],
   "source": [
    "df = pd.read_csv('human_talon_abundance_filtered.tsv', sep='\\t')\n",
    "df, tids = get_tpm_table(df,\n",
    "                   how='iso',\n",
    "                   nov=['Known'],\n",
    "                   min_tpm=1,\n",
    "                   gene_subset='polya')"
   ]
  },
  {
   "cell_type": "code",
   "execution_count": 41,
   "id": "enclosed-circumstances",
   "metadata": {},
   "outputs": [],
   "source": [
    "# merge with gene id\n",
    "gene_df = pd.read_csv('human_talon_abundance_filtered.tsv', sep='\\t')\n",
    "gene_df = gene_df[['annot_gene_id', 'annot_transcript_id']]\n",
    "df = df.merge(gene_df, how='left', left_index=True, right_on='annot_transcript_id')"
   ]
  },
  {
   "cell_type": "code",
   "execution_count": 42,
   "id": "african-shopper",
   "metadata": {},
   "outputs": [
    {
     "name": "stdout",
     "output_type": "stream",
     "text": [
      "Detected 24848 / 49472 (50.23%) annotated polyA genes w/ at least 1 known transcript >= 1 TPM\n"
     ]
    }
   ],
   "source": [
    "gene_df, _, _ = get_gtf_info(how='gene')\n",
    "\n",
    "polya_biotypes = ['protein_coding', 'pseudogene', 'lncRNA']\n",
    "polya_genes = gene_df.loc[gene_df.biotype_category.isin(polya_biotypes), 'gid'].tolist()\n",
    "n_polya = len(polya_genes)\n",
    "n_det_polya = len(df.annot_gene_id.unique().tolist())\n",
    "\n",
    "print('Detected {} / {} ({:.2f}%) annotated polyA genes w/ at least 1 known transcript >= 1 TPM'.format(n_det_polya, n_polya, (n_det_polya/n_polya)*100))"
   ]
  },
  {
   "cell_type": "markdown",
   "id": "american-wireless",
   "metadata": {},
   "source": [
    "## TF gene transcript detection"
   ]
  },
  {
   "cell_type": "markdown",
   "id": "associate-consistency",
   "metadata": {},
   "source": [
    "What fraction of TF genes from the annotation do we detect with at least 1 known isoform >= 1 TPM in any library?"
   ]
  },
  {
   "cell_type": "code",
   "execution_count": 44,
   "id": "rolled-tradition",
   "metadata": {},
   "outputs": [
    {
     "name": "stdout",
     "output_type": "stream",
     "text": [
      "Calculating iso TPM values\n",
      "Subsetting for novelty categories ['Known']\n",
      "Subsetting for tf genes\n",
      "Enforcing minimum TPM\n",
      "Total # isos detected: 185293\n",
      "# isos >= 1 tpm: 167378\n",
      "Applying gene type and novelty subset\n",
      "Number of isos reported: 4560\n",
      "Detected 1303 / 1419 (91.83%) annotated TF genes w/ at least 1 known transcript >= 1 TPM\n"
     ]
    }
   ],
   "source": [
    "df = pd.read_csv('human_talon_abundance_filtered.tsv', sep='\\t')\n",
    "df, tids = get_tpm_table(df,\n",
    "                   how='iso',\n",
    "                   nov=['Known'],\n",
    "                   min_tpm=1,\n",
    "                   gene_subset='tf')\n",
    "\n",
    "# merge with gene id\n",
    "gene_df = pd.read_csv('human_talon_abundance_filtered.tsv', sep='\\t')\n",
    "gene_df = gene_df[['annot_gene_id', 'annot_transcript_id']]\n",
    "df = df.merge(gene_df, how='left', left_index=True, right_on='annot_transcript_id')\n",
    "\n",
    "gene_df, _, _ = get_gtf_info(how='gene', subset='tf')\n",
    "\n",
    "n_tf = len(gene_df.index)\n",
    "n_det_tf = len(df.annot_gene_id.unique().tolist())\n",
    "\n",
    "print('Detected {} / {} ({:.2f}%) annotated TF genes w/ at least 1 known transcript >= 1 TPM'.format(n_det_tf, n_tf, (n_det_tf/n_tf)*100))"
   ]
  },
  {
   "cell_type": "markdown",
   "id": "cognitive-teacher",
   "metadata": {},
   "source": [
    "Which TF has the most isoforms overall? "
   ]
  },
  {
   "cell_type": "code",
   "execution_count": 45,
   "id": "moving-theater",
   "metadata": {},
   "outputs": [
    {
     "name": "stdout",
     "output_type": "stream",
     "text": [
      "Calculating iso TPM values\n",
      "Subsetting for novelty categories ['Known', 'NIC', 'NNC']\n",
      "Subsetting for tf genes\n",
      "Enforcing minimum TPM\n",
      "Total # isos detected: 185293\n",
      "# isos >= 1 tpm: 167378\n",
      "Applying gene type and novelty subset\n",
      "Number of isos reported: 5823\n"
     ]
    },
    {
     "data": {
      "text/html": [
       "<div>\n",
       "<style scoped>\n",
       "    .dataframe tbody tr th:only-of-type {\n",
       "        vertical-align: middle;\n",
       "    }\n",
       "\n",
       "    .dataframe tbody tr th {\n",
       "        vertical-align: top;\n",
       "    }\n",
       "\n",
       "    .dataframe thead th {\n",
       "        text-align: right;\n",
       "    }\n",
       "</style>\n",
       "<table border=\"1\" class=\"dataframe\">\n",
       "  <thead>\n",
       "    <tr style=\"text-align: right;\">\n",
       "      <th></th>\n",
       "      <th>all</th>\n",
       "      <th>gid</th>\n",
       "      <th>gname</th>\n",
       "    </tr>\n",
       "  </thead>\n",
       "  <tbody>\n",
       "    <tr>\n",
       "      <th>296</th>\n",
       "      <td>33</td>\n",
       "      <td>ENSG00000074800.15</td>\n",
       "      <td>ENO1</td>\n",
       "    </tr>\n",
       "    <tr>\n",
       "      <th>28813</th>\n",
       "      <td>27</td>\n",
       "      <td>ENSG00000095794.19</td>\n",
       "      <td>CREM</td>\n",
       "    </tr>\n",
       "    <tr>\n",
       "      <th>48846</th>\n",
       "      <td>25</td>\n",
       "      <td>ENSG00000196628.16</td>\n",
       "      <td>TCF4</td>\n",
       "    </tr>\n",
       "    <tr>\n",
       "      <th>50804</th>\n",
       "      <td>25</td>\n",
       "      <td>ENSG00000181666.17</td>\n",
       "      <td>HKR1</td>\n",
       "    </tr>\n",
       "    <tr>\n",
       "      <th>16169</th>\n",
       "      <td>24</td>\n",
       "      <td>ENSG00000081189.15</td>\n",
       "      <td>MEF2C</td>\n",
       "    </tr>\n",
       "    <tr>\n",
       "      <th>48103</th>\n",
       "      <td>24</td>\n",
       "      <td>ENSG00000177426.20</td>\n",
       "      <td>TGIF1</td>\n",
       "    </tr>\n",
       "    <tr>\n",
       "      <th>9207</th>\n",
       "      <td>23</td>\n",
       "      <td>ENSG00000124831.18</td>\n",
       "      <td>LRRFIP1</td>\n",
       "    </tr>\n",
       "    <tr>\n",
       "      <th>8381</th>\n",
       "      <td>23</td>\n",
       "      <td>ENSG00000115415.18</td>\n",
       "      <td>STAT1</td>\n",
       "    </tr>\n",
       "    <tr>\n",
       "      <th>51738</th>\n",
       "      <td>22</td>\n",
       "      <td>ENSG00000130844.17</td>\n",
       "      <td>ZNF331</td>\n",
       "    </tr>\n",
       "    <tr>\n",
       "      <th>10481</th>\n",
       "      <td>22</td>\n",
       "      <td>ENSG00000114861.20</td>\n",
       "      <td>FOXP1</td>\n",
       "    </tr>\n",
       "  </tbody>\n",
       "</table>\n",
       "</div>"
      ],
      "text/plain": [
       "       all                 gid    gname\n",
       "296     33  ENSG00000074800.15     ENO1\n",
       "28813   27  ENSG00000095794.19     CREM\n",
       "48846   25  ENSG00000196628.16     TCF4\n",
       "50804   25  ENSG00000181666.17     HKR1\n",
       "16169   24  ENSG00000081189.15    MEF2C\n",
       "48103   24  ENSG00000177426.20    TGIF1\n",
       "9207    23  ENSG00000124831.18  LRRFIP1\n",
       "8381    23  ENSG00000115415.18    STAT1\n",
       "51738   22  ENSG00000130844.17   ZNF331\n",
       "10481   22  ENSG00000114861.20    FOXP1"
      ]
     },
     "execution_count": 45,
     "metadata": {},
     "output_type": "execute_result"
    }
   ],
   "source": [
    "df = pd.read_csv('human_talon_abundance_filtered.tsv', sep='\\t')\n",
    "df = get_isos_per_gene(df,\n",
    "                       min_tpm=1,\n",
    "                       gene_subset='tf',\n",
    "                       groupby='all', \n",
    "                       nov=['Known', 'NIC', 'NNC'])\n",
    "gene_df, _, _ = get_gtf_info(how='gene')\n",
    "df = df.merge(gene_df[['gid', 'gname']], \n",
    "              how='left', \n",
    "              left_index=True, \n",
    "              right_on='gid')\n",
    "df = df.sort_values(by='all', ascending=False)\n",
    "df.head(10)"
   ]
  },
  {
   "cell_type": "markdown",
   "id": "organized-bidder",
   "metadata": {},
   "source": [
    "Which TF has the most isoforms expressed in a single sample? "
   ]
  },
  {
   "cell_type": "code",
   "execution_count": 46,
   "id": "crucial-jersey",
   "metadata": {},
   "outputs": [
    {
     "name": "stdout",
     "output_type": "stream",
     "text": [
      "Calculating iso TPM values\n",
      "Subsetting for novelty categories ['Known', 'NIC', 'NNC']\n",
      "Subsetting for tf genes\n",
      "Enforcing minimum TPM\n",
      "Total # isos detected: 185293\n",
      "# isos >= 1 tpm: 167378\n",
      "Applying gene type and novelty subset\n",
      "Number of isos reported: 5823\n",
      "Found 49 total samples\n"
     ]
    },
    {
     "data": {
      "text/html": [
       "<div>\n",
       "<style scoped>\n",
       "    .dataframe tbody tr th:only-of-type {\n",
       "        vertical-align: middle;\n",
       "    }\n",
       "\n",
       "    .dataframe tbody tr th {\n",
       "        vertical-align: top;\n",
       "    }\n",
       "\n",
       "    .dataframe thead th {\n",
       "        text-align: right;\n",
       "    }\n",
       "</style>\n",
       "<table border=\"1\" class=\"dataframe\">\n",
       "  <thead>\n",
       "    <tr style=\"text-align: right;\">\n",
       "      <th></th>\n",
       "      <th>max_sample</th>\n",
       "      <th>gid</th>\n",
       "      <th>gname</th>\n",
       "    </tr>\n",
       "  </thead>\n",
       "  <tbody>\n",
       "    <tr>\n",
       "      <th>296</th>\n",
       "      <td>28.0</td>\n",
       "      <td>ENSG00000074800.15</td>\n",
       "      <td>ENO1</td>\n",
       "    </tr>\n",
       "    <tr>\n",
       "      <th>8381</th>\n",
       "      <td>23.0</td>\n",
       "      <td>ENSG00000115415.18</td>\n",
       "      <td>STAT1</td>\n",
       "    </tr>\n",
       "    <tr>\n",
       "      <th>28813</th>\n",
       "      <td>22.0</td>\n",
       "      <td>ENSG00000095794.19</td>\n",
       "      <td>CREM</td>\n",
       "    </tr>\n",
       "    <tr>\n",
       "      <th>48846</th>\n",
       "      <td>21.0</td>\n",
       "      <td>ENSG00000196628.16</td>\n",
       "      <td>TCF4</td>\n",
       "    </tr>\n",
       "    <tr>\n",
       "      <th>50804</th>\n",
       "      <td>20.0</td>\n",
       "      <td>ENSG00000181666.17</td>\n",
       "      <td>HKR1</td>\n",
       "    </tr>\n",
       "    <tr>\n",
       "      <th>48103</th>\n",
       "      <td>18.0</td>\n",
       "      <td>ENSG00000177426.20</td>\n",
       "      <td>TGIF1</td>\n",
       "    </tr>\n",
       "    <tr>\n",
       "      <th>38047</th>\n",
       "      <td>18.0</td>\n",
       "      <td>ENSG00000198176.12</td>\n",
       "      <td>TFDP1</td>\n",
       "    </tr>\n",
       "    <tr>\n",
       "      <th>15672</th>\n",
       "      <td>18.0</td>\n",
       "      <td>ENSG00000062194.15</td>\n",
       "      <td>GPBP1</td>\n",
       "    </tr>\n",
       "    <tr>\n",
       "      <th>30533</th>\n",
       "      <td>17.0</td>\n",
       "      <td>ENSG00000185507.20</td>\n",
       "      <td>IRF7</td>\n",
       "    </tr>\n",
       "    <tr>\n",
       "      <th>50642</th>\n",
       "      <td>17.0</td>\n",
       "      <td>ENSG00000089335.20</td>\n",
       "      <td>ZNF302</td>\n",
       "    </tr>\n",
       "  </tbody>\n",
       "</table>\n",
       "</div>"
      ],
      "text/plain": [
       "       max_sample                 gid   gname\n",
       "296          28.0  ENSG00000074800.15    ENO1\n",
       "8381         23.0  ENSG00000115415.18   STAT1\n",
       "28813        22.0  ENSG00000095794.19    CREM\n",
       "48846        21.0  ENSG00000196628.16    TCF4\n",
       "50804        20.0  ENSG00000181666.17    HKR1\n",
       "48103        18.0  ENSG00000177426.20   TGIF1\n",
       "38047        18.0  ENSG00000198176.12   TFDP1\n",
       "15672        18.0  ENSG00000062194.15   GPBP1\n",
       "30533        17.0  ENSG00000185507.20    IRF7\n",
       "50642        17.0  ENSG00000089335.20  ZNF302"
      ]
     },
     "execution_count": 46,
     "metadata": {},
     "output_type": "execute_result"
    }
   ],
   "source": [
    "df = pd.read_csv('human_talon_abundance_filtered.tsv', sep='\\t')\n",
    "df = get_isos_per_gene(df,\n",
    "                       min_tpm=1,\n",
    "                       gene_subset='tf',\n",
    "                       groupby='sample', \n",
    "                       nov=['Known', 'NIC', 'NNC'])\n",
    "df['max_sample'] = df.max(1)\n",
    "df = df['max_sample'].to_frame()\n",
    "\n",
    "gene_df, _, _ = get_gtf_info(how='gene')\n",
    "df = df.merge(gene_df[['gid', 'gname']], \n",
    "              how='left', \n",
    "              left_index=True, \n",
    "              right_on='gid')\n",
    "\n",
    "df = df.sort_values(by='max_sample', ascending=False)\n",
    "df.head(10)"
   ]
  },
  {
   "cell_type": "markdown",
   "id": "associate-consent",
   "metadata": {},
   "source": [
    "## Protein coding gene transcript detection"
   ]
  },
  {
   "cell_type": "markdown",
   "id": "turned-christmas",
   "metadata": {},
   "source": [
    "What fraction of protein-coding genes do we detect with at least 1 known isoform >= 1 TPM in any library?"
   ]
  },
  {
   "cell_type": "code",
   "execution_count": 52,
   "id": "closed-currency",
   "metadata": {},
   "outputs": [
    {
     "name": "stdout",
     "output_type": "stream",
     "text": [
      "Calculating iso TPM values\n",
      "Subsetting for novelty categories ['Known']\n",
      "Enforcing minimum TPM\n",
      "Total # isos detected: 185293\n",
      "# isos >= 1 tpm: 167378\n",
      "Applying gene type and novelty subset\n",
      "Number of isos reported: 75626\n"
     ]
    }
   ],
   "source": [
    "df = pd.read_csv('human_talon_abundance_filtered.tsv', sep='\\t')\n",
    "# no gene subset here so we can look at all other genes\n",
    "df, tids = get_tpm_table(df,\n",
    "                   how='iso',\n",
    "                   nov=['Known'],\n",
    "                   min_tpm=1)"
   ]
  },
  {
   "cell_type": "code",
   "execution_count": 53,
   "id": "worthy-advance",
   "metadata": {},
   "outputs": [],
   "source": [
    "# merge with gene id\n",
    "gene_df = pd.read_csv('human_talon_abundance_filtered.tsv', sep='\\t')\n",
    "gene_df = gene_df[['annot_gene_id', 'annot_transcript_id']]\n",
    "df = df.merge(gene_df, how='left', left_index=True, right_on='annot_transcript_id')"
   ]
  },
  {
   "cell_type": "code",
   "execution_count": 54,
   "id": "parental-deployment",
   "metadata": {},
   "outputs": [],
   "source": [
    "gene_df, b_counts, b_cat_counts = get_gtf_info(how='gene')\n",
    "df = df.merge(gene_df, how='left', left_on='annot_gene_id', right_on='gid')"
   ]
  },
  {
   "cell_type": "code",
   "execution_count": 55,
   "id": "worthy-lodging",
   "metadata": {},
   "outputs": [
    {
     "data": {
      "text/html": [
       "<div>\n",
       "<style scoped>\n",
       "    .dataframe tbody tr th:only-of-type {\n",
       "        vertical-align: middle;\n",
       "    }\n",
       "\n",
       "    .dataframe tbody tr th {\n",
       "        vertical-align: top;\n",
       "    }\n",
       "\n",
       "    .dataframe thead th {\n",
       "        text-align: right;\n",
       "    }\n",
       "</style>\n",
       "<table border=\"1\" class=\"dataframe\">\n",
       "  <thead>\n",
       "    <tr style=\"text-align: right;\">\n",
       "      <th></th>\n",
       "      <th>biotype_category</th>\n",
       "      <th>detected_counts</th>\n",
       "      <th>gencode_counts</th>\n",
       "      <th>prop_detected</th>\n",
       "    </tr>\n",
       "  </thead>\n",
       "  <tbody>\n",
       "    <tr>\n",
       "      <th>3</th>\n",
       "      <td>protein_coding</td>\n",
       "      <td>17087</td>\n",
       "      <td>19969</td>\n",
       "      <td>0.855676</td>\n",
       "    </tr>\n",
       "    <tr>\n",
       "      <th>0</th>\n",
       "      <td>lncRNA</td>\n",
       "      <td>4725</td>\n",
       "      <td>15006</td>\n",
       "      <td>0.314874</td>\n",
       "    </tr>\n",
       "    <tr>\n",
       "      <th>2</th>\n",
       "      <td>other</td>\n",
       "      <td>1771</td>\n",
       "      <td>7426</td>\n",
       "      <td>0.238486</td>\n",
       "    </tr>\n",
       "    <tr>\n",
       "      <th>4</th>\n",
       "      <td>pseudogene</td>\n",
       "      <td>3036</td>\n",
       "      <td>14497</td>\n",
       "      <td>0.209423</td>\n",
       "    </tr>\n",
       "    <tr>\n",
       "      <th>1</th>\n",
       "      <td>miRNA</td>\n",
       "      <td>340</td>\n",
       "      <td>1881</td>\n",
       "      <td>0.180755</td>\n",
       "    </tr>\n",
       "  </tbody>\n",
       "</table>\n",
       "</div>"
      ],
      "text/plain": [
       "  biotype_category  detected_counts  gencode_counts  prop_detected\n",
       "3   protein_coding            17087           19969       0.855676\n",
       "0           lncRNA             4725           15006       0.314874\n",
       "2            other             1771            7426       0.238486\n",
       "4       pseudogene             3036           14497       0.209423\n",
       "1            miRNA              340            1881       0.180755"
      ]
     },
     "execution_count": 55,
     "metadata": {},
     "output_type": "execute_result"
    }
   ],
   "source": [
    "temp = df[['gid', 'biotype_category']].drop_duplicates().groupby('biotype_category').count()\n",
    "temp.reset_index(inplace=True)\n",
    "temp.rename({'gid': 'detected_counts'}, axis=1, inplace=True)\n",
    "\n",
    "temp = temp.merge(b_cat_counts, on='biotype_category', how='outer')\n",
    "temp['prop_detected'] = temp.detected_counts/temp.gencode_counts\n",
    "temp.sort_values(by='prop_detected', ascending=False, inplace=True)\n",
    "temp"
   ]
  },
  {
   "cell_type": "markdown",
   "id": "failing-tender",
   "metadata": {},
   "source": [
    "## What fraction of protein coding gene transcripts do we detect?"
   ]
  },
  {
   "cell_type": "markdown",
   "id": "opposite-papua",
   "metadata": {},
   "source": [
    "Of the transcripts associated with protein coding genes GENCODE, how many do we detect >=1 TPM?"
   ]
  },
  {
   "cell_type": "code",
   "execution_count": 56,
   "id": "greater-system",
   "metadata": {},
   "outputs": [
    {
     "name": "stdout",
     "output_type": "stream",
     "text": [
      "Calculating iso TPM values\n",
      "Subsetting for novelty categories ['Known']\n",
      "Subsetting for polya genes\n",
      "Enforcing minimum TPM\n",
      "Total # isos detected: 185293\n",
      "# isos >= 1 tpm: 167378\n",
      "Applying gene type and novelty subset\n",
      "Number of isos reported: 73508\n"
     ]
    }
   ],
   "source": [
    "df = pd.read_csv('human_talon_abundance_filtered.tsv', sep='\\t')\n",
    "df, tids = get_tpm_table(df,\n",
    "                   how='iso',\n",
    "                   nov=['Known'],\n",
    "                   min_tpm=1,\n",
    "                   gene_subset='polya')"
   ]
  },
  {
   "cell_type": "code",
   "execution_count": 57,
   "id": "foreign-avenue",
   "metadata": {},
   "outputs": [],
   "source": [
    "t_df, b_counts, b_cat_counts = get_gtf_info(how='iso')\n",
    "df = df.merge(t_df, how='left', left_index=True, right_on='tid')"
   ]
  },
  {
   "cell_type": "code",
   "execution_count": 58,
   "id": "brief-information",
   "metadata": {},
   "outputs": [
    {
     "data": {
      "text/html": [
       "<div>\n",
       "<style scoped>\n",
       "    .dataframe tbody tr th:only-of-type {\n",
       "        vertical-align: middle;\n",
       "    }\n",
       "\n",
       "    .dataframe tbody tr th {\n",
       "        vertical-align: top;\n",
       "    }\n",
       "\n",
       "    .dataframe thead th {\n",
       "        text-align: right;\n",
       "    }\n",
       "</style>\n",
       "<table border=\"1\" class=\"dataframe\">\n",
       "  <thead>\n",
       "    <tr style=\"text-align: right;\">\n",
       "      <th></th>\n",
       "      <th>biotype_category</th>\n",
       "      <th>detected_counts</th>\n",
       "      <th>gencode_counts</th>\n",
       "      <th>prop_detected</th>\n",
       "    </tr>\n",
       "  </thead>\n",
       "  <tbody>\n",
       "    <tr>\n",
       "      <th>1</th>\n",
       "      <td>protein_coding</td>\n",
       "      <td>63054.0</td>\n",
       "      <td>151259</td>\n",
       "      <td>0.416861</td>\n",
       "    </tr>\n",
       "    <tr>\n",
       "      <th>0</th>\n",
       "      <td>lncRNA</td>\n",
       "      <td>6913.0</td>\n",
       "      <td>28478</td>\n",
       "      <td>0.242749</td>\n",
       "    </tr>\n",
       "    <tr>\n",
       "      <th>2</th>\n",
       "      <td>pseudogene</td>\n",
       "      <td>3541.0</td>\n",
       "      <td>17657</td>\n",
       "      <td>0.200544</td>\n",
       "    </tr>\n",
       "    <tr>\n",
       "      <th>3</th>\n",
       "      <td>miRNA</td>\n",
       "      <td>NaN</td>\n",
       "      <td>1881</td>\n",
       "      <td>NaN</td>\n",
       "    </tr>\n",
       "    <tr>\n",
       "      <th>4</th>\n",
       "      <td>other</td>\n",
       "      <td>NaN</td>\n",
       "      <td>7486</td>\n",
       "      <td>NaN</td>\n",
       "    </tr>\n",
       "  </tbody>\n",
       "</table>\n",
       "</div>"
      ],
      "text/plain": [
       "  biotype_category  detected_counts  gencode_counts  prop_detected\n",
       "1   protein_coding          63054.0          151259       0.416861\n",
       "0           lncRNA           6913.0           28478       0.242749\n",
       "2       pseudogene           3541.0           17657       0.200544\n",
       "3            miRNA              NaN            1881            NaN\n",
       "4            other              NaN            7486            NaN"
      ]
     },
     "execution_count": 58,
     "metadata": {},
     "output_type": "execute_result"
    }
   ],
   "source": [
    "temp = df[['tid', 'biotype_category']].groupby('biotype_category').count()\n",
    "temp.reset_index(inplace=True)\n",
    "temp.rename({'tid': 'detected_counts'}, axis=1, inplace=True)\n",
    "\n",
    "temp = temp.merge(b_cat_counts, on='biotype_category', how='outer')\n",
    "temp['prop_detected'] = temp.detected_counts/temp.gencode_counts\n",
    "temp.sort_values(by='prop_detected', ascending=False, inplace=True)\n",
    "temp"
   ]
  },
  {
   "cell_type": "code",
   "execution_count": 59,
   "id": "7a544a02-d8d2-48b4-9b44-1175c4d49593",
   "metadata": {},
   "outputs": [
    {
     "data": {
      "text/plain": [
       "0.3723922712949735"
      ]
     },
     "execution_count": 59,
     "metadata": {},
     "output_type": "execute_result"
    }
   ],
   "source": [
    "73508.0 / 197394"
   ]
  },
  {
   "cell_type": "markdown",
   "id": "confident-commodity",
   "metadata": {},
   "source": [
    "## Characteristics of detected known, polyA gene associated transcripts"
   ]
  },
  {
   "cell_type": "markdown",
   "id": "median-august",
   "metadata": {},
   "source": [
    "## Number of cell types or tissues that each known transcript from polyA genes is expressed >= 1 TPM"
   ]
  },
  {
   "cell_type": "code",
   "execution_count": 60,
   "id": "spiritual-marathon",
   "metadata": {},
   "outputs": [
    {
     "name": "stdout",
     "output_type": "stream",
     "text": [
      "Calculating iso TPM values\n",
      "Subsetting for novelty categories ['Known']\n",
      "Subsetting for polya genes\n",
      "Enforcing minimum TPM\n",
      "Total # isos detected: 185293\n",
      "# isos >= 1 tpm: 167378\n",
      "Applying gene type and novelty subset\n",
      "Number of isos reported: 73508\n",
      "Found 49 total samples\n"
     ]
    },
    {
     "data": {
      "image/png": "[encoded data removed]",
      "text/plain": [
       "<Figure size 360x360 with 1 Axes>"
      ]
     },
     "metadata": {
      "needs_background": "light"
     },
     "output_type": "display_data"
    }
   ],
   "source": [
    "df = pd.read_csv('human_talon_abundance_filtered.tsv', sep='\\t')\n",
    "df = plot_biosamp_det(df,\n",
    "                      how='iso',\n",
    "                      min_tpm=1,\n",
    "                      gene_subset='polya',\n",
    "                      sample=None,\n",
    "                      groupby='sample',\n",
    "                      nov='Known',\n",
    "                      opref='figures/human')"
   ]
  },
  {
   "cell_type": "code",
   "execution_count": 61,
   "id": "bulgarian-manitoba",
   "metadata": {},
   "outputs": [
    {
     "name": "stdout",
     "output_type": "stream",
     "text": [
      "38647 / 73508 (52.6%) transcripts are expressed in <= 8 samples\n",
      "15767 / 73508 (21.4%) transcripts are expressed in >= 30 samples\n"
     ]
    }
   ],
   "source": [
    "specific_thresh = 8\n",
    "ubiq_thresh = 30\n",
    "\n",
    "n_iso = len(df.index)\n",
    "n_specific = len(df.loc[df.n_samples <= specific_thresh].index)\n",
    "n_ubiq = len(df.loc[df.n_samples >= ubiq_thresh].index)\n",
    "\n",
    "print('{} / {} ({:.1f}%) transcripts are expressed in <= {} samples'.format(n_specific, n_iso, (n_specific/n_iso)*100, specific_thresh))\n",
    "print('{} / {} ({:.1f}%) transcripts are expressed in >= {} samples'.format(n_ubiq, n_iso, (n_ubiq/n_iso)*100, ubiq_thresh))"
   ]
  },
  {
   "cell_type": "markdown",
   "id": "eleven-discount",
   "metadata": {},
   "source": [
    "## Length of transcripts from polyA genes detected >= 1 TPM"
   ]
  },
  {
   "cell_type": "code",
   "execution_count": 62,
   "id": "vital-split",
   "metadata": {},
   "outputs": [
    {
     "name": "stdout",
     "output_type": "stream",
     "text": [
      "Calculating iso TPM values\n",
      "Subsetting for novelty categories ['Known']\n",
      "Subsetting for polya genes\n",
      "Enforcing minimum TPM\n",
      "Total # isos detected: 185293\n",
      "# isos >= 1 tpm: 167378\n",
      "Applying gene type and novelty subset\n",
      "Number of isos reported: 73508\n"
     ]
    },
    {
     "data": {
      "image/png": "[encoded data removed]",
      "text/plain": [
       "<Figure size 467.61x360 with 1 Axes>"
      ]
     },
     "metadata": {
      "needs_background": "light"
     },
     "output_type": "display_data"
    }
   ],
   "source": [
    "df = pd.read_csv('human_talon_abundance_filtered.tsv', sep='\\t')\n",
    "df = plot_det_len_kde(df, \n",
    "                      how='iso', \n",
    "                      subset='polya',\n",
    "                      min_tpm=1,\n",
    "                      xlim=10000,\n",
    "                      opref='figures/')"
   ]
  },
  {
   "cell_type": "code",
   "execution_count": 63,
   "id": "conventional-iceland",
   "metadata": {},
   "outputs": [
    {
     "data": {
      "text/plain": [
       "<seaborn.axisgrid.FacetGrid at 0x7fa1eff0bd90>"
      ]
     },
     "execution_count": 63,
     "metadata": {},
     "output_type": "execute_result"
    },
    {
     "data": {
      "image/png": "[encoded data removed]",
      "text/plain": [
       "<Figure size 607.735x360 with 1 Axes>"
      ]
     },
     "metadata": {
      "needs_background": "light"
     },
     "output_type": "display_data"
    }
   ],
   "source": [
    "df['det_biotype'] = df.detected.astype('str')+'_'+df.biotype_category\n",
    "ax = sns.displot(data=df, x='t_len', kind='kde',\n",
    "                     linewidth=3, hue='det_biotype', common_norm=True)\n",
    "ax.set(xlim=(0,10000))"
   ]
  },
  {
   "cell_type": "markdown",
   "id": "induced-beverage",
   "metadata": {},
   "source": [
    "What is the longest detected transcript with more than one exon?"
   ]
  },
  {
   "cell_type": "code",
   "execution_count": 64,
   "id": "mexican-manor",
   "metadata": {},
   "outputs": [],
   "source": [
    "t_df = pd.read_csv('human_talon_abundance_filtered.tsv', sep='\\t')\n",
    "t_df = t_df[['annot_transcript_id', 'n_exons']]"
   ]
  },
  {
   "cell_type": "code",
   "execution_count": 65,
   "id": "peripheral-worth",
   "metadata": {},
   "outputs": [],
   "source": [
    "df = df.merge(t_df, how='left', on='annot_transcript_id')"
   ]
  },
  {
   "cell_type": "code",
   "execution_count": 66,
   "id": "adult-military",
   "metadata": {},
   "outputs": [
    {
     "name": "stdout",
     "output_type": "stream",
     "text": [
      "37852\n"
     ]
    }
   ],
   "source": [
    "n = df.loc[(df.detected == True)&(df.n_exons > 1), 't_len'].max()\n",
    "print(n)"
   ]
  },
  {
   "cell_type": "code",
   "execution_count": 67,
   "id": "pressed-elite",
   "metadata": {},
   "outputs": [
    {
     "data": {
      "text/html": [
       "<div>\n",
       "<style scoped>\n",
       "    .dataframe tbody tr th:only-of-type {\n",
       "        vertical-align: middle;\n",
       "    }\n",
       "\n",
       "    .dataframe tbody tr th {\n",
       "        vertical-align: top;\n",
       "    }\n",
       "\n",
       "    .dataframe thead th {\n",
       "        text-align: right;\n",
       "    }\n",
       "</style>\n",
       "<table border=\"1\" class=\"dataframe\">\n",
       "  <thead>\n",
       "    <tr style=\"text-align: right;\">\n",
       "      <th></th>\n",
       "      <th>annot_transcript_id</th>\n",
       "      <th>tid</th>\n",
       "      <th>t_len</th>\n",
       "      <th>gid</th>\n",
       "      <th>gname</th>\n",
       "      <th>biotype</th>\n",
       "      <th>biotype_category</th>\n",
       "      <th>tf</th>\n",
       "      <th>detected</th>\n",
       "      <th>det_biotype</th>\n",
       "      <th>n_exons</th>\n",
       "    </tr>\n",
       "  </thead>\n",
       "  <tbody>\n",
       "    <tr>\n",
       "      <th>69687</th>\n",
       "      <td>ENST00000458178.2</td>\n",
       "      <td>ENST00000458178.2</td>\n",
       "      <td>37852</td>\n",
       "      <td>ENSG00000224086.5</td>\n",
       "      <td>AC245452.1</td>\n",
       "      <td>antisense</td>\n",
       "      <td>lncRNA</td>\n",
       "      <td>False</td>\n",
       "      <td>True</td>\n",
       "      <td>True_lncRNA</td>\n",
       "      <td>2.0</td>\n",
       "    </tr>\n",
       "  </tbody>\n",
       "</table>\n",
       "</div>"
      ],
      "text/plain": [
       "      annot_transcript_id                tid  t_len                gid  \\\n",
       "69687   ENST00000458178.2  ENST00000458178.2  37852  ENSG00000224086.5   \n",
       "\n",
       "            gname    biotype biotype_category     tf  detected  det_biotype  \\\n",
       "69687  AC245452.1  antisense           lncRNA  False      True  True_lncRNA   \n",
       "\n",
       "       n_exons  \n",
       "69687      2.0  "
      ]
     },
     "execution_count": 67,
     "metadata": {},
     "output_type": "execute_result"
    }
   ],
   "source": [
    "df.loc[df.t_len == 37852]"
   ]
  },
  {
   "cell_type": "markdown",
   "id": "thrown-perry",
   "metadata": {},
   "source": [
    "## Variance in TPM levels >= 1 TPM for known transcripts detected >= 1 TPM"
   ]
  },
  {
   "cell_type": "code",
   "execution_count": 69,
   "id": "acute-variance",
   "metadata": {},
   "outputs": [
    {
     "name": "stdout",
     "output_type": "stream",
     "text": [
      "Calculating iso TPM values\n",
      "Subsetting for novelty categories ['Known']\n",
      "Subsetting for polya genes\n",
      "Enforcing minimum TPM\n",
      "Total # isos detected: 185293\n",
      "# isos >= 1 tpm: 167378\n",
      "Applying gene type and novelty subset\n",
      "Number of isos reported: 73508\n"
     ]
    }
   ],
   "source": [
    "df = pd.read_csv('human_talon_abundance_filtered.tsv', sep='\\t')\n",
    "df = get_tpm_table(df,\n",
    "                   how='iso',\n",
    "                   nov=['Known'],\n",
    "                   min_tpm=1,\n",
    "                   gene_subset='polya')"
   ]
  },
  {
   "cell_type": "markdown",
   "id": "legislative-friend",
   "metadata": {},
   "source": [
    "## How many known polyA transcripts do we detect?"
   ]
  },
  {
   "cell_type": "code",
   "execution_count": 72,
   "id": "dying-porcelain",
   "metadata": {},
   "outputs": [
    {
     "name": "stdout",
     "output_type": "stream",
     "text": [
      "Calculating iso TPM values\n",
      "Subsetting for novelty categories ['Known']\n",
      "Subsetting for polya genes\n",
      "Enforcing minimum TPM\n",
      "Total # isos detected: 185293\n",
      "# isos >= 1 tpm: 167378\n",
      "Applying gene type and novelty subset\n",
      "Number of isos reported: 73508\n"
     ]
    }
   ],
   "source": [
    "df = pd.read_csv('human_talon_abundance_filtered.tsv', sep='\\t')\n",
    "df, _ = get_tpm_table(df,\n",
    "                   how='iso',\n",
    "                   nov=['Known'],\n",
    "                   min_tpm=1,\n",
    "                   gene_subset='polya')"
   ]
  },
  {
   "cell_type": "code",
   "execution_count": 73,
   "id": "suitable-christian",
   "metadata": {},
   "outputs": [],
   "source": [
    "# merge with transcript len\n",
    "t_df, b_counts, c_counts = get_gtf_info(how='iso')\n",
    "df = df.merge(t_df, how='left', left_index=True, right_on='tid')"
   ]
  },
  {
   "cell_type": "code",
   "execution_count": 74,
   "id": "historic-german",
   "metadata": {},
   "outputs": [
    {
     "name": "stdout",
     "output_type": "stream",
     "text": [
      "Detected 73508 / 197394 (37.24%) annotated transcripts from polyA genes >= 1 TPM\n"
     ]
    }
   ],
   "source": [
    "polya_biotypes = ['protein_coding', 'pseudogene', 'lncRNA']\n",
    "n_det_polya = len(df.index)\n",
    "n_known_polya = c_counts.loc[c_counts.biotype_category.isin(polya_biotypes), 'gencode_counts'].sum()\n",
    "print('Detected {} / {} ({:.2f}%) annotated transcripts from polyA genes >= 1 TPM'.format(n_det_polya, n_known_polya, (n_det_polya/n_known_polya)*100))"
   ]
  },
  {
   "cell_type": "markdown",
   "id": "invisible-brisbane",
   "metadata": {},
   "source": [
    "## How many complete isoforms do we detect?"
   ]
  },
  {
   "cell_type": "code",
   "execution_count": 2,
   "id": "former-fifteen",
   "metadata": {},
   "outputs": [
    {
     "name": "stdout",
     "output_type": "stream",
     "text": [
      "Calculating iso TPM values\n",
      "Subsetting for novelty categories ['Known', 'NIC', 'NNC']\n",
      "Subsetting for polya genes\n",
      "Enforcing minimum TPM\n",
      "Total # isos detected: 185293\n",
      "# isos >= 1 tpm: 167378\n",
      "Applying gene type and novelty subset\n",
      "Number of isos reported: 106687\n"
     ]
    }
   ],
   "source": [
    "df = pd.read_csv('human_talon_abundance_filtered.tsv', sep='\\t')\n",
    "df, tids = get_tpm_table(df,\n",
    "                   how='iso',\n",
    "                   nov=['Known', 'NIC', 'NNC'],\n",
    "                   min_tpm=1,\n",
    "                   gene_subset='polya')"
   ]
  },
  {
   "cell_type": "code",
   "execution_count": 3,
   "id": "covered-acoustic",
   "metadata": {},
   "outputs": [
    {
     "name": "stdout",
     "output_type": "stream",
     "text": [
      "  transcript_novelty  counts\n",
      "0              Known   73508\n",
      "1                NIC   25141\n",
      "2                NNC    8038\n",
      "Number of complete isoforms: 106687\n"
     ]
    },
    {
     "data": {
      "text/plain": [
       "<Figure size 288x432 with 0 Axes>"
      ]
     },
     "metadata": {},
     "output_type": "display_data"
    },
    {
     "data": {
      "image/png": "[encoded data removed]",
      "text/plain": [
       "<Figure size 360x360 with 1 Axes>"
      ]
     },
     "metadata": {
      "needs_background": "light"
     },
     "output_type": "display_data"
    },
    {
     "data": {
      "text/plain": [
       "<Figure size 432x288 with 0 Axes>"
      ]
     },
     "metadata": {},
     "output_type": "display_data"
    }
   ],
   "source": [
    "df = pd.read_csv('human_talon_abundance_filtered.tsv', sep='\\t')\n",
    "plot_transcript_novelty(df,\n",
    "                        oprefix='figures/complete_det',\n",
    "                        whitelist=tids,\n",
    "                        novs=['Known', 'NIC', 'NNC'])"
   ]
  },
  {
   "cell_type": "code",
   "execution_count": 4,
   "id": "b3e1ef55-67bf-4ca5-b678-e14e81207cf4",
   "metadata": {},
   "outputs": [
    {
     "data": {
      "text/plain": [
       "33179"
      ]
     },
     "execution_count": 4,
     "metadata": {},
     "output_type": "execute_result"
    }
   ],
   "source": [
    "25141+8038"
   ]
  },
  {
   "cell_type": "markdown",
   "id": "technological-absence",
   "metadata": {},
   "source": [
    "## How many exons are in each complete, detected model, split by novelty?"
   ]
  },
  {
   "cell_type": "code",
   "execution_count": 5,
   "id": "african-wiring",
   "metadata": {},
   "outputs": [
    {
     "name": "stdout",
     "output_type": "stream",
     "text": [
      "Calculating iso TPM values\n",
      "Subsetting for novelty categories ['Known', 'NIC', 'NNC']\n",
      "Subsetting for polya genes\n",
      "Enforcing minimum TPM\n",
      "Total # isos detected: 185293\n",
      "# isos >= 1 tpm: 167378\n",
      "Applying gene type and novelty subset\n",
      "Number of isos reported: 106687\n"
     ]
    },
    {
     "data": {
      "image/png": "[encoded data removed]",
      "text/plain": [
       "<Figure size 288x432 with 1 Axes>"
      ]
     },
     "metadata": {
      "needs_background": "light"
     },
     "output_type": "display_data"
    }
   ],
   "source": [
    "df = pd.read_csv('human_talon_abundance_filtered.tsv', sep='\\t')\n",
    "plot_exons_per_iso(df,\n",
    "                   nov=['Known', 'NIC', 'NNC'],\n",
    "                   min_tpm=1,\n",
    "                   gene_subset='polya',\n",
    "                   opref='figures/human')"
   ]
  },
  {
   "cell_type": "markdown",
   "id": "anonymous-explorer",
   "metadata": {},
   "source": [
    "## How many isoforms per gene do we detect per sample? "
   ]
  },
  {
   "cell_type": "markdown",
   "id": "oriental-strand",
   "metadata": {},
   "source": [
    "What is the average and range of complete isoforms per polyA gene that we detect per sample?"
   ]
  },
  {
   "cell_type": "code",
   "execution_count": 6,
   "id": "industrial-danish",
   "metadata": {},
   "outputs": [
    {
     "name": "stdout",
     "output_type": "stream",
     "text": [
      "Calculating iso TPM values\n",
      "Subsetting for novelty categories ['Known', 'NIC', 'NNC']\n",
      "Subsetting for polya genes\n",
      "Enforcing minimum TPM\n",
      "Total # isos detected: 185293\n",
      "# isos >= 1 tpm: 167378\n",
      "Applying gene type and novelty subset\n",
      "Number of isos reported: 106687\n",
      "Found 49 total samples\n"
     ]
    }
   ],
   "source": [
    "df = pd.read_csv('human_talon_abundance_filtered.tsv', sep='\\t')\n",
    "df = get_isos_per_gene(df,\n",
    "                       min_tpm=1,\n",
    "                       gene_subset='polya',\n",
    "                       groupby='sample', \n",
    "                       nov=['Known', 'NIC', 'NNC'])"
   ]
  },
  {
   "cell_type": "code",
   "execution_count": 7,
   "id": "serial-minnesota",
   "metadata": {},
   "outputs": [
    {
     "data": {
      "text/plain": [
       "annot_gene_id\n",
       "ENSG00000000003.14              colon\n",
       "ENSG00000000005.5        h9_panc_beta\n",
       "ENSG00000000419.12    h9_neural_crest\n",
       "ENSG00000000457.13    h9_neural_crest\n",
       "ENSG00000000460.16     h9_panc_progen\n",
       "                           ...       \n",
       "ENSG00000285967.1                  h1\n",
       "ENSG00000285972.1               colon\n",
       "ENSG00000285976.1               colon\n",
       "ENSG00000285988.1               calu3\n",
       "ENSG00000285991.1                a673\n",
       "Length: 25198, dtype: object"
      ]
     },
     "execution_count": 7,
     "metadata": {},
     "output_type": "execute_result"
    }
   ],
   "source": [
    "df.idxmax(axis=1)"
   ]
  },
  {
   "cell_type": "code",
   "execution_count": 8,
   "id": "straight-attachment",
   "metadata": {},
   "outputs": [
    {
     "name": "stdout",
     "output_type": "stream",
     "text": [
      "Average # isoforms / gene / sample: 2.8737363638568625\n"
     ]
    }
   ],
   "source": [
    "print('Average # isoforms / gene / sample: {}'.format(df.mean().mean()))"
   ]
  },
  {
   "cell_type": "code",
   "execution_count": 9,
   "id": "accessible-opening",
   "metadata": {},
   "outputs": [
    {
     "name": "stdout",
     "output_type": "stream",
     "text": [
      "Max # isoforms / gene / sample: 134.0\n"
     ]
    }
   ],
   "source": [
    "print('Max # isoforms / gene / sample: {}'.format(df.max().max()))"
   ]
  },
  {
   "cell_type": "markdown",
   "id": "broke-field",
   "metadata": {},
   "source": [
    "How does the total # of isoforms we detect / gene compare to the number of annotated isoforms / gene"
   ]
  },
  {
   "cell_type": "code",
   "execution_count": 8,
   "id": "4169ad76-b9a2-404d-9a02-dba43f07f5bb",
   "metadata": {},
   "outputs": [
    {
     "name": "stdout",
     "output_type": "stream",
     "text": [
      "Calculating iso TPM values\n",
      "Subsetting for novelty categories ['Known', 'NIC', 'NNC']\n",
      "Subsetting for polya genes\n",
      "Enforcing minimum TPM\n",
      "Total # isos detected: 185293\n",
      "# isos >= 1 tpm: 167378\n",
      "Applying gene type and novelty subset\n",
      "Number of isos reported: 106687\n"
     ]
    },
    {
     "data": {
      "image/png": "[encoded data removed]",
      "text/plain": [
       "<Figure size 432x432 with 1 Axes>"
      ]
     },
     "metadata": {
      "needs_background": "light"
     },
     "output_type": "display_data"
    }
   ],
   "source": [
    "df = pd.read_csv('human_talon_abundance_filtered.tsv', sep='\\t')\n",
    "genes = ['ELN', 'DES', 'TPM1', 'MEF2C',\n",
    "         'MYH7', 'MAPK10', 'PAX6', 'TCF4', 'COL1A1']\n",
    "df = plot_det_vs_gencode_isos(df, \n",
    "                         min_tpm=1,\n",
    "                         gene_subset='polya',\n",
    "                         nov=['Known', 'NIC', 'NNC'],\n",
    "                         label_genes=genes, \n",
    "                         opref='figures/human')"
   ]
  },
  {
   "cell_type": "code",
   "execution_count": 3,
   "id": "historical-recovery",
   "metadata": {},
   "outputs": [
    {
     "name": "stdout",
     "output_type": "stream",
     "text": [
      "MAPK10 has the most annotated isoforms in GENCODE (192)\n"
     ]
    }
   ],
   "source": [
    "entry = df.sort_values(by='n_isos_gencode', ascending=False).head(1)\n",
    "print('{} has the most annotated isoforms in GENCODE ({})'.format(entry.gname.values[0], entry.n_isos_gencode.values[0]))"
   ]
  },
  {
   "cell_type": "code",
   "execution_count": 9,
   "id": "2876e2e2-f7c8-4da6-8ec8-a6f72b5817eb",
   "metadata": {},
   "outputs": [
    {
     "data": {
      "text/html": [
       "<div>\n",
       "<style scoped>\n",
       "    .dataframe tbody tr th:only-of-type {\n",
       "        vertical-align: middle;\n",
       "    }\n",
       "\n",
       "    .dataframe tbody tr th {\n",
       "        vertical-align: top;\n",
       "    }\n",
       "\n",
       "    .dataframe thead th {\n",
       "        text-align: right;\n",
       "    }\n",
       "</style>\n",
       "<table border=\"1\" class=\"dataframe\">\n",
       "  <thead>\n",
       "    <tr style=\"text-align: right;\">\n",
       "      <th></th>\n",
       "      <th>n_isos_det</th>\n",
       "      <th>gid</th>\n",
       "      <th>n_isos_gencode</th>\n",
       "      <th>gname</th>\n",
       "    </tr>\n",
       "  </thead>\n",
       "  <tbody>\n",
       "    <tr>\n",
       "      <th>640</th>\n",
       "      <td>139</td>\n",
       "      <td>ENSG00000049540.16</td>\n",
       "      <td>34</td>\n",
       "      <td>ELN</td>\n",
       "    </tr>\n",
       "    <tr>\n",
       "      <th>3445</th>\n",
       "      <td>3</td>\n",
       "      <td>ENSG00000108821.13</td>\n",
       "      <td>13</td>\n",
       "      <td>COL1A1</td>\n",
       "    </tr>\n",
       "    <tr>\n",
       "      <th>3513</th>\n",
       "      <td>52</td>\n",
       "      <td>ENSG00000109339.21</td>\n",
       "      <td>192</td>\n",
       "      <td>MAPK10</td>\n",
       "    </tr>\n",
       "    <tr>\n",
       "      <th>7524</th>\n",
       "      <td>72</td>\n",
       "      <td>ENSG00000140416.20</td>\n",
       "      <td>34</td>\n",
       "      <td>TPM1</td>\n",
       "    </tr>\n",
       "    <tr>\n",
       "      <th>12730</th>\n",
       "      <td>45</td>\n",
       "      <td>ENSG00000175084.11</td>\n",
       "      <td>4</td>\n",
       "      <td>DES</td>\n",
       "    </tr>\n",
       "  </tbody>\n",
       "</table>\n",
       "</div>"
      ],
      "text/plain": [
       "       n_isos_det                 gid  n_isos_gencode   gname\n",
       "640           139  ENSG00000049540.16              34     ELN\n",
       "3445            3  ENSG00000108821.13              13  COL1A1\n",
       "3513           52  ENSG00000109339.21             192  MAPK10\n",
       "7524           72  ENSG00000140416.20              34    TPM1\n",
       "12730          45  ENSG00000175084.11               4     DES"
      ]
     },
     "execution_count": 9,
     "metadata": {},
     "output_type": "execute_result"
    }
   ],
   "source": [
    "genes = ['COL1A1', 'TPM1', 'MAPK10', 'ELN', 'DES']\n",
    "df.loc[df.gname.isin(genes)]"
   ]
  },
  {
   "cell_type": "code",
   "execution_count": 4,
   "id": "chinese-colorado",
   "metadata": {},
   "outputs": [
    {
     "data": {
      "text/html": [
       "<div>\n",
       "<style scoped>\n",
       "    .dataframe tbody tr th:only-of-type {\n",
       "        vertical-align: middle;\n",
       "    }\n",
       "\n",
       "    .dataframe tbody tr th {\n",
       "        vertical-align: top;\n",
       "    }\n",
       "\n",
       "    .dataframe thead th {\n",
       "        text-align: right;\n",
       "    }\n",
       "</style>\n",
       "<table border=\"1\" class=\"dataframe\">\n",
       "  <thead>\n",
       "    <tr style=\"text-align: right;\">\n",
       "      <th></th>\n",
       "      <th>n_isos_det</th>\n",
       "      <th>gid</th>\n",
       "      <th>n_isos_gencode</th>\n",
       "      <th>gname</th>\n",
       "    </tr>\n",
       "  </thead>\n",
       "  <tbody>\n",
       "    <tr>\n",
       "      <th>3513</th>\n",
       "      <td>52</td>\n",
       "      <td>ENSG00000109339.21</td>\n",
       "      <td>192</td>\n",
       "      <td>MAPK10</td>\n",
       "    </tr>\n",
       "    <tr>\n",
       "      <th>13427</th>\n",
       "      <td>16</td>\n",
       "      <td>ENSG00000179818.13</td>\n",
       "      <td>170</td>\n",
       "      <td>PCBP1-AS1</td>\n",
       "    </tr>\n",
       "    <tr>\n",
       "      <th>19801</th>\n",
       "      <td>13</td>\n",
       "      <td>ENSG00000242086.8</td>\n",
       "      <td>142</td>\n",
       "      <td>MUC20-OT1</td>\n",
       "    </tr>\n",
       "    <tr>\n",
       "      <th>25109</th>\n",
       "      <td>5</td>\n",
       "      <td>ENSG00000285219.1</td>\n",
       "      <td>113</td>\n",
       "      <td>AL591485.1</td>\n",
       "    </tr>\n",
       "    <tr>\n",
       "      <th>17696</th>\n",
       "      <td>23</td>\n",
       "      <td>ENSG00000227036.7</td>\n",
       "      <td>106</td>\n",
       "      <td>LINC00511</td>\n",
       "    </tr>\n",
       "  </tbody>\n",
       "</table>\n",
       "</div>"
      ],
      "text/plain": [
       "       n_isos_det                 gid  n_isos_gencode       gname\n",
       "3513           52  ENSG00000109339.21             192      MAPK10\n",
       "13427          16  ENSG00000179818.13             170   PCBP1-AS1\n",
       "19801          13   ENSG00000242086.8             142   MUC20-OT1\n",
       "25109           5   ENSG00000285219.1             113  AL591485.1\n",
       "17696          23   ENSG00000227036.7             106   LINC00511"
      ]
     },
     "execution_count": 4,
     "metadata": {},
     "output_type": "execute_result"
    }
   ],
   "source": [
    "df.sort_values(by='n_isos_gencode', ascending=False).head()"
   ]
  },
  {
   "cell_type": "code",
   "execution_count": 5,
   "id": "variable-underwear",
   "metadata": {},
   "outputs": [
    {
     "data": {
      "text/html": [
       "<div>\n",
       "<style scoped>\n",
       "    .dataframe tbody tr th:only-of-type {\n",
       "        vertical-align: middle;\n",
       "    }\n",
       "\n",
       "    .dataframe tbody tr th {\n",
       "        vertical-align: top;\n",
       "    }\n",
       "\n",
       "    .dataframe thead th {\n",
       "        text-align: right;\n",
       "    }\n",
       "</style>\n",
       "<table border=\"1\" class=\"dataframe\">\n",
       "  <thead>\n",
       "    <tr style=\"text-align: right;\">\n",
       "      <th></th>\n",
       "      <th>n_isos_det</th>\n",
       "      <th>gid</th>\n",
       "      <th>n_isos_gencode</th>\n",
       "      <th>gname</th>\n",
       "    </tr>\n",
       "  </thead>\n",
       "  <tbody>\n",
       "    <tr>\n",
       "      <th>3445</th>\n",
       "      <td>3</td>\n",
       "      <td>ENSG00000108821.13</td>\n",
       "      <td>13</td>\n",
       "      <td>COL1A1</td>\n",
       "    </tr>\n",
       "  </tbody>\n",
       "</table>\n",
       "</div>"
      ],
      "text/plain": [
       "      n_isos_det                 gid  n_isos_gencode   gname\n",
       "3445           3  ENSG00000108821.13              13  COL1A1"
      ]
     },
     "execution_count": 5,
     "metadata": {},
     "output_type": "execute_result"
    }
   ],
   "source": [
    "df.loc[df.gname == 'COL1A1']"
   ]
  },
  {
   "cell_type": "code",
   "execution_count": 6,
   "id": "arabic-colorado",
   "metadata": {},
   "outputs": [
    {
     "data": {
      "text/html": [
       "<div>\n",
       "<style scoped>\n",
       "    .dataframe tbody tr th:only-of-type {\n",
       "        vertical-align: middle;\n",
       "    }\n",
       "\n",
       "    .dataframe tbody tr th {\n",
       "        vertical-align: top;\n",
       "    }\n",
       "\n",
       "    .dataframe thead th {\n",
       "        text-align: right;\n",
       "    }\n",
       "</style>\n",
       "<table border=\"1\" class=\"dataframe\">\n",
       "  <thead>\n",
       "    <tr style=\"text-align: right;\">\n",
       "      <th></th>\n",
       "      <th>n_isos_det</th>\n",
       "      <th>gid</th>\n",
       "      <th>n_isos_gencode</th>\n",
       "      <th>gname</th>\n",
       "    </tr>\n",
       "  </thead>\n",
       "  <tbody>\n",
       "    <tr>\n",
       "      <th>12730</th>\n",
       "      <td>45</td>\n",
       "      <td>ENSG00000175084.11</td>\n",
       "      <td>4</td>\n",
       "      <td>DES</td>\n",
       "    </tr>\n",
       "  </tbody>\n",
       "</table>\n",
       "</div>"
      ],
      "text/plain": [
       "       n_isos_det                 gid  n_isos_gencode gname\n",
       "12730          45  ENSG00000175084.11               4   DES"
      ]
     },
     "execution_count": 6,
     "metadata": {},
     "output_type": "execute_result"
    }
   ],
   "source": [
    "df.loc[df.gname == 'DES']"
   ]
  },
  {
   "cell_type": "code",
   "execution_count": 7,
   "id": "direct-birmingham",
   "metadata": {},
   "outputs": [
    {
     "data": {
      "text/html": [
       "<div>\n",
       "<style scoped>\n",
       "    .dataframe tbody tr th:only-of-type {\n",
       "        vertical-align: middle;\n",
       "    }\n",
       "\n",
       "    .dataframe tbody tr th {\n",
       "        vertical-align: top;\n",
       "    }\n",
       "\n",
       "    .dataframe thead th {\n",
       "        text-align: right;\n",
       "    }\n",
       "</style>\n",
       "<table border=\"1\" class=\"dataframe\">\n",
       "  <thead>\n",
       "    <tr style=\"text-align: right;\">\n",
       "      <th></th>\n",
       "      <th>n_isos_det</th>\n",
       "      <th>gid</th>\n",
       "      <th>n_isos_gencode</th>\n",
       "      <th>gname</th>\n",
       "      <th>ratio</th>\n",
       "    </tr>\n",
       "  </thead>\n",
       "  <tbody>\n",
       "    <tr>\n",
       "      <th>13427</th>\n",
       "      <td>16</td>\n",
       "      <td>ENSG00000179818.13</td>\n",
       "      <td>170</td>\n",
       "      <td>PCBP1-AS1</td>\n",
       "      <td>0.094118</td>\n",
       "    </tr>\n",
       "    <tr>\n",
       "      <th>175</th>\n",
       "      <td>18</td>\n",
       "      <td>ENSG00000007372.22</td>\n",
       "      <td>84</td>\n",
       "      <td>PAX6</td>\n",
       "      <td>0.214286</td>\n",
       "    </tr>\n",
       "    <tr>\n",
       "      <th>17696</th>\n",
       "      <td>23</td>\n",
       "      <td>ENSG00000227036.7</td>\n",
       "      <td>106</td>\n",
       "      <td>LINC00511</td>\n",
       "      <td>0.216981</td>\n",
       "    </tr>\n",
       "    <tr>\n",
       "      <th>16187</th>\n",
       "      <td>17</td>\n",
       "      <td>ENSG00000205336.11</td>\n",
       "      <td>77</td>\n",
       "      <td>ADGRG1</td>\n",
       "      <td>0.220779</td>\n",
       "    </tr>\n",
       "    <tr>\n",
       "      <th>4235</th>\n",
       "      <td>17</td>\n",
       "      <td>ENSG00000115355.16</td>\n",
       "      <td>68</td>\n",
       "      <td>CCDC88A</td>\n",
       "      <td>0.250000</td>\n",
       "    </tr>\n",
       "    <tr>\n",
       "      <th>...</th>\n",
       "      <td>...</td>\n",
       "      <td>...</td>\n",
       "      <td>...</td>\n",
       "      <td>...</td>\n",
       "      <td>...</td>\n",
       "    </tr>\n",
       "    <tr>\n",
       "      <th>22667</th>\n",
       "      <td>18</td>\n",
       "      <td>ENSG00000267110.1</td>\n",
       "      <td>1</td>\n",
       "      <td>AC010327.1</td>\n",
       "      <td>18.000000</td>\n",
       "    </tr>\n",
       "    <tr>\n",
       "      <th>21698</th>\n",
       "      <td>22</td>\n",
       "      <td>ENSG00000259590.1</td>\n",
       "      <td>1</td>\n",
       "      <td>LINC02244</td>\n",
       "      <td>22.000000</td>\n",
       "    </tr>\n",
       "    <tr>\n",
       "      <th>22558</th>\n",
       "      <td>24</td>\n",
       "      <td>ENSG00000265992.1</td>\n",
       "      <td>1</td>\n",
       "      <td>ESRG</td>\n",
       "      <td>24.000000</td>\n",
       "    </tr>\n",
       "    <tr>\n",
       "      <th>2870</th>\n",
       "      <td>25</td>\n",
       "      <td>ENSG00000104879.4</td>\n",
       "      <td>1</td>\n",
       "      <td>CKM</td>\n",
       "      <td>25.000000</td>\n",
       "    </tr>\n",
       "    <tr>\n",
       "      <th>1890</th>\n",
       "      <td>25</td>\n",
       "      <td>ENSG00000092054.12</td>\n",
       "      <td>1</td>\n",
       "      <td>MYH7</td>\n",
       "      <td>25.000000</td>\n",
       "    </tr>\n",
       "  </tbody>\n",
       "</table>\n",
       "<p>794 rows × 5 columns</p>\n",
       "</div>"
      ],
      "text/plain": [
       "       n_isos_det                 gid  n_isos_gencode       gname      ratio\n",
       "13427          16  ENSG00000179818.13             170   PCBP1-AS1   0.094118\n",
       "175            18  ENSG00000007372.22              84        PAX6   0.214286\n",
       "17696          23   ENSG00000227036.7             106   LINC00511   0.216981\n",
       "16187          17  ENSG00000205336.11              77      ADGRG1   0.220779\n",
       "4235           17  ENSG00000115355.16              68     CCDC88A   0.250000\n",
       "...           ...                 ...             ...         ...        ...\n",
       "22667          18   ENSG00000267110.1               1  AC010327.1  18.000000\n",
       "21698          22   ENSG00000259590.1               1   LINC02244  22.000000\n",
       "22558          24   ENSG00000265992.1               1        ESRG  24.000000\n",
       "2870           25   ENSG00000104879.4               1         CKM  25.000000\n",
       "1890           25  ENSG00000092054.12               1        MYH7  25.000000\n",
       "\n",
       "[794 rows x 5 columns]"
      ]
     },
     "execution_count": 7,
     "metadata": {},
     "output_type": "execute_result"
    }
   ],
   "source": [
    "df['ratio'] = df['n_isos_det'] / df['n_isos_gencode']\n",
    "df.sort_values(by='ratio', ascending=False)\n",
    "df = df.sort_values(by='ratio', ascending=True)\n",
    "df.loc[df.n_isos_det > 15]"
   ]
  },
  {
   "cell_type": "markdown",
   "id": "broad-devon",
   "metadata": {},
   "source": [
    "How does TPM for a gene in a sample relate to the number of models we see in a sample?"
   ]
  },
  {
   "cell_type": "code",
   "execution_count": 8,
   "id": "fancy-fence",
   "metadata": {},
   "outputs": [
    {
     "name": "stdout",
     "output_type": "stream",
     "text": [
      "Calculating gene TPM values\n",
      "Subsetting for novelty categories ['Known']\n",
      "Subsetting for polya genes\n",
      "Enforcing minimum TPM\n",
      "Total # genes detected: 559881\n",
      "# genes >= 1 tpm: 274347\n",
      "Applying gene type and novelty subset\n",
      "Averaging over biosample\n",
      "Found 49 total samples\n",
      "Number of genes reported: 33635\n",
      "Calculating iso TPM values\n",
      "Subsetting for novelty categories ['Known', 'NIC', 'NNC']\n",
      "Subsetting for polya genes\n",
      "Enforcing minimum TPM\n",
      "Total # isos detected: 185293\n",
      "# isos >= 1 tpm: 167378\n",
      "Applying gene type and novelty subset\n",
      "Number of isos reported: 106687\n",
      "Found 49 total samples\n"
     ]
    },
    {
     "data": {
      "image/png": "[encoded data removed]",
      "text/plain": [
       "<Figure size 432x288 with 1 Axes>"
      ]
     },
     "metadata": {
      "needs_background": "light"
     },
     "output_type": "display_data"
    }
   ],
   "source": [
    "df = pd.read_csv('human_talon_abundance.tsv', sep='\\t')\n",
    "filt_df = pd.read_csv('human_talon_abundance_filtered.tsv', sep='\\t')\n",
    "df = plot_gene_tpm_v_n_isos(df, filt_df, \n",
    "                            min_tpm=1, \n",
    "                            groupby='sample', \n",
    "                            gene_subset='polya', \n",
    "                            nov=['Known', 'NIC', 'NNC'], \n",
    "                            opref='figures/human')"
   ]
  },
  {
   "cell_type": "code",
   "execution_count": 9,
   "id": "fifteen-timeline",
   "metadata": {},
   "outputs": [
    {
     "data": {
      "text/html": [
       "<div>\n",
       "<style scoped>\n",
       "    .dataframe tbody tr th:only-of-type {\n",
       "        vertical-align: middle;\n",
       "    }\n",
       "\n",
       "    .dataframe tbody tr th {\n",
       "        vertical-align: top;\n",
       "    }\n",
       "\n",
       "    .dataframe thead th {\n",
       "        text-align: right;\n",
       "    }\n",
       "</style>\n",
       "<table border=\"1\" class=\"dataframe\">\n",
       "  <thead>\n",
       "    <tr style=\"text-align: right;\">\n",
       "      <th></th>\n",
       "      <th>annot_gene_id</th>\n",
       "      <th>biosample</th>\n",
       "      <th>tpm</th>\n",
       "      <th>n_iso</th>\n",
       "      <th>gid</th>\n",
       "      <th>gname</th>\n",
       "    </tr>\n",
       "  </thead>\n",
       "  <tbody>\n",
       "    <tr>\n",
       "      <th>337012</th>\n",
       "      <td>ENSG00000049540.16</td>\n",
       "      <td>h9_chondro</td>\n",
       "      <td>13063.607528</td>\n",
       "      <td>134.0</td>\n",
       "      <td>ENSG00000049540.16</td>\n",
       "      <td>ELN</td>\n",
       "    </tr>\n",
       "  </tbody>\n",
       "</table>\n",
       "</div>"
      ],
      "text/plain": [
       "             annot_gene_id   biosample           tpm  n_iso  \\\n",
       "337012  ENSG00000049540.16  h9_chondro  13063.607528  134.0   \n",
       "\n",
       "                       gid gname  \n",
       "337012  ENSG00000049540.16   ELN  "
      ]
     },
     "execution_count": 9,
     "metadata": {},
     "output_type": "execute_result"
    }
   ],
   "source": [
    "df.loc[(df.gname == 'ELN')&(df.biosample == 'h9_chondro')]"
   ]
  },
  {
   "cell_type": "code",
   "execution_count": 10,
   "id": "accepted-congress",
   "metadata": {},
   "outputs": [
    {
     "data": {
      "text/html": [
       "<div>\n",
       "<style scoped>\n",
       "    .dataframe tbody tr th:only-of-type {\n",
       "        vertical-align: middle;\n",
       "    }\n",
       "\n",
       "    .dataframe tbody tr th {\n",
       "        vertical-align: top;\n",
       "    }\n",
       "\n",
       "    .dataframe thead th {\n",
       "        text-align: right;\n",
       "    }\n",
       "</style>\n",
       "<table border=\"1\" class=\"dataframe\">\n",
       "  <thead>\n",
       "    <tr style=\"text-align: right;\">\n",
       "      <th></th>\n",
       "      <th>annot_gene_id</th>\n",
       "      <th>biosample</th>\n",
       "      <th>tpm</th>\n",
       "      <th>n_iso</th>\n",
       "      <th>gid</th>\n",
       "      <th>gname</th>\n",
       "    </tr>\n",
       "  </thead>\n",
       "  <tbody>\n",
       "    <tr>\n",
       "      <th>339911</th>\n",
       "      <td>ENSG00000108821.13</td>\n",
       "      <td>h9_chondro</td>\n",
       "      <td>63934.387848</td>\n",
       "      <td>2.0</td>\n",
       "      <td>ENSG00000108821.13</td>\n",
       "      <td>COL1A1</td>\n",
       "    </tr>\n",
       "    <tr>\n",
       "      <th>1111669</th>\n",
       "      <td>ENSG00000087086.14</td>\n",
       "      <td>liver</td>\n",
       "      <td>44143.313758</td>\n",
       "      <td>8.0</td>\n",
       "      <td>ENSG00000087086.14</td>\n",
       "      <td>FTL</td>\n",
       "    </tr>\n",
       "    <tr>\n",
       "      <th>1120813</th>\n",
       "      <td>ENSG00000163631.16</td>\n",
       "      <td>liver</td>\n",
       "      <td>87160.201515</td>\n",
       "      <td>20.0</td>\n",
       "      <td>ENSG00000163631.16</td>\n",
       "      <td>ALB</td>\n",
       "    </tr>\n",
       "    <tr>\n",
       "      <th>1559072</th>\n",
       "      <td>ENSG00000167552.13</td>\n",
       "      <td>pgp1_excite_neuron</td>\n",
       "      <td>63368.654759</td>\n",
       "      <td>16.0</td>\n",
       "      <td>ENSG00000167552.13</td>\n",
       "      <td>TUBA1A</td>\n",
       "    </tr>\n",
       "  </tbody>\n",
       "</table>\n",
       "</div>"
      ],
      "text/plain": [
       "              annot_gene_id           biosample           tpm  n_iso  \\\n",
       "339911   ENSG00000108821.13          h9_chondro  63934.387848    2.0   \n",
       "1111669  ENSG00000087086.14               liver  44143.313758    8.0   \n",
       "1120813  ENSG00000163631.16               liver  87160.201515   20.0   \n",
       "1559072  ENSG00000167552.13  pgp1_excite_neuron  63368.654759   16.0   \n",
       "\n",
       "                        gid   gname  \n",
       "339911   ENSG00000108821.13  COL1A1  \n",
       "1111669  ENSG00000087086.14     FTL  \n",
       "1120813  ENSG00000163631.16     ALB  \n",
       "1559072  ENSG00000167552.13  TUBA1A  "
      ]
     },
     "execution_count": 10,
     "metadata": {},
     "output_type": "execute_result"
    }
   ],
   "source": [
    "df.loc[df.tpm > 40000]"
   ]
  },
  {
   "cell_type": "code",
   "execution_count": 11,
   "id": "offshore-focus",
   "metadata": {},
   "outputs": [
    {
     "data": {
      "text/html": [
       "<div>\n",
       "<style scoped>\n",
       "    .dataframe tbody tr th:only-of-type {\n",
       "        vertical-align: middle;\n",
       "    }\n",
       "\n",
       "    .dataframe tbody tr th {\n",
       "        vertical-align: top;\n",
       "    }\n",
       "\n",
       "    .dataframe thead th {\n",
       "        text-align: right;\n",
       "    }\n",
       "</style>\n",
       "<table border=\"1\" class=\"dataframe\">\n",
       "  <thead>\n",
       "    <tr style=\"text-align: right;\">\n",
       "      <th></th>\n",
       "      <th>annot_gene_id</th>\n",
       "      <th>biosample</th>\n",
       "      <th>tpm</th>\n",
       "      <th>n_iso</th>\n",
       "      <th>gid</th>\n",
       "      <th>gname</th>\n",
       "    </tr>\n",
       "  </thead>\n",
       "  <tbody>\n",
       "    <tr>\n",
       "      <th>3561</th>\n",
       "      <td>ENSG00000108821.13</td>\n",
       "      <td>a673</td>\n",
       "      <td>39.099773</td>\n",
       "      <td>1.0</td>\n",
       "      <td>ENSG00000108821.13</td>\n",
       "      <td>COL1A1</td>\n",
       "    </tr>\n",
       "    <tr>\n",
       "      <th>37196</th>\n",
       "      <td>ENSG00000108821.13</td>\n",
       "      <td>adipose</td>\n",
       "      <td>131.496029</td>\n",
       "      <td>1.0</td>\n",
       "      <td>ENSG00000108821.13</td>\n",
       "      <td>COL1A1</td>\n",
       "    </tr>\n",
       "    <tr>\n",
       "      <th>70831</th>\n",
       "      <td>ENSG00000108821.13</td>\n",
       "      <td>adrenal gland</td>\n",
       "      <td>110.667449</td>\n",
       "      <td>1.0</td>\n",
       "      <td>ENSG00000108821.13</td>\n",
       "      <td>COL1A1</td>\n",
       "    </tr>\n",
       "    <tr>\n",
       "      <th>104466</th>\n",
       "      <td>ENSG00000108821.13</td>\n",
       "      <td>caco2</td>\n",
       "      <td>7.774921</td>\n",
       "      <td>1.0</td>\n",
       "      <td>ENSG00000108821.13</td>\n",
       "      <td>COL1A1</td>\n",
       "    </tr>\n",
       "    <tr>\n",
       "      <th>138101</th>\n",
       "      <td>ENSG00000108821.13</td>\n",
       "      <td>calu3</td>\n",
       "      <td>2.678298</td>\n",
       "      <td>0.0</td>\n",
       "      <td>ENSG00000108821.13</td>\n",
       "      <td>COL1A1</td>\n",
       "    </tr>\n",
       "  </tbody>\n",
       "</table>\n",
       "</div>"
      ],
      "text/plain": [
       "             annot_gene_id      biosample         tpm  n_iso  \\\n",
       "3561    ENSG00000108821.13           a673   39.099773    1.0   \n",
       "37196   ENSG00000108821.13        adipose  131.496029    1.0   \n",
       "70831   ENSG00000108821.13  adrenal gland  110.667449    1.0   \n",
       "104466  ENSG00000108821.13          caco2    7.774921    1.0   \n",
       "138101  ENSG00000108821.13          calu3    2.678298    0.0   \n",
       "\n",
       "                       gid   gname  \n",
       "3561    ENSG00000108821.13  COL1A1  \n",
       "37196   ENSG00000108821.13  COL1A1  \n",
       "70831   ENSG00000108821.13  COL1A1  \n",
       "104466  ENSG00000108821.13  COL1A1  \n",
       "138101  ENSG00000108821.13  COL1A1  "
      ]
     },
     "execution_count": 11,
     "metadata": {},
     "output_type": "execute_result"
    }
   ],
   "source": [
    "df.loc[df.gname == 'COL1A1'].head()"
   ]
  },
  {
   "cell_type": "markdown",
   "id": "honest-current",
   "metadata": {},
   "source": [
    "How does the average number of exons in a gene relate to the number of isoforms we detect for that gene?"
   ]
  },
  {
   "cell_type": "code",
   "execution_count": 27,
   "id": "korean-answer",
   "metadata": {},
   "outputs": [],
   "source": [
    "df = pd.read_csv('human_talon_abundance_filtered.tsv', sep='\\t')"
   ]
  },
  {
   "cell_type": "code",
   "execution_count": 28,
   "id": "increasing-museum",
   "metadata": {},
   "outputs": [],
   "source": [
    "g_df = df.copy(deep=True)"
   ]
  },
  {
   "cell_type": "code",
   "execution_count": 29,
   "id": "future-reasoning",
   "metadata": {},
   "outputs": [],
   "source": [
    "g_df = g_df[['n_exons', 'annot_gene_id', 'annot_gene_name']]\n",
    "g_df = g_df.groupby(['annot_gene_id', 'annot_gene_name']).mean().reset_index()\n",
    "g_df.rename({'n_exons':'avg_exons'}, axis=1, inplace=True)"
   ]
  },
  {
   "cell_type": "code",
   "execution_count": 30,
   "id": "independent-plaza",
   "metadata": {},
   "outputs": [
    {
     "data": {
      "text/html": [
       "<div>\n",
       "<style scoped>\n",
       "    .dataframe tbody tr th:only-of-type {\n",
       "        vertical-align: middle;\n",
       "    }\n",
       "\n",
       "    .dataframe tbody tr th {\n",
       "        vertical-align: top;\n",
       "    }\n",
       "\n",
       "    .dataframe thead th {\n",
       "        text-align: right;\n",
       "    }\n",
       "</style>\n",
       "<table border=\"1\" class=\"dataframe\">\n",
       "  <thead>\n",
       "    <tr style=\"text-align: right;\">\n",
       "      <th></th>\n",
       "      <th>annot_gene_id</th>\n",
       "      <th>annot_gene_name</th>\n",
       "      <th>avg_exons</th>\n",
       "    </tr>\n",
       "  </thead>\n",
       "  <tbody>\n",
       "    <tr>\n",
       "      <th>0</th>\n",
       "      <td>ENCODEHG000058781</td>\n",
       "      <td>ENCODEHG000058781</td>\n",
       "      <td>1.000000</td>\n",
       "    </tr>\n",
       "    <tr>\n",
       "      <th>1</th>\n",
       "      <td>ENCODEHG000058782</td>\n",
       "      <td>ENCODEHG000058782</td>\n",
       "      <td>1.000000</td>\n",
       "    </tr>\n",
       "    <tr>\n",
       "      <th>2</th>\n",
       "      <td>ENCODEHG000058784</td>\n",
       "      <td>ENCODEHG000058784</td>\n",
       "      <td>7.833333</td>\n",
       "    </tr>\n",
       "    <tr>\n",
       "      <th>3</th>\n",
       "      <td>ENCODEHG000058785</td>\n",
       "      <td>ENCODEHG000058785</td>\n",
       "      <td>1.000000</td>\n",
       "    </tr>\n",
       "    <tr>\n",
       "      <th>4</th>\n",
       "      <td>ENCODEHG000058786</td>\n",
       "      <td>ENCODEHG000058786</td>\n",
       "      <td>1.000000</td>\n",
       "    </tr>\n",
       "  </tbody>\n",
       "</table>\n",
       "</div>"
      ],
      "text/plain": [
       "       annot_gene_id    annot_gene_name  avg_exons\n",
       "0  ENCODEHG000058781  ENCODEHG000058781   1.000000\n",
       "1  ENCODEHG000058782  ENCODEHG000058782   1.000000\n",
       "2  ENCODEHG000058784  ENCODEHG000058784   7.833333\n",
       "3  ENCODEHG000058785  ENCODEHG000058785   1.000000\n",
       "4  ENCODEHG000058786  ENCODEHG000058786   1.000000"
      ]
     },
     "execution_count": 30,
     "metadata": {},
     "output_type": "execute_result"
    }
   ],
   "source": [
    "g_df.head()"
   ]
  },
  {
   "cell_type": "code",
   "execution_count": 31,
   "id": "dutch-islam",
   "metadata": {},
   "outputs": [
    {
     "name": "stdout",
     "output_type": "stream",
     "text": [
      "Calculating iso TPM values\n",
      "Subsetting for novelty categories ['Known', 'NIC', 'NNC']\n",
      "Subsetting for polya genes\n",
      "Enforcing minimum TPM\n",
      "Total # isos detected: 185293\n",
      "# isos >= 1 tpm: 167378\n",
      "Applying gene type and novelty subset\n",
      "Number of isos reported: 106687\n"
     ]
    },
    {
     "data": {
      "text/html": [
       "<div>\n",
       "<style scoped>\n",
       "    .dataframe tbody tr th:only-of-type {\n",
       "        vertical-align: middle;\n",
       "    }\n",
       "\n",
       "    .dataframe tbody tr th {\n",
       "        vertical-align: top;\n",
       "    }\n",
       "\n",
       "    .dataframe thead th {\n",
       "        text-align: right;\n",
       "    }\n",
       "</style>\n",
       "<table border=\"1\" class=\"dataframe\">\n",
       "  <thead>\n",
       "    <tr style=\"text-align: right;\">\n",
       "      <th></th>\n",
       "      <th>n_isos_det</th>\n",
       "    </tr>\n",
       "    <tr>\n",
       "      <th>annot_gene_id</th>\n",
       "      <th></th>\n",
       "    </tr>\n",
       "  </thead>\n",
       "  <tbody>\n",
       "    <tr>\n",
       "      <th>ENSG00000000003.14</th>\n",
       "      <td>7</td>\n",
       "    </tr>\n",
       "    <tr>\n",
       "      <th>ENSG00000000005.5</th>\n",
       "      <td>1</td>\n",
       "    </tr>\n",
       "    <tr>\n",
       "      <th>ENSG00000000419.12</th>\n",
       "      <td>8</td>\n",
       "    </tr>\n",
       "    <tr>\n",
       "      <th>ENSG00000000457.13</th>\n",
       "      <td>5</td>\n",
       "    </tr>\n",
       "    <tr>\n",
       "      <th>ENSG00000000460.16</th>\n",
       "      <td>7</td>\n",
       "    </tr>\n",
       "  </tbody>\n",
       "</table>\n",
       "</div>"
      ],
      "text/plain": [
       "                    n_isos_det\n",
       "annot_gene_id                 \n",
       "ENSG00000000003.14           7\n",
       "ENSG00000000005.5            1\n",
       "ENSG00000000419.12           8\n",
       "ENSG00000000457.13           5\n",
       "ENSG00000000460.16           7"
      ]
     },
     "execution_count": 31,
     "metadata": {},
     "output_type": "execute_result"
    }
   ],
   "source": [
    "# detected isoforms\n",
    "df = get_isos_per_gene(df,\n",
    "                   min_tpm=1,\n",
    "                   gene_subset='polya',\n",
    "                   groupby='all', \n",
    "                   nov=['Known', 'NIC', 'NNC'])\n",
    "df.rename({'all': 'n_isos_det'}, axis=1, inplace=True)\n",
    "df.head()"
   ]
  },
  {
   "cell_type": "code",
   "execution_count": 32,
   "id": "oriental-layer",
   "metadata": {},
   "outputs": [
    {
     "data": {
      "text/html": [
       "<div>\n",
       "<style scoped>\n",
       "    .dataframe tbody tr th:only-of-type {\n",
       "        vertical-align: middle;\n",
       "    }\n",
       "\n",
       "    .dataframe tbody tr th {\n",
       "        vertical-align: top;\n",
       "    }\n",
       "\n",
       "    .dataframe thead th {\n",
       "        text-align: right;\n",
       "    }\n",
       "</style>\n",
       "<table border=\"1\" class=\"dataframe\">\n",
       "  <thead>\n",
       "    <tr style=\"text-align: right;\">\n",
       "      <th></th>\n",
       "      <th>n_isos_det</th>\n",
       "      <th>annot_gene_id</th>\n",
       "      <th>annot_gene_name</th>\n",
       "      <th>avg_exons</th>\n",
       "    </tr>\n",
       "  </thead>\n",
       "  <tbody>\n",
       "    <tr>\n",
       "      <th>12282</th>\n",
       "      <td>7</td>\n",
       "      <td>ENSG00000000003.14</td>\n",
       "      <td>TSPAN6</td>\n",
       "      <td>6.333333</td>\n",
       "    </tr>\n",
       "    <tr>\n",
       "      <th>12283</th>\n",
       "      <td>1</td>\n",
       "      <td>ENSG00000000005.5</td>\n",
       "      <td>TNMD</td>\n",
       "      <td>5.000000</td>\n",
       "    </tr>\n",
       "    <tr>\n",
       "      <th>12284</th>\n",
       "      <td>8</td>\n",
       "      <td>ENSG00000000419.12</td>\n",
       "      <td>DPM1</td>\n",
       "      <td>7.400000</td>\n",
       "    </tr>\n",
       "    <tr>\n",
       "      <th>12285</th>\n",
       "      <td>5</td>\n",
       "      <td>ENSG00000000457.13</td>\n",
       "      <td>SCYL3</td>\n",
       "      <td>12.666667</td>\n",
       "    </tr>\n",
       "    <tr>\n",
       "      <th>12286</th>\n",
       "      <td>7</td>\n",
       "      <td>ENSG00000000460.16</td>\n",
       "      <td>C1orf112</td>\n",
       "      <td>21.428571</td>\n",
       "    </tr>\n",
       "  </tbody>\n",
       "</table>\n",
       "</div>"
      ],
      "text/plain": [
       "       n_isos_det       annot_gene_id annot_gene_name  avg_exons\n",
       "12282           7  ENSG00000000003.14          TSPAN6   6.333333\n",
       "12283           1   ENSG00000000005.5            TNMD   5.000000\n",
       "12284           8  ENSG00000000419.12            DPM1   7.400000\n",
       "12285           5  ENSG00000000457.13           SCYL3  12.666667\n",
       "12286           7  ENSG00000000460.16        C1orf112  21.428571"
      ]
     },
     "execution_count": 32,
     "metadata": {},
     "output_type": "execute_result"
    }
   ],
   "source": [
    "# merge with # isos detected\n",
    "df = df.merge(g_df, how='left', left_index=True, right_on='annot_gene_id')\n",
    "df.head()"
   ]
  },
  {
   "cell_type": "code",
   "execution_count": 33,
   "id": "enabling-meter",
   "metadata": {},
   "outputs": [],
   "source": [
    "xlim = 0\n",
    "ylim = 0\n",
    "label_genes = ['ELN', 'DES', 'TPM1', 'MYH7', \n",
    "               'SFTPA1', 'MGAT1', 'DYSF', \n",
    "               'COL16A1']"
   ]
  },
  {
   "cell_type": "code",
   "execution_count": 36,
   "id": "former-clearance",
   "metadata": {},
   "outputs": [
    {
     "data": {
      "image/png": "[encoded data removed]",
      "text/plain": [
       "<Figure size 432x288 with 1 Axes>"
      ]
     },
     "metadata": {
      "needs_background": "light"
     },
     "output_type": "display_data"
    }
   ],
   "source": [
    "# plot the figure\n",
    "opref = 'figures/human'\n",
    "\n",
    "sns.set_context('paper', font_scale=1.6)\n",
    "ax = sns.scatterplot(data=df, x='n_isos_det', y='avg_exons')\n",
    "\n",
    "ax.spines['right'].set_visible(False)\n",
    "ax.spines['top'].set_visible(False)\n",
    "\n",
    "# set x and y lims if provided\n",
    "if xlim:\n",
    "    xlim = (0, xlim)\n",
    "    ax.set(xlim=xlim)\n",
    "if ylim:\n",
    "    ylim = (0, ylim)\n",
    "    ax.set(ylim=ylim)\n",
    "\n",
    "lims = [\n",
    "    np.min([ax.get_xlim(), ax.get_ylim()]),  # min of both axes\n",
    "    np.max([ax.get_xlim(), ax.get_ylim()]),  # max of both axes\n",
    "]\n",
    "\n",
    "# now plot both limits against eachother\n",
    "ax.plot(lims, lims, 'k-', alpha=0.75, zorder=0)\n",
    "ax.set_aspect('equal')\n",
    "ax.set_xlim(lims)\n",
    "ax.set_ylim(lims)\n",
    "\n",
    "# annotate genes that are kinda interesting\n",
    "if label_genes:\n",
    "    xlim = ax.get_xlim()[1]\n",
    "    ylim = ax.get_ylim()[1]\n",
    "    for g in label_genes:\n",
    "        x = df.loc[df.annot_gene_name == g, 'n_isos_det'].values[0]+(2/75)*xlim\n",
    "        y = df.loc[df.annot_gene_name == g, 'avg_exons'].values[0]-(1.5/75)*ylim\n",
    "        plt.annotate(g, (x,y), fontsize='small', fontstyle='italic')\n",
    "\n",
    "xlabel = 'Total # isoforms / gene'\n",
    "ylabel = 'Average number of exons / isoform'\n",
    "_ = ax.set(xlabel=xlabel, ylabel=ylabel)\n",
    "\n",
    "fname = '{}_isos_det_v_exons.png'.format(opref)\n",
    "plt.savefig(fname, dpi=300, bbox_inches='tight')\n"
   ]
  },
  {
   "cell_type": "code",
   "execution_count": 37,
   "id": "molecular-method",
   "metadata": {},
   "outputs": [
    {
     "data": {
      "text/html": [
       "<div>\n",
       "<style scoped>\n",
       "    .dataframe tbody tr th:only-of-type {\n",
       "        vertical-align: middle;\n",
       "    }\n",
       "\n",
       "    .dataframe tbody tr th {\n",
       "        vertical-align: top;\n",
       "    }\n",
       "\n",
       "    .dataframe thead th {\n",
       "        text-align: right;\n",
       "    }\n",
       "</style>\n",
       "<table border=\"1\" class=\"dataframe\">\n",
       "  <thead>\n",
       "    <tr style=\"text-align: right;\">\n",
       "      <th></th>\n",
       "      <th>n_isos_det</th>\n",
       "      <th>annot_gene_id</th>\n",
       "      <th>annot_gene_name</th>\n",
       "      <th>avg_exons</th>\n",
       "      <th>ratio</th>\n",
       "    </tr>\n",
       "  </thead>\n",
       "  <tbody>\n",
       "    <tr>\n",
       "      <th>13881</th>\n",
       "      <td>7</td>\n",
       "      <td>ENSG00000084636.17</td>\n",
       "      <td>COL16A1</td>\n",
       "      <td>40.833333</td>\n",
       "      <td>0.171429</td>\n",
       "    </tr>\n",
       "    <tr>\n",
       "      <th>13085</th>\n",
       "      <td>6</td>\n",
       "      <td>ENSG00000060718.21</td>\n",
       "      <td>COL11A1</td>\n",
       "      <td>34.530303</td>\n",
       "      <td>0.173760</td>\n",
       "    </tr>\n",
       "    <tr>\n",
       "      <th>25854</th>\n",
       "      <td>6</td>\n",
       "      <td>ENSG00000178209.15</td>\n",
       "      <td>PLEC</td>\n",
       "      <td>28.777778</td>\n",
       "      <td>0.208494</td>\n",
       "    </tr>\n",
       "    <tr>\n",
       "      <th>21587</th>\n",
       "      <td>6</td>\n",
       "      <td>ENSG00000153956.15</td>\n",
       "      <td>CACNA2D1</td>\n",
       "      <td>27.375000</td>\n",
       "      <td>0.219178</td>\n",
       "    </tr>\n",
       "    <tr>\n",
       "      <th>12465</th>\n",
       "      <td>6</td>\n",
       "      <td>ENSG00000007516.13</td>\n",
       "      <td>BAIAP3</td>\n",
       "      <td>26.875000</td>\n",
       "      <td>0.223256</td>\n",
       "    </tr>\n",
       "    <tr>\n",
       "      <th>...</th>\n",
       "      <td>...</td>\n",
       "      <td>...</td>\n",
       "      <td>...</td>\n",
       "      <td>...</td>\n",
       "      <td>...</td>\n",
       "    </tr>\n",
       "    <tr>\n",
       "      <th>30923</th>\n",
       "      <td>22</td>\n",
       "      <td>ENSG00000214022.11</td>\n",
       "      <td>REPIN1</td>\n",
       "      <td>2.600000</td>\n",
       "      <td>8.461538</td>\n",
       "    </tr>\n",
       "    <tr>\n",
       "      <th>18501</th>\n",
       "      <td>21</td>\n",
       "      <td>ENSG00000131446.16</td>\n",
       "      <td>MGAT1</td>\n",
       "      <td>2.458333</td>\n",
       "      <td>8.542373</td>\n",
       "    </tr>\n",
       "    <tr>\n",
       "      <th>19954</th>\n",
       "      <td>72</td>\n",
       "      <td>ENSG00000140416.20</td>\n",
       "      <td>TPM1</td>\n",
       "      <td>7.473684</td>\n",
       "      <td>9.633803</td>\n",
       "    </tr>\n",
       "    <tr>\n",
       "      <th>23260</th>\n",
       "      <td>37</td>\n",
       "      <td>ENSG00000164935.6</td>\n",
       "      <td>DCSTAMP</td>\n",
       "      <td>3.804878</td>\n",
       "      <td>9.724359</td>\n",
       "    </tr>\n",
       "    <tr>\n",
       "      <th>17443</th>\n",
       "      <td>64</td>\n",
       "      <td>ENSG00000122852.14</td>\n",
       "      <td>SFTPA1</td>\n",
       "      <td>5.256757</td>\n",
       "      <td>12.174807</td>\n",
       "    </tr>\n",
       "  </tbody>\n",
       "</table>\n",
       "<p>6545 rows × 5 columns</p>\n",
       "</div>"
      ],
      "text/plain": [
       "       n_isos_det       annot_gene_id annot_gene_name  avg_exons      ratio\n",
       "13881           7  ENSG00000084636.17         COL16A1  40.833333   0.171429\n",
       "13085           6  ENSG00000060718.21         COL11A1  34.530303   0.173760\n",
       "25854           6  ENSG00000178209.15            PLEC  28.777778   0.208494\n",
       "21587           6  ENSG00000153956.15        CACNA2D1  27.375000   0.219178\n",
       "12465           6  ENSG00000007516.13          BAIAP3  26.875000   0.223256\n",
       "...           ...                 ...             ...        ...        ...\n",
       "30923          22  ENSG00000214022.11          REPIN1   2.600000   8.461538\n",
       "18501          21  ENSG00000131446.16           MGAT1   2.458333   8.542373\n",
       "19954          72  ENSG00000140416.20            TPM1   7.473684   9.633803\n",
       "23260          37   ENSG00000164935.6         DCSTAMP   3.804878   9.724359\n",
       "17443          64  ENSG00000122852.14          SFTPA1   5.256757  12.174807\n",
       "\n",
       "[6545 rows x 5 columns]"
      ]
     },
     "execution_count": 37,
     "metadata": {},
     "output_type": "execute_result"
    }
   ],
   "source": [
    "df['ratio'] = df.n_isos_det / df.avg_exons\n",
    "df = df.sort_values(by='ratio', ascending=True)\n",
    "df.loc[df.n_isos_det > 5]"
   ]
  },
  {
   "cell_type": "markdown",
   "id": "prompt-exhaust",
   "metadata": {},
   "source": [
    "For genes where we detect a lot more isoforms than those annotated, are there typically more NIC or NNC?"
   ]
  },
  {
   "cell_type": "code",
   "execution_count": 38,
   "id": "sorted-price",
   "metadata": {},
   "outputs": [],
   "source": [
    "df = pd.read_csv('human_talon_abundance_filtered.tsv', sep='\\t')\n",
    "min_tpm=1\n",
    "gene_subset='polya'\n",
    "nov=['Known', 'NIC', 'NNC']\n",
    "opref='figures/human'"
   ]
  },
  {
   "cell_type": "code",
   "execution_count": 39,
   "id": "decent-ethiopia",
   "metadata": {},
   "outputs": [],
   "source": [
    "df_back = df.copy(deep=True)"
   ]
  },
  {
   "cell_type": "code",
   "execution_count": 40,
   "id": "computational-relay",
   "metadata": {},
   "outputs": [
    {
     "name": "stdout",
     "output_type": "stream",
     "text": [
      "Calculating iso TPM values\n",
      "Subsetting for novelty categories ['Known', 'NIC', 'NNC']\n",
      "Subsetting for polya genes\n",
      "Enforcing minimum TPM\n",
      "Total # isos detected: 185293\n",
      "# isos >= 1 tpm: 167378\n",
      "Applying gene type and novelty subset\n",
      "Number of isos reported: 106687\n"
     ]
    },
    {
     "data": {
      "text/plain": [
       "1285"
      ]
     },
     "execution_count": 40,
     "metadata": {},
     "output_type": "execute_result"
    }
   ],
   "source": [
    "# detected isoforms\n",
    "det_df = get_isos_per_gene(df,\n",
    "                   min_tpm=min_tpm,\n",
    "                   gene_subset=gene_subset,\n",
    "                   groupby='all', \n",
    "                   nov=nov)\n",
    "det_df.rename({'all': 'n_isos_det'}, axis=1, inplace=True)\n",
    "\n",
    "# annotated isoforms\n",
    "gc_df = get_n_gencode_isos(subset='polya')\n",
    "gc_df = gc_df[['gid', 'n_isos_gencode']]\n",
    "\n",
    "df = det_df.merge(gc_df, how='left', left_index=True, right_on='gid')    \n",
    "\n",
    "# add gene name \n",
    "gene_df, _, _ = get_gtf_info(how='gene', subset='polya')\n",
    "gene_df = gene_df[['gid', 'gname']]\n",
    "df = df.merge(gene_df, how='left', on='gid')\n",
    "\n",
    "df['ratio'] = df['n_isos_det'] / df['n_isos_gencode']\n",
    "gids = df.loc[df['ratio']>1.5, 'gid'].tolist()\n",
    "len(df.loc[df['ratio']>1.5])"
   ]
  },
  {
   "cell_type": "code",
   "execution_count": 41,
   "id": "portable-gamma",
   "metadata": {},
   "outputs": [
    {
     "name": "stdout",
     "output_type": "stream",
     "text": [
      "Calculating iso TPM values\n",
      "Subsetting for novelty categories ['Known', 'NIC', 'NNC']\n",
      "Subsetting for polya genes\n",
      "Enforcing minimum TPM\n",
      "Total # isos detected: 185293\n",
      "# isos >= 1 tpm: 167378\n",
      "Applying gene type and novelty subset\n",
      "Number of isos reported: 106687\n"
     ]
    }
   ],
   "source": [
    "t_df = df_back.copy(deep=True)\n",
    "t_df = t_df[['annot_transcript_id', 'transcript_novelty', 'annot_gene_id', 'annot_gene_name']]\n",
    "df = get_det_table(df_back, \n",
    "                   how='iso', \n",
    "                   min_tpm=1, \n",
    "                   gene_subset='polya',\n",
    "                   groupby='all',\n",
    "                   nov=['Known', 'NIC', 'NNC'])\n",
    "df = df.transpose()"
   ]
  },
  {
   "cell_type": "code",
   "execution_count": 42,
   "id": "defined-culture",
   "metadata": {},
   "outputs": [
    {
     "data": {
      "text/html": [
       "<div>\n",
       "<style scoped>\n",
       "    .dataframe tbody tr th:only-of-type {\n",
       "        vertical-align: middle;\n",
       "    }\n",
       "\n",
       "    .dataframe tbody tr th {\n",
       "        vertical-align: top;\n",
       "    }\n",
       "\n",
       "    .dataframe thead th {\n",
       "        text-align: right;\n",
       "    }\n",
       "</style>\n",
       "<table border=\"1\" class=\"dataframe\">\n",
       "  <thead>\n",
       "    <tr style=\"text-align: right;\">\n",
       "      <th></th>\n",
       "      <th>annot_gene_id</th>\n",
       "      <th>annot_gene_name</th>\n",
       "      <th>transcript_novelty</th>\n",
       "      <th>n_isos</th>\n",
       "    </tr>\n",
       "  </thead>\n",
       "  <tbody>\n",
       "    <tr>\n",
       "      <th>0</th>\n",
       "      <td>ENSG00000000938.12</td>\n",
       "      <td>FGR</td>\n",
       "      <td>Known</td>\n",
       "      <td>6</td>\n",
       "    </tr>\n",
       "    <tr>\n",
       "      <th>1</th>\n",
       "      <td>ENSG00000000938.12</td>\n",
       "      <td>FGR</td>\n",
       "      <td>NIC</td>\n",
       "      <td>5</td>\n",
       "    </tr>\n",
       "    <tr>\n",
       "      <th>2</th>\n",
       "      <td>ENSG00000000938.12</td>\n",
       "      <td>FGR</td>\n",
       "      <td>NNC</td>\n",
       "      <td>4</td>\n",
       "    </tr>\n",
       "    <tr>\n",
       "      <th>3</th>\n",
       "      <td>ENSG00000001036.13</td>\n",
       "      <td>FUCA2</td>\n",
       "      <td>Known</td>\n",
       "      <td>2</td>\n",
       "    </tr>\n",
       "    <tr>\n",
       "      <th>4</th>\n",
       "      <td>ENSG00000001036.13</td>\n",
       "      <td>FUCA2</td>\n",
       "      <td>NIC</td>\n",
       "      <td>3</td>\n",
       "    </tr>\n",
       "  </tbody>\n",
       "</table>\n",
       "</div>"
      ],
      "text/plain": [
       "        annot_gene_id annot_gene_name transcript_novelty  n_isos\n",
       "0  ENSG00000000938.12             FGR              Known       6\n",
       "1  ENSG00000000938.12             FGR                NIC       5\n",
       "2  ENSG00000000938.12             FGR                NNC       4\n",
       "3  ENSG00000001036.13           FUCA2              Known       2\n",
       "4  ENSG00000001036.13           FUCA2                NIC       3"
      ]
     },
     "execution_count": 42,
     "metadata": {},
     "output_type": "execute_result"
    }
   ],
   "source": [
    "df = df.merge(t_df, how='left', left_index=True, right_on='annot_transcript_id')\n",
    "df = df.loc[df.annot_gene_id.isin(gids)]\n",
    "\n",
    "df.drop('all', axis=1, inplace=True)\n",
    "df = df.groupby(['annot_gene_id', 'annot_gene_name', 'transcript_novelty'], dropna=False).count().reset_index()\n",
    "df.rename({'annot_transcript_id': 'n_isos'}, axis=1, inplace=True)\n",
    "df.head()"
   ]
  },
  {
   "cell_type": "code",
   "execution_count": 43,
   "id": "cultural-worship",
   "metadata": {},
   "outputs": [
    {
     "data": {
      "text/plain": [
       "<Figure size 288x432 with 0 Axes>"
      ]
     },
     "metadata": {},
     "output_type": "display_data"
    },
    {
     "data": {
      "image/png": "[encoded data removed]",
      "text/plain": [
       "<Figure size 360x360 with 1 Axes>"
      ]
     },
     "metadata": {
      "needs_background": "light"
     },
     "output_type": "display_data"
    }
   ],
   "source": [
    "# plot the plot\n",
    "sns.set_context('paper', font_scale=1.6)\n",
    "plt.figure(figsize=(4,6))\n",
    "\n",
    "c_dict, order = get_talon_nov_colors(cats=nov)\n",
    "# ax = sns.boxplot(data=df, x='transcript_novelty', y='n_isos',\n",
    "#                  order=order, palette=c_dict,\n",
    "#                  saturation=1)\n",
    "\n",
    "ax = sns.catplot(data=df, x='transcript_novelty', y='n_isos',\n",
    "                 order=order, palette=c_dict, kind='bar', saturation=1)\n",
    "\n",
    "\n",
    "# ax.spines['right'].set_visible(False)\n",
    "# ax.spines['top'].set_visible(False)\n",
    "\n",
    "xlabel = 'Transcript novelty'\n",
    "ylabel = '# isoforms'\n",
    "\n",
    "_ = ax.set(xlabel=xlabel, ylabel=ylabel)\n",
    "\n",
    "fname = '{}_isos_per_many_iso_gene.png'.format(opref)\n",
    "plt.savefig(fname, dpi=300, bbox_inches='tight')"
   ]
  },
  {
   "cell_type": "markdown",
   "id": "steady-encoding",
   "metadata": {},
   "source": [
    "How does the max # isoforms detected per gene / sample compare to the number of isoforms detected per gene overall across the whole dataset?"
   ]
  },
  {
   "cell_type": "code",
   "execution_count": 2,
   "id": "solid-engineering",
   "metadata": {},
   "outputs": [
    {
     "name": "stdout",
     "output_type": "stream",
     "text": [
      "Calculating iso TPM values\n",
      "Subsetting for novelty categories ['Known', 'NIC', 'NNC']\n",
      "Subsetting for polya genes\n",
      "Enforcing minimum TPM\n",
      "Total # isos detected: 185293\n",
      "# isos >= 1 tpm: 167378\n",
      "Applying gene type and novelty subset\n",
      "Number of isos reported: 106687\n",
      "Found 49 total samples\n",
      "Calculating iso TPM values\n",
      "Subsetting for novelty categories ['Known', 'NIC', 'NNC']\n",
      "Subsetting for polya genes\n",
      "Enforcing minimum TPM\n",
      "Total # isos detected: 185293\n",
      "# isos >= 1 tpm: 167378\n",
      "Applying gene type and novelty subset\n",
      "Number of isos reported: 106687\n"
     ]
    },
    {
     "data": {
      "image/png": "[encoded data removed]",
      "text/plain": [
       "<Figure size 432x288 with 1 Axes>"
      ]
     },
     "metadata": {
      "needs_background": "light"
     },
     "output_type": "display_data"
    }
   ],
   "source": [
    "df = pd.read_csv('human_talon_abundance_filtered.tsv', sep='\\t')\n",
    "df = plot_max_vs_all_isos(df,\n",
    "                         min_tpm=1,\n",
    "                         gene_subset='polya',\n",
    "                         nov=['Known', 'NIC', 'NNC'],\n",
    "                         label_genes=['TPM1', 'DES', 'MAPK10', 'FN1', 'SFTPA1', 'ELN'],\n",
    "                         xlim=75,\n",
    "                         ylim=75,\n",
    "                         opref='figures/human')"
   ]
  },
  {
   "cell_type": "code",
   "execution_count": 3,
   "id": "czech-equation",
   "metadata": {},
   "outputs": [
    {
     "data": {
      "text/html": [
       "<div>\n",
       "<style scoped>\n",
       "    .dataframe tbody tr th:only-of-type {\n",
       "        vertical-align: middle;\n",
       "    }\n",
       "\n",
       "    .dataframe tbody tr th {\n",
       "        vertical-align: top;\n",
       "    }\n",
       "\n",
       "    .dataframe thead th {\n",
       "        text-align: right;\n",
       "    }\n",
       "</style>\n",
       "<table border=\"1\" class=\"dataframe\">\n",
       "  <thead>\n",
       "    <tr style=\"text-align: right;\">\n",
       "      <th></th>\n",
       "      <th>max_isos</th>\n",
       "      <th>total_isos</th>\n",
       "      <th>gid</th>\n",
       "      <th>gname</th>\n",
       "      <th>length</th>\n",
       "      <th>biotype</th>\n",
       "      <th>biotype_category</th>\n",
       "      <th>tf</th>\n",
       "    </tr>\n",
       "  </thead>\n",
       "  <tbody>\n",
       "    <tr>\n",
       "      <th>21978</th>\n",
       "      <td>134.0</td>\n",
       "      <td>139</td>\n",
       "      <td>ENSG00000049540.16</td>\n",
       "      <td>ELN</td>\n",
       "      <td>42118</td>\n",
       "      <td>protein_coding</td>\n",
       "      <td>protein_coding</td>\n",
       "      <td>False</td>\n",
       "    </tr>\n",
       "  </tbody>\n",
       "</table>\n",
       "</div>"
      ],
      "text/plain": [
       "       max_isos  total_isos                 gid gname  length         biotype  \\\n",
       "21978     134.0         139  ENSG00000049540.16   ELN   42118  protein_coding   \n",
       "\n",
       "      biotype_category     tf  \n",
       "21978   protein_coding  False  "
      ]
     },
     "execution_count": 3,
     "metadata": {},
     "output_type": "execute_result"
    }
   ],
   "source": [
    "df.loc[df.gname=='ELN']"
   ]
  },
  {
   "cell_type": "code",
   "execution_count": 4,
   "id": "pediatric-spirit",
   "metadata": {},
   "outputs": [],
   "source": [
    "df['ratio'] = df['max_isos'] / df['total_isos']"
   ]
  },
  {
   "cell_type": "code",
   "execution_count": 5,
   "id": "radical-qualification",
   "metadata": {},
   "outputs": [
    {
     "data": {
      "text/html": [
       "<div>\n",
       "<style scoped>\n",
       "    .dataframe tbody tr th:only-of-type {\n",
       "        vertical-align: middle;\n",
       "    }\n",
       "\n",
       "    .dataframe tbody tr th {\n",
       "        vertical-align: top;\n",
       "    }\n",
       "\n",
       "    .dataframe thead th {\n",
       "        text-align: right;\n",
       "    }\n",
       "</style>\n",
       "<table border=\"1\" class=\"dataframe\">\n",
       "  <thead>\n",
       "    <tr style=\"text-align: right;\">\n",
       "      <th></th>\n",
       "      <th>max_isos</th>\n",
       "      <th>total_isos</th>\n",
       "      <th>gid</th>\n",
       "      <th>gname</th>\n",
       "      <th>length</th>\n",
       "      <th>biotype</th>\n",
       "      <th>biotype_category</th>\n",
       "      <th>tf</th>\n",
       "      <th>ratio</th>\n",
       "    </tr>\n",
       "  </thead>\n",
       "  <tbody>\n",
       "    <tr>\n",
       "      <th>13592</th>\n",
       "      <td>24.0</td>\n",
       "      <td>52</td>\n",
       "      <td>ENSG00000109339.21</td>\n",
       "      <td>MAPK10</td>\n",
       "      <td>604618</td>\n",
       "      <td>protein_coding</td>\n",
       "      <td>protein_coding</td>\n",
       "      <td>False</td>\n",
       "      <td>0.461538</td>\n",
       "    </tr>\n",
       "    <tr>\n",
       "      <th>41480</th>\n",
       "      <td>45.0</td>\n",
       "      <td>72</td>\n",
       "      <td>ENSG00000140416.20</td>\n",
       "      <td>TPM1</td>\n",
       "      <td>29283</td>\n",
       "      <td>protein_coding</td>\n",
       "      <td>protein_coding</td>\n",
       "      <td>False</td>\n",
       "      <td>0.625000</td>\n",
       "    </tr>\n",
       "    <tr>\n",
       "      <th>24718</th>\n",
       "      <td>41.0</td>\n",
       "      <td>57</td>\n",
       "      <td>ENSG00000198363.17</td>\n",
       "      <td>ASPH</td>\n",
       "      <td>214084</td>\n",
       "      <td>protein_coding</td>\n",
       "      <td>protein_coding</td>\n",
       "      <td>False</td>\n",
       "      <td>0.719298</td>\n",
       "    </tr>\n",
       "    <tr>\n",
       "      <th>16259</th>\n",
       "      <td>43.0</td>\n",
       "      <td>59</td>\n",
       "      <td>ENSG00000153113.23</td>\n",
       "      <td>CAST</td>\n",
       "      <td>254328</td>\n",
       "      <td>protein_coding</td>\n",
       "      <td>protein_coding</td>\n",
       "      <td>False</td>\n",
       "      <td>0.728814</td>\n",
       "    </tr>\n",
       "    <tr>\n",
       "      <th>20688</th>\n",
       "      <td>39.0</td>\n",
       "      <td>51</td>\n",
       "      <td>ENSG00000164828.17</td>\n",
       "      <td>SUN1</td>\n",
       "      <td>79820</td>\n",
       "      <td>protein_coding</td>\n",
       "      <td>protein_coding</td>\n",
       "      <td>False</td>\n",
       "      <td>0.764706</td>\n",
       "    </tr>\n",
       "    <tr>\n",
       "      <th>19012</th>\n",
       "      <td>45.0</td>\n",
       "      <td>51</td>\n",
       "      <td>ENSG00000112759.17</td>\n",
       "      <td>SLC29A1</td>\n",
       "      <td>14646</td>\n",
       "      <td>protein_coding</td>\n",
       "      <td>protein_coding</td>\n",
       "      <td>False</td>\n",
       "      <td>0.882353</td>\n",
       "    </tr>\n",
       "    <tr>\n",
       "      <th>39335</th>\n",
       "      <td>50.0</td>\n",
       "      <td>55</td>\n",
       "      <td>ENSG00000133961.20</td>\n",
       "      <td>NUMB</td>\n",
       "      <td>183510</td>\n",
       "      <td>protein_coding</td>\n",
       "      <td>protein_coding</td>\n",
       "      <td>False</td>\n",
       "      <td>0.909091</td>\n",
       "    </tr>\n",
       "    <tr>\n",
       "      <th>45297</th>\n",
       "      <td>50.0</td>\n",
       "      <td>54</td>\n",
       "      <td>ENSG00000072778.19</td>\n",
       "      <td>ACADVL</td>\n",
       "      <td>8148</td>\n",
       "      <td>protein_coding</td>\n",
       "      <td>protein_coding</td>\n",
       "      <td>False</td>\n",
       "      <td>0.925926</td>\n",
       "    </tr>\n",
       "    <tr>\n",
       "      <th>23871</th>\n",
       "      <td>66.0</td>\n",
       "      <td>71</td>\n",
       "      <td>ENSG00000164733.20</td>\n",
       "      <td>CTSB</td>\n",
       "      <td>26924</td>\n",
       "      <td>protein_coding</td>\n",
       "      <td>protein_coding</td>\n",
       "      <td>False</td>\n",
       "      <td>0.929577</td>\n",
       "    </tr>\n",
       "    <tr>\n",
       "      <th>8755</th>\n",
       "      <td>55.0</td>\n",
       "      <td>58</td>\n",
       "      <td>ENSG00000115414.18</td>\n",
       "      <td>FN1</td>\n",
       "      <td>75732</td>\n",
       "      <td>protein_coding</td>\n",
       "      <td>protein_coding</td>\n",
       "      <td>False</td>\n",
       "      <td>0.948276</td>\n",
       "    </tr>\n",
       "    <tr>\n",
       "      <th>21978</th>\n",
       "      <td>134.0</td>\n",
       "      <td>139</td>\n",
       "      <td>ENSG00000049540.16</td>\n",
       "      <td>ELN</td>\n",
       "      <td>42118</td>\n",
       "      <td>protein_coding</td>\n",
       "      <td>protein_coding</td>\n",
       "      <td>False</td>\n",
       "      <td>0.964029</td>\n",
       "    </tr>\n",
       "    <tr>\n",
       "      <th>29532</th>\n",
       "      <td>64.0</td>\n",
       "      <td>64</td>\n",
       "      <td>ENSG00000122852.14</td>\n",
       "      <td>SFTPA1</td>\n",
       "      <td>4516</td>\n",
       "      <td>protein_coding</td>\n",
       "      <td>protein_coding</td>\n",
       "      <td>False</td>\n",
       "      <td>1.000000</td>\n",
       "    </tr>\n",
       "  </tbody>\n",
       "</table>\n",
       "</div>"
      ],
      "text/plain": [
       "       max_isos  total_isos                 gid    gname  length  \\\n",
       "13592      24.0          52  ENSG00000109339.21   MAPK10  604618   \n",
       "41480      45.0          72  ENSG00000140416.20     TPM1   29283   \n",
       "24718      41.0          57  ENSG00000198363.17     ASPH  214084   \n",
       "16259      43.0          59  ENSG00000153113.23     CAST  254328   \n",
       "20688      39.0          51  ENSG00000164828.17     SUN1   79820   \n",
       "19012      45.0          51  ENSG00000112759.17  SLC29A1   14646   \n",
       "39335      50.0          55  ENSG00000133961.20     NUMB  183510   \n",
       "45297      50.0          54  ENSG00000072778.19   ACADVL    8148   \n",
       "23871      66.0          71  ENSG00000164733.20     CTSB   26924   \n",
       "8755       55.0          58  ENSG00000115414.18      FN1   75732   \n",
       "21978     134.0         139  ENSG00000049540.16      ELN   42118   \n",
       "29532      64.0          64  ENSG00000122852.14   SFTPA1    4516   \n",
       "\n",
       "              biotype biotype_category     tf     ratio  \n",
       "13592  protein_coding   protein_coding  False  0.461538  \n",
       "41480  protein_coding   protein_coding  False  0.625000  \n",
       "24718  protein_coding   protein_coding  False  0.719298  \n",
       "16259  protein_coding   protein_coding  False  0.728814  \n",
       "20688  protein_coding   protein_coding  False  0.764706  \n",
       "19012  protein_coding   protein_coding  False  0.882353  \n",
       "39335  protein_coding   protein_coding  False  0.909091  \n",
       "45297  protein_coding   protein_coding  False  0.925926  \n",
       "23871  protein_coding   protein_coding  False  0.929577  \n",
       "8755   protein_coding   protein_coding  False  0.948276  \n",
       "21978  protein_coding   protein_coding  False  0.964029  \n",
       "29532  protein_coding   protein_coding  False  1.000000  "
      ]
     },
     "execution_count": 5,
     "metadata": {},
     "output_type": "execute_result"
    }
   ],
   "source": [
    "df.loc[df['total_isos'] > 50].sort_values(by='ratio', ascending=True)"
   ]
  },
  {
   "cell_type": "markdown",
   "id": "spanish-linux",
   "metadata": {},
   "source": [
    "What # of genes do we detect >15 isoforms overall that have >15 annotated isoforms in GENCODE?"
   ]
  },
  {
   "cell_type": "code",
   "execution_count": 7,
   "id": "offshore-prevention",
   "metadata": {},
   "outputs": [
    {
     "name": "stdout",
     "output_type": "stream",
     "text": [
      "Calculating iso TPM values\n",
      "Subsetting for novelty categories ['Known', 'NIC', 'NNC']\n",
      "Subsetting for polya genes\n",
      "Enforcing minimum TPM\n",
      "Total # isos detected: 185293\n",
      "# isos >= 1 tpm: 167378\n",
      "Applying gene type and novelty subset\n",
      "Number of isos reported: 106687\n"
     ]
    },
    {
     "data": {
      "text/html": [
       "<div>\n",
       "<style scoped>\n",
       "    .dataframe tbody tr th:only-of-type {\n",
       "        vertical-align: middle;\n",
       "    }\n",
       "\n",
       "    .dataframe tbody tr th {\n",
       "        vertical-align: top;\n",
       "    }\n",
       "\n",
       "    .dataframe thead th {\n",
       "        text-align: right;\n",
       "    }\n",
       "</style>\n",
       "<table border=\"1\" class=\"dataframe\">\n",
       "  <thead>\n",
       "    <tr style=\"text-align: right;\">\n",
       "      <th></th>\n",
       "      <th>all</th>\n",
       "    </tr>\n",
       "    <tr>\n",
       "      <th>annot_gene_id</th>\n",
       "      <th></th>\n",
       "    </tr>\n",
       "  </thead>\n",
       "  <tbody>\n",
       "    <tr>\n",
       "      <th>ENSG00000000003.14</th>\n",
       "      <td>7</td>\n",
       "    </tr>\n",
       "    <tr>\n",
       "      <th>ENSG00000000005.5</th>\n",
       "      <td>1</td>\n",
       "    </tr>\n",
       "    <tr>\n",
       "      <th>ENSG00000000419.12</th>\n",
       "      <td>8</td>\n",
       "    </tr>\n",
       "    <tr>\n",
       "      <th>ENSG00000000457.13</th>\n",
       "      <td>5</td>\n",
       "    </tr>\n",
       "    <tr>\n",
       "      <th>ENSG00000000460.16</th>\n",
       "      <td>7</td>\n",
       "    </tr>\n",
       "  </tbody>\n",
       "</table>\n",
       "</div>"
      ],
      "text/plain": [
       "                    all\n",
       "annot_gene_id          \n",
       "ENSG00000000003.14    7\n",
       "ENSG00000000005.5     1\n",
       "ENSG00000000419.12    8\n",
       "ENSG00000000457.13    5\n",
       "ENSG00000000460.16    7"
      ]
     },
     "execution_count": 7,
     "metadata": {},
     "output_type": "execute_result"
    }
   ],
   "source": [
    "df = pd.read_csv('human_talon_abundance_filtered.tsv', sep='\\t')\n",
    "df = get_isos_per_gene(df,\n",
    "                       min_tpm=1,\n",
    "                       gene_subset='polya',\n",
    "                       groupby='all', \n",
    "                       nov=['Known', 'NIC', 'NNC'])\n",
    "df.head()"
   ]
  },
  {
   "cell_type": "code",
   "execution_count": 8,
   "id": "alone-essence",
   "metadata": {},
   "outputs": [],
   "source": [
    "df = df.loc[df['all'] > 15]"
   ]
  },
  {
   "cell_type": "code",
   "execution_count": 9,
   "id": "greek-mountain",
   "metadata": {},
   "outputs": [
    {
     "name": "stdout",
     "output_type": "stream",
     "text": [
      "522 / 794 genes w/ >15 isoforms detected overall have >15 isoforms annotated in GENCODE\n"
     ]
    }
   ],
   "source": [
    "gene_df, _, _ = get_gtf_info(how='iso', subset='polya')\n",
    "gene_df = gene_df[['gid', 'tid']]\n",
    "gene_df = gene_df.groupby('gid').count().reset_index()\n",
    "gene_df.rename({'tid': 'n_isos_gencode'}, axis=1, inplace=True)\n",
    "gene_df.sort_values(by='n_isos_gencode', ascending=False, inplace=True)\n",
    "gene_df = gene_df.loc[gene_df.n_isos_gencode > 15]\n",
    "\n",
    "# get intersection of genes wih >15 annotated isoforms and \n",
    "# genes that we detect >15 isoforms in at least one sample\n",
    "n = len(set(gene_df.gid.tolist())&set(df.index.tolist()))\n",
    "total = len(df.index)\n",
    "\n",
    "print('{} / {} genes w/ >15 isoforms detected overall have >15 isoforms annotated in GENCODE'.format(n, total))"
   ]
  },
  {
   "cell_type": "markdown",
   "id": "sonic-accountability",
   "metadata": {},
   "source": [
    "Deeper dive into what's going on with _ELN_"
   ]
  },
  {
   "cell_type": "code",
   "execution_count": 10,
   "id": "balanced-denver",
   "metadata": {},
   "outputs": [
    {
     "data": {
      "text/html": [
       "<div>\n",
       "<style scoped>\n",
       "    .dataframe tbody tr th:only-of-type {\n",
       "        vertical-align: middle;\n",
       "    }\n",
       "\n",
       "    .dataframe tbody tr th {\n",
       "        vertical-align: top;\n",
       "    }\n",
       "\n",
       "    .dataframe thead th {\n",
       "        text-align: right;\n",
       "    }\n",
       "</style>\n",
       "<table border=\"1\" class=\"dataframe\">\n",
       "  <thead>\n",
       "    <tr style=\"text-align: right;\">\n",
       "      <th></th>\n",
       "      <th>0</th>\n",
       "    </tr>\n",
       "    <tr>\n",
       "      <th>annot_gene_id</th>\n",
       "      <th></th>\n",
       "    </tr>\n",
       "  </thead>\n",
       "  <tbody>\n",
       "  </tbody>\n",
       "</table>\n",
       "</div>"
      ],
      "text/plain": [
       "Empty DataFrame\n",
       "Columns: [0]\n",
       "Index: []"
      ]
     },
     "execution_count": 10,
     "metadata": {},
     "output_type": "execute_result"
    }
   ],
   "source": [
    "temp = df.max(axis=1).to_frame()\n",
    "temp.loc[temp[0] == 134]"
   ]
  },
  {
   "cell_type": "code",
   "execution_count": 11,
   "id": "authentic-hungary",
   "metadata": {},
   "outputs": [
    {
     "data": {
      "text/plain": [
       "'all'"
      ]
     },
     "execution_count": 11,
     "metadata": {},
     "output_type": "execute_result"
    }
   ],
   "source": [
    "df.loc['ENSG00000049540.16'].idxmax()"
   ]
  },
  {
   "cell_type": "markdown",
   "id": "employed-washington",
   "metadata": {},
   "source": [
    "How many different tissues express Elastin? How many isoforms are detected in these tissues?"
   ]
  },
  {
   "cell_type": "code",
   "execution_count": 14,
   "id": "touched-percentage",
   "metadata": {},
   "outputs": [
    {
     "data": {
      "text/plain": [
       "all    139\n",
       "Name: ENSG00000049540.16, dtype: int64"
      ]
     },
     "execution_count": 14,
     "metadata": {},
     "output_type": "execute_result"
    }
   ],
   "source": [
    "df.loc['ENSG00000049540.16']"
   ]
  },
  {
   "cell_type": "markdown",
   "id": "upper-ticket",
   "metadata": {},
   "source": [
    "What novelty type do each of these isoforms have across samples?"
   ]
  },
  {
   "cell_type": "code",
   "execution_count": 2,
   "id": "developing-machinery",
   "metadata": {},
   "outputs": [
    {
     "name": "stdout",
     "output_type": "stream",
     "text": [
      "Calculating iso TPM values\n",
      "Subsetting for novelty categories ['Known', 'NIC', 'NNC']\n",
      "Subsetting for polya genes\n",
      "Enforcing minimum TPM\n",
      "Total # isos detected: 185293\n",
      "# isos >= 1 tpm: 167378\n",
      "Applying gene type and novelty subset\n",
      "Number of isos reported: 106687\n",
      "Found 49 total samples\n"
     ]
    },
    {
     "data": {
      "text/plain": [
       "<Figure size 288x432 with 0 Axes>"
      ]
     },
     "metadata": {},
     "output_type": "display_data"
    },
    {
     "data": {
      "image/png": "[encoded data removed]",
      "text/plain": [
       "<Figure size 510.764x360 with 1 Axes>"
      ]
     },
     "metadata": {
      "needs_background": "light"
     },
     "output_type": "display_data"
    }
   ],
   "source": [
    "df = pd.read_csv('human_talon_abundance_filtered.tsv', sep='\\t')\n",
    "plot_transcript_novelty_per(df, \n",
    "                            gene='ELN', \n",
    "                            min_tpm=1, \n",
    "                            gene_subset='polya', \n",
    "                            groupby='sample', \n",
    "                            nov=['Known', 'NIC', 'NNC'], \n",
    "                            opref='figures/human')"
   ]
  },
  {
   "cell_type": "code",
   "execution_count": 46,
   "id": "lyric-taste",
   "metadata": {},
   "outputs": [
    {
     "name": "stdout",
     "output_type": "stream",
     "text": [
      "Calculating iso TPM values\n",
      "Subsetting for novelty categories ['Known', 'NIC', 'NNC']\n",
      "Subsetting for polya genes\n",
      "Enforcing minimum TPM\n",
      "Total # isos detected: 185293\n",
      "# isos >= 1 tpm: 167378\n",
      "Applying gene type and novelty subset\n",
      "Number of isos reported: 106687\n",
      "Found 49 total samples\n"
     ]
    },
    {
     "data": {
      "text/plain": [
       "<Figure size 288x432 with 0 Axes>"
      ]
     },
     "metadata": {},
     "output_type": "display_data"
    },
    {
     "data": {
      "image/png": "[encoded data removed]",
      "text/plain": [
       "<Figure size 510.764x360 with 1 Axes>"
      ]
     },
     "metadata": {
      "needs_background": "light"
     },
     "output_type": "display_data"
    }
   ],
   "source": [
    "df = pd.read_csv('human_talon_abundance_filtered.tsv', sep='\\t')\n",
    "plot_transcript_novelty_per(df, \n",
    "                            gene='DES', \n",
    "                            min_tpm=1, \n",
    "                            gene_subset='polya', \n",
    "                            groupby='sample', \n",
    "                            nov=['Known', 'NIC', 'NNC'], \n",
    "                            opref='figures/human')"
   ]
  },
  {
   "cell_type": "code",
   "execution_count": 17,
   "id": "peripheral-check",
   "metadata": {},
   "outputs": [
    {
     "name": "stdout",
     "output_type": "stream",
     "text": [
      "Calculating iso TPM values\n",
      "Subsetting for novelty categories ['Known', 'NIC', 'NNC']\n",
      "Subsetting for polya genes\n",
      "Enforcing minimum TPM\n",
      "Total # isos detected: 185293\n",
      "# isos >= 1 tpm: 167378\n",
      "Applying gene type and novelty subset\n",
      "Number of isos reported: 106687\n",
      "Found 49 total samples\n"
     ]
    },
    {
     "data": {
      "text/plain": [
       "<Figure size 288x432 with 0 Axes>"
      ]
     },
     "metadata": {},
     "output_type": "display_data"
    },
    {
     "data": {
      "image/png": "[encoded data removed]",
      "text/plain": [
       "<Figure size 510.764x360 with 1 Axes>"
      ]
     },
     "metadata": {
      "needs_background": "light"
     },
     "output_type": "display_data"
    }
   ],
   "source": [
    "df = pd.read_csv('human_talon_abundance_filtered.tsv', sep='\\t')\n",
    "plot_transcript_novelty_per(df, \n",
    "                            gene='MYH7', \n",
    "                            min_tpm=1, \n",
    "                            gene_subset='polya', \n",
    "                            groupby='sample', \n",
    "                            nov=['Known', 'NIC', 'NNC'], \n",
    "                            opref='figures/human')"
   ]
  },
  {
   "cell_type": "markdown",
   "id": "subject-possibility",
   "metadata": {},
   "source": [
    "What novelty type do each of these isoforms have in just h9 chondro?"
   ]
  },
  {
   "cell_type": "code",
   "execution_count": 18,
   "id": "critical-copyright",
   "metadata": {},
   "outputs": [
    {
     "name": "stdout",
     "output_type": "stream",
     "text": [
      "Calculating iso TPM values\n",
      "Subsetting for novelty categories ['Known', 'NIC', 'NNC']\n",
      "Subsetting for polya genes\n",
      "Enforcing minimum TPM\n",
      "Total # isos detected: 185293\n",
      "# isos >= 1 tpm: 167378\n",
      "Applying gene type and novelty subset\n",
      "Number of isos reported: 106687\n",
      "Found 49 total samples\n"
     ]
    },
    {
     "data": {
      "text/plain": [
       "<Figure size 288x432 with 0 Axes>"
      ]
     },
     "metadata": {},
     "output_type": "display_data"
    },
    {
     "data": {
      "image/png": "[encoded data removed]",
      "text/plain": [
       "<Figure size 360x360 with 1 Axes>"
      ]
     },
     "metadata": {
      "needs_background": "light"
     },
     "output_type": "display_data"
    }
   ],
   "source": [
    "df = pd.read_csv('human_talon_abundance_filtered.tsv', sep='\\t')\n",
    "plot_transcript_novelty_per_1(df, \n",
    "                            dataset='h9_chondro',\n",
    "                            gene='ELN',\n",
    "                            min_tpm=1,\n",
    "                            gene_subset='polya',\n",
    "                            groupby='sample',\n",
    "                            nov=['Known', 'NIC', 'NNC'], \n",
    "                            opref='figures/human')"
   ]
  },
  {
   "cell_type": "markdown",
   "id": "legal-satin",
   "metadata": {},
   "source": [
    "Which samples have the highest average?"
   ]
  },
  {
   "cell_type": "code",
   "execution_count": 2,
   "id": "spread-lincoln",
   "metadata": {},
   "outputs": [
    {
     "name": "stdout",
     "output_type": "stream",
     "text": [
      "Calculating iso TPM values\n",
      "Subsetting for novelty categories ['Known', 'NIC', 'NNC']\n",
      "Subsetting for polya genes\n",
      "Enforcing minimum TPM\n",
      "Total # isos detected: 185293\n",
      "# isos >= 1 tpm: 167378\n",
      "Applying gene type and novelty subset\n",
      "Number of isos reported: 106687\n",
      "Found 49 total samples\n"
     ]
    },
    {
     "data": {
      "image/png": "[encoded data removed]",
      "text/plain": [
       "<Figure size 432x288 with 1 Axes>"
      ]
     },
     "metadata": {
      "needs_background": "light"
     },
     "output_type": "display_data"
    }
   ],
   "source": [
    "df = pd.read_csv('human_talon_abundance_filtered.tsv', sep='\\t')\n",
    "plot_avg_isos_per_gene(df,\n",
    "                       min_tpm=1,\n",
    "                       gene_subset='polya',\n",
    "                       sample='all', \n",
    "                       groupby='sample',\n",
    "                       nov=['Known', 'NIC', 'NNC'],\n",
    "                       opref='figures/human')"
   ]
  },
  {
   "cell_type": "code",
   "execution_count": 3,
   "id": "elegant-chair",
   "metadata": {},
   "outputs": [
    {
     "name": "stdout",
     "output_type": "stream",
     "text": [
      "Calculating iso TPM values\n",
      "Subsetting for tissue datasets\n",
      "Subsetting for novelty categories ['Known', 'NIC', 'NNC']\n",
      "Subsetting for polya genes\n",
      "Enforcing minimum TPM\n",
      "Total # isos detected: 185293\n",
      "# isos >= 1 tpm: 139695\n",
      "Applying gene type and novelty subset\n",
      "Number of isos reported: 85065\n",
      "Found 10 total samples\n"
     ]
    },
    {
     "data": {
      "image/png": "[encoded data removed]",
      "text/plain": [
       "<Figure size 432x288 with 1 Axes>"
      ]
     },
     "metadata": {
      "needs_background": "light"
     },
     "output_type": "display_data"
    }
   ],
   "source": [
    "df = pd.read_csv('human_talon_abundance_filtered.tsv', sep='\\t')\n",
    "plot_avg_isos_per_gene(df,\n",
    "                       min_tpm=1,\n",
    "                       gene_subset='polya',\n",
    "                       sample='tissue', \n",
    "                       groupby='sample',\n",
    "                       nov=['Known', 'NIC', 'NNC'],\n",
    "                       opref='figures/human')"
   ]
  },
  {
   "cell_type": "markdown",
   "id": "annual-vacation",
   "metadata": {},
   "source": [
    "What's the distribution of number of isoforms detected per gene per sample?"
   ]
  },
  {
   "cell_type": "code",
   "execution_count": 4,
   "id": "baking-andorra",
   "metadata": {},
   "outputs": [
    {
     "name": "stdout",
     "output_type": "stream",
     "text": [
      "Calculating iso TPM values\n",
      "Subsetting for novelty categories ['Known', 'NIC', 'NNC']\n",
      "Subsetting for polya genes\n",
      "Enforcing minimum TPM\n",
      "Total # isos detected: 185293\n",
      "# isos >= 1 tpm: 167378\n",
      "Applying gene type and novelty subset\n",
      "Number of isos reported: 106687\n",
      "Found 49 total samples\n"
     ]
    },
    {
     "data": {
      "image/png": "[encoded data removed]",
      "text/plain": [
       "<Figure size 360x360 with 1 Axes>"
      ]
     },
     "metadata": {
      "needs_background": "light"
     },
     "output_type": "display_data"
    }
   ],
   "source": [
    "df = pd.read_csv('human_talon_abundance_filtered.tsv', sep='\\t')\n",
    "df, ax = plot_isos_per_gene_hist(df,\n",
    "                       min_tpm=1,\n",
    "                       gene_subset='polya',\n",
    "                       groupby='sample', \n",
    "                       nov=['Known', 'NIC', 'NNC'],\n",
    "                       rm_1=True)"
   ]
  },
  {
   "cell_type": "markdown",
   "id": "martial-director",
   "metadata": {},
   "source": [
    "How many genes have >15, >10 isoforms expressed in a sample?"
   ]
  },
  {
   "cell_type": "code",
   "execution_count": 5,
   "id": "billion-change",
   "metadata": {},
   "outputs": [
    {
     "name": "stdout",
     "output_type": "stream",
     "text": [
      "Calculating iso TPM values\n",
      "Subsetting for novelty categories ['Known', 'NIC', 'NNC']\n",
      "Subsetting for polya genes\n",
      "Enforcing minimum TPM\n",
      "Total # isos detected: 185293\n",
      "# isos >= 1 tpm: 167378\n",
      "Applying gene type and novelty subset\n",
      "Number of isos reported: 106687\n",
      "Found 49 total samples\n"
     ]
    }
   ],
   "source": [
    "df = pd.read_csv('human_talon_abundance_filtered.tsv', sep='\\t')\n",
    "df = get_isos_per_gene(df,\n",
    "                       min_tpm=1,\n",
    "                       gene_subset='polya',\n",
    "                       groupby='sample',\n",
    "                       nov=['Known', 'NIC', 'NNC'])"
   ]
  },
  {
   "cell_type": "code",
   "execution_count": 7,
   "id": "powerful-anaheim",
   "metadata": {},
   "outputs": [
    {
     "name": "stdout",
     "output_type": "stream",
     "text": [
      "1367 genes with >10 complete isoforms / gene in at least one sample\n"
     ]
    }
   ],
   "source": [
    "df = df.loc[(df > 10).any(axis=1)]\n",
    "n = len(df.index)\n",
    "print('{} genes with >10 complete isoforms / gene in at least one sample'.format(n))"
   ]
  },
  {
   "cell_type": "code",
   "execution_count": 8,
   "id": "statistical-industry",
   "metadata": {},
   "outputs": [
    {
     "name": "stdout",
     "output_type": "stream",
     "text": [
      "1367\n"
     ]
    },
    {
     "data": {
      "text/html": [
       "<div>\n",
       "<style scoped>\n",
       "    .dataframe tbody tr th:only-of-type {\n",
       "        vertical-align: middle;\n",
       "    }\n",
       "\n",
       "    .dataframe tbody tr th {\n",
       "        vertical-align: top;\n",
       "    }\n",
       "\n",
       "    .dataframe thead th {\n",
       "        text-align: right;\n",
       "    }\n",
       "</style>\n",
       "<table border=\"1\" class=\"dataframe\">\n",
       "  <thead>\n",
       "    <tr style=\"text-align: right;\">\n",
       "      <th></th>\n",
       "      <th>a673</th>\n",
       "      <th>adipose</th>\n",
       "      <th>adrenal gland</th>\n",
       "      <th>caco2</th>\n",
       "      <th>calu3</th>\n",
       "      <th>colon</th>\n",
       "      <th>gm12878</th>\n",
       "      <th>h1</th>\n",
       "      <th>h1_de</th>\n",
       "      <th>h9</th>\n",
       "      <th>...</th>\n",
       "      <th>ovary</th>\n",
       "      <th>panc1</th>\n",
       "      <th>pc3</th>\n",
       "      <th>pc9</th>\n",
       "      <th>pgp1</th>\n",
       "      <th>pgp1_astro</th>\n",
       "      <th>pgp1_endo</th>\n",
       "      <th>pgp1_excite_neuron</th>\n",
       "      <th>vessels</th>\n",
       "      <th>wtc11</th>\n",
       "    </tr>\n",
       "    <tr>\n",
       "      <th>annot_gene_id</th>\n",
       "      <th></th>\n",
       "      <th></th>\n",
       "      <th></th>\n",
       "      <th></th>\n",
       "      <th></th>\n",
       "      <th></th>\n",
       "      <th></th>\n",
       "      <th></th>\n",
       "      <th></th>\n",
       "      <th></th>\n",
       "      <th></th>\n",
       "      <th></th>\n",
       "      <th></th>\n",
       "      <th></th>\n",
       "      <th></th>\n",
       "      <th></th>\n",
       "      <th></th>\n",
       "      <th></th>\n",
       "      <th></th>\n",
       "      <th></th>\n",
       "      <th></th>\n",
       "    </tr>\n",
       "  </thead>\n",
       "  <tbody>\n",
       "    <tr>\n",
       "      <th>ENSG00000000938.12</th>\n",
       "      <td>NaN</td>\n",
       "      <td>5.0</td>\n",
       "      <td>1.0</td>\n",
       "      <td>NaN</td>\n",
       "      <td>NaN</td>\n",
       "      <td>2.0</td>\n",
       "      <td>6.0</td>\n",
       "      <td>1.0</td>\n",
       "      <td>NaN</td>\n",
       "      <td>NaN</td>\n",
       "      <td>...</td>\n",
       "      <td>1.0</td>\n",
       "      <td>NaN</td>\n",
       "      <td>NaN</td>\n",
       "      <td>NaN</td>\n",
       "      <td>1.0</td>\n",
       "      <td>1.0</td>\n",
       "      <td>NaN</td>\n",
       "      <td>NaN</td>\n",
       "      <td>5.0</td>\n",
       "      <td>NaN</td>\n",
       "    </tr>\n",
       "    <tr>\n",
       "      <th>ENSG00000002586.19</th>\n",
       "      <td>8.0</td>\n",
       "      <td>6.0</td>\n",
       "      <td>9.0</td>\n",
       "      <td>6.0</td>\n",
       "      <td>5.0</td>\n",
       "      <td>9.0</td>\n",
       "      <td>9.0</td>\n",
       "      <td>7.0</td>\n",
       "      <td>8.0</td>\n",
       "      <td>3.0</td>\n",
       "      <td>...</td>\n",
       "      <td>10.0</td>\n",
       "      <td>2.0</td>\n",
       "      <td>2.0</td>\n",
       "      <td>5.0</td>\n",
       "      <td>4.0</td>\n",
       "      <td>6.0</td>\n",
       "      <td>8.0</td>\n",
       "      <td>4.0</td>\n",
       "      <td>10.0</td>\n",
       "      <td>4.0</td>\n",
       "    </tr>\n",
       "    <tr>\n",
       "      <th>ENSG00000002822.15</th>\n",
       "      <td>9.0</td>\n",
       "      <td>13.0</td>\n",
       "      <td>8.0</td>\n",
       "      <td>12.0</td>\n",
       "      <td>13.0</td>\n",
       "      <td>12.0</td>\n",
       "      <td>17.0</td>\n",
       "      <td>13.0</td>\n",
       "      <td>13.0</td>\n",
       "      <td>17.0</td>\n",
       "      <td>...</td>\n",
       "      <td>14.0</td>\n",
       "      <td>10.0</td>\n",
       "      <td>8.0</td>\n",
       "      <td>11.0</td>\n",
       "      <td>11.0</td>\n",
       "      <td>12.0</td>\n",
       "      <td>10.0</td>\n",
       "      <td>11.0</td>\n",
       "      <td>17.0</td>\n",
       "      <td>11.0</td>\n",
       "    </tr>\n",
       "    <tr>\n",
       "      <th>ENSG00000003147.18</th>\n",
       "      <td>NaN</td>\n",
       "      <td>4.0</td>\n",
       "      <td>3.0</td>\n",
       "      <td>9.0</td>\n",
       "      <td>11.0</td>\n",
       "      <td>11.0</td>\n",
       "      <td>2.0</td>\n",
       "      <td>9.0</td>\n",
       "      <td>10.0</td>\n",
       "      <td>8.0</td>\n",
       "      <td>...</td>\n",
       "      <td>3.0</td>\n",
       "      <td>NaN</td>\n",
       "      <td>3.0</td>\n",
       "      <td>11.0</td>\n",
       "      <td>7.0</td>\n",
       "      <td>5.0</td>\n",
       "      <td>8.0</td>\n",
       "      <td>5.0</td>\n",
       "      <td>5.0</td>\n",
       "      <td>8.0</td>\n",
       "    </tr>\n",
       "    <tr>\n",
       "      <th>ENSG00000003402.19</th>\n",
       "      <td>5.0</td>\n",
       "      <td>8.0</td>\n",
       "      <td>8.0</td>\n",
       "      <td>2.0</td>\n",
       "      <td>8.0</td>\n",
       "      <td>8.0</td>\n",
       "      <td>14.0</td>\n",
       "      <td>NaN</td>\n",
       "      <td>7.0</td>\n",
       "      <td>2.0</td>\n",
       "      <td>...</td>\n",
       "      <td>5.0</td>\n",
       "      <td>2.0</td>\n",
       "      <td>2.0</td>\n",
       "      <td>3.0</td>\n",
       "      <td>4.0</td>\n",
       "      <td>7.0</td>\n",
       "      <td>9.0</td>\n",
       "      <td>5.0</td>\n",
       "      <td>8.0</td>\n",
       "      <td>2.0</td>\n",
       "    </tr>\n",
       "  </tbody>\n",
       "</table>\n",
       "<p>5 rows × 49 columns</p>\n",
       "</div>"
      ],
      "text/plain": [
       "                    a673  adipose  adrenal gland  caco2  calu3  colon  \\\n",
       "annot_gene_id                                                           \n",
       "ENSG00000000938.12   NaN      5.0            1.0    NaN    NaN    2.0   \n",
       "ENSG00000002586.19   8.0      6.0            9.0    6.0    5.0    9.0   \n",
       "ENSG00000002822.15   9.0     13.0            8.0   12.0   13.0   12.0   \n",
       "ENSG00000003147.18   NaN      4.0            3.0    9.0   11.0   11.0   \n",
       "ENSG00000003402.19   5.0      8.0            8.0    2.0    8.0    8.0   \n",
       "\n",
       "                    gm12878    h1  h1_de    h9  ...  ovary  panc1  pc3   pc9  \\\n",
       "annot_gene_id                                   ...                            \n",
       "ENSG00000000938.12      6.0   1.0    NaN   NaN  ...    1.0    NaN  NaN   NaN   \n",
       "ENSG00000002586.19      9.0   7.0    8.0   3.0  ...   10.0    2.0  2.0   5.0   \n",
       "ENSG00000002822.15     17.0  13.0   13.0  17.0  ...   14.0   10.0  8.0  11.0   \n",
       "ENSG00000003147.18      2.0   9.0   10.0   8.0  ...    3.0    NaN  3.0  11.0   \n",
       "ENSG00000003402.19     14.0   NaN    7.0   2.0  ...    5.0    2.0  2.0   3.0   \n",
       "\n",
       "                    pgp1  pgp1_astro  pgp1_endo  pgp1_excite_neuron  vessels  \\\n",
       "annot_gene_id                                                                  \n",
       "ENSG00000000938.12   1.0         1.0        NaN                 NaN      5.0   \n",
       "ENSG00000002586.19   4.0         6.0        8.0                 4.0     10.0   \n",
       "ENSG00000002822.15  11.0        12.0       10.0                11.0     17.0   \n",
       "ENSG00000003147.18   7.0         5.0        8.0                 5.0      5.0   \n",
       "ENSG00000003402.19   4.0         7.0        9.0                 5.0      8.0   \n",
       "\n",
       "                    wtc11  \n",
       "annot_gene_id              \n",
       "ENSG00000000938.12    NaN  \n",
       "ENSG00000002586.19    4.0  \n",
       "ENSG00000002822.15   11.0  \n",
       "ENSG00000003147.18    8.0  \n",
       "ENSG00000003402.19    2.0  \n",
       "\n",
       "[5 rows x 49 columns]"
      ]
     },
     "execution_count": 8,
     "metadata": {},
     "output_type": "execute_result"
    }
   ],
   "source": [
    "print(len(df.index))\n",
    "df.head()"
   ]
  },
  {
   "cell_type": "code",
   "execution_count": 9,
   "id": "proved-chosen",
   "metadata": {},
   "outputs": [],
   "source": [
    "# enrichr on these genes\n",
    "dbs = ['GO_Biological_Process_2021',\n",
    "       'GO_Cellular_Component_2021',\n",
    "       'GO_Molecular_Function_2021',\n",
    "       'KEGG_2021_Human']\n",
    "bm = gp.parser.Biomart()\n",
    "datasets = bm.get_datasets(mart='ENSEMBL_MART_ENSEMBL')\n",
    "datasets.loc[datasets.Description.str.contains('Human')]\n",
    "\n",
    "df['gid'] = df.index\n",
    "gids = df.gid.str.rsplit('.', n=1, expand=True)[0].to_frame()\n",
    "df.drop('gid', axis=1, inplace=True)\n",
    "gids = gids.squeeze().str.strip().tolist()\n",
    "gids = bm.query(dataset='hsapiens_gene_ensembl',\n",
    "           attributes=['ensembl_gene_id', 'external_gene_name'],\n",
    "           filters={'ensembl_gene_id': gids})\n",
    "gids = gids.loc[~gids.external_gene_name.isna()]\n",
    "gnames = gids.external_gene_name.squeeze().str.strip().tolist()\n",
    "go = gp.enrichr(gene_list=gnames,\n",
    "                gene_sets=dbs,\n",
    "                organism='Human',\n",
    "                description='highly_spliced_isos',\n",
    "                outdir='highly_spliced_isos_GO',\n",
    "                cutoff=0.5)"
   ]
  },
  {
   "cell_type": "code",
   "execution_count": 10,
   "id": "necessary-playlist",
   "metadata": {},
   "outputs": [
    {
     "name": "stdout",
     "output_type": "stream",
     "text": [
      "417 genes with >15 complete isoforms / gene in at least one sample\n"
     ]
    }
   ],
   "source": [
    "df = df.loc[(df > 15).any(axis=1)]\n",
    "n = len(df.index)\n",
    "print('{} genes with >15 complete isoforms / gene in at least one sample'.format(n))"
   ]
  },
  {
   "cell_type": "code",
   "execution_count": 11,
   "id": "smart-climb",
   "metadata": {},
   "outputs": [],
   "source": [
    "# enrichr on these genes\n",
    "dbs = ['GO_Biological_Process_2021',\n",
    "       'GO_Cellular_Component_2021',\n",
    "       'GO_Molecular_Function_2021',\n",
    "       'KEGG_2021_Human']\n",
    "bm = gp.parser.Biomart()\n",
    "datasets = bm.get_datasets(mart='ENSEMBL_MART_ENSEMBL')\n",
    "datasets.loc[datasets.Description.str.contains('Human')]\n",
    "\n",
    "df['gid'] = df.index\n",
    "gids = df.gid.str.rsplit('.', n=1, expand=True)[0].to_frame()\n",
    "df.drop('gid', axis=1, inplace=True)\n",
    "gids = gids.squeeze().str.strip().tolist()\n",
    "gids = bm.query(dataset='hsapiens_gene_ensembl',\n",
    "           attributes=['ensembl_gene_id', 'external_gene_name'],\n",
    "           filters={'ensembl_gene_id': gids})\n",
    "gids = gids.loc[~gids.external_gene_name.isna()]\n",
    "gnames = gids.external_gene_name.squeeze().str.strip().tolist()\n",
    "go = gp.enrichr(gene_list=gnames,\n",
    "                gene_sets=dbs,\n",
    "                organism='Human',\n",
    "                description='highly_spliced_isos_15',\n",
    "                outdir='highly_spliced_isos_15_GO',\n",
    "                cutoff=0.5)"
   ]
  },
  {
   "cell_type": "markdown",
   "id": "second-uniform",
   "metadata": {},
   "source": [
    "How many of these genes have >15 annotated isoforms / gene? "
   ]
  },
  {
   "cell_type": "code",
   "execution_count": 54,
   "id": "novel-obligation",
   "metadata": {},
   "outputs": [
    {
     "name": "stdout",
     "output_type": "stream",
     "text": [
      "192 / 306 genes w/ >15 isoforms detected in one sample have >15 isoforms annotated in GENCODE\n"
     ]
    }
   ],
   "source": [
    "gene_df, _, _ = get_gtf_info(how='iso', subset='polya')\n",
    "gene_df = gene_df[['gid', 'tid']]\n",
    "gene_df = gene_df.groupby('gid').count().reset_index()\n",
    "gene_df.rename({'tid': 'n_isos_gencode'}, axis=1, inplace=True)\n",
    "gene_df.sort_values(by='n_isos_gencode', ascending=False, inplace=True)\n",
    "gene_df = gene_df.loc[gene_df.n_isos_gencode > 15]\n",
    "\n",
    "# get intersection of genes wih >15 annotated isoforms and \n",
    "# genes that we detect >15 isoforms in at least one sample\n",
    "n = len(set(gene_df.gid.tolist())&set(df.index.tolist()))\n",
    "total = len(df.index)\n",
    "\n",
    "print('{} / {} genes w/ >15 isoforms detected in one sample have >15 isoforms annotated in GENCODE'.format(n, total))"
   ]
  },
  {
   "cell_type": "markdown",
   "id": "distinguished-kentucky",
   "metadata": {},
   "source": [
    "What are the identities of highly-spliced genes?"
   ]
  },
  {
   "cell_type": "code",
   "execution_count": 12,
   "id": "controversial-queen",
   "metadata": {},
   "outputs": [
    {
     "name": "stdout",
     "output_type": "stream",
     "text": [
      "Calculating iso TPM values\n",
      "Subsetting for novelty categories ['Known', 'NIC', 'NNC']\n",
      "Subsetting for polya genes\n",
      "Enforcing minimum TPM\n",
      "Total # isos detected: 185293\n",
      "# isos >= 1 tpm: 167378\n",
      "Applying gene type and novelty subset\n",
      "Number of isos reported: 106687\n",
      "Found 49 total samples\n"
     ]
    }
   ],
   "source": [
    "df = pd.read_csv('human_talon_abundance_filtered.tsv', sep='\\t')\n",
    "df = get_isos_per_gene(df,\n",
    "                       min_tpm=1,\n",
    "                       gene_subset='polya',\n",
    "                       groupby='sample',\n",
    "                       nov=['Known', 'NIC', 'NNC'])"
   ]
  },
  {
   "cell_type": "code",
   "execution_count": 13,
   "id": "historical-heaven",
   "metadata": {},
   "outputs": [],
   "source": [
    "df['max_isos_sample'] = df.max(axis=1)\n",
    "df['max_sample'] = df.idxmax(axis=1)\n",
    "df = df[['max_isos_sample', 'max_sample']]\n",
    "df = df.sort_values('max_isos_sample', ascending=False)"
   ]
  },
  {
   "cell_type": "code",
   "execution_count": 14,
   "id": "prepared-scroll",
   "metadata": {},
   "outputs": [],
   "source": [
    "g_df = pd.read_csv('human_talon_abundance_filtered.tsv', sep='\\t')\n",
    "g_df = g_df[['annot_gene_name', 'annot_gene_id']].drop_duplicates()\n",
    "df = df.merge(g_df, how='left', left_index=True, right_on='annot_gene_id')"
   ]
  },
  {
   "cell_type": "code",
   "execution_count": 15,
   "id": "enormous-mountain",
   "metadata": {},
   "outputs": [
    {
     "name": "stdout",
     "output_type": "stream",
     "text": [
      "Top 10 genes with isoforms / gene / sample\n"
     ]
    },
    {
     "data": {
      "text/html": [
       "<div>\n",
       "<style scoped>\n",
       "    .dataframe tbody tr th:only-of-type {\n",
       "        vertical-align: middle;\n",
       "    }\n",
       "\n",
       "    .dataframe tbody tr th {\n",
       "        vertical-align: top;\n",
       "    }\n",
       "\n",
       "    .dataframe thead th {\n",
       "        text-align: right;\n",
       "    }\n",
       "</style>\n",
       "<table border=\"1\" class=\"dataframe\">\n",
       "  <thead>\n",
       "    <tr style=\"text-align: right;\">\n",
       "      <th></th>\n",
       "      <th>max_isos_sample</th>\n",
       "      <th>max_sample</th>\n",
       "      <th>annot_gene_name</th>\n",
       "      <th>annot_gene_id</th>\n",
       "    </tr>\n",
       "  </thead>\n",
       "  <tbody>\n",
       "    <tr>\n",
       "      <th>34422</th>\n",
       "      <td>134.0</td>\n",
       "      <td>h9_chondro</td>\n",
       "      <td>ELN</td>\n",
       "      <td>ENSG00000049540.16</td>\n",
       "    </tr>\n",
       "    <tr>\n",
       "      <th>37290</th>\n",
       "      <td>66.0</td>\n",
       "      <td>hl60_m1_72hr</td>\n",
       "      <td>CTSB</td>\n",
       "      <td>ENSG00000164733.20</td>\n",
       "    </tr>\n",
       "    <tr>\n",
       "      <th>45376</th>\n",
       "      <td>64.0</td>\n",
       "      <td>lung</td>\n",
       "      <td>SFTPA1</td>\n",
       "      <td>ENSG00000122852.14</td>\n",
       "    </tr>\n",
       "    <tr>\n",
       "      <th>13762</th>\n",
       "      <td>55.0</td>\n",
       "      <td>h9_chondro</td>\n",
       "      <td>FN1</td>\n",
       "      <td>ENSG00000115414.18</td>\n",
       "    </tr>\n",
       "    <tr>\n",
       "      <th>61324</th>\n",
       "      <td>50.0</td>\n",
       "      <td>hl60_m1_72hr</td>\n",
       "      <td>NUMB</td>\n",
       "      <td>ENSG00000133961.20</td>\n",
       "    </tr>\n",
       "    <tr>\n",
       "      <th>71325</th>\n",
       "      <td>50.0</td>\n",
       "      <td>heart</td>\n",
       "      <td>ACADVL</td>\n",
       "      <td>ENSG00000072778.19</td>\n",
       "    </tr>\n",
       "    <tr>\n",
       "      <th>64205</th>\n",
       "      <td>45.0</td>\n",
       "      <td>heart</td>\n",
       "      <td>TPM1</td>\n",
       "      <td>ENSG00000140416.20</td>\n",
       "    </tr>\n",
       "    <tr>\n",
       "      <th>30491</th>\n",
       "      <td>45.0</td>\n",
       "      <td>heart</td>\n",
       "      <td>SLC29A1</td>\n",
       "      <td>ENSG00000112759.17</td>\n",
       "    </tr>\n",
       "    <tr>\n",
       "      <th>14079</th>\n",
       "      <td>45.0</td>\n",
       "      <td>heart</td>\n",
       "      <td>DES</td>\n",
       "      <td>ENSG00000175084.11</td>\n",
       "    </tr>\n",
       "    <tr>\n",
       "      <th>26022</th>\n",
       "      <td>44.0</td>\n",
       "      <td>heart</td>\n",
       "      <td>PAM</td>\n",
       "      <td>ENSG00000145730.20</td>\n",
       "    </tr>\n",
       "  </tbody>\n",
       "</table>\n",
       "</div>"
      ],
      "text/plain": [
       "       max_isos_sample    max_sample annot_gene_name       annot_gene_id\n",
       "34422            134.0    h9_chondro             ELN  ENSG00000049540.16\n",
       "37290             66.0  hl60_m1_72hr            CTSB  ENSG00000164733.20\n",
       "45376             64.0          lung          SFTPA1  ENSG00000122852.14\n",
       "13762             55.0    h9_chondro             FN1  ENSG00000115414.18\n",
       "61324             50.0  hl60_m1_72hr            NUMB  ENSG00000133961.20\n",
       "71325             50.0         heart          ACADVL  ENSG00000072778.19\n",
       "64205             45.0         heart            TPM1  ENSG00000140416.20\n",
       "30491             45.0         heart         SLC29A1  ENSG00000112759.17\n",
       "14079             45.0         heart             DES  ENSG00000175084.11\n",
       "26022             44.0         heart             PAM  ENSG00000145730.20"
      ]
     },
     "execution_count": 15,
     "metadata": {},
     "output_type": "execute_result"
    }
   ],
   "source": [
    "print('Top 10 genes with isoforms / gene / sample')\n",
    "df.head(10)"
   ]
  },
  {
   "cell_type": "code",
   "execution_count": 16,
   "id": "nearby-fraud",
   "metadata": {},
   "outputs": [],
   "source": [
    "# save table \n",
    "df.to_csv('isos_per_gene_per_sample_min_15.tsv', sep='\\t')"
   ]
  },
  {
   "cell_type": "markdown",
   "id": "reasonable-eligibility",
   "metadata": {},
   "source": [
    "Number of libraries per sample"
   ]
  },
  {
   "cell_type": "code",
   "execution_count": 17,
   "id": "mediterranean-panama",
   "metadata": {},
   "outputs": [
    {
     "name": "stdout",
     "output_type": "stream",
     "text": [
      "Calculating iso TPM values\n",
      "Subsetting for novelty categories ['Known', 'NIC', 'NNC']\n",
      "Subsetting for polya genes\n",
      "Enforcing minimum TPM\n",
      "Total # isos detected: 185293\n",
      "# isos >= 1 tpm: 167378\n",
      "Applying gene type and novelty subset\n",
      "Number of isos reported: 106687\n",
      "Found 49 total samples\n",
      "Slope of correlation: 0.07719392141047676\n",
      "R of correlation: 0.6187650059417072\n",
      "R2 of correlation: 0.7477385054568226\n"
     ]
    },
    {
     "data": {
      "image/png": "[encoded data removed]",
      "text/plain": [
       "<Figure size 432x288 with 1 Axes>"
      ]
     },
     "metadata": {
      "needs_background": "light"
     },
     "output_type": "display_data"
    }
   ],
   "source": [
    "df = pd.read_csv('human_talon_abundance_filtered.tsv', sep='\\t')\n",
    "plot_n_libs_v_avg_isos(df,\n",
    "                        min_tpm=1,\n",
    "                        gene_subset='polya',\n",
    "                        sample='all',\n",
    "                        nov=['Known', 'NIC', 'NNC'], \n",
    "                        opref='figures/human')"
   ]
  },
  {
   "cell_type": "markdown",
   "id": "colonial-trinity",
   "metadata": {},
   "source": [
    "Number of reads per sample"
   ]
  },
  {
   "cell_type": "code",
   "execution_count": 1,
   "id": "10a2a469-62f1-429f-b6dc-c0821ee34327",
   "metadata": {},
   "outputs": [],
   "source": [
    "import pandas as pd\n",
    "import numpy as np\n",
    "import scipy.stats as st\n",
    "import seaborn as sns\n",
    "import sys\n",
    "import os\n",
    "import gseapy as gp\n",
    "\n",
    "p = os.path.dirname(os.path.dirname(os.getcwd()))\n",
    "sys.path.append(p)\n",
    "\n",
    "from scripts.utils import *\n",
    "from scripts.plotting import *"
   ]
  },
  {
   "cell_type": "code",
   "execution_count": 3,
   "id": "adequate-firewall",
   "metadata": {},
   "outputs": [
    {
     "name": "stdout",
     "output_type": "stream",
     "text": [
      "Found 49 total samples\n",
      "Calculating iso TPM values\n",
      "Subsetting for novelty categories ['Known', 'NIC', 'NNC']\n",
      "Subsetting for polya genes\n",
      "Enforcing minimum TPM\n",
      "Total # isos detected: 185293\n",
      "# isos >= 1 tpm: 167378\n",
      "Applying gene type and novelty subset\n",
      "Number of isos reported: 106687\n",
      "Found 49 total samples\n",
      "Slope of correlation: 5.612459363928113e-08\n",
      "R of correlation: 0.5997463175551896\n",
      "R2 of correlation: 0.5451020408163264\n"
     ]
    },
    {
     "data": {
      "image/png": "[encoded data removed]",
      "text/plain": [
       "<Figure size 432x288 with 1 Axes>"
      ]
     },
     "metadata": {
      "needs_background": "light"
     },
     "output_type": "display_data"
    }
   ],
   "source": [
    "df = pd.read_csv('human_talon_abundance.tsv', sep='\\t')\n",
    "filt_df = pd.read_csv('human_talon_abundance_filtered.tsv', sep='\\t')\n",
    "plot_n_reads_v_avg_isos(df, filt_df,\n",
    "                        min_tpm=1,\n",
    "                        gene_subset='polya',\n",
    "                        sample='all',\n",
    "                        groupby='sample',\n",
    "                        nov=['Known', 'NIC', 'NNC'], \n",
    "                        opref='figures/human')"
   ]
  },
  {
   "cell_type": "markdown",
   "id": "better-viewer",
   "metadata": {},
   "source": [
    "What fraction of polyA genes express >= 2 complete isoforms in more than half of their expressed samples?"
   ]
  },
  {
   "cell_type": "code",
   "execution_count": 8,
   "id": "turned-mouth",
   "metadata": {},
   "outputs": [
    {
     "name": "stdout",
     "output_type": "stream",
     "text": [
      "Calculating gene TPM values\n",
      "Subsetting for novelty categories ['Known']\n",
      "Subsetting for polya genes\n",
      "Enforcing minimum TPM\n",
      "Total # genes detected: 559881\n",
      "# genes >= 1 tpm: 274347\n",
      "Applying gene type and novelty subset\n",
      "Number of genes reported: 33635\n",
      "Found 49 total samples\n",
      "Calculating iso TPM values\n",
      "Subsetting for novelty categories ['Known', 'NIC', 'NNC']\n",
      "Subsetting for polya genes\n",
      "Enforcing minimum TPM\n",
      "Total # isos detected: 185293\n",
      "# isos >= 1 tpm: 167378\n",
      "Applying gene type and novelty subset\n",
      "Number of isos reported: 106687\n",
      "Found 49 total samples\n"
     ]
    }
   ],
   "source": [
    "filt_df = pd.read_csv('human_talon_abundance_filtered.tsv', sep='\\t')\n",
    "df = pd.read_csv('human_talon_abundance.tsv', sep='\\t')\n",
    "\n",
    "df = get_gene_iso_det_table(df, filt_df,\n",
    "                            min_isos=2,\n",
    "                            iso_nov=['Known', 'NIC', 'NNC'],\n",
    "                            gene_nov=['Known'],\n",
    "                            gene_subset='polya',\n",
    "                            min_tpm=1,\n",
    "                            sample='all',\n",
    "                            groupby='sample')"
   ]
  },
  {
   "cell_type": "code",
   "execution_count": 13,
   "id": "disabled-completion",
   "metadata": {},
   "outputs": [
    {
     "name": "stdout",
     "output_type": "stream",
     "text": [
      "8300 / 33635 (24.68%) detected polyA genes express >=2 isoforms in at least half of their expressed samples\n"
     ]
    }
   ],
   "source": [
    "df = df.apply(pd.Series.value_counts)\n",
    "df = df.transpose()\n",
    "df.fillna(0, inplace=True)\n",
    "df.rename({'00': 'no_det',\n",
    "             '01': 'gene_det',\n",
    "             '10': 'iso_det',\n",
    "             '11': 'gene_iso_det'}, axis=1, inplace=True)\n",
    "\n",
    "df['total_gene_det'] = df['gene_det']+df['gene_iso_det']\n",
    "df['prop'] = df['gene_iso_det']/df['total_gene_det']\n",
    "\n",
    "n_gene_iso = len(df.loc[df.prop >= .5])\n",
    "n = len(df.index)\n",
    "\n",
    "print('{} / {} ({:.2f}%) detected polyA genes express >=2 isoforms in at least half of their expressed samples'.format(n_gene_iso, n, (n_gene_iso/n)*100))"
   ]
  },
  {
   "cell_type": "markdown",
   "id": "removed-ebony",
   "metadata": {},
   "source": [
    "What fraction of TF genes express >= 2 complete isoforms in more than half of their expressed samples?\n"
   ]
  },
  {
   "cell_type": "code",
   "execution_count": 18,
   "id": "educational-cabinet",
   "metadata": {},
   "outputs": [
    {
     "name": "stdout",
     "output_type": "stream",
     "text": [
      "Calculating gene TPM values\n",
      "Subsetting for novelty categories ['Known']\n",
      "Subsetting for tf genes\n",
      "Enforcing minimum TPM\n",
      "Total # genes detected: 559881\n",
      "# genes >= 1 tpm: 274347\n",
      "Applying gene type and novelty subset\n",
      "Number of genes reported: 1368\n",
      "Found 49 total samples\n",
      "Calculating iso TPM values\n",
      "Subsetting for novelty categories ['Known', 'NIC', 'NNC']\n",
      "Subsetting for tf genes\n",
      "Enforcing minimum TPM\n",
      "Total # isos detected: 185293\n",
      "# isos >= 1 tpm: 167378\n",
      "Applying gene type and novelty subset\n",
      "Number of isos reported: 5823\n",
      "Found 49 total samples\n"
     ]
    }
   ],
   "source": [
    "filt_df = pd.read_csv('human_talon_abundance_filtered.tsv', sep='\\t')\n",
    "df = pd.read_csv('human_talon_abundance.tsv', sep='\\t')\n",
    "\n",
    "df = get_gene_iso_det_table(df, filt_df,\n",
    "                            min_isos=2,\n",
    "                            iso_nov=['Known', 'NIC', 'NNC'],\n",
    "                            gene_nov=['Known'],\n",
    "                            gene_subset='tf',\n",
    "                            min_tpm=1,\n",
    "                            sample='all',\n",
    "                            groupby='sample')"
   ]
  },
  {
   "cell_type": "code",
   "execution_count": 28,
   "id": "single-century",
   "metadata": {},
   "outputs": [
    {
     "name": "stdout",
     "output_type": "stream",
     "text": [
      "510 / 1368 (37.28%) detected TF genes express >=2 isoforms in at least half of their expressed samples\n"
     ]
    }
   ],
   "source": [
    "df = df.apply(pd.Series.value_counts)\n",
    "df = df.transpose()\n",
    "df.fillna(0, inplace=True)\n",
    "df.rename({'00': 'no_det',\n",
    "             '01': 'gene_det',\n",
    "             '10': 'iso_det',\n",
    "             '11': 'gene_iso_det'}, axis=1, inplace=True)\n",
    "\n",
    "df['total_gene_det'] = df['gene_det']+df['gene_iso_det']\n",
    "df['prop'] = df['gene_iso_det']/df['total_gene_det']\n",
    "\n",
    "n_gene_iso = len(df.loc[df.prop >= .5])\n",
    "n = len(df.index)\n",
    "\n",
    "print('{} / {} ({:.2f}%) detected TF genes express >=2 isoforms in at least half of their expressed samples'.format(n_gene_iso, n, (n_gene_iso/n)*100))"
   ]
  },
  {
   "cell_type": "markdown",
   "id": "atomic-validity",
   "metadata": {},
   "source": [
    "What fraction of polyA genes have >= 2 complete isoforms detected in the same sample?"
   ]
  },
  {
   "cell_type": "code",
   "execution_count": 29,
   "id": "purple-stadium",
   "metadata": {},
   "outputs": [
    {
     "name": "stdout",
     "output_type": "stream",
     "text": [
      "Calculating iso TPM values\n",
      "Subsetting for novelty categories ['Known', 'NIC', 'NNC']\n",
      "Subsetting for polya genes\n",
      "Enforcing minimum TPM\n",
      "Total # isos detected: 185293\n",
      "# isos >= 1 tpm: 167378\n",
      "Applying gene type and novelty subset\n",
      "Number of isos reported: 106687\n",
      "Found 49 total samples\n"
     ]
    }
   ],
   "source": [
    "df = pd.read_csv('human_talon_abundance_filtered.tsv', sep='\\t')\n",
    "df = get_isos_per_gene(df,\n",
    "                       min_tpm=1,\n",
    "                       gene_subset='polya',\n",
    "                       groupby='sample', \n",
    "                       nov=['Known', 'NIC', 'NNC'])"
   ]
  },
  {
   "cell_type": "code",
   "execution_count": 30,
   "id": "according-mapping",
   "metadata": {},
   "outputs": [
    {
     "name": "stdout",
     "output_type": "stream",
     "text": [
      "11670 / 49472 (23.59%) annotated polyA genes have >= 2 isoforms expressed in >= 1 sample\n"
     ]
    }
   ],
   "source": [
    "gene_df, b_counts, b_cat_counts = get_gtf_info(how='gene', subset='polya')\n",
    "n_polya = len(gene_df.index)\n",
    "\n",
    "df = df.loc[(df > 2).any(axis=1)]\n",
    "n_det_polya = len(df.index)\n",
    "\n",
    "print('{} / {} ({:.2f}%) annotated polyA genes have >= 2 isoforms expressed in >= 1 sample'.format(n_det_polya, n_polya, (n_det_polya/n_polya)*100))"
   ]
  },
  {
   "cell_type": "markdown",
   "id": "separate-soundtrack",
   "metadata": {},
   "source": [
    "What fraction of TF genes have >= 2 complete isoforms detected in the same sample?"
   ]
  },
  {
   "cell_type": "code",
   "execution_count": 31,
   "id": "positive-juvenile",
   "metadata": {},
   "outputs": [
    {
     "name": "stdout",
     "output_type": "stream",
     "text": [
      "Calculating iso TPM values\n",
      "Subsetting for novelty categories ['Known', 'NIC', 'NNC']\n",
      "Subsetting for tf genes\n",
      "Enforcing minimum TPM\n",
      "Total # isos detected: 185293\n",
      "# isos >= 1 tpm: 167378\n",
      "Applying gene type and novelty subset\n",
      "Number of isos reported: 5823\n",
      "Found 49 total samples\n"
     ]
    }
   ],
   "source": [
    "df = pd.read_csv('human_talon_abundance_filtered.tsv', sep='\\t')\n",
    "df = get_isos_per_gene(df,\n",
    "                       min_tpm=1,\n",
    "                       gene_subset='tf',\n",
    "                       groupby='sample', \n",
    "                       nov=['Known', 'NIC', 'NNC'])"
   ]
  },
  {
   "cell_type": "code",
   "execution_count": 32,
   "id": "biological-uzbekistan",
   "metadata": {},
   "outputs": [
    {
     "name": "stdout",
     "output_type": "stream",
     "text": [
      "755 / 1419 (53.21%) annotated TF genes have >= 2 isoforms expressed in >= 1 sample\n"
     ]
    }
   ],
   "source": [
    "gene_df, b_counts, b_cat_counts = get_gtf_info(how='gene', subset='tf')\n",
    "n_polya = len(gene_df.index)\n",
    "\n",
    "df = df.loc[(df > 2).any(axis=1)]\n",
    "n_det_polya = len(df.index)\n",
    "\n",
    "print('{} / {} ({:.2f}%) annotated TF genes have >= 2 isoforms expressed in >= 1 sample'.format(n_det_polya, n_polya, (n_det_polya/n_polya)*100))"
   ]
  },
  {
   "cell_type": "markdown",
   "id": "bf5f055f-bd42-47b2-b594-ac5fb3bd7e80",
   "metadata": {},
   "source": [
    "## What does the expression look like of isoforms belonging to MAP4K4?"
   ]
  },
  {
   "cell_type": "code",
   "execution_count": 33,
   "id": "bbecc1c9-e8db-4fce-bf74-603ab3f73a73",
   "metadata": {},
   "outputs": [],
   "source": [
    "import pandas as pd\n",
    "import numpy as np\n",
    "import scipy.stats as st\n",
    "import seaborn as sns\n",
    "import sys\n",
    "import os\n",
    "import gseapy as gp\n",
    "\n",
    "p = os.path.dirname(os.path.dirname(os.getcwd()))\n",
    "sys.path.append(p)\n",
    "\n",
    "from scripts.utils import *\n",
    "from scripts.plotting import *"
   ]
  },
  {
   "cell_type": "code",
   "execution_count": 34,
   "id": "historic-sodium",
   "metadata": {},
   "outputs": [
    {
     "name": "stdout",
     "output_type": "stream",
     "text": [
      "Calculating iso TPM values\n",
      "Subsetting for polya genes\n",
      "Applying gene type and novelty subset\n",
      "Averaging over biosample\n",
      "Found 49 total samples\n",
      "Number of isos reported: 4240234\n"
     ]
    }
   ],
   "source": [
    "df = pd.read_csv('human_talon_abundance.tsv', sep='\\t')\n",
    "df, tids = get_tpm_table(df,\n",
    "                   how='iso',\n",
    "                   min_tpm=0,\n",
    "                   groupby='sample', \n",
    "                   gene_subset='polya')"
   ]
  },
  {
   "cell_type": "code",
   "execution_count": 35,
   "id": "88b063ce-3a07-400d-b1a9-fbf3857a7b90",
   "metadata": {},
   "outputs": [],
   "source": [
    "gene_df = pd.read_csv('human_talon_abundance.tsv', sep='\\t')\n",
    "gene_df = gene_df[['annot_transcript_id', 'annot_gene_name', 'transcript_novelty']]\n",
    "gene_df.rename({'annot_transcript_id': 'tid', 'annot_gene_name': 'gname'}, axis=1, inplace=True)\n",
    "\n",
    "df = df.merge(gene_df, how='left', left_index=True, right_on='tid')"
   ]
  },
  {
   "cell_type": "code",
   "execution_count": 36,
   "id": "32e067c0-764c-4664-b781-5fa668bcf528",
   "metadata": {},
   "outputs": [
    {
     "data": {
      "text/html": [
       "<div>\n",
       "<style scoped>\n",
       "    .dataframe tbody tr th:only-of-type {\n",
       "        vertical-align: middle;\n",
       "    }\n",
       "\n",
       "    .dataframe tbody tr th {\n",
       "        vertical-align: top;\n",
       "    }\n",
       "\n",
       "    .dataframe thead th {\n",
       "        text-align: right;\n",
       "    }\n",
       "</style>\n",
       "<table border=\"1\" class=\"dataframe\">\n",
       "  <thead>\n",
       "    <tr style=\"text-align: right;\">\n",
       "      <th></th>\n",
       "      <th>a673</th>\n",
       "      <th>adipose</th>\n",
       "      <th>adrenal gland</th>\n",
       "      <th>caco2</th>\n",
       "      <th>calu3</th>\n",
       "      <th>colon</th>\n",
       "      <th>gm12878</th>\n",
       "      <th>h1</th>\n",
       "      <th>h1_de</th>\n",
       "      <th>h9</th>\n",
       "      <th>...</th>\n",
       "      <th>pc9</th>\n",
       "      <th>pgp1</th>\n",
       "      <th>pgp1_astro</th>\n",
       "      <th>pgp1_endo</th>\n",
       "      <th>pgp1_excite_neuron</th>\n",
       "      <th>vessels</th>\n",
       "      <th>wtc11</th>\n",
       "      <th>tid</th>\n",
       "      <th>gname</th>\n",
       "      <th>transcript_novelty</th>\n",
       "    </tr>\n",
       "  </thead>\n",
       "  <tbody>\n",
       "    <tr>\n",
       "      <th>1</th>\n",
       "      <td>0.0</td>\n",
       "      <td>0.0</td>\n",
       "      <td>0.0</td>\n",
       "      <td>0.0</td>\n",
       "      <td>0.0</td>\n",
       "      <td>0.301471</td>\n",
       "      <td>0.0</td>\n",
       "      <td>0.0</td>\n",
       "      <td>0.0</td>\n",
       "      <td>0.0</td>\n",
       "      <td>...</td>\n",
       "      <td>0.0</td>\n",
       "      <td>0.000000</td>\n",
       "      <td>0.00000</td>\n",
       "      <td>0.0</td>\n",
       "      <td>0.725184</td>\n",
       "      <td>0.0</td>\n",
       "      <td>0.000000</td>\n",
       "      <td>ENST00000469289.1</td>\n",
       "      <td>MIR1302-2HG</td>\n",
       "      <td>Known</td>\n",
       "    </tr>\n",
       "    <tr>\n",
       "      <th>2</th>\n",
       "      <td>0.0</td>\n",
       "      <td>0.0</td>\n",
       "      <td>0.0</td>\n",
       "      <td>0.0</td>\n",
       "      <td>0.0</td>\n",
       "      <td>0.000000</td>\n",
       "      <td>0.0</td>\n",
       "      <td>0.0</td>\n",
       "      <td>0.0</td>\n",
       "      <td>0.0</td>\n",
       "      <td>...</td>\n",
       "      <td>0.0</td>\n",
       "      <td>1.317476</td>\n",
       "      <td>0.00000</td>\n",
       "      <td>0.0</td>\n",
       "      <td>0.000000</td>\n",
       "      <td>0.0</td>\n",
       "      <td>0.000000</td>\n",
       "      <td>ENST00000417324.1</td>\n",
       "      <td>FAM138A</td>\n",
       "      <td>Known</td>\n",
       "    </tr>\n",
       "    <tr>\n",
       "      <th>3</th>\n",
       "      <td>0.0</td>\n",
       "      <td>0.0</td>\n",
       "      <td>0.0</td>\n",
       "      <td>0.0</td>\n",
       "      <td>0.0</td>\n",
       "      <td>0.000000</td>\n",
       "      <td>0.0</td>\n",
       "      <td>0.0</td>\n",
       "      <td>0.0</td>\n",
       "      <td>0.0</td>\n",
       "      <td>...</td>\n",
       "      <td>0.0</td>\n",
       "      <td>0.684604</td>\n",
       "      <td>0.00000</td>\n",
       "      <td>0.0</td>\n",
       "      <td>0.000000</td>\n",
       "      <td>0.0</td>\n",
       "      <td>0.245426</td>\n",
       "      <td>ENST00000461467.1</td>\n",
       "      <td>FAM138A</td>\n",
       "      <td>Known</td>\n",
       "    </tr>\n",
       "    <tr>\n",
       "      <th>4</th>\n",
       "      <td>0.0</td>\n",
       "      <td>0.0</td>\n",
       "      <td>0.0</td>\n",
       "      <td>0.0</td>\n",
       "      <td>0.0</td>\n",
       "      <td>0.000000</td>\n",
       "      <td>0.0</td>\n",
       "      <td>0.0</td>\n",
       "      <td>0.0</td>\n",
       "      <td>0.0</td>\n",
       "      <td>...</td>\n",
       "      <td>0.0</td>\n",
       "      <td>0.000000</td>\n",
       "      <td>0.00000</td>\n",
       "      <td>0.0</td>\n",
       "      <td>0.000000</td>\n",
       "      <td>0.0</td>\n",
       "      <td>0.388326</td>\n",
       "      <td>ENST00000453576.2</td>\n",
       "      <td>AL627309.1</td>\n",
       "      <td>Known</td>\n",
       "    </tr>\n",
       "    <tr>\n",
       "      <th>5</th>\n",
       "      <td>0.0</td>\n",
       "      <td>0.0</td>\n",
       "      <td>0.0</td>\n",
       "      <td>0.0</td>\n",
       "      <td>0.0</td>\n",
       "      <td>0.000000</td>\n",
       "      <td>0.0</td>\n",
       "      <td>0.0</td>\n",
       "      <td>0.0</td>\n",
       "      <td>0.0</td>\n",
       "      <td>...</td>\n",
       "      <td>0.0</td>\n",
       "      <td>0.000000</td>\n",
       "      <td>0.63412</td>\n",
       "      <td>0.0</td>\n",
       "      <td>0.000000</td>\n",
       "      <td>0.0</td>\n",
       "      <td>0.000000</td>\n",
       "      <td>ENST00000442987.3</td>\n",
       "      <td>CICP27</td>\n",
       "      <td>Known</td>\n",
       "    </tr>\n",
       "  </tbody>\n",
       "</table>\n",
       "<p>5 rows × 52 columns</p>\n",
       "</div>"
      ],
      "text/plain": [
       "   a673  adipose  adrenal gland  caco2  calu3     colon  gm12878   h1  h1_de  \\\n",
       "1   0.0      0.0            0.0    0.0    0.0  0.301471      0.0  0.0    0.0   \n",
       "2   0.0      0.0            0.0    0.0    0.0  0.000000      0.0  0.0    0.0   \n",
       "3   0.0      0.0            0.0    0.0    0.0  0.000000      0.0  0.0    0.0   \n",
       "4   0.0      0.0            0.0    0.0    0.0  0.000000      0.0  0.0    0.0   \n",
       "5   0.0      0.0            0.0    0.0    0.0  0.000000      0.0  0.0    0.0   \n",
       "\n",
       "    h9  ...  pc9      pgp1  pgp1_astro  pgp1_endo  pgp1_excite_neuron  \\\n",
       "1  0.0  ...  0.0  0.000000     0.00000        0.0            0.725184   \n",
       "2  0.0  ...  0.0  1.317476     0.00000        0.0            0.000000   \n",
       "3  0.0  ...  0.0  0.684604     0.00000        0.0            0.000000   \n",
       "4  0.0  ...  0.0  0.000000     0.00000        0.0            0.000000   \n",
       "5  0.0  ...  0.0  0.000000     0.63412        0.0            0.000000   \n",
       "\n",
       "   vessels     wtc11                tid        gname  transcript_novelty  \n",
       "1      0.0  0.000000  ENST00000469289.1  MIR1302-2HG               Known  \n",
       "2      0.0  0.000000  ENST00000417324.1      FAM138A               Known  \n",
       "3      0.0  0.245426  ENST00000461467.1      FAM138A               Known  \n",
       "4      0.0  0.388326  ENST00000453576.2   AL627309.1               Known  \n",
       "5      0.0  0.000000  ENST00000442987.3       CICP27               Known  \n",
       "\n",
       "[5 rows x 52 columns]"
      ]
     },
     "execution_count": 36,
     "metadata": {},
     "output_type": "execute_result"
    }
   ],
   "source": [
    "df.head()"
   ]
  },
  {
   "cell_type": "code",
   "execution_count": 37,
   "id": "2c148e66-ccbb-4b29-b0e6-30a3cdea8e2b",
   "metadata": {},
   "outputs": [],
   "source": [
    "df = df.loc[df.gname == 'MAP4K4']"
   ]
  },
  {
   "cell_type": "code",
   "execution_count": 38,
   "id": "cb50b345-b9c0-48f7-9508-f09baa513698",
   "metadata": {},
   "outputs": [],
   "source": [
    "df = df.groupby(['transcript_novelty']).sum()"
   ]
  },
  {
   "cell_type": "code",
   "execution_count": 39,
   "id": "170147d8-03bf-4fec-8ed7-f12bc0596b51",
   "metadata": {},
   "outputs": [
    {
     "data": {
      "text/html": [
       "<div>\n",
       "<style scoped>\n",
       "    .dataframe tbody tr th:only-of-type {\n",
       "        vertical-align: middle;\n",
       "    }\n",
       "\n",
       "    .dataframe tbody tr th {\n",
       "        vertical-align: top;\n",
       "    }\n",
       "\n",
       "    .dataframe thead th {\n",
       "        text-align: right;\n",
       "    }\n",
       "</style>\n",
       "<table border=\"1\" class=\"dataframe\">\n",
       "  <thead>\n",
       "    <tr style=\"text-align: right;\">\n",
       "      <th></th>\n",
       "      <th>a673</th>\n",
       "      <th>adipose</th>\n",
       "      <th>adrenal gland</th>\n",
       "      <th>caco2</th>\n",
       "      <th>calu3</th>\n",
       "      <th>colon</th>\n",
       "      <th>gm12878</th>\n",
       "      <th>h1</th>\n",
       "      <th>h1_de</th>\n",
       "      <th>h9</th>\n",
       "      <th>...</th>\n",
       "      <th>ovary</th>\n",
       "      <th>panc1</th>\n",
       "      <th>pc3</th>\n",
       "      <th>pc9</th>\n",
       "      <th>pgp1</th>\n",
       "      <th>pgp1_astro</th>\n",
       "      <th>pgp1_endo</th>\n",
       "      <th>pgp1_excite_neuron</th>\n",
       "      <th>vessels</th>\n",
       "      <th>wtc11</th>\n",
       "    </tr>\n",
       "    <tr>\n",
       "      <th>transcript_novelty</th>\n",
       "      <th></th>\n",
       "      <th></th>\n",
       "      <th></th>\n",
       "      <th></th>\n",
       "      <th></th>\n",
       "      <th></th>\n",
       "      <th></th>\n",
       "      <th></th>\n",
       "      <th></th>\n",
       "      <th></th>\n",
       "      <th></th>\n",
       "      <th></th>\n",
       "      <th></th>\n",
       "      <th></th>\n",
       "      <th></th>\n",
       "      <th></th>\n",
       "      <th></th>\n",
       "      <th></th>\n",
       "      <th></th>\n",
       "      <th></th>\n",
       "      <th></th>\n",
       "    </tr>\n",
       "  </thead>\n",
       "  <tbody>\n",
       "    <tr>\n",
       "      <th>Genomic</th>\n",
       "      <td>7.107345</td>\n",
       "      <td>10.586545</td>\n",
       "      <td>1.421883</td>\n",
       "      <td>9.023600</td>\n",
       "      <td>9.558928</td>\n",
       "      <td>4.695918</td>\n",
       "      <td>1.949872</td>\n",
       "      <td>13.769973</td>\n",
       "      <td>13.711013</td>\n",
       "      <td>7.142780</td>\n",
       "      <td>...</td>\n",
       "      <td>3.625334</td>\n",
       "      <td>7.578317</td>\n",
       "      <td>34.640251</td>\n",
       "      <td>5.828695</td>\n",
       "      <td>2.531485</td>\n",
       "      <td>10.736304</td>\n",
       "      <td>8.688920</td>\n",
       "      <td>25.796785</td>\n",
       "      <td>14.463760</td>\n",
       "      <td>9.917184</td>\n",
       "    </tr>\n",
       "    <tr>\n",
       "      <th>ISM</th>\n",
       "      <td>15.928096</td>\n",
       "      <td>15.044037</td>\n",
       "      <td>2.366065</td>\n",
       "      <td>21.177063</td>\n",
       "      <td>8.358262</td>\n",
       "      <td>10.700556</td>\n",
       "      <td>9.986788</td>\n",
       "      <td>24.638808</td>\n",
       "      <td>30.511233</td>\n",
       "      <td>6.053095</td>\n",
       "      <td>...</td>\n",
       "      <td>4.484529</td>\n",
       "      <td>24.629531</td>\n",
       "      <td>129.638513</td>\n",
       "      <td>10.831357</td>\n",
       "      <td>5.954506</td>\n",
       "      <td>16.864302</td>\n",
       "      <td>31.052310</td>\n",
       "      <td>29.959422</td>\n",
       "      <td>14.104271</td>\n",
       "      <td>22.197268</td>\n",
       "    </tr>\n",
       "    <tr>\n",
       "      <th>Known</th>\n",
       "      <td>1.630398</td>\n",
       "      <td>0.000000</td>\n",
       "      <td>0.000000</td>\n",
       "      <td>4.961310</td>\n",
       "      <td>1.497518</td>\n",
       "      <td>0.301471</td>\n",
       "      <td>0.192079</td>\n",
       "      <td>2.918235</td>\n",
       "      <td>2.431919</td>\n",
       "      <td>0.000000</td>\n",
       "      <td>...</td>\n",
       "      <td>0.788772</td>\n",
       "      <td>1.263053</td>\n",
       "      <td>15.745568</td>\n",
       "      <td>4.356115</td>\n",
       "      <td>0.000000</td>\n",
       "      <td>3.465792</td>\n",
       "      <td>0.000000</td>\n",
       "      <td>0.000000</td>\n",
       "      <td>0.000000</td>\n",
       "      <td>1.961344</td>\n",
       "    </tr>\n",
       "    <tr>\n",
       "      <th>NIC</th>\n",
       "      <td>38.929066</td>\n",
       "      <td>0.557187</td>\n",
       "      <td>4.798919</td>\n",
       "      <td>59.477439</td>\n",
       "      <td>14.044854</td>\n",
       "      <td>4.522059</td>\n",
       "      <td>5.009417</td>\n",
       "      <td>61.031425</td>\n",
       "      <td>69.221398</td>\n",
       "      <td>1.461341</td>\n",
       "      <td>...</td>\n",
       "      <td>11.205073</td>\n",
       "      <td>35.365480</td>\n",
       "      <td>172.676400</td>\n",
       "      <td>32.478914</td>\n",
       "      <td>0.000000</td>\n",
       "      <td>111.369984</td>\n",
       "      <td>1.436222</td>\n",
       "      <td>0.725184</td>\n",
       "      <td>2.787237</td>\n",
       "      <td>55.652138</td>\n",
       "    </tr>\n",
       "    <tr>\n",
       "      <th>NNC</th>\n",
       "      <td>0.585752</td>\n",
       "      <td>0.000000</td>\n",
       "      <td>0.000000</td>\n",
       "      <td>2.272542</td>\n",
       "      <td>0.597019</td>\n",
       "      <td>0.000000</td>\n",
       "      <td>2.541462</td>\n",
       "      <td>1.386794</td>\n",
       "      <td>1.361283</td>\n",
       "      <td>0.364432</td>\n",
       "      <td>...</td>\n",
       "      <td>0.324521</td>\n",
       "      <td>0.631526</td>\n",
       "      <td>3.149114</td>\n",
       "      <td>0.000000</td>\n",
       "      <td>1.369208</td>\n",
       "      <td>1.098776</td>\n",
       "      <td>0.830925</td>\n",
       "      <td>0.000000</td>\n",
       "      <td>0.000000</td>\n",
       "      <td>0.701268</td>\n",
       "    </tr>\n",
       "  </tbody>\n",
       "</table>\n",
       "<p>5 rows × 49 columns</p>\n",
       "</div>"
      ],
      "text/plain": [
       "                         a673    adipose  adrenal gland      caco2      calu3  \\\n",
       "transcript_novelty                                                              \n",
       "Genomic              7.107345  10.586545       1.421883   9.023600   9.558928   \n",
       "ISM                 15.928096  15.044037       2.366065  21.177063   8.358262   \n",
       "Known                1.630398   0.000000       0.000000   4.961310   1.497518   \n",
       "NIC                 38.929066   0.557187       4.798919  59.477439  14.044854   \n",
       "NNC                  0.585752   0.000000       0.000000   2.272542   0.597019   \n",
       "\n",
       "                        colon   gm12878         h1      h1_de        h9  ...  \\\n",
       "transcript_novelty                                                       ...   \n",
       "Genomic              4.695918  1.949872  13.769973  13.711013  7.142780  ...   \n",
       "ISM                 10.700556  9.986788  24.638808  30.511233  6.053095  ...   \n",
       "Known                0.301471  0.192079   2.918235   2.431919  0.000000  ...   \n",
       "NIC                  4.522059  5.009417  61.031425  69.221398  1.461341  ...   \n",
       "NNC                  0.000000  2.541462   1.386794   1.361283  0.364432  ...   \n",
       "\n",
       "                        ovary      panc1         pc3        pc9      pgp1  \\\n",
       "transcript_novelty                                                          \n",
       "Genomic              3.625334   7.578317   34.640251   5.828695  2.531485   \n",
       "ISM                  4.484529  24.629531  129.638513  10.831357  5.954506   \n",
       "Known                0.788772   1.263053   15.745568   4.356115  0.000000   \n",
       "NIC                 11.205073  35.365480  172.676400  32.478914  0.000000   \n",
       "NNC                  0.324521   0.631526    3.149114   0.000000  1.369208   \n",
       "\n",
       "                    pgp1_astro  pgp1_endo  pgp1_excite_neuron    vessels  \\\n",
       "transcript_novelty                                                         \n",
       "Genomic              10.736304   8.688920           25.796785  14.463760   \n",
       "ISM                  16.864302  31.052310           29.959422  14.104271   \n",
       "Known                 3.465792   0.000000            0.000000   0.000000   \n",
       "NIC                 111.369984   1.436222            0.725184   2.787237   \n",
       "NNC                   1.098776   0.830925            0.000000   0.000000   \n",
       "\n",
       "                        wtc11  \n",
       "transcript_novelty             \n",
       "Genomic              9.917184  \n",
       "ISM                 22.197268  \n",
       "Known                1.961344  \n",
       "NIC                 55.652138  \n",
       "NNC                  0.701268  \n",
       "\n",
       "[5 rows x 49 columns]"
      ]
     },
     "execution_count": 39,
     "metadata": {},
     "output_type": "execute_result"
    }
   ],
   "source": [
    "df.head()"
   ]
  },
  {
   "cell_type": "code",
   "execution_count": 40,
   "id": "a6fc2c81-2476-4a55-a18e-814b7a7519b5",
   "metadata": {},
   "outputs": [
    {
     "data": {
      "text/plain": [
       "49"
      ]
     },
     "execution_count": 40,
     "metadata": {},
     "output_type": "execute_result"
    }
   ],
   "source": [
    "len(df.columns)"
   ]
  },
  {
   "cell_type": "code",
   "execution_count": 41,
   "id": "2a3f78ba-3063-468d-ba3f-5247b4ab3cf3",
   "metadata": {},
   "outputs": [
    {
     "name": "stderr",
     "output_type": "stream",
     "text": [
      "/Users/fairliereese/miniconda3/lib/python3.7/site-packages/ipykernel_launcher.py:1: RuntimeWarning: divide by zero encountered in log2\n",
      "  \"\"\"Entry point for launching an IPython kernel.\n"
     ]
    }
   ],
   "source": [
    "df = np.log2(df)"
   ]
  },
  {
   "cell_type": "code",
   "execution_count": 42,
   "id": "b0aed15c-7e61-46ed-9530-28647300d034",
   "metadata": {},
   "outputs": [
    {
     "data": {
      "text/plain": [
       "<AxesSubplot:ylabel='transcript_novelty'>"
      ]
     },
     "execution_count": 42,
     "metadata": {},
     "output_type": "execute_result"
    },
    {
     "data": {
      "image/png": "[encoded data removed]",
      "text/plain": [
       "<Figure size 432x288 with 2 Axes>"
      ]
     },
     "metadata": {
      "needs_background": "light"
     },
     "output_type": "display_data"
    }
   ],
   "source": [
    "sns.heatmap(data=df, xticklabels=True, cbar_kws={'label': 'log2(TPM)'})"
   ]
  },
  {
   "cell_type": "code",
   "execution_count": null,
   "id": "4c3756ee-0c2f-4a4b-a087-dbfea2a9d6c5",
   "metadata": {},
   "outputs": [],
   "source": []
  }
 ],
 "metadata": {
  "kernelspec": {
   "display_name": "Python 3",
   "language": "python",
   "name": "python3"
  },
  "language_info": {
   "codemirror_mode": {
    "name": "ipython",
    "version": 3
   },
   "file_extension": ".py",
   "mimetype": "text/x-python",
   "name": "python",
   "nbconvert_exporter": "python",
   "pygments_lexer": "ipython3",
   "version": "3.7.4"
  }
 },
 "nbformat": 4,
 "nbformat_minor": 5
}
