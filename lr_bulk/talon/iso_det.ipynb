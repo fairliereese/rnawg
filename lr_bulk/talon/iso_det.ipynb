{
 "cells": [
  {
   "cell_type": "code",
   "execution_count": 129,
   "id": "recognized-malawi",
   "metadata": {},
   "outputs": [],
   "source": [
    "import pandas as pd\n",
    "import numpy as np\n",
    "import scipy.stats as st\n",
    "import seaborn as sns\n",
    "import sys\n",
    "import os\n",
    "import gseapy as gp\n",
    "\n",
    "p = os.path.dirname(os.path.dirname(os.getcwd()))\n",
    "sys.path.append(p)\n",
    "\n",
    "from scripts.utils import *\n",
    "from scripts.plotting import *"
   ]
  },
  {
   "cell_type": "markdown",
   "id": "juvenile-research",
   "metadata": {},
   "source": [
    "## PolyA gene transcript detection"
   ]
  },
  {
   "cell_type": "markdown",
   "id": "special-collector",
   "metadata": {},
   "source": [
    "What fraction of polyA genes from the annotation do we detect with at least 1 known isoform >= 1 TPM in any library?"
   ]
  },
  {
   "cell_type": "code",
   "execution_count": 7,
   "id": "increased-colon",
   "metadata": {},
   "outputs": [
    {
     "name": "stdout",
     "output_type": "stream",
     "text": [
      "Calculating iso TPM values\n",
      "Subsetting for novelty categories ['Known']\n",
      "Subsetting for polya genes\n",
      "Enforcing minimum TPM\n",
      "Total # isos detected: 3556147\n",
      "# isos >= 1 tpm: 1384634\n",
      "Applying gene type and novelty subset\n",
      "Number of isos reported: 65469\n"
     ]
    }
   ],
   "source": [
    "df = pd.read_csv('human_talon_abundance.tsv', sep='\\t')\n",
    "df, tids = get_tpm_table(df,\n",
    "                   how='iso',\n",
    "                   nov=['Known'],\n",
    "                   min_tpm=1,\n",
    "                   gene_subset='polya')"
   ]
  },
  {
   "cell_type": "code",
   "execution_count": 8,
   "id": "enclosed-circumstances",
   "metadata": {},
   "outputs": [],
   "source": [
    "# merge with gene id\n",
    "gene_df = pd.read_csv('human_talon_abundance.tsv', sep='\\t')\n",
    "gene_df = gene_df[['annot_gene_id', 'annot_transcript_id']]\n",
    "df = df.merge(gene_df, how='left', left_index=True, right_on='annot_transcript_id')"
   ]
  },
  {
   "cell_type": "code",
   "execution_count": 9,
   "id": "african-shopper",
   "metadata": {},
   "outputs": [
    {
     "name": "stdout",
     "output_type": "stream",
     "text": [
      "Detected 23073 / 49472 annotated polyA genes w/ at least 1 known transcript >= 1 TPM\n"
     ]
    }
   ],
   "source": [
    "gene_df, _, _ = get_gtf_info(how='gene')\n",
    "\n",
    "polya_biotypes = ['protein_coding', 'pseudogene', 'lncRNA']\n",
    "polya_genes = gene_df.loc[gene_df.biotype_category.isin(polya_biotypes), 'gid'].tolist()\n",
    "n_polya = len(polya_genes)\n",
    "n_det_polya = len(df.annot_gene_id.unique().tolist())\n",
    "\n",
    "print('Detected {} / {} annotated polyA genes w/ at least 1 known transcript >= 1 TPM'.format(n_det_polya, n_polya))"
   ]
  },
  {
   "cell_type": "markdown",
   "id": "american-wireless",
   "metadata": {},
   "source": [
    "## TF gene transcript detection"
   ]
  },
  {
   "cell_type": "markdown",
   "id": "associate-consistency",
   "metadata": {},
   "source": [
    "What fraction of TF genes from the annotation do we detect with at least 1 known isoform >= 1 TPM in any library?"
   ]
  },
  {
   "cell_type": "code",
   "execution_count": 10,
   "id": "rolled-tradition",
   "metadata": {},
   "outputs": [
    {
     "name": "stdout",
     "output_type": "stream",
     "text": [
      "Calculating iso TPM values\n",
      "Subsetting for novelty categories ['Known']\n",
      "Subsetting for tf genes\n",
      "Enforcing minimum TPM\n",
      "Total # isos detected: 156027\n",
      "# isos >= 1 tpm: 141390\n",
      "Applying gene type and novelty subset\n",
      "Number of isos reported: 4304\n",
      "Detected 1271 / 1419 annotated TF genes w/ at least 1 known transcript >= 1 TPM\n"
     ]
    }
   ],
   "source": [
    "df = pd.read_csv('human_talon_abundance_filtered.tsv', sep='\\t')\n",
    "df, tids = get_tpm_table(df,\n",
    "                   how='iso',\n",
    "                   nov=['Known'],\n",
    "                   min_tpm=1,\n",
    "                   gene_subset='tf')\n",
    "\n",
    "# merge with gene id\n",
    "gene_df = pd.read_csv('human_talon_abundance.tsv', sep='\\t')\n",
    "gene_df = gene_df[['annot_gene_id', 'annot_transcript_id']]\n",
    "df = df.merge(gene_df, how='left', left_index=True, right_on='annot_transcript_id')\n",
    "\n",
    "gene_df, _, _ = get_gtf_info(how='gene', subset='tf')\n",
    "\n",
    "n_tf = len(gene_df.index)\n",
    "n_det_tf = len(df.annot_gene_id.unique().tolist())\n",
    "\n",
    "print('Detected {} / {} annotated TF genes w/ at least 1 known transcript >= 1 TPM'.format(n_det_tf, n_tf))"
   ]
  },
  {
   "cell_type": "markdown",
   "id": "cognitive-teacher",
   "metadata": {},
   "source": [
    "Which TF has the most isoforms overall? "
   ]
  },
  {
   "cell_type": "code",
   "execution_count": 7,
   "id": "moving-theater",
   "metadata": {},
   "outputs": [
    {
     "name": "stdout",
     "output_type": "stream",
     "text": [
      "Calculating iso TPM values\n",
      "Subsetting for novelty categories ['Known', 'NIC', 'NNC']\n",
      "Subsetting for tf genes\n",
      "Enforcing minimum TPM\n",
      "Total # isos detected: 156027\n",
      "# isos >= 1 tpm: 141390\n",
      "Applying gene type and novelty subset\n",
      "Number of isos reported: 5201\n"
     ]
    },
    {
     "data": {
      "text/html": [
       "<div>\n",
       "<style scoped>\n",
       "    .dataframe tbody tr th:only-of-type {\n",
       "        vertical-align: middle;\n",
       "    }\n",
       "\n",
       "    .dataframe tbody tr th {\n",
       "        vertical-align: top;\n",
       "    }\n",
       "\n",
       "    .dataframe thead th {\n",
       "        text-align: right;\n",
       "    }\n",
       "</style>\n",
       "<table border=\"1\" class=\"dataframe\">\n",
       "  <thead>\n",
       "    <tr style=\"text-align: right;\">\n",
       "      <th></th>\n",
       "      <th>all</th>\n",
       "      <th>gid</th>\n",
       "      <th>gname</th>\n",
       "    </tr>\n",
       "  </thead>\n",
       "  <tbody>\n",
       "    <tr>\n",
       "      <th>296</th>\n",
       "      <td>27</td>\n",
       "      <td>ENSG00000074800.15</td>\n",
       "      <td>ENO1</td>\n",
       "    </tr>\n",
       "    <tr>\n",
       "      <th>28813</th>\n",
       "      <td>25</td>\n",
       "      <td>ENSG00000095794.19</td>\n",
       "      <td>CREM</td>\n",
       "    </tr>\n",
       "    <tr>\n",
       "      <th>50804</th>\n",
       "      <td>24</td>\n",
       "      <td>ENSG00000181666.17</td>\n",
       "      <td>HKR1</td>\n",
       "    </tr>\n",
       "    <tr>\n",
       "      <th>16169</th>\n",
       "      <td>23</td>\n",
       "      <td>ENSG00000081189.15</td>\n",
       "      <td>MEF2C</td>\n",
       "    </tr>\n",
       "    <tr>\n",
       "      <th>48103</th>\n",
       "      <td>21</td>\n",
       "      <td>ENSG00000177426.20</td>\n",
       "      <td>TGIF1</td>\n",
       "    </tr>\n",
       "    <tr>\n",
       "      <th>48846</th>\n",
       "      <td>21</td>\n",
       "      <td>ENSG00000196628.16</td>\n",
       "      <td>TCF4</td>\n",
       "    </tr>\n",
       "    <tr>\n",
       "      <th>10481</th>\n",
       "      <td>21</td>\n",
       "      <td>ENSG00000114861.20</td>\n",
       "      <td>FOXP1</td>\n",
       "    </tr>\n",
       "    <tr>\n",
       "      <th>50642</th>\n",
       "      <td>20</td>\n",
       "      <td>ENSG00000089335.20</td>\n",
       "      <td>ZNF302</td>\n",
       "    </tr>\n",
       "    <tr>\n",
       "      <th>30665</th>\n",
       "      <td>20</td>\n",
       "      <td>ENSG00000005801.17</td>\n",
       "      <td>ZNF195</td>\n",
       "    </tr>\n",
       "    <tr>\n",
       "      <th>22371</th>\n",
       "      <td>19</td>\n",
       "      <td>ENSG00000197343.10</td>\n",
       "      <td>ZNF655</td>\n",
       "    </tr>\n",
       "  </tbody>\n",
       "</table>\n",
       "</div>"
      ],
      "text/plain": [
       "       all                 gid   gname\n",
       "296     27  ENSG00000074800.15    ENO1\n",
       "28813   25  ENSG00000095794.19    CREM\n",
       "50804   24  ENSG00000181666.17    HKR1\n",
       "16169   23  ENSG00000081189.15   MEF2C\n",
       "48103   21  ENSG00000177426.20   TGIF1\n",
       "48846   21  ENSG00000196628.16    TCF4\n",
       "10481   21  ENSG00000114861.20   FOXP1\n",
       "50642   20  ENSG00000089335.20  ZNF302\n",
       "30665   20  ENSG00000005801.17  ZNF195\n",
       "22371   19  ENSG00000197343.10  ZNF655"
      ]
     },
     "execution_count": 7,
     "metadata": {},
     "output_type": "execute_result"
    }
   ],
   "source": [
    "df = pd.read_csv('human_talon_abundance_filtered.tsv', sep='\\t')\n",
    "df = get_isos_per_gene(df,\n",
    "                       min_tpm=1,\n",
    "                       gene_subset='tf',\n",
    "                       groupby='all', \n",
    "                       nov=['Known', 'NIC', 'NNC'])\n",
    "gene_df, _, _ = get_gtf_info(how='gene')\n",
    "df = df.merge(gene_df[['gid', 'gname']], \n",
    "              how='left', \n",
    "              left_index=True, \n",
    "              right_on='gid')\n",
    "df = df.sort_values(by='all', ascending=False)\n",
    "df.head(10)"
   ]
  },
  {
   "cell_type": "markdown",
   "id": "organized-bidder",
   "metadata": {},
   "source": [
    "Which TF has the most isoforms expressed in a single sample? "
   ]
  },
  {
   "cell_type": "code",
   "execution_count": 8,
   "id": "crucial-jersey",
   "metadata": {},
   "outputs": [
    {
     "name": "stdout",
     "output_type": "stream",
     "text": [
      "Calculating iso TPM values\n",
      "Subsetting for novelty categories ['Known', 'NIC', 'NNC']\n",
      "Subsetting for tf genes\n",
      "Enforcing minimum TPM\n",
      "Total # isos detected: 156027\n",
      "# isos >= 1 tpm: 141390\n",
      "Applying gene type and novelty subset\n",
      "Number of isos reported: 5201\n",
      "Found 31 total samples\n"
     ]
    },
    {
     "data": {
      "text/html": [
       "<div>\n",
       "<style scoped>\n",
       "    .dataframe tbody tr th:only-of-type {\n",
       "        vertical-align: middle;\n",
       "    }\n",
       "\n",
       "    .dataframe tbody tr th {\n",
       "        vertical-align: top;\n",
       "    }\n",
       "\n",
       "    .dataframe thead th {\n",
       "        text-align: right;\n",
       "    }\n",
       "</style>\n",
       "<table border=\"1\" class=\"dataframe\">\n",
       "  <thead>\n",
       "    <tr style=\"text-align: right;\">\n",
       "      <th></th>\n",
       "      <th>max_sample</th>\n",
       "      <th>gid</th>\n",
       "      <th>gname</th>\n",
       "    </tr>\n",
       "  </thead>\n",
       "  <tbody>\n",
       "    <tr>\n",
       "      <th>296</th>\n",
       "      <td>25.0</td>\n",
       "      <td>ENSG00000074800.15</td>\n",
       "      <td>ENO1</td>\n",
       "    </tr>\n",
       "    <tr>\n",
       "      <th>28813</th>\n",
       "      <td>21.0</td>\n",
       "      <td>ENSG00000095794.19</td>\n",
       "      <td>CREM</td>\n",
       "    </tr>\n",
       "    <tr>\n",
       "      <th>50804</th>\n",
       "      <td>20.0</td>\n",
       "      <td>ENSG00000181666.17</td>\n",
       "      <td>HKR1</td>\n",
       "    </tr>\n",
       "    <tr>\n",
       "      <th>15672</th>\n",
       "      <td>18.0</td>\n",
       "      <td>ENSG00000062194.15</td>\n",
       "      <td>GPBP1</td>\n",
       "    </tr>\n",
       "    <tr>\n",
       "      <th>50642</th>\n",
       "      <td>17.0</td>\n",
       "      <td>ENSG00000089335.20</td>\n",
       "      <td>ZNF302</td>\n",
       "    </tr>\n",
       "    <tr>\n",
       "      <th>38047</th>\n",
       "      <td>17.0</td>\n",
       "      <td>ENSG00000198176.12</td>\n",
       "      <td>TFDP1</td>\n",
       "    </tr>\n",
       "    <tr>\n",
       "      <th>48846</th>\n",
       "      <td>17.0</td>\n",
       "      <td>ENSG00000196628.16</td>\n",
       "      <td>TCF4</td>\n",
       "    </tr>\n",
       "    <tr>\n",
       "      <th>48103</th>\n",
       "      <td>16.0</td>\n",
       "      <td>ENSG00000177426.20</td>\n",
       "      <td>TGIF1</td>\n",
       "    </tr>\n",
       "    <tr>\n",
       "      <th>30533</th>\n",
       "      <td>16.0</td>\n",
       "      <td>ENSG00000185507.20</td>\n",
       "      <td>IRF7</td>\n",
       "    </tr>\n",
       "    <tr>\n",
       "      <th>10481</th>\n",
       "      <td>16.0</td>\n",
       "      <td>ENSG00000114861.20</td>\n",
       "      <td>FOXP1</td>\n",
       "    </tr>\n",
       "  </tbody>\n",
       "</table>\n",
       "</div>"
      ],
      "text/plain": [
       "       max_sample                 gid   gname\n",
       "296          25.0  ENSG00000074800.15    ENO1\n",
       "28813        21.0  ENSG00000095794.19    CREM\n",
       "50804        20.0  ENSG00000181666.17    HKR1\n",
       "15672        18.0  ENSG00000062194.15   GPBP1\n",
       "50642        17.0  ENSG00000089335.20  ZNF302\n",
       "38047        17.0  ENSG00000198176.12   TFDP1\n",
       "48846        17.0  ENSG00000196628.16    TCF4\n",
       "48103        16.0  ENSG00000177426.20   TGIF1\n",
       "30533        16.0  ENSG00000185507.20    IRF7\n",
       "10481        16.0  ENSG00000114861.20   FOXP1"
      ]
     },
     "execution_count": 8,
     "metadata": {},
     "output_type": "execute_result"
    }
   ],
   "source": [
    "df = pd.read_csv('human_talon_abundance_filtered.tsv', sep='\\t')\n",
    "df = get_isos_per_gene(df,\n",
    "                       min_tpm=1,\n",
    "                       gene_subset='tf',\n",
    "                       groupby='sample', \n",
    "                       nov=['Known', 'NIC', 'NNC'])\n",
    "df['max_sample'] = df.max(1)\n",
    "df = df['max_sample'].to_frame()\n",
    "\n",
    "gene_df, _, _ = get_gtf_info(how='gene')\n",
    "df = df.merge(gene_df[['gid', 'gname']], \n",
    "              how='left', \n",
    "              left_index=True, \n",
    "              right_on='gid')\n",
    "\n",
    "df = df.sort_values(by='max_sample', ascending=False)\n",
    "df.head(10)"
   ]
  },
  {
   "cell_type": "markdown",
   "id": "associate-consent",
   "metadata": {},
   "source": [
    "## Protein coding gene transcript detection"
   ]
  },
  {
   "cell_type": "markdown",
   "id": "turned-christmas",
   "metadata": {},
   "source": [
    "What fraction of protein-coding genes do we detect with at least 1 known isoform >= 1 TPM in any library?"
   ]
  },
  {
   "cell_type": "code",
   "execution_count": 11,
   "id": "closed-currency",
   "metadata": {},
   "outputs": [
    {
     "name": "stdout",
     "output_type": "stream",
     "text": [
      "Calculating iso TPM values\n",
      "Subsetting for novelty categories ['Known']\n",
      "Enforcing minimum TPM\n",
      "Total # isos detected: 3556147\n",
      "# isos >= 1 tpm: 1384634\n",
      "Applying gene type and novelty subset\n",
      "Number of isos reported: 67059\n"
     ]
    }
   ],
   "source": [
    "df = pd.read_csv('human_talon_abundance.tsv', sep='\\t')\n",
    "# no gene subset here so we can look at all other genes\n",
    "df, tids = get_tpm_table(df,\n",
    "                   how='iso',\n",
    "                   nov=['Known'],\n",
    "                   min_tpm=1)"
   ]
  },
  {
   "cell_type": "code",
   "execution_count": 12,
   "id": "worthy-advance",
   "metadata": {},
   "outputs": [],
   "source": [
    "# merge with gene id\n",
    "gene_df = pd.read_csv('human_talon_abundance.tsv', sep='\\t')\n",
    "gene_df = gene_df[['annot_gene_id', 'annot_transcript_id']]\n",
    "df = df.merge(gene_df, how='left', left_index=True, right_on='annot_transcript_id')"
   ]
  },
  {
   "cell_type": "code",
   "execution_count": 13,
   "id": "parental-deployment",
   "metadata": {},
   "outputs": [],
   "source": [
    "gene_df, b_counts, b_cat_counts = get_gtf_info(how='gene')\n",
    "df = df.merge(gene_df, how='left', left_on='annot_gene_id', right_on='gid')"
   ]
  },
  {
   "cell_type": "code",
   "execution_count": 14,
   "id": "worthy-lodging",
   "metadata": {},
   "outputs": [
    {
     "data": {
      "text/html": [
       "<div>\n",
       "<style scoped>\n",
       "    .dataframe tbody tr th:only-of-type {\n",
       "        vertical-align: middle;\n",
       "    }\n",
       "\n",
       "    .dataframe tbody tr th {\n",
       "        vertical-align: top;\n",
       "    }\n",
       "\n",
       "    .dataframe thead th {\n",
       "        text-align: right;\n",
       "    }\n",
       "</style>\n",
       "<table border=\"1\" class=\"dataframe\">\n",
       "  <thead>\n",
       "    <tr style=\"text-align: right;\">\n",
       "      <th></th>\n",
       "      <th>biotype_category</th>\n",
       "      <th>detected_counts</th>\n",
       "      <th>gencode_counts</th>\n",
       "      <th>prop_detected</th>\n",
       "    </tr>\n",
       "  </thead>\n",
       "  <tbody>\n",
       "    <tr>\n",
       "      <th>3</th>\n",
       "      <td>protein_coding</td>\n",
       "      <td>16656</td>\n",
       "      <td>19969</td>\n",
       "      <td>0.834093</td>\n",
       "    </tr>\n",
       "    <tr>\n",
       "      <th>0</th>\n",
       "      <td>lncRNA</td>\n",
       "      <td>4087</td>\n",
       "      <td>15006</td>\n",
       "      <td>0.272358</td>\n",
       "    </tr>\n",
       "    <tr>\n",
       "      <th>2</th>\n",
       "      <td>other</td>\n",
       "      <td>1339</td>\n",
       "      <td>7426</td>\n",
       "      <td>0.180312</td>\n",
       "    </tr>\n",
       "    <tr>\n",
       "      <th>4</th>\n",
       "      <td>pseudogene</td>\n",
       "      <td>2330</td>\n",
       "      <td>14497</td>\n",
       "      <td>0.160723</td>\n",
       "    </tr>\n",
       "    <tr>\n",
       "      <th>1</th>\n",
       "      <td>miRNA</td>\n",
       "      <td>246</td>\n",
       "      <td>1881</td>\n",
       "      <td>0.130781</td>\n",
       "    </tr>\n",
       "  </tbody>\n",
       "</table>\n",
       "</div>"
      ],
      "text/plain": [
       "  biotype_category  detected_counts  gencode_counts  prop_detected\n",
       "3   protein_coding            16656           19969       0.834093\n",
       "0           lncRNA             4087           15006       0.272358\n",
       "2            other             1339            7426       0.180312\n",
       "4       pseudogene             2330           14497       0.160723\n",
       "1            miRNA              246            1881       0.130781"
      ]
     },
     "execution_count": 14,
     "metadata": {},
     "output_type": "execute_result"
    }
   ],
   "source": [
    "#### temp = df[['gid', 'biotype_category']].drop_duplicates().groupby('biotype_category').count()\n",
    "temp.reset_index(inplace=True)\n",
    "temp.rename({'gid': 'detected_counts'}, axis=1, inplace=True)\n",
    "\n",
    "temp = temp.merge(b_cat_counts, on='biotype_category', how='outer')\n",
    "temp['prop_detected'] = temp.detected_counts/temp.gencode_counts\n",
    "temp.sort_values(by='prop_detected', ascending=False, inplace=True)\n",
    "temp"
   ]
  },
  {
   "cell_type": "markdown",
   "id": "failing-tender",
   "metadata": {},
   "source": [
    "## What fraction of protein coding gene transcripts do we detect?"
   ]
  },
  {
   "cell_type": "markdown",
   "id": "opposite-papua",
   "metadata": {},
   "source": [
    "Of the transcripts associated with protein coding genes GENCODE, how many do we detect >=1 TPM?"
   ]
  },
  {
   "cell_type": "code",
   "execution_count": 15,
   "id": "greater-system",
   "metadata": {},
   "outputs": [
    {
     "name": "stdout",
     "output_type": "stream",
     "text": [
      "Calculating iso TPM values\n",
      "Subsetting for novelty categories ['Known']\n",
      "Subsetting for polya genes\n",
      "Enforcing minimum TPM\n",
      "Total # isos detected: 3556147\n",
      "# isos >= 1 tpm: 1384634\n",
      "Applying gene type and novelty subset\n",
      "Number of isos reported: 65469\n"
     ]
    }
   ],
   "source": [
    "df = pd.read_csv('human_talon_abundance.tsv', sep='\\t')\n",
    "df, tids = get_tpm_table(df,\n",
    "                   how='iso',\n",
    "                   nov=['Known'],\n",
    "                   min_tpm=1,\n",
    "                   gene_subset='polya')"
   ]
  },
  {
   "cell_type": "code",
   "execution_count": 16,
   "id": "foreign-avenue",
   "metadata": {},
   "outputs": [],
   "source": [
    "t_df, b_counts, b_cat_counts = get_gtf_info(how='iso')\n",
    "df = df.merge(t_df, how='left', left_index=True, right_on='tid')"
   ]
  },
  {
   "cell_type": "code",
   "execution_count": 17,
   "id": "brief-information",
   "metadata": {},
   "outputs": [
    {
     "data": {
      "text/html": [
       "<div>\n",
       "<style scoped>\n",
       "    .dataframe tbody tr th:only-of-type {\n",
       "        vertical-align: middle;\n",
       "    }\n",
       "\n",
       "    .dataframe tbody tr th {\n",
       "        vertical-align: top;\n",
       "    }\n",
       "\n",
       "    .dataframe thead th {\n",
       "        text-align: right;\n",
       "    }\n",
       "</style>\n",
       "<table border=\"1\" class=\"dataframe\">\n",
       "  <thead>\n",
       "    <tr style=\"text-align: right;\">\n",
       "      <th></th>\n",
       "      <th>biotype_category</th>\n",
       "      <th>detected_counts</th>\n",
       "      <th>gencode_counts</th>\n",
       "      <th>prop_detected</th>\n",
       "    </tr>\n",
       "  </thead>\n",
       "  <tbody>\n",
       "    <tr>\n",
       "      <th>1</th>\n",
       "      <td>protein_coding</td>\n",
       "      <td>56835.0</td>\n",
       "      <td>151259</td>\n",
       "      <td>0.375746</td>\n",
       "    </tr>\n",
       "    <tr>\n",
       "      <th>0</th>\n",
       "      <td>lncRNA</td>\n",
       "      <td>5891.0</td>\n",
       "      <td>28478</td>\n",
       "      <td>0.206861</td>\n",
       "    </tr>\n",
       "    <tr>\n",
       "      <th>2</th>\n",
       "      <td>pseudogene</td>\n",
       "      <td>2743.0</td>\n",
       "      <td>17657</td>\n",
       "      <td>0.155349</td>\n",
       "    </tr>\n",
       "    <tr>\n",
       "      <th>3</th>\n",
       "      <td>miRNA</td>\n",
       "      <td>NaN</td>\n",
       "      <td>1881</td>\n",
       "      <td>NaN</td>\n",
       "    </tr>\n",
       "    <tr>\n",
       "      <th>4</th>\n",
       "      <td>other</td>\n",
       "      <td>NaN</td>\n",
       "      <td>7486</td>\n",
       "      <td>NaN</td>\n",
       "    </tr>\n",
       "  </tbody>\n",
       "</table>\n",
       "</div>"
      ],
      "text/plain": [
       "  biotype_category  detected_counts  gencode_counts  prop_detected\n",
       "1   protein_coding          56835.0          151259       0.375746\n",
       "0           lncRNA           5891.0           28478       0.206861\n",
       "2       pseudogene           2743.0           17657       0.155349\n",
       "3            miRNA              NaN            1881            NaN\n",
       "4            other              NaN            7486            NaN"
      ]
     },
     "execution_count": 17,
     "metadata": {},
     "output_type": "execute_result"
    }
   ],
   "source": [
    "temp = df[['tid', 'biotype_category']].groupby('biotype_category').count()\n",
    "temp.reset_index(inplace=True)\n",
    "temp.rename({'tid': 'detected_counts'}, axis=1, inplace=True)\n",
    "\n",
    "temp = temp.merge(b_cat_counts, on='biotype_category', how='outer')\n",
    "temp['prop_detected'] = temp.detected_counts/temp.gencode_counts\n",
    "temp.sort_values(by='prop_detected', ascending=False, inplace=True)\n",
    "temp"
   ]
  },
  {
   "cell_type": "markdown",
   "id": "confident-commodity",
   "metadata": {},
   "source": [
    "## Characteristics of detected known, polyA gene associated transcripts"
   ]
  },
  {
   "cell_type": "markdown",
   "id": "median-august",
   "metadata": {},
   "source": [
    "## Number of cell types or tissues that each known transcript from polyA genes is expressed >= 1 TPM"
   ]
  },
  {
   "cell_type": "code",
   "execution_count": 9,
   "id": "spiritual-marathon",
   "metadata": {},
   "outputs": [
    {
     "name": "stdout",
     "output_type": "stream",
     "text": [
      "Calculating iso TPM values\n",
      "Subsetting for novelty categories ['Known']\n",
      "Subsetting for polya genes\n",
      "Enforcing minimum TPM\n",
      "Total # isos detected: 3556147\n",
      "# isos >= 1 tpm: 1384634\n",
      "Applying gene type and novelty subset\n",
      "Number of isos reported: 65469\n",
      "Found 31 total samples\n"
     ]
    },
    {
     "data": {
      "image/png": "[encoded data removed]",
      "text/plain": [
       "<Figure size 360x360 with 1 Axes>"
      ]
     },
     "metadata": {
      "needs_background": "light"
     },
     "output_type": "display_data"
    }
   ],
   "source": [
    "df = pd.read_csv('human_talon_abundance.tsv', sep='\\t')\n",
    "df = plot_biosamp_det(df,\n",
    "                      how='iso',\n",
    "                      min_tpm=1,\n",
    "                      gene_subset='polya',\n",
    "                      sample=None,\n",
    "                      groupby='sample',\n",
    "                      nov='Known',\n",
    "                      opref='figures/human')"
   ]
  },
  {
   "cell_type": "code",
   "execution_count": 19,
   "id": "bulgarian-manitoba",
   "metadata": {},
   "outputs": [
    {
     "name": "stdout",
     "output_type": "stream",
     "text": [
      "29214 / 65469 (44.6%) transcripts are expressed in <= 4 samples\n",
      "14674 / 65469 (22.4%) transcripts are expressed in >= 20 samples\n"
     ]
    }
   ],
   "source": [
    "specific_thresh = 4\n",
    "ubiq_thresh = 20\n",
    "\n",
    "n_iso = len(df.index)\n",
    "n_specific = len(df.loc[df.n_samples <= specific_thresh].index)\n",
    "n_ubiq = len(df.loc[df.n_samples >= ubiq_thresh].index)\n",
    "\n",
    "print('{} / {} ({:.1f}%) transcripts are expressed in <= {} samples'.format(n_specific, n_iso, (n_specific/n_iso)*100, specific_thresh))\n",
    "print('{} / {} ({:.1f}%) transcripts are expressed in >= {} samples'.format(n_ubiq, n_iso, (n_ubiq/n_iso)*100, ubiq_thresh))"
   ]
  },
  {
   "cell_type": "markdown",
   "id": "eleven-discount",
   "metadata": {},
   "source": [
    "## Length of transcripts from polyA genes detected >= 1 TPM"
   ]
  },
  {
   "cell_type": "code",
   "execution_count": 20,
   "id": "vital-split",
   "metadata": {},
   "outputs": [
    {
     "name": "stdout",
     "output_type": "stream",
     "text": [
      "Calculating iso TPM values\n",
      "Subsetting for novelty categories ['Known']\n",
      "Subsetting for polya genes\n",
      "Enforcing minimum TPM\n",
      "Total # isos detected: 156027\n",
      "# isos >= 1 tpm: 141390\n",
      "Applying gene type and novelty subset\n",
      "Number of isos reported: 68897\n"
     ]
    },
    {
     "data": {
      "image/png": "[encoded data removed]",
      "text/plain": [
       "<Figure size 467.36x360 with 1 Axes>"
      ]
     },
     "metadata": {
      "needs_background": "light"
     },
     "output_type": "display_data"
    }
   ],
   "source": [
    "df = pd.read_csv('human_talon_abundance_filtered.tsv', sep='\\t')\n",
    "df = plot_det_len_kde(df, \n",
    "                      how='iso', \n",
    "                      subset='polya',\n",
    "                      min_tpm=1,\n",
    "                      xlim=10000,\n",
    "                      opref='figures/')"
   ]
  },
  {
   "cell_type": "code",
   "execution_count": 21,
   "id": "conventional-iceland",
   "metadata": {},
   "outputs": [
    {
     "data": {
      "text/plain": [
       "<seaborn.axisgrid.FacetGrid at 0x7f8b5f007e50>"
      ]
     },
     "execution_count": 21,
     "metadata": {},
     "output_type": "execute_result"
    },
    {
     "data": {
      "image/png": "[encoded data removed]",
      "text/plain": [
       "<Figure size 606.985x360 with 1 Axes>"
      ]
     },
     "metadata": {
      "needs_background": "light"
     },
     "output_type": "display_data"
    }
   ],
   "source": [
    "df['det_biotype'] = df.detected.astype('str')+'_'+df.biotype_category\n",
    "ax = sns.displot(data=df, x='t_len', kind='kde',\n",
    "                     linewidth=3, hue='det_biotype', common_norm=True)\n",
    "ax.set(xlim=(0,10000))"
   ]
  },
  {
   "cell_type": "markdown",
   "id": "induced-beverage",
   "metadata": {},
   "source": [
    "What is the longest detected transcript with more than one exon?"
   ]
  },
  {
   "cell_type": "code",
   "execution_count": 22,
   "id": "mexican-manor",
   "metadata": {},
   "outputs": [],
   "source": [
    "t_df = pd.read_csv('human_talon_abundance_filtered.tsv', sep='\\t')\n",
    "t_df = t_df[['annot_transcript_id', 'n_exons']]"
   ]
  },
  {
   "cell_type": "code",
   "execution_count": 23,
   "id": "peripheral-worth",
   "metadata": {},
   "outputs": [],
   "source": [
    "df = df.merge(t_df, how='left', on='annot_transcript_id')"
   ]
  },
  {
   "cell_type": "code",
   "execution_count": 24,
   "id": "adult-military",
   "metadata": {},
   "outputs": [
    {
     "name": "stdout",
     "output_type": "stream",
     "text": [
      "37852\n"
     ]
    }
   ],
   "source": [
    "n = df.loc[(df.detected == True)&(df.n_exons > 1), 't_len'].max()\n",
    "print(n)"
   ]
  },
  {
   "cell_type": "code",
   "execution_count": 25,
   "id": "pressed-elite",
   "metadata": {},
   "outputs": [
    {
     "data": {
      "text/html": [
       "<div>\n",
       "<style scoped>\n",
       "    .dataframe tbody tr th:only-of-type {\n",
       "        vertical-align: middle;\n",
       "    }\n",
       "\n",
       "    .dataframe tbody tr th {\n",
       "        vertical-align: top;\n",
       "    }\n",
       "\n",
       "    .dataframe thead th {\n",
       "        text-align: right;\n",
       "    }\n",
       "</style>\n",
       "<table border=\"1\" class=\"dataframe\">\n",
       "  <thead>\n",
       "    <tr style=\"text-align: right;\">\n",
       "      <th></th>\n",
       "      <th>annot_transcript_id</th>\n",
       "      <th>tid</th>\n",
       "      <th>t_len</th>\n",
       "      <th>gid</th>\n",
       "      <th>biotype</th>\n",
       "      <th>biotype_category</th>\n",
       "      <th>tf</th>\n",
       "      <th>detected</th>\n",
       "      <th>det_biotype</th>\n",
       "      <th>n_exons</th>\n",
       "    </tr>\n",
       "  </thead>\n",
       "  <tbody>\n",
       "    <tr>\n",
       "      <th>65322</th>\n",
       "      <td>ENST00000458178.2</td>\n",
       "      <td>ENST00000458178.2</td>\n",
       "      <td>37852</td>\n",
       "      <td>ENSG00000224086.5</td>\n",
       "      <td>antisense</td>\n",
       "      <td>lncRNA</td>\n",
       "      <td>False</td>\n",
       "      <td>True</td>\n",
       "      <td>True_lncRNA</td>\n",
       "      <td>2.0</td>\n",
       "    </tr>\n",
       "  </tbody>\n",
       "</table>\n",
       "</div>"
      ],
      "text/plain": [
       "      annot_transcript_id                tid  t_len                gid  \\\n",
       "65322   ENST00000458178.2  ENST00000458178.2  37852  ENSG00000224086.5   \n",
       "\n",
       "         biotype biotype_category     tf  detected  det_biotype  n_exons  \n",
       "65322  antisense           lncRNA  False      True  True_lncRNA      2.0  "
      ]
     },
     "execution_count": 25,
     "metadata": {},
     "output_type": "execute_result"
    }
   ],
   "source": [
    "df.loc[df.t_len == 37852]"
   ]
  },
  {
   "cell_type": "markdown",
   "id": "thrown-perry",
   "metadata": {},
   "source": [
    "## Variance in TPM levels >= 1 TPM for known transcripts detected >= 1 TPM"
   ]
  },
  {
   "cell_type": "code",
   "execution_count": 26,
   "id": "acute-variance",
   "metadata": {},
   "outputs": [
    {
     "name": "stdout",
     "output_type": "stream",
     "text": [
      "Calculating iso TPM values\n",
      "Subsetting for novelty categories ['Known']\n",
      "Subsetting for polya genes\n",
      "Enforcing minimum TPM\n",
      "Total # isos detected: 3556147\n",
      "# isos >= 1 tpm: 1384634\n",
      "Applying gene type and novelty subset\n",
      "Number of isos reported: 65469\n"
     ]
    }
   ],
   "source": [
    "df = pd.read_csv('human_talon_abundance.tsv', sep='\\t')\n",
    "df = get_tpm_table(df,\n",
    "                   how='iso',\n",
    "                   nov=['Known'],\n",
    "                   min_tpm=1,\n",
    "                   gene_subset='polya')"
   ]
  },
  {
   "cell_type": "markdown",
   "id": "legislative-friend",
   "metadata": {},
   "source": [
    "## How many known polyA transcripts do we detect?"
   ]
  },
  {
   "cell_type": "code",
   "execution_count": 29,
   "id": "dying-porcelain",
   "metadata": {},
   "outputs": [
    {
     "name": "stdout",
     "output_type": "stream",
     "text": [
      "Calculating iso TPM values\n",
      "Subsetting for novelty categories ['Known']\n",
      "Subsetting for polya genes\n",
      "Enforcing minimum TPM\n",
      "Total # isos detected: 3556147\n",
      "# isos >= 1 tpm: 1384634\n",
      "Applying gene type and novelty subset\n",
      "Number of isos reported: 65469\n"
     ]
    }
   ],
   "source": [
    "df = pd.read_csv('human_talon_abundance.tsv', sep='\\t')\n",
    "df, _ = get_tpm_table(df,\n",
    "                   how='iso',\n",
    "                   nov=['Known'],\n",
    "                   min_tpm=1,\n",
    "                   gene_subset='polya')"
   ]
  },
  {
   "cell_type": "code",
   "execution_count": 30,
   "id": "suitable-christian",
   "metadata": {},
   "outputs": [],
   "source": [
    "# merge with transcript len\n",
    "t_df, b_counts, c_counts = get_gtf_info(how='iso')\n",
    "df = df.merge(t_df, how='left', left_index=True, right_on='tid')"
   ]
  },
  {
   "cell_type": "code",
   "execution_count": 31,
   "id": "historic-german",
   "metadata": {},
   "outputs": [
    {
     "name": "stdout",
     "output_type": "stream",
     "text": [
      "Detected 65469 / 197394 annotated transcripts from polyA genes >= 1 TPM\n"
     ]
    }
   ],
   "source": [
    "polya_biotypes = ['protein_coding', 'pseudogene', 'lncRNA']\n",
    "n_det_polya = len(df.index)\n",
    "n_known_polya = c_counts.loc[c_counts.biotype_category.isin(polya_biotypes), 'gencode_counts'].sum()\n",
    "print('Detected {} / {} annotated transcripts from polyA genes >= 1 TPM'.format(n_det_polya, n_known_polya))"
   ]
  },
  {
   "cell_type": "markdown",
   "id": "invisible-brisbane",
   "metadata": {},
   "source": [
    "## How many complete isoforms do we detect?"
   ]
  },
  {
   "cell_type": "code",
   "execution_count": 32,
   "id": "former-fifteen",
   "metadata": {},
   "outputs": [
    {
     "name": "stdout",
     "output_type": "stream",
     "text": [
      "Calculating iso TPM values\n",
      "Subsetting for novelty categories ['Known', 'NIC', 'NNC']\n",
      "Subsetting for polya genes\n",
      "Enforcing minimum TPM\n",
      "Total # isos detected: 156027\n",
      "# isos >= 1 tpm: 141390\n",
      "Applying gene type and novelty subset\n",
      "Number of isos reported: 92963\n"
     ]
    }
   ],
   "source": [
    "df = pd.read_csv('human_talon_abundance_filtered.tsv', sep='\\t')\n",
    "df, tids = get_tpm_table(df,\n",
    "                   how='iso',\n",
    "                   nov=['Known', 'NIC', 'NNC'],\n",
    "                   min_tpm=1,\n",
    "                   gene_subset='polya')"
   ]
  },
  {
   "cell_type": "code",
   "execution_count": 33,
   "id": "covered-acoustic",
   "metadata": {},
   "outputs": [
    {
     "name": "stdout",
     "output_type": "stream",
     "text": [
      "  transcript_novelty  counts\n",
      "0              Known   68897\n",
      "1                NIC   18270\n",
      "2                NNC    5796\n",
      "Number of complete isoforms: 92963\n"
     ]
    },
    {
     "data": {
      "text/plain": [
       "<Figure size 288x432 with 0 Axes>"
      ]
     },
     "metadata": {},
     "output_type": "display_data"
    },
    {
     "data": {
      "image/png": "[encoded data removed]",
      "text/plain": [
       "<Figure size 360x360 with 1 Axes>"
      ]
     },
     "metadata": {
      "needs_background": "light"
     },
     "output_type": "display_data"
    },
    {
     "data": {
      "text/plain": [
       "<Figure size 432x288 with 0 Axes>"
      ]
     },
     "metadata": {},
     "output_type": "display_data"
    }
   ],
   "source": [
    "df = pd.read_csv('human_talon_abundance_filtered.tsv', sep='\\t')\n",
    "plot_transcript_novelty(df,\n",
    "                        oprefix='figures/complete_det',\n",
    "                        whitelist=tids,\n",
    "                        novs=['Known', 'NIC', 'NNC'])"
   ]
  },
  {
   "cell_type": "markdown",
   "id": "technological-absence",
   "metadata": {},
   "source": [
    "## How many exons are in each complete, detected model, split by novelty?"
   ]
  },
  {
   "cell_type": "code",
   "execution_count": 34,
   "id": "african-wiring",
   "metadata": {},
   "outputs": [
    {
     "name": "stdout",
     "output_type": "stream",
     "text": [
      "Calculating iso TPM values\n",
      "Subsetting for novelty categories ['Known', 'NIC', 'NNC']\n",
      "Subsetting for polya genes\n",
      "Enforcing minimum TPM\n",
      "Total # isos detected: 156027\n",
      "# isos >= 1 tpm: 141390\n",
      "Applying gene type and novelty subset\n",
      "Number of isos reported: 92963\n"
     ]
    },
    {
     "data": {
      "image/png": "[encoded data removed]",
      "text/plain": [
       "<Figure size 288x432 with 1 Axes>"
      ]
     },
     "metadata": {
      "needs_background": "light"
     },
     "output_type": "display_data"
    }
   ],
   "source": [
    "df = pd.read_csv('human_talon_abundance_filtered.tsv', sep='\\t')\n",
    "plot_exons_per_iso(df,\n",
    "                   nov=['Known', 'NIC', 'NNC'],\n",
    "                   min_tpm=1,\n",
    "                   gene_subset='polya',\n",
    "                   opref='figures/human')"
   ]
  },
  {
   "cell_type": "markdown",
   "id": "anonymous-explorer",
   "metadata": {},
   "source": [
    "## How many isoforms per gene do we detect per sample? "
   ]
  },
  {
   "cell_type": "markdown",
   "id": "oriental-strand",
   "metadata": {},
   "source": [
    "What is the average and range of complete isoforms per polyA gene that we detect per sample?"
   ]
  },
  {
   "cell_type": "code",
   "execution_count": 4,
   "id": "industrial-danish",
   "metadata": {},
   "outputs": [
    {
     "name": "stdout",
     "output_type": "stream",
     "text": [
      "Calculating iso TPM values\n",
      "Subsetting for novelty categories ['Known', 'NIC', 'NNC']\n",
      "Subsetting for polya genes\n",
      "Enforcing minimum TPM\n",
      "Total # isos detected: 156027\n",
      "# isos >= 1 tpm: 141390\n",
      "Applying gene type and novelty subset\n",
      "Number of isos reported: 92963\n",
      "Found 31 total samples\n"
     ]
    }
   ],
   "source": [
    "df = pd.read_csv('human_talon_abundance_filtered.tsv', sep='\\t')\n",
    "df = get_isos_per_gene(df,\n",
    "                       min_tpm=1,\n",
    "                       gene_subset='polya',\n",
    "                       groupby='sample', \n",
    "                       nov=['Known', 'NIC', 'NNC'])"
   ]
  },
  {
   "cell_type": "code",
   "execution_count": 5,
   "id": "serial-minnesota",
   "metadata": {},
   "outputs": [
    {
     "data": {
      "text/plain": [
       "annot_gene_id\n",
       "ENSG00000000003.14              colon\n",
       "ENSG00000000005.5        h9_panc_beta\n",
       "ENSG00000000419.12    h9_neural_crest\n",
       "ENSG00000000457.13    h9_neural_crest\n",
       "ENSG00000000460.16     h9_panc_progen\n",
       "                           ...       \n",
       "ENSG00000285944.1               heart\n",
       "ENSG00000285966.1               hffc6\n",
       "ENSG00000285967.1          h9_chondro\n",
       "ENSG00000285972.1               colon\n",
       "ENSG00000285976.1             adipose\n",
       "Length: 23990, dtype: object"
      ]
     },
     "execution_count": 5,
     "metadata": {},
     "output_type": "execute_result"
    }
   ],
   "source": [
    "df.idxmax(axis=1)"
   ]
  },
  {
   "cell_type": "code",
   "execution_count": 6,
   "id": "straight-attachment",
   "metadata": {},
   "outputs": [
    {
     "name": "stdout",
     "output_type": "stream",
     "text": [
      "Average # isoforms / gene / sample: 2.721653283480311\n"
     ]
    }
   ],
   "source": [
    "print('Average # isoforms / gene / sample: {}'.format(df.mean().mean()))"
   ]
  },
  {
   "cell_type": "code",
   "execution_count": 7,
   "id": "accessible-opening",
   "metadata": {},
   "outputs": [
    {
     "name": "stdout",
     "output_type": "stream",
     "text": [
      "Max # isoforms / gene / sample: 134.0\n"
     ]
    }
   ],
   "source": [
    "print('Max # isoforms / gene / sample: {}'.format(df.max().max()))"
   ]
  },
  {
   "cell_type": "markdown",
   "id": "broke-field",
   "metadata": {},
   "source": [
    "How does the total # of isoforms we detect / gene compare to the number of annotated isoforms / gene"
   ]
  },
  {
   "cell_type": "code",
   "execution_count": 24,
   "id": "abroad-facing",
   "metadata": {},
   "outputs": [
    {
     "name": "stdout",
     "output_type": "stream",
     "text": [
      "Calculating iso TPM values\n",
      "Subsetting for novelty categories ['Known', 'NIC', 'NNC']\n",
      "Subsetting for polya genes\n",
      "Enforcing minimum TPM\n",
      "Total # isos detected: 156027\n",
      "# isos >= 1 tpm: 141390\n",
      "Applying gene type and novelty subset\n",
      "Number of isos reported: 92963\n"
     ]
    },
    {
     "data": {
      "image/png": "[encoded data removed]",
      "text/plain": [
       "<Figure size 432x432 with 1 Axes>"
      ]
     },
     "metadata": {
      "needs_background": "light"
     },
     "output_type": "display_data"
    }
   ],
   "source": [
    "df = pd.read_csv('human_talon_abundance_filtered.tsv', sep='\\t')\n",
    "genes = ['ELN', 'DES', 'TPM1', 'MEF2C',\n",
    "         'MYH7', 'MAPK10', 'PAX6', 'TCF4', 'COL1A1']\n",
    "df = plot_det_vs_gencode_isos(df, \n",
    "                         min_tpm=1,\n",
    "                         gene_subset='polya',\n",
    "                         nov=['Known', 'NIC', 'NNC'],\n",
    "                         label_genes=genes, \n",
    "                         opref='figures/human')"
   ]
  },
  {
   "cell_type": "code",
   "execution_count": 15,
   "id": "historical-recovery",
   "metadata": {},
   "outputs": [
    {
     "name": "stdout",
     "output_type": "stream",
     "text": [
      "MAPK10 has the most annotated isoforms in GENCODE (192)\n"
     ]
    }
   ],
   "source": [
    "entry = df.sort_values(by='n_isos_gencode', ascending=False).head(1)\n",
    "print('{} has the most annotated isoforms in GENCODE ({})'.format(entry.gname.values[0], entry.n_isos_gencode.values[0]))"
   ]
  },
  {
   "cell_type": "code",
   "execution_count": 17,
   "id": "chinese-colorado",
   "metadata": {},
   "outputs": [
    {
     "data": {
      "text/html": [
       "<div>\n",
       "<style scoped>\n",
       "    .dataframe tbody tr th:only-of-type {\n",
       "        vertical-align: middle;\n",
       "    }\n",
       "\n",
       "    .dataframe tbody tr th {\n",
       "        vertical-align: top;\n",
       "    }\n",
       "\n",
       "    .dataframe thead th {\n",
       "        text-align: right;\n",
       "    }\n",
       "</style>\n",
       "<table border=\"1\" class=\"dataframe\">\n",
       "  <thead>\n",
       "    <tr style=\"text-align: right;\">\n",
       "      <th></th>\n",
       "      <th>n_isos_det</th>\n",
       "      <th>gid</th>\n",
       "      <th>n_isos_gencode</th>\n",
       "      <th>gname</th>\n",
       "    </tr>\n",
       "  </thead>\n",
       "  <tbody>\n",
       "    <tr>\n",
       "      <th>3476</th>\n",
       "      <td>52</td>\n",
       "      <td>ENSG00000109339.21</td>\n",
       "      <td>192</td>\n",
       "      <td>MAPK10</td>\n",
       "    </tr>\n",
       "    <tr>\n",
       "      <th>13238</th>\n",
       "      <td>14</td>\n",
       "      <td>ENSG00000179818.13</td>\n",
       "      <td>170</td>\n",
       "      <td>PCBP1-AS1</td>\n",
       "    </tr>\n",
       "    <tr>\n",
       "      <th>19124</th>\n",
       "      <td>10</td>\n",
       "      <td>ENSG00000242086.8</td>\n",
       "      <td>142</td>\n",
       "      <td>MUC20-OT1</td>\n",
       "    </tr>\n",
       "    <tr>\n",
       "      <th>23912</th>\n",
       "      <td>4</td>\n",
       "      <td>ENSG00000285219.1</td>\n",
       "      <td>113</td>\n",
       "      <td>AL591485.1</td>\n",
       "    </tr>\n",
       "    <tr>\n",
       "      <th>17279</th>\n",
       "      <td>20</td>\n",
       "      <td>ENSG00000227036.7</td>\n",
       "      <td>106</td>\n",
       "      <td>LINC00511</td>\n",
       "    </tr>\n",
       "  </tbody>\n",
       "</table>\n",
       "</div>"
      ],
      "text/plain": [
       "       n_isos_det                 gid  n_isos_gencode       gname\n",
       "3476           52  ENSG00000109339.21             192      MAPK10\n",
       "13238          14  ENSG00000179818.13             170   PCBP1-AS1\n",
       "19124          10   ENSG00000242086.8             142   MUC20-OT1\n",
       "23912           4   ENSG00000285219.1             113  AL591485.1\n",
       "17279          20   ENSG00000227036.7             106   LINC00511"
      ]
     },
     "execution_count": 17,
     "metadata": {},
     "output_type": "execute_result"
    }
   ],
   "source": [
    "df.sort_values(by='n_isos_gencode', ascending=False).head()"
   ]
  },
  {
   "cell_type": "code",
   "execution_count": 46,
   "id": "variable-underwear",
   "metadata": {},
   "outputs": [
    {
     "data": {
      "text/html": [
       "<div>\n",
       "<style scoped>\n",
       "    .dataframe tbody tr th:only-of-type {\n",
       "        vertical-align: middle;\n",
       "    }\n",
       "\n",
       "    .dataframe tbody tr th {\n",
       "        vertical-align: top;\n",
       "    }\n",
       "\n",
       "    .dataframe thead th {\n",
       "        text-align: right;\n",
       "    }\n",
       "</style>\n",
       "<table border=\"1\" class=\"dataframe\">\n",
       "  <thead>\n",
       "    <tr style=\"text-align: right;\">\n",
       "      <th></th>\n",
       "      <th>n_isos_det</th>\n",
       "      <th>gid</th>\n",
       "      <th>n_isos_gencode</th>\n",
       "      <th>gname</th>\n",
       "    </tr>\n",
       "  </thead>\n",
       "  <tbody>\n",
       "    <tr>\n",
       "      <th>3409</th>\n",
       "      <td>3</td>\n",
       "      <td>ENSG00000108821.13</td>\n",
       "      <td>13</td>\n",
       "      <td>COL1A1</td>\n",
       "    </tr>\n",
       "  </tbody>\n",
       "</table>\n",
       "</div>"
      ],
      "text/plain": [
       "      n_isos_det                 gid  n_isos_gencode   gname\n",
       "3409           3  ENSG00000108821.13              13  COL1A1"
      ]
     },
     "execution_count": 46,
     "metadata": {},
     "output_type": "execute_result"
    }
   ],
   "source": [
    "df.loc[df.gname == 'COL1A1']"
   ]
  },
  {
   "cell_type": "code",
   "execution_count": 87,
   "id": "arabic-colorado",
   "metadata": {},
   "outputs": [
    {
     "data": {
      "text/html": [
       "<div>\n",
       "<style scoped>\n",
       "    .dataframe tbody tr th:only-of-type {\n",
       "        vertical-align: middle;\n",
       "    }\n",
       "\n",
       "    .dataframe tbody tr th {\n",
       "        vertical-align: top;\n",
       "    }\n",
       "\n",
       "    .dataframe thead th {\n",
       "        text-align: right;\n",
       "    }\n",
       "</style>\n",
       "<table border=\"1\" class=\"dataframe\">\n",
       "  <thead>\n",
       "    <tr style=\"text-align: right;\">\n",
       "      <th></th>\n",
       "      <th>n_isos_det</th>\n",
       "      <th>gid</th>\n",
       "      <th>n_isos_gencode</th>\n",
       "      <th>gname</th>\n",
       "      <th>ratio</th>\n",
       "    </tr>\n",
       "  </thead>\n",
       "  <tbody>\n",
       "    <tr>\n",
       "      <th>12562</th>\n",
       "      <td>45</td>\n",
       "      <td>ENSG00000175084.11</td>\n",
       "      <td>4</td>\n",
       "      <td>DES</td>\n",
       "      <td>11.25</td>\n",
       "    </tr>\n",
       "  </tbody>\n",
       "</table>\n",
       "</div>"
      ],
      "text/plain": [
       "       n_isos_det                 gid  n_isos_gencode gname  ratio\n",
       "12562          45  ENSG00000175084.11               4   DES  11.25"
      ]
     },
     "execution_count": 87,
     "metadata": {},
     "output_type": "execute_result"
    }
   ],
   "source": [
    "df.loc[df.gname == 'DES']"
   ]
  },
  {
   "cell_type": "code",
   "execution_count": 86,
   "id": "direct-birmingham",
   "metadata": {},
   "outputs": [
    {
     "data": {
      "text/html": [
       "<div>\n",
       "<style scoped>\n",
       "    .dataframe tbody tr th:only-of-type {\n",
       "        vertical-align: middle;\n",
       "    }\n",
       "\n",
       "    .dataframe tbody tr th {\n",
       "        vertical-align: top;\n",
       "    }\n",
       "\n",
       "    .dataframe thead th {\n",
       "        text-align: right;\n",
       "    }\n",
       "</style>\n",
       "<table border=\"1\" class=\"dataframe\">\n",
       "  <thead>\n",
       "    <tr style=\"text-align: right;\">\n",
       "      <th></th>\n",
       "      <th>n_isos_det</th>\n",
       "      <th>gid</th>\n",
       "      <th>n_isos_gencode</th>\n",
       "      <th>gname</th>\n",
       "      <th>ratio</th>\n",
       "    </tr>\n",
       "  </thead>\n",
       "  <tbody>\n",
       "    <tr>\n",
       "      <th>17279</th>\n",
       "      <td>20</td>\n",
       "      <td>ENSG00000227036.7</td>\n",
       "      <td>106</td>\n",
       "      <td>LINC00511</td>\n",
       "      <td>0.188679</td>\n",
       "    </tr>\n",
       "    <tr>\n",
       "      <th>175</th>\n",
       "      <td>17</td>\n",
       "      <td>ENSG00000007372.22</td>\n",
       "      <td>84</td>\n",
       "      <td>PAX6</td>\n",
       "      <td>0.202381</td>\n",
       "    </tr>\n",
       "    <tr>\n",
       "      <th>14928</th>\n",
       "      <td>21</td>\n",
       "      <td>ENSG00000196628.16</td>\n",
       "      <td>90</td>\n",
       "      <td>TCF4</td>\n",
       "      <td>0.233333</td>\n",
       "    </tr>\n",
       "    <tr>\n",
       "      <th>4192</th>\n",
       "      <td>16</td>\n",
       "      <td>ENSG00000115355.16</td>\n",
       "      <td>68</td>\n",
       "      <td>CCDC88A</td>\n",
       "      <td>0.235294</td>\n",
       "    </tr>\n",
       "    <tr>\n",
       "      <th>5436</th>\n",
       "      <td>21</td>\n",
       "      <td>ENSG00000126091.20</td>\n",
       "      <td>85</td>\n",
       "      <td>ST3GAL3</td>\n",
       "      <td>0.247059</td>\n",
       "    </tr>\n",
       "    <tr>\n",
       "      <th>...</th>\n",
       "      <td>...</td>\n",
       "      <td>...</td>\n",
       "      <td>...</td>\n",
       "      <td>...</td>\n",
       "      <td>...</td>\n",
       "    </tr>\n",
       "    <tr>\n",
       "      <th>12562</th>\n",
       "      <td>45</td>\n",
       "      <td>ENSG00000175084.11</td>\n",
       "      <td>4</td>\n",
       "      <td>DES</td>\n",
       "      <td>11.250000</td>\n",
       "    </tr>\n",
       "    <tr>\n",
       "      <th>15163</th>\n",
       "      <td>37</td>\n",
       "      <td>ENSG00000197616.11</td>\n",
       "      <td>3</td>\n",
       "      <td>MYH6</td>\n",
       "      <td>12.333333</td>\n",
       "    </tr>\n",
       "    <tr>\n",
       "      <th>21679</th>\n",
       "      <td>18</td>\n",
       "      <td>ENSG00000267110.1</td>\n",
       "      <td>1</td>\n",
       "      <td>AC010327.1</td>\n",
       "      <td>18.000000</td>\n",
       "    </tr>\n",
       "    <tr>\n",
       "      <th>1872</th>\n",
       "      <td>25</td>\n",
       "      <td>ENSG00000092054.12</td>\n",
       "      <td>1</td>\n",
       "      <td>MYH7</td>\n",
       "      <td>25.000000</td>\n",
       "    </tr>\n",
       "    <tr>\n",
       "      <th>2843</th>\n",
       "      <td>25</td>\n",
       "      <td>ENSG00000104879.4</td>\n",
       "      <td>1</td>\n",
       "      <td>CKM</td>\n",
       "      <td>25.000000</td>\n",
       "    </tr>\n",
       "  </tbody>\n",
       "</table>\n",
       "<p>538 rows × 5 columns</p>\n",
       "</div>"
      ],
      "text/plain": [
       "       n_isos_det                 gid  n_isos_gencode       gname      ratio\n",
       "17279          20   ENSG00000227036.7             106   LINC00511   0.188679\n",
       "175            17  ENSG00000007372.22              84        PAX6   0.202381\n",
       "14928          21  ENSG00000196628.16              90        TCF4   0.233333\n",
       "4192           16  ENSG00000115355.16              68     CCDC88A   0.235294\n",
       "5436           21  ENSG00000126091.20              85     ST3GAL3   0.247059\n",
       "...           ...                 ...             ...         ...        ...\n",
       "12562          45  ENSG00000175084.11               4         DES  11.250000\n",
       "15163          37  ENSG00000197616.11               3        MYH6  12.333333\n",
       "21679          18   ENSG00000267110.1               1  AC010327.1  18.000000\n",
       "1872           25  ENSG00000092054.12               1        MYH7  25.000000\n",
       "2843           25   ENSG00000104879.4               1         CKM  25.000000\n",
       "\n",
       "[538 rows x 5 columns]"
      ]
     },
     "execution_count": 86,
     "metadata": {},
     "output_type": "execute_result"
    }
   ],
   "source": [
    "df['ratio'] = df['n_isos_det'] / df['n_isos_gencode']\n",
    "df.sort_values(by='ratio', ascending=False)\n",
    "df = df.sort_values(by='ratio', ascending=True)\n",
    "df.loc[df.n_isos_det > 15]"
   ]
  },
  {
   "cell_type": "markdown",
   "id": "broad-devon",
   "metadata": {},
   "source": [
    "How does TPM for a gene in a sample relate to the number of models we see in a sample?"
   ]
  },
  {
   "cell_type": "code",
   "execution_count": 3,
   "id": "fancy-fence",
   "metadata": {},
   "outputs": [
    {
     "name": "stdout",
     "output_type": "stream",
     "text": [
      "Calculating gene TPM values\n",
      "Subsetting for novelty categories ['Known']\n",
      "Subsetting for polya genes\n",
      "Enforcing minimum TPM\n",
      "Total # genes detected: 352297\n",
      "# genes >= 1 tpm: 217535\n",
      "Applying gene type and novelty subset\n",
      "Averaging over biosample\n",
      "Found 31 total samples\n",
      "Number of genes reported: 31968\n",
      "Calculating iso TPM values\n",
      "Subsetting for novelty categories ['Known', 'NIC', 'NNC']\n",
      "Subsetting for polya genes\n",
      "Enforcing minimum TPM\n",
      "Total # isos detected: 156027\n",
      "# isos >= 1 tpm: 141390\n",
      "Applying gene type and novelty subset\n",
      "Number of isos reported: 92963\n",
      "Found 31 total samples\n"
     ]
    },
    {
     "data": {
      "image/png": "[encoded data removed]",
      "text/plain": [
       "<Figure size 432x288 with 1 Axes>"
      ]
     },
     "metadata": {
      "needs_background": "light"
     },
     "output_type": "display_data"
    }
   ],
   "source": [
    "df = pd.read_csv('human_talon_abundance.tsv', sep='\\t')\n",
    "filt_df = pd.read_csv('human_talon_abundance_filtered.tsv', sep='\\t')\n",
    "df = plot_gene_tpm_v_n_isos(df, filt_df, \n",
    "                            min_tpm=1, \n",
    "                            groupby='sample', \n",
    "                            gene_subset='polya', \n",
    "                            nov=['Known', 'NIC', 'NNC'], \n",
    "                            opref='figures/human')"
   ]
  },
  {
   "cell_type": "code",
   "execution_count": 4,
   "id": "fifteen-timeline",
   "metadata": {},
   "outputs": [
    {
     "data": {
      "text/html": [
       "<div>\n",
       "<style scoped>\n",
       "    .dataframe tbody tr th:only-of-type {\n",
       "        vertical-align: middle;\n",
       "    }\n",
       "\n",
       "    .dataframe tbody tr th {\n",
       "        vertical-align: top;\n",
       "    }\n",
       "\n",
       "    .dataframe thead th {\n",
       "        text-align: right;\n",
       "    }\n",
       "</style>\n",
       "<table border=\"1\" class=\"dataframe\">\n",
       "  <thead>\n",
       "    <tr style=\"text-align: right;\">\n",
       "      <th></th>\n",
       "      <th>annot_gene_id</th>\n",
       "      <th>biosample</th>\n",
       "      <th>tpm</th>\n",
       "      <th>n_iso</th>\n",
       "      <th>gid</th>\n",
       "      <th>gname</th>\n",
       "    </tr>\n",
       "  </thead>\n",
       "  <tbody>\n",
       "    <tr>\n",
       "      <th>160502</th>\n",
       "      <td>ENSG00000049540.16</td>\n",
       "      <td>h9_chondro</td>\n",
       "      <td>13063.607528</td>\n",
       "      <td>134.0</td>\n",
       "      <td>ENSG00000049540.16</td>\n",
       "      <td>ELN</td>\n",
       "    </tr>\n",
       "  </tbody>\n",
       "</table>\n",
       "</div>"
      ],
      "text/plain": [
       "             annot_gene_id   biosample           tpm  n_iso  \\\n",
       "160502  ENSG00000049540.16  h9_chondro  13063.607528  134.0   \n",
       "\n",
       "                       gid gname  \n",
       "160502  ENSG00000049540.16   ELN  "
      ]
     },
     "execution_count": 4,
     "metadata": {},
     "output_type": "execute_result"
    }
   ],
   "source": [
    "df.loc[(df.gname == 'ELN')&(df.biosample == 'h9_chondro')]"
   ]
  },
  {
   "cell_type": "code",
   "execution_count": 5,
   "id": "accepted-congress",
   "metadata": {},
   "outputs": [
    {
     "data": {
      "text/html": [
       "<div>\n",
       "<style scoped>\n",
       "    .dataframe tbody tr th:only-of-type {\n",
       "        vertical-align: middle;\n",
       "    }\n",
       "\n",
       "    .dataframe tbody tr th {\n",
       "        vertical-align: top;\n",
       "    }\n",
       "\n",
       "    .dataframe thead th {\n",
       "        text-align: right;\n",
       "    }\n",
       "</style>\n",
       "<table border=\"1\" class=\"dataframe\">\n",
       "  <thead>\n",
       "    <tr style=\"text-align: right;\">\n",
       "      <th></th>\n",
       "      <th>annot_gene_id</th>\n",
       "      <th>biosample</th>\n",
       "      <th>tpm</th>\n",
       "      <th>n_iso</th>\n",
       "      <th>gid</th>\n",
       "      <th>gname</th>\n",
       "    </tr>\n",
       "  </thead>\n",
       "  <tbody>\n",
       "    <tr>\n",
       "      <th>163395</th>\n",
       "      <td>ENSG00000108821.13</td>\n",
       "      <td>h9_chondro</td>\n",
       "      <td>63934.387848</td>\n",
       "      <td>2.0</td>\n",
       "      <td>ENSG00000108821.13</td>\n",
       "      <td>COL1A1</td>\n",
       "    </tr>\n",
       "    <tr>\n",
       "      <th>609105</th>\n",
       "      <td>ENSG00000087086.14</td>\n",
       "      <td>liver</td>\n",
       "      <td>44143.313758</td>\n",
       "      <td>8.0</td>\n",
       "      <td>ENSG00000087086.14</td>\n",
       "      <td>FTL</td>\n",
       "    </tr>\n",
       "    <tr>\n",
       "      <th>618203</th>\n",
       "      <td>ENSG00000163631.16</td>\n",
       "      <td>liver</td>\n",
       "      <td>87160.201515</td>\n",
       "      <td>19.0</td>\n",
       "      <td>ENSG00000163631.16</td>\n",
       "      <td>ALB</td>\n",
       "    </tr>\n",
       "    <tr>\n",
       "      <th>938876</th>\n",
       "      <td>ENSG00000167552.13</td>\n",
       "      <td>pgp1_excite_neuron</td>\n",
       "      <td>63368.654759</td>\n",
       "      <td>16.0</td>\n",
       "      <td>ENSG00000167552.13</td>\n",
       "      <td>TUBA1A</td>\n",
       "    </tr>\n",
       "  </tbody>\n",
       "</table>\n",
       "</div>"
      ],
      "text/plain": [
       "             annot_gene_id           biosample           tpm  n_iso  \\\n",
       "163395  ENSG00000108821.13          h9_chondro  63934.387848    2.0   \n",
       "609105  ENSG00000087086.14               liver  44143.313758    8.0   \n",
       "618203  ENSG00000163631.16               liver  87160.201515   19.0   \n",
       "938876  ENSG00000167552.13  pgp1_excite_neuron  63368.654759   16.0   \n",
       "\n",
       "                       gid   gname  \n",
       "163395  ENSG00000108821.13  COL1A1  \n",
       "609105  ENSG00000087086.14     FTL  \n",
       "618203  ENSG00000163631.16     ALB  \n",
       "938876  ENSG00000167552.13  TUBA1A  "
      ]
     },
     "execution_count": 5,
     "metadata": {},
     "output_type": "execute_result"
    }
   ],
   "source": [
    "df.loc[df.tpm > 40000]"
   ]
  },
  {
   "cell_type": "code",
   "execution_count": 6,
   "id": "offshore-focus",
   "metadata": {},
   "outputs": [
    {
     "data": {
      "text/html": [
       "<div>\n",
       "<style scoped>\n",
       "    .dataframe tbody tr th:only-of-type {\n",
       "        vertical-align: middle;\n",
       "    }\n",
       "\n",
       "    .dataframe tbody tr th {\n",
       "        vertical-align: top;\n",
       "    }\n",
       "\n",
       "    .dataframe thead th {\n",
       "        text-align: right;\n",
       "    }\n",
       "</style>\n",
       "<table border=\"1\" class=\"dataframe\">\n",
       "  <thead>\n",
       "    <tr style=\"text-align: right;\">\n",
       "      <th></th>\n",
       "      <th>annot_gene_id</th>\n",
       "      <th>biosample</th>\n",
       "      <th>tpm</th>\n",
       "      <th>n_iso</th>\n",
       "      <th>gid</th>\n",
       "      <th>gname</th>\n",
       "    </tr>\n",
       "  </thead>\n",
       "  <tbody>\n",
       "    <tr>\n",
       "      <th>3555</th>\n",
       "      <td>ENSG00000108821.13</td>\n",
       "      <td>adipose</td>\n",
       "      <td>131.496029</td>\n",
       "      <td>1.0</td>\n",
       "      <td>ENSG00000108821.13</td>\n",
       "      <td>COL1A1</td>\n",
       "    </tr>\n",
       "    <tr>\n",
       "      <th>35523</th>\n",
       "      <td>ENSG00000108821.13</td>\n",
       "      <td>adrenal gland</td>\n",
       "      <td>110.667449</td>\n",
       "      <td>1.0</td>\n",
       "      <td>ENSG00000108821.13</td>\n",
       "      <td>COL1A1</td>\n",
       "    </tr>\n",
       "    <tr>\n",
       "      <th>67491</th>\n",
       "      <td>ENSG00000108821.13</td>\n",
       "      <td>colon</td>\n",
       "      <td>131.359809</td>\n",
       "      <td>1.0</td>\n",
       "      <td>ENSG00000108821.13</td>\n",
       "      <td>COL1A1</td>\n",
       "    </tr>\n",
       "    <tr>\n",
       "      <th>99459</th>\n",
       "      <td>ENSG00000108821.13</td>\n",
       "      <td>gm12878</td>\n",
       "      <td>4.240709</td>\n",
       "      <td>0.0</td>\n",
       "      <td>ENSG00000108821.13</td>\n",
       "      <td>COL1A1</td>\n",
       "    </tr>\n",
       "    <tr>\n",
       "      <th>131427</th>\n",
       "      <td>ENSG00000108821.13</td>\n",
       "      <td>h9</td>\n",
       "      <td>111.554157</td>\n",
       "      <td>1.0</td>\n",
       "      <td>ENSG00000108821.13</td>\n",
       "      <td>COL1A1</td>\n",
       "    </tr>\n",
       "  </tbody>\n",
       "</table>\n",
       "</div>"
      ],
      "text/plain": [
       "             annot_gene_id      biosample         tpm  n_iso  \\\n",
       "3555    ENSG00000108821.13        adipose  131.496029    1.0   \n",
       "35523   ENSG00000108821.13  adrenal gland  110.667449    1.0   \n",
       "67491   ENSG00000108821.13          colon  131.359809    1.0   \n",
       "99459   ENSG00000108821.13        gm12878    4.240709    0.0   \n",
       "131427  ENSG00000108821.13             h9  111.554157    1.0   \n",
       "\n",
       "                       gid   gname  \n",
       "3555    ENSG00000108821.13  COL1A1  \n",
       "35523   ENSG00000108821.13  COL1A1  \n",
       "67491   ENSG00000108821.13  COL1A1  \n",
       "99459   ENSG00000108821.13  COL1A1  \n",
       "131427  ENSG00000108821.13  COL1A1  "
      ]
     },
     "execution_count": 6,
     "metadata": {},
     "output_type": "execute_result"
    }
   ],
   "source": [
    "df.loc[df.gname == 'COL1A1'].head()"
   ]
  },
  {
   "cell_type": "markdown",
   "id": "honest-current",
   "metadata": {},
   "source": [
    "How does the average number of exons in a gene relate to the number of isoforms we detect for that gene?"
   ]
  },
  {
   "cell_type": "code",
   "execution_count": 88,
   "id": "superior-course",
   "metadata": {},
   "outputs": [],
   "source": [
    "import pandas as pd\n",
    "import numpy as np\n",
    "import scipy.stats as st\n",
    "import seaborn as sns\n",
    "import sys\n",
    "import os\n",
    "import gseapy as gp\n",
    "\n",
    "p = os.path.dirname(os.path.dirname(os.getcwd()))\n",
    "sys.path.append(p)\n",
    "\n",
    "from scripts.utils import *\n",
    "from scripts.plotting import *"
   ]
  },
  {
   "cell_type": "code",
   "execution_count": 100,
   "id": "korean-answer",
   "metadata": {},
   "outputs": [],
   "source": [
    "df = pd.read_csv('human_talon_abundance_filtered.tsv', sep='\\t')"
   ]
  },
  {
   "cell_type": "code",
   "execution_count": 101,
   "id": "increasing-museum",
   "metadata": {},
   "outputs": [],
   "source": [
    "g_df = df.copy(deep=True)"
   ]
  },
  {
   "cell_type": "code",
   "execution_count": 102,
   "id": "future-reasoning",
   "metadata": {},
   "outputs": [],
   "source": [
    "g_df = g_df[['n_exons', 'annot_gene_id', 'annot_gene_name']]\n",
    "g_df = g_df.groupby(['annot_gene_id', 'annot_gene_name']).mean().reset_index()\n",
    "g_df.rename({'n_exons':'avg_exons'}, axis=1, inplace=True)"
   ]
  },
  {
   "cell_type": "code",
   "execution_count": 103,
   "id": "independent-plaza",
   "metadata": {},
   "outputs": [
    {
     "data": {
      "text/html": [
       "<div>\n",
       "<style scoped>\n",
       "    .dataframe tbody tr th:only-of-type {\n",
       "        vertical-align: middle;\n",
       "    }\n",
       "\n",
       "    .dataframe tbody tr th {\n",
       "        vertical-align: top;\n",
       "    }\n",
       "\n",
       "    .dataframe thead th {\n",
       "        text-align: right;\n",
       "    }\n",
       "</style>\n",
       "<table border=\"1\" class=\"dataframe\">\n",
       "  <thead>\n",
       "    <tr style=\"text-align: right;\">\n",
       "      <th></th>\n",
       "      <th>annot_gene_id</th>\n",
       "      <th>annot_gene_name</th>\n",
       "      <th>avg_exons</th>\n",
       "    </tr>\n",
       "  </thead>\n",
       "  <tbody>\n",
       "    <tr>\n",
       "      <th>0</th>\n",
       "      <td>ENCODEHG000058784</td>\n",
       "      <td>ENCODEHG000058784</td>\n",
       "      <td>7.833333</td>\n",
       "    </tr>\n",
       "    <tr>\n",
       "      <th>1</th>\n",
       "      <td>ENCODEHG000058787</td>\n",
       "      <td>ENCODEHG000058787</td>\n",
       "      <td>1.000000</td>\n",
       "    </tr>\n",
       "    <tr>\n",
       "      <th>2</th>\n",
       "      <td>ENCODEHG000058790</td>\n",
       "      <td>ENCODEHG000058790</td>\n",
       "      <td>1.000000</td>\n",
       "    </tr>\n",
       "    <tr>\n",
       "      <th>3</th>\n",
       "      <td>ENCODEHG000058793</td>\n",
       "      <td>ENCODEHG000058793</td>\n",
       "      <td>1.000000</td>\n",
       "    </tr>\n",
       "    <tr>\n",
       "      <th>4</th>\n",
       "      <td>ENCODEHG000058796</td>\n",
       "      <td>ENCODEHG000058796</td>\n",
       "      <td>1.000000</td>\n",
       "    </tr>\n",
       "  </tbody>\n",
       "</table>\n",
       "</div>"
      ],
      "text/plain": [
       "       annot_gene_id    annot_gene_name  avg_exons\n",
       "0  ENCODEHG000058784  ENCODEHG000058784   7.833333\n",
       "1  ENCODEHG000058787  ENCODEHG000058787   1.000000\n",
       "2  ENCODEHG000058790  ENCODEHG000058790   1.000000\n",
       "3  ENCODEHG000058793  ENCODEHG000058793   1.000000\n",
       "4  ENCODEHG000058796  ENCODEHG000058796   1.000000"
      ]
     },
     "execution_count": 103,
     "metadata": {},
     "output_type": "execute_result"
    }
   ],
   "source": [
    "g_df.head()"
   ]
  },
  {
   "cell_type": "code",
   "execution_count": 104,
   "id": "dutch-islam",
   "metadata": {},
   "outputs": [
    {
     "name": "stdout",
     "output_type": "stream",
     "text": [
      "Calculating iso TPM values\n",
      "Subsetting for novelty categories ['Known', 'NIC', 'NNC']\n",
      "Subsetting for polya genes\n",
      "Enforcing minimum TPM\n",
      "Total # isos detected: 156027\n",
      "# isos >= 1 tpm: 141390\n",
      "Applying gene type and novelty subset\n",
      "Number of isos reported: 92963\n"
     ]
    },
    {
     "data": {
      "text/html": [
       "<div>\n",
       "<style scoped>\n",
       "    .dataframe tbody tr th:only-of-type {\n",
       "        vertical-align: middle;\n",
       "    }\n",
       "\n",
       "    .dataframe tbody tr th {\n",
       "        vertical-align: top;\n",
       "    }\n",
       "\n",
       "    .dataframe thead th {\n",
       "        text-align: right;\n",
       "    }\n",
       "</style>\n",
       "<table border=\"1\" class=\"dataframe\">\n",
       "  <thead>\n",
       "    <tr style=\"text-align: right;\">\n",
       "      <th></th>\n",
       "      <th>n_isos_det</th>\n",
       "    </tr>\n",
       "    <tr>\n",
       "      <th>annot_gene_id</th>\n",
       "      <th></th>\n",
       "    </tr>\n",
       "  </thead>\n",
       "  <tbody>\n",
       "    <tr>\n",
       "      <th>ENSG00000000003.14</th>\n",
       "      <td>7</td>\n",
       "    </tr>\n",
       "    <tr>\n",
       "      <th>ENSG00000000005.5</th>\n",
       "      <td>1</td>\n",
       "    </tr>\n",
       "    <tr>\n",
       "      <th>ENSG00000000419.12</th>\n",
       "      <td>7</td>\n",
       "    </tr>\n",
       "    <tr>\n",
       "      <th>ENSG00000000457.13</th>\n",
       "      <td>5</td>\n",
       "    </tr>\n",
       "    <tr>\n",
       "      <th>ENSG00000000460.16</th>\n",
       "      <td>7</td>\n",
       "    </tr>\n",
       "  </tbody>\n",
       "</table>\n",
       "</div>"
      ],
      "text/plain": [
       "                    n_isos_det\n",
       "annot_gene_id                 \n",
       "ENSG00000000003.14           7\n",
       "ENSG00000000005.5            1\n",
       "ENSG00000000419.12           7\n",
       "ENSG00000000457.13           5\n",
       "ENSG00000000460.16           7"
      ]
     },
     "execution_count": 104,
     "metadata": {},
     "output_type": "execute_result"
    }
   ],
   "source": [
    "# detected isoforms\n",
    "df = get_isos_per_gene(df,\n",
    "                   min_tpm=min_tpm,\n",
    "                   gene_subset=gene_subset,\n",
    "                   groupby='all', \n",
    "                   nov=nov)\n",
    "df.rename({'all': 'n_isos_det'}, axis=1, inplace=True)\n",
    "df.head()"
   ]
  },
  {
   "cell_type": "code",
   "execution_count": 105,
   "id": "oriental-layer",
   "metadata": {},
   "outputs": [
    {
     "data": {
      "text/html": [
       "<div>\n",
       "<style scoped>\n",
       "    .dataframe tbody tr th:only-of-type {\n",
       "        vertical-align: middle;\n",
       "    }\n",
       "\n",
       "    .dataframe tbody tr th {\n",
       "        vertical-align: top;\n",
       "    }\n",
       "\n",
       "    .dataframe thead th {\n",
       "        text-align: right;\n",
       "    }\n",
       "</style>\n",
       "<table border=\"1\" class=\"dataframe\">\n",
       "  <thead>\n",
       "    <tr style=\"text-align: right;\">\n",
       "      <th></th>\n",
       "      <th>n_isos_det</th>\n",
       "      <th>annot_gene_id</th>\n",
       "      <th>annot_gene_name</th>\n",
       "      <th>avg_exons</th>\n",
       "    </tr>\n",
       "  </thead>\n",
       "  <tbody>\n",
       "    <tr>\n",
       "      <th>9845</th>\n",
       "      <td>7</td>\n",
       "      <td>ENSG00000000003.14</td>\n",
       "      <td>TSPAN6</td>\n",
       "      <td>6.333333</td>\n",
       "    </tr>\n",
       "    <tr>\n",
       "      <th>9846</th>\n",
       "      <td>1</td>\n",
       "      <td>ENSG00000000005.5</td>\n",
       "      <td>TNMD</td>\n",
       "      <td>5.000000</td>\n",
       "    </tr>\n",
       "    <tr>\n",
       "      <th>9847</th>\n",
       "      <td>7</td>\n",
       "      <td>ENSG00000000419.12</td>\n",
       "      <td>DPM1</td>\n",
       "      <td>7.222222</td>\n",
       "    </tr>\n",
       "    <tr>\n",
       "      <th>9848</th>\n",
       "      <td>5</td>\n",
       "      <td>ENSG00000000457.13</td>\n",
       "      <td>SCYL3</td>\n",
       "      <td>13.000000</td>\n",
       "    </tr>\n",
       "    <tr>\n",
       "      <th>9849</th>\n",
       "      <td>7</td>\n",
       "      <td>ENSG00000000460.16</td>\n",
       "      <td>C1orf112</td>\n",
       "      <td>21.428571</td>\n",
       "    </tr>\n",
       "  </tbody>\n",
       "</table>\n",
       "</div>"
      ],
      "text/plain": [
       "      n_isos_det       annot_gene_id annot_gene_name  avg_exons\n",
       "9845           7  ENSG00000000003.14          TSPAN6   6.333333\n",
       "9846           1   ENSG00000000005.5            TNMD   5.000000\n",
       "9847           7  ENSG00000000419.12            DPM1   7.222222\n",
       "9848           5  ENSG00000000457.13           SCYL3  13.000000\n",
       "9849           7  ENSG00000000460.16        C1orf112  21.428571"
      ]
     },
     "execution_count": 105,
     "metadata": {},
     "output_type": "execute_result"
    }
   ],
   "source": [
    "# merge with # isos detected\n",
    "df = df.merge(g_df, how='left', left_index=True, right_on='annot_gene_id')\n",
    "df.head()"
   ]
  },
  {
   "cell_type": "code",
   "execution_count": 120,
   "id": "enabling-meter",
   "metadata": {},
   "outputs": [],
   "source": [
    "xlim = 0\n",
    "ylim = 0\n",
    "label_genes = ['ELN', 'DES', 'TPM1', 'MYH7', \n",
    "               'SFTPA1', 'MGAT1', 'DYSF', \n",
    "               'COL16A1']"
   ]
  },
  {
   "cell_type": "code",
   "execution_count": 121,
   "id": "former-clearance",
   "metadata": {},
   "outputs": [
    {
     "data": {
      "image/png": "[encoded data removed]",
      "text/plain": [
       "<Figure size 432x288 with 1 Axes>"
      ]
     },
     "metadata": {
      "needs_background": "light"
     },
     "output_type": "display_data"
    }
   ],
   "source": [
    "# plot the figure\n",
    "sns.set_context('paper', font_scale=1.6)\n",
    "ax = sns.scatterplot(data=df, x='n_isos_det', y='avg_exons')\n",
    "\n",
    "ax.spines['right'].set_visible(False)\n",
    "ax.spines['top'].set_visible(False)\n",
    "\n",
    "# set x and y lims if provided\n",
    "if xlim:\n",
    "    xlim = (0, xlim)\n",
    "    ax.set(xlim=xlim)\n",
    "if ylim:\n",
    "    ylim = (0, ylim)\n",
    "    ax.set(ylim=ylim)\n",
    "\n",
    "lims = [\n",
    "    np.min([ax.get_xlim(), ax.get_ylim()]),  # min of both axes\n",
    "    np.max([ax.get_xlim(), ax.get_ylim()]),  # max of both axes\n",
    "]\n",
    "\n",
    "# now plot both limits against eachother\n",
    "ax.plot(lims, lims, 'k-', alpha=0.75, zorder=0)\n",
    "ax.set_aspect('equal')\n",
    "ax.set_xlim(lims)\n",
    "ax.set_ylim(lims)\n",
    "\n",
    "# annotate genes that are kinda interesting\n",
    "if label_genes:\n",
    "    xlim = ax.get_xlim()[1]\n",
    "    ylim = ax.get_ylim()[1]\n",
    "    for g in label_genes:\n",
    "        x = df.loc[df.annot_gene_name == g, 'n_isos_det'].values[0]+(2/75)*xlim\n",
    "        y = df.loc[df.annot_gene_name == g, 'avg_exons'].values[0]-(1.5/75)*ylim\n",
    "        plt.annotate(g, (x,y), fontsize='small', fontstyle='italic')\n",
    "\n",
    "xlabel = 'Total # isoforms / gene'\n",
    "ylabel = 'Average number of exons / isoform'\n",
    "_ = ax.set(xlabel=xlabel, ylabel=ylabel)\n",
    "\n",
    "fname = '{}_isos_det_v_exons.png'.format(opref)\n",
    "plt.savefig(fname, dpi=300, bbox_inches='tight')\n"
   ]
  },
  {
   "cell_type": "code",
   "execution_count": 119,
   "id": "molecular-method",
   "metadata": {},
   "outputs": [
    {
     "data": {
      "text/html": [
       "<div>\n",
       "<style scoped>\n",
       "    .dataframe tbody tr th:only-of-type {\n",
       "        vertical-align: middle;\n",
       "    }\n",
       "\n",
       "    .dataframe tbody tr th {\n",
       "        vertical-align: top;\n",
       "    }\n",
       "\n",
       "    .dataframe thead th {\n",
       "        text-align: right;\n",
       "    }\n",
       "</style>\n",
       "<table border=\"1\" class=\"dataframe\">\n",
       "  <thead>\n",
       "    <tr style=\"text-align: right;\">\n",
       "      <th></th>\n",
       "      <th>n_isos_det</th>\n",
       "      <th>annot_gene_id</th>\n",
       "      <th>annot_gene_name</th>\n",
       "      <th>avg_exons</th>\n",
       "      <th>ratio</th>\n",
       "    </tr>\n",
       "  </thead>\n",
       "  <tbody>\n",
       "    <tr>\n",
       "      <th>11436</th>\n",
       "      <td>7</td>\n",
       "      <td>ENSG00000084636.17</td>\n",
       "      <td>COL16A1</td>\n",
       "      <td>40.833333</td>\n",
       "      <td>0.171429</td>\n",
       "    </tr>\n",
       "    <tr>\n",
       "      <th>10647</th>\n",
       "      <td>6</td>\n",
       "      <td>ENSG00000060718.21</td>\n",
       "      <td>COL11A1</td>\n",
       "      <td>34.530303</td>\n",
       "      <td>0.173760</td>\n",
       "    </tr>\n",
       "    <tr>\n",
       "      <th>19052</th>\n",
       "      <td>6</td>\n",
       "      <td>ENSG00000153956.15</td>\n",
       "      <td>CACNA2D1</td>\n",
       "      <td>27.375000</td>\n",
       "      <td>0.219178</td>\n",
       "    </tr>\n",
       "    <tr>\n",
       "      <th>16647</th>\n",
       "      <td>11</td>\n",
       "      <td>ENSG00000135636.13</td>\n",
       "      <td>DYSF</td>\n",
       "      <td>45.250000</td>\n",
       "      <td>0.243094</td>\n",
       "    </tr>\n",
       "    <tr>\n",
       "      <th>18360</th>\n",
       "      <td>6</td>\n",
       "      <td>ENSG00000147202.17</td>\n",
       "      <td>DIAPH2</td>\n",
       "      <td>24.142857</td>\n",
       "      <td>0.248521</td>\n",
       "    </tr>\n",
       "    <tr>\n",
       "      <th>...</th>\n",
       "      <td>...</td>\n",
       "      <td>...</td>\n",
       "      <td>...</td>\n",
       "      <td>...</td>\n",
       "      <td>...</td>\n",
       "    </tr>\n",
       "    <tr>\n",
       "      <th>11893</th>\n",
       "      <td>43</td>\n",
       "      <td>ENSG00000099622.13</td>\n",
       "      <td>CIRBP</td>\n",
       "      <td>5.945455</td>\n",
       "      <td>7.232416</td>\n",
       "    </tr>\n",
       "    <tr>\n",
       "      <th>27713</th>\n",
       "      <td>20</td>\n",
       "      <td>ENSG00000214022.11</td>\n",
       "      <td>REPIN1</td>\n",
       "      <td>2.565217</td>\n",
       "      <td>7.796610</td>\n",
       "    </tr>\n",
       "    <tr>\n",
       "      <th>16005</th>\n",
       "      <td>21</td>\n",
       "      <td>ENSG00000131446.16</td>\n",
       "      <td>MGAT1</td>\n",
       "      <td>2.458333</td>\n",
       "      <td>8.542373</td>\n",
       "    </tr>\n",
       "    <tr>\n",
       "      <th>17442</th>\n",
       "      <td>70</td>\n",
       "      <td>ENSG00000140416.20</td>\n",
       "      <td>TPM1</td>\n",
       "      <td>7.455357</td>\n",
       "      <td>9.389222</td>\n",
       "    </tr>\n",
       "    <tr>\n",
       "      <th>14969</th>\n",
       "      <td>64</td>\n",
       "      <td>ENSG00000122852.14</td>\n",
       "      <td>SFTPA1</td>\n",
       "      <td>5.256757</td>\n",
       "      <td>12.174807</td>\n",
       "    </tr>\n",
       "  </tbody>\n",
       "</table>\n",
       "<p>5416 rows × 5 columns</p>\n",
       "</div>"
      ],
      "text/plain": [
       "       n_isos_det       annot_gene_id annot_gene_name  avg_exons      ratio\n",
       "11436           7  ENSG00000084636.17         COL16A1  40.833333   0.171429\n",
       "10647           6  ENSG00000060718.21         COL11A1  34.530303   0.173760\n",
       "19052           6  ENSG00000153956.15        CACNA2D1  27.375000   0.219178\n",
       "16647          11  ENSG00000135636.13            DYSF  45.250000   0.243094\n",
       "18360           6  ENSG00000147202.17          DIAPH2  24.142857   0.248521\n",
       "...           ...                 ...             ...        ...        ...\n",
       "11893          43  ENSG00000099622.13           CIRBP   5.945455   7.232416\n",
       "27713          20  ENSG00000214022.11          REPIN1   2.565217   7.796610\n",
       "16005          21  ENSG00000131446.16           MGAT1   2.458333   8.542373\n",
       "17442          70  ENSG00000140416.20            TPM1   7.455357   9.389222\n",
       "14969          64  ENSG00000122852.14          SFTPA1   5.256757  12.174807\n",
       "\n",
       "[5416 rows x 5 columns]"
      ]
     },
     "execution_count": 119,
     "metadata": {},
     "output_type": "execute_result"
    }
   ],
   "source": [
    "df['ratio'] = df.n_isos_det / df.avg_exons\n",
    "df = df.sort_values(by='ratio', ascending=True)\n",
    "df.loc[df.n_isos_det > 5]"
   ]
  },
  {
   "cell_type": "markdown",
   "id": "prompt-exhaust",
   "metadata": {},
   "source": [
    "For genes where we detect a lot more isoforms than those annotated, are there typically more NIC or NNC?"
   ]
  },
  {
   "cell_type": "code",
   "execution_count": 18,
   "id": "sorted-price",
   "metadata": {},
   "outputs": [],
   "source": [
    "df = pd.read_csv('human_talon_abundance_filtered.tsv', sep='\\t')\n",
    "min_tpm=1\n",
    "gene_subset='polya'\n",
    "nov=['Known', 'NIC', 'NNC']\n",
    "opref='figures/human'"
   ]
  },
  {
   "cell_type": "code",
   "execution_count": 19,
   "id": "decent-ethiopia",
   "metadata": {},
   "outputs": [],
   "source": [
    "df_back = df.copy(deep=True)"
   ]
  },
  {
   "cell_type": "code",
   "execution_count": 20,
   "id": "computational-relay",
   "metadata": {},
   "outputs": [
    {
     "name": "stdout",
     "output_type": "stream",
     "text": [
      "Calculating iso TPM values\n",
      "Subsetting for novelty categories ['Known', 'NIC', 'NNC']\n",
      "Subsetting for polya genes\n",
      "Enforcing minimum TPM\n",
      "Total # isos detected: 156027\n",
      "# isos >= 1 tpm: 141390\n",
      "Applying gene type and novelty subset\n",
      "Number of isos reported: 92963\n"
     ]
    },
    {
     "data": {
      "text/plain": [
       "833"
      ]
     },
     "execution_count": 20,
     "metadata": {},
     "output_type": "execute_result"
    }
   ],
   "source": [
    "# detected isoforms\n",
    "det_df = get_isos_per_gene(df,\n",
    "                   min_tpm=min_tpm,\n",
    "                   gene_subset=gene_subset,\n",
    "                   groupby='all', \n",
    "                   nov=nov)\n",
    "det_df.rename({'all': 'n_isos_det'}, axis=1, inplace=True)\n",
    "\n",
    "# annotated isoforms\n",
    "gc_df = get_n_gencode_isos(subset='polya')\n",
    "gc_df = gc_df[['gid', 'n_isos_gencode']]\n",
    "\n",
    "df = det_df.merge(gc_df, how='left', left_index=True, right_on='gid')    \n",
    "\n",
    "# add gene name \n",
    "gene_df, _, _ = get_gtf_info(how='gene', subset='polya')\n",
    "gene_df = gene_df[['gid', 'gname']]\n",
    "df = df.merge(gene_df, how='left', on='gid')\n",
    "\n",
    "df['ratio'] = df['n_isos_det'] / df['n_isos_gencode']\n",
    "gids = df.loc[df['ratio']>1.5, 'gid'].tolist()\n",
    "len(df.loc[df['ratio']>1.5])"
   ]
  },
  {
   "cell_type": "code",
   "execution_count": 21,
   "id": "portable-gamma",
   "metadata": {},
   "outputs": [
    {
     "name": "stdout",
     "output_type": "stream",
     "text": [
      "Calculating iso TPM values\n",
      "Subsetting for novelty categories ['Known', 'NIC', 'NNC']\n",
      "Subsetting for polya genes\n",
      "Enforcing minimum TPM\n",
      "Total # isos detected: 156027\n",
      "# isos >= 1 tpm: 141390\n",
      "Applying gene type and novelty subset\n",
      "Number of isos reported: 92963\n"
     ]
    }
   ],
   "source": [
    "t_df = df_back.copy(deep=True)\n",
    "t_df = t_df[['annot_transcript_id', 'transcript_novelty', 'annot_gene_id', 'annot_gene_name']]\n",
    "df = get_det_table(df_back, \n",
    "                   how='iso', \n",
    "                   min_tpm=1, \n",
    "                   gene_subset='polya',\n",
    "                   groupby='all',\n",
    "                   nov=['Known', 'NIC', 'NNC'])\n",
    "df = df.transpose()"
   ]
  },
  {
   "cell_type": "code",
   "execution_count": 22,
   "id": "defined-culture",
   "metadata": {},
   "outputs": [
    {
     "data": {
      "text/html": [
       "<div>\n",
       "<style scoped>\n",
       "    .dataframe tbody tr th:only-of-type {\n",
       "        vertical-align: middle;\n",
       "    }\n",
       "\n",
       "    .dataframe tbody tr th {\n",
       "        vertical-align: top;\n",
       "    }\n",
       "\n",
       "    .dataframe thead th {\n",
       "        text-align: right;\n",
       "    }\n",
       "</style>\n",
       "<table border=\"1\" class=\"dataframe\">\n",
       "  <thead>\n",
       "    <tr style=\"text-align: right;\">\n",
       "      <th></th>\n",
       "      <th>annot_gene_id</th>\n",
       "      <th>annot_gene_name</th>\n",
       "      <th>transcript_novelty</th>\n",
       "      <th>n_isos</th>\n",
       "    </tr>\n",
       "  </thead>\n",
       "  <tbody>\n",
       "    <tr>\n",
       "      <th>0</th>\n",
       "      <td>ENSG00000001036.13</td>\n",
       "      <td>FUCA2</td>\n",
       "      <td>Known</td>\n",
       "      <td>1</td>\n",
       "    </tr>\n",
       "    <tr>\n",
       "      <th>1</th>\n",
       "      <td>ENSG00000001036.13</td>\n",
       "      <td>FUCA2</td>\n",
       "      <td>NIC</td>\n",
       "      <td>3</td>\n",
       "    </tr>\n",
       "    <tr>\n",
       "      <th>2</th>\n",
       "      <td>ENSG00000001036.13</td>\n",
       "      <td>FUCA2</td>\n",
       "      <td>NNC</td>\n",
       "      <td>3</td>\n",
       "    </tr>\n",
       "    <tr>\n",
       "      <th>3</th>\n",
       "      <td>ENSG00000004142.11</td>\n",
       "      <td>POLDIP2</td>\n",
       "      <td>Known</td>\n",
       "      <td>2</td>\n",
       "    </tr>\n",
       "    <tr>\n",
       "      <th>4</th>\n",
       "      <td>ENSG00000004142.11</td>\n",
       "      <td>POLDIP2</td>\n",
       "      <td>NIC</td>\n",
       "      <td>1</td>\n",
       "    </tr>\n",
       "  </tbody>\n",
       "</table>\n",
       "</div>"
      ],
      "text/plain": [
       "        annot_gene_id annot_gene_name transcript_novelty  n_isos\n",
       "0  ENSG00000001036.13           FUCA2              Known       1\n",
       "1  ENSG00000001036.13           FUCA2                NIC       3\n",
       "2  ENSG00000001036.13           FUCA2                NNC       3\n",
       "3  ENSG00000004142.11         POLDIP2              Known       2\n",
       "4  ENSG00000004142.11         POLDIP2                NIC       1"
      ]
     },
     "execution_count": 22,
     "metadata": {},
     "output_type": "execute_result"
    }
   ],
   "source": [
    "df = df.merge(t_df, how='left', left_index=True, right_on='annot_transcript_id')\n",
    "df = df.loc[df.annot_gene_id.isin(gids)]\n",
    "\n",
    "df.drop('all', axis=1, inplace=True)\n",
    "df = df.groupby(['annot_gene_id', 'annot_gene_name', 'transcript_novelty'], dropna=False).count().reset_index()\n",
    "df.rename({'annot_transcript_id': 'n_isos'}, axis=1, inplace=True)\n",
    "df.head()"
   ]
  },
  {
   "cell_type": "code",
   "execution_count": 23,
   "id": "cultural-worship",
   "metadata": {},
   "outputs": [
    {
     "data": {
      "text/plain": [
       "<Figure size 288x432 with 0 Axes>"
      ]
     },
     "metadata": {},
     "output_type": "display_data"
    },
    {
     "data": {
      "image/png": "[encoded data removed]",
      "text/plain": [
       "<Figure size 360x360 with 1 Axes>"
      ]
     },
     "metadata": {
      "needs_background": "light"
     },
     "output_type": "display_data"
    }
   ],
   "source": [
    "# plot the plot\n",
    "sns.set_context('paper', font_scale=1.6)\n",
    "plt.figure(figsize=(4,6))\n",
    "\n",
    "c_dict, order = get_talon_nov_colors(cats=nov)\n",
    "# ax = sns.boxplot(data=df, x='transcript_novelty', y='n_isos',\n",
    "#                  order=order, palette=c_dict,\n",
    "#                  saturation=1)\n",
    "\n",
    "ax = sns.catplot(data=df, x='transcript_novelty', y='n_isos',\n",
    "                 order=order, palette=c_dict, kind='bar', saturation=1)\n",
    "\n",
    "\n",
    "# ax.spines['right'].set_visible(False)\n",
    "# ax.spines['top'].set_visible(False)\n",
    "\n",
    "xlabel = 'Transcript novelty'\n",
    "ylabel = '# isoforms'\n",
    "\n",
    "_ = ax.set(xlabel=xlabel, ylabel=ylabel)\n",
    "\n",
    "fname = '{}_isos_per_many_iso_gene.png'.format(opref)\n",
    "plt.savefig(fname, dpi=300, bbox_inches='tight')"
   ]
  },
  {
   "cell_type": "markdown",
   "id": "steady-encoding",
   "metadata": {},
   "source": [
    "How does the max # isoforms detected per gene / sample compare to the number of isoforms detected per gene overall across the whole dataset?"
   ]
  },
  {
   "cell_type": "code",
   "execution_count": 3,
   "id": "solid-engineering",
   "metadata": {},
   "outputs": [
    {
     "name": "stdout",
     "output_type": "stream",
     "text": [
      "Calculating iso TPM values\n",
      "Subsetting for novelty categories ['Known', 'NIC', 'NNC']\n",
      "Subsetting for polya genes\n",
      "Enforcing minimum TPM\n",
      "Total # isos detected: 156027\n",
      "# isos >= 1 tpm: 141390\n",
      "Applying gene type and novelty subset\n",
      "Number of isos reported: 92963\n",
      "Found 31 total samples\n",
      "Calculating iso TPM values\n",
      "Subsetting for novelty categories ['Known', 'NIC', 'NNC']\n",
      "Subsetting for polya genes\n",
      "Enforcing minimum TPM\n",
      "Total # isos detected: 156027\n",
      "# isos >= 1 tpm: 141390\n",
      "Applying gene type and novelty subset\n",
      "Number of isos reported: 92963\n"
     ]
    },
    {
     "data": {
      "image/png": "[encoded data removed]",
      "text/plain": [
       "<Figure size 432x288 with 1 Axes>"
      ]
     },
     "metadata": {
      "needs_background": "light"
     },
     "output_type": "display_data"
    }
   ],
   "source": [
    "df = pd.read_csv('human_talon_abundance_filtered.tsv', sep='\\t')\n",
    "df = plot_max_vs_all_isos(df,\n",
    "                         min_tpm=1,\n",
    "                         gene_subset='polya',\n",
    "                         nov=['Known', 'NIC', 'NNC'],\n",
    "                         label_genes=['TPM1', 'DES', 'MAPK10', 'FN1', 'SFTPA1', 'ELN'],\n",
    "                         xlim=75,\n",
    "                         ylim=75,\n",
    "                         opref='figures/human')"
   ]
  },
  {
   "cell_type": "code",
   "execution_count": 5,
   "id": "czech-equation",
   "metadata": {},
   "outputs": [
    {
     "data": {
      "text/html": [
       "<div>\n",
       "<style scoped>\n",
       "    .dataframe tbody tr th:only-of-type {\n",
       "        vertical-align: middle;\n",
       "    }\n",
       "\n",
       "    .dataframe tbody tr th {\n",
       "        vertical-align: top;\n",
       "    }\n",
       "\n",
       "    .dataframe thead th {\n",
       "        text-align: right;\n",
       "    }\n",
       "</style>\n",
       "<table border=\"1\" class=\"dataframe\">\n",
       "  <thead>\n",
       "    <tr style=\"text-align: right;\">\n",
       "      <th></th>\n",
       "      <th>max_isos</th>\n",
       "      <th>total_isos</th>\n",
       "      <th>gid</th>\n",
       "      <th>gname</th>\n",
       "      <th>length</th>\n",
       "      <th>biotype</th>\n",
       "      <th>biotype_category</th>\n",
       "      <th>tf</th>\n",
       "    </tr>\n",
       "  </thead>\n",
       "  <tbody>\n",
       "    <tr>\n",
       "      <th>21978</th>\n",
       "      <td>134.0</td>\n",
       "      <td>139</td>\n",
       "      <td>ENSG00000049540.16</td>\n",
       "      <td>ELN</td>\n",
       "      <td>42118</td>\n",
       "      <td>protein_coding</td>\n",
       "      <td>protein_coding</td>\n",
       "      <td>False</td>\n",
       "    </tr>\n",
       "  </tbody>\n",
       "</table>\n",
       "</div>"
      ],
      "text/plain": [
       "       max_isos  total_isos                 gid gname  length         biotype  \\\n",
       "21978     134.0         139  ENSG00000049540.16   ELN   42118  protein_coding   \n",
       "\n",
       "      biotype_category     tf  \n",
       "21978   protein_coding  False  "
      ]
     },
     "execution_count": 5,
     "metadata": {},
     "output_type": "execute_result"
    }
   ],
   "source": [
    "df.loc[df.gname=='ELN']"
   ]
  },
  {
   "cell_type": "code",
   "execution_count": 3,
   "id": "pediatric-spirit",
   "metadata": {},
   "outputs": [],
   "source": [
    "df['ratio'] = df['max_isos'] / df['total_isos']"
   ]
  },
  {
   "cell_type": "code",
   "execution_count": 4,
   "id": "radical-qualification",
   "metadata": {},
   "outputs": [
    {
     "data": {
      "text/html": [
       "<div>\n",
       "<style scoped>\n",
       "    .dataframe tbody tr th:only-of-type {\n",
       "        vertical-align: middle;\n",
       "    }\n",
       "\n",
       "    .dataframe tbody tr th {\n",
       "        vertical-align: top;\n",
       "    }\n",
       "\n",
       "    .dataframe thead th {\n",
       "        text-align: right;\n",
       "    }\n",
       "</style>\n",
       "<table border=\"1\" class=\"dataframe\">\n",
       "  <thead>\n",
       "    <tr style=\"text-align: right;\">\n",
       "      <th></th>\n",
       "      <th>max_isos</th>\n",
       "      <th>total_isos</th>\n",
       "      <th>gid</th>\n",
       "      <th>gname</th>\n",
       "      <th>length</th>\n",
       "      <th>biotype</th>\n",
       "      <th>biotype_category</th>\n",
       "      <th>tf</th>\n",
       "      <th>ratio</th>\n",
       "    </tr>\n",
       "  </thead>\n",
       "  <tbody>\n",
       "    <tr>\n",
       "      <th>13592</th>\n",
       "      <td>24.0</td>\n",
       "      <td>52</td>\n",
       "      <td>ENSG00000109339.21</td>\n",
       "      <td>MAPK10</td>\n",
       "      <td>604618</td>\n",
       "      <td>protein_coding</td>\n",
       "      <td>protein_coding</td>\n",
       "      <td>False</td>\n",
       "      <td>0.461538</td>\n",
       "    </tr>\n",
       "    <tr>\n",
       "      <th>41480</th>\n",
       "      <td>45.0</td>\n",
       "      <td>70</td>\n",
       "      <td>ENSG00000140416.20</td>\n",
       "      <td>TPM1</td>\n",
       "      <td>29283</td>\n",
       "      <td>protein_coding</td>\n",
       "      <td>protein_coding</td>\n",
       "      <td>False</td>\n",
       "      <td>0.642857</td>\n",
       "    </tr>\n",
       "    <tr>\n",
       "      <th>16259</th>\n",
       "      <td>42.0</td>\n",
       "      <td>53</td>\n",
       "      <td>ENSG00000153113.23</td>\n",
       "      <td>CAST</td>\n",
       "      <td>254328</td>\n",
       "      <td>protein_coding</td>\n",
       "      <td>protein_coding</td>\n",
       "      <td>False</td>\n",
       "      <td>0.792453</td>\n",
       "    </tr>\n",
       "    <tr>\n",
       "      <th>45297</th>\n",
       "      <td>48.0</td>\n",
       "      <td>52</td>\n",
       "      <td>ENSG00000072778.19</td>\n",
       "      <td>ACADVL</td>\n",
       "      <td>8148</td>\n",
       "      <td>protein_coding</td>\n",
       "      <td>protein_coding</td>\n",
       "      <td>False</td>\n",
       "      <td>0.923077</td>\n",
       "    </tr>\n",
       "    <tr>\n",
       "      <th>8755</th>\n",
       "      <td>51.0</td>\n",
       "      <td>54</td>\n",
       "      <td>ENSG00000115414.18</td>\n",
       "      <td>FN1</td>\n",
       "      <td>75732</td>\n",
       "      <td>protein_coding</td>\n",
       "      <td>protein_coding</td>\n",
       "      <td>False</td>\n",
       "      <td>0.944444</td>\n",
       "    </tr>\n",
       "    <tr>\n",
       "      <th>21978</th>\n",
       "      <td>134.0</td>\n",
       "      <td>139</td>\n",
       "      <td>ENSG00000049540.16</td>\n",
       "      <td>ELN</td>\n",
       "      <td>42118</td>\n",
       "      <td>protein_coding</td>\n",
       "      <td>protein_coding</td>\n",
       "      <td>False</td>\n",
       "      <td>0.964029</td>\n",
       "    </tr>\n",
       "    <tr>\n",
       "      <th>29532</th>\n",
       "      <td>64.0</td>\n",
       "      <td>64</td>\n",
       "      <td>ENSG00000122852.14</td>\n",
       "      <td>SFTPA1</td>\n",
       "      <td>4516</td>\n",
       "      <td>protein_coding</td>\n",
       "      <td>protein_coding</td>\n",
       "      <td>False</td>\n",
       "      <td>1.000000</td>\n",
       "    </tr>\n",
       "  </tbody>\n",
       "</table>\n",
       "</div>"
      ],
      "text/plain": [
       "       max_isos  total_isos                 gid   gname  length  \\\n",
       "13592      24.0          52  ENSG00000109339.21  MAPK10  604618   \n",
       "41480      45.0          70  ENSG00000140416.20    TPM1   29283   \n",
       "16259      42.0          53  ENSG00000153113.23    CAST  254328   \n",
       "45297      48.0          52  ENSG00000072778.19  ACADVL    8148   \n",
       "8755       51.0          54  ENSG00000115414.18     FN1   75732   \n",
       "21978     134.0         139  ENSG00000049540.16     ELN   42118   \n",
       "29532      64.0          64  ENSG00000122852.14  SFTPA1    4516   \n",
       "\n",
       "              biotype biotype_category     tf     ratio  \n",
       "13592  protein_coding   protein_coding  False  0.461538  \n",
       "41480  protein_coding   protein_coding  False  0.642857  \n",
       "16259  protein_coding   protein_coding  False  0.792453  \n",
       "45297  protein_coding   protein_coding  False  0.923077  \n",
       "8755   protein_coding   protein_coding  False  0.944444  \n",
       "21978  protein_coding   protein_coding  False  0.964029  \n",
       "29532  protein_coding   protein_coding  False  1.000000  "
      ]
     },
     "execution_count": 4,
     "metadata": {},
     "output_type": "execute_result"
    }
   ],
   "source": [
    "df.loc[df['total_isos'] > 50].sort_values(by='ratio', ascending=True)"
   ]
  },
  {
   "cell_type": "code",
   "execution_count": 6,
   "id": "lightweight-harvest",
   "metadata": {},
   "outputs": [
    {
     "data": {
      "text/html": [
       "<div>\n",
       "<style scoped>\n",
       "    .dataframe tbody tr th:only-of-type {\n",
       "        vertical-align: middle;\n",
       "    }\n",
       "\n",
       "    .dataframe tbody tr th {\n",
       "        vertical-align: top;\n",
       "    }\n",
       "\n",
       "    .dataframe thead th {\n",
       "        text-align: right;\n",
       "    }\n",
       "</style>\n",
       "<table border=\"1\" class=\"dataframe\">\n",
       "  <thead>\n",
       "    <tr style=\"text-align: right;\">\n",
       "      <th></th>\n",
       "      <th>max_isos</th>\n",
       "      <th>total_isos</th>\n",
       "      <th>gid</th>\n",
       "      <th>gname</th>\n",
       "      <th>length</th>\n",
       "      <th>biotype</th>\n",
       "      <th>biotype_category</th>\n",
       "      <th>tf</th>\n",
       "      <th>ratio</th>\n",
       "    </tr>\n",
       "  </thead>\n",
       "  <tbody>\n",
       "    <tr>\n",
       "      <th>21978</th>\n",
       "      <td>134.0</td>\n",
       "      <td>139</td>\n",
       "      <td>ENSG00000049540.16</td>\n",
       "      <td>ELN</td>\n",
       "      <td>42118</td>\n",
       "      <td>protein_coding</td>\n",
       "      <td>protein_coding</td>\n",
       "      <td>False</td>\n",
       "      <td>0.964029</td>\n",
       "    </tr>\n",
       "  </tbody>\n",
       "</table>\n",
       "</div>"
      ],
      "text/plain": [
       "       max_isos  total_isos                 gid gname  length         biotype  \\\n",
       "21978     134.0         139  ENSG00000049540.16   ELN   42118  protein_coding   \n",
       "\n",
       "      biotype_category     tf     ratio  \n",
       "21978   protein_coding  False  0.964029  "
      ]
     },
     "execution_count": 6,
     "metadata": {},
     "output_type": "execute_result"
    }
   ],
   "source": [
    "df.loc[df.gname == 'ELN']"
   ]
  },
  {
   "cell_type": "markdown",
   "id": "spanish-linux",
   "metadata": {},
   "source": [
    "What # of genes do we detect >15 isoforms overall that have >15 annotated isoforms in GENCODE?"
   ]
  },
  {
   "cell_type": "code",
   "execution_count": 55,
   "id": "offshore-prevention",
   "metadata": {},
   "outputs": [
    {
     "name": "stdout",
     "output_type": "stream",
     "text": [
      "Calculating iso TPM values\n",
      "Subsetting for novelty categories ['Known', 'NIC', 'NNC']\n",
      "Subsetting for polya genes\n",
      "Enforcing minimum TPM\n",
      "Total # isos detected: 156027\n",
      "# isos >= 1 tpm: 141390\n",
      "Applying gene type and novelty subset\n",
      "Number of isos reported: 92963\n"
     ]
    },
    {
     "data": {
      "text/html": [
       "<div>\n",
       "<style scoped>\n",
       "    .dataframe tbody tr th:only-of-type {\n",
       "        vertical-align: middle;\n",
       "    }\n",
       "\n",
       "    .dataframe tbody tr th {\n",
       "        vertical-align: top;\n",
       "    }\n",
       "\n",
       "    .dataframe thead th {\n",
       "        text-align: right;\n",
       "    }\n",
       "</style>\n",
       "<table border=\"1\" class=\"dataframe\">\n",
       "  <thead>\n",
       "    <tr style=\"text-align: right;\">\n",
       "      <th></th>\n",
       "      <th>all</th>\n",
       "    </tr>\n",
       "    <tr>\n",
       "      <th>annot_gene_id</th>\n",
       "      <th></th>\n",
       "    </tr>\n",
       "  </thead>\n",
       "  <tbody>\n",
       "    <tr>\n",
       "      <th>ENSG00000000003.14</th>\n",
       "      <td>7</td>\n",
       "    </tr>\n",
       "    <tr>\n",
       "      <th>ENSG00000000005.5</th>\n",
       "      <td>1</td>\n",
       "    </tr>\n",
       "    <tr>\n",
       "      <th>ENSG00000000419.12</th>\n",
       "      <td>7</td>\n",
       "    </tr>\n",
       "    <tr>\n",
       "      <th>ENSG00000000457.13</th>\n",
       "      <td>5</td>\n",
       "    </tr>\n",
       "    <tr>\n",
       "      <th>ENSG00000000460.16</th>\n",
       "      <td>7</td>\n",
       "    </tr>\n",
       "  </tbody>\n",
       "</table>\n",
       "</div>"
      ],
      "text/plain": [
       "                    all\n",
       "annot_gene_id          \n",
       "ENSG00000000003.14    7\n",
       "ENSG00000000005.5     1\n",
       "ENSG00000000419.12    7\n",
       "ENSG00000000457.13    5\n",
       "ENSG00000000460.16    7"
      ]
     },
     "execution_count": 55,
     "metadata": {},
     "output_type": "execute_result"
    }
   ],
   "source": [
    "df = pd.read_csv('human_talon_abundance_filtered.tsv', sep='\\t')\n",
    "df = get_isos_per_gene(df,\n",
    "                       min_tpm=1,\n",
    "                       gene_subset='polya',\n",
    "                       groupby='all', \n",
    "                       nov=['Known', 'NIC', 'NNC'])\n",
    "df.head()"
   ]
  },
  {
   "cell_type": "code",
   "execution_count": 56,
   "id": "alone-essence",
   "metadata": {},
   "outputs": [],
   "source": [
    "df = df.loc[df['all'] > 15]"
   ]
  },
  {
   "cell_type": "code",
   "execution_count": 57,
   "id": "greek-mountain",
   "metadata": {},
   "outputs": [
    {
     "name": "stdout",
     "output_type": "stream",
     "text": [
      "365 / 538 genes w/ >15 isoforms detected overall have >15 isoforms annotated in GENCODE\n"
     ]
    }
   ],
   "source": [
    "gene_df, _, _ = get_gtf_info(how='iso', subset='polya')\n",
    "gene_df = gene_df[['gid', 'tid']]\n",
    "gene_df = gene_df.groupby('gid').count().reset_index()\n",
    "gene_df.rename({'tid': 'n_isos_gencode'}, axis=1, inplace=True)\n",
    "gene_df.sort_values(by='n_isos_gencode', ascending=False, inplace=True)\n",
    "gene_df = gene_df.loc[gene_df.n_isos_gencode > 15]\n",
    "\n",
    "# get intersection of genes wih >15 annotated isoforms and \n",
    "# genes that we detect >15 isoforms in at least one sample\n",
    "n = len(set(gene_df.gid.tolist())&set(df.index.tolist()))\n",
    "total = len(df.index)\n",
    "\n",
    "print('{} / {} genes w/ >15 isoforms detected overall have >15 isoforms annotated in GENCODE'.format(n, total))"
   ]
  },
  {
   "cell_type": "markdown",
   "id": "sonic-accountability",
   "metadata": {},
   "source": [
    "Deeper dive into what's going on with _ELN_"
   ]
  },
  {
   "cell_type": "code",
   "execution_count": 8,
   "id": "balanced-denver",
   "metadata": {},
   "outputs": [
    {
     "data": {
      "text/html": [
       "<div>\n",
       "<style scoped>\n",
       "    .dataframe tbody tr th:only-of-type {\n",
       "        vertical-align: middle;\n",
       "    }\n",
       "\n",
       "    .dataframe tbody tr th {\n",
       "        vertical-align: top;\n",
       "    }\n",
       "\n",
       "    .dataframe thead th {\n",
       "        text-align: right;\n",
       "    }\n",
       "</style>\n",
       "<table border=\"1\" class=\"dataframe\">\n",
       "  <thead>\n",
       "    <tr style=\"text-align: right;\">\n",
       "      <th></th>\n",
       "      <th>0</th>\n",
       "    </tr>\n",
       "    <tr>\n",
       "      <th>annot_gene_id</th>\n",
       "      <th></th>\n",
       "    </tr>\n",
       "  </thead>\n",
       "  <tbody>\n",
       "    <tr>\n",
       "      <th>ENSG00000049540.16</th>\n",
       "      <td>134.0</td>\n",
       "    </tr>\n",
       "  </tbody>\n",
       "</table>\n",
       "</div>"
      ],
      "text/plain": [
       "                        0\n",
       "annot_gene_id            \n",
       "ENSG00000049540.16  134.0"
      ]
     },
     "execution_count": 8,
     "metadata": {},
     "output_type": "execute_result"
    }
   ],
   "source": [
    "temp = df.max(axis=1).to_frame()\n",
    "temp.loc[temp[0] == 134]"
   ]
  },
  {
   "cell_type": "code",
   "execution_count": 9,
   "id": "authentic-hungary",
   "metadata": {},
   "outputs": [
    {
     "data": {
      "text/plain": [
       "'h9_chondro'"
      ]
     },
     "execution_count": 9,
     "metadata": {},
     "output_type": "execute_result"
    }
   ],
   "source": [
    "df.loc['ENSG00000049540.16'].idxmax()"
   ]
  },
  {
   "cell_type": "code",
   "execution_count": 10,
   "id": "higher-negotiation",
   "metadata": {},
   "outputs": [
    {
     "data": {
      "text/plain": [
       "134.0"
      ]
     },
     "execution_count": 10,
     "metadata": {},
     "output_type": "execute_result"
    }
   ],
   "source": [
    "df.loc['ENSG00000049540.16', 'h9_chondro']"
   ]
  },
  {
   "cell_type": "markdown",
   "id": "employed-washington",
   "metadata": {},
   "source": [
    "How many different tissues express Elastin? How many isoforms are detected in these tissues?"
   ]
  },
  {
   "cell_type": "code",
   "execution_count": 11,
   "id": "touched-percentage",
   "metadata": {},
   "outputs": [
    {
     "data": {
      "text/plain": [
       "adipose                 7.0\n",
       "adrenal gland           1.0\n",
       "colon                  12.0\n",
       "gm12878                 NaN\n",
       "h9                      NaN\n",
       "h9_chondro            134.0\n",
       "h9_de                   NaN\n",
       "h9_neural_crest         NaN\n",
       "h9_osteocyte            NaN\n",
       "h9_panc_beta            NaN\n",
       "h9_panc_progen          NaN\n",
       "hct116                  NaN\n",
       "heart                  41.0\n",
       "hepg2                   NaN\n",
       "hffc6                   2.0\n",
       "hl60                    NaN\n",
       "imr90                   3.0\n",
       "k562                    NaN\n",
       "kidney                  6.0\n",
       "liver                   4.0\n",
       "lung                   18.0\n",
       "mcf7                    NaN\n",
       "muscle                  5.0\n",
       "ovary                   7.0\n",
       "panc1                   NaN\n",
       "pc3                     NaN\n",
       "pgp1                    NaN\n",
       "pgp1_astro              2.0\n",
       "pgp1_endo               4.0\n",
       "pgp1_excite_neuron      NaN\n",
       "vessels                41.0\n",
       "Name: ENSG00000049540.16, dtype: float64"
      ]
     },
     "execution_count": 11,
     "metadata": {},
     "output_type": "execute_result"
    }
   ],
   "source": [
    "df.loc['ENSG00000049540.16']"
   ]
  },
  {
   "cell_type": "markdown",
   "id": "upper-ticket",
   "metadata": {},
   "source": [
    "What novelty type do each of these isoforms have across samples?"
   ]
  },
  {
   "cell_type": "code",
   "execution_count": 5,
   "id": "developing-machinery",
   "metadata": {},
   "outputs": [
    {
     "name": "stdout",
     "output_type": "stream",
     "text": [
      "Calculating iso TPM values\n",
      "Subsetting for novelty categories ['Known', 'NIC', 'NNC']\n",
      "Subsetting for polya genes\n",
      "Enforcing minimum TPM\n",
      "Total # isos detected: 156027\n",
      "# isos >= 1 tpm: 141390\n",
      "Applying gene type and novelty subset\n",
      "Number of isos reported: 92963\n",
      "Found 31 total samples\n"
     ]
    },
    {
     "data": {
      "text/plain": [
       "<Figure size 288x432 with 0 Axes>"
      ]
     },
     "metadata": {},
     "output_type": "display_data"
    },
    {
     "data": {
      "image/png": "[encoded data removed]",
      "text/plain": [
       "<Figure size 510.764x360 with 1 Axes>"
      ]
     },
     "metadata": {
      "needs_background": "light"
     },
     "output_type": "display_data"
    }
   ],
   "source": [
    "df = pd.read_csv('human_talon_abundance_filtered.tsv', sep='\\t')\n",
    "plot_transcript_novelty_per(df, \n",
    "                            gene='ELN', \n",
    "                            min_tpm=1, \n",
    "                            gene_subset='polya', \n",
    "                            groupby='sample', \n",
    "                            nov=['Known', 'NIC', 'NNC'], \n",
    "                            opref='figures/human')"
   ]
  },
  {
   "cell_type": "code",
   "execution_count": 4,
   "id": "lyric-taste",
   "metadata": {},
   "outputs": [
    {
     "name": "stdout",
     "output_type": "stream",
     "text": [
      "Calculating iso TPM values\n",
      "Subsetting for novelty categories ['Known', 'NIC', 'NNC']\n",
      "Subsetting for polya genes\n",
      "Enforcing minimum TPM\n",
      "Total # isos detected: 156027\n",
      "# isos >= 1 tpm: 141390\n",
      "Applying gene type and novelty subset\n",
      "Number of isos reported: 92963\n",
      "Found 31 total samples\n"
     ]
    },
    {
     "data": {
      "text/plain": [
       "<Figure size 288x432 with 0 Axes>"
      ]
     },
     "metadata": {},
     "output_type": "display_data"
    },
    {
     "data": {
      "image/png": "[encoded data removed]",
      "text/plain": [
       "<Figure size 510.764x360 with 1 Axes>"
      ]
     },
     "metadata": {
      "needs_background": "light"
     },
     "output_type": "display_data"
    }
   ],
   "source": [
    "df = pd.read_csv('human_talon_abundance_filtered.tsv', sep='\\t')\n",
    "plot_transcript_novelty_per(df, \n",
    "                            gene='DES', \n",
    "                            min_tpm=1, \n",
    "                            gene_subset='polya', \n",
    "                            groupby='sample', \n",
    "                            nov=['Known', 'NIC', 'NNC'], \n",
    "                            opref='figures/human')"
   ]
  },
  {
   "cell_type": "code",
   "execution_count": 7,
   "id": "peripheral-check",
   "metadata": {},
   "outputs": [
    {
     "name": "stdout",
     "output_type": "stream",
     "text": [
      "Calculating iso TPM values\n",
      "Subsetting for novelty categories ['Known', 'NIC', 'NNC']\n",
      "Subsetting for polya genes\n",
      "Enforcing minimum TPM\n",
      "Total # isos detected: 156027\n",
      "# isos >= 1 tpm: 141390\n",
      "Applying gene type and novelty subset\n",
      "Number of isos reported: 92963\n",
      "Found 31 total samples\n"
     ]
    },
    {
     "data": {
      "text/plain": [
       "<Figure size 288x432 with 0 Axes>"
      ]
     },
     "metadata": {},
     "output_type": "display_data"
    },
    {
     "data": {
      "image/png": "[encoded data removed]",
      "text/plain": [
       "<Figure size 510.764x360 with 1 Axes>"
      ]
     },
     "metadata": {
      "needs_background": "light"
     },
     "output_type": "display_data"
    }
   ],
   "source": [
    "df = pd.read_csv('human_talon_abundance_filtered.tsv', sep='\\t')\n",
    "plot_transcript_novelty_per(df, \n",
    "                            gene='MYH7', \n",
    "                            min_tpm=1, \n",
    "                            gene_subset='polya', \n",
    "                            groupby='sample', \n",
    "                            nov=['Known', 'NIC', 'NNC'], \n",
    "                            opref='figures/human')"
   ]
  },
  {
   "cell_type": "markdown",
   "id": "subject-possibility",
   "metadata": {},
   "source": [
    "What novelty type do each of these isoforms have in just h9 chondro?"
   ]
  },
  {
   "cell_type": "code",
   "execution_count": 3,
   "id": "critical-copyright",
   "metadata": {},
   "outputs": [
    {
     "name": "stdout",
     "output_type": "stream",
     "text": [
      "Calculating iso TPM values\n",
      "Subsetting for novelty categories ['Known', 'NIC', 'NNC']\n",
      "Subsetting for polya genes\n",
      "Enforcing minimum TPM\n",
      "Total # isos detected: 156027\n",
      "# isos >= 1 tpm: 141390\n",
      "Applying gene type and novelty subset\n",
      "Number of isos reported: 92963\n",
      "Found 31 total samples\n"
     ]
    },
    {
     "data": {
      "text/plain": [
       "<Figure size 288x432 with 0 Axes>"
      ]
     },
     "metadata": {},
     "output_type": "display_data"
    },
    {
     "data": {
      "image/png": "[encoded data removed]",
      "text/plain": [
       "<Figure size 360x360 with 1 Axes>"
      ]
     },
     "metadata": {
      "needs_background": "light"
     },
     "output_type": "display_data"
    }
   ],
   "source": [
    "df = pd.read_csv('human_talon_abundance_filtered.tsv', sep='\\t')\n",
    "plot_transcript_novelty_per_1(df, \n",
    "                            dataset='h9_chondro',\n",
    "                            gene='ELN',\n",
    "                            min_tpm=1,\n",
    "                            gene_subset='polya',\n",
    "                            groupby='sample',\n",
    "                            nov=['Known', 'NIC', 'NNC'], \n",
    "                            opref='figures/human')"
   ]
  },
  {
   "cell_type": "markdown",
   "id": "legal-satin",
   "metadata": {},
   "source": [
    "Which samples have the highest average?"
   ]
  },
  {
   "cell_type": "code",
   "execution_count": 27,
   "id": "spread-lincoln",
   "metadata": {},
   "outputs": [
    {
     "name": "stdout",
     "output_type": "stream",
     "text": [
      "Calculating iso TPM values\n",
      "Subsetting for novelty categories ['Known', 'NIC', 'NNC']\n",
      "Subsetting for polya genes\n",
      "Enforcing minimum TPM\n",
      "Total # isos detected: 156027\n",
      "# isos >= 1 tpm: 141390\n",
      "Applying gene type and novelty subset\n",
      "Number of isos reported: 92963\n",
      "Found 31 total samples\n"
     ]
    },
    {
     "data": {
      "image/png": "[encoded data removed]",
      "text/plain": [
       "<Figure size 432x288 with 1 Axes>"
      ]
     },
     "metadata": {
      "needs_background": "light"
     },
     "output_type": "display_data"
    }
   ],
   "source": [
    "df = pd.read_csv('human_talon_abundance_filtered.tsv', sep='\\t')\n",
    "plot_avg_isos_per_gene(df,\n",
    "                       min_tpm=1,\n",
    "                       gene_subset='polya',\n",
    "                       sample='all', \n",
    "                       groupby='sample',\n",
    "                       nov=['Known', 'NIC', 'NNC'],\n",
    "                       opref='figures/human')"
   ]
  },
  {
   "cell_type": "code",
   "execution_count": 28,
   "id": "elegant-chair",
   "metadata": {},
   "outputs": [
    {
     "name": "stdout",
     "output_type": "stream",
     "text": [
      "Calculating iso TPM values\n",
      "Subsetting for tissue datasets\n",
      "Subsetting for novelty categories ['Known', 'NIC', 'NNC']\n",
      "Subsetting for polya genes\n",
      "Enforcing minimum TPM\n",
      "Total # isos detected: 156027\n",
      "# isos >= 1 tpm: 124187\n",
      "Applying gene type and novelty subset\n",
      "Number of isos reported: 78703\n",
      "Found 10 total samples\n"
     ]
    },
    {
     "data": {
      "image/png": "[encoded data removed]",
      "text/plain": [
       "<Figure size 432x288 with 1 Axes>"
      ]
     },
     "metadata": {
      "needs_background": "light"
     },
     "output_type": "display_data"
    }
   ],
   "source": [
    "df = pd.read_csv('human_talon_abundance_filtered.tsv', sep='\\t')\n",
    "plot_avg_isos_per_gene(df,\n",
    "                       min_tpm=1,\n",
    "                       gene_subset='polya',\n",
    "                       sample='tissue', \n",
    "                       groupby='sample',\n",
    "                       nov=['Known', 'NIC', 'NNC'],\n",
    "                       opref='figures/human')"
   ]
  },
  {
   "cell_type": "markdown",
   "id": "annual-vacation",
   "metadata": {},
   "source": [
    "What's the distribution of number of isoforms detected per gene per sample?"
   ]
  },
  {
   "cell_type": "code",
   "execution_count": 29,
   "id": "baking-andorra",
   "metadata": {},
   "outputs": [
    {
     "name": "stdout",
     "output_type": "stream",
     "text": [
      "Calculating iso TPM values\n",
      "Subsetting for novelty categories ['Known', 'NIC', 'NNC']\n",
      "Subsetting for polya genes\n",
      "Enforcing minimum TPM\n",
      "Total # isos detected: 156027\n",
      "# isos >= 1 tpm: 141390\n",
      "Applying gene type and novelty subset\n",
      "Number of isos reported: 92963\n",
      "Found 31 total samples\n"
     ]
    },
    {
     "data": {
      "image/png": "[encoded data removed]",
      "text/plain": [
       "<Figure size 360x360 with 1 Axes>"
      ]
     },
     "metadata": {
      "needs_background": "light"
     },
     "output_type": "display_data"
    }
   ],
   "source": [
    "df = pd.read_csv('human_talon_abundance_filtered.tsv', sep='\\t')\n",
    "df, ax = plot_isos_per_gene_hist(df,\n",
    "                       min_tpm=1,\n",
    "                       gene_subset='polya',\n",
    "                       groupby='sample', \n",
    "                       nov=['Known', 'NIC', 'NNC'],\n",
    "                       rm_1=True)"
   ]
  },
  {
   "cell_type": "markdown",
   "id": "martial-director",
   "metadata": {},
   "source": [
    "How many genes have >15, >10 isoforms expressed in a sample?"
   ]
  },
  {
   "cell_type": "code",
   "execution_count": 47,
   "id": "billion-change",
   "metadata": {},
   "outputs": [
    {
     "name": "stdout",
     "output_type": "stream",
     "text": [
      "Calculating iso TPM values\n",
      "Subsetting for novelty categories ['Known', 'NIC', 'NNC']\n",
      "Subsetting for polya genes\n",
      "Enforcing minimum TPM\n",
      "Total # isos detected: 156027\n",
      "# isos >= 1 tpm: 141390\n",
      "Applying gene type and novelty subset\n",
      "Number of isos reported: 92963\n",
      "Found 31 total samples\n"
     ]
    }
   ],
   "source": [
    "df = pd.read_csv('human_talon_abundance_filtered.tsv', sep='\\t')\n",
    "df = get_isos_per_gene(df,\n",
    "                       min_tpm=1,\n",
    "                       gene_subset='polya',\n",
    "                       groupby='sample',\n",
    "                       nov=['Known', 'NIC', 'NNC'])"
   ]
  },
  {
   "cell_type": "code",
   "execution_count": 48,
   "id": "powerful-anaheim",
   "metadata": {},
   "outputs": [
    {
     "name": "stdout",
     "output_type": "stream",
     "text": [
      "1013 genes with >10 complete isoforms / gene in at least one sample\n"
     ]
    }
   ],
   "source": [
    "df = df.loc[(df > 10).any(axis=1)]\n",
    "n = len(df.index)\n",
    "print('{} genes with >10 complete isoforms / gene in at least one sample'.format(n))"
   ]
  },
  {
   "cell_type": "code",
   "execution_count": 49,
   "id": "statistical-industry",
   "metadata": {},
   "outputs": [
    {
     "name": "stdout",
     "output_type": "stream",
     "text": [
      "1013\n"
     ]
    },
    {
     "data": {
      "text/html": [
       "<div>\n",
       "<style scoped>\n",
       "    .dataframe tbody tr th:only-of-type {\n",
       "        vertical-align: middle;\n",
       "    }\n",
       "\n",
       "    .dataframe tbody tr th {\n",
       "        vertical-align: top;\n",
       "    }\n",
       "\n",
       "    .dataframe thead th {\n",
       "        text-align: right;\n",
       "    }\n",
       "</style>\n",
       "<table border=\"1\" class=\"dataframe\">\n",
       "  <thead>\n",
       "    <tr style=\"text-align: right;\">\n",
       "      <th></th>\n",
       "      <th>adipose</th>\n",
       "      <th>adrenal gland</th>\n",
       "      <th>colon</th>\n",
       "      <th>gm12878</th>\n",
       "      <th>h9</th>\n",
       "      <th>h9_chondro</th>\n",
       "      <th>h9_de</th>\n",
       "      <th>h9_neural_crest</th>\n",
       "      <th>h9_osteocyte</th>\n",
       "      <th>h9_panc_beta</th>\n",
       "      <th>...</th>\n",
       "      <th>mcf7</th>\n",
       "      <th>muscle</th>\n",
       "      <th>ovary</th>\n",
       "      <th>panc1</th>\n",
       "      <th>pc3</th>\n",
       "      <th>pgp1</th>\n",
       "      <th>pgp1_astro</th>\n",
       "      <th>pgp1_endo</th>\n",
       "      <th>pgp1_excite_neuron</th>\n",
       "      <th>vessels</th>\n",
       "    </tr>\n",
       "    <tr>\n",
       "      <th>annot_gene_id</th>\n",
       "      <th></th>\n",
       "      <th></th>\n",
       "      <th></th>\n",
       "      <th></th>\n",
       "      <th></th>\n",
       "      <th></th>\n",
       "      <th></th>\n",
       "      <th></th>\n",
       "      <th></th>\n",
       "      <th></th>\n",
       "      <th></th>\n",
       "      <th></th>\n",
       "      <th></th>\n",
       "      <th></th>\n",
       "      <th></th>\n",
       "      <th></th>\n",
       "      <th></th>\n",
       "      <th></th>\n",
       "      <th></th>\n",
       "      <th></th>\n",
       "      <th></th>\n",
       "    </tr>\n",
       "  </thead>\n",
       "  <tbody>\n",
       "    <tr>\n",
       "      <th>ENSG00000002586.19</th>\n",
       "      <td>6.0</td>\n",
       "      <td>9.0</td>\n",
       "      <td>9.0</td>\n",
       "      <td>8.0</td>\n",
       "      <td>3.0</td>\n",
       "      <td>7.0</td>\n",
       "      <td>4.0</td>\n",
       "      <td>5.0</td>\n",
       "      <td>5.0</td>\n",
       "      <td>4.0</td>\n",
       "      <td>...</td>\n",
       "      <td>2.0</td>\n",
       "      <td>6.0</td>\n",
       "      <td>10.0</td>\n",
       "      <td>2.0</td>\n",
       "      <td>2.0</td>\n",
       "      <td>3.0</td>\n",
       "      <td>6.0</td>\n",
       "      <td>8.0</td>\n",
       "      <td>4.0</td>\n",
       "      <td>10.0</td>\n",
       "    </tr>\n",
       "    <tr>\n",
       "      <th>ENSG00000002822.15</th>\n",
       "      <td>13.0</td>\n",
       "      <td>8.0</td>\n",
       "      <td>11.0</td>\n",
       "      <td>15.0</td>\n",
       "      <td>16.0</td>\n",
       "      <td>10.0</td>\n",
       "      <td>15.0</td>\n",
       "      <td>14.0</td>\n",
       "      <td>10.0</td>\n",
       "      <td>10.0</td>\n",
       "      <td>...</td>\n",
       "      <td>11.0</td>\n",
       "      <td>9.0</td>\n",
       "      <td>13.0</td>\n",
       "      <td>10.0</td>\n",
       "      <td>8.0</td>\n",
       "      <td>10.0</td>\n",
       "      <td>11.0</td>\n",
       "      <td>10.0</td>\n",
       "      <td>11.0</td>\n",
       "      <td>17.0</td>\n",
       "    </tr>\n",
       "    <tr>\n",
       "      <th>ENSG00000003147.18</th>\n",
       "      <td>4.0</td>\n",
       "      <td>3.0</td>\n",
       "      <td>10.0</td>\n",
       "      <td>2.0</td>\n",
       "      <td>7.0</td>\n",
       "      <td>2.0</td>\n",
       "      <td>4.0</td>\n",
       "      <td>2.0</td>\n",
       "      <td>1.0</td>\n",
       "      <td>5.0</td>\n",
       "      <td>...</td>\n",
       "      <td>5.0</td>\n",
       "      <td>2.0</td>\n",
       "      <td>3.0</td>\n",
       "      <td>NaN</td>\n",
       "      <td>3.0</td>\n",
       "      <td>7.0</td>\n",
       "      <td>5.0</td>\n",
       "      <td>8.0</td>\n",
       "      <td>5.0</td>\n",
       "      <td>4.0</td>\n",
       "    </tr>\n",
       "    <tr>\n",
       "      <th>ENSG00000003402.19</th>\n",
       "      <td>8.0</td>\n",
       "      <td>8.0</td>\n",
       "      <td>8.0</td>\n",
       "      <td>14.0</td>\n",
       "      <td>2.0</td>\n",
       "      <td>3.0</td>\n",
       "      <td>6.0</td>\n",
       "      <td>3.0</td>\n",
       "      <td>3.0</td>\n",
       "      <td>3.0</td>\n",
       "      <td>...</td>\n",
       "      <td>2.0</td>\n",
       "      <td>7.0</td>\n",
       "      <td>5.0</td>\n",
       "      <td>2.0</td>\n",
       "      <td>2.0</td>\n",
       "      <td>4.0</td>\n",
       "      <td>7.0</td>\n",
       "      <td>9.0</td>\n",
       "      <td>5.0</td>\n",
       "      <td>8.0</td>\n",
       "    </tr>\n",
       "    <tr>\n",
       "      <th>ENSG00000003436.15</th>\n",
       "      <td>6.0</td>\n",
       "      <td>6.0</td>\n",
       "      <td>4.0</td>\n",
       "      <td>3.0</td>\n",
       "      <td>1.0</td>\n",
       "      <td>8.0</td>\n",
       "      <td>3.0</td>\n",
       "      <td>3.0</td>\n",
       "      <td>10.0</td>\n",
       "      <td>3.0</td>\n",
       "      <td>...</td>\n",
       "      <td>6.0</td>\n",
       "      <td>6.0</td>\n",
       "      <td>6.0</td>\n",
       "      <td>6.0</td>\n",
       "      <td>7.0</td>\n",
       "      <td>NaN</td>\n",
       "      <td>5.0</td>\n",
       "      <td>11.0</td>\n",
       "      <td>NaN</td>\n",
       "      <td>7.0</td>\n",
       "    </tr>\n",
       "  </tbody>\n",
       "</table>\n",
       "<p>5 rows × 31 columns</p>\n",
       "</div>"
      ],
      "text/plain": [
       "                    adipose  adrenal gland  colon  gm12878    h9  h9_chondro  \\\n",
       "annot_gene_id                                                                  \n",
       "ENSG00000002586.19      6.0            9.0    9.0      8.0   3.0         7.0   \n",
       "ENSG00000002822.15     13.0            8.0   11.0     15.0  16.0        10.0   \n",
       "ENSG00000003147.18      4.0            3.0   10.0      2.0   7.0         2.0   \n",
       "ENSG00000003402.19      8.0            8.0    8.0     14.0   2.0         3.0   \n",
       "ENSG00000003436.15      6.0            6.0    4.0      3.0   1.0         8.0   \n",
       "\n",
       "                    h9_de  h9_neural_crest  h9_osteocyte  h9_panc_beta  ...  \\\n",
       "annot_gene_id                                                           ...   \n",
       "ENSG00000002586.19    4.0              5.0           5.0           4.0  ...   \n",
       "ENSG00000002822.15   15.0             14.0          10.0          10.0  ...   \n",
       "ENSG00000003147.18    4.0              2.0           1.0           5.0  ...   \n",
       "ENSG00000003402.19    6.0              3.0           3.0           3.0  ...   \n",
       "ENSG00000003436.15    3.0              3.0          10.0           3.0  ...   \n",
       "\n",
       "                    mcf7  muscle  ovary  panc1  pc3  pgp1  pgp1_astro  \\\n",
       "annot_gene_id                                                           \n",
       "ENSG00000002586.19   2.0     6.0   10.0    2.0  2.0   3.0         6.0   \n",
       "ENSG00000002822.15  11.0     9.0   13.0   10.0  8.0  10.0        11.0   \n",
       "ENSG00000003147.18   5.0     2.0    3.0    NaN  3.0   7.0         5.0   \n",
       "ENSG00000003402.19   2.0     7.0    5.0    2.0  2.0   4.0         7.0   \n",
       "ENSG00000003436.15   6.0     6.0    6.0    6.0  7.0   NaN         5.0   \n",
       "\n",
       "                    pgp1_endo  pgp1_excite_neuron  vessels  \n",
       "annot_gene_id                                               \n",
       "ENSG00000002586.19        8.0                 4.0     10.0  \n",
       "ENSG00000002822.15       10.0                11.0     17.0  \n",
       "ENSG00000003147.18        8.0                 5.0      4.0  \n",
       "ENSG00000003402.19        9.0                 5.0      8.0  \n",
       "ENSG00000003436.15       11.0                 NaN      7.0  \n",
       "\n",
       "[5 rows x 31 columns]"
      ]
     },
     "execution_count": 49,
     "metadata": {},
     "output_type": "execute_result"
    }
   ],
   "source": [
    "print(len(df.index))\n",
    "df.head()"
   ]
  },
  {
   "cell_type": "code",
   "execution_count": 142,
   "id": "proved-chosen",
   "metadata": {},
   "outputs": [],
   "source": [
    "# enrichr on these genes\n",
    "dbs = ['GO_Biological_Process_2021',\n",
    "       'GO_Cellular_Component_2021',\n",
    "       'GO_Molecular_Function_2021',\n",
    "       'KEGG_2021_Human']\n",
    "bm = gp.parser.Biomart()\n",
    "datasets = bm.get_datasets(mart='ENSEMBL_MART_ENSEMBL')\n",
    "datasets.loc[datasets.Description.str.contains('Human')]\n",
    "\n",
    "df['gid'] = df.index\n",
    "gids = df.gid.str.rsplit('.', n=1, expand=True)[0].to_frame()\n",
    "df.drop('gid', axis=1, inplace=True)\n",
    "gids = gids.squeeze().str.strip().tolist()\n",
    "gids = bm.query(dataset='hsapiens_gene_ensembl',\n",
    "           attributes=['ensembl_gene_id', 'external_gene_name'],\n",
    "           filters={'ensembl_gene_id': gids})\n",
    "gids = gids.loc[~gids.external_gene_name.isna()]\n",
    "gnames = gids.external_gene_name.squeeze().str.strip().tolist()\n",
    "go = gp.enrichr(gene_list=gnames,\n",
    "                gene_sets=dbs,\n",
    "                organism='Human',\n",
    "                description='highly_spliced_isos',\n",
    "                outdir='highly_spliced_isos_GO',\n",
    "                cutoff=0.5)"
   ]
  },
  {
   "cell_type": "code",
   "execution_count": 50,
   "id": "necessary-playlist",
   "metadata": {},
   "outputs": [
    {
     "name": "stdout",
     "output_type": "stream",
     "text": [
      "306 genes with >15 complete isoforms / gene in at least one sample\n"
     ]
    }
   ],
   "source": [
    "df = df.loc[(df > 15).any(axis=1)]\n",
    "n = len(df.index)\n",
    "print('{} genes with >15 complete isoforms / gene in at least one sample'.format(n))"
   ]
  },
  {
   "cell_type": "code",
   "execution_count": 7,
   "id": "smart-climb",
   "metadata": {},
   "outputs": [],
   "source": [
    "# enrichr on these genes\n",
    "dbs = ['GO_Biological_Process_2021',\n",
    "       'GO_Cellular_Component_2021',\n",
    "       'GO_Molecular_Function_2021',\n",
    "       'KEGG_2021_Human']\n",
    "bm = gp.parser.Biomart()\n",
    "datasets = bm.get_datasets(mart='ENSEMBL_MART_ENSEMBL')\n",
    "datasets.loc[datasets.Description.str.contains('Human')]\n",
    "\n",
    "df['gid'] = df.index\n",
    "gids = df.gid.str.rsplit('.', n=1, expand=True)[0].to_frame()\n",
    "df.drop('gid', axis=1, inplace=True)\n",
    "gids = gids.squeeze().str.strip().tolist()\n",
    "gids = bm.query(dataset='hsapiens_gene_ensembl',\n",
    "           attributes=['ensembl_gene_id', 'external_gene_name'],\n",
    "           filters={'ensembl_gene_id': gids})\n",
    "gids = gids.loc[~gids.external_gene_name.isna()]\n",
    "gnames = gids.external_gene_name.squeeze().str.strip().tolist()\n",
    "go = gp.enrichr(gene_list=gnames,\n",
    "                gene_sets=dbs,\n",
    "                organism='Human',\n",
    "                description='highly_spliced_isos_15',\n",
    "                outdir='highly_spliced_isos_15_GO',\n",
    "                cutoff=0.5)"
   ]
  },
  {
   "cell_type": "markdown",
   "id": "second-uniform",
   "metadata": {},
   "source": [
    "How many of these genes have >15 annotated isoforms / gene? "
   ]
  },
  {
   "cell_type": "code",
   "execution_count": 54,
   "id": "novel-obligation",
   "metadata": {},
   "outputs": [
    {
     "name": "stdout",
     "output_type": "stream",
     "text": [
      "192 / 306 genes w/ >15 isoforms detected in one sample have >15 isoforms annotated in GENCODE\n"
     ]
    }
   ],
   "source": [
    "gene_df, _, _ = get_gtf_info(how='iso', subset='polya')\n",
    "gene_df = gene_df[['gid', 'tid']]\n",
    "gene_df = gene_df.groupby('gid').count().reset_index()\n",
    "gene_df.rename({'tid': 'n_isos_gencode'}, axis=1, inplace=True)\n",
    "gene_df.sort_values(by='n_isos_gencode', ascending=False, inplace=True)\n",
    "gene_df = gene_df.loc[gene_df.n_isos_gencode > 15]\n",
    "\n",
    "# get intersection of genes wih >15 annotated isoforms and \n",
    "# genes that we detect >15 isoforms in at least one sample\n",
    "n = len(set(gene_df.gid.tolist())&set(df.index.tolist()))\n",
    "total = len(df.index)\n",
    "\n",
    "print('{} / {} genes w/ >15 isoforms detected in one sample have >15 isoforms annotated in GENCODE'.format(n, total))"
   ]
  },
  {
   "cell_type": "markdown",
   "id": "distinguished-kentucky",
   "metadata": {},
   "source": [
    "What are the identities of highly-spliced genes?"
   ]
  },
  {
   "cell_type": "code",
   "execution_count": 37,
   "id": "controversial-queen",
   "metadata": {},
   "outputs": [
    {
     "name": "stdout",
     "output_type": "stream",
     "text": [
      "Calculating iso TPM values\n",
      "Subsetting for novelty categories ['Known', 'NIC', 'NNC']\n",
      "Subsetting for polya genes\n",
      "Enforcing minimum TPM\n",
      "Total # isos detected: 156027\n",
      "# isos >= 1 tpm: 141390\n",
      "Applying gene type and novelty subset\n",
      "Number of isos reported: 92963\n",
      "Found 31 total samples\n"
     ]
    }
   ],
   "source": [
    "df = pd.read_csv('human_talon_abundance_filtered.tsv', sep='\\t')\n",
    "df = get_isos_per_gene(df,\n",
    "                       min_tpm=1,\n",
    "                       gene_subset='polya',\n",
    "                       groupby='sample',\n",
    "                       nov=['Known', 'NIC', 'NNC'])"
   ]
  },
  {
   "cell_type": "code",
   "execution_count": 38,
   "id": "historical-heaven",
   "metadata": {},
   "outputs": [],
   "source": [
    "df['max_isos_sample'] = df.max(axis=1)\n",
    "df['max_sample'] = df.idxmax(axis=1)\n",
    "df = df[['max_isos_sample', 'max_sample']]\n",
    "df = df.sort_values('max_isos_sample', ascending=False)"
   ]
  },
  {
   "cell_type": "code",
   "execution_count": 39,
   "id": "prepared-scroll",
   "metadata": {},
   "outputs": [],
   "source": [
    "g_df = pd.read_csv('human_talon_abundance_filtered.tsv', sep='\\t')\n",
    "g_df = g_df[['annot_gene_name', 'annot_gene_id']].drop_duplicates()\n",
    "df = df.merge(g_df, how='left', left_index=True, right_on='annot_gene_id')"
   ]
  },
  {
   "cell_type": "code",
   "execution_count": 40,
   "id": "enormous-mountain",
   "metadata": {},
   "outputs": [
    {
     "name": "stdout",
     "output_type": "stream",
     "text": [
      "Top 10 genes with isoforms / gene / sample\n"
     ]
    },
    {
     "data": {
      "text/html": [
       "<div>\n",
       "<style scoped>\n",
       "    .dataframe tbody tr th:only-of-type {\n",
       "        vertical-align: middle;\n",
       "    }\n",
       "\n",
       "    .dataframe tbody tr th {\n",
       "        vertical-align: top;\n",
       "    }\n",
       "\n",
       "    .dataframe thead th {\n",
       "        text-align: right;\n",
       "    }\n",
       "</style>\n",
       "<table border=\"1\" class=\"dataframe\">\n",
       "  <thead>\n",
       "    <tr style=\"text-align: right;\">\n",
       "      <th></th>\n",
       "      <th>max_isos_sample</th>\n",
       "      <th>max_sample</th>\n",
       "      <th>annot_gene_name</th>\n",
       "      <th>annot_gene_id</th>\n",
       "    </tr>\n",
       "  </thead>\n",
       "  <tbody>\n",
       "    <tr>\n",
       "      <th>31360</th>\n",
       "      <td>134.0</td>\n",
       "      <td>h9_chondro</td>\n",
       "      <td>ELN</td>\n",
       "      <td>ENSG00000049540.16</td>\n",
       "    </tr>\n",
       "    <tr>\n",
       "      <th>41318</th>\n",
       "      <td>64.0</td>\n",
       "      <td>lung</td>\n",
       "      <td>SFTPA1</td>\n",
       "      <td>ENSG00000122852.14</td>\n",
       "    </tr>\n",
       "    <tr>\n",
       "      <th>12524</th>\n",
       "      <td>51.0</td>\n",
       "      <td>h9_chondro</td>\n",
       "      <td>FN1</td>\n",
       "      <td>ENSG00000115414.18</td>\n",
       "    </tr>\n",
       "    <tr>\n",
       "      <th>64923</th>\n",
       "      <td>48.0</td>\n",
       "      <td>heart</td>\n",
       "      <td>ACADVL</td>\n",
       "      <td>ENSG00000072778.19</td>\n",
       "    </tr>\n",
       "    <tr>\n",
       "      <th>12821</th>\n",
       "      <td>45.0</td>\n",
       "      <td>heart</td>\n",
       "      <td>DES</td>\n",
       "      <td>ENSG00000175084.11</td>\n",
       "    </tr>\n",
       "    <tr>\n",
       "      <th>58348</th>\n",
       "      <td>45.0</td>\n",
       "      <td>heart</td>\n",
       "      <td>TPM1</td>\n",
       "      <td>ENSG00000140416.20</td>\n",
       "    </tr>\n",
       "    <tr>\n",
       "      <th>33987</th>\n",
       "      <td>44.0</td>\n",
       "      <td>heart</td>\n",
       "      <td>CTSB</td>\n",
       "      <td>ENSG00000164733.20</td>\n",
       "    </tr>\n",
       "    <tr>\n",
       "      <th>27826</th>\n",
       "      <td>44.0</td>\n",
       "      <td>heart</td>\n",
       "      <td>SLC29A1</td>\n",
       "      <td>ENSG00000112759.17</td>\n",
       "    </tr>\n",
       "    <tr>\n",
       "      <th>23678</th>\n",
       "      <td>43.0</td>\n",
       "      <td>heart</td>\n",
       "      <td>PAM</td>\n",
       "      <td>ENSG00000145730.20</td>\n",
       "    </tr>\n",
       "    <tr>\n",
       "      <th>23610</th>\n",
       "      <td>42.0</td>\n",
       "      <td>heart</td>\n",
       "      <td>CAST</td>\n",
       "      <td>ENSG00000153113.23</td>\n",
       "    </tr>\n",
       "  </tbody>\n",
       "</table>\n",
       "</div>"
      ],
      "text/plain": [
       "       max_isos_sample  max_sample annot_gene_name       annot_gene_id\n",
       "31360            134.0  h9_chondro             ELN  ENSG00000049540.16\n",
       "41318             64.0        lung          SFTPA1  ENSG00000122852.14\n",
       "12524             51.0  h9_chondro             FN1  ENSG00000115414.18\n",
       "64923             48.0       heart          ACADVL  ENSG00000072778.19\n",
       "12821             45.0       heart             DES  ENSG00000175084.11\n",
       "58348             45.0       heart            TPM1  ENSG00000140416.20\n",
       "33987             44.0       heart            CTSB  ENSG00000164733.20\n",
       "27826             44.0       heart         SLC29A1  ENSG00000112759.17\n",
       "23678             43.0       heart             PAM  ENSG00000145730.20\n",
       "23610             42.0       heart            CAST  ENSG00000153113.23"
      ]
     },
     "execution_count": 40,
     "metadata": {},
     "output_type": "execute_result"
    }
   ],
   "source": [
    "print('Top 10 genes with isoforms / gene / sample')\n",
    "df.head(10)"
   ]
  },
  {
   "cell_type": "code",
   "execution_count": 41,
   "id": "nearby-fraud",
   "metadata": {},
   "outputs": [],
   "source": [
    "# save table \n",
    "df.to_csv('isos_per_gene_per_sample_min_15.tsv', sep='\\t')"
   ]
  },
  {
   "cell_type": "markdown",
   "id": "reasonable-eligibility",
   "metadata": {},
   "source": [
    "Number of libraries per sample"
   ]
  },
  {
   "cell_type": "code",
   "execution_count": 35,
   "id": "mediterranean-panama",
   "metadata": {},
   "outputs": [
    {
     "name": "stdout",
     "output_type": "stream",
     "text": [
      "Calculating iso TPM values\n",
      "Subsetting for novelty categories ['Known', 'NIC', 'NNC']\n",
      "Subsetting for polya genes\n",
      "Enforcing minimum TPM\n",
      "Total # isos detected: 156027\n",
      "# isos >= 1 tpm: 141390\n",
      "Applying gene type and novelty subset\n",
      "Number of isos reported: 92963\n",
      "Found 31 total samples\n",
      "Slope of correlation: 0.06860873899624846\n",
      "R of correlation: 0.6894778034661756\n",
      "R2 of correlation: 0.8220809043849258\n"
     ]
    },
    {
     "data": {
      "image/png": "[encoded data removed]",
      "text/plain": [
       "<Figure size 432x288 with 1 Axes>"
      ]
     },
     "metadata": {
      "needs_background": "light"
     },
     "output_type": "display_data"
    }
   ],
   "source": [
    "df = pd.read_csv('human_talon_abundance_filtered.tsv', sep='\\t')\n",
    "plot_n_libs_v_avg_isos(df,\n",
    "                        min_tpm=1,\n",
    "                        gene_subset='polya',\n",
    "                        sample='all',\n",
    "                        nov=['Known', 'NIC', 'NNC'], \n",
    "                        opref='figures/human')"
   ]
  },
  {
   "cell_type": "markdown",
   "id": "colonial-trinity",
   "metadata": {},
   "source": [
    "Number of reads per sample"
   ]
  },
  {
   "cell_type": "code",
   "execution_count": 36,
   "id": "adequate-firewall",
   "metadata": {},
   "outputs": [
    {
     "name": "stdout",
     "output_type": "stream",
     "text": [
      "Found 31 total samples\n",
      "Calculating iso TPM values\n",
      "Subsetting for novelty categories ['Known', 'NIC', 'NNC']\n",
      "Subsetting for polya genes\n",
      "Enforcing minimum TPM\n",
      "Total # isos detected: 156027\n",
      "# isos >= 1 tpm: 141390\n",
      "Applying gene type and novelty subset\n",
      "Number of isos reported: 92963\n",
      "Found 31 total samples\n",
      "Slope of correlation: 5.3768968831182704e-08\n",
      "R of correlation: 0.7143535392911774\n",
      "R2 of correlation: 0.7495967741935485\n"
     ]
    },
    {
     "data": {
      "image/png": "[encoded data removed]",
      "text/plain": [
       "<Figure size 432x288 with 1 Axes>"
      ]
     },
     "metadata": {
      "needs_background": "light"
     },
     "output_type": "display_data"
    }
   ],
   "source": [
    "df = pd.read_csv('human_talon_abundance.tsv', sep='\\t')\n",
    "filt_df = pd.read_csv('human_talon_abundance_filtered.tsv', sep='\\t')\n",
    "plot_n_reads_v_avg_isos(df, filt_df,\n",
    "                        min_tpm=1,\n",
    "                        gene_subset='polya',\n",
    "                        sample='all',\n",
    "                        groupby='sample',\n",
    "                        nov=['Known', 'NIC', 'NNC'], \n",
    "                        opref='figures/human')"
   ]
  },
  {
   "cell_type": "markdown",
   "id": "better-viewer",
   "metadata": {},
   "source": [
    "What fraction of polyA genes express >= 2 complete isoforms in more than half of their expressed samples?"
   ]
  },
  {
   "cell_type": "code",
   "execution_count": 51,
   "id": "turned-mouth",
   "metadata": {},
   "outputs": [
    {
     "name": "stdout",
     "output_type": "stream",
     "text": [
      "Calculating gene TPM values\n",
      "Subsetting for novelty categories ['Known']\n",
      "Subsetting for polya genes\n",
      "Enforcing minimum TPM\n",
      "Total # genes detected: 352297\n",
      "# genes >= 1 tpm: 217535\n",
      "Applying gene type and novelty subset\n",
      "Number of genes reported: 31968\n",
      "Found 31 total samples\n",
      "Calculating iso TPM values\n",
      "Subsetting for novelty categories ['Known', 'NIC', 'NNC']\n",
      "Subsetting for polya genes\n",
      "Enforcing minimum TPM\n",
      "Total # isos detected: 156027\n",
      "# isos >= 1 tpm: 141390\n",
      "Applying gene type and novelty subset\n",
      "Number of isos reported: 92963\n",
      "Found 31 total samples\n"
     ]
    }
   ],
   "source": [
    "filt_df = pd.read_csv('human_talon_abundance_filtered.tsv', sep='\\t')\n",
    "df = pd.read_csv('human_talon_abundance.tsv', sep='\\t')\n",
    "\n",
    "df = get_gene_iso_det_table(df, filt_df,\n",
    "                            min_isos=2,\n",
    "                            iso_nov=['Known', 'NIC', 'NNC'],\n",
    "                            gene_nov=['Known'],\n",
    "                            gene_subset='polya',\n",
    "                            min_tpm=1,\n",
    "                            sample='all',\n",
    "                            groupby='sample')"
   ]
  },
  {
   "cell_type": "code",
   "execution_count": 52,
   "id": "disabled-completion",
   "metadata": {},
   "outputs": [
    {
     "name": "stdout",
     "output_type": "stream",
     "text": [
      "8274 / 31968 detected polyA genes express >=2 isoforms in at least half of their expressed samples\n"
     ]
    }
   ],
   "source": [
    "df = df.apply(pd.Series.value_counts)\n",
    "df = df.transpose()\n",
    "df.fillna(0, inplace=True)\n",
    "df.rename({'00': 'no_det',\n",
    "             '01': 'gene_det',\n",
    "             '10': 'iso_det',\n",
    "             '11': 'gene_iso_det'}, axis=1, inplace=True)\n",
    "\n",
    "df['total_gene_det'] = df['gene_det']+df['gene_iso_det']\n",
    "df['prop'] = df['gene_iso_det']/df['total_gene_det']\n",
    "\n",
    "n_gene_iso = len(df.loc[df.prop >= .5])\n",
    "n = len(df.index)\n",
    "\n",
    "print('{} / {} detected polyA genes express >=2 isoforms in at least half of their expressed samples'.format(n_gene_iso, n))"
   ]
  },
  {
   "cell_type": "markdown",
   "id": "removed-ebony",
   "metadata": {},
   "source": [
    "What fraction of TF genes express >= 2 complete isoforms in more than half of their expressed samples?\n"
   ]
  },
  {
   "cell_type": "code",
   "execution_count": 59,
   "id": "educational-cabinet",
   "metadata": {},
   "outputs": [
    {
     "name": "stdout",
     "output_type": "stream",
     "text": [
      "Calculating gene TPM values\n",
      "Subsetting for novelty categories ['Known']\n",
      "Subsetting for tf genes\n",
      "Enforcing minimum TPM\n",
      "Total # genes detected: 352297\n",
      "# genes >= 1 tpm: 217535\n",
      "Applying gene type and novelty subset\n",
      "Number of genes reported: 1355\n",
      "Found 31 total samples\n",
      "Calculating iso TPM values\n",
      "Subsetting for novelty categories ['Known', 'NIC', 'NNC']\n",
      "Subsetting for tf genes\n",
      "Enforcing minimum TPM\n",
      "Total # isos detected: 156027\n",
      "# isos >= 1 tpm: 141390\n",
      "Applying gene type and novelty subset\n",
      "Number of isos reported: 5201\n",
      "Found 31 total samples\n"
     ]
    }
   ],
   "source": [
    "filt_df = pd.read_csv('human_talon_abundance_filtered.tsv', sep='\\t')\n",
    "df = pd.read_csv('human_talon_abundance.tsv', sep='\\t')\n",
    "\n",
    "df = get_gene_iso_det_table(df, filt_df,\n",
    "                            min_isos=2,\n",
    "                            iso_nov=['Known', 'NIC', 'NNC'],\n",
    "                            gene_nov=['Known'],\n",
    "                            gene_subset='tf',\n",
    "                            min_tpm=1,\n",
    "                            sample='all',\n",
    "                            groupby='sample')"
   ]
  },
  {
   "cell_type": "code",
   "execution_count": 60,
   "id": "single-century",
   "metadata": {},
   "outputs": [
    {
     "name": "stdout",
     "output_type": "stream",
     "text": [
      "518 / 1355 detected TF genes express >=2 isoforms in at least half of their expressed samples\n"
     ]
    }
   ],
   "source": [
    "df = df.apply(pd.Series.value_counts)\n",
    "df = df.transpose()\n",
    "df.fillna(0, inplace=True)\n",
    "df.rename({'00': 'no_det',\n",
    "             '01': 'gene_det',\n",
    "             '10': 'iso_det',\n",
    "             '11': 'gene_iso_det'}, axis=1, inplace=True)\n",
    "\n",
    "df['total_gene_det'] = df['gene_det']+df['gene_iso_det']\n",
    "df['prop'] = df['gene_iso_det']/df['total_gene_det']\n",
    "\n",
    "n_gene_iso = len(df.loc[df.prop >= .5])\n",
    "n = len(df.index)\n",
    "\n",
    "print('{} / {} detected TF genes express >=2 isoforms in at least half of their expressed samples'.format(n_gene_iso, n))"
   ]
  },
  {
   "cell_type": "markdown",
   "id": "atomic-validity",
   "metadata": {},
   "source": [
    "What fraction of polyA genes have >= 2 complete isoforms detected in the same sample?"
   ]
  },
  {
   "cell_type": "code",
   "execution_count": 61,
   "id": "purple-stadium",
   "metadata": {},
   "outputs": [
    {
     "name": "stdout",
     "output_type": "stream",
     "text": [
      "Calculating iso TPM values\n",
      "Subsetting for novelty categories ['Known', 'NIC', 'NNC']\n",
      "Subsetting for polya genes\n",
      "Enforcing minimum TPM\n",
      "Total # isos detected: 156027\n",
      "# isos >= 1 tpm: 141390\n",
      "Applying gene type and novelty subset\n",
      "Number of isos reported: 92963\n",
      "Found 31 total samples\n"
     ]
    }
   ],
   "source": [
    "df = pd.read_csv('human_talon_abundance_filtered.tsv', sep='\\t')\n",
    "df = get_isos_per_gene(df,\n",
    "                       min_tpm=1,\n",
    "                       gene_subset='polya',\n",
    "                       groupby='sample', \n",
    "                       nov=['Known', 'NIC', 'NNC'])"
   ]
  },
  {
   "cell_type": "code",
   "execution_count": 62,
   "id": "according-mapping",
   "metadata": {},
   "outputs": [
    {
     "name": "stdout",
     "output_type": "stream",
     "text": [
      "10672 / 49472 annotated polyA genes have >= 2 isoforms expressed in >= 1 sample\n"
     ]
    }
   ],
   "source": [
    "gene_df, b_counts, b_cat_counts = get_gtf_info(how='gene', subset='polya')\n",
    "n_polya = len(gene_df.index)\n",
    "\n",
    "df = df.loc[(df > 2).any(axis=1)]\n",
    "n_det_polya = len(df.index)\n",
    "\n",
    "print('{} / {} annotated polyA genes have >= 2 isoforms expressed in >= 1 sample'.format(n_det_polya, n_polya))"
   ]
  },
  {
   "cell_type": "markdown",
   "id": "separate-soundtrack",
   "metadata": {},
   "source": [
    "What fraction of TF genes have >= 2 complete isoforms detected in the same sample?"
   ]
  },
  {
   "cell_type": "code",
   "execution_count": 63,
   "id": "positive-juvenile",
   "metadata": {},
   "outputs": [
    {
     "name": "stdout",
     "output_type": "stream",
     "text": [
      "Calculating iso TPM values\n",
      "Subsetting for novelty categories ['Known', 'NIC', 'NNC']\n",
      "Subsetting for tf genes\n",
      "Enforcing minimum TPM\n",
      "Total # isos detected: 156027\n",
      "# isos >= 1 tpm: 141390\n",
      "Applying gene type and novelty subset\n",
      "Number of isos reported: 5201\n",
      "Found 31 total samples\n"
     ]
    }
   ],
   "source": [
    "df = pd.read_csv('human_talon_abundance_filtered.tsv', sep='\\t')\n",
    "df = get_isos_per_gene(df,\n",
    "                       min_tpm=1,\n",
    "                       gene_subset='tf',\n",
    "                       groupby='sample', \n",
    "                       nov=['Known', 'NIC', 'NNC'])"
   ]
  },
  {
   "cell_type": "code",
   "execution_count": 64,
   "id": "biological-uzbekistan",
   "metadata": {},
   "outputs": [
    {
     "name": "stdout",
     "output_type": "stream",
     "text": [
      "698 / 1419 annotated TF genes have >= 2 isoforms expressed in >= 1 sample\n"
     ]
    }
   ],
   "source": [
    "gene_df, b_counts, b_cat_counts = get_gtf_info(how='gene', subset='tf')\n",
    "n_polya = len(gene_df.index)\n",
    "\n",
    "df = df.loc[(df > 2).any(axis=1)]\n",
    "n_det_polya = len(df.index)\n",
    "\n",
    "print('{} / {} annotated TF genes have >= 2 isoforms expressed in >= 1 sample'.format(n_det_polya, n_polya))"
   ]
  },
  {
   "cell_type": "code",
   "execution_count": null,
   "id": "prospective-calculator",
   "metadata": {},
   "outputs": [],
   "source": []
  },
  {
   "cell_type": "code",
   "execution_count": null,
   "id": "historic-sodium",
   "metadata": {},
   "outputs": [],
   "source": []
  }
 ],
 "metadata": {
  "kernelspec": {
   "display_name": "Python 3",
   "language": "python",
   "name": "python3"
  },
  "language_info": {
   "codemirror_mode": {
    "name": "ipython",
    "version": 3
   },
   "file_extension": ".py",
   "mimetype": "text/x-python",
   "name": "python",
   "nbconvert_exporter": "python",
   "pygments_lexer": "ipython3",
   "version": "3.7.4"
  }
 },
 "nbformat": 4,
 "nbformat_minor": 5
}
