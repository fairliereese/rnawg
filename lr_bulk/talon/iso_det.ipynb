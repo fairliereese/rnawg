{
 "cells": [
  {
   "cell_type": "code",
   "execution_count": 1,
   "id": "specified-elephant",
   "metadata": {},
   "outputs": [],
   "source": [
    "import pandas as pd\n",
    "import numpy as np\n",
    "import scipy.stats as st\n",
    "import seaborn as sns\n",
    "import sys\n",
    "import os\n",
    "\n",
    "p = os.path.dirname(os.path.dirname(os.getcwd()))\n",
    "sys.path.append(p)\n",
    "\n",
    "from scripts.utils import *\n",
    "from scripts.plotting import *"
   ]
  },
  {
   "cell_type": "markdown",
   "id": "dominant-quest",
   "metadata": {},
   "source": [
    "## PolyA gene transcript detection"
   ]
  },
  {
   "cell_type": "markdown",
   "id": "convenient-actress",
   "metadata": {},
   "source": [
    "What fraction of polyA genes from the annotation do we detect with at least 1 known isoform >= 1 TPM in any library?"
   ]
  },
  {
   "cell_type": "code",
   "execution_count": 3,
   "id": "moderate-password",
   "metadata": {},
   "outputs": [
    {
     "name": "stdout",
     "output_type": "stream",
     "text": [
      "Calculating iso TPM values\n",
      "Subsetting for polyA genes\n",
      "Enforcing minimum TPM\n",
      "Total # isos detected: 85348\n",
      "# isos >= 1 tpm: 77128\n",
      "Subsetting on polya genes\n",
      "Number of isos reported: 74796\n"
     ]
    }
   ],
   "source": [
    "df = pd.read_csv('human_talon_abundance.tsv', sep='\\t')\n",
    "df = get_tpm_table(df,\n",
    "                   how='iso',\n",
    "                   nov=['Known'],\n",
    "                   min_tpm=1,\n",
    "                   gene_subset='polya')"
   ]
  },
  {
   "cell_type": "code",
   "execution_count": 3,
   "id": "dependent-memorabilia",
   "metadata": {},
   "outputs": [],
   "source": [
    "# merge with gene id\n",
    "gene_df = pd.read_csv('human_talon_abundance.tsv', sep='\\t')\n",
    "gene_df = gene_df[['annot_gene_id', 'annot_transcript_id']]\n",
    "df = df.merge(gene_df, how='left', left_index=True, right_on='annot_transcript_id')"
   ]
  },
  {
   "cell_type": "code",
   "execution_count": 4,
   "id": "offensive-death",
   "metadata": {},
   "outputs": [
    {
     "name": "stdout",
     "output_type": "stream",
     "text": [
      "Detected 24936 / 49472 annotated polyA genes w/ at least 1 known transcript >= 1 TPM\n"
     ]
    }
   ],
   "source": [
    "gene_df, _, _ = get_gtf_info(how='gene')\n",
    "\n",
    "polya_biotypes = ['protein_coding', 'pseudogene', 'lncRNA']\n",
    "polya_genes = gene_df.loc[gene_df.biotype_category.isin(polya_biotypes), 'gid'].tolist()\n",
    "n_polya = len(polya_genes)\n",
    "n_det_polya = len(df.annot_gene_id.unique().tolist())\n",
    "\n",
    "print('Detected {} / {} annotated polyA genes w/ at least 1 known transcript >= 1 TPM'.format(n_det_polya, n_polya))"
   ]
  },
  {
   "cell_type": "markdown",
   "id": "directed-powell",
   "metadata": {},
   "source": [
    "## Characteristics of detected known, polyA gene associated transcripts"
   ]
  },
  {
   "cell_type": "markdown",
   "id": "assisted-philippines",
   "metadata": {},
   "source": [
    "Number of cell types or tissues that each known transcript from polyA genes is expressed >= 1 TPM"
   ]
  },
  {
   "cell_type": "code",
   "execution_count": 6,
   "id": "abstract-programming",
   "metadata": {},
   "outputs": [
    {
     "name": "stdout",
     "output_type": "stream",
     "text": [
      "Calculating iso TPM values\n",
      "Subsetting for polyA genes\n",
      "Enforcing minimum TPM\n",
      "Total # isos detected: 85348\n",
      "# isos >= 1 tpm: 77128\n",
      "Subsetting on polya genes\n",
      "Number of isos reported: 74796\n"
     ]
    }
   ],
   "source": [
    "df = pd.read_csv('human_talon_abundance.tsv', sep='\\t')\n",
    "df = get_tpm_table(df,\n",
    "                   how='iso',\n",
    "                   nov=['Known'],\n",
    "                   min_tpm=1,\n",
    "                   gene_subset='polya')"
   ]
  },
  {
   "cell_type": "code",
   "execution_count": 7,
   "id": "identical-january",
   "metadata": {},
   "outputs": [],
   "source": [
    "df = df.transpose()\n",
    "df.index.name = 'dataset'\n",
    "df.reset_index(inplace=True)\n",
    "\n",
    "# add biosample name (ie without rep information)\n",
    "df['biosample'] = df.dataset.str.rsplit('_', n=2, expand=True)[0]\n",
    "df.drop(['dataset'], axis=1, inplace=True)\n",
    "\n",
    "# record the highest TPM value per biosample\n",
    "tissue_df = get_tissue_metadata()\n",
    "tissue_df = tissue_df[['tissue', 'biosample']]\n",
    "\n",
    "df = df.merge(tissue_df, how='left', on='biosample')\n",
    "df.loc[df.tissue.isnull(), 'tissue'] = df.loc[df.tissue.isnull(), 'biosample']\n",
    "df.drop('biosample', axis=1, inplace=True)\n",
    "df.rename({'tissue': 'biosample'}, axis=1, inplace=True)\n",
    "\n",
    "df = df.groupby('biosample').max()\n",
    "\n",
    "# finally, calculate the number of biosamples these transcripts\n",
    "# are expressed >= 1 TPM\n",
    "df = df.transpose()\n",
    "df['n_samples'] = (df >= 1).astype(int).sum(axis=1)"
   ]
  },
  {
   "cell_type": "code",
   "execution_count": 8,
   "id": "extraordinary-serbia",
   "metadata": {},
   "outputs": [
    {
     "data": {
      "image/png": "[encoded data removed]",
      "text/plain": [
       "<Figure size 360x360 with 1 Axes>"
      ]
     },
     "metadata": {
      "needs_background": "light"
     },
     "output_type": "display_data"
    }
   ],
   "source": [
    "opref = 'figures/'\n",
    "\n",
    "sns.set_context('paper', font_scale=2)\n",
    "\n",
    "ax = sns.displot(data=df, x='n_samples', kind='hist', binwidth=1)\n",
    "# ax = sns.displot(data=temp, x='length', kind='kde', \n",
    "#                  linewidth=3)\n",
    "\n",
    "xlabel = 'Number of cell lines and tissues'\n",
    "ylabel = 'Known transcripts'\n",
    "# _ = ax.set(xlabel=xlabel, ylabel=ylabel, xlim=(0,10000))\n",
    "_ = ax.set(xlabel=xlabel, ylabel=ylabel)\n",
    "\n",
    "plt.savefig('{}_iso_det_1_tpm_biosample.pdf'.format(opref), \\\n",
    "            dpi=300, bbox_inches='tight')"
   ]
  },
  {
   "cell_type": "markdown",
   "id": "indonesian-joyce",
   "metadata": {},
   "source": [
    "Length of transcripts from polyA genes detected >= 1 TPM"
   ]
  },
  {
   "cell_type": "code",
   "execution_count": 42,
   "id": "allied-maple",
   "metadata": {},
   "outputs": [
    {
     "name": "stdout",
     "output_type": "stream",
     "text": [
      "Calculating iso TPM values\n",
      "Subsetting for polyA genes\n",
      "Enforcing minimum TPM\n",
      "Total # isos detected: 85348\n",
      "# isos >= 1 tpm: 77128\n",
      "Subsetting on polya genes\n",
      "Number of isos reported: 74796\n"
     ]
    }
   ],
   "source": [
    "df = pd.read_csv('human_talon_abundance_filtered.tsv', sep='\\t')\n",
    "df = get_tpm_table(df,\n",
    "                   how='iso',\n",
    "                   nov=['Known'],\n",
    "                   min_tpm=1,\n",
    "                   gene_subset='polya')"
   ]
  },
  {
   "cell_type": "code",
   "execution_count": 55,
   "id": "special-armstrong",
   "metadata": {},
   "outputs": [],
   "source": [
    "# merge with transcript len\n",
    "t_df, _, _ = get_gtf_info(how='iso', subset='polya')\n",
    "\n",
    "df.reset_index(inplace=True)\n",
    "df = df['annot_transcript_id'].to_frame()\n",
    "\n",
    "df = df.merge(t_df, how='outer',\n",
    "              left_on='annot_transcript_id', right_on='tid')"
   ]
  },
  {
   "cell_type": "code",
   "execution_count": 56,
   "id": "weekly-friday",
   "metadata": {},
   "outputs": [
    {
     "data": {
      "text/plain": [
       "197394"
      ]
     },
     "execution_count": 56,
     "metadata": {},
     "output_type": "execute_result"
    }
   ],
   "source": [
    "len(t_df.index)"
   ]
  },
  {
   "cell_type": "code",
   "execution_count": 57,
   "id": "fancy-petersburg",
   "metadata": {},
   "outputs": [],
   "source": [
    "df['detected'] = True\n",
    "df.loc[df.annot_transcript_id.isnull(), 'detected'] = False"
   ]
  },
  {
   "cell_type": "code",
   "execution_count": 62,
   "id": "spare-slide",
   "metadata": {},
   "outputs": [
    {
     "data": {
      "image/png": "[encoded data removed]",
      "text/plain": [
       "<Figure size 467.36x360 with 1 Axes>"
      ]
     },
     "metadata": {
      "needs_background": "light"
     },
     "output_type": "display_data"
    }
   ],
   "source": [
    "opref = 'figures/'\n",
    "\n",
    "sns.set_context('paper', font_scale=2)\n",
    "\n",
    "ax = sns.displot(data=df, x='t_len', kind='kde',\n",
    "                 linewidth=3, hue='detected', common_norm=True)\n",
    "# ax = sns.displot(data=temp, x='length', kind='kde', \n",
    "#                  linewidth=3)\n",
    "\n",
    "xlabel = 'Transcript length'\n",
    "ylabel = 'Detected GENCODE transcripts'\n",
    "_ = ax.set(xlabel=xlabel, ylabel=ylabel, xlim=(0,10000))\n",
    "# _ = ax.set(xlabel=xlabel, ylabel=ylabel)\n",
    "\n",
    "plt.savefig('{}_iso_det_1_tpm_length.pdf'.format(opref), \\\n",
    "            dpi=300, bbox_inches='tight')"
   ]
  },
  {
   "cell_type": "markdown",
   "id": "dutch-learning",
   "metadata": {},
   "source": [
    "Variance in TPM levels >= 1 TPM for known transcripts detected >= 1 TPM"
   ]
  },
  {
   "cell_type": "code",
   "execution_count": 41,
   "id": "gorgeous-testament",
   "metadata": {},
   "outputs": [
    {
     "name": "stdout",
     "output_type": "stream",
     "text": [
      "Calculating iso TPM values\n",
      "Subsetting for polyA genes\n",
      "Enforcing minimum TPM\n",
      "Total # isos detected: 85348\n",
      "# isos >= 1 tpm: 77128\n",
      "Subsetting on polya genes\n",
      "Number of isos reported: 74796\n"
     ]
    }
   ],
   "source": [
    "df = pd.read_csv('human_talon_abundance.tsv', sep='\\t')\n",
    "df = get_tpm_table(df,\n",
    "                   how='iso',\n",
    "                   nov=['Known'],\n",
    "                   min_tpm=1,\n",
    "                   gene_subset='polya')"
   ]
  },
  {
   "cell_type": "code",
   "execution_count": 42,
   "id": "alive-trick",
   "metadata": {},
   "outputs": [
    {
     "data": {
      "text/html": [
       "<div>\n",
       "<style scoped>\n",
       "    .dataframe tbody tr th:only-of-type {\n",
       "        vertical-align: middle;\n",
       "    }\n",
       "\n",
       "    .dataframe tbody tr th {\n",
       "        vertical-align: top;\n",
       "    }\n",
       "\n",
       "    .dataframe thead th {\n",
       "        text-align: right;\n",
       "    }\n",
       "</style>\n",
       "<table border=\"1\" class=\"dataframe\">\n",
       "  <thead>\n",
       "    <tr style=\"text-align: right;\">\n",
       "      <th></th>\n",
       "      <th>gm12878_1_1</th>\n",
       "      <th>gm12878_1_2</th>\n",
       "      <th>gm12878_1_3</th>\n",
       "      <th>gm12878_1_4</th>\n",
       "      <th>gm12878_3_1</th>\n",
       "      <th>gm12878_2_1</th>\n",
       "      <th>gm12878_2_2</th>\n",
       "      <th>pgp1_1_1</th>\n",
       "      <th>pgp1_1_2</th>\n",
       "      <th>h9_1_1</th>\n",
       "      <th>...</th>\n",
       "      <th>psoas_muscle_1_1</th>\n",
       "      <th>right_cardiac_atrium_1_1</th>\n",
       "      <th>right_cardiac_atrium_3_1</th>\n",
       "      <th>right_cardiac_atrium_4_1</th>\n",
       "      <th>right_cardiac_atrium_2_1</th>\n",
       "      <th>right_lobe_of_liver_1_1</th>\n",
       "      <th>right_lobe_of_liver_2_1</th>\n",
       "      <th>right_ventricle_myocardium_inferior_1_1</th>\n",
       "      <th>right_ventricle_myocardium_superior_1_1</th>\n",
       "      <th>upper_lobe_of_right_lung_1_1</th>\n",
       "    </tr>\n",
       "    <tr>\n",
       "      <th>annot_transcript_id</th>\n",
       "      <th></th>\n",
       "      <th></th>\n",
       "      <th></th>\n",
       "      <th></th>\n",
       "      <th></th>\n",
       "      <th></th>\n",
       "      <th></th>\n",
       "      <th></th>\n",
       "      <th></th>\n",
       "      <th></th>\n",
       "      <th></th>\n",
       "      <th></th>\n",
       "      <th></th>\n",
       "      <th></th>\n",
       "      <th></th>\n",
       "      <th></th>\n",
       "      <th></th>\n",
       "      <th></th>\n",
       "      <th></th>\n",
       "      <th></th>\n",
       "      <th></th>\n",
       "    </tr>\n",
       "  </thead>\n",
       "  <tbody>\n",
       "    <tr>\n",
       "      <th>ENST00000469289.1</th>\n",
       "      <td>0.0</td>\n",
       "      <td>0.0</td>\n",
       "      <td>0.0</td>\n",
       "      <td>0.0</td>\n",
       "      <td>0.0</td>\n",
       "      <td>0.0</td>\n",
       "      <td>0.0</td>\n",
       "      <td>0.000000</td>\n",
       "      <td>0.000000</td>\n",
       "      <td>0.000000</td>\n",
       "      <td>...</td>\n",
       "      <td>0.0</td>\n",
       "      <td>0.0</td>\n",
       "      <td>0.0</td>\n",
       "      <td>0.0</td>\n",
       "      <td>0.0</td>\n",
       "      <td>0.0</td>\n",
       "      <td>0.0</td>\n",
       "      <td>0.0</td>\n",
       "      <td>0.0</td>\n",
       "      <td>0.0</td>\n",
       "    </tr>\n",
       "    <tr>\n",
       "      <th>ENST00000417324.1</th>\n",
       "      <td>0.0</td>\n",
       "      <td>0.0</td>\n",
       "      <td>0.0</td>\n",
       "      <td>0.0</td>\n",
       "      <td>0.0</td>\n",
       "      <td>0.0</td>\n",
       "      <td>0.0</td>\n",
       "      <td>1.737626</td>\n",
       "      <td>1.618796</td>\n",
       "      <td>0.000000</td>\n",
       "      <td>...</td>\n",
       "      <td>0.0</td>\n",
       "      <td>0.0</td>\n",
       "      <td>0.0</td>\n",
       "      <td>0.0</td>\n",
       "      <td>0.0</td>\n",
       "      <td>0.0</td>\n",
       "      <td>0.0</td>\n",
       "      <td>0.0</td>\n",
       "      <td>0.0</td>\n",
       "      <td>0.0</td>\n",
       "    </tr>\n",
       "    <tr>\n",
       "      <th>ENST00000461467.1</th>\n",
       "      <td>0.0</td>\n",
       "      <td>0.0</td>\n",
       "      <td>0.0</td>\n",
       "      <td>0.0</td>\n",
       "      <td>0.0</td>\n",
       "      <td>0.0</td>\n",
       "      <td>0.0</td>\n",
       "      <td>1.737626</td>\n",
       "      <td>0.000000</td>\n",
       "      <td>0.000000</td>\n",
       "      <td>...</td>\n",
       "      <td>0.0</td>\n",
       "      <td>0.0</td>\n",
       "      <td>0.0</td>\n",
       "      <td>0.0</td>\n",
       "      <td>0.0</td>\n",
       "      <td>0.0</td>\n",
       "      <td>0.0</td>\n",
       "      <td>0.0</td>\n",
       "      <td>0.0</td>\n",
       "      <td>0.0</td>\n",
       "    </tr>\n",
       "    <tr>\n",
       "      <th>ENST00000442987.3</th>\n",
       "      <td>0.0</td>\n",
       "      <td>0.0</td>\n",
       "      <td>0.0</td>\n",
       "      <td>0.0</td>\n",
       "      <td>0.0</td>\n",
       "      <td>0.0</td>\n",
       "      <td>0.0</td>\n",
       "      <td>0.000000</td>\n",
       "      <td>0.000000</td>\n",
       "      <td>0.000000</td>\n",
       "      <td>...</td>\n",
       "      <td>0.0</td>\n",
       "      <td>0.0</td>\n",
       "      <td>0.0</td>\n",
       "      <td>0.0</td>\n",
       "      <td>0.0</td>\n",
       "      <td>0.0</td>\n",
       "      <td>0.0</td>\n",
       "      <td>0.0</td>\n",
       "      <td>0.0</td>\n",
       "      <td>0.0</td>\n",
       "    </tr>\n",
       "    <tr>\n",
       "      <th>ENST00000494149.2</th>\n",
       "      <td>0.0</td>\n",
       "      <td>0.0</td>\n",
       "      <td>0.0</td>\n",
       "      <td>0.0</td>\n",
       "      <td>0.0</td>\n",
       "      <td>0.0</td>\n",
       "      <td>0.0</td>\n",
       "      <td>1.737626</td>\n",
       "      <td>6.475185</td>\n",
       "      <td>1.242064</td>\n",
       "      <td>...</td>\n",
       "      <td>0.0</td>\n",
       "      <td>0.0</td>\n",
       "      <td>0.0</td>\n",
       "      <td>0.0</td>\n",
       "      <td>0.0</td>\n",
       "      <td>0.0</td>\n",
       "      <td>0.0</td>\n",
       "      <td>0.0</td>\n",
       "      <td>0.0</td>\n",
       "      <td>0.0</td>\n",
       "    </tr>\n",
       "  </tbody>\n",
       "</table>\n",
       "<p>5 rows × 90 columns</p>\n",
       "</div>"
      ],
      "text/plain": [
       "                     gm12878_1_1  gm12878_1_2  gm12878_1_3  gm12878_1_4  \\\n",
       "annot_transcript_id                                                       \n",
       "ENST00000469289.1            0.0          0.0          0.0          0.0   \n",
       "ENST00000417324.1            0.0          0.0          0.0          0.0   \n",
       "ENST00000461467.1            0.0          0.0          0.0          0.0   \n",
       "ENST00000442987.3            0.0          0.0          0.0          0.0   \n",
       "ENST00000494149.2            0.0          0.0          0.0          0.0   \n",
       "\n",
       "                     gm12878_3_1  gm12878_2_1  gm12878_2_2  pgp1_1_1  \\\n",
       "annot_transcript_id                                                    \n",
       "ENST00000469289.1            0.0          0.0          0.0  0.000000   \n",
       "ENST00000417324.1            0.0          0.0          0.0  1.737626   \n",
       "ENST00000461467.1            0.0          0.0          0.0  1.737626   \n",
       "ENST00000442987.3            0.0          0.0          0.0  0.000000   \n",
       "ENST00000494149.2            0.0          0.0          0.0  1.737626   \n",
       "\n",
       "                     pgp1_1_2    h9_1_1  ...  psoas_muscle_1_1  \\\n",
       "annot_transcript_id                      ...                     \n",
       "ENST00000469289.1    0.000000  0.000000  ...               0.0   \n",
       "ENST00000417324.1    1.618796  0.000000  ...               0.0   \n",
       "ENST00000461467.1    0.000000  0.000000  ...               0.0   \n",
       "ENST00000442987.3    0.000000  0.000000  ...               0.0   \n",
       "ENST00000494149.2    6.475185  1.242064  ...               0.0   \n",
       "\n",
       "                     right_cardiac_atrium_1_1  right_cardiac_atrium_3_1  \\\n",
       "annot_transcript_id                                                       \n",
       "ENST00000469289.1                         0.0                       0.0   \n",
       "ENST00000417324.1                         0.0                       0.0   \n",
       "ENST00000461467.1                         0.0                       0.0   \n",
       "ENST00000442987.3                         0.0                       0.0   \n",
       "ENST00000494149.2                         0.0                       0.0   \n",
       "\n",
       "                     right_cardiac_atrium_4_1  right_cardiac_atrium_2_1  \\\n",
       "annot_transcript_id                                                       \n",
       "ENST00000469289.1                         0.0                       0.0   \n",
       "ENST00000417324.1                         0.0                       0.0   \n",
       "ENST00000461467.1                         0.0                       0.0   \n",
       "ENST00000442987.3                         0.0                       0.0   \n",
       "ENST00000494149.2                         0.0                       0.0   \n",
       "\n",
       "                     right_lobe_of_liver_1_1  right_lobe_of_liver_2_1  \\\n",
       "annot_transcript_id                                                     \n",
       "ENST00000469289.1                        0.0                      0.0   \n",
       "ENST00000417324.1                        0.0                      0.0   \n",
       "ENST00000461467.1                        0.0                      0.0   \n",
       "ENST00000442987.3                        0.0                      0.0   \n",
       "ENST00000494149.2                        0.0                      0.0   \n",
       "\n",
       "                     right_ventricle_myocardium_inferior_1_1  \\\n",
       "annot_transcript_id                                            \n",
       "ENST00000469289.1                                        0.0   \n",
       "ENST00000417324.1                                        0.0   \n",
       "ENST00000461467.1                                        0.0   \n",
       "ENST00000442987.3                                        0.0   \n",
       "ENST00000494149.2                                        0.0   \n",
       "\n",
       "                     right_ventricle_myocardium_superior_1_1  \\\n",
       "annot_transcript_id                                            \n",
       "ENST00000469289.1                                        0.0   \n",
       "ENST00000417324.1                                        0.0   \n",
       "ENST00000461467.1                                        0.0   \n",
       "ENST00000442987.3                                        0.0   \n",
       "ENST00000494149.2                                        0.0   \n",
       "\n",
       "                     upper_lobe_of_right_lung_1_1  \n",
       "annot_transcript_id                                \n",
       "ENST00000469289.1                             0.0  \n",
       "ENST00000417324.1                             0.0  \n",
       "ENST00000461467.1                             0.0  \n",
       "ENST00000442987.3                             0.0  \n",
       "ENST00000494149.2                             0.0  \n",
       "\n",
       "[5 rows x 90 columns]"
      ]
     },
     "execution_count": 42,
     "metadata": {},
     "output_type": "execute_result"
    }
   ],
   "source": [
    "df.head()"
   ]
  },
  {
   "cell_type": "markdown",
   "id": "bearing-skiing",
   "metadata": {},
   "source": [
    "## How many known polyA transcripts do we detect?"
   ]
  },
  {
   "cell_type": "code",
   "execution_count": 7,
   "id": "interstate-washington",
   "metadata": {},
   "outputs": [
    {
     "name": "stdout",
     "output_type": "stream",
     "text": [
      "Calculating iso TPM values\n",
      "Subsetting for polyA genes\n",
      "Enforcing minimum TPM\n",
      "Total # isos detected: 85348\n",
      "# isos >= 1 tpm: 77128\n",
      "Subsetting on polya genes\n",
      "Number of isos reported: 74796\n"
     ]
    }
   ],
   "source": [
    "df = pd.read_csv('human_talon_abundance.tsv', sep='\\t')\n",
    "df = get_tpm_table(df,\n",
    "                   how='iso',\n",
    "                   nov=['Known'],\n",
    "                   min_tpm=1,\n",
    "                   gene_subset='polya')"
   ]
  },
  {
   "cell_type": "code",
   "execution_count": 8,
   "id": "resident-layout",
   "metadata": {},
   "outputs": [],
   "source": [
    "# merge with transcript len\n",
    "t_df, b_counts, c_counts = get_gtf_info(how='iso')\n",
    "df = df.merge(t_df, how='left', left_index=True, right_on='tid')"
   ]
  },
  {
   "cell_type": "code",
   "execution_count": 17,
   "id": "vulnerable-conditioning",
   "metadata": {},
   "outputs": [
    {
     "name": "stdout",
     "output_type": "stream",
     "text": [
      "Detected 74796 / 197394 annotated transcripts from polyA genes >= 1 TPM\n"
     ]
    }
   ],
   "source": [
    "polya_biotypes = ['protein_coding', 'pseudogene', 'lncRNA']\n",
    "n_det_polya = len(df.index)\n",
    "n_known_polya = c_counts.loc[c_counts.biotype_category.isin(polya_biotypes), 'gencode_counts'].sum()\n",
    "print('Detected {} / {} annotated transcripts from polyA genes >= 1 TPM'.format(n_det_polya, n_known_polya))"
   ]
  },
  {
   "cell_type": "markdown",
   "id": "frozen-scottish",
   "metadata": {},
   "source": [
    "## How many complete isoforms do we detect?"
   ]
  },
  {
   "cell_type": "code",
   "execution_count": 1,
   "id": "respective-domestic",
   "metadata": {},
   "outputs": [],
   "source": [
    "import pandas as pd\n",
    "import numpy as np\n",
    "import scipy.stats as st\n",
    "import seaborn as sns\n",
    "import sys\n",
    "import os\n",
    "\n",
    "p = os.path.dirname(os.path.dirname(os.getcwd()))\n",
    "sys.path.append(p)\n",
    "\n",
    "from scripts.utils import *\n",
    "from scripts.plotting import *"
   ]
  },
  {
   "cell_type": "code",
   "execution_count": 13,
   "id": "packed-idaho",
   "metadata": {},
   "outputs": [
    {
     "name": "stdout",
     "output_type": "stream",
     "text": [
      "Calculating iso TPM values\n",
      "Subsetting for polyA genes\n",
      "Enforcing minimum TPM\n",
      "Total # isos detected: 109741\n",
      "# isos >= 1 tpm: 100642\n",
      "Subsetting on polya genes\n",
      "Number of isos reported: 98027\n"
     ]
    }
   ],
   "source": [
    "df = pd.read_csv('human_talon_abundance_filtered.tsv', sep='\\t')\n",
    "df = get_tpm_table(df,\n",
    "                   how='iso',\n",
    "                   nov=['Known', 'NIC', 'NNC'],\n",
    "                   min_tpm=1,\n",
    "                   gene_subset='polya')\n",
    "\n",
    "tids = df.index.tolist()"
   ]
  },
  {
   "cell_type": "code",
   "execution_count": 16,
   "id": "selected-parallel",
   "metadata": {},
   "outputs": [
    {
     "name": "stdout",
     "output_type": "stream",
     "text": [
      "  transcript_novelty  counts\n",
      "0              Known   73961\n",
      "1                NIC   18270\n",
      "2                NNC    5796\n",
      "Number of complete isoforms: 98027\n"
     ]
    },
    {
     "data": {
      "image/png": "[encoded data removed]",
      "text/plain": [
       "<Figure size 360x360 with 1 Axes>"
      ]
     },
     "metadata": {
      "needs_background": "light"
     },
     "output_type": "display_data"
    },
    {
     "data": {
      "text/plain": [
       "<Figure size 432x288 with 0 Axes>"
      ]
     },
     "metadata": {},
     "output_type": "display_data"
    }
   ],
   "source": [
    "df = pd.read_csv('human_talon_abundance_filtered.tsv', sep='\\t')\n",
    "plot_transcript_novelty(df,\n",
    "                        oprefix='figures/complete_det',\n",
    "                        whitelist=tids,\n",
    "                        novs=['Known', 'NIC', 'NNC'])"
   ]
  },
  {
   "cell_type": "markdown",
   "id": "still-spouse",
   "metadata": {},
   "source": [
    "## How many isoforms per gene do we detect per sample? "
   ]
  },
  {
   "cell_type": "code",
   "execution_count": 30,
   "id": "sound-providence",
   "metadata": {},
   "outputs": [
    {
     "name": "stdout",
     "output_type": "stream",
     "text": [
      "Calculating iso TPM values\n",
      "Subsetting for polyA genes\n",
      "Enforcing minimum TPM\n",
      "Total # isos detected: 109741\n",
      "# isos >= 1 tpm: 100642\n",
      "Subsetting on polya genes\n",
      "Number of isos reported: 98027\n"
     ]
    }
   ],
   "source": [
    "df = pd.read_csv('human_talon_abundance_filtered.tsv', sep='\\t')\n",
    "df = get_tpm_table(df,\n",
    "                   how='iso',\n",
    "                   nov=['Known', 'NIC', 'NNC'],\n",
    "                   min_tpm=1,\n",
    "                   gene_subset='polya')\n",
    "t_df, _, _ = get_gtf_info(how='iso', subset='polya')"
   ]
  },
  {
   "cell_type": "code",
   "execution_count": 31,
   "id": "marked-apartment",
   "metadata": {},
   "outputs": [
    {
     "data": {
      "text/html": [
       "<div>\n",
       "<style scoped>\n",
       "    .dataframe tbody tr th:only-of-type {\n",
       "        vertical-align: middle;\n",
       "    }\n",
       "\n",
       "    .dataframe tbody tr th {\n",
       "        vertical-align: top;\n",
       "    }\n",
       "\n",
       "    .dataframe thead th {\n",
       "        text-align: right;\n",
       "    }\n",
       "</style>\n",
       "<table border=\"1\" class=\"dataframe\">\n",
       "  <thead>\n",
       "    <tr style=\"text-align: right;\">\n",
       "      <th></th>\n",
       "      <th>gm12878_1_1</th>\n",
       "      <th>gm12878_1_2</th>\n",
       "      <th>gm12878_1_3</th>\n",
       "      <th>gm12878_1_4</th>\n",
       "      <th>gm12878_3_1</th>\n",
       "      <th>gm12878_2_1</th>\n",
       "      <th>gm12878_2_2</th>\n",
       "      <th>pgp1_1_1</th>\n",
       "      <th>pgp1_1_2</th>\n",
       "      <th>h9_1_1</th>\n",
       "      <th>...</th>\n",
       "      <th>psoas_muscle_1_1</th>\n",
       "      <th>right_cardiac_atrium_1_1</th>\n",
       "      <th>right_cardiac_atrium_3_1</th>\n",
       "      <th>right_cardiac_atrium_4_1</th>\n",
       "      <th>right_cardiac_atrium_2_1</th>\n",
       "      <th>right_lobe_of_liver_1_1</th>\n",
       "      <th>right_lobe_of_liver_2_1</th>\n",
       "      <th>right_ventricle_myocardium_inferior_1_1</th>\n",
       "      <th>right_ventricle_myocardium_superior_1_1</th>\n",
       "      <th>upper_lobe_of_right_lung_1_1</th>\n",
       "    </tr>\n",
       "    <tr>\n",
       "      <th>annot_transcript_id</th>\n",
       "      <th></th>\n",
       "      <th></th>\n",
       "      <th></th>\n",
       "      <th></th>\n",
       "      <th></th>\n",
       "      <th></th>\n",
       "      <th></th>\n",
       "      <th></th>\n",
       "      <th></th>\n",
       "      <th></th>\n",
       "      <th></th>\n",
       "      <th></th>\n",
       "      <th></th>\n",
       "      <th></th>\n",
       "      <th></th>\n",
       "      <th></th>\n",
       "      <th></th>\n",
       "      <th></th>\n",
       "      <th></th>\n",
       "      <th></th>\n",
       "      <th></th>\n",
       "    </tr>\n",
       "  </thead>\n",
       "  <tbody>\n",
       "    <tr>\n",
       "      <th>ENST00000469289.1</th>\n",
       "      <td>0.0</td>\n",
       "      <td>0.0</td>\n",
       "      <td>0.0</td>\n",
       "      <td>0.0</td>\n",
       "      <td>0.0</td>\n",
       "      <td>0.0</td>\n",
       "      <td>0.0</td>\n",
       "      <td>0.000000</td>\n",
       "      <td>0.000000</td>\n",
       "      <td>0.000000</td>\n",
       "      <td>...</td>\n",
       "      <td>0.0</td>\n",
       "      <td>0.0</td>\n",
       "      <td>0.0</td>\n",
       "      <td>0.0</td>\n",
       "      <td>0.0</td>\n",
       "      <td>0.0</td>\n",
       "      <td>0.0</td>\n",
       "      <td>0.0</td>\n",
       "      <td>0.0</td>\n",
       "      <td>0.0</td>\n",
       "    </tr>\n",
       "    <tr>\n",
       "      <th>ENST00000417324.1</th>\n",
       "      <td>0.0</td>\n",
       "      <td>0.0</td>\n",
       "      <td>0.0</td>\n",
       "      <td>0.0</td>\n",
       "      <td>0.0</td>\n",
       "      <td>0.0</td>\n",
       "      <td>0.0</td>\n",
       "      <td>1.674708</td>\n",
       "      <td>1.563304</td>\n",
       "      <td>0.000000</td>\n",
       "      <td>...</td>\n",
       "      <td>0.0</td>\n",
       "      <td>0.0</td>\n",
       "      <td>0.0</td>\n",
       "      <td>0.0</td>\n",
       "      <td>0.0</td>\n",
       "      <td>0.0</td>\n",
       "      <td>0.0</td>\n",
       "      <td>0.0</td>\n",
       "      <td>0.0</td>\n",
       "      <td>0.0</td>\n",
       "    </tr>\n",
       "    <tr>\n",
       "      <th>ENST00000461467.1</th>\n",
       "      <td>0.0</td>\n",
       "      <td>0.0</td>\n",
       "      <td>0.0</td>\n",
       "      <td>0.0</td>\n",
       "      <td>0.0</td>\n",
       "      <td>0.0</td>\n",
       "      <td>0.0</td>\n",
       "      <td>1.674708</td>\n",
       "      <td>0.000000</td>\n",
       "      <td>0.000000</td>\n",
       "      <td>...</td>\n",
       "      <td>0.0</td>\n",
       "      <td>0.0</td>\n",
       "      <td>0.0</td>\n",
       "      <td>0.0</td>\n",
       "      <td>0.0</td>\n",
       "      <td>0.0</td>\n",
       "      <td>0.0</td>\n",
       "      <td>0.0</td>\n",
       "      <td>0.0</td>\n",
       "      <td>0.0</td>\n",
       "    </tr>\n",
       "    <tr>\n",
       "      <th>ENST00000442987.3</th>\n",
       "      <td>0.0</td>\n",
       "      <td>0.0</td>\n",
       "      <td>0.0</td>\n",
       "      <td>0.0</td>\n",
       "      <td>0.0</td>\n",
       "      <td>0.0</td>\n",
       "      <td>0.0</td>\n",
       "      <td>0.000000</td>\n",
       "      <td>0.000000</td>\n",
       "      <td>0.000000</td>\n",
       "      <td>...</td>\n",
       "      <td>0.0</td>\n",
       "      <td>0.0</td>\n",
       "      <td>0.0</td>\n",
       "      <td>0.0</td>\n",
       "      <td>0.0</td>\n",
       "      <td>0.0</td>\n",
       "      <td>0.0</td>\n",
       "      <td>0.0</td>\n",
       "      <td>0.0</td>\n",
       "      <td>0.0</td>\n",
       "    </tr>\n",
       "    <tr>\n",
       "      <th>ENST00000494149.2</th>\n",
       "      <td>0.0</td>\n",
       "      <td>0.0</td>\n",
       "      <td>0.0</td>\n",
       "      <td>0.0</td>\n",
       "      <td>0.0</td>\n",
       "      <td>0.0</td>\n",
       "      <td>0.0</td>\n",
       "      <td>1.674708</td>\n",
       "      <td>6.253215</td>\n",
       "      <td>1.160702</td>\n",
       "      <td>...</td>\n",
       "      <td>0.0</td>\n",
       "      <td>0.0</td>\n",
       "      <td>0.0</td>\n",
       "      <td>0.0</td>\n",
       "      <td>0.0</td>\n",
       "      <td>0.0</td>\n",
       "      <td>0.0</td>\n",
       "      <td>0.0</td>\n",
       "      <td>0.0</td>\n",
       "      <td>0.0</td>\n",
       "    </tr>\n",
       "  </tbody>\n",
       "</table>\n",
       "<p>5 rows × 90 columns</p>\n",
       "</div>"
      ],
      "text/plain": [
       "                     gm12878_1_1  gm12878_1_2  gm12878_1_3  gm12878_1_4  \\\n",
       "annot_transcript_id                                                       \n",
       "ENST00000469289.1            0.0          0.0          0.0          0.0   \n",
       "ENST00000417324.1            0.0          0.0          0.0          0.0   \n",
       "ENST00000461467.1            0.0          0.0          0.0          0.0   \n",
       "ENST00000442987.3            0.0          0.0          0.0          0.0   \n",
       "ENST00000494149.2            0.0          0.0          0.0          0.0   \n",
       "\n",
       "                     gm12878_3_1  gm12878_2_1  gm12878_2_2  pgp1_1_1  \\\n",
       "annot_transcript_id                                                    \n",
       "ENST00000469289.1            0.0          0.0          0.0  0.000000   \n",
       "ENST00000417324.1            0.0          0.0          0.0  1.674708   \n",
       "ENST00000461467.1            0.0          0.0          0.0  1.674708   \n",
       "ENST00000442987.3            0.0          0.0          0.0  0.000000   \n",
       "ENST00000494149.2            0.0          0.0          0.0  1.674708   \n",
       "\n",
       "                     pgp1_1_2    h9_1_1  ...  psoas_muscle_1_1  \\\n",
       "annot_transcript_id                      ...                     \n",
       "ENST00000469289.1    0.000000  0.000000  ...               0.0   \n",
       "ENST00000417324.1    1.563304  0.000000  ...               0.0   \n",
       "ENST00000461467.1    0.000000  0.000000  ...               0.0   \n",
       "ENST00000442987.3    0.000000  0.000000  ...               0.0   \n",
       "ENST00000494149.2    6.253215  1.160702  ...               0.0   \n",
       "\n",
       "                     right_cardiac_atrium_1_1  right_cardiac_atrium_3_1  \\\n",
       "annot_transcript_id                                                       \n",
       "ENST00000469289.1                         0.0                       0.0   \n",
       "ENST00000417324.1                         0.0                       0.0   \n",
       "ENST00000461467.1                         0.0                       0.0   \n",
       "ENST00000442987.3                         0.0                       0.0   \n",
       "ENST00000494149.2                         0.0                       0.0   \n",
       "\n",
       "                     right_cardiac_atrium_4_1  right_cardiac_atrium_2_1  \\\n",
       "annot_transcript_id                                                       \n",
       "ENST00000469289.1                         0.0                       0.0   \n",
       "ENST00000417324.1                         0.0                       0.0   \n",
       "ENST00000461467.1                         0.0                       0.0   \n",
       "ENST00000442987.3                         0.0                       0.0   \n",
       "ENST00000494149.2                         0.0                       0.0   \n",
       "\n",
       "                     right_lobe_of_liver_1_1  right_lobe_of_liver_2_1  \\\n",
       "annot_transcript_id                                                     \n",
       "ENST00000469289.1                        0.0                      0.0   \n",
       "ENST00000417324.1                        0.0                      0.0   \n",
       "ENST00000461467.1                        0.0                      0.0   \n",
       "ENST00000442987.3                        0.0                      0.0   \n",
       "ENST00000494149.2                        0.0                      0.0   \n",
       "\n",
       "                     right_ventricle_myocardium_inferior_1_1  \\\n",
       "annot_transcript_id                                            \n",
       "ENST00000469289.1                                        0.0   \n",
       "ENST00000417324.1                                        0.0   \n",
       "ENST00000461467.1                                        0.0   \n",
       "ENST00000442987.3                                        0.0   \n",
       "ENST00000494149.2                                        0.0   \n",
       "\n",
       "                     right_ventricle_myocardium_superior_1_1  \\\n",
       "annot_transcript_id                                            \n",
       "ENST00000469289.1                                        0.0   \n",
       "ENST00000417324.1                                        0.0   \n",
       "ENST00000461467.1                                        0.0   \n",
       "ENST00000442987.3                                        0.0   \n",
       "ENST00000494149.2                                        0.0   \n",
       "\n",
       "                     upper_lobe_of_right_lung_1_1  \n",
       "annot_transcript_id                                \n",
       "ENST00000469289.1                             0.0  \n",
       "ENST00000417324.1                             0.0  \n",
       "ENST00000461467.1                             0.0  \n",
       "ENST00000442987.3                             0.0  \n",
       "ENST00000494149.2                             0.0  \n",
       "\n",
       "[5 rows x 90 columns]"
      ]
     },
     "execution_count": 31,
     "metadata": {},
     "output_type": "execute_result"
    }
   ],
   "source": [
    "df.head()"
   ]
  },
  {
   "cell_type": "code",
   "execution_count": 32,
   "id": "sixth-function",
   "metadata": {},
   "outputs": [
    {
     "data": {
      "text/html": [
       "<div>\n",
       "<style scoped>\n",
       "    .dataframe tbody tr th:only-of-type {\n",
       "        vertical-align: middle;\n",
       "    }\n",
       "\n",
       "    .dataframe tbody tr th {\n",
       "        vertical-align: top;\n",
       "    }\n",
       "\n",
       "    .dataframe thead th {\n",
       "        text-align: right;\n",
       "    }\n",
       "</style>\n",
       "<table border=\"1\" class=\"dataframe\">\n",
       "  <thead>\n",
       "    <tr style=\"text-align: right;\">\n",
       "      <th></th>\n",
       "      <th>tid</th>\n",
       "      <th>t_len</th>\n",
       "      <th>biotype</th>\n",
       "      <th>biotype_category</th>\n",
       "    </tr>\n",
       "  </thead>\n",
       "  <tbody>\n",
       "    <tr>\n",
       "      <th>0</th>\n",
       "      <td>ENST00000000233.9</td>\n",
       "      <td>1103</td>\n",
       "      <td>protein_coding</td>\n",
       "      <td>protein_coding</td>\n",
       "    </tr>\n",
       "    <tr>\n",
       "      <th>1</th>\n",
       "      <td>ENST00000000412.7</td>\n",
       "      <td>2756</td>\n",
       "      <td>protein_coding</td>\n",
       "      <td>protein_coding</td>\n",
       "    </tr>\n",
       "    <tr>\n",
       "      <th>2</th>\n",
       "      <td>ENST00000000442.10</td>\n",
       "      <td>2215</td>\n",
       "      <td>protein_coding</td>\n",
       "      <td>protein_coding</td>\n",
       "    </tr>\n",
       "    <tr>\n",
       "      <th>3</th>\n",
       "      <td>ENST00000001008.5</td>\n",
       "      <td>3732</td>\n",
       "      <td>protein_coding</td>\n",
       "      <td>protein_coding</td>\n",
       "    </tr>\n",
       "    <tr>\n",
       "      <th>4</th>\n",
       "      <td>ENST00000001146.6</td>\n",
       "      <td>4732</td>\n",
       "      <td>protein_coding</td>\n",
       "      <td>protein_coding</td>\n",
       "    </tr>\n",
       "  </tbody>\n",
       "</table>\n",
       "</div>"
      ],
      "text/plain": [
       "                  tid  t_len         biotype biotype_category\n",
       "0   ENST00000000233.9   1103  protein_coding   protein_coding\n",
       "1   ENST00000000412.7   2756  protein_coding   protein_coding\n",
       "2  ENST00000000442.10   2215  protein_coding   protein_coding\n",
       "3   ENST00000001008.5   3732  protein_coding   protein_coding\n",
       "4   ENST00000001146.6   4732  protein_coding   protein_coding"
      ]
     },
     "execution_count": 32,
     "metadata": {},
     "output_type": "execute_result"
    }
   ],
   "source": [
    "t_df.head()"
   ]
  },
  {
   "cell_type": "code",
   "execution_count": null,
   "id": "static-consultation",
   "metadata": {},
   "outputs": [],
   "source": []
  }
 ],
 "metadata": {
  "kernelspec": {
   "display_name": "Python 3",
   "language": "python",
   "name": "python3"
  },
  "language_info": {
   "codemirror_mode": {
    "name": "ipython",
    "version": 3
   },
   "file_extension": ".py",
   "mimetype": "text/x-python",
   "name": "python",
   "nbconvert_exporter": "python",
   "pygments_lexer": "ipython3",
   "version": "3.7.4"
  }
 },
 "nbformat": 4,
 "nbformat_minor": 5
}
