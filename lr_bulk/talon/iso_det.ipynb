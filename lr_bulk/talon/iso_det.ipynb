{
 "cells": [
  {
   "cell_type": "code",
   "execution_count": 1,
   "id": "recognized-malawi",
   "metadata": {},
   "outputs": [],
   "source": [
    "import pandas as pd\n",
    "import numpy as np\n",
    "import scipy.stats as st\n",
    "import seaborn as sns\n",
    "import sys\n",
    "import os\n",
    "import gseapy as gp\n",
    "\n",
    "p = os.path.dirname(os.path.dirname(os.getcwd()))\n",
    "sys.path.append(p)\n",
    "\n",
    "from scripts.utils import *\n",
    "from scripts.plotting import *"
   ]
  },
  {
   "cell_type": "code",
   "execution_count": 2,
   "id": "5f4b4e83-70a1-4acb-97ec-05ab15337a3d",
   "metadata": {},
   "outputs": [],
   "source": [
    "# TODO -- should we be calculating transcript TPM from the unfiltered or filtered abundance file? \n",
    "# 3/9/22 ali says let's go with filtered for now"
   ]
  },
  {
   "cell_type": "markdown",
   "id": "juvenile-research",
   "metadata": {},
   "source": [
    "## PolyA gene transcript detection"
   ]
  },
  {
   "cell_type": "markdown",
   "id": "special-collector",
   "metadata": {},
   "source": [
    "What fraction of polyA genes from the annotation do we detect with at least 1 known isoform >= 1 TPM in any library?"
   ]
  },
  {
   "cell_type": "code",
   "execution_count": 3,
   "id": "increased-colon",
   "metadata": {},
   "outputs": [
    {
     "name": "stdout",
     "output_type": "stream",
     "text": [
      "Calculating iso TPM values\n",
      "Subsetting for novelty categories ['Known']\n",
      "Subsetting for polya genes\n"
     ]
    },
    {
     "name": "stderr",
     "output_type": "stream",
     "text": [
      "/Users/fairliereese/Documents/programming/mortazavi_lab/data/rnawg/scripts/utils.py:1094: PerformanceWarning: DataFrame is highly fragmented.  This is usually the result of calling `frame.insert` many times, which has poor performance.  Consider joining all columns at once using pd.concat(axis=1) instead.  To get a de-fragmented frame, use `newframe = frame.copy()`\n",
      "  df[tpm_col] = (df[d]*1000000)/df[total_col]\n",
      "/Users/fairliereese/Documents/programming/mortazavi_lab/data/rnawg/scripts/utils.py:1093: PerformanceWarning: DataFrame is highly fragmented.  This is usually the result of calling `frame.insert` many times, which has poor performance.  Consider joining all columns at once using pd.concat(axis=1) instead.  To get a de-fragmented frame, use `newframe = frame.copy()`\n",
      "  df[total_col] = df[d].sum()\n"
     ]
    },
    {
     "name": "stdout",
     "output_type": "stream",
     "text": [
      "Enforcing minimum TPM\n",
      "Total # isos detected: 194503\n",
      "# isos >= 1 tpm: 175394\n",
      "Applying gene type and novelty subset\n",
      "Number of isos reported: 75389\n"
     ]
    }
   ],
   "source": [
    "df = pd.read_csv('human_talon_abundance_filtered.tsv', sep='\\t')\n",
    "df, tids = get_tpm_table(df,\n",
    "                   how='iso',\n",
    "                   nov=['Known'],\n",
    "                   min_tpm=1,\n",
    "                   gene_subset='polya')"
   ]
  },
  {
   "cell_type": "code",
   "execution_count": 4,
   "id": "enclosed-circumstances",
   "metadata": {},
   "outputs": [],
   "source": [
    "# merge with gene id\n",
    "gene_df = pd.read_csv('human_talon_abundance_filtered.tsv', sep='\\t')\n",
    "gene_df = gene_df[['annot_gene_id', 'annot_transcript_id']]\n",
    "df = df.merge(gene_df, how='left', left_index=True, right_on='annot_transcript_id')"
   ]
  },
  {
   "cell_type": "code",
   "execution_count": 5,
   "id": "african-shopper",
   "metadata": {},
   "outputs": [
    {
     "name": "stdout",
     "output_type": "stream",
     "text": [
      "Detected 25332 / 49472 (51.20%) annotated polyA genes w/ at least 1 known transcript >= 1 TPM\n"
     ]
    }
   ],
   "source": [
    "gene_df, _, _ = get_gtf_info(how='gene')\n",
    "\n",
    "polya_biotypes = ['protein_coding', 'pseudogene', 'lncRNA']\n",
    "polya_genes = gene_df.loc[gene_df.biotype_category.isin(polya_biotypes), 'gid'].tolist()\n",
    "n_polya = len(polya_genes)\n",
    "n_det_polya = len(df.annot_gene_id.unique().tolist())\n",
    "\n",
    "print('Detected {} / {} ({:.2f}%) annotated polyA genes w/ at least 1 known transcript >= 1 TPM'.format(n_det_polya, n_polya, (n_det_polya/n_polya)*100))"
   ]
  },
  {
   "cell_type": "markdown",
   "id": "american-wireless",
   "metadata": {},
   "source": [
    "## TF gene transcript detection"
   ]
  },
  {
   "cell_type": "markdown",
   "id": "associate-consistency",
   "metadata": {},
   "source": [
    "What fraction of TF genes from the annotation do we detect with at least 1 known isoform >= 1 TPM in any library?"
   ]
  },
  {
   "cell_type": "code",
   "execution_count": 6,
   "id": "rolled-tradition",
   "metadata": {},
   "outputs": [
    {
     "name": "stdout",
     "output_type": "stream",
     "text": [
      "Calculating iso TPM values\n",
      "Subsetting for novelty categories ['Known']\n",
      "Subsetting for tf genes\n",
      "Enforcing minimum TPM\n",
      "Total # isos detected: 194503\n",
      "# isos >= 1 tpm: 175394\n",
      "Applying gene type and novelty subset\n",
      "Number of isos reported: 4644\n",
      "Detected 1314 / 1419 (92.60%) annotated TF genes w/ at least 1 known transcript >= 1 TPM\n"
     ]
    }
   ],
   "source": [
    "df = pd.read_csv('human_talon_abundance_filtered.tsv', sep='\\t')\n",
    "df, tids = get_tpm_table(df,\n",
    "                   how='iso',\n",
    "                   nov=['Known'],\n",
    "                   min_tpm=1,\n",
    "                   gene_subset='tf')\n",
    "\n",
    "# merge with gene id\n",
    "gene_df = pd.read_csv('human_talon_abundance_filtered.tsv', sep='\\t')\n",
    "gene_df = gene_df[['annot_gene_id', 'annot_transcript_id']]\n",
    "df = df.merge(gene_df, how='left', left_index=True, right_on='annot_transcript_id')\n",
    "\n",
    "gene_df, _, _ = get_gtf_info(how='gene', subset='tf')\n",
    "\n",
    "n_tf = len(gene_df.index)\n",
    "n_det_tf = len(df.annot_gene_id.unique().tolist())\n",
    "\n",
    "print('Detected {} / {} ({:.2f}%) annotated TF genes w/ at least 1 known transcript >= 1 TPM'.format(n_det_tf, n_tf, (n_det_tf/n_tf)*100))"
   ]
  },
  {
   "cell_type": "markdown",
   "id": "cognitive-teacher",
   "metadata": {},
   "source": [
    "Which TF has the most isoforms overall? "
   ]
  },
  {
   "cell_type": "code",
   "execution_count": 7,
   "id": "moving-theater",
   "metadata": {},
   "outputs": [
    {
     "name": "stdout",
     "output_type": "stream",
     "text": [
      "Calculating iso TPM values\n",
      "Subsetting for novelty categories ['Known', 'NIC', 'NNC']\n",
      "Subsetting for tf genes\n",
      "Enforcing minimum TPM\n",
      "Total # isos detected: 194503\n",
      "# isos >= 1 tpm: 175394\n",
      "Applying gene type and novelty subset\n",
      "Number of isos reported: 5951\n"
     ]
    },
    {
     "data": {
      "text/html": [
       "<div>\n",
       "<style scoped>\n",
       "    .dataframe tbody tr th:only-of-type {\n",
       "        vertical-align: middle;\n",
       "    }\n",
       "\n",
       "    .dataframe tbody tr th {\n",
       "        vertical-align: top;\n",
       "    }\n",
       "\n",
       "    .dataframe thead th {\n",
       "        text-align: right;\n",
       "    }\n",
       "</style>\n",
       "<table border=\"1\" class=\"dataframe\">\n",
       "  <thead>\n",
       "    <tr style=\"text-align: right;\">\n",
       "      <th></th>\n",
       "      <th>all</th>\n",
       "      <th>gid</th>\n",
       "      <th>gname</th>\n",
       "    </tr>\n",
       "  </thead>\n",
       "  <tbody>\n",
       "    <tr>\n",
       "      <th>296</th>\n",
       "      <td>33</td>\n",
       "      <td>ENSG00000074800.15</td>\n",
       "      <td>ENO1</td>\n",
       "    </tr>\n",
       "    <tr>\n",
       "      <th>28813</th>\n",
       "      <td>28</td>\n",
       "      <td>ENSG00000095794.19</td>\n",
       "      <td>CREM</td>\n",
       "    </tr>\n",
       "    <tr>\n",
       "      <th>48846</th>\n",
       "      <td>26</td>\n",
       "      <td>ENSG00000196628.16</td>\n",
       "      <td>TCF4</td>\n",
       "    </tr>\n",
       "    <tr>\n",
       "      <th>16169</th>\n",
       "      <td>26</td>\n",
       "      <td>ENSG00000081189.15</td>\n",
       "      <td>MEF2C</td>\n",
       "    </tr>\n",
       "    <tr>\n",
       "      <th>50804</th>\n",
       "      <td>25</td>\n",
       "      <td>ENSG00000181666.17</td>\n",
       "      <td>HKR1</td>\n",
       "    </tr>\n",
       "    <tr>\n",
       "      <th>48103</th>\n",
       "      <td>24</td>\n",
       "      <td>ENSG00000177426.20</td>\n",
       "      <td>TGIF1</td>\n",
       "    </tr>\n",
       "    <tr>\n",
       "      <th>31284</th>\n",
       "      <td>23</td>\n",
       "      <td>ENSG00000007372.22</td>\n",
       "      <td>PAX6</td>\n",
       "    </tr>\n",
       "    <tr>\n",
       "      <th>51738</th>\n",
       "      <td>23</td>\n",
       "      <td>ENSG00000130844.17</td>\n",
       "      <td>ZNF331</td>\n",
       "    </tr>\n",
       "    <tr>\n",
       "      <th>8381</th>\n",
       "      <td>23</td>\n",
       "      <td>ENSG00000115415.18</td>\n",
       "      <td>STAT1</td>\n",
       "    </tr>\n",
       "    <tr>\n",
       "      <th>9207</th>\n",
       "      <td>23</td>\n",
       "      <td>ENSG00000124831.18</td>\n",
       "      <td>LRRFIP1</td>\n",
       "    </tr>\n",
       "  </tbody>\n",
       "</table>\n",
       "</div>"
      ],
      "text/plain": [
       "       all                 gid    gname\n",
       "296     33  ENSG00000074800.15     ENO1\n",
       "28813   28  ENSG00000095794.19     CREM\n",
       "48846   26  ENSG00000196628.16     TCF4\n",
       "16169   26  ENSG00000081189.15    MEF2C\n",
       "50804   25  ENSG00000181666.17     HKR1\n",
       "48103   24  ENSG00000177426.20    TGIF1\n",
       "31284   23  ENSG00000007372.22     PAX6\n",
       "51738   23  ENSG00000130844.17   ZNF331\n",
       "8381    23  ENSG00000115415.18    STAT1\n",
       "9207    23  ENSG00000124831.18  LRRFIP1"
      ]
     },
     "execution_count": 7,
     "metadata": {},
     "output_type": "execute_result"
    }
   ],
   "source": [
    "df = pd.read_csv('human_talon_abundance_filtered.tsv', sep='\\t')\n",
    "df = get_isos_per_gene(df,\n",
    "                       min_tpm=1,\n",
    "                       gene_subset='tf',\n",
    "                       groupby='all', \n",
    "                       nov=['Known', 'NIC', 'NNC'])\n",
    "gene_df, _, _ = get_gtf_info(how='gene')\n",
    "df = df.merge(gene_df[['gid', 'gname']], \n",
    "              how='left', \n",
    "              left_index=True, \n",
    "              right_on='gid')\n",
    "df = df.sort_values(by='all', ascending=False)\n",
    "df.head(10)"
   ]
  },
  {
   "cell_type": "markdown",
   "id": "organized-bidder",
   "metadata": {},
   "source": [
    "Which TF has the most isoforms expressed in a single sample? "
   ]
  },
  {
   "cell_type": "code",
   "execution_count": 8,
   "id": "crucial-jersey",
   "metadata": {},
   "outputs": [
    {
     "name": "stdout",
     "output_type": "stream",
     "text": [
      "Calculating iso TPM values\n",
      "Subsetting for novelty categories ['Known', 'NIC', 'NNC']\n",
      "Subsetting for tf genes\n"
     ]
    },
    {
     "name": "stderr",
     "output_type": "stream",
     "text": [
      "/Users/fairliereese/Documents/programming/mortazavi_lab/data/rnawg/scripts/utils.py:1094: PerformanceWarning: DataFrame is highly fragmented.  This is usually the result of calling `frame.insert` many times, which has poor performance.  Consider joining all columns at once using pd.concat(axis=1) instead.  To get a de-fragmented frame, use `newframe = frame.copy()`\n",
      "  df[tpm_col] = (df[d]*1000000)/df[total_col]\n",
      "/Users/fairliereese/Documents/programming/mortazavi_lab/data/rnawg/scripts/utils.py:1093: PerformanceWarning: DataFrame is highly fragmented.  This is usually the result of calling `frame.insert` many times, which has poor performance.  Consider joining all columns at once using pd.concat(axis=1) instead.  To get a de-fragmented frame, use `newframe = frame.copy()`\n",
      "  df[total_col] = df[d].sum()\n"
     ]
    },
    {
     "name": "stdout",
     "output_type": "stream",
     "text": [
      "Enforcing minimum TPM\n",
      "Total # isos detected: 194503\n",
      "# isos >= 1 tpm: 175394\n",
      "Applying gene type and novelty subset\n",
      "Number of isos reported: 5951\n",
      "Found 50 total samples\n"
     ]
    },
    {
     "data": {
      "text/html": [
       "<div>\n",
       "<style scoped>\n",
       "    .dataframe tbody tr th:only-of-type {\n",
       "        vertical-align: middle;\n",
       "    }\n",
       "\n",
       "    .dataframe tbody tr th {\n",
       "        vertical-align: top;\n",
       "    }\n",
       "\n",
       "    .dataframe thead th {\n",
       "        text-align: right;\n",
       "    }\n",
       "</style>\n",
       "<table border=\"1\" class=\"dataframe\">\n",
       "  <thead>\n",
       "    <tr style=\"text-align: right;\">\n",
       "      <th></th>\n",
       "      <th>max_sample</th>\n",
       "      <th>gid</th>\n",
       "      <th>gname</th>\n",
       "    </tr>\n",
       "  </thead>\n",
       "  <tbody>\n",
       "    <tr>\n",
       "      <th>296</th>\n",
       "      <td>28.0</td>\n",
       "      <td>ENSG00000074800.15</td>\n",
       "      <td>ENO1</td>\n",
       "    </tr>\n",
       "    <tr>\n",
       "      <th>8381</th>\n",
       "      <td>23.0</td>\n",
       "      <td>ENSG00000115415.18</td>\n",
       "      <td>STAT1</td>\n",
       "    </tr>\n",
       "    <tr>\n",
       "      <th>28813</th>\n",
       "      <td>23.0</td>\n",
       "      <td>ENSG00000095794.19</td>\n",
       "      <td>CREM</td>\n",
       "    </tr>\n",
       "    <tr>\n",
       "      <th>48846</th>\n",
       "      <td>21.0</td>\n",
       "      <td>ENSG00000196628.16</td>\n",
       "      <td>TCF4</td>\n",
       "    </tr>\n",
       "    <tr>\n",
       "      <th>50804</th>\n",
       "      <td>20.0</td>\n",
       "      <td>ENSG00000181666.17</td>\n",
       "      <td>HKR1</td>\n",
       "    </tr>\n",
       "    <tr>\n",
       "      <th>38047</th>\n",
       "      <td>18.0</td>\n",
       "      <td>ENSG00000198176.12</td>\n",
       "      <td>TFDP1</td>\n",
       "    </tr>\n",
       "    <tr>\n",
       "      <th>25914</th>\n",
       "      <td>18.0</td>\n",
       "      <td>ENSG00000185122.10</td>\n",
       "      <td>HSF1</td>\n",
       "    </tr>\n",
       "    <tr>\n",
       "      <th>48103</th>\n",
       "      <td>18.0</td>\n",
       "      <td>ENSG00000177426.20</td>\n",
       "      <td>TGIF1</td>\n",
       "    </tr>\n",
       "    <tr>\n",
       "      <th>15672</th>\n",
       "      <td>18.0</td>\n",
       "      <td>ENSG00000062194.15</td>\n",
       "      <td>GPBP1</td>\n",
       "    </tr>\n",
       "    <tr>\n",
       "      <th>50642</th>\n",
       "      <td>17.0</td>\n",
       "      <td>ENSG00000089335.20</td>\n",
       "      <td>ZNF302</td>\n",
       "    </tr>\n",
       "  </tbody>\n",
       "</table>\n",
       "</div>"
      ],
      "text/plain": [
       "       max_sample                 gid   gname\n",
       "296          28.0  ENSG00000074800.15    ENO1\n",
       "8381         23.0  ENSG00000115415.18   STAT1\n",
       "28813        23.0  ENSG00000095794.19    CREM\n",
       "48846        21.0  ENSG00000196628.16    TCF4\n",
       "50804        20.0  ENSG00000181666.17    HKR1\n",
       "38047        18.0  ENSG00000198176.12   TFDP1\n",
       "25914        18.0  ENSG00000185122.10    HSF1\n",
       "48103        18.0  ENSG00000177426.20   TGIF1\n",
       "15672        18.0  ENSG00000062194.15   GPBP1\n",
       "50642        17.0  ENSG00000089335.20  ZNF302"
      ]
     },
     "execution_count": 8,
     "metadata": {},
     "output_type": "execute_result"
    }
   ],
   "source": [
    "df = pd.read_csv('human_talon_abundance_filtered.tsv', sep='\\t')\n",
    "df = get_isos_per_gene(df,\n",
    "                       min_tpm=1,\n",
    "                       gene_subset='tf',\n",
    "                       groupby='sample', \n",
    "                       nov=['Known', 'NIC', 'NNC'])\n",
    "df['max_sample'] = df.max(1)\n",
    "df = df['max_sample'].to_frame()\n",
    "\n",
    "gene_df, _, _ = get_gtf_info(how='gene')\n",
    "df = df.merge(gene_df[['gid', 'gname']], \n",
    "              how='left', \n",
    "              left_index=True, \n",
    "              right_on='gid')\n",
    "\n",
    "df = df.sort_values(by='max_sample', ascending=False)\n",
    "df.head(10)"
   ]
  },
  {
   "cell_type": "markdown",
   "id": "associate-consent",
   "metadata": {},
   "source": [
    "## Protein coding gene transcript detection"
   ]
  },
  {
   "cell_type": "markdown",
   "id": "turned-christmas",
   "metadata": {},
   "source": [
    "What fraction of protein-coding genes do we detect with at least 1 known isoform >= 1 TPM in any library?"
   ]
  },
  {
   "cell_type": "code",
   "execution_count": 9,
   "id": "closed-currency",
   "metadata": {},
   "outputs": [
    {
     "name": "stdout",
     "output_type": "stream",
     "text": [
      "Calculating iso TPM values\n",
      "Subsetting for novelty categories ['Known']\n"
     ]
    },
    {
     "name": "stderr",
     "output_type": "stream",
     "text": [
      "/Users/fairliereese/Documents/programming/mortazavi_lab/data/rnawg/scripts/utils.py:1094: PerformanceWarning: DataFrame is highly fragmented.  This is usually the result of calling `frame.insert` many times, which has poor performance.  Consider joining all columns at once using pd.concat(axis=1) instead.  To get a de-fragmented frame, use `newframe = frame.copy()`\n",
      "  df[tpm_col] = (df[d]*1000000)/df[total_col]\n",
      "/Users/fairliereese/Documents/programming/mortazavi_lab/data/rnawg/scripts/utils.py:1093: PerformanceWarning: DataFrame is highly fragmented.  This is usually the result of calling `frame.insert` many times, which has poor performance.  Consider joining all columns at once using pd.concat(axis=1) instead.  To get a de-fragmented frame, use `newframe = frame.copy()`\n",
      "  df[total_col] = df[d].sum()\n"
     ]
    },
    {
     "name": "stdout",
     "output_type": "stream",
     "text": [
      "Enforcing minimum TPM\n",
      "Total # isos detected: 194503\n",
      "# isos >= 1 tpm: 175394\n",
      "Applying gene type and novelty subset\n",
      "Number of isos reported: 77590\n"
     ]
    }
   ],
   "source": [
    "df = pd.read_csv('human_talon_abundance_filtered.tsv', sep='\\t')\n",
    "# no gene subset here so we can look at all other genes\n",
    "df, tids = get_tpm_table(df,\n",
    "                   how='iso',\n",
    "                   nov=['Known'],\n",
    "                   min_tpm=1)"
   ]
  },
  {
   "cell_type": "code",
   "execution_count": 10,
   "id": "worthy-advance",
   "metadata": {},
   "outputs": [],
   "source": [
    "# merge with gene id\n",
    "gene_df = pd.read_csv('human_talon_abundance_filtered.tsv', sep='\\t')\n",
    "gene_df = gene_df[['annot_gene_id', 'annot_transcript_id']]\n",
    "df = df.merge(gene_df, how='left', left_index=True, right_on='annot_transcript_id')"
   ]
  },
  {
   "cell_type": "code",
   "execution_count": 11,
   "id": "parental-deployment",
   "metadata": {},
   "outputs": [],
   "source": [
    "gene_df, b_counts, b_cat_counts = get_gtf_info(how='gene')\n",
    "df = df.merge(gene_df, how='left', left_on='annot_gene_id', right_on='gid')"
   ]
  },
  {
   "cell_type": "code",
   "execution_count": 12,
   "id": "worthy-lodging",
   "metadata": {},
   "outputs": [
    {
     "data": {
      "text/html": [
       "<div>\n",
       "<style scoped>\n",
       "    .dataframe tbody tr th:only-of-type {\n",
       "        vertical-align: middle;\n",
       "    }\n",
       "\n",
       "    .dataframe tbody tr th {\n",
       "        vertical-align: top;\n",
       "    }\n",
       "\n",
       "    .dataframe thead th {\n",
       "        text-align: right;\n",
       "    }\n",
       "</style>\n",
       "<table border=\"1\" class=\"dataframe\">\n",
       "  <thead>\n",
       "    <tr style=\"text-align: right;\">\n",
       "      <th></th>\n",
       "      <th>biotype_category</th>\n",
       "      <th>detected_counts</th>\n",
       "      <th>gencode_counts</th>\n",
       "      <th>prop_detected</th>\n",
       "    </tr>\n",
       "  </thead>\n",
       "  <tbody>\n",
       "    <tr>\n",
       "      <th>3</th>\n",
       "      <td>protein_coding</td>\n",
       "      <td>17198</td>\n",
       "      <td>19969</td>\n",
       "      <td>0.861235</td>\n",
       "    </tr>\n",
       "    <tr>\n",
       "      <th>0</th>\n",
       "      <td>lncRNA</td>\n",
       "      <td>4973</td>\n",
       "      <td>15006</td>\n",
       "      <td>0.331401</td>\n",
       "    </tr>\n",
       "    <tr>\n",
       "      <th>2</th>\n",
       "      <td>other</td>\n",
       "      <td>1844</td>\n",
       "      <td>7426</td>\n",
       "      <td>0.248317</td>\n",
       "    </tr>\n",
       "    <tr>\n",
       "      <th>4</th>\n",
       "      <td>pseudogene</td>\n",
       "      <td>3161</td>\n",
       "      <td>14497</td>\n",
       "      <td>0.218045</td>\n",
       "    </tr>\n",
       "    <tr>\n",
       "      <th>1</th>\n",
       "      <td>miRNA</td>\n",
       "      <td>350</td>\n",
       "      <td>1881</td>\n",
       "      <td>0.186071</td>\n",
       "    </tr>\n",
       "  </tbody>\n",
       "</table>\n",
       "</div>"
      ],
      "text/plain": [
       "  biotype_category  detected_counts  gencode_counts  prop_detected\n",
       "3   protein_coding            17198           19969       0.861235\n",
       "0           lncRNA             4973           15006       0.331401\n",
       "2            other             1844            7426       0.248317\n",
       "4       pseudogene             3161           14497       0.218045\n",
       "1            miRNA              350            1881       0.186071"
      ]
     },
     "execution_count": 12,
     "metadata": {},
     "output_type": "execute_result"
    }
   ],
   "source": [
    "temp = df[['gid', 'biotype_category']].drop_duplicates().groupby('biotype_category').count()\n",
    "temp.reset_index(inplace=True)\n",
    "temp.rename({'gid': 'detected_counts'}, axis=1, inplace=True)\n",
    "\n",
    "temp = temp.merge(b_cat_counts, on='biotype_category', how='outer')\n",
    "temp['prop_detected'] = temp.detected_counts/temp.gencode_counts\n",
    "temp.sort_values(by='prop_detected', ascending=False, inplace=True)\n",
    "temp"
   ]
  },
  {
   "cell_type": "markdown",
   "id": "failing-tender",
   "metadata": {},
   "source": [
    "## What fraction of protein coding gene transcripts do we detect?"
   ]
  },
  {
   "cell_type": "markdown",
   "id": "opposite-papua",
   "metadata": {},
   "source": [
    "Of the transcripts associated with protein coding genes GENCODE, how many do we detect >=1 TPM?"
   ]
  },
  {
   "cell_type": "code",
   "execution_count": 13,
   "id": "greater-system",
   "metadata": {},
   "outputs": [
    {
     "name": "stdout",
     "output_type": "stream",
     "text": [
      "Calculating iso TPM values\n",
      "Subsetting for novelty categories ['Known']\n",
      "Subsetting for polya genes\n"
     ]
    },
    {
     "name": "stderr",
     "output_type": "stream",
     "text": [
      "/Users/fairliereese/Documents/programming/mortazavi_lab/data/rnawg/scripts/utils.py:1094: PerformanceWarning: DataFrame is highly fragmented.  This is usually the result of calling `frame.insert` many times, which has poor performance.  Consider joining all columns at once using pd.concat(axis=1) instead.  To get a de-fragmented frame, use `newframe = frame.copy()`\n",
      "  df[tpm_col] = (df[d]*1000000)/df[total_col]\n",
      "/Users/fairliereese/Documents/programming/mortazavi_lab/data/rnawg/scripts/utils.py:1093: PerformanceWarning: DataFrame is highly fragmented.  This is usually the result of calling `frame.insert` many times, which has poor performance.  Consider joining all columns at once using pd.concat(axis=1) instead.  To get a de-fragmented frame, use `newframe = frame.copy()`\n",
      "  df[total_col] = df[d].sum()\n"
     ]
    },
    {
     "name": "stdout",
     "output_type": "stream",
     "text": [
      "Enforcing minimum TPM\n",
      "Total # isos detected: 194503\n",
      "# isos >= 1 tpm: 175394\n",
      "Applying gene type and novelty subset\n",
      "Number of isos reported: 75389\n"
     ]
    }
   ],
   "source": [
    "df = pd.read_csv('human_talon_abundance_filtered.tsv', sep='\\t')\n",
    "df, tids = get_tpm_table(df,\n",
    "                   how='iso',\n",
    "                   nov=['Known'],\n",
    "                   min_tpm=1,\n",
    "                   gene_subset='polya')"
   ]
  },
  {
   "cell_type": "code",
   "execution_count": 14,
   "id": "foreign-avenue",
   "metadata": {},
   "outputs": [],
   "source": [
    "t_df, b_counts, b_cat_counts = get_gtf_info(how='iso')\n",
    "df = df.merge(t_df, how='left', left_index=True, right_on='tid')"
   ]
  },
  {
   "cell_type": "code",
   "execution_count": 15,
   "id": "brief-information",
   "metadata": {},
   "outputs": [
    {
     "data": {
      "text/html": [
       "<div>\n",
       "<style scoped>\n",
       "    .dataframe tbody tr th:only-of-type {\n",
       "        vertical-align: middle;\n",
       "    }\n",
       "\n",
       "    .dataframe tbody tr th {\n",
       "        vertical-align: top;\n",
       "    }\n",
       "\n",
       "    .dataframe thead th {\n",
       "        text-align: right;\n",
       "    }\n",
       "</style>\n",
       "<table border=\"1\" class=\"dataframe\">\n",
       "  <thead>\n",
       "    <tr style=\"text-align: right;\">\n",
       "      <th></th>\n",
       "      <th>biotype_category</th>\n",
       "      <th>detected_counts</th>\n",
       "      <th>gencode_counts</th>\n",
       "      <th>prop_detected</th>\n",
       "    </tr>\n",
       "  </thead>\n",
       "  <tbody>\n",
       "    <tr>\n",
       "      <th>1</th>\n",
       "      <td>protein_coding</td>\n",
       "      <td>64393.0</td>\n",
       "      <td>151259</td>\n",
       "      <td>0.425714</td>\n",
       "    </tr>\n",
       "    <tr>\n",
       "      <th>0</th>\n",
       "      <td>lncRNA</td>\n",
       "      <td>7314.0</td>\n",
       "      <td>28478</td>\n",
       "      <td>0.256830</td>\n",
       "    </tr>\n",
       "    <tr>\n",
       "      <th>2</th>\n",
       "      <td>pseudogene</td>\n",
       "      <td>3682.0</td>\n",
       "      <td>17657</td>\n",
       "      <td>0.208529</td>\n",
       "    </tr>\n",
       "    <tr>\n",
       "      <th>3</th>\n",
       "      <td>miRNA</td>\n",
       "      <td>NaN</td>\n",
       "      <td>1881</td>\n",
       "      <td>NaN</td>\n",
       "    </tr>\n",
       "    <tr>\n",
       "      <th>4</th>\n",
       "      <td>other</td>\n",
       "      <td>NaN</td>\n",
       "      <td>7486</td>\n",
       "      <td>NaN</td>\n",
       "    </tr>\n",
       "  </tbody>\n",
       "</table>\n",
       "</div>"
      ],
      "text/plain": [
       "  biotype_category  detected_counts  gencode_counts  prop_detected\n",
       "1   protein_coding          64393.0          151259       0.425714\n",
       "0           lncRNA           7314.0           28478       0.256830\n",
       "2       pseudogene           3682.0           17657       0.208529\n",
       "3            miRNA              NaN            1881            NaN\n",
       "4            other              NaN            7486            NaN"
      ]
     },
     "execution_count": 15,
     "metadata": {},
     "output_type": "execute_result"
    }
   ],
   "source": [
    "temp = df[['tid', 'biotype_category']].groupby('biotype_category').count()\n",
    "temp.reset_index(inplace=True)\n",
    "temp.rename({'tid': 'detected_counts'}, axis=1, inplace=True)\n",
    "\n",
    "temp = temp.merge(b_cat_counts, on='biotype_category', how='outer')\n",
    "temp['prop_detected'] = temp.detected_counts/temp.gencode_counts\n",
    "temp.sort_values(by='prop_detected', ascending=False, inplace=True)\n",
    "temp"
   ]
  },
  {
   "cell_type": "code",
   "execution_count": 16,
   "id": "7a544a02-d8d2-48b4-9b44-1175c4d49593",
   "metadata": {},
   "outputs": [
    {
     "data": {
      "text/plain": [
       "0.3723922712949735"
      ]
     },
     "execution_count": 16,
     "metadata": {},
     "output_type": "execute_result"
    }
   ],
   "source": [
    "73508.0 / 197394"
   ]
  },
  {
   "cell_type": "markdown",
   "id": "confident-commodity",
   "metadata": {},
   "source": [
    "## Characteristics of detected known, polyA gene associated transcripts"
   ]
  },
  {
   "cell_type": "markdown",
   "id": "median-august",
   "metadata": {},
   "source": [
    "## Number of cell types or tissues that each known transcript from polyA genes is expressed >= 1 TPM"
   ]
  },
  {
   "cell_type": "code",
   "execution_count": 17,
   "id": "spiritual-marathon",
   "metadata": {},
   "outputs": [
    {
     "name": "stdout",
     "output_type": "stream",
     "text": [
      "Calculating iso TPM values\n",
      "Subsetting for novelty categories ['Known']\n",
      "Subsetting for polya genes\n"
     ]
    },
    {
     "name": "stderr",
     "output_type": "stream",
     "text": [
      "/Users/fairliereese/Documents/programming/mortazavi_lab/data/rnawg/scripts/utils.py:1094: PerformanceWarning: DataFrame is highly fragmented.  This is usually the result of calling `frame.insert` many times, which has poor performance.  Consider joining all columns at once using pd.concat(axis=1) instead.  To get a de-fragmented frame, use `newframe = frame.copy()`\n",
      "  df[tpm_col] = (df[d]*1000000)/df[total_col]\n",
      "/Users/fairliereese/Documents/programming/mortazavi_lab/data/rnawg/scripts/utils.py:1093: PerformanceWarning: DataFrame is highly fragmented.  This is usually the result of calling `frame.insert` many times, which has poor performance.  Consider joining all columns at once using pd.concat(axis=1) instead.  To get a de-fragmented frame, use `newframe = frame.copy()`\n",
      "  df[total_col] = df[d].sum()\n"
     ]
    },
    {
     "name": "stdout",
     "output_type": "stream",
     "text": [
      "Enforcing minimum TPM\n",
      "Total # isos detected: 194503\n",
      "# isos >= 1 tpm: 175394\n",
      "Applying gene type and novelty subset\n",
      "Number of isos reported: 75389\n",
      "Found 50 total samples\n"
     ]
    },
    {
     "data": {
      "image/png": "[encoded data removed]",
      "text/plain": [
       "<Figure size 360x360 with 1 Axes>"
      ]
     },
     "metadata": {
      "needs_background": "light"
     },
     "output_type": "display_data"
    }
   ],
   "source": [
    "df = pd.read_csv('human_talon_abundance_filtered.tsv', sep='\\t')\n",
    "df = plot_biosamp_det(df,\n",
    "                      how='iso',\n",
    "                      min_tpm=1,\n",
    "                      gene_subset='polya',\n",
    "                      sample=None,\n",
    "                      groupby='sample',\n",
    "                      nov='Known',\n",
    "                      opref='figures/human')"
   ]
  },
  {
   "cell_type": "code",
   "execution_count": 18,
   "id": "bulgarian-manitoba",
   "metadata": {},
   "outputs": [
    {
     "name": "stdout",
     "output_type": "stream",
     "text": [
      "39800 / 75389 (52.8%) transcripts are expressed in <= 8 samples\n",
      "16267 / 75389 (21.6%) transcripts are expressed in >= 30 samples\n"
     ]
    }
   ],
   "source": [
    "specific_thresh = 8\n",
    "ubiq_thresh = 30\n",
    "\n",
    "n_iso = len(df.index)\n",
    "n_specific = len(df.loc[df.n_samples <= specific_thresh].index)\n",
    "n_ubiq = len(df.loc[df.n_samples >= ubiq_thresh].index)\n",
    "\n",
    "print('{} / {} ({:.1f}%) transcripts are expressed in <= {} samples'.format(n_specific, n_iso, (n_specific/n_iso)*100, specific_thresh))\n",
    "print('{} / {} ({:.1f}%) transcripts are expressed in >= {} samples'.format(n_ubiq, n_iso, (n_ubiq/n_iso)*100, ubiq_thresh))"
   ]
  },
  {
   "cell_type": "markdown",
   "id": "eleven-discount",
   "metadata": {},
   "source": [
    "## Length of transcripts from polyA genes detected >= 1 TPM"
   ]
  },
  {
   "cell_type": "code",
   "execution_count": 19,
   "id": "vital-split",
   "metadata": {},
   "outputs": [
    {
     "name": "stdout",
     "output_type": "stream",
     "text": [
      "Calculating iso TPM values\n",
      "Subsetting for novelty categories ['Known']\n",
      "Subsetting for polya genes\n"
     ]
    },
    {
     "name": "stderr",
     "output_type": "stream",
     "text": [
      "/Users/fairliereese/Documents/programming/mortazavi_lab/data/rnawg/scripts/utils.py:1094: PerformanceWarning: DataFrame is highly fragmented.  This is usually the result of calling `frame.insert` many times, which has poor performance.  Consider joining all columns at once using pd.concat(axis=1) instead.  To get a de-fragmented frame, use `newframe = frame.copy()`\n",
      "  df[tpm_col] = (df[d]*1000000)/df[total_col]\n",
      "/Users/fairliereese/Documents/programming/mortazavi_lab/data/rnawg/scripts/utils.py:1093: PerformanceWarning: DataFrame is highly fragmented.  This is usually the result of calling `frame.insert` many times, which has poor performance.  Consider joining all columns at once using pd.concat(axis=1) instead.  To get a de-fragmented frame, use `newframe = frame.copy()`\n",
      "  df[total_col] = df[d].sum()\n"
     ]
    },
    {
     "name": "stdout",
     "output_type": "stream",
     "text": [
      "Enforcing minimum TPM\n",
      "Total # isos detected: 194503\n",
      "# isos >= 1 tpm: 175394\n",
      "Applying gene type and novelty subset\n",
      "Number of isos reported: 75389\n"
     ]
    },
    {
     "data": {
      "image/png": "[encoded data removed]",
      "text/plain": [
       "<Figure size 467.36x360 with 1 Axes>"
      ]
     },
     "metadata": {
      "needs_background": "light"
     },
     "output_type": "display_data"
    }
   ],
   "source": [
    "df = pd.read_csv('human_talon_abundance_filtered.tsv', sep='\\t')\n",
    "df = plot_det_len_kde(df, \n",
    "                      how='iso', \n",
    "                      subset='polya',\n",
    "                      min_tpm=1,\n",
    "                      xlim=10000,\n",
    "                      opref='figures/')"
   ]
  },
  {
   "cell_type": "code",
   "execution_count": 20,
   "id": "conventional-iceland",
   "metadata": {},
   "outputs": [
    {
     "data": {
      "text/plain": [
       "<seaborn.axisgrid.FacetGrid at 0x7fce7baa6f10>"
      ]
     },
     "execution_count": 20,
     "metadata": {},
     "output_type": "execute_result"
    },
    {
     "data": {
      "image/png": "[encoded data removed]",
      "text/plain": [
       "<Figure size 606.985x360 with 1 Axes>"
      ]
     },
     "metadata": {
      "needs_background": "light"
     },
     "output_type": "display_data"
    }
   ],
   "source": [
    "df['det_biotype'] = df.detected.astype('str')+'_'+df.biotype_category\n",
    "ax = sns.displot(data=df, x='t_len', kind='kde',\n",
    "                     linewidth=3, hue='det_biotype', common_norm=True)\n",
    "ax.set(xlim=(0,10000))"
   ]
  },
  {
   "cell_type": "markdown",
   "id": "induced-beverage",
   "metadata": {},
   "source": [
    "What is the longest detected transcript with more than one exon?"
   ]
  },
  {
   "cell_type": "code",
   "execution_count": 21,
   "id": "mexican-manor",
   "metadata": {},
   "outputs": [],
   "source": [
    "t_df = pd.read_csv('human_talon_abundance_filtered.tsv', sep='\\t')\n",
    "t_df = t_df[['annot_transcript_id', 'n_exons']]"
   ]
  },
  {
   "cell_type": "code",
   "execution_count": 22,
   "id": "peripheral-worth",
   "metadata": {},
   "outputs": [],
   "source": [
    "df = df.merge(t_df, how='left', on='annot_transcript_id')"
   ]
  },
  {
   "cell_type": "code",
   "execution_count": 23,
   "id": "adult-military",
   "metadata": {},
   "outputs": [
    {
     "name": "stdout",
     "output_type": "stream",
     "text": [
      "37852\n"
     ]
    }
   ],
   "source": [
    "n = df.loc[(df.detected == True)&(df.n_exons > 1), 't_len'].max()\n",
    "print(n)"
   ]
  },
  {
   "cell_type": "code",
   "execution_count": 24,
   "id": "pressed-elite",
   "metadata": {},
   "outputs": [
    {
     "data": {
      "text/html": [
       "<div>\n",
       "<style scoped>\n",
       "    .dataframe tbody tr th:only-of-type {\n",
       "        vertical-align: middle;\n",
       "    }\n",
       "\n",
       "    .dataframe tbody tr th {\n",
       "        vertical-align: top;\n",
       "    }\n",
       "\n",
       "    .dataframe thead th {\n",
       "        text-align: right;\n",
       "    }\n",
       "</style>\n",
       "<table border=\"1\" class=\"dataframe\">\n",
       "  <thead>\n",
       "    <tr style=\"text-align: right;\">\n",
       "      <th></th>\n",
       "      <th>annot_transcript_id</th>\n",
       "      <th>tid</th>\n",
       "      <th>t_len</th>\n",
       "      <th>gid</th>\n",
       "      <th>gname</th>\n",
       "      <th>biotype</th>\n",
       "      <th>biotype_category</th>\n",
       "      <th>tf</th>\n",
       "      <th>detected</th>\n",
       "      <th>det_biotype</th>\n",
       "      <th>n_exons</th>\n",
       "    </tr>\n",
       "  </thead>\n",
       "  <tbody>\n",
       "    <tr>\n",
       "      <th>71485</th>\n",
       "      <td>ENST00000458178.2</td>\n",
       "      <td>ENST00000458178.2</td>\n",
       "      <td>37852</td>\n",
       "      <td>ENSG00000224086.5</td>\n",
       "      <td>AC245452.1</td>\n",
       "      <td>antisense</td>\n",
       "      <td>lncRNA</td>\n",
       "      <td>False</td>\n",
       "      <td>True</td>\n",
       "      <td>True_lncRNA</td>\n",
       "      <td>2.0</td>\n",
       "    </tr>\n",
       "  </tbody>\n",
       "</table>\n",
       "</div>"
      ],
      "text/plain": [
       "      annot_transcript_id                tid  t_len                gid  \\\n",
       "71485   ENST00000458178.2  ENST00000458178.2  37852  ENSG00000224086.5   \n",
       "\n",
       "            gname    biotype biotype_category     tf  detected  det_biotype  \\\n",
       "71485  AC245452.1  antisense           lncRNA  False      True  True_lncRNA   \n",
       "\n",
       "       n_exons  \n",
       "71485      2.0  "
      ]
     },
     "execution_count": 24,
     "metadata": {},
     "output_type": "execute_result"
    }
   ],
   "source": [
    "df.loc[df.t_len == 37852]"
   ]
  },
  {
   "cell_type": "markdown",
   "id": "thrown-perry",
   "metadata": {},
   "source": [
    "## Variance in TPM levels >= 1 TPM for known transcripts detected >= 1 TPM"
   ]
  },
  {
   "cell_type": "code",
   "execution_count": 25,
   "id": "acute-variance",
   "metadata": {},
   "outputs": [
    {
     "name": "stdout",
     "output_type": "stream",
     "text": [
      "Calculating iso TPM values\n",
      "Subsetting for novelty categories ['Known']\n",
      "Subsetting for polya genes\n"
     ]
    },
    {
     "name": "stderr",
     "output_type": "stream",
     "text": [
      "/Users/fairliereese/Documents/programming/mortazavi_lab/data/rnawg/scripts/utils.py:1094: PerformanceWarning: DataFrame is highly fragmented.  This is usually the result of calling `frame.insert` many times, which has poor performance.  Consider joining all columns at once using pd.concat(axis=1) instead.  To get a de-fragmented frame, use `newframe = frame.copy()`\n",
      "  df[tpm_col] = (df[d]*1000000)/df[total_col]\n",
      "/Users/fairliereese/Documents/programming/mortazavi_lab/data/rnawg/scripts/utils.py:1093: PerformanceWarning: DataFrame is highly fragmented.  This is usually the result of calling `frame.insert` many times, which has poor performance.  Consider joining all columns at once using pd.concat(axis=1) instead.  To get a de-fragmented frame, use `newframe = frame.copy()`\n",
      "  df[total_col] = df[d].sum()\n"
     ]
    },
    {
     "name": "stdout",
     "output_type": "stream",
     "text": [
      "Enforcing minimum TPM\n",
      "Total # isos detected: 194503\n",
      "# isos >= 1 tpm: 175394\n",
      "Applying gene type and novelty subset\n",
      "Number of isos reported: 75389\n"
     ]
    }
   ],
   "source": [
    "df = pd.read_csv('human_talon_abundance_filtered.tsv', sep='\\t')\n",
    "df = get_tpm_table(df,\n",
    "                   how='iso',\n",
    "                   nov=['Known'],\n",
    "                   min_tpm=1,\n",
    "                   gene_subset='polya')"
   ]
  },
  {
   "cell_type": "markdown",
   "id": "legislative-friend",
   "metadata": {},
   "source": [
    "## How many known polyA transcripts do we detect?"
   ]
  },
  {
   "cell_type": "code",
   "execution_count": 26,
   "id": "dying-porcelain",
   "metadata": {},
   "outputs": [
    {
     "name": "stdout",
     "output_type": "stream",
     "text": [
      "Calculating iso TPM values\n",
      "Subsetting for novelty categories ['Known']\n",
      "Subsetting for polya genes\n",
      "Enforcing minimum TPM\n",
      "Total # isos detected: 194503\n",
      "# isos >= 1 tpm: 175394\n",
      "Applying gene type and novelty subset\n",
      "Number of isos reported: 75389\n"
     ]
    }
   ],
   "source": [
    "df = pd.read_csv('human_talon_abundance_filtered.tsv', sep='\\t')\n",
    "df, _ = get_tpm_table(df,\n",
    "                   how='iso',\n",
    "                   nov=['Known'],\n",
    "                   min_tpm=1,\n",
    "                   gene_subset='polya')"
   ]
  },
  {
   "cell_type": "code",
   "execution_count": 27,
   "id": "suitable-christian",
   "metadata": {},
   "outputs": [],
   "source": [
    "# merge with transcript len\n",
    "t_df, b_counts, c_counts = get_gtf_info(how='iso')\n",
    "df = df.merge(t_df, how='left', left_index=True, right_on='tid')"
   ]
  },
  {
   "cell_type": "code",
   "execution_count": 28,
   "id": "historic-german",
   "metadata": {},
   "outputs": [
    {
     "name": "stdout",
     "output_type": "stream",
     "text": [
      "Detected 75389 / 197394 (38.19%) annotated transcripts from polyA genes >= 1 TPM\n"
     ]
    }
   ],
   "source": [
    "polya_biotypes = ['protein_coding', 'pseudogene', 'lncRNA']\n",
    "n_det_polya = len(df.index)\n",
    "n_known_polya = c_counts.loc[c_counts.biotype_category.isin(polya_biotypes), 'gencode_counts'].sum()\n",
    "print('Detected {} / {} ({:.2f}%) annotated transcripts from polyA genes >= 1 TPM'.format(n_det_polya, n_known_polya, (n_det_polya/n_known_polya)*100))"
   ]
  },
  {
   "cell_type": "markdown",
   "id": "invisible-brisbane",
   "metadata": {},
   "source": [
    "## How many complete isoforms do we detect?"
   ]
  },
  {
   "cell_type": "code",
   "execution_count": 29,
   "id": "former-fifteen",
   "metadata": {},
   "outputs": [
    {
     "name": "stdout",
     "output_type": "stream",
     "text": [
      "Calculating iso TPM values\n",
      "Subsetting for novelty categories ['Known', 'NIC', 'NNC']\n",
      "Subsetting for polya genes\n",
      "Enforcing minimum TPM\n",
      "Total # isos detected: 194503\n",
      "# isos >= 1 tpm: 175394\n",
      "Applying gene type and novelty subset\n",
      "Number of isos reported: 111071\n"
     ]
    }
   ],
   "source": [
    "df = pd.read_csv('human_talon_abundance_filtered.tsv', sep='\\t')\n",
    "df, tids = get_tpm_table(df,\n",
    "                   how='iso',\n",
    "                   nov=['Known', 'NIC', 'NNC'],\n",
    "                   min_tpm=1,\n",
    "                   gene_subset='polya')"
   ]
  },
  {
   "cell_type": "code",
   "execution_count": 30,
   "id": "covered-acoustic",
   "metadata": {},
   "outputs": [
    {
     "name": "stdout",
     "output_type": "stream",
     "text": [
      "  transcript_novelty  counts\n",
      "0              Known   75389\n",
      "1                NIC   27147\n",
      "2                NNC    8535\n",
      "Number of complete isoforms: 111071\n"
     ]
    },
    {
     "data": {
      "text/plain": [
       "<Figure size 288x432 with 0 Axes>"
      ]
     },
     "metadata": {},
     "output_type": "display_data"
    },
    {
     "data": {
      "image/png": "[encoded data removed]",
      "text/plain": [
       "<Figure size 360x360 with 1 Axes>"
      ]
     },
     "metadata": {
      "needs_background": "light"
     },
     "output_type": "display_data"
    },
    {
     "data": {
      "text/plain": [
       "<Figure size 432x288 with 0 Axes>"
      ]
     },
     "metadata": {},
     "output_type": "display_data"
    }
   ],
   "source": [
    "df = pd.read_csv('human_talon_abundance_filtered.tsv', sep='\\t')\n",
    "plot_transcript_novelty(df,\n",
    "                        oprefix='figures/complete_det',\n",
    "                        whitelist=tids,\n",
    "                        novs=['Known', 'NIC', 'NNC'])"
   ]
  },
  {
   "cell_type": "code",
   "execution_count": 31,
   "id": "b3e1ef55-67bf-4ca5-b678-e14e81207cf4",
   "metadata": {},
   "outputs": [
    {
     "data": {
      "text/plain": [
       "33179"
      ]
     },
     "execution_count": 31,
     "metadata": {},
     "output_type": "execute_result"
    }
   ],
   "source": [
    "25141+8038"
   ]
  },
  {
   "cell_type": "markdown",
   "id": "technological-absence",
   "metadata": {},
   "source": [
    "## How many exons are in each complete, detected model, split by novelty?"
   ]
  },
  {
   "cell_type": "code",
   "execution_count": 32,
   "id": "african-wiring",
   "metadata": {},
   "outputs": [
    {
     "name": "stdout",
     "output_type": "stream",
     "text": [
      "Calculating iso TPM values\n",
      "Subsetting for novelty categories ['Known', 'NIC', 'NNC']\n",
      "Subsetting for polya genes\n"
     ]
    },
    {
     "name": "stderr",
     "output_type": "stream",
     "text": [
      "/Users/fairliereese/Documents/programming/mortazavi_lab/data/rnawg/scripts/utils.py:1094: PerformanceWarning: DataFrame is highly fragmented.  This is usually the result of calling `frame.insert` many times, which has poor performance.  Consider joining all columns at once using pd.concat(axis=1) instead.  To get a de-fragmented frame, use `newframe = frame.copy()`\n",
      "  df[tpm_col] = (df[d]*1000000)/df[total_col]\n",
      "/Users/fairliereese/Documents/programming/mortazavi_lab/data/rnawg/scripts/utils.py:1093: PerformanceWarning: DataFrame is highly fragmented.  This is usually the result of calling `frame.insert` many times, which has poor performance.  Consider joining all columns at once using pd.concat(axis=1) instead.  To get a de-fragmented frame, use `newframe = frame.copy()`\n",
      "  df[total_col] = df[d].sum()\n"
     ]
    },
    {
     "name": "stdout",
     "output_type": "stream",
     "text": [
      "Enforcing minimum TPM\n",
      "Total # isos detected: 194503\n",
      "# isos >= 1 tpm: 175394\n",
      "Applying gene type and novelty subset\n",
      "Number of isos reported: 111071\n"
     ]
    },
    {
     "data": {
      "image/png": "[encoded data removed]",
      "text/plain": [
       "<Figure size 288x432 with 1 Axes>"
      ]
     },
     "metadata": {
      "needs_background": "light"
     },
     "output_type": "display_data"
    }
   ],
   "source": [
    "df = pd.read_csv('human_talon_abundance_filtered.tsv', sep='\\t')\n",
    "plot_exons_per_iso(df,\n",
    "                   nov=['Known', 'NIC', 'NNC'],\n",
    "                   min_tpm=1,\n",
    "                   gene_subset='polya',\n",
    "                   opref='figures/human')"
   ]
  },
  {
   "cell_type": "markdown",
   "id": "anonymous-explorer",
   "metadata": {},
   "source": [
    "## How many isoforms per gene do we detect per sample? "
   ]
  },
  {
   "cell_type": "markdown",
   "id": "oriental-strand",
   "metadata": {},
   "source": [
    "What is the average and range of complete isoforms per polyA gene that we detect per sample?"
   ]
  },
  {
   "cell_type": "code",
   "execution_count": 33,
   "id": "industrial-danish",
   "metadata": {},
   "outputs": [
    {
     "name": "stdout",
     "output_type": "stream",
     "text": [
      "Calculating iso TPM values\n",
      "Subsetting for novelty categories ['Known', 'NIC', 'NNC']\n",
      "Subsetting for polya genes\n"
     ]
    },
    {
     "name": "stderr",
     "output_type": "stream",
     "text": [
      "/Users/fairliereese/Documents/programming/mortazavi_lab/data/rnawg/scripts/utils.py:1094: PerformanceWarning: DataFrame is highly fragmented.  This is usually the result of calling `frame.insert` many times, which has poor performance.  Consider joining all columns at once using pd.concat(axis=1) instead.  To get a de-fragmented frame, use `newframe = frame.copy()`\n",
      "  df[tpm_col] = (df[d]*1000000)/df[total_col]\n",
      "/Users/fairliereese/Documents/programming/mortazavi_lab/data/rnawg/scripts/utils.py:1093: PerformanceWarning: DataFrame is highly fragmented.  This is usually the result of calling `frame.insert` many times, which has poor performance.  Consider joining all columns at once using pd.concat(axis=1) instead.  To get a de-fragmented frame, use `newframe = frame.copy()`\n",
      "  df[total_col] = df[d].sum()\n"
     ]
    },
    {
     "name": "stdout",
     "output_type": "stream",
     "text": [
      "Enforcing minimum TPM\n",
      "Total # isos detected: 194503\n",
      "# isos >= 1 tpm: 175394\n",
      "Applying gene type and novelty subset\n",
      "Number of isos reported: 111071\n",
      "Found 50 total samples\n"
     ]
    }
   ],
   "source": [
    "df = pd.read_csv('human_talon_abundance_filtered.tsv', sep='\\t')\n",
    "df = get_isos_per_gene(df,\n",
    "                       min_tpm=1,\n",
    "                       gene_subset='polya',\n",
    "                       groupby='sample', \n",
    "                       nov=['Known', 'NIC', 'NNC'])"
   ]
  },
  {
   "cell_type": "code",
   "execution_count": 34,
   "id": "serial-minnesota",
   "metadata": {},
   "outputs": [
    {
     "data": {
      "text/plain": [
       "annot_gene_id\n",
       "ENSG00000000003.14              colon\n",
       "ENSG00000000005.5        h9_panc_beta\n",
       "ENSG00000000419.12    h9_neural_crest\n",
       "ENSG00000000457.13    h9_neural_crest\n",
       "ENSG00000000460.16     h9_panc_progen\n",
       "                           ...       \n",
       "ENSG00000285967.1                  h1\n",
       "ENSG00000285972.1               colon\n",
       "ENSG00000285976.1               colon\n",
       "ENSG00000285988.1               calu3\n",
       "ENSG00000285991.1                a673\n",
       "Length: 25708, dtype: object"
      ]
     },
     "execution_count": 34,
     "metadata": {},
     "output_type": "execute_result"
    }
   ],
   "source": [
    "df.idxmax(axis=1)"
   ]
  },
  {
   "cell_type": "code",
   "execution_count": 35,
   "id": "straight-attachment",
   "metadata": {},
   "outputs": [
    {
     "name": "stdout",
     "output_type": "stream",
     "text": [
      "Average # isoforms / gene / sample: 2.9024639784673223\n"
     ]
    }
   ],
   "source": [
    "print('Average # isoforms / gene / sample: {}'.format(df.mean().mean()))"
   ]
  },
  {
   "cell_type": "code",
   "execution_count": 36,
   "id": "accessible-opening",
   "metadata": {},
   "outputs": [
    {
     "name": "stdout",
     "output_type": "stream",
     "text": [
      "Max # isoforms / gene / sample: 134.0\n"
     ]
    }
   ],
   "source": [
    "print('Max # isoforms / gene / sample: {}'.format(df.max().max()))"
   ]
  },
  {
   "cell_type": "markdown",
   "id": "broke-field",
   "metadata": {},
   "source": [
    "How does the total # of isoforms we detect / gene compare to the number of annotated isoforms / gene"
   ]
  },
  {
   "cell_type": "code",
   "execution_count": 1,
   "id": "5214b561-a66e-4d8a-9e54-da6c5fa9c5b1",
   "metadata": {},
   "outputs": [],
   "source": [
    "import pandas as pd\n",
    "import numpy as np\n",
    "import scipy.stats as st\n",
    "import seaborn as sns\n",
    "import sys\n",
    "import os\n",
    "import gseapy as gp\n",
    "\n",
    "p = os.path.dirname(os.path.dirname(os.getcwd()))\n",
    "sys.path.append(p)\n",
    "\n",
    "from scripts.utils import *\n",
    "from scripts.plotting import *"
   ]
  },
  {
   "cell_type": "code",
   "execution_count": 2,
   "id": "4169ad76-b9a2-404d-9a02-dba43f07f5bb",
   "metadata": {},
   "outputs": [
    {
     "name": "stdout",
     "output_type": "stream",
     "text": [
      "Calculating iso TPM values\n",
      "Subsetting for novelty categories ['Known', 'NIC', 'NNC']\n",
      "Subsetting for polya genes\n"
     ]
    },
    {
     "name": "stderr",
     "output_type": "stream",
     "text": [
      "/Users/fairliereese/Documents/programming/mortazavi_lab/data/rnawg/scripts/utils.py:1094: PerformanceWarning: DataFrame is highly fragmented.  This is usually the result of calling `frame.insert` many times, which has poor performance.  Consider joining all columns at once using pd.concat(axis=1) instead.  To get a de-fragmented frame, use `newframe = frame.copy()`\n",
      "  df[tpm_col] = (df[d]*1000000)/df[total_col]\n",
      "/Users/fairliereese/Documents/programming/mortazavi_lab/data/rnawg/scripts/utils.py:1093: PerformanceWarning: DataFrame is highly fragmented.  This is usually the result of calling `frame.insert` many times, which has poor performance.  Consider joining all columns at once using pd.concat(axis=1) instead.  To get a de-fragmented frame, use `newframe = frame.copy()`\n",
      "  df[total_col] = df[d].sum()\n"
     ]
    },
    {
     "name": "stdout",
     "output_type": "stream",
     "text": [
      "Enforcing minimum TPM\n",
      "Total # isos detected: 194503\n",
      "# isos >= 1 tpm: 175394\n",
      "Applying gene type and novelty subset\n",
      "Number of isos reported: 111071\n",
      "[1.5914889588521772, 242.54016834549282]\n"
     ]
    },
    {
     "data": {
      "image/png": "[encoded data removed]",
      "text/plain": [
       "<Figure size 432x432 with 1 Axes>"
      ]
     },
     "metadata": {
      "needs_background": "light"
     },
     "output_type": "display_data"
    }
   ],
   "source": [
    "df = pd.read_csv('human_talon_abundance_filtered.tsv', sep='\\t')\n",
    "genes = ['ELN', 'DES', 'TPM1', 'MEF2C',\n",
    "         'MYH7', 'MAPK10', 'PAX6', 'TCF4', 'COL1A1']\n",
    "df = plot_det_vs_gencode_isos(df, \n",
    "                         min_tpm=1,\n",
    "                         gene_subset='polya',\n",
    "                         nov=['Known', 'NIC', 'NNC'],\n",
    "                         label_genes=genes, \n",
    "                         opref='figures/human')"
   ]
  },
  {
   "cell_type": "code",
   "execution_count": null,
   "id": "historical-recovery",
   "metadata": {},
   "outputs": [],
   "source": [
    "entry = df.sort_values(by='n_isos_gencode', ascending=False).head(1)\n",
    "print('{} has the most annotated isoforms in GENCODE ({})'.format(entry.gname.values[0], entry.n_isos_gencode.values[0]))"
   ]
  },
  {
   "cell_type": "code",
   "execution_count": null,
   "id": "2876e2e2-f7c8-4da6-8ec8-a6f72b5817eb",
   "metadata": {},
   "outputs": [],
   "source": [
    "genes = ['COL1A1', 'TPM1', 'MAPK10', 'ELN', 'DES']\n",
    "df.loc[df.gname.isin(genes)]"
   ]
  },
  {
   "cell_type": "code",
   "execution_count": null,
   "id": "chinese-colorado",
   "metadata": {},
   "outputs": [],
   "source": [
    "df.sort_values(by='n_isos_gencode', ascending=False).head()"
   ]
  },
  {
   "cell_type": "code",
   "execution_count": null,
   "id": "variable-underwear",
   "metadata": {},
   "outputs": [],
   "source": [
    "df.loc[df.gname == 'COL1A1']"
   ]
  },
  {
   "cell_type": "code",
   "execution_count": null,
   "id": "arabic-colorado",
   "metadata": {},
   "outputs": [],
   "source": [
    "df.loc[df.gname == 'DES']"
   ]
  },
  {
   "cell_type": "code",
   "execution_count": null,
   "id": "direct-birmingham",
   "metadata": {},
   "outputs": [],
   "source": [
    "df['ratio'] = df['n_isos_det'] / df['n_isos_gencode']\n",
    "df.sort_values(by='ratio', ascending=False)\n",
    "df = df.sort_values(by='ratio', ascending=True)\n",
    "df.loc[df.n_isos_det > 15]"
   ]
  },
  {
   "cell_type": "markdown",
   "id": "broad-devon",
   "metadata": {},
   "source": [
    "How does TPM for a gene in a sample relate to the number of models we see in a sample?"
   ]
  },
  {
   "cell_type": "code",
   "execution_count": null,
   "id": "fancy-fence",
   "metadata": {},
   "outputs": [],
   "source": [
    "df = pd.read_csv('human_talon_abundance.tsv', sep='\\t')\n",
    "filt_df = pd.read_csv('human_talon_abundance_filtered.tsv', sep='\\t')\n",
    "df = plot_gene_tpm_v_n_isos(df, filt_df, \n",
    "                            min_tpm=1, \n",
    "                            groupby='sample', \n",
    "                            gene_subset='polya', \n",
    "                            nov=['Known', 'NIC', 'NNC'], \n",
    "                            opref='figures/human')"
   ]
  },
  {
   "cell_type": "code",
   "execution_count": null,
   "id": "fifteen-timeline",
   "metadata": {},
   "outputs": [],
   "source": [
    "df.loc[(df.gname == 'ELN')&(df.biosample == 'h9_chondro')]"
   ]
  },
  {
   "cell_type": "code",
   "execution_count": null,
   "id": "accepted-congress",
   "metadata": {},
   "outputs": [],
   "source": [
    "df.loc[df.tpm > 40000]"
   ]
  },
  {
   "cell_type": "code",
   "execution_count": null,
   "id": "offshore-focus",
   "metadata": {},
   "outputs": [],
   "source": [
    "df.loc[df.gname == 'COL1A1'].head()"
   ]
  },
  {
   "cell_type": "markdown",
   "id": "honest-current",
   "metadata": {},
   "source": [
    "How does the average number of exons in a gene relate to the number of isoforms we detect for that gene?"
   ]
  },
  {
   "cell_type": "code",
   "execution_count": null,
   "id": "korean-answer",
   "metadata": {},
   "outputs": [],
   "source": [
    "df = pd.read_csv('human_talon_abundance_filtered.tsv', sep='\\t')"
   ]
  },
  {
   "cell_type": "code",
   "execution_count": null,
   "id": "increasing-museum",
   "metadata": {},
   "outputs": [],
   "source": [
    "g_df = df.copy(deep=True)"
   ]
  },
  {
   "cell_type": "code",
   "execution_count": null,
   "id": "future-reasoning",
   "metadata": {},
   "outputs": [],
   "source": [
    "g_df = g_df[['n_exons', 'annot_gene_id', 'annot_gene_name']]\n",
    "g_df = g_df.groupby(['annot_gene_id', 'annot_gene_name']).mean().reset_index()\n",
    "g_df.rename({'n_exons':'avg_exons'}, axis=1, inplace=True)"
   ]
  },
  {
   "cell_type": "code",
   "execution_count": null,
   "id": "independent-plaza",
   "metadata": {},
   "outputs": [],
   "source": [
    "g_df.head()"
   ]
  },
  {
   "cell_type": "code",
   "execution_count": null,
   "id": "dutch-islam",
   "metadata": {},
   "outputs": [],
   "source": [
    "# detected isoforms\n",
    "df = get_isos_per_gene(df,\n",
    "                   min_tpm=1,\n",
    "                   gene_subset='polya',\n",
    "                   groupby='all', \n",
    "                   nov=['Known', 'NIC', 'NNC'])\n",
    "df.rename({'all': 'n_isos_det'}, axis=1, inplace=True)\n",
    "df.head()"
   ]
  },
  {
   "cell_type": "code",
   "execution_count": null,
   "id": "oriental-layer",
   "metadata": {},
   "outputs": [],
   "source": [
    "# merge with # isos detected\n",
    "df = df.merge(g_df, how='left', left_index=True, right_on='annot_gene_id')\n",
    "df.head()"
   ]
  },
  {
   "cell_type": "code",
   "execution_count": null,
   "id": "enabling-meter",
   "metadata": {},
   "outputs": [],
   "source": [
    "xlim = 0\n",
    "ylim = 0\n",
    "label_genes = ['ELN', 'DES', 'TPM1', 'MYH7', \n",
    "               'SFTPA1', 'MGAT1', 'DYSF', \n",
    "               'COL16A1']"
   ]
  },
  {
   "cell_type": "code",
   "execution_count": null,
   "id": "former-clearance",
   "metadata": {},
   "outputs": [],
   "source": [
    "# plot the figure\n",
    "opref = 'figures/human'\n",
    "\n",
    "sns.set_context('paper', font_scale=1.6)\n",
    "ax = sns.scatterplot(data=df, x='n_isos_det', y='avg_exons')\n",
    "\n",
    "ax.spines['right'].set_visible(False)\n",
    "ax.spines['top'].set_visible(False)\n",
    "\n",
    "# set x and y lims if provided\n",
    "if xlim:\n",
    "    xlim = (0, xlim)\n",
    "    ax.set(xlim=xlim)\n",
    "if ylim:\n",
    "    ylim = (0, ylim)\n",
    "    ax.set(ylim=ylim)\n",
    "\n",
    "lims = [\n",
    "    np.min([ax.get_xlim(), ax.get_ylim()]),  # min of both axes\n",
    "    np.max([ax.get_xlim(), ax.get_ylim()]),  # max of both axes\n",
    "]\n",
    "\n",
    "# now plot both limits against eachother\n",
    "ax.plot(lims, lims, 'k-', alpha=0.75, zorder=0)\n",
    "ax.set_aspect('equal')\n",
    "ax.set_xlim(lims)\n",
    "ax.set_ylim(lims)\n",
    "\n",
    "# annotate genes that are kinda interesting\n",
    "if label_genes:\n",
    "    xlim = ax.get_xlim()[1]\n",
    "    ylim = ax.get_ylim()[1]\n",
    "    for g in label_genes:\n",
    "        x = df.loc[df.annot_gene_name == g, 'n_isos_det'].values[0]+(2/75)*xlim\n",
    "        y = df.loc[df.annot_gene_name == g, 'avg_exons'].values[0]-(1.5/75)*ylim\n",
    "        plt.annotate(g, (x,y), fontsize='small', fontstyle='italic')\n",
    "\n",
    "xlabel = 'Total # isoforms / gene'\n",
    "ylabel = 'Average number of exons / isoform'\n",
    "_ = ax.set(xlabel=xlabel, ylabel=ylabel)\n",
    "\n",
    "fname = '{}_isos_det_v_exons.png'.format(opref)\n",
    "plt.savefig(fname, dpi=300, bbox_inches='tight')\n"
   ]
  },
  {
   "cell_type": "code",
   "execution_count": null,
   "id": "molecular-method",
   "metadata": {},
   "outputs": [],
   "source": [
    "df['ratio'] = df.n_isos_det / df.avg_exons\n",
    "df = df.sort_values(by='ratio', ascending=True)\n",
    "df.loc[df.n_isos_det > 5]"
   ]
  },
  {
   "cell_type": "markdown",
   "id": "prompt-exhaust",
   "metadata": {},
   "source": [
    "For genes where we detect a lot more isoforms than those annotated, are there typically more NIC or NNC?"
   ]
  },
  {
   "cell_type": "code",
   "execution_count": null,
   "id": "sorted-price",
   "metadata": {},
   "outputs": [],
   "source": [
    "df = pd.read_csv('human_talon_abundance_filtered.tsv', sep='\\t')\n",
    "min_tpm=1\n",
    "gene_subset='polya'\n",
    "nov=['Known', 'NIC', 'NNC']\n",
    "opref='figures/human'"
   ]
  },
  {
   "cell_type": "code",
   "execution_count": null,
   "id": "decent-ethiopia",
   "metadata": {},
   "outputs": [],
   "source": [
    "df_back = df.copy(deep=True)"
   ]
  },
  {
   "cell_type": "code",
   "execution_count": null,
   "id": "computational-relay",
   "metadata": {},
   "outputs": [],
   "source": [
    "# detected isoforms\n",
    "det_df = get_isos_per_gene(df,\n",
    "                   min_tpm=min_tpm,\n",
    "                   gene_subset=gene_subset,\n",
    "                   groupby='all', \n",
    "                   nov=nov)\n",
    "det_df.rename({'all': 'n_isos_det'}, axis=1, inplace=True)\n",
    "\n",
    "# annotated isoforms\n",
    "gc_df = get_n_gencode_isos(subset='polya')\n",
    "gc_df = gc_df[['gid', 'n_isos_gencode']]\n",
    "\n",
    "df = det_df.merge(gc_df, how='left', left_index=True, right_on='gid')    \n",
    "\n",
    "# add gene name \n",
    "gene_df, _, _ = get_gtf_info(how='gene', subset='polya')\n",
    "gene_df = gene_df[['gid', 'gname']]\n",
    "df = df.merge(gene_df, how='left', on='gid')\n",
    "\n",
    "df['ratio'] = df['n_isos_det'] / df['n_isos_gencode']\n",
    "gids = df.loc[df['ratio']>1.5, 'gid'].tolist()\n",
    "len(df.loc[df['ratio']>1.5])"
   ]
  },
  {
   "cell_type": "code",
   "execution_count": null,
   "id": "portable-gamma",
   "metadata": {},
   "outputs": [],
   "source": [
    "t_df = df_back.copy(deep=True)\n",
    "t_df = t_df[['annot_transcript_id', 'transcript_novelty', 'annot_gene_id', 'annot_gene_name']]\n",
    "df = get_det_table(df_back, \n",
    "                   how='iso', \n",
    "                   min_tpm=1, \n",
    "                   gene_subset='polya',\n",
    "                   groupby='all',\n",
    "                   nov=['Known', 'NIC', 'NNC'])\n",
    "df = df.transpose()"
   ]
  },
  {
   "cell_type": "code",
   "execution_count": null,
   "id": "defined-culture",
   "metadata": {},
   "outputs": [],
   "source": [
    "df = df.merge(t_df, how='left', left_index=True, right_on='annot_transcript_id')\n",
    "df = df.loc[df.annot_gene_id.isin(gids)]\n",
    "\n",
    "df.drop('all', axis=1, inplace=True)\n",
    "df = df.groupby(['annot_gene_id', 'annot_gene_name', 'transcript_novelty'], dropna=False).count().reset_index()\n",
    "df.rename({'annot_transcript_id': 'n_isos'}, axis=1, inplace=True)\n",
    "df.head()"
   ]
  },
  {
   "cell_type": "code",
   "execution_count": null,
   "id": "cultural-worship",
   "metadata": {},
   "outputs": [],
   "source": [
    "# plot the plot\n",
    "sns.set_context('paper', font_scale=1.6)\n",
    "plt.figure(figsize=(4,6))\n",
    "\n",
    "c_dict, order = get_talon_nov_colors(cats=nov)\n",
    "# ax = sns.boxplot(data=df, x='transcript_novelty', y='n_isos',\n",
    "#                  order=order, palette=c_dict,\n",
    "#                  saturation=1)\n",
    "\n",
    "ax = sns.catplot(data=df, x='transcript_novelty', y='n_isos',\n",
    "                 order=order, palette=c_dict, kind='bar', saturation=1)\n",
    "\n",
    "\n",
    "# ax.spines['right'].set_visible(False)\n",
    "# ax.spines['top'].set_visible(False)\n",
    "\n",
    "xlabel = 'Transcript novelty'\n",
    "ylabel = '# isoforms'\n",
    "\n",
    "_ = ax.set(xlabel=xlabel, ylabel=ylabel)\n",
    "\n",
    "fname = '{}_isos_per_many_iso_gene.png'.format(opref)\n",
    "plt.savefig(fname, dpi=300, bbox_inches='tight')"
   ]
  },
  {
   "cell_type": "markdown",
   "id": "steady-encoding",
   "metadata": {},
   "source": [
    "How does the max # isoforms detected per gene / sample compare to the number of isoforms detected per gene overall across the whole dataset?"
   ]
  },
  {
   "cell_type": "code",
   "execution_count": null,
   "id": "solid-engineering",
   "metadata": {},
   "outputs": [],
   "source": [
    "df = pd.read_csv('human_talon_abundance_filtered.tsv', sep='\\t')\n",
    "df = plot_max_vs_all_isos(df,\n",
    "                         min_tpm=1,\n",
    "                         gene_subset='polya',\n",
    "                         nov=['Known', 'NIC', 'NNC'],\n",
    "                         label_genes=['TPM1', 'DES', 'MAPK10', 'FN1', 'SFTPA1', 'ELN'],\n",
    "                         xlim=75,\n",
    "                         ylim=75,\n",
    "                         opref='figures/human')"
   ]
  },
  {
   "cell_type": "code",
   "execution_count": null,
   "id": "czech-equation",
   "metadata": {},
   "outputs": [],
   "source": [
    "df.loc[df.gname=='ELN']"
   ]
  },
  {
   "cell_type": "code",
   "execution_count": null,
   "id": "pediatric-spirit",
   "metadata": {},
   "outputs": [],
   "source": [
    "df['ratio'] = df['max_isos'] / df['total_isos']"
   ]
  },
  {
   "cell_type": "code",
   "execution_count": null,
   "id": "radical-qualification",
   "metadata": {},
   "outputs": [],
   "source": [
    "df.loc[df['total_isos'] > 50].sort_values(by='ratio', ascending=True)"
   ]
  },
  {
   "cell_type": "markdown",
   "id": "spanish-linux",
   "metadata": {},
   "source": [
    "What # of genes do we detect >15 isoforms overall that have >15 annotated isoforms in GENCODE?"
   ]
  },
  {
   "cell_type": "code",
   "execution_count": null,
   "id": "offshore-prevention",
   "metadata": {},
   "outputs": [],
   "source": [
    "df = pd.read_csv('human_talon_abundance_filtered.tsv', sep='\\t')\n",
    "df = get_isos_per_gene(df,\n",
    "                       min_tpm=1,\n",
    "                       gene_subset='polya',\n",
    "                       groupby='all', \n",
    "                       nov=['Known', 'NIC', 'NNC'])\n",
    "df.head()"
   ]
  },
  {
   "cell_type": "code",
   "execution_count": null,
   "id": "alone-essence",
   "metadata": {},
   "outputs": [],
   "source": [
    "df = df.loc[df['all'] > 15]"
   ]
  },
  {
   "cell_type": "code",
   "execution_count": null,
   "id": "greek-mountain",
   "metadata": {},
   "outputs": [],
   "source": [
    "gene_df, _, _ = get_gtf_info(how='iso', subset='polya')\n",
    "gene_df = gene_df[['gid', 'tid']]\n",
    "gene_df = gene_df.groupby('gid').count().reset_index()\n",
    "gene_df.rename({'tid': 'n_isos_gencode'}, axis=1, inplace=True)\n",
    "gene_df.sort_values(by='n_isos_gencode', ascending=False, inplace=True)\n",
    "gene_df = gene_df.loc[gene_df.n_isos_gencode > 15]\n",
    "\n",
    "# get intersection of genes wih >15 annotated isoforms and \n",
    "# genes that we detect >15 isoforms in at least one sample\n",
    "n = len(set(gene_df.gid.tolist())&set(df.index.tolist()))\n",
    "total = len(df.index)\n",
    "\n",
    "print('{} / {} genes w/ >15 isoforms detected overall have >15 isoforms annotated in GENCODE'.format(n, total))"
   ]
  },
  {
   "cell_type": "markdown",
   "id": "sonic-accountability",
   "metadata": {},
   "source": [
    "Deeper dive into what's going on with _ELN_"
   ]
  },
  {
   "cell_type": "code",
   "execution_count": null,
   "id": "balanced-denver",
   "metadata": {},
   "outputs": [],
   "source": [
    "temp = df.max(axis=1).to_frame()\n",
    "temp.loc[temp[0] == 134]"
   ]
  },
  {
   "cell_type": "code",
   "execution_count": null,
   "id": "authentic-hungary",
   "metadata": {},
   "outputs": [],
   "source": [
    "df.loc['ENSG00000049540.16'].idxmax()"
   ]
  },
  {
   "cell_type": "markdown",
   "id": "employed-washington",
   "metadata": {},
   "source": [
    "How many different tissues express Elastin? How many isoforms are detected in these tissues?"
   ]
  },
  {
   "cell_type": "code",
   "execution_count": null,
   "id": "touched-percentage",
   "metadata": {},
   "outputs": [],
   "source": [
    "df.loc['ENSG00000049540.16']"
   ]
  },
  {
   "cell_type": "markdown",
   "id": "upper-ticket",
   "metadata": {},
   "source": [
    "What novelty type do each of these isoforms have across samples?"
   ]
  },
  {
   "cell_type": "code",
   "execution_count": null,
   "id": "developing-machinery",
   "metadata": {},
   "outputs": [],
   "source": [
    "df = pd.read_csv('human_talon_abundance_filtered.tsv', sep='\\t')\n",
    "plot_transcript_novelty_per(df, \n",
    "                            gene='ELN', \n",
    "                            min_tpm=1, \n",
    "                            gene_subset='polya', \n",
    "                            groupby='sample', \n",
    "                            nov=['Known', 'NIC', 'NNC'], \n",
    "                            opref='figures/human')"
   ]
  },
  {
   "cell_type": "code",
   "execution_count": null,
   "id": "lyric-taste",
   "metadata": {},
   "outputs": [],
   "source": [
    "df = pd.read_csv('human_talon_abundance_filtered.tsv', sep='\\t')\n",
    "plot_transcript_novelty_per(df, \n",
    "                            gene='DES', \n",
    "                            min_tpm=1, \n",
    "                            gene_subset='polya', \n",
    "                            groupby='sample', \n",
    "                            nov=['Known', 'NIC', 'NNC'], \n",
    "                            opref='figures/human')"
   ]
  },
  {
   "cell_type": "code",
   "execution_count": null,
   "id": "peripheral-check",
   "metadata": {},
   "outputs": [],
   "source": [
    "df = pd.read_csv('human_talon_abundance_filtered.tsv', sep='\\t')\n",
    "plot_transcript_novelty_per(df, \n",
    "                            gene='MYH7', \n",
    "                            min_tpm=1, \n",
    "                            gene_subset='polya', \n",
    "                            groupby='sample', \n",
    "                            nov=['Known', 'NIC', 'NNC'], \n",
    "                            opref='figures/human')"
   ]
  },
  {
   "cell_type": "markdown",
   "id": "subject-possibility",
   "metadata": {},
   "source": [
    "What novelty type do each of these isoforms have in just h9 chondro?"
   ]
  },
  {
   "cell_type": "code",
   "execution_count": null,
   "id": "critical-copyright",
   "metadata": {},
   "outputs": [],
   "source": [
    "df = pd.read_csv('human_talon_abundance_filtered.tsv', sep='\\t')\n",
    "plot_transcript_novelty_per_1(df, \n",
    "                            dataset='h9_chondro',\n",
    "                            gene='ELN',\n",
    "                            min_tpm=1,\n",
    "                            gene_subset='polya',\n",
    "                            groupby='sample',\n",
    "                            nov=['Known', 'NIC', 'NNC'], \n",
    "                            opref='figures/human')"
   ]
  },
  {
   "cell_type": "markdown",
   "id": "legal-satin",
   "metadata": {},
   "source": [
    "Which samples have the highest average?"
   ]
  },
  {
   "cell_type": "code",
   "execution_count": null,
   "id": "spread-lincoln",
   "metadata": {},
   "outputs": [],
   "source": [
    "df = pd.read_csv('human_talon_abundance_filtered.tsv', sep='\\t')\n",
    "plot_avg_isos_per_gene(df,\n",
    "                       min_tpm=1,\n",
    "                       gene_subset='polya',\n",
    "                       sample='all', \n",
    "                       groupby='sample',\n",
    "                       nov=['Known', 'NIC', 'NNC'],\n",
    "                       opref='figures/human')"
   ]
  },
  {
   "cell_type": "code",
   "execution_count": null,
   "id": "elegant-chair",
   "metadata": {},
   "outputs": [],
   "source": [
    "df = pd.read_csv('human_talon_abundance_filtered.tsv', sep='\\t')\n",
    "plot_avg_isos_per_gene(df,\n",
    "                       min_tpm=1,\n",
    "                       gene_subset='polya',\n",
    "                       sample='tissue', \n",
    "                       groupby='sample',\n",
    "                       nov=['Known', 'NIC', 'NNC'],\n",
    "                       opref='figures/human')"
   ]
  },
  {
   "cell_type": "markdown",
   "id": "annual-vacation",
   "metadata": {},
   "source": [
    "What's the distribution of number of isoforms detected per gene per sample?"
   ]
  },
  {
   "cell_type": "code",
   "execution_count": null,
   "id": "baking-andorra",
   "metadata": {},
   "outputs": [],
   "source": [
    "df = pd.read_csv('human_talon_abundance_filtered.tsv', sep='\\t')\n",
    "df, ax = plot_isos_per_gene_hist(df,\n",
    "                       min_tpm=1,\n",
    "                       gene_subset='polya',\n",
    "                       groupby='sample', \n",
    "                       nov=['Known', 'NIC', 'NNC'],\n",
    "                       rm_1=True)"
   ]
  },
  {
   "cell_type": "markdown",
   "id": "martial-director",
   "metadata": {},
   "source": [
    "How many genes have >15, >10 isoforms expressed in a sample?"
   ]
  },
  {
   "cell_type": "code",
   "execution_count": null,
   "id": "billion-change",
   "metadata": {},
   "outputs": [],
   "source": [
    "df = pd.read_csv('human_talon_abundance_filtered.tsv', sep='\\t')\n",
    "df = get_isos_per_gene(df,\n",
    "                       min_tpm=1,\n",
    "                       gene_subset='polya',\n",
    "                       groupby='sample',\n",
    "                       nov=['Known', 'NIC', 'NNC'])"
   ]
  },
  {
   "cell_type": "code",
   "execution_count": null,
   "id": "powerful-anaheim",
   "metadata": {},
   "outputs": [],
   "source": [
    "df = df.loc[(df > 10).any(axis=1)]\n",
    "n = len(df.index)\n",
    "print('{} genes with >10 complete isoforms / gene in at least one sample'.format(n))"
   ]
  },
  {
   "cell_type": "code",
   "execution_count": null,
   "id": "statistical-industry",
   "metadata": {},
   "outputs": [],
   "source": [
    "print(len(df.index))\n",
    "df.head()"
   ]
  },
  {
   "cell_type": "code",
   "execution_count": null,
   "id": "proved-chosen",
   "metadata": {},
   "outputs": [],
   "source": [
    "# enrichr on these genes\n",
    "dbs = ['GO_Biological_Process_2021',\n",
    "       'GO_Cellular_Component_2021',\n",
    "       'GO_Molecular_Function_2021',\n",
    "       'KEGG_2021_Human']\n",
    "bm = gp.parser.Biomart()\n",
    "datasets = bm.get_datasets(mart='ENSEMBL_MART_ENSEMBL')\n",
    "datasets.loc[datasets.Description.str.contains('Human')]\n",
    "\n",
    "df['gid'] = df.index\n",
    "gids = df.gid.str.rsplit('.', n=1, expand=True)[0].to_frame()\n",
    "df.drop('gid', axis=1, inplace=True)\n",
    "gids = gids.squeeze().str.strip().tolist()\n",
    "gids = bm.query(dataset='hsapiens_gene_ensembl',\n",
    "           attributes=['ensembl_gene_id', 'external_gene_name'],\n",
    "           filters={'ensembl_gene_id': gids})\n",
    "gids = gids.loc[~gids.external_gene_name.isna()]\n",
    "gnames = gids.external_gene_name.squeeze().str.strip().tolist()\n",
    "go = gp.enrichr(gene_list=gnames,\n",
    "                gene_sets=dbs,\n",
    "                organism='Human',\n",
    "                description='highly_spliced_isos',\n",
    "                outdir='highly_spliced_isos_GO',\n",
    "                cutoff=0.5)"
   ]
  },
  {
   "cell_type": "code",
   "execution_count": null,
   "id": "necessary-playlist",
   "metadata": {},
   "outputs": [],
   "source": [
    "df = df.loc[(df > 15).any(axis=1)]\n",
    "n = len(df.index)\n",
    "print('{} genes with >15 complete isoforms / gene in at least one sample'.format(n))"
   ]
  },
  {
   "cell_type": "code",
   "execution_count": null,
   "id": "smart-climb",
   "metadata": {},
   "outputs": [],
   "source": [
    "# enrichr on these genes\n",
    "dbs = ['GO_Biological_Process_2021',\n",
    "       'GO_Cellular_Component_2021',\n",
    "       'GO_Molecular_Function_2021',\n",
    "       'KEGG_2021_Human']\n",
    "bm = gp.parser.Biomart()\n",
    "datasets = bm.get_datasets(mart='ENSEMBL_MART_ENSEMBL')\n",
    "datasets.loc[datasets.Description.str.contains('Human')]\n",
    "\n",
    "df['gid'] = df.index\n",
    "gids = df.gid.str.rsplit('.', n=1, expand=True)[0].to_frame()\n",
    "df.drop('gid', axis=1, inplace=True)\n",
    "gids = gids.squeeze().str.strip().tolist()\n",
    "gids = bm.query(dataset='hsapiens_gene_ensembl',\n",
    "           attributes=['ensembl_gene_id', 'external_gene_name'],\n",
    "           filters={'ensembl_gene_id': gids})\n",
    "gids = gids.loc[~gids.external_gene_name.isna()]\n",
    "gnames = gids.external_gene_name.squeeze().str.strip().tolist()\n",
    "go = gp.enrichr(gene_list=gnames,\n",
    "                gene_sets=dbs,\n",
    "                organism='Human',\n",
    "                description='highly_spliced_isos_15',\n",
    "                outdir='highly_spliced_isos_15_GO',\n",
    "                cutoff=0.5)"
   ]
  },
  {
   "cell_type": "markdown",
   "id": "second-uniform",
   "metadata": {},
   "source": [
    "How many of these genes have >15 annotated isoforms / gene? "
   ]
  },
  {
   "cell_type": "code",
   "execution_count": null,
   "id": "novel-obligation",
   "metadata": {},
   "outputs": [],
   "source": [
    "gene_df, _, _ = get_gtf_info(how='iso', subset='polya')\n",
    "gene_df = gene_df[['gid', 'tid']]\n",
    "gene_df = gene_df.groupby('gid').count().reset_index()\n",
    "gene_df.rename({'tid': 'n_isos_gencode'}, axis=1, inplace=True)\n",
    "gene_df.sort_values(by='n_isos_gencode', ascending=False, inplace=True)\n",
    "gene_df = gene_df.loc[gene_df.n_isos_gencode > 15]\n",
    "\n",
    "# get intersection of genes wih >15 annotated isoforms and \n",
    "# genes that we detect >15 isoforms in at least one sample\n",
    "n = len(set(gene_df.gid.tolist())&set(df.index.tolist()))\n",
    "total = len(df.index)\n",
    "\n",
    "print('{} / {} genes w/ >15 isoforms detected in one sample have >15 isoforms annotated in GENCODE'.format(n, total))"
   ]
  },
  {
   "cell_type": "markdown",
   "id": "distinguished-kentucky",
   "metadata": {},
   "source": [
    "What are the identities of highly-spliced genes?"
   ]
  },
  {
   "cell_type": "code",
   "execution_count": null,
   "id": "controversial-queen",
   "metadata": {},
   "outputs": [],
   "source": [
    "df = pd.read_csv('human_talon_abundance_filtered.tsv', sep='\\t')\n",
    "df = get_isos_per_gene(df,\n",
    "                       min_tpm=1,\n",
    "                       gene_subset='polya',\n",
    "                       groupby='sample',\n",
    "                       nov=['Known', 'NIC', 'NNC'])"
   ]
  },
  {
   "cell_type": "code",
   "execution_count": null,
   "id": "historical-heaven",
   "metadata": {},
   "outputs": [],
   "source": [
    "df['max_isos_sample'] = df.max(axis=1)\n",
    "df['max_sample'] = df.idxmax(axis=1)\n",
    "df = df[['max_isos_sample', 'max_sample']]\n",
    "df = df.sort_values('max_isos_sample', ascending=False)"
   ]
  },
  {
   "cell_type": "code",
   "execution_count": null,
   "id": "prepared-scroll",
   "metadata": {},
   "outputs": [],
   "source": [
    "g_df = pd.read_csv('human_talon_abundance_filtered.tsv', sep='\\t')\n",
    "g_df = g_df[['annot_gene_name', 'annot_gene_id']].drop_duplicates()\n",
    "df = df.merge(g_df, how='left', left_index=True, right_on='annot_gene_id')"
   ]
  },
  {
   "cell_type": "code",
   "execution_count": null,
   "id": "enormous-mountain",
   "metadata": {},
   "outputs": [],
   "source": [
    "print('Top 10 genes with isoforms / gene / sample')\n",
    "df.head(10)"
   ]
  },
  {
   "cell_type": "code",
   "execution_count": null,
   "id": "nearby-fraud",
   "metadata": {},
   "outputs": [],
   "source": [
    "# save table \n",
    "df.to_csv('isos_per_gene_per_sample_min_15.tsv', sep='\\t')"
   ]
  },
  {
   "cell_type": "markdown",
   "id": "reasonable-eligibility",
   "metadata": {},
   "source": [
    "Number of libraries per sample"
   ]
  },
  {
   "cell_type": "code",
   "execution_count": null,
   "id": "mediterranean-panama",
   "metadata": {},
   "outputs": [],
   "source": [
    "df = pd.read_csv('human_talon_abundance_filtered.tsv', sep='\\t')\n",
    "plot_n_libs_v_avg_isos(df,\n",
    "                        min_tpm=1,\n",
    "                        gene_subset='polya',\n",
    "                        sample='all',\n",
    "                        nov=['Known', 'NIC', 'NNC'], \n",
    "                        opref='figures/human')"
   ]
  },
  {
   "cell_type": "markdown",
   "id": "colonial-trinity",
   "metadata": {},
   "source": [
    "Number of reads per sample"
   ]
  },
  {
   "cell_type": "code",
   "execution_count": null,
   "id": "10a2a469-62f1-429f-b6dc-c0821ee34327",
   "metadata": {},
   "outputs": [],
   "source": [
    "import pandas as pd\n",
    "import numpy as np\n",
    "import scipy.stats as st\n",
    "import seaborn as sns\n",
    "import sys\n",
    "import os\n",
    "import gseapy as gp\n",
    "\n",
    "p = os.path.dirname(os.path.dirname(os.getcwd()))\n",
    "sys.path.append(p)\n",
    "\n",
    "from scripts.utils import *\n",
    "from scripts.plotting import *"
   ]
  },
  {
   "cell_type": "code",
   "execution_count": null,
   "id": "adequate-firewall",
   "metadata": {},
   "outputs": [],
   "source": [
    "df = pd.read_csv('human_talon_abundance.tsv', sep='\\t')\n",
    "filt_df = pd.read_csv('human_talon_abundance_filtered.tsv', sep='\\t')\n",
    "plot_n_reads_v_avg_isos(df, filt_df,\n",
    "                        min_tpm=1,\n",
    "                        gene_subset='polya',\n",
    "                        sample='all',\n",
    "                        groupby='sample',\n",
    "                        nov=['Known', 'NIC', 'NNC'], \n",
    "                        opref='figures/human')"
   ]
  },
  {
   "cell_type": "markdown",
   "id": "better-viewer",
   "metadata": {},
   "source": [
    "What fraction of polyA genes express >= 2 complete isoforms in more than half of their expressed samples?"
   ]
  },
  {
   "cell_type": "code",
   "execution_count": null,
   "id": "turned-mouth",
   "metadata": {},
   "outputs": [],
   "source": [
    "filt_df = pd.read_csv('human_talon_abundance_filtered.tsv', sep='\\t')\n",
    "df = pd.read_csv('human_talon_abundance.tsv', sep='\\t')\n",
    "\n",
    "df = get_gene_iso_det_table(df, filt_df,\n",
    "                            min_isos=2,\n",
    "                            iso_nov=['Known', 'NIC', 'NNC'],\n",
    "                            gene_nov=['Known'],\n",
    "                            gene_subset='polya',\n",
    "                            min_tpm=1,\n",
    "                            sample='all',\n",
    "                            groupby='sample')"
   ]
  },
  {
   "cell_type": "code",
   "execution_count": null,
   "id": "disabled-completion",
   "metadata": {},
   "outputs": [],
   "source": [
    "df = df.apply(pd.Series.value_counts)\n",
    "df = df.transpose()\n",
    "df.fillna(0, inplace=True)\n",
    "df.rename({'00': 'no_det',\n",
    "             '01': 'gene_det',\n",
    "             '10': 'iso_det',\n",
    "             '11': 'gene_iso_det'}, axis=1, inplace=True)\n",
    "\n",
    "df['total_gene_det'] = df['gene_det']+df['gene_iso_det']\n",
    "df['prop'] = df['gene_iso_det']/df['total_gene_det']\n",
    "\n",
    "n_gene_iso = len(df.loc[df.prop >= .5])\n",
    "n = len(df.index)\n",
    "\n",
    "print('{} / {} ({:.2f}%) detected polyA genes express >=2 isoforms in at least half of their expressed samples'.format(n_gene_iso, n, (n_gene_iso/n)*100))"
   ]
  },
  {
   "cell_type": "markdown",
   "id": "removed-ebony",
   "metadata": {},
   "source": [
    "What fraction of TF genes express >= 2 complete isoforms in more than half of their expressed samples?\n"
   ]
  },
  {
   "cell_type": "code",
   "execution_count": null,
   "id": "educational-cabinet",
   "metadata": {},
   "outputs": [],
   "source": [
    "filt_df = pd.read_csv('human_talon_abundance_filtered.tsv', sep='\\t')\n",
    "df = pd.read_csv('human_talon_abundance.tsv', sep='\\t')\n",
    "\n",
    "df = get_gene_iso_det_table(df, filt_df,\n",
    "                            min_isos=2,\n",
    "                            iso_nov=['Known', 'NIC', 'NNC'],\n",
    "                            gene_nov=['Known'],\n",
    "                            gene_subset='tf',\n",
    "                            min_tpm=1,\n",
    "                            sample='all',\n",
    "                            groupby='sample')"
   ]
  },
  {
   "cell_type": "code",
   "execution_count": null,
   "id": "single-century",
   "metadata": {},
   "outputs": [],
   "source": [
    "df = df.apply(pd.Series.value_counts)\n",
    "df = df.transpose()\n",
    "df.fillna(0, inplace=True)\n",
    "df.rename({'00': 'no_det',\n",
    "             '01': 'gene_det',\n",
    "             '10': 'iso_det',\n",
    "             '11': 'gene_iso_det'}, axis=1, inplace=True)\n",
    "\n",
    "df['total_gene_det'] = df['gene_det']+df['gene_iso_det']\n",
    "df['prop'] = df['gene_iso_det']/df['total_gene_det']\n",
    "\n",
    "n_gene_iso = len(df.loc[df.prop >= .5])\n",
    "n = len(df.index)\n",
    "\n",
    "print('{} / {} ({:.2f}%) detected TF genes express >=2 isoforms in at least half of their expressed samples'.format(n_gene_iso, n, (n_gene_iso/n)*100))"
   ]
  },
  {
   "cell_type": "markdown",
   "id": "atomic-validity",
   "metadata": {},
   "source": [
    "What fraction of polyA genes have >= 2 complete isoforms detected in the same sample?"
   ]
  },
  {
   "cell_type": "code",
   "execution_count": null,
   "id": "purple-stadium",
   "metadata": {},
   "outputs": [],
   "source": [
    "df = pd.read_csv('human_talon_abundance_filtered.tsv', sep='\\t')\n",
    "df = get_isos_per_gene(df,\n",
    "                       min_tpm=1,\n",
    "                       gene_subset='polya',\n",
    "                       groupby='sample', \n",
    "                       nov=['Known', 'NIC', 'NNC'])"
   ]
  },
  {
   "cell_type": "code",
   "execution_count": null,
   "id": "according-mapping",
   "metadata": {},
   "outputs": [],
   "source": [
    "gene_df, b_counts, b_cat_counts = get_gtf_info(how='gene', subset='polya')\n",
    "n_polya = len(gene_df.index)\n",
    "\n",
    "df = df.loc[(df > 2).any(axis=1)]\n",
    "n_det_polya = len(df.index)\n",
    "\n",
    "print('{} / {} ({:.2f}%) annotated polyA genes have >= 2 isoforms expressed in >= 1 sample'.format(n_det_polya, n_polya, (n_det_polya/n_polya)*100))"
   ]
  },
  {
   "cell_type": "markdown",
   "id": "separate-soundtrack",
   "metadata": {},
   "source": [
    "What fraction of TF genes have >= 2 complete isoforms detected in the same sample?"
   ]
  },
  {
   "cell_type": "code",
   "execution_count": null,
   "id": "positive-juvenile",
   "metadata": {},
   "outputs": [],
   "source": [
    "df = pd.read_csv('human_talon_abundance_filtered.tsv', sep='\\t')\n",
    "df = get_isos_per_gene(df,\n",
    "                       min_tpm=1,\n",
    "                       gene_subset='tf',\n",
    "                       groupby='sample', \n",
    "                       nov=['Known', 'NIC', 'NNC'])"
   ]
  },
  {
   "cell_type": "code",
   "execution_count": null,
   "id": "biological-uzbekistan",
   "metadata": {},
   "outputs": [],
   "source": [
    "gene_df, b_counts, b_cat_counts = get_gtf_info(how='gene', subset='tf')\n",
    "n_polya = len(gene_df.index)\n",
    "\n",
    "df = df.loc[(df > 2).any(axis=1)]\n",
    "n_det_polya = len(df.index)\n",
    "\n",
    "print('{} / {} ({:.2f}%) annotated TF genes have >= 2 isoforms expressed in >= 1 sample'.format(n_det_polya, n_polya, (n_det_polya/n_polya)*100))"
   ]
  },
  {
   "cell_type": "markdown",
   "id": "bf5f055f-bd42-47b2-b594-ac5fb3bd7e80",
   "metadata": {},
   "source": [
    "## What does the expression look like of isoforms belonging to MAP4K4?"
   ]
  },
  {
   "cell_type": "code",
   "execution_count": null,
   "id": "bbecc1c9-e8db-4fce-bf74-603ab3f73a73",
   "metadata": {},
   "outputs": [],
   "source": [
    "import pandas as pd\n",
    "import numpy as np\n",
    "import scipy.stats as st\n",
    "import seaborn as sns\n",
    "import sys\n",
    "import os\n",
    "import gseapy as gp\n",
    "\n",
    "p = os.path.dirname(os.path.dirname(os.getcwd()))\n",
    "sys.path.append(p)\n",
    "\n",
    "from scripts.utils import *\n",
    "from scripts.plotting import *"
   ]
  },
  {
   "cell_type": "code",
   "execution_count": null,
   "id": "historic-sodium",
   "metadata": {},
   "outputs": [],
   "source": [
    "df = pd.read_csv('human_talon_abundance.tsv', sep='\\t')\n",
    "df, tids = get_tpm_table(df,\n",
    "                   how='iso',\n",
    "                   min_tpm=0,\n",
    "                   groupby='sample', \n",
    "                   gene_subset='polya')"
   ]
  },
  {
   "cell_type": "code",
   "execution_count": null,
   "id": "88b063ce-3a07-400d-b1a9-fbf3857a7b90",
   "metadata": {},
   "outputs": [],
   "source": [
    "gene_df = pd.read_csv('human_talon_abundance.tsv', sep='\\t')\n",
    "gene_df = gene_df[['annot_transcript_id', 'annot_gene_name', 'transcript_novelty']]\n",
    "gene_df.rename({'annot_transcript_id': 'tid', 'annot_gene_name': 'gname'}, axis=1, inplace=True)\n",
    "\n",
    "df = df.merge(gene_df, how='left', left_index=True, right_on='tid')"
   ]
  },
  {
   "cell_type": "code",
   "execution_count": null,
   "id": "32e067c0-764c-4664-b781-5fa668bcf528",
   "metadata": {},
   "outputs": [],
   "source": [
    "df.head()"
   ]
  },
  {
   "cell_type": "code",
   "execution_count": null,
   "id": "2c148e66-ccbb-4b29-b0e6-30a3cdea8e2b",
   "metadata": {},
   "outputs": [],
   "source": [
    "df = df.loc[df.gname == 'MAP4K4']"
   ]
  },
  {
   "cell_type": "code",
   "execution_count": null,
   "id": "cb50b345-b9c0-48f7-9508-f09baa513698",
   "metadata": {},
   "outputs": [],
   "source": [
    "df = df.groupby(['transcript_novelty']).sum()"
   ]
  },
  {
   "cell_type": "code",
   "execution_count": null,
   "id": "170147d8-03bf-4fec-8ed7-f12bc0596b51",
   "metadata": {},
   "outputs": [],
   "source": [
    "df.head()"
   ]
  },
  {
   "cell_type": "code",
   "execution_count": null,
   "id": "a6fc2c81-2476-4a55-a18e-814b7a7519b5",
   "metadata": {},
   "outputs": [],
   "source": [
    "len(df.columns)"
   ]
  },
  {
   "cell_type": "code",
   "execution_count": null,
   "id": "2a3f78ba-3063-468d-ba3f-5247b4ab3cf3",
   "metadata": {},
   "outputs": [],
   "source": [
    "df = np.log2(df)"
   ]
  },
  {
   "cell_type": "code",
   "execution_count": null,
   "id": "b0aed15c-7e61-46ed-9530-28647300d034",
   "metadata": {},
   "outputs": [],
   "source": [
    "sns.heatmap(data=df, xticklabels=True, cbar_kws={'label': 'log2(TPM)'})"
   ]
  },
  {
   "cell_type": "code",
   "execution_count": null,
   "id": "4c3756ee-0c2f-4a4b-a087-dbfea2a9d6c5",
   "metadata": {},
   "outputs": [],
   "source": []
  }
 ],
 "metadata": {
  "kernelspec": {
   "display_name": "Python 3",
   "language": "python",
   "name": "python3"
  },
  "language_info": {
   "codemirror_mode": {
    "name": "ipython",
    "version": 3
   },
   "file_extension": ".py",
   "mimetype": "text/x-python",
   "name": "python",
   "nbconvert_exporter": "python",
   "pygments_lexer": "ipython3",
   "version": "3.7.4"
  }
 },
 "nbformat": 4,
 "nbformat_minor": 5
}
