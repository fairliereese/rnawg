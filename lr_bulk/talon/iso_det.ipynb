{
 "cells": [
  {
   "cell_type": "code",
   "execution_count": 1,
   "id": "attempted-mailman",
   "metadata": {},
   "outputs": [],
   "source": [
    "import pandas as pd\n",
    "import numpy as np\n",
    "import scipy.stats as st\n",
    "import seaborn as sns\n",
    "import sys\n",
    "import os\n",
    "\n",
    "p = os.path.dirname(os.path.dirname(os.getcwd()))\n",
    "sys.path.append(p)\n",
    "\n",
    "from scripts.utils import *\n",
    "from scripts.plotting import *"
   ]
  },
  {
   "cell_type": "markdown",
   "id": "modified-trail",
   "metadata": {},
   "source": [
    "## PolyA gene transcript detection"
   ]
  },
  {
   "cell_type": "markdown",
   "id": "bigger-preserve",
   "metadata": {},
   "source": [
    "What fraction of polyA genes from the annotation do we detect with at least 1 known isoform >= 1 TPM in any library?"
   ]
  },
  {
   "cell_type": "code",
   "execution_count": 3,
   "id": "popular-conditions",
   "metadata": {},
   "outputs": [
    {
     "name": "stdout",
     "output_type": "stream",
     "text": [
      "Calculating iso TPM values\n",
      "Subsetting for polyA genes\n",
      "Enforcing minimum TPM\n",
      "Total # isos detected: 85348\n",
      "# isos >= 1 tpm: 77128\n",
      "Subsetting on polya genes\n",
      "Number of isos reported: 74796\n"
     ]
    }
   ],
   "source": [
    "df = pd.read_csv('human_talon_abundance.tsv', sep='\\t')\n",
    "df = get_tpm_table(df,\n",
    "                   how='iso',\n",
    "                   nov=['Known'],\n",
    "                   min_tpm=1,\n",
    "                   gene_subset='polya')"
   ]
  },
  {
   "cell_type": "code",
   "execution_count": 3,
   "id": "defined-accuracy",
   "metadata": {},
   "outputs": [],
   "source": [
    "# merge with gene id\n",
    "gene_df = pd.read_csv('human_talon_abundance.tsv', sep='\\t')\n",
    "gene_df = gene_df[['annot_gene_id', 'annot_transcript_id']]\n",
    "df = df.merge(gene_df, how='left', left_index=True, right_on='annot_transcript_id')"
   ]
  },
  {
   "cell_type": "code",
   "execution_count": 4,
   "id": "military-concord",
   "metadata": {},
   "outputs": [
    {
     "name": "stdout",
     "output_type": "stream",
     "text": [
      "Detected 24936 / 49472 annotated polyA genes w/ at least 1 known transcript >= 1 TPM\n"
     ]
    }
   ],
   "source": [
    "gene_df, _, _ = get_gtf_info(how='gene')\n",
    "\n",
    "polya_biotypes = ['protein_coding', 'pseudogene', 'lncRNA']\n",
    "polya_genes = gene_df.loc[gene_df.biotype_category.isin(polya_biotypes), 'gid'].tolist()\n",
    "n_polya = len(polya_genes)\n",
    "n_det_polya = len(df.annot_gene_id.unique().tolist())\n",
    "\n",
    "print('Detected {} / {} annotated polyA genes w/ at least 1 known transcript >= 1 TPM'.format(n_det_polya, n_polya))"
   ]
  },
  {
   "cell_type": "markdown",
   "id": "moved-subdivision",
   "metadata": {},
   "source": [
    "## Protein coding gene transcript detection"
   ]
  },
  {
   "cell_type": "markdown",
   "id": "fancy-textbook",
   "metadata": {},
   "source": [
    "What fraction of protein-coding genes do we detect with at least 1 known isoform >= 1 TPM in any library?"
   ]
  },
  {
   "cell_type": "code",
   "execution_count": 26,
   "id": "juvenile-replica",
   "metadata": {},
   "outputs": [
    {
     "name": "stdout",
     "output_type": "stream",
     "text": [
      "Calculating iso TPM values\n",
      "Enforcing minimum TPM\n",
      "Total # isos detected: 85348\n",
      "# isos >= 1 tpm: 77128\n",
      "Number of isos reported: 77128\n"
     ]
    }
   ],
   "source": [
    "df = pd.read_csv('human_talon_abundance.tsv', sep='\\t')\n",
    "# no gene subset here so we can look at all other genes\n",
    "df, tids = get_tpm_table(df,\n",
    "                   how='iso',\n",
    "                   nov=['Known'],\n",
    "                   min_tpm=1)"
   ]
  },
  {
   "cell_type": "code",
   "execution_count": 27,
   "id": "becoming-causing",
   "metadata": {},
   "outputs": [],
   "source": [
    "# merge with gene id\n",
    "gene_df = pd.read_csv('human_talon_abundance.tsv', sep='\\t')\n",
    "gene_df = gene_df[['annot_gene_id', 'annot_transcript_id']]\n",
    "df = df.merge(gene_df, how='left', left_index=True, right_on='annot_transcript_id')"
   ]
  },
  {
   "cell_type": "code",
   "execution_count": 28,
   "id": "general-zoning",
   "metadata": {},
   "outputs": [],
   "source": [
    "gene_df, b_counts, b_cat_counts = get_gtf_info(how='gene')\n",
    "df = df.merge(gene_df, how='left', left_on='annot_gene_id', right_on='gid')"
   ]
  },
  {
   "cell_type": "code",
   "execution_count": 29,
   "id": "trying-morning",
   "metadata": {},
   "outputs": [
    {
     "data": {
      "text/html": [
       "<div>\n",
       "<style scoped>\n",
       "    .dataframe tbody tr th:only-of-type {\n",
       "        vertical-align: middle;\n",
       "    }\n",
       "\n",
       "    .dataframe tbody tr th {\n",
       "        vertical-align: top;\n",
       "    }\n",
       "\n",
       "    .dataframe thead th {\n",
       "        text-align: right;\n",
       "    }\n",
       "</style>\n",
       "<table border=\"1\" class=\"dataframe\">\n",
       "  <thead>\n",
       "    <tr style=\"text-align: right;\">\n",
       "      <th></th>\n",
       "      <th>gm12878_1_1</th>\n",
       "      <th>gm12878_1_2</th>\n",
       "      <th>gm12878_1_3</th>\n",
       "      <th>gm12878_1_4</th>\n",
       "      <th>gm12878_3_1</th>\n",
       "      <th>gm12878_2_1</th>\n",
       "      <th>gm12878_2_2</th>\n",
       "      <th>pgp1_1_1</th>\n",
       "      <th>pgp1_1_2</th>\n",
       "      <th>h9_1_1</th>\n",
       "      <th>...</th>\n",
       "      <th>right_lobe_of_liver_2_1</th>\n",
       "      <th>right_ventricle_myocardium_inferior_1_1</th>\n",
       "      <th>right_ventricle_myocardium_superior_1_1</th>\n",
       "      <th>upper_lobe_of_right_lung_1_1</th>\n",
       "      <th>annot_gene_id</th>\n",
       "      <th>annot_transcript_id</th>\n",
       "      <th>gid</th>\n",
       "      <th>length</th>\n",
       "      <th>biotype</th>\n",
       "      <th>biotype_category</th>\n",
       "    </tr>\n",
       "  </thead>\n",
       "  <tbody>\n",
       "    <tr>\n",
       "      <th>0</th>\n",
       "      <td>0.0</td>\n",
       "      <td>0.0</td>\n",
       "      <td>0.0</td>\n",
       "      <td>0.0</td>\n",
       "      <td>0.0</td>\n",
       "      <td>0.0</td>\n",
       "      <td>0.0</td>\n",
       "      <td>0.000000</td>\n",
       "      <td>0.000000</td>\n",
       "      <td>0.000000</td>\n",
       "      <td>...</td>\n",
       "      <td>0.0</td>\n",
       "      <td>0.0</td>\n",
       "      <td>0.0</td>\n",
       "      <td>0.0</td>\n",
       "      <td>ENSG00000243485.5</td>\n",
       "      <td>ENST00000469289.1</td>\n",
       "      <td>ENSG00000243485.5</td>\n",
       "      <td>1555</td>\n",
       "      <td>lincRNA</td>\n",
       "      <td>lncRNA</td>\n",
       "    </tr>\n",
       "    <tr>\n",
       "      <th>1</th>\n",
       "      <td>0.0</td>\n",
       "      <td>0.0</td>\n",
       "      <td>0.0</td>\n",
       "      <td>0.0</td>\n",
       "      <td>0.0</td>\n",
       "      <td>0.0</td>\n",
       "      <td>0.0</td>\n",
       "      <td>1.737626</td>\n",
       "      <td>1.618796</td>\n",
       "      <td>0.000000</td>\n",
       "      <td>...</td>\n",
       "      <td>0.0</td>\n",
       "      <td>0.0</td>\n",
       "      <td>0.0</td>\n",
       "      <td>0.0</td>\n",
       "      <td>ENSG00000237613.2</td>\n",
       "      <td>ENST00000417324.1</td>\n",
       "      <td>ENSG00000237613.2</td>\n",
       "      <td>1527</td>\n",
       "      <td>lincRNA</td>\n",
       "      <td>lncRNA</td>\n",
       "    </tr>\n",
       "    <tr>\n",
       "      <th>2</th>\n",
       "      <td>0.0</td>\n",
       "      <td>0.0</td>\n",
       "      <td>0.0</td>\n",
       "      <td>0.0</td>\n",
       "      <td>0.0</td>\n",
       "      <td>0.0</td>\n",
       "      <td>0.0</td>\n",
       "      <td>1.737626</td>\n",
       "      <td>0.000000</td>\n",
       "      <td>0.000000</td>\n",
       "      <td>...</td>\n",
       "      <td>0.0</td>\n",
       "      <td>0.0</td>\n",
       "      <td>0.0</td>\n",
       "      <td>0.0</td>\n",
       "      <td>ENSG00000237613.2</td>\n",
       "      <td>ENST00000461467.1</td>\n",
       "      <td>ENSG00000237613.2</td>\n",
       "      <td>1527</td>\n",
       "      <td>lincRNA</td>\n",
       "      <td>lncRNA</td>\n",
       "    </tr>\n",
       "    <tr>\n",
       "      <th>3</th>\n",
       "      <td>0.0</td>\n",
       "      <td>0.0</td>\n",
       "      <td>0.0</td>\n",
       "      <td>0.0</td>\n",
       "      <td>0.0</td>\n",
       "      <td>0.0</td>\n",
       "      <td>0.0</td>\n",
       "      <td>0.000000</td>\n",
       "      <td>0.000000</td>\n",
       "      <td>0.000000</td>\n",
       "      <td>...</td>\n",
       "      <td>0.0</td>\n",
       "      <td>0.0</td>\n",
       "      <td>0.0</td>\n",
       "      <td>0.0</td>\n",
       "      <td>ENSG00000233750.3</td>\n",
       "      <td>ENST00000442987.3</td>\n",
       "      <td>ENSG00000233750.3</td>\n",
       "      <td>3811</td>\n",
       "      <td>processed_pseudogene</td>\n",
       "      <td>pseudogene</td>\n",
       "    </tr>\n",
       "    <tr>\n",
       "      <th>4</th>\n",
       "      <td>0.0</td>\n",
       "      <td>0.0</td>\n",
       "      <td>0.0</td>\n",
       "      <td>0.0</td>\n",
       "      <td>0.0</td>\n",
       "      <td>0.0</td>\n",
       "      <td>0.0</td>\n",
       "      <td>1.737626</td>\n",
       "      <td>6.475185</td>\n",
       "      <td>1.242064</td>\n",
       "      <td>...</td>\n",
       "      <td>0.0</td>\n",
       "      <td>0.0</td>\n",
       "      <td>0.0</td>\n",
       "      <td>0.0</td>\n",
       "      <td>ENSG00000268903.1</td>\n",
       "      <td>ENST00000494149.2</td>\n",
       "      <td>ENSG00000268903.1</td>\n",
       "      <td>754</td>\n",
       "      <td>processed_pseudogene</td>\n",
       "      <td>pseudogene</td>\n",
       "    </tr>\n",
       "  </tbody>\n",
       "</table>\n",
       "<p>5 rows × 96 columns</p>\n",
       "</div>"
      ],
      "text/plain": [
       "   gm12878_1_1  gm12878_1_2  gm12878_1_3  gm12878_1_4  gm12878_3_1  \\\n",
       "0          0.0          0.0          0.0          0.0          0.0   \n",
       "1          0.0          0.0          0.0          0.0          0.0   \n",
       "2          0.0          0.0          0.0          0.0          0.0   \n",
       "3          0.0          0.0          0.0          0.0          0.0   \n",
       "4          0.0          0.0          0.0          0.0          0.0   \n",
       "\n",
       "   gm12878_2_1  gm12878_2_2  pgp1_1_1  pgp1_1_2    h9_1_1  ...  \\\n",
       "0          0.0          0.0  0.000000  0.000000  0.000000  ...   \n",
       "1          0.0          0.0  1.737626  1.618796  0.000000  ...   \n",
       "2          0.0          0.0  1.737626  0.000000  0.000000  ...   \n",
       "3          0.0          0.0  0.000000  0.000000  0.000000  ...   \n",
       "4          0.0          0.0  1.737626  6.475185  1.242064  ...   \n",
       "\n",
       "   right_lobe_of_liver_2_1  right_ventricle_myocardium_inferior_1_1  \\\n",
       "0                      0.0                                      0.0   \n",
       "1                      0.0                                      0.0   \n",
       "2                      0.0                                      0.0   \n",
       "3                      0.0                                      0.0   \n",
       "4                      0.0                                      0.0   \n",
       "\n",
       "   right_ventricle_myocardium_superior_1_1  upper_lobe_of_right_lung_1_1  \\\n",
       "0                                      0.0                           0.0   \n",
       "1                                      0.0                           0.0   \n",
       "2                                      0.0                           0.0   \n",
       "3                                      0.0                           0.0   \n",
       "4                                      0.0                           0.0   \n",
       "\n",
       "       annot_gene_id  annot_transcript_id                gid  length  \\\n",
       "0  ENSG00000243485.5    ENST00000469289.1  ENSG00000243485.5    1555   \n",
       "1  ENSG00000237613.2    ENST00000417324.1  ENSG00000237613.2    1527   \n",
       "2  ENSG00000237613.2    ENST00000461467.1  ENSG00000237613.2    1527   \n",
       "3  ENSG00000233750.3    ENST00000442987.3  ENSG00000233750.3    3811   \n",
       "4  ENSG00000268903.1    ENST00000494149.2  ENSG00000268903.1     754   \n",
       "\n",
       "                biotype  biotype_category  \n",
       "0               lincRNA            lncRNA  \n",
       "1               lincRNA            lncRNA  \n",
       "2               lincRNA            lncRNA  \n",
       "3  processed_pseudogene        pseudogene  \n",
       "4  processed_pseudogene        pseudogene  \n",
       "\n",
       "[5 rows x 96 columns]"
      ]
     },
     "execution_count": 29,
     "metadata": {},
     "output_type": "execute_result"
    }
   ],
   "source": [
    "df.head()"
   ]
  },
  {
   "cell_type": "code",
   "execution_count": 30,
   "id": "tight-progressive",
   "metadata": {},
   "outputs": [
    {
     "data": {
      "text/html": [
       "<div>\n",
       "<style scoped>\n",
       "    .dataframe tbody tr th:only-of-type {\n",
       "        vertical-align: middle;\n",
       "    }\n",
       "\n",
       "    .dataframe tbody tr th {\n",
       "        vertical-align: top;\n",
       "    }\n",
       "\n",
       "    .dataframe thead th {\n",
       "        text-align: right;\n",
       "    }\n",
       "</style>\n",
       "<table border=\"1\" class=\"dataframe\">\n",
       "  <thead>\n",
       "    <tr style=\"text-align: right;\">\n",
       "      <th></th>\n",
       "      <th>biotype_category</th>\n",
       "      <th>detected_counts</th>\n",
       "      <th>gencode_counts</th>\n",
       "      <th>prop_detected</th>\n",
       "    </tr>\n",
       "  </thead>\n",
       "  <tbody>\n",
       "    <tr>\n",
       "      <th>3</th>\n",
       "      <td>protein_coding</td>\n",
       "      <td>17052</td>\n",
       "      <td>19969</td>\n",
       "      <td>0.853924</td>\n",
       "    </tr>\n",
       "    <tr>\n",
       "      <th>0</th>\n",
       "      <td>lncRNA</td>\n",
       "      <td>4777</td>\n",
       "      <td>15006</td>\n",
       "      <td>0.318339</td>\n",
       "    </tr>\n",
       "    <tr>\n",
       "      <th>2</th>\n",
       "      <td>other</td>\n",
       "      <td>1908</td>\n",
       "      <td>7426</td>\n",
       "      <td>0.256935</td>\n",
       "    </tr>\n",
       "    <tr>\n",
       "      <th>1</th>\n",
       "      <td>miRNA</td>\n",
       "      <td>418</td>\n",
       "      <td>1881</td>\n",
       "      <td>0.222222</td>\n",
       "    </tr>\n",
       "    <tr>\n",
       "      <th>4</th>\n",
       "      <td>pseudogene</td>\n",
       "      <td>3107</td>\n",
       "      <td>14497</td>\n",
       "      <td>0.214320</td>\n",
       "    </tr>\n",
       "  </tbody>\n",
       "</table>\n",
       "</div>"
      ],
      "text/plain": [
       "  biotype_category  detected_counts  gencode_counts  prop_detected\n",
       "3   protein_coding            17052           19969       0.853924\n",
       "0           lncRNA             4777           15006       0.318339\n",
       "2            other             1908            7426       0.256935\n",
       "1            miRNA              418            1881       0.222222\n",
       "4       pseudogene             3107           14497       0.214320"
      ]
     },
     "execution_count": 30,
     "metadata": {},
     "output_type": "execute_result"
    }
   ],
   "source": [
    "temp = df[['gid', 'biotype_category']].drop_duplicates().groupby('biotype_category').count()\n",
    "temp.reset_index(inplace=True)\n",
    "temp.rename({'gid': 'detected_counts'}, axis=1, inplace=True)\n",
    "\n",
    "temp = temp.merge(b_cat_counts, on='biotype_category', how='outer')\n",
    "temp['prop_detected'] = temp.detected_counts/temp.gencode_counts\n",
    "temp.sort_values(by='prop_detected', ascending=False, inplace=True)\n",
    "temp"
   ]
  },
  {
   "cell_type": "markdown",
   "id": "racial-killing",
   "metadata": {},
   "source": [
    "## What fraction of protein coding gene transcripts do we detect?"
   ]
  },
  {
   "cell_type": "markdown",
   "id": "technical-submission",
   "metadata": {},
   "source": [
    "Of the transcripts associated with protein coding genes GENCODE, how many do we detect >=1 1 TPM?"
   ]
  },
  {
   "cell_type": "code",
   "execution_count": 31,
   "id": "molecular-subscriber",
   "metadata": {},
   "outputs": [
    {
     "name": "stdout",
     "output_type": "stream",
     "text": [
      "Calculating iso TPM values\n",
      "Subsetting for polyA genes\n",
      "Enforcing minimum TPM\n",
      "Total # isos detected: 85348\n",
      "# isos >= 1 tpm: 77128\n",
      "Subsetting on polya genes\n",
      "Number of isos reported: 74796\n"
     ]
    }
   ],
   "source": [
    "df = pd.read_csv('human_talon_abundance.tsv', sep='\\t')\n",
    "df, tids = get_tpm_table(df,\n",
    "                   how='iso',\n",
    "                   nov=['Known'],\n",
    "                   min_tpm=1,\n",
    "                   gene_subset='polya')"
   ]
  },
  {
   "cell_type": "code",
   "execution_count": 32,
   "id": "monthly-article",
   "metadata": {},
   "outputs": [],
   "source": [
    "t_df, b_counts, b_cat_counts = get_gtf_info(how='iso')\n",
    "df = df.merge(t_df, how='left', left_index=True, right_on='tid')"
   ]
  },
  {
   "cell_type": "code",
   "execution_count": 34,
   "id": "genuine-magnitude",
   "metadata": {},
   "outputs": [
    {
     "data": {
      "text/html": [
       "<div>\n",
       "<style scoped>\n",
       "    .dataframe tbody tr th:only-of-type {\n",
       "        vertical-align: middle;\n",
       "    }\n",
       "\n",
       "    .dataframe tbody tr th {\n",
       "        vertical-align: top;\n",
       "    }\n",
       "\n",
       "    .dataframe thead th {\n",
       "        text-align: right;\n",
       "    }\n",
       "</style>\n",
       "<table border=\"1\" class=\"dataframe\">\n",
       "  <thead>\n",
       "    <tr style=\"text-align: right;\">\n",
       "      <th></th>\n",
       "      <th>biotype_category</th>\n",
       "      <th>detected_counts</th>\n",
       "      <th>gencode_counts</th>\n",
       "      <th>prop_detected</th>\n",
       "    </tr>\n",
       "  </thead>\n",
       "  <tbody>\n",
       "    <tr>\n",
       "      <th>1</th>\n",
       "      <td>protein_coding</td>\n",
       "      <td>64084.0</td>\n",
       "      <td>151259</td>\n",
       "      <td>0.423671</td>\n",
       "    </tr>\n",
       "    <tr>\n",
       "      <th>0</th>\n",
       "      <td>lncRNA</td>\n",
       "      <td>7073.0</td>\n",
       "      <td>28478</td>\n",
       "      <td>0.248367</td>\n",
       "    </tr>\n",
       "    <tr>\n",
       "      <th>2</th>\n",
       "      <td>pseudogene</td>\n",
       "      <td>3639.0</td>\n",
       "      <td>17657</td>\n",
       "      <td>0.206094</td>\n",
       "    </tr>\n",
       "    <tr>\n",
       "      <th>3</th>\n",
       "      <td>miRNA</td>\n",
       "      <td>NaN</td>\n",
       "      <td>1881</td>\n",
       "      <td>NaN</td>\n",
       "    </tr>\n",
       "    <tr>\n",
       "      <th>4</th>\n",
       "      <td>other</td>\n",
       "      <td>NaN</td>\n",
       "      <td>7486</td>\n",
       "      <td>NaN</td>\n",
       "    </tr>\n",
       "  </tbody>\n",
       "</table>\n",
       "</div>"
      ],
      "text/plain": [
       "  biotype_category  detected_counts  gencode_counts  prop_detected\n",
       "1   protein_coding          64084.0          151259       0.423671\n",
       "0           lncRNA           7073.0           28478       0.248367\n",
       "2       pseudogene           3639.0           17657       0.206094\n",
       "3            miRNA              NaN            1881            NaN\n",
       "4            other              NaN            7486            NaN"
      ]
     },
     "execution_count": 34,
     "metadata": {},
     "output_type": "execute_result"
    }
   ],
   "source": [
    "temp = df[['tid', 'biotype_category']].groupby('biotype_category').count()\n",
    "temp.reset_index(inplace=True)\n",
    "temp.rename({'tid': 'detected_counts'}, axis=1, inplace=True)\n",
    "\n",
    "temp = temp.merge(b_cat_counts, on='biotype_category', how='outer')\n",
    "temp['prop_detected'] = temp.detected_counts/temp.gencode_counts\n",
    "temp.sort_values(by='prop_detected', ascending=False, inplace=True)\n",
    "temp"
   ]
  },
  {
   "cell_type": "markdown",
   "id": "musical-vaccine",
   "metadata": {},
   "source": [
    "## Characteristics of detected known, polyA gene associated transcripts"
   ]
  },
  {
   "cell_type": "markdown",
   "id": "genetic-lighter",
   "metadata": {},
   "source": [
    "## Number of cell types or tissues that each known transcript from polyA genes is expressed >= 1 TPM"
   ]
  },
  {
   "cell_type": "code",
   "execution_count": 2,
   "id": "italian-amino",
   "metadata": {},
   "outputs": [
    {
     "name": "stdout",
     "output_type": "stream",
     "text": [
      "Calculating iso TPM values\n",
      "Subsetting for polyA genes\n",
      "Enforcing minimum TPM\n",
      "Total # isos detected: 85348\n",
      "# isos >= 1 tpm: 77128\n",
      "Subsetting on polya genes\n",
      "Number of isos reported: 74796\n",
      "Found 31 total samples\n"
     ]
    },
    {
     "data": {
      "image/png": "[encoded data removed]",
      "text/plain": [
       "<Figure size 360x360 with 1 Axes>"
      ]
     },
     "metadata": {
      "needs_background": "light"
     },
     "output_type": "display_data"
    }
   ],
   "source": [
    "df = pd.read_csv('human_talon_abundance.tsv', sep='\\t')\n",
    "df = plot_biosamp_det(df,\n",
    "                      how='iso',\n",
    "                      min_tpm=1,\n",
    "                      gene_subset='polya',\n",
    "                      sample=None,\n",
    "                      groupby='sample',\n",
    "                      nov='Known',\n",
    "                      opref='figures/human')"
   ]
  },
  {
   "cell_type": "code",
   "execution_count": 9,
   "id": "sitting-quarter",
   "metadata": {},
   "outputs": [
    {
     "name": "stdout",
     "output_type": "stream",
     "text": [
      "32327 / 74796 (43.2%) transcripts are expressed in <= 4 samples\n",
      "16872 / 74796 (22.6%) transcripts are expressed in >= 20 samples\n"
     ]
    }
   ],
   "source": [
    "specific_thresh = 4\n",
    "ubiq_thresh = 20\n",
    "\n",
    "n_iso = len(df.index)\n",
    "n_specific = len(df.loc[df.n_samples <= specific_thresh].index)\n",
    "n_ubiq = len(df.loc[df.n_samples >= ubiq_thresh].index)\n",
    "\n",
    "print('{} / {} ({:.1f}%) transcripts are expressed in <= {} samples'.format(n_specific, n_iso, (n_specific/n_iso)*100, specific_thresh))\n",
    "print('{} / {} ({:.1f}%) transcripts are expressed in >= {} samples'.format(n_ubiq, n_iso, (n_ubiq/n_iso)*100, ubiq_thresh))"
   ]
  },
  {
   "cell_type": "markdown",
   "id": "satisfactory-society",
   "metadata": {},
   "source": [
    "## Length of transcripts from polyA genes detected >= 1 TPM"
   ]
  },
  {
   "cell_type": "code",
   "execution_count": 2,
   "id": "pacific-temperature",
   "metadata": {},
   "outputs": [
    {
     "name": "stdout",
     "output_type": "stream",
     "text": [
      "Calculating iso TPM values\n",
      "Subsetting for polyA genes\n",
      "Enforcing minimum TPM\n",
      "Total # isos detected: 85348\n",
      "# isos >= 1 tpm: 77128\n",
      "Subsetting on polya genes\n",
      "Number of isos reported: 74796\n"
     ]
    },
    {
     "data": {
      "image/png": "[encoded data removed]",
      "text/plain": [
       "<Figure size 467.36x360 with 1 Axes>"
      ]
     },
     "metadata": {
      "needs_background": "light"
     },
     "output_type": "display_data"
    }
   ],
   "source": [
    "df = pd.read_csv('human_talon_abundance_filtered.tsv', sep='\\t')\n",
    "df = plot_det_len_kde(df, \n",
    "                      how='iso', \n",
    "                      subset='polya',\n",
    "                      min_tpm=1,\n",
    "                      xlim=10000,\n",
    "                      opref='figures/')"
   ]
  },
  {
   "cell_type": "code",
   "execution_count": 9,
   "id": "protective-behavior",
   "metadata": {},
   "outputs": [
    {
     "data": {
      "text/plain": [
       "<seaborn.axisgrid.FacetGrid at 0x7fe029479710>"
      ]
     },
     "execution_count": 9,
     "metadata": {},
     "output_type": "execute_result"
    },
    {
     "data": {
      "image/png": "[encoded data removed]",
      "text/plain": [
       "<Figure size 606.985x360 with 1 Axes>"
      ]
     },
     "metadata": {
      "needs_background": "light"
     },
     "output_type": "display_data"
    }
   ],
   "source": [
    "df['det_biotype'] = df.detected.astype('str')+'_'+df.biotype_category\n",
    "ax = sns.displot(data=df, x='t_len', kind='kde',\n",
    "                     linewidth=3, hue='det_biotype', common_norm=True)\n",
    "ax.set(xlim=(0,10000))"
   ]
  },
  {
   "cell_type": "markdown",
   "id": "alleged-irish",
   "metadata": {},
   "source": [
    "What is the longest detected transcript with more than one exon?"
   ]
  },
  {
   "cell_type": "code",
   "execution_count": 7,
   "id": "advisory-maple",
   "metadata": {},
   "outputs": [],
   "source": [
    "t_df = pd.read_csv('human_talon_abundance_filtered.tsv', sep='\\t')\n",
    "t_df = t_df[['annot_transcript_id', 'n_exons']]"
   ]
  },
  {
   "cell_type": "code",
   "execution_count": 9,
   "id": "noticed-electron",
   "metadata": {},
   "outputs": [],
   "source": [
    "df = df.merge(t_df, how='left', on='annot_transcript_id')"
   ]
  },
  {
   "cell_type": "code",
   "execution_count": 10,
   "id": "prostate-collar",
   "metadata": {},
   "outputs": [
    {
     "name": "stdout",
     "output_type": "stream",
     "text": [
      "37852\n"
     ]
    }
   ],
   "source": [
    "n = df.loc[(df.detected == True)&(df.n_exons > 1), 't_len'].max()\n",
    "print(n)"
   ]
  },
  {
   "cell_type": "code",
   "execution_count": 11,
   "id": "retained-break",
   "metadata": {},
   "outputs": [
    {
     "data": {
      "text/html": [
       "<div>\n",
       "<style scoped>\n",
       "    .dataframe tbody tr th:only-of-type {\n",
       "        vertical-align: middle;\n",
       "    }\n",
       "\n",
       "    .dataframe tbody tr th {\n",
       "        vertical-align: top;\n",
       "    }\n",
       "\n",
       "    .dataframe thead th {\n",
       "        text-align: right;\n",
       "    }\n",
       "</style>\n",
       "<table border=\"1\" class=\"dataframe\">\n",
       "  <thead>\n",
       "    <tr style=\"text-align: right;\">\n",
       "      <th></th>\n",
       "      <th>annot_transcript_id</th>\n",
       "      <th>tid</th>\n",
       "      <th>t_len</th>\n",
       "      <th>gid</th>\n",
       "      <th>biotype</th>\n",
       "      <th>biotype_category</th>\n",
       "      <th>detected</th>\n",
       "      <th>n_exons</th>\n",
       "    </tr>\n",
       "  </thead>\n",
       "  <tbody>\n",
       "    <tr>\n",
       "      <th>70907</th>\n",
       "      <td>ENST00000458178.2</td>\n",
       "      <td>ENST00000458178.2</td>\n",
       "      <td>37852</td>\n",
       "      <td>ENSG00000224086.5</td>\n",
       "      <td>antisense</td>\n",
       "      <td>lncRNA</td>\n",
       "      <td>True</td>\n",
       "      <td>2.0</td>\n",
       "    </tr>\n",
       "  </tbody>\n",
       "</table>\n",
       "</div>"
      ],
      "text/plain": [
       "      annot_transcript_id                tid  t_len                gid  \\\n",
       "70907   ENST00000458178.2  ENST00000458178.2  37852  ENSG00000224086.5   \n",
       "\n",
       "         biotype biotype_category  detected  n_exons  \n",
       "70907  antisense           lncRNA      True      2.0  "
      ]
     },
     "execution_count": 11,
     "metadata": {},
     "output_type": "execute_result"
    }
   ],
   "source": [
    "df.loc[df.t_len == 37852]"
   ]
  },
  {
   "cell_type": "markdown",
   "id": "bottom-lewis",
   "metadata": {},
   "source": [
    "## Variance in TPM levels >= 1 TPM for known transcripts detected >= 1 TPM"
   ]
  },
  {
   "cell_type": "code",
   "execution_count": 41,
   "id": "seeing-collapse",
   "metadata": {},
   "outputs": [
    {
     "name": "stdout",
     "output_type": "stream",
     "text": [
      "Calculating iso TPM values\n",
      "Subsetting for polyA genes\n",
      "Enforcing minimum TPM\n",
      "Total # isos detected: 85348\n",
      "# isos >= 1 tpm: 77128\n",
      "Subsetting on polya genes\n",
      "Number of isos reported: 74796\n"
     ]
    }
   ],
   "source": [
    "df = pd.read_csv('human_talon_abundance.tsv', sep='\\t')\n",
    "df = get_tpm_table(df,\n",
    "                   how='iso',\n",
    "                   nov=['Known'],\n",
    "                   min_tpm=1,\n",
    "                   gene_subset='polya')"
   ]
  },
  {
   "cell_type": "markdown",
   "id": "partial-houston",
   "metadata": {},
   "source": [
    "## How many known polyA transcripts do we detect?"
   ]
  },
  {
   "cell_type": "code",
   "execution_count": 7,
   "id": "intermediate-charge",
   "metadata": {},
   "outputs": [
    {
     "name": "stdout",
     "output_type": "stream",
     "text": [
      "Calculating iso TPM values\n",
      "Subsetting for polyA genes\n",
      "Enforcing minimum TPM\n",
      "Total # isos detected: 85348\n",
      "# isos >= 1 tpm: 77128\n",
      "Subsetting on polya genes\n",
      "Number of isos reported: 74796\n"
     ]
    }
   ],
   "source": [
    "df = pd.read_csv('human_talon_abundance.tsv', sep='\\t')\n",
    "df = get_tpm_table(df,\n",
    "                   how='iso',\n",
    "                   nov=['Known'],\n",
    "                   min_tpm=1,\n",
    "                   gene_subset='polya')"
   ]
  },
  {
   "cell_type": "code",
   "execution_count": 8,
   "id": "southeast-stereo",
   "metadata": {},
   "outputs": [],
   "source": [
    "# merge with transcript len\n",
    "t_df, b_counts, c_counts = get_gtf_info(how='iso')\n",
    "df = df.merge(t_df, how='left', left_index=True, right_on='tid')"
   ]
  },
  {
   "cell_type": "code",
   "execution_count": 17,
   "id": "social-niger",
   "metadata": {},
   "outputs": [
    {
     "name": "stdout",
     "output_type": "stream",
     "text": [
      "Detected 74796 / 197394 annotated transcripts from polyA genes >= 1 TPM\n"
     ]
    }
   ],
   "source": [
    "polya_biotypes = ['protein_coding', 'pseudogene', 'lncRNA']\n",
    "n_det_polya = len(df.index)\n",
    "n_known_polya = c_counts.loc[c_counts.biotype_category.isin(polya_biotypes), 'gencode_counts'].sum()\n",
    "print('Detected {} / {} annotated transcripts from polyA genes >= 1 TPM'.format(n_det_polya, n_known_polya))"
   ]
  },
  {
   "cell_type": "markdown",
   "id": "innocent-marathon",
   "metadata": {},
   "source": [
    "## How many complete isoforms do we detect?"
   ]
  },
  {
   "cell_type": "code",
   "execution_count": 2,
   "id": "turkish-hospital",
   "metadata": {},
   "outputs": [
    {
     "name": "stdout",
     "output_type": "stream",
     "text": [
      "Calculating iso TPM values\n",
      "Subsetting for polyA genes\n",
      "Enforcing minimum TPM\n",
      "Total # isos detected: 109741\n",
      "# isos >= 1 tpm: 100642\n",
      "Subsetting on polya genes\n",
      "Number of isos reported: 98027\n"
     ]
    }
   ],
   "source": [
    "df = pd.read_csv('human_talon_abundance_filtered.tsv', sep='\\t')\n",
    "df, tids = get_tpm_table(df,\n",
    "                   how='iso',\n",
    "                   nov=['Known', 'NIC', 'NNC'],\n",
    "                   min_tpm=1,\n",
    "                   gene_subset='polya')"
   ]
  },
  {
   "cell_type": "code",
   "execution_count": 3,
   "id": "relative-oracle",
   "metadata": {},
   "outputs": [
    {
     "name": "stdout",
     "output_type": "stream",
     "text": [
      "  transcript_novelty  counts\n",
      "0              Known   73961\n",
      "1                NIC   18270\n",
      "2                NNC    5796\n",
      "Number of complete isoforms: 98027\n"
     ]
    },
    {
     "data": {
      "text/plain": [
       "<Figure size 288x432 with 0 Axes>"
      ]
     },
     "metadata": {},
     "output_type": "display_data"
    },
    {
     "data": {
      "image/png": "[encoded data removed]",
      "text/plain": [
       "<Figure size 360x360 with 1 Axes>"
      ]
     },
     "metadata": {
      "needs_background": "light"
     },
     "output_type": "display_data"
    },
    {
     "data": {
      "text/plain": [
       "<Figure size 432x288 with 0 Axes>"
      ]
     },
     "metadata": {},
     "output_type": "display_data"
    }
   ],
   "source": [
    "df = pd.read_csv('human_talon_abundance_filtered.tsv', sep='\\t')\n",
    "plot_transcript_novelty(df,\n",
    "                        oprefix='figures/complete_det',\n",
    "                        whitelist=tids,\n",
    "                        novs=['Known', 'NIC', 'NNC'])"
   ]
  },
  {
   "cell_type": "markdown",
   "id": "applicable-routine",
   "metadata": {},
   "source": [
    "## How many exons are in each complete, detected model, split by novelty?"
   ]
  },
  {
   "cell_type": "code",
   "execution_count": 2,
   "id": "recent-commercial",
   "metadata": {},
   "outputs": [
    {
     "name": "stdout",
     "output_type": "stream",
     "text": [
      "Calculating iso TPM values\n",
      "Subsetting for polyA genes\n",
      "Enforcing minimum TPM\n",
      "Total # isos detected: 109741\n",
      "# isos >= 1 tpm: 100642\n",
      "Subsetting on polya genes\n",
      "Number of isos reported: 98027\n"
     ]
    },
    {
     "data": {
      "image/png": "[encoded data removed]",
      "text/plain": [
       "<Figure size 288x432 with 1 Axes>"
      ]
     },
     "metadata": {
      "needs_background": "light"
     },
     "output_type": "display_data"
    }
   ],
   "source": [
    "df = pd.read_csv('human_talon_abundance_filtered.tsv', sep='\\t')\n",
    "plot_exons_per_iso(df,\n",
    "                   nov=['Known', 'NIC', 'NNC'],\n",
    "                   min_tpm=1,\n",
    "                   gene_subset='polya',\n",
    "                   opref='figures/human')"
   ]
  },
  {
   "cell_type": "markdown",
   "id": "municipal-simon",
   "metadata": {},
   "source": [
    "## How many isoforms per gene do we detect per sample? "
   ]
  },
  {
   "cell_type": "markdown",
   "id": "destroyed-assembly",
   "metadata": {},
   "source": [
    "What is the average and range of complete isoforms per polyA gene that we detect per sample?"
   ]
  },
  {
   "cell_type": "code",
   "execution_count": 2,
   "id": "vital-british",
   "metadata": {},
   "outputs": [
    {
     "name": "stdout",
     "output_type": "stream",
     "text": [
      "Calculating iso TPM values\n",
      "Subsetting for polyA genes\n",
      "Enforcing minimum TPM\n",
      "Total # isos detected: 109741\n",
      "# isos >= 1 tpm: 100642\n",
      "Subsetting on polya genes\n",
      "Number of isos reported: 98027\n",
      "Found 31 total samples\n"
     ]
    }
   ],
   "source": [
    "df = pd.read_csv('human_talon_abundance_filtered.tsv', sep='\\t')\n",
    "df = get_isos_per_gene(df,\n",
    "                       min_tpm=1,\n",
    "                       gene_subset='polya',\n",
    "                       groupby='sample', \n",
    "                       nov=['Known', 'NIC', 'NNC'])"
   ]
  },
  {
   "cell_type": "code",
   "execution_count": 4,
   "id": "differential-offer",
   "metadata": {},
   "outputs": [
    {
     "data": {
      "text/plain": [
       "1.4253880911531187"
      ]
     },
     "execution_count": 4,
     "metadata": {},
     "output_type": "execute_result"
    }
   ],
   "source": [
    "print('Average # isoforms / gene / sample: {}'.format(df.mean().mean())"
   ]
  },
  {
   "cell_type": "code",
   "execution_count": 5,
   "id": "approved-disability",
   "metadata": {},
   "outputs": [
    {
     "data": {
      "text/plain": [
       "134"
      ]
     },
     "execution_count": 5,
     "metadata": {},
     "output_type": "execute_result"
    }
   ],
   "source": [
    "print('Max # isoforms / gene / sample: {}'.format(df.max().max())"
   ]
  },
  {
   "cell_type": "markdown",
   "id": "seasonal-obligation",
   "metadata": {},
   "source": [
    "Which samples have the highest average?"
   ]
  },
  {
   "cell_type": "code",
   "execution_count": 4,
   "id": "statewide-appreciation",
   "metadata": {},
   "outputs": [
    {
     "name": "stdout",
     "output_type": "stream",
     "text": [
      "Calculating iso TPM values\n",
      "Subsetting for polyA genes\n",
      "Enforcing minimum TPM\n",
      "Total # isos detected: 109741\n",
      "# isos >= 1 tpm: 100642\n",
      "Subsetting on polya genes\n",
      "Number of isos reported: 98027\n",
      "Found 31 total samples\n"
     ]
    },
    {
     "data": {
      "image/png": "[encoded data removed]",
      "text/plain": [
       "<Figure size 432x288 with 1 Axes>"
      ]
     },
     "metadata": {
      "needs_background": "light"
     },
     "output_type": "display_data"
    }
   ],
   "source": [
    "df = pd.read_csv('human_talon_abundance_filtered.tsv', sep='\\t')\n",
    "plot_avg_isos_per_gene(df,\n",
    "                       min_tpm=1,\n",
    "                       gene_subset='polya',\n",
    "                       sample='all', \n",
    "                       groupby='sample',\n",
    "                       nov=['Known', 'NIC', 'NNC'],\n",
    "                       opref='figures/human')"
   ]
  },
  {
   "cell_type": "code",
   "execution_count": 1,
   "id": "matched-washer",
   "metadata": {},
   "outputs": [],
   "source": [
    "import pandas as pd\n",
    "import numpy as np\n",
    "import scipy.stats as st\n",
    "import seaborn as sns\n",
    "import sys\n",
    "import os\n",
    "\n",
    "p = os.path.dirname(os.path.dirname(os.getcwd()))\n",
    "sys.path.append(p)\n",
    "\n",
    "from scripts.utils import *\n",
    "from scripts.plotting import *"
   ]
  },
  {
   "cell_type": "code",
   "execution_count": null,
   "id": "loving-buyer",
   "metadata": {},
   "outputs": [],
   "source": [
    "df = pd.read_csv('human_talon_abundance.tsv', sep='\\t')\n",
    "reads = get_reads_per_sample(df, groupby='sample')"
   ]
  },
  {
   "cell_type": "code",
   "execution_count": null,
   "id": "settled-spanish",
   "metadata": {},
   "outputs": [],
   "source": [
    "reads.head()"
   ]
  },
  {
   "cell_type": "code",
   "execution_count": 34,
   "id": "republican-consent",
   "metadata": {},
   "outputs": [],
   "source": [
    "tissue_df = get_tissue_metadata()"
   ]
  },
  {
   "cell_type": "code",
   "execution_count": 36,
   "id": "lesbian-christmas",
   "metadata": {},
   "outputs": [
    {
     "data": {
      "text/html": [
       "<div>\n",
       "<style scoped>\n",
       "    .dataframe tbody tr th:only-of-type {\n",
       "        vertical-align: middle;\n",
       "    }\n",
       "\n",
       "    .dataframe tbody tr th {\n",
       "        vertical-align: top;\n",
       "    }\n",
       "\n",
       "    .dataframe thead th {\n",
       "        text-align: right;\n",
       "    }\n",
       "</style>\n",
       "<table border=\"1\" class=\"dataframe\">\n",
       "  <thead>\n",
       "    <tr style=\"text-align: right;\">\n",
       "      <th></th>\n",
       "      <th>biosample_name</th>\n",
       "      <th>tissue</th>\n",
       "      <th>biosample</th>\n",
       "    </tr>\n",
       "  </thead>\n",
       "  <tbody>\n",
       "    <tr>\n",
       "      <th>0</th>\n",
       "      <td>subcutaneous adipose tissue</td>\n",
       "      <td>adipose</td>\n",
       "      <td>subcutaneous_adipose_tissue</td>\n",
       "    </tr>\n",
       "    <tr>\n",
       "      <th>7</th>\n",
       "      <td>omental fat pad</td>\n",
       "      <td>adipose</td>\n",
       "      <td>omental_fat_pad</td>\n",
       "    </tr>\n",
       "    <tr>\n",
       "      <th>21</th>\n",
       "      <td>mesenteric fat pad</td>\n",
       "      <td>adipose</td>\n",
       "      <td>mesenteric_fat_pad</td>\n",
       "    </tr>\n",
       "    <tr>\n",
       "      <th>55</th>\n",
       "      <td>adipose tissue</td>\n",
       "      <td>adipose</td>\n",
       "      <td>adipose_tissue</td>\n",
       "    </tr>\n",
       "  </tbody>\n",
       "</table>\n",
       "</div>"
      ],
      "text/plain": [
       "                 biosample_name   tissue                    biosample\n",
       "0   subcutaneous adipose tissue  adipose  subcutaneous_adipose_tissue\n",
       "7               omental fat pad  adipose              omental_fat_pad\n",
       "21           mesenteric fat pad  adipose           mesenteric_fat_pad\n",
       "55               adipose tissue  adipose               adipose_tissue"
      ]
     },
     "execution_count": 36,
     "metadata": {},
     "output_type": "execute_result"
    }
   ],
   "source": [
    "tissue_df.loc[tissue_df.tissue == 'adipose']"
   ]
  },
  {
   "cell_type": "code",
   "execution_count": 37,
   "id": "essential-communications",
   "metadata": {},
   "outputs": [],
   "source": [
    "df = pd.read_csv('human_talon_abundance.tsv', sep='\\t')\n",
    "dataset_cols = get_dataset_cols()\n",
    "cols = ['annot_transcript_id']+dataset_cols\n",
    "df = df[cols]\n",
    "df.set_index('annot_transcript_id', inplace=True)\n",
    "df = df.transpose()\n",
    "df.index.name = 'dataset'\n",
    "df.reset_index(inplace=True)"
   ]
  },
  {
   "cell_type": "code",
   "execution_count": 38,
   "id": "healthy-contributor",
   "metadata": {},
   "outputs": [
    {
     "data": {
      "text/html": [
       "<div>\n",
       "<style scoped>\n",
       "    .dataframe tbody tr th:only-of-type {\n",
       "        vertical-align: middle;\n",
       "    }\n",
       "\n",
       "    .dataframe tbody tr th {\n",
       "        vertical-align: top;\n",
       "    }\n",
       "\n",
       "    .dataframe thead th {\n",
       "        text-align: right;\n",
       "    }\n",
       "</style>\n",
       "<table border=\"1\" class=\"dataframe\">\n",
       "  <thead>\n",
       "    <tr style=\"text-align: right;\">\n",
       "      <th>annot_transcript_id</th>\n",
       "      <th>dataset</th>\n",
       "      <th>ENST00000469289.1</th>\n",
       "      <th>ENST00000417324.1</th>\n",
       "      <th>ENST00000461467.1</th>\n",
       "      <th>ENST00000442987.3</th>\n",
       "      <th>ENST00000494149.2</th>\n",
       "      <th>ENST00000410691.1</th>\n",
       "      <th>ENST00000623083.4</th>\n",
       "      <th>ENST00000635159.1</th>\n",
       "      <th>ENST00000614007.1</th>\n",
       "      <th>...</th>\n",
       "      <th>ENCODEHT003677551</th>\n",
       "      <th>ENCODEHT003677552</th>\n",
       "      <th>ENCODEHT003677553</th>\n",
       "      <th>ENCODEHT003677554</th>\n",
       "      <th>ENCODEHT003677555</th>\n",
       "      <th>ENCODEHT003677556</th>\n",
       "      <th>ENCODEHT003677557</th>\n",
       "      <th>ENCODEHT003677558</th>\n",
       "      <th>ENCODEHT003677559</th>\n",
       "      <th>ENCODEHT003677560</th>\n",
       "    </tr>\n",
       "  </thead>\n",
       "  <tbody>\n",
       "    <tr>\n",
       "      <th>0</th>\n",
       "      <td>gm12878_1_1</td>\n",
       "      <td>0</td>\n",
       "      <td>0</td>\n",
       "      <td>0</td>\n",
       "      <td>0</td>\n",
       "      <td>0</td>\n",
       "      <td>0</td>\n",
       "      <td>11</td>\n",
       "      <td>0</td>\n",
       "      <td>0</td>\n",
       "      <td>...</td>\n",
       "      <td>0</td>\n",
       "      <td>0</td>\n",
       "      <td>0</td>\n",
       "      <td>0</td>\n",
       "      <td>0</td>\n",
       "      <td>0</td>\n",
       "      <td>0</td>\n",
       "      <td>0</td>\n",
       "      <td>0</td>\n",
       "      <td>0</td>\n",
       "    </tr>\n",
       "    <tr>\n",
       "      <th>1</th>\n",
       "      <td>gm12878_1_2</td>\n",
       "      <td>0</td>\n",
       "      <td>0</td>\n",
       "      <td>0</td>\n",
       "      <td>0</td>\n",
       "      <td>0</td>\n",
       "      <td>0</td>\n",
       "      <td>1</td>\n",
       "      <td>0</td>\n",
       "      <td>0</td>\n",
       "      <td>...</td>\n",
       "      <td>0</td>\n",
       "      <td>0</td>\n",
       "      <td>0</td>\n",
       "      <td>0</td>\n",
       "      <td>0</td>\n",
       "      <td>0</td>\n",
       "      <td>0</td>\n",
       "      <td>0</td>\n",
       "      <td>0</td>\n",
       "      <td>0</td>\n",
       "    </tr>\n",
       "    <tr>\n",
       "      <th>2</th>\n",
       "      <td>gm12878_1_3</td>\n",
       "      <td>0</td>\n",
       "      <td>0</td>\n",
       "      <td>0</td>\n",
       "      <td>0</td>\n",
       "      <td>0</td>\n",
       "      <td>0</td>\n",
       "      <td>2</td>\n",
       "      <td>0</td>\n",
       "      <td>0</td>\n",
       "      <td>...</td>\n",
       "      <td>0</td>\n",
       "      <td>0</td>\n",
       "      <td>0</td>\n",
       "      <td>0</td>\n",
       "      <td>0</td>\n",
       "      <td>0</td>\n",
       "      <td>0</td>\n",
       "      <td>0</td>\n",
       "      <td>0</td>\n",
       "      <td>0</td>\n",
       "    </tr>\n",
       "    <tr>\n",
       "      <th>3</th>\n",
       "      <td>gm12878_1_4</td>\n",
       "      <td>0</td>\n",
       "      <td>0</td>\n",
       "      <td>0</td>\n",
       "      <td>0</td>\n",
       "      <td>0</td>\n",
       "      <td>0</td>\n",
       "      <td>1</td>\n",
       "      <td>0</td>\n",
       "      <td>0</td>\n",
       "      <td>...</td>\n",
       "      <td>0</td>\n",
       "      <td>0</td>\n",
       "      <td>0</td>\n",
       "      <td>0</td>\n",
       "      <td>0</td>\n",
       "      <td>0</td>\n",
       "      <td>0</td>\n",
       "      <td>0</td>\n",
       "      <td>0</td>\n",
       "      <td>0</td>\n",
       "    </tr>\n",
       "    <tr>\n",
       "      <th>4</th>\n",
       "      <td>gm12878_3_1</td>\n",
       "      <td>0</td>\n",
       "      <td>0</td>\n",
       "      <td>0</td>\n",
       "      <td>0</td>\n",
       "      <td>0</td>\n",
       "      <td>0</td>\n",
       "      <td>8</td>\n",
       "      <td>0</td>\n",
       "      <td>0</td>\n",
       "      <td>...</td>\n",
       "      <td>0</td>\n",
       "      <td>0</td>\n",
       "      <td>0</td>\n",
       "      <td>0</td>\n",
       "      <td>0</td>\n",
       "      <td>0</td>\n",
       "      <td>0</td>\n",
       "      <td>0</td>\n",
       "      <td>0</td>\n",
       "      <td>0</td>\n",
       "    </tr>\n",
       "  </tbody>\n",
       "</table>\n",
       "<p>5 rows × 3556148 columns</p>\n",
       "</div>"
      ],
      "text/plain": [
       "annot_transcript_id      dataset  ENST00000469289.1  ENST00000417324.1  \\\n",
       "0                    gm12878_1_1                  0                  0   \n",
       "1                    gm12878_1_2                  0                  0   \n",
       "2                    gm12878_1_3                  0                  0   \n",
       "3                    gm12878_1_4                  0                  0   \n",
       "4                    gm12878_3_1                  0                  0   \n",
       "\n",
       "annot_transcript_id  ENST00000461467.1  ENST00000442987.3  ENST00000494149.2  \\\n",
       "0                                    0                  0                  0   \n",
       "1                                    0                  0                  0   \n",
       "2                                    0                  0                  0   \n",
       "3                                    0                  0                  0   \n",
       "4                                    0                  0                  0   \n",
       "\n",
       "annot_transcript_id  ENST00000410691.1  ENST00000623083.4  ENST00000635159.1  \\\n",
       "0                                    0                 11                  0   \n",
       "1                                    0                  1                  0   \n",
       "2                                    0                  2                  0   \n",
       "3                                    0                  1                  0   \n",
       "4                                    0                  8                  0   \n",
       "\n",
       "annot_transcript_id  ENST00000614007.1  ...  ENCODEHT003677551  \\\n",
       "0                                    0  ...                  0   \n",
       "1                                    0  ...                  0   \n",
       "2                                    0  ...                  0   \n",
       "3                                    0  ...                  0   \n",
       "4                                    0  ...                  0   \n",
       "\n",
       "annot_transcript_id  ENCODEHT003677552  ENCODEHT003677553  ENCODEHT003677554  \\\n",
       "0                                    0                  0                  0   \n",
       "1                                    0                  0                  0   \n",
       "2                                    0                  0                  0   \n",
       "3                                    0                  0                  0   \n",
       "4                                    0                  0                  0   \n",
       "\n",
       "annot_transcript_id  ENCODEHT003677555  ENCODEHT003677556  ENCODEHT003677557  \\\n",
       "0                                    0                  0                  0   \n",
       "1                                    0                  0                  0   \n",
       "2                                    0                  0                  0   \n",
       "3                                    0                  0                  0   \n",
       "4                                    0                  0                  0   \n",
       "\n",
       "annot_transcript_id  ENCODEHT003677558  ENCODEHT003677559  ENCODEHT003677560  \n",
       "0                                    0                  0                  0  \n",
       "1                                    0                  0                  0  \n",
       "2                                    0                  0                  0  \n",
       "3                                    0                  0                  0  \n",
       "4                                    0                  0                  0  \n",
       "\n",
       "[5 rows x 3556148 columns]"
      ]
     },
     "execution_count": 38,
     "metadata": {},
     "output_type": "execute_result"
    }
   ],
   "source": [
    "df.head()"
   ]
  },
  {
   "cell_type": "code",
   "execution_count": 41,
   "id": "synthetic-papua",
   "metadata": {},
   "outputs": [
    {
     "data": {
      "text/html": [
       "<div>\n",
       "<style scoped>\n",
       "    .dataframe tbody tr th:only-of-type {\n",
       "        vertical-align: middle;\n",
       "    }\n",
       "\n",
       "    .dataframe tbody tr th {\n",
       "        vertical-align: top;\n",
       "    }\n",
       "\n",
       "    .dataframe thead th {\n",
       "        text-align: right;\n",
       "    }\n",
       "</style>\n",
       "<table border=\"1\" class=\"dataframe\">\n",
       "  <thead>\n",
       "    <tr style=\"text-align: right;\">\n",
       "      <th></th>\n",
       "      <th>dataset</th>\n",
       "      <th>ENST00000469289.1</th>\n",
       "      <th>ENST00000417324.1</th>\n",
       "      <th>ENST00000461467.1</th>\n",
       "      <th>ENST00000442987.3</th>\n",
       "      <th>ENST00000494149.2</th>\n",
       "      <th>ENST00000410691.1</th>\n",
       "      <th>ENST00000623083.4</th>\n",
       "      <th>ENST00000635159.1</th>\n",
       "      <th>ENST00000614007.1</th>\n",
       "      <th>...</th>\n",
       "      <th>ENCODEHT003677551</th>\n",
       "      <th>ENCODEHT003677552</th>\n",
       "      <th>ENCODEHT003677553</th>\n",
       "      <th>ENCODEHT003677554</th>\n",
       "      <th>ENCODEHT003677555</th>\n",
       "      <th>ENCODEHT003677556</th>\n",
       "      <th>ENCODEHT003677557</th>\n",
       "      <th>ENCODEHT003677558</th>\n",
       "      <th>ENCODEHT003677559</th>\n",
       "      <th>ENCODEHT003677560</th>\n",
       "    </tr>\n",
       "  </thead>\n",
       "  <tbody>\n",
       "    <tr>\n",
       "      <th>0</th>\n",
       "      <td>gm12878_1_1</td>\n",
       "      <td>0</td>\n",
       "      <td>0</td>\n",
       "      <td>0</td>\n",
       "      <td>0</td>\n",
       "      <td>0</td>\n",
       "      <td>0</td>\n",
       "      <td>11</td>\n",
       "      <td>0</td>\n",
       "      <td>0</td>\n",
       "      <td>...</td>\n",
       "      <td>0</td>\n",
       "      <td>0</td>\n",
       "      <td>0</td>\n",
       "      <td>0</td>\n",
       "      <td>0</td>\n",
       "      <td>0</td>\n",
       "      <td>0</td>\n",
       "      <td>0</td>\n",
       "      <td>0</td>\n",
       "      <td>0</td>\n",
       "    </tr>\n",
       "    <tr>\n",
       "      <th>1</th>\n",
       "      <td>gm12878_1_2</td>\n",
       "      <td>0</td>\n",
       "      <td>0</td>\n",
       "      <td>0</td>\n",
       "      <td>0</td>\n",
       "      <td>0</td>\n",
       "      <td>0</td>\n",
       "      <td>1</td>\n",
       "      <td>0</td>\n",
       "      <td>0</td>\n",
       "      <td>...</td>\n",
       "      <td>0</td>\n",
       "      <td>0</td>\n",
       "      <td>0</td>\n",
       "      <td>0</td>\n",
       "      <td>0</td>\n",
       "      <td>0</td>\n",
       "      <td>0</td>\n",
       "      <td>0</td>\n",
       "      <td>0</td>\n",
       "      <td>0</td>\n",
       "    </tr>\n",
       "    <tr>\n",
       "      <th>2</th>\n",
       "      <td>gm12878_1_3</td>\n",
       "      <td>0</td>\n",
       "      <td>0</td>\n",
       "      <td>0</td>\n",
       "      <td>0</td>\n",
       "      <td>0</td>\n",
       "      <td>0</td>\n",
       "      <td>2</td>\n",
       "      <td>0</td>\n",
       "      <td>0</td>\n",
       "      <td>...</td>\n",
       "      <td>0</td>\n",
       "      <td>0</td>\n",
       "      <td>0</td>\n",
       "      <td>0</td>\n",
       "      <td>0</td>\n",
       "      <td>0</td>\n",
       "      <td>0</td>\n",
       "      <td>0</td>\n",
       "      <td>0</td>\n",
       "      <td>0</td>\n",
       "    </tr>\n",
       "    <tr>\n",
       "      <th>3</th>\n",
       "      <td>gm12878_1_4</td>\n",
       "      <td>0</td>\n",
       "      <td>0</td>\n",
       "      <td>0</td>\n",
       "      <td>0</td>\n",
       "      <td>0</td>\n",
       "      <td>0</td>\n",
       "      <td>1</td>\n",
       "      <td>0</td>\n",
       "      <td>0</td>\n",
       "      <td>...</td>\n",
       "      <td>0</td>\n",
       "      <td>0</td>\n",
       "      <td>0</td>\n",
       "      <td>0</td>\n",
       "      <td>0</td>\n",
       "      <td>0</td>\n",
       "      <td>0</td>\n",
       "      <td>0</td>\n",
       "      <td>0</td>\n",
       "      <td>0</td>\n",
       "    </tr>\n",
       "    <tr>\n",
       "      <th>4</th>\n",
       "      <td>gm12878_3_1</td>\n",
       "      <td>0</td>\n",
       "      <td>0</td>\n",
       "      <td>0</td>\n",
       "      <td>0</td>\n",
       "      <td>0</td>\n",
       "      <td>0</td>\n",
       "      <td>8</td>\n",
       "      <td>0</td>\n",
       "      <td>0</td>\n",
       "      <td>...</td>\n",
       "      <td>0</td>\n",
       "      <td>0</td>\n",
       "      <td>0</td>\n",
       "      <td>0</td>\n",
       "      <td>0</td>\n",
       "      <td>0</td>\n",
       "      <td>0</td>\n",
       "      <td>0</td>\n",
       "      <td>0</td>\n",
       "      <td>0</td>\n",
       "    </tr>\n",
       "  </tbody>\n",
       "</table>\n",
       "<p>5 rows × 3556148 columns</p>\n",
       "</div>"
      ],
      "text/plain": [
       "       dataset  ENST00000469289.1  ENST00000417324.1  ENST00000461467.1  \\\n",
       "0  gm12878_1_1                  0                  0                  0   \n",
       "1  gm12878_1_2                  0                  0                  0   \n",
       "2  gm12878_1_3                  0                  0                  0   \n",
       "3  gm12878_1_4                  0                  0                  0   \n",
       "4  gm12878_3_1                  0                  0                  0   \n",
       "\n",
       "   ENST00000442987.3  ENST00000494149.2  ENST00000410691.1  ENST00000623083.4  \\\n",
       "0                  0                  0                  0                 11   \n",
       "1                  0                  0                  0                  1   \n",
       "2                  0                  0                  0                  2   \n",
       "3                  0                  0                  0                  1   \n",
       "4                  0                  0                  0                  8   \n",
       "\n",
       "   ENST00000635159.1  ENST00000614007.1  ...  ENCODEHT003677551  \\\n",
       "0                  0                  0  ...                  0   \n",
       "1                  0                  0  ...                  0   \n",
       "2                  0                  0  ...                  0   \n",
       "3                  0                  0  ...                  0   \n",
       "4                  0                  0  ...                  0   \n",
       "\n",
       "   ENCODEHT003677552  ENCODEHT003677553  ENCODEHT003677554  ENCODEHT003677555  \\\n",
       "0                  0                  0                  0                  0   \n",
       "1                  0                  0                  0                  0   \n",
       "2                  0                  0                  0                  0   \n",
       "3                  0                  0                  0                  0   \n",
       "4                  0                  0                  0                  0   \n",
       "\n",
       "   ENCODEHT003677556  ENCODEHT003677557  ENCODEHT003677558  ENCODEHT003677559  \\\n",
       "0                  0                  0                  0                  0   \n",
       "1                  0                  0                  0                  0   \n",
       "2                  0                  0                  0                  0   \n",
       "3                  0                  0                  0                  0   \n",
       "4                  0                  0                  0                  0   \n",
       "\n",
       "   ENCODEHT003677560  \n",
       "0                  0  \n",
       "1                  0  \n",
       "2                  0  \n",
       "3                  0  \n",
       "4                  0  \n",
       "\n",
       "[5 rows x 3556148 columns]"
      ]
     },
     "execution_count": 41,
     "metadata": {},
     "output_type": "execute_result"
    }
   ],
   "source": [
    "df.columns.name = ''\n",
    "df.head()"
   ]
  },
  {
   "cell_type": "code",
   "execution_count": 45,
   "id": "corrected-battlefield",
   "metadata": {},
   "outputs": [],
   "source": [
    "datasets = df.dataset.tolist()\n",
    "df = df.sum(axis=1).to_frame()\n",
    "df['dataset'] = datasets\n",
    "df.rename({0: 'n_reads'}, axis=1, inplace=True)"
   ]
  },
  {
   "cell_type": "code",
   "execution_count": 53,
   "id": "engaged-journalist",
   "metadata": {},
   "outputs": [
    {
     "data": {
      "text/html": [
       "<div>\n",
       "<style scoped>\n",
       "    .dataframe tbody tr th:only-of-type {\n",
       "        vertical-align: middle;\n",
       "    }\n",
       "\n",
       "    .dataframe tbody tr th {\n",
       "        vertical-align: top;\n",
       "    }\n",
       "\n",
       "    .dataframe thead th {\n",
       "        text-align: right;\n",
       "    }\n",
       "</style>\n",
       "<table border=\"1\" class=\"dataframe\">\n",
       "  <thead>\n",
       "    <tr style=\"text-align: right;\">\n",
       "      <th></th>\n",
       "      <th>n_reads</th>\n",
       "      <th>dataset</th>\n",
       "    </tr>\n",
       "  </thead>\n",
       "  <tbody>\n",
       "    <tr>\n",
       "      <th>71</th>\n",
       "      <td>1794731</td>\n",
       "      <td>mesenteric_fat_pad_1_1</td>\n",
       "    </tr>\n",
       "  </tbody>\n",
       "</table>\n",
       "</div>"
      ],
      "text/plain": [
       "    n_reads                 dataset\n",
       "71  1794731  mesenteric_fat_pad_1_1"
      ]
     },
     "execution_count": 53,
     "metadata": {},
     "output_type": "execute_result"
    }
   ],
   "source": [
    "df.loc[df.dataset == 'mesenteric_fat_pad_1_1']"
   ]
  },
  {
   "cell_type": "code",
   "execution_count": 54,
   "id": "clean-budapest",
   "metadata": {},
   "outputs": [
    {
     "name": "stdout",
     "output_type": "stream",
     "text": [
      "Found 31 total samples\n"
     ]
    }
   ],
   "source": [
    "# add biosample name (ie without rep information)\n",
    "df['biosample'] = df.dataset.str.rsplit('_', n=2, expand=True)[0]\n",
    "df.drop(['dataset'], axis=1, inplace=True)\n",
    "\n",
    "# record the highest TPM value per biosample\n",
    "tissue_df = get_tissue_metadata()\n",
    "tissue_df = tissue_df[['tissue', 'biosample']]\n",
    "\n",
    "df = df.merge(tissue_df, how='left', on='biosample')\n",
    "df.loc[df.tissue.isnull(), 'tissue'] = df.loc[df.tissue.isnull(), 'biosample']\n",
    "df.drop('biosample', axis=1, inplace=True)\n",
    "df.rename({'tissue': 'biosample'}, axis=1, inplace=True)\n",
    "\n",
    "print('Found {} total samples'.format(len(df.biosample.unique().tolist())))"
   ]
  },
  {
   "cell_type": "code",
   "execution_count": 57,
   "id": "foreign-scholar",
   "metadata": {},
   "outputs": [
    {
     "data": {
      "text/html": [
       "<div>\n",
       "<style scoped>\n",
       "    .dataframe tbody tr th:only-of-type {\n",
       "        vertical-align: middle;\n",
       "    }\n",
       "\n",
       "    .dataframe tbody tr th {\n",
       "        vertical-align: top;\n",
       "    }\n",
       "\n",
       "    .dataframe thead th {\n",
       "        text-align: right;\n",
       "    }\n",
       "</style>\n",
       "<table border=\"1\" class=\"dataframe\">\n",
       "  <thead>\n",
       "    <tr style=\"text-align: right;\">\n",
       "      <th></th>\n",
       "      <th>n_reads</th>\n",
       "    </tr>\n",
       "    <tr>\n",
       "      <th>biosample</th>\n",
       "      <th></th>\n",
       "    </tr>\n",
       "  </thead>\n",
       "  <tbody>\n",
       "    <tr>\n",
       "      <th>adipose</th>\n",
       "      <td>1794731</td>\n",
       "    </tr>\n",
       "    <tr>\n",
       "      <th>adrenal gland</th>\n",
       "      <td>2922026</td>\n",
       "    </tr>\n",
       "    <tr>\n",
       "      <th>colon</th>\n",
       "      <td>2909348</td>\n",
       "    </tr>\n",
       "    <tr>\n",
       "      <th>gm12878</th>\n",
       "      <td>8457358</td>\n",
       "    </tr>\n",
       "    <tr>\n",
       "      <th>h9</th>\n",
       "      <td>5934779</td>\n",
       "    </tr>\n",
       "    <tr>\n",
       "      <th>h9_chondro</th>\n",
       "      <td>3742147</td>\n",
       "    </tr>\n",
       "    <tr>\n",
       "      <th>h9_de</th>\n",
       "      <td>4793127</td>\n",
       "    </tr>\n",
       "    <tr>\n",
       "      <th>h9_neural_crest</th>\n",
       "      <td>2002156</td>\n",
       "    </tr>\n",
       "    <tr>\n",
       "      <th>h9_osteocyte</th>\n",
       "      <td>3627588</td>\n",
       "    </tr>\n",
       "    <tr>\n",
       "      <th>h9_panc_beta</th>\n",
       "      <td>3181160</td>\n",
       "    </tr>\n",
       "    <tr>\n",
       "      <th>h9_panc_progen</th>\n",
       "      <td>2767732</td>\n",
       "    </tr>\n",
       "    <tr>\n",
       "      <th>hct116</th>\n",
       "      <td>1386892</td>\n",
       "    </tr>\n",
       "    <tr>\n",
       "      <th>heart</th>\n",
       "      <td>21609366</td>\n",
       "    </tr>\n",
       "    <tr>\n",
       "      <th>hepg2</th>\n",
       "      <td>4180688</td>\n",
       "    </tr>\n",
       "    <tr>\n",
       "      <th>hffc6</th>\n",
       "      <td>2918540</td>\n",
       "    </tr>\n",
       "    <tr>\n",
       "      <th>hl60</th>\n",
       "      <td>5137959</td>\n",
       "    </tr>\n",
       "    <tr>\n",
       "      <th>imr90</th>\n",
       "      <td>1161276</td>\n",
       "    </tr>\n",
       "    <tr>\n",
       "      <th>k562</th>\n",
       "      <td>8778091</td>\n",
       "    </tr>\n",
       "    <tr>\n",
       "      <th>kidney</th>\n",
       "      <td>847743</td>\n",
       "    </tr>\n",
       "    <tr>\n",
       "      <th>liver</th>\n",
       "      <td>1121232</td>\n",
       "    </tr>\n",
       "    <tr>\n",
       "      <th>lung</th>\n",
       "      <td>7636354</td>\n",
       "    </tr>\n",
       "    <tr>\n",
       "      <th>mcf7</th>\n",
       "      <td>1639352</td>\n",
       "    </tr>\n",
       "    <tr>\n",
       "      <th>muscle</th>\n",
       "      <td>2239994</td>\n",
       "    </tr>\n",
       "    <tr>\n",
       "      <th>ovary</th>\n",
       "      <td>3698504</td>\n",
       "    </tr>\n",
       "    <tr>\n",
       "      <th>panc1</th>\n",
       "      <td>1583465</td>\n",
       "    </tr>\n",
       "    <tr>\n",
       "      <th>pc3</th>\n",
       "      <td>1905298</td>\n",
       "    </tr>\n",
       "    <tr>\n",
       "      <th>pgp1</th>\n",
       "      <td>1520399</td>\n",
       "    </tr>\n",
       "    <tr>\n",
       "      <th>pgp1_astro</th>\n",
       "      <td>1243546</td>\n",
       "    </tr>\n",
       "    <tr>\n",
       "      <th>pgp1_endo</th>\n",
       "      <td>1298010</td>\n",
       "    </tr>\n",
       "    <tr>\n",
       "      <th>pgp1_excite_neuron</th>\n",
       "      <td>1320575</td>\n",
       "    </tr>\n",
       "    <tr>\n",
       "      <th>vessels</th>\n",
       "      <td>4691886</td>\n",
       "    </tr>\n",
       "  </tbody>\n",
       "</table>\n",
       "</div>"
      ],
      "text/plain": [
       "                     n_reads\n",
       "biosample                   \n",
       "adipose              1794731\n",
       "adrenal gland        2922026\n",
       "colon                2909348\n",
       "gm12878              8457358\n",
       "h9                   5934779\n",
       "h9_chondro           3742147\n",
       "h9_de                4793127\n",
       "h9_neural_crest      2002156\n",
       "h9_osteocyte         3627588\n",
       "h9_panc_beta         3181160\n",
       "h9_panc_progen       2767732\n",
       "hct116               1386892\n",
       "heart               21609366\n",
       "hepg2                4180688\n",
       "hffc6                2918540\n",
       "hl60                 5137959\n",
       "imr90                1161276\n",
       "k562                 8778091\n",
       "kidney                847743\n",
       "liver                1121232\n",
       "lung                 7636354\n",
       "mcf7                 1639352\n",
       "muscle               2239994\n",
       "ovary                3698504\n",
       "panc1                1583465\n",
       "pc3                  1905298\n",
       "pgp1                 1520399\n",
       "pgp1_astro           1243546\n",
       "pgp1_endo            1298010\n",
       "pgp1_excite_neuron   1320575\n",
       "vessels              4691886"
      ]
     },
     "execution_count": 57,
     "metadata": {},
     "output_type": "execute_result"
    }
   ],
   "source": []
  },
  {
   "cell_type": "code",
   "execution_count": 31,
   "id": "healthy-liquid",
   "metadata": {},
   "outputs": [
    {
     "data": {
      "text/plain": [
       "0     715140\n",
       "1     605674\n",
       "2     537713\n",
       "3     656794\n",
       "4    1487483\n",
       "dtype: int64"
      ]
     },
     "execution_count": 31,
     "metadata": {},
     "output_type": "execute_result"
    }
   ],
   "source": [
    "df.sum(axis=1).head()"
   ]
  },
  {
   "cell_type": "markdown",
   "id": "assumed-commons",
   "metadata": {},
   "source": [
    "Number of libraries per sample vs. # isos / gene"
   ]
  },
  {
   "cell_type": "code",
   "execution_count": null,
   "id": "double-electric",
   "metadata": {},
   "outputs": [],
   "source": [
    "df = pd.read_csv('human_talon_abundance_filtered.tsv', sep='\\t')\n",
    "df = get_isos_per_gene(df,\n",
    "                       min_tpm=1,\n",
    "                       gene_subset='polya',\n",
    "                       groupby='sample', \n",
    "                       nov=['Known', 'NIC', 'NNC'])\n",
    "df.head()"
   ]
  },
  {
   "cell_type": "code",
   "execution_count": 32,
   "id": "requested-interstate",
   "metadata": {},
   "outputs": [],
   "source": [
    "n_libs = get_n_libs_per_sample()"
   ]
  },
  {
   "cell_type": "code",
   "execution_count": 33,
   "id": "empirical-navigation",
   "metadata": {},
   "outputs": [
    {
     "data": {
      "text/html": [
       "<div>\n",
       "<style scoped>\n",
       "    .dataframe tbody tr th:only-of-type {\n",
       "        vertical-align: middle;\n",
       "    }\n",
       "\n",
       "    .dataframe tbody tr th {\n",
       "        vertical-align: top;\n",
       "    }\n",
       "\n",
       "    .dataframe thead th {\n",
       "        text-align: right;\n",
       "    }\n",
       "</style>\n",
       "<table border=\"1\" class=\"dataframe\">\n",
       "  <thead>\n",
       "    <tr style=\"text-align: right;\">\n",
       "      <th></th>\n",
       "      <th>biosample</th>\n",
       "      <th>n_libraries</th>\n",
       "    </tr>\n",
       "  </thead>\n",
       "  <tbody>\n",
       "    <tr>\n",
       "      <th>0</th>\n",
       "      <td>adipose</td>\n",
       "      <td>1</td>\n",
       "    </tr>\n",
       "    <tr>\n",
       "      <th>1</th>\n",
       "      <td>adrenal gland</td>\n",
       "      <td>3</td>\n",
       "    </tr>\n",
       "    <tr>\n",
       "      <th>2</th>\n",
       "      <td>colon</td>\n",
       "      <td>3</td>\n",
       "    </tr>\n",
       "    <tr>\n",
       "      <th>3</th>\n",
       "      <td>gm12878</td>\n",
       "      <td>7</td>\n",
       "    </tr>\n",
       "    <tr>\n",
       "      <th>4</th>\n",
       "      <td>h9</td>\n",
       "      <td>2</td>\n",
       "    </tr>\n",
       "  </tbody>\n",
       "</table>\n",
       "</div>"
      ],
      "text/plain": [
       "       biosample  n_libraries\n",
       "0        adipose            1\n",
       "1  adrenal gland            3\n",
       "2          colon            3\n",
       "3        gm12878            7\n",
       "4             h9            2"
      ]
     },
     "execution_count": 33,
     "metadata": {},
     "output_type": "execute_result"
    }
   ],
   "source": [
    "n_libs.head()"
   ]
  },
  {
   "cell_type": "code",
   "execution_count": 17,
   "id": "national-reason",
   "metadata": {},
   "outputs": [],
   "source": [
    "# remove 0s as they aren't really relevant\n",
    "df = df.melt()\n",
    "df.rename({'variable': 'biosample',\n",
    "           'value': 'n_isos'}, axis=1, inplace=True) \n",
    "df = df.loc[df.n_isos != 0]\n"
   ]
  },
  {
   "cell_type": "code",
   "execution_count": 18,
   "id": "marine-absorption",
   "metadata": {},
   "outputs": [],
   "source": [
    "df = df.merge(n_libs, how='left', on='biosample')"
   ]
  },
  {
   "cell_type": "code",
   "execution_count": 22,
   "id": "incredible-apple",
   "metadata": {},
   "outputs": [
    {
     "data": {
      "text/plain": [
       "386933"
      ]
     },
     "execution_count": 22,
     "metadata": {},
     "output_type": "execute_result"
    }
   ],
   "source": [
    "len(df.index)"
   ]
  },
  {
   "cell_type": "code",
   "execution_count": 23,
   "id": "breathing-disney",
   "metadata": {},
   "outputs": [
    {
     "data": {
      "text/plain": [
       "<seaborn.axisgrid.JointGrid at 0x7f8738b17f10>"
      ]
     },
     "execution_count": 23,
     "metadata": {},
     "output_type": "execute_result"
    },
    {
     "data": {
      "image/png": "[encoded data removed]",
      "text/plain": [
       "<Figure size 432x432 with 3 Axes>"
      ]
     },
     "metadata": {
      "needs_background": "light"
     },
     "output_type": "display_data"
    }
   ],
   "source": [
    "sns.jointplot(data=df, x='n_libraries', y='n_isos', kind='hex')"
   ]
  },
  {
   "cell_type": "code",
   "execution_count": null,
   "id": "running-ridge",
   "metadata": {},
   "outputs": [],
   "source": []
  },
  {
   "cell_type": "code",
   "execution_count": null,
   "id": "assigned-yahoo",
   "metadata": {},
   "outputs": [],
   "source": []
  },
  {
   "cell_type": "markdown",
   "id": "assisted-sixth",
   "metadata": {},
   "source": [
    "What fraction of polyA genes have >= 2 complete isoforms detected in the same sample?"
   ]
  },
  {
   "cell_type": "code",
   "execution_count": 7,
   "id": "theoretical-emphasis",
   "metadata": {},
   "outputs": [
    {
     "name": "stdout",
     "output_type": "stream",
     "text": [
      "Calculating iso TPM values\n",
      "Subsetting for polyA genes\n",
      "Enforcing minimum TPM\n",
      "Total # isos detected: 109741\n",
      "# isos >= 1 tpm: 100642\n",
      "Subsetting on polya genes\n",
      "Number of isos reported: 98027\n",
      "Found 31 total samples\n"
     ]
    }
   ],
   "source": [
    "df = pd.read_csv('human_talon_abundance_filtered.tsv', sep='\\t')\n",
    "df = get_isos_per_gene(df,\n",
    "                       min_tpm=1,\n",
    "                       gene_subset='polya',\n",
    "                       groupby='sample', \n",
    "                       nov=['Known', 'NIC', 'NNC'])"
   ]
  },
  {
   "cell_type": "code",
   "execution_count": 10,
   "id": "thousand-place",
   "metadata": {},
   "outputs": [
    {
     "name": "stdout",
     "output_type": "stream",
     "text": [
      "11170 / 49472 annotated polyA genes have >= 2 isoforms expressed in >= 1 sample\n"
     ]
    }
   ],
   "source": [
    "gene_df, b_counts, b_cat_counts = get_gtf_info(how='gene', subset='polya')\n",
    "n_polya = len(gene_df.index)\n",
    "\n",
    "df = df.loc[(df > 2).any(axis=1)]\n",
    "n_det_polya = len(df.index)\n",
    "\n",
    "print('{} / {} annotated polyA genes have >= 2 isoforms expressed in >= 1 sample'.format(n_det_polya, n_polya))"
   ]
  },
  {
   "cell_type": "markdown",
   "id": "greenhouse-workstation",
   "metadata": {},
   "source": [
    "What fraction of TF genes have >= 2 complete isoforms detected in the same sample?"
   ]
  },
  {
   "cell_type": "code",
   "execution_count": 14,
   "id": "presidential-plain",
   "metadata": {},
   "outputs": [
    {
     "name": "stdout",
     "output_type": "stream",
     "text": [
      "Calculating iso TPM values\n",
      "Subsetting for TF genes\n",
      "Enforcing minimum TPM\n",
      "Total # isos detected: 109741\n",
      "# isos >= 1 tpm: 100642\n",
      "Subsetting on tf genes\n",
      "Number of isos reported: 5479\n",
      "Found 31 total samples\n"
     ]
    }
   ],
   "source": [
    "df = pd.read_csv('human_talon_abundance_filtered.tsv', sep='\\t')\n",
    "df = get_isos_per_gene(df,\n",
    "                       min_tpm=1,\n",
    "                       gene_subset='tf',\n",
    "                       groupby='sample', \n",
    "                       nov=['Known', 'NIC', 'NNC'])"
   ]
  },
  {
   "cell_type": "code",
   "execution_count": 15,
   "id": "excellent-microphone",
   "metadata": {},
   "outputs": [
    {
     "name": "stdout",
     "output_type": "stream",
     "text": [
      "735 / 1419 annotated TF genes have >= 2 isoforms expressed in >= 1 sample\n"
     ]
    }
   ],
   "source": [
    "gene_df, b_counts, b_cat_counts = get_gtf_info(how='gene', subset='tf')\n",
    "n_polya = len(gene_df.index)\n",
    "\n",
    "df = df.loc[(df > 2).any(axis=1)]\n",
    "n_det_polya = len(df.index)\n",
    "\n",
    "print('{} / {} annotated TF genes have >= 2 isoforms expressed in >= 1 sample'.format(n_det_polya, n_polya))"
   ]
  }
 ],
 "metadata": {
  "kernelspec": {
   "display_name": "Python 3",
   "language": "python",
   "name": "python3"
  },
  "language_info": {
   "codemirror_mode": {
    "name": "ipython",
    "version": 3
   },
   "file_extension": ".py",
   "mimetype": "text/x-python",
   "name": "python",
   "nbconvert_exporter": "python",
   "pygments_lexer": "ipython3",
   "version": "3.7.4"
  }
 },
 "nbformat": 4,
 "nbformat_minor": 5
}
