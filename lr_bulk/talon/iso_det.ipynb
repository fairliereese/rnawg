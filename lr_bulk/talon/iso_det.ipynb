{
 "cells": [
  {
   "cell_type": "code",
   "execution_count": 1,
   "id": "considered-justice",
   "metadata": {},
   "outputs": [],
   "source": [
    "import pandas as pd\n",
    "import numpy as np\n",
    "import scipy.stats as st\n",
    "import seaborn as sns\n",
    "import sys\n",
    "import os\n",
    "\n",
    "p = os.path.dirname(os.path.dirname(os.getcwd()))\n",
    "sys.path.append(p)\n",
    "\n",
    "from scripts.utils import *\n",
    "from scripts.plotting import *"
   ]
  },
  {
   "cell_type": "markdown",
   "id": "honey-restaurant",
   "metadata": {},
   "source": [
    "## PolyA gene transcript detection"
   ]
  },
  {
   "cell_type": "markdown",
   "id": "amateur-roman",
   "metadata": {},
   "source": [
    "What fraction of polyA genes from the annotation do we detect with at least 1 known isoform >= 1 TPM in any library?"
   ]
  },
  {
   "cell_type": "code",
   "execution_count": 3,
   "id": "worthy-angola",
   "metadata": {},
   "outputs": [
    {
     "name": "stdout",
     "output_type": "stream",
     "text": [
      "Calculating iso TPM values\n",
      "Subsetting for polyA genes\n",
      "Enforcing minimum TPM\n",
      "Total # isos detected: 85348\n",
      "# isos >= 1 tpm: 77128\n",
      "Subsetting on polya genes\n",
      "Number of isos reported: 74796\n"
     ]
    }
   ],
   "source": [
    "df = pd.read_csv('human_talon_abundance.tsv', sep='\\t')\n",
    "df = get_tpm_table(df,\n",
    "                   how='iso',\n",
    "                   nov=['Known'],\n",
    "                   min_tpm=1,\n",
    "                   gene_subset='polya')"
   ]
  },
  {
   "cell_type": "code",
   "execution_count": 3,
   "id": "fundamental-metropolitan",
   "metadata": {},
   "outputs": [],
   "source": [
    "# merge with gene id\n",
    "gene_df = pd.read_csv('human_talon_abundance.tsv', sep='\\t')\n",
    "gene_df = gene_df[['annot_gene_id', 'annot_transcript_id']]\n",
    "df = df.merge(gene_df, how='left', left_index=True, right_on='annot_transcript_id')"
   ]
  },
  {
   "cell_type": "code",
   "execution_count": 4,
   "id": "south-video",
   "metadata": {},
   "outputs": [
    {
     "name": "stdout",
     "output_type": "stream",
     "text": [
      "Detected 24936 / 49472 annotated polyA genes w/ at least 1 known transcript >= 1 TPM\n"
     ]
    }
   ],
   "source": [
    "gene_df, _, _ = get_gtf_info(how='gene')\n",
    "\n",
    "polya_biotypes = ['protein_coding', 'pseudogene', 'lncRNA']\n",
    "polya_genes = gene_df.loc[gene_df.biotype_category.isin(polya_biotypes), 'gid'].tolist()\n",
    "n_polya = len(polya_genes)\n",
    "n_det_polya = len(df.annot_gene_id.unique().tolist())\n",
    "\n",
    "print('Detected {} / {} annotated polyA genes w/ at least 1 known transcript >= 1 TPM'.format(n_det_polya, n_polya))"
   ]
  },
  {
   "cell_type": "markdown",
   "id": "cardiac-museum",
   "metadata": {},
   "source": [
    "## Protein coding gene transcript detection"
   ]
  },
  {
   "cell_type": "markdown",
   "id": "disturbed-ferry",
   "metadata": {},
   "source": [
    "What fraction of protein-coding genes do we detect with at least 1 known isoform >= 1 TPM in any library?"
   ]
  },
  {
   "cell_type": "code",
   "execution_count": 26,
   "id": "radio-china",
   "metadata": {},
   "outputs": [
    {
     "name": "stdout",
     "output_type": "stream",
     "text": [
      "Calculating iso TPM values\n",
      "Enforcing minimum TPM\n",
      "Total # isos detected: 85348\n",
      "# isos >= 1 tpm: 77128\n",
      "Number of isos reported: 77128\n"
     ]
    }
   ],
   "source": [
    "df = pd.read_csv('human_talon_abundance.tsv', sep='\\t')\n",
    "# no gene subset here so we can look at all other genes\n",
    "df, tids = get_tpm_table(df,\n",
    "                   how='iso',\n",
    "                   nov=['Known'],\n",
    "                   min_tpm=1)"
   ]
  },
  {
   "cell_type": "code",
   "execution_count": 27,
   "id": "bearing-processor",
   "metadata": {},
   "outputs": [],
   "source": [
    "# merge with gene id\n",
    "gene_df = pd.read_csv('human_talon_abundance.tsv', sep='\\t')\n",
    "gene_df = gene_df[['annot_gene_id', 'annot_transcript_id']]\n",
    "df = df.merge(gene_df, how='left', left_index=True, right_on='annot_transcript_id')"
   ]
  },
  {
   "cell_type": "code",
   "execution_count": 28,
   "id": "described-executive",
   "metadata": {},
   "outputs": [],
   "source": [
    "gene_df, b_counts, b_cat_counts = get_gtf_info(how='gene')\n",
    "df = df.merge(gene_df, how='left', left_on='annot_gene_id', right_on='gid')"
   ]
  },
  {
   "cell_type": "code",
   "execution_count": 29,
   "id": "driving-roots",
   "metadata": {},
   "outputs": [
    {
     "data": {
      "text/html": [
       "<div>\n",
       "<style scoped>\n",
       "    .dataframe tbody tr th:only-of-type {\n",
       "        vertical-align: middle;\n",
       "    }\n",
       "\n",
       "    .dataframe tbody tr th {\n",
       "        vertical-align: top;\n",
       "    }\n",
       "\n",
       "    .dataframe thead th {\n",
       "        text-align: right;\n",
       "    }\n",
       "</style>\n",
       "<table border=\"1\" class=\"dataframe\">\n",
       "  <thead>\n",
       "    <tr style=\"text-align: right;\">\n",
       "      <th></th>\n",
       "      <th>gm12878_1_1</th>\n",
       "      <th>gm12878_1_2</th>\n",
       "      <th>gm12878_1_3</th>\n",
       "      <th>gm12878_1_4</th>\n",
       "      <th>gm12878_3_1</th>\n",
       "      <th>gm12878_2_1</th>\n",
       "      <th>gm12878_2_2</th>\n",
       "      <th>pgp1_1_1</th>\n",
       "      <th>pgp1_1_2</th>\n",
       "      <th>h9_1_1</th>\n",
       "      <th>...</th>\n",
       "      <th>right_lobe_of_liver_2_1</th>\n",
       "      <th>right_ventricle_myocardium_inferior_1_1</th>\n",
       "      <th>right_ventricle_myocardium_superior_1_1</th>\n",
       "      <th>upper_lobe_of_right_lung_1_1</th>\n",
       "      <th>annot_gene_id</th>\n",
       "      <th>annot_transcript_id</th>\n",
       "      <th>gid</th>\n",
       "      <th>length</th>\n",
       "      <th>biotype</th>\n",
       "      <th>biotype_category</th>\n",
       "    </tr>\n",
       "  </thead>\n",
       "  <tbody>\n",
       "    <tr>\n",
       "      <th>0</th>\n",
       "      <td>0.0</td>\n",
       "      <td>0.0</td>\n",
       "      <td>0.0</td>\n",
       "      <td>0.0</td>\n",
       "      <td>0.0</td>\n",
       "      <td>0.0</td>\n",
       "      <td>0.0</td>\n",
       "      <td>0.000000</td>\n",
       "      <td>0.000000</td>\n",
       "      <td>0.000000</td>\n",
       "      <td>...</td>\n",
       "      <td>0.0</td>\n",
       "      <td>0.0</td>\n",
       "      <td>0.0</td>\n",
       "      <td>0.0</td>\n",
       "      <td>ENSG00000243485.5</td>\n",
       "      <td>ENST00000469289.1</td>\n",
       "      <td>ENSG00000243485.5</td>\n",
       "      <td>1555</td>\n",
       "      <td>lincRNA</td>\n",
       "      <td>lncRNA</td>\n",
       "    </tr>\n",
       "    <tr>\n",
       "      <th>1</th>\n",
       "      <td>0.0</td>\n",
       "      <td>0.0</td>\n",
       "      <td>0.0</td>\n",
       "      <td>0.0</td>\n",
       "      <td>0.0</td>\n",
       "      <td>0.0</td>\n",
       "      <td>0.0</td>\n",
       "      <td>1.737626</td>\n",
       "      <td>1.618796</td>\n",
       "      <td>0.000000</td>\n",
       "      <td>...</td>\n",
       "      <td>0.0</td>\n",
       "      <td>0.0</td>\n",
       "      <td>0.0</td>\n",
       "      <td>0.0</td>\n",
       "      <td>ENSG00000237613.2</td>\n",
       "      <td>ENST00000417324.1</td>\n",
       "      <td>ENSG00000237613.2</td>\n",
       "      <td>1527</td>\n",
       "      <td>lincRNA</td>\n",
       "      <td>lncRNA</td>\n",
       "    </tr>\n",
       "    <tr>\n",
       "      <th>2</th>\n",
       "      <td>0.0</td>\n",
       "      <td>0.0</td>\n",
       "      <td>0.0</td>\n",
       "      <td>0.0</td>\n",
       "      <td>0.0</td>\n",
       "      <td>0.0</td>\n",
       "      <td>0.0</td>\n",
       "      <td>1.737626</td>\n",
       "      <td>0.000000</td>\n",
       "      <td>0.000000</td>\n",
       "      <td>...</td>\n",
       "      <td>0.0</td>\n",
       "      <td>0.0</td>\n",
       "      <td>0.0</td>\n",
       "      <td>0.0</td>\n",
       "      <td>ENSG00000237613.2</td>\n",
       "      <td>ENST00000461467.1</td>\n",
       "      <td>ENSG00000237613.2</td>\n",
       "      <td>1527</td>\n",
       "      <td>lincRNA</td>\n",
       "      <td>lncRNA</td>\n",
       "    </tr>\n",
       "    <tr>\n",
       "      <th>3</th>\n",
       "      <td>0.0</td>\n",
       "      <td>0.0</td>\n",
       "      <td>0.0</td>\n",
       "      <td>0.0</td>\n",
       "      <td>0.0</td>\n",
       "      <td>0.0</td>\n",
       "      <td>0.0</td>\n",
       "      <td>0.000000</td>\n",
       "      <td>0.000000</td>\n",
       "      <td>0.000000</td>\n",
       "      <td>...</td>\n",
       "      <td>0.0</td>\n",
       "      <td>0.0</td>\n",
       "      <td>0.0</td>\n",
       "      <td>0.0</td>\n",
       "      <td>ENSG00000233750.3</td>\n",
       "      <td>ENST00000442987.3</td>\n",
       "      <td>ENSG00000233750.3</td>\n",
       "      <td>3811</td>\n",
       "      <td>processed_pseudogene</td>\n",
       "      <td>pseudogene</td>\n",
       "    </tr>\n",
       "    <tr>\n",
       "      <th>4</th>\n",
       "      <td>0.0</td>\n",
       "      <td>0.0</td>\n",
       "      <td>0.0</td>\n",
       "      <td>0.0</td>\n",
       "      <td>0.0</td>\n",
       "      <td>0.0</td>\n",
       "      <td>0.0</td>\n",
       "      <td>1.737626</td>\n",
       "      <td>6.475185</td>\n",
       "      <td>1.242064</td>\n",
       "      <td>...</td>\n",
       "      <td>0.0</td>\n",
       "      <td>0.0</td>\n",
       "      <td>0.0</td>\n",
       "      <td>0.0</td>\n",
       "      <td>ENSG00000268903.1</td>\n",
       "      <td>ENST00000494149.2</td>\n",
       "      <td>ENSG00000268903.1</td>\n",
       "      <td>754</td>\n",
       "      <td>processed_pseudogene</td>\n",
       "      <td>pseudogene</td>\n",
       "    </tr>\n",
       "  </tbody>\n",
       "</table>\n",
       "<p>5 rows × 96 columns</p>\n",
       "</div>"
      ],
      "text/plain": [
       "   gm12878_1_1  gm12878_1_2  gm12878_1_3  gm12878_1_4  gm12878_3_1  \\\n",
       "0          0.0          0.0          0.0          0.0          0.0   \n",
       "1          0.0          0.0          0.0          0.0          0.0   \n",
       "2          0.0          0.0          0.0          0.0          0.0   \n",
       "3          0.0          0.0          0.0          0.0          0.0   \n",
       "4          0.0          0.0          0.0          0.0          0.0   \n",
       "\n",
       "   gm12878_2_1  gm12878_2_2  pgp1_1_1  pgp1_1_2    h9_1_1  ...  \\\n",
       "0          0.0          0.0  0.000000  0.000000  0.000000  ...   \n",
       "1          0.0          0.0  1.737626  1.618796  0.000000  ...   \n",
       "2          0.0          0.0  1.737626  0.000000  0.000000  ...   \n",
       "3          0.0          0.0  0.000000  0.000000  0.000000  ...   \n",
       "4          0.0          0.0  1.737626  6.475185  1.242064  ...   \n",
       "\n",
       "   right_lobe_of_liver_2_1  right_ventricle_myocardium_inferior_1_1  \\\n",
       "0                      0.0                                      0.0   \n",
       "1                      0.0                                      0.0   \n",
       "2                      0.0                                      0.0   \n",
       "3                      0.0                                      0.0   \n",
       "4                      0.0                                      0.0   \n",
       "\n",
       "   right_ventricle_myocardium_superior_1_1  upper_lobe_of_right_lung_1_1  \\\n",
       "0                                      0.0                           0.0   \n",
       "1                                      0.0                           0.0   \n",
       "2                                      0.0                           0.0   \n",
       "3                                      0.0                           0.0   \n",
       "4                                      0.0                           0.0   \n",
       "\n",
       "       annot_gene_id  annot_transcript_id                gid  length  \\\n",
       "0  ENSG00000243485.5    ENST00000469289.1  ENSG00000243485.5    1555   \n",
       "1  ENSG00000237613.2    ENST00000417324.1  ENSG00000237613.2    1527   \n",
       "2  ENSG00000237613.2    ENST00000461467.1  ENSG00000237613.2    1527   \n",
       "3  ENSG00000233750.3    ENST00000442987.3  ENSG00000233750.3    3811   \n",
       "4  ENSG00000268903.1    ENST00000494149.2  ENSG00000268903.1     754   \n",
       "\n",
       "                biotype  biotype_category  \n",
       "0               lincRNA            lncRNA  \n",
       "1               lincRNA            lncRNA  \n",
       "2               lincRNA            lncRNA  \n",
       "3  processed_pseudogene        pseudogene  \n",
       "4  processed_pseudogene        pseudogene  \n",
       "\n",
       "[5 rows x 96 columns]"
      ]
     },
     "execution_count": 29,
     "metadata": {},
     "output_type": "execute_result"
    }
   ],
   "source": [
    "df.head()"
   ]
  },
  {
   "cell_type": "code",
   "execution_count": 30,
   "id": "supreme-companion",
   "metadata": {},
   "outputs": [
    {
     "data": {
      "text/html": [
       "<div>\n",
       "<style scoped>\n",
       "    .dataframe tbody tr th:only-of-type {\n",
       "        vertical-align: middle;\n",
       "    }\n",
       "\n",
       "    .dataframe tbody tr th {\n",
       "        vertical-align: top;\n",
       "    }\n",
       "\n",
       "    .dataframe thead th {\n",
       "        text-align: right;\n",
       "    }\n",
       "</style>\n",
       "<table border=\"1\" class=\"dataframe\">\n",
       "  <thead>\n",
       "    <tr style=\"text-align: right;\">\n",
       "      <th></th>\n",
       "      <th>biotype_category</th>\n",
       "      <th>detected_counts</th>\n",
       "      <th>gencode_counts</th>\n",
       "      <th>prop_detected</th>\n",
       "    </tr>\n",
       "  </thead>\n",
       "  <tbody>\n",
       "    <tr>\n",
       "      <th>3</th>\n",
       "      <td>protein_coding</td>\n",
       "      <td>17052</td>\n",
       "      <td>19969</td>\n",
       "      <td>0.853924</td>\n",
       "    </tr>\n",
       "    <tr>\n",
       "      <th>0</th>\n",
       "      <td>lncRNA</td>\n",
       "      <td>4777</td>\n",
       "      <td>15006</td>\n",
       "      <td>0.318339</td>\n",
       "    </tr>\n",
       "    <tr>\n",
       "      <th>2</th>\n",
       "      <td>other</td>\n",
       "      <td>1908</td>\n",
       "      <td>7426</td>\n",
       "      <td>0.256935</td>\n",
       "    </tr>\n",
       "    <tr>\n",
       "      <th>1</th>\n",
       "      <td>miRNA</td>\n",
       "      <td>418</td>\n",
       "      <td>1881</td>\n",
       "      <td>0.222222</td>\n",
       "    </tr>\n",
       "    <tr>\n",
       "      <th>4</th>\n",
       "      <td>pseudogene</td>\n",
       "      <td>3107</td>\n",
       "      <td>14497</td>\n",
       "      <td>0.214320</td>\n",
       "    </tr>\n",
       "  </tbody>\n",
       "</table>\n",
       "</div>"
      ],
      "text/plain": [
       "  biotype_category  detected_counts  gencode_counts  prop_detected\n",
       "3   protein_coding            17052           19969       0.853924\n",
       "0           lncRNA             4777           15006       0.318339\n",
       "2            other             1908            7426       0.256935\n",
       "1            miRNA              418            1881       0.222222\n",
       "4       pseudogene             3107           14497       0.214320"
      ]
     },
     "execution_count": 30,
     "metadata": {},
     "output_type": "execute_result"
    }
   ],
   "source": [
    "temp = df[['gid', 'biotype_category']].drop_duplicates().groupby('biotype_category').count()\n",
    "temp.reset_index(inplace=True)\n",
    "temp.rename({'gid': 'detected_counts'}, axis=1, inplace=True)\n",
    "\n",
    "temp = temp.merge(b_cat_counts, on='biotype_category', how='outer')\n",
    "temp['prop_detected'] = temp.detected_counts/temp.gencode_counts\n",
    "temp.sort_values(by='prop_detected', ascending=False, inplace=True)\n",
    "temp"
   ]
  },
  {
   "cell_type": "markdown",
   "id": "breeding-spiritual",
   "metadata": {},
   "source": [
    "## What fraction of protein coding gene transcripts do we detect?"
   ]
  },
  {
   "cell_type": "markdown",
   "id": "proof-synthetic",
   "metadata": {},
   "source": [
    "Of the transcripts associated with protein coding genes GENCODE, how many do we detect >=1 1 TPM?"
   ]
  },
  {
   "cell_type": "code",
   "execution_count": 31,
   "id": "coral-detail",
   "metadata": {},
   "outputs": [
    {
     "name": "stdout",
     "output_type": "stream",
     "text": [
      "Calculating iso TPM values\n",
      "Subsetting for polyA genes\n",
      "Enforcing minimum TPM\n",
      "Total # isos detected: 85348\n",
      "# isos >= 1 tpm: 77128\n",
      "Subsetting on polya genes\n",
      "Number of isos reported: 74796\n"
     ]
    }
   ],
   "source": [
    "df = pd.read_csv('human_talon_abundance.tsv', sep='\\t')\n",
    "df, tids = get_tpm_table(df,\n",
    "                   how='iso',\n",
    "                   nov=['Known'],\n",
    "                   min_tpm=1,\n",
    "                   gene_subset='polya')"
   ]
  },
  {
   "cell_type": "code",
   "execution_count": 32,
   "id": "closed-theta",
   "metadata": {},
   "outputs": [],
   "source": [
    "t_df, b_counts, b_cat_counts = get_gtf_info(how='iso')\n",
    "df = df.merge(t_df, how='left', left_index=True, right_on='tid')"
   ]
  },
  {
   "cell_type": "code",
   "execution_count": 34,
   "id": "conscious-truck",
   "metadata": {},
   "outputs": [
    {
     "data": {
      "text/html": [
       "<div>\n",
       "<style scoped>\n",
       "    .dataframe tbody tr th:only-of-type {\n",
       "        vertical-align: middle;\n",
       "    }\n",
       "\n",
       "    .dataframe tbody tr th {\n",
       "        vertical-align: top;\n",
       "    }\n",
       "\n",
       "    .dataframe thead th {\n",
       "        text-align: right;\n",
       "    }\n",
       "</style>\n",
       "<table border=\"1\" class=\"dataframe\">\n",
       "  <thead>\n",
       "    <tr style=\"text-align: right;\">\n",
       "      <th></th>\n",
       "      <th>biotype_category</th>\n",
       "      <th>detected_counts</th>\n",
       "      <th>gencode_counts</th>\n",
       "      <th>prop_detected</th>\n",
       "    </tr>\n",
       "  </thead>\n",
       "  <tbody>\n",
       "    <tr>\n",
       "      <th>1</th>\n",
       "      <td>protein_coding</td>\n",
       "      <td>64084.0</td>\n",
       "      <td>151259</td>\n",
       "      <td>0.423671</td>\n",
       "    </tr>\n",
       "    <tr>\n",
       "      <th>0</th>\n",
       "      <td>lncRNA</td>\n",
       "      <td>7073.0</td>\n",
       "      <td>28478</td>\n",
       "      <td>0.248367</td>\n",
       "    </tr>\n",
       "    <tr>\n",
       "      <th>2</th>\n",
       "      <td>pseudogene</td>\n",
       "      <td>3639.0</td>\n",
       "      <td>17657</td>\n",
       "      <td>0.206094</td>\n",
       "    </tr>\n",
       "    <tr>\n",
       "      <th>3</th>\n",
       "      <td>miRNA</td>\n",
       "      <td>NaN</td>\n",
       "      <td>1881</td>\n",
       "      <td>NaN</td>\n",
       "    </tr>\n",
       "    <tr>\n",
       "      <th>4</th>\n",
       "      <td>other</td>\n",
       "      <td>NaN</td>\n",
       "      <td>7486</td>\n",
       "      <td>NaN</td>\n",
       "    </tr>\n",
       "  </tbody>\n",
       "</table>\n",
       "</div>"
      ],
      "text/plain": [
       "  biotype_category  detected_counts  gencode_counts  prop_detected\n",
       "1   protein_coding          64084.0          151259       0.423671\n",
       "0           lncRNA           7073.0           28478       0.248367\n",
       "2       pseudogene           3639.0           17657       0.206094\n",
       "3            miRNA              NaN            1881            NaN\n",
       "4            other              NaN            7486            NaN"
      ]
     },
     "execution_count": 34,
     "metadata": {},
     "output_type": "execute_result"
    }
   ],
   "source": [
    "temp = df[['tid', 'biotype_category']].groupby('biotype_category').count()\n",
    "temp.reset_index(inplace=True)\n",
    "temp.rename({'tid': 'detected_counts'}, axis=1, inplace=True)\n",
    "\n",
    "temp = temp.merge(b_cat_counts, on='biotype_category', how='outer')\n",
    "temp['prop_detected'] = temp.detected_counts/temp.gencode_counts\n",
    "temp.sort_values(by='prop_detected', ascending=False, inplace=True)\n",
    "temp"
   ]
  },
  {
   "cell_type": "markdown",
   "id": "lasting-fiber",
   "metadata": {},
   "source": [
    "## Characteristics of detected known, polyA gene associated transcripts"
   ]
  },
  {
   "cell_type": "markdown",
   "id": "chief-christian",
   "metadata": {},
   "source": [
    "## Number of cell types or tissues that each known transcript from polyA genes is expressed >= 1 TPM"
   ]
  },
  {
   "cell_type": "code",
   "execution_count": 2,
   "id": "statutory-sierra",
   "metadata": {},
   "outputs": [
    {
     "name": "stdout",
     "output_type": "stream",
     "text": [
      "Calculating iso TPM values\n",
      "Subsetting for polyA genes\n",
      "Enforcing minimum TPM\n",
      "Total # isos detected: 85348\n",
      "# isos >= 1 tpm: 77128\n",
      "Subsetting on polya genes\n",
      "Number of isos reported: 74796\n",
      "Found 31 total samples\n"
     ]
    },
    {
     "data": {
      "image/png": "[encoded data removed]",
      "text/plain": [
       "<Figure size 360x360 with 1 Axes>"
      ]
     },
     "metadata": {
      "needs_background": "light"
     },
     "output_type": "display_data"
    }
   ],
   "source": [
    "df = pd.read_csv('human_talon_abundance.tsv', sep='\\t')\n",
    "df = plot_biosamp_det(df,\n",
    "                      how='iso',\n",
    "                      min_tpm=1,\n",
    "                      gene_subset='polya',\n",
    "                      sample=None,\n",
    "                      groupby='sample',\n",
    "                      nov='Known',\n",
    "                      opref='figures/human')"
   ]
  },
  {
   "cell_type": "code",
   "execution_count": 9,
   "id": "packed-classroom",
   "metadata": {},
   "outputs": [
    {
     "name": "stdout",
     "output_type": "stream",
     "text": [
      "32327 / 74796 (43.2%) transcripts are expressed in <= 4 samples\n",
      "16872 / 74796 (22.6%) transcripts are expressed in >= 20 samples\n"
     ]
    }
   ],
   "source": [
    "specific_thresh = 4\n",
    "ubiq_thresh = 20\n",
    "\n",
    "n_iso = len(df.index)\n",
    "n_specific = len(df.loc[df.n_samples <= specific_thresh].index)\n",
    "n_ubiq = len(df.loc[df.n_samples >= ubiq_thresh].index)\n",
    "\n",
    "print('{} / {} ({:.1f}%) transcripts are expressed in <= {} samples'.format(n_specific, n_iso, (n_specific/n_iso)*100, specific_thresh))\n",
    "print('{} / {} ({:.1f}%) transcripts are expressed in >= {} samples'.format(n_ubiq, n_iso, (n_ubiq/n_iso)*100, ubiq_thresh))"
   ]
  },
  {
   "cell_type": "markdown",
   "id": "drawn-living",
   "metadata": {},
   "source": [
    "## Length of transcripts from polyA genes detected >= 1 TPM"
   ]
  },
  {
   "cell_type": "code",
   "execution_count": 2,
   "id": "creative-fault",
   "metadata": {},
   "outputs": [
    {
     "name": "stdout",
     "output_type": "stream",
     "text": [
      "Calculating iso TPM values\n",
      "Subsetting for polyA genes\n",
      "Enforcing minimum TPM\n",
      "Total # isos detected: 85348\n",
      "# isos >= 1 tpm: 77128\n",
      "Subsetting on polya genes\n",
      "Number of isos reported: 74796\n"
     ]
    },
    {
     "data": {
      "image/png": "[encoded data removed]",
      "text/plain": [
       "<Figure size 467.36x360 with 1 Axes>"
      ]
     },
     "metadata": {
      "needs_background": "light"
     },
     "output_type": "display_data"
    }
   ],
   "source": [
    "df = pd.read_csv('human_talon_abundance_filtered.tsv', sep='\\t')\n",
    "df = plot_det_len_kde(df, \n",
    "                      how='iso', \n",
    "                      subset='polya',\n",
    "                      min_tpm=1,\n",
    "                      xlim=10000,\n",
    "                      opref='figures/')"
   ]
  },
  {
   "cell_type": "code",
   "execution_count": 9,
   "id": "gorgeous-genetics",
   "metadata": {},
   "outputs": [
    {
     "data": {
      "text/plain": [
       "<seaborn.axisgrid.FacetGrid at 0x7fe029479710>"
      ]
     },
     "execution_count": 9,
     "metadata": {},
     "output_type": "execute_result"
    },
    {
     "data": {
      "image/png": "[encoded data removed]",
      "text/plain": [
       "<Figure size 606.985x360 with 1 Axes>"
      ]
     },
     "metadata": {
      "needs_background": "light"
     },
     "output_type": "display_data"
    }
   ],
   "source": [
    "df['det_biotype'] = df.detected.astype('str')+'_'+df.biotype_category\n",
    "ax = sns.displot(data=df, x='t_len', kind='kde',\n",
    "                     linewidth=3, hue='det_biotype', common_norm=True)\n",
    "ax.set(xlim=(0,10000))"
   ]
  },
  {
   "cell_type": "markdown",
   "id": "flush-russell",
   "metadata": {},
   "source": [
    "What is the longest detected transcript with more than one exon?"
   ]
  },
  {
   "cell_type": "code",
   "execution_count": 7,
   "id": "honest-billion",
   "metadata": {},
   "outputs": [],
   "source": [
    "t_df = pd.read_csv('human_talon_abundance_filtered.tsv', sep='\\t')\n",
    "t_df = t_df[['annot_transcript_id', 'n_exons']]"
   ]
  },
  {
   "cell_type": "code",
   "execution_count": 9,
   "id": "african-brazilian",
   "metadata": {},
   "outputs": [],
   "source": [
    "df = df.merge(t_df, how='left', on='annot_transcript_id')"
   ]
  },
  {
   "cell_type": "code",
   "execution_count": 10,
   "id": "fatal-submission",
   "metadata": {},
   "outputs": [
    {
     "name": "stdout",
     "output_type": "stream",
     "text": [
      "37852\n"
     ]
    }
   ],
   "source": [
    "n = df.loc[(df.detected == True)&(df.n_exons > 1), 't_len'].max()\n",
    "print(n)"
   ]
  },
  {
   "cell_type": "code",
   "execution_count": 11,
   "id": "hundred-dressing",
   "metadata": {},
   "outputs": [
    {
     "data": {
      "text/html": [
       "<div>\n",
       "<style scoped>\n",
       "    .dataframe tbody tr th:only-of-type {\n",
       "        vertical-align: middle;\n",
       "    }\n",
       "\n",
       "    .dataframe tbody tr th {\n",
       "        vertical-align: top;\n",
       "    }\n",
       "\n",
       "    .dataframe thead th {\n",
       "        text-align: right;\n",
       "    }\n",
       "</style>\n",
       "<table border=\"1\" class=\"dataframe\">\n",
       "  <thead>\n",
       "    <tr style=\"text-align: right;\">\n",
       "      <th></th>\n",
       "      <th>annot_transcript_id</th>\n",
       "      <th>tid</th>\n",
       "      <th>t_len</th>\n",
       "      <th>gid</th>\n",
       "      <th>biotype</th>\n",
       "      <th>biotype_category</th>\n",
       "      <th>detected</th>\n",
       "      <th>n_exons</th>\n",
       "    </tr>\n",
       "  </thead>\n",
       "  <tbody>\n",
       "    <tr>\n",
       "      <th>70907</th>\n",
       "      <td>ENST00000458178.2</td>\n",
       "      <td>ENST00000458178.2</td>\n",
       "      <td>37852</td>\n",
       "      <td>ENSG00000224086.5</td>\n",
       "      <td>antisense</td>\n",
       "      <td>lncRNA</td>\n",
       "      <td>True</td>\n",
       "      <td>2.0</td>\n",
       "    </tr>\n",
       "  </tbody>\n",
       "</table>\n",
       "</div>"
      ],
      "text/plain": [
       "      annot_transcript_id                tid  t_len                gid  \\\n",
       "70907   ENST00000458178.2  ENST00000458178.2  37852  ENSG00000224086.5   \n",
       "\n",
       "         biotype biotype_category  detected  n_exons  \n",
       "70907  antisense           lncRNA      True      2.0  "
      ]
     },
     "execution_count": 11,
     "metadata": {},
     "output_type": "execute_result"
    }
   ],
   "source": [
    "df.loc[df.t_len == 37852]"
   ]
  },
  {
   "cell_type": "markdown",
   "id": "another-wrapping",
   "metadata": {},
   "source": [
    "## Variance in TPM levels >= 1 TPM for known transcripts detected >= 1 TPM"
   ]
  },
  {
   "cell_type": "code",
   "execution_count": 41,
   "id": "eligible-criterion",
   "metadata": {},
   "outputs": [
    {
     "name": "stdout",
     "output_type": "stream",
     "text": [
      "Calculating iso TPM values\n",
      "Subsetting for polyA genes\n",
      "Enforcing minimum TPM\n",
      "Total # isos detected: 85348\n",
      "# isos >= 1 tpm: 77128\n",
      "Subsetting on polya genes\n",
      "Number of isos reported: 74796\n"
     ]
    }
   ],
   "source": [
    "df = pd.read_csv('human_talon_abundance.tsv', sep='\\t')\n",
    "df = get_tpm_table(df,\n",
    "                   how='iso',\n",
    "                   nov=['Known'],\n",
    "                   min_tpm=1,\n",
    "                   gene_subset='polya')"
   ]
  },
  {
   "cell_type": "markdown",
   "id": "cross-arnold",
   "metadata": {},
   "source": [
    "## How many known polyA transcripts do we detect?"
   ]
  },
  {
   "cell_type": "code",
   "execution_count": 7,
   "id": "cooked-power",
   "metadata": {},
   "outputs": [
    {
     "name": "stdout",
     "output_type": "stream",
     "text": [
      "Calculating iso TPM values\n",
      "Subsetting for polyA genes\n",
      "Enforcing minimum TPM\n",
      "Total # isos detected: 85348\n",
      "# isos >= 1 tpm: 77128\n",
      "Subsetting on polya genes\n",
      "Number of isos reported: 74796\n"
     ]
    }
   ],
   "source": [
    "df = pd.read_csv('human_talon_abundance.tsv', sep='\\t')\n",
    "df = get_tpm_table(df,\n",
    "                   how='iso',\n",
    "                   nov=['Known'],\n",
    "                   min_tpm=1,\n",
    "                   gene_subset='polya')"
   ]
  },
  {
   "cell_type": "code",
   "execution_count": 8,
   "id": "given-tower",
   "metadata": {},
   "outputs": [],
   "source": [
    "# merge with transcript len\n",
    "t_df, b_counts, c_counts = get_gtf_info(how='iso')\n",
    "df = df.merge(t_df, how='left', left_index=True, right_on='tid')"
   ]
  },
  {
   "cell_type": "code",
   "execution_count": 17,
   "id": "incident-universe",
   "metadata": {},
   "outputs": [
    {
     "name": "stdout",
     "output_type": "stream",
     "text": [
      "Detected 74796 / 197394 annotated transcripts from polyA genes >= 1 TPM\n"
     ]
    }
   ],
   "source": [
    "polya_biotypes = ['protein_coding', 'pseudogene', 'lncRNA']\n",
    "n_det_polya = len(df.index)\n",
    "n_known_polya = c_counts.loc[c_counts.biotype_category.isin(polya_biotypes), 'gencode_counts'].sum()\n",
    "print('Detected {} / {} annotated transcripts from polyA genes >= 1 TPM'.format(n_det_polya, n_known_polya))"
   ]
  },
  {
   "cell_type": "markdown",
   "id": "fuzzy-wichita",
   "metadata": {},
   "source": [
    "## How many complete isoforms do we detect?"
   ]
  },
  {
   "cell_type": "code",
   "execution_count": 2,
   "id": "through-engine",
   "metadata": {},
   "outputs": [
    {
     "name": "stdout",
     "output_type": "stream",
     "text": [
      "Calculating iso TPM values\n",
      "Subsetting for polyA genes\n",
      "Enforcing minimum TPM\n",
      "Total # isos detected: 109741\n",
      "# isos >= 1 tpm: 100642\n",
      "Subsetting on polya genes\n",
      "Number of isos reported: 98027\n"
     ]
    }
   ],
   "source": [
    "df = pd.read_csv('human_talon_abundance_filtered.tsv', sep='\\t')\n",
    "df, tids = get_tpm_table(df,\n",
    "                   how='iso',\n",
    "                   nov=['Known', 'NIC', 'NNC'],\n",
    "                   min_tpm=1,\n",
    "                   gene_subset='polya')"
   ]
  },
  {
   "cell_type": "code",
   "execution_count": 3,
   "id": "grateful-whale",
   "metadata": {},
   "outputs": [
    {
     "name": "stdout",
     "output_type": "stream",
     "text": [
      "  transcript_novelty  counts\n",
      "0              Known   73961\n",
      "1                NIC   18270\n",
      "2                NNC    5796\n",
      "Number of complete isoforms: 98027\n"
     ]
    },
    {
     "data": {
      "text/plain": [
       "<Figure size 288x432 with 0 Axes>"
      ]
     },
     "metadata": {},
     "output_type": "display_data"
    },
    {
     "data": {
      "image/png": "[encoded data removed]",
      "text/plain": [
       "<Figure size 360x360 with 1 Axes>"
      ]
     },
     "metadata": {
      "needs_background": "light"
     },
     "output_type": "display_data"
    },
    {
     "data": {
      "text/plain": [
       "<Figure size 432x288 with 0 Axes>"
      ]
     },
     "metadata": {},
     "output_type": "display_data"
    }
   ],
   "source": [
    "df = pd.read_csv('human_talon_abundance_filtered.tsv', sep='\\t')\n",
    "plot_transcript_novelty(df,\n",
    "                        oprefix='figures/complete_det',\n",
    "                        whitelist=tids,\n",
    "                        novs=['Known', 'NIC', 'NNC'])"
   ]
  },
  {
   "cell_type": "markdown",
   "id": "statutory-coupon",
   "metadata": {},
   "source": [
    "## How many exons are in each complete, detected model, split by novelty?"
   ]
  },
  {
   "cell_type": "code",
   "execution_count": 2,
   "id": "acting-invitation",
   "metadata": {},
   "outputs": [
    {
     "name": "stdout",
     "output_type": "stream",
     "text": [
      "Calculating iso TPM values\n",
      "Subsetting for polyA genes\n",
      "Enforcing minimum TPM\n",
      "Total # isos detected: 109741\n",
      "# isos >= 1 tpm: 100642\n",
      "Subsetting on polya genes\n",
      "Number of isos reported: 98027\n"
     ]
    },
    {
     "data": {
      "image/png": "[encoded data removed]",
      "text/plain": [
       "<Figure size 288x432 with 1 Axes>"
      ]
     },
     "metadata": {
      "needs_background": "light"
     },
     "output_type": "display_data"
    }
   ],
   "source": [
    "df = pd.read_csv('human_talon_abundance_filtered.tsv', sep='\\t')\n",
    "plot_exons_per_iso(df,\n",
    "                   nov=['Known', 'NIC', 'NNC'],\n",
    "                   min_tpm=1,\n",
    "                   gene_subset='polya',\n",
    "                   opref='figures/human')"
   ]
  },
  {
   "cell_type": "markdown",
   "id": "finnish-bench",
   "metadata": {},
   "source": [
    "## How many isoforms per gene do we detect per sample? "
   ]
  },
  {
   "cell_type": "markdown",
   "id": "greenhouse-encounter",
   "metadata": {},
   "source": [
    "What is the average and range of complete isoforms per polyA gene that we detect per sample?"
   ]
  },
  {
   "cell_type": "code",
   "execution_count": 2,
   "id": "fixed-intake",
   "metadata": {},
   "outputs": [
    {
     "name": "stdout",
     "output_type": "stream",
     "text": [
      "Calculating iso TPM values\n",
      "Subsetting for polyA genes\n",
      "Enforcing minimum TPM\n",
      "Total # isos detected: 109741\n",
      "# isos >= 1 tpm: 100642\n",
      "Subsetting on polya genes\n",
      "Number of isos reported: 98027\n",
      "Found 31 total samples\n"
     ]
    }
   ],
   "source": [
    "df = pd.read_csv('human_talon_abundance_filtered.tsv', sep='\\t')\n",
    "df = get_isos_per_gene(df,\n",
    "                       min_tpm=1,\n",
    "                       gene_subset='polya',\n",
    "                       groupby='sample', \n",
    "                       nov=['Known', 'NIC', 'NNC'])"
   ]
  },
  {
   "cell_type": "code",
   "execution_count": 3,
   "id": "latest-turner",
   "metadata": {},
   "outputs": [
    {
     "data": {
      "text/html": [
       "<div>\n",
       "<style scoped>\n",
       "    .dataframe tbody tr th:only-of-type {\n",
       "        vertical-align: middle;\n",
       "    }\n",
       "\n",
       "    .dataframe tbody tr th {\n",
       "        vertical-align: top;\n",
       "    }\n",
       "\n",
       "    .dataframe thead th {\n",
       "        text-align: right;\n",
       "    }\n",
       "</style>\n",
       "<table border=\"1\" class=\"dataframe\">\n",
       "  <thead>\n",
       "    <tr style=\"text-align: right;\">\n",
       "      <th></th>\n",
       "      <th>adipose</th>\n",
       "      <th>adrenal gland</th>\n",
       "      <th>colon</th>\n",
       "      <th>gm12878</th>\n",
       "      <th>h9</th>\n",
       "      <th>h9_chondro</th>\n",
       "      <th>h9_de</th>\n",
       "      <th>h9_neural_crest</th>\n",
       "      <th>h9_osteocyte</th>\n",
       "      <th>h9_panc_beta</th>\n",
       "      <th>...</th>\n",
       "      <th>mcf7</th>\n",
       "      <th>muscle</th>\n",
       "      <th>ovary</th>\n",
       "      <th>panc1</th>\n",
       "      <th>pc3</th>\n",
       "      <th>pgp1</th>\n",
       "      <th>pgp1_astro</th>\n",
       "      <th>pgp1_endo</th>\n",
       "      <th>pgp1_excite_neuron</th>\n",
       "      <th>vessels</th>\n",
       "    </tr>\n",
       "    <tr>\n",
       "      <th>annot_gene_id</th>\n",
       "      <th></th>\n",
       "      <th></th>\n",
       "      <th></th>\n",
       "      <th></th>\n",
       "      <th></th>\n",
       "      <th></th>\n",
       "      <th></th>\n",
       "      <th></th>\n",
       "      <th></th>\n",
       "      <th></th>\n",
       "      <th></th>\n",
       "      <th></th>\n",
       "      <th></th>\n",
       "      <th></th>\n",
       "      <th></th>\n",
       "      <th></th>\n",
       "      <th></th>\n",
       "      <th></th>\n",
       "      <th></th>\n",
       "      <th></th>\n",
       "      <th></th>\n",
       "    </tr>\n",
       "  </thead>\n",
       "  <tbody>\n",
       "    <tr>\n",
       "      <th>ENSG00000000003.14</th>\n",
       "      <td>4</td>\n",
       "      <td>3</td>\n",
       "      <td>6</td>\n",
       "      <td>1</td>\n",
       "      <td>6</td>\n",
       "      <td>2</td>\n",
       "      <td>5</td>\n",
       "      <td>6</td>\n",
       "      <td>5</td>\n",
       "      <td>6</td>\n",
       "      <td>...</td>\n",
       "      <td>4</td>\n",
       "      <td>2</td>\n",
       "      <td>5</td>\n",
       "      <td>3</td>\n",
       "      <td>3</td>\n",
       "      <td>5</td>\n",
       "      <td>3</td>\n",
       "      <td>4</td>\n",
       "      <td>3</td>\n",
       "      <td>4</td>\n",
       "    </tr>\n",
       "    <tr>\n",
       "      <th>ENSG00000000005.5</th>\n",
       "      <td>0</td>\n",
       "      <td>0</td>\n",
       "      <td>0</td>\n",
       "      <td>0</td>\n",
       "      <td>0</td>\n",
       "      <td>0</td>\n",
       "      <td>0</td>\n",
       "      <td>0</td>\n",
       "      <td>0</td>\n",
       "      <td>1</td>\n",
       "      <td>...</td>\n",
       "      <td>0</td>\n",
       "      <td>0</td>\n",
       "      <td>0</td>\n",
       "      <td>0</td>\n",
       "      <td>0</td>\n",
       "      <td>0</td>\n",
       "      <td>0</td>\n",
       "      <td>0</td>\n",
       "      <td>0</td>\n",
       "      <td>0</td>\n",
       "    </tr>\n",
       "    <tr>\n",
       "      <th>ENSG00000000419.12</th>\n",
       "      <td>2</td>\n",
       "      <td>4</td>\n",
       "      <td>5</td>\n",
       "      <td>6</td>\n",
       "      <td>5</td>\n",
       "      <td>6</td>\n",
       "      <td>4</td>\n",
       "      <td>7</td>\n",
       "      <td>5</td>\n",
       "      <td>5</td>\n",
       "      <td>...</td>\n",
       "      <td>5</td>\n",
       "      <td>4</td>\n",
       "      <td>4</td>\n",
       "      <td>5</td>\n",
       "      <td>5</td>\n",
       "      <td>5</td>\n",
       "      <td>6</td>\n",
       "      <td>3</td>\n",
       "      <td>5</td>\n",
       "      <td>6</td>\n",
       "    </tr>\n",
       "    <tr>\n",
       "      <th>ENSG00000000457.13</th>\n",
       "      <td>1</td>\n",
       "      <td>2</td>\n",
       "      <td>1</td>\n",
       "      <td>3</td>\n",
       "      <td>2</td>\n",
       "      <td>2</td>\n",
       "      <td>2</td>\n",
       "      <td>4</td>\n",
       "      <td>3</td>\n",
       "      <td>1</td>\n",
       "      <td>...</td>\n",
       "      <td>1</td>\n",
       "      <td>2</td>\n",
       "      <td>3</td>\n",
       "      <td>2</td>\n",
       "      <td>1</td>\n",
       "      <td>1</td>\n",
       "      <td>2</td>\n",
       "      <td>1</td>\n",
       "      <td>0</td>\n",
       "      <td>1</td>\n",
       "    </tr>\n",
       "    <tr>\n",
       "      <th>ENSG00000000460.16</th>\n",
       "      <td>0</td>\n",
       "      <td>2</td>\n",
       "      <td>2</td>\n",
       "      <td>5</td>\n",
       "      <td>3</td>\n",
       "      <td>2</td>\n",
       "      <td>2</td>\n",
       "      <td>5</td>\n",
       "      <td>2</td>\n",
       "      <td>3</td>\n",
       "      <td>...</td>\n",
       "      <td>3</td>\n",
       "      <td>0</td>\n",
       "      <td>2</td>\n",
       "      <td>2</td>\n",
       "      <td>1</td>\n",
       "      <td>4</td>\n",
       "      <td>1</td>\n",
       "      <td>1</td>\n",
       "      <td>2</td>\n",
       "      <td>1</td>\n",
       "    </tr>\n",
       "  </tbody>\n",
       "</table>\n",
       "<p>5 rows × 31 columns</p>\n",
       "</div>"
      ],
      "text/plain": [
       "                    adipose  adrenal gland  colon  gm12878  h9  h9_chondro  \\\n",
       "annot_gene_id                                                                \n",
       "ENSG00000000003.14        4              3      6        1   6           2   \n",
       "ENSG00000000005.5         0              0      0        0   0           0   \n",
       "ENSG00000000419.12        2              4      5        6   5           6   \n",
       "ENSG00000000457.13        1              2      1        3   2           2   \n",
       "ENSG00000000460.16        0              2      2        5   3           2   \n",
       "\n",
       "                    h9_de  h9_neural_crest  h9_osteocyte  h9_panc_beta  ...  \\\n",
       "annot_gene_id                                                           ...   \n",
       "ENSG00000000003.14      5                6             5             6  ...   \n",
       "ENSG00000000005.5       0                0             0             1  ...   \n",
       "ENSG00000000419.12      4                7             5             5  ...   \n",
       "ENSG00000000457.13      2                4             3             1  ...   \n",
       "ENSG00000000460.16      2                5             2             3  ...   \n",
       "\n",
       "                    mcf7  muscle  ovary  panc1  pc3  pgp1  pgp1_astro  \\\n",
       "annot_gene_id                                                           \n",
       "ENSG00000000003.14     4       2      5      3    3     5           3   \n",
       "ENSG00000000005.5      0       0      0      0    0     0           0   \n",
       "ENSG00000000419.12     5       4      4      5    5     5           6   \n",
       "ENSG00000000457.13     1       2      3      2    1     1           2   \n",
       "ENSG00000000460.16     3       0      2      2    1     4           1   \n",
       "\n",
       "                    pgp1_endo  pgp1_excite_neuron  vessels  \n",
       "annot_gene_id                                               \n",
       "ENSG00000000003.14          4                   3        4  \n",
       "ENSG00000000005.5           0                   0        0  \n",
       "ENSG00000000419.12          3                   5        6  \n",
       "ENSG00000000457.13          1                   0        1  \n",
       "ENSG00000000460.16          1                   2        1  \n",
       "\n",
       "[5 rows x 31 columns]"
      ]
     },
     "execution_count": 3,
     "metadata": {},
     "output_type": "execute_result"
    }
   ],
   "source": [
    "df.head()"
   ]
  },
  {
   "cell_type": "code",
   "execution_count": 4,
   "id": "immediate-given",
   "metadata": {},
   "outputs": [
    {
     "data": {
      "text/plain": [
       "1.4253880911531187"
      ]
     },
     "execution_count": 4,
     "metadata": {},
     "output_type": "execute_result"
    }
   ],
   "source": [
    "df.mean().mean()"
   ]
  },
  {
   "cell_type": "code",
   "execution_count": 5,
   "id": "dutch-bangkok",
   "metadata": {},
   "outputs": [
    {
     "data": {
      "text/plain": [
       "134"
      ]
     },
     "execution_count": 5,
     "metadata": {},
     "output_type": "execute_result"
    }
   ],
   "source": [
    "df.max().max()"
   ]
  },
  {
   "cell_type": "code",
   "execution_count": 6,
   "id": "quality-status",
   "metadata": {},
   "outputs": [
    {
     "data": {
      "text/plain": [
       "0"
      ]
     },
     "execution_count": 6,
     "metadata": {},
     "output_type": "execute_result"
    }
   ],
   "source": [
    "df.min().min()"
   ]
  },
  {
   "cell_type": "markdown",
   "id": "committed-robert",
   "metadata": {},
   "source": [
    "Which samples have the highest average?"
   ]
  },
  {
   "cell_type": "code",
   "execution_count": 1,
   "id": "twenty-minute",
   "metadata": {},
   "outputs": [],
   "source": [
    "import pandas as pd\n",
    "import numpy as np\n",
    "import scipy.stats as st\n",
    "import seaborn as sns\n",
    "import sys\n",
    "import os\n",
    "\n",
    "p = os.path.dirname(os.path.dirname(os.getcwd()))\n",
    "sys.path.append(p)\n",
    "\n",
    "from scripts.utils import *\n",
    "from scripts.plotting import *"
   ]
  },
  {
   "cell_type": "code",
   "execution_count": 2,
   "id": "extensive-ebony",
   "metadata": {},
   "outputs": [
    {
     "name": "stdout",
     "output_type": "stream",
     "text": [
      "Calculating iso TPM values\n",
      "Subsetting for polyA genes\n",
      "Enforcing minimum TPM\n",
      "Total # isos detected: 109741\n",
      "# isos >= 1 tpm: 100642\n",
      "Subsetting on polya genes\n",
      "Number of isos reported: 98027\n",
      "Found 31 total samples\n"
     ]
    },
    {
     "data": {
      "image/png": "[encoded data removed]",
      "text/plain": [
       "<Figure size 432x288 with 1 Axes>"
      ]
     },
     "metadata": {
      "needs_background": "light"
     },
     "output_type": "display_data"
    }
   ],
   "source": [
    "df = pd.read_csv('human_talon_abundance_filtered.tsv', sep='\\t')\n",
    "plot_avg_isos_per_gene(df,\n",
    "                       min_tpm=1,\n",
    "                       gene_subset='polya',\n",
    "                       sample='all', \n",
    "                       groupby='sample',\n",
    "                       nov=['Known', 'NIC', 'NNC'],\n",
    "                       opref='figures/')"
   ]
  },
  {
   "cell_type": "code",
   "execution_count": 66,
   "id": "designing-wiring",
   "metadata": {},
   "outputs": [
    {
     "name": "stdout",
     "output_type": "stream",
     "text": [
      "Calculating iso TPM values\n",
      "Subsetting for polyA genes\n",
      "Enforcing minimum TPM\n",
      "Total # isos detected: 109741\n",
      "# isos >= 1 tpm: 100642\n",
      "Subsetting on polya genes\n",
      "Number of isos reported: 98027\n",
      "Found 31 total samples\n"
     ]
    }
   ],
   "source": [
    "df = get_isos_per_gene(df,\n",
    "                       min_tpm=1,\n",
    "                       gene_subset='polya',\n",
    "                       groupby='sample', \n",
    "                       nov=['Known', 'NIC', 'NNC'])"
   ]
  },
  {
   "cell_type": "code",
   "execution_count": 68,
   "id": "average-wealth",
   "metadata": {},
   "outputs": [],
   "source": [
    "# fill 0s (which represent unexpresed genes) with NaNs before\n",
    "# calculating the avg. # isos / sample\n",
    "df = df.replace(0, np.nan)"
   ]
  },
  {
   "cell_type": "code",
   "execution_count": 70,
   "id": "cultural-arlington",
   "metadata": {},
   "outputs": [],
   "source": [
    "avgs = df.mean().to_frame()"
   ]
  },
  {
   "cell_type": "code",
   "execution_count": 71,
   "id": "voluntary-excess",
   "metadata": {},
   "outputs": [
    {
     "name": "stdout",
     "output_type": "stream",
     "text": [
      "['heart', 'lung', 'gm12878', 'k562', 'hepg2', 'hffc6', 'h9_chondro', 'colon', 'ovary', 'vessels', 'hl60', 'h9_neural_crest', 'hct116', 'h9', 'panc1', 'h9_de', 'mcf7', 'h9_panc_progen', 'pgp1_astro', 'h9_osteocyte', 'adrenal gland', 'imr90', 'pgp1', 'pgp1_endo', 'pgp1_excite_neuron', 'h9_panc_beta', 'pc3', 'muscle', 'kidney', 'adipose', 'liver']\n"
     ]
    }
   ],
   "source": [
    "avgs = avgs.sort_values(by=[0], ascending=False)\n",
    "order = avgs.index.tolist()\n",
    "print(order)"
   ]
  },
  {
   "cell_type": "code",
   "execution_count": 73,
   "id": "driven-barbados",
   "metadata": {},
   "outputs": [],
   "source": [
    "df = df.melt()"
   ]
  },
  {
   "cell_type": "code",
   "execution_count": 74,
   "id": "brutal-replica",
   "metadata": {},
   "outputs": [],
   "source": [
    "df.rename({'variable': 'tissue', 'value': 'n_isos'}, axis=1, inplace=True)"
   ]
  },
  {
   "cell_type": "code",
   "execution_count": 78,
   "id": "sufficient-cradle",
   "metadata": {},
   "outputs": [],
   "source": [
    "df = df.loc[~df.n_isos.isnull()]"
   ]
  },
  {
   "cell_type": "code",
   "execution_count": 79,
   "id": "rising-writer",
   "metadata": {},
   "outputs": [
    {
     "data": {
      "text/html": [
       "<div>\n",
       "<style scoped>\n",
       "    .dataframe tbody tr th:only-of-type {\n",
       "        vertical-align: middle;\n",
       "    }\n",
       "\n",
       "    .dataframe tbody tr th {\n",
       "        vertical-align: top;\n",
       "    }\n",
       "\n",
       "    .dataframe thead th {\n",
       "        text-align: right;\n",
       "    }\n",
       "</style>\n",
       "<table border=\"1\" class=\"dataframe\">\n",
       "  <thead>\n",
       "    <tr style=\"text-align: right;\">\n",
       "      <th></th>\n",
       "      <th>tissue</th>\n",
       "      <th>n_isos</th>\n",
       "    </tr>\n",
       "  </thead>\n",
       "  <tbody>\n",
       "    <tr>\n",
       "      <th>0</th>\n",
       "      <td>adipose</td>\n",
       "      <td>4.0</td>\n",
       "    </tr>\n",
       "    <tr>\n",
       "      <th>2</th>\n",
       "      <td>adipose</td>\n",
       "      <td>2.0</td>\n",
       "    </tr>\n",
       "    <tr>\n",
       "      <th>3</th>\n",
       "      <td>adipose</td>\n",
       "      <td>1.0</td>\n",
       "    </tr>\n",
       "    <tr>\n",
       "      <th>5</th>\n",
       "      <td>adipose</td>\n",
       "      <td>4.0</td>\n",
       "    </tr>\n",
       "    <tr>\n",
       "      <th>6</th>\n",
       "      <td>adipose</td>\n",
       "      <td>2.0</td>\n",
       "    </tr>\n",
       "  </tbody>\n",
       "</table>\n",
       "</div>"
      ],
      "text/plain": [
       "    tissue  n_isos\n",
       "0  adipose     4.0\n",
       "2  adipose     2.0\n",
       "3  adipose     1.0\n",
       "5  adipose     4.0\n",
       "6  adipose     2.0"
      ]
     },
     "execution_count": 79,
     "metadata": {},
     "output_type": "execute_result"
    }
   ],
   "source": [
    "df.head()"
   ]
  },
  {
   "cell_type": "code",
   "execution_count": null,
   "id": "favorite-alexander",
   "metadata": {},
   "outputs": [],
   "source": []
  },
  {
   "cell_type": "code",
   "execution_count": 80,
   "id": "personal-hartford",
   "metadata": {},
   "outputs": [
    {
     "data": {
      "image/png": "[encoded data removed]",
      "text/plain": [
       "<Figure size 432x288 with 1 Axes>"
      ]
     },
     "metadata": {
      "needs_background": "light"
     },
     "output_type": "display_data"
    }
   ],
   "source": [
    "# ax = sns.boxplot(data=df, x='tissue', y='n_isos',\n",
    "#                  saturation=1)\n",
    "ax = sns.barplot(data=df, x='tissue', y='n_isos', order=order)\n",
    "# ax = sns.violinplot(data=df, x='tissue', y='n_isos',\n",
    "#                  saturation=1)\n",
    "\n",
    "ax.spines['right'].set_visible(False)\n",
    "ax.spines['top'].set_visible(False)\n",
    "\n",
    "xlabel = 'Sample'\n",
    "ylabel = '# isoforms / gene'\n",
    "\n",
    "# _ = ax.set(xlabel=xlabel, ylabel=ylabel, ylim=(0,20))\n",
    "_ = ax.set(xlabel=xlabel, ylabel=ylabel)\n",
    "ax.tick_params(axis=\"x\", rotation=90)\n",
    "\n",
    "\n",
    "# fname = '{}_isos_per_gene_per_{}.png'.format(opref, sample)\n",
    "# plt.savefig(fname, dpi=300, bbox_inches='tight')"
   ]
  },
  {
   "cell_type": "markdown",
   "id": "frank-torture",
   "metadata": {},
   "source": [
    "What fraction of polyA genes have >= 2 complete isoforms detected in the same sample?"
   ]
  },
  {
   "cell_type": "code",
   "execution_count": 7,
   "id": "local-shakespeare",
   "metadata": {},
   "outputs": [
    {
     "name": "stdout",
     "output_type": "stream",
     "text": [
      "Calculating iso TPM values\n",
      "Subsetting for polyA genes\n",
      "Enforcing minimum TPM\n",
      "Total # isos detected: 109741\n",
      "# isos >= 1 tpm: 100642\n",
      "Subsetting on polya genes\n",
      "Number of isos reported: 98027\n",
      "Found 31 total samples\n"
     ]
    }
   ],
   "source": [
    "df = pd.read_csv('human_talon_abundance_filtered.tsv', sep='\\t')\n",
    "df = get_isos_per_gene(df,\n",
    "                       min_tpm=1,\n",
    "                       gene_subset='polya',\n",
    "                       groupby='sample', \n",
    "                       nov=['Known', 'NIC', 'NNC'])"
   ]
  },
  {
   "cell_type": "code",
   "execution_count": 10,
   "id": "southern-horizontal",
   "metadata": {},
   "outputs": [
    {
     "name": "stdout",
     "output_type": "stream",
     "text": [
      "11170 / 49472 annotated polyA genes have >= 2 isoforms expressed in >= 1 sample\n"
     ]
    }
   ],
   "source": [
    "gene_df, b_counts, b_cat_counts = get_gtf_info(how='gene', subset='polya')\n",
    "n_polya = len(gene_df.index)\n",
    "\n",
    "df = df.loc[(df > 2).any(axis=1)]\n",
    "n_det_polya = len(df.index)\n",
    "\n",
    "print('{} / {} annotated polyA genes have >= 2 isoforms expressed in >= 1 sample'.format(n_det_polya, n_polya))"
   ]
  },
  {
   "cell_type": "markdown",
   "id": "disabled-layout",
   "metadata": {},
   "source": [
    "What fraction of TF genes have >= 2 complete isoforms detected in the same sample?"
   ]
  },
  {
   "cell_type": "code",
   "execution_count": 14,
   "id": "quarterly-bahamas",
   "metadata": {},
   "outputs": [
    {
     "name": "stdout",
     "output_type": "stream",
     "text": [
      "Calculating iso TPM values\n",
      "Subsetting for TF genes\n",
      "Enforcing minimum TPM\n",
      "Total # isos detected: 109741\n",
      "# isos >= 1 tpm: 100642\n",
      "Subsetting on tf genes\n",
      "Number of isos reported: 5479\n",
      "Found 31 total samples\n"
     ]
    }
   ],
   "source": [
    "df = pd.read_csv('human_talon_abundance_filtered.tsv', sep='\\t')\n",
    "df = get_isos_per_gene(df,\n",
    "                       min_tpm=1,\n",
    "                       gene_subset='tf',\n",
    "                       groupby='sample', \n",
    "                       nov=['Known', 'NIC', 'NNC'])"
   ]
  },
  {
   "cell_type": "code",
   "execution_count": 15,
   "id": "noticed-hacker",
   "metadata": {},
   "outputs": [
    {
     "name": "stdout",
     "output_type": "stream",
     "text": [
      "735 / 1419 annotated TF genes have >= 2 isoforms expressed in >= 1 sample\n"
     ]
    }
   ],
   "source": [
    "gene_df, b_counts, b_cat_counts = get_gtf_info(how='gene', subset='tf')\n",
    "n_polya = len(gene_df.index)\n",
    "\n",
    "df = df.loc[(df > 2).any(axis=1)]\n",
    "n_det_polya = len(df.index)\n",
    "\n",
    "print('{} / {} annotated TF genes have >= 2 isoforms expressed in >= 1 sample'.format(n_det_polya, n_polya))"
   ]
  }
 ],
 "metadata": {
  "kernelspec": {
   "display_name": "Python 3",
   "language": "python",
   "name": "python3"
  },
  "language_info": {
   "codemirror_mode": {
    "name": "ipython",
    "version": 3
   },
   "file_extension": ".py",
   "mimetype": "text/x-python",
   "name": "python",
   "nbconvert_exporter": "python",
   "pygments_lexer": "ipython3",
   "version": "3.7.4"
  }
 },
 "nbformat": 4,
 "nbformat_minor": 5
}
