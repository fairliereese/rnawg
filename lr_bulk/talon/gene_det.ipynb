{
 "cells": [
  {
   "cell_type": "code",
   "execution_count": 1,
   "id": "streaming-investor",
   "metadata": {},
   "outputs": [],
   "source": [
    "import pandas as pd\n",
    "import numpy as np\n",
    "import scipy.stats as st\n",
    "import seaborn as sns\n",
    "import sys\n",
    "import os\n",
    "\n",
    "p = os.path.dirname(os.path.dirname(os.getcwd()))\n",
    "sys.path.append(p)\n",
    "\n",
    "from scripts.utils import *\n",
    "from scripts.plotting import *"
   ]
  },
  {
   "cell_type": "markdown",
   "id": "virgin-secretariat",
   "metadata": {},
   "source": [
    "## PolyA gene detection"
   ]
  },
  {
   "cell_type": "markdown",
   "id": "destroyed-marketing",
   "metadata": {},
   "source": [
    "What fraction of polyA genes from the annotation do we detect with >= 1 TPM in any library?"
   ]
  },
  {
   "cell_type": "code",
   "execution_count": 2,
   "id": "atlantic-netscape",
   "metadata": {},
   "outputs": [
    {
     "name": "stdout",
     "output_type": "stream",
     "text": [
      "39285\n",
      "Total # genes detected: 39285\n",
      "# genes >= 1 tpm: 33946\n"
     ]
    }
   ],
   "source": [
    "df = pd.read_csv('human_talon_abundance.tsv', sep='\\t')\n",
    "df = get_tpm_table(df, how='gene', min_tpm=1)"
   ]
  },
  {
   "cell_type": "code",
   "execution_count": 3,
   "id": "varied-raleigh",
   "metadata": {},
   "outputs": [],
   "source": [
    "gene_df = get_gtf_info(how='gene')"
   ]
  },
  {
   "cell_type": "code",
   "execution_count": 6,
   "id": "optimum-reasoning",
   "metadata": {},
   "outputs": [
    {
     "name": "stdout",
     "output_type": "stream",
     "text": [
      "Detected 32160 / 49472 annotated polyA genes\n"
     ]
    }
   ],
   "source": [
    "polya_biotypes = ['protein_coding', 'pseudogene', 'lncRNA']\n",
    "polya_genes = gene_df.loc[gene_df.biotype_category.isin(polya_biotypes), 'gid'].tolist()\n",
    "n_polya = len(polya_genes)\n",
    "temp = df.loc[df.index.isin(polya_genes)]\n",
    "n_det_polya = len(temp.index)\n",
    "\n",
    "print('Detected {} / {} annotated polyA genes'.format(n_det_polya, n_polya))"
   ]
  },
  {
   "cell_type": "markdown",
   "id": "entire-being",
   "metadata": {},
   "source": [
    "How many genes of each biotype are there in the annotation?"
   ]
  },
  {
   "cell_type": "code",
   "execution_count": 8,
   "id": "bound-southwest",
   "metadata": {},
   "outputs": [
    {
     "data": {
      "text/html": [
       "<div>\n",
       "<style scoped>\n",
       "    .dataframe tbody tr th:only-of-type {\n",
       "        vertical-align: middle;\n",
       "    }\n",
       "\n",
       "    .dataframe tbody tr th {\n",
       "        vertical-align: top;\n",
       "    }\n",
       "\n",
       "    .dataframe thead th {\n",
       "        text-align: right;\n",
       "    }\n",
       "</style>\n",
       "<table border=\"1\" class=\"dataframe\">\n",
       "  <thead>\n",
       "    <tr style=\"text-align: right;\">\n",
       "      <th></th>\n",
       "      <th>biotype_category</th>\n",
       "      <th>counts</th>\n",
       "    </tr>\n",
       "  </thead>\n",
       "  <tbody>\n",
       "    <tr>\n",
       "      <th>0</th>\n",
       "      <td>lncRNA</td>\n",
       "      <td>15006</td>\n",
       "    </tr>\n",
       "    <tr>\n",
       "      <th>1</th>\n",
       "      <td>miRNA</td>\n",
       "      <td>1881</td>\n",
       "    </tr>\n",
       "    <tr>\n",
       "      <th>2</th>\n",
       "      <td>other</td>\n",
       "      <td>7426</td>\n",
       "    </tr>\n",
       "    <tr>\n",
       "      <th>3</th>\n",
       "      <td>protein_coding</td>\n",
       "      <td>19969</td>\n",
       "    </tr>\n",
       "    <tr>\n",
       "      <th>4</th>\n",
       "      <td>pseudogene</td>\n",
       "      <td>14497</td>\n",
       "    </tr>\n",
       "  </tbody>\n",
       "</table>\n",
       "</div>"
      ],
      "text/plain": [
       "  biotype_category  counts\n",
       "0           lncRNA   15006\n",
       "1            miRNA    1881\n",
       "2            other    7426\n",
       "3   protein_coding   19969\n",
       "4       pseudogene   14497"
      ]
     },
     "execution_count": 8,
     "metadata": {},
     "output_type": "execute_result"
    }
   ],
   "source": [
    "temp = gene_df[['gid', 'biotype_category']].groupby('biotype_category').count()\n",
    "temp.reset_index(inplace=True)\n",
    "temp.rename({'gid': 'counts'}, axis=1, inplace=True)\n",
    "temp"
   ]
  },
  {
   "cell_type": "markdown",
   "id": "laden-album",
   "metadata": {},
   "source": [
    "How many genes of each biotype do we detect?"
   ]
  },
  {
   "cell_type": "code",
   "execution_count": null,
   "id": "featured-stewart",
   "metadata": {},
   "outputs": [],
   "source": [
    "df = df.merge(gene_df, how='left', left_index=True, right_on='gid')\n",
    "temp = df[['gid', 'biotype_category']].groupby('biotype_category').count()\n",
    "temp.reset_index(inplace=True)\n",
    "temp.rename({'gid': 'counts'}, axis=1, inplace=True)\n",
    "temp"
   ]
  }
 ],
 "metadata": {
  "kernelspec": {
   "display_name": "Python 3",
   "language": "python",
   "name": "python3"
  },
  "language_info": {
   "codemirror_mode": {
    "name": "ipython",
    "version": 3
   },
   "file_extension": ".py",
   "mimetype": "text/x-python",
   "name": "python",
   "nbconvert_exporter": "python",
   "pygments_lexer": "ipython3",
   "version": "3.7.4"
  }
 },
 "nbformat": 4,
 "nbformat_minor": 5
}
