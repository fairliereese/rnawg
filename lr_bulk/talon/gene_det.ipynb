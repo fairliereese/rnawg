{
 "cells": [
  {
   "cell_type": "code",
   "execution_count": 28,
   "id": "distant-robert",
   "metadata": {},
   "outputs": [],
   "source": [
    "import pandas as pd\n",
    "import numpy as np\n",
    "import scipy.stats as st\n",
    "import seaborn as sns\n",
    "import sys\n",
    "import os\n",
    "import gseapy as gp\n",
    "\n",
    "p = os.path.dirname(os.path.dirname(os.getcwd()))\n",
    "sys.path.append(p)\n",
    "\n",
    "from scripts.utils import *\n",
    "from scripts.plotting import *"
   ]
  },
  {
   "cell_type": "markdown",
   "id": "healthy-domain",
   "metadata": {},
   "source": [
    "## PolyA gene detection"
   ]
  },
  {
   "cell_type": "markdown",
   "id": "written-immunology",
   "metadata": {},
   "source": [
    "What fraction of polyA genes from the annotation do we detect with >= 1 TPM in any library?"
   ]
  },
  {
   "cell_type": "code",
   "execution_count": 2,
   "id": "hourly-spyware",
   "metadata": {},
   "outputs": [
    {
     "name": "stdout",
     "output_type": "stream",
     "text": [
      "Calculating gene TPM values\n",
      "Subsetting for polyA genes\n",
      "Enforcing minimum TPM\n",
      "Total # genes detected: 39285\n",
      "# genes >= 1 tpm: 33946\n",
      "Subsetting on polya genes\n",
      "Number of genes reported: 32160\n"
     ]
    }
   ],
   "source": [
    "df = pd.read_csv('human_talon_abundance.tsv', sep='\\t')\n",
    "df = get_tpm_table(df,\n",
    "                   how='gene',\n",
    "                   min_tpm=1,\n",
    "                   gene_subset='polya')"
   ]
  },
  {
   "cell_type": "code",
   "execution_count": 3,
   "id": "similar-contribution",
   "metadata": {},
   "outputs": [],
   "source": [
    "gene_df, b_counts, b_cat_counts = get_gtf_info(how='gene')"
   ]
  },
  {
   "cell_type": "code",
   "execution_count": 6,
   "id": "minor-hypothetical",
   "metadata": {},
   "outputs": [
    {
     "name": "stdout",
     "output_type": "stream",
     "text": [
      "Detected 32160 / 49472 annotated polyA genes\n"
     ]
    }
   ],
   "source": [
    "polya_biotypes = ['protein_coding', 'pseudogene', 'lncRNA']\n",
    "polya_genes = gene_df.loc[gene_df.biotype_category.isin(polya_biotypes), 'gid'].tolist()\n",
    "n_polya = len(polya_genes)\n",
    "n_det_polya = len(df.index)\n",
    "\n",
    "print('Detected {} / {} annotated polyA genes'.format(n_det_polya, n_polya))"
   ]
  },
  {
   "cell_type": "markdown",
   "id": "substantial-winter",
   "metadata": {},
   "source": [
    "How many genes of each biotype category are there in the annotation and detected by us?"
   ]
  },
  {
   "cell_type": "code",
   "execution_count": 10,
   "id": "bigger-nicholas",
   "metadata": {},
   "outputs": [
    {
     "name": "stdout",
     "output_type": "stream",
     "text": [
      "Calculating gene TPM values\n",
      "Enforcing minimum TPM\n",
      "Total # genes detected: 39285\n",
      "# genes >= 1 tpm: 33946\n",
      "Number of genes reported: 33946\n"
     ]
    }
   ],
   "source": [
    "# get detected genes w/o subsetting on polyA genes\n",
    "df = pd.read_csv('human_talon_abundance.tsv', sep='\\t')\n",
    "df = get_tpm_table(df,\n",
    "                   how='gene',\n",
    "                   min_tpm=1)"
   ]
  },
  {
   "cell_type": "code",
   "execution_count": 11,
   "id": "egyptian-microwave",
   "metadata": {},
   "outputs": [
    {
     "data": {
      "text/html": [
       "<div>\n",
       "<style scoped>\n",
       "    .dataframe tbody tr th:only-of-type {\n",
       "        vertical-align: middle;\n",
       "    }\n",
       "\n",
       "    .dataframe tbody tr th {\n",
       "        vertical-align: top;\n",
       "    }\n",
       "\n",
       "    .dataframe thead th {\n",
       "        text-align: right;\n",
       "    }\n",
       "</style>\n",
       "<table border=\"1\" class=\"dataframe\">\n",
       "  <thead>\n",
       "    <tr style=\"text-align: right;\">\n",
       "      <th></th>\n",
       "      <th>biotype_category</th>\n",
       "      <th>detected_counts</th>\n",
       "      <th>gencode_counts</th>\n",
       "      <th>prop_detected</th>\n",
       "    </tr>\n",
       "  </thead>\n",
       "  <tbody>\n",
       "    <tr>\n",
       "      <th>3</th>\n",
       "      <td>protein_coding</td>\n",
       "      <td>18612</td>\n",
       "      <td>19969</td>\n",
       "      <td>0.932045</td>\n",
       "    </tr>\n",
       "    <tr>\n",
       "      <th>0</th>\n",
       "      <td>lncRNA</td>\n",
       "      <td>9766</td>\n",
       "      <td>15006</td>\n",
       "      <td>0.650806</td>\n",
       "    </tr>\n",
       "    <tr>\n",
       "      <th>4</th>\n",
       "      <td>pseudogene</td>\n",
       "      <td>3782</td>\n",
       "      <td>14497</td>\n",
       "      <td>0.260882</td>\n",
       "    </tr>\n",
       "    <tr>\n",
       "      <th>2</th>\n",
       "      <td>other</td>\n",
       "      <td>1509</td>\n",
       "      <td>7426</td>\n",
       "      <td>0.203205</td>\n",
       "    </tr>\n",
       "    <tr>\n",
       "      <th>1</th>\n",
       "      <td>miRNA</td>\n",
       "      <td>277</td>\n",
       "      <td>1881</td>\n",
       "      <td>0.147262</td>\n",
       "    </tr>\n",
       "  </tbody>\n",
       "</table>\n",
       "</div>"
      ],
      "text/plain": [
       "  biotype_category  detected_counts  gencode_counts  prop_detected\n",
       "3   protein_coding            18612           19969       0.932045\n",
       "0           lncRNA             9766           15006       0.650806\n",
       "4       pseudogene             3782           14497       0.260882\n",
       "2            other             1509            7426       0.203205\n",
       "1            miRNA              277            1881       0.147262"
      ]
     },
     "execution_count": 11,
     "metadata": {},
     "output_type": "execute_result"
    }
   ],
   "source": [
    "df = df.merge(gene_df, how='left', left_index=True, right_on='gid')\n",
    "temp = df[['gid', 'biotype_category']].groupby('biotype_category').count()\n",
    "temp.reset_index(inplace=True)\n",
    "temp.rename({'gid': 'detected_counts'}, axis=1, inplace=True)\n",
    "\n",
    "temp = temp.merge(b_cat_counts, on='biotype_category', how='outer')\n",
    "temp['prop_detected'] = temp.detected_counts/temp.gencode_counts\n",
    "temp.sort_values(by='prop_detected', ascending=False, inplace=True)\n",
    "temp"
   ]
  },
  {
   "cell_type": "markdown",
   "id": "lonely-nicholas",
   "metadata": {},
   "source": [
    "How many genes in other biotype categories do we detect and what proportion of the annotation does this represent?"
   ]
  },
  {
   "cell_type": "code",
   "execution_count": 14,
   "id": "plain-integration",
   "metadata": {},
   "outputs": [],
   "source": [
    "temp = df[['gid', 'biotype', 'biotype_category']].groupby(['biotype', 'biotype_category']).count()\n",
    "temp.reset_index(inplace=True)\n",
    "temp.rename({'gid': 'detected_counts'}, axis=1, inplace=True)\n",
    "\n",
    "temp = temp.merge(b_counts, on='biotype', how='outer')\n",
    "temp['prop_detected'] = temp.detected_counts/temp.gencode_counts\n",
    "temp.sort_values(by='prop_detected', ascending=False, inplace=True)"
   ]
  },
  {
   "cell_type": "markdown",
   "id": "handed-cannon",
   "metadata": {},
   "source": [
    "\"Other\" genes"
   ]
  },
  {
   "cell_type": "code",
   "execution_count": 15,
   "id": "decimal-accent",
   "metadata": {},
   "outputs": [
    {
     "data": {
      "text/html": [
       "<div>\n",
       "<style scoped>\n",
       "    .dataframe tbody tr th:only-of-type {\n",
       "        vertical-align: middle;\n",
       "    }\n",
       "\n",
       "    .dataframe tbody tr th {\n",
       "        vertical-align: top;\n",
       "    }\n",
       "\n",
       "    .dataframe thead th {\n",
       "        text-align: right;\n",
       "    }\n",
       "</style>\n",
       "<table border=\"1\" class=\"dataframe\">\n",
       "  <thead>\n",
       "    <tr style=\"text-align: right;\">\n",
       "      <th></th>\n",
       "      <th>biotype</th>\n",
       "      <th>biotype_category</th>\n",
       "      <th>detected_counts</th>\n",
       "      <th>gencode_counts</th>\n",
       "      <th>prop_detected</th>\n",
       "    </tr>\n",
       "  </thead>\n",
       "  <tbody>\n",
       "    <tr>\n",
       "      <th>29</th>\n",
       "      <td>scRNA</td>\n",
       "      <td>other</td>\n",
       "      <td>1.0</td>\n",
       "      <td>1</td>\n",
       "      <td>1.000000</td>\n",
       "    </tr>\n",
       "    <tr>\n",
       "      <th>6</th>\n",
       "      <td>Mt_rRNA</td>\n",
       "      <td>other</td>\n",
       "      <td>2.0</td>\n",
       "      <td>2</td>\n",
       "      <td>1.000000</td>\n",
       "    </tr>\n",
       "    <tr>\n",
       "      <th>1</th>\n",
       "      <td>IG_C_gene</td>\n",
       "      <td>other</td>\n",
       "      <td>14.0</td>\n",
       "      <td>14</td>\n",
       "      <td>1.000000</td>\n",
       "    </tr>\n",
       "    <tr>\n",
       "      <th>9</th>\n",
       "      <td>TR_C_gene</td>\n",
       "      <td>other</td>\n",
       "      <td>6.0</td>\n",
       "      <td>6</td>\n",
       "      <td>1.000000</td>\n",
       "    </tr>\n",
       "    <tr>\n",
       "      <th>7</th>\n",
       "      <td>Mt_tRNA</td>\n",
       "      <td>other</td>\n",
       "      <td>10.0</td>\n",
       "      <td>22</td>\n",
       "      <td>0.454545</td>\n",
       "    </tr>\n",
       "    <tr>\n",
       "      <th>8</th>\n",
       "      <td>TEC</td>\n",
       "      <td>other</td>\n",
       "      <td>457.0</td>\n",
       "      <td>1060</td>\n",
       "      <td>0.431132</td>\n",
       "    </tr>\n",
       "    <tr>\n",
       "      <th>28</th>\n",
       "      <td>ribozyme</td>\n",
       "      <td>other</td>\n",
       "      <td>3.0</td>\n",
       "      <td>8</td>\n",
       "      <td>0.375000</td>\n",
       "    </tr>\n",
       "    <tr>\n",
       "      <th>26</th>\n",
       "      <td>rRNA</td>\n",
       "      <td>other</td>\n",
       "      <td>16.0</td>\n",
       "      <td>58</td>\n",
       "      <td>0.275862</td>\n",
       "    </tr>\n",
       "    <tr>\n",
       "      <th>11</th>\n",
       "      <td>TR_J_pseudogene</td>\n",
       "      <td>other</td>\n",
       "      <td>1.0</td>\n",
       "      <td>4</td>\n",
       "      <td>0.250000</td>\n",
       "    </tr>\n",
       "    <tr>\n",
       "      <th>12</th>\n",
       "      <td>TR_V_gene</td>\n",
       "      <td>other</td>\n",
       "      <td>24.0</td>\n",
       "      <td>106</td>\n",
       "      <td>0.226415</td>\n",
       "    </tr>\n",
       "    <tr>\n",
       "      <th>3</th>\n",
       "      <td>IG_J_gene</td>\n",
       "      <td>other</td>\n",
       "      <td>4.0</td>\n",
       "      <td>18</td>\n",
       "      <td>0.222222</td>\n",
       "    </tr>\n",
       "    <tr>\n",
       "      <th>2</th>\n",
       "      <td>IG_C_pseudogene</td>\n",
       "      <td>other</td>\n",
       "      <td>2.0</td>\n",
       "      <td>9</td>\n",
       "      <td>0.222222</td>\n",
       "    </tr>\n",
       "    <tr>\n",
       "      <th>10</th>\n",
       "      <td>TR_J_gene</td>\n",
       "      <td>other</td>\n",
       "      <td>16.0</td>\n",
       "      <td>79</td>\n",
       "      <td>0.202532</td>\n",
       "    </tr>\n",
       "    <tr>\n",
       "      <th>4</th>\n",
       "      <td>IG_V_gene</td>\n",
       "      <td>other</td>\n",
       "      <td>27.0</td>\n",
       "      <td>144</td>\n",
       "      <td>0.187500</td>\n",
       "    </tr>\n",
       "    <tr>\n",
       "      <th>13</th>\n",
       "      <td>TR_V_pseudogene</td>\n",
       "      <td>other</td>\n",
       "      <td>6.0</td>\n",
       "      <td>33</td>\n",
       "      <td>0.181818</td>\n",
       "    </tr>\n",
       "    <tr>\n",
       "      <th>33</th>\n",
       "      <td>snRNA</td>\n",
       "      <td>other</td>\n",
       "      <td>328.0</td>\n",
       "      <td>1909</td>\n",
       "      <td>0.171818</td>\n",
       "    </tr>\n",
       "    <tr>\n",
       "      <th>19</th>\n",
       "      <td>misc_RNA</td>\n",
       "      <td>other</td>\n",
       "      <td>370.0</td>\n",
       "      <td>2222</td>\n",
       "      <td>0.166517</td>\n",
       "    </tr>\n",
       "    <tr>\n",
       "      <th>34</th>\n",
       "      <td>snoRNA</td>\n",
       "      <td>other</td>\n",
       "      <td>154.0</td>\n",
       "      <td>943</td>\n",
       "      <td>0.163309</td>\n",
       "    </tr>\n",
       "    <tr>\n",
       "      <th>30</th>\n",
       "      <td>scaRNA</td>\n",
       "      <td>other</td>\n",
       "      <td>8.0</td>\n",
       "      <td>49</td>\n",
       "      <td>0.163265</td>\n",
       "    </tr>\n",
       "    <tr>\n",
       "      <th>27</th>\n",
       "      <td>rRNA_pseudogene</td>\n",
       "      <td>other</td>\n",
       "      <td>51.0</td>\n",
       "      <td>500</td>\n",
       "      <td>0.102000</td>\n",
       "    </tr>\n",
       "    <tr>\n",
       "      <th>5</th>\n",
       "      <td>IG_V_pseudogene</td>\n",
       "      <td>other</td>\n",
       "      <td>9.0</td>\n",
       "      <td>188</td>\n",
       "      <td>0.047872</td>\n",
       "    </tr>\n",
       "  </tbody>\n",
       "</table>\n",
       "</div>"
      ],
      "text/plain": [
       "            biotype biotype_category  detected_counts  gencode_counts  \\\n",
       "29            scRNA            other              1.0               1   \n",
       "6           Mt_rRNA            other              2.0               2   \n",
       "1         IG_C_gene            other             14.0              14   \n",
       "9         TR_C_gene            other              6.0               6   \n",
       "7           Mt_tRNA            other             10.0              22   \n",
       "8               TEC            other            457.0            1060   \n",
       "28         ribozyme            other              3.0               8   \n",
       "26             rRNA            other             16.0              58   \n",
       "11  TR_J_pseudogene            other              1.0               4   \n",
       "12        TR_V_gene            other             24.0             106   \n",
       "3         IG_J_gene            other              4.0              18   \n",
       "2   IG_C_pseudogene            other              2.0               9   \n",
       "10        TR_J_gene            other             16.0              79   \n",
       "4         IG_V_gene            other             27.0             144   \n",
       "13  TR_V_pseudogene            other              6.0              33   \n",
       "33            snRNA            other            328.0            1909   \n",
       "19         misc_RNA            other            370.0            2222   \n",
       "34           snoRNA            other            154.0             943   \n",
       "30           scaRNA            other              8.0              49   \n",
       "27  rRNA_pseudogene            other             51.0             500   \n",
       "5   IG_V_pseudogene            other              9.0             188   \n",
       "\n",
       "    prop_detected  \n",
       "29       1.000000  \n",
       "6        1.000000  \n",
       "1        1.000000  \n",
       "9        1.000000  \n",
       "7        0.454545  \n",
       "8        0.431132  \n",
       "28       0.375000  \n",
       "26       0.275862  \n",
       "11       0.250000  \n",
       "12       0.226415  \n",
       "3        0.222222  \n",
       "2        0.222222  \n",
       "10       0.202532  \n",
       "4        0.187500  \n",
       "13       0.181818  \n",
       "33       0.171818  \n",
       "19       0.166517  \n",
       "34       0.163309  \n",
       "30       0.163265  \n",
       "27       0.102000  \n",
       "5        0.047872  "
      ]
     },
     "execution_count": 15,
     "metadata": {},
     "output_type": "execute_result"
    }
   ],
   "source": [
    "temp.loc[temp.biotype_category == 'other']"
   ]
  },
  {
   "cell_type": "markdown",
   "id": "warming-tyler",
   "metadata": {},
   "source": [
    "Psuedogenes"
   ]
  },
  {
   "cell_type": "code",
   "execution_count": 16,
   "id": "bacterial-messaging",
   "metadata": {},
   "outputs": [
    {
     "data": {
      "text/html": [
       "<div>\n",
       "<style scoped>\n",
       "    .dataframe tbody tr th:only-of-type {\n",
       "        vertical-align: middle;\n",
       "    }\n",
       "\n",
       "    .dataframe tbody tr th {\n",
       "        vertical-align: top;\n",
       "    }\n",
       "\n",
       "    .dataframe thead th {\n",
       "        text-align: right;\n",
       "    }\n",
       "</style>\n",
       "<table border=\"1\" class=\"dataframe\">\n",
       "  <thead>\n",
       "    <tr style=\"text-align: right;\">\n",
       "      <th></th>\n",
       "      <th>biotype</th>\n",
       "      <th>biotype_category</th>\n",
       "      <th>detected_counts</th>\n",
       "      <th>gencode_counts</th>\n",
       "      <th>prop_detected</th>\n",
       "    </tr>\n",
       "  </thead>\n",
       "  <tbody>\n",
       "    <tr>\n",
       "      <th>36</th>\n",
       "      <td>transcribed_unitary_pseudogene</td>\n",
       "      <td>pseudogene</td>\n",
       "      <td>96.0</td>\n",
       "      <td>124</td>\n",
       "      <td>0.774194</td>\n",
       "    </tr>\n",
       "    <tr>\n",
       "      <th>37</th>\n",
       "      <td>transcribed_unprocessed_pseudogene</td>\n",
       "      <td>pseudogene</td>\n",
       "      <td>592.0</td>\n",
       "      <td>885</td>\n",
       "      <td>0.668927</td>\n",
       "    </tr>\n",
       "    <tr>\n",
       "      <th>35</th>\n",
       "      <td>transcribed_processed_pseudogene</td>\n",
       "      <td>pseudogene</td>\n",
       "      <td>248.0</td>\n",
       "      <td>481</td>\n",
       "      <td>0.515593</td>\n",
       "    </tr>\n",
       "    <tr>\n",
       "      <th>38</th>\n",
       "      <td>translated_processed_pseudogene</td>\n",
       "      <td>pseudogene</td>\n",
       "      <td>1.0</td>\n",
       "      <td>2</td>\n",
       "      <td>0.500000</td>\n",
       "    </tr>\n",
       "    <tr>\n",
       "      <th>25</th>\n",
       "      <td>pseudogene</td>\n",
       "      <td>pseudogene</td>\n",
       "      <td>10.0</td>\n",
       "      <td>22</td>\n",
       "      <td>0.454545</td>\n",
       "    </tr>\n",
       "    <tr>\n",
       "      <th>21</th>\n",
       "      <td>polymorphic_pseudogene</td>\n",
       "      <td>pseudogene</td>\n",
       "      <td>18.0</td>\n",
       "      <td>41</td>\n",
       "      <td>0.439024</td>\n",
       "    </tr>\n",
       "    <tr>\n",
       "      <th>39</th>\n",
       "      <td>unitary_pseudogene</td>\n",
       "      <td>pseudogene</td>\n",
       "      <td>22.0</td>\n",
       "      <td>95</td>\n",
       "      <td>0.231579</td>\n",
       "    </tr>\n",
       "    <tr>\n",
       "      <th>22</th>\n",
       "      <td>processed_pseudogene</td>\n",
       "      <td>pseudogene</td>\n",
       "      <td>2247.0</td>\n",
       "      <td>10198</td>\n",
       "      <td>0.220337</td>\n",
       "    </tr>\n",
       "    <tr>\n",
       "      <th>40</th>\n",
       "      <td>unprocessed_pseudogene</td>\n",
       "      <td>pseudogene</td>\n",
       "      <td>548.0</td>\n",
       "      <td>2649</td>\n",
       "      <td>0.206871</td>\n",
       "    </tr>\n",
       "  </tbody>\n",
       "</table>\n",
       "</div>"
      ],
      "text/plain": [
       "                               biotype biotype_category  detected_counts  \\\n",
       "36      transcribed_unitary_pseudogene       pseudogene             96.0   \n",
       "37  transcribed_unprocessed_pseudogene       pseudogene            592.0   \n",
       "35    transcribed_processed_pseudogene       pseudogene            248.0   \n",
       "38     translated_processed_pseudogene       pseudogene              1.0   \n",
       "25                          pseudogene       pseudogene             10.0   \n",
       "21              polymorphic_pseudogene       pseudogene             18.0   \n",
       "39                  unitary_pseudogene       pseudogene             22.0   \n",
       "22                processed_pseudogene       pseudogene           2247.0   \n",
       "40              unprocessed_pseudogene       pseudogene            548.0   \n",
       "\n",
       "    gencode_counts  prop_detected  \n",
       "36             124       0.774194  \n",
       "37             885       0.668927  \n",
       "35             481       0.515593  \n",
       "38               2       0.500000  \n",
       "25              22       0.454545  \n",
       "21              41       0.439024  \n",
       "39              95       0.231579  \n",
       "22           10198       0.220337  \n",
       "40            2649       0.206871  "
      ]
     },
     "execution_count": 16,
     "metadata": {},
     "output_type": "execute_result"
    }
   ],
   "source": [
    "temp.loc[temp.biotype_category == 'pseudogene']"
   ]
  },
  {
   "cell_type": "markdown",
   "id": "inappropriate-mills",
   "metadata": {},
   "source": [
    "Differences in lengths of detected vs. non detected genes"
   ]
  },
  {
   "cell_type": "code",
   "execution_count": 8,
   "id": "extensive-accommodation",
   "metadata": {},
   "outputs": [
    {
     "name": "stdout",
     "output_type": "stream",
     "text": [
      "Calculating gene TPM values\n",
      "Subsetting for polyA genes\n",
      "Enforcing minimum TPM\n",
      "Total # genes detected: 39285\n",
      "# genes >= 1 tpm: 33946\n",
      "Subsetting on polya genes\n",
      "Number of genes reported: 32160\n"
     ]
    }
   ],
   "source": [
    "df = pd.read_csv('human_talon_abundance.tsv', sep='\\t')\n",
    "df = get_tpm_table(df,\n",
    "                   how='gene',\n",
    "                   min_tpm=1,\n",
    "                   gene_subset='polya')"
   ]
  },
  {
   "cell_type": "code",
   "execution_count": 9,
   "id": "occasional-spanish",
   "metadata": {},
   "outputs": [],
   "source": [
    "gene_df, _, _ = get_gtf_info(how='gene', subset='polya')"
   ]
  },
  {
   "cell_type": "code",
   "execution_count": 12,
   "id": "short-philadelphia",
   "metadata": {},
   "outputs": [],
   "source": [
    "df.reset_index(inplace=True)\n",
    "df = df['annot_gene_id'].to_frame()\n",
    "\n",
    "df = df.merge(gene_df, how='outer',\n",
    "              left_on='annot_gene_id', right_on='gid')"
   ]
  },
  {
   "cell_type": "code",
   "execution_count": 14,
   "id": "pursuant-witness",
   "metadata": {},
   "outputs": [],
   "source": [
    "df['detected'] = True\n",
    "df.loc[df.annot_gene_id.isnull(), 'detected'] = False"
   ]
  },
  {
   "cell_type": "code",
   "execution_count": 25,
   "id": "obvious-offering",
   "metadata": {},
   "outputs": [
    {
     "data": {
      "image/png": "[encoded data removed]",
      "text/plain": [
       "<Figure size 432x288 with 1 Axes>"
      ]
     },
     "metadata": {
      "needs_background": "light"
     },
     "output_type": "display_data"
    }
   ],
   "source": [
    "opref = 'figures/'\n",
    "\n",
    "sns.set_context('paper', font_scale=2)\n",
    "\n",
    "ax = sns.boxplot(data=df, y='length', x='detected')\n",
    "\n",
    "xlabel = 'Gene detected >= 1 TPM'\n",
    "ylabel = 'Gene length'\n",
    "_ = ax.set(xlabel=xlabel, ylabel=ylabel, ylim=(0,200000))\n",
    "# _ = ax.set(xlabel=xlabel, ylabel=ylabel)\n",
    "ax.spines['right'].set_visible(False)\n",
    "ax.spines['top'].set_visible(False)\n",
    "\n",
    "plt.savefig('{}_gene_det_1_tpm_len.pdf'.format(opref), \\\n",
    "            dpi=300, bbox_inches='tight')"
   ]
  },
  {
   "cell_type": "markdown",
   "id": "liable-discount",
   "metadata": {},
   "source": [
    "GO on polyA genes that are not detected at >= 1 TPM"
   ]
  },
  {
   "cell_type": "code",
   "execution_count": 46,
   "id": "single-hayes",
   "metadata": {},
   "outputs": [
    {
     "data": {
      "text/html": [
       "<div>\n",
       "<style scoped>\n",
       "    .dataframe tbody tr th:only-of-type {\n",
       "        vertical-align: middle;\n",
       "    }\n",
       "\n",
       "    .dataframe tbody tr th {\n",
       "        vertical-align: top;\n",
       "    }\n",
       "\n",
       "    .dataframe thead th {\n",
       "        text-align: right;\n",
       "    }\n",
       "</style>\n",
       "<table border=\"1\" class=\"dataframe\">\n",
       "  <thead>\n",
       "    <tr style=\"text-align: right;\">\n",
       "      <th></th>\n",
       "      <th>Name</th>\n",
       "      <th>Description</th>\n",
       "    </tr>\n",
       "  </thead>\n",
       "  <tbody>\n",
       "    <tr>\n",
       "      <th>196</th>\n",
       "      <td>hsapiens_gene_ensembl</td>\n",
       "      <td>Human genes (GRCh38.p13)</td>\n",
       "    </tr>\n",
       "  </tbody>\n",
       "</table>\n",
       "</div>"
      ],
      "text/plain": [
       "                      Name               Description\n",
       "196  hsapiens_gene_ensembl  Human genes (GRCh38.p13)"
      ]
     },
     "execution_count": 46,
     "metadata": {},
     "output_type": "execute_result"
    }
   ],
   "source": [
    "dbs = ['GO_Biological_Process_2021',\n",
    "       'GO_Cellular_Component_2021',\n",
    "       'GO_Molecular_Function_2021',\n",
    "       'KEGG_2021_Human']\n",
    "bm = gp.parser.Biomart()\n",
    "datasets = bm.get_datasets(mart='ENSEMBL_MART_ENSEMBL')\n",
    "datasets.loc[datasets.Description.str.contains('Human')]"
   ]
  },
  {
   "cell_type": "code",
   "execution_count": 47,
   "id": "bizarre-roman",
   "metadata": {},
   "outputs": [
    {
     "name": "stderr",
     "output_type": "stream",
     "text": [
      "2022-01-05 16:45:46,550 Warning: No enrich terms using library GO_Cellular_Component_2021 when cutoff = 0.5\n"
     ]
    }
   ],
   "source": [
    "gids = df.loc[~df.detected, 'gid'].str.rsplit('.', n=1, expand=True)[0].to_frame()\n",
    "gids = gids.squeeze().str.strip().tolist()\n",
    "gids = bm.query(dataset='hsapiens_gene_ensembl',\n",
    "           attributes=['ensembl_gene_id', 'external_gene_name'],\n",
    "           filters={'ensembl_gene_id': gids})\n",
    "gids = gids.loc[~gids.external_gene_name.isna()]\n",
    "gnames = gids.external_gene_name.squeeze().str.strip().tolist()\n",
    "go = gp.enrichr(gene_list=gnames,\n",
    "                gene_sets=dbs,\n",
    "                organism='Human',\n",
    "                description='undet_genes',\n",
    "                outdir='undet_genes_GO',\n",
    "                cutoff=0.5)"
   ]
  },
  {
   "cell_type": "code",
   "execution_count": 49,
   "id": "positive-ceremony",
   "metadata": {},
   "outputs": [],
   "source": [
    "# names = gp.get_library_name('Human')\n",
    "# names\n"
   ]
  },
  {
   "cell_type": "code",
   "execution_count": null,
   "id": "becoming-parliament",
   "metadata": {},
   "outputs": [],
   "source": []
  }
 ],
 "metadata": {
  "kernelspec": {
   "display_name": "Python 3",
   "language": "python",
   "name": "python3"
  },
  "language_info": {
   "codemirror_mode": {
    "name": "ipython",
    "version": 3
   },
   "file_extension": ".py",
   "mimetype": "text/x-python",
   "name": "python",
   "nbconvert_exporter": "python",
   "pygments_lexer": "ipython3",
   "version": "3.7.4"
  }
 },
 "nbformat": 4,
 "nbformat_minor": 5
}
