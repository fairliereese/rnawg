{
 "cells": [
  {
   "cell_type": "code",
   "execution_count": 19,
   "id": "bbacd835-8c6e-4b5e-bb71-ebfba416456f",
   "metadata": {},
   "outputs": [],
   "source": [
    "import pandas as pd\n",
    "import numpy as np\n",
    "import scipy.stats as st\n",
    "import seaborn as sns\n",
    "import sys\n",
    "import os\n",
    "import gseapy as gp\n",
    "import swan_vis as swan \n",
    "from scipy import sparse\n",
    "import sqlite3\n",
    "\n",
    "p = os.path.dirname(os.path.dirname(os.getcwd()))\n",
    "sys.path.append(p)\n",
    "\n",
    "from scripts.utils import *\n",
    "from scripts.plotting import *"
   ]
  },
  {
   "cell_type": "markdown",
   "id": "f652de6f-5d60-4048-955a-1f208fd68e22",
   "metadata": {},
   "source": [
    "## Create a GTF with all polya, complete, detected transcripts AND all known transcripts"
   ]
  },
  {
   "cell_type": "code",
   "execution_count": 20,
   "id": "25e12a67-bdba-4103-a432-5670740546e7",
   "metadata": {},
   "outputs": [
    {
     "name": "stdout",
     "output_type": "stream",
     "text": [
      "Calculating iso TPM values\n",
      "Subsetting for novelty categories ['Known', 'NIC', 'NNC']\n",
      "Subsetting for polya genes\n"
     ]
    },
    {
     "name": "stderr",
     "output_type": "stream",
     "text": [
      "/Users/fairliereese/Documents/programming/mortazavi_lab/data/rnawg/scripts/utils.py:1099: PerformanceWarning: DataFrame is highly fragmented.  This is usually the result of calling `frame.insert` many times, which has poor performance.  Consider joining all columns at once using pd.concat(axis=1) instead.  To get a de-fragmented frame, use `newframe = frame.copy()`\n",
      "  df[tpm_col] = (df[d]*1000000)/df[total_col]\n",
      "/Users/fairliereese/Documents/programming/mortazavi_lab/data/rnawg/scripts/utils.py:1098: PerformanceWarning: DataFrame is highly fragmented.  This is usually the result of calling `frame.insert` many times, which has poor performance.  Consider joining all columns at once using pd.concat(axis=1) instead.  To get a de-fragmented frame, use `newframe = frame.copy()`\n",
      "  df[total_col] = df[d].sum()\n"
     ]
    },
    {
     "name": "stdout",
     "output_type": "stream",
     "text": [
      "Enforcing minimum TPM\n",
      "Total # isos detected: 194503\n",
      "# isos >= 1 tpm: 175394\n",
      "Applying gene type and novelty subset\n",
      "Number of isos reported: 111071\n",
      "35682\n"
     ]
    }
   ],
   "source": [
    "df = pd.read_csv('human_talon_abundance_filtered.tsv', sep='\\t')\n",
    "_, inds = get_tpm_table(df, \n",
    "                        how='iso', \n",
    "                        sample='all', \n",
    "                        min_tpm=1,\n",
    "                        gene_subset='polya',\n",
    "                        nov=['Known', 'NIC', 'NNC'])\n",
    "df = df.loc[df.annot_transcript_id.isin(inds)]\n",
    "print(len(df.loc[df.transcript_novelty != 'Known'].index))\n",
    "df = df[['gene_ID', 'transcript_ID']]"
   ]
  },
  {
   "cell_type": "code",
   "execution_count": 21,
   "id": "6bf2e89f-1a79-4558-8a3e-c864281e3571",
   "metadata": {},
   "outputs": [],
   "source": [
    "df.to_csv('human_known_nic_nnc_detected_talon_pass_list.csv', header=None, index=False)"
   ]
  },
  {
   "cell_type": "code",
   "execution_count": 11,
   "id": "72f0e11f-2b26-4f79-a53d-28803aa0c3bd",
   "metadata": {},
   "outputs": [],
   "source": [
    "db = 'human.db'\n",
    "with sqlite3.connect(db) as conn:\n",
    "    query = \"\"\"SELECT DISTINCT t.gene_ID, t.transcript_ID\n",
    "                    FROM transcripts as t\n",
    "                    LEFT JOIN transcript_annotations as ta\n",
    "                        ON ta.ID = t.transcript_ID\n",
    "                    WHERE (ta.attribute = 'transcript_status'\n",
    "                        AND ta.value = 'KNOWN')\n",
    "            \"\"\"\n",
    "    annot = pd.read_sql_query(query, conn)\n",
    "\n",
    "df = pd.concat([df, annot])\n",
    "df.drop_duplicates(inplace=True)"
   ]
  },
  {
   "cell_type": "code",
   "execution_count": 12,
   "id": "c12f7c3f-5676-4330-9c2b-d2335dec4f7d",
   "metadata": {},
   "outputs": [],
   "source": [
    "df.to_csv('human_complete_pass_list.csv', header=None, index=False)"
   ]
  },
  {
   "cell_type": "code",
   "execution_count": 13,
   "id": "8a8d6f6b-ab0a-4eaa-a7e2-002793d5ed5f",
   "metadata": {},
   "outputs": [
    {
     "name": "stdout",
     "output_type": "stream",
     "text": [
      "Traceback (most recent call last):\n",
      "  File \"/Users/fairliereese/miniconda3/bin/talon_create_GTF\", line 33, in <module>\n",
      "    sys.exit(load_entry_point('talon', 'console_scripts', 'talon_create_GTF')())\n",
      "  File \"/Users/fairliereese/Documents/programming/mortazavi_lab/bin/TALON/src/talon/post/create_GTF_from_database.py\", line 617, in main\n",
      "    check_annot_validity(annot, database)\n",
      "  File \"/Users/fairliereese/Documents/programming/mortazavi_lab/bin/TALON/src/talon/post/create_GTF_from_database.py\", line 562, in check_annot_validity\n",
      "    cursor.execute(\"SELECT DISTINCT annot_name FROM gene_annotations\")\n",
      "sqlite3.OperationalError: no such table: gene_annotations\n"
     ]
    }
   ],
   "source": []
  },
  {
   "cell_type": "code",
   "execution_count": null,
   "id": "bf5adcd4-9b1e-4975-9cd4-e914b7c01f8f",
   "metadata": {},
   "outputs": [],
   "source": []
  }
 ],
 "metadata": {
  "kernelspec": {
   "display_name": "Python 3",
   "language": "python",
   "name": "python3"
  },
  "language_info": {
   "codemirror_mode": {
    "name": "ipython",
    "version": 3
   },
   "file_extension": ".py",
   "mimetype": "text/x-python",
   "name": "python",
   "nbconvert_exporter": "python",
   "pygments_lexer": "ipython3",
   "version": "3.7.4"
  }
 },
 "nbformat": 4,
 "nbformat_minor": 5
}
