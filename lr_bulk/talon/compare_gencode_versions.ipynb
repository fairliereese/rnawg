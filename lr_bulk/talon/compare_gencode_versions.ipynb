{
 "cells": [
  {
   "cell_type": "code",
   "execution_count": 36,
   "id": "6e146929-84bd-47ac-b816-f51ef3bf2d4c",
   "metadata": {},
   "outputs": [],
   "source": [
    "import pandas as pd\n",
    "import pyranges as pr"
   ]
  },
  {
   "cell_type": "code",
   "execution_count": 37,
   "id": "d199639b-7d96-4470-8c75-66ff31eb0df2",
   "metadata": {},
   "outputs": [],
   "source": [
    "# fname = '/Users/fairliereese/mortazavi_lab/ref/gencode.v39/gencode.v39.annotation.gtf'\n",
    "# v39 = pr.read_gtf(fname, duplicate_attr=True)"
   ]
  },
  {
   "cell_type": "code",
   "execution_count": 38,
   "id": "b1db1335-7be2-4661-ba63-dcc6b264bf80",
   "metadata": {},
   "outputs": [],
   "source": [
    "# v39.head()"
   ]
  },
  {
   "cell_type": "code",
   "execution_count": 40,
   "id": "775726d6-576c-42ea-9d7f-a7687fb13970",
   "metadata": {},
   "outputs": [],
   "source": [
    "def get_ic(gtf_pr):\n",
    "    \"\"\"\n",
    "    Get a hyphen-separated representation of each transcript's intron chain\n",
    "    from a PyRanges GTF\n",
    "\n",
    "    Parameters:\n",
    "        gtf_pr (pyranges PyRanges): GTF PyRanges object\n",
    "\n",
    "    Returns:\n",
    "        df (pandas DataFrame): DataFrame detailing intron chain, gene, strand,\n",
    "            chromosome, and transcript that intron chain was seen in\n",
    "    \"\"\"\n",
    "    df = gtf_pr.df.copy(deep=True)\n",
    "\n",
    "    # restrict to exon entries\n",
    "    df = df.loc[df.Feature == 'exon']\n",
    "    cols = ['Chromosome', 'Strand', 'Start', 'End', 'transcript_id', 'gene_id']\n",
    "    df = df[cols]\n",
    "\n",
    "    # melt to isolate individual coordinates\n",
    "    df = pd.melt(df, id_vars=['Chromosome', 'Strand', 'transcript_id', 'gene_id'],\n",
    "                value_vars=['Start', 'End'],\n",
    "                value_name='Coord')\n",
    "    df.drop('variable', axis=1, inplace=True)\n",
    "\n",
    "    # sort to order coordinates correctly\n",
    "    df.Coord = df.Coord.astype(int)\n",
    "    fwd = df.loc[df.Strand == '+'].copy(deep=True)\n",
    "    rev = df.loc[df.Strand == '-'].copy(deep=True)\n",
    "\n",
    "    fwd.sort_values(by=['Chromosome', 'transcript_id', 'Coord'],\n",
    "                    ascending=[True, True, True], inplace=True)\n",
    "    rev.sort_values(by=['Chromosome', 'transcript_id', 'Coord'],\n",
    "                    ascending=[True, True, False], inplace=True)\n",
    "    df = pd.concat([fwd, rev])\n",
    "\n",
    "    # create intron chain strings\n",
    "    df.Coord = df.Coord.astype(str)\n",
    "    df = df.groupby(['Chromosome', 'Strand',\n",
    "                     'transcript_id', 'gene_id'], observed=True)['Coord'].apply('-'.join).reset_index()\n",
    "\n",
    "    # remove tss and tes from intron chain\n",
    "    df['temp'] = df.Coord.str.split('-', n=1, expand=True)[1]\n",
    "    df['ic'] = df.temp.str.rsplit('-', n=1, expand=True)[0]\n",
    "\n",
    "    return df"
   ]
  },
  {
   "cell_type": "code",
   "execution_count": 65,
   "id": "d938b4a6-51e9-486a-a3e2-214ab8110b73",
   "metadata": {},
   "outputs": [],
   "source": [
    "# TALON transcripts\n",
    "fname = '/Users/fairliereese/mortazavi_lab/data/rnawg/lr_bulk/talon/human_known_nic_nnc_talon.gtf'\n",
    "talon = pr.read_gtf(fname, duplicate_attr=True)\n",
    "\n",
    "nov_df = get_ic(talon)\n",
    "\n",
    "# limit to just NIC and NNC transcripts\n",
    "talon = talon.df\n",
    "nov_tids = talon.loc[(talon.NNC_transcript=='TRUE')|(talon.NNC_transcript=='TRUE')].transcript_id.tolist()\n",
    "nov_df = nov_df.loc[nov_df.transcript_id.isin(nov_tids)]"
   ]
  },
  {
   "cell_type": "code",
   "execution_count": 67,
   "id": "4732c95d-892d-41af-a8cd-10a8b5cfd1c8",
   "metadata": {},
   "outputs": [],
   "source": [
    "# GENCODE transcripts \n",
    "fname = '/Users/fairliereese/mortazavi_lab/ref/gencode.v39/gencode.v39.annotation.gtf'\n",
    "genc = pr.read_gtf(fname)\n",
    "genc_df = get_ic(genc)"
   ]
  },
  {
   "cell_type": "code",
   "execution_count": 68,
   "id": "3d1f6062-cdc8-4865-a5de-c56bb8781a8a",
   "metadata": {},
   "outputs": [
    {
     "data": {
      "text/html": [
       "<div>\n",
       "<style scoped>\n",
       "    .dataframe tbody tr th:only-of-type {\n",
       "        vertical-align: middle;\n",
       "    }\n",
       "\n",
       "    .dataframe tbody tr th {\n",
       "        vertical-align: top;\n",
       "    }\n",
       "\n",
       "    .dataframe thead th {\n",
       "        text-align: right;\n",
       "    }\n",
       "</style>\n",
       "<table border=\"1\" class=\"dataframe\">\n",
       "  <thead>\n",
       "    <tr style=\"text-align: right;\">\n",
       "      <th></th>\n",
       "      <th>Chromosome</th>\n",
       "      <th>Strand</th>\n",
       "      <th>transcript_id</th>\n",
       "      <th>gene_id</th>\n",
       "      <th>Coord</th>\n",
       "      <th>temp</th>\n",
       "      <th>ic</th>\n",
       "    </tr>\n",
       "  </thead>\n",
       "  <tbody>\n",
       "    <tr>\n",
       "      <th>0</th>\n",
       "      <td>SIRV1</td>\n",
       "      <td>+</td>\n",
       "      <td>ENCODEHT000206942</td>\n",
       "      <td>ENCODEHG000058846</td>\n",
       "      <td>10647-10791-10882-11057-11434-11606</td>\n",
       "      <td>10791-10882-11057-11434-11606</td>\n",
       "      <td>10791-10882-11057-11434</td>\n",
       "    </tr>\n",
       "    <tr>\n",
       "      <th>1</th>\n",
       "      <td>SIRV1</td>\n",
       "      <td>-</td>\n",
       "      <td>ENCODEHT000206867</td>\n",
       "      <td>ENCODEHG000058837</td>\n",
       "      <td>10790-10647-10366-10282-7814-7552-6813-6560-64...</td>\n",
       "      <td>10647-10366-10282-7814-7552-6813-6560-6473-633...</td>\n",
       "      <td>10647-10366-10282-7814-7552-6813-6560-6473-633...</td>\n",
       "    </tr>\n",
       "    <tr>\n",
       "      <th>2</th>\n",
       "      <td>SIRV1</td>\n",
       "      <td>-</td>\n",
       "      <td>ENCODEHT000206868</td>\n",
       "      <td>ENCODEHG000058837</td>\n",
       "      <td>10790-10444-10366-10282-7814-7552-6813-6560-64...</td>\n",
       "      <td>10444-10366-10282-7814-7552-6813-6560-6473-633...</td>\n",
       "      <td>10444-10366-10282-7814-7552-6813-6560-6473-633...</td>\n",
       "    </tr>\n",
       "    <tr>\n",
       "      <th>3</th>\n",
       "      <td>SIRV1</td>\n",
       "      <td>-</td>\n",
       "      <td>ENCODEHT000206870</td>\n",
       "      <td>ENCODEHG000058837</td>\n",
       "      <td>10790-10553-7808-7552-1484-999</td>\n",
       "      <td>10553-7808-7552-1484-999</td>\n",
       "      <td>10553-7808-7552-1484</td>\n",
       "    </tr>\n",
       "    <tr>\n",
       "      <th>5</th>\n",
       "      <td>SIRV3</td>\n",
       "      <td>+</td>\n",
       "      <td>ENCODEHT000206896</td>\n",
       "      <td>ENCODEHG000058844</td>\n",
       "      <td>1980-2005-4568-4779-6057-7988-8127-8207-8755-8937</td>\n",
       "      <td>2005-4568-4779-6057-7988-8127-8207-8755-8937</td>\n",
       "      <td>2005-4568-4779-6057-7988-8127-8207-8755</td>\n",
       "    </tr>\n",
       "  </tbody>\n",
       "</table>\n",
       "</div>"
      ],
      "text/plain": [
       "  Chromosome Strand      transcript_id            gene_id  \\\n",
       "0      SIRV1      +  ENCODEHT000206942  ENCODEHG000058846   \n",
       "1      SIRV1      -  ENCODEHT000206867  ENCODEHG000058837   \n",
       "2      SIRV1      -  ENCODEHT000206868  ENCODEHG000058837   \n",
       "3      SIRV1      -  ENCODEHT000206870  ENCODEHG000058837   \n",
       "5      SIRV3      +  ENCODEHT000206896  ENCODEHG000058844   \n",
       "\n",
       "                                               Coord  \\\n",
       "0                10647-10791-10882-11057-11434-11606   \n",
       "1  10790-10647-10366-10282-7814-7552-6813-6560-64...   \n",
       "2  10790-10444-10366-10282-7814-7552-6813-6560-64...   \n",
       "3                     10790-10553-7808-7552-1484-999   \n",
       "5  1980-2005-4568-4779-6057-7988-8127-8207-8755-8937   \n",
       "\n",
       "                                                temp  \\\n",
       "0                      10791-10882-11057-11434-11606   \n",
       "1  10647-10366-10282-7814-7552-6813-6560-6473-633...   \n",
       "2  10444-10366-10282-7814-7552-6813-6560-6473-633...   \n",
       "3                           10553-7808-7552-1484-999   \n",
       "5       2005-4568-4779-6057-7988-8127-8207-8755-8937   \n",
       "\n",
       "                                                  ic  \n",
       "0                            10791-10882-11057-11434  \n",
       "1  10647-10366-10282-7814-7552-6813-6560-6473-633...  \n",
       "2  10444-10366-10282-7814-7552-6813-6560-6473-633...  \n",
       "3                               10553-7808-7552-1484  \n",
       "5            2005-4568-4779-6057-7988-8127-8207-8755  "
      ]
     },
     "execution_count": 68,
     "metadata": {},
     "output_type": "execute_result"
    }
   ],
   "source": [
    "nov_df.head()"
   ]
  },
  {
   "cell_type": "code",
   "execution_count": 69,
   "id": "9fea17bf-5d34-4869-8def-fa481a5d6ab7",
   "metadata": {},
   "outputs": [
    {
     "data": {
      "text/html": [
       "<div>\n",
       "<style scoped>\n",
       "    .dataframe tbody tr th:only-of-type {\n",
       "        vertical-align: middle;\n",
       "    }\n",
       "\n",
       "    .dataframe tbody tr th {\n",
       "        vertical-align: top;\n",
       "    }\n",
       "\n",
       "    .dataframe thead th {\n",
       "        text-align: right;\n",
       "    }\n",
       "</style>\n",
       "<table border=\"1\" class=\"dataframe\">\n",
       "  <thead>\n",
       "    <tr style=\"text-align: right;\">\n",
       "      <th></th>\n",
       "      <th>Chromosome</th>\n",
       "      <th>Strand</th>\n",
       "      <th>transcript_id</th>\n",
       "      <th>gene_id</th>\n",
       "      <th>Coord</th>\n",
       "      <th>temp</th>\n",
       "      <th>ic</th>\n",
       "    </tr>\n",
       "  </thead>\n",
       "  <tbody>\n",
       "    <tr>\n",
       "      <th>0</th>\n",
       "      <td>chr1</td>\n",
       "      <td>+</td>\n",
       "      <td>ENST00000003912.7</td>\n",
       "      <td>ENSG00000001461.17</td>\n",
       "      <td>24415802-24415904-24419290-24419640-24433103-2...</td>\n",
       "      <td>24415904-24419290-24419640-24433103-24433213-2...</td>\n",
       "      <td>24415904-24419290-24419640-24433103-24433213-2...</td>\n",
       "    </tr>\n",
       "    <tr>\n",
       "      <th>1</th>\n",
       "      <td>chr1</td>\n",
       "      <td>+</td>\n",
       "      <td>ENST00000008440.9</td>\n",
       "      <td>ENSG00000010072.16</td>\n",
       "      <td>231338255-231338604-231339768-231339868-231351...</td>\n",
       "      <td>231338604-231339768-231339868-231351303-231352521</td>\n",
       "      <td>231338604-231339768-231339868-231351303</td>\n",
       "    </tr>\n",
       "    <tr>\n",
       "      <th>2</th>\n",
       "      <td>chr1</td>\n",
       "      <td>+</td>\n",
       "      <td>ENST00000009105.5</td>\n",
       "      <td>ENSG00000008118.10</td>\n",
       "      <td>209583716-209583932-209594954-209595075-209599...</td>\n",
       "      <td>209583932-209594954-209595075-209599982-209600...</td>\n",
       "      <td>209583932-209594954-209595075-209599982-209600...</td>\n",
       "    </tr>\n",
       "    <tr>\n",
       "      <th>3</th>\n",
       "      <td>chr1</td>\n",
       "      <td>+</td>\n",
       "      <td>ENST00000010299.10</td>\n",
       "      <td>ENSG00000009780.16</td>\n",
       "      <td>27726056-27726161-27727471-27727536-27730231-2...</td>\n",
       "      <td>27726161-27727471-27727536-27730231-27730333-2...</td>\n",
       "      <td>27726161-27727471-27727536-27730231-27730333-2...</td>\n",
       "    </tr>\n",
       "    <tr>\n",
       "      <th>4</th>\n",
       "      <td>chr1</td>\n",
       "      <td>+</td>\n",
       "      <td>ENST00000011700.10</td>\n",
       "      <td>ENSG00000048707.15</td>\n",
       "      <td>12277120-12278038-12279498-12279650-12282704-1...</td>\n",
       "      <td>12278038-12279498-12279650-12282704-12283736-1...</td>\n",
       "      <td>12278038-12279498-12279650-12282704-12283736-1...</td>\n",
       "    </tr>\n",
       "  </tbody>\n",
       "</table>\n",
       "</div>"
      ],
      "text/plain": [
       "  Chromosome Strand       transcript_id             gene_id  \\\n",
       "0       chr1      +   ENST00000003912.7  ENSG00000001461.17   \n",
       "1       chr1      +   ENST00000008440.9  ENSG00000010072.16   \n",
       "2       chr1      +   ENST00000009105.5  ENSG00000008118.10   \n",
       "3       chr1      +  ENST00000010299.10  ENSG00000009780.16   \n",
       "4       chr1      +  ENST00000011700.10  ENSG00000048707.15   \n",
       "\n",
       "                                               Coord  \\\n",
       "0  24415802-24415904-24419290-24419640-24433103-2...   \n",
       "1  231338255-231338604-231339768-231339868-231351...   \n",
       "2  209583716-209583932-209594954-209595075-209599...   \n",
       "3  27726056-27726161-27727471-27727536-27730231-2...   \n",
       "4  12277120-12278038-12279498-12279650-12282704-1...   \n",
       "\n",
       "                                                temp  \\\n",
       "0  24415904-24419290-24419640-24433103-24433213-2...   \n",
       "1  231338604-231339768-231339868-231351303-231352521   \n",
       "2  209583932-209594954-209595075-209599982-209600...   \n",
       "3  27726161-27727471-27727536-27730231-27730333-2...   \n",
       "4  12278038-12279498-12279650-12282704-12283736-1...   \n",
       "\n",
       "                                                  ic  \n",
       "0  24415904-24419290-24419640-24433103-24433213-2...  \n",
       "1            231338604-231339768-231339868-231351303  \n",
       "2  209583932-209594954-209595075-209599982-209600...  \n",
       "3  27726161-27727471-27727536-27730231-27730333-2...  \n",
       "4  12278038-12279498-12279650-12282704-12283736-1...  "
      ]
     },
     "execution_count": 69,
     "metadata": {},
     "output_type": "execute_result"
    }
   ],
   "source": [
    "genc_df.head()"
   ]
  },
  {
   "cell_type": "code",
   "execution_count": 70,
   "id": "ba62e2bf-01da-4752-b936-46fcecf88120",
   "metadata": {},
   "outputs": [],
   "source": [
    "# which intron chains from the novel data exist in the new gencode annotation?\n",
    "nov_df.drop(['temp', 'Coord'], axis=1, inplace=True)\n",
    "genc_df.drop(['temp', 'Coord'], axis=1, inplace=True)\n",
    "\n",
    "nov_df = nov_df.merge(genc_df, how='left', on=['Chromosome', 'Strand', 'ic'], suffixes=('_talon', '_genc'))"
   ]
  },
  {
   "cell_type": "code",
   "execution_count": 71,
   "id": "5cb44080-6565-4e53-a0fe-2c67bbd6fc16",
   "metadata": {},
   "outputs": [
    {
     "data": {
      "text/html": [
       "<div>\n",
       "<style scoped>\n",
       "    .dataframe tbody tr th:only-of-type {\n",
       "        vertical-align: middle;\n",
       "    }\n",
       "\n",
       "    .dataframe tbody tr th {\n",
       "        vertical-align: top;\n",
       "    }\n",
       "\n",
       "    .dataframe thead th {\n",
       "        text-align: right;\n",
       "    }\n",
       "</style>\n",
       "<table border=\"1\" class=\"dataframe\">\n",
       "  <thead>\n",
       "    <tr style=\"text-align: right;\">\n",
       "      <th></th>\n",
       "      <th>Chromosome</th>\n",
       "      <th>Strand</th>\n",
       "      <th>transcript_id_talon</th>\n",
       "      <th>gene_id_talon</th>\n",
       "      <th>ic</th>\n",
       "      <th>transcript_id_genc</th>\n",
       "      <th>gene_id_genc</th>\n",
       "    </tr>\n",
       "  </thead>\n",
       "  <tbody>\n",
       "    <tr>\n",
       "      <th>0</th>\n",
       "      <td>SIRV1</td>\n",
       "      <td>+</td>\n",
       "      <td>ENCODEHT000206942</td>\n",
       "      <td>ENCODEHG000058846</td>\n",
       "      <td>10791-10882-11057-11434</td>\n",
       "      <td>NaN</td>\n",
       "      <td>NaN</td>\n",
       "    </tr>\n",
       "    <tr>\n",
       "      <th>1</th>\n",
       "      <td>SIRV1</td>\n",
       "      <td>-</td>\n",
       "      <td>ENCODEHT000206867</td>\n",
       "      <td>ENCODEHG000058837</td>\n",
       "      <td>10647-10366-10282-7814-7552-6813-6560-6473-633...</td>\n",
       "      <td>NaN</td>\n",
       "      <td>NaN</td>\n",
       "    </tr>\n",
       "    <tr>\n",
       "      <th>2</th>\n",
       "      <td>SIRV1</td>\n",
       "      <td>-</td>\n",
       "      <td>ENCODEHT000206868</td>\n",
       "      <td>ENCODEHG000058837</td>\n",
       "      <td>10444-10366-10282-7814-7552-6813-6560-6473-633...</td>\n",
       "      <td>NaN</td>\n",
       "      <td>NaN</td>\n",
       "    </tr>\n",
       "    <tr>\n",
       "      <th>3</th>\n",
       "      <td>SIRV1</td>\n",
       "      <td>-</td>\n",
       "      <td>ENCODEHT000206870</td>\n",
       "      <td>ENCODEHG000058837</td>\n",
       "      <td>10553-7808-7552-1484</td>\n",
       "      <td>NaN</td>\n",
       "      <td>NaN</td>\n",
       "    </tr>\n",
       "    <tr>\n",
       "      <th>4</th>\n",
       "      <td>SIRV3</td>\n",
       "      <td>+</td>\n",
       "      <td>ENCODEHT000206896</td>\n",
       "      <td>ENCODEHG000058844</td>\n",
       "      <td>2005-4568-4779-6057-7988-8127-8207-8755</td>\n",
       "      <td>NaN</td>\n",
       "      <td>NaN</td>\n",
       "    </tr>\n",
       "  </tbody>\n",
       "</table>\n",
       "</div>"
      ],
      "text/plain": [
       "  Chromosome Strand transcript_id_talon      gene_id_talon  \\\n",
       "0      SIRV1      +   ENCODEHT000206942  ENCODEHG000058846   \n",
       "1      SIRV1      -   ENCODEHT000206867  ENCODEHG000058837   \n",
       "2      SIRV1      -   ENCODEHT000206868  ENCODEHG000058837   \n",
       "3      SIRV1      -   ENCODEHT000206870  ENCODEHG000058837   \n",
       "4      SIRV3      +   ENCODEHT000206896  ENCODEHG000058844   \n",
       "\n",
       "                                                  ic transcript_id_genc  \\\n",
       "0                            10791-10882-11057-11434                NaN   \n",
       "1  10647-10366-10282-7814-7552-6813-6560-6473-633...                NaN   \n",
       "2  10444-10366-10282-7814-7552-6813-6560-6473-633...                NaN   \n",
       "3                               10553-7808-7552-1484                NaN   \n",
       "4            2005-4568-4779-6057-7988-8127-8207-8755                NaN   \n",
       "\n",
       "  gene_id_genc  \n",
       "0          NaN  \n",
       "1          NaN  \n",
       "2          NaN  \n",
       "3          NaN  \n",
       "4          NaN  "
      ]
     },
     "execution_count": 71,
     "metadata": {},
     "output_type": "execute_result"
    }
   ],
   "source": [
    "nov_df.head()"
   ]
  },
  {
   "cell_type": "code",
   "execution_count": 77,
   "id": "7ae5c49a-4cc9-411f-a9b5-9b4d76cca75a",
   "metadata": {},
   "outputs": [
    {
     "name": "stdout",
     "output_type": "stream",
     "text": [
      "Found 389 novel transcripts w/ their intron chains supported by v39\n"
     ]
    }
   ],
   "source": [
    "temp = nov_df.loc[~nov_df.transcript_id_genc.isnull()]\n",
    "n = len(temp.index)\n",
    "supp_tids = temp.transcript_id_genc.str.split('.', n=1, expand=True)[0].tolist()\n",
    "print('Found {} novel transcripts w/ their intron chains supported by v39'.format(n))"
   ]
  },
  {
   "cell_type": "code",
   "execution_count": 78,
   "id": "ae99264f-d578-4e80-8511-6629f9762433",
   "metadata": {},
   "outputs": [
    {
     "name": "stdout",
     "output_type": "stream",
     "text": [
      "8285 novel transcripts (w/o sirv / ercc) total\n"
     ]
    }
   ],
   "source": [
    "n = len(nov_df.loc[~(nov_df.Chromosome.str.contains('SIRV'))&~(nov_df.Chromosome.str.contains('ERCC'))].index)\n",
    "print('{} novel transcripts (w/o sirv / ercc) total'.format(n))"
   ]
  },
  {
   "cell_type": "code",
   "execution_count": 79,
   "id": "30979b10-4888-46e3-8699-2a0017019380",
   "metadata": {},
   "outputs": [],
   "source": [
    "# were these transcripts designated at novel because these transcripts just didn't exist in prior versions of the annotation?\n",
    "fname = '/Users/fairliereese/mortazavi_lab/data/rnawg/refs/gencode_v29_sirv4_ercc.gtf'\n",
    "v29 = pr.read_gtf(fname)"
   ]
  },
  {
   "cell_type": "code",
   "execution_count": 80,
   "id": "5997ef88-b487-4241-b1f1-f1b099938130",
   "metadata": {},
   "outputs": [],
   "source": [
    "fname = '/Users/fairliereese/mortazavi_lab/ref/gencode.v39/gencode.v39.annotation.gtf'\n",
    "v39 = pr.read_gtf(fname)"
   ]
  },
  {
   "cell_type": "code",
   "execution_count": 81,
   "id": "ecadab33-fb6a-4050-bdd3-011a5d44928a",
   "metadata": {},
   "outputs": [
    {
     "data": {
      "text/plain": [
       "['ENST00000394517',\n",
       " 'ENST00000685968',\n",
       " 'ENST00000690421',\n",
       " 'ENST00000677378',\n",
       " 'ENST00000678689']"
      ]
     },
     "execution_count": 81,
     "metadata": {},
     "output_type": "execute_result"
    }
   ],
   "source": [
    "supp_tids[:5]"
   ]
  },
  {
   "cell_type": "code",
   "execution_count": 83,
   "id": "54241fc1-2003-4603-af72-9a8ec12b7ccc",
   "metadata": {},
   "outputs": [],
   "source": [
    "v29 = v29.df\n",
    "v29['tid_stable'] = v29.transcript_id.str.split('.', n=1, expand=True)[0]"
   ]
  },
  {
   "cell_type": "code",
   "execution_count": 85,
   "id": "0228386c-ee58-42f7-af7f-12a91ba9aff6",
   "metadata": {},
   "outputs": [
    {
     "name": "stdout",
     "output_type": "stream",
     "text": [
      "59 transcripts whose intron chains are supported in v39 also are annotated in v29\n"
     ]
    }
   ],
   "source": [
    "temp = v29.loc[v29.tid_stable.isin(supp_tids)]\n",
    "temp = temp.loc[temp.Feature == 'transcript']\n",
    "n = len(temp.index)\n",
    "print('{} transcripts whose intron chains are supported in v39 also are annotated in v29'.format(n))"
   ]
  },
  {
   "cell_type": "code",
   "execution_count": null,
   "id": "cbc052ba-7b20-438f-9b3f-6f2c29948fbd",
   "metadata": {},
   "outputs": [],
   "source": []
  }
 ],
 "metadata": {
  "kernelspec": {
   "display_name": "Python 3",
   "language": "python",
   "name": "python3"
  },
  "language_info": {
   "codemirror_mode": {
    "name": "ipython",
    "version": 3
   },
   "file_extension": ".py",
   "mimetype": "text/x-python",
   "name": "python",
   "nbconvert_exporter": "python",
   "pygments_lexer": "ipython3",
   "version": "3.7.4"
  }
 },
 "nbformat": 4,
 "nbformat_minor": 5
}
