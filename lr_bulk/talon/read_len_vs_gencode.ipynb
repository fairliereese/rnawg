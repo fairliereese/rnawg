{
 "cells": [
  {
   "cell_type": "code",
   "execution_count": 2,
   "id": "1758048b-4e1a-434a-813f-c8306887602b",
   "metadata": {},
   "outputs": [],
   "source": [
    "import pandas as pd\n",
    "import numpy as np\n",
    "import scipy.stats as st\n",
    "import seaborn as sns\n",
    "import sys\n",
    "import matplotlib as mpl\n",
    "import os\n",
    "import gseapy as gp\n",
    "import pdb\n",
    "import copy\n",
    "from scipy import sparse\n",
    "import anndata\n",
    "import cerberus\n",
    "\n",
    "\n",
    "p = os.path.dirname(os.path.dirname(os.getcwd()))\n",
    "sys.path.append(p)\n",
    "\n",
    "from scripts.utils import *\n",
    "from scripts.plotting import *"
   ]
  },
  {
   "cell_type": "markdown",
   "id": "a596aed6-be17-4bc6-a139-285ef4e9fa88",
   "metadata": {},
   "source": [
    "## What % of GENCODE v40 transcripts are <5 kb?"
   ]
  },
  {
   "cell_type": "code",
   "execution_count": 3,
   "id": "4889e59a-a570-4b74-b712-66f124e303be",
   "metadata": {},
   "outputs": [],
   "source": [
    "t_df, _, _ = get_gtf_info('iso',\n",
    "                          ver='v40_cerberus',\n",
    "                          subset='polya')\n",
    "t_df = t_df[['t_len']]\n",
    "t_df.rename({'t_len':'length'}, axis=1, inplace=True)\n",
    "t_df['source'] = 'GENCODE v40 transcripts'"
   ]
  },
  {
   "cell_type": "code",
   "execution_count": 35,
   "id": "77272832-5082-44cf-ad6d-c708ab171d40",
   "metadata": {},
   "outputs": [
    {
     "name": "stdout",
     "output_type": "stream",
     "text": [
      "97.62% of GENCODE transcripts (229951/235562) are <7000bp long\n"
     ]
    }
   ],
   "source": [
    "len_thresh = 7000\n",
    "n_below = len(t_df.loc[t_df['length'] <= len_thresh].index)\n",
    "n = len(t_df.index)\n",
    "print('{:.2f}% of GENCODE transcripts ({}/{}) are <{}bp long'.format((n_below/n)*100,n_below,n,len_thresh))"
   ]
  },
  {
   "cell_type": "code",
   "execution_count": 4,
   "id": "bf7c14fe-5940-48e0-b1df-08899a31f791",
   "metadata": {},
   "outputs": [
    {
     "name": "stdout",
     "output_type": "stream",
     "text": [
      "99.33% of GENCODE transcripts (233982/235562) are <10000bp long\n"
     ]
    }
   ],
   "source": [
    "len_thresh = 10000\n",
    "n_below = len(t_df.loc[t_df['length'] <= len_thresh].index)\n",
    "n = len(t_df.index)\n",
    "print('{:.2f}% of GENCODE transcripts ({}/{}) are <{}bp long'.format((n_below/n)*100,n_below,n,len_thresh))"
   ]
  },
  {
   "cell_type": "code",
   "execution_count": null,
   "id": "885f8e33-ec16-4c8c-85d3-34e730966b5f",
   "metadata": {},
   "outputs": [],
   "source": []
  },
  {
   "cell_type": "code",
   "execution_count": null,
   "id": "4364358d-aff4-4e58-9ba6-e0337294a4bd",
   "metadata": {},
   "outputs": [],
   "source": []
  },
  {
   "cell_type": "code",
   "execution_count": null,
   "id": "6ec8c01a-96d6-4c5c-9cef-dc14b5f5692a",
   "metadata": {},
   "outputs": [],
   "source": []
  },
  {
   "cell_type": "markdown",
   "id": "d3c70391-1058-4981-8e5c-f4f443d5f2d8",
   "metadata": {},
   "source": [
    "## KDE plot of read lengths"
   ]
  },
  {
   "cell_type": "code",
   "execution_count": 21,
   "id": "bd72b8d3-429a-4f0b-bf30-5d44a0cb48c5",
   "metadata": {},
   "outputs": [],
   "source": [
    "fname = 'human_talon_read_annot.tsv'\n",
    "df = pd.read_csv(fname, usecols=[1,8], sep='\\t') "
   ]
  },
  {
   "cell_type": "code",
   "execution_count": 22,
   "id": "4f13c4d5-cc29-4588-8349-0ebd676bf067",
   "metadata": {},
   "outputs": [],
   "source": [
    "cell_lines = get_sample_datasets('cell_line')\n",
    "tissues = get_sample_datasets('tissue')\n",
    "df['source'] = False\n",
    "df.loc[df.dataset.isin(cell_lines), 'source'] = 'Reads from cell lines'\n",
    "df.loc[df.dataset.isin(tissues), 'source'] = 'Reads from tissues'"
   ]
  },
  {
   "cell_type": "code",
   "execution_count": 23,
   "id": "02e5ba1e-6998-4fb2-bfd5-f5da78577401",
   "metadata": {},
   "outputs": [],
   "source": [
    "# df.tail()"
   ]
  },
  {
   "cell_type": "code",
   "execution_count": 24,
   "id": "318ff883-baf4-4ea4-8243-96ab4988dc0a",
   "metadata": {},
   "outputs": [],
   "source": [
    "t_df, _, _ = get_gtf_info('iso',\n",
    "                          ver='v40_cerberus',\n",
    "                          subset='polya')"
   ]
  },
  {
   "cell_type": "code",
   "execution_count": 25,
   "id": "c710d060-d2d0-4cef-b980-452282f80ac8",
   "metadata": {},
   "outputs": [],
   "source": [
    "df = df[['read_length', 'source']]\n",
    "df.rename({'read_length': 'length'}, axis=1, inplace=True)\n",
    "t_df = t_df[['t_len']]\n",
    "t_df.rename({'t_len':'length'}, axis=1, inplace=True)\n",
    "t_df['source'] = 'GENCODE v40 transcripts'\n",
    "df = pd.concat([df, t_df])"
   ]
  },
  {
   "cell_type": "code",
   "execution_count": 26,
   "id": "07cb3362-7364-435c-9371-950f35d7327f",
   "metadata": {},
   "outputs": [],
   "source": [
    "xlim = 10000"
   ]
  },
  {
   "cell_type": "code",
   "execution_count": 27,
   "id": "2cd31a7c-f9fd-4c74-999c-ac01386c8873",
   "metadata": {},
   "outputs": [
    {
     "data": {
      "text/html": [
       "<div>\n",
       "<style scoped>\n",
       "    .dataframe tbody tr th:only-of-type {\n",
       "        vertical-align: middle;\n",
       "    }\n",
       "\n",
       "    .dataframe tbody tr th {\n",
       "        vertical-align: top;\n",
       "    }\n",
       "\n",
       "    .dataframe thead th {\n",
       "        text-align: right;\n",
       "    }\n",
       "</style>\n",
       "<table border=\"1\" class=\"dataframe\">\n",
       "  <thead>\n",
       "    <tr style=\"text-align: right;\">\n",
       "      <th></th>\n",
       "      <th>length</th>\n",
       "      <th>source</th>\n",
       "    </tr>\n",
       "  </thead>\n",
       "  <tbody>\n",
       "    <tr>\n",
       "      <th>0</th>\n",
       "      <td>513</td>\n",
       "      <td>Reads from cell lines</td>\n",
       "    </tr>\n",
       "    <tr>\n",
       "      <th>1</th>\n",
       "      <td>512</td>\n",
       "      <td>Reads from cell lines</td>\n",
       "    </tr>\n",
       "    <tr>\n",
       "      <th>2</th>\n",
       "      <td>1111</td>\n",
       "      <td>Reads from cell lines</td>\n",
       "    </tr>\n",
       "    <tr>\n",
       "      <th>3</th>\n",
       "      <td>1109</td>\n",
       "      <td>Reads from cell lines</td>\n",
       "    </tr>\n",
       "    <tr>\n",
       "      <th>4</th>\n",
       "      <td>1111</td>\n",
       "      <td>Reads from cell lines</td>\n",
       "    </tr>\n",
       "    <tr>\n",
       "      <th>...</th>\n",
       "      <td>...</td>\n",
       "      <td>...</td>\n",
       "    </tr>\n",
       "    <tr>\n",
       "      <th>244849</th>\n",
       "      <td>442</td>\n",
       "      <td>GENCODE v40 transcripts</td>\n",
       "    </tr>\n",
       "    <tr>\n",
       "      <th>244850</th>\n",
       "      <td>2661</td>\n",
       "      <td>GENCODE v40 transcripts</td>\n",
       "    </tr>\n",
       "    <tr>\n",
       "      <th>244851</th>\n",
       "      <td>2787</td>\n",
       "      <td>GENCODE v40 transcripts</td>\n",
       "    </tr>\n",
       "    <tr>\n",
       "      <th>244852</th>\n",
       "      <td>598</td>\n",
       "      <td>GENCODE v40 transcripts</td>\n",
       "    </tr>\n",
       "    <tr>\n",
       "      <th>244853</th>\n",
       "      <td>643</td>\n",
       "      <td>GENCODE v40 transcripts</td>\n",
       "    </tr>\n",
       "  </tbody>\n",
       "</table>\n",
       "<p>200254702 rows × 2 columns</p>\n",
       "</div>"
      ],
      "text/plain": [
       "        length                   source\n",
       "0          513    Reads from cell lines\n",
       "1          512    Reads from cell lines\n",
       "2         1111    Reads from cell lines\n",
       "3         1109    Reads from cell lines\n",
       "4         1111    Reads from cell lines\n",
       "...        ...                      ...\n",
       "244849     442  GENCODE v40 transcripts\n",
       "244850    2661  GENCODE v40 transcripts\n",
       "244851    2787  GENCODE v40 transcripts\n",
       "244852     598  GENCODE v40 transcripts\n",
       "244853     643  GENCODE v40 transcripts\n",
       "\n",
       "[200254702 rows x 2 columns]"
      ]
     },
     "execution_count": 27,
     "metadata": {},
     "output_type": "execute_result"
    }
   ],
   "source": [
    "df"
   ]
  },
  {
   "cell_type": "code",
   "execution_count": 28,
   "id": "841357fc-1bec-433c-9ea5-8e06131638ef",
   "metadata": {},
   "outputs": [],
   "source": [
    "temp1 = df.loc[df.source=='GENCODE v40 transcripts']\n",
    "temp2 = df.sample(1000000)\n",
    "df_copy = df.copy(deep=True)\n",
    "df = pd.concat([temp1, temp2])"
   ]
  },
  {
   "cell_type": "code",
   "execution_count": 29,
   "id": "43e844fe-b272-44d6-ab5c-5a4fdf40d9f1",
   "metadata": {},
   "outputs": [],
   "source": [
    "df = df_copy.copy(deep=True)"
   ]
  },
  {
   "cell_type": "code",
   "execution_count": 32,
   "id": "5be6d99f-5a1f-44dd-8c4a-d3b7d1167214",
   "metadata": {},
   "outputs": [
    {
     "data": {
      "text/plain": [
       "<Figure size 108x144 with 0 Axes>"
      ]
     },
     "metadata": {},
     "output_type": "display_data"
    },
    {
     "data": {
      "image/png": "[encoded data removed]",
      "text/plain": [
       "<Figure size 630.985x360 with 1 Axes>"
      ]
     },
     "metadata": {
      "needs_background": "light"
     },
     "output_type": "display_data"
    }
   ],
   "source": [
    "sns.set_context('paper', font_scale=2)\n",
    "plt.figure(figsize=(1.5, 2))\n",
    "mpl.rcParams['font.family'] = 'Arial'\n",
    "mpl.rcParams['pdf.fonttype'] = 42\n",
    "\n",
    "temp_c_dict, order = get_ic_nov_colors()\n",
    "c_dict = dict()\n",
    "c_dict['GENCODE v40 transcripts'] = temp_c_dict['Known']\n",
    "temp_c_dict, order = get_tissue_cell_line_colors()\n",
    "c_dict['Reads from tissues'] = '#e39f24'\n",
    "c_dict['Reads from cell lines'] = '#7680e8'\n",
    "order = ['Reads from cell lines',\n",
    "         'Reads from tissues',\n",
    "         'GENCODE v40 transcripts']\n",
    "\n",
    "ax = sns.displot(data=df, x='length', kind='kde',\n",
    "                     linewidth=3, common_norm=False, hue='source',\n",
    "                     palette=c_dict, hue_order=order)\n",
    "xlabel = 'Read / transcript length'\n",
    "ylabel = 'Density'\n",
    "\n",
    "if xlim:\n",
    "    _ = ax.set(xlabel=xlabel, ylabel=ylabel, xlim=(0,xlim))\n",
    "else:\n",
    "    _ = ax.set(xlabel=xlabel, ylabel=ylabel)\n",
    "\n",
    "# plt.vlines(5000, ymin=0, ymax=5.5, colors='gray', linestyles='dashed')\n",
    "fname = 'figures/read_vs_transcript_len.png'\n",
    "plt.savefig(fname, dpi=500, bbox_inches='tight')\n",
    "fname = 'figures/read_vs_transcript_len.pdf'\n",
    "plt.savefig(fname, dpi=500, bbox_inches='tight')"
   ]
  },
  {
   "cell_type": "code",
   "execution_count": 31,
   "id": "e4f2494a-8078-46ad-970f-45ee4bf3873d",
   "metadata": {},
   "outputs": [
    {
     "data": {
      "text/plain": [
       "200254702"
      ]
     },
     "execution_count": 31,
     "metadata": {},
     "output_type": "execute_result"
    }
   ],
   "source": [
    "len(df.index)"
   ]
  },
  {
   "cell_type": "code",
   "execution_count": null,
   "id": "406312c9-9a83-4e13-a83b-7858523b78b6",
   "metadata": {},
   "outputs": [],
   "source": []
  }
 ],
 "metadata": {
  "kernelspec": {
   "display_name": "Python 3",
   "language": "python",
   "name": "python3"
  },
  "language_info": {
   "codemirror_mode": {
    "name": "ipython",
    "version": 3
   },
   "file_extension": ".py",
   "mimetype": "text/x-python",
   "name": "python",
   "nbconvert_exporter": "python",
   "pygments_lexer": "ipython3",
   "version": "3.7.4"
  }
 },
 "nbformat": 4,
 "nbformat_minor": 5
}
