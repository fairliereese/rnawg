{
 "cells": [
  {
   "cell_type": "code",
   "execution_count": 152,
   "id": "45530a9d-7ca2-4b1b-b6bd-c0ee693240c2",
   "metadata": {},
   "outputs": [],
   "source": [
    "import pandas as pd\n",
    "import numpy as np\n",
    "import scipy.stats as st\n",
    "import seaborn as sns\n",
    "import sys\n",
    "import os\n",
    "import gseapy as gp\n",
    "import pdb\n",
    "import copy\n",
    "from scipy import sparse\n",
    "import anndata\n",
    "import cerberus\n",
    "import plotly.io as pio\n",
    "\n",
    "\n",
    "p = os.path.dirname(os.path.dirname(os.path.dirname(os.getcwd())))\n",
    "sys.path.append(p)\n",
    "\n",
    "from scripts.utils import *\n",
    "from scripts.plotting import *"
   ]
  },
  {
   "cell_type": "code",
   "execution_count": 153,
   "id": "60e94760-000f-416f-9b6b-7360c8a30c20",
   "metadata": {},
   "outputs": [
    {
     "data": {
      "text/plain": [
       "'1.8.1'"
      ]
     },
     "execution_count": 153,
     "metadata": {},
     "output_type": "execute_result"
    }
   ],
   "source": [
    "sc.__version__"
   ]
  },
  {
   "cell_type": "code",
   "execution_count": 154,
   "id": "75fd636d-7d5a-4643-8963-b09d23396e3c",
   "metadata": {},
   "outputs": [
    {
     "data": {
      "text/plain": [
       "'0.8.0'"
      ]
     },
     "execution_count": 154,
     "metadata": {},
     "output_type": "execute_result"
    }
   ],
   "source": [
    "anndata.__version__"
   ]
  },
  {
   "cell_type": "markdown",
   "id": "54f96905-4cdc-4a91-baa1-0490dac7fa7d",
   "metadata": {},
   "source": [
    "## 23/02/01 Checking adatas"
   ]
  },
  {
   "cell_type": "markdown",
   "id": "4540fb43-f31f-4a78-8f4e-68538c47852a",
   "metadata": {},
   "source": [
    "#### Transcript metadata"
   ]
  },
  {
   "cell_type": "code",
   "execution_count": 155,
   "id": "9e3d12da-8751-4eca-8bf3-b85e55d5f94b",
   "metadata": {},
   "outputs": [],
   "source": [
    "var_cols = ['gene_ID', 'transcript_ID', 'annot_gene_id', 'annot_transcript_id',\n",
    "            'annot_gene_name', 'annot_transcript_name', 'n_exons', 'gene_novelty',\n",
    "            'transcript_novelty', 'ISM_subtype', 'length']\n",
    "var_col = 'transcript_ID'\n",
    "\n",
    "adata = sc.read('mouse_transcript.h5ad')\n",
    "filt_ab = 'mouse_talon_abundance_filtered.tsv'\n",
    "ab_df = pd.read_csv(filt_ab, sep='\\t')\n",
    "\n",
    "a_temp = adata.var[var_cols].sort_values(by=var_col).reset_index(drop=True)\n",
    "ab_temp = ab_df[var_cols].sort_values(by=var_col).reset_index(drop=True)\n",
    "\n",
    "cat_cols = a_temp.columns[a_temp.dtypes == 'category'].tolist()\n",
    "for c in cat_cols:\n",
    "    a_temp[c] = a_temp[c].astype('object')\n",
    "    \n",
    "pd.testing.assert_frame_equal(a_temp,\n",
    "                              ab_temp)"
   ]
  },
  {
   "cell_type": "markdown",
   "id": "84ca92d5-3afa-42b1-bbbd-1d183f9e81c6",
   "metadata": {},
   "source": [
    "#### Transcript expression"
   ]
  },
  {
   "cell_type": "code",
   "execution_count": 156,
   "id": "de54daa0-6c15-453b-813e-c3a7ba26cac0",
   "metadata": {},
   "outputs": [],
   "source": [
    "# get collapsed abundance table from adata\n",
    "var_col = 'transcript_ID'\n",
    "obs_col = 'dataset'\n",
    "columns = adata.var[var_col].tolist()\n",
    "rows = adata.obs[obs_col].tolist()\n",
    "data = adata.X.toarray()\n",
    "\n",
    "df = pd.DataFrame(index=rows, columns=columns, data=data)\n",
    "df = df.transpose()\n",
    "df.reset_index(inplace=True)\n",
    "df['index'] = df['index'].astype('int')\n",
    "df.rename({'index': var_col}, axis=1, inplace=True)\n",
    "for c in df.columns:\n",
    "    df[c] = df[c].astype('int64')"
   ]
  },
  {
   "cell_type": "code",
   "execution_count": 157,
   "id": "0ed76430-7963-4ca4-a096-3799b40f5c2e",
   "metadata": {},
   "outputs": [],
   "source": [
    "drop_cols = [c for c in var_cols if c != var_col]\n",
    "drop_cols\n",
    "temp = ab_df.drop(drop_cols, axis=1)\n",
    "for c in temp.columns:\n",
    "    temp[c] = temp[c].astype('int64')"
   ]
  },
  {
   "cell_type": "code",
   "execution_count": 158,
   "id": "febfdbd3-7236-4405-9468-d20578fabffd",
   "metadata": {},
   "outputs": [],
   "source": [
    "pd.testing.assert_frame_equal(df,\n",
    "                              temp)"
   ]
  },
  {
   "cell_type": "code",
   "execution_count": 159,
   "id": "62d99384-2ccf-4733-addc-bded4efc3c5e",
   "metadata": {},
   "outputs": [],
   "source": [
    "# df.head()"
   ]
  },
  {
   "cell_type": "code",
   "execution_count": 160,
   "id": "9b47112b-564f-4d8b-84a5-a6715282ea35",
   "metadata": {},
   "outputs": [],
   "source": [
    "# temp.head()"
   ]
  },
  {
   "cell_type": "markdown",
   "id": "21b00d02-554f-4a19-b40d-2d7fd43ae828",
   "metadata": {},
   "source": [
    "## Gene metadata"
   ]
  },
  {
   "cell_type": "code",
   "execution_count": 186,
   "id": "6c55ddf8-cc5b-4559-9ba9-8d252ccea00c",
   "metadata": {},
   "outputs": [],
   "source": [
    "var_cols = ['gene_ID',  'annot_gene_id', \n",
    "            'annot_gene_name', 'gene_novelty']\n",
    "var_col = 'gene_ID'\n",
    "\n",
    "adata = sc.read('mouse_gene.h5ad')\n",
    "filt_ab = 'mouse_talon_abundance.tsv'\n",
    "ab_df = pd.read_csv(filt_ab, sep='\\t')\n",
    "\n",
    "a_temp = adata.var[var_cols].sort_values(by=var_col).reset_index(drop=True)\n",
    "ab_temp = ab_df[var_cols].sort_values(by=var_col).reset_index(drop=True)\n",
    "ab_temp.drop_duplicates(inplace=True)\n",
    "\n",
    "# sort and deindex\n",
    "a_temp = a_temp.sort_values(by=var_col).reset_index(drop=True)\n",
    "ab_temp = ab_temp.sort_values(by=var_col).reset_index(drop=True)\n",
    "\n",
    "\n",
    "cat_cols = a_temp.columns[a_temp.dtypes == 'category'].tolist()\n",
    "for c in cat_cols:\n",
    "    a_temp[c] = a_temp[c].astype('object')\n",
    "    \n",
    "pd.testing.assert_frame_equal(a_temp,\n",
    "                              ab_temp) "
   ]
  },
  {
   "cell_type": "code",
   "execution_count": 187,
   "id": "0bceefff-e38d-4eab-a19e-d09e33226bd4",
   "metadata": {},
   "outputs": [],
   "source": [
    "# get collapsed abundance table from adata\n",
    "var_col = 'gene_ID'\n",
    "obs_col = 'dataset'\n",
    "columns = adata.var[var_col].tolist()\n",
    "rows = adata.obs[obs_col].tolist()\n",
    "data = adata.X.toarray()\n",
    "\n",
    "df = pd.DataFrame(index=rows, columns=columns, data=data)\n",
    "df = df.transpose()\n",
    "df.reset_index(inplace=True)\n",
    "df['index'] = df['index'].astype('int')\n",
    "df.rename({'index': var_col}, axis=1, inplace=True)\n",
    "for c in df.columns:\n",
    "    df[c] = df[c].astype('int64')\n",
    "    \n",
    "# sort\n",
    "df = df.sort_values(by='gene_ID')\n",
    "df = df.reset_index(drop=True)"
   ]
  },
  {
   "cell_type": "code",
   "execution_count": 188,
   "id": "da4d8cfd-2c27-4262-8373-4a7b6aac7c51",
   "metadata": {},
   "outputs": [
    {
     "data": {
      "text/plain": [
       "252615"
      ]
     },
     "execution_count": 188,
     "metadata": {},
     "output_type": "execute_result"
    }
   ],
   "source": [
    "len(df.index)"
   ]
  },
  {
   "cell_type": "code",
   "execution_count": 191,
   "id": "5424cb06-866e-4e28-ba82-fb660143a801",
   "metadata": {},
   "outputs": [],
   "source": [
    "var_cols = ['gene_ID', 'transcript_ID', 'annot_gene_id', 'annot_transcript_id',\n",
    "            'annot_gene_name', 'annot_transcript_name', 'n_exons', 'gene_novelty',\n",
    "            'transcript_novelty', 'ISM_subtype', 'length']\n",
    "drop_cols = [c for c in var_cols if c != var_col]\n",
    "drop_cols\n",
    "temp = ab_df.drop(drop_cols, axis=1)\n",
    "for c in temp.columns:\n",
    "    temp[c] = temp[c].astype('int64')\n",
    "\n",
    "# sum ovr isos of the same gene\n",
    "temp = temp.groupby('gene_ID').sum().reset_index()\n",
    "\n",
    "# sort\n",
    "temp = temp.sort_values(by='gene_ID')\n",
    "temp = temp.reset_index(drop=True)"
   ]
  },
  {
   "cell_type": "code",
   "execution_count": 192,
   "id": "37782e3e-7226-4a8a-81ab-88ea4f4ae9ca",
   "metadata": {},
   "outputs": [
    {
     "data": {
      "text/plain": [
       "252615"
      ]
     },
     "execution_count": 192,
     "metadata": {},
     "output_type": "execute_result"
    }
   ],
   "source": [
    "temp.head()\n",
    "len(temp.index)"
   ]
  },
  {
   "cell_type": "code",
   "execution_count": 193,
   "id": "ed066472-b2a6-4475-86d8-38f7111f1577",
   "metadata": {},
   "outputs": [],
   "source": [
    "# temp.set_index('gene_ID', inplace=True)\n",
    "# temp.head()"
   ]
  },
  {
   "cell_type": "code",
   "execution_count": 194,
   "id": "e8496674-2705-45fe-8719-99d1e10cc96a",
   "metadata": {},
   "outputs": [],
   "source": [
    "# temp.loc[temp.any(axis=1)>0]"
   ]
  },
  {
   "cell_type": "code",
   "execution_count": 195,
   "id": "d1572c1f-beb3-489d-a3e2-e48e38f802b0",
   "metadata": {},
   "outputs": [],
   "source": [
    "# temp.loc[temp.gene_ID.duplicated(keep =False)].sort_values(by='gene_ID').head()"
   ]
  },
  {
   "cell_type": "code",
   "execution_count": 196,
   "id": "19071838-bf80-487f-ab3c-6c49e3d2009b",
   "metadata": {},
   "outputs": [
    {
     "data": {
      "text/html": [
       "<div>\n",
       "<style scoped>\n",
       "    .dataframe tbody tr th:only-of-type {\n",
       "        vertical-align: middle;\n",
       "    }\n",
       "\n",
       "    .dataframe tbody tr th {\n",
       "        vertical-align: top;\n",
       "    }\n",
       "\n",
       "    .dataframe thead th {\n",
       "        text-align: right;\n",
       "    }\n",
       "</style>\n",
       "<table border=\"1\" class=\"dataframe\">\n",
       "  <thead>\n",
       "    <tr style=\"text-align: right;\">\n",
       "      <th></th>\n",
       "      <th>gene_ID</th>\n",
       "      <th>gastroc_14d_f_2</th>\n",
       "      <th>gastroc_14d_f_1</th>\n",
       "      <th>heart_18-20mo_m_1</th>\n",
       "      <th>heart_18-20mo_m_2</th>\n",
       "      <th>heart_18-20mo_f_1</th>\n",
       "      <th>heart_18-20mo_f_2</th>\n",
       "      <th>adrenal_10d_f_1</th>\n",
       "      <th>adrenal_10d_f_2</th>\n",
       "      <th>adrenal_18-20mo_m_1</th>\n",
       "      <th>...</th>\n",
       "      <th>hippocampus_wt_m_2_1</th>\n",
       "      <th>hippocampus_wt_m_2_2</th>\n",
       "      <th>cortex_5x_f_1_1</th>\n",
       "      <th>cortex_5x_f_1_2</th>\n",
       "      <th>c2c12_myoblast_1_1</th>\n",
       "      <th>c2c12_myoblast_1_2</th>\n",
       "      <th>forelimb_e11_1_1</th>\n",
       "      <th>f1219_1_1</th>\n",
       "      <th>f1219_1_2</th>\n",
       "      <th>f1219_1_3</th>\n",
       "    </tr>\n",
       "  </thead>\n",
       "  <tbody>\n",
       "    <tr>\n",
       "      <th>0</th>\n",
       "      <td>1</td>\n",
       "      <td>0</td>\n",
       "      <td>0</td>\n",
       "      <td>0</td>\n",
       "      <td>0</td>\n",
       "      <td>0</td>\n",
       "      <td>0</td>\n",
       "      <td>0</td>\n",
       "      <td>0</td>\n",
       "      <td>0</td>\n",
       "      <td>...</td>\n",
       "      <td>1</td>\n",
       "      <td>1</td>\n",
       "      <td>1</td>\n",
       "      <td>0</td>\n",
       "      <td>0</td>\n",
       "      <td>0</td>\n",
       "      <td>0</td>\n",
       "      <td>0</td>\n",
       "      <td>0</td>\n",
       "      <td>0</td>\n",
       "    </tr>\n",
       "    <tr>\n",
       "      <th>1</th>\n",
       "      <td>3</td>\n",
       "      <td>1</td>\n",
       "      <td>0</td>\n",
       "      <td>0</td>\n",
       "      <td>0</td>\n",
       "      <td>0</td>\n",
       "      <td>0</td>\n",
       "      <td>0</td>\n",
       "      <td>1</td>\n",
       "      <td>0</td>\n",
       "      <td>...</td>\n",
       "      <td>48</td>\n",
       "      <td>24</td>\n",
       "      <td>8</td>\n",
       "      <td>7</td>\n",
       "      <td>0</td>\n",
       "      <td>0</td>\n",
       "      <td>0</td>\n",
       "      <td>0</td>\n",
       "      <td>1</td>\n",
       "      <td>0</td>\n",
       "    </tr>\n",
       "    <tr>\n",
       "      <th>2</th>\n",
       "      <td>5</td>\n",
       "      <td>0</td>\n",
       "      <td>0</td>\n",
       "      <td>0</td>\n",
       "      <td>0</td>\n",
       "      <td>0</td>\n",
       "      <td>0</td>\n",
       "      <td>0</td>\n",
       "      <td>0</td>\n",
       "      <td>0</td>\n",
       "      <td>...</td>\n",
       "      <td>1</td>\n",
       "      <td>0</td>\n",
       "      <td>0</td>\n",
       "      <td>1</td>\n",
       "      <td>0</td>\n",
       "      <td>0</td>\n",
       "      <td>0</td>\n",
       "      <td>0</td>\n",
       "      <td>0</td>\n",
       "      <td>0</td>\n",
       "    </tr>\n",
       "    <tr>\n",
       "      <th>3</th>\n",
       "      <td>6</td>\n",
       "      <td>0</td>\n",
       "      <td>0</td>\n",
       "      <td>0</td>\n",
       "      <td>0</td>\n",
       "      <td>0</td>\n",
       "      <td>0</td>\n",
       "      <td>0</td>\n",
       "      <td>0</td>\n",
       "      <td>0</td>\n",
       "      <td>...</td>\n",
       "      <td>0</td>\n",
       "      <td>0</td>\n",
       "      <td>0</td>\n",
       "      <td>0</td>\n",
       "      <td>0</td>\n",
       "      <td>0</td>\n",
       "      <td>0</td>\n",
       "      <td>0</td>\n",
       "      <td>0</td>\n",
       "      <td>0</td>\n",
       "    </tr>\n",
       "    <tr>\n",
       "      <th>4</th>\n",
       "      <td>8</td>\n",
       "      <td>1</td>\n",
       "      <td>0</td>\n",
       "      <td>0</td>\n",
       "      <td>0</td>\n",
       "      <td>0</td>\n",
       "      <td>0</td>\n",
       "      <td>0</td>\n",
       "      <td>0</td>\n",
       "      <td>0</td>\n",
       "      <td>...</td>\n",
       "      <td>5</td>\n",
       "      <td>0</td>\n",
       "      <td>0</td>\n",
       "      <td>2</td>\n",
       "      <td>0</td>\n",
       "      <td>0</td>\n",
       "      <td>0</td>\n",
       "      <td>0</td>\n",
       "      <td>0</td>\n",
       "      <td>0</td>\n",
       "    </tr>\n",
       "  </tbody>\n",
       "</table>\n",
       "<p>5 rows × 127 columns</p>\n",
       "</div>"
      ],
      "text/plain": [
       "   gene_ID  gastroc_14d_f_2  gastroc_14d_f_1  heart_18-20mo_m_1  \\\n",
       "0        1                0                0                  0   \n",
       "1        3                1                0                  0   \n",
       "2        5                0                0                  0   \n",
       "3        6                0                0                  0   \n",
       "4        8                1                0                  0   \n",
       "\n",
       "   heart_18-20mo_m_2  heart_18-20mo_f_1  heart_18-20mo_f_2  adrenal_10d_f_1  \\\n",
       "0                  0                  0                  0                0   \n",
       "1                  0                  0                  0                0   \n",
       "2                  0                  0                  0                0   \n",
       "3                  0                  0                  0                0   \n",
       "4                  0                  0                  0                0   \n",
       "\n",
       "   adrenal_10d_f_2  adrenal_18-20mo_m_1  ...  hippocampus_wt_m_2_1  \\\n",
       "0                0                    0  ...                     1   \n",
       "1                1                    0  ...                    48   \n",
       "2                0                    0  ...                     1   \n",
       "3                0                    0  ...                     0   \n",
       "4                0                    0  ...                     5   \n",
       "\n",
       "   hippocampus_wt_m_2_2  cortex_5x_f_1_1  cortex_5x_f_1_2  c2c12_myoblast_1_1  \\\n",
       "0                     1                1                0                   0   \n",
       "1                    24                8                7                   0   \n",
       "2                     0                0                1                   0   \n",
       "3                     0                0                0                   0   \n",
       "4                     0                0                2                   0   \n",
       "\n",
       "   c2c12_myoblast_1_2  forelimb_e11_1_1  f1219_1_1  f1219_1_2  f1219_1_3  \n",
       "0                   0                 0          0          0          0  \n",
       "1                   0                 0          0          1          0  \n",
       "2                   0                 0          0          0          0  \n",
       "3                   0                 0          0          0          0  \n",
       "4                   0                 0          0          0          0  \n",
       "\n",
       "[5 rows x 127 columns]"
      ]
     },
     "execution_count": 196,
     "metadata": {},
     "output_type": "execute_result"
    }
   ],
   "source": [
    "df.head()"
   ]
  },
  {
   "cell_type": "code",
   "execution_count": 197,
   "id": "7a60c5cc-499a-404c-b2a5-018474651944",
   "metadata": {},
   "outputs": [
    {
     "data": {
      "text/html": [
       "<div>\n",
       "<style scoped>\n",
       "    .dataframe tbody tr th:only-of-type {\n",
       "        vertical-align: middle;\n",
       "    }\n",
       "\n",
       "    .dataframe tbody tr th {\n",
       "        vertical-align: top;\n",
       "    }\n",
       "\n",
       "    .dataframe thead th {\n",
       "        text-align: right;\n",
       "    }\n",
       "</style>\n",
       "<table border=\"1\" class=\"dataframe\">\n",
       "  <thead>\n",
       "    <tr style=\"text-align: right;\">\n",
       "      <th></th>\n",
       "      <th>gene_ID</th>\n",
       "      <th>gastroc_14d_f_2</th>\n",
       "      <th>gastroc_14d_f_1</th>\n",
       "      <th>heart_18-20mo_m_1</th>\n",
       "      <th>heart_18-20mo_m_2</th>\n",
       "      <th>heart_18-20mo_f_1</th>\n",
       "      <th>heart_18-20mo_f_2</th>\n",
       "      <th>adrenal_10d_f_1</th>\n",
       "      <th>adrenal_10d_f_2</th>\n",
       "      <th>adrenal_18-20mo_m_1</th>\n",
       "      <th>...</th>\n",
       "      <th>hippocampus_wt_m_2_1</th>\n",
       "      <th>hippocampus_wt_m_2_2</th>\n",
       "      <th>cortex_5x_f_1_1</th>\n",
       "      <th>cortex_5x_f_1_2</th>\n",
       "      <th>c2c12_myoblast_1_1</th>\n",
       "      <th>c2c12_myoblast_1_2</th>\n",
       "      <th>forelimb_e11_1_1</th>\n",
       "      <th>f1219_1_1</th>\n",
       "      <th>f1219_1_2</th>\n",
       "      <th>f1219_1_3</th>\n",
       "    </tr>\n",
       "  </thead>\n",
       "  <tbody>\n",
       "    <tr>\n",
       "      <th>0</th>\n",
       "      <td>1</td>\n",
       "      <td>0</td>\n",
       "      <td>0</td>\n",
       "      <td>0</td>\n",
       "      <td>0</td>\n",
       "      <td>0</td>\n",
       "      <td>0</td>\n",
       "      <td>0</td>\n",
       "      <td>0</td>\n",
       "      <td>0</td>\n",
       "      <td>...</td>\n",
       "      <td>1</td>\n",
       "      <td>1</td>\n",
       "      <td>1</td>\n",
       "      <td>0</td>\n",
       "      <td>0</td>\n",
       "      <td>0</td>\n",
       "      <td>0</td>\n",
       "      <td>0</td>\n",
       "      <td>0</td>\n",
       "      <td>0</td>\n",
       "    </tr>\n",
       "    <tr>\n",
       "      <th>1</th>\n",
       "      <td>3</td>\n",
       "      <td>1</td>\n",
       "      <td>0</td>\n",
       "      <td>0</td>\n",
       "      <td>0</td>\n",
       "      <td>0</td>\n",
       "      <td>0</td>\n",
       "      <td>0</td>\n",
       "      <td>1</td>\n",
       "      <td>0</td>\n",
       "      <td>...</td>\n",
       "      <td>48</td>\n",
       "      <td>24</td>\n",
       "      <td>8</td>\n",
       "      <td>7</td>\n",
       "      <td>0</td>\n",
       "      <td>0</td>\n",
       "      <td>0</td>\n",
       "      <td>0</td>\n",
       "      <td>1</td>\n",
       "      <td>0</td>\n",
       "    </tr>\n",
       "    <tr>\n",
       "      <th>2</th>\n",
       "      <td>5</td>\n",
       "      <td>0</td>\n",
       "      <td>0</td>\n",
       "      <td>0</td>\n",
       "      <td>0</td>\n",
       "      <td>0</td>\n",
       "      <td>0</td>\n",
       "      <td>0</td>\n",
       "      <td>0</td>\n",
       "      <td>0</td>\n",
       "      <td>...</td>\n",
       "      <td>1</td>\n",
       "      <td>0</td>\n",
       "      <td>0</td>\n",
       "      <td>1</td>\n",
       "      <td>0</td>\n",
       "      <td>0</td>\n",
       "      <td>0</td>\n",
       "      <td>0</td>\n",
       "      <td>0</td>\n",
       "      <td>0</td>\n",
       "    </tr>\n",
       "    <tr>\n",
       "      <th>3</th>\n",
       "      <td>6</td>\n",
       "      <td>0</td>\n",
       "      <td>0</td>\n",
       "      <td>0</td>\n",
       "      <td>0</td>\n",
       "      <td>0</td>\n",
       "      <td>0</td>\n",
       "      <td>0</td>\n",
       "      <td>0</td>\n",
       "      <td>0</td>\n",
       "      <td>...</td>\n",
       "      <td>0</td>\n",
       "      <td>0</td>\n",
       "      <td>0</td>\n",
       "      <td>0</td>\n",
       "      <td>0</td>\n",
       "      <td>0</td>\n",
       "      <td>0</td>\n",
       "      <td>0</td>\n",
       "      <td>0</td>\n",
       "      <td>0</td>\n",
       "    </tr>\n",
       "    <tr>\n",
       "      <th>4</th>\n",
       "      <td>8</td>\n",
       "      <td>1</td>\n",
       "      <td>0</td>\n",
       "      <td>0</td>\n",
       "      <td>0</td>\n",
       "      <td>0</td>\n",
       "      <td>0</td>\n",
       "      <td>0</td>\n",
       "      <td>0</td>\n",
       "      <td>0</td>\n",
       "      <td>...</td>\n",
       "      <td>5</td>\n",
       "      <td>0</td>\n",
       "      <td>0</td>\n",
       "      <td>2</td>\n",
       "      <td>0</td>\n",
       "      <td>0</td>\n",
       "      <td>0</td>\n",
       "      <td>0</td>\n",
       "      <td>0</td>\n",
       "      <td>0</td>\n",
       "    </tr>\n",
       "  </tbody>\n",
       "</table>\n",
       "<p>5 rows × 127 columns</p>\n",
       "</div>"
      ],
      "text/plain": [
       "   gene_ID  gastroc_14d_f_2  gastroc_14d_f_1  heart_18-20mo_m_1  \\\n",
       "0        1                0                0                  0   \n",
       "1        3                1                0                  0   \n",
       "2        5                0                0                  0   \n",
       "3        6                0                0                  0   \n",
       "4        8                1                0                  0   \n",
       "\n",
       "   heart_18-20mo_m_2  heart_18-20mo_f_1  heart_18-20mo_f_2  adrenal_10d_f_1  \\\n",
       "0                  0                  0                  0                0   \n",
       "1                  0                  0                  0                0   \n",
       "2                  0                  0                  0                0   \n",
       "3                  0                  0                  0                0   \n",
       "4                  0                  0                  0                0   \n",
       "\n",
       "   adrenal_10d_f_2  adrenal_18-20mo_m_1  ...  hippocampus_wt_m_2_1  \\\n",
       "0                0                    0  ...                     1   \n",
       "1                1                    0  ...                    48   \n",
       "2                0                    0  ...                     1   \n",
       "3                0                    0  ...                     0   \n",
       "4                0                    0  ...                     5   \n",
       "\n",
       "   hippocampus_wt_m_2_2  cortex_5x_f_1_1  cortex_5x_f_1_2  c2c12_myoblast_1_1  \\\n",
       "0                     1                1                0                   0   \n",
       "1                    24                8                7                   0   \n",
       "2                     0                0                1                   0   \n",
       "3                     0                0                0                   0   \n",
       "4                     0                0                2                   0   \n",
       "\n",
       "   c2c12_myoblast_1_2  forelimb_e11_1_1  f1219_1_1  f1219_1_2  f1219_1_3  \n",
       "0                   0                 0          0          0          0  \n",
       "1                   0                 0          0          1          0  \n",
       "2                   0                 0          0          0          0  \n",
       "3                   0                 0          0          0          0  \n",
       "4                   0                 0          0          0          0  \n",
       "\n",
       "[5 rows x 127 columns]"
      ]
     },
     "execution_count": 197,
     "metadata": {},
     "output_type": "execute_result"
    }
   ],
   "source": [
    "temp.head()"
   ]
  },
  {
   "cell_type": "code",
   "execution_count": 199,
   "id": "2cc08457-344a-4bfd-938d-57e8ad7deb1b",
   "metadata": {},
   "outputs": [],
   "source": [
    "pd.testing.assert_frame_equal(df,\n",
    "                              temp)"
   ]
  },
  {
   "cell_type": "code",
   "execution_count": 200,
   "id": "b59e227c-0b34-493e-8d37-ebf2d6126277",
   "metadata": {},
   "outputs": [],
   "source": [
    "adata_gids = df.gene_ID.tolist()\n",
    "ab_gids = temp.gene_ID.tolist()"
   ]
  },
  {
   "cell_type": "code",
   "execution_count": 201,
   "id": "bb276c9b-2816-4426-a47d-87dfad851333",
   "metadata": {},
   "outputs": [
    {
     "name": "stdout",
     "output_type": "stream",
     "text": [
      "252615\n",
      "252615\n"
     ]
    }
   ],
   "source": [
    "print(len(adata_gids))\n",
    "print(len(ab_gids))"
   ]
  },
  {
   "cell_type": "code",
   "execution_count": 202,
   "id": "48085326-b47f-4fa7-8959-7d3f0033ed15",
   "metadata": {},
   "outputs": [
    {
     "data": {
      "text/plain": [
       "252615"
      ]
     },
     "execution_count": 202,
     "metadata": {},
     "output_type": "execute_result"
    }
   ],
   "source": [
    "len(list(set(adata_gids)&(set(ab_gids))))"
   ]
  },
  {
   "cell_type": "markdown",
   "id": "30c1182e-ea51-4c2c-aa0a-c357f9fcb505",
   "metadata": {},
   "source": [
    "## devving getting all reference isos"
   ]
  },
  {
   "cell_type": "code",
   "execution_count": null,
   "id": "8fea6da5-a2cb-410e-9136-de8b784b6e10",
   "metadata": {},
   "outputs": [],
   "source": [
    "# get all known isoforms\n",
    "# db = '../mouse/lr_bulk/talon/mouse.db'\n",
    "db = 'mouse/lr_bulk/talon/mouse.db'\n",
    "annot = 'gencode_vM21'\n",
    "\n",
    "with sqlite3.connect(db) as conn:\n",
    "    query = f\"\"\"SELECT DISTINCT t.gene_ID, t.transcript_ID\n",
    "                    FROM transcripts as t\n",
    "                    LEFT JOIN transcript_annotations as ta\n",
    "                        ON ta.ID = t.transcript_ID\n",
    "                    WHERE (ta.attribute = 'transcript_status'\n",
    "                        AND ta.value = 'KNOWN'\n",
    "                        AND ta.annot_name = '{annot}')\n",
    "              \"\"\"\n",
    "    annot = pd.read_sql_query(query, conn)"
   ]
  },
  {
   "cell_type": "code",
   "execution_count": null,
   "id": "0a677e06-af3f-4c67-9eb1-f824d0dcc2b4",
   "metadata": {},
   "outputs": [],
   "source": [
    "query = \"\"\"SELECT DISTINCT gene_ID, transcript_ID FROM observed\n",
    "               LEFT JOIN transcript_annotations AS ta\n",
    "                   ON ta.ID = observed.transcript_ID\n",
    "               WHERE (ta.attribute = 'transcript_status'\n",
    "                      AND ta.value = 'KNOWN'\n",
    "                      AND ta.annot_name = '%s')\"\"\" % (annot)\n",
    "annot = pd.read_sql_query(query, conn)"
   ]
  },
  {
   "cell_type": "code",
   "execution_count": null,
   "id": "521ae2e6-98d9-409b-bdaa-1c2210643cb5",
   "metadata": {},
   "outputs": [],
   "source": [
    "pass_list_file = 'mouse/lr_bulk/talon/mouse_vM21_novel_pass_list.csv'\n"
   ]
  }
 ],
 "metadata": {
  "kernelspec": {
   "display_name": "Python 3",
   "language": "python",
   "name": "python3"
  },
  "language_info": {
   "codemirror_mode": {
    "name": "ipython",
    "version": 3
   },
   "file_extension": ".py",
   "mimetype": "text/x-python",
   "name": "python",
   "nbconvert_exporter": "python",
   "pygments_lexer": "ipython3",
   "version": "3.7.4"
  }
 },
 "nbformat": 4,
 "nbformat_minor": 5
}
