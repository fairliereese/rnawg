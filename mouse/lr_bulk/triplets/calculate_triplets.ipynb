{
 "cells": [
  {
   "cell_type": "code",
   "execution_count": 1,
   "id": "cd69dd85-2ddf-44cf-9bfa-978c84ad0f06",
   "metadata": {},
   "outputs": [],
   "source": [
    "import pandas as pd\n",
    "import numpy as np\n",
    "import scipy.stats as st\n",
    "import seaborn as sns\n",
    "import sys\n",
    "import os\n",
    "import gseapy as gp\n",
    "import pdb\n",
    "import copy\n",
    "from scipy import sparse\n",
    "import anndata\n",
    "import cerberus\n",
    "\n",
    "\n",
    "p = os.path.dirname(os.path.dirname(os.path.dirname(os.getcwd())))\n",
    "sys.path.append(p)\n",
    "\n",
    "from scripts.utils import *\n",
    "from scripts.plotting import *"
   ]
  },
  {
   "cell_type": "code",
   "execution_count": 49,
   "id": "71e120f5-07f8-4667-98c0-af6b665a8d43",
   "metadata": {},
   "outputs": [],
   "source": [
    "h5 = '../cerberus/cerberus_annot.h5'\n",
    "h5_trip = 'cerberus_annot_triplets.h5'\n",
    "ab = '../talon/mouse_talon_abundance.tsv'\n",
    "filt_ab = '../cerberus/cerberus_filtered_abundance.tsv'\n",
    "obs_col = 'sample'\n",
    "min_tpm = 1\n",
    "major_set = '../swan/isos_sample_gene_90.tsv'\n",
    "major_tissue_set = '../swan/isos_tissue_gene_90.tsv'\n",
    "major_tissue_adult_set = '../swan/isos_tissue_adult_gene_90.tsv'\n",
    "gene_subset = 'polya'\n",
    "swan_file = '../swan/swan.p'\n",
    "ver = 'vM25_cerberus'"
   ]
  },
  {
   "cell_type": "code",
   "execution_count": 51,
   "id": "0893737b-d1c3-4e11-8f46-908ee10ab7ac",
   "metadata": {},
   "outputs": [
    {
     "name": "stdout",
     "output_type": "stream",
     "text": [
      "Read in graph from ../swan/swan.p\n"
     ]
    }
   ],
   "source": [
    "ca = cerberus.read(h5)\n",
    "sg = swan.read(swan_file)"
   ]
  },
  {
   "cell_type": "markdown",
   "id": "450aa56b-fc14-48c7-af84-9f36a600b8c9",
   "metadata": {},
   "source": [
    "Triplets for each source in cerberus annotation"
   ]
  },
  {
   "cell_type": "code",
   "execution_count": 4,
   "id": "be5d5dc0-1eb3-4fdd-a856-9bef01993e2c",
   "metadata": {},
   "outputs": [],
   "source": [
    "df = ca.get_source_triplets(sg=sg)\n",
    "ca.add_triplets(df)"
   ]
  },
  {
   "cell_type": "markdown",
   "id": "848d3d56-b1dd-48bf-9703-ca7fb51d2fe1",
   "metadata": {},
   "source": [
    "Expressed triplets"
   ]
  },
  {
   "cell_type": "code",
   "execution_count": 5,
   "id": "84ff9acd-7cf9-4e26-8866-004f2e7540b8",
   "metadata": {},
   "outputs": [
    {
     "name": "stdout",
     "output_type": "stream",
     "text": [
      "Calculating iso TPM values\n"
     ]
    },
    {
     "name": "stderr",
     "output_type": "stream",
     "text": [
      "/Users/fairliereese/Documents/programming/mortazavi_lab/data/rnawg/scripts/utils.py:1816: PerformanceWarning: DataFrame is highly fragmented.  This is usually the result of calling `frame.insert` many times, which has poor performance.  Consider joining all columns at once using pd.concat(axis=1) instead.  To get a de-fragmented frame, use `newframe = frame.copy()`\n",
      "  df[tpm_col] = (df[d]*1000000)/df[total_col]\n",
      "/Users/fairliereese/Documents/programming/mortazavi_lab/data/rnawg/scripts/utils.py:1815: PerformanceWarning: DataFrame is highly fragmented.  This is usually the result of calling `frame.insert` many times, which has poor performance.  Consider joining all columns at once using pd.concat(axis=1) instead.  To get a de-fragmented frame, use `newframe = frame.copy()`\n",
      "  df[total_col] = df[d].sum()\n"
     ]
    },
    {
     "name": "stdout",
     "output_type": "stream",
     "text": [
      "Enforcing minimum TPM\n",
      "Total # isos detected: 149463\n",
      "# isos >= 1 tpm: 138642\n",
      "Number of isos reported: 138642\n"
     ]
    }
   ],
   "source": [
    "df = pd.read_csv(filt_ab, sep='\\t')\n",
    "df, tids = get_tpm_table(df,\n",
    "               how='iso',\n",
    "               min_tpm=min_tpm,\n",
    "               species='mouse')\n",
    "df = ca.get_subset_triplets(tids, 'obs_det', sg=sg)\n",
    "ca.add_triplets(df)"
   ]
  },
  {
   "cell_type": "markdown",
   "id": "c7bc7f49-7ffb-4b39-ae0c-74305240d80e",
   "metadata": {},
   "source": [
    "Sample-level expressed triplets"
   ]
  },
  {
   "cell_type": "code",
   "execution_count": 6,
   "id": "effe757a-8076-4a12-8f36-a5977d3401b4",
   "metadata": {},
   "outputs": [],
   "source": [
    "df = ca.get_expressed_triplets(sg, obs_col=obs_col,\n",
    "                               min_tpm=min_tpm,\n",
    "                               source='sample_det')\n",
    "ca.add_triplets(df)"
   ]
  },
  {
   "cell_type": "markdown",
   "id": "3c8f11b7-0c2f-4f64-bea9-db76a526eb52",
   "metadata": {},
   "source": [
    "Union of major (90% set) expressed triplets"
   ]
  },
  {
   "cell_type": "code",
   "execution_count": 7,
   "id": "8e99cefb-9e22-41e6-a7af-1196efb788ab",
   "metadata": {},
   "outputs": [],
   "source": [
    "subset = pd.read_csv(major_set, sep='\\t')\n",
    "tids = subset.tid.unique().tolist()\n",
    "df = ca.get_subset_triplets(tids, source='obs_major', sg=sg)\n",
    "ca.add_triplets(df)"
   ]
  },
  {
   "cell_type": "markdown",
   "id": "522afb89-5f9f-4b40-a851-d1553817a548",
   "metadata": {},
   "source": [
    "Sample-level major (90% set) expressed triplets"
   ]
  },
  {
   "cell_type": "code",
   "execution_count": 8,
   "id": "7275fc69-4e0e-4afb-9b72-cfca35c942e7",
   "metadata": {},
   "outputs": [],
   "source": [
    "subset = pd.read_csv(major_set, sep='\\t')\n",
    "df = ca.get_expressed_triplets(sg, obs_col=obs_col,\n",
    "                               min_tpm=min_tpm,\n",
    "                               source='sample_major',\n",
    "                               subset=subset)\n",
    "ca.add_triplets(df)"
   ]
  },
  {
   "cell_type": "markdown",
   "id": "f1a22436-429e-4dfb-bd98-1574fa194de8",
   "metadata": {},
   "source": [
    "Tissue-level expressed triplets"
   ]
  },
  {
   "cell_type": "code",
   "execution_count": 9,
   "id": "fef76667-cbe0-4dcc-8f2d-53f958edffb6",
   "metadata": {},
   "outputs": [],
   "source": [
    "df = ca.get_expressed_triplets(sg, obs_col='tissue',\n",
    "                               min_tpm=min_tpm,\n",
    "                               source='tissue_det')\n",
    "ca.add_triplets(df)"
   ]
  },
  {
   "cell_type": "markdown",
   "id": "7faeb649-3b11-4af0-a62c-c121725c3560",
   "metadata": {},
   "source": [
    "Tissue-level major (90% set) expressed triplets"
   ]
  },
  {
   "cell_type": "code",
   "execution_count": 10,
   "id": "0b88f3d4-5bfd-4719-b9a5-6bb754c431a7",
   "metadata": {},
   "outputs": [],
   "source": [
    "subset = pd.read_csv(major_tissue_set, sep='\\t')\n",
    "df = ca.get_expressed_triplets(sg, obs_col='tissue',\n",
    "                                      min_tpm=min_tpm,\n",
    "                                      source='tissue_major',\n",
    "                                      subset=subset)\n",
    "ca.add_triplets(df)"
   ]
  },
  {
   "cell_type": "markdown",
   "id": "286b6544-cb3b-4bce-aa1a-24acba8accdc",
   "metadata": {},
   "source": [
    "Adult tissue-level expressed triplets"
   ]
  },
  {
   "cell_type": "code",
   "execution_count": 10,
   "id": "5627eb68-3f17-4a23-aca4-21495a2c8152",
   "metadata": {},
   "outputs": [],
   "source": [
    "ca = cerberus.read(h5_trip)\n",
    "df = ca.get_expressed_triplets(sg, obs_col='tissue_adult',\n",
    "                               min_tpm=min_tpm,\n",
    "                               source='tissue_adult_det')\n",
    "ca.add_triplets(df)"
   ]
  },
  {
   "cell_type": "code",
   "execution_count": 1,
   "id": "c38a00f7-a4ac-46fc-ba6c-ebb28afab8af",
   "metadata": {},
   "outputs": [
    {
     "name": "stdout",
     "output_type": "stream",
     "text": [
      "Read in graph from ../swan/swan.p\n"
     ]
    }
   ],
   "source": [
    "import pandas as pd\n",
    "import numpy as np\n",
    "import scipy.stats as st\n",
    "import seaborn as sns\n",
    "import sys\n",
    "import os\n",
    "import gseapy as gp\n",
    "import pdb\n",
    "import copy\n",
    "from scipy import sparse\n",
    "import anndata\n",
    "import cerberus\n",
    "\n",
    "\n",
    "p = os.path.dirname(os.path.dirname(os.path.dirname(os.getcwd())))\n",
    "sys.path.append(p)\n",
    "\n",
    "from scripts.utils import *\n",
    "from scripts.plotting import *\n",
    "\n",
    "h5 = '../cerberus/cerberus_annot.h5'\n",
    "h5_trip = 'cerberus_annot_triplets.h5'\n",
    "ab = '../talon/mouse_talon_abundance.tsv'\n",
    "filt_ab = '../cerberus/cerberus_filtered_abundance.tsv'\n",
    "obs_col = 'sample'\n",
    "min_tpm = 1\n",
    "major_set = '../swan/isos_sample_gene_90.tsv'\n",
    "major_tissue_set = '../swan/isos_tissue_gene_90.tsv'\n",
    "major_tissue_adult_set = '../swan/isos_tissue_adult_gene_90.tsv'\n",
    "gene_subset = 'polya'\n",
    "swan_file = '../swan/swan.p'\n",
    "ver = 'vM25_cerberus'\n",
    "\n",
    "sg = swan.read(swan_file)"
   ]
  },
  {
   "cell_type": "markdown",
   "id": "fc430d22-4328-4423-b1dc-0a3faa786434",
   "metadata": {},
   "source": [
    "Adult tissue-level major (90% set) expressed triplets"
   ]
  },
  {
   "cell_type": "code",
   "execution_count": 2,
   "id": "2b0290ae-0db9-4c2f-993d-160c32d852fc",
   "metadata": {},
   "outputs": [],
   "source": [
    "ca = cerberus.read(h5_trip)\n",
    "subset = pd.read_csv(major_tissue_adult_set, sep='\\t')\n",
    "df = ca.get_expressed_triplets(sg, obs_col='tissue_adult',\n",
    "                                      min_tpm=min_tpm,\n",
    "                                      source='tissue_adult_major',\n",
    "                                      subset=subset)\n",
    "ca.add_triplets(df)"
   ]
  },
  {
   "cell_type": "markdown",
   "id": "73d154ae-617f-4d31-9ab2-7d3bf19e6941",
   "metadata": {},
   "source": [
    "Remove non-polyA genes"
   ]
  },
  {
   "cell_type": "code",
   "execution_count": 3,
   "id": "84ddb55c-40f7-4adb-ac33-09029e74e9e4",
   "metadata": {},
   "outputs": [],
   "source": [
    "# df, _, _ = get_gtf_info(how='gene', ver=ver, subset=gene_subset)\n",
    "# df['gid_stable'] = cerberus.get_stable_gid(df, 'gid')\n",
    "# polya_gids = df.gid_stable.tolist()\n",
    "# print(len(ca.triplets.index))\n",
    "# ca.triplets = ca.triplets.loc[ca.triplets.gid.isin(polya_gids)]\n",
    "# print(len(ca.triplets.index))       "
   ]
  },
  {
   "cell_type": "code",
   "execution_count": 14,
   "id": "5dc50c70-8191-4bdf-bfcd-564e5bae7a11",
   "metadata": {},
   "outputs": [
    {
     "name": "stdout",
     "output_type": "stream",
     "text": [
      "1554289\n",
      "1546186\n"
     ]
    }
   ],
   "source": [
    "# df, _, _ = get_gtf_info(how='gene', ver=ver, subset=gene_subset)\n",
    "# df['gid_stable'] = cerberus.get_stable_gid(df, 'gid')\n",
    "# polya_gids = df.gid_stable.tolist()\n",
    "# print(len(ca.triplets.index))\n",
    "# ca.triplets = ca.triplets.loc[ca.triplets.gid.isin(polya_gids)]\n",
    "# print(len(ca.triplets.index))       "
   ]
  },
  {
   "cell_type": "code",
   "execution_count": 4,
   "id": "0743b3fc-0fa6-4d3c-aba8-d78986f4f31d",
   "metadata": {},
   "outputs": [
    {
     "name": "stdout",
     "output_type": "stream",
     "text": [
      "1761067\n",
      "1752964\n"
     ]
    }
   ],
   "source": [
    "df, _, _ = get_gtf_info(how='gene', ver=ver, subset=gene_subset)\n",
    "df['gid_stable'] = cerberus.get_stable_gid(df, 'gid')\n",
    "polya_gids = df.gid_stable.tolist()\n",
    "print(len(ca.triplets.index))\n",
    "ca.triplets = ca.triplets.loc[ca.triplets.gid.isin(polya_gids)]\n",
    "print(len(ca.triplets.index))       "
   ]
  },
  {
   "cell_type": "markdown",
   "id": "7e456214-71c3-4dc9-81a0-06130be7d0cf",
   "metadata": {},
   "source": [
    "Write triplets to file"
   ]
  },
  {
   "cell_type": "code",
   "execution_count": 5,
   "id": "52b8ff84-9a3b-453f-8077-edbf823e48be",
   "metadata": {},
   "outputs": [],
   "source": [
    "ca.write('cerberus_annot_triplets.h5')"
   ]
  },
  {
   "cell_type": "code",
   "execution_count": 6,
   "id": "1bff4d1a-606a-4501-9f0e-ab2b941fc628",
   "metadata": {},
   "outputs": [],
   "source": [
    "# also write out triplets separately to tsv\n",
    "ca.triplets.to_csv('triplets.tsv', sep='\\t', index=False)"
   ]
  },
  {
   "cell_type": "code",
   "execution_count": null,
   "id": "a3e08c47-7d24-4773-96a7-8ee90d0d0d01",
   "metadata": {},
   "outputs": [],
   "source": []
  }
 ],
 "metadata": {
  "kernelspec": {
   "display_name": "Python 3",
   "language": "python",
   "name": "python3"
  },
  "language_info": {
   "codemirror_mode": {
    "name": "ipython",
    "version": 3
   },
   "file_extension": ".py",
   "mimetype": "text/x-python",
   "name": "python",
   "nbconvert_exporter": "python",
   "pygments_lexer": "ipython3",
   "version": "3.7.4"
  }
 },
 "nbformat": 4,
 "nbformat_minor": 5
}
