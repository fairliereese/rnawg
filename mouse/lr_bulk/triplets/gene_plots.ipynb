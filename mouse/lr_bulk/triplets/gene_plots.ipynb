{
 "cells": [
  {
   "cell_type": "code",
   "execution_count": 1,
   "id": "7e2af969-7a22-4ddd-a265-4be37252c970",
   "metadata": {},
   "outputs": [],
   "source": [
    "import pandas as pd\n",
    "import numpy as np\n",
    "import scipy.stats as st\n",
    "import seaborn as sns\n",
    "import sys\n",
    "import os\n",
    "import gseapy as gp\n",
    "import pdb\n",
    "import copy\n",
    "from scipy import sparse\n",
    "import anndata\n",
    "import cerberus\n",
    "\n",
    "\n",
    "p = os.path.dirname(os.path.dirname(os.path.dirname(os.getcwd())))\n",
    "sys.path.append(p)\n",
    "\n",
    "from scripts.utils import *\n",
    "from scripts.plotting import *"
   ]
  },
  {
   "cell_type": "code",
   "execution_count": 2,
   "id": "0ce51198-1970-4ca1-85ef-4a5ac7968727",
   "metadata": {},
   "outputs": [],
   "source": [
    "h5 = '../cerberus/cerberus_annot.h5'\n",
    "h5_trip = 'cerberus_annot_triplets.h5'\n",
    "ab = '../talon/mouse_talon_abundance.tsv'\n",
    "filt_ab = '../cerberus/cerberus_filtered_abundance.tsv'\n",
    "obs_col = 'sample'\n",
    "species='mouse'\n",
    "min_tpm = 1\n",
    "major_set = '../swan/isos_sample_gene_90.tsv'\n",
    "gene_subset = 'polya'"
   ]
  },
  {
   "cell_type": "code",
   "execution_count": 3,
   "id": "f7dba150-6466-464e-9a5f-ef9ab1a7fcbd",
   "metadata": {},
   "outputs": [],
   "source": [
    "ca = cerberus.read(h5_trip)"
   ]
  },
  {
   "cell_type": "code",
   "execution_count": 9,
   "id": "bc86e75c-3d6a-4180-886c-9e4c42f24c02",
   "metadata": {},
   "outputs": [],
   "source": [
    "c_dict, order = get_lr_bulk_sample_colors()\n",
    "c_dict[np.nan] = 'k'\n",
    "\n",
    "\n",
    "mmap = {'vM25': '*', 'obs_det': '^', 'cerberus': '2'}\n",
    "subset = {'source': ['vM25', 'obs_det', 'sample_det']}"
   ]
  },
  {
   "cell_type": "code",
   "execution_count": 13,
   "id": "b1db4d58-5e82-469e-bd5f-9177f99b5b94",
   "metadata": {},
   "outputs": [
    {
     "name": "stdout",
     "output_type": "stream",
     "text": [
      "0.4\n",
      "12.0\n",
      "(2.1431999999999998, 2.0)\n"
     ]
    },
    {
     "data": {
      "image/png": "[encoded data removed]",
      "text/plain": [
       "<Figure size 154.31x144 with 1 Axes>"
      ]
     },
     "metadata": {},
     "output_type": "display_data"
    }
   ],
   "source": [
    "# Ctcf\n",
    "df = ca.plot_simplex(top='splicing_ratio', \n",
    "            gene='Ctcf',\n",
    "            hue='sample',\n",
    "            cmap=c_dict,\n",
    "            size='gene_tpm', \n",
    "            log_size=True,\n",
    "            sectors=True,\n",
    "            marker_style='source',\n",
    "            mmap=mmap,\n",
    "            legend=False,\n",
    "            jitter=True,\n",
    "            subset=subset,\n",
    "            size_scale=0.2,\n",
    "            order_marker_sizes=True,\n",
    "            fname='figures/simplex_ctcf.pdf')"
   ]
  },
  {
   "cell_type": "code",
   "execution_count": 14,
   "id": "e91e1030-8e58-4178-919a-ced867fc875d",
   "metadata": {},
   "outputs": [
    {
     "name": "stdout",
     "output_type": "stream",
     "text": [
      "0.4\n",
      "12.0\n",
      "(2.1431999999999998, 2.0)\n"
     ]
    },
    {
     "data": {
      "image/png": "[encoded data removed]",
      "text/plain": [
       "<Figure size 154.31x144 with 1 Axes>"
      ]
     },
     "metadata": {},
     "output_type": "display_data"
    }
   ],
   "source": [
    "# Tcf3\n",
    "df = ca.plot_simplex(top='splicing_ratio', \n",
    "            gene='Tcf3',\n",
    "            hue='sample',\n",
    "            cmap=c_dict,\n",
    "            size='gene_tpm', \n",
    "            log_size=True,\n",
    "            sectors=True,\n",
    "            marker_style='source',\n",
    "            mmap=mmap,\n",
    "            legend=False,\n",
    "            jitter=True,\n",
    "            subset=subset,\n",
    "            size_scale=0.2,\n",
    "            order_marker_sizes=True,\n",
    "            fname='figures/simplex_tcf3.pdf')"
   ]
  },
  {
   "cell_type": "code",
   "execution_count": null,
   "id": "a94e8d53-f1ed-4ca3-a61e-103a42794d34",
   "metadata": {},
   "outputs": [],
   "source": []
  }
 ],
 "metadata": {
  "kernelspec": {
   "display_name": "Python 3",
   "language": "python",
   "name": "python3"
  },
  "language_info": {
   "codemirror_mode": {
    "name": "ipython",
    "version": 3
   },
   "file_extension": ".py",
   "mimetype": "text/x-python",
   "name": "python",
   "nbconvert_exporter": "python",
   "pygments_lexer": "ipython3",
   "version": "3.7.4"
  }
 },
 "nbformat": 4,
 "nbformat_minor": 5
}
