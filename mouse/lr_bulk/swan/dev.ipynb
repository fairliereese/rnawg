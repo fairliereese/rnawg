{
 "cells": [
  {
   "cell_type": "code",
   "execution_count": 1,
   "id": "37a17b2a-6a0d-4b6d-a798-e1b2c53545e2",
   "metadata": {},
   "outputs": [],
   "source": [
    "import pandas as pd\n",
    "import numpy as np\n",
    "import scipy.stats as st\n",
    "import seaborn as sns\n",
    "import sys\n",
    "import os\n",
    "import gseapy as gp\n",
    "import pdb\n",
    "import copy\n",
    "from scipy import sparse\n",
    "import anndata\n",
    "import swan_vis as swan\n",
    "\n",
    "\n",
    "p = os.path.dirname(os.path.dirname(os.path.dirname(os.getcwd())))\n",
    "sys.path.append(p)\n",
    "\n",
    "from scripts.utils import *\n",
    "from scripts.plotting import *"
   ]
  },
  {
   "cell_type": "code",
   "execution_count": 13,
   "id": "75859ff5-90e6-496c-907b-bb54b6b92cf9",
   "metadata": {},
   "outputs": [
    {
     "name": "stdout",
     "output_type": "stream",
     "text": [
      "123\n",
      "123\n"
     ]
    }
   ],
   "source": [
    "df = pd.read_csv('../talon/mouse_talon_abundance_filtered.tsv', sep='\\t')\n",
    "\n",
    "df = get_mouse_metadata_from_ab(df)\n",
    "\n",
    "# create sample level metadata\n",
    "df['sample'] = False\n",
    "\n",
    "# for timecourse+forelimb use tissue + age\n",
    "inds = df.loc[(df.b6cast)|(df.forelimb)].index\n",
    "df.loc[inds, 'sample'] = df.loc[inds, 'tissue']+'_'+df.loc[inds, 'age']\n",
    "\n",
    "# for c2c12,  use tissue\n",
    "inds = df.loc[df.c2c12==True].index\n",
    "df.loc[inds, 'sample'] = df.loc[inds, 'tissue']\n",
    "\n",
    "# for adrenal, hc, ctx from 5x, use tissue\n",
    "inds = df.loc[(df['5x_v_wt']==True)|(df.adrenal==True)].index\n",
    "df.loc[inds, 'sample'] = df.loc[inds, 'tissue']\n",
    "\n",
    "df.to_csv('mouse_metadata.tsv', sep='\\t', index=False)"
   ]
  },
  {
   "cell_type": "code",
   "execution_count": 22,
   "id": "59f772cc-0df3-43b4-83a4-2f6838a4741f",
   "metadata": {},
   "outputs": [
    {
     "name": "stdout",
     "output_type": "stream",
     "text": [
      "Index(['dataset', 'b6cast', 'tissue', 'age', 'sex', 'rep', '5x_v_wt',\n",
      "       'disease_status', 'forelimb', 'c2c12', 'adrenal', 'sample'],\n",
      "      dtype='object')\n",
      "            dataset  b6cast   tissue  age sex  rep 5x_v_wt disease_status  \\\n",
      "6   adrenal_10d_f_1    True  adrenal  10d   f  1.0     NaN            NaN   \n",
      "7   adrenal_10d_f_2    True  adrenal  10d   f  2.0     NaN            NaN   \n",
      "36  adrenal_10d_m_1    True  adrenal  10d   m  1.0     NaN            NaN   \n",
      "35  adrenal_10d_m_2    True  adrenal  10d   m  2.0     NaN            NaN   \n",
      "42  adrenal_14d_f_1    True  adrenal  14d   f  1.0     NaN            NaN   \n",
      "\n",
      "   forelimb c2c12 adrenal       sample  \n",
      "6       NaN   NaN     NaN  adrenal_10d  \n",
      "7       NaN   NaN     NaN  adrenal_10d  \n",
      "36      NaN   NaN     NaN  adrenal_10d  \n",
      "35      NaN   NaN     NaN  adrenal_10d  \n",
      "42      NaN   NaN     NaN  adrenal_14d  \n",
      "dataset            object\n",
      "b6cast               bool\n",
      "tissue             object\n",
      "age                object\n",
      "sex                object\n",
      "rep               float64\n",
      "5x_v_wt            object\n",
      "disease_status     object\n",
      "forelimb           object\n",
      "c2c12              object\n",
      "adrenal            object\n",
      "sample             object\n",
      "dtype: object\n"
     ]
    }
   ],
   "source": [
    "df.sort_values(by=['dataset'], inplace=True)\n",
    "df.to_csv('mouse_metadata.tsv', sep='\\t', index=False)\n",
    "print(df.columns)\n",
    "print(df.head())\n",
    "print(df.dtypes)"
   ]
  },
  {
   "cell_type": "code",
   "execution_count": 23,
   "id": "5cb0350c-fb3f-4748-a22e-dc6f31907b60",
   "metadata": {},
   "outputs": [
    {
     "name": "stdout",
     "output_type": "stream",
     "text": [
      "Index(['dataset', 'b6cast', 'tissue', 'age', 'sex', 'rep', '5x_v_wt',\n",
      "       'disease_status', 'forelimb', 'c2c12', 'adrenal', 'sample'],\n",
      "      dtype='object')\n",
      "            dataset  b6cast   tissue  age sex  rep 5x_v_wt disease_status  \\\n",
      "6   adrenal_10d_f_1    True  adrenal  10d   f  1.0     NaN            NaN   \n",
      "7   adrenal_10d_f_2    True  adrenal  10d   f  2.0     NaN            NaN   \n",
      "36  adrenal_10d_m_1    True  adrenal  10d   m  1.0     NaN            NaN   \n",
      "35  adrenal_10d_m_2    True  adrenal  10d   m  2.0     NaN            NaN   \n",
      "42  adrenal_14d_f_1    True  adrenal  14d   f  1.0     NaN            NaN   \n",
      "\n",
      "   forelimb c2c12 adrenal       sample  \n",
      "6       NaN   NaN     NaN  adrenal_10d  \n",
      "7       NaN   NaN     NaN  adrenal_10d  \n",
      "36      NaN   NaN     NaN  adrenal_10d  \n",
      "35      NaN   NaN     NaN  adrenal_10d  \n",
      "42      NaN   NaN     NaN  adrenal_14d  \n",
      "dataset            object\n",
      "b6cast               bool\n",
      "tissue             object\n",
      "age                object\n",
      "sex                object\n",
      "rep               float64\n",
      "5x_v_wt            object\n",
      "disease_status     object\n",
      "forelimb           object\n",
      "c2c12              object\n",
      "adrenal            object\n",
      "sample             object\n",
      "dtype: object\n"
     ]
    }
   ],
   "source": [
    "old_df = pd.read_csv('/Users/fairliereese/mortazavi_lab/data/mousewg/lr_bulk/swan/mouse_metadata.tsv', sep='\\t')\n",
    "old_df.sort_values(by=['dataset'], inplace=True)\n",
    "old_df.to_csv('mousewg_mouse_metadata.tsv', sep='\\t', index=False)\n",
    "print(old_df.columns)\n",
    "print(old_df.head())\n",
    "print(old_df.dtypes)\n",
    "old_df.rename({'dataset':'beep'}, axis=1, inplace=True)"
   ]
  },
  {
   "cell_type": "code",
   "execution_count": 24,
   "id": "b9414d1d-9d9d-4259-8a33-98d0e2787c5e",
   "metadata": {},
   "outputs": [
    {
     "ename": "AssertionError",
     "evalue": "DataFrame.columns are different\n\nDataFrame.columns values are different (16.66667 %)\n[left]:  Index(['5x_v_wt', 'adrenal', 'age', 'b6cast', 'c2c12', 'dataset',\n       'disease_status', 'forelimb', 'rep', 'sample', 'sex', 'tissue'],\n      dtype='object')\n[right]: Index(['5x_v_wt', 'adrenal', 'age', 'b6cast', 'beep', 'c2c12',\n       'disease_status', 'forelimb', 'rep', 'sample', 'sex', 'tissue'],\n      dtype='object')",
     "output_type": "error",
     "traceback": [
      "\u001b[0;31m---------------------------------------------------------------------------\u001b[0m",
      "\u001b[0;31mAssertionError\u001b[0m                            Traceback (most recent call last)",
      "\u001b[0;32m<ipython-input-24-35da1eaa43f3>\u001b[0m in \u001b[0;36m<module>\u001b[0;34m\u001b[0m\n\u001b[0;32m----> 1\u001b[0;31m \u001b[0mpd\u001b[0m\u001b[0;34m.\u001b[0m\u001b[0mtesting\u001b[0m\u001b[0;34m.\u001b[0m\u001b[0massert_frame_equal\u001b[0m\u001b[0;34m(\u001b[0m\u001b[0mdf\u001b[0m\u001b[0;34m,\u001b[0m \u001b[0mold_df\u001b[0m\u001b[0;34m,\u001b[0m \u001b[0mcheck_like\u001b[0m\u001b[0;34m=\u001b[0m\u001b[0;32mTrue\u001b[0m\u001b[0;34m,\u001b[0m \u001b[0mcheck_dtype\u001b[0m\u001b[0;34m=\u001b[0m\u001b[0;32mTrue\u001b[0m\u001b[0;34m)\u001b[0m\u001b[0;34m\u001b[0m\u001b[0;34m\u001b[0m\u001b[0m\n\u001b[0m",
      "    \u001b[0;31m[... skipping hidden 2 frame]\u001b[0m\n",
      "\u001b[0;32m~/miniconda3/lib/python3.7/site-packages/pandas/_libs/testing.pyx\u001b[0m in \u001b[0;36mpandas._libs.testing.assert_almost_equal\u001b[0;34m()\u001b[0m\n",
      "\u001b[0;32m~/miniconda3/lib/python3.7/site-packages/pandas/_libs/testing.pyx\u001b[0m in \u001b[0;36mpandas._libs.testing.assert_almost_equal\u001b[0;34m()\u001b[0m\n",
      "\u001b[0;32m~/miniconda3/lib/python3.7/site-packages/pandas/_testing/asserters.py\u001b[0m in \u001b[0;36mraise_assert_detail\u001b[0;34m(obj, message, left, right, diff, index_values)\u001b[0m\n\u001b[1;32m    663\u001b[0m         \u001b[0mmsg\u001b[0m \u001b[0;34m+=\u001b[0m \u001b[0;34mf\"\\n[diff]: {diff}\"\u001b[0m\u001b[0;34m\u001b[0m\u001b[0;34m\u001b[0m\u001b[0m\n\u001b[1;32m    664\u001b[0m \u001b[0;34m\u001b[0m\u001b[0m\n\u001b[0;32m--> 665\u001b[0;31m     \u001b[0;32mraise\u001b[0m \u001b[0mAssertionError\u001b[0m\u001b[0;34m(\u001b[0m\u001b[0mmsg\u001b[0m\u001b[0;34m)\u001b[0m\u001b[0;34m\u001b[0m\u001b[0;34m\u001b[0m\u001b[0m\n\u001b[0m\u001b[1;32m    666\u001b[0m \u001b[0;34m\u001b[0m\u001b[0m\n\u001b[1;32m    667\u001b[0m \u001b[0;34m\u001b[0m\u001b[0m\n",
      "\u001b[0;31mAssertionError\u001b[0m: DataFrame.columns are different\n\nDataFrame.columns values are different (16.66667 %)\n[left]:  Index(['5x_v_wt', 'adrenal', 'age', 'b6cast', 'c2c12', 'dataset',\n       'disease_status', 'forelimb', 'rep', 'sample', 'sex', 'tissue'],\n      dtype='object')\n[right]: Index(['5x_v_wt', 'adrenal', 'age', 'b6cast', 'beep', 'c2c12',\n       'disease_status', 'forelimb', 'rep', 'sample', 'sex', 'tissue'],\n      dtype='object')"
     ]
    }
   ],
   "source": [
    "pd.testing.assert_frame_equal(df, old_df, check_like=True, check_dtype=True)"
   ]
  },
  {
   "cell_type": "code",
   "execution_count": null,
   "id": "8c1dbb40-c588-4f52-a79c-3af1742e499a",
   "metadata": {},
   "outputs": [],
   "source": []
  }
 ],
 "metadata": {
  "kernelspec": {
   "display_name": "Python 3",
   "language": "python",
   "name": "python3"
  },
  "language_info": {
   "codemirror_mode": {
    "name": "ipython",
    "version": 3
   },
   "file_extension": ".py",
   "mimetype": "text/x-python",
   "name": "python",
   "nbconvert_exporter": "python",
   "pygments_lexer": "ipython3",
   "version": "3.7.4"
  }
 },
 "nbformat": 4,
 "nbformat_minor": 5
}
