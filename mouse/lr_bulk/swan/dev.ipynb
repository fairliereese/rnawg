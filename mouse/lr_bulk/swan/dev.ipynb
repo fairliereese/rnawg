{
 "cells": [
  {
   "cell_type": "code",
   "execution_count": 1,
   "id": "37a17b2a-6a0d-4b6d-a798-e1b2c53545e2",
   "metadata": {},
   "outputs": [],
   "source": [
    "import pandas as pd\n",
    "import numpy as np\n",
    "import scipy.stats as st\n",
    "import seaborn as sns\n",
    "import sys\n",
    "import os\n",
    "import gseapy as gp\n",
    "import pdb\n",
    "import copy\n",
    "from scipy import sparse\n",
    "import anndata\n",
    "import swan_vis as swan\n",
    "\n",
    "\n",
    "p = os.path.dirname(os.path.dirname(os.path.dirname(os.getcwd())))\n",
    "sys.path.append(p)\n",
    "\n",
    "from scripts.utils import *\n",
    "from scripts.plotting import *"
   ]
  },
  {
   "cell_type": "code",
   "execution_count": 2,
   "id": "33fb95be-e7e4-48c1-abf4-a753464bbb54",
   "metadata": {},
   "outputs": [
    {
     "name": "stdout",
     "output_type": "stream",
     "text": [
      "Read in graph from swan.p\n"
     ]
    }
   ],
   "source": [
    "## Adding \"adult\" metadata\n",
    "sg = swan.read('swan.p')\n"
   ]
  },
  {
   "cell_type": "code",
   "execution_count": 4,
   "id": "a3d316a9-adc9-4672-8902-74c594d54841",
   "metadata": {},
   "outputs": [],
   "source": [
    "df = pd.read_csv('mouse_metadata.tsv', sep='\\t')"
   ]
  },
  {
   "cell_type": "code",
   "execution_count": 6,
   "id": "8ce4247d-b851-4fac-9c0c-c435cb3db574",
   "metadata": {},
   "outputs": [
    {
     "data": {
      "text/plain": [
       "array([nan, '10d', '14d', '18-20mo', '25d', '2mo', '36d', '4d', 'e11',\n",
       "       'e13'], dtype=object)"
      ]
     },
     "execution_count": 6,
     "metadata": {},
     "output_type": "execute_result"
    }
   ],
   "source": [
    "df.age.unique()"
   ]
  },
  {
   "cell_type": "code",
   "execution_count": 17,
   "id": "cc9dff15-0f2f-4d74-bcea-21c35ea5aa59",
   "metadata": {},
   "outputs": [],
   "source": [
    "df['adult'] = False\n",
    "\n",
    "# tissues that aren't part of the b6cast timecourse are \n",
    "# adult\n",
    "df.loc[(df.b6cast==False)&\\\n",
    "       (df.classification=='tissue')&\\\n",
    "       (df.tissue!='forelimb'), 'adult'] = True\n",
    "\n",
    "# b6cast tissues w/ age = 18-20mo and 12mo are adult\n",
    "ad_ages = ['18-20mo', '12mo']\n",
    "df.loc[df.age.isin(ad_ages), 'adult'] = True"
   ]
  },
  {
   "cell_type": "code",
   "execution_count": 18,
   "id": "707f5057-10f3-4b17-801a-902cc40ccf42",
   "metadata": {},
   "outputs": [
    {
     "data": {
      "text/plain": [
       "['adrenal',\n",
       " 'adrenal_18-20mo',\n",
       " 'cortex',\n",
       " 'cortex_18-20mo',\n",
       " 'gastroc_18-20mo',\n",
       " 'heart_18-20mo',\n",
       " 'hippocampus',\n",
       " 'hippocampus_18-20mo']"
      ]
     },
     "execution_count": 18,
     "metadata": {},
     "output_type": "execute_result"
    }
   ],
   "source": [
    "df.loc[df.adult==True, 'sample'].unique().tolist()"
   ]
  },
  {
   "cell_type": "code",
   "execution_count": 24,
   "id": "d2b28070-4658-438b-9fd8-c33538bfc6a5",
   "metadata": {},
   "outputs": [
    {
     "data": {
      "text/plain": [
       "array(['adrenal_True', 'adrenal_False', 'c2c12_myoblast_False',\n",
       "       'c2c12_myotube_False', 'cortex_True', 'cortex_False',\n",
       "       'f1219_False', 'forelimb_False', 'gastroc_False', 'gastroc_True',\n",
       "       'heart_False', 'heart_True', 'hippocampus_True',\n",
       "       'hippocampus_False'], dtype=object)"
      ]
     },
     "execution_count": 24,
     "metadata": {},
     "output_type": "execute_result"
    }
   ],
   "source": [
    "# add column for tissue_adult\n",
    "df['tissue_adult'] = df.tissue+'_'+df.adult.astype(str)\n",
    "df.tissue_adult.unique()"
   ]
  },
  {
   "cell_type": "code",
   "execution_count": 25,
   "id": "9a184a08-516c-4fe3-964b-16e1ce864dc8",
   "metadata": {},
   "outputs": [],
   "source": [
    "df.to_csv('mouse_metadata_adult.tsv', sep='\\t', index=False)"
   ]
  },
  {
   "cell_type": "code",
   "execution_count": 26,
   "id": "8f20b248-aa0e-4caf-afab-8f5ea8e64427",
   "metadata": {},
   "outputs": [
    {
     "name": "stderr",
     "output_type": "stream",
     "text": [
      "/Users/fairliereese/miniconda3/lib/python3.7/site-packages/anndata/_core/anndata.py:794: UserWarning: \n",
      "AnnData expects .obs.index to contain strings, but got values like:\n",
      "    [0, 1, 2, 3, 4]\n",
      "\n",
      "    Inferred to be: integer\n",
      "\n",
      "  value_idx = self._prep_dim_index(value.index, attr)\n"
     ]
    }
   ],
   "source": [
    "sg.add_metadata('mouse_metadata_adult.tsv')"
   ]
  },
  {
   "cell_type": "code",
   "execution_count": 30,
   "id": "3fc2fd82-9deb-4b4c-a3d0-ea12cf588cad",
   "metadata": {},
   "outputs": [
    {
     "name": "stdout",
     "output_type": "stream",
     "text": [
      "Saving graph as swan.p\n"
     ]
    }
   ],
   "source": [
    "sg.save_graph('swan')"
   ]
  },
  {
   "cell_type": "code",
   "execution_count": null,
   "id": "ce73e0af-a440-408e-a253-fc459c9f03cb",
   "metadata": {},
   "outputs": [],
   "source": []
  },
  {
   "cell_type": "code",
   "execution_count": null,
   "id": "4b18cea9-d8bb-421e-a3ec-fb01bb570ae0",
   "metadata": {},
   "outputs": [],
   "source": []
  },
  {
   "cell_type": "code",
   "execution_count": null,
   "id": "8d8dfa79-ac34-4a01-aa5c-193c2786f588",
   "metadata": {},
   "outputs": [],
   "source": [
    "## something else idk "
   ]
  },
  {
   "cell_type": "code",
   "execution_count": 13,
   "id": "75859ff5-90e6-496c-907b-bb54b6b92cf9",
   "metadata": {},
   "outputs": [
    {
     "name": "stdout",
     "output_type": "stream",
     "text": [
      "123\n",
      "123\n"
     ]
    }
   ],
   "source": [
    "df = pd.read_csv('../talon/mouse_talon_abundance_filtered.tsv', sep='\\t')\n",
    "\n",
    "df = get_mouse_metadata_from_ab(df)\n",
    "\n",
    "# create sample level metadata\n",
    "df['sample'] = False\n",
    "\n",
    "# for timecourse+forelimb use tissue + age\n",
    "inds = df.loc[(df.b6cast)|(df.forelimb)].index\n",
    "df.loc[inds, 'sample'] = df.loc[inds, 'tissue']+'_'+df.loc[inds, 'age']\n",
    "\n",
    "# for c2c12,  use tissue\n",
    "inds = df.loc[df.c2c12==True].index\n",
    "df.loc[inds, 'sample'] = df.loc[inds, 'tissue']\n",
    "\n",
    "# for adrenal, hc, ctx from 5x, use tissue\n",
    "inds = df.loc[(df['5x_v_wt']==True)|(df.adrenal==True)].index\n",
    "df.loc[inds, 'sample'] = df.loc[inds, 'tissue']\n",
    "\n",
    "df.to_csv('mouse_metadata.tsv', sep='\\t', index=False)"
   ]
  },
  {
   "cell_type": "code",
   "execution_count": 22,
   "id": "59f772cc-0df3-43b4-83a4-2f6838a4741f",
   "metadata": {},
   "outputs": [
    {
     "name": "stdout",
     "output_type": "stream",
     "text": [
      "Index(['dataset', 'b6cast', 'tissue', 'age', 'sex', 'rep', '5x_v_wt',\n",
      "       'disease_status', 'forelimb', 'c2c12', 'adrenal', 'sample'],\n",
      "      dtype='object')\n",
      "            dataset  b6cast   tissue  age sex  rep 5x_v_wt disease_status  \\\n",
      "6   adrenal_10d_f_1    True  adrenal  10d   f  1.0     NaN            NaN   \n",
      "7   adrenal_10d_f_2    True  adrenal  10d   f  2.0     NaN            NaN   \n",
      "36  adrenal_10d_m_1    True  adrenal  10d   m  1.0     NaN            NaN   \n",
      "35  adrenal_10d_m_2    True  adrenal  10d   m  2.0     NaN            NaN   \n",
      "42  adrenal_14d_f_1    True  adrenal  14d   f  1.0     NaN            NaN   \n",
      "\n",
      "   forelimb c2c12 adrenal       sample  \n",
      "6       NaN   NaN     NaN  adrenal_10d  \n",
      "7       NaN   NaN     NaN  adrenal_10d  \n",
      "36      NaN   NaN     NaN  adrenal_10d  \n",
      "35      NaN   NaN     NaN  adrenal_10d  \n",
      "42      NaN   NaN     NaN  adrenal_14d  \n",
      "dataset            object\n",
      "b6cast               bool\n",
      "tissue             object\n",
      "age                object\n",
      "sex                object\n",
      "rep               float64\n",
      "5x_v_wt            object\n",
      "disease_status     object\n",
      "forelimb           object\n",
      "c2c12              object\n",
      "adrenal            object\n",
      "sample             object\n",
      "dtype: object\n"
     ]
    }
   ],
   "source": [
    "df.sort_values(by=['dataset'], inplace=True)\n",
    "df.to_csv('mouse_metadata.tsv', sep='\\t', index=False)\n",
    "print(df.columns)\n",
    "print(df.head())\n",
    "print(df.dtypes)"
   ]
  },
  {
   "cell_type": "code",
   "execution_count": 23,
   "id": "5cb0350c-fb3f-4748-a22e-dc6f31907b60",
   "metadata": {},
   "outputs": [
    {
     "name": "stdout",
     "output_type": "stream",
     "text": [
      "Index(['dataset', 'b6cast', 'tissue', 'age', 'sex', 'rep', '5x_v_wt',\n",
      "       'disease_status', 'forelimb', 'c2c12', 'adrenal', 'sample'],\n",
      "      dtype='object')\n",
      "            dataset  b6cast   tissue  age sex  rep 5x_v_wt disease_status  \\\n",
      "6   adrenal_10d_f_1    True  adrenal  10d   f  1.0     NaN            NaN   \n",
      "7   adrenal_10d_f_2    True  adrenal  10d   f  2.0     NaN            NaN   \n",
      "36  adrenal_10d_m_1    True  adrenal  10d   m  1.0     NaN            NaN   \n",
      "35  adrenal_10d_m_2    True  adrenal  10d   m  2.0     NaN            NaN   \n",
      "42  adrenal_14d_f_1    True  adrenal  14d   f  1.0     NaN            NaN   \n",
      "\n",
      "   forelimb c2c12 adrenal       sample  \n",
      "6       NaN   NaN     NaN  adrenal_10d  \n",
      "7       NaN   NaN     NaN  adrenal_10d  \n",
      "36      NaN   NaN     NaN  adrenal_10d  \n",
      "35      NaN   NaN     NaN  adrenal_10d  \n",
      "42      NaN   NaN     NaN  adrenal_14d  \n",
      "dataset            object\n",
      "b6cast               bool\n",
      "tissue             object\n",
      "age                object\n",
      "sex                object\n",
      "rep               float64\n",
      "5x_v_wt            object\n",
      "disease_status     object\n",
      "forelimb           object\n",
      "c2c12              object\n",
      "adrenal            object\n",
      "sample             object\n",
      "dtype: object\n"
     ]
    }
   ],
   "source": [
    "old_df = pd.read_csv('/Users/fairliereese/mortazavi_lab/data/mousewg/lr_bulk/swan/mouse_metadata.tsv', sep='\\t')\n",
    "old_df.sort_values(by=['dataset'], inplace=True)\n",
    "old_df.to_csv('mousewg_mouse_metadata.tsv', sep='\\t', index=False)\n",
    "print(old_df.columns)\n",
    "print(old_df.head())\n",
    "print(old_df.dtypes)\n",
    "old_df.rename({'dataset':'beep'}, axis=1, inplace=True)"
   ]
  },
  {
   "cell_type": "code",
   "execution_count": 24,
   "id": "b9414d1d-9d9d-4259-8a33-98d0e2787c5e",
   "metadata": {},
   "outputs": [
    {
     "ename": "AssertionError",
     "evalue": "DataFrame.columns are different\n\nDataFrame.columns values are different (16.66667 %)\n[left]:  Index(['5x_v_wt', 'adrenal', 'age', 'b6cast', 'c2c12', 'dataset',\n       'disease_status', 'forelimb', 'rep', 'sample', 'sex', 'tissue'],\n      dtype='object')\n[right]: Index(['5x_v_wt', 'adrenal', 'age', 'b6cast', 'beep', 'c2c12',\n       'disease_status', 'forelimb', 'rep', 'sample', 'sex', 'tissue'],\n      dtype='object')",
     "output_type": "error",
     "traceback": [
      "\u001b[0;31m---------------------------------------------------------------------------\u001b[0m",
      "\u001b[0;31mAssertionError\u001b[0m                            Traceback (most recent call last)",
      "\u001b[0;32m<ipython-input-24-35da1eaa43f3>\u001b[0m in \u001b[0;36m<module>\u001b[0;34m\u001b[0m\n\u001b[0;32m----> 1\u001b[0;31m \u001b[0mpd\u001b[0m\u001b[0;34m.\u001b[0m\u001b[0mtesting\u001b[0m\u001b[0;34m.\u001b[0m\u001b[0massert_frame_equal\u001b[0m\u001b[0;34m(\u001b[0m\u001b[0mdf\u001b[0m\u001b[0;34m,\u001b[0m \u001b[0mold_df\u001b[0m\u001b[0;34m,\u001b[0m \u001b[0mcheck_like\u001b[0m\u001b[0;34m=\u001b[0m\u001b[0;32mTrue\u001b[0m\u001b[0;34m,\u001b[0m \u001b[0mcheck_dtype\u001b[0m\u001b[0;34m=\u001b[0m\u001b[0;32mTrue\u001b[0m\u001b[0;34m)\u001b[0m\u001b[0;34m\u001b[0m\u001b[0;34m\u001b[0m\u001b[0m\n\u001b[0m",
      "    \u001b[0;31m[... skipping hidden 2 frame]\u001b[0m\n",
      "\u001b[0;32m~/miniconda3/lib/python3.7/site-packages/pandas/_libs/testing.pyx\u001b[0m in \u001b[0;36mpandas._libs.testing.assert_almost_equal\u001b[0;34m()\u001b[0m\n",
      "\u001b[0;32m~/miniconda3/lib/python3.7/site-packages/pandas/_libs/testing.pyx\u001b[0m in \u001b[0;36mpandas._libs.testing.assert_almost_equal\u001b[0;34m()\u001b[0m\n",
      "\u001b[0;32m~/miniconda3/lib/python3.7/site-packages/pandas/_testing/asserters.py\u001b[0m in \u001b[0;36mraise_assert_detail\u001b[0;34m(obj, message, left, right, diff, index_values)\u001b[0m\n\u001b[1;32m    663\u001b[0m         \u001b[0mmsg\u001b[0m \u001b[0;34m+=\u001b[0m \u001b[0;34mf\"\\n[diff]: {diff}\"\u001b[0m\u001b[0;34m\u001b[0m\u001b[0;34m\u001b[0m\u001b[0m\n\u001b[1;32m    664\u001b[0m \u001b[0;34m\u001b[0m\u001b[0m\n\u001b[0;32m--> 665\u001b[0;31m     \u001b[0;32mraise\u001b[0m \u001b[0mAssertionError\u001b[0m\u001b[0;34m(\u001b[0m\u001b[0mmsg\u001b[0m\u001b[0;34m)\u001b[0m\u001b[0;34m\u001b[0m\u001b[0;34m\u001b[0m\u001b[0m\n\u001b[0m\u001b[1;32m    666\u001b[0m \u001b[0;34m\u001b[0m\u001b[0m\n\u001b[1;32m    667\u001b[0m \u001b[0;34m\u001b[0m\u001b[0m\n",
      "\u001b[0;31mAssertionError\u001b[0m: DataFrame.columns are different\n\nDataFrame.columns values are different (16.66667 %)\n[left]:  Index(['5x_v_wt', 'adrenal', 'age', 'b6cast', 'c2c12', 'dataset',\n       'disease_status', 'forelimb', 'rep', 'sample', 'sex', 'tissue'],\n      dtype='object')\n[right]: Index(['5x_v_wt', 'adrenal', 'age', 'b6cast', 'beep', 'c2c12',\n       'disease_status', 'forelimb', 'rep', 'sample', 'sex', 'tissue'],\n      dtype='object')"
     ]
    }
   ],
   "source": [
    "pd.testing.assert_frame_equal(df, old_df, check_like=True, check_dtype=True)"
   ]
  },
  {
   "cell_type": "code",
   "execution_count": null,
   "id": "8c1dbb40-c588-4f52-a79c-3af1742e499a",
   "metadata": {},
   "outputs": [],
   "source": []
  }
 ],
 "metadata": {
  "kernelspec": {
   "display_name": "Python 3",
   "language": "python",
   "name": "python3"
  },
  "language_info": {
   "codemirror_mode": {
    "name": "ipython",
    "version": 3
   },
   "file_extension": ".py",
   "mimetype": "text/x-python",
   "name": "python",
   "nbconvert_exporter": "python",
   "pygments_lexer": "ipython3",
   "version": "3.7.4"
  }
 },
 "nbformat": 4,
 "nbformat_minor": 5
}
