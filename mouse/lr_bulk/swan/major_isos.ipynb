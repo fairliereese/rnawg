{
 "cells": [
  {
   "cell_type": "code",
   "execution_count": 1,
   "id": "fd3e112f-e664-497e-bcca-73c8b7b673f6",
   "metadata": {},
   "outputs": [],
   "source": [
    "import pandas as pd\n",
    "import numpy as np\n",
    "import scipy.stats as st\n",
    "import seaborn as sns\n",
    "import sys\n",
    "import os\n",
    "import gseapy as gp\n",
    "import pdb\n",
    "import copy\n",
    "from scipy import sparse\n",
    "import anndata\n",
    "import swan_vis as swan\n",
    "\n",
    "\n",
    "p = os.path.dirname(os.path.dirname(os.path.dirname(os.getcwd())))\n",
    "sys.path.append(p)\n",
    "\n",
    "from scripts.utils import *\n",
    "from scripts.plotting import *"
   ]
  },
  {
   "cell_type": "code",
   "execution_count": 2,
   "id": "365041a7-ce96-468b-b5d4-181dddb7d913",
   "metadata": {},
   "outputs": [],
   "source": [
    "filt_ab = '../cerberus/cerberus_filtered_abundance.tsv'\n",
    "swan_obj = 'swan.p'\n",
    "h5 = '../cerberus/cerberus_annot.h5'\n",
    "species = 'mouse'\n",
    "min_tpm = 1\n",
    "gene_subset = 'polya'"
   ]
  },
  {
   "cell_type": "code",
   "execution_count": 3,
   "id": "93ca34fe-a153-434d-9a40-bb299b0dc829",
   "metadata": {},
   "outputs": [
    {
     "name": "stdout",
     "output_type": "stream",
     "text": [
      "Read in graph from swan.p\n"
     ]
    }
   ],
   "source": [
    "sg = swan.read(swan_obj)\n",
    "t_df = pd.read_csv(filt_ab, sep='\\t')"
   ]
  },
  {
   "cell_type": "code",
   "execution_count": 4,
   "id": "dcbaf066-cf45-4281-9682-6c91502254d7",
   "metadata": {},
   "outputs": [],
   "source": [
    "def get_major_isos(sg, t_df, \n",
    "                   obs_col,\n",
    "                   ofile,\n",
    "                   min_tpm=1):\n",
    "    \"\"\"\n",
    "    Get major isoforms per sample / gene combination\n",
    "    \n",
    "    Parameters: \n",
    "        sg (swan_vis SwanGraph): SwanGraph \n",
    "        obs_col (str): Column in sg.adata.obs to use\n",
    "        ofile (str): Where to save results\n",
    "        tids (list of str): List of transcripts to even consider\n",
    "    \"\"\"\n",
    "    \n",
    "    t_df = t_df[['annot_gene_name', 'annot_transcript_id', 'annot_gene_id']]\n",
    "    t_df.rename({'annot_gene_name': 'gname',\n",
    "                 'annot_gene_id': 'gid',\n",
    "                 'annot_transcript_id': 'tid'}, \n",
    "                 axis=1, \n",
    "                 inplace=True)\n",
    "\n",
    "    df, _ = swan.calc_pi(sg.adata, sg.t_df, obs_col=obs_col)\n",
    "    df = df.sparse.to_dense().transpose()\n",
    "    tpm_df = swan.calc_tpm(sg.adata, obs_col=obs_col, how='max').sparse.to_dense().transpose()\n",
    "    tpm_df.reset_index(inplace=True)\n",
    "    tpm_df.rename({'index':'tid'}, axis=1, inplace=True)\n",
    "    \n",
    "    # melt to have one entry per tid / sample combination\n",
    "    def melt_transcript_sample(df, t_df, obs_col, col_name):\n",
    "        df = df.merge(t_df[['tid', 'gname', 'gid']], how='inner', on='tid')\n",
    "        df.set_index(['tid', 'gname', 'gid'], inplace=True)\n",
    "        df = df.melt(ignore_index=False, value_name=col_name, var_name=obs_col)\n",
    "        df = df.dropna(subset=[col_name])\n",
    "        df.reset_index(inplace=True)\n",
    "        return df \n",
    "        \n",
    "    df = melt_transcript_sample(df, t_df, obs_col, col_name='pi')\n",
    "    tpm_df = melt_transcript_sample(tpm_df, t_df, obs_col, col_name='tpm')    \n",
    "    \n",
    "    # add tpm info in and subset based on tpm thresh\n",
    "    df = df.merge(tpm_df, how='left', on=['tid', 'gname', 'gid', obs_col])\n",
    "    print(df.loc[(df.tpm < min_tpm)&(df.pi > 0)].head())\n",
    "    df = df.loc[df.tpm >= min_tpm]\n",
    "    df.drop('tpm', axis=1, inplace=True)\n",
    "\n",
    "    # determine the rank of each pi value for each sample / gene combo\n",
    "    df = df.sort_values(by='pi', ascending=False)\n",
    "    df['pi_rank'] = df.sort_values(by='pi', ascending=False).groupby(['gname', 'gid', obs_col]).cumcount()+1\n",
    "\n",
    "    # add a column that we can check for convergence with \n",
    "    df['gname_gid_biosamp'] = df.gname+'_'+df.gid+'_'+df[obs_col]\n",
    "    \n",
    "    # add total pi value so that we can return all isos that sum up \n",
    "    # to this value if we've removed the isos that bring total to >= 90%\n",
    "    max_total_pis = df[['pi', 'gname_gid_biosamp']].groupby('gname_gid_biosamp').sum().reset_index()\n",
    "    max_total_pis.rename({'pi': 'max_total_pi'}, axis=1, inplace=True)\n",
    "    \n",
    "    df.to_csv('isos_90_in_progress.tsv', sep='\\t')\n",
    "    \n",
    "    iso_df = pd.DataFrame()\n",
    "    max_pi_rank = df.pi_rank.max()\n",
    "    for max_pi in range(1, max_pi_rank+1):\n",
    "        pi_ranks = [i for i in range(1, max_pi+1)]\n",
    "        # for the first iteration, we don't have to limit which genes we look at\n",
    "        if max_pi == 1:\n",
    "            temp = df.loc[df.pi_rank.isin(pi_ranks)].groupby(['gname_gid_biosamp']).sum().reset_index()\n",
    "        else:\n",
    "            ids = iso_df.gname_gid_biosamp.tolist()\n",
    "            temp = df.loc[(~df.gname_gid_biosamp.isin(ids))&(df.pi_rank.isin(pi_ranks))].groupby(['gname_gid_biosamp']).sum().reset_index()\n",
    "\n",
    "        # converged if no more entries to analyze\n",
    "        if len(temp.index) == 0:\n",
    "            break\n",
    "\n",
    "        # get isoforms that have >90% isoform exp accounted for   \n",
    "        temp = temp.merge(max_total_pis, how='left', on='gname_gid_biosamp')\n",
    "        temp.loc[temp.max_total_pi >= 90, 'max_total_pi'] = 90\n",
    "        temp = temp.loc[temp.pi >= temp.max_total_pi]\n",
    "        temp.drop(['pi_rank', 'max_total_pi'], axis=1, inplace=True)\n",
    "        temp['n_isos'] = max_pi\n",
    "        iso_df = pd.concat([iso_df, temp])\n",
    "        \n",
    "    \n",
    "    # get list of isoforms required for each sample / gene combination as well\n",
    "    df = df.merge(iso_df, how='left', on='gname_gid_biosamp')\n",
    "    df['in_90_set'] = df.pi_rank <= df.n_isos\n",
    "    df = df.loc[df.in_90_set]\n",
    "    df[['gname', 'gid', obs_col]] = df.gname_gid_biosamp.str.split('_', n=2, expand=True)    \n",
    "    df.rename({'pi_x': 'pi'}, axis=1, inplace=True)\n",
    "    df.drop(['gname_gid_biosamp', \n",
    "            'pi_y', 'n_isos', 'in_90_set'], axis=1, inplace=True)\n",
    "\n",
    "    # get the sample / gene vs. n isoforms required for 90%    \n",
    "    iso_df[['gname', 'gid', obs_col]] = iso_df.gname_gid_biosamp.str.split('_', n=2, expand=True)    \n",
    "    iso_df.drop('gname_gid_biosamp', axis=1, inplace=True)\n",
    "    iso_df = iso_df.sort_values('n_isos', ascending=False)\n",
    "\n",
    "    df.to_csv(ofile, sep='\\t', index=False)\n",
    "    return df"
   ]
  },
  {
   "cell_type": "code",
   "execution_count": 7,
   "id": "c2dfad52-a28b-49ff-b7af-85f28b288780",
   "metadata": {},
   "outputs": [],
   "source": [
    "# sg.adata.obs['sample'].loc[sg.adata.obs['sample'].isnull()]"
   ]
  },
  {
   "cell_type": "code",
   "execution_count": 9,
   "id": "34622026-efea-424e-a461-42c6c7af41ec",
   "metadata": {},
   "outputs": [],
   "source": [
    "# obs_col = 'sample'\n",
    "# conditions = sg.adata.obs[obs_col].unique().tolist()"
   ]
  },
  {
   "cell_type": "code",
   "execution_count": 10,
   "id": "8a021f57-3f98-4c9e-8925-78952883b65e",
   "metadata": {},
   "outputs": [
    {
     "name": "stdout",
     "output_type": "stream",
     "text": [
      "                              tid    gname                    gid  \\\n",
      "260272  ENSMUSG00000051285[1,3,6]   Pcmtd1  ENSMUSG00000051285.17   \n",
      "260287  ENSMUSG00000097797[1,2,2]  Gm26901   ENSMUSG00000097797.6   \n",
      "260299  ENSMUSG00000025911[1,7,6]   Adhfe1  ENSMUSG00000025911.14   \n",
      "260305  ENSMUSG00000025912[1,1,1]    Mybl1  ENSMUSG00000025912.16   \n",
      "260334  ENSMUSG00000098234[1,1,1]    Snhg6   ENSMUSG00000098234.7   \n",
      "\n",
      "                 sample          pi       tpm  \n",
      "260272  adrenal_18-20mo    0.369004  0.859054  \n",
      "260287  adrenal_18-20mo  100.000000  0.859054  \n",
      "260299  adrenal_18-20mo    0.735294  0.859054  \n",
      "260305  adrenal_18-20mo   33.333336  0.859054  \n",
      "260334  adrenal_18-20mo    6.666667  0.859054  \n"
     ]
    }
   ],
   "source": [
    "fname = 'isos_sample_gene_90.tsv'\n",
    "df = get_major_isos(sg, t_df, \n",
    "               'sample',\n",
    "               fname,\n",
    "               min_tpm=min_tpm)"
   ]
  },
  {
   "cell_type": "code",
   "execution_count": 10,
   "id": "7a790c8e-df2f-4679-967b-a8dfae3da93d",
   "metadata": {},
   "outputs": [
    {
     "name": "stdout",
     "output_type": "stream",
     "text": [
      "Read in graph from swan.p\n"
     ]
    }
   ],
   "source": [
    "sg = swan.read(swan_obj)\n",
    "t_df = pd.read_csv(filt_ab, sep='\\t')"
   ]
  },
  {
   "cell_type": "code",
   "execution_count": 5,
   "id": "a9ed6e4a-7c7e-42fb-982c-04b551e65b80",
   "metadata": {},
   "outputs": [
    {
     "name": "stdout",
     "output_type": "stream",
     "text": [
      "                         tid          gname                   gid  \\\n",
      "0  ENSMUSG00000102693[1,1,1]  4933401J01Rik  ENSMUSG00000102693.1   \n",
      "2  ENSMUSG00000103377[1,1,1]        Gm37180  ENSMUSG00000103377.1   \n",
      "3  ENSMUSG00000104017[1,1,1]        Gm37363  ENSMUSG00000104017.1   \n",
      "4  ENSMUSG00000103201[1,1,1]        Gm37329  ENSMUSG00000103201.1   \n",
      "5  ENSMUSG00000103161[1,1,1]        Gm38148  ENSMUSG00000103161.1   \n",
      "\n",
      "        tissue     pi       tpm  \n",
      "0  hippocampus  100.0  0.448623  \n",
      "2  hippocampus  100.0  0.779937  \n",
      "3  hippocampus  100.0  0.779937  \n",
      "4  hippocampus  100.0  0.779937  \n",
      "5  hippocampus  100.0  0.983370  \n"
     ]
    }
   ],
   "source": [
    "fname = 'isos_tissue_gene_90.tsv'\n",
    "df = get_major_isos(sg, t_df, \n",
    "                    'tissue',\n",
    "                    fname,\n",
    "                    min_tpm=min_tpm)"
   ]
  },
  {
   "cell_type": "code",
   "execution_count": null,
   "id": "b01f2655-f564-4086-a51d-073809fea68b",
   "metadata": {},
   "outputs": [],
   "source": []
  }
 ],
 "metadata": {
  "kernelspec": {
   "display_name": "Python 3",
   "language": "python",
   "name": "python3"
  },
  "language_info": {
   "codemirror_mode": {
    "name": "ipython",
    "version": 3
   },
   "file_extension": ".py",
   "mimetype": "text/x-python",
   "name": "python",
   "nbconvert_exporter": "python",
   "pygments_lexer": "ipython3",
   "version": "3.7.4"
  }
 },
 "nbformat": 4,
 "nbformat_minor": 5
}
