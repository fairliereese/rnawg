{
 "cells": [
  {
   "cell_type": "code",
   "execution_count": 1,
   "id": "6cd17a7b-21f8-4f0e-a271-9a475dda6a9e",
   "metadata": {},
   "outputs": [],
   "source": [
    "import cerberus"
   ]
  },
  {
   "cell_type": "code",
   "execution_count": 2,
   "id": "598bd673-79a0-4449-9535-c33b9e2e2dd1",
   "metadata": {},
   "outputs": [],
   "source": [
    "ca = cerberus.read('../triplets/cerberus_annot_triplets.h5')"
   ]
  },
  {
   "cell_type": "code",
   "execution_count": 3,
   "id": "c2652b89-be6f-4e2a-b169-e10e0b51cc11",
   "metadata": {},
   "outputs": [],
   "source": [
    "drop_cols = ['tss_first_sd_issue', 'tes_last_sa_issue']\n",
    "ca.t_map.drop(drop_cols, axis=1, inplace=True)"
   ]
  },
  {
   "cell_type": "code",
   "execution_count": 4,
   "id": "f0b3000f-fe18-4bbf-87c7-eb4ec824eee5",
   "metadata": {},
   "outputs": [],
   "source": [
    "ca.write('cerberus_encode.h5')"
   ]
  },
  {
   "cell_type": "code",
   "execution_count": null,
   "id": "10be83d2-5783-41f4-9ef6-c95343ede853",
   "metadata": {},
   "outputs": [],
   "source": []
  }
 ],
 "metadata": {
  "kernelspec": {
   "display_name": "Python 3",
   "language": "python",
   "name": "python3"
  },
  "language_info": {
   "codemirror_mode": {
    "name": "ipython",
    "version": 3
   },
   "file_extension": ".py",
   "mimetype": "text/x-python",
   "name": "python",
   "nbconvert_exporter": "python",
   "pygments_lexer": "ipython3",
   "version": "3.7.4"
  }
 },
 "nbformat": 4,
 "nbformat_minor": 5
}
