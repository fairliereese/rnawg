{
 "cells": [
  {
   "cell_type": "code",
   "execution_count": null,
   "id": "1ad005e5",
   "metadata": {},
   "outputs": [],
   "source": [
    "import os\n",
    "\n",
    "try:\n",
    "    snakemake\n",
    "except NameError:\n",
    "    from snakemk_util import load_rule_args\n",
    "    \n",
    "    os.chdir('../..')\n",
    "    \n",
    "    snakemake = load_rule_args(\n",
    "        snakefile = os.getcwd() + \"/workflow/Snakefile\",\n",
    "        rule_name = 'tss_fantom_overlap',\n",
    "        root = '..'\n",
    "    )"
   ]
  },
  {
   "cell_type": "code",
   "execution_count": null,
   "id": "54ffa696",
   "metadata": {},
   "outputs": [],
   "source": [
    "import pyranges as pr\n",
    "from lapa.result import LapaTssResult"
   ]
  }
 ],
 "metadata": {
  "kernelspec": {
   "display_name": "Python 3 (ipykernel)",
   "language": "python",
   "name": "python3"
  },
  "language_info": {
   "codemirror_mode": {
    "name": "ipython",
    "version": 3
   },
   "file_extension": ".py",
   "mimetype": "text/x-python",
   "name": "python",
   "nbconvert_exporter": "python",
   "pygments_lexer": "ipython3",
   "version": "3.8.12"
  }
 },
 "nbformat": 4,
 "nbformat_minor": 5
}
