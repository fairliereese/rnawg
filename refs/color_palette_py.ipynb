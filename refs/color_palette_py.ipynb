{
 "cells": [
  {
   "cell_type": "code",
   "execution_count": 10,
   "id": "southern-worthy",
   "metadata": {},
   "outputs": [],
   "source": [
    "import pandas as pd\n",
    "import seaborn as sns\n",
    "import matplotlib.pyplot as plt"
   ]
  },
  {
   "cell_type": "markdown",
   "id": "following-active",
   "metadata": {},
   "source": [
    "## Colors for biosamples"
   ]
  },
  {
   "cell_type": "code",
   "execution_count": 3,
   "id": "acute-bride",
   "metadata": {},
   "outputs": [
    {
     "name": "stdout",
     "output_type": "stream",
     "text": [
      "                biosample\n",
      "classification           \n",
      "cell_line              21\n",
      "tissue                 10\n",
      "31\n"
     ]
    }
   ],
   "source": [
    "df = pd.read_csv('../lr_bulk/swan/swan_metadata.tsv', sep='\\t')\n",
    "print(df[['biosample', 'classification']].groupby(['classification']).nunique())\n",
    "df = df[['biosample', 'classification']].drop_duplicates()\n",
    "df = df.sort_values(by='classification', ascending=True)\n",
    "print(len(df))"
   ]
  },
  {
   "cell_type": "code",
   "execution_count": 4,
   "id": "typical-forge",
   "metadata": {},
   "outputs": [
    {
     "data": {
      "text/plain": [
       "31"
      ]
     },
     "execution_count": 4,
     "metadata": {},
     "output_type": "execute_result"
    }
   ],
   "source": [
    "cell_line = pd.read_csv('signac_21.csv', header=None)\n",
    "cell_line.rename({0: 'color'}, axis=1, inplace=True)\n",
    "tissue = pd.read_csv('renoir_10.csv', header=None)\n",
    "tissue.rename({0: 'color'}, axis=1, inplace=True)\n",
    "\n",
    "colors = pd.concat([cell_line, tissue], axis=0)\n",
    "len(colors)"
   ]
  },
  {
   "cell_type": "code",
   "execution_count": 5,
   "id": "incomplete-cincinnati",
   "metadata": {},
   "outputs": [
    {
     "data": {
      "text/html": [
       "<div>\n",
       "<style scoped>\n",
       "    .dataframe tbody tr th:only-of-type {\n",
       "        vertical-align: middle;\n",
       "    }\n",
       "\n",
       "    .dataframe tbody tr th {\n",
       "        vertical-align: top;\n",
       "    }\n",
       "\n",
       "    .dataframe thead th {\n",
       "        text-align: right;\n",
       "    }\n",
       "</style>\n",
       "<table border=\"1\" class=\"dataframe\">\n",
       "  <thead>\n",
       "    <tr style=\"text-align: right;\">\n",
       "      <th></th>\n",
       "      <th>biosample</th>\n",
       "      <th>classification</th>\n",
       "      <th>color</th>\n",
       "    </tr>\n",
       "  </thead>\n",
       "  <tbody>\n",
       "    <tr>\n",
       "      <th>0</th>\n",
       "      <td>gm12878</td>\n",
       "      <td>cell_line</td>\n",
       "      <td>#FBE183</td>\n",
       "    </tr>\n",
       "    <tr>\n",
       "      <th>46</th>\n",
       "      <td>h9_panc_beta</td>\n",
       "      <td>cell_line</td>\n",
       "      <td>#F6CE37</td>\n",
       "    </tr>\n",
       "    <tr>\n",
       "      <th>44</th>\n",
       "      <td>h9_panc_progen</td>\n",
       "      <td>cell_line</td>\n",
       "      <td>#F7B70A</td>\n",
       "    </tr>\n",
       "    <tr>\n",
       "      <th>42</th>\n",
       "      <td>h9_osteocyte</td>\n",
       "      <td>cell_line</td>\n",
       "      <td>#FD9D00</td>\n",
       "    </tr>\n",
       "    <tr>\n",
       "      <th>40</th>\n",
       "      <td>h9_neural_crest</td>\n",
       "      <td>cell_line</td>\n",
       "      <td>#E76624</td>\n",
       "    </tr>\n",
       "    <tr>\n",
       "      <th>38</th>\n",
       "      <td>pgp1_excite_neuron</td>\n",
       "      <td>cell_line</td>\n",
       "      <td>#C8403D</td>\n",
       "    </tr>\n",
       "    <tr>\n",
       "      <th>34</th>\n",
       "      <td>h9_de</td>\n",
       "      <td>cell_line</td>\n",
       "      <td>#A13540</td>\n",
       "    </tr>\n",
       "    <tr>\n",
       "      <th>31</th>\n",
       "      <td>h9_chondro</td>\n",
       "      <td>cell_line</td>\n",
       "      <td>#BF4861</td>\n",
       "    </tr>\n",
       "    <tr>\n",
       "      <th>29</th>\n",
       "      <td>pgp1_astro</td>\n",
       "      <td>cell_line</td>\n",
       "      <td>#E05F7E</td>\n",
       "    </tr>\n",
       "    <tr>\n",
       "      <th>28</th>\n",
       "      <td>pc3</td>\n",
       "      <td>cell_line</td>\n",
       "      <td>#E67587</td>\n",
       "    </tr>\n",
       "    <tr>\n",
       "      <th>36</th>\n",
       "      <td>pgp1_endo</td>\n",
       "      <td>cell_line</td>\n",
       "      <td>#E78E97</td>\n",
       "    </tr>\n",
       "    <tr>\n",
       "      <th>26</th>\n",
       "      <td>mcf7</td>\n",
       "      <td>cell_line</td>\n",
       "      <td>#DD9CA5</td>\n",
       "    </tr>\n",
       "    <tr>\n",
       "      <th>27</th>\n",
       "      <td>panc1</td>\n",
       "      <td>cell_line</td>\n",
       "      <td>#B582A2</td>\n",
       "    </tr>\n",
       "    <tr>\n",
       "      <th>9</th>\n",
       "      <td>h9</td>\n",
       "      <td>cell_line</td>\n",
       "      <td>#A56999</td>\n",
       "    </tr>\n",
       "    <tr>\n",
       "      <th>11</th>\n",
       "      <td>hct116</td>\n",
       "      <td>cell_line</td>\n",
       "      <td>#98528D</td>\n",
       "    </tr>\n",
       "    <tr>\n",
       "      <th>12</th>\n",
       "      <td>hepg2</td>\n",
       "      <td>cell_line</td>\n",
       "      <td>#723B79</td>\n",
       "    </tr>\n",
       "    <tr>\n",
       "      <th>7</th>\n",
       "      <td>pgp1</td>\n",
       "      <td>cell_line</td>\n",
       "      <td>#474A82</td>\n",
       "    </tr>\n",
       "    <tr>\n",
       "      <th>18</th>\n",
       "      <td>hl60</td>\n",
       "      <td>cell_line</td>\n",
       "      <td>#1F709A</td>\n",
       "    </tr>\n",
       "    <tr>\n",
       "      <th>20</th>\n",
       "      <td>imr90</td>\n",
       "      <td>cell_line</td>\n",
       "      <td>#278D89</td>\n",
       "    </tr>\n",
       "    <tr>\n",
       "      <th>21</th>\n",
       "      <td>k562</td>\n",
       "      <td>cell_line</td>\n",
       "      <td>#4FA770</td>\n",
       "    </tr>\n",
       "    <tr>\n",
       "      <th>15</th>\n",
       "      <td>hffc6</td>\n",
       "      <td>cell_line</td>\n",
       "      <td>#92C051</td>\n",
       "    </tr>\n",
       "    <tr>\n",
       "      <th>79</th>\n",
       "      <td>muscle</td>\n",
       "      <td>tissue</td>\n",
       "      <td>#17154f</td>\n",
       "    </tr>\n",
       "    <tr>\n",
       "      <th>48</th>\n",
       "      <td>adrenal gland</td>\n",
       "      <td>tissue</td>\n",
       "      <td>#2f357c</td>\n",
       "    </tr>\n",
       "    <tr>\n",
       "      <th>51</th>\n",
       "      <td>vessels</td>\n",
       "      <td>tissue</td>\n",
       "      <td>#6c5d9e</td>\n",
       "    </tr>\n",
       "    <tr>\n",
       "      <th>53</th>\n",
       "      <td>heart</td>\n",
       "      <td>tissue</td>\n",
       "      <td>#b0799a</td>\n",
       "    </tr>\n",
       "    <tr>\n",
       "      <th>61</th>\n",
       "      <td>kidney</td>\n",
       "      <td>tissue</td>\n",
       "      <td>#f6b3b0</td>\n",
       "    </tr>\n",
       "    <tr>\n",
       "      <th>63</th>\n",
       "      <td>colon</td>\n",
       "      <td>tissue</td>\n",
       "      <td>#e48171</td>\n",
       "    </tr>\n",
       "    <tr>\n",
       "      <th>64</th>\n",
       "      <td>lung</td>\n",
       "      <td>tissue</td>\n",
       "      <td>#bf3729</td>\n",
       "    </tr>\n",
       "    <tr>\n",
       "      <th>71</th>\n",
       "      <td>adipose</td>\n",
       "      <td>tissue</td>\n",
       "      <td>#e69b00</td>\n",
       "    </tr>\n",
       "    <tr>\n",
       "      <th>74</th>\n",
       "      <td>ovary</td>\n",
       "      <td>tissue</td>\n",
       "      <td>#f5bb50</td>\n",
       "    </tr>\n",
       "    <tr>\n",
       "      <th>85</th>\n",
       "      <td>liver</td>\n",
       "      <td>tissue</td>\n",
       "      <td>#ada43b</td>\n",
       "    </tr>\n",
       "  </tbody>\n",
       "</table>\n",
       "</div>"
      ],
      "text/plain": [
       "             biosample classification    color\n",
       "0              gm12878      cell_line  #FBE183\n",
       "46        h9_panc_beta      cell_line  #F6CE37\n",
       "44      h9_panc_progen      cell_line  #F7B70A\n",
       "42        h9_osteocyte      cell_line  #FD9D00\n",
       "40     h9_neural_crest      cell_line  #E76624\n",
       "38  pgp1_excite_neuron      cell_line  #C8403D\n",
       "34               h9_de      cell_line  #A13540\n",
       "31          h9_chondro      cell_line  #BF4861\n",
       "29          pgp1_astro      cell_line  #E05F7E\n",
       "28                 pc3      cell_line  #E67587\n",
       "36           pgp1_endo      cell_line  #E78E97\n",
       "26                mcf7      cell_line  #DD9CA5\n",
       "27               panc1      cell_line  #B582A2\n",
       "9                   h9      cell_line  #A56999\n",
       "11              hct116      cell_line  #98528D\n",
       "12               hepg2      cell_line  #723B79\n",
       "7                 pgp1      cell_line  #474A82\n",
       "18                hl60      cell_line  #1F709A\n",
       "20               imr90      cell_line  #278D89\n",
       "21                k562      cell_line  #4FA770\n",
       "15               hffc6      cell_line  #92C051\n",
       "79              muscle         tissue  #17154f\n",
       "48       adrenal gland         tissue  #2f357c\n",
       "51             vessels         tissue  #6c5d9e\n",
       "53               heart         tissue  #b0799a\n",
       "61              kidney         tissue  #f6b3b0\n",
       "63               colon         tissue  #e48171\n",
       "64                lung         tissue  #bf3729\n",
       "71             adipose         tissue  #e69b00\n",
       "74               ovary         tissue  #f5bb50\n",
       "85               liver         tissue  #ada43b"
      ]
     },
     "execution_count": 5,
     "metadata": {},
     "output_type": "execute_result"
    }
   ],
   "source": [
    "df['color'] = colors.color.tolist()\n",
    "df"
   ]
  },
  {
   "cell_type": "code",
   "execution_count": 12,
   "id": "71c2b642-4a0e-4857-8dd3-4b296663c14b",
   "metadata": {},
   "outputs": [
    {
     "data": {
      "image/png": "[encoded data removed]",
      "text/plain": [
       "<Figure size 360x360 with 1 Axes>"
      ]
     },
     "metadata": {
      "needs_background": "light"
     },
     "output_type": "display_data"
    }
   ],
   "source": [
    "palette = {}\n",
    "df['val'] = 1\n",
    "for ind, entry in df.iterrows():\n",
    "    palette[entry['biosample']] = entry.color\n",
    "ax = sns.catplot(data=df, y='val', x='biosample', kind='bar', palette=palette, saturation=1)    \n",
    "_ = plt.xticks(rotation=90)\n"
   ]
  },
  {
   "cell_type": "code",
   "execution_count": 13,
   "id": "afraid-actress",
   "metadata": {},
   "outputs": [],
   "source": [
    "df.to_csv('biosample_colors_temp.tsv', sep='\\t')"
   ]
  },
  {
   "cell_type": "code",
   "execution_count": 5,
   "id": "unable-immigration",
   "metadata": {},
   "outputs": [
    {
     "data": {
      "text/plain": [
       "<seaborn.axisgrid.FacetGrid at 0x7f9748981e50>"
      ]
     },
     "execution_count": 5,
     "metadata": {},
     "output_type": "execute_result"
    },
    {
     "data": {
      "image/png": "[encoded data removed]",
      "text/plain": [
       "<Figure size 360x360 with 1 Axes>"
      ]
     },
     "metadata": {
      "needs_background": "light"
     },
     "output_type": "display_data"
    }
   ],
   "source": [
    "df = pd.read_csv('thomas_21.csv', header=None)\n",
    "df.columns = ['color']\n",
    "df['category'] = [str(i) for i in range(len(df.index))]\n",
    "df['val'] = 1\n",
    "palette = {}\n",
    "for ind, entry in df.iterrows():\n",
    "    palette[entry['category']] = entry.color\n",
    "sns.catplot(data=df, y='val', x='category', kind='bar', palette=palette, saturation=1)    "
   ]
  },
  {
   "cell_type": "code",
   "execution_count": 3,
   "id": "early-person",
   "metadata": {},
   "outputs": [
    {
     "data": {
      "text/plain": [
       "<seaborn.axisgrid.FacetGrid at 0x7f9730ab5310>"
      ]
     },
     "execution_count": 3,
     "metadata": {},
     "output_type": "execute_result"
    },
    {
     "data": {
      "image/png": "[encoded data removed]",
      "text/plain": [
       "<Figure size 360x360 with 1 Axes>"
      ]
     },
     "metadata": {
      "needs_background": "light"
     },
     "output_type": "display_data"
    }
   ],
   "source": [
    "colors = pd.read_csv('redon_21.csv', header=None)\n",
    "colors.columns = ['color']\n",
    "colors['category'] = [str(i) for i in range(len(colors.index))]\n",
    "colors['val'] = 1\n",
    "palette = {}\n",
    "for ind, entry in colors.iterrows():\n",
    "    palette[entry['category']] = entry.color\n",
    "sns.catplot(data=colors, y='val', x='category', kind='bar', palette=palette, saturation=1)    "
   ]
  },
  {
   "cell_type": "code",
   "execution_count": 4,
   "id": "exempt-square",
   "metadata": {},
   "outputs": [
    {
     "data": {
      "text/plain": [
       "<seaborn.axisgrid.FacetGrid at 0x7f97387e7a50>"
      ]
     },
     "execution_count": 4,
     "metadata": {},
     "output_type": "execute_result"
    },
    {
     "data": {
      "image/png": "[encoded data removed]",
      "text/plain": [
       "<Figure size 360x360 with 1 Axes>"
      ]
     },
     "metadata": {
      "needs_background": "light"
     },
     "output_type": "display_data"
    }
   ],
   "source": [
    "colors = pd.read_csv('signac_21.csv', header=None)\n",
    "colors.columns = ['color']\n",
    "colors['category'] = [str(i) for i in range(len(colors.index))]\n",
    "colors['val'] = 1\n",
    "palette = {}\n",
    "for ind, entry in colors.iterrows():\n",
    "    palette[entry['category']] = entry.color\n",
    "sns.catplot(data=colors, y='val', x='category', kind='bar', palette=palette, saturation=1)    "
   ]
  },
  {
   "cell_type": "code",
   "execution_count": 22,
   "id": "worthy-fundamentals",
   "metadata": {},
   "outputs": [
    {
     "data": {
      "text/html": [
       "<div>\n",
       "<style scoped>\n",
       "    .dataframe tbody tr th:only-of-type {\n",
       "        vertical-align: middle;\n",
       "    }\n",
       "\n",
       "    .dataframe tbody tr th {\n",
       "        vertical-align: top;\n",
       "    }\n",
       "\n",
       "    .dataframe thead th {\n",
       "        text-align: right;\n",
       "    }\n",
       "</style>\n",
       "<table border=\"1\" class=\"dataframe\">\n",
       "  <thead>\n",
       "    <tr style=\"text-align: right;\">\n",
       "      <th></th>\n",
       "      <th>color</th>\n",
       "      <th>category</th>\n",
       "      <th>val</th>\n",
       "    </tr>\n",
       "  </thead>\n",
       "  <tbody>\n",
       "    <tr>\n",
       "      <th>0</th>\n",
       "      <td>#5B859E</td>\n",
       "      <td>0</td>\n",
       "      <td>1</td>\n",
       "    </tr>\n",
       "    <tr>\n",
       "      <th>1</th>\n",
       "      <td>#395B7B</td>\n",
       "      <td>1</td>\n",
       "      <td>1</td>\n",
       "    </tr>\n",
       "    <tr>\n",
       "      <th>2</th>\n",
       "      <td>#26405D</td>\n",
       "      <td>2</td>\n",
       "      <td>1</td>\n",
       "    </tr>\n",
       "    <tr>\n",
       "      <th>3</th>\n",
       "      <td>#566C51</td>\n",
       "      <td>3</td>\n",
       "      <td>1</td>\n",
       "    </tr>\n",
       "    <tr>\n",
       "      <th>4</th>\n",
       "      <td>#637E4A</td>\n",
       "      <td>4</td>\n",
       "      <td>1</td>\n",
       "    </tr>\n",
       "    <tr>\n",
       "      <th>5</th>\n",
       "      <td>#336547</td>\n",
       "      <td>5</td>\n",
       "      <td>1</td>\n",
       "    </tr>\n",
       "    <tr>\n",
       "      <th>6</th>\n",
       "      <td>#576952</td>\n",
       "      <td>6</td>\n",
       "      <td>1</td>\n",
       "    </tr>\n",
       "    <tr>\n",
       "      <th>7</th>\n",
       "      <td>#C2856A</td>\n",
       "      <td>7</td>\n",
       "      <td>1</td>\n",
       "    </tr>\n",
       "    <tr>\n",
       "      <th>8</th>\n",
       "      <td>#CB7456</td>\n",
       "      <td>8</td>\n",
       "      <td>1</td>\n",
       "    </tr>\n",
       "    <tr>\n",
       "      <th>9</th>\n",
       "      <td>#B15232</td>\n",
       "      <td>9</td>\n",
       "      <td>1</td>\n",
       "    </tr>\n",
       "    <tr>\n",
       "      <th>10</th>\n",
       "      <td>#C16F5F</td>\n",
       "      <td>10</td>\n",
       "      <td>1</td>\n",
       "    </tr>\n",
       "    <tr>\n",
       "      <th>11</th>\n",
       "      <td>#CF8A8B</td>\n",
       "      <td>11</td>\n",
       "      <td>1</td>\n",
       "    </tr>\n",
       "    <tr>\n",
       "      <th>12</th>\n",
       "      <td>#995556</td>\n",
       "      <td>12</td>\n",
       "      <td>1</td>\n",
       "    </tr>\n",
       "    <tr>\n",
       "      <th>13</th>\n",
       "      <td>#7B3B41</td>\n",
       "      <td>13</td>\n",
       "      <td>1</td>\n",
       "    </tr>\n",
       "    <tr>\n",
       "      <th>14</th>\n",
       "      <td>#9A6A81</td>\n",
       "      <td>14</td>\n",
       "      <td>1</td>\n",
       "    </tr>\n",
       "    <tr>\n",
       "      <th>15</th>\n",
       "      <td>#967192</td>\n",
       "      <td>15</td>\n",
       "      <td>1</td>\n",
       "    </tr>\n",
       "    <tr>\n",
       "      <th>16</th>\n",
       "      <td>#69476A</td>\n",
       "      <td>16</td>\n",
       "      <td>1</td>\n",
       "    </tr>\n",
       "    <tr>\n",
       "      <th>17</th>\n",
       "      <td>#856454</td>\n",
       "      <td>17</td>\n",
       "      <td>1</td>\n",
       "    </tr>\n",
       "    <tr>\n",
       "      <th>18</th>\n",
       "      <td>#CBAB49</td>\n",
       "      <td>18</td>\n",
       "      <td>1</td>\n",
       "    </tr>\n",
       "    <tr>\n",
       "      <th>19</th>\n",
       "      <td>#C7A12E</td>\n",
       "      <td>19</td>\n",
       "      <td>1</td>\n",
       "    </tr>\n",
       "    <tr>\n",
       "      <th>20</th>\n",
       "      <td>#B38711</td>\n",
       "      <td>20</td>\n",
       "      <td>1</td>\n",
       "    </tr>\n",
       "  </tbody>\n",
       "</table>\n",
       "</div>"
      ],
      "text/plain": [
       "      color category  val\n",
       "0   #5B859E        0    1\n",
       "1   #395B7B        1    1\n",
       "2   #26405D        2    1\n",
       "3   #566C51        3    1\n",
       "4   #637E4A        4    1\n",
       "5   #336547        5    1\n",
       "6   #576952        6    1\n",
       "7   #C2856A        7    1\n",
       "8   #CB7456        8    1\n",
       "9   #B15232        9    1\n",
       "10  #C16F5F       10    1\n",
       "11  #CF8A8B       11    1\n",
       "12  #995556       12    1\n",
       "13  #7B3B41       13    1\n",
       "14  #9A6A81       14    1\n",
       "15  #967192       15    1\n",
       "16  #69476A       16    1\n",
       "17  #856454       17    1\n",
       "18  #CBAB49       18    1\n",
       "19  #C7A12E       19    1\n",
       "20  #B38711       20    1"
      ]
     },
     "execution_count": 22,
     "metadata": {},
     "output_type": "execute_result"
    }
   ],
   "source": [
    "colors"
   ]
  },
  {
   "cell_type": "code",
   "execution_count": 21,
   "id": "d6e948f5-d868-4b89-83b4-9b224e78ed8f",
   "metadata": {},
   "outputs": [],
   "source": [
    "def plot_colors(fname):\n",
    "    df = pd.read_csv(fname, header=None)\n",
    "    df.columns = ['color']\n",
    "    df['category'] = [str(i) for i in range(len(df.index))]\n",
    "    df['val'] = 1\n",
    "    palette = {}\n",
    "    for ind, entry in df.iterrows():\n",
    "        palette[entry['category']] = entry.color\n",
    "    ax = sns.catplot(data=df, y='val', x='category', kind='bar', palette=palette, saturation=1) \n",
    "    plt.show()\n",
    "    return df"
   ]
  },
  {
   "cell_type": "code",
   "execution_count": 23,
   "id": "c4594816-c499-4d3a-ba07-6109e31994a2",
   "metadata": {},
   "outputs": [
    {
     "data": {
      "image/png": "[encoded data removed]",
      "text/plain": [
       "<Figure size 360x360 with 1 Axes>"
      ]
     },
     "metadata": {
      "needs_background": "light"
     },
     "output_type": "display_data"
    },
    {
     "data": {
      "text/html": [
       "<div>\n",
       "<style scoped>\n",
       "    .dataframe tbody tr th:only-of-type {\n",
       "        vertical-align: middle;\n",
       "    }\n",
       "\n",
       "    .dataframe tbody tr th {\n",
       "        vertical-align: top;\n",
       "    }\n",
       "\n",
       "    .dataframe thead th {\n",
       "        text-align: right;\n",
       "    }\n",
       "</style>\n",
       "<table border=\"1\" class=\"dataframe\">\n",
       "  <thead>\n",
       "    <tr style=\"text-align: right;\">\n",
       "      <th></th>\n",
       "      <th>color</th>\n",
       "      <th>category</th>\n",
       "      <th>val</th>\n",
       "    </tr>\n",
       "  </thead>\n",
       "  <tbody>\n",
       "    <tr>\n",
       "      <th>0</th>\n",
       "      <td>#b04948</td>\n",
       "      <td>0</td>\n",
       "      <td>1</td>\n",
       "    </tr>\n",
       "    <tr>\n",
       "      <th>1</th>\n",
       "      <td>#811e18</td>\n",
       "      <td>1</td>\n",
       "      <td>1</td>\n",
       "    </tr>\n",
       "    <tr>\n",
       "      <th>2</th>\n",
       "      <td>#9e4013</td>\n",
       "      <td>2</td>\n",
       "      <td>1</td>\n",
       "    </tr>\n",
       "    <tr>\n",
       "      <th>3</th>\n",
       "      <td>#c88a2c</td>\n",
       "      <td>3</td>\n",
       "      <td>1</td>\n",
       "    </tr>\n",
       "    <tr>\n",
       "      <th>4</th>\n",
       "      <td>#4c6216</td>\n",
       "      <td>4</td>\n",
       "      <td>1</td>\n",
       "    </tr>\n",
       "    <tr>\n",
       "      <th>5</th>\n",
       "      <td>#1a472a</td>\n",
       "      <td>5</td>\n",
       "      <td>1</td>\n",
       "    </tr>\n",
       "  </tbody>\n",
       "</table>\n",
       "</div>"
      ],
      "text/plain": [
       "     color category  val\n",
       "0  #b04948        0    1\n",
       "1  #811e18        1    1\n",
       "2  #9e4013        2    1\n",
       "3  #c88a2c        3    1\n",
       "4  #4c6216        4    1\n",
       "5  #1a472a        5    1"
      ]
     },
     "execution_count": 23,
     "metadata": {},
     "output_type": "execute_result"
    }
   ],
   "source": [
    "df = plot_colors('gauguin_6.csv')\n",
    "df"
   ]
  },
  {
   "cell_type": "code",
   "execution_count": null,
   "id": "26e34b80-4e57-47df-82ad-4a089908a055",
   "metadata": {},
   "outputs": [],
   "source": [
    "df = pd.read_csv('gauguin_6.csv', header=None)\n",
    "df.columns = ['color']\n",
    "df['category'] = [str(i) for i in range(len(df.index))]\n",
    "df['val'] = 1\n",
    "palette = {}\n",
    "for ind, entry in df.iterrows():\n",
    "    palette[entry['category']] = entry.color\n",
    "sns.catplot(data=df, y='val', x='category', kind='bar', palette=palette, saturation=1)    "
   ]
  },
  {
   "cell_type": "code",
   "execution_count": 17,
   "id": "d2215302-1b2d-4991-85f8-8701a703642c",
   "metadata": {},
   "outputs": [
    {
     "data": {
      "text/plain": [
       "<seaborn.axisgrid.FacetGrid at 0x7fe5b8630f10>"
      ]
     },
     "execution_count": 17,
     "metadata": {},
     "output_type": "execute_result"
    },
    {
     "data": {
      "image/png": "[encoded data removed]",
      "text/plain": [
       "<Figure size 360x360 with 1 Axes>"
      ]
     },
     "metadata": {
      "needs_background": "light"
     },
     "output_type": "display_data"
    }
   ],
   "source": [
    "df = pd.read_csv('renoir_11.csv', header=None)\n",
    "df.columns = ['color']\n",
    "df['category'] = [str(i) for i in range(len(df.index))]\n",
    "df['val'] = 1\n",
    "palette = {}\n",
    "for ind, entry in df.iterrows():\n",
    "    palette[entry['category']] = entry.color\n",
    "sns.catplot(data=df, y='val', x='category', kind='bar', palette=palette, saturation=1)    "
   ]
  },
  {
   "cell_type": "code",
   "execution_count": 18,
   "id": "585f0558-7498-4917-8c9d-1deeaa869e75",
   "metadata": {},
   "outputs": [
    {
     "data": {
      "text/html": [
       "<div>\n",
       "<style scoped>\n",
       "    .dataframe tbody tr th:only-of-type {\n",
       "        vertical-align: middle;\n",
       "    }\n",
       "\n",
       "    .dataframe tbody tr th {\n",
       "        vertical-align: top;\n",
       "    }\n",
       "\n",
       "    .dataframe thead th {\n",
       "        text-align: right;\n",
       "    }\n",
       "</style>\n",
       "<table border=\"1\" class=\"dataframe\">\n",
       "  <thead>\n",
       "    <tr style=\"text-align: right;\">\n",
       "      <th></th>\n",
       "      <th>color</th>\n",
       "      <th>category</th>\n",
       "      <th>val</th>\n",
       "    </tr>\n",
       "  </thead>\n",
       "  <tbody>\n",
       "    <tr>\n",
       "      <th>0</th>\n",
       "      <td>#17154f</td>\n",
       "      <td>0</td>\n",
       "      <td>1</td>\n",
       "    </tr>\n",
       "    <tr>\n",
       "      <th>1</th>\n",
       "      <td>#2f357c</td>\n",
       "      <td>1</td>\n",
       "      <td>1</td>\n",
       "    </tr>\n",
       "    <tr>\n",
       "      <th>2</th>\n",
       "      <td>#6c5d9e</td>\n",
       "      <td>2</td>\n",
       "      <td>1</td>\n",
       "    </tr>\n",
       "    <tr>\n",
       "      <th>3</th>\n",
       "      <td>#b0799a</td>\n",
       "      <td>3</td>\n",
       "      <td>1</td>\n",
       "    </tr>\n",
       "    <tr>\n",
       "      <th>4</th>\n",
       "      <td>#f6b3b0</td>\n",
       "      <td>4</td>\n",
       "      <td>1</td>\n",
       "    </tr>\n",
       "    <tr>\n",
       "      <th>5</th>\n",
       "      <td>#e48171</td>\n",
       "      <td>5</td>\n",
       "      <td>1</td>\n",
       "    </tr>\n",
       "    <tr>\n",
       "      <th>6</th>\n",
       "      <td>#bf3729</td>\n",
       "      <td>6</td>\n",
       "      <td>1</td>\n",
       "    </tr>\n",
       "    <tr>\n",
       "      <th>7</th>\n",
       "      <td>#e69b00</td>\n",
       "      <td>7</td>\n",
       "      <td>1</td>\n",
       "    </tr>\n",
       "    <tr>\n",
       "      <th>8</th>\n",
       "      <td>#f5bb50</td>\n",
       "      <td>8</td>\n",
       "      <td>1</td>\n",
       "    </tr>\n",
       "    <tr>\n",
       "      <th>9</th>\n",
       "      <td>#ada43b</td>\n",
       "      <td>9</td>\n",
       "      <td>1</td>\n",
       "    </tr>\n",
       "    <tr>\n",
       "      <th>10</th>\n",
       "      <td>#355828</td>\n",
       "      <td>10</td>\n",
       "      <td>1</td>\n",
       "    </tr>\n",
       "  </tbody>\n",
       "</table>\n",
       "</div>"
      ],
      "text/plain": [
       "      color category  val\n",
       "0   #17154f        0    1\n",
       "1   #2f357c        1    1\n",
       "2   #6c5d9e        2    1\n",
       "3   #b0799a        3    1\n",
       "4   #f6b3b0        4    1\n",
       "5   #e48171        5    1\n",
       "6   #bf3729        6    1\n",
       "7   #e69b00        7    1\n",
       "8   #f5bb50        8    1\n",
       "9   #ada43b        9    1\n",
       "10  #355828       10    1"
      ]
     },
     "execution_count": 18,
     "metadata": {},
     "output_type": "execute_result"
    }
   ],
   "source": [
    "df"
   ]
  },
  {
   "cell_type": "code",
   "execution_count": 14,
   "id": "radio-april",
   "metadata": {},
   "outputs": [
    {
     "data": {
      "text/plain": [
       "<seaborn.axisgrid.FacetGrid at 0x7fe5f8f4b990>"
      ]
     },
     "execution_count": 14,
     "metadata": {},
     "output_type": "execute_result"
    },
    {
     "data": {
      "image/png": "[encoded data removed]",
      "text/plain": [
       "<Figure size 360x360 with 1 Axes>"
      ]
     },
     "metadata": {
      "needs_background": "light"
     },
     "output_type": "display_data"
    }
   ],
   "source": [
    "df = pd.read_csv('renoir_10.csv', header=None)\n",
    "df.columns = ['color']\n",
    "df['category'] = [str(i) for i in range(len(df.index))]\n",
    "df['val'] = 1\n",
    "palette = {}\n",
    "for ind, entry in df.iterrows():\n",
    "    palette[entry['category']] = entry.color\n",
    "sns.catplot(data=df, y='val', x='category', kind='bar', palette=palette, saturation=1)    "
   ]
  },
  {
   "cell_type": "code",
   "execution_count": 16,
   "id": "authorized-winner",
   "metadata": {},
   "outputs": [
    {
     "data": {
      "text/html": [
       "<div>\n",
       "<style scoped>\n",
       "    .dataframe tbody tr th:only-of-type {\n",
       "        vertical-align: middle;\n",
       "    }\n",
       "\n",
       "    .dataframe tbody tr th {\n",
       "        vertical-align: top;\n",
       "    }\n",
       "\n",
       "    .dataframe thead th {\n",
       "        text-align: right;\n",
       "    }\n",
       "</style>\n",
       "<table border=\"1\" class=\"dataframe\">\n",
       "  <thead>\n",
       "    <tr style=\"text-align: right;\">\n",
       "      <th></th>\n",
       "      <th>color</th>\n",
       "      <th>category</th>\n",
       "      <th>val</th>\n",
       "    </tr>\n",
       "  </thead>\n",
       "  <tbody>\n",
       "    <tr>\n",
       "      <th>0</th>\n",
       "      <td>#17154f</td>\n",
       "      <td>0</td>\n",
       "      <td>1</td>\n",
       "    </tr>\n",
       "    <tr>\n",
       "      <th>1</th>\n",
       "      <td>#2f357c</td>\n",
       "      <td>1</td>\n",
       "      <td>1</td>\n",
       "    </tr>\n",
       "    <tr>\n",
       "      <th>2</th>\n",
       "      <td>#6c5d9e</td>\n",
       "      <td>2</td>\n",
       "      <td>1</td>\n",
       "    </tr>\n",
       "    <tr>\n",
       "      <th>3</th>\n",
       "      <td>#b0799a</td>\n",
       "      <td>3</td>\n",
       "      <td>1</td>\n",
       "    </tr>\n",
       "    <tr>\n",
       "      <th>4</th>\n",
       "      <td>#f6b3b0</td>\n",
       "      <td>4</td>\n",
       "      <td>1</td>\n",
       "    </tr>\n",
       "    <tr>\n",
       "      <th>5</th>\n",
       "      <td>#e48171</td>\n",
       "      <td>5</td>\n",
       "      <td>1</td>\n",
       "    </tr>\n",
       "    <tr>\n",
       "      <th>6</th>\n",
       "      <td>#bf3729</td>\n",
       "      <td>6</td>\n",
       "      <td>1</td>\n",
       "    </tr>\n",
       "    <tr>\n",
       "      <th>7</th>\n",
       "      <td>#e69b00</td>\n",
       "      <td>7</td>\n",
       "      <td>1</td>\n",
       "    </tr>\n",
       "    <tr>\n",
       "      <th>8</th>\n",
       "      <td>#f5bb50</td>\n",
       "      <td>8</td>\n",
       "      <td>1</td>\n",
       "    </tr>\n",
       "    <tr>\n",
       "      <th>9</th>\n",
       "      <td>#ada43b</td>\n",
       "      <td>9</td>\n",
       "      <td>1</td>\n",
       "    </tr>\n",
       "  </tbody>\n",
       "</table>\n",
       "</div>"
      ],
      "text/plain": [
       "     color category  val\n",
       "0  #17154f        0    1\n",
       "1  #2f357c        1    1\n",
       "2  #6c5d9e        2    1\n",
       "3  #b0799a        3    1\n",
       "4  #f6b3b0        4    1\n",
       "5  #e48171        5    1\n",
       "6  #bf3729        6    1\n",
       "7  #e69b00        7    1\n",
       "8  #f5bb50        8    1\n",
       "9  #ada43b        9    1"
      ]
     },
     "execution_count": 16,
     "metadata": {},
     "output_type": "execute_result"
    }
   ],
   "source": [
    "df"
   ]
  },
  {
   "cell_type": "code",
   "execution_count": null,
   "id": "magnetic-insurance",
   "metadata": {},
   "outputs": [],
   "source": []
  },
  {
   "cell_type": "code",
   "execution_count": null,
   "id": "automated-virus",
   "metadata": {},
   "outputs": [],
   "source": []
  },
  {
   "cell_type": "code",
   "execution_count": 10,
   "id": "favorite-bobby",
   "metadata": {},
   "outputs": [
    {
     "data": {
      "text/plain": [
       "<seaborn.axisgrid.FacetGrid at 0x7fe7f08f9e10>"
      ]
     },
     "execution_count": 10,
     "metadata": {},
     "output_type": "execute_result"
    },
    {
     "data": {
      "image/png": "[encoded data removed]",
      "text/plain": [
       "<Figure size 360x360 with 1 Axes>"
      ]
     },
     "metadata": {
      "needs_background": "light"
     },
     "output_type": "display_data"
    }
   ],
   "source": [
    "df = pd.read_csv('thomas_10.csv', header=None)\n",
    "df.columns = ['color']\n",
    "df['category'] = [str(i) for i in range(len(df.index))]\n",
    "df['val'] = 1\n",
    "palette = {}\n",
    "for ind, entry in df.iterrows():\n",
    "    palette[entry['category']] = entry.color\n",
    "sns.catplot(data=df, y='val', x='category', kind='bar', palette=palette, saturation=1)    "
   ]
  },
  {
   "cell_type": "code",
   "execution_count": 8,
   "id": "placed-helen",
   "metadata": {},
   "outputs": [
    {
     "data": {
      "text/plain": [
       "<seaborn.axisgrid.FacetGrid at 0x7fe80088bdd0>"
      ]
     },
     "execution_count": 8,
     "metadata": {},
     "output_type": "execute_result"
    },
    {
     "data": {
      "image/png": "[encoded data removed]",
      "text/plain": [
       "<Figure size 360x360 with 1 Axes>"
      ]
     },
     "metadata": {
      "needs_background": "light"
     },
     "output_type": "display_data"
    }
   ],
   "source": [
    "df = pd.read_csv('signac_31.csv', header=None)\n",
    "df.columns = ['color']\n",
    "df['category'] = [str(i) for i in range(len(df.index))]\n",
    "df['val'] = 1\n",
    "palette = {}\n",
    "for ind, entry in df.iterrows():\n",
    "    palette[entry['category']] = entry.color\n",
    "sns.catplot(data=df, y='val', x='category', kind='bar', palette=palette, saturation=1)    "
   ]
  },
  {
   "cell_type": "code",
   "execution_count": 7,
   "id": "reasonable-submission",
   "metadata": {},
   "outputs": [
    {
     "data": {
      "text/plain": [
       "<seaborn.axisgrid.FacetGrid at 0x7fe7f875aad0>"
      ]
     },
     "execution_count": 7,
     "metadata": {},
     "output_type": "execute_result"
    },
    {
     "data": {
      "image/png": "[encoded data removed]",
      "text/plain": [
       "<Figure size 360x360 with 1 Axes>"
      ]
     },
     "metadata": {
      "needs_background": "light"
     },
     "output_type": "display_data"
    }
   ],
   "source": [
    "df = pd.read_csv('cross_31.csv', header=None)\n",
    "df.columns = ['color']\n",
    "df['category'] = [str(i) for i in range(len(df.index))]\n",
    "df['val'] = 1\n",
    "palette = {}\n",
    "for ind, entry in df.iterrows():\n",
    "    palette[entry['category']] = entry.color\n",
    "sns.catplot(data=df, y='val', x='category', kind='bar', palette=palette, saturation=1)    "
   ]
  },
  {
   "cell_type": "code",
   "execution_count": 6,
   "id": "limited-touch",
   "metadata": {},
   "outputs": [
    {
     "data": {
      "text/plain": [
       "<seaborn.axisgrid.FacetGrid at 0x7fe831c2cdd0>"
      ]
     },
     "execution_count": 6,
     "metadata": {},
     "output_type": "execute_result"
    },
    {
     "data": {
      "image/png": "[encoded data removed]",
      "text/plain": [
       "<Figure size 360x360 with 1 Axes>"
      ]
     },
     "metadata": {
      "needs_background": "light"
     },
     "output_type": "display_data"
    }
   ],
   "source": [
    "df = pd.read_csv('vangogh2_31.csv', header=None)\n",
    "df.columns = ['color']\n",
    "df['category'] = [str(i) for i in range(len(df.index))]\n",
    "df['val'] = 1\n",
    "palette = {}\n",
    "for ind, entry in df.iterrows():\n",
    "    palette[entry['category']] = entry.color\n",
    "sns.catplot(data=df, y='val', x='category', kind='bar', palette=palette, saturation=1)    "
   ]
  },
  {
   "cell_type": "code",
   "execution_count": 5,
   "id": "rising-poetry",
   "metadata": {},
   "outputs": [
    {
     "data": {
      "text/plain": [
       "<seaborn.axisgrid.FacetGrid at 0x7fe831c6aed0>"
      ]
     },
     "execution_count": 5,
     "metadata": {},
     "output_type": "execute_result"
    },
    {
     "data": {
      "image/png": "[encoded data removed]",
      "text/plain": [
       "<Figure size 360x360 with 1 Axes>"
      ]
     },
     "metadata": {
      "needs_background": "light"
     },
     "output_type": "display_data"
    }
   ],
   "source": [
    "df = pd.read_csv('thomas_31.csv', header=None)\n",
    "df.columns = ['color']\n",
    "df['category'] = [str(i) for i in range(len(df.index))]\n",
    "df['val'] = 1\n",
    "palette = {}\n",
    "for ind, entry in df.iterrows():\n",
    "    palette[entry['category']] = entry.color\n",
    "sns.catplot(data=df, y='val', x='category', kind='bar', palette=palette, saturation=1)    "
   ]
  },
  {
   "cell_type": "code",
   "execution_count": 4,
   "id": "equipped-proposal",
   "metadata": {},
   "outputs": [
    {
     "data": {
      "text/plain": [
       "<seaborn.axisgrid.FacetGrid at 0x7fe7f07b2a50>"
      ]
     },
     "execution_count": 4,
     "metadata": {},
     "output_type": "execute_result"
    },
    {
     "data": {
      "image/png": "[encoded data removed]",
      "text/plain": [
       "<Figure size 360x360 with 1 Axes>"
      ]
     },
     "metadata": {
      "needs_background": "light"
     },
     "output_type": "display_data"
    }
   ],
   "source": [
    "df = pd.read_csv('renoir_31.csv', header=None)\n",
    "df.columns = ['color']\n",
    "df['category'] = [str(i) for i in range(len(df.index))]\n",
    "df['val'] = 1\n",
    "palette = {}\n",
    "for ind, entry in df.iterrows():\n",
    "    palette[entry['category']] = entry.color\n",
    "sns.catplot(data=df, y='val', x='category', kind='bar', palette=palette, saturation=1)    "
   ]
  },
  {
   "cell_type": "code",
   "execution_count": 3,
   "id": "outstanding-rebate",
   "metadata": {},
   "outputs": [
    {
     "data": {
      "text/plain": [
       "<seaborn.axisgrid.FacetGrid at 0x7f8fc0f774d0>"
      ]
     },
     "execution_count": 3,
     "metadata": {},
     "output_type": "execute_result"
    },
    {
     "data": {
      "image/png": "[encoded data removed]",
      "text/plain": [
       "<Figure size 360x360 with 1 Axes>"
      ]
     },
     "metadata": {
      "needs_background": "light"
     },
     "output_type": "display_data"
    }
   ],
   "source": [
    "df = pd.read_csv('signac_20.csv', header=None)\n",
    "df.columns = ['color']\n",
    "df['category'] = [str(i) for i in range(len(df.index))]\n",
    "df['val'] = 1\n",
    "palette = {}\n",
    "for ind, entry in df.iterrows():\n",
    "    palette[entry['category']] = entry.color\n",
    "sns.catplot(data=df, y='val', x='category', kind='bar', palette=palette, saturation=1)    "
   ]
  },
  {
   "cell_type": "code",
   "execution_count": 110,
   "id": "settled-remark",
   "metadata": {},
   "outputs": [],
   "source": [
    "# df = pd.read_csv('gauguin_30.csv', header=None)\n",
    "# df = pd.read_csv('morgenstern_30.csv', header=None)\n",
    "# df = pd.read_csv('thomas_30.csv', header=None)\n",
    "# df = pd.read_csv('cross_30.csv', header=None)\n",
    "# df = pd.read_csv('renoir_45.csv', header=None)\n",
    "# df = pd.read_csv('redon_45.csv', header=None)\n",
    "# df = pd.read_csv('hokusai_40.csv', header=None)\n",
    "df = pd.read_csv('redon_60.csv', header=None)\n",
    "\n",
    "\n",
    "\n",
    "df.columns = ['color']"
   ]
  },
  {
   "cell_type": "code",
   "execution_count": 111,
   "id": "radio-apollo",
   "metadata": {},
   "outputs": [],
   "source": [
    "df['category'] = [str(i) for i in range(len(df.index))]\n",
    "df['val'] = 1"
   ]
  },
  {
   "cell_type": "code",
   "execution_count": 112,
   "id": "improved-remark",
   "metadata": {},
   "outputs": [],
   "source": [
    "palette = {}\n",
    "for ind, entry in df.iterrows():\n",
    "    palette[entry['category']] = entry.color"
   ]
  },
  {
   "cell_type": "code",
   "execution_count": 113,
   "id": "pediatric-pilot",
   "metadata": {},
   "outputs": [
    {
     "data": {
      "text/plain": [
       "<seaborn.axisgrid.FacetGrid at 0x7ff7d8d51810>"
      ]
     },
     "execution_count": 113,
     "metadata": {},
     "output_type": "execute_result"
    },
    {
     "data": {
      "image/png": "[encoded data removed]",
      "text/plain": [
       "<Figure size 360x360 with 1 Axes>"
      ]
     },
     "metadata": {
      "needs_background": "light"
     },
     "output_type": "display_data"
    }
   ],
   "source": [
    "sns.catplot(data=df, y='val', x='category', kind='bar', palette=palette, saturation=1)"
   ]
  },
  {
   "cell_type": "code",
   "execution_count": 114,
   "id": "strange-pregnancy",
   "metadata": {},
   "outputs": [
    {
     "name": "stdout",
     "output_type": "stream",
     "text": [
      "7\n"
     ]
    },
    {
     "data": {
      "text/plain": [
       "['#5B859E', '#4F7692', '#446886', '#385A7A', '#2D4C6F', '#223E63', '#28425C']"
      ]
     },
     "execution_count": 114,
     "metadata": {},
     "output_type": "execute_result"
    }
   ],
   "source": [
    "blues = df.iloc[:7].color.tolist()\n",
    "print(len(blues))\n",
    "blues"
   ]
  },
  {
   "cell_type": "code",
   "execution_count": 115,
   "id": "palestinian-gathering",
   "metadata": {},
   "outputs": [
    {
     "name": "stdout",
     "output_type": "stream",
     "text": [
      "7\n",
      "['#697D4D', '#70854A', '#607D49', '#507448', '#3F6B47', '#2F6347', '#1F5A46']\n"
     ]
    }
   ],
   "source": [
    "greens = df.iloc[10:17].color.tolist()\n",
    "print(len(greens))\n",
    "print(greens)"
   ]
  },
  {
   "cell_type": "code",
   "execution_count": 116,
   "id": "architectural-victory",
   "metadata": {},
   "outputs": [
    {
     "name": "stdout",
     "output_type": "stream",
     "text": [
      "7\n",
      "['#C8A849', '#D5B443', '#CEAB39', '#C7A22F', '#C09925', '#B9901B', '#B38711']\n"
     ]
    }
   ],
   "source": [
    "yellows = df.iloc[53:60].color.tolist()\n",
    "print(len(yellows))\n",
    "print(yellows)"
   ]
  },
  {
   "cell_type": "code",
   "execution_count": 117,
   "id": "accomplished-surgery",
   "metadata": {},
   "outputs": [
    {
     "name": "stdout",
     "output_type": "stream",
     "text": [
      "7\n",
      "['#97657B', '#A17591', '#A982A3', '#9A7496', '#8B6688', '#7B587A', '#6C4A6D']\n"
     ]
    }
   ],
   "source": [
    "purples = df.iloc[41:48].color.tolist()\n",
    "print(len(purples))\n",
    "print(purples)"
   ]
  },
  {
   "cell_type": "code",
   "execution_count": 118,
   "id": "determined-workstation",
   "metadata": {},
   "outputs": [
    {
     "name": "stdout",
     "output_type": "stream",
     "text": [
      "7\n",
      "['#CE886D', '#DA866A', '#D17B5D', '#C86F51', '#BF6445', '#B65839', '#B05132']\n"
     ]
    }
   ],
   "source": [
    "# pinks = df.iloc[31:38].color.tolist()\n",
    "# print(len(pinks))\n",
    "# print(pinks)\n",
    "pinks = df.iloc[21:28].color.tolist()\n",
    "print(len(pinks))\n",
    "print(pinks)"
   ]
  },
  {
   "cell_type": "code",
   "execution_count": 119,
   "id": "hollywood-found",
   "metadata": {},
   "outputs": [],
   "source": [
    "colors = blues+greens+yellows+pinks+purples\n"
   ]
  },
  {
   "cell_type": "code",
   "execution_count": 120,
   "id": "false-boulder",
   "metadata": {},
   "outputs": [
    {
     "data": {
      "text/plain": [
       "<seaborn.axisgrid.FacetGrid at 0x7ff7f9307850>"
      ]
     },
     "execution_count": 120,
     "metadata": {},
     "output_type": "execute_result"
    },
    {
     "data": {
      "image/png": "[encoded data removed]",
      "text/plain": [
       "<Figure size 360x360 with 1 Axes>"
      ]
     },
     "metadata": {
      "needs_background": "light"
     },
     "output_type": "display_data"
    }
   ],
   "source": [
    "df = pd.DataFrame(colors, columns=['color'])\n",
    "df['category'] = [str(i) for i in range(len(df.index))]\n",
    "df['val'] = 1\n",
    "palette = {}\n",
    "for ind, entry in df.iterrows():\n",
    "    palette[entry['category']] = entry.color\n",
    "sns.catplot(data=df, y='val', x='category', kind='bar', palette=palette, saturation=1)"
   ]
  },
  {
   "cell_type": "code",
   "execution_count": 121,
   "id": "proprietary-reply",
   "metadata": {},
   "outputs": [],
   "source": [
    "times = ['4d', '10d', '14d', '25d',\n",
    "         '36d', '2m', '18-20m']\n",
    "tissues = ['gastroc', 'heart', 'adrenal',\n",
    "           'hippocampus', 'cortex']\n",
    "colors = [blues, greens, yellows, pinks, purples]"
   ]
  },
  {
   "cell_type": "markdown",
   "id": "prescribed-guide",
   "metadata": {},
   "source": [
    "## Global tissue colors"
   ]
  },
  {
   "cell_type": "code",
   "execution_count": 192,
   "id": "surrounded-aerospace",
   "metadata": {},
   "outputs": [],
   "source": [
    "# df = pd.read_csv('gauguin_30.csv', header=None)\n",
    "# df = pd.read_csv('morgenstern_30.csv', header=None)\n",
    "# df = pd.read_csv('cross_30.csv', header=None)\n",
    "# df = pd.read_csv('renoir_45.csv', header=None)\n",
    "# df = pd.read_csv('redon_45.csv', header=None)\n",
    "# df = pd.read_csv('hokusai_40.csv', header=None)\n",
    "# df = pd.read_csv('redon_60.csv', header=None)\n",
    "# df = pd.read_csv('thomas_10.csv', header=None)\n",
    "df = pd.read_csv('thomas_20.csv', header=None)\n",
    "\n",
    "\n",
    "\n",
    "df.columns = ['color']"
   ]
  },
  {
   "cell_type": "code",
   "execution_count": 193,
   "id": "acting-python",
   "metadata": {},
   "outputs": [
    {
     "data": {
      "text/plain": [
       "<seaborn.axisgrid.FacetGrid at 0x7ff801dd9050>"
      ]
     },
     "execution_count": 193,
     "metadata": {},
     "output_type": "execute_result"
    },
    {
     "data": {
      "image/png": "[encoded data removed]",
      "text/plain": [
       "<Figure size 360x360 with 1 Axes>"
      ]
     },
     "metadata": {
      "needs_background": "light"
     },
     "output_type": "display_data"
    }
   ],
   "source": [
    "df['category'] = [str(i) for i in range(len(df.index))]\n",
    "df['val'] = 1\n",
    "palette = {}\n",
    "for ind, entry in df.iterrows():\n",
    "    palette[entry['category']] = entry.color\n",
    "sns.catplot(data=df, y='val', x='category', kind='bar', palette=palette, saturation=1)"
   ]
  },
  {
   "cell_type": "code",
   "execution_count": 178,
   "id": "infinite-bandwidth",
   "metadata": {},
   "outputs": [],
   "source": [
    "import numpy as np\n",
    "df['tissue'] = np.nan\n",
    "\n",
    "# pink - hippocampus\n",
    "df.loc[1, 'tissue'] = 'hippocampus'\n",
    "\n",
    "# purple - cortex\n",
    "df.loc[2, 'tissue'] = 'cortex'\n",
    "\n",
    "# red - adrenal\n",
    "df.loc[0, 'tissue'] = 'adrenal'\n",
    "\n",
    "# blue - gastroc\n",
    "df.loc[3, 'tissue'] = 'gastroc'\n",
    "\n",
    "# green - heart\n",
    "df.loc[9, 'tissue'] = 'heart'\n",
    "\n",
    "df = df.loc[~df.tissue.isnull()]"
   ]
  },
  {
   "cell_type": "code",
   "execution_count": 179,
   "id": "manual-senegal",
   "metadata": {},
   "outputs": [
    {
     "data": {
      "text/html": [
       "<div>\n",
       "<style scoped>\n",
       "    .dataframe tbody tr th:only-of-type {\n",
       "        vertical-align: middle;\n",
       "    }\n",
       "\n",
       "    .dataframe tbody tr th {\n",
       "        vertical-align: top;\n",
       "    }\n",
       "\n",
       "    .dataframe thead th {\n",
       "        text-align: right;\n",
       "    }\n",
       "</style>\n",
       "<table border=\"1\" class=\"dataframe\">\n",
       "  <thead>\n",
       "    <tr style=\"text-align: right;\">\n",
       "      <th></th>\n",
       "      <th>color</th>\n",
       "      <th>category</th>\n",
       "      <th>val</th>\n",
       "      <th>tissue</th>\n",
       "    </tr>\n",
       "  </thead>\n",
       "  <tbody>\n",
       "    <tr>\n",
       "      <th>0</th>\n",
       "      <td>#B24422</td>\n",
       "      <td>0</td>\n",
       "      <td>1</td>\n",
       "      <td>adrenal</td>\n",
       "    </tr>\n",
       "    <tr>\n",
       "      <th>1</th>\n",
       "      <td>#C04B63</td>\n",
       "      <td>1</td>\n",
       "      <td>1</td>\n",
       "      <td>hippocampus</td>\n",
       "    </tr>\n",
       "    <tr>\n",
       "      <th>2</th>\n",
       "      <td>#7C5290</td>\n",
       "      <td>2</td>\n",
       "      <td>1</td>\n",
       "      <td>cortex</td>\n",
       "    </tr>\n",
       "    <tr>\n",
       "      <th>3</th>\n",
       "      <td>#334A8D</td>\n",
       "      <td>3</td>\n",
       "      <td>1</td>\n",
       "      <td>gastroc</td>\n",
       "    </tr>\n",
       "    <tr>\n",
       "      <th>9</th>\n",
       "      <td>#7CAF5C</td>\n",
       "      <td>9</td>\n",
       "      <td>1</td>\n",
       "      <td>heart</td>\n",
       "    </tr>\n",
       "  </tbody>\n",
       "</table>\n",
       "</div>"
      ],
      "text/plain": [
       "     color category  val       tissue\n",
       "0  #B24422        0    1      adrenal\n",
       "1  #C04B63        1    1  hippocampus\n",
       "2  #7C5290        2    1       cortex\n",
       "3  #334A8D        3    1      gastroc\n",
       "9  #7CAF5C        9    1        heart"
      ]
     },
     "execution_count": 179,
     "metadata": {},
     "output_type": "execute_result"
    }
   ],
   "source": [
    "df.head()"
   ]
  },
  {
   "cell_type": "code",
   "execution_count": 180,
   "id": "athletic-cover",
   "metadata": {},
   "outputs": [],
   "source": [
    "df = df[['tissue', 'color']]\n",
    "df.to_csv('tissue_colors.tsv', sep='\\t', index=False)"
   ]
  },
  {
   "cell_type": "code",
   "execution_count": 181,
   "id": "dedicated-privacy",
   "metadata": {},
   "outputs": [],
   "source": [
    "df = pd.read_csv('../refs/tissue_colors.tsv', sep='\\t')\n",
    "# df.set_index('tissue', inplace=True)\n",
    "c_dict = {}\n",
    "for ind, entry in df.iterrows():\n",
    "    c_dict[entry.tissue] = entry.color\n",
    "\n",
    "order = ['adrenal', 'hippocampus', 'cortex', 'gastroc', 'heart']\n",
    "    "
   ]
  },
  {
   "cell_type": "code",
   "execution_count": 182,
   "id": "touched-hazard",
   "metadata": {},
   "outputs": [
    {
     "data": {
      "text/html": [
       "<div>\n",
       "<style scoped>\n",
       "    .dataframe tbody tr th:only-of-type {\n",
       "        vertical-align: middle;\n",
       "    }\n",
       "\n",
       "    .dataframe tbody tr th {\n",
       "        vertical-align: top;\n",
       "    }\n",
       "\n",
       "    .dataframe thead th {\n",
       "        text-align: right;\n",
       "    }\n",
       "</style>\n",
       "<table border=\"1\" class=\"dataframe\">\n",
       "  <thead>\n",
       "    <tr style=\"text-align: right;\">\n",
       "      <th></th>\n",
       "      <th>tissue</th>\n",
       "      <th>color</th>\n",
       "    </tr>\n",
       "  </thead>\n",
       "  <tbody>\n",
       "    <tr>\n",
       "      <th>0</th>\n",
       "      <td>adrenal</td>\n",
       "      <td>#B24422</td>\n",
       "    </tr>\n",
       "    <tr>\n",
       "      <th>1</th>\n",
       "      <td>hippocampus</td>\n",
       "      <td>#C04B63</td>\n",
       "    </tr>\n",
       "    <tr>\n",
       "      <th>2</th>\n",
       "      <td>cortex</td>\n",
       "      <td>#7C5290</td>\n",
       "    </tr>\n",
       "    <tr>\n",
       "      <th>3</th>\n",
       "      <td>gastroc</td>\n",
       "      <td>#334A8D</td>\n",
       "    </tr>\n",
       "    <tr>\n",
       "      <th>4</th>\n",
       "      <td>heart</td>\n",
       "      <td>#7CAF5C</td>\n",
       "    </tr>\n",
       "  </tbody>\n",
       "</table>\n",
       "</div>"
      ],
      "text/plain": [
       "        tissue    color\n",
       "0      adrenal  #B24422\n",
       "1  hippocampus  #C04B63\n",
       "2       cortex  #7C5290\n",
       "3      gastroc  #334A8D\n",
       "4        heart  #7CAF5C"
      ]
     },
     "execution_count": 182,
     "metadata": {},
     "output_type": "execute_result"
    }
   ],
   "source": [
    "df.head()"
   ]
  },
  {
   "cell_type": "code",
   "execution_count": 183,
   "id": "standing-causing",
   "metadata": {},
   "outputs": [
    {
     "data": {
      "text/plain": [
       "{'adrenal': '#B24422',\n",
       " 'hippocampus': '#C04B63',\n",
       " 'cortex': '#7C5290',\n",
       " 'gastroc': '#334A8D',\n",
       " 'heart': '#7CAF5C'}"
      ]
     },
     "execution_count": 183,
     "metadata": {},
     "output_type": "execute_result"
    }
   ],
   "source": [
    "c_dict"
   ]
  },
  {
   "cell_type": "markdown",
   "id": "formed-ceremony",
   "metadata": {},
   "source": [
    "## Tissue + stage colors"
   ]
  },
  {
   "cell_type": "code",
   "execution_count": 184,
   "id": "every-means",
   "metadata": {},
   "outputs": [],
   "source": [
    "times = ['4d', '10d', '14d', '25d', '36d', '2mo', '18-20mo']\n",
    "tissues = ['adrenal', 'hippocampus', 'cortex', 'gastroc', 'heart']\n",
    "order = []\n",
    "for tissue in tissues:\n",
    "    for time in times: \n",
    "        tissue_age = tissue+'_'+time\n",
    "        \n",
    "        if time == '4d' and tissue == 'hippocampus':\n",
    "            continue\n",
    "        else:\n",
    "            order.append(tissue_age)"
   ]
  },
  {
   "cell_type": "code",
   "execution_count": 185,
   "id": "concrete-genealogy",
   "metadata": {},
   "outputs": [
    {
     "data": {
      "text/plain": [
       "['adrenal_4d', 'adrenal_10d', 'adrenal_14d', 'adrenal_25d', 'adrenal_36d']"
      ]
     },
     "execution_count": 185,
     "metadata": {},
     "output_type": "execute_result"
    }
   ],
   "source": [
    "order[:5]"
   ]
  },
  {
   "cell_type": "code",
   "execution_count": 186,
   "id": "million-inflation",
   "metadata": {},
   "outputs": [],
   "source": [
    "df = pd.DataFrame(order, columns=['tissue_age'])"
   ]
  },
  {
   "cell_type": "code",
   "execution_count": 187,
   "id": "dated-change",
   "metadata": {},
   "outputs": [],
   "source": [
    "df.to_csv('tissue_age_colors.tsv', sep='\\t', index=False)"
   ]
  },
  {
   "cell_type": "code",
   "execution_count": null,
   "id": "downtown-wichita",
   "metadata": {},
   "outputs": [],
   "source": []
  }
 ],
 "metadata": {
  "kernelspec": {
   "display_name": "Python 3",
   "language": "python",
   "name": "python3"
  },
  "language_info": {
   "codemirror_mode": {
    "name": "ipython",
    "version": 3
   },
   "file_extension": ".py",
   "mimetype": "text/x-python",
   "name": "python",
   "nbconvert_exporter": "python",
   "pygments_lexer": "ipython3",
   "version": "3.7.4"
  }
 },
 "nbformat": 4,
 "nbformat_minor": 5
}
