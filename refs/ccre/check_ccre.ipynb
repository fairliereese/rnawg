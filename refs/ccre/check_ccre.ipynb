{
 "cells": [
  {
   "cell_type": "code",
   "execution_count": 1,
   "id": "a1c128cc-d7cd-45eb-973e-0db52f90bf84",
   "metadata": {},
   "outputs": [],
   "source": [
    "import pandas as pd"
   ]
  },
  {
   "cell_type": "code",
   "execution_count": 9,
   "id": "821989f9-23a6-469a-9d33-5ad33fc3b51e",
   "metadata": {},
   "outputs": [],
   "source": [
    "# old\n",
    "old = 'all.cCREs.bed'\n",
    "old = pd.read_csv(old, sep='\\t', header=None)\n",
    "old.rename({3: 'id1', 4: 'id2'}, axis=1, inplace=True)"
   ]
  },
  {
   "cell_type": "code",
   "execution_count": 10,
   "id": "c09c253f-2685-480f-8d91-7267b0592369",
   "metadata": {},
   "outputs": [
    {
     "data": {
      "text/html": [
       "<div>\n",
       "<style scoped>\n",
       "    .dataframe tbody tr th:only-of-type {\n",
       "        vertical-align: middle;\n",
       "    }\n",
       "\n",
       "    .dataframe tbody tr th {\n",
       "        vertical-align: top;\n",
       "    }\n",
       "\n",
       "    .dataframe thead th {\n",
       "        text-align: right;\n",
       "    }\n",
       "</style>\n",
       "<table border=\"1\" class=\"dataframe\">\n",
       "  <thead>\n",
       "    <tr style=\"text-align: right;\">\n",
       "      <th></th>\n",
       "      <th>0</th>\n",
       "      <th>1</th>\n",
       "      <th>2</th>\n",
       "      <th>id1</th>\n",
       "      <th>id2</th>\n",
       "      <th>5</th>\n",
       "    </tr>\n",
       "  </thead>\n",
       "  <tbody>\n",
       "    <tr>\n",
       "      <th>0</th>\n",
       "      <td>chr1</td>\n",
       "      <td>10033</td>\n",
       "      <td>10250</td>\n",
       "      <td>EH38D4327497</td>\n",
       "      <td>EH38E2776516</td>\n",
       "      <td>pELS</td>\n",
       "    </tr>\n",
       "    <tr>\n",
       "      <th>1</th>\n",
       "      <td>chr1</td>\n",
       "      <td>10385</td>\n",
       "      <td>10713</td>\n",
       "      <td>EH38D4327498</td>\n",
       "      <td>EH38E2776517</td>\n",
       "      <td>pELS</td>\n",
       "    </tr>\n",
       "    <tr>\n",
       "      <th>2</th>\n",
       "      <td>chr1</td>\n",
       "      <td>16097</td>\n",
       "      <td>16381</td>\n",
       "      <td>EH38D6144701</td>\n",
       "      <td>EH38E3951272</td>\n",
       "      <td>CA-CTCF</td>\n",
       "    </tr>\n",
       "    <tr>\n",
       "      <th>3</th>\n",
       "      <td>chr1</td>\n",
       "      <td>17343</td>\n",
       "      <td>17642</td>\n",
       "      <td>EH38D6144702</td>\n",
       "      <td>EH38E3951273</td>\n",
       "      <td>CA-TF</td>\n",
       "    </tr>\n",
       "    <tr>\n",
       "      <th>4</th>\n",
       "      <td>chr1</td>\n",
       "      <td>29320</td>\n",
       "      <td>29517</td>\n",
       "      <td>EH38D6144703</td>\n",
       "      <td>EH38E3951274</td>\n",
       "      <td>CA</td>\n",
       "    </tr>\n",
       "  </tbody>\n",
       "</table>\n",
       "</div>"
      ],
      "text/plain": [
       "      0      1      2           id1           id2        5\n",
       "0  chr1  10033  10250  EH38D4327497  EH38E2776516     pELS\n",
       "1  chr1  10385  10713  EH38D4327498  EH38E2776517     pELS\n",
       "2  chr1  16097  16381  EH38D6144701  EH38E3951272  CA-CTCF\n",
       "3  chr1  17343  17642  EH38D6144702  EH38E3951273    CA-TF\n",
       "4  chr1  29320  29517  EH38D6144703  EH38E3951274       CA"
      ]
     },
     "execution_count": 10,
     "metadata": {},
     "output_type": "execute_result"
    }
   ],
   "source": [
    "old.head()"
   ]
  },
  {
   "cell_type": "code",
   "execution_count": 12,
   "id": "1aab4712-3778-409a-8207-1f1d98606e80",
   "metadata": {},
   "outputs": [],
   "source": [
    "new = 'GRCh38-cCREs.UCSC.bed'\n",
    "new = pd.read_csv(new, sep='\\t', header=None)\n",
    "new.rename({3: 'id1', 4: 'id2'}, axis=1, inplace=True)"
   ]
  },
  {
   "cell_type": "code",
   "execution_count": 16,
   "id": "bd568e79-7637-4a65-a8ef-f15e636f88d9",
   "metadata": {},
   "outputs": [
    {
     "data": {
      "text/html": [
       "<div>\n",
       "<style scoped>\n",
       "    .dataframe tbody tr th:only-of-type {\n",
       "        vertical-align: middle;\n",
       "    }\n",
       "\n",
       "    .dataframe tbody tr th {\n",
       "        vertical-align: top;\n",
       "    }\n",
       "\n",
       "    .dataframe thead th {\n",
       "        text-align: right;\n",
       "    }\n",
       "</style>\n",
       "<table border=\"1\" class=\"dataframe\">\n",
       "  <thead>\n",
       "    <tr style=\"text-align: right;\">\n",
       "      <th></th>\n",
       "      <th>0</th>\n",
       "      <th>1</th>\n",
       "      <th>2</th>\n",
       "      <th>id1</th>\n",
       "      <th>id2</th>\n",
       "      <th>5</th>\n",
       "      <th>6</th>\n",
       "      <th>7</th>\n",
       "      <th>8</th>\n",
       "      <th>9</th>\n",
       "    </tr>\n",
       "  </thead>\n",
       "  <tbody>\n",
       "    <tr>\n",
       "      <th>0</th>\n",
       "      <td>chr1</td>\n",
       "      <td>10033</td>\n",
       "      <td>10250</td>\n",
       "      <td>EH38E2776516</td>\n",
       "      <td>0</td>\n",
       "      <td>.</td>\n",
       "      <td>10033</td>\n",
       "      <td>10250</td>\n",
       "      <td>255,167,0</td>\n",
       "      <td>pELS</td>\n",
       "    </tr>\n",
       "    <tr>\n",
       "      <th>1</th>\n",
       "      <td>chr1</td>\n",
       "      <td>10385</td>\n",
       "      <td>10713</td>\n",
       "      <td>EH38E2776517</td>\n",
       "      <td>0</td>\n",
       "      <td>.</td>\n",
       "      <td>10385</td>\n",
       "      <td>10713</td>\n",
       "      <td>255,167,0</td>\n",
       "      <td>pELS</td>\n",
       "    </tr>\n",
       "    <tr>\n",
       "      <th>2</th>\n",
       "      <td>chr1</td>\n",
       "      <td>16097</td>\n",
       "      <td>16381</td>\n",
       "      <td>EH38E3951272</td>\n",
       "      <td>0</td>\n",
       "      <td>.</td>\n",
       "      <td>16097</td>\n",
       "      <td>16381</td>\n",
       "      <td>0,176,240</td>\n",
       "      <td>CA-CTCF</td>\n",
       "    </tr>\n",
       "    <tr>\n",
       "      <th>3</th>\n",
       "      <td>chr1</td>\n",
       "      <td>17343</td>\n",
       "      <td>17642</td>\n",
       "      <td>EH38E3951273</td>\n",
       "      <td>0</td>\n",
       "      <td>.</td>\n",
       "      <td>17343</td>\n",
       "      <td>17642</td>\n",
       "      <td>190,40,229</td>\n",
       "      <td>CA-TF</td>\n",
       "    </tr>\n",
       "    <tr>\n",
       "      <th>4</th>\n",
       "      <td>chr1</td>\n",
       "      <td>29320</td>\n",
       "      <td>29517</td>\n",
       "      <td>EH38E3951274</td>\n",
       "      <td>0</td>\n",
       "      <td>.</td>\n",
       "      <td>29320</td>\n",
       "      <td>29517</td>\n",
       "      <td>6,218,147</td>\n",
       "      <td>CA</td>\n",
       "    </tr>\n",
       "  </tbody>\n",
       "</table>\n",
       "</div>"
      ],
      "text/plain": [
       "      0      1      2           id1  id2  5      6      7           8        9\n",
       "0  chr1  10033  10250  EH38E2776516    0  .  10033  10250   255,167,0     pELS\n",
       "1  chr1  10385  10713  EH38E2776517    0  .  10385  10713   255,167,0     pELS\n",
       "2  chr1  16097  16381  EH38E3951272    0  .  16097  16381   0,176,240  CA-CTCF\n",
       "3  chr1  17343  17642  EH38E3951273    0  .  17343  17642  190,40,229    CA-TF\n",
       "4  chr1  29320  29517  EH38E3951274    0  .  29320  29517   6,218,147       CA"
      ]
     },
     "execution_count": 16,
     "metadata": {},
     "output_type": "execute_result"
    }
   ],
   "source": [
    "new.head()"
   ]
  },
  {
   "cell_type": "code",
   "execution_count": 15,
   "id": "b2fa1346-936c-4695-a163-5e720a107d74",
   "metadata": {},
   "outputs": [
    {
     "name": "stdout",
     "output_type": "stream",
     "text": [
      "2348854\n",
      "2348854\n"
     ]
    }
   ],
   "source": [
    "print(len(old))\n",
    "print(len(new))"
   ]
  },
  {
   "cell_type": "code",
   "execution_count": 17,
   "id": "abac91d2-e22e-40e0-9b47-8051493953b0",
   "metadata": {},
   "outputs": [],
   "source": [
    "old = old.merge(new, how='inner', left_on='id2', right_on='id1')"
   ]
  },
  {
   "cell_type": "code",
   "execution_count": 18,
   "id": "99095ea5-f9ec-4e77-88c1-b04bc9cc3838",
   "metadata": {},
   "outputs": [
    {
     "data": {
      "text/plain": [
       "2348854"
      ]
     },
     "execution_count": 18,
     "metadata": {},
     "output_type": "execute_result"
    }
   ],
   "source": [
    "len(old.index)"
   ]
  },
  {
   "cell_type": "code",
   "execution_count": null,
   "id": "a83c54fb-1280-4068-a3be-2a5f19c830e8",
   "metadata": {},
   "outputs": [],
   "source": [
    "# bed files are the same\n"
   ]
  }
 ],
 "metadata": {
  "kernelspec": {
   "display_name": "Python 3",
   "language": "python",
   "name": "python3"
  },
  "language_info": {
   "codemirror_mode": {
    "name": "ipython",
    "version": 3
   },
   "file_extension": ".py",
   "mimetype": "text/x-python",
   "name": "python",
   "nbconvert_exporter": "python",
   "pygments_lexer": "ipython3",
   "version": "3.7.4"
  }
 },
 "nbformat": 4,
 "nbformat_minor": 5
}
