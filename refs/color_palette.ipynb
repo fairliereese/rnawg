{
 "cells": [
  {
   "cell_type": "code",
   "execution_count": 1,
   "metadata": {},
   "outputs": [
    {
     "name": "stderr",
     "output_type": "stream",
     "text": [
      "Updating HTML index of packages in '.Library'\n",
      "\n",
      "Making 'packages.html' ...\n",
      " done\n",
      "\n"
     ]
    }
   ],
   "source": [
    "# install.packages(\"MetBrewer\")"
   ]
  },
  {
   "cell_type": "code",
   "execution_count": 2,
   "metadata": {},
   "outputs": [],
   "source": [
    "library(MetBrewer)\n",
    "library(dplyr)"
   ]
  },
  {
   "cell_type": "code",
   "execution_count": 3,
   "metadata": {},
   "outputs": [],
   "source": [
    "paste0(met.brewer(\"Signac\",40)) %>% \n",
    "    write.table(file = 'signac_40.csv', \n",
    "                quote=FALSE, \n",
    "                row.names=FALSE, \n",
    "                col.names=FALSE)"
   ]
  },
  {
   "cell_type": "code",
   "execution_count": 7,
   "metadata": {},
   "outputs": [],
   "source": [
    "paste0(met.brewer(\"Gauguin\", 6)) %>% \n",
    "    write.table(file = 'gauguin_6.csv', \n",
    "                quote=FALSE, \n",
    "                row.names=FALSE, \n",
    "                col.names=FALSE)"
   ]
  },
  {
   "cell_type": "code",
   "execution_count": 4,
   "metadata": {},
   "outputs": [],
   "source": [
    "paste0(met.brewer(\"Thomas\", 21)) %>% \n",
    "    write.table(file = 'thomas_21.csv', \n",
    "                quote=FALSE, \n",
    "                row.names=FALSE, \n",
    "                col.names=FALSE)"
   ]
  },
  {
   "cell_type": "code",
   "execution_count": 3,
   "metadata": {},
   "outputs": [],
   "source": [
    "paste0(met.brewer(\"Signac\", 21)) %>% \n",
    "    write.table(file = 'signac_21.csv', \n",
    "                quote=FALSE, \n",
    "                row.names=FALSE, \n",
    "                col.names=FALSE)"
   ]
  },
  {
   "cell_type": "code",
   "execution_count": 11,
   "metadata": {},
   "outputs": [],
   "source": [
    "paste0(met.brewer(\"Redon\", 21)) %>% \n",
    "    write.table(file = 'redon_21.csv', \n",
    "                quote=FALSE, \n",
    "                row.names=FALSE, \n",
    "                col.names=FALSE)"
   ]
  },
  {
   "cell_type": "code",
   "execution_count": 5,
   "metadata": {},
   "outputs": [],
   "source": [
    "paste0(met.brewer(\"Renoir\", 11)) %>% \n",
    "    write.table(file = 'renoir_11.csv', \n",
    "                quote=FALSE, \n",
    "                row.names=FALSE, \n",
    "                col.names=FALSE)"
   ]
  },
  {
   "cell_type": "code",
   "execution_count": 9,
   "metadata": {},
   "outputs": [],
   "source": [
    "paste0(met.brewer(\"Thomas\", 10)) %>% \n",
    "    write.table(file = 'thomas_10.csv', \n",
    "                quote=FALSE, \n",
    "                row.names=FALSE, \n",
    "                col.names=FALSE)"
   ]
  },
  {
   "cell_type": "code",
   "execution_count": 7,
   "metadata": {},
   "outputs": [],
   "source": [
    "paste0(met.brewer(\"Signac\", 31)) %>% \n",
    "    write.table(file = 'signac_31.csv', \n",
    "                quote=FALSE, \n",
    "                row.names=FALSE, \n",
    "                col.names=FALSE)"
   ]
  },
  {
   "cell_type": "code",
   "execution_count": 6,
   "metadata": {},
   "outputs": [],
   "source": [
    "paste0(met.brewer(\"Cross\", 31)) %>% \n",
    "    write.table(file = 'cross_31.csv', \n",
    "                quote=FALSE, \n",
    "                row.names=FALSE, \n",
    "                col.names=FALSE)"
   ]
  },
  {
   "cell_type": "code",
   "execution_count": 5,
   "metadata": {},
   "outputs": [],
   "source": [
    "paste0(met.brewer(\"VanGogh2\", 31)) %>% \n",
    "    write.table(file = 'vangogh2_31.csv', \n",
    "                quote=FALSE, \n",
    "                row.names=FALSE, \n",
    "                col.names=FALSE)"
   ]
  },
  {
   "cell_type": "code",
   "execution_count": 3,
   "metadata": {},
   "outputs": [],
   "source": [
    "paste0(met.brewer(\"Renoir\", 31)) %>% \n",
    "    write.table(file = 'renoir_31.csv', \n",
    "                quote=FALSE, \n",
    "                row.names=FALSE, \n",
    "                col.names=FALSE)"
   ]
  },
  {
   "cell_type": "code",
   "execution_count": 4,
   "metadata": {},
   "outputs": [],
   "source": [
    "paste0(met.brewer(\"Thomas\", 31)) %>% \n",
    "    write.table(file = 'thomas_31.csv', \n",
    "                quote=FALSE, \n",
    "                row.names=FALSE, \n",
    "                col.names=FALSE)"
   ]
  },
  {
   "cell_type": "code",
   "execution_count": 6,
   "metadata": {},
   "outputs": [],
   "source": [
    "paste0(met.brewer(\"Signac\", 20)) %>% \n",
    "    write.table(file = 'signac_20.csv', \n",
    "                quote=FALSE, \n",
    "                row.names=FALSE, \n",
    "                col.names=FALSE)"
   ]
  },
  {
   "cell_type": "code",
   "execution_count": 5,
   "metadata": {},
   "outputs": [],
   "source": [
    "paste0(met.brewer(\"Signac\", 20)) %>% \n",
    "    write.table(file = '../adrenal/lr_splitseq/swan/lr_celltype_colors.csv', \n",
    "                quote=FALSE, \n",
    "                row.names=FALSE, \n",
    "                col.names=FALSE)"
   ]
  },
  {
   "cell_type": "code",
   "execution_count": 2,
   "metadata": {},
   "outputs": [
    {
     "ename": "ERROR",
     "evalue": "Error in met.brewer(\"Greek\", 3): could not find function \"met.brewer\"\n",
     "output_type": "error",
     "traceback": [
      "Error in met.brewer(\"Greek\", 3): could not find function \"met.brewer\"\nTraceback:\n"
     ]
    }
   ],
   "source": [
    "met.brewer(\"Greek\", 3)"
   ]
  },
  {
   "cell_type": "code",
   "execution_count": 4,
   "metadata": {},
   "outputs": [
    {
     "ename": "ERROR",
     "evalue": "Error in met.brewer(\"Hokusai\", n = 50): could not find function \"met.brewer\"\n",
     "output_type": "error",
     "traceback": [
      "Error in met.brewer(\"Hokusai\", n = 50): could not find function \"met.brewer\"\nTraceback:\n"
     ]
    }
   ],
   "source": [
    "colors = met.brewer(\"Hokusai\",n=40)\n"
   ]
  },
  {
   "cell_type": "code",
   "execution_count": null,
   "metadata": {},
   "outputs": [],
   "source": [
    "paste0(met.brewer(\"Hokusai\", 40)) %>% \n",
    "    write.table(file = 'hokusai_40.csv', \n",
    "                quote=FALSE, \n",
    "                row.names=FALSE, \n",
    "                col.names=FALSE)"
   ]
  },
  {
   "cell_type": "code",
   "execution_count": null,
   "metadata": {},
   "outputs": [],
   "source": [
    "paste0(met.brewer(\"Redon\", 60)) %>% \n",
    "    write.table(file = 'redon_60.csv', \n",
    "                quote=FALSE, \n",
    "                row.names=FALSE, \n",
    "                col.names=FALSE)"
   ]
  },
  {
   "cell_type": "code",
   "execution_count": null,
   "metadata": {},
   "outputs": [],
   "source": [
    "paste0(met.brewer(\"Thomas\", 10)) %>% \n",
    "    write.table(file = 'thomas_10.csv', \n",
    "                quote=FALSE, \n",
    "                row.names=FALSE, \n",
    "                col.names=FALSE)"
   ]
  },
  {
   "cell_type": "code",
   "execution_count": null,
   "metadata": {},
   "outputs": [],
   "source": [
    "paste0(met.brewer(\"Thomas\", 20)) %>% \n",
    "    write.table(file = 'thomas_20.csv', \n",
    "                quote=FALSE, \n",
    "                row.names=FALSE, \n",
    "                col.names=FALSE)"
   ]
  }
 ],
 "metadata": {
  "kernelspec": {
   "display_name": "R",
   "language": "R",
   "name": "ir"
  },
  "language_info": {
   "codemirror_mode": "r",
   "file_extension": ".r",
   "mimetype": "text/x-r-source",
   "name": "R",
   "pygments_lexer": "r",
   "version": "3.6.1"
  }
 },
 "nbformat": 4,
 "nbformat_minor": 4
}
